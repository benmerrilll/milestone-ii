{
 "cells": [
  {
   "cell_type": "code",
   "execution_count": null,
   "metadata": {
    "cell_id": "00000-94476547-9d9d-42f8-840b-dd8c06269325",
    "deepnote_cell_type": "code",
    "deepnote_to_be_reexecuted": false,
    "execution_millis": 14988,
    "execution_start": 1643550891836,
    "source_hash": "f432d584",
    "tags": []
   },
   "outputs": [],
   "source": [
    "!pip install geopandas\n",
    "!pip install pygeos\n",
    "!pip install gpdvega\n",
    "\n",
    "# Dependencies\n",
    "import geopandas as gpd\n",
    "import pandas as pd\n",
    "import numpy as np\n",
    "import matplotlib.pyplot as plt\n",
    "import seaborn as sns\n",
    "import altair as alt\n",
    "import pygeos\n",
    "import gpdvega \n",
    "import seaborn as sns\n"
   ]
  },
  {
   "cell_type": "code",
   "execution_count": null,
   "metadata": {
    "cell_id": "00001-3d7172ca-9cef-48c4-83af-014b22a9ea5e",
    "deepnote_cell_type": "code",
    "deepnote_output_heights": [
     51.1875
    ],
    "deepnote_to_be_reexecuted": false,
    "execution_millis": 1678,
    "execution_start": 1643550906836,
    "source_hash": "3e013236",
    "tags": []
   },
   "outputs": [],
   "source": [
    "counties = gpd.read_file('/work/ca-county-boundaries/CA_Counties/CA_Counties_TIGER2016.shp')\n",
    "counties['county'] = pd.to_numeric(counties['COUNTYFP'])\n",
    "\n",
    "\n",
    "ca_full = pd.read_csv('/work/cleaned-csvs/ca_counties_full_dataset.csv')\n",
    "\n",
    "us_counties = gpd.read_file('/work/cb_2018_us_county_20m/cb_2018_us_county_20m.shp')\n",
    "us_counties['county'] = pd.to_numeric(us_counties['COUNTYFP'])\n",
    "us_counties['state'] = pd.to_numeric(us_counties['STATEFP'])\n",
    "us_counties = us_counties[us_counties['state']<65]\n",
    "\n",
    "us_df = pd.read_csv('/work/cleaned-csvs/national_counties_full_dataset.csv')\n",
    "\n",
    "us_df = us_df[us_df['state']<19]\n",
    "\n",
    "ca_19 = ca_full[ca_full['year']==2019]\n",
    "ca_full['year'] = pd.to_datetime(ca_full.year, format='%Y')\n",
    "\n",
    "ca_full['year'].unique()\n",
    "ca_full.head()"
   ]
  },
  {
   "cell_type": "markdown",
   "metadata": {
    "cell_id": "49846857-08c8-4213-a6d3-457bc70f83cf",
    "deepnote_cell_type": "markdown",
    "tags": []
   },
   "source": [
    "The follow graph contains the change in inflow and outflow from 2014 through 2019 in all 58 CA counties. For any given county, we see that inflow and outflow are similar in size and highly correlated. We also see that inflow and outflow remain pretty consistant throught the period of this study. There are two interesting systematic differences. For 2015, all counties with inflow over 20,000, have a noticable decrease in both inflow and outflow. For 2017, we see all counties with an inflow greater than 20,000 have an increase in both inflow and outflow. This systematic difference has been documented by researchers at the University of Minnisota who caution against using this data after the IRS took over managing it from the US Census, noting, \"Specifically, after 2012, out- and inmigration fall precipitously through 2014, increase dramatically through 2016, and then\n",
    "sharply increase or decrease thereafter. The correspondence between the levels and changes\n",
    "of out- and in-migration after (versus before) 2011 is also noteworthy.\" (page 4)"
   ]
  },
  {
   "cell_type": "code",
   "execution_count": null,
   "metadata": {
    "cell_id": "92c4b21a-5568-4a64-af9d-a9ec235737c0",
    "deepnote_cell_type": "code",
    "deepnote_output_heights": [
     null,
     1
    ],
    "deepnote_to_be_reexecuted": false,
    "execution_millis": 356,
    "execution_start": 1643550908514,
    "source_hash": "44f4e2ff",
    "tags": []
   },
   "outputs": [],
   "source": [
    "\n",
    "\n",
    "outflow = alt.Chart(ca_full).mark_line().encode(\n",
    "    x='year:T',\n",
    "    y='individual_outflow',\n",
    "    color = 'county_name',\n",
    "    tooltip='county_name'\n",
    ")\n",
    "\n",
    "inflow = alt.Chart(ca_full).mark_line().encode(\n",
    "    x='year:T',\n",
    "    y='individual_inflow',\n",
    "    color = 'county_name',\n",
    "    tooltip='county_name'\n",
    ")\n",
    "\n",
    "(outflow | inflow).properties(title=\"County inflow and outflow over time (each line represents a county)\")"
   ]
  },
  {
   "cell_type": "code",
   "execution_count": null,
   "metadata": {
    "cell_id": "f12e1b8b-ca88-4f30-85b0-6e974313d905",
    "deepnote_cell_type": "code",
    "deepnote_output_heights": [
     79
    ],
    "deepnote_to_be_reexecuted": false,
    "execution_millis": 237904065,
    "execution_start": 1643550908850,
    "source_hash": "b623e53d",
    "tags": []
   },
   "outputs": [],
   "source": []
  },
  {
   "cell_type": "code",
   "execution_count": null,
   "metadata": {
    "cell_id": "334ad1e2-7477-4e08-bd01-330a526591f9",
    "deepnote_cell_type": "code",
    "deepnote_output_heights": [
     1
    ],
    "deepnote_to_be_reexecuted": false,
    "execution_millis": 356,
    "execution_start": 1643550908851,
    "source_hash": "3131ac8",
    "tags": []
   },
   "outputs": [],
   "source": [
    "\n",
    "outflow = alt.Chart(ca_full).mark_point().encode(\n",
    "    x='individual_outflow',\n",
    "    y='county_name',\n",
    "    color = 'year:N',\n",
    "    tooltip='county_name'\n",
    ")\n",
    "\n",
    "inflow = alt.Chart(ca_full).mark_point().encode(\n",
    "    x='individual_outflow',\n",
    "    y='county_name',\n",
    "    color = 'year:N',\n",
    "    tooltip='county_name'\n",
    ")\n",
    "\n",
    "inflow | outflow\n",
    "\n",
    "#To do: hide axes on outflow"
   ]
  },
  {
   "cell_type": "code",
   "execution_count": null,
   "metadata": {
    "cell_id": "18d9bf2a-b5a7-4ee3-ba2b-7665bd06baba",
    "deepnote_cell_type": "code",
    "deepnote_output_heights": [
     1
    ],
    "deepnote_to_be_reexecuted": false,
    "execution_millis": 2615,
    "execution_start": 1643550909188,
    "source_hash": "62604240",
    "tags": []
   },
   "outputs": [],
   "source": [
    "ind_in = alt.Chart(ca_19).mark_point().encode(\n",
    "    x='individual_inflow',\n",
    "    y='county_name',\n",
    "    color = 'year:N',\n",
    "    tooltip='county_name'\n",
    ")\n",
    "\n",
    "ind_out = alt.Chart(ca_19).mark_point().encode(\n",
    "    x='individual_outflow',\n",
    "    y='county_name',\n",
    "    color = 'year:N',\n",
    "    tooltip='county_name'\n",
    ")\n",
    "\n",
    "ind_in + ind_out"
   ]
  },
  {
   "cell_type": "code",
   "execution_count": null,
   "metadata": {
    "cell_id": "5e3a5b75-ac46-47cd-9afd-692fdc29d5c8",
    "deepnote_cell_type": "code",
    "deepnote_output_heights": [
     1
    ],
    "deepnote_to_be_reexecuted": false,
    "execution_millis": 2360,
    "execution_start": 1643550909444,
    "source_hash": "31c1dc2a",
    "tags": []
   },
   "outputs": [],
   "source": [
    "\n",
    " chart = alt.Chart(ca_full).mark_circle().encode(\n",
    "    x='individual_inflow',\n",
    "    y='individual_outflow',\n",
    "    color=alt.Color('county_name'),\n",
    "    tooltip=['county_name','year']\n",
    ").properties(\n",
    "    title={\n",
    "      \"text\": ['CA County Inflow vs. Outflow 2014 - 2019'], \n",
    "      \"subtitle\": [\"Each color represents a county\"],\n",
    "    }\n",
    "    ) \n",
    "\n",
    "text1 = alt.Chart({'values':[{'x': 125000, 'y': 200000}]}).mark_text(\n",
    "    text='LA County in 2015 ➟',\n",
    ").encode(\n",
    "    x='x:Q', y='y:Q'\n",
    ")\n",
    "\n",
    "text2 = alt.Chart({'values':[{'x': 195000, 'y': 340000}]}).mark_text(\n",
    "    text='LA County in 2017 ➟',# angle=327\n",
    ").encode(\n",
    "    x='x:Q', y='y:Q'\n",
    ")\n",
    "text3 = alt.Chart({'values':[{'x': 110000, 'y': 260000}]}).mark_text(\n",
    "    text='LA County in 2014, 2016, 2018 + 2019 ➟'\n",
    ").encode(\n",
    "    x='x:Q', y='y:Q'\n",
    ")\n",
    "\n",
    "chart + text1 + text2 + text3"
   ]
  },
  {
   "cell_type": "code",
   "execution_count": null,
   "metadata": {
    "cell_id": "00002-38450c67-9f6c-4ad4-a073-c810e27f715e",
    "deepnote_cell_type": "code",
    "deepnote_output_heights": [
     578.125
    ],
    "deepnote_to_be_reexecuted": false,
    "execution_millis": 1843,
    "execution_start": 1643550909961,
    "source_hash": "329536f8",
    "tags": []
   },
   "outputs": [],
   "source": [
    "\n",
    "\n",
    "ca_all = pd.merge(counties,ca_19,how='left',on='county')\n",
    "\n",
    "# Create column with possible different choices for inflow/outflow target\n",
    "ca_all['ratio_inflow_outflow'] = ca_all['individual_inflow'] / ca_all['individual_outflow']\n",
    "ca_all['dif_inflow_outflow'] = ca_all['individual_inflow'] - ca_all['individual_outflow']\n",
    "ca_all['per_change_pop'] = (ca_all['individual_inflow'] - ca_all['individual_outflow']) / ca_all['total_population']\n",
    "\n",
    "#create rank for each of these. rank = 1 means high ranking for people coming into the county, rank = 58 means highest ranking for people leaving the county\n",
    "ca_all['rank_ratio_inflow_outflow'] = ca_all['ratio_inflow_outflow'].rank(ascending=False)\n",
    "ca_all['rank_dif_inflow_outflow'] = ca_all['dif_inflow_outflow'].rank(ascending=False)\n",
    "ca_all['rank_per_change_pop'] = ca_all['per_change_pop'].rank(ascending=False)\n",
    "\n",
    "\n",
    "ca_all[['NAME','per_change_pop','rank_per_change_pop','dif_inflow_outflow','rank_dif_inflow_outflow','rank_ratio_inflow_outflow','ratio_inflow_outflow']].sort_values(by='rank_per_change_pop').head()\n"
   ]
  },
  {
   "cell_type": "code",
   "execution_count": null,
   "metadata": {
    "cell_id": "00003-abcf82ac-1c53-4e27-a757-3d3df3101107",
    "deepnote_cell_type": "code",
    "deepnote_output_heights": [
     1,
     511
    ],
    "deepnote_to_be_reexecuted": false,
    "execution_millis": 1881,
    "execution_start": 1643550909965,
    "source_hash": "7ee5ac6c",
    "tags": []
   },
   "outputs": [],
   "source": [
    "col = [ 'perc_poverty','republican_pct', 'perc_unemployed','per_capita_farm_proprieter_jobs','latitude', 'perc_white', 'perc_65_over',\n",
    "       'housing_per_capita','perc_vacant','per_capita_num_violent_crimes',\n",
    "       'perc_american_indian',  'perc_enrolled_undergrad',  \n",
    "       'perc_owner', 'avg_temp','perc_renter','perc_hispanic',\n",
    "        'area_land', 'area_water',\n",
    "       'longitude',  'perc_black','democrat_pct','median_income',\n",
    "       'median_rent', 'median_home_value', 'educational_attainment','perc_asian',\n",
    "       'av_commute_time','total_population', \n",
    "       'individual_inflow', 'individual_outflow','per_change_pop','ratio_inflow_outflow','dif_inflow_outflow',\n",
    "\n",
    "       ]\n",
    "\n",
    "plt.figure(figsize = (10,10))\n",
    "sns.heatmap(ca_all[col].corr().sort_values(\n",
    "              by='individual_inflow',axis=1).sort_values(\n",
    "              by='individual_inflow',axis=0),xticklabels=True, \n",
    "              yticklabels=True, square = True,linewidths=.25).set(title='Correlation between CA Variables')"
   ]
  },
  {
   "cell_type": "code",
   "execution_count": null,
   "metadata": {
    "cell_id": "6279f949-e0cf-47de-af8c-1e7cef991894",
    "deepnote_cell_type": "code",
    "deepnote_output_heights": [
     1,
     611
    ],
    "deepnote_table_loading": false,
    "deepnote_table_state": {
     "filters": [],
     "pageIndex": 0,
     "pageSize": 10,
     "sortBy": []
    },
    "deepnote_to_be_reexecuted": false,
    "execution_millis": 6141,
    "execution_start": 1643550911831,
    "source_hash": "b1e86600",
    "tags": []
   },
   "outputs": [],
   "source": [
    "col = ['individual_outflow', 'individual_inflow','per_change_pop','ratio_inflow_outflow','dif_inflow_outflow']\n",
    "cor_df = ca_all.corr()#.sort_values(by='individual_inflow',axis=1,ascending=False)\n",
    "\n",
    "plt.figure(figsize = (5,15))\n",
    "sns.heatmap(cor_df[col].dropna(axis=0).sort_values(by='individual_inflow'),linewidths=.15,annot=True)"
   ]
  },
  {
   "cell_type": "markdown",
   "metadata": {
    "cell_id": "b9bb39e0-eca4-4bb7-9ee5-7cfa3ed2f1b1",
    "deepnote_cell_type": "text-cell-h3",
    "is_collapsed": false,
    "tags": []
   },
   "source": [
    "### Which counties had the biggest increase or decrease in population?"
   ]
  },
  {
   "cell_type": "markdown",
   "metadata": {
    "cell_id": "0e9ec8cb-7d51-4552-8440-ade2d45cb29b",
    "deepnote_cell_type": "text-cell-p",
    "is_collapsed": false,
    "tags": []
   },
   "source": [
    "There are many different ways to compare counties and their relative inflow and outflow. We could take the ratio of inflow to outflow, the net inflow (inflow minus outflow), or the percent change in population (inflow - outflow)/population. Each method will yield a different ranking for cities with the highest inflow. This is an investigation of the variation and similarity between these methods. If we want larger counties to hold a larger weight in our model than smaller counties, using raw numbers is most logical (inflow, outflow, or inflow - outflow). If instead, we want all counties to hold equal weight in the model, normalized versions of these metrics are more logical (percent change in population or ratio of inflow to outflow). Here is a look at the similarities and differences between the methods. "
   ]
  },
  {
   "cell_type": "code",
   "execution_count": null,
   "metadata": {
    "cell_id": "00002-e20dab0f-0544-4570-ba39-7fb2dd191130",
    "deepnote_cell_type": "code",
    "deepnote_output_heights": [
     null,
     1
    ],
    "deepnote_to_be_reexecuted": false,
    "execution_millis": 3877,
    "execution_start": 1643550917925,
    "source_hash": "70c072b",
    "tags": []
   },
   "outputs": [],
   "source": [
    "inflow = alt.Chart(ca_all).mark_geoshape().encode(\n",
    "    tooltip='NAME',\n",
    "    color='individual_inflow'\n",
    ").properties(title='2019 Individual Inflow (number of people who move to a county)')\n",
    "\n",
    "outflow = alt.Chart(ca_all).mark_geoshape().encode(\n",
    "    tooltip='NAME',\n",
    "    color='individual_outflow'\n",
    ").properties(title='2019 Individual Outflow (number of people who leave a county)')\n",
    "\n",
    "population = alt.Chart(ca_all).mark_geoshape().encode(\n",
    "    tooltip='NAME',\n",
    "    color='total_population'\n",
    ").properties(title='2019 Individual Outflow (number of people who leave a county)')\n",
    "\n",
    "difference = alt.Chart(ca_all).mark_geoshape().encode(\n",
    "    tooltip=['NAME','dif_inflow_outflow'],\n",
    "    color = alt.Color('dif_inflow_outflow',scale=alt.Scale(scheme='blueorange', domain=[-9000, 9000]))\n",
    ").properties(title='2019 Difference between Inflow and Outflow')\n",
    "\n",
    "(inflow | outflow) "
   ]
  },
  {
   "cell_type": "code",
   "execution_count": null,
   "metadata": {
    "cell_id": "5305f2f7-88ca-4ede-bc4d-29cde4e8b569",
    "deepnote_cell_type": "code",
    "deepnote_output_heights": [
     611,
     329.96875,
     21.1875
    ],
    "deepnote_to_be_reexecuted": false,
    "execution_millis": 1487,
    "execution_start": 1643550920316,
    "source_hash": "52bf7a17",
    "tags": []
   },
   "outputs": [],
   "source": [
    "butte = ca_all[ca_all['county_name']=='butte']\n",
    "\n",
    "# alt.Chart(butte).mark_geoshape(stroke='grey',fill=None).encode(\n",
    "#     text='county_name'\n",
    "# )\n",
    "\n",
    "butte = alt.Chart(butte).mark_text().encode(\n",
    "    longitude='longitude:Q',\n",
    "    latitude='latitude:Q',\n",
    "    text=alt.Text('county_name:N'))"
   ]
  },
  {
   "cell_type": "code",
   "execution_count": null,
   "metadata": {
    "cell_id": "b146d287-a4cf-4f26-b7cc-d856426980fe",
    "deepnote_cell_type": "code",
    "deepnote_output_heights": [
     null,
     341
    ],
    "deepnote_to_be_reexecuted": false,
    "execution_millis": 1988,
    "execution_start": 1643550920317,
    "source_hash": "fc77670d",
    "tags": []
   },
   "outputs": [],
   "source": [
    "difference + butte"
   ]
  },
  {
   "cell_type": "code",
   "execution_count": null,
   "metadata": {
    "cell_id": "4fa660c3-69ac-48ef-a5b7-b12e5c1c42eb",
    "deepnote_cell_type": "code",
    "deepnote_output_heights": [
     null,
     40.390625
    ],
    "deepnote_to_be_reexecuted": false,
    "execution_millis": 2101,
    "execution_start": 1643550922120,
    "source_hash": "d0158901",
    "tags": []
   },
   "outputs": [],
   "source": [
    "ratio_inflow_outflow = alt.Chart(ca_all).mark_geoshape().encode(\n",
    "    tooltip=['NAME','ratio_inflow_outflow'],\n",
    "    color = alt.Color('ratio_inflow_outflow',scale=alt.Scale(scheme='blueorange', domain=[.5, 1.5]))\n",
    ").properties(title='2019 Ratio of Inflow to Outflow')\n",
    "\n",
    "per_change_pop = alt.Chart(ca_all).mark_geoshape().encode(\n",
    "    tooltip=['NAME','per_change_pop'],\n",
    "    color = alt.Color('per_change_pop',scale=alt.Scale(scheme='blueorange', domain=[-0.02, 0.02]),legend=alt.Legend(format=\".0%\"))\n",
    "    #color='per_change_pop'\n",
    ").properties(title='2019 Percent Change in Population from Migration')\n",
    "\n",
    "per_change_pop"
   ]
  },
  {
   "cell_type": "code",
   "execution_count": null,
   "metadata": {
    "cell_id": "e788057a-1733-45f7-9eba-f4f5b3fa09b7",
    "deepnote_cell_type": "code",
    "deepnote_output_heights": [
     null,
     2
    ],
    "deepnote_to_be_reexecuted": false,
    "execution_millis": 3578,
    "execution_start": 1643550923932,
    "source_hash": "dc7cd52d",
    "tags": []
   },
   "outputs": [],
   "source": [
    "ratio_inflow_outflow"
   ]
  },
  {
   "cell_type": "markdown",
   "metadata": {
    "cell_id": "80bdfb5b-617e-4b27-87ef-9b2940501cec",
    "deepnote_cell_type": "markdown",
    "tags": []
   },
   "source": [
    "Here we notice that Butte county stands out with the lowest ratio of outflow to inflow (0.44). This means that 44 people move to this county for every 100 that leave.  Between 2018 and 2019, approximately 3.7% of the population left the county, leaving it as the county with the sharpest decrease in population, far outpacing the next closest county of San Fransisco, which had a 1.5% decrease in population. This is largly due to the 2018 wildfire that hit Paradise, a town within the county. This may also account for the large increase in population in some surrounding counties including Yuba (0.8% increase),and Placer (1% increase). "
   ]
  },
  {
   "cell_type": "code",
   "execution_count": null,
   "metadata": {
    "cell_id": "bfb74a43-57c4-48b5-b880-c75d22c6c635",
    "deepnote_cell_type": "code",
    "deepnote_output_heights": [
     117.21875
    ],
    "deepnote_to_be_reexecuted": false,
    "execution_millis": 237905171,
    "execution_start": 1643550925969,
    "source_hash": "47bc38e2",
    "tags": []
   },
   "outputs": [],
   "source": [
    "most_leaving = ca_all.sort_values(by='ratio_inflow_outflow', axis=0, ascending=True)['NAME'][:5]\n",
    "\n",
    "most_leaving_ratios = ca_all.sort_values(by='ratio_inflow_outflow', axis=0, ascending=True)['ratio_inflow_outflow'][:5]\n",
    "\n",
    "print(\"These are the top 5 counties with the highest ratio of leaving to staying: \\n{}\".format(most_leaving.values))\n",
    "\n",
    "most_leaving = ca_all.sort_values(by='ratio_inflow_outflow', axis=0, ascending=True)['NAME'][:5]\n",
    "\n",
    "print(\"These are those counties' corresponding ratios of inflow to outflow: \\n{}\".format(most_leaving_ratios.values))"
   ]
  },
  {
   "cell_type": "code",
   "execution_count": null,
   "metadata": {
    "cell_id": "00004-24e9673f-f19a-4c03-b9c2-519d66c3c3eb",
    "deepnote_cell_type": "code",
    "deepnote_output_heights": [
     null,
     1
    ],
    "deepnote_to_be_reexecuted": false,
    "execution_millis": 2230,
    "execution_start": 1643550925970,
    "source_hash": "eeb0ef9d",
    "tags": []
   },
   "outputs": [],
   "source": [
    "ranking_ratio_inflow_outflow = alt.Chart(ca_all).mark_geoshape().encode(\n",
    "    tooltip=['NAME','rank_ratio_inflow_outflow','ratio_inflow_outflow'],\n",
    "    color='rank_ratio_inflow_outflow'\n",
    ").properties(title='2019 Ranking of Ratio of Inflow to Outflow')\n",
    "\n",
    "ranking_dif_inflow_outflow = alt.Chart(ca_all).mark_geoshape().encode(\n",
    "    tooltip=['NAME','rank_dif_inflow_outflow','dif_inflow_outflow'],\n",
    "    color='rank_dif_inflow_outflow'\n",
    ").properties(title='2019 Ranking of Difference between Inflow and Outflow')\n",
    "\n",
    "ranking_per_change_pop = alt.Chart(ca_all).mark_geoshape().encode(\n",
    "    tooltip=['NAME','rank_per_change_pop','per_change_pop'],\n",
    "    color='rank_per_change_pop'\n",
    ").properties(title='2019 Ranking of Percent Change in Population')\n",
    "\n",
    "(ranking_ratio_inflow_outflow | ranking_dif_inflow_outflow) & (ranking_per_change_pop)"
   ]
  },
  {
   "cell_type": "code",
   "execution_count": null,
   "metadata": {
    "cell_id": "7c65e8f7-9885-4f11-a353-bfd09a6135f8",
    "deepnote_cell_type": "code",
    "deepnote_output_heights": [
     1,
     371
    ],
    "deepnote_to_be_reexecuted": false,
    "execution_millis": 440,
    "execution_start": 1643550927805,
    "source_hash": "231ba366",
    "tags": []
   },
   "outputs": [],
   "source": [
    "# compare correlation between various metrics\n",
    "# We see ratio inflow/outflow similar to per_change population. \n",
    "# These are both v. dif from difference in - out\n",
    "\n",
    "df = ca_all[['rank_ratio_inflow_outflow','rank_per_change_pop','rank_dif_inflow_outflow']].corr(method='kendall')\n",
    "\n",
    "\n",
    "sns.heatmap(df,label=True, vmin=0, vmax=1,annot=True)"
   ]
  },
  {
   "cell_type": "code",
   "execution_count": null,
   "metadata": {
    "cell_id": "f1749134-47e9-4046-9627-1ac148bebf28",
    "deepnote_cell_type": "code",
    "deepnote_output_heights": [
     null,
     1
    ],
    "deepnote_to_be_reexecuted": false,
    "execution_millis": 2214,
    "execution_start": 1643550927874,
    "source_hash": "284d4b6f",
    "tags": []
   },
   "outputs": [],
   "source": [
    "per_change_v_dif = alt.Chart(ca_all).mark_point().encode(\n",
    "    x = 'rank_dif_inflow_outflow',\n",
    "    y = 'rank_per_change_pop',\n",
    "    tooltip = ['NAME','rank_per_change_pop','rank_dif_inflow_outflow']\n",
    ")\n",
    "\n",
    "per_change_v_ratio = alt.Chart(ca_all).mark_point().encode(\n",
    "    x = 'rank_ratio_inflow_outflow',\n",
    "    y = 'rank_per_change_pop',\n",
    "    tooltip = ['NAME','rank_ratio_inflow_outflow','rank_per_change_pop']\n",
    ")\n",
    "\n",
    "ratio_v_dif = alt.Chart(ca_all).mark_point().encode(\n",
    "    x = 'rank_ratio_inflow_outflow',\n",
    "    y = 'rank_dif_inflow_outflow',\n",
    "    tooltip = ['NAME','rank_ratio_inflow_outflow','rank_dif_inflow_outflow']\n",
    ").properties(title='Rank of the ratio of inflow to outflow vs. rank of the difference between inflow and outflow')\n",
    "\n",
    "(ratio_v_dif | per_change_v_ratio) | (per_change_v_dif)"
   ]
  },
  {
   "cell_type": "code",
   "execution_count": null,
   "metadata": {
    "cell_id": "74347f4c-b933-4c43-886c-a261793b134a",
    "deepnote_cell_type": "code",
    "deepnote_output_heights": [
     1,
     344
    ],
    "deepnote_to_be_reexecuted": false,
    "execution_millis": 184,
    "execution_start": 1643550929916,
    "source_hash": "1aedb32d",
    "tags": []
   },
   "outputs": [],
   "source": [
    "# compare correlation between various metrics\n",
    "# We see ratio inflow/outflow similar to per_change population. \n",
    "# These are both v. dif from difference in - out\n",
    "\n",
    "sns.heatmap(ca_all[['ratio_inflow_outflow','per_change_pop','dif_inflow_outflow']].corr(),label=True, vmin=0, vmax=1,annot=True)"
   ]
  },
  {
   "cell_type": "code",
   "execution_count": null,
   "metadata": {
    "cell_id": "e5bba4b3-8614-46ab-b38b-ec796d1c8681",
    "deepnote_cell_type": "code",
    "deepnote_output_heights": [
     null,
     1
    ],
    "deepnote_to_be_reexecuted": false,
    "execution_millis": 1791,
    "execution_start": 1643550930096,
    "source_hash": "9b7ac491",
    "tags": []
   },
   "outputs": [],
   "source": [
    "per_change_v_dif = alt.Chart(ca_all).mark_point().encode(\n",
    "    x = 'per_change_pop',\n",
    "    y = 'dif_inflow_outflow',\n",
    "    tooltip = ['NAME','per_change_pop','dif_inflow_outflow']\n",
    ")\n",
    "\n",
    "per_change_v_ratio = alt.Chart(ca_all).mark_point().encode(\n",
    "    x = 'ratio_inflow_outflow',\n",
    "    y = 'per_change_pop',\n",
    "    tooltip = ['NAME','ratio_inflow_outflow','per_change_pop']\n",
    ")\n",
    "\n",
    "ratio_v_dif = alt.Chart(ca_all).mark_point().encode(\n",
    "    x = 'ratio_inflow_outflow',\n",
    "    y = 'dif_inflow_outflow',\n",
    "    tooltip = ['NAME','ratio_inflow_outflow','dif_inflow_outflow']\n",
    ").properties(title='Ratio of inflow to outflow vs. Difference between inflow and outflow')\n",
    "\n",
    "ratio_v_dif | per_change_v_ratio | per_change_v_dif"
   ]
  },
  {
   "cell_type": "markdown",
   "metadata": {
    "cell_id": "00005-166e744e-122f-4eac-b093-e6a742fb9633",
    "deepnote_cell_type": "text-cell-h1",
    "is_collapsed": false,
    "tags": []
   },
   "source": [
    "# All of US"
   ]
  },
  {
   "cell_type": "code",
   "execution_count": null,
   "metadata": {
    "cell_id": "00006-96949154-afa5-42f3-85ee-48f19cc4435f",
    "deepnote_cell_type": "code",
    "deepnote_output_heights": [
     1,
     369
    ],
    "deepnote_to_be_reexecuted": false,
    "execution_millis": 1130,
    "execution_start": 1643550932183,
    "source_hash": "793b3039",
    "tags": []
   },
   "outputs": [],
   "source": [
    "col = ['total_population', 'median_income',\n",
    "       'median_rent', 'median_home_value', 'educational_attainment',\n",
    "       'av_commute_time', 'perc_poverty', 'perc_white', 'perc_black',\n",
    "       'perc_american_indian', 'perc_asian', 'perc_hispanic', 'perc_65_over',\n",
    "       'perc_enrolled_undergrad', 'perc_unemployed', 'housing_per_capita',\n",
    "       'perc_owner', 'perc_renter', 'perc_vacant', \n",
    "       'individual_inflow', 'individual_outflow', 'area_land', 'area_water',\n",
    "       'longitude', 'latitude']\n",
    "sns.heatmap(us_df[col].corr(),xticklabels=True, yticklabels=True)"
   ]
  },
  {
   "cell_type": "code",
   "execution_count": null,
   "metadata": {
    "cell_id": "e855c226-fe78-4f6c-b270-3832446561b8",
    "deepnote_cell_type": "code",
    "deepnote_output_heights": [
     1
    ],
    "deepnote_to_be_reexecuted": false,
    "execution_millis": 15,
    "execution_start": 1643550933312,
    "source_hash": "3f35ee8a",
    "tags": []
   },
   "outputs": [],
   "source": [
    "df_19 = us_df[us_df['year']==2019]\n",
    "\n",
    "df_19['individual_outflow'].std()\n",
    "df_19['individual_outflow'].mean()\n"
   ]
  },
  {
   "cell_type": "code",
   "execution_count": null,
   "metadata": {
    "cell_id": "00007-62f9b3e2-d066-43c6-8664-cfafc3e413ec",
    "deepnote_cell_type": "code",
    "deepnote_output_heights": [
     null,
     1
    ],
    "deepnote_to_be_reexecuted": false,
    "execution_millis": 303,
    "execution_start": 1643550933345,
    "source_hash": "8b4a2237",
    "tags": []
   },
   "outputs": [],
   "source": [
    "\n",
    "\n",
    "alt.Chart(df_19).mark_point().encode(\n",
    "    x ='individual_inflow',\n",
    "    y ='individual_outflow',\n",
    "    tooltip = 'name',\n",
    "    color='state:N'\n",
    ").properties(title = '2019 inflow and outflow')\n",
    "\n"
   ]
  },
  {
   "cell_type": "code",
   "execution_count": null,
   "metadata": {
    "cell_id": "00008-b5fde48b-6183-47f2-9926-388ccc5144fc",
    "deepnote_cell_type": "code",
    "deepnote_output_heights": [
     1
    ],
    "deepnote_to_be_reexecuted": false,
    "execution_millis": 270,
    "execution_start": 1643550933649,
    "source_hash": "efcdad4f",
    "tags": []
   },
   "outputs": [],
   "source": [
    "alt.Chart(df_19).mark_point().encode(\n",
    "    x ='median_home_value',\n",
    "    y ='median_rent',\n",
    "    tooltip = 'name',\n",
    "    color='state:N'\n",
    ").properties(title = '2019 rent and home value')"
   ]
  },
  {
   "cell_type": "code",
   "execution_count": null,
   "metadata": {
    "cell_id": "00008-eda20bfe-8d09-40c7-b72d-14012c3e00b3",
    "deepnote_cell_type": "code",
    "deepnote_output_heights": [
     1
    ],
    "deepnote_to_be_reexecuted": false,
    "execution_millis": 237904902,
    "execution_start": 1643550933893,
    "source_hash": "15be13c5",
    "tags": []
   },
   "outputs": [],
   "source": [
    "df_19.columns"
   ]
  },
  {
   "cell_type": "code",
   "execution_count": null,
   "metadata": {
    "cell_id": "00007-8fce08f9-3309-4bc7-9f77-9708da36615f",
    "deepnote_cell_type": "code",
    "deepnote_output_heights": [
     1
    ],
    "deepnote_to_be_reexecuted": false,
    "execution_millis": 237904896,
    "execution_start": 1643550933895,
    "source_hash": "a89a7188",
    "tags": []
   },
   "outputs": [],
   "source": [
    "us_df.columns"
   ]
  },
  {
   "cell_type": "code",
   "execution_count": null,
   "metadata": {
    "cell_id": "00011-b2c6b141-8791-4a66-9682-35a0e164df7d",
    "deepnote_cell_type": "code",
    "deepnote_table_loading": false,
    "deepnote_table_state": {
     "filters": [],
     "pageIndex": 8,
     "pageSize": 10,
     "sortBy": []
    },
    "deepnote_to_be_reexecuted": false,
    "execution_millis": 237904923,
    "execution_start": 1643550933923,
    "source_hash": "8e3e914d",
    "tags": []
   },
   "outputs": [],
   "source": [
    "us_all = pd.merge(us_counties,df_19,how='left',on=['state','county'])\n"
   ]
  },
  {
   "cell_type": "code",
   "execution_count": null,
   "metadata": {
    "cell_id": "00012-07dc45c9-2b78-4bb7-8fa2-50c17004b0d1",
    "deepnote_cell_type": "code",
    "deepnote_output_heights": [
     611
    ],
    "deepnote_to_be_reexecuted": false,
    "execution_millis": 16,
    "execution_start": 1643550933924,
    "source_hash": "a9dd212a",
    "tags": []
   },
   "outputs": [],
   "source": [
    "us_all = us_all[us_all['state'] != 15]\n",
    "us_all = us_all[us_all['state'] != 2]"
   ]
  },
  {
   "cell_type": "code",
   "execution_count": null,
   "metadata": {
    "cell_id": "00012-09e3089a-60f1-4dc4-b00f-ec1896dd491b",
    "deepnote_cell_type": "code",
    "deepnote_output_heights": [
     null,
     1
    ],
    "deepnote_to_be_reexecuted": false,
    "execution_millis": 6060,
    "execution_start": 1643550933940,
    "source_hash": "79d1fe8b",
    "tags": []
   },
   "outputs": [],
   "source": [
    "alt.Chart(us_all).mark_geoshape().encode(color='perc_black',tooltip='name').properties(title='Percent Black in 2019')"
   ]
  },
  {
   "cell_type": "code",
   "execution_count": null,
   "metadata": {
    "cell_id": "00014-071780b8-1d42-4249-8256-ef3904955d73",
    "deepnote_cell_type": "code",
    "deepnote_output_heights": [
     null,
     1
    ],
    "deepnote_to_be_reexecuted": false,
    "execution_millis": 8008,
    "execution_start": 1643550939877,
    "source_hash": "44ad52f4",
    "tags": []
   },
   "outputs": [],
   "source": [
    "alt.Chart(us_all).mark_geoshape().encode(color='median_rent',tooltip=['name','median_rent'])"
   ]
  },
  {
   "cell_type": "markdown",
   "metadata": {
    "created_in_deepnote_cell": true,
    "deepnote_cell_type": "markdown",
    "tags": []
   },
   "source": [
    "<a style='text-decoration:none;line-height:16px;display:flex;color:#5B5B62;padding:10px;justify-content:end;' href='https://deepnote.com?utm_source=created-in-deepnote-cell&projectId=f6c76417-5fde-42f3-8920-755838dec3fa' target=\"_blank\">\n",
    "<img alt='Created in deepnote.com' style='display:inline;max-height:16px;margin:0px;margin-right:7.5px;' src='data:image/svg+xml;base64,PD94bWwgdmVyc2lvbj0iMS4wIiBlbmNvZGluZz0iVVRGLTgiPz4KPHN2ZyB3aWR0aD0iODBweCIgaGVpZ2h0PSI4MHB4IiB2aWV3Qm94PSIwIDAgODAgODAiIHZlcnNpb249IjEuMSIgeG1sbnM9Imh0dHA6Ly93d3cudzMub3JnLzIwMDAvc3ZnIiB4bWxuczp4bGluaz0iaHR0cDovL3d3dy53My5vcmcvMTk5OS94bGluayI+CiAgICA8IS0tIEdlbmVyYXRvcjogU2tldGNoIDU0LjEgKDc2NDkwKSAtIGh0dHBzOi8vc2tldGNoYXBwLmNvbSAtLT4KICAgIDx0aXRsZT5Hcm91cCAzPC90aXRsZT4KICAgIDxkZXNjPkNyZWF0ZWQgd2l0aCBTa2V0Y2guPC9kZXNjPgogICAgPGcgaWQ9IkxhbmRpbmciIHN0cm9rZT0ibm9uZSIgc3Ryb2tlLXdpZHRoPSIxIiBmaWxsPSJub25lIiBmaWxsLXJ1bGU9ImV2ZW5vZGQiPgogICAgICAgIDxnIGlkPSJBcnRib2FyZCIgdHJhbnNmb3JtPSJ0cmFuc2xhdGUoLTEyMzUuMDAwMDAwLCAtNzkuMDAwMDAwKSI+CiAgICAgICAgICAgIDxnIGlkPSJHcm91cC0zIiB0cmFuc2Zvcm09InRyYW5zbGF0ZSgxMjM1LjAwMDAwMCwgNzkuMDAwMDAwKSI+CiAgICAgICAgICAgICAgICA8cG9seWdvbiBpZD0iUGF0aC0yMCIgZmlsbD0iIzAyNjVCNCIgcG9pbnRzPSIyLjM3NjIzNzYyIDgwIDM4LjA0NzY2NjcgODAgNTcuODIxNzgyMiA3My44MDU3NTkyIDU3LjgyMTc4MjIgMzIuNzU5MjczOSAzOS4xNDAyMjc4IDMxLjY4MzE2ODMiPjwvcG9seWdvbj4KICAgICAgICAgICAgICAgIDxwYXRoIGQ9Ik0zNS4wMDc3MTgsODAgQzQyLjkwNjIwMDcsNzYuNDU0OTM1OCA0Ny41NjQ5MTY3LDcxLjU0MjI2NzEgNDguOTgzODY2LDY1LjI2MTk5MzkgQzUxLjExMjI4OTksNTUuODQxNTg0MiA0MS42NzcxNzk1LDQ5LjIxMjIyODQgMjUuNjIzOTg0Niw0OS4yMTIyMjg0IEMyNS40ODQ5Mjg5LDQ5LjEyNjg0NDggMjkuODI2MTI5Niw0My4yODM4MjQ4IDM4LjY0NzU4NjksMzEuNjgzMTY4MyBMNzIuODcxMjg3MSwzMi41NTQ0MjUgTDY1LjI4MDk3Myw2Ny42NzYzNDIxIEw1MS4xMTIyODk5LDc3LjM3NjE0NCBMMzUuMDA3NzE4LDgwIFoiIGlkPSJQYXRoLTIyIiBmaWxsPSIjMDAyODY4Ij48L3BhdGg+CiAgICAgICAgICAgICAgICA8cGF0aCBkPSJNMCwzNy43MzA0NDA1IEwyNy4xMTQ1MzcsMC4yNTcxMTE0MzYgQzYyLjM3MTUxMjMsLTEuOTkwNzE3MDEgODAsMTAuNTAwMzkyNyA4MCwzNy43MzA0NDA1IEM4MCw2NC45NjA0ODgyIDY0Ljc3NjUwMzgsNzkuMDUwMzQxNCAzNC4zMjk1MTEzLDgwIEM0Ny4wNTUzNDg5LDc3LjU2NzA4MDggNTMuNDE4MjY3Nyw3MC4zMTM2MTAzIDUzLjQxODI2NzcsNTguMjM5NTg4NSBDNTMuNDE4MjY3Nyw0MC4xMjg1NTU3IDM2LjMwMzk1NDQsMzcuNzMwNDQwNSAyNS4yMjc0MTcsMzcuNzMwNDQwNSBDMTcuODQzMDU4NiwzNy43MzA0NDA1IDkuNDMzOTE5NjYsMzcuNzMwNDQwNSAwLDM3LjczMDQ0MDUgWiIgaWQ9IlBhdGgtMTkiIGZpbGw9IiMzNzkzRUYiPjwvcGF0aD4KICAgICAgICAgICAgPC9nPgogICAgICAgIDwvZz4KICAgIDwvZz4KPC9zdmc+' > </img>\n",
    "Created in <span style='font-weight:600;margin-left:4px;'>Deepnote</span></a>"
   ]
  }
 ],
 "metadata": {
  "deepnote": {
   "is_reactive": false
  },
  "deepnote_execution_queue": [],
  "deepnote_notebook_id": "50feec39-df38-4073-bfb0-7538dcb3ae4e"
 },
 "nbformat": 4,
 "nbformat_minor": 2
}
