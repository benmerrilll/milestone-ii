{
 "cells": [
  {
   "cell_type": "markdown",
   "metadata": {
    "cell_id": "38dd3f7e-8b19-4580-aabf-a4748df52df8",
    "deepnote_cell_type": "markdown",
    "tags": []
   },
   "source": [
    "## California Supervised Learning - MinMax Scaler"
   ]
  },
  {
   "cell_type": "code",
   "execution_count": null,
   "metadata": {
    "cell_id": "00000-49be61b2-3cb8-4f0e-9eb4-0b848c7b3bac",
    "deepnote_cell_type": "code",
    "deepnote_to_be_reexecuted": false,
    "execution_millis": 3180,
    "execution_start": 1643466241175,
    "source_hash": "45147964",
    "tags": []
   },
   "outputs": [],
   "source": [
    "import pandas as pd\n",
    "import matplotlib.pyplot as plt\n",
    "import numpy as np\n",
    "from tqdm import tqdm\n",
    "import collections\n",
    "\n",
    "from sklearn.preprocessing import MinMaxScaler\n",
    "from sklearn.decomposition import PCA\n",
    "from sklearn import metrics\n",
    "from sklearn.metrics import silhouette_samples\n",
    "from sklearn.cluster import KMeans, AgglomerativeClustering, DBSCAN\n",
    "from scipy.cluster.hierarchy import ward, dendrogram, complete, average, single\n",
    "\n",
    "import geopandas as gpd\n",
    "import pygeos\n",
    "import gpdvega \n",
    "\n",
    "import altair as alt\n"
   ]
  },
  {
   "cell_type": "code",
   "execution_count": null,
   "metadata": {
    "cell_id": "00001-d395c37a-6944-41c2-9717-2fee6d8e8c37",
    "deepnote_cell_type": "code",
    "deepnote_to_be_reexecuted": false,
    "execution_millis": 3544,
    "execution_start": 1643466244361,
    "source_hash": "3fd7da40",
    "tags": []
   },
   "outputs": [],
   "source": [
    "#Load in US shape data\n",
    "counties = gpd.read_file('/work/ca-county-boundaries/CA_Counties/CA_Counties_TIGER2016.shp')\n",
    "counties['county_name'] = counties['NAME'].str.lower()\n",
    "counties.head()"
   ]
  },
  {
   "cell_type": "code",
   "execution_count": null,
   "metadata": {
    "cell_id": "00001-5e69716b-b1ea-4379-b6f1-4ce1356c5615",
    "deepnote_cell_type": "code",
    "deepnote_output_heights": [
     1
    ],
    "deepnote_to_be_reexecuted": false,
    "execution_millis": 2698,
    "execution_start": 1643466245207,
    "source_hash": "736f9611",
    "tags": []
   },
   "outputs": [],
   "source": [
    "#Load in California data\n",
    "ca_df = pd.read_csv('/work/cleaned-csvs/ca_counties_full_dataset.csv')\n",
    "\n",
    "ca_df.columns"
   ]
  },
  {
   "cell_type": "code",
   "execution_count": null,
   "metadata": {
    "cell_id": "00002-51aacc0c-663d-45d8-b977-6fa98f181bbd",
    "deepnote_cell_type": "code",
    "deepnote_output_heights": [
     1
    ],
    "deepnote_to_be_reexecuted": false,
    "execution_millis": 2793,
    "execution_start": 1643466245209,
    "source_hash": "1dc3e027",
    "tags": []
   },
   "outputs": [],
   "source": [
    "# Check for sparse columns\n",
    "nullseries=ca_df.isna().sum()\n",
    "nullseries[nullseries > 0]"
   ]
  },
  {
   "cell_type": "code",
   "execution_count": null,
   "metadata": {
    "cell_id": "00003-bd392cf5-8d16-4b33-b1f6-54c97dd144da",
    "deepnote_cell_type": "code",
    "deepnote_output_heights": [
     1
    ],
    "deepnote_to_be_reexecuted": false,
    "execution_millis": 1,
    "execution_start": 1643466245220,
    "source_hash": "8abc65e9",
    "tags": []
   },
   "outputs": [],
   "source": [
    "#Data prep for unsupervised learning tasks\n",
    "\n",
    "#Let's just look at one year of data, 2018\n",
    "ca_df = ca_df[ca_df['year']==2018]\n",
    "\n",
    "#Before removing text columns, create a mapper for county names\n",
    "ca_df = ca_df.reset_index()\n",
    "county_list_mapper = list(ca_df['county_name'])\n",
    "county_dict_mapper = (ca_df[['county_name']].to_dict('index'))\n",
    "\n",
    "#Identify and drop non-numeric fields\n",
    "non_numeric = ca_df.select_dtypes(exclude='number').columns.to_list()\n",
    "ca_df = ca_df.drop(columns=non_numeric)\n",
    "\n",
    "\n",
    "#Remove fields that are numeric, but not meaningful features of the county\n",
    "ca_df = ca_df.drop(columns = {'state','county', 'longitude',\n",
    "       'latitude','year','index'})\n",
    "\n",
    "\n",
    "ca_df.shape"
   ]
  },
  {
   "cell_type": "code",
   "execution_count": null,
   "metadata": {
    "cell_id": "00004-ddb07fbe-64d2-4f8b-94e3-acef7f078391",
    "deepnote_cell_type": "code",
    "deepnote_output_heights": [
     1
    ],
    "deepnote_to_be_reexecuted": false,
    "execution_millis": 2781,
    "execution_start": 1643466245221,
    "source_hash": "c7f7ed34",
    "tags": []
   },
   "outputs": [],
   "source": [
    "#Store the column names for later use\n",
    "ca_df_columns = ca_df.columns\n",
    "ca_df_columns"
   ]
  },
  {
   "cell_type": "markdown",
   "metadata": {
    "cell_id": "00003-8b01affb-1769-45d9-8dcc-00b29912fc5d",
    "deepnote_cell_type": "markdown",
    "tags": []
   },
   "source": [
    "### Feature Scaling\n",
    "We'll use min-max normalization since all of our features are on different scales, and also numeric."
   ]
  },
  {
   "cell_type": "code",
   "execution_count": null,
   "metadata": {
    "cell_id": "00004-402db99e-9d47-454c-93be-d5ff905a64b8",
    "deepnote_cell_type": "code",
    "deepnote_output_heights": [
     null,
     611
    ],
    "deepnote_to_be_reexecuted": false,
    "execution_millis": 2725,
    "execution_start": 1643466245277,
    "source_hash": "9f99e1d7",
    "tags": []
   },
   "outputs": [],
   "source": [
    "scaler = MinMaxScaler()\n",
    "scaled_data = scaler.fit_transform(ca_df)\n",
    "\n",
    "# verify that there are no missing values and inspect data\n",
    "print('missing values:', pd.DataFrame(scaled_data).isna().sum().sum())\n",
    "pd.DataFrame(scaled_data)\n"
   ]
  },
  {
   "cell_type": "code",
   "execution_count": null,
   "metadata": {
    "cell_id": "00006-822f933d-f342-4bbd-b87b-4d7efcfcfdf0",
    "deepnote_cell_type": "code",
    "deepnote_output_heights": [
     1
    ],
    "deepnote_to_be_reexecuted": false,
    "execution_millis": 1467393,
    "execution_start": 1643466245755,
    "source_hash": "a1f2dea6",
    "tags": []
   },
   "outputs": [],
   "source": [
    "scaled_data.shape"
   ]
  },
  {
   "cell_type": "markdown",
   "metadata": {
    "cell_id": "00007-496c049c-da46-4c13-9a28-6b309f1ca732",
    "deepnote_cell_type": "markdown",
    "tags": []
   },
   "source": [
    "### K-Means Clustering\n",
    "\n",
    "We will run K-Means with multiple n_clusters values so we can use the elbow method. To determine the optimal number of clusters, we have to select the value of k at the “elbow”, or the point after which the inertia start decreasing in a linear fashion. \n",
    "\n",
    "Inertia is the sum of squared distances of samples to their closest cluster center (SSE)\n",
    "\n",
    "We will try two methods of initializing K-Means, the default, which is 'k-means++', which selectes inital cluster centers in a \"smart way\", and 'random' which choses initial centroids at random.\n",
    "\n",
    "We will also look at two metrics to check the quality of our clusters:\n",
    "\n",
    "#### Davies_Bouldin Index\n",
    "This index signifies the average ‘similarity’ between clusters, where the similarity is a measure that compares the distance between clusters with the size of the clusters themselves. Zero is the lowest possible score. Values closer to zero indicate a better partition.\n",
    "\n",
    "#### Calinski-Harabasz Index\n",
    "The index is the ratio of the sum of between-clusters dispersion and of within-cluster dispersion for all clusters (where dispersion is defined as the sum of distances squared). The score is higher when clusters are dense and well separated, which relates to a standard concept of a cluster.\n",
    "\n"
   ]
  },
  {
   "cell_type": "code",
   "execution_count": null,
   "metadata": {
    "cell_id": "00007-da689349-4ea4-40a3-a669-a3e57f7a6fab",
    "deepnote_cell_type": "code",
    "deepnote_output_heights": [
     null,
     462.5
    ],
    "deepnote_to_be_reexecuted": false,
    "execution_millis": 2281,
    "execution_start": 1643466245757,
    "source_hash": "5865b14d",
    "tags": []
   },
   "outputs": [],
   "source": [
    "k_range = [*range(2, 19)]\n",
    "\n",
    "#Calculate inertia scores using the default initialization 'k-means++'\n",
    "inertia_scores = []\n",
    "for k in k_range:\n",
    "    kmeans = KMeans(n_clusters=k, random_state=42,init ='k-means++').fit(scaled_data)\n",
    "    inertia_scores.append(kmeans.inertia_)\n",
    "    kmeans.fit(scaled_data)\n",
    "    ch_score = metrics.calinski_harabasz_score(scaled_data,kmeans.labels_)\n",
    "    db_score = metrics.davies_bouldin_score(scaled_data,kmeans.labels_)\n",
    "    print('k: {}, ch_score: {}, db_score {} '.format(k,ch_score,db_score))\n"
   ]
  },
  {
   "cell_type": "markdown",
   "metadata": {
    "cell_id": "00010-8c467386-ec7a-4d26-8970-a17e08603434",
    "deepnote_cell_type": "markdown",
    "tags": []
   },
   "source": [
    "Our Calinksi-Harabasz scores are all low.\n",
    "\n",
    "inertia_ provides the sum of the squared error, SSE. We will plot this to find \"elbow\"\n"
   ]
  },
  {
   "cell_type": "code",
   "execution_count": null,
   "metadata": {
    "cell_id": "00009-0c5d808a-bc90-4e4d-a093-35b3b8984961",
    "deepnote_cell_type": "code",
    "deepnote_output_heights": [
     21,
     280
    ],
    "deepnote_to_be_reexecuted": false,
    "execution_millis": 29,
    "execution_start": 1643466248010,
    "source_hash": "f5681091",
    "tags": []
   },
   "outputs": [],
   "source": [
    "plt.plot(k_range, inertia_scores, '-o')\n",
    "plt.ylabel('SSE')\n",
    "plt.xlabel('Number of clusters (k)')\n",
    "plt.title('The Elbow Method using \"k-means++\" initialization ')"
   ]
  },
  {
   "cell_type": "markdown",
   "metadata": {
    "cell_id": "00012-77f69615-5dd4-41ce-8693-bf058343b5c3",
    "deepnote_cell_type": "markdown",
    "tags": []
   },
   "source": [
    "Seeing an elbow at about 3, let's try using the random initialization"
   ]
  },
  {
   "cell_type": "code",
   "execution_count": null,
   "metadata": {
    "cell_id": "00010-6d7d3aaf-cda3-4061-8d9f-fa25b03eecdb",
    "deepnote_cell_type": "code",
    "deepnote_to_be_reexecuted": false,
    "execution_millis": 205,
    "execution_start": 1643466248013,
    "source_hash": "efb7646c",
    "tags": []
   },
   "outputs": [],
   "source": [
    "inertia_scores = []\n",
    "for k in k_range:\n",
    "    kmeans = KMeans(n_clusters=k, random_state=42,init='random').fit(scaled_data)\n",
    "    inertia_scores.append(kmeans.inertia_)\n",
    "    kmeans.fit(scaled_data)\n",
    "    ch_score = metrics.calinski_harabasz_score(scaled_data,kmeans.labels_)\n",
    "    db_score = metrics.davies_bouldin_score(scaled_data,kmeans.labels_)\n",
    "    print('k: {}, ch_score: {}, db_score {} '.format(k,ch_score,db_score))\n",
    "\n"
   ]
  },
  {
   "cell_type": "markdown",
   "metadata": {
    "cell_id": "00014-30ebe245-3519-434e-bd61-fe88c3b4d36c",
    "deepnote_cell_type": "markdown",
    "tags": []
   },
   "source": [
    "Our Calinski-Harabasz scores are still low. Let's see if the elbow shows us anything different..."
   ]
  },
  {
   "cell_type": "code",
   "execution_count": null,
   "metadata": {
    "cell_id": "00011-d923eb45-e7d7-409f-8ce6-4e05663d821e",
    "deepnote_cell_type": "code",
    "deepnote_output_heights": [
     1,
     280
    ],
    "deepnote_to_be_reexecuted": false,
    "execution_millis": 4,
    "execution_start": 1643466248212,
    "source_hash": "fdf01d15",
    "tags": []
   },
   "outputs": [],
   "source": [
    "# plt.plot(k_range, inertia_scores, '-o')\n",
    "# plt.ylabel('SSE')\n",
    "# plt.xlabel('Number of clusters (k)')\n",
    "# plt.title('The Elbow Method using \"random\" initialization')"
   ]
  },
  {
   "cell_type": "markdown",
   "metadata": {
    "cell_id": "00012-9468ef8c-cc2c-48bf-9692-8565afb1cded",
    "deepnote_cell_type": "markdown",
    "tags": []
   },
   "source": [
    "Both seem to show a change in descent at about 5 clusters. Let's try using silhouette analysis.\n",
    "\n",
    "From https://scikit-learn.org/stable/auto_examples/cluster/plot_kmeans_silhouette_analysis.html#sphx-glr-auto-examples-cluster-plot-kmeans-silhouette-analysis-py:\n",
    "\n",
    "Silhouette analysis can be used to study the separation distance between the resulting clusters. The silhouette plot displays a measure of how close each point in one cluster is to points in the neighboring clusters and thus provides a way to assess parameters like number of clusters visually. This measure has a range of [-1, 1].\n",
    "\n",
    "Silhouette coefficients (as these values are referred to as) near +1 indicate that the sample is far away from the neighboring clusters. A value of 0 indicates that the sample is on or very close to the decision boundary between two neighboring clusters and negative values indicate that those samples might have been assigned to the wrong cluster.\n",
    "\n"
   ]
  },
  {
   "cell_type": "code",
   "execution_count": null,
   "metadata": {
    "cell_id": "00012-b125596b-1335-4407-9a17-b2f9755b3cbd",
    "deepnote_cell_type": "code",
    "deepnote_output_heights": [
     null,
     267,
     267,
     267,
     267,
     267,
     267,
     267,
     267,
     267
    ],
    "deepnote_to_be_reexecuted": false,
    "execution_millis": 3729,
    "execution_start": 1643466248217,
    "source_hash": "59138211",
    "tags": []
   },
   "outputs": [],
   "source": [
    "# Code from https://towardsdatascience.com/k-means-clustering-algorithm-applications-evaluation-methods-and-drawbacks-aa03e644b48a\n",
    "# Per the article, a good number of clusters will have a well above 0.5 silhouette \n",
    "# average score as well as all of the clusters have higher than the average score\n",
    "\n",
    "for i, k in enumerate(range(2,11)):\n",
    "    #fig, (ax1, ax2) = plt.subplots(1, 2)\n",
    "    fig, ax1 = plt.subplots(1, 1)\n",
    "    fig.set_size_inches(18, 7)\n",
    "    \n",
    "    # Run the Kmeans algorithm\n",
    "    km = KMeans(n_clusters=k)\n",
    "    labels = km.fit_predict(scaled_data)\n",
    "    centroids = km.cluster_centers_\n",
    "\n",
    "    # Get silhouette samples\n",
    "    silhouette_vals = silhouette_samples(scaled_data, labels)\n",
    "\n",
    "    # Silhouette plot\n",
    "    y_ticks = []\n",
    "    y_lower, y_upper = 0, 0\n",
    "    for i, cluster in enumerate(np.unique(labels)):\n",
    "        cluster_silhouette_vals = silhouette_vals[labels == cluster]\n",
    "        cluster_silhouette_vals.sort()\n",
    "        y_upper += len(cluster_silhouette_vals)\n",
    "        ax1.barh(range(y_lower, y_upper), cluster_silhouette_vals, edgecolor='none', height=1)\n",
    "        ax1.text(-0.03, (y_lower + y_upper) / 2, str(i + 1))\n",
    "        y_lower += len(cluster_silhouette_vals)\n",
    "\n",
    "    # Get the average silhouette score and plot it\n",
    "    avg_score = np.mean(silhouette_vals)\n",
    "    ax1.axvline(avg_score, linestyle='--', linewidth=2, color='green')\n",
    "    ax1.set_yticks([])\n",
    "    ax1.set_xlim([-0.1, 1])\n",
    "    ax1.set_xlabel('Silhouette coefficient values')\n",
    "    ax1.set_ylabel('Cluster labels')\n",
    "    ax1.set_title('Silhouette plot for the various clusters', y=1.02);\n",
    "    print('Average silhouette score for {} clusters is {}'.format(k,avg_score))\n",
    "    \n",
    "    #plt.tight_layout()\n",
    "    plt.suptitle(f'Silhouette analysis using k = {k}',\n",
    "                 fontsize=16, fontweight='semibold', y=1.05);\n"
   ]
  },
  {
   "cell_type": "markdown",
   "metadata": {
    "cell_id": "00015-fbc438ed-7824-49ef-af7e-f49e3b4dd3eb",
    "deepnote_cell_type": "markdown",
    "tags": []
   },
   "source": [
    "None of our clusters have a score higher than 0.5. Based on this, I see two possible conclusions:\n",
    "1. K-Means is maybe not the right algorithm for us\n",
    "3. Maybe there are too many dimensions? Can try running PCA on the data, then K-Means, will do this later"
   ]
  },
  {
   "cell_type": "markdown",
   "metadata": {
    "cell_id": "00015-c3d1c579-f59c-4c07-8541-815314e88383",
    "deepnote_cell_type": "markdown",
    "tags": []
   },
   "source": [
    "### Agglomerative Clustering\n",
    "Agglomerative clustering performs a bottom up approach where each observation starts in its own cluster and clusters are successively merged together.\n",
    "\n",
    "There are 4 types of linkages we will consider:\n",
    "- Single: minimum distance between clusters\n",
    "- Complete: maximum distance between clusters\n",
    "- Average: average distance between clusters\n",
    "- Ward: difference between:\n",
    "- - The total within-cluster sum of squares for the two clusters seperately\n",
    "- - and\n",
    "- - The within-cluster sum of squares resulting from merging the two clusters\n",
    "\n",
    "We are using Ward's Method to start because it tends to create equal sized clusters and is effective for noisy data. \n",
    "\n",
    "The output of the ward function is as follows:\n",
    "- Column 1 and 2 are child nodes\n",
    "- Column 3 is distance\n",
    "- Column 4 is the number of leaf nodes merged\n",
    "\n",
    "Every node 58 and higher are nodes that are created from merges. Node id 58 is created from the first line of the ward result, node id 59 is the second line, etc."
   ]
  },
  {
   "cell_type": "code",
   "execution_count": null,
   "metadata": {
    "cell_id": "00020-80f14881-7ca4-48b2-b6af-218dc42dac8b",
    "deepnote_cell_type": "code",
    "deepnote_output_heights": [
     344
    ],
    "deepnote_to_be_reexecuted": false,
    "execution_millis": 1602,
    "execution_start": 1643466251766,
    "source_hash": "2c5e6009",
    "tags": []
   },
   "outputs": [],
   "source": [
    "plt.figure(figsize=(10,6))\n",
    "cls1 = ward(scaled_data)\n",
    "dendrogram(cls1)#,orientation='left')\n",
    "plt.title('Dendrogram using Ward Linkage')\n",
    "plt.show()\n",
    "\n",
    "print(cls1)"
   ]
  },
  {
   "cell_type": "markdown",
   "metadata": {
    "cell_id": "00022-ca1b1e05-e736-45dd-b68e-022b85c37f40",
    "deepnote_cell_type": "markdown",
    "tags": []
   },
   "source": [
    "Based on the dendrogram we are going to assign the data to 3 clusters, so now we will run the clusters to get the assignment value"
   ]
  },
  {
   "cell_type": "code",
   "execution_count": null,
   "metadata": {
    "cell_id": "00022-7ef419bb-34cf-49e4-8880-9983a1fe9d24",
    "deepnote_cell_type": "code",
    "deepnote_output_heights": [
     59
    ],
    "deepnote_to_be_reexecuted": false,
    "execution_millis": 12,
    "execution_start": 1643466253373,
    "source_hash": "499722c",
    "tags": []
   },
   "outputs": [],
   "source": [
    "cls_w = AgglomerativeClustering(n_clusters=3, linkage='ward')\n",
    "cls_assignment_w = cls_w.fit_predict(scaled_data)\n",
    "cls_assignment_w"
   ]
  },
  {
   "cell_type": "code",
   "execution_count": null,
   "metadata": {
    "cell_id": "00023-b203ca09-2b99-48f7-8121-f67ae592a36c",
    "deepnote_cell_type": "code",
    "deepnote_output_heights": [
     611
    ],
    "deepnote_to_be_reexecuted": false,
    "execution_millis": 26,
    "execution_start": 1643466253388,
    "source_hash": "b97822e4",
    "tags": []
   },
   "outputs": [],
   "source": [
    "#Zip together the mapper and the cluster assignment\n",
    "county_cluster = list(zip(county_list_mapper, list(cls_assignment_w)))\n",
    "\n",
    "cluster_df = pd.DataFrame(county_cluster, columns=['county_name', 'agglom_ward_cluster'])\n",
    "cluster_df\n"
   ]
  },
  {
   "cell_type": "code",
   "execution_count": null,
   "metadata": {
    "cell_id": "00024-f39af29e-a805-4c4e-bd54-0e7565c0ae88",
    "deepnote_cell_type": "code",
    "deepnote_output_heights": [
     97.9375
    ],
    "deepnote_to_be_reexecuted": false,
    "execution_millis": 1,
    "execution_start": 1643466253420,
    "source_hash": "fe246167",
    "tags": []
   },
   "outputs": [],
   "source": [
    "#Show the clusters on a map\n",
    "ca_all = pd.merge(counties,cluster_df,how='inner',on='county_name')"
   ]
  },
  {
   "cell_type": "code",
   "execution_count": null,
   "metadata": {
    "cell_id": "00026-b94e33b7-acb5-4578-968a-2c8177a205a1",
    "deepnote_cell_type": "code",
    "deepnote_output_heights": [
     null,
     1
    ],
    "deepnote_to_be_reexecuted": false,
    "execution_millis": 4479,
    "execution_start": 1643466253441,
    "source_hash": "a242a55c",
    "tags": []
   },
   "outputs": [],
   "source": [
    "agglom_ward = alt.Chart(ca_all).mark_geoshape().encode(\n",
    "    tooltip='NAME',\n",
    "    color='agglom_ward_cluster:N'\n",
    ").properties(title='Agglomerative Clusters - Ward Linkage - 2018 Data')\n",
    "agglom_ward"
   ]
  },
  {
   "cell_type": "markdown",
   "metadata": {
    "cell_id": "00028-d356aa89-02c4-4c6b-81a5-ebbbcb075011",
    "deepnote_cell_type": "markdown",
    "tags": []
   },
   "source": [
    "Out of curiousity, let's see if we get similar clusterings if we use different agglomerative clustering linkage methods "
   ]
  },
  {
   "cell_type": "code",
   "execution_count": null,
   "metadata": {
    "cell_id": "00028-ee7da8be-d2c6-4d8b-82fd-daec527153ec",
    "deepnote_cell_type": "code",
    "deepnote_output_heights": [
     344
    ],
    "deepnote_to_be_reexecuted": false,
    "execution_millis": 2587,
    "execution_start": 1643466255366,
    "source_hash": "1bf1a9d4",
    "tags": []
   },
   "outputs": [],
   "source": [
    "#Complete linkage method\n",
    "plt.figure(figsize=(10,6))\n",
    "cls2 = complete(scaled_data)\n",
    "dendrogram(cls2)#,orientation='left')\n",
    "plt.title('Dendrogram using Complete Linkage')\n",
    "plt.show()\n",
    "\n",
    "print(cls2)"
   ]
  },
  {
   "cell_type": "markdown",
   "metadata": {
    "cell_id": "00029-9ebb667b-2c50-4191-b7a4-90a451621833",
    "deepnote_cell_type": "markdown",
    "tags": []
   },
   "source": [
    "With complete linkage it seems that 5 clusters are more appropriate"
   ]
  },
  {
   "cell_type": "code",
   "execution_count": null,
   "metadata": {
    "cell_id": "00027-c00b9e24-6c88-44aa-80cb-a3d851e967fd",
    "deepnote_cell_type": "code",
    "deepnote_to_be_reexecuted": false,
    "execution_millis": 7,
    "execution_start": 1643466256559,
    "source_hash": "d55b5333",
    "tags": []
   },
   "outputs": [],
   "source": [
    "\n",
    "cls_c = AgglomerativeClustering(n_clusters=5, linkage='complete')\n",
    "cls_assignment_c = cls_c.fit_predict(scaled_data)\n",
    "\n",
    "county_cluster = list(zip(county_list_mapper, list(cls_assignment_c)))\n",
    "\n",
    "new_df = pd.DataFrame(county_cluster, columns=['county_name', 'agglom_complete_cluster'])\n",
    "\n",
    "ca_all = ca_all.merge(new_df, how = 'inner', on = 'county_name')"
   ]
  },
  {
   "cell_type": "code",
   "execution_count": null,
   "metadata": {
    "cell_id": "00031-86a74bca-a288-41a6-ac5e-c223d052bc8e",
    "deepnote_cell_type": "code",
    "deepnote_output_heights": [
     339
    ],
    "deepnote_to_be_reexecuted": false,
    "execution_millis": 1966,
    "execution_start": 1643466256574,
    "source_hash": "ae0265df",
    "tags": []
   },
   "outputs": [],
   "source": [
    "#Average Linkage Method\n",
    "plt.figure(figsize=(10,6))\n",
    "cls3 = average(scaled_data)\n",
    "dendrogram(cls3)#,orientation='left')\n",
    "plt.title('Dendrogram using Average Linkage')\n",
    "plt.show()\n",
    "\n",
    "print(cls3)"
   ]
  },
  {
   "cell_type": "markdown",
   "metadata": {
    "cell_id": "00032-025053e8-8c2c-4cd8-8b6f-427a3498bf23",
    "deepnote_cell_type": "markdown",
    "tags": []
   },
   "source": [
    "With average linkage it seems that 5 clusters are appropriate"
   ]
  },
  {
   "cell_type": "code",
   "execution_count": null,
   "metadata": {
    "cell_id": "00029-dcf031f1-1187-4ed8-9cd5-1fe389438324",
    "deepnote_cell_type": "code",
    "deepnote_to_be_reexecuted": false,
    "execution_millis": 1,
    "execution_start": 1643466258494,
    "source_hash": "ab4c51a9",
    "tags": []
   },
   "outputs": [],
   "source": [
    "\n",
    "cls_a = AgglomerativeClustering(n_clusters=5, linkage='average')\n",
    "cls_assignment_a = cls_a.fit_predict(scaled_data)\n",
    "\n",
    "county_cluster = list(zip(county_list_mapper, list(cls_assignment_a)))\n",
    "\n",
    "new_df = pd.DataFrame(county_cluster, columns=['county_name', 'agglom_average_cluster'])\n",
    "\n",
    "ca_all = ca_all.merge(new_df, how = 'inner', on = 'county_name')"
   ]
  },
  {
   "cell_type": "code",
   "execution_count": null,
   "metadata": {
    "cell_id": "00034-4967d765-2cbd-4afb-8ab9-92461bdc6379",
    "deepnote_cell_type": "code",
    "deepnote_output_heights": [
     339
    ],
    "deepnote_to_be_reexecuted": false,
    "execution_millis": 1586,
    "execution_start": 1643466258495,
    "source_hash": "2ccaebfc",
    "tags": []
   },
   "outputs": [],
   "source": [
    "#Single linkage method\n",
    "plt.figure(figsize=(10,6))\n",
    "cls4 = single(scaled_data)\n",
    "dendrogram(cls4)#,orientation='left')\n",
    "plt.title('Dendrogram using Single Linkage')\n",
    "plt.show()\n",
    "\n",
    "print(cls4)"
   ]
  },
  {
   "cell_type": "markdown",
   "metadata": {
    "cell_id": "00036-91c1e09d-08b0-436f-adab-b6912a13759e",
    "deepnote_cell_type": "markdown",
    "tags": []
   },
   "source": [
    "Using single linkage 2 clusters seems most appropriate"
   ]
  },
  {
   "cell_type": "code",
   "execution_count": null,
   "metadata": {
    "cell_id": "00030-c5e7e4ac-de65-4e87-8e13-c467196de70b",
    "deepnote_cell_type": "code",
    "deepnote_to_be_reexecuted": false,
    "execution_millis": 13,
    "execution_start": 1643466260083,
    "source_hash": "4ce8ec75",
    "tags": []
   },
   "outputs": [],
   "source": [
    "cls_s = AgglomerativeClustering(n_clusters=2, linkage='single')\n",
    "cls_assignment_s = cls_s.fit_predict(scaled_data)\n",
    "\n",
    "county_cluster = list(zip(county_list_mapper, list(cls_assignment_s)))\n",
    "\n",
    "new_df = pd.DataFrame(county_cluster, columns=['county_name', 'agglom_single_cluster'])\n",
    "\n",
    "ca_all = ca_all.merge(new_df, how = 'inner', on = 'county_name')"
   ]
  },
  {
   "cell_type": "markdown",
   "metadata": {
    "cell_id": "00037-2949c50b-f2a7-4f40-ae1b-8c10e0892da2",
    "deepnote_cell_type": "markdown",
    "tags": []
   },
   "source": [
    "Show the rest of the agglomerative clustering maps"
   ]
  },
  {
   "cell_type": "code",
   "execution_count": null,
   "metadata": {
    "cell_id": "00031-3e4a2c85-c363-457b-a264-33df4b9cbf0f",
    "deepnote_cell_type": "code",
    "deepnote_output_heights": [
     null,
     1
    ],
    "deepnote_to_be_reexecuted": false,
    "execution_millis": 2724,
    "execution_start": 1643466260109,
    "source_hash": "2d47dca4",
    "tags": []
   },
   "outputs": [],
   "source": [
    "#Show Complete Linkage Cluster Map\n",
    "\n",
    "complete = alt.Chart(ca_all).mark_geoshape().encode(\n",
    "    tooltip='NAME',\n",
    "    color='agglom_complete_cluster:N'\n",
    ").properties(title='Agglomerative Clusters - Complete Linkage - 2018 Data')\n",
    "\n",
    "complete"
   ]
  },
  {
   "cell_type": "code",
   "execution_count": null,
   "metadata": {
    "cell_id": "00032-500f85e5-c761-4e75-bd71-55a4815aaa88",
    "deepnote_cell_type": "code",
    "deepnote_output_heights": [
     null,
     1
    ],
    "deepnote_to_be_reexecuted": false,
    "execution_millis": 183,
    "execution_start": 1643466262662,
    "source_hash": "60395723",
    "tags": []
   },
   "outputs": [],
   "source": [
    "#Show average linkage cluster map\n",
    "average = alt.Chart(ca_all).mark_geoshape().encode(\n",
    "    tooltip='NAME',\n",
    "    color='agglom_average_cluster:N'\n",
    ").properties(title='Agglomerative Clusters - Average Linkage - 2018 Data')\n",
    "average"
   ]
  },
  {
   "cell_type": "code",
   "execution_count": null,
   "metadata": {
    "cell_id": "00033-0609bfd4-67e4-4ad1-aa6c-b6606a455e6d",
    "deepnote_cell_type": "code",
    "deepnote_output_heights": [
     null,
     1
    ],
    "deepnote_to_be_reexecuted": false,
    "execution_millis": 1036,
    "execution_start": 1643466263199,
    "source_hash": "68ee5b90",
    "tags": []
   },
   "outputs": [],
   "source": [
    "#Show single linkage cluster map\n",
    "single = alt.Chart(ca_all).mark_geoshape().encode(\n",
    "    tooltip='NAME',\n",
    "    color='agglom_single_cluster:N'\n",
    ").properties(title='Agglomerative Clusters - Single Linkage - 2018 Data')\n",
    "single\n"
   ]
  },
  {
   "cell_type": "markdown",
   "metadata": {
    "cell_id": "9b70cc7a-fc50-4b5e-a28c-bfe1b3615db2",
    "deepnote_cell_type": "markdown",
    "tags": []
   },
   "source": [
    "### Back to K-Means...\n",
    "Since agglomerative clustering methods generated results with 3 and 5 clusters (among others), out of curiousity let's try this with K-Means and see if our clustered counties are similar. Note that this is not the best tool for us to use given what we already found out about our K-Means clusters"
   ]
  },
  {
   "cell_type": "code",
   "execution_count": null,
   "metadata": {
    "cell_id": "d2fbc57d-3513-45de-8490-4b646acdb154",
    "deepnote_cell_type": "code",
    "deepnote_to_be_reexecuted": false,
    "execution_millis": 1,
    "execution_start": 1643466264636,
    "source_hash": "cec27a87",
    "tags": []
   },
   "outputs": [],
   "source": [
    "kmeans_3 = KMeans(n_clusters=3, random_state=42).fit(scaled_data)\n",
    "kmeans_5 = KMeans(n_clusters=5, random_state=42).fit(scaled_data)"
   ]
  },
  {
   "cell_type": "code",
   "execution_count": null,
   "metadata": {
    "cell_id": "803da2a8-a4d4-4ebf-a2b0-6c9b0d57eed1",
    "deepnote_cell_type": "code",
    "deepnote_output_heights": [
     59.5625
    ],
    "deepnote_to_be_reexecuted": false,
    "execution_millis": 2,
    "execution_start": 1643466264637,
    "source_hash": "3c0f4e7",
    "tags": []
   },
   "outputs": [],
   "source": [
    "#Add kmeans with 3 clusters to our dataframe\n",
    "county_cluster = list(zip(county_list_mapper, list(kmeans_3.labels_)))\n",
    "\n",
    "new_df = pd.DataFrame(county_cluster, columns=['county_name', 'kmeans_3_cluster'])\n",
    "\n",
    "ca_all = ca_all.merge(new_df, how = 'inner', on = 'county_name')"
   ]
  },
  {
   "cell_type": "code",
   "execution_count": null,
   "metadata": {
    "cell_id": "be6081fe-a6fa-4135-bf43-a467d86f6e04",
    "deepnote_cell_type": "code",
    "deepnote_output_heights": [
     611
    ],
    "deepnote_to_be_reexecuted": false,
    "execution_millis": 1,
    "execution_start": 1643466264639,
    "source_hash": "b3ba87fc",
    "tags": []
   },
   "outputs": [],
   "source": [
    "#Add kmeans with 5 clusters to our dataframe\n",
    "county_cluster = list(zip(county_list_mapper, list(kmeans_5.labels_)))\n",
    "\n",
    "new_df = pd.DataFrame(county_cluster, columns=['county_name', 'kmeans_5_cluster'])\n",
    "\n",
    "ca_all = ca_all.merge(new_df, how = 'inner', on = 'county_name')"
   ]
  },
  {
   "cell_type": "code",
   "execution_count": null,
   "metadata": {
    "cell_id": "b8cf7d07-274e-48e6-a3d1-d78764b56674",
    "deepnote_cell_type": "code",
    "deepnote_to_be_reexecuted": false,
    "execution_millis": 3192,
    "execution_start": 1643466264645,
    "source_hash": "8584183c",
    "tags": []
   },
   "outputs": [],
   "source": [
    "ca_all.head()"
   ]
  },
  {
   "cell_type": "code",
   "execution_count": null,
   "metadata": {
    "cell_id": "912856e1-26f9-4422-b658-2ad182b77de5",
    "deepnote_cell_type": "code",
    "deepnote_output_heights": [
     null,
     1
    ],
    "deepnote_to_be_reexecuted": false,
    "execution_millis": 1339,
    "execution_start": 1643466265227,
    "source_hash": "84cba4c9",
    "tags": []
   },
   "outputs": [],
   "source": [
    "#Show K-Means with 3 clusters map\n",
    "kmeans3_chart = alt.Chart(ca_all).mark_geoshape().encode(\n",
    "    tooltip='NAME',\n",
    "    color='kmeans_3_cluster:N'\n",
    ").properties(title='K-Means With 3 Clusters - 2018 Data')\n",
    "kmeans3_chart  "
   ]
  },
  {
   "cell_type": "markdown",
   "metadata": {
    "cell_id": "289954a6-dd18-41fa-9c25-6898011e5a7f",
    "deepnote_cell_type": "markdown",
    "tags": []
   },
   "source": [
    "And for comparison, the agglomerative clustering with ward linkage\n",
    "(I can't get them to print side by side, I am getting an error on cell output size)"
   ]
  },
  {
   "cell_type": "code",
   "execution_count": null,
   "metadata": {
    "cell_id": "6c097579-9359-48a6-bade-b5a045639b12",
    "deepnote_cell_type": "code",
    "deepnote_output_heights": [
     null,
     1
    ],
    "deepnote_to_be_reexecuted": false,
    "execution_millis": 541,
    "execution_start": 1643466268042,
    "source_hash": "eec490b2",
    "tags": []
   },
   "outputs": [],
   "source": [
    "agglom_ward"
   ]
  },
  {
   "cell_type": "markdown",
   "metadata": {
    "cell_id": "3d75d013-8029-4a42-bbb4-7fb3a91089a3",
    "deepnote_cell_type": "markdown",
    "tags": []
   },
   "source": [
    "These are pretty close! They only differ by one county: Tehama"
   ]
  },
  {
   "cell_type": "code",
   "execution_count": null,
   "metadata": {
    "allow_embed": false,
    "cell_id": "00047-11870fce-790a-4a5a-b550-ce26b56bd671",
    "deepnote_cell_type": "code",
    "deepnote_output_heights": [
     null,
     1
    ],
    "deepnote_to_be_reexecuted": false,
    "execution_millis": 1545,
    "execution_start": 1643466268409,
    "source_hash": "3438dc68",
    "tags": []
   },
   "outputs": [],
   "source": [
    "#Show K-Means with 5 clusters map\n",
    "kmeans5_chart = alt.Chart(ca_all).mark_geoshape().encode(\n",
    "    tooltip='NAME',\n",
    "    color='kmeans_5_cluster:N'\n",
    ").properties(title='K-Means With 5 Clusters - 2018 Data')\n",
    "kmeans5_chart"
   ]
  },
  {
   "cell_type": "markdown",
   "metadata": {
    "cell_id": "a5028cc5-b594-41bf-9008-f1a5f5b7992f",
    "deepnote_cell_type": "markdown",
    "tags": []
   },
   "source": [
    "This one is pretty similar to complete linkage. Just has a larger \"Bay Area\" cluster. \n",
    "Need to check out Alpine County - it is often on its own."
   ]
  },
  {
   "cell_type": "markdown",
   "metadata": {
    "cell_id": "3863ba78-f966-4034-a3e6-9e63ce7bc764",
    "deepnote_cell_type": "markdown",
    "tags": []
   },
   "source": [
    "### DBSCAN\n",
    "DBSCAN works well with datasets that have more complex cluster shapes. Clusters represent areas in the data space that are more dense with data points, while being separated by regions that are empty, or at least much less densely populated. This is done using connected components from graph theory. \n",
    "\n",
    "The eps parameter is the maximum distance between two samples for one to be considered as in the neighborhood of the other.\n",
    "\n",
    "The min_samples parameter is the number of samples (or total weight) in a neighborhood for a point to be considered as a core point. This includes the point itself.\n",
    "\n",
    "DBSCAN labels data as noise by setting it's cluster value to -1, so we will need to keep an eye out for this.\n",
    "\n",
    "Also, DBSCAN clustering is not completely deterministic so the results may change over different runs."
   ]
  },
  {
   "cell_type": "code",
   "execution_count": null,
   "metadata": {
    "cell_id": "d0f20d5a-b9a0-48b9-b1cb-2f3a0a2a0d56",
    "deepnote_cell_type": "code",
    "deepnote_output_heights": [
     21.1875
    ],
    "deepnote_to_be_reexecuted": false,
    "execution_millis": 1463663,
    "execution_start": 1643466269878,
    "source_hash": "f4ce50e5",
    "tags": []
   },
   "outputs": [],
   "source": [
    "#Since our data set is so small, we will go with 2 for min_samples, this means \n",
    "#we need two counties to create a cluster.\n",
    "\n",
    "#Let's check which values of eps work well for our dataset\n",
    "#If values are all -1 then eps is too small and everything is an outlier\n",
    "#If values are all set to 1 cluster than eps is too large\n",
    "\n",
    "for eps in np.linspace(1.0,2.0,11):\n",
    "    dbscan = DBSCAN(eps = eps, min_samples = 2)\n",
    "    cls_dbscan = dbscan.fit_predict(scaled_data)\n",
    "\n",
    "    counter=collections.Counter(cls_dbscan)\n",
    "\n",
    "    print('eps is: ',eps)\n",
    "    print(counter)\n"
   ]
  },
  {
   "cell_type": "markdown",
   "metadata": {
    "cell_id": "364b71cd-26b0-4de7-98d9-d217f56fc250",
    "deepnote_cell_type": "markdown",
    "tags": []
   },
   "source": [
    "When eps is 1.4 we get 4 clusters and 10 outliers. \n",
    "\n",
    "\n",
    "When eps is 1.5 we get 3 clusters and 7 outliers.\n"
   ]
  },
  {
   "cell_type": "markdown",
   "metadata": {
    "cell_id": "a1d78f69-f213-44e2-99fb-96391708041b",
    "deepnote_cell_type": "markdown",
    "tags": []
   },
   "source": [
    "Now, what if we allow clusters to contain just one county? Then there are no outliers, but potentially many clusters. Let's try the same analysis to check for the best eps value"
   ]
  },
  {
   "cell_type": "code",
   "execution_count": null,
   "metadata": {
    "cell_id": "dccf6bf5-31c2-4553-a924-d1334ef2a946",
    "deepnote_cell_type": "code",
    "deepnote_to_be_reexecuted": false,
    "execution_millis": 1463663,
    "execution_start": 1643466269888,
    "source_hash": "d6835eb5",
    "tags": []
   },
   "outputs": [],
   "source": [
    "for eps in np.linspace(1.0,2.0,11):\n",
    "    dbscan = DBSCAN(eps = eps, min_samples = 1)\n",
    "    cls_dbscan = dbscan.fit_predict(scaled_data)\n",
    "\n",
    "    counter=collections.Counter(cls_dbscan)\n",
    "\n",
    "    print('eps is: ',eps)\n",
    "    print(counter)\n"
   ]
  },
  {
   "cell_type": "markdown",
   "metadata": {
    "cell_id": "e290bfd4-573f-4520-b81c-5f1ed24e30ad",
    "deepnote_cell_type": "markdown",
    "tags": []
   },
   "source": [
    "If we compare this to the result for min_samples = 1, we see it is the same result for eps of 1.4 and 1.5 except that instead of being called an outlier, counties were created into their own clusters. Let's graph this so we can more easily see each singular county on its own."
   ]
  },
  {
   "cell_type": "code",
   "execution_count": null,
   "metadata": {
    "cell_id": "57819ef8-7e65-4c1d-8eac-43a4e133370b",
    "deepnote_cell_type": "code",
    "deepnote_to_be_reexecuted": false,
    "execution_millis": 1463634,
    "execution_start": 1643466269889,
    "source_hash": "8dcf1e14",
    "tags": []
   },
   "outputs": [],
   "source": [
    "dbscan_1_4 = DBSCAN(eps = 1.4, min_samples = 1)\n",
    "cls_dbscan_1_4 = dbscan_1_4.fit_predict(scaled_data)\n",
    "\n",
    "county_cluster = list(zip(county_list_mapper, list(cls_dbscan_1_4)))\n",
    "\n",
    "new_df = pd.DataFrame(county_cluster, columns=['county_name', 'dbscan_1_4_cluster'])\n",
    "\n",
    "ca_all = ca_all.merge(new_df, how = 'inner', on = 'county_name')"
   ]
  },
  {
   "cell_type": "code",
   "execution_count": null,
   "metadata": {
    "cell_id": "8055175d-a626-4036-ac1c-3560c335805c",
    "deepnote_cell_type": "code",
    "deepnote_to_be_reexecuted": false,
    "execution_millis": 66,
    "execution_start": 1643466269889,
    "source_hash": "22d11d5d",
    "tags": []
   },
   "outputs": [],
   "source": [
    "dbscan_1_5 = DBSCAN(eps = 1.5, min_samples = 1)\n",
    "cls_dbscan_1_5 = dbscan_1_5.fit_predict(scaled_data)\n",
    "\n",
    "county_cluster = list(zip(county_list_mapper, list(cls_dbscan_1_5)))\n",
    "\n",
    "new_df = pd.DataFrame(county_cluster, columns=['county_name', 'dbscan_1_5_cluster'])\n",
    "\n",
    "ca_all = ca_all.merge(new_df, how = 'inner', on = 'county_name')"
   ]
  },
  {
   "cell_type": "code",
   "execution_count": null,
   "metadata": {
    "cell_id": "65967fa8-d785-448e-9bdd-a73548ba46ac",
    "deepnote_cell_type": "code",
    "deepnote_output_heights": [
     null,
     1
    ],
    "deepnote_to_be_reexecuted": false,
    "execution_millis": 1031,
    "execution_start": 1643466269890,
    "source_hash": "d17b6c45",
    "tags": []
   },
   "outputs": [],
   "source": [
    "#Show DBSCAN with eps = 1.4 cluster map\n",
    "dbscan_1_4_chart = alt.Chart(ca_all).mark_geoshape().encode(\n",
    "    tooltip=['NAME','dbscan_1_4_cluster'],\n",
    "    color='dbscan_1_4_cluster:N'\n",
    ").properties(title='DBSCAN with eps = 1.4 - 2018 Data')\n",
    "dbscan_1_4_chart"
   ]
  },
  {
   "cell_type": "code",
   "execution_count": null,
   "metadata": {
    "cell_id": "029acbac-19a9-41dc-bbaa-5c17ae74275e",
    "deepnote_cell_type": "code",
    "deepnote_output_heights": [
     null,
     1
    ],
    "deepnote_to_be_reexecuted": false,
    "execution_millis": 1687,
    "execution_start": 1643466271297,
    "source_hash": "1365435b",
    "tags": []
   },
   "outputs": [],
   "source": [
    "#Show DBSCAN with eps = 1.5 cluster map\n",
    "dbscan_1_5_chart = alt.Chart(ca_all).mark_geoshape().encode(\n",
    "    tooltip=['NAME','dbscan_1_5_cluster'],\n",
    "    color='dbscan_1_5_cluster:N'\n",
    ").properties(title='DBSCAN with eps = 1.5 - 2018 Data')\n",
    "dbscan_1_5_chart"
   ]
  },
  {
   "cell_type": "markdown",
   "metadata": {
    "cell_id": "f6a0dedf-d984-4bc9-aec8-efa8ef859832",
    "deepnote_cell_type": "markdown",
    "tags": []
   },
   "source": [
    "DBSCAN does not seem to be a good choice for us. It is generally making one large cluster and lots of small clusters."
   ]
  },
  {
   "cell_type": "markdown",
   "metadata": {
    "cell_id": "03d1b38b-f28d-40db-87db-6a34adac322d",
    "deepnote_cell_type": "markdown",
    "tags": []
   },
   "source": [
    "### PCA\n",
    "We are working with a lot of features in California. Maybe this is impacting the ability to create useful clusters. Let's try PCA to help identify the most relevant features and to reduce the dimensionality so we can try clustering again."
   ]
  },
  {
   "cell_type": "code",
   "execution_count": null,
   "metadata": {
    "cell_id": "90323cab-9623-4d78-891d-94332b956018",
    "deepnote_cell_type": "code",
    "deepnote_to_be_reexecuted": false,
    "execution_millis": 1462603,
    "execution_start": 1643466272913,
    "source_hash": "d81a5019",
    "tags": []
   },
   "outputs": [],
   "source": [
    "pca = PCA(2)\n",
    "pca_data = pca.fit_transform(scaled_data)"
   ]
  },
  {
   "cell_type": "markdown",
   "metadata": {
    "cell_id": "44247c00-5d7d-4a0b-9320-862314409565",
    "deepnote_cell_type": "markdown",
    "tags": []
   },
   "source": [
    "Let's plot and check the variance of the components using a variance ratio plot"
   ]
  },
  {
   "cell_type": "code",
   "execution_count": null,
   "metadata": {
    "cell_id": "57c0c493-eba7-4a3e-a6ce-4fa15b692cce",
    "deepnote_cell_type": "code",
    "deepnote_output_heights": [
     539
    ],
    "deepnote_to_be_reexecuted": false,
    "execution_millis": 1462563,
    "execution_start": 1643466272914,
    "source_hash": "582fce36",
    "tags": []
   },
   "outputs": [],
   "source": [
    "plt.figure(figsize=(10,10))\n",
    "var = np.round(pca.explained_variance_ratio_*100, decimals = 1)\n",
    "lbls = [str(x) for x in range(1,len(var)+1)]\n",
    "plt.bar(x=range(1,len(var)+1), height = var, tick_label = lbls)\n",
    "plt.xlabel('Principal Component')\n",
    "plt.ylabel('Variance %')\n",
    "plt.title('PCA Explained Variance')\n",
    "plt.show()\n",
    "\n"
   ]
  },
  {
   "cell_type": "code",
   "execution_count": null,
   "metadata": {
    "cell_id": "8ae8eb45-03bf-440b-a193-121fb51baf0f",
    "deepnote_cell_type": "code",
    "deepnote_output_heights": [
     21.1875,
     611
    ],
    "deepnote_to_be_reexecuted": false,
    "execution_millis": 1462562,
    "execution_start": 1643466272915,
    "source_hash": "3748adf5",
    "tags": []
   },
   "outputs": [],
   "source": [
    "#Plot the magnitude of each feature value for the 2 principal components\n",
    "# fig, ax = plt.subplots(figsize=(20, 14))\n",
    "# plt.imshow(pca.components_[0:2], interpolation = 'none', cmap = 'plasma')\n",
    "# feature_names=list(ca_df_columns)\n",
    "# plt.xticks(np.arange(-0., len(feature_names), 1) , feature_names, rotation = 90, fontsize=10)\n",
    "# plt.yticks(np.arange(0., 2, 1), ['First PC', 'Second PC'], fontsize = 16)\n",
    "# plt.colorbar()"
   ]
  },
  {
   "cell_type": "markdown",
   "metadata": {
    "cell_id": "176beffc-c405-451c-875f-409fdb9f3a42",
    "deepnote_cell_type": "markdown",
    "tags": []
   },
   "source": [
    "This is really hard to see horizontally, let's switch the orientation..."
   ]
  },
  {
   "cell_type": "code",
   "execution_count": null,
   "metadata": {
    "cell_id": "edc9e8ef-7b18-4ea4-8601-396e629c431d",
    "deepnote_cell_type": "code",
    "deepnote_output_heights": [
     1,
     611
    ],
    "deepnote_to_be_reexecuted": false,
    "execution_millis": 1586,
    "execution_start": 1643466272916,
    "source_hash": "80afc5e",
    "tags": []
   },
   "outputs": [],
   "source": [
    "#Plot the magnitude of each feature value for the 2 principal components\n",
    "fig, ax = plt.subplots(figsize=(20, 18))\n",
    "plt.imshow(pca.components_[0:2].T, interpolation = 'none', cmap = 'plasma')\n",
    "feature_names=list(ca_df_columns)\n",
    "plt.yticks(np.arange(-0., len(feature_names), 1) , feature_names, fontsize=10)\n",
    "plt.xticks(np.arange(0., 2, 1), ['First PC', 'Second PC'], rotation = 90, fontsize = 16)\n",
    "plt.colorbar()"
   ]
  },
  {
   "cell_type": "markdown",
   "metadata": {
    "cell_id": "52235ef3-7d4a-46c3-8b7c-26176ad679e0",
    "deepnote_cell_type": "markdown",
    "tags": []
   },
   "source": [
    "It's kind of hard to use the colors in this plot for actually gauging importance. Let's use the components_ method to find the features that provided the most variance for each of the principle components. Here are the top 5 in principle component 1:"
   ]
  },
  {
   "cell_type": "code",
   "execution_count": null,
   "metadata": {
    "cell_id": "710f703a-765f-4ec3-9eea-6622956f3ef8",
    "deepnote_cell_type": "code",
    "deepnote_output_heights": [
     1
    ],
    "deepnote_to_be_reexecuted": false,
    "execution_millis": 17,
    "execution_start": 1643466274500,
    "source_hash": "67aa3801",
    "tags": []
   },
   "outputs": [],
   "source": [
    "pca_df = pd.DataFrame(pca.components_.T, index=ca_df_columns)\n",
    "pca_df['PC-1'] = abs(pca_df[0])\n",
    "pca_df['PC-2'] = abs(pca_df[1])\n",
    "\n",
    "pca_df['PC-1'].nlargest(n=10)"
   ]
  },
  {
   "cell_type": "markdown",
   "metadata": {
    "cell_id": "f4be9160-f539-4fe1-8c38-312eacd2de34",
    "deepnote_cell_type": "markdown",
    "tags": []
   },
   "source": [
    "And the top 10 most important features for principle component 2:"
   ]
  },
  {
   "cell_type": "code",
   "execution_count": null,
   "metadata": {
    "cell_id": "a8d08dbb-942d-4244-a30d-b0bb28e29796",
    "deepnote_cell_type": "code",
    "deepnote_output_heights": [
     1
    ],
    "deepnote_to_be_reexecuted": false,
    "execution_millis": 14,
    "execution_start": 1643466274513,
    "source_hash": "33ad0743",
    "tags": []
   },
   "outputs": [],
   "source": [
    "pca_df['PC-2'].nlargest(n=10)"
   ]
  },
  {
   "cell_type": "markdown",
   "metadata": {
    "cell_id": "2cc73e8f-c5b4-4d1a-82c8-27dfdace0a01",
    "deepnote_cell_type": "markdown",
    "tags": []
   },
   "source": [
    "Here are the 20 features that showed the least variance for PC1. Note that this includes all the FEMA variables except for fire:"
   ]
  },
  {
   "cell_type": "code",
   "execution_count": null,
   "metadata": {
    "cell_id": "f8b47a98-4349-4083-a0b0-201d4211a440",
    "deepnote_cell_type": "code",
    "deepnote_output_heights": [
     1
    ],
    "deepnote_to_be_reexecuted": false,
    "execution_millis": 11,
    "execution_start": 1643466274520,
    "source_hash": "f33bb0cc",
    "tags": []
   },
   "outputs": [],
   "source": [
    "pca_df['PC-1'].nsmallest(n=20)"
   ]
  },
  {
   "cell_type": "markdown",
   "metadata": {
    "cell_id": "00073-69c9497a-5a66-438d-8cef-0caf54eb2023",
    "deepnote_cell_type": "markdown",
    "tags": []
   },
   "source": [
    "Here are the 20 features that showed the least variance for PC2. This list includes all of the FEMA variables:"
   ]
  },
  {
   "cell_type": "code",
   "execution_count": null,
   "metadata": {
    "cell_id": "b4a7909b-9719-443c-83d0-27d93f6ab03e",
    "deepnote_cell_type": "code",
    "deepnote_output_heights": [
     1
    ],
    "deepnote_to_be_reexecuted": false,
    "execution_millis": 13,
    "execution_start": 1643466274545,
    "source_hash": "f64f3b88",
    "tags": []
   },
   "outputs": [],
   "source": [
    "pca_df['PC-2'].nsmallest(n=20)"
   ]
  },
  {
   "cell_type": "markdown",
   "metadata": {
    "cell_id": "91639e09-b2f2-4440-8a93-eb90bb0c4ead",
    "deepnote_cell_type": "markdown",
    "tags": []
   },
   "source": [
    "#### Biplot\n",
    "The cosine of the angle between any two variable markers (vectors) is the coefficient of correlation between those variables.\n",
    "Note - this only holds if first two PC capture 80% of variance which is NOT the case here.\n",
    "\n",
    "The cosine of the angle between a vector and the axis for a given PC is the coefficient of correlation between those two variables."
   ]
  },
  {
   "cell_type": "code",
   "execution_count": null,
   "metadata": {
    "cell_id": "a5982d3e-472f-4c7c-8958-666b0b4dcd9e",
    "deepnote_cell_type": "code",
    "deepnote_output_heights": [
     611
    ],
    "deepnote_to_be_reexecuted": false,
    "execution_millis": 1,
    "execution_start": 1643466274546,
    "source_hash": "e0659291",
    "tags": []
   },
   "outputs": [],
   "source": [
    "#pca.components_[0:2].T, interpolation = 'none', cmap = 'plasma')\n",
    "#feature_names=list(ca_df_columns)\n",
    "\n",
    "# [x for x in (list(ca_df_columns))]\n",
    "\n",
    "# list(range(0,len(ca_df_columns)))\n",
    "# list(zip(list(range(0,len(ca_df_columns))),[x for x in (list(ca_df_columns))]))\n",
    "\n",
    "# coastal_flag                  0.419181\n",
    "# median_home_value             0.234739\n",
    "# median_income                 0.226722\n",
    "# democrat_pct                  0.224378\n",
    "# median_rent                   0.221641\n",
    "# american_independent_pct      0.213186\n",
    "# republican_pct                0.211032\n",
    "# educational_attainment        0.209305\n",
    "# perc_asian                    0.194298\n",
    "# per_capita_personal_income \n",
    "\n",
    "# perc_65_over                          0.305379\n",
    "# perc_white                            0.280679\n",
    "# perc_hispanic                         0.267592\n",
    "# perc_poverty                          0.236784\n",
    "# per_capita_num_vehicle_theft          0.224469\n",
    "# registered_pct                        0.216534\n",
    "# total_precip_amt                      0.210019\n",
    "# per_capita_nonfarm_proprieter_jobs    0.201308\n",
    "# max_temp                              0.192144\n",
    "# avg_temp   \n",
    "\n",
    "# [22,36,34,1,35,3,2,37,43,15,47,40,46,39,30,0,12,21,11,9]\n",
    "\n"
   ]
  },
  {
   "cell_type": "code",
   "execution_count": null,
   "metadata": {
    "cell_id": "59454098-ea82-48fc-9da2-16d76fd4fd99",
    "deepnote_cell_type": "code",
    "deepnote_output_heights": [
     null,
     470.9375
    ],
    "deepnote_to_be_reexecuted": false,
    "execution_millis": 431,
    "execution_start": 1643466274557,
    "source_hash": "c6376298",
    "tags": []
   },
   "outputs": [],
   "source": [
    "#From SIADS 543\n",
    "feature_subset_count = 20\n",
    "\n",
    "### Feel free to use this routine to plot your own biplots!\n",
    "def biplot(score, coeff, maxdim, pcax, pcay, labels=None):\n",
    "    zoom = 0.5\n",
    "    pca1=pcax-1\n",
    "    pca2=pcay-1\n",
    "    xs = score[:,pca1]\n",
    "    ys = score[:,pca2]\n",
    "    n = min(coeff.shape[0], maxdim)\n",
    "    width = 2.0 * zoom\n",
    "    scalex = width/(xs.max()- xs.min())\n",
    "    scaley = width/(ys.max()- ys.min())\n",
    "    text_scale_factor = 1.3\n",
    "        \n",
    "    fig = plt.gcf()\n",
    "    fig.set_size_inches(9, 9)\n",
    "    \n",
    "    plt.scatter(xs*scalex, ys*scaley, s=9)\n",
    "    for i in range(n):\n",
    "        plt.arrow(0, 0, coeff[i,pca1], coeff[i,pca2],\n",
    "                  color='b',alpha=0.9, head_width = 0.03 * zoom) \n",
    "        if labels is None:\n",
    "            plt.text(coeff[i,pca1]* text_scale_factor, \n",
    "                     coeff[i,pca2] * text_scale_factor, \n",
    "                     \"Var\"+str(i+1), color='g', ha='center', va='center')\n",
    "        else:\n",
    "            plt.text(coeff[i,pca1]* text_scale_factor, \n",
    "                     coeff[i,pca2] * text_scale_factor, \n",
    "                     labels[i], color='black', ha='center', va='center')\n",
    "    \n",
    "    plt.xlim(-zoom,zoom)\n",
    "    plt.ylim(-zoom,zoom)\n",
    "    plt.xlabel(\"PC{}\".format(pcax))\n",
    "    plt.ylabel(\"PC{}\".format(pcay))\n",
    "    plt.grid()\n",
    "\n",
    "plt.figure()\n",
    "\n",
    "#Instead of taking first 10 variables, pick specific variables\n",
    "#feature_subset = slice(0, feature_subset_count, 1)\n",
    "#feature_subset= [22,3,34,1,35,47,40,46,39,30]\n",
    "feature_subset= [22,36,34,1,35,3,2,37,43,15,47,40,46,39,30,0,12,21,11,9]\n",
    "\n",
    "#Get my labels instead of the first 10 labels\n",
    "biplot(pca_data, np.transpose(pca.components_[0:2, feature_subset]),\n",
    "       #feature_subset_count, 1, 2, labels=feature_names[feature_subset])\n",
    "       feature_subset_count, 1, 2, labels=[feature_names[x] for x in feature_subset])\n",
    "\n",
    "print(\"explained_variance_ratio:\", pca.explained_variance_ratio_)\n",
    "print(\"sum of explained variance ratios:\", np.sum(pca.explained_variance_ratio_))\n",
    "print(\"singular values:\", pca.singular_values_)  \n"
   ]
  },
  {
   "cell_type": "markdown",
   "metadata": {
    "cell_id": "b68892c7-ecff-4f37-a073-0cc15bffe224",
    "deepnote_cell_type": "markdown",
    "tags": []
   },
   "source": [
    "### K-Means after PCA\n",
    "\n",
    "Now we will train our model based on the new features generated by PCA"
   ]
  },
  {
   "cell_type": "code",
   "execution_count": null,
   "metadata": {
    "cell_id": "58cf6ca3-1f38-4e0c-aac0-2a4bfd32f6b9",
    "deepnote_cell_type": "code",
    "deepnote_to_be_reexecuted": false,
    "execution_millis": 2921,
    "execution_start": 1643466274998,
    "source_hash": "c3aa31d8",
    "tags": []
   },
   "outputs": [],
   "source": [
    "k_range = [*range(2, 19)]\n",
    "\n",
    "#Calculate inertia scores using the default initialization 'k-means++'\n",
    "inertia_scores = []\n",
    "for k in k_range:\n",
    "    kmeans = KMeans(n_clusters=k, random_state=42,init ='k-means++').fit(pca_data)\n",
    "    inertia_scores.append(kmeans.inertia_)\n",
    "    kmeans.fit(scaled_data)\n",
    "    ch_score = metrics.calinski_harabasz_score(scaled_data,kmeans.labels_)\n",
    "    db_score = metrics.davies_bouldin_score(scaled_data,kmeans.labels_)\n",
    "    print('k: {}, ch_score: {}, db_score {} '.format(k,ch_score,db_score))\n"
   ]
  },
  {
   "cell_type": "markdown",
   "metadata": {
    "cell_id": "02938c7e-11ae-4b2d-bd3f-799291b915d3",
    "deepnote_cell_type": "markdown",
    "tags": []
   },
   "source": [
    "Let's try the elbow method again"
   ]
  },
  {
   "cell_type": "code",
   "execution_count": null,
   "metadata": {
    "cell_id": "fd4d0f40-1a75-4c37-a5b0-d5ebd37a7b05",
    "deepnote_cell_type": "code",
    "deepnote_output_heights": [
     1,
     280
    ],
    "deepnote_to_be_reexecuted": false,
    "execution_millis": 1403,
    "execution_start": 1643466276519,
    "source_hash": "44f37a0",
    "tags": []
   },
   "outputs": [],
   "source": [
    "plt.plot(k_range, inertia_scores, '-o')\n",
    "plt.ylabel('SSE')\n",
    "plt.xlabel('Number of clusters (k)')\n",
    "plt.title('The Elbow Method after PCA ')"
   ]
  },
  {
   "cell_type": "markdown",
   "metadata": {
    "cell_id": "706e625e-02d0-4edc-b520-bfdc6964f7f6",
    "deepnote_cell_type": "markdown",
    "tags": []
   },
   "source": [
    "The elbow is much more prounounced at 3 after PCA"
   ]
  },
  {
   "cell_type": "code",
   "execution_count": null,
   "metadata": {
    "cell_id": "511c95dd-074c-4efd-9c5f-1cc9faa6f93b",
    "deepnote_cell_type": "code",
    "deepnote_to_be_reexecuted": false,
    "execution_millis": 0,
    "execution_start": 1643466276716,
    "source_hash": "5c743f8b",
    "tags": []
   },
   "outputs": [],
   "source": [
    "kmeans = KMeans(n_clusters=3, random_state=42).fit(pca_data)"
   ]
  },
  {
   "cell_type": "code",
   "execution_count": null,
   "metadata": {
    "cell_id": "5d1a2ce2-3d09-4294-944f-73224d4b98f6",
    "deepnote_cell_type": "code",
    "deepnote_output_heights": [
     530
    ],
    "deepnote_to_be_reexecuted": false,
    "execution_millis": 1237,
    "execution_start": 1643466276717,
    "source_hash": "b0390b71",
    "tags": []
   },
   "outputs": [],
   "source": [
    "#Here's our data labeled by cluster\n",
    "centers = np.array(kmeans.cluster_centers_)\n",
    "#print(centers)\n",
    "\n",
    "colors={0:'steelblue',1:'orange',2:'red'}\n",
    "\n",
    "pca_label = kmeans.fit_predict(pca_data)\n",
    "plt.figure(figsize=(10,10))\n",
    "uniq = np.unique(pca_label)\n",
    "for i in uniq:\n",
    "   plt.scatter(pca_data[pca_label == i , 0] , pca_data[pca_label == i , 1] , label = i,c=colors[i])\n",
    "plt.scatter(centers[:,0], centers[:,1], marker=\"x\", color='k')\n",
    "#This is done to find the centroid for each clusters.\n",
    "plt.legend()\n",
    "plt.xlabel('PC1')\n",
    "plt.ylabel('PC2')\n",
    "plt.title('California Counties After PCA, By K-Means Cluster')\n",
    "plt.show()"
   ]
  },
  {
   "cell_type": "code",
   "execution_count": null,
   "metadata": {
    "cell_id": "c73af2ec-c480-464c-b439-978df63d3b77",
    "deepnote_cell_type": "code",
    "deepnote_output_heights": [
     59.5625
    ],
    "deepnote_to_be_reexecuted": false,
    "execution_millis": 1,
    "execution_start": 1643466277936,
    "source_hash": "385878d",
    "tags": []
   },
   "outputs": [],
   "source": [
    "\n",
    "county_cluster = list(zip(county_list_mapper, list(pca_label)))\n",
    "\n",
    "new_df = pd.DataFrame(county_cluster, columns=['county_name', 'kmeans_pca_cluster'])\n",
    "new_df\n",
    "\n",
    "ca_all = ca_all.merge(new_df, how = 'inner', on = 'county_name')"
   ]
  },
  {
   "cell_type": "code",
   "execution_count": null,
   "metadata": {
    "cell_id": "3823c87c-b8cd-4b1a-86ed-489554f9122d",
    "deepnote_cell_type": "code",
    "deepnote_output_heights": [
     null,
     1
    ],
    "deepnote_to_be_reexecuted": false,
    "execution_millis": 483,
    "execution_start": 1643466277939,
    "source_hash": "659a03b4",
    "tags": []
   },
   "outputs": [],
   "source": [
    "#Show K-Means after PCA clusters map\n",
    "kmeans_pca_chart = alt.Chart(ca_all).mark_geoshape().encode(\n",
    "    tooltip='NAME',\n",
    "    color='kmeans_pca_cluster:N'\n",
    ").properties(title='K-Means With 3 Clusters on PCA Results - 2018 Data')\n",
    "kmeans_pca_chart"
   ]
  },
  {
   "cell_type": "markdown",
   "metadata": {
    "cell_id": "b3a75d41-4af8-47d8-8559-a6622dbb3106",
    "deepnote_cell_type": "markdown",
    "tags": []
   },
   "source": [
    "Compare this to our prior kmeans map with 3 clusters...they are the same"
   ]
  },
  {
   "cell_type": "code",
   "execution_count": null,
   "metadata": {
    "cell_id": "bb6b0b8d-73bb-4549-9ee1-1fa7436ec73c",
    "deepnote_cell_type": "code",
    "deepnote_output_heights": [
     null,
     1
    ],
    "deepnote_to_be_reexecuted": false,
    "execution_millis": 1341,
    "execution_start": 1643466278801,
    "source_hash": "2e4830e0",
    "tags": []
   },
   "outputs": [],
   "source": [
    "kmeans3_chart"
   ]
  },
  {
   "cell_type": "markdown",
   "metadata": {
    "cell_id": "dc893eb4-daec-4ed3-8df8-2ac045f84b9d",
    "deepnote_cell_type": "markdown",
    "tags": []
   },
   "source": [
    "### Write out data for Cluster Analysis"
   ]
  },
  {
   "cell_type": "code",
   "execution_count": null,
   "metadata": {
    "cell_id": "817f9036-bd4e-4aaf-af43-0bf8c93184f3",
    "deepnote_cell_type": "code",
    "deepnote_to_be_reexecuted": false,
    "execution_millis": 50443793,
    "execution_start": 1643466280043,
    "source_hash": "ec83926f",
    "tags": []
   },
   "outputs": [],
   "source": [
    "output_fields = ['STATEFP','COUNTYFP','NAMELSAD','county_name','agglom_ward_cluster','agglom_complete_cluster',\n",
    "                'agglom_average_cluster','agglom_single_cluster','kmeans_3_cluster','kmeans_5_cluster','dbscan_1_4_cluster',\n",
    "                'dbscan_1_5_cluster','kmeans_pca_cluster']\n",
    "\n",
    "#ca_all[output_fields].to_csv('/work/output/ca_unsupervised_min_max.csv',index=False)"
   ]
  },
  {
   "cell_type": "markdown",
   "metadata": {
    "cell_id": "ea6ec307-9ac7-4975-9f64-a1f062ea6baa",
    "deepnote_cell_type": "markdown",
    "tags": []
   },
   "source": [
    "### What's the deal with Alpine County?\n",
    "\n",
    "It's mostly national forest...\n",
    "https://en.wikipedia.org/wiki/Alpine_County,_California\n",
    "\n",
    "The cells below show it's population compared to other counties"
   ]
  },
  {
   "cell_type": "code",
   "execution_count": null,
   "metadata": {
    "cell_id": "c9bcb7b8-a03f-4ca9-94b0-89ab6234d44d",
    "deepnote_cell_type": "code",
    "deepnote_to_be_reexecuted": false,
    "execution_millis": 701,
    "execution_start": 1643466280049,
    "source_hash": "162ad117",
    "tags": []
   },
   "outputs": [],
   "source": [
    "data = pd.read_csv('/work/cleaned-csvs/ca_counties_full_dataset.csv')"
   ]
  },
  {
   "cell_type": "code",
   "execution_count": null,
   "metadata": {
    "cell_id": "2a427006-07a6-42d7-850a-d6db4b575013",
    "deepnote_cell_type": "code",
    "deepnote_output_heights": [
     null,
     1
    ],
    "deepnote_to_be_reexecuted": false,
    "execution_millis": 2311,
    "execution_start": 1643466280764,
    "source_hash": "c98e351f",
    "tags": []
   },
   "outputs": [],
   "source": [
    "alt.Chart(data).mark_bar().encode(\n",
    "    y='county_name:N',\n",
    "    x='total_population:Q',\n",
    "    #color='kmeans_pca_cluster:N'\n",
    ")#.properties(title='K-Means With 3 Clusters on PCA Results - 2018 Data')"
   ]
  },
  {
   "cell_type": "code",
   "execution_count": null,
   "metadata": {
    "cell_id": "79565a04-d330-48f1-b8f2-c63567a07b94",
    "deepnote_cell_type": "code",
    "deepnote_to_be_reexecuted": false,
    "execution_millis": 50441490,
    "execution_start": 1643466281026,
    "source_hash": "1cc2c6c0",
    "tags": []
   },
   "outputs": [],
   "source": [
    "data = data[data['year']==2018]\n",
    "data[['county_name','total_population']].sort_values(by='total_population', ascending=True)"
   ]
  },
  {
   "cell_type": "markdown",
   "metadata": {
    "created_in_deepnote_cell": true,
    "deepnote_cell_type": "markdown",
    "tags": []
   },
   "source": [
    "<a style='text-decoration:none;line-height:16px;display:flex;color:#5B5B62;padding:10px;justify-content:end;' href='https://deepnote.com?utm_source=created-in-deepnote-cell&projectId=f6c76417-5fde-42f3-8920-755838dec3fa' target=\"_blank\">\n",
    "<img alt='Created in deepnote.com' style='display:inline;max-height:16px;margin:0px;margin-right:7.5px;' src='data:image/svg+xml;base64,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' > </img>\n",
    "Created in <span style='font-weight:600;margin-left:4px;'>Deepnote</span></a>"
   ]
  }
 ],
 "metadata": {
  "deepnote": {
   "is_reactive": false
  },
  "deepnote_execution_queue": [],
  "deepnote_notebook_id": "fa7a6c81-38f9-4a80-ad07-286b5c9d2987"
 },
 "nbformat": 4,
 "nbformat_minor": 2
}
