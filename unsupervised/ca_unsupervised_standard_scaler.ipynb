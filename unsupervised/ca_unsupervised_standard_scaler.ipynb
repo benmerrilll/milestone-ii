{
 "cells": [
  {
   "cell_type": "markdown",
   "metadata": {
    "cell_id": "aae1af05-cfbc-470a-949b-45654fe86c69",
    "deepnote_cell_type": "markdown",
    "tags": []
   },
   "source": [
    "## California Unsupervised Learning - Standard Scaler"
   ]
  },
  {
   "cell_type": "code",
   "execution_count": null,
   "metadata": {
    "cell_id": "fc86da5c-4748-498b-9fbb-2f68ef20c1bb",
    "deepnote_cell_type": "code",
    "deepnote_to_be_reexecuted": false,
    "execution_millis": 9181,
    "execution_start": 1643224923764,
    "source_hash": "538ab2b7",
    "tags": []
   },
   "outputs": [],
   "source": [
    "import pandas as pd\n",
    "import matplotlib.pyplot as plt\n",
    "import numpy as np\n",
    "from tqdm import tqdm\n",
    "import collections\n",
    "\n",
    "from sklearn.preprocessing import StandardScaler\n",
    "from sklearn.decomposition import PCA\n",
    "from sklearn import metrics\n",
    "from sklearn.metrics import silhouette_samples\n",
    "from sklearn.cluster import KMeans, AgglomerativeClustering, DBSCAN\n",
    "from scipy.cluster.hierarchy import ward, dendrogram, complete, average as av, single\n",
    "\n",
    "import geopandas as gpd\n",
    "import pygeos\n",
    "import gpdvega \n",
    "\n",
    "import altair as alt\n"
   ]
  },
  {
   "cell_type": "code",
   "execution_count": null,
   "metadata": {
    "cell_id": "00001-aaa32c38-b7bb-4943-b4f3-24c8c3925ee3",
    "deepnote_cell_type": "code",
    "deepnote_to_be_reexecuted": false,
    "execution_millis": 175,
    "execution_start": 1643224932946,
    "source_hash": "b87e9d9f",
    "tags": []
   },
   "outputs": [],
   "source": [
    "#Load on California shape data\n",
    "counties = gpd.read_file('/work/ca-county-boundaries/CA_Counties/CA_Counties_TIGER2016.shp')\n",
    "counties['county_name'] = counties['NAME'].str.lower()\n",
    "counties.head()"
   ]
  },
  {
   "cell_type": "code",
   "execution_count": null,
   "metadata": {
    "cell_id": "00002-6cbf9b09-ac52-4a32-bcac-92758be1e6e5",
    "deepnote_cell_type": "code",
    "deepnote_output_heights": [
     520
    ],
    "deepnote_to_be_reexecuted": false,
    "execution_millis": 39,
    "execution_start": 1643224933084,
    "source_hash": "736f9611",
    "tags": []
   },
   "outputs": [],
   "source": [
    "#Load in California data\n",
    "ca_df = pd.read_csv('/work/cleaned-csvs/ca_counties_full_dataset.csv')\n",
    "\n",
    "ca_df.columns"
   ]
  },
  {
   "cell_type": "code",
   "execution_count": null,
   "metadata": {
    "cell_id": "00003-1b728ced-e013-46fa-a8f9-4cef3705e62e",
    "deepnote_cell_type": "code",
    "deepnote_output_heights": [
     21
    ],
    "deepnote_to_be_reexecuted": false,
    "execution_millis": 38,
    "execution_start": 1643224933085,
    "source_hash": "1dc3e027",
    "tags": []
   },
   "outputs": [],
   "source": [
    "# Check for sparse columns\n",
    "nullseries=ca_df.isna().sum()\n",
    "nullseries[nullseries > 0]"
   ]
  },
  {
   "cell_type": "code",
   "execution_count": null,
   "metadata": {
    "cell_id": "00004-7db6366e-10fa-4fac-a1c1-b7793d07cf0d",
    "deepnote_cell_type": "code",
    "deepnote_output_heights": [
     21
    ],
    "deepnote_to_be_reexecuted": false,
    "execution_millis": 37,
    "execution_start": 1643224933086,
    "source_hash": "8abc65e9",
    "tags": []
   },
   "outputs": [],
   "source": [
    "#Data prep for unsupervised learning tasks\n",
    "\n",
    "#Let's just look at one year of data, 2018\n",
    "ca_df = ca_df[ca_df['year']==2018]\n",
    "\n",
    "#Before removing text columns, create a mapper for county names\n",
    "ca_df = ca_df.reset_index()\n",
    "county_list_mapper = list(ca_df['county_name'])\n",
    "county_dict_mapper = (ca_df[['county_name']].to_dict('index'))\n",
    "\n",
    "#Identify and drop non-numeric fields\n",
    "non_numeric = ca_df.select_dtypes(exclude='number').columns.to_list()\n",
    "ca_df = ca_df.drop(columns=non_numeric)\n",
    "\n",
    "\n",
    "#Remove fields that are numeric, but not meaningful features of the county\n",
    "ca_df = ca_df.drop(columns = {'state','county', 'longitude',\n",
    "       'latitude','year','index'})\n",
    "\n",
    "\n",
    "ca_df.shape"
   ]
  },
  {
   "cell_type": "code",
   "execution_count": null,
   "metadata": {
    "cell_id": "00005-bcb7f824-ad91-4dd2-bca7-83085c3581b1",
    "deepnote_cell_type": "code",
    "deepnote_output_heights": [
     482
    ],
    "deepnote_to_be_reexecuted": false,
    "execution_millis": 36,
    "execution_start": 1643224933087,
    "source_hash": "c7f7ed34",
    "tags": []
   },
   "outputs": [],
   "source": [
    "#Store the column names for later use\n",
    "ca_df_columns = ca_df.columns\n",
    "ca_df_columns"
   ]
  },
  {
   "cell_type": "markdown",
   "metadata": {
    "cell_id": "00006-8f075b2a-b80a-42fe-9aea-13e845843834",
    "deepnote_cell_type": "markdown",
    "tags": []
   },
   "source": [
    "### Feature Scaling\n",
    "Let's try using the standard scaler, which follows the Standard Normal Distribution and makes the mean of each field 0."
   ]
  },
  {
   "cell_type": "code",
   "execution_count": null,
   "metadata": {
    "cell_id": "00007-19d39cc2-5cde-469d-8582-7c4f7ffa0b7e",
    "deepnote_cell_type": "code",
    "deepnote_output_heights": [
     null,
     611
    ],
    "deepnote_to_be_reexecuted": false,
    "execution_millis": 43,
    "execution_start": 1643224933088,
    "source_hash": "97dd0f6d",
    "tags": []
   },
   "outputs": [],
   "source": [
    "scaler = StandardScaler()\n",
    "scaled_data = scaler.fit_transform(ca_df)\n",
    "\n",
    "# verify that there are no missing values and inspect data\n",
    "print('missing values:', pd.DataFrame(scaled_data).isna().sum().sum())\n",
    "pd.DataFrame(scaled_data)\n"
   ]
  },
  {
   "cell_type": "code",
   "execution_count": null,
   "metadata": {
    "cell_id": "00008-c311be89-f52a-4fe7-ba70-64548c9cae02",
    "deepnote_cell_type": "code",
    "deepnote_output_heights": [
     21
    ],
    "deepnote_to_be_reexecuted": false,
    "execution_millis": 5379387,
    "execution_start": 1643224933095,
    "source_hash": "a1f2dea6",
    "tags": []
   },
   "outputs": [],
   "source": [
    "scaled_data.shape"
   ]
  },
  {
   "cell_type": "markdown",
   "metadata": {
    "cell_id": "00009-7e760812-6d57-4134-8f36-15164e3a21f0",
    "deepnote_cell_type": "markdown",
    "tags": []
   },
   "source": [
    "### K-Means Clustering\n",
    "\n",
    "We will run K-Means with multiple n_clusters values so we can use the elbow method. To determine the optimal number of clusters, we have to select the value of k at the “elbow”, or the point after which the inertia start decreasing in a linear fashion. \n",
    "\n",
    "Inertia is the sum of squared distances of samples to their closest cluster center (SSE)\n",
    "\n",
    "We will try two methods of initializing K-Means, the default, which is 'k-means++', which selectes inital cluster centers in a \"smart way\", and 'random' which choses initial centroids at random.\n",
    "\n",
    "We will also look at two metrics to check the quality of our clusters:\n",
    "\n",
    "#### Davies_Bouldin Index\n",
    "This index signifies the average ‘similarity’ between clusters, where the similarity is a measure that compares the distance between clusters with the size of the clusters themselves. Zero is the lowest possible score. Values closer to zero indicate a better partition.\n",
    "\n",
    "#### Calinski-Harabasz Index\n",
    "The index is the ratio of the sum of between-clusters dispersion and of within-cluster dispersion for all clusters (where dispersion is defined as the sum of distances squared). The score is higher when clusters are dense and well separated, which relates to a standard concept of a cluster.\n",
    "\n"
   ]
  },
  {
   "cell_type": "code",
   "execution_count": null,
   "metadata": {
    "cell_id": "00010-966e2a2d-bb9a-4513-b600-240e5898f958",
    "deepnote_cell_type": "code",
    "deepnote_output_heights": [
     null,
     462.5
    ],
    "deepnote_to_be_reexecuted": false,
    "execution_millis": 1995,
    "execution_start": 1643224933096,
    "source_hash": "5865b14d",
    "tags": []
   },
   "outputs": [],
   "source": [
    "k_range = [*range(2, 19)]\n",
    "\n",
    "#Calculate inertia scores using the default initialization 'k-means++'\n",
    "inertia_scores = []\n",
    "for k in k_range:\n",
    "    kmeans = KMeans(n_clusters=k, random_state=42,init ='k-means++').fit(scaled_data)\n",
    "    inertia_scores.append(kmeans.inertia_)\n",
    "    kmeans.fit(scaled_data)\n",
    "    ch_score = metrics.calinski_harabasz_score(scaled_data,kmeans.labels_)\n",
    "    db_score = metrics.davies_bouldin_score(scaled_data,kmeans.labels_)\n",
    "    print('k: {}, ch_score: {}, db_score {} '.format(k,ch_score,db_score))\n"
   ]
  },
  {
   "cell_type": "markdown",
   "metadata": {
    "cell_id": "00011-cee3d63a-7af4-406c-b56b-b62a50a57e43",
    "deepnote_cell_type": "markdown",
    "tags": []
   },
   "source": [
    "Our Calinksi-Harabasz scores are all low.\n",
    "\n",
    "inertia_ provides the sum of the squared error, SSE. We will plot this to find \"elbow\"\n"
   ]
  },
  {
   "cell_type": "code",
   "execution_count": null,
   "metadata": {
    "cell_id": "00012-e744bdbf-3ecf-484c-8925-0c060ca440e6",
    "deepnote_cell_type": "code",
    "deepnote_output_heights": [
     21,
     280
    ],
    "deepnote_to_be_reexecuted": false,
    "execution_millis": 4287,
    "execution_start": 1643224935085,
    "source_hash": "f5681091",
    "tags": []
   },
   "outputs": [],
   "source": [
    "plt.plot(k_range, inertia_scores, '-o')\n",
    "plt.ylabel('SSE')\n",
    "plt.xlabel('Number of clusters (k)')\n",
    "plt.title('The Elbow Method using \"k-means++\" initialization ')"
   ]
  },
  {
   "cell_type": "markdown",
   "metadata": {
    "cell_id": "00013-ae408fad-baac-489e-972a-e36137ab9561",
    "deepnote_cell_type": "markdown",
    "tags": []
   },
   "source": [
    "Not seeing much of an elbow above, let's try using the random initialization"
   ]
  },
  {
   "cell_type": "code",
   "execution_count": null,
   "metadata": {
    "cell_id": "00014-bf6589e3-3968-4afb-843f-07bda734b37f",
    "deepnote_cell_type": "code",
    "deepnote_to_be_reexecuted": false,
    "execution_millis": 3872,
    "execution_start": 1643224935504,
    "source_hash": "efb7646c",
    "tags": []
   },
   "outputs": [],
   "source": [
    "inertia_scores = []\n",
    "for k in k_range:\n",
    "    kmeans = KMeans(n_clusters=k, random_state=42,init='random').fit(scaled_data)\n",
    "    inertia_scores.append(kmeans.inertia_)\n",
    "    kmeans.fit(scaled_data)\n",
    "    ch_score = metrics.calinski_harabasz_score(scaled_data,kmeans.labels_)\n",
    "    db_score = metrics.davies_bouldin_score(scaled_data,kmeans.labels_)\n",
    "    print('k: {}, ch_score: {}, db_score {} '.format(k,ch_score,db_score))\n",
    "\n"
   ]
  },
  {
   "cell_type": "markdown",
   "metadata": {
    "cell_id": "00015-1a33831a-d78e-4ef7-bfdd-e502b4e42398",
    "deepnote_cell_type": "markdown",
    "tags": []
   },
   "source": [
    "Our Calinski-Harabasz scores are still low. Let's see if the elbow shows us anything different..."
   ]
  },
  {
   "cell_type": "code",
   "execution_count": null,
   "metadata": {
    "cell_id": "00016-5dfa83dc-3116-46c4-96a4-e6709548a0bd",
    "deepnote_cell_type": "code",
    "deepnote_output_heights": [
     21,
     280
    ],
    "deepnote_to_be_reexecuted": false,
    "execution_millis": 2929,
    "execution_start": 1643224936449,
    "source_hash": "27c64e49",
    "tags": []
   },
   "outputs": [],
   "source": [
    "plt.plot(k_range, inertia_scores, '-o')\n",
    "plt.ylabel('SSE')\n",
    "plt.xlabel('Number of clusters (k)')\n",
    "plt.title('The Elbow Method using \"random\" initialization')"
   ]
  },
  {
   "cell_type": "markdown",
   "metadata": {
    "cell_id": "00017-be3e818b-1041-4868-abb7-b36d3468ceb0",
    "deepnote_cell_type": "markdown",
    "tags": []
   },
   "source": [
    "Neither of these really show an elbow. Let's try using silhouette analysis.\n",
    "\n",
    "From https://scikit-learn.org/stable/auto_examples/cluster/plot_kmeans_silhouette_analysis.html#sphx-glr-auto-examples-cluster-plot-kmeans-silhouette-analysis-py:\n",
    "\n",
    "Silhouette analysis can be used to study the separation distance between the resulting clusters. The silhouette plot displays a measure of how close each point in one cluster is to points in the neighboring clusters and thus provides a way to assess parameters like number of clusters visually. This measure has a range of [-1, 1].\n",
    "\n",
    "Silhouette coefficients (as these values are referred to as) near +1 indicate that the sample is far away from the neighboring clusters. A value of 0 indicates that the sample is on or very close to the decision boundary between two neighboring clusters and negative values indicate that those samples might have been assigned to the wrong cluster.\n",
    "\n"
   ]
  },
  {
   "cell_type": "code",
   "execution_count": null,
   "metadata": {
    "cell_id": "00018-d510ed4e-10bb-4b4b-948f-021e753e2f53",
    "deepnote_cell_type": "code",
    "deepnote_output_heights": [
     null,
     371,
     371,
     371,
     371,
     371,
     371,
     371,
     371,
     371
    ],
    "deepnote_to_be_reexecuted": false,
    "execution_millis": 4217,
    "execution_start": 1643224936948,
    "source_hash": "7e726dbe",
    "tags": []
   },
   "outputs": [],
   "source": [
    "# Code from https://towardsdatascience.com/k-means-clustering-algorithm-applications-evaluation-methods-and-drawbacks-aa03e644b48a\n",
    "# Per the article, a good number of clusters will have a well above 0.5 silhouette \n",
    "# average score as well as all of the clusters have higher than the average score\n",
    "\n",
    "for i, k in enumerate(range(2,11)):\n",
    "    #fig, (ax1, ax2) = plt.subplots(1, 2)\n",
    "    fig, ax1 = plt.subplots(1, 1)\n",
    "    fig.set_size_inches(18, 7)\n",
    "    \n",
    "    # Run the Kmeans algorithm\n",
    "    km = KMeans(n_clusters=k)\n",
    "    labels = km.fit_predict(scaled_data)\n",
    "    centroids = km.cluster_centers_\n",
    "\n",
    "    # Get silhouette samples\n",
    "    silhouette_vals = silhouette_samples(scaled_data, labels)\n",
    "\n",
    "    # Silhouette plot\n",
    "    y_ticks = []\n",
    "    y_lower, y_upper = 0, 0\n",
    "    for i, cluster in enumerate(np.unique(labels)):\n",
    "        cluster_silhouette_vals = silhouette_vals[labels == cluster]\n",
    "        cluster_silhouette_vals.sort()\n",
    "        y_upper += len(cluster_silhouette_vals)\n",
    "        ax1.barh(range(y_lower, y_upper), cluster_silhouette_vals, edgecolor='none', height=1)\n",
    "        ax1.text(-0.03, (y_lower + y_upper) / 2, str(i + 1))\n",
    "        y_lower += len(cluster_silhouette_vals)\n",
    "\n",
    "    # Get the average silhouette score and plot it\n",
    "    avg_score = np.mean(silhouette_vals)\n",
    "    ax1.axvline(avg_score, linestyle='--', linewidth=2, color='green')\n",
    "    ax1.set_yticks([])\n",
    "    ax1.set_xlim([-0.1, 1])\n",
    "    ax1.set_xlabel('Silhouette coefficient values')\n",
    "    ax1.set_ylabel('Cluster labels')\n",
    "    ax1.set_title('Silhouette plot for the various clusters', y=1.02);\n",
    "    print('Average silhouette score for {} clusters is {}'.format(k,avg_score))\n",
    "    \n",
    "   # plt.tight_layout()\n",
    "    plt.suptitle(f'Silhouette analysis using k = {k}',\n",
    "                 fontsize=16, fontweight='semibold', y=1.05);\n"
   ]
  },
  {
   "cell_type": "markdown",
   "metadata": {
    "cell_id": "00019-c4f9d3d1-6f8e-497a-8401-e3d5a2dd397c",
    "deepnote_cell_type": "markdown",
    "tags": []
   },
   "source": [
    "None of our clusters have a score higher than 0.5. Based on this, I see two possible conclusions:\n",
    "1. K-Means may not be the right algorithm for us\n",
    "2. Maybe there are too many dimensions? Can try running PCA on the data, then K-Means"
   ]
  },
  {
   "cell_type": "markdown",
   "metadata": {
    "cell_id": "00020-3aa4ad1e-f1d1-4567-89ba-d8b84f350588",
    "deepnote_cell_type": "markdown",
    "tags": []
   },
   "source": [
    "### Agglomerative Clustering\n",
    "Agglomerative clustring performs a bottom up approach where each observation starts in its own cluster and clusters are successively merged together.\n",
    "\n",
    "There are 4 types of linkages we will consider:\n",
    "- Single: minimum distance between clusters\n",
    "- Complete: maximum distance between clusters\n",
    "- Average: average distance between clusters\n",
    "- Ward: difference between:\n",
    "- - The total within-cluster sum of squares for the two clusters seperately\n",
    "- - and\n",
    "- - The within-cluster sum of squares resulting from merging the two clusters\n",
    "\n",
    "We are using Ward's Method to start because it tends to create equal sized clusters and is effective for noisy data. \n",
    "\n",
    "The output of the ward function is as follows:\n",
    "- Column 1 and 2 are child nodes\n",
    "- Column 3 is distance\n",
    "- Column 4 is the number of leaf nodes merged\n",
    "\n",
    "Every node 58 and higher are nodes that are created from merges. Node id 58 is created from the first line of the ward result, node id 59 is the second line, etc."
   ]
  },
  {
   "cell_type": "code",
   "execution_count": null,
   "metadata": {
    "cell_id": "00021-3c24ebb8-e071-4678-9f37-c5fee2e69d10",
    "deepnote_cell_type": "code",
    "deepnote_output_heights": [
     373
    ],
    "deepnote_to_be_reexecuted": false,
    "execution_millis": 2115,
    "execution_start": 1643224941132,
    "source_hash": "2c5e6009",
    "tags": []
   },
   "outputs": [],
   "source": [
    "plt.figure(figsize=(10,6))\n",
    "cls1 = ward(scaled_data)\n",
    "dendrogram(cls1)#,orientation='left')\n",
    "plt.title('Dendrogram using Ward Linkage')\n",
    "plt.show()\n",
    "\n",
    "print(cls1)"
   ]
  },
  {
   "cell_type": "markdown",
   "metadata": {
    "cell_id": "00022-404874b4-22dc-48bd-9a9a-3fd35274fb06",
    "deepnote_cell_type": "markdown",
    "tags": []
   },
   "source": [
    "Based on the dendrogram we are going to assign the data to 3 clusters, so now we will run the clusters to get the assignment value"
   ]
  },
  {
   "cell_type": "code",
   "execution_count": null,
   "metadata": {
    "cell_id": "00023-6daaa1af-f8d9-4385-89e3-ea4fff68215d",
    "deepnote_cell_type": "code",
    "deepnote_output_heights": [
     60
    ],
    "deepnote_to_be_reexecuted": false,
    "execution_millis": 7,
    "execution_start": 1643224943241,
    "source_hash": "499722c",
    "tags": []
   },
   "outputs": [],
   "source": [
    "cls_w = AgglomerativeClustering(n_clusters=3, linkage='ward')\n",
    "cls_assignment_w = cls_w.fit_predict(scaled_data)\n",
    "cls_assignment_w"
   ]
  },
  {
   "cell_type": "code",
   "execution_count": null,
   "metadata": {
    "cell_id": "00024-356f1f29-74d3-4631-9206-5fe04d5f6f53",
    "deepnote_cell_type": "code",
    "deepnote_output_heights": [
     611
    ],
    "deepnote_to_be_reexecuted": false,
    "execution_millis": 35,
    "execution_start": 1643224943252,
    "source_hash": "b97822e4",
    "tags": []
   },
   "outputs": [],
   "source": [
    "#Zip together the mapper and the cluster assignment\n",
    "county_cluster = list(zip(county_list_mapper, list(cls_assignment_w)))\n",
    "\n",
    "cluster_df = pd.DataFrame(county_cluster, columns=['county_name', 'agglom_ward_cluster'])\n",
    "cluster_df\n"
   ]
  },
  {
   "cell_type": "code",
   "execution_count": null,
   "metadata": {
    "cell_id": "00025-93f9d7db-4f4a-4d0c-b1d3-635a4d0207b7",
    "deepnote_cell_type": "code",
    "deepnote_output_heights": [
     97.9375
    ],
    "deepnote_to_be_reexecuted": false,
    "execution_millis": 15,
    "execution_start": 1643224943287,
    "source_hash": "fe246167",
    "tags": []
   },
   "outputs": [],
   "source": [
    "#Show the clusters on a map\n",
    "ca_all = pd.merge(counties,cluster_df,how='inner',on='county_name')"
   ]
  },
  {
   "cell_type": "code",
   "execution_count": null,
   "metadata": {
    "cell_id": "00026-d43ed8d5-594c-4aa5-975e-aed048a85d83",
    "deepnote_cell_type": "code",
    "deepnote_output_heights": [
     null,
     341
    ],
    "deepnote_to_be_reexecuted": false,
    "execution_millis": 7601,
    "execution_start": 1643224943350,
    "source_hash": "a242a55c",
    "tags": []
   },
   "outputs": [],
   "source": [
    "agglom_ward = alt.Chart(ca_all).mark_geoshape().encode(\n",
    "    tooltip='NAME',\n",
    "    color='agglom_ward_cluster:N'\n",
    ").properties(title='Agglomerative Clusters - Ward Linkage - 2018 Data')\n",
    "agglom_ward"
   ]
  },
  {
   "cell_type": "markdown",
   "metadata": {
    "cell_id": "00027-57273a90-bf40-4a30-89ad-6eddc47736a4",
    "deepnote_cell_type": "markdown",
    "tags": []
   },
   "source": [
    "Out of curiousity, let's see if we get similar clusterings if we use different agglomerative clustering linkage methods "
   ]
  },
  {
   "cell_type": "code",
   "execution_count": null,
   "metadata": {
    "cell_id": "00028-190641ba-1c34-40ff-acc8-4d8f179632a5",
    "deepnote_cell_type": "code",
    "deepnote_output_heights": [
     373
    ],
    "deepnote_to_be_reexecuted": false,
    "execution_millis": 4672,
    "execution_start": 1643224946288,
    "source_hash": "83af3cfd",
    "tags": []
   },
   "outputs": [],
   "source": [
    "#Complete linkage method\n",
    "plt.figure(figsize=(10,6))\n",
    "cls2 = complete(scaled_data)\n",
    "dendrogram(cls2)#,orientation='left')\n",
    "plt.title('Dendrogram using Complete Linkage')\n",
    "plt.show()\n",
    "\n",
    "#print(cls2)"
   ]
  },
  {
   "cell_type": "markdown",
   "metadata": {
    "cell_id": "00029-a565d60a-0dd2-479e-aa8d-818b29c2d912",
    "deepnote_cell_type": "markdown",
    "tags": []
   },
   "source": [
    "Here, instead of the 5 clusters we saw when using MinMax scaling, complete linkage with Standard scaling is showing 3 clusters, but it's really bringing the clusters together at a high level. We will keep it as 5."
   ]
  },
  {
   "cell_type": "code",
   "execution_count": null,
   "metadata": {
    "cell_id": "00030-374dd569-41c7-4908-aff9-0668153c1faf",
    "deepnote_cell_type": "code",
    "deepnote_to_be_reexecuted": false,
    "execution_millis": 1,
    "execution_start": 1643224947252,
    "source_hash": "d55b5333",
    "tags": []
   },
   "outputs": [],
   "source": [
    "\n",
    "cls_c = AgglomerativeClustering(n_clusters=5, linkage='complete')\n",
    "cls_assignment_c = cls_c.fit_predict(scaled_data)\n",
    "\n",
    "county_cluster = list(zip(county_list_mapper, list(cls_assignment_c)))\n",
    "\n",
    "new_df = pd.DataFrame(county_cluster, columns=['county_name', 'agglom_complete_cluster'])\n",
    "\n",
    "ca_all = ca_all.merge(new_df, how = 'inner', on = 'county_name')"
   ]
  },
  {
   "cell_type": "code",
   "execution_count": null,
   "metadata": {
    "cell_id": "00031-545b44f5-928a-450d-a2c1-ac7f4c0ec218",
    "deepnote_cell_type": "code",
    "deepnote_output_heights": [
     373
    ],
    "deepnote_to_be_reexecuted": false,
    "execution_millis": 3932,
    "execution_start": 1643224947369,
    "source_hash": "233e2dc9",
    "tags": []
   },
   "outputs": [],
   "source": [
    "#Average Linkage Method\n",
    "plt.figure(figsize=(10,6))\n",
    "cls3 = av(scaled_data)\n",
    "dendrogram(cls3)#,orientation='left')\n",
    "plt.title('Dendrogram using Average Linkage')\n",
    "plt.show()\n",
    "\n",
    "#print(cls3)\n",
    "\n",
    "\n",
    "\n"
   ]
  },
  {
   "cell_type": "markdown",
   "metadata": {
    "cell_id": "00032-534524c6-2191-425e-b703-b9f29293536d",
    "deepnote_cell_type": "markdown",
    "tags": []
   },
   "source": [
    "Here, instead of the 5 clusters we saw when using MinMax scaling, average linkage with Standard scaling is showing 3 clusters"
   ]
  },
  {
   "cell_type": "code",
   "execution_count": null,
   "metadata": {
    "cell_id": "00033-92c2c515-0e2e-4997-bd67-34a296bceaf4",
    "deepnote_cell_type": "code",
    "deepnote_to_be_reexecuted": false,
    "execution_millis": 1,
    "execution_start": 1643224951107,
    "source_hash": "aa1062a",
    "tags": []
   },
   "outputs": [],
   "source": [
    "\n",
    "cls_a = AgglomerativeClustering(n_clusters=3, linkage='average')\n",
    "cls_assignment_a = cls_a.fit_predict(scaled_data)\n",
    "\n",
    "county_cluster = list(zip(county_list_mapper, list(cls_assignment_a)))\n",
    "\n",
    "new_df = pd.DataFrame(county_cluster, columns=['county_name', 'agglom_average_cluster'])\n",
    "\n",
    "ca_all = ca_all.merge(new_df, how = 'inner', on = 'county_name')"
   ]
  },
  {
   "cell_type": "code",
   "execution_count": null,
   "metadata": {
    "cell_id": "00034-fa7cd455-f69e-43de-8dcd-498881b74e09",
    "deepnote_cell_type": "code",
    "deepnote_output_heights": [
     373
    ],
    "deepnote_to_be_reexecuted": false,
    "execution_millis": 634,
    "execution_start": 1643224951108,
    "source_hash": "92cb89b7",
    "tags": []
   },
   "outputs": [],
   "source": [
    "#Single linkage method\n",
    "plt.figure(figsize=(10,6))\n",
    "cls4 = single(scaled_data)\n",
    "dendrogram(cls4)#,orientation='left')\n",
    "plt.title('Dendrogram using Single Linkage')\n",
    "plt.show()\n",
    "\n",
    "#print(cls4)"
   ]
  },
  {
   "cell_type": "markdown",
   "metadata": {
    "cell_id": "00035-d74fb3f2-89e7-4db9-beec-75b9da74fcb5",
    "deepnote_cell_type": "markdown",
    "tags": []
   },
   "source": [
    "Using single linkage 2 clusters seems most appropriate"
   ]
  },
  {
   "cell_type": "code",
   "execution_count": null,
   "metadata": {
    "cell_id": "00036-447a1e7c-08d9-40f3-b9c0-c7372a8fd640",
    "deepnote_cell_type": "code",
    "deepnote_to_be_reexecuted": false,
    "execution_millis": 1,
    "execution_start": 1643224952357,
    "source_hash": "4ce8ec75",
    "tags": []
   },
   "outputs": [],
   "source": [
    "cls_s = AgglomerativeClustering(n_clusters=2, linkage='single')\n",
    "cls_assignment_s = cls_s.fit_predict(scaled_data)\n",
    "\n",
    "county_cluster = list(zip(county_list_mapper, list(cls_assignment_s)))\n",
    "\n",
    "new_df = pd.DataFrame(county_cluster, columns=['county_name', 'agglom_single_cluster'])\n",
    "\n",
    "ca_all = ca_all.merge(new_df, how = 'inner', on = 'county_name')"
   ]
  },
  {
   "cell_type": "markdown",
   "metadata": {
    "cell_id": "00037-599c8862-74e1-4d48-93e9-03997bc68acb",
    "deepnote_cell_type": "markdown",
    "tags": []
   },
   "source": [
    "Show the rest of the agglomerative clustering maps"
   ]
  },
  {
   "cell_type": "code",
   "execution_count": null,
   "metadata": {
    "cell_id": "00038-53dcf616-81a5-464f-9e8e-95a00506dd24",
    "deepnote_cell_type": "code",
    "deepnote_output_heights": [
     null,
     341
    ],
    "deepnote_to_be_reexecuted": false,
    "execution_millis": 1966,
    "execution_start": 1643224952358,
    "source_hash": "2d47dca4",
    "tags": []
   },
   "outputs": [],
   "source": [
    "#Show Complete Linkage Cluster Map\n",
    "\n",
    "complete = alt.Chart(ca_all).mark_geoshape().encode(\n",
    "    tooltip='NAME',\n",
    "    color='agglom_complete_cluster:N'\n",
    ").properties(title='Agglomerative Clusters - Complete Linkage - 2018 Data')\n",
    "\n",
    "complete"
   ]
  },
  {
   "cell_type": "code",
   "execution_count": null,
   "metadata": {
    "cell_id": "00039-cd1a3b57-eb05-4536-a275-8949f1d6a87b",
    "deepnote_cell_type": "code",
    "deepnote_output_heights": [
     null,
     341
    ],
    "deepnote_to_be_reexecuted": false,
    "execution_millis": 1861,
    "execution_start": 1643224954249,
    "source_hash": "60395723",
    "tags": []
   },
   "outputs": [],
   "source": [
    "#Show average linkage cluster map\n",
    "average = alt.Chart(ca_all).mark_geoshape().encode(\n",
    "    tooltip='NAME',\n",
    "    color='agglom_average_cluster:N'\n",
    ").properties(title='Agglomerative Clusters - Average Linkage - 2018 Data')\n",
    "average"
   ]
  },
  {
   "cell_type": "code",
   "execution_count": null,
   "metadata": {
    "cell_id": "00040-034136d7-8d4e-4f2a-8b6c-74663518cb3a",
    "deepnote_cell_type": "code",
    "deepnote_output_heights": [
     null,
     341
    ],
    "deepnote_to_be_reexecuted": false,
    "execution_millis": 7860,
    "execution_start": 1643224956111,
    "source_hash": "68ee5b90",
    "tags": []
   },
   "outputs": [],
   "source": [
    "#Show single linkage cluster map\n",
    "single = alt.Chart(ca_all).mark_geoshape().encode(\n",
    "    tooltip='NAME',\n",
    "    color='agglom_single_cluster:N'\n",
    ").properties(title='Agglomerative Clusters - Single Linkage - 2018 Data')\n",
    "single\n"
   ]
  },
  {
   "cell_type": "markdown",
   "metadata": {
    "cell_id": "00041-eaf816b9-b066-4777-aa53-52815ef4edc6",
    "deepnote_cell_type": "markdown",
    "tags": []
   },
   "source": [
    "### Back to K-Means...\n",
    "Since agglomerative clustering methods generated results with 3 and 5 clusters (among others), out of curiousity let's try this with K-Means and see if our clustered counties are similar. Note that this is not the best tool for us to use given what we already found out about our K-Means clusters"
   ]
  },
  {
   "cell_type": "code",
   "execution_count": null,
   "metadata": {
    "cell_id": "00042-1827f186-2e3c-423f-a1f7-9eae7dee94a5",
    "deepnote_cell_type": "code",
    "deepnote_to_be_reexecuted": false,
    "execution_millis": 5366336,
    "execution_start": 1643224958041,
    "source_hash": "cec27a87",
    "tags": []
   },
   "outputs": [],
   "source": [
    "kmeans_3 = KMeans(n_clusters=3, random_state=42).fit(scaled_data)\n",
    "kmeans_5 = KMeans(n_clusters=5, random_state=42).fit(scaled_data)"
   ]
  },
  {
   "cell_type": "code",
   "execution_count": null,
   "metadata": {
    "cell_id": "00043-c5432188-0150-4145-85f6-6c1a3d7edee0",
    "deepnote_cell_type": "code",
    "deepnote_output_heights": [
     59.5625
    ],
    "deepnote_to_be_reexecuted": false,
    "execution_millis": 5366336,
    "execution_start": 1643224958051,
    "source_hash": "3c0f4e7",
    "tags": []
   },
   "outputs": [],
   "source": [
    "#Add kmeans with 3 clusters to our dataframe\n",
    "county_cluster = list(zip(county_list_mapper, list(kmeans_3.labels_)))\n",
    "\n",
    "new_df = pd.DataFrame(county_cluster, columns=['county_name', 'kmeans_3_cluster'])\n",
    "\n",
    "ca_all = ca_all.merge(new_df, how = 'inner', on = 'county_name')"
   ]
  },
  {
   "cell_type": "code",
   "execution_count": null,
   "metadata": {
    "cell_id": "00044-597328a6-eacb-4f31-80e7-b84510e62cc6",
    "deepnote_cell_type": "code",
    "deepnote_output_heights": [
     611
    ],
    "deepnote_to_be_reexecuted": false,
    "execution_millis": 5366286,
    "execution_start": 1643224958052,
    "source_hash": "b3ba87fc",
    "tags": []
   },
   "outputs": [],
   "source": [
    "#Add kmeans with 5 clusters to our dataframe\n",
    "county_cluster = list(zip(county_list_mapper, list(kmeans_5.labels_)))\n",
    "\n",
    "new_df = pd.DataFrame(county_cluster, columns=['county_name', 'kmeans_5_cluster'])\n",
    "\n",
    "ca_all = ca_all.merge(new_df, how = 'inner', on = 'county_name')"
   ]
  },
  {
   "cell_type": "code",
   "execution_count": null,
   "metadata": {
    "cell_id": "00045-167e2dfe-def6-4844-a482-336849a35e9a",
    "deepnote_cell_type": "code",
    "deepnote_to_be_reexecuted": false,
    "execution_millis": 5931,
    "execution_start": 1643224958053,
    "source_hash": "8584183c",
    "tags": []
   },
   "outputs": [],
   "source": [
    "ca_all.head()"
   ]
  },
  {
   "cell_type": "code",
   "execution_count": null,
   "metadata": {
    "cell_id": "00046-a68d3885-507a-4a1c-9d05-56a16e71f095",
    "deepnote_cell_type": "code",
    "deepnote_output_heights": [
     null,
     341
    ],
    "deepnote_to_be_reexecuted": false,
    "execution_millis": 5513,
    "execution_start": 1643224958477,
    "source_hash": "9b584e4b",
    "tags": []
   },
   "outputs": [],
   "source": [
    "#Show K-Means with 3 clusters map\n",
    "kmeans3_chart = alt.Chart(ca_all).mark_geoshape().encode(\n",
    "    tooltip='NAME',\n",
    "    color='kmeans_3_cluster:N'\n",
    ").properties(title='K-Means With 3 Clusters - 2018 Data')\n",
    "#kmeans3_chart | agglom_ward\n",
    "kmeans3_chart"
   ]
  },
  {
   "cell_type": "code",
   "execution_count": null,
   "metadata": {
    "cell_id": "ea419863-6a72-4f72-8555-6b4ee37ca48a",
    "deepnote_cell_type": "code",
    "deepnote_output_heights": [
     null,
     341
    ],
    "deepnote_to_be_reexecuted": false,
    "execution_millis": 3714,
    "execution_start": 1643224960418,
    "source_hash": "eec490b2",
    "tags": []
   },
   "outputs": [],
   "source": [
    "agglom_ward"
   ]
  },
  {
   "cell_type": "markdown",
   "metadata": {
    "cell_id": "00047-ab1bb811-54fb-42a9-a879-48e8497dad5b",
    "deepnote_cell_type": "markdown",
    "tags": []
   },
   "source": [
    "These results were pretty close with MinMax scaling, only off by one county, but with Standard Scaler they are not as close. "
   ]
  },
  {
   "cell_type": "code",
   "execution_count": null,
   "metadata": {
    "allow_embed": false,
    "cell_id": "00048-98cf0f51-b041-4b0d-9ab6-9b8b379055d3",
    "deepnote_cell_type": "code",
    "deepnote_output_heights": [
     null,
     341
    ],
    "deepnote_to_be_reexecuted": false,
    "execution_millis": 3290,
    "execution_start": 1643224962414,
    "source_hash": "3438dc68",
    "tags": []
   },
   "outputs": [],
   "source": [
    "#Show K-Means with 5 clusters map\n",
    "kmeans5_chart = alt.Chart(ca_all).mark_geoshape().encode(\n",
    "    tooltip='NAME',\n",
    "    color='kmeans_5_cluster:N'\n",
    ").properties(title='K-Means With 5 Clusters - 2018 Data')\n",
    "kmeans5_chart"
   ]
  },
  {
   "cell_type": "markdown",
   "metadata": {
    "cell_id": "00050-7ce592c6-7b24-4fb8-82cc-41e655113847",
    "deepnote_cell_type": "markdown",
    "tags": []
   },
   "source": [
    "### DBSCAN\n",
    "DBSCAN works well with datasets that have more complex cluster shapes. Clusters represent areas in the data space that are more dense with data points, while being separated by regions that are empty, or at least much less densely populated. This is done using connected components from graph theory. \n",
    "\n",
    "The eps parameter is the maximum distance between two samples for one to be considered as in the neighborhood of the other.\n",
    "\n",
    "The min_samples parameter is the number of samples (or total weight) in a neighborhood for a point to be considered as a core point. This includes the point itself.\n",
    "\n",
    "DBSCAN labels data as noise by setting it's cluster value to -1, so we will need to keep an eye out for this.\n",
    "\n",
    "Also, DBSCAN clustering is not completely deterministic so the results may change over different runs."
   ]
  },
  {
   "cell_type": "code",
   "execution_count": null,
   "metadata": {
    "cell_id": "00051-507c3aa1-1840-4af3-95b5-a2f46452d6ca",
    "deepnote_cell_type": "code",
    "deepnote_output_heights": [
     21.1875
    ],
    "deepnote_to_be_reexecuted": false,
    "execution_millis": 5367049,
    "execution_start": 1643224964823,
    "source_hash": "3756bee0",
    "tags": []
   },
   "outputs": [],
   "source": [
    "#Since our data set is so small, we will go with 2 for min_samples, this means \n",
    "#we need two counties to create a cluster.\n",
    "\n",
    "#Let's check which values of eps work well for our dataset\n",
    "#If values are all -1 then eps is too small and everything is an outlier\n",
    "#If values are all set to 1 cluster than eps is too large\n",
    "\n",
    "for eps in np.linspace(4.1,7.0,30):\n",
    "    dbscan = DBSCAN(eps = eps, min_samples = 2)\n",
    "    cls_dbscan = dbscan.fit_predict(scaled_data)\n",
    "\n",
    "    counter=collections.Counter(cls_dbscan)\n",
    "\n",
    "    print('eps is: ',eps)\n",
    "    print(counter)\n"
   ]
  },
  {
   "cell_type": "markdown",
   "metadata": {
    "cell_id": "00052-6ff819fe-095a-425a-8ee6-e30346871288",
    "deepnote_cell_type": "markdown",
    "tags": []
   },
   "source": [
    "The minmax results were:\n",
    "\n",
    "When eps is 1.4 we get 5 clusters and 12 outliers. \n",
    "\n",
    "When eps is 1.5 we get 4 clusters and 7 outliers.\n",
    "\n",
    "For standar scaler:\n",
    "\n",
    "When eps is 5.9 we get 6 clusters and 16 outliers. \n",
    "\n",
    "When eps is 6.0 we get 4 clusters and 14 outliers.\n",
    "\n",
    "So the maximum distance between two samples for one to be considered as in the neighborhood of the other is almost 4 times as high for standard scaling.\n",
    "\n"
   ]
  },
  {
   "cell_type": "markdown",
   "metadata": {
    "cell_id": "00053-a6e447ca-0c9c-4d52-afe1-1cd04bea8471",
    "deepnote_cell_type": "markdown",
    "tags": []
   },
   "source": [
    "Now, what if we allow clusters to contain just one county? Then there are no outliers, but potentially many clusters. Let's try the same analysis to check for the best eps value"
   ]
  },
  {
   "cell_type": "code",
   "execution_count": null,
   "metadata": {
    "cell_id": "00054-e8f400ca-f735-4059-8182-5f4e8d6f6b9c",
    "deepnote_cell_type": "code",
    "deepnote_to_be_reexecuted": false,
    "execution_millis": 5367049,
    "execution_start": 1643224964826,
    "source_hash": "725de747",
    "tags": []
   },
   "outputs": [],
   "source": [
    "for eps in np.linspace(4.1,7.0,30):\n",
    "    dbscan = DBSCAN(eps = eps, min_samples = 1)\n",
    "    cls_dbscan = dbscan.fit_predict(scaled_data)\n",
    "\n",
    "    counter=collections.Counter(cls_dbscan)\n",
    "\n",
    "    print('eps is: ',eps)\n",
    "    print(counter)\n"
   ]
  },
  {
   "cell_type": "markdown",
   "metadata": {
    "cell_id": "00055-eb56fb1b-d5ab-444d-a4ab-a0b9e50778e4",
    "deepnote_cell_type": "markdown",
    "tags": []
   },
   "source": [
    "If we compare this to the result for min_samples = 1, we see it is the same result for eps of 5.9 and 6.0 except that instead of being called an outlier, counties were created into their own clusters. Let's graph this so we can more easily see each singular county on its own."
   ]
  },
  {
   "cell_type": "code",
   "execution_count": null,
   "metadata": {
    "cell_id": "00056-6d021d93-9da0-4d29-9f24-9f4310f5a1ef",
    "deepnote_cell_type": "code",
    "deepnote_to_be_reexecuted": false,
    "execution_millis": 879,
    "execution_start": 1643224964827,
    "source_hash": "2226eaab",
    "tags": []
   },
   "outputs": [],
   "source": [
    "dbscan_5_9 = DBSCAN(eps = 5.9, min_samples = 1)\n",
    "cls_dbscan_5_9 = dbscan_5_9.fit_predict(scaled_data)\n",
    "\n",
    "county_cluster = list(zip(county_list_mapper, list(cls_dbscan_5_9)))\n",
    "\n",
    "new_df = pd.DataFrame(county_cluster, columns=['county_name', 'dbscan_5_9_cluster'])\n",
    "\n",
    "ca_all = ca_all.merge(new_df, how = 'inner', on = 'county_name')"
   ]
  },
  {
   "cell_type": "code",
   "execution_count": null,
   "metadata": {
    "cell_id": "00057-354ea3fb-6e9a-4d77-ad07-9a68fe729ecd",
    "deepnote_cell_type": "code",
    "deepnote_to_be_reexecuted": false,
    "execution_millis": 5367048,
    "execution_start": 1643224964828,
    "source_hash": "501035c2",
    "tags": []
   },
   "outputs": [],
   "source": [
    "dbscan_6_0 = DBSCAN(eps = 6.0, min_samples = 1)\n",
    "cls_dbscan_6_0 = dbscan_6_0.fit_predict(scaled_data)\n",
    "\n",
    "county_cluster = list(zip(county_list_mapper, list(cls_dbscan_6_0)))\n",
    "\n",
    "new_df = pd.DataFrame(county_cluster, columns=['county_name', 'dbscan_6_0_cluster'])\n",
    "\n",
    "ca_all = ca_all.merge(new_df, how = 'inner', on = 'county_name')"
   ]
  },
  {
   "cell_type": "code",
   "execution_count": null,
   "metadata": {
    "cell_id": "00058-78eea7c9-d3da-467a-aa63-f54f7bbcb62c",
    "deepnote_cell_type": "code",
    "deepnote_output_heights": [
     null,
     341
    ],
    "deepnote_to_be_reexecuted": false,
    "execution_millis": 2030,
    "execution_start": 1643224964836,
    "source_hash": "98ea1272",
    "tags": []
   },
   "outputs": [],
   "source": [
    "#Show DBSCAN with eps = 5.9 cluster map\n",
    "dbscan_5_9_chart = alt.Chart(ca_all).mark_geoshape().encode(\n",
    "    tooltip=['NAME','dbscan_5_9_cluster'],\n",
    "    color='dbscan_5_9_cluster:N'\n",
    ").properties(title='DBSCAN with eps = 5.9 - 2018 Data')\n",
    "dbscan_5_9_chart"
   ]
  },
  {
   "cell_type": "code",
   "execution_count": null,
   "metadata": {
    "cell_id": "00059-e028bddd-cca7-4f39-b5ff-7db4a9bb0ae6",
    "deepnote_cell_type": "code",
    "deepnote_output_heights": [
     null,
     2
    ],
    "deepnote_to_be_reexecuted": false,
    "execution_millis": 908,
    "execution_start": 1643224966153,
    "source_hash": "709ae488",
    "tags": []
   },
   "outputs": [],
   "source": [
    "#Show DBSCAN with eps = 6.0 cluster map\n",
    "dbscan_6_0_chart = alt.Chart(ca_all).mark_geoshape().encode(\n",
    "    tooltip=['NAME','dbscan_6_0_cluster'],\n",
    "    color='dbscan_6_0_cluster:N'\n",
    ").properties(title='DBSCAN with eps = 6.0 - 2018 Data')\n",
    "dbscan_6_0_chart"
   ]
  },
  {
   "cell_type": "markdown",
   "metadata": {
    "cell_id": "00060-9f2c1195-32cf-46be-bdbd-3bad18aa281f",
    "deepnote_cell_type": "markdown",
    "tags": []
   },
   "source": [
    "DBSCAN is providing very different results than our other clustering methods. The data is not being grouped into a number of clusters that is easy to work with, but this may just be the way the data is. If we changed the eps values we would have just created one larger cluster and a bunch of small ones, similar to what we had with minmax scaling"
   ]
  },
  {
   "cell_type": "markdown",
   "metadata": {
    "cell_id": "00061-9e4117ff-830f-492a-af73-f7cac4e12136",
    "deepnote_cell_type": "markdown",
    "tags": []
   },
   "source": [
    "### PCA\n",
    "We are working with a lot of features in California. Maybe this is impacting the ability to create useful clusters. Let's try PCA to help identify the most relevant features and to reduce the dimensionality so we can try clustering again."
   ]
  },
  {
   "cell_type": "code",
   "execution_count": null,
   "metadata": {
    "cell_id": "00062-2edeb87c-ccc0-4cef-a25d-0e4bd44f6bb3",
    "deepnote_cell_type": "code",
    "deepnote_to_be_reexecuted": false,
    "execution_millis": 1,
    "execution_start": 1643225482900,
    "source_hash": "d81a5019",
    "tags": []
   },
   "outputs": [],
   "source": [
    "pca = PCA(2)\n",
    "pca_data = pca.fit_transform(scaled_data)"
   ]
  },
  {
   "cell_type": "markdown",
   "metadata": {
    "cell_id": "00063-bc99060a-fa50-4cb5-b3da-4259ef8fa0e2",
    "deepnote_cell_type": "markdown",
    "tags": []
   },
   "source": [
    "Let's plot and check the variance of the components using a variance ratio plot"
   ]
  },
  {
   "cell_type": "code",
   "execution_count": null,
   "metadata": {
    "cell_id": "00064-28c98903-5b55-419b-96c7-e325546db484",
    "deepnote_cell_type": "code",
    "deepnote_output_heights": [
     577
    ],
    "deepnote_to_be_reexecuted": false,
    "execution_millis": 163,
    "execution_start": 1643225483159,
    "source_hash": "4246a12c",
    "tags": []
   },
   "outputs": [],
   "source": [
    "plt.figure(figsize=(10,10))\n",
    "var = np.round(pca.explained_variance_ratio_*100, decimals = 1)\n",
    "lbls = [str(x) for x in range(1,len(var)+1)]\n",
    "plt.bar(x=range(1,len(var)+1), height = var, tick_label = lbls)\n",
    "plt.show()"
   ]
  },
  {
   "cell_type": "markdown",
   "metadata": {
    "cell_id": "f75d7b3a-4f79-40d9-b0cc-99aefbb02250",
    "deepnote_cell_type": "markdown",
    "tags": []
   },
   "source": [
    "Here with standard scaling our top two components account for about 43% of the variance. This compares to about 47% using minmax scaling. In minmax scaling it was about 30% for PC1 and 17% for PC2. Here, with standard scaling it is about 27% for PC1 and 16% for PC2."
   ]
  },
  {
   "cell_type": "code",
   "execution_count": null,
   "metadata": {
    "cell_id": "00065-ced9d6da-2ccb-487c-9623-96d85c65c421",
    "deepnote_cell_type": "code",
    "deepnote_output_heights": [
     21,
     520
    ],
    "deepnote_to_be_reexecuted": false,
    "execution_millis": 2611,
    "execution_start": 1643224967683,
    "source_hash": "4225116",
    "tags": []
   },
   "outputs": [],
   "source": [
    "#Plot the magnitude of each feature value for the 2 principal components\n",
    "fig, ax = plt.subplots(figsize=(20, 14))\n",
    "plt.imshow(pca.components_[0:2], interpolation = 'none', cmap = 'plasma')\n",
    "feature_names=list(ca_df_columns)\n",
    "plt.xticks(np.arange(-0., len(feature_names), 1) , feature_names, rotation = 90, fontsize=10)\n",
    "plt.yticks(np.arange(0., 2, 1), ['First PC', 'Second PC'], fontsize = 16)\n",
    "plt.colorbar()"
   ]
  },
  {
   "cell_type": "markdown",
   "metadata": {
    "cell_id": "00066-14ba27fe-2eee-4650-a78b-8f643a4e982e",
    "deepnote_cell_type": "markdown",
    "tags": []
   },
   "source": [
    "This is really hard to see horizontally, let's switch the orientation..."
   ]
  },
  {
   "cell_type": "code",
   "execution_count": null,
   "metadata": {
    "cell_id": "00067-fe3eef7e-0439-490c-8ff5-f375dfef67e8",
    "deepnote_cell_type": "code",
    "deepnote_output_heights": [
     21,
     611
    ],
    "deepnote_to_be_reexecuted": false,
    "execution_millis": 7801,
    "execution_start": 1643224970326,
    "source_hash": "80afc5e",
    "tags": []
   },
   "outputs": [],
   "source": [
    "#Plot the magnitude of each feature value for the 2 principal components\n",
    "fig, ax = plt.subplots(figsize=(20, 18))\n",
    "plt.imshow(pca.components_[0:2].T, interpolation = 'none', cmap = 'plasma')\n",
    "feature_names=list(ca_df_columns)\n",
    "plt.yticks(np.arange(-0., len(feature_names), 1) , feature_names, fontsize=10)\n",
    "plt.xticks(np.arange(0., 2, 1), ['First PC', 'Second PC'], rotation = 90, fontsize = 16)\n",
    "plt.colorbar()"
   ]
  },
  {
   "cell_type": "markdown",
   "metadata": {
    "cell_id": "00068-ab35a8d1-a591-4b1b-9bcb-1f5fb7d30b42",
    "deepnote_cell_type": "markdown",
    "tags": []
   },
   "source": [
    "It's kind of hard to use the colors in this plot for actually gauging importance. Let's use the components_ method to find the features that provided the most variance for each of the principle components. Here are the top 10 in principle component 1:"
   ]
  },
  {
   "cell_type": "code",
   "execution_count": null,
   "metadata": {
    "cell_id": "00069-0d7211ec-d7af-419b-8371-ab08c55de4b1",
    "deepnote_cell_type": "code",
    "deepnote_output_heights": [
     213
    ],
    "deepnote_to_be_reexecuted": false,
    "execution_millis": 4909,
    "execution_start": 1643224973219,
    "source_hash": "67aa3801",
    "tags": []
   },
   "outputs": [],
   "source": [
    "pca_df = pd.DataFrame(pca.components_.T, index=ca_df_columns)\n",
    "pca_df['PC-1'] = abs(pca_df[0])\n",
    "pca_df['PC-2'] = abs(pca_df[1])\n",
    "\n",
    "pca_df['PC-1'].nlargest(n=10)"
   ]
  },
  {
   "cell_type": "markdown",
   "metadata": {
    "cell_id": "f384993f-eccf-45ea-8d58-15f07be8a39f",
    "deepnote_cell_type": "markdown",
    "tags": []
   },
   "source": [
    "Here were the top 10 when we used minmax scaling:\n",
    "- coastal_flag                  0.418749\n",
    "- median_home_value             0.234692\n",
    "- median_income                 0.226487\n",
    "- democrat_pct                  0.223904\n",
    "- median_rent                   0.221733\n",
    "- american_independent_pct      0.212750\n",
    "- republican_pct                0.210726\n",
    "- educational_attainment        0.209122\n",
    "- perc_asian                    0.194312\n",
    "- per_capita_personal_income    0.177139\n",
    "\n",
    "Name: PC-1, dtype: float64\n",
    "\n",
    "We can see that these lists share 8 of the top 10 features with the standard scaler additionally having perc_renter and min_temp and minmax additionally having coastal_flag (which was it's top differentiating feature) and per_capita_personal_income"
   ]
  },
  {
   "cell_type": "markdown",
   "metadata": {
    "cell_id": "00070-43cd4dcb-7754-4e5a-8443-aad3b0388c63",
    "deepnote_cell_type": "markdown",
    "tags": []
   },
   "source": [
    "And the top 10 most important features for principle component 2:"
   ]
  },
  {
   "cell_type": "code",
   "execution_count": null,
   "metadata": {
    "cell_id": "00071-8cecfa95-e055-4381-a94b-ea36f0920dc3",
    "deepnote_cell_type": "code",
    "deepnote_output_heights": [
     213
    ],
    "deepnote_to_be_reexecuted": false,
    "execution_millis": 0,
    "execution_start": 1643224973221,
    "source_hash": "33ad0743",
    "tags": []
   },
   "outputs": [],
   "source": [
    "pca_df['PC-2'].nlargest(n=10)"
   ]
  },
  {
   "cell_type": "markdown",
   "metadata": {
    "cell_id": "5284e92f-2491-4557-b915-b23b3b0c763a",
    "deepnote_cell_type": "markdown",
    "tags": []
   },
   "source": [
    "Here were the top 10 for minmax scaling:\n",
    "- perc_65_over                          0.305344\n",
    "- perc_white                            0.280531\n",
    "- perc_hispanic                         0.267534\n",
    "- perc_poverty                          0.236782\n",
    "- per_capita_num_vehicle_theft          0.224521\n",
    "- registered_pct                        0.216603\n",
    "- total_precip_amt                      0.209969\n",
    "- per_capita_nonfarm_proprieter_jobs    0.201346\n",
    "- max_temp                              0.192186\n",
    "- avg_temp                              0.190148\n",
    "\n",
    "Name: PC-2, dtype: float64\n",
    "\n",
    "These lists share 7 of the same features. Additionally minmax has perc_white,per_capita_num_vehicle_theft and total_precip_amt while standard scaler has per_capita_personal_income, educational_attainment, and per_capita_num_jobs"
   ]
  },
  {
   "cell_type": "markdown",
   "metadata": {
    "cell_id": "00072-31a50138-c337-4d39-ac59-336d1eac6dc9",
    "deepnote_cell_type": "markdown",
    "tags": []
   },
   "source": [
    "Here are the 20 features that showed the least variance for PC1. Note that this includes all the FEMA variables except for fire:"
   ]
  },
  {
   "cell_type": "code",
   "execution_count": null,
   "metadata": {
    "cell_id": "00073-32bd4e83-0423-4ad6-b45c-5968c3c56630",
    "deepnote_cell_type": "code",
    "deepnote_output_heights": [
     405
    ],
    "deepnote_to_be_reexecuted": false,
    "execution_millis": 4912,
    "execution_start": 1643224973222,
    "source_hash": "f33bb0cc",
    "tags": []
   },
   "outputs": [],
   "source": [
    "pca_df['PC-1'].nsmallest(n=20)"
   ]
  },
  {
   "cell_type": "markdown",
   "metadata": {
    "cell_id": "00074-1d069c1c-6992-4f71-8304-133e255b415f",
    "deepnote_cell_type": "markdown",
    "tags": []
   },
   "source": [
    "Here are the 20 features that showed the least variance for PC2. This list includes all of the FEMA variables:"
   ]
  },
  {
   "cell_type": "code",
   "execution_count": null,
   "metadata": {
    "cell_id": "00075-274aed8e-af44-466f-9712-1ba1a55d931d",
    "deepnote_cell_type": "code",
    "deepnote_output_heights": [
     405
    ],
    "deepnote_to_be_reexecuted": false,
    "execution_millis": 4836,
    "execution_start": 1643224973298,
    "source_hash": "f64f3b88",
    "tags": []
   },
   "outputs": [],
   "source": [
    "pca_df['PC-2'].nsmallest(n=20)"
   ]
  },
  {
   "cell_type": "markdown",
   "metadata": {
    "cell_id": "00076-4c949de3-bb9b-430b-bc87-0ed85c73487e",
    "deepnote_cell_type": "markdown",
    "tags": []
   },
   "source": [
    "#### Biplot\n",
    "The cosine of the angle between any two variable markers (vectors) is the coefficient of correlation between those variables.\n",
    "Note - this only holds if first two PC capture 80% of variance which is NOT the case here.\n",
    "\n",
    "The cosine of the angle between a vector and the axis for a given PC is the coefficient of correlation between those two variables."
   ]
  },
  {
   "cell_type": "code",
   "execution_count": null,
   "metadata": {
    "cell_id": "00077-7aeb26e5-f6c6-431f-bd9e-dee4aef72c3c",
    "deepnote_cell_type": "code",
    "deepnote_output_heights": [
     null,
     536
    ],
    "deepnote_to_be_reexecuted": false,
    "execution_millis": 4835,
    "execution_start": 1643224973299,
    "source_hash": "74fa1a0c",
    "tags": []
   },
   "outputs": [],
   "source": [
    "#From SIADS 543\n",
    "feature_subset_count = 10\n",
    "\n",
    "### Feel free to use this routine to plot your own biplots!\n",
    "def biplot(score, coeff, maxdim, pcax, pcay, labels=None):\n",
    "    zoom = 0.5\n",
    "    pca1=pcax-1\n",
    "    pca2=pcay-1\n",
    "    xs = score[:,pca1]\n",
    "    ys = score[:,pca2]\n",
    "    n = min(coeff.shape[0], maxdim)\n",
    "    width = 2.0 * zoom\n",
    "    scalex = width/(xs.max()- xs.min())\n",
    "    scaley = width/(ys.max()- ys.min())\n",
    "    text_scale_factor = 1.3\n",
    "        \n",
    "    fig = plt.gcf()\n",
    "    fig.set_size_inches(9, 9)\n",
    "    \n",
    "    plt.scatter(xs*scalex, ys*scaley, s=9)\n",
    "    for i in range(n):\n",
    "        plt.arrow(0, 0, coeff[i,pca1], coeff[i,pca2],\n",
    "                  color='b',alpha=0.9, head_width = 0.03 * zoom) \n",
    "        if labels is None:\n",
    "            plt.text(coeff[i,pca1]* text_scale_factor, \n",
    "                     coeff[i,pca2] * text_scale_factor, \n",
    "                     \"Var\"+str(i+1), color='g', ha='center', va='center')\n",
    "        else:\n",
    "            plt.text(coeff[i,pca1]* text_scale_factor, \n",
    "                     coeff[i,pca2] * text_scale_factor, \n",
    "                     labels[i], color='black', ha='center', va='center')\n",
    "    \n",
    "    plt.xlim(-zoom,zoom)\n",
    "    plt.ylim(-zoom,zoom)\n",
    "    plt.xlabel(\"PC{}\".format(pcax))\n",
    "    plt.ylabel(\"PC{}\".format(pcay))\n",
    "    plt.grid()\n",
    "\n",
    "plt.figure()\n",
    "\n",
    "feature_subset = slice(0, feature_subset_count, 1)\n",
    "\n",
    "biplot(pca_data, np.transpose(pca.components_[0:2, feature_subset]), \n",
    "       feature_subset_count, 1, 2, labels=feature_names[feature_subset])\n",
    "\n",
    "print(\"explained_variance_ratio:\", pca.explained_variance_ratio_)\n",
    "print(\"sum of explained variance ratios:\", np.sum(pca.explained_variance_ratio_))\n",
    "print(\"singular values:\", pca.singular_values_)  \n"
   ]
  },
  {
   "cell_type": "markdown",
   "metadata": {
    "cell_id": "00078-953b6fd6-c8b2-4b7e-aafb-ffcdf3d45407",
    "deepnote_cell_type": "markdown",
    "tags": []
   },
   "source": [
    "### K-Means after PCA\n",
    "\n",
    "Now we will train our model based on the new features generated by PCA"
   ]
  },
  {
   "cell_type": "code",
   "execution_count": null,
   "metadata": {
    "cell_id": "7f2a74db-51c2-4b26-adce-e9ed58c52510",
    "deepnote_cell_type": "code",
    "deepnote_to_be_reexecuted": false,
    "execution_millis": 4334,
    "execution_start": 1643224973807,
    "source_hash": "1440e0d3",
    "tags": []
   },
   "outputs": [],
   "source": [
    "k_range = [*range(2, 19)]\n",
    "\n",
    "#Calculate inertia scores using the default initialization 'k-means++'\n",
    "inertia_scores = []\n",
    "for k in k_range:\n",
    "    kmeans = KMeans(n_clusters=k, random_state=42,init ='k-means++').fit(pca_data)\n",
    "    inertia_scores.append(kmeans.inertia_)\n",
    "    kmeans.fit(scaled_data)\n",
    "    ch_score = metrics.calinski_harabasz_score(scaled_data,kmeans.labels_)\n",
    "    db_score = metrics.davies_bouldin_score(scaled_data,kmeans.labels_)\n",
    "    print('k: {}, ch_score: {}, db_score {} '.format(k,ch_score,db_score))"
   ]
  },
  {
   "cell_type": "markdown",
   "metadata": {
    "cell_id": "c00ef8c8-4541-47e5-8eff-b7bbc69d4773",
    "deepnote_cell_type": "markdown",
    "tags": []
   },
   "source": [
    "Let's try using the elbow method..."
   ]
  },
  {
   "cell_type": "code",
   "execution_count": null,
   "metadata": {
    "cell_id": "09d7edcf-14bb-4b39-97dd-72292d839c69",
    "deepnote_cell_type": "code",
    "deepnote_output_heights": [
     21,
     280
    ],
    "deepnote_to_be_reexecuted": false,
    "execution_millis": 2449,
    "execution_start": 1643224975692,
    "source_hash": "f5681091",
    "tags": []
   },
   "outputs": [],
   "source": [
    "plt.plot(k_range, inertia_scores, '-o')\n",
    "plt.ylabel('SSE')\n",
    "plt.xlabel('Number of clusters (k)')\n",
    "plt.title('The Elbow Method using \"k-means++\" initialization ')"
   ]
  },
  {
   "cell_type": "markdown",
   "metadata": {
    "cell_id": "8c36c013-59fd-4c17-94d6-5dec22c75d81",
    "deepnote_cell_type": "markdown",
    "tags": []
   },
   "source": [
    "As with MinMax scaling, the elbow method is much more pronounced at 3 clusters after PCA on the standard scaler data"
   ]
  },
  {
   "cell_type": "code",
   "execution_count": null,
   "metadata": {
    "cell_id": "52c9a93d-eddd-4760-8e4e-68fbd960428a",
    "deepnote_cell_type": "code",
    "deepnote_to_be_reexecuted": false,
    "execution_millis": 1,
    "execution_start": 1643224976064,
    "source_hash": "9f17c443",
    "tags": []
   },
   "outputs": [],
   "source": [
    "kmeans = KMeans(n_clusters=3, random_state=42,init ='k-means++').fit(pca_data)"
   ]
  },
  {
   "cell_type": "code",
   "execution_count": null,
   "metadata": {
    "cell_id": "00080-1b53db10-4db3-4b3f-9b00-4028abc89ee6",
    "deepnote_cell_type": "code",
    "deepnote_output_heights": [
     591
    ],
    "deepnote_to_be_reexecuted": false,
    "execution_millis": 2075,
    "execution_start": 1643224976066,
    "source_hash": "12fb1beb",
    "tags": []
   },
   "outputs": [],
   "source": [
    "#Let's look at our data labeled by cluster\n",
    "centers = np.array(kmeans.cluster_centers_)\n",
    "#print(centers)\n",
    "\n",
    "pca_label = kmeans.fit_predict(pca_data)\n",
    "plt.figure(figsize=(10,10))\n",
    "uniq = np.unique(pca_label)\n",
    "for i in uniq:\n",
    "   plt.scatter(pca_data[pca_label == i , 0] , pca_data[pca_label == i , 1] , label = i)\n",
    "plt.scatter(centers[:,0], centers[:,1], marker=\"x\", color='k')\n",
    "#This is done to find the centroid for each clusters.\n",
    "plt.legend()\n",
    "plt.xlabel('PC1')\n",
    "plt.ylabel('PC2')\n",
    "plt.show()"
   ]
  },
  {
   "cell_type": "code",
   "execution_count": null,
   "metadata": {
    "cell_id": "00081-81dcf8f0-c599-47c4-848b-c8f5c5fd0f32",
    "deepnote_cell_type": "code",
    "deepnote_output_heights": [
     59.5625
    ],
    "deepnote_to_be_reexecuted": false,
    "execution_millis": 0,
    "execution_start": 1643224978327,
    "source_hash": "385878d",
    "tags": []
   },
   "outputs": [],
   "source": [
    "\n",
    "county_cluster = list(zip(county_list_mapper, list(pca_label)))\n",
    "\n",
    "new_df = pd.DataFrame(county_cluster, columns=['county_name', 'kmeans_pca_cluster'])\n",
    "new_df\n",
    "\n",
    "ca_all = ca_all.merge(new_df, how = 'inner', on = 'county_name')"
   ]
  },
  {
   "cell_type": "code",
   "execution_count": null,
   "metadata": {
    "cell_id": "00082-a01534f0-ce43-4b37-9a7a-b375daa446a3",
    "deepnote_cell_type": "code",
    "deepnote_output_heights": [
     null,
     341
    ],
    "deepnote_to_be_reexecuted": false,
    "execution_millis": 2115,
    "execution_start": 1643226331386,
    "source_hash": "12377bc",
    "tags": []
   },
   "outputs": [],
   "source": [
    "#Show K-Means after PCA clusters map\n",
    "kmeans_pca_chart = alt.Chart(ca_all).mark_geoshape().encode(\n",
    "    tooltip='NAME',\n",
    "    color='kmeans_pca_cluster:N'\n",
    ").properties(title='K-Means With 3 Clusters on PCA Results - Standard Scaler - 2018 Data')\n",
    "kmeans_pca_chart"
   ]
  },
  {
   "cell_type": "markdown",
   "metadata": {
    "cell_id": "00083-7b51ed8d-fcca-4003-bb9e-dcf02ce372ff",
    "deepnote_cell_type": "markdown",
    "tags": []
   },
   "source": []
  },
  {
   "cell_type": "markdown",
   "metadata": {
    "cell_id": "a3f272ea-5c4d-4104-92c4-87bf9b80e999",
    "deepnote_cell_type": "markdown",
    "tags": []
   },
   "source": [
    "Let's see how this compares to our prior K-means before PCA"
   ]
  },
  {
   "cell_type": "code",
   "execution_count": null,
   "metadata": {
    "cell_id": "c9ff8261-6599-4526-8b0c-da035b1c5dfc",
    "deepnote_cell_type": "code",
    "deepnote_output_heights": [
     null,
     341
    ],
    "deepnote_to_be_reexecuted": false,
    "execution_millis": 1596,
    "execution_start": 1643224978687,
    "source_hash": "2e4830e0",
    "tags": []
   },
   "outputs": [],
   "source": [
    "kmeans3_chart"
   ]
  },
  {
   "cell_type": "markdown",
   "metadata": {
    "cell_id": "521756c6-1bdf-404e-9909-35eb2e9059a3",
    "deepnote_cell_type": "markdown",
    "tags": []
   },
   "source": [
    "Write out data containing cluster assignments to be used for additional analysis"
   ]
  },
  {
   "cell_type": "code",
   "execution_count": null,
   "metadata": {
    "cell_id": "2148b027-1251-4488-bee4-9f645c85fb0c",
    "deepnote_cell_type": "code",
    "deepnote_to_be_reexecuted": false,
    "execution_millis": 2945,
    "execution_start": 1643224980095,
    "source_hash": "22bc7eab",
    "tags": []
   },
   "outputs": [],
   "source": []
  },
  {
   "cell_type": "markdown",
   "metadata": {
    "created_in_deepnote_cell": true,
    "deepnote_cell_type": "markdown",
    "tags": []
   },
   "source": [
    "<a style='text-decoration:none;line-height:16px;display:flex;color:#5B5B62;padding:10px;justify-content:end;' href='https://deepnote.com?utm_source=created-in-deepnote-cell&projectId=f6c76417-5fde-42f3-8920-755838dec3fa' target=\"_blank\">\n",
    "<img alt='Created in deepnote.com' style='display:inline;max-height:16px;margin:0px;margin-right:7.5px;' src='data:image/svg+xml;base64,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' > </img>\n",
    "Created in <span style='font-weight:600;margin-left:4px;'>Deepnote</span></a>"
   ]
  }
 ],
 "metadata": {
  "deepnote": {
   "is_reactive": false
  },
  "deepnote_execution_queue": [],
  "deepnote_notebook_id": "0e6f56ba-209b-4cab-8f85-a392d5c1b538"
 },
 "nbformat": 4,
 "nbformat_minor": 2
}
