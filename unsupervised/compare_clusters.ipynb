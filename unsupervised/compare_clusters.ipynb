{
 "cells": [
  {
   "cell_type": "code",
   "metadata": {
    "tags": [],
    "cell_id": "5db9f76c-0b8a-4704-bdc8-f97d5428fa95",
    "deepnote_to_be_reexecuted": false,
    "source_hash": "9472446a",
    "execution_start": 1643547419685,
    "execution_millis": 1863,
    "deepnote_cell_type": "code"
   },
   "source": "import pandas as pd\nfrom scipy import stats\nimport altair as alt\nimport seaborn as sns",
   "execution_count": null,
   "outputs": []
  },
  {
   "cell_type": "code",
   "metadata": {
    "cell_id": "ed614824-4979-4b46-ad80-ceedd52bcd94",
    "tags": [],
    "deepnote_to_be_reexecuted": false,
    "source_hash": "7ae33a0a",
    "execution_start": 1643547421557,
    "execution_millis": 99,
    "deepnote_output_heights": [
     520.390625
    ],
    "deepnote_cell_type": "code"
   },
   "source": "cluster_df = pd.read_csv('/work/output/ca_unsupervised_min_max.csv')\ncluster_df = cluster_df[['COUNTYFP','STATEFP','kmeans_pca_cluster']]\n\nca_df = pd.read_csv('/work/cleaned-csvs/ca_counties_full_dataset.csv')\nca_df=ca_df[ca_df['year']==2018]\ncluster_df.head()",
   "execution_count": null,
   "outputs": [
    {
     "output_type": "execute_result",
     "execution_count": 2,
     "data": {
      "application/vnd.deepnote.dataframe.v3+json": {
       "column_count": 3,
       "row_count": 5,
       "columns": [
        {
         "name": "COUNTYFP",
         "dtype": "int64",
         "stats": {
          "unique_count": 5,
          "nan_count": 0,
          "min": "9",
          "max": "111",
          "histogram": [
           {
            "bin_start": 9,
            "bin_end": 19.2,
            "count": 1
           },
           {
            "bin_start": 19.2,
            "bin_end": 29.4,
            "count": 0
           },
           {
            "bin_start": 29.4,
            "bin_end": 39.599999999999994,
            "count": 0
           },
           {
            "bin_start": 39.599999999999994,
            "bin_end": 49.8,
            "count": 0
           },
           {
            "bin_start": 49.8,
            "bin_end": 60,
            "count": 0
           },
           {
            "bin_start": 60,
            "bin_end": 70.19999999999999,
            "count": 1
           },
           {
            "bin_start": 70.19999999999999,
            "bin_end": 80.39999999999999,
            "count": 0
           },
           {
            "bin_start": 80.39999999999999,
            "bin_end": 90.6,
            "count": 1
           },
           {
            "bin_start": 90.6,
            "bin_end": 100.8,
            "count": 1
           },
           {
            "bin_start": 100.8,
            "bin_end": 111,
            "count": 1
           }
          ]
         }
        },
        {
         "name": "STATEFP",
         "dtype": "int64",
         "stats": {
          "unique_count": 1,
          "nan_count": 0,
          "min": "6",
          "max": "6",
          "histogram": [
           {
            "bin_start": 5.5,
            "bin_end": 5.6,
            "count": 0
           },
           {
            "bin_start": 5.6,
            "bin_end": 5.7,
            "count": 0
           },
           {
            "bin_start": 5.7,
            "bin_end": 5.8,
            "count": 0
           },
           {
            "bin_start": 5.8,
            "bin_end": 5.9,
            "count": 0
           },
           {
            "bin_start": 5.9,
            "bin_end": 6,
            "count": 0
           },
           {
            "bin_start": 6,
            "bin_end": 6.1,
            "count": 5
           },
           {
            "bin_start": 6.1,
            "bin_end": 6.2,
            "count": 0
           },
           {
            "bin_start": 6.2,
            "bin_end": 6.3,
            "count": 0
           },
           {
            "bin_start": 6.3,
            "bin_end": 6.4,
            "count": 0
           },
           {
            "bin_start": 6.4,
            "bin_end": 6.5,
            "count": 0
           }
          ]
         }
        },
        {
         "name": "kmeans_pca_cluster",
         "dtype": "int64",
         "stats": {
          "unique_count": 3,
          "nan_count": 0,
          "min": "0",
          "max": "2",
          "histogram": [
           {
            "bin_start": 0,
            "bin_end": 0.2,
            "count": 1
           },
           {
            "bin_start": 0.2,
            "bin_end": 0.4,
            "count": 0
           },
           {
            "bin_start": 0.4,
            "bin_end": 0.6000000000000001,
            "count": 0
           },
           {
            "bin_start": 0.6000000000000001,
            "bin_end": 0.8,
            "count": 0
           },
           {
            "bin_start": 0.8,
            "bin_end": 1,
            "count": 0
           },
           {
            "bin_start": 1,
            "bin_end": 1.2000000000000002,
            "count": 2
           },
           {
            "bin_start": 1.2000000000000002,
            "bin_end": 1.4000000000000001,
            "count": 0
           },
           {
            "bin_start": 1.4000000000000001,
            "bin_end": 1.6,
            "count": 0
           },
           {
            "bin_start": 1.6,
            "bin_end": 1.8,
            "count": 0
           },
           {
            "bin_start": 1.8,
            "bin_end": 2,
            "count": 2
           }
          ]
         }
        },
        {
         "name": "_deepnote_index_column",
         "dtype": "int64"
        }
       ],
       "rows": [
        {
         "COUNTYFP": 91,
         "STATEFP": 6,
         "kmeans_pca_cluster": 1,
         "_deepnote_index_column": 0
        },
        {
         "COUNTYFP": 67,
         "STATEFP": 6,
         "kmeans_pca_cluster": 0,
         "_deepnote_index_column": 1
        },
        {
         "COUNTYFP": 83,
         "STATEFP": 6,
         "kmeans_pca_cluster": 2,
         "_deepnote_index_column": 2
        },
        {
         "COUNTYFP": 9,
         "STATEFP": 6,
         "kmeans_pca_cluster": 1,
         "_deepnote_index_column": 3
        },
        {
         "COUNTYFP": 111,
         "STATEFP": 6,
         "kmeans_pca_cluster": 2,
         "_deepnote_index_column": 4
        }
       ]
      },
      "text/plain": "   COUNTYFP  STATEFP  kmeans_pca_cluster\n0        91        6                   1\n1        67        6                   0\n2        83        6                   2\n3         9        6                   1\n4       111        6                   2",
      "text/html": "<div>\n<style scoped>\n    .dataframe tbody tr th:only-of-type {\n        vertical-align: middle;\n    }\n\n    .dataframe tbody tr th {\n        vertical-align: top;\n    }\n\n    .dataframe thead th {\n        text-align: right;\n    }\n</style>\n<table border=\"1\" class=\"dataframe\">\n  <thead>\n    <tr style=\"text-align: right;\">\n      <th></th>\n      <th>COUNTYFP</th>\n      <th>STATEFP</th>\n      <th>kmeans_pca_cluster</th>\n    </tr>\n  </thead>\n  <tbody>\n    <tr>\n      <th>0</th>\n      <td>91</td>\n      <td>6</td>\n      <td>1</td>\n    </tr>\n    <tr>\n      <th>1</th>\n      <td>67</td>\n      <td>6</td>\n      <td>0</td>\n    </tr>\n    <tr>\n      <th>2</th>\n      <td>83</td>\n      <td>6</td>\n      <td>2</td>\n    </tr>\n    <tr>\n      <th>3</th>\n      <td>9</td>\n      <td>6</td>\n      <td>1</td>\n    </tr>\n    <tr>\n      <th>4</th>\n      <td>111</td>\n      <td>6</td>\n      <td>2</td>\n    </tr>\n  </tbody>\n</table>\n</div>"
     },
     "metadata": {}
    }
   ]
  },
  {
   "cell_type": "code",
   "metadata": {
    "cell_id": "7336994d-a204-4af5-ace4-4b86cff0cf36",
    "tags": [],
    "deepnote_to_be_reexecuted": false,
    "source_hash": "cb4eccb3",
    "execution_start": 1643547421657,
    "execution_millis": 17,
    "deepnote_cell_type": "code"
   },
   "source": "df = pd.merge(cluster_df,ca_df,left_on=['COUNTYFP','STATEFP'], right_on=['county','state'])",
   "execution_count": null,
   "outputs": []
  },
  {
   "cell_type": "markdown",
   "source": "Statistical significance? After performing a PCA analysis to reduce our 70+ variables to two, Kim performed a k-means clustering and found three distinct (and interesting) clusters. We’d like to examine the features of these clusters and Kim already analyzed them with a biplot. I also just calculated the mean for each cluster for the top 10 most variable features in our pca. A screenshot of some is attached.\n\nWe're curious if these are statistically significantly different. We'd like to run a two-tailed t-test to compare the distributions for these 10 features. For example, we could compare the distribution of perc. over 65 for cluster one against the total distribution of percent over 65 for both cluster 0 and 2. \n\nIf a t-test were appropriate, we would set alpha = 0.05/30. Since we’re making multiple comparisons (30), it seemed logical that the Bonferroni correction could apply here. I know this increases the possibility of type II error and is often considered too conservative. \n\nWe ultimately didn't include this in the report because likely the t-test assumptions fail to hold, but with more time we'd explore bootstrapping to try to answer similar questions.\n",
   "metadata": {
    "cell_id": "32a4012c-1e50-4559-99dd-3ae8a627c4ed",
    "tags": [],
    "deepnote_cell_type": "markdown"
   }
  },
  {
   "cell_type": "code",
   "metadata": {
    "cell_id": "032bc9fc-183b-4264-b2c2-9e80e90f9247",
    "tags": [],
    "deepnote_to_be_reexecuted": false,
    "source_hash": "93b7deef",
    "execution_start": 1643547421677,
    "execution_millis": 15,
    "deepnote_output_heights": [
     539.59375
    ],
    "deepnote_cell_type": "code"
   },
   "source": "\ndf_0=df[df['kmeans_pca_cluster']==0]\ndf_1=df[df['kmeans_pca_cluster']==1]\ndf_2=df[df['kmeans_pca_cluster']==2]\n",
   "execution_count": null,
   "outputs": []
  },
  {
   "cell_type": "code",
   "metadata": {
    "cell_id": "0de3ca85-3133-41b4-a6f7-6c8e140b3e9c",
    "tags": [],
    "deepnote_to_be_reexecuted": false,
    "source_hash": "6469310e",
    "execution_start": 1643547421705,
    "execution_millis": 117,
    "deepnote_cell_type": "code"
   },
   "source": "col = ['perc_65_over', 'perc_white', 'perc_hispanic','perc_poverty','per_capita_num_vehicle_theft',\n'coastal_flag','median_home_value','median_income','democrat_pct','median_rent']\n\n# median_home_value             0.234739\n# median_income                 0.226722\n# democrat_pct                  0.224378\n# median_rent                   0.221641\n# american_independent_pct      0.213186\n# republican_pct                0.211032\n# educational_attainment        0.209305\n# perc_asian                    0.194298\n# per_capita_personal_income \nfor num in range(0,3):\n    df_not = df[df['kmeans_pca_cluster']!=num]\n    df_num=df[df['kmeans_pca_cluster']==num]\n    for val in col:\n        print(num)\n        print(val)    \n        t_value,p_value=stats.ttest_ind(df_num[val],df_not[val])\n\n        print('Test statistic is %f'%float(\"{:.6f}\".format(t_value)))\n\n        print('p-value for two tailed test is %f'%p_value)\n\n        alpha = 0.05/30\n\n        if p_value<=alpha:\n\n            print('Conclusion','n','Since p-value(=%f)'%p_value,'<','alpha(=%.2f)'%alpha,'''We reject the null hypothesis H0 at %.2f level of significance.'''%alpha)\n\n        else:\n\n            print('Conclusion','n','Since p-value(=%f)'%p_value,'>','alpha(=%.2f)'%alpha,'''We do not reject the null hypothesis H0.''')\n",
   "execution_count": null,
   "outputs": [
    {
     "name": "stdout",
     "text": "0\nperc_65_over\nTest statistic is -5.552221\np-value for two tailed test is 0.000001\nConclusion n Since p-value(=0.000001) < alpha(=0.00) We reject the null hypothesis H0 at 0.00 level of significance.\n0\nperc_white\nTest statistic is -5.339776\np-value for two tailed test is 0.000002\nConclusion n Since p-value(=0.000002) < alpha(=0.00) We reject the null hypothesis H0 at 0.00 level of significance.\n0\nperc_hispanic\nTest statistic is 6.587511\np-value for two tailed test is 0.000000\nConclusion n Since p-value(=0.000000) < alpha(=0.00) We reject the null hypothesis H0 at 0.00 level of significance.\n0\nperc_poverty\nTest statistic is 4.359990\np-value for two tailed test is 0.000056\nConclusion n Since p-value(=0.000056) < alpha(=0.00) We reject the null hypothesis H0 at 0.00 level of significance.\n0\nper_capita_num_vehicle_theft\nTest statistic is 3.234259\np-value for two tailed test is 0.002048\nConclusion n Since p-value(=0.002048) > alpha(=0.00) We do not reject the null hypothesis H0.\n0\ncoastal_flag\nTest statistic is -4.151443\np-value for two tailed test is 0.000114\nConclusion n Since p-value(=0.000114) < alpha(=0.00) We reject the null hypothesis H0 at 0.00 level of significance.\n0\nmedian_home_value\nTest statistic is -2.757028\np-value for two tailed test is 0.007860\nConclusion n Since p-value(=0.007860) > alpha(=0.00) We do not reject the null hypothesis H0.\n0\nmedian_income\nTest statistic is -2.331327\np-value for two tailed test is 0.023360\nConclusion n Since p-value(=0.023360) > alpha(=0.00) We do not reject the null hypothesis H0.\n0\ndemocrat_pct\nTest statistic is -0.583193\np-value for two tailed test is 0.562104\nConclusion n Since p-value(=0.562104) > alpha(=0.00) We do not reject the null hypothesis H0.\n0\nmedian_rent\nTest statistic is -2.461519\np-value for two tailed test is 0.016941\nConclusion n Since p-value(=0.016941) > alpha(=0.00) We do not reject the null hypothesis H0.\n1\nperc_65_over\nTest statistic is 8.617766\np-value for two tailed test is 0.000000\nConclusion n Since p-value(=0.000000) < alpha(=0.00) We reject the null hypothesis H0 at 0.00 level of significance.\n1\nperc_white\nTest statistic is 11.500386\np-value for two tailed test is 0.000000\nConclusion n Since p-value(=0.000000) < alpha(=0.00) We reject the null hypothesis H0 at 0.00 level of significance.\n1\nperc_hispanic\nTest statistic is -7.429590\np-value for two tailed test is 0.000000\nConclusion n Since p-value(=0.000000) < alpha(=0.00) We reject the null hypothesis H0 at 0.00 level of significance.\n1\nperc_poverty\nTest statistic is 0.558042\np-value for two tailed test is 0.579040\nConclusion n Since p-value(=0.579040) > alpha(=0.00) We do not reject the null hypothesis H0.\n1\nper_capita_num_vehicle_theft\nTest statistic is -3.645206\np-value for two tailed test is 0.000586\nConclusion n Since p-value(=0.000586) < alpha(=0.00) We reject the null hypothesis H0 at 0.00 level of significance.\n1\ncoastal_flag\nTest statistic is -3.176237\np-value for two tailed test is 0.002427\nConclusion n Since p-value(=0.002427) > alpha(=0.00) We do not reject the null hypothesis H0.\n1\nmedian_home_value\nTest statistic is -3.846144\np-value for two tailed test is 0.000309\nConclusion n Since p-value(=0.000309) < alpha(=0.00) We reject the null hypothesis H0 at 0.00 level of significance.\n1\nmedian_income\nTest statistic is -3.850387\np-value for two tailed test is 0.000305\nConclusion n Since p-value(=0.000305) < alpha(=0.00) We reject the null hypothesis H0 at 0.00 level of significance.\n1\ndemocrat_pct\nTest statistic is -5.004003\np-value for two tailed test is 0.000006\nConclusion n Since p-value(=0.000006) < alpha(=0.00) We reject the null hypothesis H0 at 0.00 level of significance.\n1\nmedian_rent\nTest statistic is -4.286644\np-value for two tailed test is 0.000072\nConclusion n Since p-value(=0.000072) < alpha(=0.00) We reject the null hypothesis H0 at 0.00 level of significance.\n2\nperc_65_over\nTest statistic is -1.624357\np-value for two tailed test is 0.109916\nConclusion n Since p-value(=0.109916) > alpha(=0.00) We do not reject the null hypothesis H0.\n2\nperc_white\nTest statistic is -2.481739\np-value for two tailed test is 0.016101\nConclusion n Since p-value(=0.016101) > alpha(=0.00) We do not reject the null hypothesis H0.\n2\nperc_hispanic\nTest statistic is 0.713163\np-value for two tailed test is 0.478706\nConclusion n Since p-value(=0.478706) > alpha(=0.00) We do not reject the null hypothesis H0.\n2\nperc_poverty\nTest statistic is -5.244861\np-value for two tailed test is 0.000002\nConclusion n Since p-value(=0.000002) < alpha(=0.00) We reject the null hypothesis H0 at 0.00 level of significance.\n2\nper_capita_num_vehicle_theft\nTest statistic is 0.545540\np-value for two tailed test is 0.587548\nConclusion n Since p-value(=0.587548) > alpha(=0.00) We do not reject the null hypothesis H0.\n2\ncoastal_flag\nTest statistic is 14.640520\np-value for two tailed test is 0.000000\nConclusion n Since p-value(=0.000000) < alpha(=0.00) We reject the null hypothesis H0 at 0.00 level of significance.\n2\nmedian_home_value\nTest statistic is 10.862225\np-value for two tailed test is 0.000000\nConclusion n Since p-value(=0.000000) < alpha(=0.00) We reject the null hypothesis H0 at 0.00 level of significance.\n2\nmedian_income\nTest statistic is 9.219384\np-value for two tailed test is 0.000000\nConclusion n Since p-value(=0.000000) < alpha(=0.00) We reject the null hypothesis H0 at 0.00 level of significance.\n2\ndemocrat_pct\nTest statistic is 6.648990\np-value for two tailed test is 0.000000\nConclusion n Since p-value(=0.000000) < alpha(=0.00) We reject the null hypothesis H0 at 0.00 level of significance.\n2\nmedian_rent\nTest statistic is 11.267133\np-value for two tailed test is 0.000000\nConclusion n Since p-value(=0.000000) < alpha(=0.00) We reject the null hypothesis H0 at 0.00 level of significance.\n",
     "output_type": "stream"
    }
   ]
  },
  {
   "cell_type": "code",
   "metadata": {
    "cell_id": "d00fa627-ca38-4958-a1de-b1ebfbbaa153",
    "tags": [],
    "deepnote_to_be_reexecuted": false,
    "source_hash": "9de255bf",
    "execution_start": 1643547421890,
    "execution_millis": 297,
    "deepnote_output_heights": [
     268
    ],
    "deepnote_cell_type": "code"
   },
   "source": "\nax = sns.violinplot(x='kmeans_pca_cluster', y='perc_65_over', data=df)",
   "execution_count": null,
   "outputs": [
    {
     "data": {
      "text/plain": "<Figure size 432x288 with 1 Axes>",
      "image/png": "[encoded data removed]"
     },
     "metadata": {
      "needs_background": "light",
      "image/png": {
       "width": 393,
       "height": 266
      }
     },
     "output_type": "display_data"
    }
   ]
  },
  {
   "cell_type": "code",
   "metadata": {
    "cell_id": "147f55ff-82fd-436e-8039-9d238ec42842",
    "tags": [],
    "deepnote_to_be_reexecuted": false,
    "source_hash": "61e666b0",
    "execution_start": 1643548814346,
    "execution_millis": 4,
    "deepnote_output_heights": [
     1
    ],
    "deepnote_cell_type": "code"
   },
   "source": "df['kmeans_pca_cluster'] =df['kmeans_pca_cluster'].apply(str)",
   "execution_count": null,
   "outputs": []
  },
  {
   "cell_type": "code",
   "metadata": {
    "cell_id": "b3690ff1-1b53-4c6d-8827-0de22876e125",
    "tags": [],
    "deepnote_to_be_reexecuted": false,
    "source_hash": "928a46a6",
    "execution_start": 1643548818865,
    "execution_millis": 236,
    "deepnote_output_heights": [
     265
    ],
    "deepnote_cell_type": "code"
   },
   "source": "\nax = sns.boxplot(y='kmeans_pca_cluster', x='perc_65_over', data=df, width=0.2,orient='horiz')\n",
   "execution_count": null,
   "outputs": [
    {
     "data": {
      "text/plain": "<Figure size 432x288 with 1 Axes>",
      "image/png": "[encoded data removed]"
     },
     "metadata": {
      "needs_background": "light",
      "image/png": {
       "width": 390,
       "height": 263
      }
     },
     "output_type": "display_data"
    }
   ]
  },
  {
   "cell_type": "code",
   "metadata": {
    "cell_id": "7d85aca5-5b0e-4b82-abb2-6b4afd41dc29",
    "tags": [],
    "deepnote_to_be_reexecuted": false,
    "source_hash": "553db143",
    "execution_start": 1643549245862,
    "execution_millis": 272,
    "deepnote_output_heights": [
     21.1875,
     215
    ],
    "deepnote_cell_type": "code"
   },
   "source": "my_pal = {\"0\": '#2596be', \"1\": \"#e28743\", \"2\":\"r\"}\n\ndef box_plot1(category):\n    sns.set(rc={'figure.figsize':(7,3)})\n    ax = sns.boxplot(y='kmeans_pca_cluster', x=category, data=df, width=0.2,orient='horiz',\n    palette=my_pal)\n    ax.ticklabel_format(style='plain', axis='x')\n    return ax\n\nbox_plot1('median_home_value')\n",
   "execution_count": null,
   "outputs": [
    {
     "output_type": "execute_result",
     "execution_count": 35,
     "data": {
      "text/plain": "<AxesSubplot:xlabel='median_home_value', ylabel='kmeans_pca_cluster'>"
     },
     "metadata": {}
    },
    {
     "data": {
      "text/plain": "<Figure size 504x216 with 1 Axes>",
      "image/png": "[encoded data removed]"
     },
     "metadata": {
      "image/png": {
       "width": 442,
       "height": 213
      }
     },
     "output_type": "display_data"
    }
   ]
  },
  {
   "cell_type": "code",
   "metadata": {
    "cell_id": "01177b70-f8f9-4a8c-ae25-33d68fe9afba",
    "tags": [],
    "deepnote_to_be_reexecuted": false,
    "source_hash": "5a9e5177",
    "execution_start": 1643549338413,
    "execution_millis": 348,
    "deepnote_output_heights": [
     21.1875,
     215
    ],
    "deepnote_cell_type": "code"
   },
   "source": "box_plot1('perc_65_over')",
   "execution_count": null,
   "outputs": [
    {
     "output_type": "execute_result",
     "execution_count": 37,
     "data": {
      "text/plain": "<AxesSubplot:xlabel='perc_65_over', ylabel='kmeans_pca_cluster'>"
     },
     "metadata": {}
    },
    {
     "data": {
      "text/plain": "<Figure size 504x216 with 1 Axes>",
      "image/png": "[encoded data removed]"
     },
     "metadata": {
      "image/png": {
       "width": 453,
       "height": 213
      }
     },
     "output_type": "display_data"
    }
   ]
  },
  {
   "cell_type": "code",
   "metadata": {
    "cell_id": "2d0ccdbc-868b-425d-bc91-f5d9111a975b",
    "tags": [],
    "deepnote_to_be_reexecuted": false,
    "source_hash": "8eb54fd4",
    "execution_start": 1643547422748,
    "execution_millis": 0,
    "deepnote_output_heights": [
     611
    ],
    "deepnote_cell_type": "code"
   },
   "source": "col.append('kmeans_pca_cluster')\n",
   "execution_count": null,
   "outputs": []
  },
  {
   "cell_type": "code",
   "metadata": {
    "cell_id": "31cace85-0b7e-4b5e-b07b-8a42f2e2354d",
    "tags": [],
    "deepnote_to_be_reexecuted": false,
    "source_hash": "3fcc29ba",
    "execution_start": 1643547422748,
    "execution_millis": 424,
    "deepnote_cell_type": "code"
   },
   "source": "\ndf_stats = df[col].groupby('kmeans_pca_cluster').mean(col)\npd.options.display.float_format = \"{:,.2f}\".format\n\ndf_stats",
   "execution_count": null,
   "outputs": [
    {
     "output_type": "execute_result",
     "execution_count": 10,
     "data": {
      "application/vnd.deepnote.dataframe.v3+json": {
       "column_count": 10,
       "row_count": 3,
       "columns": [
        {
         "name": "perc_65_over",
         "dtype": "float64",
         "stats": {
          "unique_count": 3,
          "nan_count": 0,
          "min": "0.12783663156911926",
          "max": "0.2255117119264182",
          "histogram": [
           {
            "bin_start": 0.12783663156911926,
            "bin_end": 0.13760413960484916,
            "count": 1
           },
           {
            "bin_start": 0.13760413960484916,
            "bin_end": 0.14737164764057906,
            "count": 0
           },
           {
            "bin_start": 0.14737164764057906,
            "bin_end": 0.15713915567630893,
            "count": 0
           },
           {
            "bin_start": 0.15713915567630893,
            "bin_end": 0.16690666371203883,
            "count": 1
           },
           {
            "bin_start": 0.16690666371203883,
            "bin_end": 0.17667417174776873,
            "count": 0
           },
           {
            "bin_start": 0.17667417174776873,
            "bin_end": 0.18644167978349863,
            "count": 0
           },
           {
            "bin_start": 0.18644167978349863,
            "bin_end": 0.19620918781922853,
            "count": 0
           },
           {
            "bin_start": 0.19620918781922853,
            "bin_end": 0.20597669585495842,
            "count": 0
           },
           {
            "bin_start": 0.20597669585495842,
            "bin_end": 0.21574420389068832,
            "count": 0
           },
           {
            "bin_start": 0.21574420389068832,
            "bin_end": 0.2255117119264182,
            "count": 1
           }
          ]
         }
        },
        {
         "name": "perc_white",
         "dtype": "float64",
         "stats": {
          "unique_count": 3,
          "nan_count": 0,
          "min": "0.3554058372236776",
          "max": "0.7423884494051589",
          "histogram": [
           {
            "bin_start": 0.3554058372236776,
            "bin_end": 0.3941040984418257,
            "count": 1
           },
           {
            "bin_start": 0.3941040984418257,
            "bin_end": 0.4328023596599738,
            "count": 0
           },
           {
            "bin_start": 0.4328023596599738,
            "bin_end": 0.471500620878122,
            "count": 1
           },
           {
            "bin_start": 0.471500620878122,
            "bin_end": 0.5101988820962702,
            "count": 0
           },
           {
            "bin_start": 0.5101988820962702,
            "bin_end": 0.5488971433144183,
            "count": 0
           },
           {
            "bin_start": 0.5488971433144183,
            "bin_end": 0.5875954045325664,
            "count": 0
           },
           {
            "bin_start": 0.5875954045325664,
            "bin_end": 0.6262936657507145,
            "count": 0
           },
           {
            "bin_start": 0.6262936657507145,
            "bin_end": 0.6649919269688627,
            "count": 0
           },
           {
            "bin_start": 0.6649919269688627,
            "bin_end": 0.7036901881870108,
            "count": 0
           },
           {
            "bin_start": 0.7036901881870108,
            "bin_end": 0.7423884494051589,
            "count": 1
           }
          ]
         }
        },
        {
         "name": "perc_hispanic",
         "dtype": "float64",
         "stats": {
          "unique_count": 3,
          "nan_count": 0,
          "min": "0.14886925382492286",
          "max": "0.4934585518045503",
          "histogram": [
           {
            "bin_start": 0.14886925382492286,
            "bin_end": 0.1833281836228856,
            "count": 1
           },
           {
            "bin_start": 0.1833281836228856,
            "bin_end": 0.21778711342084833,
            "count": 0
           },
           {
            "bin_start": 0.21778711342084833,
            "bin_end": 0.25224604321881106,
            "count": 0
           },
           {
            "bin_start": 0.25224604321881106,
            "bin_end": 0.28670497301677383,
            "count": 0
           },
           {
            "bin_start": 0.28670497301677383,
            "bin_end": 0.3211639028147366,
            "count": 0
           },
           {
            "bin_start": 0.3211639028147366,
            "bin_end": 0.35562283261269934,
            "count": 1
           },
           {
            "bin_start": 0.35562283261269934,
            "bin_end": 0.39008176241066206,
            "count": 0
           },
           {
            "bin_start": 0.39008176241066206,
            "bin_end": 0.4245406922086248,
            "count": 0
           },
           {
            "bin_start": 0.4245406922086248,
            "bin_end": 0.4589996220065875,
            "count": 0
           },
           {
            "bin_start": 0.4589996220065875,
            "bin_end": 0.4934585518045503,
            "count": 1
           }
          ]
         }
        },
        {
         "name": "perc_poverty",
         "dtype": "float64",
         "stats": {
          "unique_count": 3,
          "nan_count": 0,
          "min": "0.0968318475339288",
          "max": "0.1749338505460949",
          "histogram": [
           {
            "bin_start": 0.0968318475339288,
            "bin_end": 0.10464204783514541,
            "count": 1
           },
           {
            "bin_start": 0.10464204783514541,
            "bin_end": 0.11245224813636202,
            "count": 0
           },
           {
            "bin_start": 0.11245224813636202,
            "bin_end": 0.12026244843757863,
            "count": 0
           },
           {
            "bin_start": 0.12026244843757863,
            "bin_end": 0.12807264873879523,
            "count": 0
           },
           {
            "bin_start": 0.12807264873879523,
            "bin_end": 0.13588284904001185,
            "count": 0
           },
           {
            "bin_start": 0.13588284904001185,
            "bin_end": 0.14369304934122845,
            "count": 1
           },
           {
            "bin_start": 0.14369304934122845,
            "bin_end": 0.15150324964244505,
            "count": 0
           },
           {
            "bin_start": 0.15150324964244505,
            "bin_end": 0.15931344994366167,
            "count": 0
           },
           {
            "bin_start": 0.15931344994366167,
            "bin_end": 0.1671236502448783,
            "count": 0
           },
           {
            "bin_start": 0.1671236502448783,
            "bin_end": 0.1749338505460949,
            "count": 1
           }
          ]
         }
        },
        {
         "name": "per_capita_num_vehicle_theft",
         "dtype": "float64",
         "stats": {
          "unique_count": 3,
          "nan_count": 0,
          "min": "0.0022036171662490785",
          "max": "0.004005318764159089",
          "histogram": [
           {
            "bin_start": 0.0022036171662490785,
            "bin_end": 0.0023837873260400795,
            "count": 1
           },
           {
            "bin_start": 0.0023837873260400795,
            "bin_end": 0.0025639574858310806,
            "count": 0
           },
           {
            "bin_start": 0.0025639574858310806,
            "bin_end": 0.0027441276456220817,
            "count": 0
           },
           {
            "bin_start": 0.0027441276456220817,
            "bin_end": 0.0029242978054130828,
            "count": 0
           },
           {
            "bin_start": 0.0029242978054130828,
            "bin_end": 0.003104467965204084,
            "count": 0
           },
           {
            "bin_start": 0.003104467965204084,
            "bin_end": 0.003284638124995085,
            "count": 1
           },
           {
            "bin_start": 0.003284638124995085,
            "bin_end": 0.003464808284786086,
            "count": 0
           },
           {
            "bin_start": 0.003464808284786086,
            "bin_end": 0.003644978444577087,
            "count": 0
           },
           {
            "bin_start": 0.003644978444577087,
            "bin_end": 0.003825148604368088,
            "count": 0
           },
           {
            "bin_start": 0.003825148604368088,
            "bin_end": 0.004005318764159089,
            "count": 1
           }
          ]
         }
        },
        {
         "name": "coastal_flag",
         "dtype": "float64",
         "stats": {
          "unique_count": 3,
          "nan_count": 0,
          "min": "0.0",
          "max": "1.0",
          "histogram": [
           {
            "bin_start": 0,
            "bin_end": 0.1,
            "count": 1
           },
           {
            "bin_start": 0.1,
            "bin_end": 0.2,
            "count": 1
           },
           {
            "bin_start": 0.2,
            "bin_end": 0.30000000000000004,
            "count": 0
           },
           {
            "bin_start": 0.30000000000000004,
            "bin_end": 0.4,
            "count": 0
           },
           {
            "bin_start": 0.4,
            "bin_end": 0.5,
            "count": 0
           },
           {
            "bin_start": 0.5,
            "bin_end": 0.6000000000000001,
            "count": 0
           },
           {
            "bin_start": 0.6000000000000001,
            "bin_end": 0.7000000000000001,
            "count": 0
           },
           {
            "bin_start": 0.7000000000000001,
            "bin_end": 0.8,
            "count": 0
           },
           {
            "bin_start": 0.8,
            "bin_end": 0.9,
            "count": 0
           },
           {
            "bin_start": 0.9,
            "bin_end": 1,
            "count": 1
           }
          ]
         }
        },
        {
         "name": "median_home_value",
         "dtype": "float64",
         "stats": {
          "unique_count": 3,
          "nan_count": 0,
          "min": "287321.73913043475",
          "max": "750772.2222222222",
          "histogram": [
           {
            "bin_start": 287321.73913043475,
            "bin_end": 333666.7874396135,
            "count": 2
           },
           {
            "bin_start": 333666.7874396135,
            "bin_end": 380011.8357487923,
            "count": 0
           },
           {
            "bin_start": 380011.8357487923,
            "bin_end": 426356.884057971,
            "count": 0
           },
           {
            "bin_start": 426356.884057971,
            "bin_end": 472701.93236714974,
            "count": 0
           },
           {
            "bin_start": 472701.93236714974,
            "bin_end": 519046.9806763285,
            "count": 0
           },
           {
            "bin_start": 519046.9806763285,
            "bin_end": 565392.0289855073,
            "count": 0
           },
           {
            "bin_start": 565392.0289855073,
            "bin_end": 611737.077294686,
            "count": 0
           },
           {
            "bin_start": 611737.077294686,
            "bin_end": 658082.1256038647,
            "count": 0
           },
           {
            "bin_start": 658082.1256038647,
            "bin_end": 704427.1739130435,
            "count": 0
           },
           {
            "bin_start": 704427.1739130435,
            "bin_end": 750772.2222222222,
            "count": 1
           }
          ]
         }
        },
        {
         "name": "median_income",
         "dtype": "float64",
         "stats": {
          "unique_count": 3,
          "nan_count": 0,
          "min": "55548.86956521739",
          "max": "92003.0",
          "histogram": [
           {
            "bin_start": 55548.86956521739,
            "bin_end": 59194.282608695656,
            "count": 2
           },
           {
            "bin_start": 59194.282608695656,
            "bin_end": 62839.69565217391,
            "count": 0
           },
           {
            "bin_start": 62839.69565217391,
            "bin_end": 66485.10869565218,
            "count": 0
           },
           {
            "bin_start": 66485.10869565218,
            "bin_end": 70130.52173913043,
            "count": 0
           },
           {
            "bin_start": 70130.52173913043,
            "bin_end": 73775.9347826087,
            "count": 0
           },
           {
            "bin_start": 73775.9347826087,
            "bin_end": 77421.34782608696,
            "count": 0
           },
           {
            "bin_start": 77421.34782608696,
            "bin_end": 81066.76086956522,
            "count": 0
           },
           {
            "bin_start": 81066.76086956522,
            "bin_end": 84712.17391304349,
            "count": 0
           },
           {
            "bin_start": 84712.17391304349,
            "bin_end": 88357.58695652174,
            "count": 0
           },
           {
            "bin_start": 88357.58695652174,
            "bin_end": 92003,
            "count": 1
           }
          ]
         }
        },
        {
         "name": "democrat_pct",
         "dtype": "float64",
         "stats": {
          "unique_count": 3,
          "nan_count": 0,
          "min": "31.057011630135797",
          "max": "46.74162396026174",
          "histogram": [
           {
            "bin_start": 31.057011630135797,
            "bin_end": 32.62547286314839,
            "count": 1
           },
           {
            "bin_start": 32.62547286314839,
            "bin_end": 34.19393409616099,
            "count": 0
           },
           {
            "bin_start": 34.19393409616099,
            "bin_end": 35.76239532917358,
            "count": 0
           },
           {
            "bin_start": 35.76239532917358,
            "bin_end": 37.33085656218618,
            "count": 1
           },
           {
            "bin_start": 37.33085656218618,
            "bin_end": 38.89931779519877,
            "count": 0
           },
           {
            "bin_start": 38.89931779519877,
            "bin_end": 40.46777902821137,
            "count": 0
           },
           {
            "bin_start": 40.46777902821137,
            "bin_end": 42.03624026122396,
            "count": 0
           },
           {
            "bin_start": 42.03624026122396,
            "bin_end": 43.60470149423655,
            "count": 0
           },
           {
            "bin_start": 43.60470149423655,
            "bin_end": 45.17316272724915,
            "count": 0
           },
           {
            "bin_start": 45.17316272724915,
            "bin_end": 46.74162396026174,
            "count": 1
           }
          ]
         }
        },
        {
         "name": "median_rent",
         "dtype": "float64",
         "stats": {
          "unique_count": 3,
          "nan_count": 0,
          "min": "1000.5217391304348",
          "max": "1772.6666666666667",
          "histogram": [
           {
            "bin_start": 1000.5217391304348,
            "bin_end": 1077.736231884058,
            "count": 2
           },
           {
            "bin_start": 1077.736231884058,
            "bin_end": 1154.950724637681,
            "count": 0
           },
           {
            "bin_start": 1154.950724637681,
            "bin_end": 1232.1652173913044,
            "count": 0
           },
           {
            "bin_start": 1232.1652173913044,
            "bin_end": 1309.3797101449277,
            "count": 0
           },
           {
            "bin_start": 1309.3797101449277,
            "bin_end": 1386.5942028985507,
            "count": 0
           },
           {
            "bin_start": 1386.5942028985507,
            "bin_end": 1463.808695652174,
            "count": 0
           },
           {
            "bin_start": 1463.808695652174,
            "bin_end": 1541.023188405797,
            "count": 0
           },
           {
            "bin_start": 1541.023188405797,
            "bin_end": 1618.2376811594204,
            "count": 0
           },
           {
            "bin_start": 1618.2376811594204,
            "bin_end": 1695.4521739130437,
            "count": 0
           },
           {
            "bin_start": 1695.4521739130437,
            "bin_end": 1772.6666666666667,
            "count": 1
           }
          ]
         }
        },
        {
         "name": "_deepnote_index_column",
         "dtype": "int64"
        }
       ],
       "rows": [
        {
         "perc_65_over": 0.12783663156911926,
         "perc_white": 0.3554058372236776,
         "perc_hispanic": 0.4934585518045503,
         "perc_poverty": 0.1749338505460949,
         "per_capita_num_vehicle_theft": 0.004005318764159089,
         "coastal_flag": 0,
         "median_home_value": 294311.76470588235,
         "median_income": 57718.470588235294,
         "democrat_pct": 36.345385210038394,
         "median_rent": 1053.764705882353,
         "_deepnote_index_column": 0
        },
        {
         "perc_65_over": 0.2255117119264182,
         "perc_white": 0.7423884494051589,
         "perc_hispanic": 0.14886925382492286,
         "perc_poverty": 0.14201832672896678,
         "per_capita_num_vehicle_theft": 0.0022036171662490785,
         "coastal_flag": 0.13043478260869565,
         "median_home_value": 287321.73913043475,
         "median_income": 55548.86956521739,
         "democrat_pct": 31.057011630135797,
         "median_rent": 1000.5217391304348,
         "_deepnote_index_column": 1
        },
        {
         "perc_65_over": 0.15987991446805577,
         "perc_white": 0.4419173387577411,
         "perc_hispanic": 0.33260387740429154,
         "perc_poverty": 0.0968318475339288,
         "per_capita_num_vehicle_theft": 0.003214216353875339,
         "coastal_flag": 1,
         "median_home_value": 750772.2222222222,
         "median_income": 92003,
         "democrat_pct": 46.74162396026174,
         "median_rent": 1772.6666666666667,
         "_deepnote_index_column": 2
        }
       ]
      },
      "text/plain": "                    perc_65_over  perc_white  perc_hispanic  perc_poverty  \\\nkmeans_pca_cluster                                                          \n0                           0.13        0.36           0.49          0.17   \n1                           0.23        0.74           0.15          0.14   \n2                           0.16        0.44           0.33          0.10   \n\n                    per_capita_num_vehicle_theft  coastal_flag  \\\nkmeans_pca_cluster                                               \n0                                           0.00          0.00   \n1                                           0.00          0.13   \n2                                           0.00          1.00   \n\n                    median_home_value  median_income  democrat_pct  \\\nkmeans_pca_cluster                                                   \n0                          294,311.76      57,718.47         36.35   \n1                          287,321.74      55,548.87         31.06   \n2                          750,772.22      92,003.00         46.74   \n\n                    median_rent  \nkmeans_pca_cluster               \n0                      1,053.76  \n1                      1,000.52  \n2                      1,772.67  ",
      "text/html": "<div>\n<style scoped>\n    .dataframe tbody tr th:only-of-type {\n        vertical-align: middle;\n    }\n\n    .dataframe tbody tr th {\n        vertical-align: top;\n    }\n\n    .dataframe thead th {\n        text-align: right;\n    }\n</style>\n<table border=\"1\" class=\"dataframe\">\n  <thead>\n    <tr style=\"text-align: right;\">\n      <th></th>\n      <th>perc_65_over</th>\n      <th>perc_white</th>\n      <th>perc_hispanic</th>\n      <th>perc_poverty</th>\n      <th>per_capita_num_vehicle_theft</th>\n      <th>coastal_flag</th>\n      <th>median_home_value</th>\n      <th>median_income</th>\n      <th>democrat_pct</th>\n      <th>median_rent</th>\n    </tr>\n    <tr>\n      <th>kmeans_pca_cluster</th>\n      <th></th>\n      <th></th>\n      <th></th>\n      <th></th>\n      <th></th>\n      <th></th>\n      <th></th>\n      <th></th>\n      <th></th>\n      <th></th>\n    </tr>\n  </thead>\n  <tbody>\n    <tr>\n      <th>0</th>\n      <td>0.13</td>\n      <td>0.36</td>\n      <td>0.49</td>\n      <td>0.17</td>\n      <td>0.00</td>\n      <td>0.00</td>\n      <td>294,311.76</td>\n      <td>57,718.47</td>\n      <td>36.35</td>\n      <td>1,053.76</td>\n    </tr>\n    <tr>\n      <th>1</th>\n      <td>0.23</td>\n      <td>0.74</td>\n      <td>0.15</td>\n      <td>0.14</td>\n      <td>0.00</td>\n      <td>0.13</td>\n      <td>287,321.74</td>\n      <td>55,548.87</td>\n      <td>31.06</td>\n      <td>1,000.52</td>\n    </tr>\n    <tr>\n      <th>2</th>\n      <td>0.16</td>\n      <td>0.44</td>\n      <td>0.33</td>\n      <td>0.10</td>\n      <td>0.00</td>\n      <td>1.00</td>\n      <td>750,772.22</td>\n      <td>92,003.00</td>\n      <td>46.74</td>\n      <td>1,772.67</td>\n    </tr>\n  </tbody>\n</table>\n</div>"
     },
     "metadata": {}
    }
   ]
  },
  {
   "cell_type": "markdown",
   "source": "<a style='text-decoration:none;line-height:16px;display:flex;color:#5B5B62;padding:10px;justify-content:end;' href='https://deepnote.com?utm_source=created-in-deepnote-cell&projectId=f6c76417-5fde-42f3-8920-755838dec3fa' target=\"_blank\">\n<img alt='Created in deepnote.com' style='display:inline;max-height:16px;margin:0px;margin-right:7.5px;' src='data:image/svg+xml;base64,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' > </img>\nCreated in <span style='font-weight:600;margin-left:4px;'>Deepnote</span></a>",
   "metadata": {
    "tags": [],
    "created_in_deepnote_cell": true,
    "deepnote_cell_type": "markdown"
   }
  }
 ],
 "nbformat": 4,
 "nbformat_minor": 2,
 "metadata": {
  "orig_nbformat": 2,
  "deepnote": {
   "is_reactive": false
  },
  "deepnote_notebook_id": "69e06f58-cac1-4c54-b9e4-da3f07dab709",
  "deepnote_execution_queue": []
 }
}