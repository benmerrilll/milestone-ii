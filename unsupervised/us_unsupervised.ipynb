{
 "cells": [
  {
   "cell_type": "markdown",
   "metadata": {
    "cell_id": "1a2f5b84-1366-4bce-bfbb-a7b4cc8b58a0",
    "deepnote_cell_type": "markdown",
    "tags": []
   },
   "source": [
    "## National Data - Unsupervised Learning"
   ]
  },
  {
   "cell_type": "code",
   "execution_count": null,
   "metadata": {
    "cell_id": "c17d9ac8-860f-479b-a8ab-92e88780de0e",
    "deepnote_cell_type": "code",
    "deepnote_to_be_reexecuted": false,
    "execution_millis": 2301,
    "execution_start": 1643058362541,
    "source_hash": "45147964",
    "tags": []
   },
   "outputs": [],
   "source": [
    "import pandas as pd\n",
    "import matplotlib.pyplot as plt\n",
    "import numpy as np\n",
    "from tqdm import tqdm\n",
    "import collections\n",
    "\n",
    "from sklearn.preprocessing import MinMaxScaler\n",
    "from sklearn.decomposition import PCA\n",
    "from sklearn import metrics\n",
    "from sklearn.metrics import silhouette_samples\n",
    "from sklearn.cluster import KMeans, AgglomerativeClustering, DBSCAN\n",
    "from scipy.cluster.hierarchy import ward, dendrogram, complete, average, single\n",
    "\n",
    "import geopandas as gpd\n",
    "import pygeos\n",
    "import gpdvega \n",
    "\n",
    "import altair as alt\n"
   ]
  },
  {
   "cell_type": "code",
   "execution_count": null,
   "metadata": {
    "cell_id": "00001-eecf69c3-c637-4bda-8eda-9de40047c937",
    "deepnote_cell_type": "code",
    "deepnote_to_be_reexecuted": false,
    "execution_millis": 367,
    "execution_start": 1643058364873,
    "source_hash": "8eb153b1",
    "tags": []
   },
   "outputs": [],
   "source": [
    "#Load on US shape data\n",
    "us_counties = gpd.read_file('/work/cb_2018_us_county_20m/cb_2018_us_county_20m.shp')\n",
    "us_counties['county'] = pd.to_numeric(us_counties['COUNTYFP'])\n",
    "us_counties['state'] = pd.to_numeric(us_counties['STATEFP'])\n",
    "us_counties['county_name'] = us_counties['NAME'].str.lower()\n",
    "us_counties = us_counties[us_counties['state']<65]\n",
    "\n",
    "print(len(us_counties))\n",
    "us_counties.head()\n",
    "\n"
   ]
  },
  {
   "cell_type": "code",
   "execution_count": null,
   "metadata": {
    "cell_id": "00002-7ab75100-615a-40e1-a890-30f3e15afd25",
    "deepnote_cell_type": "code",
    "deepnote_output_heights": [
     251
    ],
    "deepnote_to_be_reexecuted": false,
    "execution_millis": 409,
    "execution_start": 1643058365286,
    "source_hash": "513f9ced",
    "tags": []
   },
   "outputs": [],
   "source": [
    "#Load in US data\n",
    "#ca_df = pd.read_csv('/work/cleaned-csvs/ca_counties_full_dataset.csv')\n",
    "us_df = pd.read_csv('/work/cleaned-csvs/national_counties_full_dataset.csv')\n",
    "\n",
    "us_df.columns\n",
    "#us_df.head()"
   ]
  },
  {
   "cell_type": "code",
   "execution_count": null,
   "metadata": {
    "cell_id": "03e04431-8721-4046-96a1-3f4bb5c16463",
    "deepnote_cell_type": "code",
    "deepnote_to_be_reexecuted": false,
    "execution_millis": 219,
    "execution_start": 1643058365484,
    "source_hash": "884c0a18",
    "tags": []
   },
   "outputs": [],
   "source": [
    "us_df.head()"
   ]
  },
  {
   "cell_type": "code",
   "execution_count": null,
   "metadata": {
    "cell_id": "7d04ce88-442c-47c2-a26d-6bf62572bf7d",
    "deepnote_cell_type": "code",
    "deepnote_to_be_reexecuted": false,
    "execution_millis": 1494662,
    "execution_start": 1643058365709,
    "source_hash": "7cfddf42",
    "tags": []
   },
   "outputs": [],
   "source": [
    "#Let's just look at one year of data, 2018\n",
    "us_df = us_df[us_df['year']==2018]"
   ]
  },
  {
   "cell_type": "code",
   "execution_count": null,
   "metadata": {
    "cell_id": "9cffbd9b-0e69-41dc-b05c-158b96a82b05",
    "deepnote_cell_type": "code",
    "deepnote_output_heights": [
     21
    ],
    "deepnote_to_be_reexecuted": false,
    "execution_millis": 58,
    "execution_start": 1643058365710,
    "source_hash": "3ec5254e",
    "tags": []
   },
   "outputs": [],
   "source": [
    "#Add the full county name to the shape file so we can use this later\n",
    "name_df = us_df[['county','state','name']]\n",
    "\n",
    "us_counties = us_counties.merge(name_df, how = 'left', on = ['county','state'])\n",
    "\n",
    "us_counties.head()\n",
    "#len(us_counties)\n"
   ]
  },
  {
   "cell_type": "code",
   "execution_count": null,
   "metadata": {
    "cell_id": "00003-8751cfbd-f02d-439c-9324-dc72effb03a3",
    "deepnote_cell_type": "code",
    "deepnote_output_heights": [
     21.1875
    ],
    "deepnote_to_be_reexecuted": false,
    "execution_millis": 315,
    "execution_start": 1643058365752,
    "source_hash": "47da10bf",
    "tags": []
   },
   "outputs": [],
   "source": [
    "# Check for sparse columns\n",
    "nullseries=us_df.isna().sum()\n",
    "nullseries[nullseries > 0]"
   ]
  },
  {
   "cell_type": "code",
   "execution_count": null,
   "metadata": {
    "cell_id": "b15bd83d-3771-4d0a-bd6c-98f2f7c830d3",
    "deepnote_cell_type": "code",
    "deepnote_to_be_reexecuted": false,
    "execution_millis": 297,
    "execution_start": 1643058365771,
    "source_hash": "7522cffc",
    "tags": []
   },
   "outputs": [],
   "source": [
    "#We aren't going to use latitude and longitude, but let's get rid of the rows where \n",
    "#area_land and area_water aren't available\n",
    "print(len(us_df))\n",
    "us_df = us_df.dropna()\n",
    "print(len(us_df))"
   ]
  },
  {
   "cell_type": "code",
   "execution_count": null,
   "metadata": {
    "cell_id": "00004-7e961584-0ce9-439c-8cd1-7f347f3066ee",
    "deepnote_cell_type": "code",
    "deepnote_output_heights": [
     611
    ],
    "deepnote_to_be_reexecuted": false,
    "execution_millis": 15,
    "execution_start": 1643058365790,
    "source_hash": "40c1170c",
    "tags": []
   },
   "outputs": [],
   "source": [
    "#Data prep for unsupervised learning tasks\n",
    "\n",
    "#Before removing text columns, create a mapper for county names\n",
    "us_df = us_df.reset_index()\n",
    "#county_list_mapper = list(us_df['county_name'])\n",
    "county_list_mapper = list(us_df['name'])\n",
    "county_dict_mapper = (us_df[['name']].to_dict('index'))\n",
    "\n",
    "#Identify and drop non-numeric fields\n",
    "non_numeric = us_df.select_dtypes(exclude='number').columns.to_list()\n",
    "us_df = us_df.drop(columns=non_numeric)\n",
    "\n",
    "\n",
    "#Remove fields that are numeric, but not meaningful features of the county\n",
    "us_df = us_df.drop(columns = {'state','county', 'longitude',\n",
    "       'latitude','year'})\n"
   ]
  },
  {
   "cell_type": "code",
   "execution_count": null,
   "metadata": {
    "cell_id": "00007-6536487a-936f-425b-828c-2974fffa95a7",
    "deepnote_cell_type": "code",
    "deepnote_output_heights": [
     null,
     97.9375
    ],
    "deepnote_to_be_reexecuted": false,
    "execution_millis": 245,
    "execution_start": 1643058365823,
    "source_hash": "ce980c5e",
    "tags": []
   },
   "outputs": [],
   "source": [
    "print(us_df.shape)\n",
    "print(len(county_dict_mapper))\n",
    "{k:v for (k,v) in county_dict_mapper.items() if k < 5}"
   ]
  },
  {
   "cell_type": "code",
   "execution_count": null,
   "metadata": {
    "cell_id": "00005-e8ddbd60-6ecf-466a-ad3b-99b17a6f3e87",
    "deepnote_cell_type": "code",
    "deepnote_output_heights": [
     232.25
    ],
    "deepnote_to_be_reexecuted": false,
    "execution_millis": 244,
    "execution_start": 1643058365824,
    "source_hash": "3e64471b",
    "tags": []
   },
   "outputs": [],
   "source": [
    "#Store the column names for later use\n",
    "us_df_columns = us_df.columns\n",
    "us_df_columns"
   ]
  },
  {
   "cell_type": "markdown",
   "metadata": {
    "cell_id": "00006-8bc6899c-586e-4d03-a776-3097085e9025",
    "deepnote_cell_type": "markdown",
    "tags": []
   },
   "source": [
    "### Feature Scaling\n",
    "We'll use min-max normalization since all of our features are on different scales, and also numeric."
   ]
  },
  {
   "cell_type": "code",
   "execution_count": null,
   "metadata": {
    "cell_id": "00007-e7d09aa7-e1ba-4a8c-b6e9-9e152c4e9321",
    "deepnote_cell_type": "code",
    "deepnote_output_heights": [
     null,
     611
    ],
    "deepnote_to_be_reexecuted": false,
    "execution_millis": 291,
    "execution_start": 1643058365847,
    "source_hash": "1ade871e",
    "tags": []
   },
   "outputs": [],
   "source": [
    "scaler = MinMaxScaler()\n",
    "scaled_data = scaler.fit_transform(us_df)\n",
    "\n",
    "# verify that there are no missing values and inspect data\n",
    "print('missing values:', pd.DataFrame(scaled_data).isna().sum().sum())\n",
    "pd.DataFrame(scaled_data)\n"
   ]
  },
  {
   "cell_type": "code",
   "execution_count": null,
   "metadata": {
    "cell_id": "00008-c305f926-b72c-4007-a5f0-95eef35121d5",
    "deepnote_cell_type": "code",
    "deepnote_output_heights": [
     21.1875
    ],
    "deepnote_to_be_reexecuted": false,
    "execution_millis": 1059793,
    "execution_start": 1643058366132,
    "source_hash": "a1f2dea6",
    "tags": []
   },
   "outputs": [],
   "source": [
    "scaled_data.shape"
   ]
  },
  {
   "cell_type": "markdown",
   "metadata": {
    "cell_id": "00009-43ee0259-c3a7-426f-86c7-2df568099247",
    "deepnote_cell_type": "markdown",
    "tags": []
   },
   "source": [
    "### K-Means Clustering\n",
    "\n",
    "We will run K-Means with multiple n_clusters values so we can use the elbow method. To determine the optimal number of clusters, we have to select the value of k at the “elbow”, or the point after which the inertia start decreasing in a linear fashion. \n",
    "\n",
    "Inertia is the sum of squared distances of samples to their closest cluster center (SSE)\n",
    "\n",
    "We will try two methods of initializing K-Means, the default, which is 'k-means++', which selectes inital cluster centers in a \"smart way\", and 'random' which choses initial centroids at random.\n",
    "\n",
    "We will also look at two metrics to check the quality of our clusters:\n",
    "\n",
    "#### Davies_Bouldin Index\n",
    "This index signifies the average ‘similarity’ between clusters, where the similarity is a measure that compares the distance between clusters with the size of the clusters themselves. Zero is the lowest possible score. Values closer to zero indicate a better partition.\n",
    "\n",
    "#### Calinski-Harabasz Index\n",
    "The index is the ratio of the sum of between-clusters dispersion and of within-cluster dispersion for all clusters (where dispersion is defined as the sum of distances squared). The score is higher when clusters are dense and well separated, which relates to a standard concept of a cluster.\n",
    "\n"
   ]
  },
  {
   "cell_type": "code",
   "execution_count": null,
   "metadata": {
    "cell_id": "00010-8889f0cd-b4fa-47a6-896d-a1b9d3607626",
    "deepnote_cell_type": "code",
    "deepnote_output_heights": [
     null,
     462.5
    ],
    "deepnote_to_be_reexecuted": false,
    "execution_millis": 61251,
    "execution_start": 1643058366132,
    "source_hash": "5c152ec4",
    "tags": []
   },
   "outputs": [],
   "source": [
    "k_range = [*range(3, 30)]\n",
    "\n",
    "#Calculate inertia scores using the default initialization 'k-means++'\n",
    "inertia_scores = []\n",
    "for k in k_range:\n",
    "    kmeans = KMeans(n_clusters=k, random_state=42,init ='k-means++').fit(scaled_data)\n",
    "    inertia_scores.append(kmeans.inertia_)\n",
    "    kmeans.fit(scaled_data)\n",
    "    ch_score = metrics.calinski_harabasz_score(scaled_data,kmeans.labels_)\n",
    "    db_score = metrics.davies_bouldin_score(scaled_data,kmeans.labels_)\n",
    "    print('k: {}, ch_score: {}, db_score {} '.format(k,ch_score,db_score))\n"
   ]
  },
  {
   "cell_type": "markdown",
   "metadata": {
    "cell_id": "00011-0ef186d4-0121-4854-a590-c30a22def7da",
    "deepnote_cell_type": "markdown",
    "tags": []
   },
   "source": [
    "Our Calinksi-Harabasz scores are MUCH higher than for the CA counties analysis! It's hard to tell how high to have the CH score go vs how low to have the DB score go.\n",
    "\n",
    "inertia_ provides the sum of the squared error, SSE. We will plot this to find \"elbow\"\n"
   ]
  },
  {
   "cell_type": "code",
   "execution_count": null,
   "metadata": {
    "cell_id": "00012-e17ab2ca-bf21-4498-81db-f770c48aa920",
    "deepnote_cell_type": "code",
    "deepnote_output_heights": [
     21,
     280
    ],
    "deepnote_to_be_reexecuted": false,
    "execution_millis": 244,
    "execution_start": 1643058427394,
    "source_hash": "f5681091",
    "tags": []
   },
   "outputs": [],
   "source": [
    "plt.plot(k_range, inertia_scores, '-o')\n",
    "plt.ylabel('SSE')\n",
    "plt.xlabel('Number of clusters (k)')\n",
    "plt.title('The Elbow Method using \"k-means++\" initialization ')"
   ]
  },
  {
   "cell_type": "markdown",
   "metadata": {
    "cell_id": "00013-f9abb4a6-eac7-4c5f-afa2-b2b8d0a4aa97",
    "deepnote_cell_type": "markdown",
    "tags": []
   },
   "source": [
    "It looks like the elbow occurs at around 10 clusters"
   ]
  },
  {
   "cell_type": "markdown",
   "metadata": {
    "cell_id": "00017-5efd2d9c-810f-45be-99ec-3f1a9c442ceb",
    "deepnote_cell_type": "markdown",
    "tags": []
   },
   "source": [
    "Let's try using silhouette analysis for 5-12 clusters.\n",
    "\n",
    "From https://scikit-learn.org/stable/auto_examples/cluster/plot_kmeans_silhouette_analysis.html#sphx-glr-auto-examples-cluster-plot-kmeans-silhouette-analysis-py:\n",
    "\n",
    "Silhouette analysis can be used to study the separation distance between the resulting clusters. The silhouette plot displays a measure of how close each point in one cluster is to points in the neighboring clusters and thus provides a way to assess parameters like number of clusters visually. This measure has a range of [-1, 1].\n",
    "\n",
    "Silhouette coefficients (as these values are referred to as) near +1 indicate that the sample is far away from the neighboring clusters. A value of 0 indicates that the sample is on or very close to the decision boundary between two neighboring clusters and negative values indicate that those samples might have been assigned to the wrong cluster.\n",
    "\n"
   ]
  },
  {
   "cell_type": "code",
   "execution_count": null,
   "metadata": {
    "cell_id": "00018-7b308a7a-0350-440b-a520-66ffa53d9c62",
    "deepnote_cell_type": "code",
    "deepnote_output_heights": [
     null,
     371,
     371,
     371,
     371,
     371,
     371,
     371,
     371,
     371,
     371,
     371
    ],
    "deepnote_to_be_reexecuted": false,
    "execution_millis": 51923,
    "execution_start": 1643058427647,
    "source_hash": "a41d77df",
    "tags": []
   },
   "outputs": [],
   "source": [
    "# Code from https://towardsdatascience.com/k-means-clustering-algorithm-applications-evaluation-methods-and-drawbacks-aa03e644b48a\n",
    "# Per the article, a good number of clusters will have a well above 0.5 silhouette \n",
    "# average score as well as all of the clusters have higher than the average score\n",
    "\n",
    "for i, k in enumerate(range(5,13)):\n",
    "    #fig, (ax1, ax2) = plt.subplots(1, 2)\n",
    "    fig, ax1 = plt.subplots(1, 1)\n",
    "    fig.set_size_inches(18, 7)\n",
    "    \n",
    "    # Run the Kmeans algorithm\n",
    "    km = KMeans(n_clusters=k)\n",
    "    labels = km.fit_predict(scaled_data)\n",
    "    centroids = km.cluster_centers_\n",
    "\n",
    "    # Get silhouette samples\n",
    "    silhouette_vals = silhouette_samples(scaled_data, labels)\n",
    "\n",
    "    # Silhouette plot\n",
    "    y_ticks = []\n",
    "    y_lower, y_upper = 0, 0\n",
    "    for i, cluster in enumerate(np.unique(labels)):\n",
    "        cluster_silhouette_vals = silhouette_vals[labels == cluster]\n",
    "        cluster_silhouette_vals.sort()\n",
    "        y_upper += len(cluster_silhouette_vals)\n",
    "        ax1.barh(range(y_lower, y_upper), cluster_silhouette_vals, edgecolor='none', height=1)\n",
    "        ax1.text(-0.03, (y_lower + y_upper) / 2, str(i + 1))\n",
    "        y_lower += len(cluster_silhouette_vals)\n",
    "\n",
    "    # Get the average silhouette score and plot it\n",
    "    avg_score = np.mean(silhouette_vals)\n",
    "    ax1.axvline(avg_score, linestyle='--', linewidth=2, color='green')\n",
    "    ax1.set_yticks([])\n",
    "    ax1.set_xlim([-0.1, 1])\n",
    "    ax1.set_xlabel('Silhouette coefficient values')\n",
    "    ax1.set_ylabel('Cluster labels')\n",
    "    ax1.set_title('Silhouette plot for the various clusters', y=1.02);\n",
    "    print('Average silhouette score for {} clusters is {}'.format(k,avg_score))\n",
    "    \n",
    "   # plt.tight_layout()\n",
    "    plt.suptitle(f'Silhouette analysis using k = {k}',\n",
    "                 fontsize=16, fontweight='semibold', y=1.05);\n"
   ]
  },
  {
   "cell_type": "markdown",
   "metadata": {
    "cell_id": "00019-bbe2c480-8043-4082-9e45-6783590eff29",
    "deepnote_cell_type": "markdown",
    "tags": []
   },
   "source": [
    "The highest score is for 8-9 clusters, depending on the run. But it's not great at .20. \n",
    "Maybe there are too many dimensions? Can try running PCA on the data, then K-Means, later. For now, lst's try another type of clustering."
   ]
  },
  {
   "cell_type": "markdown",
   "metadata": {
    "cell_id": "00020-24de9072-de2d-4bf4-99df-d257ea57f23e",
    "deepnote_cell_type": "markdown",
    "tags": []
   },
   "source": [
    "### Agglomerative Clustering\n",
    "Agglomerative clustring performs a bottom up approach where each observation starts in its own cluster and clusters are successively merged together.\n",
    "\n",
    "There are 4 types of linkages we will consider:\n",
    "- Single: minimum distance between clusters\n",
    "- Complete: maximum distance between clusters\n",
    "- Average: average distance between clusters\n",
    "- Ward: difference between:\n",
    "- - The total within-cluster sum of squares for the two clusters seperately\n",
    "- - and\n",
    "- - The within-cluster sum of squares resulting from merging the two clusters\n",
    "\n",
    "We are using Ward's Method to start because it tends to create equal sized clusters and is effective for noisy data. \n",
    "\n",
    "The output of the ward function is as follows:\n",
    "- Column 1 and 2 are child nodes\n",
    "- Column 3 is distance\n",
    "- Column 4 is the number of leaf nodes merged\n"
   ]
  },
  {
   "cell_type": "code",
   "execution_count": null,
   "metadata": {
    "cell_id": "00021-94db55b8-ff3f-4331-99ba-40c8c160c1a8",
    "deepnote_cell_type": "code",
    "deepnote_output_heights": [
     378
    ],
    "deepnote_to_be_reexecuted": false,
    "execution_millis": 95751,
    "execution_start": 1643058479440,
    "source_hash": "2c5e6009",
    "tags": []
   },
   "outputs": [],
   "source": [
    "plt.figure(figsize=(10,6))\n",
    "cls1 = ward(scaled_data)\n",
    "dendrogram(cls1)#,orientation='left')\n",
    "plt.title('Dendrogram using Ward Linkage')\n",
    "plt.show()\n",
    "\n",
    "print(cls1)"
   ]
  },
  {
   "cell_type": "markdown",
   "metadata": {
    "cell_id": "00022-867f018d-b42b-4729-afcf-fa7f35de60e8",
    "deepnote_cell_type": "markdown",
    "tags": []
   },
   "source": [
    "Based on the dendrogram we are going to assign the data to 4 clusters, so now we will run the clusters to get the assignment value"
   ]
  },
  {
   "cell_type": "code",
   "execution_count": null,
   "metadata": {
    "cell_id": "00023-1005e876-6780-4f3b-b476-7b460cc59f6c",
    "deepnote_cell_type": "code",
    "deepnote_output_heights": [
     21.1875,
     21.1875
    ],
    "deepnote_to_be_reexecuted": false,
    "execution_millis": 310,
    "execution_start": 1643058575192,
    "source_hash": "1550f2a4",
    "tags": []
   },
   "outputs": [],
   "source": [
    "cls_w = AgglomerativeClustering(n_clusters=4, linkage='ward')\n",
    "cls_assignment_w = cls_w.fit_predict(scaled_data)\n",
    "cls_assignment_w"
   ]
  },
  {
   "cell_type": "code",
   "execution_count": null,
   "metadata": {
    "cell_id": "00024-1b6bb08c-6ae9-4e31-9b36-8d73ffdedc99",
    "deepnote_cell_type": "code",
    "deepnote_output_heights": [
     1
    ],
    "deepnote_to_be_reexecuted": false,
    "execution_millis": 52,
    "execution_start": 1643058575504,
    "source_hash": "3985597f",
    "tags": []
   },
   "outputs": [],
   "source": [
    "#Zip together the mapper and the cluster assignment\n",
    "county_cluster = list(zip(county_list_mapper, list(cls_assignment_w)))\n",
    "\n",
    "cluster_df = pd.DataFrame(county_cluster, columns=['name', 'agglom_ward_cluster'])\n",
    "cluster_df\n"
   ]
  },
  {
   "cell_type": "code",
   "execution_count": null,
   "metadata": {
    "cell_id": "00025-95082163-16c9-4e9f-9841-a7ce4560e2a7",
    "deepnote_cell_type": "code",
    "deepnote_output_heights": [
     21
    ],
    "deepnote_to_be_reexecuted": false,
    "execution_millis": 12,
    "execution_start": 1643058575556,
    "source_hash": "27e13765",
    "tags": []
   },
   "outputs": [],
   "source": [
    "#Show the clusters on a map\n",
    "us_all = pd.merge(cluster_df,us_counties,how='inner',on='name')\n",
    "len(us_all)"
   ]
  },
  {
   "cell_type": "code",
   "execution_count": null,
   "metadata": {
    "cell_id": "00026-0714bcda-3da2-4459-b4bb-9c05f9d13c66",
    "deepnote_cell_type": "code",
    "deepnote_output_heights": [
     null,
     null,
     21.1875
    ],
    "deepnote_to_be_reexecuted": false,
    "execution_millis": 230,
    "execution_start": 1643058575577,
    "source_hash": "53d3a875",
    "tags": []
   },
   "outputs": [],
   "source": [
    "agglom_ward = alt.Chart(us_all).mark_geoshape().encode(\n",
    "    tooltip='name',\n",
    "    color='agglom_ward_cluster:N'\n",
    ").properties(title='Agglomerative Clusters - Ward Linkage - 2018 Data')\n",
    "agglom_ward"
   ]
  },
  {
   "cell_type": "markdown",
   "metadata": {
    "cell_id": "00027-12e09364-e297-4d1b-b00c-79d50d00928f",
    "deepnote_cell_type": "markdown",
    "tags": []
   },
   "source": [
    "Out of curiousity, let's see if we get similar clusterings if we use different agglomerative clustering linkage methods "
   ]
  },
  {
   "cell_type": "code",
   "execution_count": null,
   "metadata": {
    "cell_id": "00028-fb9e5b10-920a-4eaa-9bd9-6f270db183e9",
    "deepnote_cell_type": "code",
    "deepnote_output_heights": [
     378
    ],
    "deepnote_to_be_reexecuted": false,
    "execution_millis": 94515,
    "execution_start": 1643058575851,
    "source_hash": "83af3cfd",
    "tags": []
   },
   "outputs": [],
   "source": [
    "#Complete linkage method\n",
    "plt.figure(figsize=(10,6))\n",
    "cls2 = complete(scaled_data)\n",
    "dendrogram(cls2)#,orientation='left')\n",
    "plt.title('Dendrogram using Complete Linkage')\n",
    "plt.show()\n",
    "\n",
    "#print(cls2)"
   ]
  },
  {
   "cell_type": "markdown",
   "metadata": {
    "cell_id": "00029-006ecea3-6dd2-4bec-b5c0-7b0f3adde38d",
    "deepnote_cell_type": "markdown",
    "tags": []
   },
   "source": [
    "With complete linkage it seems that 8 clusters are more appropriate"
   ]
  },
  {
   "cell_type": "code",
   "execution_count": null,
   "metadata": {
    "cell_id": "00030-7681ed82-6cab-4bf7-8718-5b452721c0a4",
    "deepnote_cell_type": "code",
    "deepnote_to_be_reexecuted": false,
    "execution_millis": 227,
    "execution_start": 1643058828329,
    "source_hash": "e232c38f",
    "tags": []
   },
   "outputs": [],
   "source": [
    "\n",
    "cls_c = AgglomerativeClustering(n_clusters=5, linkage='complete')\n",
    "cls_assignment_c = cls_c.fit_predict(scaled_data)\n",
    "\n",
    "county_cluster = list(zip(county_list_mapper, list(cls_assignment_c)))\n",
    "\n",
    "new_df = pd.DataFrame(county_cluster, columns=['name', 'agglom_complete_cluster'])\n",
    "\n",
    "us_all = us_all.merge(new_df, how = 'inner', on = 'name')"
   ]
  },
  {
   "cell_type": "code",
   "execution_count": null,
   "metadata": {
    "cell_id": "00031-e7c315ea-3538-4442-9277-6e1ea7ddc6c9",
    "deepnote_cell_type": "code",
    "deepnote_output_heights": [
     378
    ],
    "deepnote_to_be_reexecuted": false,
    "execution_millis": 95602,
    "execution_start": 1643058891274,
    "source_hash": "8576713d",
    "tags": []
   },
   "outputs": [],
   "source": [
    "#Average Linkage Method\n",
    "plt.figure(figsize=(10,6))\n",
    "cls3 = average(scaled_data)\n",
    "dendrogram(cls3)#,orientation='left')\n",
    "plt.title('Dendrogram using Average Linkage')\n",
    "plt.show()\n",
    "\n",
    "#print(cls3)"
   ]
  },
  {
   "cell_type": "markdown",
   "metadata": {
    "cell_id": "00032-12f8ff6f-2f9c-438e-b67a-233eb8fa5439",
    "deepnote_cell_type": "markdown",
    "tags": []
   },
   "source": [
    "With average linkage we are seeing one giant cluster"
   ]
  },
  {
   "cell_type": "code",
   "execution_count": null,
   "metadata": {
    "cell_id": "00033-50139bd8-0dd2-44ef-9c7b-174d6d881ef5",
    "deepnote_cell_type": "code",
    "deepnote_to_be_reexecuted": true,
    "execution_millis": 132,
    "execution_start": 1642429807220,
    "source_hash": "ab4c51a9",
    "tags": []
   },
   "outputs": [],
   "source": [
    "\n",
    "# cls_a = AgglomerativeClustering(n_clusters=5, linkage='average')\n",
    "# cls_assignment_a = cls_a.fit_predict(scaled_data)\n",
    "\n",
    "# county_cluster = list(zip(county_list_mapper, list(cls_assignment_a)))\n",
    "\n",
    "# new_df = pd.DataFrame(county_cluster, columns=['name', 'agglom_average_cluster'])\n",
    "\n",
    "# us_all = ca_all.merge(new_df, how = 'inner', on = 'name')"
   ]
  },
  {
   "cell_type": "code",
   "execution_count": null,
   "metadata": {
    "cell_id": "00034-7c387f10-483c-445f-851e-cf7906800000",
    "deepnote_cell_type": "code",
    "deepnote_output_heights": [
     378
    ],
    "deepnote_to_be_reexecuted": false,
    "execution_millis": 94867,
    "execution_start": 1643059064562,
    "source_hash": "92cb89b7",
    "tags": []
   },
   "outputs": [],
   "source": [
    "#Single linkage method\n",
    "plt.figure(figsize=(10,6))\n",
    "cls4 = single(scaled_data)\n",
    "dendrogram(cls4)#,orientation='left')\n",
    "plt.title('Dendrogram using Single Linkage')\n",
    "plt.show()\n",
    "\n",
    "#print(cls4)"
   ]
  },
  {
   "cell_type": "markdown",
   "metadata": {
    "cell_id": "00035-9c8cdddb-5d50-4a10-ac05-3345f9b3e2d2",
    "deepnote_cell_type": "markdown",
    "tags": []
   },
   "source": [
    "Using single linkage 3 clusters seems most appropriate, but most counties ae in the same large cluster"
   ]
  },
  {
   "cell_type": "code",
   "execution_count": null,
   "metadata": {
    "cell_id": "00036-aad89642-3ee9-4714-a24c-d96433be5e7d",
    "deepnote_cell_type": "code",
    "deepnote_to_be_reexecuted": false,
    "execution_millis": 250,
    "execution_start": 1643059255830,
    "source_hash": "e12fa807",
    "tags": []
   },
   "outputs": [],
   "source": [
    "cls_s = AgglomerativeClustering(n_clusters=3, linkage='single')\n",
    "cls_assignment_s = cls_s.fit_predict(scaled_data)\n",
    "\n",
    "county_cluster = list(zip(county_list_mapper, list(cls_assignment_s)))\n",
    "\n",
    "new_df = pd.DataFrame(county_cluster, columns=['name', 'agglom_single_cluster'])\n",
    "\n",
    "us_all = us_all.merge(new_df, how = 'inner', on = 'name')"
   ]
  },
  {
   "cell_type": "markdown",
   "metadata": {
    "cell_id": "00037-c1d1537f-f3c8-4f18-9665-e86fe828e13c",
    "deepnote_cell_type": "markdown",
    "tags": []
   },
   "source": [
    "Show the rest of the agglomerative clustering maps"
   ]
  },
  {
   "cell_type": "code",
   "execution_count": null,
   "metadata": {
    "cell_id": "00038-618b0dfb-aa87-481a-8fd0-ca0b8093496b",
    "deepnote_cell_type": "code",
    "deepnote_output_heights": [
     null,
     341,
     21.1875
    ],
    "deepnote_to_be_reexecuted": false,
    "execution_millis": 1459,
    "execution_start": 1643059271741,
    "source_hash": "7c629eb6",
    "tags": []
   },
   "outputs": [],
   "source": [
    "#Show Complete Linkage Cluster Map\n",
    "\n",
    "complete = alt.Chart(us_all).mark_geoshape().encode(\n",
    "    tooltip='NAME',\n",
    "    color='agglom_complete_cluster:N'\n",
    ").properties(title='Agglomerative Clusters - Complete Linkage - 2018 Data')\n",
    "\n",
    "complete"
   ]
  },
  {
   "cell_type": "code",
   "execution_count": null,
   "metadata": {
    "cell_id": "00039-ad10c6b3-250a-441f-9e21-5982fd432335",
    "deepnote_cell_type": "code",
    "deepnote_output_heights": [
     null,
     341
    ],
    "deepnote_to_be_reexecuted": true,
    "execution_millis": 1790,
    "execution_start": 1642429811273,
    "source_hash": "60395723",
    "tags": []
   },
   "outputs": [],
   "source": [
    "#Show average linkage cluster map\n",
    "# average = alt.Chart(us_all).mark_geoshape().encode(\n",
    "#     tooltip='NAME',\n",
    "#     color='agglom_average_cluster:N'\n",
    "# ).properties(title='Agglomerative Clusters - Average Linkage - 2018 Data')\n",
    "# average"
   ]
  },
  {
   "cell_type": "code",
   "execution_count": null,
   "metadata": {
    "cell_id": "00040-079fc974-9f98-4a99-b203-0498e7cb548b",
    "deepnote_cell_type": "code",
    "deepnote_output_heights": [
     null,
     21
    ],
    "deepnote_to_be_reexecuted": false,
    "execution_millis": 235,
    "execution_start": 1643059320483,
    "source_hash": "b0296bc8",
    "tags": []
   },
   "outputs": [],
   "source": [
    "#Show single linkage cluster map\n",
    "single = alt.Chart(us_all).mark_geoshape().encode(\n",
    "    tooltip='NAME',\n",
    "    color='agglom_single_cluster:N'\n",
    ").properties(title='Agglomerative Clusters - Single Linkage - 2018 Data')\n",
    "single\n"
   ]
  },
  {
   "cell_type": "markdown",
   "metadata": {
    "cell_id": "00041-33f3e148-be92-4d8e-a6e2-3b80dbb5f2da",
    "deepnote_cell_type": "markdown",
    "tags": []
   },
   "source": [
    "### Back to K-Means...\n",
    "Since the ward and complete agglomerative clustering methods generated results with 4 and 8 clusters, out of curiousity let's try this with K-Means and see if our clustered counties are similar. "
   ]
  },
  {
   "cell_type": "code",
   "execution_count": null,
   "metadata": {
    "cell_id": "00042-24ae988c-11c4-401d-8003-d30f468697ad",
    "deepnote_cell_type": "code",
    "deepnote_to_be_reexecuted": false,
    "execution_millis": 1495,
    "execution_start": 1643059508540,
    "source_hash": "a6ba5800",
    "tags": []
   },
   "outputs": [],
   "source": [
    "kmeans_4 = KMeans(n_clusters=4, random_state=42).fit(scaled_data)\n",
    "kmeans_8 = KMeans(n_clusters=8, random_state=42).fit(scaled_data)"
   ]
  },
  {
   "cell_type": "code",
   "execution_count": null,
   "metadata": {
    "cell_id": "00043-dee11ef0-4844-4e31-8228-de175cc0a49e",
    "deepnote_cell_type": "code",
    "deepnote_output_heights": [
     59.5625
    ],
    "deepnote_to_be_reexecuted": false,
    "execution_millis": 1,
    "execution_start": 1643059513484,
    "source_hash": "2dddec8d",
    "tags": []
   },
   "outputs": [],
   "source": [
    "#Add kmeans with 4 clusters to our dataframe\n",
    "county_cluster = list(zip(county_list_mapper, list(kmeans_4.labels_)))\n",
    "\n",
    "new_df = pd.DataFrame(county_cluster, columns=['name', 'kmeans_4_cluster'])\n",
    "\n",
    "us_all = us_all.merge(new_df, how = 'inner', on = 'name')"
   ]
  },
  {
   "cell_type": "code",
   "execution_count": null,
   "metadata": {
    "cell_id": "00044-607f9bb0-f912-4d6b-b6df-eab51b4dc226",
    "deepnote_cell_type": "code",
    "deepnote_output_heights": [
     611
    ],
    "deepnote_to_be_reexecuted": false,
    "execution_millis": 21,
    "execution_start": 1643059545586,
    "source_hash": "86c2a414",
    "tags": []
   },
   "outputs": [],
   "source": [
    "#Add kmeans with 8 clusters to our dataframe\n",
    "county_cluster = list(zip(county_list_mapper, list(kmeans_8.labels_)))\n",
    "\n",
    "new_df = pd.DataFrame(county_cluster, columns=['name', 'kmeans_8_cluster'])\n",
    "\n",
    "us_all = us_all.merge(new_df, how = 'inner', on = 'name')"
   ]
  },
  {
   "cell_type": "code",
   "execution_count": null,
   "metadata": {
    "cell_id": "00045-f0de4a78-33a0-4d5d-a30f-562a8de284d7",
    "deepnote_cell_type": "code",
    "deepnote_to_be_reexecuted": false,
    "execution_millis": 53,
    "execution_start": 1643059553183,
    "source_hash": "fd55e54e",
    "tags": []
   },
   "outputs": [],
   "source": [
    "us_all.head()"
   ]
  },
  {
   "cell_type": "code",
   "execution_count": null,
   "metadata": {
    "cell_id": "00046-8d5c39a6-fd55-43da-8061-3ad746d44c19",
    "deepnote_cell_type": "code",
    "deepnote_output_heights": [
     null,
     null,
     21.1875
    ],
    "deepnote_to_be_reexecuted": false,
    "execution_millis": 253,
    "execution_start": 1643059619408,
    "source_hash": "43f54b3c",
    "tags": []
   },
   "outputs": [],
   "source": [
    "#Show K-Means with 4 clusters map\n",
    "kmeans4_chart = alt.Chart(us_all).mark_geoshape().encode(\n",
    "    tooltip='NAME',\n",
    "    color='kmeans_4_cluster:N'\n",
    ").properties(title='K-Means With 4 Clusters - 2018 Data')\n",
    "kmeans4_chart | agglom_ward"
   ]
  },
  {
   "cell_type": "markdown",
   "metadata": {
    "cell_id": "00047-be5ad38f-c516-41fd-96f8-2cd06256ee6a",
    "deepnote_cell_type": "markdown",
    "tags": []
   },
   "source": []
  },
  {
   "cell_type": "code",
   "execution_count": null,
   "metadata": {
    "allow_embed": false,
    "cell_id": "00048-7e05165a-d152-4c91-9b1d-d1a4218c4676",
    "deepnote_cell_type": "code",
    "deepnote_output_heights": [
     null,
     21
    ],
    "deepnote_to_be_reexecuted": false,
    "execution_millis": 255,
    "execution_start": 1643059661140,
    "source_hash": "18654a18",
    "tags": []
   },
   "outputs": [],
   "source": [
    "#Show K-Means with 8 clusters map\n",
    "kmeans8_chart = alt.Chart(us_all).mark_geoshape().encode(\n",
    "    tooltip='NAME',\n",
    "    color='kmeans_8_cluster:N'\n",
    ").properties(title='K-Means With 8 Clusters - 2018 Data')\n",
    "kmeans8_chart"
   ]
  },
  {
   "cell_type": "markdown",
   "metadata": {
    "cell_id": "00049-2815e900-4456-4568-8466-2f430b0d1485",
    "deepnote_cell_type": "markdown",
    "tags": []
   },
   "source": []
  },
  {
   "cell_type": "markdown",
   "metadata": {
    "cell_id": "00050-5ca90a74-832c-40d4-91fd-a8ad387dc673",
    "deepnote_cell_type": "markdown",
    "tags": []
   },
   "source": [
    "### DBSCAN\n",
    "DBSCAN works well with datasets that have more complex cluster shapes. Clusters represent areas in the data space that are more dense with data points, while being separated by regions that are empty, or at least much less densely populated. This is done using connected components from graph theory. \n",
    "\n",
    "The eps parameter is the maximum distance between two samples for one to be considered as in the neighborhood of the other.\n",
    "\n",
    "The min_samples parameter is the number of samples (or total weight) in a neighborhood for a point to be considered as a core point. This includes the point itself.\n",
    "\n",
    "DBSCAN labels data as noise by setting it's cluster value to -1, so we will need to keep an eye out for this.\n",
    "\n",
    "Also, DBSCAN clustering is not completely deterministic so the results may change over different runs."
   ]
  },
  {
   "cell_type": "code",
   "execution_count": null,
   "metadata": {
    "cell_id": "00051-276597ee-d489-4f10-9966-aaa00c6c89dc",
    "deepnote_cell_type": "code",
    "deepnote_output_heights": [
     21.1875
    ],
    "deepnote_to_be_reexecuted": false,
    "execution_millis": 3428,
    "execution_start": 1643060578000,
    "source_hash": "abfd5a1",
    "tags": []
   },
   "outputs": [],
   "source": [
    "#Since our data set is much larger now, we will go with 30 for min_samples, this means \n",
    "#we need thirty counties to create a cluster.\n",
    "\n",
    "#Let's check which values of eps work well for our dataset\n",
    "#If values are all -1 then eps is too small and everything is an outlier\n",
    "#If values are all set to 1 cluster than eps is too large\n",
    "\n",
    "for eps in np.linspace(0.1,1,19):\n",
    "    dbscan = DBSCAN(eps = eps, min_samples = 30)\n",
    "    cls_dbscan = dbscan.fit_predict(scaled_data)\n",
    "\n",
    "    counter=collections.Counter(cls_dbscan)\n",
    "\n",
    "    print('eps is: ',eps)\n",
    "    print(counter)\n"
   ]
  },
  {
   "cell_type": "markdown",
   "metadata": {
    "cell_id": "00052-448c5669-be2e-4540-822a-ddeaba216890",
    "deepnote_cell_type": "markdown",
    "tags": []
   },
   "source": [
    "Using a minimum cluster size of 30, with an eps of 0.31 we generate our first model where our cluster size is bigger than our outliers. But most of the counties seem to be making one giant cluster. As eps goes up, the number of outliers goes down, but generally the counties are just moving into the giant cluster.\n",
    "\n",
    "Using a minimum cluster size of 5, which is really small for over 3000 counties,\n",
    "when eps is 0.25 we finally start getting more counties in a cluster than as outliers. But we have about a half of the counties in 1 cluster, a third of the counties as outliers, and the rest as some clusters, so this is like a giant cluster.\n",
    "\n",
    "If we increase eps to 0.28 our large cluster grows even larger. We have 1929 counties in this large cluster and then only 8 other clusters ranging in size from 4 to 138 counties\n",
    "\n",
    "In summary, DBSCAN is creating one very large cluster for us with a bunch of outliers\n"
   ]
  },
  {
   "cell_type": "code",
   "execution_count": null,
   "metadata": {
    "cell_id": "00058-c496c9ed-016a-476e-9f93-49729a6ccca1",
    "deepnote_cell_type": "code",
    "deepnote_output_heights": [
     null,
     341,
     21.1875
    ],
    "deepnote_to_be_reexecuted": false,
    "execution_millis": 275,
    "execution_start": 1643060763061,
    "source_hash": "8c268504",
    "tags": []
   },
   "outputs": [],
   "source": [
    "#Show DBSCAN with eps = 0.5 cluster map\n",
    "dbscan_0_5_chart = alt.Chart(us_all).mark_geoshape().encode(\n",
    "    tooltip=['NAME','dbscan_0_5_cluster'],\n",
    "    color='dbscan_0_5_cluster:N'\n",
    ").properties(title='DBSCAN with eps=0.5, min_samples=30 - 2018 Data')\n",
    "dbscan_0_5_chart"
   ]
  },
  {
   "cell_type": "markdown",
   "metadata": {
    "cell_id": "00060-e32fe868-1208-4417-82ec-1c2ad91c4527",
    "deepnote_cell_type": "markdown",
    "tags": []
   },
   "source": [
    "DBSCAN does not seem to be a good choice for us. It is generally making one large cluster and lots of small clusters."
   ]
  },
  {
   "cell_type": "markdown",
   "metadata": {
    "cell_id": "00061-292dcc81-5b5d-4415-ad5c-ca9dbdc9c9d8",
    "deepnote_cell_type": "markdown",
    "tags": []
   },
   "source": [
    "### PCA\n",
    "We are working with a lot of features in California. Maybe this is impacting the ability to create useful clusters. Let's try PCA to help identify the most relevant features and to reduce the dimensionality so we can try clustering again."
   ]
  },
  {
   "cell_type": "code",
   "execution_count": null,
   "metadata": {
    "cell_id": "00062-7808cd6e-6db0-4ec0-8727-26a63e37c2c2",
    "deepnote_cell_type": "code",
    "deepnote_to_be_reexecuted": false,
    "execution_millis": 29,
    "execution_start": 1643060818670,
    "source_hash": "d81a5019",
    "tags": []
   },
   "outputs": [],
   "source": [
    "pca = PCA(2)\n",
    "pca_data = pca.fit_transform(scaled_data)"
   ]
  },
  {
   "cell_type": "markdown",
   "metadata": {
    "cell_id": "00063-2182b062-be9a-49d4-80c7-0db8fb642b05",
    "deepnote_cell_type": "markdown",
    "tags": []
   },
   "source": [
    "Let's plot and check the variance of the components using a variance ratio plot"
   ]
  },
  {
   "cell_type": "code",
   "execution_count": null,
   "metadata": {
    "cell_id": "00064-9d7086a8-ef63-4529-8033-462c707fedb4",
    "deepnote_cell_type": "code",
    "deepnote_output_heights": [
     577
    ],
    "deepnote_to_be_reexecuted": false,
    "execution_millis": 186,
    "execution_start": 1643060824560,
    "source_hash": "4246a12c",
    "tags": []
   },
   "outputs": [],
   "source": [
    "plt.figure(figsize=(10,10))\n",
    "var = np.round(pca.explained_variance_ratio_*100, decimals = 1)\n",
    "lbls = [str(x) for x in range(1,len(var)+1)]\n",
    "plt.bar(x=range(1,len(var)+1), height = var, tick_label = lbls)\n",
    "plt.show()"
   ]
  },
  {
   "cell_type": "code",
   "execution_count": null,
   "metadata": {
    "cell_id": "00065-484cc861-109a-4ffd-a850-6d3c9fc54582",
    "deepnote_cell_type": "code",
    "deepnote_output_heights": [
     21,
     519.8125
    ],
    "deepnote_to_be_reexecuted": false,
    "execution_millis": 971,
    "execution_start": 1643060843709,
    "source_hash": "ddb7a991",
    "tags": []
   },
   "outputs": [],
   "source": [
    "#Plot the magnitude of each feature value for the 2 principal components\n",
    "fig, ax = plt.subplots(figsize=(20, 14))\n",
    "plt.imshow(pca.components_[0:2], interpolation = 'none', cmap = 'plasma')\n",
    "feature_names=list(us_df_columns)\n",
    "plt.xticks(np.arange(-0., len(feature_names), 1) , feature_names, rotation = 90, fontsize=10)\n",
    "plt.yticks(np.arange(0., 2, 1), ['First PC', 'Second PC'], fontsize = 16)\n",
    "plt.colorbar()"
   ]
  },
  {
   "cell_type": "markdown",
   "metadata": {
    "cell_id": "00066-fc772d73-da86-4f67-b898-bcac4c628f38",
    "deepnote_cell_type": "markdown",
    "tags": []
   },
   "source": [
    "This is really hard to see horizontally, let's switch the orientation..."
   ]
  },
  {
   "cell_type": "code",
   "execution_count": null,
   "metadata": {
    "cell_id": "00067-45225a6a-2f2f-44e3-a961-8b4292e04172",
    "deepnote_cell_type": "code",
    "deepnote_output_heights": [
     21,
     611
    ],
    "deepnote_to_be_reexecuted": false,
    "execution_millis": 653,
    "execution_start": 1643060857012,
    "source_hash": "4fe488b5",
    "tags": []
   },
   "outputs": [],
   "source": [
    "#Plot the magnitude of each feature value for the 2 principal components\n",
    "fig, ax = plt.subplots(figsize=(20, 18))\n",
    "plt.imshow(pca.components_[0:2].T, interpolation = 'none', cmap = 'plasma')\n",
    "feature_names=list(us_df_columns)\n",
    "plt.yticks(np.arange(-0., len(feature_names), 1) , feature_names, fontsize=10)\n",
    "plt.xticks(np.arange(0., 2, 1), ['First PC', 'Second PC'], rotation = 90, fontsize = 16)\n",
    "plt.colorbar()"
   ]
  },
  {
   "cell_type": "markdown",
   "metadata": {
    "cell_id": "00068-812bd62c-d2e6-4d4f-be5a-1334db0b030c",
    "deepnote_cell_type": "markdown",
    "tags": []
   },
   "source": [
    "It's kind of hard to use the colors in this plot for actually gauging importance. Let's use the components_ method to find the features that provided the most variance for each of the principle components. Here are the top 5 in principle component 1:"
   ]
  },
  {
   "cell_type": "code",
   "execution_count": null,
   "metadata": {
    "cell_id": "00069-d8b65567-cd84-488c-a9ac-7d1deae6438c",
    "deepnote_cell_type": "code",
    "deepnote_output_heights": [
     213
    ],
    "deepnote_to_be_reexecuted": false,
    "execution_millis": 7,
    "execution_start": 1643060907747,
    "source_hash": "4891954c",
    "tags": []
   },
   "outputs": [],
   "source": [
    "pca_df = pd.DataFrame(pca.components_.T, index=us_df_columns)\n",
    "pca_df['PC-1'] = abs(pca_df[0])\n",
    "pca_df['PC-2'] = abs(pca_df[1])\n",
    "\n",
    "pca_df['PC-1'].nlargest(n=10)"
   ]
  },
  {
   "cell_type": "markdown",
   "metadata": {
    "cell_id": "00070-ee8aa862-d0d1-49f9-8f89-ecf64ab7f753",
    "deepnote_cell_type": "markdown",
    "tags": []
   },
   "source": [
    "And the top 10 most important features for principle component 2:"
   ]
  },
  {
   "cell_type": "code",
   "execution_count": null,
   "metadata": {
    "cell_id": "00071-9289c42c-c8ba-425f-b9e6-a0769465a8c4",
    "deepnote_cell_type": "code",
    "deepnote_output_heights": [
     213
    ],
    "deepnote_to_be_reexecuted": false,
    "execution_millis": 1,
    "execution_start": 1643061007187,
    "source_hash": "33ad0743",
    "tags": []
   },
   "outputs": [],
   "source": [
    "pca_df['PC-2'].nlargest(n=10)"
   ]
  },
  {
   "cell_type": "markdown",
   "metadata": {
    "cell_id": "00072-80445c9e-5c95-46c6-b59a-572beaf76f67",
    "deepnote_cell_type": "markdown",
    "tags": []
   },
   "source": [
    "Here are the 10 features that showed the least variance for PC1. Note that these are mostly FEMA variables:"
   ]
  },
  {
   "cell_type": "code",
   "execution_count": null,
   "metadata": {
    "cell_id": "00073-6e54c470-651f-4db0-8dec-287206e09c48",
    "deepnote_cell_type": "code",
    "deepnote_output_heights": [
     213
    ],
    "deepnote_to_be_reexecuted": false,
    "execution_millis": 5,
    "execution_start": 1643061042828,
    "source_hash": "735ec8cc",
    "tags": []
   },
   "outputs": [],
   "source": [
    "pca_df['PC-1'].nsmallest(n=10)"
   ]
  },
  {
   "cell_type": "markdown",
   "metadata": {
    "cell_id": "00074-36ed5ccd-6955-43e3-8307-0af591c20a23",
    "deepnote_cell_type": "markdown",
    "tags": []
   },
   "source": [
    "Here are the 10 features that showed the least variance for PC2. These are mostly FEMA variables:"
   ]
  },
  {
   "cell_type": "code",
   "execution_count": null,
   "metadata": {
    "cell_id": "00075-3c723061-acd3-49de-b990-b49c6630975a",
    "deepnote_cell_type": "code",
    "deepnote_output_heights": [
     213
    ],
    "deepnote_to_be_reexecuted": false,
    "execution_millis": 7,
    "execution_start": 1643061088304,
    "source_hash": "c2c610f",
    "tags": []
   },
   "outputs": [],
   "source": [
    "pca_df['PC-2'].nsmallest(n=10)"
   ]
  },
  {
   "cell_type": "markdown",
   "metadata": {
    "cell_id": "00076-26d41b68-bc3e-439c-9ac4-c6cfd04f11e9",
    "deepnote_cell_type": "markdown",
    "tags": []
   },
   "source": [
    "#### Biplot\n",
    "The cosine of the angle between any two variable markers (vectors) is the coefficient of correlation between those variables.\n",
    "Note - this only holds if first two PC capture 80% of variance which is NOT the case here.\n",
    "\n",
    "The cosine of the angle between a vector and the axis for a given PC is the coefficient of correlation between those two variables."
   ]
  },
  {
   "cell_type": "code",
   "execution_count": null,
   "metadata": {
    "cell_id": "00077-f9e3435a-c960-4132-8fb1-a9d7a09654e0",
    "deepnote_cell_type": "code",
    "deepnote_output_heights": [
     null,
     579.859375
    ],
    "deepnote_to_be_reexecuted": false,
    "execution_millis": 328,
    "execution_start": 1643061121154,
    "source_hash": "74fa1a0c",
    "tags": []
   },
   "outputs": [],
   "source": [
    "#From SIADS 543\n",
    "feature_subset_count = 10\n",
    "\n",
    "### Feel free to use this routine to plot your own biplots!\n",
    "def biplot(score, coeff, maxdim, pcax, pcay, labels=None):\n",
    "    zoom = 0.5\n",
    "    pca1=pcax-1\n",
    "    pca2=pcay-1\n",
    "    xs = score[:,pca1]\n",
    "    ys = score[:,pca2]\n",
    "    n = min(coeff.shape[0], maxdim)\n",
    "    width = 2.0 * zoom\n",
    "    scalex = width/(xs.max()- xs.min())\n",
    "    scaley = width/(ys.max()- ys.min())\n",
    "    text_scale_factor = 1.3\n",
    "        \n",
    "    fig = plt.gcf()\n",
    "    fig.set_size_inches(9, 9)\n",
    "    \n",
    "    plt.scatter(xs*scalex, ys*scaley, s=9)\n",
    "    for i in range(n):\n",
    "        plt.arrow(0, 0, coeff[i,pca1], coeff[i,pca2],\n",
    "                  color='b',alpha=0.9, head_width = 0.03 * zoom) \n",
    "        if labels is None:\n",
    "            plt.text(coeff[i,pca1]* text_scale_factor, \n",
    "                     coeff[i,pca2] * text_scale_factor, \n",
    "                     \"Var\"+str(i+1), color='g', ha='center', va='center')\n",
    "        else:\n",
    "            plt.text(coeff[i,pca1]* text_scale_factor, \n",
    "                     coeff[i,pca2] * text_scale_factor, \n",
    "                     labels[i], color='black', ha='center', va='center')\n",
    "    \n",
    "    plt.xlim(-zoom,zoom)\n",
    "    plt.ylim(-zoom,zoom)\n",
    "    plt.xlabel(\"PC{}\".format(pcax))\n",
    "    plt.ylabel(\"PC{}\".format(pcay))\n",
    "    plt.grid()\n",
    "\n",
    "plt.figure()\n",
    "\n",
    "feature_subset = slice(0, feature_subset_count, 1)\n",
    "\n",
    "biplot(pca_data, np.transpose(pca.components_[0:2, feature_subset]), \n",
    "       feature_subset_count, 1, 2, labels=feature_names[feature_subset])\n",
    "\n",
    "print(\"explained_variance_ratio:\", pca.explained_variance_ratio_)\n",
    "print(\"sum of explained variance ratios:\", np.sum(pca.explained_variance_ratio_))\n",
    "print(\"singular values:\", pca.singular_values_)  \n"
   ]
  },
  {
   "cell_type": "markdown",
   "metadata": {
    "cell_id": "00078-c097918e-15e5-4618-a3fa-3b589e060856",
    "deepnote_cell_type": "markdown",
    "tags": []
   },
   "source": [
    "### K-Means after PCA\n",
    "\n",
    "Now we will train our model based on the new features generated by PCA"
   ]
  },
  {
   "cell_type": "code",
   "execution_count": null,
   "metadata": {
    "cell_id": "00079-fae76430-3e3e-43ab-ab65-0116e6f3f1fb",
    "deepnote_cell_type": "code",
    "deepnote_to_be_reexecuted": false,
    "execution_millis": 456,
    "execution_start": 1643061149831,
    "source_hash": "8ab33337",
    "tags": []
   },
   "outputs": [],
   "source": [
    "kmeans = KMeans(n_clusters=4, random_state=42).fit(scaled_data)"
   ]
  },
  {
   "cell_type": "code",
   "execution_count": null,
   "metadata": {
    "cell_id": "00080-6cac59fe-1fcc-495d-aa5b-a9314b989761",
    "deepnote_cell_type": "code",
    "deepnote_output_heights": [
     591
    ],
    "deepnote_to_be_reexecuted": false,
    "execution_millis": 407,
    "execution_start": 1643061169159,
    "source_hash": "27bba83a",
    "tags": []
   },
   "outputs": [],
   "source": [
    "#NOTE - for some reason, you need to run this again seperately in order for the cluster centers\n",
    "# to print in the correct spot\n",
    "centers = np.array(kmeans.cluster_centers_)\n",
    "#print(centers)\n",
    "\n",
    "pca_label = kmeans.fit_predict(pca_data)\n",
    "plt.figure(figsize=(10,10))\n",
    "uniq = np.unique(pca_label)\n",
    "for i in uniq:\n",
    "   plt.scatter(pca_data[pca_label == i , 0] , pca_data[pca_label == i , 1] , label = i)\n",
    "plt.scatter(centers[:,0], centers[:,1], marker=\"x\", color='k')\n",
    "#This is done to find the centroid for each clusters.\n",
    "plt.legend()\n",
    "plt.xlabel('PC1')\n",
    "plt.ylabel('PC2')\n",
    "plt.show()"
   ]
  },
  {
   "cell_type": "code",
   "execution_count": null,
   "metadata": {
    "cell_id": "00081-e43807e2-61d8-4fd7-b96c-487eb7fcc41d",
    "deepnote_cell_type": "code",
    "deepnote_output_heights": [
     59.5625
    ],
    "deepnote_to_be_reexecuted": false,
    "execution_millis": 0,
    "execution_start": 1643061208691,
    "source_hash": "47161be0",
    "tags": []
   },
   "outputs": [],
   "source": [
    "\n",
    "county_cluster = list(zip(county_list_mapper, list(pca_label)))\n",
    "\n",
    "new_df = pd.DataFrame(county_cluster, columns=['name', 'kmeans_pca_cluster'])\n",
    "new_df\n",
    "\n",
    "us_all = us_all.merge(new_df, how = 'inner', on = 'name')"
   ]
  },
  {
   "cell_type": "code",
   "execution_count": null,
   "metadata": {
    "cell_id": "00082-09d26cc8-8c8a-4715-b196-8c0bbbdc01a4",
    "deepnote_cell_type": "code",
    "deepnote_output_heights": [
     null,
     40.375,
     21.1875
    ],
    "deepnote_to_be_reexecuted": false,
    "execution_millis": 254,
    "execution_start": 1643061226907,
    "source_hash": "504f6c6d",
    "tags": []
   },
   "outputs": [],
   "source": [
    "#Show K-Means after PCA clusters map\n",
    "kmeans_pca_chart = alt.Chart(us_all).mark_geoshape().encode(\n",
    "    tooltip='NAME',\n",
    "    color='kmeans_pca_cluster:N'\n",
    ").properties(title='K-Means With 4 Clusters on PCA Results - 2018 Data')\n",
    "kmeans_pca_chart"
   ]
  },
  {
   "cell_type": "markdown",
   "metadata": {
    "cell_id": "00083-d01de371-3d07-4850-aa08-c31591666239",
    "deepnote_cell_type": "markdown",
    "tags": []
   },
   "source": []
  },
  {
   "cell_type": "markdown",
   "metadata": {
    "created_in_deepnote_cell": true,
    "deepnote_cell_type": "markdown",
    "tags": []
   },
   "source": [
    "<a style='text-decoration:none;line-height:16px;display:flex;color:#5B5B62;padding:10px;justify-content:end;' href='https://deepnote.com?utm_source=created-in-deepnote-cell&projectId=f6c76417-5fde-42f3-8920-755838dec3fa' target=\"_blank\">\n",
    "<img alt='Created in deepnote.com' style='display:inline;max-height:16px;margin:0px;margin-right:7.5px;' src='data:image/svg+xml;base64,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' > </img>\n",
    "Created in <span style='font-weight:600;margin-left:4px;'>Deepnote</span></a>"
   ]
  }
 ],
 "metadata": {
  "deepnote": {
   "is_reactive": false
  },
  "deepnote_execution_queue": [],
  "deepnote_notebook_id": "e1255b9f-0930-4cfb-8a00-ba50666a1f5b"
 },
 "nbformat": 4,
 "nbformat_minor": 2
}
