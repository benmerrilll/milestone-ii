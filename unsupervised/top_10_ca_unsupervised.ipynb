{
 "cells": [
  {
   "cell_type": "markdown",
   "metadata": {
    "cell_id": "f00f9a04-b946-43be-8441-1617c2fa4fe7",
    "deepnote_cell_type": "markdown",
    "tags": []
   },
   "source": [
    "## California Supervised Learning - MinMax Scaler\n",
    "### Top 10 Features Only"
   ]
  },
  {
   "cell_type": "markdown",
   "metadata": {
    "cell_id": "e5e7e331-7d8c-45fd-8638-66b26990caa6",
    "deepnote_cell_type": "markdown",
    "tags": []
   },
   "source": [
    "For this notebook, we are going to only use the top 10 features found in our supervised learning and use this for unsupervised learning. Will our results be the same?"
   ]
  },
  {
   "cell_type": "code",
   "execution_count": null,
   "metadata": {
    "cell_id": "00001-84322ed5-7834-4b31-bcb7-c740017885a2",
    "deepnote_cell_type": "code",
    "deepnote_to_be_reexecuted": false,
    "execution_millis": 5095,
    "execution_start": 1643140158038,
    "source_hash": "9efb9516",
    "tags": []
   },
   "outputs": [],
   "source": [
    "import pandas as pd\n",
    "import matplotlib.pyplot as plt\n",
    "import numpy as np\n",
    "from tqdm import tqdm\n",
    "import collections\n",
    "\n",
    "from sklearn.preprocessing import MinMaxScaler\n",
    "from sklearn.decomposition import PCA\n",
    "from sklearn import metrics\n",
    "from sklearn.metrics import silhouette_samples\n",
    "from sklearn.cluster import KMeans, AgglomerativeClustering, DBSCAN\n",
    "from scipy.cluster.hierarchy import ward, dendrogram, complete as comp, average, single\n",
    "\n",
    "import geopandas as gpd\n",
    "import pygeos\n",
    "import gpdvega \n",
    "\n",
    "import altair as alt\n"
   ]
  },
  {
   "cell_type": "code",
   "execution_count": null,
   "metadata": {
    "cell_id": "00002-f43f29fd-70f4-40ef-8192-5d85d44641ec",
    "deepnote_cell_type": "code",
    "deepnote_to_be_reexecuted": false,
    "execution_millis": 950,
    "execution_start": 1643140163109,
    "source_hash": "3fd7da40",
    "tags": []
   },
   "outputs": [],
   "source": [
    "#Load in US shape data\n",
    "counties = gpd.read_file('/work/ca-county-boundaries/CA_Counties/CA_Counties_TIGER2016.shp')\n",
    "counties['county_name'] = counties['NAME'].str.lower()\n",
    "counties.head()"
   ]
  },
  {
   "cell_type": "code",
   "execution_count": null,
   "metadata": {
    "cell_id": "00003-ed0d85cf-b1a2-40b0-95cc-27269817e556",
    "deepnote_cell_type": "code",
    "deepnote_output_heights": [
     1
    ],
    "deepnote_to_be_reexecuted": false,
    "execution_millis": 19,
    "execution_start": 1643140164054,
    "source_hash": "736f9611",
    "tags": []
   },
   "outputs": [],
   "source": [
    "#Load in California data\n",
    "ca_df = pd.read_csv('/work/cleaned-csvs/ca_counties_full_dataset.csv')\n",
    "\n",
    "ca_df.columns"
   ]
  },
  {
   "cell_type": "code",
   "execution_count": null,
   "metadata": {
    "cell_id": "00004-62ddaa99-f1fe-41ec-9ca4-dec938d02882",
    "deepnote_cell_type": "code",
    "deepnote_output_heights": [
     1
    ],
    "deepnote_to_be_reexecuted": false,
    "execution_millis": 163,
    "execution_start": 1643140164122,
    "source_hash": "1dc3e027",
    "tags": []
   },
   "outputs": [],
   "source": [
    "# Check for sparse columns\n",
    "nullseries=ca_df.isna().sum()\n",
    "nullseries[nullseries > 0]"
   ]
  },
  {
   "cell_type": "code",
   "execution_count": null,
   "metadata": {
    "cell_id": "00005-83c1e0ea-d4ce-42c5-8db6-c16ec8050ca4",
    "deepnote_cell_type": "code",
    "deepnote_output_heights": [
     21.1875
    ],
    "deepnote_to_be_reexecuted": false,
    "execution_millis": 172,
    "execution_start": 1643140164124,
    "source_hash": "7e78396d",
    "tags": []
   },
   "outputs": [],
   "source": [
    "#Data prep for unsupervised learning tasks\n",
    "\n",
    "#Let's just look at one year of data, 2018\n",
    "ca_df = ca_df[ca_df['year']==2018]\n",
    "\n",
    "#Before removing text columns, create a mapper for county names\n",
    "ca_df = ca_df.reset_index()\n",
    "county_list_mapper = list(ca_df['county_name'])\n",
    "county_dict_mapper = (ca_df[['county_name']].to_dict('index'))\n",
    "\n",
    "#Identify and drop non-numeric fields\n",
    "non_numeric = ca_df.select_dtypes(exclude='number').columns.to_list()\n",
    "ca_df = ca_df.drop(columns=non_numeric)\n",
    "\n",
    "\n",
    "#Remove fields that are numeric, but not meaningful features of the county\n",
    "ca_df = ca_df.drop(columns = {'state','county', 'longitude',\n",
    "       'latitude','year'})\n",
    "\n",
    "\n",
    "ca_df.shape"
   ]
  },
  {
   "cell_type": "code",
   "execution_count": null,
   "metadata": {
    "cell_id": "8caad5d4-19f9-40a5-806c-f414b4bd5059",
    "deepnote_cell_type": "code",
    "deepnote_to_be_reexecuted": false,
    "execution_millis": 72,
    "execution_start": 1643140164229,
    "source_hash": "e1ab3783",
    "tags": []
   },
   "outputs": [],
   "source": [
    "#Only keep the top 10 features\n",
    "top_10 = [ 'democrat_pct','bea_number_of_people',\n",
    "        'per_capita_farm_proprieter_jobs','total_population',\n",
    "       'perc_white', 'perc_other_race', 'perc_hispanic', \n",
    "       'perc_owner', 'perc_renter', 'area_water']\n",
    "\n",
    "ca_df = ca_df[top_10]\n",
    "ca_df.head()"
   ]
  },
  {
   "cell_type": "code",
   "execution_count": null,
   "metadata": {
    "cell_id": "00006-a9f2bde9-73b4-466f-a017-bda83b4a6592",
    "deepnote_cell_type": "code",
    "deepnote_output_heights": [
     1
    ],
    "deepnote_to_be_reexecuted": false,
    "execution_millis": 7,
    "execution_start": 1643140164253,
    "source_hash": "c7f7ed34",
    "tags": []
   },
   "outputs": [],
   "source": [
    "#Store the column names for later use\n",
    "ca_df_columns = ca_df.columns\n",
    "ca_df_columns"
   ]
  },
  {
   "cell_type": "markdown",
   "metadata": {
    "cell_id": "00007-a543d25e-2064-4f38-acf5-3088f42875fe",
    "deepnote_cell_type": "markdown",
    "tags": []
   },
   "source": [
    "### Feature Scaling\n",
    "We'll use min-max normalization since all of our features are on different scales, and also numeric."
   ]
  },
  {
   "cell_type": "code",
   "execution_count": null,
   "metadata": {
    "cell_id": "00008-d28edca5-9db5-4c7c-839f-c440553a9907",
    "deepnote_cell_type": "code",
    "deepnote_output_heights": [
     null,
     611
    ],
    "deepnote_to_be_reexecuted": false,
    "execution_millis": 80,
    "execution_start": 1643140164340,
    "source_hash": "9f99e1d7",
    "tags": []
   },
   "outputs": [],
   "source": [
    "scaler = MinMaxScaler()\n",
    "scaled_data = scaler.fit_transform(ca_df)\n",
    "\n",
    "# verify that there are no missing values and inspect data\n",
    "print('missing values:', pd.DataFrame(scaled_data).isna().sum().sum())\n",
    "pd.DataFrame(scaled_data)\n"
   ]
  },
  {
   "cell_type": "code",
   "execution_count": null,
   "metadata": {
    "cell_id": "00009-bb6ca4a2-5f5c-4450-896c-919cd27a8335",
    "deepnote_cell_type": "code",
    "deepnote_output_heights": [
     1
    ],
    "deepnote_to_be_reexecuted": false,
    "execution_millis": 7406268,
    "execution_start": 1643140164419,
    "source_hash": "a1f2dea6",
    "tags": []
   },
   "outputs": [],
   "source": [
    "scaled_data.shape"
   ]
  },
  {
   "cell_type": "markdown",
   "metadata": {
    "cell_id": "00010-ee912f1a-4524-427f-9163-9d81a4dd0700",
    "deepnote_cell_type": "markdown",
    "tags": []
   },
   "source": [
    "### K-Means Clustering\n",
    "\n",
    "We will run K-Means with multiple n_clusters values so we can use the elbow method. To determine the optimal number of clusters, we have to select the value of k at the “elbow”, or the point after which the inertia start decreasing in a linear fashion. \n",
    "\n",
    "Inertia is the sum of squared distances of samples to their closest cluster center (SSE)\n",
    "\n",
    "We will try two methods of initializing K-Means, the default, which is 'k-means++', which selectes inital cluster centers in a \"smart way\", and 'random' which choses initial centroids at random.\n",
    "\n",
    "We will also look at two metrics to check the quality of our clusters:\n",
    "\n",
    "#### Davies_Bouldin Index\n",
    "This index signifies the average ‘similarity’ between clusters, where the similarity is a measure that compares the distance between clusters with the size of the clusters themselves. Zero is the lowest possible score. Values closer to zero indicate a better partition.\n",
    "\n",
    "#### Calinski-Harabasz Index\n",
    "The index is the ratio of the sum of between-clusters dispersion and of within-cluster dispersion for all clusters (where dispersion is defined as the sum of distances squared). The score is higher when clusters are dense and well separated, which relates to a standard concept of a cluster.\n",
    "\n"
   ]
  },
  {
   "cell_type": "code",
   "execution_count": null,
   "metadata": {
    "cell_id": "00011-a48e2b68-9202-4afe-a837-450362da3d24",
    "deepnote_cell_type": "code",
    "deepnote_output_heights": [
     null,
     462.5
    ],
    "deepnote_to_be_reexecuted": false,
    "execution_millis": 2073,
    "execution_start": 1643140164470,
    "source_hash": "5865b14d",
    "tags": []
   },
   "outputs": [],
   "source": [
    "k_range = [*range(2, 19)]\n",
    "\n",
    "#Calculate inertia scores using the default initialization 'k-means++'\n",
    "inertia_scores = []\n",
    "for k in k_range:\n",
    "    kmeans = KMeans(n_clusters=k, random_state=42,init ='k-means++').fit(scaled_data)\n",
    "    inertia_scores.append(kmeans.inertia_)\n",
    "    kmeans.fit(scaled_data)\n",
    "    ch_score = metrics.calinski_harabasz_score(scaled_data,kmeans.labels_)\n",
    "    db_score = metrics.davies_bouldin_score(scaled_data,kmeans.labels_)\n",
    "    print('k: {}, ch_score: {}, db_score {} '.format(k,ch_score,db_score))\n"
   ]
  },
  {
   "cell_type": "markdown",
   "metadata": {
    "cell_id": "00012-dcc9b697-d867-43ac-898e-ef651adea0f4",
    "deepnote_cell_type": "markdown",
    "tags": []
   },
   "source": [
    "Our Calinksi-Harabasz scores are all low.\n",
    "\n",
    "inertia_ provides the sum of the squared error, SSE. We will plot this to find \"elbow\"\n"
   ]
  },
  {
   "cell_type": "code",
   "execution_count": null,
   "metadata": {
    "cell_id": "00013-2e6ca717-b3ba-41de-9dc6-7262ae1bdfab",
    "deepnote_cell_type": "code",
    "deepnote_output_heights": [
     1,
     280
    ],
    "deepnote_to_be_reexecuted": false,
    "execution_millis": 260,
    "execution_start": 1643140166502,
    "source_hash": "f5681091",
    "tags": []
   },
   "outputs": [],
   "source": [
    "plt.plot(k_range, inertia_scores, '-o')\n",
    "plt.ylabel('SSE')\n",
    "plt.xlabel('Number of clusters (k)')\n",
    "plt.title('The Elbow Method using \"k-means++\" initialization ')"
   ]
  },
  {
   "cell_type": "markdown",
   "metadata": {
    "cell_id": "00014-cc8640af-5633-4ca4-8964-fc0a98e5d283",
    "deepnote_cell_type": "markdown",
    "tags": []
   },
   "source": [
    "Seeing an elbow at about 6, let's try using the random initialization"
   ]
  },
  {
   "cell_type": "code",
   "execution_count": null,
   "metadata": {
    "cell_id": "00015-7c319fc4-65f9-49ec-b57d-5de84c8f5e7a",
    "deepnote_cell_type": "code",
    "deepnote_to_be_reexecuted": false,
    "execution_millis": 1061,
    "execution_start": 1643140166774,
    "source_hash": "efb7646c",
    "tags": []
   },
   "outputs": [],
   "source": [
    "inertia_scores = []\n",
    "for k in k_range:\n",
    "    kmeans = KMeans(n_clusters=k, random_state=42,init='random').fit(scaled_data)\n",
    "    inertia_scores.append(kmeans.inertia_)\n",
    "    kmeans.fit(scaled_data)\n",
    "    ch_score = metrics.calinski_harabasz_score(scaled_data,kmeans.labels_)\n",
    "    db_score = metrics.davies_bouldin_score(scaled_data,kmeans.labels_)\n",
    "    print('k: {}, ch_score: {}, db_score {} '.format(k,ch_score,db_score))\n",
    "\n"
   ]
  },
  {
   "cell_type": "markdown",
   "metadata": {
    "cell_id": "00016-0d4d06d1-ba1b-431f-bfe7-dfff2b6c7f80",
    "deepnote_cell_type": "markdown",
    "tags": []
   },
   "source": [
    "Our Calinski-Harabasz scores are still low. Let's see if the elbow shows us anything different..."
   ]
  },
  {
   "cell_type": "code",
   "execution_count": null,
   "metadata": {
    "cell_id": "00017-b2bbb60e-1c07-4cb8-a6c1-1a42398c7807",
    "deepnote_cell_type": "code",
    "deepnote_output_heights": [
     1,
     280
    ],
    "deepnote_to_be_reexecuted": false,
    "execution_millis": 269,
    "execution_start": 1643140167746,
    "source_hash": "27c64e49",
    "tags": []
   },
   "outputs": [],
   "source": [
    "plt.plot(k_range, inertia_scores, '-o')\n",
    "plt.ylabel('SSE')\n",
    "plt.xlabel('Number of clusters (k)')\n",
    "plt.title('The Elbow Method using \"random\" initialization')"
   ]
  },
  {
   "cell_type": "markdown",
   "metadata": {
    "cell_id": "00018-3f44a5af-4b67-4cea-9e0b-59c89a4bdf9c",
    "deepnote_cell_type": "markdown",
    "tags": []
   },
   "source": [
    "Looks like the elbow is present at 6 clusters. Let's try using silhouette analysis.\n",
    "\n",
    "From https://scikit-learn.org/stable/auto_examples/cluster/plot_kmeans_silhouette_analysis.html#sphx-glr-auto-examples-cluster-plot-kmeans-silhouette-analysis-py:\n",
    "\n",
    "Silhouette analysis can be used to study the separation distance between the resulting clusters. The silhouette plot displays a measure of how close each point in one cluster is to points in the neighboring clusters and thus provides a way to assess parameters like number of clusters visually. This measure has a range of [-1, 1].\n",
    "\n",
    "Silhouette coefficients (as these values are referred to as) near +1 indicate that the sample is far away from the neighboring clusters. A value of 0 indicates that the sample is on or very close to the decision boundary between two neighboring clusters and negative values indicate that those samples might have been assigned to the wrong cluster.\n",
    "\n"
   ]
  },
  {
   "cell_type": "code",
   "execution_count": null,
   "metadata": {
    "cell_id": "00019-631ed0e6-2cab-49a0-b1b7-25e0d7bb9bbb",
    "deepnote_cell_type": "code",
    "deepnote_output_heights": [
     null,
     491,
     491,
     491,
     491,
     491,
     491,
     491,
     491,
     491
    ],
    "deepnote_to_be_reexecuted": false,
    "execution_millis": 4599,
    "execution_start": 1643140168053,
    "source_hash": "7e726dbe",
    "tags": []
   },
   "outputs": [],
   "source": [
    "# Code from https://towardsdatascience.com/k-means-clustering-algorithm-applications-evaluation-methods-and-drawbacks-aa03e644b48a\n",
    "# Per the article, a good number of clusters will have a well above 0.5 silhouette \n",
    "# average score as well as all of the clusters have higher than the average score\n",
    "\n",
    "for i, k in enumerate(range(2,11)):\n",
    "    #fig, (ax1, ax2) = plt.subplots(1, 2)\n",
    "    fig, ax1 = plt.subplots(1, 1)\n",
    "    fig.set_size_inches(18, 7)\n",
    "    \n",
    "    # Run the Kmeans algorithm\n",
    "    km = KMeans(n_clusters=k)\n",
    "    labels = km.fit_predict(scaled_data)\n",
    "    centroids = km.cluster_centers_\n",
    "\n",
    "    # Get silhouette samples\n",
    "    silhouette_vals = silhouette_samples(scaled_data, labels)\n",
    "\n",
    "    # Silhouette plot\n",
    "    y_ticks = []\n",
    "    y_lower, y_upper = 0, 0\n",
    "    for i, cluster in enumerate(np.unique(labels)):\n",
    "        cluster_silhouette_vals = silhouette_vals[labels == cluster]\n",
    "        cluster_silhouette_vals.sort()\n",
    "        y_upper += len(cluster_silhouette_vals)\n",
    "        ax1.barh(range(y_lower, y_upper), cluster_silhouette_vals, edgecolor='none', height=1)\n",
    "        ax1.text(-0.03, (y_lower + y_upper) / 2, str(i + 1))\n",
    "        y_lower += len(cluster_silhouette_vals)\n",
    "\n",
    "    # Get the average silhouette score and plot it\n",
    "    avg_score = np.mean(silhouette_vals)\n",
    "    ax1.axvline(avg_score, linestyle='--', linewidth=2, color='green')\n",
    "    ax1.set_yticks([])\n",
    "    ax1.set_xlim([-0.1, 1])\n",
    "    ax1.set_xlabel('Silhouette coefficient values')\n",
    "    ax1.set_ylabel('Cluster labels')\n",
    "    ax1.set_title('Silhouette plot for the various clusters', y=1.02);\n",
    "    print('Average silhouette score for {} clusters is {}'.format(k,avg_score))\n",
    "    \n",
    "   # plt.tight_layout()\n",
    "    plt.suptitle(f'Silhouette analysis using k = {k}',\n",
    "                 fontsize=16, fontweight='semibold', y=1.05);\n"
   ]
  },
  {
   "cell_type": "markdown",
   "metadata": {
    "cell_id": "00020-48091607-031f-45be-b7d3-5045c47cbc4a",
    "deepnote_cell_type": "markdown",
    "tags": []
   },
   "source": [
    "This is looking MUCH better now that we are focusing in on the main features. 6 clusters provides us the highest average score and also one of the highest individual cluster scores"
   ]
  },
  {
   "cell_type": "markdown",
   "metadata": {
    "cell_id": "8743d858-7d2e-4eb9-b1ff-a8159e002146",
    "deepnote_cell_type": "markdown",
    "tags": []
   },
   "source": []
  },
  {
   "cell_type": "code",
   "execution_count": null,
   "metadata": {
    "cell_id": "dcbca00a-3db4-4ade-a170-f37282c65f6b",
    "deepnote_cell_type": "code",
    "deepnote_to_be_reexecuted": false,
    "execution_millis": 1,
    "execution_start": 1643140172616,
    "source_hash": "7db319ab",
    "tags": []
   },
   "outputs": [],
   "source": [
    "kmeans_6 = KMeans(n_clusters=6, random_state=42).fit(scaled_data)"
   ]
  },
  {
   "cell_type": "code",
   "execution_count": null,
   "metadata": {
    "cell_id": "a39ed15c-b147-45b5-9bf3-3daea7f076d8",
    "deepnote_cell_type": "code",
    "deepnote_to_be_reexecuted": false,
    "execution_millis": 1,
    "execution_start": 1643140172618,
    "source_hash": "22b5cee8",
    "tags": []
   },
   "outputs": [],
   "source": [
    "#Zip together the mapper and the cluster assignment\n",
    "\n",
    "county_cluster = list(zip(county_list_mapper, list(kmeans_6.labels_)))\n",
    "\n",
    "#Create new dataframe to contain the cluster\n",
    "new_df = pd.DataFrame(county_cluster, columns=['county_name', 'kmeans_6_cluster'])\n",
    "new_df\n",
    "\n",
    "#Show the clusters on a map\n",
    "ca_all = pd.merge(counties,new_df,how='inner',on='county_name')\n"
   ]
  },
  {
   "cell_type": "code",
   "execution_count": null,
   "metadata": {
    "cell_id": "d5cd224a-7500-4529-ad42-5fa701022807",
    "deepnote_cell_type": "code",
    "deepnote_to_be_reexecuted": false,
    "execution_millis": 866,
    "execution_start": 1643140172619,
    "source_hash": "8584183c",
    "tags": []
   },
   "outputs": [],
   "source": [
    "ca_all.head()"
   ]
  },
  {
   "cell_type": "code",
   "execution_count": null,
   "metadata": {
    "cell_id": "032c69c6-2846-4203-bb2f-65b90985dbf3",
    "deepnote_cell_type": "code",
    "deepnote_output_heights": [
     null,
     1
    ],
    "deepnote_to_be_reexecuted": false,
    "execution_millis": 4550,
    "execution_start": 1643140173309,
    "source_hash": "c45001c",
    "tags": []
   },
   "outputs": [],
   "source": [
    "#Show K-Means with 6 clusters map\n",
    "kmeans6_chart = alt.Chart(ca_all).mark_geoshape().encode(\n",
    "    tooltip='NAME',\n",
    "    color='kmeans_6_cluster:N'\n",
    ").properties(title='K-Means With 6 Clusters - 2018 Data')\n",
    "kmeans6_chart  "
   ]
  },
  {
   "cell_type": "markdown",
   "metadata": {
    "cell_id": "00021-dd57ed39-b023-41c1-a283-73cb7594c709",
    "deepnote_cell_type": "markdown",
    "tags": []
   },
   "source": [
    "### Agglomerative Clustering\n",
    "Agglomerative clustring performs a bottom up approach where each observation starts in its own cluster and clusters are successively merged together.\n",
    "\n",
    "There are 4 types of linkages we will consider:\n",
    "- Single: minimum distance between clusters\n",
    "- Complete: maximum distance between clusters\n",
    "- Average: average distance between clusters\n",
    "- Ward: difference between:\n",
    "- - The total within-cluster sum of squares for the two clusters seperately\n",
    "- - and\n",
    "- - The within-cluster sum of squares resulting from merging the two clusters\n",
    "\n",
    "We are using Ward's Method to start because it tends to create equal sized clusters and is effective for noisy data. \n",
    "\n",
    "The output of the ward function is as follows:\n",
    "- Column 1 and 2 are child nodes\n",
    "- Column 3 is distance\n",
    "- Column 4 is the number of leaf nodes merged\n",
    "\n",
    "Every node 58 and higher are nodes that are created from merges. Node id 58 is created from the first line of the ward result, node id 59 is the second line, etc."
   ]
  },
  {
   "cell_type": "code",
   "execution_count": null,
   "metadata": {
    "cell_id": "00022-69eac30e-186b-481d-82e4-d1baab881bf9",
    "deepnote_cell_type": "code",
    "deepnote_output_heights": [
     373
    ],
    "deepnote_to_be_reexecuted": false,
    "execution_millis": 2874,
    "execution_start": 1643140175285,
    "source_hash": "2c5e6009",
    "tags": []
   },
   "outputs": [],
   "source": [
    "plt.figure(figsize=(10,6))\n",
    "cls1 = ward(scaled_data)\n",
    "dendrogram(cls1)#,orientation='left')\n",
    "plt.title('Dendrogram using Ward Linkage')\n",
    "plt.show()\n",
    "\n",
    "print(cls1)"
   ]
  },
  {
   "cell_type": "markdown",
   "metadata": {
    "cell_id": "00023-3eec3fc8-ebe2-47c9-bac5-d941ef256cf0",
    "deepnote_cell_type": "markdown",
    "tags": []
   },
   "source": [
    "Based on the dendrogram we are going to assign the data to 2 clusters, so now we will run the clusters to get the assignment value"
   ]
  },
  {
   "cell_type": "code",
   "execution_count": null,
   "metadata": {
    "cell_id": "00024-bbf46b38-5d54-4508-b9ca-35bf57ed9fb2",
    "deepnote_cell_type": "code",
    "deepnote_output_heights": [
     60
    ],
    "deepnote_to_be_reexecuted": false,
    "execution_millis": 0,
    "execution_start": 1643140178130,
    "source_hash": "134d6ed8",
    "tags": []
   },
   "outputs": [],
   "source": [
    "cls_w = AgglomerativeClustering(n_clusters=2, linkage='ward')\n",
    "cls_assignment_w = cls_w.fit_predict(scaled_data)\n",
    "cls_assignment_w\n",
    "\n",
    "\n",
    "county_cluster = list(zip(county_list_mapper, list(cls_assignment_w)))\n",
    "\n",
    "new_df = pd.DataFrame(county_cluster, columns=['county_name', 'agglom_ward_cluster'])\n",
    "\n",
    "ca_all = ca_all.merge(new_df, how = 'inner', on = 'county_name')"
   ]
  },
  {
   "cell_type": "code",
   "execution_count": null,
   "metadata": {
    "cell_id": "00027-3b1fced1-7b11-40b3-9e5c-3239a8a53018",
    "deepnote_cell_type": "code",
    "deepnote_output_heights": [
     null,
     1
    ],
    "deepnote_to_be_reexecuted": false,
    "execution_millis": 1129,
    "execution_start": 1643140178131,
    "source_hash": "a242a55c",
    "tags": []
   },
   "outputs": [],
   "source": [
    "agglom_ward = alt.Chart(ca_all).mark_geoshape().encode(\n",
    "    tooltip='NAME',\n",
    "    color='agglom_ward_cluster:N'\n",
    ").properties(title='Agglomerative Clusters - Ward Linkage - 2018 Data')\n",
    "agglom_ward"
   ]
  },
  {
   "cell_type": "markdown",
   "metadata": {
    "cell_id": "00028-cdb2737d-3650-4556-b905-37c59a16ed28",
    "deepnote_cell_type": "markdown",
    "tags": []
   },
   "source": [
    "Out of curiousity, let's see if we get similar clusterings if we use different agglomerative clustering linkage methods "
   ]
  },
  {
   "cell_type": "code",
   "execution_count": null,
   "metadata": {
    "cell_id": "00029-7a87218a-fe3a-4cc5-ac6c-d79e89b70743",
    "deepnote_cell_type": "code",
    "deepnote_output_heights": [
     373
    ],
    "deepnote_to_be_reexecuted": false,
    "execution_millis": 1872,
    "execution_start": 1643140210753,
    "source_hash": "8c4d3d5c",
    "tags": []
   },
   "outputs": [],
   "source": [
    "#Complete linkage method\n",
    "plt.figure(figsize=(10,6))\n",
    "cls2 = comp(scaled_data)\n",
    "dendrogram(cls2)#,orientation='left')\n",
    "plt.title('Dendrogram using Complete Linkage')\n",
    "plt.show()\n",
    "\n",
    "#print(cls2)"
   ]
  },
  {
   "cell_type": "markdown",
   "metadata": {
    "cell_id": "00030-7a6c18a2-f580-4a35-a978-2dc4490529d7",
    "deepnote_cell_type": "markdown",
    "tags": []
   },
   "source": [
    "With complete linkage it seems that 3 clusters are more appropriate"
   ]
  },
  {
   "cell_type": "code",
   "execution_count": null,
   "metadata": {
    "cell_id": "00031-d94e2676-4ec7-41b4-a849-7cc87d1e4588",
    "deepnote_cell_type": "code",
    "deepnote_to_be_reexecuted": false,
    "execution_millis": 16,
    "execution_start": 1643140220349,
    "source_hash": "611b72f0",
    "tags": []
   },
   "outputs": [],
   "source": [
    "\n",
    "cls_c = AgglomerativeClustering(n_clusters=3, linkage='complete')\n",
    "cls_assignment_c = cls_c.fit_predict(scaled_data)\n",
    "\n",
    "county_cluster = list(zip(county_list_mapper, list(cls_assignment_c)))\n",
    "\n",
    "new_df = pd.DataFrame(county_cluster, columns=['county_name', 'agglom_complete_cluster'])\n",
    "\n",
    "ca_all = ca_all.merge(new_df, how = 'inner', on = 'county_name')"
   ]
  },
  {
   "cell_type": "code",
   "execution_count": null,
   "metadata": {
    "cell_id": "00032-c5dafad9-8266-4755-80ff-7bf6663068ce",
    "deepnote_cell_type": "code",
    "deepnote_output_heights": [
     373
    ],
    "deepnote_to_be_reexecuted": false,
    "execution_millis": 5007,
    "execution_start": 1643140223074,
    "source_hash": "8576713d",
    "tags": []
   },
   "outputs": [],
   "source": [
    "#Average Linkage Method\n",
    "plt.figure(figsize=(10,6))\n",
    "cls3 = average(scaled_data)\n",
    "dendrogram(cls3)#,orientation='left')\n",
    "plt.title('Dendrogram using Average Linkage')\n",
    "plt.show()\n",
    "\n",
    "#print(cls3)"
   ]
  },
  {
   "cell_type": "markdown",
   "metadata": {
    "cell_id": "00033-53876bf5-5815-4a79-90a1-20adc2c6be43",
    "deepnote_cell_type": "markdown",
    "tags": []
   },
   "source": [
    "With average linkage it seems that 2 clusters are appropriate"
   ]
  },
  {
   "cell_type": "code",
   "execution_count": null,
   "metadata": {
    "cell_id": "00034-0ad5cc83-bca4-4956-92c9-d286dafb707b",
    "deepnote_cell_type": "code",
    "deepnote_to_be_reexecuted": false,
    "execution_millis": 20,
    "execution_start": 1643140232346,
    "source_hash": "76221d76",
    "tags": []
   },
   "outputs": [],
   "source": [
    "\n",
    "cls_a = AgglomerativeClustering(n_clusters=2, linkage='average')\n",
    "cls_assignment_a = cls_a.fit_predict(scaled_data)\n",
    "\n",
    "county_cluster = list(zip(county_list_mapper, list(cls_assignment_a)))\n",
    "\n",
    "new_df = pd.DataFrame(county_cluster, columns=['county_name', 'agglom_average_cluster'])\n",
    "\n",
    "ca_all = ca_all.merge(new_df, how = 'inner', on = 'county_name')"
   ]
  },
  {
   "cell_type": "code",
   "execution_count": null,
   "metadata": {
    "cell_id": "00035-486049a0-a8df-43ae-86a5-7c475651abd3",
    "deepnote_cell_type": "code",
    "deepnote_output_heights": [
     373
    ],
    "deepnote_to_be_reexecuted": false,
    "execution_millis": 2166,
    "execution_start": 1643140238593,
    "source_hash": "92cb89b7",
    "tags": []
   },
   "outputs": [],
   "source": [
    "#Single linkage method\n",
    "plt.figure(figsize=(10,6))\n",
    "cls4 = single(scaled_data)\n",
    "dendrogram(cls4)#,orientation='left')\n",
    "plt.title('Dendrogram using Single Linkage')\n",
    "plt.show()\n",
    "\n",
    "#print(cls4)"
   ]
  },
  {
   "cell_type": "markdown",
   "metadata": {
    "cell_id": "00036-863ffeb8-e9e4-4516-9a2b-85a5fbfdd24a",
    "deepnote_cell_type": "markdown",
    "tags": []
   },
   "source": [
    "Using single linkage 3 clusters seems most appropriate"
   ]
  },
  {
   "cell_type": "code",
   "execution_count": null,
   "metadata": {
    "cell_id": "00037-a376f732-6707-4431-a539-5a35c9d81ce1",
    "deepnote_cell_type": "code",
    "deepnote_to_be_reexecuted": false,
    "execution_millis": 1,
    "execution_start": 1643140246358,
    "source_hash": "1a2641dc",
    "tags": []
   },
   "outputs": [],
   "source": [
    "cls_s = AgglomerativeClustering(n_clusters=3, linkage='single')\n",
    "cls_assignment_s = cls_s.fit_predict(scaled_data)\n",
    "\n",
    "county_cluster = list(zip(county_list_mapper, list(cls_assignment_s)))\n",
    "\n",
    "new_df = pd.DataFrame(county_cluster, columns=['county_name', 'agglom_single_cluster'])\n",
    "\n",
    "ca_all = ca_all.merge(new_df, how = 'inner', on = 'county_name')"
   ]
  },
  {
   "cell_type": "markdown",
   "metadata": {
    "cell_id": "00038-7ac17d3d-f458-4a02-b717-f24c820d8f73",
    "deepnote_cell_type": "markdown",
    "tags": []
   },
   "source": [
    "Show the rest of the agglomerative clustering maps"
   ]
  },
  {
   "cell_type": "code",
   "execution_count": null,
   "metadata": {
    "cell_id": "00039-4ee56409-30c7-4c66-99f7-cf3f89837b55",
    "deepnote_cell_type": "code",
    "deepnote_output_heights": [
     null,
     1
    ],
    "deepnote_to_be_reexecuted": false,
    "execution_millis": 1925,
    "execution_start": 1643140249906,
    "source_hash": "2d47dca4",
    "tags": []
   },
   "outputs": [],
   "source": [
    "#Show Complete Linkage Cluster Map\n",
    "\n",
    "complete = alt.Chart(ca_all).mark_geoshape().encode(\n",
    "    tooltip='NAME',\n",
    "    color='agglom_complete_cluster:N'\n",
    ").properties(title='Agglomerative Clusters - Complete Linkage - 2018 Data')\n",
    "\n",
    "complete"
   ]
  },
  {
   "cell_type": "code",
   "execution_count": null,
   "metadata": {
    "cell_id": "00040-0ca6dbac-de5d-4830-942b-2f708f376fdd",
    "deepnote_cell_type": "code",
    "deepnote_output_heights": [
     null,
     1
    ],
    "deepnote_to_be_reexecuted": false,
    "execution_millis": 1818,
    "execution_start": 1643140300453,
    "source_hash": "60395723",
    "tags": []
   },
   "outputs": [],
   "source": [
    "#Show average linkage cluster map\n",
    "average = alt.Chart(ca_all).mark_geoshape().encode(\n",
    "    tooltip='NAME',\n",
    "    color='agglom_average_cluster:N'\n",
    ").properties(title='Agglomerative Clusters - Average Linkage - 2018 Data')\n",
    "average"
   ]
  },
  {
   "cell_type": "code",
   "execution_count": null,
   "metadata": {
    "cell_id": "00041-98588103-58af-4880-9850-65f3647e3473",
    "deepnote_cell_type": "code",
    "deepnote_output_heights": [
     null,
     1
    ],
    "deepnote_to_be_reexecuted": false,
    "execution_millis": 1629,
    "execution_start": 1643140334671,
    "source_hash": "68ee5b90",
    "tags": []
   },
   "outputs": [],
   "source": [
    "#Show single linkage cluster map\n",
    "single = alt.Chart(ca_all).mark_geoshape().encode(\n",
    "    tooltip='NAME',\n",
    "    color='agglom_single_cluster:N'\n",
    ").properties(title='Agglomerative Clusters - Single Linkage - 2018 Data')\n",
    "single\n"
   ]
  },
  {
   "cell_type": "markdown",
   "metadata": {
    "cell_id": "00053-f15ceeaa-4906-4bd3-bda6-33a10b3c0ce1",
    "deepnote_cell_type": "markdown",
    "tags": []
   },
   "source": [
    "### DBSCAN\n",
    "DBSCAN works well with datasets that have more complex cluster shapes. Clusters represent areas in the data space that are more dense with data points, while being separated by regions that are empty, or at least much less densely populated. This is done using connected components from graph theory. \n",
    "\n",
    "The eps parameter is the maximum distance between two samples for one to be considered as in the neighborhood of the other.\n",
    "\n",
    "The min_samples parameter is the number of samples (or total weight) in a neighborhood for a point to be considered as a core point. This includes the point itself.\n",
    "\n",
    "DBSCAN labels data as noise by setting it's cluster value to -1, so we will need to keep an eye out for this.\n",
    "\n",
    "Also, DBSCAN clustering is not completely deterministic so the results may change over different runs."
   ]
  },
  {
   "cell_type": "code",
   "execution_count": null,
   "metadata": {
    "cell_id": "00054-efefa3d4-e3d3-4e23-87c0-e6f09c2b6960",
    "deepnote_cell_type": "code",
    "deepnote_output_heights": [
     21.1875
    ],
    "deepnote_to_be_reexecuted": false,
    "execution_millis": 90,
    "execution_start": 1643140547638,
    "source_hash": "2c85810f",
    "tags": []
   },
   "outputs": [],
   "source": [
    "#Since our data set is so small, we will go with 2 for min_samples, this means \n",
    "#we need two counties to create a cluster.\n",
    "\n",
    "#Let's check which values of eps work well for our dataset\n",
    "#If values are all -1 then eps is too small and everything is an outlier\n",
    "#If values are all set to 1 cluster than eps is too large\n",
    "\n",
    "for eps in np.linspace(0.2,0.7,10):\n",
    "    dbscan = DBSCAN(eps = eps, min_samples = 2)\n",
    "    cls_dbscan = dbscan.fit_predict(scaled_data)\n",
    "\n",
    "    counter=collections.Counter(cls_dbscan)\n",
    "\n",
    "    print('eps is: ',eps)\n",
    "    print(counter)\n"
   ]
  },
  {
   "cell_type": "markdown",
   "metadata": {
    "cell_id": "00055-408dd1b2-2280-4856-8dc4-68f966c6ab5c",
    "deepnote_cell_type": "markdown",
    "tags": []
   },
   "source": [
    "When eps is 0.37 we get 3 clusters and 14 outliers. \n",
    "\n",
    "\n",
    "\n"
   ]
  },
  {
   "cell_type": "markdown",
   "metadata": {
    "cell_id": "00056-01f72451-6316-4ed4-9d6c-ae7958d62de1",
    "deepnote_cell_type": "markdown",
    "tags": []
   },
   "source": [
    "Now, what if we allow clusters to contain just one county? Then there are no outliers, but potentially many clusters. Let's try the same analysis to check for the best eps value"
   ]
  },
  {
   "cell_type": "code",
   "execution_count": null,
   "metadata": {
    "cell_id": "00057-e364dbe8-4d81-45bf-b04e-3ea2b1c81668",
    "deepnote_cell_type": "code",
    "deepnote_to_be_reexecuted": false,
    "execution_millis": 1940,
    "execution_start": 1643140635337,
    "source_hash": "28d9df6b",
    "tags": []
   },
   "outputs": [],
   "source": [
    "for eps in np.linspace(0.2,0.7,10):\n",
    "    dbscan = DBSCAN(eps = eps, min_samples = 1)\n",
    "    cls_dbscan = dbscan.fit_predict(scaled_data)\n",
    "\n",
    "    counter=collections.Counter(cls_dbscan)\n",
    "\n",
    "    print('eps is: ',eps)\n",
    "    print(counter)\n"
   ]
  },
  {
   "cell_type": "markdown",
   "metadata": {
    "cell_id": "00058-cacbb4b0-f491-4783-9f2b-26a6707818ae",
    "deepnote_cell_type": "markdown",
    "tags": []
   },
   "source": [
    "If we compare this to the result for min_samples = 1, we see it is the same result for eps of 1.4 and 1.5 except that instead of being called an outlier, counties were created into their own clusters. Let's graph this so we can more easily see each singular county on its own."
   ]
  },
  {
   "cell_type": "code",
   "execution_count": null,
   "metadata": {
    "cell_id": "00059-081495b3-fd86-4a4b-bbb7-867fbe1d49ff",
    "deepnote_cell_type": "code",
    "deepnote_to_be_reexecuted": false,
    "execution_millis": 47,
    "execution_start": 1643140705135,
    "source_hash": "2264609d",
    "tags": []
   },
   "outputs": [],
   "source": [
    "dbscan_0_37 = DBSCAN(eps = 0.37, min_samples = 1)\n",
    "cls_dbscan_0_37 = dbscan_0_37.fit_predict(scaled_data)\n",
    "\n",
    "county_cluster = list(zip(county_list_mapper, list(cls_dbscan_0_37)))\n",
    "\n",
    "new_df = pd.DataFrame(county_cluster, columns=['county_name', 'dbscan_0_37_cluster'])\n",
    "\n",
    "ca_all = ca_all.merge(new_df, how = 'inner', on = 'county_name')"
   ]
  },
  {
   "cell_type": "code",
   "execution_count": null,
   "metadata": {
    "cell_id": "00061-568b3ba6-2cbf-45f8-87cd-6f9ee67b49f6",
    "deepnote_cell_type": "code",
    "deepnote_output_heights": [
     null,
     1
    ],
    "deepnote_to_be_reexecuted": false,
    "execution_millis": 5481,
    "execution_start": 1643140747413,
    "source_hash": "b0840953",
    "tags": []
   },
   "outputs": [],
   "source": [
    "#Show DBSCAN with eps = 0.37 cluster map\n",
    "dbscan_1_4_chart = alt.Chart(ca_all).mark_geoshape().encode(\n",
    "    tooltip=['NAME','dbscan_0_37_cluster'],\n",
    "    color='dbscan_0_37_cluster:N'\n",
    ").properties(title='DBSCAN with eps = 0.37 - 2018 Data')\n",
    "dbscan_1_4_chart"
   ]
  },
  {
   "cell_type": "markdown",
   "metadata": {
    "cell_id": "00063-b016438c-6adc-44a0-a30d-4e76a7b28232",
    "deepnote_cell_type": "markdown",
    "tags": []
   },
   "source": [
    "DBSCAN does not seem to be a good choice for us. "
   ]
  },
  {
   "cell_type": "markdown",
   "metadata": {
    "cell_id": "00064-9629a95d-a6f1-4d9a-a3e7-ad7da4323b78",
    "deepnote_cell_type": "markdown",
    "tags": []
   },
   "source": [
    "### PCA\n",
    "We are working with a lot of features in California. Maybe this is impacting the ability to create useful clusters. Let's try PCA to help identify the most relevant features and to reduce the dimensionality so we can try clustering again."
   ]
  },
  {
   "cell_type": "code",
   "execution_count": null,
   "metadata": {
    "cell_id": "00065-871e3abc-541d-4d50-b6b5-6cd9c7fea2f0",
    "deepnote_cell_type": "code",
    "deepnote_to_be_reexecuted": false,
    "execution_millis": 23,
    "execution_start": 1643140793192,
    "source_hash": "d81a5019",
    "tags": []
   },
   "outputs": [],
   "source": [
    "pca = PCA(2)\n",
    "pca_data = pca.fit_transform(scaled_data)"
   ]
  },
  {
   "cell_type": "markdown",
   "metadata": {
    "cell_id": "00066-a7dd189e-29d7-44f7-ac06-981b9edf6e12",
    "deepnote_cell_type": "markdown",
    "tags": []
   },
   "source": [
    "Let's plot and check the variance of the components using a variance ratio plot"
   ]
  },
  {
   "cell_type": "code",
   "execution_count": null,
   "metadata": {
    "cell_id": "00067-68def934-b27d-4d81-be5f-2cc01d88475f",
    "deepnote_cell_type": "code",
    "deepnote_output_heights": [
     577
    ],
    "deepnote_to_be_reexecuted": false,
    "execution_millis": 627,
    "execution_start": 1643140797909,
    "source_hash": "4246a12c",
    "tags": []
   },
   "outputs": [],
   "source": [
    "plt.figure(figsize=(10,10))\n",
    "var = np.round(pca.explained_variance_ratio_*100, decimals = 1)\n",
    "lbls = [str(x) for x in range(1,len(var)+1)]\n",
    "plt.bar(x=range(1,len(var)+1), height = var, tick_label = lbls)\n",
    "plt.show()"
   ]
  },
  {
   "cell_type": "code",
   "execution_count": null,
   "metadata": {
    "cell_id": "00068-d9071ca4-d92e-4b90-aab7-7e548a330000",
    "deepnote_cell_type": "code",
    "deepnote_output_heights": [
     1,
     451
    ],
    "deepnote_to_be_reexecuted": false,
    "execution_millis": 1058,
    "execution_start": 1643140877661,
    "source_hash": "7604fdfd",
    "tags": []
   },
   "outputs": [],
   "source": [
    "#Plot the magnitude of each feature value for the 2 principal components\n",
    "#fig, ax = plt.subplots(figsize=(20, 14))\n",
    "fig, ax = plt.subplots(figsize=(10, 8))\n",
    "plt.imshow(pca.components_[0:2], interpolation = 'none', cmap = 'plasma')\n",
    "feature_names=list(ca_df_columns)\n",
    "plt.xticks(np.arange(-0., len(feature_names), 1) , feature_names, rotation = 90, fontsize=10)\n",
    "plt.yticks(np.arange(0., 2, 1), ['First PC', 'Second PC'], fontsize = 16)\n",
    "plt.colorbar()"
   ]
  },
  {
   "cell_type": "markdown",
   "metadata": {
    "cell_id": "00069-5dd13c0e-0ce4-4977-bfc3-07b89a3bfb81",
    "deepnote_cell_type": "markdown",
    "tags": []
   },
   "source": [
    "Order of importance doesn't match the supervised learning results which were: \n",
    "- total_population\n",
    "- bea_number_of_people\n",
    "- perc_owner\n",
    "- perc_white\n",
    "- perc_renter\n",
    "- area_water\n",
    "- perc_hispanice\n",
    "- per_capita_farm_proprieter_jobs\n",
    "- democrat_pct\n",
    "- pct_other_race"
   ]
  },
  {
   "cell_type": "markdown",
   "metadata": {
    "cell_id": "00071-a6edcd9f-ddc1-46e2-aae3-580f115f4b49",
    "deepnote_cell_type": "markdown",
    "tags": []
   },
   "source": [
    "It's kind of hard to use the colors in this plot for actually gauging importance. Let's use the components_ method to find the features that provided the most variance for each of the principle components. Here are the top 10 in order in principle component 1:"
   ]
  },
  {
   "cell_type": "code",
   "execution_count": null,
   "metadata": {
    "cell_id": "00072-fec0b97f-7d3d-4d55-84e7-07e5e154721f",
    "deepnote_cell_type": "code",
    "deepnote_output_heights": [
     1
    ],
    "deepnote_to_be_reexecuted": false,
    "execution_millis": 8,
    "execution_start": 1643141254370,
    "source_hash": "67aa3801",
    "tags": []
   },
   "outputs": [],
   "source": [
    "pca_df = pd.DataFrame(pca.components_.T, index=ca_df_columns)\n",
    "pca_df['PC-1'] = abs(pca_df[0])\n",
    "pca_df['PC-2'] = abs(pca_df[1])\n",
    "\n",
    "pca_df['PC-1'].nlargest(n=10)"
   ]
  },
  {
   "cell_type": "markdown",
   "metadata": {
    "cell_id": "00073-c5d95fa2-70bc-4e8c-85c0-1d038ff696b9",
    "deepnote_cell_type": "markdown",
    "tags": []
   },
   "source": [
    "And the top 10 most important features for principle component 2:"
   ]
  },
  {
   "cell_type": "code",
   "execution_count": null,
   "metadata": {
    "cell_id": "315fc8d7-eb1a-4a8d-8420-a68b93504e0d",
    "deepnote_cell_type": "code",
    "deepnote_output_heights": [
     1
    ],
    "deepnote_to_be_reexecuted": false,
    "execution_millis": 6,
    "execution_start": 1643141998824,
    "source_hash": "33ad0743",
    "tags": []
   },
   "outputs": [],
   "source": [
    "pca_df['PC-2'].nlargest(n=10)"
   ]
  },
  {
   "cell_type": "markdown",
   "metadata": {
    "cell_id": "00079-0c48ec44-5ad1-4a39-96f8-0a4c0292cb0c",
    "deepnote_cell_type": "markdown",
    "tags": []
   },
   "source": [
    "#### Biplot\n",
    "The cosine of the angle between any two variable markers (vectors) is the coefficient of correlation between those variables.\n",
    "Note - this only holds if first two PC capture 80% of variance which is NOT the case here.\n",
    "\n",
    "The cosine of the angle between a vector and the axis for a given PC is the coefficient of correlation between those two variables."
   ]
  },
  {
   "cell_type": "code",
   "execution_count": null,
   "metadata": {
    "cell_id": "00080-52b3336d-a26c-4966-8e21-7420f5760b8e",
    "deepnote_cell_type": "code",
    "deepnote_output_heights": [
     null,
     611
    ],
    "deepnote_to_be_reexecuted": false,
    "execution_millis": 2029,
    "execution_start": 1643141469953,
    "source_hash": "74fa1a0c",
    "tags": []
   },
   "outputs": [],
   "source": [
    "#From SIADS 543\n",
    "feature_subset_count = 10\n",
    "\n",
    "### Feel free to use this routine to plot your own biplots!\n",
    "def biplot(score, coeff, maxdim, pcax, pcay, labels=None):\n",
    "    zoom = 0.5\n",
    "    pca1=pcax-1\n",
    "    pca2=pcay-1\n",
    "    xs = score[:,pca1]\n",
    "    ys = score[:,pca2]\n",
    "    n = min(coeff.shape[0], maxdim)\n",
    "    width = 2.0 * zoom\n",
    "    scalex = width/(xs.max()- xs.min())\n",
    "    scaley = width/(ys.max()- ys.min())\n",
    "    text_scale_factor = 1.3\n",
    "        \n",
    "    fig = plt.gcf()\n",
    "    fig.set_size_inches(9, 9)\n",
    "    \n",
    "    plt.scatter(xs*scalex, ys*scaley, s=9)\n",
    "    for i in range(n):\n",
    "        plt.arrow(0, 0, coeff[i,pca1], coeff[i,pca2],\n",
    "                  color='b',alpha=0.9, head_width = 0.03 * zoom) \n",
    "        if labels is None:\n",
    "            plt.text(coeff[i,pca1]* text_scale_factor, \n",
    "                     coeff[i,pca2] * text_scale_factor, \n",
    "                     \"Var\"+str(i+1), color='g', ha='center', va='center')\n",
    "        else:\n",
    "            plt.text(coeff[i,pca1]* text_scale_factor, \n",
    "                     coeff[i,pca2] * text_scale_factor, \n",
    "                     labels[i], color='black', ha='center', va='center')\n",
    "    \n",
    "    plt.xlim(-zoom,zoom)\n",
    "    plt.ylim(-zoom,zoom)\n",
    "    plt.xlabel(\"PC{}\".format(pcax))\n",
    "    plt.ylabel(\"PC{}\".format(pcay))\n",
    "    plt.grid()\n",
    "\n",
    "plt.figure()\n",
    "\n",
    "feature_subset = slice(0, feature_subset_count, 1)\n",
    "\n",
    "biplot(pca_data, np.transpose(pca.components_[0:2, feature_subset]), \n",
    "       feature_subset_count, 1, 2, labels=feature_names[feature_subset])\n",
    "\n",
    "print(\"explained_variance_ratio:\", pca.explained_variance_ratio_)\n",
    "print(\"sum of explained variance ratios:\", np.sum(pca.explained_variance_ratio_))\n",
    "print(\"singular values:\", pca.singular_values_)  \n"
   ]
  },
  {
   "cell_type": "markdown",
   "metadata": {
    "cell_id": "00081-3ab4c4ae-66b6-46b3-8d9f-56ec7b0f6edd",
    "deepnote_cell_type": "markdown",
    "tags": []
   },
   "source": [
    "### K-Means after PCA\n",
    "\n",
    "Now we will train our model based on the new features generated by PCA"
   ]
  },
  {
   "cell_type": "code",
   "execution_count": null,
   "metadata": {
    "cell_id": "00082-089c2fef-cc6a-4dc8-92ff-5659519a0bf8",
    "deepnote_cell_type": "code",
    "deepnote_to_be_reexecuted": false,
    "execution_millis": 12368,
    "execution_start": 1643141489683,
    "source_hash": "c3aa31d8",
    "tags": []
   },
   "outputs": [],
   "source": [
    "k_range = [*range(2, 19)]\n",
    "\n",
    "#Calculate inertia scores using the default initialization 'k-means++'\n",
    "inertia_scores = []\n",
    "for k in k_range:\n",
    "    kmeans = KMeans(n_clusters=k, random_state=42,init ='k-means++').fit(pca_data)\n",
    "    inertia_scores.append(kmeans.inertia_)\n",
    "    kmeans.fit(scaled_data)\n",
    "    ch_score = metrics.calinski_harabasz_score(scaled_data,kmeans.labels_)\n",
    "    db_score = metrics.davies_bouldin_score(scaled_data,kmeans.labels_)\n",
    "    print('k: {}, ch_score: {}, db_score {} '.format(k,ch_score,db_score))\n"
   ]
  },
  {
   "cell_type": "markdown",
   "metadata": {
    "cell_id": "00083-c8773b9a-24df-49fe-a2f4-af2908705494",
    "deepnote_cell_type": "markdown",
    "tags": []
   },
   "source": [
    "Let's try the elbow method again"
   ]
  },
  {
   "cell_type": "code",
   "execution_count": null,
   "metadata": {
    "cell_id": "00084-ad9917ac-f900-4495-ad44-e3005246f5f7",
    "deepnote_cell_type": "code",
    "deepnote_output_heights": [
     1,
     280
    ],
    "deepnote_to_be_reexecuted": false,
    "execution_millis": 812,
    "execution_start": 1643141506485,
    "source_hash": "44f37a0",
    "tags": []
   },
   "outputs": [],
   "source": [
    "plt.plot(k_range, inertia_scores, '-o')\n",
    "plt.ylabel('SSE')\n",
    "plt.xlabel('Number of clusters (k)')\n",
    "plt.title('The Elbow Method after PCA ')"
   ]
  },
  {
   "cell_type": "markdown",
   "metadata": {
    "cell_id": "00085-7031bbb2-39dd-4a46-8988-ffecbd03f55f",
    "deepnote_cell_type": "markdown",
    "tags": []
   },
   "source": [
    "The elbow here looks like 5."
   ]
  },
  {
   "cell_type": "code",
   "execution_count": null,
   "metadata": {
    "cell_id": "00086-119cbf13-4ad6-4dee-9a9e-dde39634d465",
    "deepnote_cell_type": "code",
    "deepnote_to_be_reexecuted": false,
    "execution_millis": 249,
    "execution_start": 1643141628750,
    "source_hash": "90bb3d04",
    "tags": []
   },
   "outputs": [],
   "source": [
    "kmeans = KMeans(n_clusters=5, random_state=42).fit(pca_data)"
   ]
  },
  {
   "cell_type": "code",
   "execution_count": null,
   "metadata": {
    "cell_id": "00087-de27a959-600b-405c-b832-03600f624799",
    "deepnote_cell_type": "code",
    "deepnote_output_heights": [
     591
    ],
    "deepnote_to_be_reexecuted": false,
    "execution_millis": 3965,
    "execution_start": 1643141638165,
    "source_hash": "f4ab3049",
    "tags": []
   },
   "outputs": [],
   "source": [
    "#Here's our data labeled by cluster\n",
    "centers = np.array(kmeans.cluster_centers_)\n",
    "#print(centers)\n",
    "\n",
    "pca_label = kmeans.fit_predict(pca_data)\n",
    "plt.figure(figsize=(10,10))\n",
    "uniq = np.unique(pca_label)\n",
    "for i in uniq:\n",
    "   plt.scatter(pca_data[pca_label == i , 0] , pca_data[pca_label == i , 1] , label = i)\n",
    "plt.scatter(centers[:,0], centers[:,1], marker=\"x\", color='k')\n",
    "#This is done to find the centroid for each clusters.\n",
    "plt.legend()\n",
    "plt.xlabel('PC1')\n",
    "plt.ylabel('PC2')\n",
    "plt.show()"
   ]
  },
  {
   "cell_type": "code",
   "execution_count": null,
   "metadata": {
    "cell_id": "00088-d5265d27-0a3f-403d-b174-21e5655367d3",
    "deepnote_cell_type": "code",
    "deepnote_output_heights": [
     59.5625
    ],
    "deepnote_to_be_reexecuted": false,
    "execution_millis": 9,
    "execution_start": 1643141652521,
    "source_hash": "385878d",
    "tags": []
   },
   "outputs": [],
   "source": [
    "\n",
    "county_cluster = list(zip(county_list_mapper, list(pca_label)))\n",
    "\n",
    "new_df = pd.DataFrame(county_cluster, columns=['county_name', 'kmeans_pca_cluster'])\n",
    "new_df\n",
    "\n",
    "ca_all = ca_all.merge(new_df, how = 'inner', on = 'county_name')"
   ]
  },
  {
   "cell_type": "code",
   "execution_count": null,
   "metadata": {
    "cell_id": "00089-d94e4ff6-6c6c-47ad-a268-8ac0fd2ff3d9",
    "deepnote_cell_type": "code",
    "deepnote_output_heights": [
     null,
     1
    ],
    "deepnote_to_be_reexecuted": false,
    "execution_millis": 4996,
    "execution_start": 1643141702234,
    "source_hash": "3315fbe1",
    "tags": []
   },
   "outputs": [],
   "source": [
    "#Show K-Means after PCA clusters map\n",
    "kmeans_pca_chart = alt.Chart(ca_all).mark_geoshape().encode(\n",
    "    tooltip='NAME',\n",
    "    color='kmeans_pca_cluster:N'\n",
    ").properties(title='K-Means With 5 Clusters on PCA Results - 2018 Data')\n",
    "kmeans_pca_chart"
   ]
  },
  {
   "cell_type": "markdown",
   "metadata": {
    "cell_id": "00090-e9ff1765-6ac2-49b5-9bc2-6c5c1b04f2dd",
    "deepnote_cell_type": "markdown",
    "tags": []
   },
   "source": [
    "Compare this to our prior kmeans map with 6 clusters...they are quite different!"
   ]
  },
  {
   "cell_type": "code",
   "execution_count": null,
   "metadata": {
    "cell_id": "00091-4ab50130-abdd-4a03-a011-289f802bb581",
    "deepnote_cell_type": "code",
    "deepnote_output_heights": [
     null,
     1
    ],
    "deepnote_to_be_reexecuted": false,
    "execution_millis": 5731,
    "execution_start": 1643141773619,
    "source_hash": "77bcb7",
    "tags": []
   },
   "outputs": [],
   "source": [
    "kmeans6_chart"
   ]
  },
  {
   "cell_type": "code",
   "execution_count": null,
   "metadata": {
    "cell_id": "00092-03d6f9e3-e4de-4c3c-87d6-ec6721e222f5",
    "deepnote_cell_type": "code",
    "deepnote_to_be_reexecuted": false,
    "execution_millis": 6793,
    "execution_start": 1643141890978,
    "source_hash": "649209b1",
    "tags": []
   },
   "outputs": [],
   "source": [
    "ca_all.to_csv('/work/output/ca_unsupervised_top_10_min_max.csv',index=False)"
   ]
  },
  {
   "cell_type": "markdown",
   "metadata": {
    "created_in_deepnote_cell": true,
    "deepnote_cell_type": "markdown",
    "tags": []
   },
   "source": [
    "<a style='text-decoration:none;line-height:16px;display:flex;color:#5B5B62;padding:10px;justify-content:end;' href='https://deepnote.com?utm_source=created-in-deepnote-cell&projectId=f6c76417-5fde-42f3-8920-755838dec3fa' target=\"_blank\">\n",
    "<img alt='Created in deepnote.com' style='display:inline;max-height:16px;margin:0px;margin-right:7.5px;' src='data:image/svg+xml;base64,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' > </img>\n",
    "Created in <span style='font-weight:600;margin-left:4px;'>Deepnote</span></a>"
   ]
  }
 ],
 "metadata": {
  "deepnote": {
   "is_reactive": false
  },
  "deepnote_execution_queue": [],
  "deepnote_notebook_id": "4c277dc5-0080-43f3-b2f9-8657a53c963d"
 },
 "nbformat": 4,
 "nbformat_minor": 2
}
