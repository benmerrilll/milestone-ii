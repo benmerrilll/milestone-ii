{
 "cells": [
  {
   "cell_type": "markdown",
   "metadata": {
    "cell_id": "d5a59b58-8f65-4636-a7b8-b369607a0383",
    "deepnote_cell_type": "markdown",
    "tags": []
   },
   "source": [
    "## Exploring Correlations of Top Features for CA Clustered Counties"
   ]
  },
  {
   "cell_type": "code",
   "execution_count": null,
   "metadata": {
    "cell_id": "224d062a-582f-4b73-af98-46a3f240d957",
    "deepnote_cell_type": "code",
    "deepnote_to_be_reexecuted": false,
    "execution_millis": 2282,
    "execution_start": 1643408314493,
    "source_hash": "31e89c22",
    "tags": []
   },
   "outputs": [],
   "source": [
    "import pandas as pd\n",
    "import seaborn as sns\n",
    "import matplotlib.pyplot as plt\n",
    "from shapely import wkt\n",
    "\n",
    "from geopandas import GeoDataFrame\n",
    "import geopandas as gpd\n",
    "import pygeos\n",
    "import gpdvega \n",
    "import altair as alt"
   ]
  },
  {
   "cell_type": "code",
   "execution_count": null,
   "metadata": {
    "cell_id": "432707f5-0188-459e-835c-fb0a6357ee24",
    "deepnote_cell_type": "code",
    "deepnote_to_be_reexecuted": false,
    "execution_millis": 170,
    "execution_start": 1643408316780,
    "source_hash": "644d656c",
    "tags": []
   },
   "outputs": [],
   "source": [
    "#Load in cluster dataframe\n",
    "cluster_df = pd.read_csv('/work/output/ca_unsupervised_min_max.csv')\n",
    "\n",
    "# Load geospatial file\n",
    "counties = gpd.read_file('/work/ca-county-boundaries/CA_Counties/CA_Counties_TIGER2016.shp')\n",
    "counties['COUNTYFP'] = pd.to_numeric(counties['COUNTYFP'])\n",
    "\n",
    "#Load in California data\n",
    "ca_df = pd.read_csv('/work/cleaned-csvs/ca_counties_full_dataset.csv')\n",
    "\n",
    "#Limit California data to 2018\n",
    "ca_df = ca_df[ca_df['year']==2018]\n"
   ]
  },
  {
   "cell_type": "code",
   "execution_count": null,
   "metadata": {
    "cell_id": "e6303858-1b99-4799-b61e-7cb259dfa596",
    "deepnote_cell_type": "code",
    "deepnote_output_heights": [
     null,
     98
    ],
    "deepnote_to_be_reexecuted": false,
    "execution_millis": 7,
    "execution_start": 1643408316954,
    "source_hash": "502b9e46",
    "tags": []
   },
   "outputs": [],
   "source": [
    "print(len(cluster_df))\n",
    "cluster_df.columns\n",
    "\n",
    "# cluster_df.drop(columns= ['COUNTYNS', 'GEOID', 'NAME', 'NAMELSAD', 'LSAD',\n",
    "#        'CLASSFP', 'MTFCC', 'CSAFP', 'CBSAFP', 'METDIVFP', 'FUNCSTAT', 'ALAND',\n",
    "#        'AWATER', 'INTPTLAT', 'INTPTLON', 'geometry', ],inplace = True)\n",
    "\n"
   ]
  },
  {
   "cell_type": "code",
   "execution_count": null,
   "metadata": {
    "cell_id": "66478c6e-28ed-4e05-9c51-715ccb871bab",
    "deepnote_cell_type": "code",
    "deepnote_output_heights": [
     611
    ],
    "deepnote_to_be_reexecuted": false,
    "execution_millis": 7,
    "execution_start": 1643408316964,
    "source_hash": "6c6ede89",
    "tags": []
   },
   "outputs": [],
   "source": [
    "cluster_df = pd.merge(counties,cluster_df,how='left', on='COUNTYFP')\n"
   ]
  },
  {
   "cell_type": "code",
   "execution_count": null,
   "metadata": {
    "cell_id": "524ec2a4-6d55-4b3e-9694-6d2469c8d7d1",
    "deepnote_cell_type": "code",
    "deepnote_output_heights": [
     null,
     520.0625
    ],
    "deepnote_to_be_reexecuted": false,
    "execution_millis": 4,
    "execution_start": 1643408317003,
    "source_hash": "82578791",
    "tags": []
   },
   "outputs": [],
   "source": [
    "print(len(ca_df))\n",
    "ca_df.columns"
   ]
  },
  {
   "cell_type": "code",
   "execution_count": null,
   "metadata": {
    "cell_id": "ea962936-57d3-4fb7-8940-0da8ccc26b7e",
    "deepnote_cell_type": "code",
    "deepnote_output_heights": [
     null,
     174.6875
    ],
    "deepnote_to_be_reexecuted": false,
    "execution_millis": 5,
    "execution_start": 1643408317004,
    "source_hash": "ccd97e02",
    "tags": []
   },
   "outputs": [],
   "source": [
    "#Combine our dataframes\n",
    "df = cluster_df.merge(ca_df, how = 'inner', on = 'county_name')\n",
    "print(len(df))\n",
    "\n",
    "#List the columns that end with cluster\n",
    "list(df[list(df.filter(regex='cluster'))])\n"
   ]
  },
  {
   "cell_type": "code",
   "execution_count": null,
   "metadata": {
    "cell_id": "ac1c73a2-b6a9-4b2f-a792-26cf859807ee",
    "deepnote_cell_type": "code",
    "deepnote_output_heights": [
     78.75
    ],
    "deepnote_to_be_reexecuted": false,
    "execution_millis": 4,
    "execution_start": 1643408317009,
    "source_hash": "ae750f5",
    "tags": []
   },
   "outputs": [],
   "source": [
    "#Check the cluster values for the kmeans_pca_cluster\n",
    "df['kmeans_pca_cluster'].value_counts()"
   ]
  },
  {
   "cell_type": "code",
   "execution_count": null,
   "metadata": {
    "cell_id": "424ffbd5-72b9-4b37-a2c4-5a1b901f263e",
    "deepnote_cell_type": "code",
    "deepnote_to_be_reexecuted": false,
    "execution_millis": 70,
    "execution_start": 1643408317022,
    "source_hash": "34e237c7",
    "tags": []
   },
   "outputs": [],
   "source": [
    "#Limit data to the top features found in supervised learning\n",
    "\n",
    "#Top 10 (only counting population once)\n",
    "top_fields = [ 'democrat_pct','per_capita_retirement_and_other',\n",
    "        'per_capita_farm_proprieter_jobs','total_population',\n",
    "       'perc_white', 'perc_other_race', 'perc_hispanic', \n",
    "       'perc_owner', 'perc_renter', 'area_water']\n",
    "\n",
    "#Smaller set\n",
    "#Top 5 (only counting population once)\n",
    "# top_fields = [ 'area_water','total_population',\n",
    "#        'perc_white', 'perc_owner', 'perc_renter', ]\n",
    "\n",
    "\n",
    "#Create correlations for each of the three clusters in kmeans_pca_cluster\n",
    "df_cluster_0 = df[df['kmeans_pca_cluster']==0][top_fields].corr(method='kendall')\n",
    "df_cluster_1 = df[df['kmeans_pca_cluster']==1][top_fields].corr(method='kendall')\n",
    "df_cluster_2 = df[df['kmeans_pca_cluster']==2][top_fields].corr(method='kendall')"
   ]
  },
  {
   "cell_type": "markdown",
   "metadata": {
    "cell_id": "cf9a2ae7-e964-4cd9-a0a3-ce42bfd89eb1",
    "deepnote_cell_type": "markdown",
    "tags": []
   },
   "source": [
    "### K-Means Clustering with 3 Clusters after PCA"
   ]
  },
  {
   "cell_type": "code",
   "execution_count": null,
   "metadata": {
    "cell_id": "3230ca89-6ce7-4e58-a90a-a615e53c5f08",
    "deepnote_cell_type": "code",
    "deepnote_output_heights": [
     156
    ],
    "deepnote_to_be_reexecuted": false,
    "execution_millis": 4,
    "execution_start": 1643408317104,
    "source_hash": "980aad91",
    "tags": []
   },
   "outputs": [],
   "source": [
    "cluster_df.columns"
   ]
  },
  {
   "cell_type": "code",
   "execution_count": null,
   "metadata": {
    "cell_id": "41a9bb44-eaa5-4fab-b729-fe23c369b5f8",
    "deepnote_cell_type": "code",
    "deepnote_output_heights": [
     null,
     341,
     21.1875
    ],
    "deepnote_to_be_reexecuted": false,
    "execution_millis": 1290,
    "execution_start": 1643408317109,
    "source_hash": "3e1fd4f8",
    "tags": []
   },
   "outputs": [],
   "source": [
    "kmeans_pca_chart = alt.Chart(cluster_df).mark_geoshape().encode(\n",
    "    tooltip='NAME',\n",
    "    color='kmeans_pca_cluster:N'\n",
    ").properties(title='K-Means With 3 Clusters on PCA Results - 2018 Data')\n",
    "kmeans_pca_chart"
   ]
  },
  {
   "cell_type": "markdown",
   "metadata": {
    "cell_id": "1ef9031d-1a33-47c8-90c6-154d4764c12d",
    "deepnote_cell_type": "markdown",
    "tags": []
   },
   "source": [
    "### Correlations for Cluster 0"
   ]
  },
  {
   "cell_type": "code",
   "execution_count": null,
   "metadata": {
    "cell_id": "f17ed0a9-a435-47fb-b59c-803981d3d73d",
    "deepnote_cell_type": "code",
    "deepnote_output_heights": [
     21.1875,
     464
    ],
    "deepnote_to_be_reexecuted": false,
    "execution_millis": 1152,
    "execution_start": 1643408318922,
    "source_hash": "c075380e",
    "tags": []
   },
   "outputs": [],
   "source": [
    "plt.figure(figsize = (12,5))\n",
    "sns.heatmap(df_cluster_0,annot=True)"
   ]
  },
  {
   "cell_type": "markdown",
   "metadata": {
    "cell_id": "00008-4f3af967-59c2-4b30-8e68-8d54d8885039",
    "deepnote_cell_type": "markdown",
    "tags": []
   },
   "source": [
    "### Correlations for Cluster 1"
   ]
  },
  {
   "cell_type": "code",
   "execution_count": null,
   "metadata": {
    "cell_id": "6ec44031-6582-4888-83bf-02c8ca0027ed",
    "deepnote_cell_type": "code",
    "deepnote_output_heights": [
     21.1875,
     464
    ],
    "deepnote_to_be_reexecuted": false,
    "execution_millis": 1182,
    "execution_start": 1643408319671,
    "source_hash": "704f121",
    "tags": []
   },
   "outputs": [],
   "source": [
    "plt.figure(figsize = (12,5))\n",
    "sns.heatmap(df_cluster_1,annot=True)"
   ]
  },
  {
   "cell_type": "markdown",
   "metadata": {
    "cell_id": "00010-bc113be4-bd34-43f9-a871-c656a92951a5",
    "deepnote_cell_type": "markdown",
    "tags": []
   },
   "source": [
    "### Correlations for Cluster 2"
   ]
  },
  {
   "cell_type": "code",
   "execution_count": null,
   "metadata": {
    "cell_id": "934b1624-9fea-4a0c-a6ba-e5406331bb6e",
    "deepnote_cell_type": "code",
    "deepnote_output_heights": [
     21.1875,
     464
    ],
    "deepnote_to_be_reexecuted": false,
    "execution_millis": 1032,
    "execution_start": 1643408320814,
    "source_hash": "446c59ed",
    "tags": []
   },
   "outputs": [],
   "source": [
    "plt.figure(figsize = (12,5))\n",
    "sns.heatmap(df_cluster_2,annot=True)"
   ]
  },
  {
   "cell_type": "markdown",
   "metadata": {
    "created_in_deepnote_cell": true,
    "deepnote_cell_type": "markdown",
    "tags": []
   },
   "source": [
    "<a style='text-decoration:none;line-height:16px;display:flex;color:#5B5B62;padding:10px;justify-content:end;' href='https://deepnote.com?utm_source=created-in-deepnote-cell&projectId=f6c76417-5fde-42f3-8920-755838dec3fa' target=\"_blank\">\n",
    "<img alt='Created in deepnote.com' style='display:inline;max-height:16px;margin:0px;margin-right:7.5px;' src='data:image/svg+xml;base64,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' > </img>\n",
    "Created in <span style='font-weight:600;margin-left:4px;'>Deepnote</span></a>"
   ]
  }
 ],
 "metadata": {
  "deepnote": {
   "is_reactive": false
  },
  "deepnote_execution_queue": [],
  "deepnote_notebook_id": "e5da65e4-4609-4829-b0f7-551dc41a9582"
 },
 "nbformat": 4,
 "nbformat_minor": 2
}
