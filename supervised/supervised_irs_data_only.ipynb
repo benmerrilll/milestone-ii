{
 "cells": [
  {
   "cell_type": "markdown",
   "source": "## Supervised learning: Only Inflow and Outflow",
   "metadata": {
    "cell_id": "b89c0efa-5367-4121-8603-fe977345be2c",
    "tags": [],
    "is_collapsed": false,
    "deepnote_cell_type": "text-cell-h2"
   }
  },
  {
   "cell_type": "code",
   "metadata": {
    "cell_id": "9e81bc7b-e10a-48d7-ba74-b837ebea834a",
    "tags": [],
    "deepnote_to_be_reexecuted": false,
    "source_hash": "f0fc7e10",
    "execution_start": 1643402829764,
    "execution_millis": 4245,
    "deepnote_cell_type": "code"
   },
   "source": "# Import Packages\nimport numpy as np\nimport pandas as pd\nimport matplotlib.pyplot as plt\nfrom sklearn.model_selection import train_test_split, GridSearchCV\nfrom sklearn.ensemble import RandomForestRegressor\nfrom sklearn.linear_model import LinearRegression\nimport matplotlib.pyplot as plt\nfrom sklearn.tree import DecisionTreeClassifier\nfrom sklearn.metrics import mean_squared_error, r2_score\nimport math\nimport geopandas as gpd",
   "execution_count": null,
   "outputs": [
    {
     "name": "stderr",
     "text": "/root/venv/lib/python3.9/site-packages/geopandas/_compat.py:111: UserWarning: The Shapely GEOS version (3.9.1-CAPI-1.14.2) is incompatible with the GEOS version PyGEOS was compiled with (3.10.1-CAPI-1.16.0). Conversions between both will be slow.\n  warnings.warn(\n",
     "output_type": "stream"
    }
   ]
  },
  {
   "cell_type": "code",
   "metadata": {
    "cell_id": "c84a8f20-dd2e-4bc0-aebb-8f0542ba77d0",
    "tags": [],
    "deepnote_to_be_reexecuted": false,
    "source_hash": "3df74024",
    "execution_start": 1643402834009,
    "execution_millis": 456,
    "deepnote_cell_type": "code"
   },
   "source": "import altair as alt",
   "execution_count": null,
   "outputs": []
  },
  {
   "cell_type": "code",
   "metadata": {
    "cell_id": "b98ad78d-2f13-45e5-99cb-7341e3b26ffe",
    "tags": [],
    "deepnote_to_be_reexecuted": false,
    "source_hash": "9e232507",
    "execution_start": 1643402834466,
    "execution_millis": 710,
    "deepnote_output_heights": [
     78.8125
    ],
    "deepnote_cell_type": "code"
   },
   "source": "df_in_out = pd.read_csv('/work/cleaned-csvs/irs_in_out_one_per_county')\n\nus_counties = gpd.read_file('/work/cb_2018_us_county_20m/cb_2018_us_county_20m.shp')\nus_counties['COUNTYFP'] = pd.to_numeric(us_counties['COUNTYFP'])\nus_counties['STATEFP'] = pd.to_numeric(us_counties['STATEFP'])\nus_counties = us_counties[us_counties['STATEFP']==6]",
   "execution_count": null,
   "outputs": []
  },
  {
   "cell_type": "code",
   "metadata": {
    "cell_id": "b15f9e58-3018-47c7-8310-81cd89deebc7",
    "tags": [],
    "deepnote_to_be_reexecuted": false,
    "source_hash": "47dbfcc",
    "execution_start": 1643402835177,
    "execution_millis": 1310,
    "deepnote_output_heights": [
     78.75
    ],
    "deepnote_cell_type": "code"
   },
   "source": "#this makes the code for ca only. Comment out for all data\ndf_in_out = df_in_out[df_in_out['statefips']==6]\n\ndf_in_out.columns",
   "execution_count": null,
   "outputs": [
    {
     "output_type": "execute_result",
     "execution_count": 4,
     "data": {
      "text/plain": "Index(['statefips', 'countyfips', 'in_2014', 'in_2015', 'in_2016', 'in_2017',\n       'in_2018', 'in_2019', 'out_2014', 'out_2015', 'out_2016', 'out_2017',\n       'out_2018', 'out_2019'],\n      dtype='object')"
     },
     "metadata": {}
    }
   ]
  },
  {
   "cell_type": "code",
   "metadata": {
    "cell_id": "7e3fdbed-9657-4572-9281-6159d52005c8",
    "tags": [],
    "deepnote_to_be_reexecuted": false,
    "source_hash": "2258d222",
    "execution_start": 1643402835374,
    "execution_millis": 1,
    "deepnote_output_heights": [
     59.59375,
     78.8125
    ],
    "deepnote_cell_type": "code"
   },
   "source": "train_df = df_in_out[['statefips', 'countyfips', 'in_2014', \n        'in_2015', 'in_2016', 'in_2017',\n       'in_2018',  'out_2014', 'out_2015', 'out_2016', 'out_2017',\n       'out_2018']]\n\ntest_df = df_in_out[['statefips', 'countyfips', 'in_2015', \n        'in_2016', 'in_2017',\n       'in_2018', 'in_2019',  'out_2015', 'out_2016', 'out_2017',\n       'out_2018', 'out_2019']]\n\n\n\ndef rename_columns(df, yr_predict):\n    start_year = yr_predict - 4\n    col_yr = []\n    col = []\n\n    for num in range(start_year, yr_predict+1):\n        #create list of old and new column names\n        col_yr.append('in_'+str(num))\n        col.append('in_t_minus_'+str(yr_predict-num))\n\n        col_yr.append('out_'+str(num))\n        col.append('out_t_minus_'+str(yr_predict-num))\n\n    \n    # create rename dictionary\n    col_dict = {col_yr[i]: col[i] for i in range(len(col_yr))}\n    \n    return(df.rename(columns = col_dict))\n\n\ntrain_df = rename_columns(train_df, 2018)\ntrain_df.dropna(inplace = True)\n\ntest_df = rename_columns(test_df, 2019)\ntest_df.dropna(inplace = True)\n\n\ndrop_col = ['statefips', 'countyfips','in_t_minus_0','out_t_minus_0']\nX_train = train_df.drop(columns = drop_col)\ny_train_out = train_df[['out_t_minus_0']]\ny_train_in = train_df[['in_t_minus_0']]\n\nX_test = test_df.drop(columns = drop_col)\ny_test_out = test_df[['out_t_minus_0']]\ny_test_in = test_df[['in_t_minus_0']]\n\n# Can reduce error in linear model to around 2K root(mean squared error)\n# col = ['out_t_minus_4', 'out_t_minus_3', 'out_t_minus_2', 'out_t_minus_1']\n# X_train = X_train[col]\n# X_test = X_test[col]\n",
   "execution_count": null,
   "outputs": []
  },
  {
   "cell_type": "markdown",
   "source": "## Linear Regression",
   "metadata": {
    "cell_id": "02a61419-4db5-4c1c-adef-da302b9b643a",
    "tags": [],
    "is_collapsed": false,
    "deepnote_cell_type": "text-cell-h2"
   }
  },
  {
   "cell_type": "code",
   "metadata": {
    "cell_id": "7a726aae-bd75-47c7-bc6f-70f3c7e7a025",
    "tags": [],
    "deepnote_to_be_reexecuted": false,
    "source_hash": "97cae76f",
    "execution_start": 1643402835376,
    "execution_millis": 1113,
    "deepnote_cell_type": "code"
   },
   "source": "\n# Inflow\nregr = LinearRegression()\nregr.fit(X_train, y_train_in)\ny_pred_in = regr.predict(X_test)\nmse_linreg_in = math.sqrt(mean_squared_error(y_test_in, y_pred_in))\nr2_svm_in = r2_score(y_test_in, y_pred_in)\n\n# Outflow\nregr = LinearRegression()\nregr.fit(X_train, y_train_out)\ny_pred_out_train = regr.predict(X_train)\ny_pred_out = regr.predict(X_test)\nmse_linreg_out = math.sqrt(mean_squared_error(y_test_out, y_pred_out))\nr2_linreg_out_train = r2_score(y_train_out, y_pred_out_train)\nr2_linreg_out = r2_score(y_test_out, y_pred_out)\n\n# The coefficients\n#print(\"Coefficients: \\n\", regr.coef_)\n\nprint('Inflow R^2', r2_svm_in)\nprint('Inflow mse', mse_linreg_in)\nprint('Outflow R^2', r2_linreg_out)\nprint('Outflow R^2 train', r2_linreg_out_train)\nprint('Outflow mse', mse_linreg_out)",
   "execution_count": null,
   "outputs": [
    {
     "name": "stdout",
     "text": "Inflow R^2 0.9875086707749292\nInflow mse 3928.3671921056853\nOutflow R^2 0.9441382285223403\nOutflow R^2 train 0.9997931241658101\nOutflow mse 10467.55143164235\n",
     "output_type": "stream"
    }
   ]
  },
  {
   "cell_type": "code",
   "metadata": {
    "cell_id": "04393dfa-5291-411f-80ab-0013474a440c",
    "tags": [],
    "deepnote_to_be_reexecuted": false,
    "source_hash": "e37883b0",
    "execution_start": 1643402836495,
    "execution_millis": 29,
    "deepnote_output_heights": [
     611,
     611
    ],
    "deepnote_table_state": {
     "pageSize": 100,
     "pageIndex": 0,
     "filters": [],
     "sortBy": []
    },
    "deepnote_table_loading": false,
    "deepnote_cell_type": "code"
   },
   "source": "\ntest_df['y_pred_out']=y_pred_out\ntest_df['y_pred_in']=y_pred_in\n\ntest_df['residual_out'] = test_df['out_t_minus_0'] - test_df['y_pred_out']\ntest_df['residual_in'] = test_df['in_t_minus_0'] - test_df['y_pred_in']\n\ntest_df['perc_off_out'] = test_df['residual_out'] / test_df['out_t_minus_0']\ntest_df['perc_off_in'] = test_df['residual_in'] / test_df['in_t_minus_0']\ntest_df.head()\n",
   "execution_count": null,
   "outputs": [
    {
     "output_type": "execute_result",
     "execution_count": 7,
     "data": {
      "application/vnd.deepnote.dataframe.v3+json": {
       "column_count": 18,
       "row_count": 5,
       "columns": [
        {
         "name": "statefips",
         "dtype": "int64",
         "stats": {
          "unique_count": 1,
          "nan_count": 0,
          "min": "6",
          "max": "6",
          "histogram": [
           {
            "bin_start": 5.5,
            "bin_end": 5.6,
            "count": 0
           },
           {
            "bin_start": 5.6,
            "bin_end": 5.7,
            "count": 0
           },
           {
            "bin_start": 5.7,
            "bin_end": 5.8,
            "count": 0
           },
           {
            "bin_start": 5.8,
            "bin_end": 5.9,
            "count": 0
           },
           {
            "bin_start": 5.9,
            "bin_end": 6,
            "count": 0
           },
           {
            "bin_start": 6,
            "bin_end": 6.1,
            "count": 5
           },
           {
            "bin_start": 6.1,
            "bin_end": 6.2,
            "count": 0
           },
           {
            "bin_start": 6.2,
            "bin_end": 6.3,
            "count": 0
           },
           {
            "bin_start": 6.3,
            "bin_end": 6.4,
            "count": 0
           },
           {
            "bin_start": 6.4,
            "bin_end": 6.5,
            "count": 0
           }
          ]
         }
        },
        {
         "name": "countyfips",
         "dtype": "int64",
         "stats": {
          "unique_count": 5,
          "nan_count": 0,
          "min": "1",
          "max": "9",
          "histogram": [
           {
            "bin_start": 1,
            "bin_end": 1.8,
            "count": 1
           },
           {
            "bin_start": 1.8,
            "bin_end": 2.6,
            "count": 0
           },
           {
            "bin_start": 2.6,
            "bin_end": 3.4000000000000004,
            "count": 1
           },
           {
            "bin_start": 3.4000000000000004,
            "bin_end": 4.2,
            "count": 0
           },
           {
            "bin_start": 4.2,
            "bin_end": 5,
            "count": 0
           },
           {
            "bin_start": 5,
            "bin_end": 5.800000000000001,
            "count": 1
           },
           {
            "bin_start": 5.800000000000001,
            "bin_end": 6.6000000000000005,
            "count": 0
           },
           {
            "bin_start": 6.6000000000000005,
            "bin_end": 7.4,
            "count": 1
           },
           {
            "bin_start": 7.4,
            "bin_end": 8.2,
            "count": 0
           },
           {
            "bin_start": 8.2,
            "bin_end": 9,
            "count": 1
           }
          ]
         }
        },
        {
         "name": "in_t_minus_4",
         "dtype": "float64",
         "stats": {
          "unique_count": 5,
          "nan_count": 0,
          "min": "0.0",
          "max": "56353.0",
          "histogram": [
           {
            "bin_start": 0,
            "bin_end": 5635.3,
            "count": 4
           },
           {
            "bin_start": 5635.3,
            "bin_end": 11270.6,
            "count": 0
           },
           {
            "bin_start": 11270.6,
            "bin_end": 16905.9,
            "count": 0
           },
           {
            "bin_start": 16905.9,
            "bin_end": 22541.2,
            "count": 0
           },
           {
            "bin_start": 22541.2,
            "bin_end": 28176.5,
            "count": 0
           },
           {
            "bin_start": 28176.5,
            "bin_end": 33811.8,
            "count": 0
           },
           {
            "bin_start": 33811.8,
            "bin_end": 39447.1,
            "count": 0
           },
           {
            "bin_start": 39447.1,
            "bin_end": 45082.4,
            "count": 0
           },
           {
            "bin_start": 45082.4,
            "bin_end": 50717.700000000004,
            "count": 0
           },
           {
            "bin_start": 50717.700000000004,
            "bin_end": 56353,
            "count": 1
           }
          ]
         }
        },
        {
         "name": "in_t_minus_3",
         "dtype": "float64",
         "stats": {
          "unique_count": 5,
          "nan_count": 0,
          "min": "51.0",
          "max": "74447.0",
          "histogram": [
           {
            "bin_start": 51,
            "bin_end": 7490.6,
            "count": 3
           },
           {
            "bin_start": 7490.6,
            "bin_end": 14930.2,
            "count": 1
           },
           {
            "bin_start": 14930.2,
            "bin_end": 22369.800000000003,
            "count": 0
           },
           {
            "bin_start": 22369.800000000003,
            "bin_end": 29809.4,
            "count": 0
           },
           {
            "bin_start": 29809.4,
            "bin_end": 37249,
            "count": 0
           },
           {
            "bin_start": 37249,
            "bin_end": 44688.600000000006,
            "count": 0
           },
           {
            "bin_start": 44688.600000000006,
            "bin_end": 52128.200000000004,
            "count": 0
           },
           {
            "bin_start": 52128.200000000004,
            "bin_end": 59567.8,
            "count": 0
           },
           {
            "bin_start": 59567.8,
            "bin_end": 67007.40000000001,
            "count": 0
           },
           {
            "bin_start": 67007.40000000001,
            "bin_end": 74447,
            "count": 1
           }
          ]
         }
        },
        {
         "name": "in_t_minus_2",
         "dtype": "float64",
         "stats": {
          "unique_count": 5,
          "nan_count": 0,
          "min": "80.0",
          "max": "94743.0",
          "histogram": [
           {
            "bin_start": 80,
            "bin_end": 9546.3,
            "count": 3
           },
           {
            "bin_start": 9546.3,
            "bin_end": 19012.6,
            "count": 1
           },
           {
            "bin_start": 19012.6,
            "bin_end": 28478.899999999998,
            "count": 0
           },
           {
            "bin_start": 28478.899999999998,
            "bin_end": 37945.2,
            "count": 0
           },
           {
            "bin_start": 37945.2,
            "bin_end": 47411.5,
            "count": 0
           },
           {
            "bin_start": 47411.5,
            "bin_end": 56877.799999999996,
            "count": 0
           },
           {
            "bin_start": 56877.799999999996,
            "bin_end": 66344.09999999999,
            "count": 0
           },
           {
            "bin_start": 66344.09999999999,
            "bin_end": 75810.4,
            "count": 0
           },
           {
            "bin_start": 75810.4,
            "bin_end": 85276.7,
            "count": 0
           },
           {
            "bin_start": 85276.7,
            "bin_end": 94743,
            "count": 1
           }
          ]
         }
        },
        {
         "name": "in_t_minus_1",
         "dtype": "float64",
         "stats": {
          "unique_count": 5,
          "nan_count": 0,
          "min": "43.0",
          "max": "76117.0",
          "histogram": [
           {
            "bin_start": 43,
            "bin_end": 7650.4,
            "count": 3
           },
           {
            "bin_start": 7650.4,
            "bin_end": 15257.8,
            "count": 1
           },
           {
            "bin_start": 15257.8,
            "bin_end": 22865.199999999997,
            "count": 0
           },
           {
            "bin_start": 22865.199999999997,
            "bin_end": 30472.6,
            "count": 0
           },
           {
            "bin_start": 30472.6,
            "bin_end": 38080,
            "count": 0
           },
           {
            "bin_start": 38080,
            "bin_end": 45687.399999999994,
            "count": 0
           },
           {
            "bin_start": 45687.399999999994,
            "bin_end": 53294.799999999996,
            "count": 0
           },
           {
            "bin_start": 53294.799999999996,
            "bin_end": 60902.2,
            "count": 0
           },
           {
            "bin_start": 60902.2,
            "bin_end": 68509.59999999999,
            "count": 0
           },
           {
            "bin_start": 68509.59999999999,
            "bin_end": 76117,
            "count": 1
           }
          ]
         }
        },
        {
         "name": "in_t_minus_0",
         "dtype": "float64",
         "stats": {
          "unique_count": 5,
          "nan_count": 0,
          "min": "49.0",
          "max": "73109.0",
          "histogram": [
           {
            "bin_start": 49,
            "bin_end": 7355,
            "count": 4
           },
           {
            "bin_start": 7355,
            "bin_end": 14661,
            "count": 0
           },
           {
            "bin_start": 14661,
            "bin_end": 21967,
            "count": 0
           },
           {
            "bin_start": 21967,
            "bin_end": 29273,
            "count": 0
           },
           {
            "bin_start": 29273,
            "bin_end": 36579,
            "count": 0
           },
           {
            "bin_start": 36579,
            "bin_end": 43885,
            "count": 0
           },
           {
            "bin_start": 43885,
            "bin_end": 51191,
            "count": 0
           },
           {
            "bin_start": 51191,
            "bin_end": 58497,
            "count": 0
           },
           {
            "bin_start": 58497,
            "bin_end": 65803,
            "count": 0
           },
           {
            "bin_start": 65803,
            "bin_end": 73109,
            "count": 1
           }
          ]
         }
        },
        {
         "name": "out_t_minus_4",
         "dtype": "float64",
         "stats": {
          "unique_count": 5,
          "nan_count": 0,
          "min": "0.0",
          "max": "55460.0",
          "histogram": [
           {
            "bin_start": 0,
            "bin_end": 5546,
            "count": 4
           },
           {
            "bin_start": 5546,
            "bin_end": 11092,
            "count": 0
           },
           {
            "bin_start": 11092,
            "bin_end": 16638,
            "count": 0
           },
           {
            "bin_start": 16638,
            "bin_end": 22184,
            "count": 0
           },
           {
            "bin_start": 22184,
            "bin_end": 27730,
            "count": 0
           },
           {
            "bin_start": 27730,
            "bin_end": 33276,
            "count": 0
           },
           {
            "bin_start": 33276,
            "bin_end": 38822,
            "count": 0
           },
           {
            "bin_start": 38822,
            "bin_end": 44368,
            "count": 0
           },
           {
            "bin_start": 44368,
            "bin_end": 49914,
            "count": 0
           },
           {
            "bin_start": 49914,
            "bin_end": 55460,
            "count": 1
           }
          ]
         }
        },
        {
         "name": "out_t_minus_3",
         "dtype": "float64",
         "stats": {
          "unique_count": 5,
          "nan_count": 0,
          "min": "63.0",
          "max": "80777.0",
          "histogram": [
           {
            "bin_start": 63,
            "bin_end": 8134.4,
            "count": 4
           },
           {
            "bin_start": 8134.4,
            "bin_end": 16205.8,
            "count": 0
           },
           {
            "bin_start": 16205.8,
            "bin_end": 24277.199999999997,
            "count": 0
           },
           {
            "bin_start": 24277.199999999997,
            "bin_end": 32348.6,
            "count": 0
           },
           {
            "bin_start": 32348.6,
            "bin_end": 40420,
            "count": 0
           },
           {
            "bin_start": 40420,
            "bin_end": 48491.399999999994,
            "count": 0
           },
           {
            "bin_start": 48491.399999999994,
            "bin_end": 56562.799999999996,
            "count": 0
           },
           {
            "bin_start": 56562.799999999996,
            "bin_end": 64634.2,
            "count": 0
           },
           {
            "bin_start": 64634.2,
            "bin_end": 72705.59999999999,
            "count": 0
           },
           {
            "bin_start": 72705.59999999999,
            "bin_end": 80777,
            "count": 1
           }
          ]
         }
        },
        {
         "name": "out_t_minus_2",
         "dtype": "float64",
         "stats": {
          "unique_count": 5,
          "nan_count": 0,
          "min": "84.0",
          "max": "111192.0",
          "histogram": [
           {
            "bin_start": 84,
            "bin_end": 11194.8,
            "count": 4
           },
           {
            "bin_start": 11194.8,
            "bin_end": 22305.6,
            "count": 0
           },
           {
            "bin_start": 22305.6,
            "bin_end": 33416.399999999994,
            "count": 0
           },
           {
            "bin_start": 33416.399999999994,
            "bin_end": 44527.2,
            "count": 0
           },
           {
            "bin_start": 44527.2,
            "bin_end": 55638,
            "count": 0
           },
           {
            "bin_start": 55638,
            "bin_end": 66748.79999999999,
            "count": 0
           },
           {
            "bin_start": 66748.79999999999,
            "bin_end": 77859.59999999999,
            "count": 0
           },
           {
            "bin_start": 77859.59999999999,
            "bin_end": 88970.4,
            "count": 0
           },
           {
            "bin_start": 88970.4,
            "bin_end": 100081.2,
            "count": 0
           },
           {
            "bin_start": 100081.2,
            "bin_end": 111192,
            "count": 1
           }
          ]
         }
        },
        {
         "name": "out_t_minus_1",
         "dtype": "float64",
         "stats": {
          "unique_count": 5,
          "nan_count": 0,
          "min": "68.0",
          "max": "87475.0",
          "histogram": [
           {
            "bin_start": 68,
            "bin_end": 8808.7,
            "count": 3
           },
           {
            "bin_start": 8808.7,
            "bin_end": 17549.4,
            "count": 1
           },
           {
            "bin_start": 17549.4,
            "bin_end": 26290.100000000002,
            "count": 0
           },
           {
            "bin_start": 26290.100000000002,
            "bin_end": 35030.8,
            "count": 0
           },
           {
            "bin_start": 35030.8,
            "bin_end": 43771.5,
            "count": 0
           },
           {
            "bin_start": 43771.5,
            "bin_end": 52512.200000000004,
            "count": 0
           },
           {
            "bin_start": 52512.200000000004,
            "bin_end": 61252.90000000001,
            "count": 0
           },
           {
            "bin_start": 61252.90000000001,
            "bin_end": 69993.6,
            "count": 0
           },
           {
            "bin_start": 69993.6,
            "bin_end": 78734.3,
            "count": 0
           },
           {
            "bin_start": 78734.3,
            "bin_end": 87475,
            "count": 1
           }
          ]
         }
        },
        {
         "name": "out_t_minus_0",
         "dtype": "float64",
         "stats": {
          "unique_count": 5,
          "nan_count": 0,
          "min": "56.0",
          "max": "85562.0",
          "histogram": [
           {
            "bin_start": 56,
            "bin_end": 8606.6,
            "count": 3
           },
           {
            "bin_start": 8606.6,
            "bin_end": 17157.2,
            "count": 1
           },
           {
            "bin_start": 17157.2,
            "bin_end": 25707.800000000003,
            "count": 0
           },
           {
            "bin_start": 25707.800000000003,
            "bin_end": 34258.4,
            "count": 0
           },
           {
            "bin_start": 34258.4,
            "bin_end": 42809,
            "count": 0
           },
           {
            "bin_start": 42809,
            "bin_end": 51359.600000000006,
            "count": 0
           },
           {
            "bin_start": 51359.600000000006,
            "bin_end": 59910.200000000004,
            "count": 0
           },
           {
            "bin_start": 59910.200000000004,
            "bin_end": 68460.8,
            "count": 0
           },
           {
            "bin_start": 68460.8,
            "bin_end": 77011.40000000001,
            "count": 0
           },
           {
            "bin_start": 77011.40000000001,
            "bin_end": 85562,
            "count": 1
           }
          ]
         }
        },
        {
         "name": "y_pred_out",
         "dtype": "float64",
         "stats": {
          "unique_count": 5,
          "nan_count": 0,
          "min": "255.3859206065243",
          "max": "105738.56228051914",
          "histogram": [
           {
            "bin_start": 255.3859206065243,
            "bin_end": 10803.703556597786,
            "count": 3
           },
           {
            "bin_start": 10803.703556597786,
            "bin_end": 21352.021192589047,
            "count": 1
           },
           {
            "bin_start": 21352.021192589047,
            "bin_end": 31900.33882858031,
            "count": 0
           },
           {
            "bin_start": 31900.33882858031,
            "bin_end": 42448.65646457157,
            "count": 0
           },
           {
            "bin_start": 42448.65646457157,
            "bin_end": 52996.97410056283,
            "count": 0
           },
           {
            "bin_start": 52996.97410056283,
            "bin_end": 63545.29173655409,
            "count": 0
           },
           {
            "bin_start": 63545.29173655409,
            "bin_end": 74093.60937254535,
            "count": 0
           },
           {
            "bin_start": 74093.60937254535,
            "bin_end": 84641.92700853662,
            "count": 0
           },
           {
            "bin_start": 84641.92700853662,
            "bin_end": 95190.24464452788,
            "count": 0
           },
           {
            "bin_start": 95190.24464452788,
            "bin_end": 105738.56228051914,
            "count": 1
           }
          ]
         }
        },
        {
         "name": "y_pred_in",
         "dtype": "float64",
         "stats": {
          "unique_count": 5,
          "nan_count": 0,
          "min": "95.86665365430868",
          "max": "81085.23906491784",
          "histogram": [
           {
            "bin_start": 95.86665365430868,
            "bin_end": 8194.803894780662,
            "count": 4
           },
           {
            "bin_start": 8194.803894780662,
            "bin_end": 16293.741135907016,
            "count": 0
           },
           {
            "bin_start": 16293.741135907016,
            "bin_end": 24392.67837703337,
            "count": 0
           },
           {
            "bin_start": 24392.67837703337,
            "bin_end": 32491.615618159725,
            "count": 0
           },
           {
            "bin_start": 32491.615618159725,
            "bin_end": 40590.55285928608,
            "count": 0
           },
           {
            "bin_start": 40590.55285928608,
            "bin_end": 48689.49010041243,
            "count": 0
           },
           {
            "bin_start": 48689.49010041243,
            "bin_end": 56788.42734153879,
            "count": 0
           },
           {
            "bin_start": 56788.42734153879,
            "bin_end": 64887.36458266514,
            "count": 0
           },
           {
            "bin_start": 64887.36458266514,
            "bin_end": 72986.30182379148,
            "count": 0
           },
           {
            "bin_start": 72986.30182379148,
            "bin_end": 81085.23906491784,
            "count": 1
           }
          ]
         }
        },
        {
         "name": "residual_out",
         "dtype": "float64",
         "stats": {
          "unique_count": 5,
          "nan_count": 0,
          "min": "-20176.562280519138",
          "max": "1813.769279924456",
          "histogram": [
           {
            "bin_start": -20176.562280519138,
            "bin_end": -17977.52912447478,
            "count": 1
           },
           {
            "bin_start": -17977.52912447478,
            "bin_end": -15778.49596843042,
            "count": 0
           },
           {
            "bin_start": -15778.49596843042,
            "bin_end": -13579.46281238606,
            "count": 0
           },
           {
            "bin_start": -13579.46281238606,
            "bin_end": -11380.429656341701,
            "count": 0
           },
           {
            "bin_start": -11380.429656341701,
            "bin_end": -9181.396500297342,
            "count": 0
           },
           {
            "bin_start": -9181.396500297342,
            "bin_end": -6982.363344252983,
            "count": 0
           },
           {
            "bin_start": -6982.363344252983,
            "bin_end": -4783.330188208623,
            "count": 0
           },
           {
            "bin_start": -4783.330188208623,
            "bin_end": -2584.2970321642642,
            "count": 0
           },
           {
            "bin_start": -2584.2970321642642,
            "bin_end": -385.26387611990504,
            "count": 2
           },
           {
            "bin_start": -385.26387611990504,
            "bin_end": 1813.769279924456,
            "count": 2
           }
          ]
         }
        },
        {
         "name": "residual_in",
         "dtype": "float64",
         "stats": {
          "unique_count": 5,
          "nan_count": 0,
          "min": "-7976.2390649178415",
          "max": "-46.86665365430868",
          "histogram": [
           {
            "bin_start": -7976.2390649178415,
            "bin_end": -7183.3018237914885,
            "count": 1
           },
           {
            "bin_start": -7183.3018237914885,
            "bin_end": -6390.3645826651355,
            "count": 0
           },
           {
            "bin_start": -6390.3645826651355,
            "bin_end": -5597.427341538782,
            "count": 0
           },
           {
            "bin_start": -5597.427341538782,
            "bin_end": -4804.490100412429,
            "count": 0
           },
           {
            "bin_start": -4804.490100412429,
            "bin_end": -4011.5528592860755,
            "count": 0
           },
           {
            "bin_start": -4011.5528592860755,
            "bin_end": -3218.6156181597216,
            "count": 0
           },
           {
            "bin_start": -3218.6156181597216,
            "bin_end": -2425.6783770333686,
            "count": 0
           },
           {
            "bin_start": -2425.6783770333686,
            "bin_end": -1632.7411359070156,
            "count": 0
           },
           {
            "bin_start": -1632.7411359070156,
            "bin_end": -839.8038947806626,
            "count": 1
           },
           {
            "bin_start": -839.8038947806626,
            "bin_end": -46.86665365430868,
            "count": 3
           }
          ]
         }
        },
        {
         "name": "perc_off_out",
         "dtype": "float64",
         "stats": {
          "unique_count": 5,
          "nan_count": 0,
          "min": "-3.5604628679736483",
          "max": "0.12383213490301467",
          "histogram": [
           {
            "bin_start": -3.5604628679736483,
            "bin_end": -3.192033367685982,
            "count": 1
           },
           {
            "bin_start": -3.192033367685982,
            "bin_end": -2.8236038673983157,
            "count": 0
           },
           {
            "bin_start": -2.8236038673983157,
            "bin_end": -2.4551743671106494,
            "count": 0
           },
           {
            "bin_start": -2.4551743671106494,
            "bin_end": -2.086744866822983,
            "count": 0
           },
           {
            "bin_start": -2.086744866822983,
            "bin_end": -1.7183153665353168,
            "count": 0
           },
           {
            "bin_start": -1.7183153665353168,
            "bin_end": -1.3498858662476505,
            "count": 0
           },
           {
            "bin_start": -1.3498858662476505,
            "bin_end": -0.9814563659599842,
            "count": 0
           },
           {
            "bin_start": -0.9814563659599842,
            "bin_end": -0.6130268656723179,
            "count": 0
           },
           {
            "bin_start": -0.6130268656723179,
            "bin_end": -0.2445973653846516,
            "count": 2
           },
           {
            "bin_start": -0.2445973653846516,
            "bin_end": 0.12383213490301467,
            "count": 2
           }
          ]
         }
        },
        {
         "name": "perc_off_in",
         "dtype": "float64",
         "stats": {
          "unique_count": 5,
          "nan_count": 0,
          "min": "-0.9564623194756873",
          "max": "-0.07285150946067535",
          "histogram": [
           {
            "bin_start": -0.9564623194756873,
            "bin_end": -0.8681012384741861,
            "count": 1
           },
           {
            "bin_start": -0.8681012384741861,
            "bin_end": -0.7797401574726849,
            "count": 0
           },
           {
            "bin_start": -0.7797401574726849,
            "bin_end": -0.6913790764711837,
            "count": 0
           },
           {
            "bin_start": -0.6913790764711837,
            "bin_end": -0.6030179954696825,
            "count": 0
           },
           {
            "bin_start": -0.6030179954696825,
            "bin_end": -0.5146569144681813,
            "count": 0
           },
           {
            "bin_start": -0.5146569144681813,
            "bin_end": -0.4262958334666801,
            "count": 0
           },
           {
            "bin_start": -0.4262958334666801,
            "bin_end": -0.3379347524651789,
            "count": 0
           },
           {
            "bin_start": -0.3379347524651789,
            "bin_end": -0.2495736714636777,
            "count": 0
           },
           {
            "bin_start": -0.2495736714636777,
            "bin_end": -0.1612125904621765,
            "count": 1
           },
           {
            "bin_start": -0.1612125904621765,
            "bin_end": -0.07285150946067535,
            "count": 3
           }
          ]
         }
        },
        {
         "name": "_deepnote_index_column",
         "dtype": "int64"
        }
       ],
       "rows": [
        {
         "statefips": 6,
         "countyfips": 1,
         "in_t_minus_4": 56353,
         "in_t_minus_3": 74447,
         "in_t_minus_2": 94743,
         "in_t_minus_1": 76117,
         "in_t_minus_0": 73109,
         "out_t_minus_4": 55460,
         "out_t_minus_3": 80777,
         "out_t_minus_2": 111192,
         "out_t_minus_1": 87475,
         "out_t_minus_0": 85562,
         "y_pred_out": 105738.56228051914,
         "y_pred_in": 81085.23906491784,
         "residual_out": -20176.562280519138,
         "residual_in": -7976.2390649178415,
         "perc_off_out": -0.23581218625697317,
         "perc_off_in": -0.10910064513148643,
         "_deepnote_index_column": 185
        },
        {
         "statefips": 6,
         "countyfips": 3,
         "in_t_minus_4": 0,
         "in_t_minus_3": 51,
         "in_t_minus_2": 80,
         "in_t_minus_1": 43,
         "in_t_minus_0": 49,
         "out_t_minus_4": 0,
         "out_t_minus_3": 63,
         "out_t_minus_2": 84,
         "out_t_minus_1": 68,
         "out_t_minus_0": 56,
         "y_pred_out": 255.3859206065243,
         "y_pred_in": 95.86665365430868,
         "residual_out": -199.3859206065243,
         "residual_in": -46.86665365430868,
         "perc_off_out": -3.5604628679736483,
         "perc_off_in": -0.9564623194756873,
         "_deepnote_index_column": 186
        },
        {
         "statefips": 6,
         "countyfips": 5,
         "in_t_minus_4": 1283,
         "in_t_minus_3": 1960,
         "in_t_minus_2": 2775,
         "in_t_minus_1": 2070,
         "in_t_minus_0": 2019,
         "out_t_minus_4": 1040,
         "out_t_minus_3": 1395,
         "out_t_minus_2": 1893,
         "out_t_minus_1": 1619,
         "out_t_minus_0": 1486,
         "y_pred_out": 2294.1729919155214,
         "y_pred_in": 2166.0871976011035,
         "residual_out": -808.1729919155214,
         "residual_in": -147.08719760110353,
         "perc_off_out": -0.5438580026349403,
         "perc_off_in": -0.07285150946067535,
         "_deepnote_index_column": 187
        },
        {
         "statefips": 6,
         "countyfips": 7,
         "in_t_minus_4": 5540,
         "in_t_minus_3": 7572,
         "in_t_minus_2": 10807,
         "in_t_minus_1": 7993,
         "in_t_minus_0": 6449,
         "out_t_minus_4": 5165,
         "out_t_minus_3": 7382,
         "out_t_minus_2": 9275,
         "out_t_minus_1": 10622,
         "out_t_minus_0": 14647,
         "y_pred_out": 12833.230720075544,
         "y_pred_in": 7684.960352270505,
         "residual_out": 1813.769279924456,
         "residual_in": -1235.9603522705047,
         "perc_off_out": 0.12383213490301467,
         "perc_off_in": -0.19165147344867495,
         "_deepnote_index_column": 188
        },
        {
         "statefips": 6,
         "countyfips": 9,
         "in_t_minus_4": 1676,
         "in_t_minus_3": 2557,
         "in_t_minus_2": 3499,
         "in_t_minus_1": 2834,
         "in_t_minus_0": 2733,
         "out_t_minus_4": 1537,
         "out_t_minus_3": 2040,
         "out_t_minus_2": 2720,
         "out_t_minus_1": 2306,
         "out_t_minus_0": 2281,
         "y_pred_out": 3171.426043443428,
         "y_pred_in": 3008.4510179238932,
         "residual_out": -890.4260434434282,
         "residual_in": -275.45101792389323,
         "perc_off_out": -0.39036652496423857,
         "perc_off_in": -0.10078705375919987,
         "_deepnote_index_column": 189
        }
       ]
      },
      "text/plain": "     statefips  countyfips  in_t_minus_4  in_t_minus_3  in_t_minus_2  \\\n185          6           1       56353.0       74447.0       94743.0   \n186          6           3           0.0          51.0          80.0   \n187          6           5        1283.0        1960.0        2775.0   \n188          6           7        5540.0        7572.0       10807.0   \n189          6           9        1676.0        2557.0        3499.0   \n\n     in_t_minus_1  in_t_minus_0  out_t_minus_4  out_t_minus_3  out_t_minus_2  \\\n185       76117.0       73109.0        55460.0        80777.0       111192.0   \n186          43.0          49.0            0.0           63.0           84.0   \n187        2070.0        2019.0         1040.0         1395.0         1893.0   \n188        7993.0        6449.0         5165.0         7382.0         9275.0   \n189        2834.0        2733.0         1537.0         2040.0         2720.0   \n\n     out_t_minus_1  out_t_minus_0     y_pred_out     y_pred_in  residual_out  \\\n185        87475.0        85562.0  105738.562281  81085.239065 -20176.562281   \n186           68.0           56.0     255.385921     95.866654   -199.385921   \n187         1619.0         1486.0    2294.172992   2166.087198   -808.172992   \n188        10622.0        14647.0   12833.230720   7684.960352   1813.769280   \n189         2306.0         2281.0    3171.426043   3008.451018   -890.426043   \n\n     residual_in  perc_off_out  perc_off_in  \n185 -7976.239065     -0.235812    -0.109101  \n186   -46.866654     -3.560463    -0.956462  \n187  -147.087198     -0.543858    -0.072852  \n188 -1235.960352      0.123832    -0.191651  \n189  -275.451018     -0.390367    -0.100787  ",
      "text/html": "<div>\n<style scoped>\n    .dataframe tbody tr th:only-of-type {\n        vertical-align: middle;\n    }\n\n    .dataframe tbody tr th {\n        vertical-align: top;\n    }\n\n    .dataframe thead th {\n        text-align: right;\n    }\n</style>\n<table border=\"1\" class=\"dataframe\">\n  <thead>\n    <tr style=\"text-align: right;\">\n      <th></th>\n      <th>statefips</th>\n      <th>countyfips</th>\n      <th>in_t_minus_4</th>\n      <th>in_t_minus_3</th>\n      <th>in_t_minus_2</th>\n      <th>in_t_minus_1</th>\n      <th>in_t_minus_0</th>\n      <th>out_t_minus_4</th>\n      <th>out_t_minus_3</th>\n      <th>out_t_minus_2</th>\n      <th>out_t_minus_1</th>\n      <th>out_t_minus_0</th>\n      <th>y_pred_out</th>\n      <th>y_pred_in</th>\n      <th>residual_out</th>\n      <th>residual_in</th>\n      <th>perc_off_out</th>\n      <th>perc_off_in</th>\n    </tr>\n  </thead>\n  <tbody>\n    <tr>\n      <th>185</th>\n      <td>6</td>\n      <td>1</td>\n      <td>56353.0</td>\n      <td>74447.0</td>\n      <td>94743.0</td>\n      <td>76117.0</td>\n      <td>73109.0</td>\n      <td>55460.0</td>\n      <td>80777.0</td>\n      <td>111192.0</td>\n      <td>87475.0</td>\n      <td>85562.0</td>\n      <td>105738.562281</td>\n      <td>81085.239065</td>\n      <td>-20176.562281</td>\n      <td>-7976.239065</td>\n      <td>-0.235812</td>\n      <td>-0.109101</td>\n    </tr>\n    <tr>\n      <th>186</th>\n      <td>6</td>\n      <td>3</td>\n      <td>0.0</td>\n      <td>51.0</td>\n      <td>80.0</td>\n      <td>43.0</td>\n      <td>49.0</td>\n      <td>0.0</td>\n      <td>63.0</td>\n      <td>84.0</td>\n      <td>68.0</td>\n      <td>56.0</td>\n      <td>255.385921</td>\n      <td>95.866654</td>\n      <td>-199.385921</td>\n      <td>-46.866654</td>\n      <td>-3.560463</td>\n      <td>-0.956462</td>\n    </tr>\n    <tr>\n      <th>187</th>\n      <td>6</td>\n      <td>5</td>\n      <td>1283.0</td>\n      <td>1960.0</td>\n      <td>2775.0</td>\n      <td>2070.0</td>\n      <td>2019.0</td>\n      <td>1040.0</td>\n      <td>1395.0</td>\n      <td>1893.0</td>\n      <td>1619.0</td>\n      <td>1486.0</td>\n      <td>2294.172992</td>\n      <td>2166.087198</td>\n      <td>-808.172992</td>\n      <td>-147.087198</td>\n      <td>-0.543858</td>\n      <td>-0.072852</td>\n    </tr>\n    <tr>\n      <th>188</th>\n      <td>6</td>\n      <td>7</td>\n      <td>5540.0</td>\n      <td>7572.0</td>\n      <td>10807.0</td>\n      <td>7993.0</td>\n      <td>6449.0</td>\n      <td>5165.0</td>\n      <td>7382.0</td>\n      <td>9275.0</td>\n      <td>10622.0</td>\n      <td>14647.0</td>\n      <td>12833.230720</td>\n      <td>7684.960352</td>\n      <td>1813.769280</td>\n      <td>-1235.960352</td>\n      <td>0.123832</td>\n      <td>-0.191651</td>\n    </tr>\n    <tr>\n      <th>189</th>\n      <td>6</td>\n      <td>9</td>\n      <td>1676.0</td>\n      <td>2557.0</td>\n      <td>3499.0</td>\n      <td>2834.0</td>\n      <td>2733.0</td>\n      <td>1537.0</td>\n      <td>2040.0</td>\n      <td>2720.0</td>\n      <td>2306.0</td>\n      <td>2281.0</td>\n      <td>3171.426043</td>\n      <td>3008.451018</td>\n      <td>-890.426043</td>\n      <td>-275.451018</td>\n      <td>-0.390367</td>\n      <td>-0.100787</td>\n    </tr>\n  </tbody>\n</table>\n</div>"
     },
     "metadata": {}
    }
   ]
  },
  {
   "cell_type": "code",
   "metadata": {
    "cell_id": "36cde6bf-238d-4ecf-8731-fbd3f696623d",
    "tags": [],
    "deepnote_to_be_reexecuted": false,
    "source_hash": "debbe013",
    "execution_start": 1643402836498,
    "execution_millis": 0,
    "deepnote_cell_type": "code"
   },
   "source": "#join with geospatial data\ngeo_df = pd.merge(us_counties,test_df,left_on=['STATEFP', 'COUNTYFP'], right_on=['statefips', 'countyfips'])\n",
   "execution_count": null,
   "outputs": []
  },
  {
   "cell_type": "code",
   "metadata": {
    "cell_id": "73211b55-f4f1-4616-bd93-b89aef98164d",
    "tags": [],
    "deepnote_to_be_reexecuted": false,
    "source_hash": "f75d1ef7",
    "execution_start": 1643402836499,
    "execution_millis": 27,
    "deepnote_output_heights": [
     21
    ],
    "deepnote_table_state": {
     "pageSize": 100,
     "pageIndex": 0,
     "filters": [],
     "sortBy": []
    },
    "deepnote_table_loading": false,
    "deepnote_cell_type": "code"
   },
   "source": "geo_df[geo_df['COUNTYFP']==7]\ngeo_df.sort_values(by='perc_off_out').head(4)",
   "execution_count": null,
   "outputs": [
    {
     "output_type": "execute_result",
     "execution_count": 9,
     "data": {
      "application/vnd.deepnote.dataframe.v3+json": {
       "column_count": 28,
       "row_count": 4,
       "columns": [
        {
         "name": "STATEFP",
         "dtype": "int64",
         "stats": {
          "unique_count": 1,
          "nan_count": 0,
          "min": "6",
          "max": "6",
          "histogram": [
           {
            "bin_start": 5.5,
            "bin_end": 5.6,
            "count": 0
           },
           {
            "bin_start": 5.6,
            "bin_end": 5.7,
            "count": 0
           },
           {
            "bin_start": 5.7,
            "bin_end": 5.8,
            "count": 0
           },
           {
            "bin_start": 5.8,
            "bin_end": 5.9,
            "count": 0
           },
           {
            "bin_start": 5.9,
            "bin_end": 6,
            "count": 0
           },
           {
            "bin_start": 6,
            "bin_end": 6.1,
            "count": 4
           },
           {
            "bin_start": 6.1,
            "bin_end": 6.2,
            "count": 0
           },
           {
            "bin_start": 6.2,
            "bin_end": 6.3,
            "count": 0
           },
           {
            "bin_start": 6.3,
            "bin_end": 6.4,
            "count": 0
           },
           {
            "bin_start": 6.4,
            "bin_end": 6.5,
            "count": 0
           }
          ]
         }
        },
        {
         "name": "COUNTYFP",
         "dtype": "int64",
         "stats": {
          "unique_count": 4,
          "nan_count": 0,
          "min": "3",
          "max": "91",
          "histogram": [
           {
            "bin_start": 3,
            "bin_end": 11.8,
            "count": 1
           },
           {
            "bin_start": 11.8,
            "bin_end": 20.6,
            "count": 1
           },
           {
            "bin_start": 20.6,
            "bin_end": 29.400000000000002,
            "count": 0
           },
           {
            "bin_start": 29.400000000000002,
            "bin_end": 38.2,
            "count": 0
           },
           {
            "bin_start": 38.2,
            "bin_end": 47,
            "count": 0
           },
           {
            "bin_start": 47,
            "bin_end": 55.800000000000004,
            "count": 1
           },
           {
            "bin_start": 55.800000000000004,
            "bin_end": 64.60000000000001,
            "count": 0
           },
           {
            "bin_start": 64.60000000000001,
            "bin_end": 73.4,
            "count": 0
           },
           {
            "bin_start": 73.4,
            "bin_end": 82.2,
            "count": 0
           },
           {
            "bin_start": 82.2,
            "bin_end": 91,
            "count": 1
           }
          ]
         }
        },
        {
         "name": "COUNTYNS",
         "dtype": "object",
         "stats": {
          "unique_count": 4,
          "nan_count": 0,
          "categories": [
           {
            "name": "01675840",
            "count": 1
           },
           {
            "name": "00277310",
            "count": 1
           },
           {
            "name": "2 others",
            "count": 2
           }
          ]
         }
        },
        {
         "name": "AFFGEOID",
         "dtype": "object",
         "stats": {
          "unique_count": 4,
          "nan_count": 0,
          "categories": [
           {
            "name": "0500000US06003",
            "count": 1
           },
           {
            "name": "0500000US06091",
            "count": 1
           },
           {
            "name": "2 others",
            "count": 2
           }
          ]
         }
        },
        {
         "name": "GEOID",
         "dtype": "object",
         "stats": {
          "unique_count": 4,
          "nan_count": 0,
          "categories": [
           {
            "name": "06003",
            "count": 1
           },
           {
            "name": "06091",
            "count": 1
           },
           {
            "name": "2 others",
            "count": 2
           }
          ]
         }
        },
        {
         "name": "NAME",
         "dtype": "object",
         "stats": {
          "unique_count": 4,
          "nan_count": 0,
          "categories": [
           {
            "name": "Alpine",
            "count": 1
           },
           {
            "name": "Sierra",
            "count": 1
           },
           {
            "name": "2 others",
            "count": 2
           }
          ]
         }
        },
        {
         "name": "LSAD",
         "dtype": "object",
         "stats": {
          "unique_count": 1,
          "nan_count": 0,
          "categories": [
           {
            "name": "06",
            "count": 4
           }
          ]
         }
        },
        {
         "name": "ALAND",
         "dtype": "int64",
         "stats": {
          "unique_count": 4,
          "nan_count": 0,
          "min": "1912292630",
          "max": "10140960152",
          "histogram": [
           {
            "bin_start": 1912292630,
            "bin_end": 2735159382.2,
            "count": 3
           },
           {
            "bin_start": 2735159382.2,
            "bin_end": 3558026134.4,
            "count": 0
           },
           {
            "bin_start": 3558026134.4,
            "bin_end": 4380892886.6,
            "count": 0
           },
           {
            "bin_start": 4380892886.6,
            "bin_end": 5203759638.8,
            "count": 0
           },
           {
            "bin_start": 5203759638.8,
            "bin_end": 6026626391,
            "count": 0
           },
           {
            "bin_start": 6026626391,
            "bin_end": 6849493143.200001,
            "count": 0
           },
           {
            "bin_start": 6849493143.200001,
            "bin_end": 7672359895.400001,
            "count": 0
           },
           {
            "bin_start": 7672359895.400001,
            "bin_end": 8495226647.6,
            "count": 0
           },
           {
            "bin_start": 8495226647.6,
            "bin_end": 9318093399.8,
            "count": 0
           },
           {
            "bin_start": 9318093399.8,
            "bin_end": 10140960152,
            "count": 1
           }
          ]
         }
        },
        {
         "name": "AWATER",
         "dtype": "int64",
         "stats": {
          "unique_count": 4,
          "nan_count": 0,
          "min": "12557304",
          "max": "745420661",
          "histogram": [
           {
            "bin_start": 12557304,
            "bin_end": 85843639.7,
            "count": 2
           },
           {
            "bin_start": 85843639.7,
            "bin_end": 159129975.4,
            "count": 0
           },
           {
            "bin_start": 159129975.4,
            "bin_end": 232416311.10000002,
            "count": 0
           },
           {
            "bin_start": 232416311.10000002,
            "bin_end": 305702646.8,
            "count": 0
           },
           {
            "bin_start": 305702646.8,
            "bin_end": 378988982.5,
            "count": 0
           },
           {
            "bin_start": 378988982.5,
            "bin_end": 452275318.20000005,
            "count": 0
           },
           {
            "bin_start": 452275318.20000005,
            "bin_end": 525561653.90000004,
            "count": 0
           },
           {
            "bin_start": 525561653.90000004,
            "bin_end": 598847989.6,
            "count": 1
           },
           {
            "bin_start": 598847989.6,
            "bin_end": 672134325.3000001,
            "count": 0
           },
           {
            "bin_start": 672134325.3000001,
            "bin_end": 745420661,
            "count": 1
           }
          ]
         }
        },
        {
         "name": "geometry",
         "dtype": "geometry",
         "stats": {
          "unique_count": 4,
          "nan_count": 0,
          "categories": [
           {
            "name": "POLYGON ((-120.072484 38.50986899999999, -120.072392 38.702767, -119.964948 38.775986, -119.877287 38.870193, -119.904315 38.933324, -119.587679 38.714734, -119.585406144839 38.7131509006712, -119.619066 38.603529, -119.542332 38.481221, -119.639205 38.32688, -119.705385 38.416102, -119.884749 38.356185, -120.019951 38.433521, -120.072566 38.447081, -120.072484 38.50986899999999))",
            "count": 1
           },
           {
            "name": "POLYGON ((-121.058203 39.537043, -121.009477 39.639459, -120.949435 39.672548, -120.873261 39.776168, -120.792484 39.709794, -120.68076 39.67683299999999, -120.654227 39.706629, -120.147149 39.707658, -120.015734 39.708721, -119.999935448085 39.7224069247242, -120.00174 39.538852, -120.003028919657 39.4450457761605, -120.505445 39.446117, -120.575594 39.522291, -120.654561 39.52692, -120.755729 39.452663, -120.992703 39.414392, -121.022085 39.391558, -121.058203 39.537043))",
            "count": 1
           },
           {
            "name": "2 others",
            "count": 2
           }
          ]
         }
        },
        {
         "name": "statefips",
         "dtype": "int64",
         "stats": {
          "unique_count": 1,
          "nan_count": 0,
          "min": "6",
          "max": "6",
          "histogram": [
           {
            "bin_start": 5.5,
            "bin_end": 5.6,
            "count": 0
           },
           {
            "bin_start": 5.6,
            "bin_end": 5.7,
            "count": 0
           },
           {
            "bin_start": 5.7,
            "bin_end": 5.8,
            "count": 0
           },
           {
            "bin_start": 5.8,
            "bin_end": 5.9,
            "count": 0
           },
           {
            "bin_start": 5.9,
            "bin_end": 6,
            "count": 0
           },
           {
            "bin_start": 6,
            "bin_end": 6.1,
            "count": 4
           },
           {
            "bin_start": 6.1,
            "bin_end": 6.2,
            "count": 0
           },
           {
            "bin_start": 6.2,
            "bin_end": 6.3,
            "count": 0
           },
           {
            "bin_start": 6.3,
            "bin_end": 6.4,
            "count": 0
           },
           {
            "bin_start": 6.4,
            "bin_end": 6.5,
            "count": 0
           }
          ]
         }
        },
        {
         "name": "countyfips",
         "dtype": "int64",
         "stats": {
          "unique_count": 4,
          "nan_count": 0,
          "min": "3",
          "max": "91",
          "histogram": [
           {
            "bin_start": 3,
            "bin_end": 11.8,
            "count": 1
           },
           {
            "bin_start": 11.8,
            "bin_end": 20.6,
            "count": 1
           },
           {
            "bin_start": 20.6,
            "bin_end": 29.400000000000002,
            "count": 0
           },
           {
            "bin_start": 29.400000000000002,
            "bin_end": 38.2,
            "count": 0
           },
           {
            "bin_start": 38.2,
            "bin_end": 47,
            "count": 0
           },
           {
            "bin_start": 47,
            "bin_end": 55.800000000000004,
            "count": 1
           },
           {
            "bin_start": 55.800000000000004,
            "bin_end": 64.60000000000001,
            "count": 0
           },
           {
            "bin_start": 64.60000000000001,
            "bin_end": 73.4,
            "count": 0
           },
           {
            "bin_start": 73.4,
            "bin_end": 82.2,
            "count": 0
           },
           {
            "bin_start": 82.2,
            "bin_end": 91,
            "count": 1
           }
          ]
         }
        },
        {
         "name": "in_t_minus_4",
         "dtype": "float64",
         "stats": {
          "unique_count": 4,
          "nan_count": 0,
          "min": "0.0",
          "max": "772.0",
          "histogram": [
           {
            "bin_start": 0,
            "bin_end": 77.2,
            "count": 2
           },
           {
            "bin_start": 77.2,
            "bin_end": 154.4,
            "count": 0
           },
           {
            "bin_start": 154.4,
            "bin_end": 231.60000000000002,
            "count": 0
           },
           {
            "bin_start": 231.60000000000002,
            "bin_end": 308.8,
            "count": 1
           },
           {
            "bin_start": 308.8,
            "bin_end": 386,
            "count": 0
           },
           {
            "bin_start": 386,
            "bin_end": 463.20000000000005,
            "count": 0
           },
           {
            "bin_start": 463.20000000000005,
            "bin_end": 540.4,
            "count": 0
           },
           {
            "bin_start": 540.4,
            "bin_end": 617.6,
            "count": 0
           },
           {
            "bin_start": 617.6,
            "bin_end": 694.8000000000001,
            "count": 0
           },
           {
            "bin_start": 694.8000000000001,
            "bin_end": 772,
            "count": 1
           }
          ]
         }
        },
        {
         "name": "in_t_minus_3",
         "dtype": "float64",
         "stats": {
          "unique_count": 4,
          "nan_count": 0,
          "min": "51.0",
          "max": "1271.0",
          "histogram": [
           {
            "bin_start": 51,
            "bin_end": 173,
            "count": 2
           },
           {
            "bin_start": 173,
            "bin_end": 295,
            "count": 0
           },
           {
            "bin_start": 295,
            "bin_end": 417,
            "count": 1
           },
           {
            "bin_start": 417,
            "bin_end": 539,
            "count": 0
           },
           {
            "bin_start": 539,
            "bin_end": 661,
            "count": 0
           },
           {
            "bin_start": 661,
            "bin_end": 783,
            "count": 0
           },
           {
            "bin_start": 783,
            "bin_end": 905,
            "count": 0
           },
           {
            "bin_start": 905,
            "bin_end": 1027,
            "count": 0
           },
           {
            "bin_start": 1027,
            "bin_end": 1149,
            "count": 0
           },
           {
            "bin_start": 1149,
            "bin_end": 1271,
            "count": 1
           }
          ]
         }
        },
        {
         "name": "in_t_minus_2",
         "dtype": "float64",
         "stats": {
          "unique_count": 4,
          "nan_count": 0,
          "min": "80.0",
          "max": "1415.0",
          "histogram": [
           {
            "bin_start": 80,
            "bin_end": 213.5,
            "count": 2
           },
           {
            "bin_start": 213.5,
            "bin_end": 347,
            "count": 0
           },
           {
            "bin_start": 347,
            "bin_end": 480.5,
            "count": 0
           },
           {
            "bin_start": 480.5,
            "bin_end": 614,
            "count": 1
           },
           {
            "bin_start": 614,
            "bin_end": 747.5,
            "count": 0
           },
           {
            "bin_start": 747.5,
            "bin_end": 881,
            "count": 0
           },
           {
            "bin_start": 881,
            "bin_end": 1014.5,
            "count": 0
           },
           {
            "bin_start": 1014.5,
            "bin_end": 1148,
            "count": 0
           },
           {
            "bin_start": 1148,
            "bin_end": 1281.5,
            "count": 0
           },
           {
            "bin_start": 1281.5,
            "bin_end": 1415,
            "count": 1
           }
          ]
         }
        },
        {
         "name": "in_t_minus_1",
         "dtype": "float64",
         "stats": {
          "unique_count": 4,
          "nan_count": 0,
          "min": "43.0",
          "max": "1116.0",
          "histogram": [
           {
            "bin_start": 43,
            "bin_end": 150.3,
            "count": 1
           },
           {
            "bin_start": 150.3,
            "bin_end": 257.6,
            "count": 1
           },
           {
            "bin_start": 257.6,
            "bin_end": 364.9,
            "count": 1
           },
           {
            "bin_start": 364.9,
            "bin_end": 472.2,
            "count": 0
           },
           {
            "bin_start": 472.2,
            "bin_end": 579.5,
            "count": 0
           },
           {
            "bin_start": 579.5,
            "bin_end": 686.8,
            "count": 0
           },
           {
            "bin_start": 686.8,
            "bin_end": 794.1,
            "count": 0
           },
           {
            "bin_start": 794.1,
            "bin_end": 901.4,
            "count": 0
           },
           {
            "bin_start": 901.4,
            "bin_end": 1008.6999999999999,
            "count": 0
           },
           {
            "bin_start": 1008.6999999999999,
            "bin_end": 1116,
            "count": 1
           }
          ]
         }
        },
        {
         "name": "in_t_minus_0",
         "dtype": "float64",
         "stats": {
          "unique_count": 4,
          "nan_count": 0,
          "min": "49.0",
          "max": "893.0",
          "histogram": [
           {
            "bin_start": 49,
            "bin_end": 133.4,
            "count": 1
           },
           {
            "bin_start": 133.4,
            "bin_end": 217.8,
            "count": 1
           },
           {
            "bin_start": 217.8,
            "bin_end": 302.20000000000005,
            "count": 0
           },
           {
            "bin_start": 302.20000000000005,
            "bin_end": 386.6,
            "count": 1
           },
           {
            "bin_start": 386.6,
            "bin_end": 471,
            "count": 0
           },
           {
            "bin_start": 471,
            "bin_end": 555.4000000000001,
            "count": 0
           },
           {
            "bin_start": 555.4000000000001,
            "bin_end": 639.8000000000001,
            "count": 0
           },
           {
            "bin_start": 639.8000000000001,
            "bin_end": 724.2,
            "count": 0
           },
           {
            "bin_start": 724.2,
            "bin_end": 808.6,
            "count": 0
           },
           {
            "bin_start": 808.6,
            "bin_end": 893,
            "count": 1
           }
          ]
         }
        },
        {
         "name": "out_t_minus_4",
         "dtype": "float64",
         "stats": {
          "unique_count": 4,
          "nan_count": 0,
          "min": "0.0",
          "max": "830.0",
          "histogram": [
           {
            "bin_start": 0,
            "bin_end": 83,
            "count": 1
           },
           {
            "bin_start": 83,
            "bin_end": 166,
            "count": 1
           },
           {
            "bin_start": 166,
            "bin_end": 249,
            "count": 0
           },
           {
            "bin_start": 249,
            "bin_end": 332,
            "count": 1
           },
           {
            "bin_start": 332,
            "bin_end": 415,
            "count": 0
           },
           {
            "bin_start": 415,
            "bin_end": 498,
            "count": 0
           },
           {
            "bin_start": 498,
            "bin_end": 581,
            "count": 0
           },
           {
            "bin_start": 581,
            "bin_end": 664,
            "count": 0
           },
           {
            "bin_start": 664,
            "bin_end": 747,
            "count": 0
           },
           {
            "bin_start": 747,
            "bin_end": 830,
            "count": 1
           }
          ]
         }
        },
        {
         "name": "out_t_minus_3",
         "dtype": "float64",
         "stats": {
          "unique_count": 4,
          "nan_count": 0,
          "min": "63.0",
          "max": "951.0",
          "histogram": [
           {
            "bin_start": 63,
            "bin_end": 151.8,
            "count": 2
           },
           {
            "bin_start": 151.8,
            "bin_end": 240.6,
            "count": 0
           },
           {
            "bin_start": 240.6,
            "bin_end": 329.4,
            "count": 0
           },
           {
            "bin_start": 329.4,
            "bin_end": 418.2,
            "count": 1
           },
           {
            "bin_start": 418.2,
            "bin_end": 507,
            "count": 0
           },
           {
            "bin_start": 507,
            "bin_end": 595.8,
            "count": 0
           },
           {
            "bin_start": 595.8,
            "bin_end": 684.6,
            "count": 0
           },
           {
            "bin_start": 684.6,
            "bin_end": 773.4,
            "count": 0
           },
           {
            "bin_start": 773.4,
            "bin_end": 862.1999999999999,
            "count": 0
           },
           {
            "bin_start": 862.1999999999999,
            "bin_end": 951,
            "count": 1
           }
          ]
         }
        },
        {
         "name": "out_t_minus_2",
         "dtype": "float64",
         "stats": {
          "unique_count": 4,
          "nan_count": 0,
          "min": "84.0",
          "max": "1226.0",
          "histogram": [
           {
            "bin_start": 84,
            "bin_end": 198.2,
            "count": 2
           },
           {
            "bin_start": 198.2,
            "bin_end": 312.4,
            "count": 0
           },
           {
            "bin_start": 312.4,
            "bin_end": 426.6,
            "count": 1
           },
           {
            "bin_start": 426.6,
            "bin_end": 540.8,
            "count": 0
           },
           {
            "bin_start": 540.8,
            "bin_end": 655,
            "count": 0
           },
           {
            "bin_start": 655,
            "bin_end": 769.2,
            "count": 0
           },
           {
            "bin_start": 769.2,
            "bin_end": 883.4,
            "count": 0
           },
           {
            "bin_start": 883.4,
            "bin_end": 997.6,
            "count": 0
           },
           {
            "bin_start": 997.6,
            "bin_end": 1111.8,
            "count": 0
           },
           {
            "bin_start": 1111.8,
            "bin_end": 1226,
            "count": 1
           }
          ]
         }
        },
        {
         "name": "out_t_minus_1",
         "dtype": "float64",
         "stats": {
          "unique_count": 4,
          "nan_count": 0,
          "min": "68.0",
          "max": "974.0",
          "histogram": [
           {
            "bin_start": 68,
            "bin_end": 158.6,
            "count": 2
           },
           {
            "bin_start": 158.6,
            "bin_end": 249.2,
            "count": 0
           },
           {
            "bin_start": 249.2,
            "bin_end": 339.79999999999995,
            "count": 0
           },
           {
            "bin_start": 339.79999999999995,
            "bin_end": 430.4,
            "count": 1
           },
           {
            "bin_start": 430.4,
            "bin_end": 521,
            "count": 0
           },
           {
            "bin_start": 521,
            "bin_end": 611.5999999999999,
            "count": 0
           },
           {
            "bin_start": 611.5999999999999,
            "bin_end": 702.1999999999999,
            "count": 0
           },
           {
            "bin_start": 702.1999999999999,
            "bin_end": 792.8,
            "count": 0
           },
           {
            "bin_start": 792.8,
            "bin_end": 883.4,
            "count": 0
           },
           {
            "bin_start": 883.4,
            "bin_end": 974,
            "count": 1
           }
          ]
         }
        },
        {
         "name": "out_t_minus_0",
         "dtype": "float64",
         "stats": {
          "unique_count": 4,
          "nan_count": 0,
          "min": "56.0",
          "max": "811.0",
          "histogram": [
           {
            "bin_start": 56,
            "bin_end": 131.5,
            "count": 2
           },
           {
            "bin_start": 131.5,
            "bin_end": 207,
            "count": 0
           },
           {
            "bin_start": 207,
            "bin_end": 282.5,
            "count": 0
           },
           {
            "bin_start": 282.5,
            "bin_end": 358,
            "count": 1
           },
           {
            "bin_start": 358,
            "bin_end": 433.5,
            "count": 0
           },
           {
            "bin_start": 433.5,
            "bin_end": 509,
            "count": 0
           },
           {
            "bin_start": 509,
            "bin_end": 584.5,
            "count": 0
           },
           {
            "bin_start": 584.5,
            "bin_end": 660,
            "count": 0
           },
           {
            "bin_start": 660,
            "bin_end": 735.5,
            "count": 0
           },
           {
            "bin_start": 735.5,
            "bin_end": 811,
            "count": 1
           }
          ]
         }
        },
        {
         "name": "y_pred_out",
         "dtype": "float64",
         "stats": {
          "unique_count": 4,
          "nan_count": 0,
          "min": "255.3859206065243",
          "max": "1405.529774963233",
          "histogram": [
           {
            "bin_start": 255.3859206065243,
            "bin_end": 370.4003060421952,
            "count": 2
           },
           {
            "bin_start": 370.4003060421952,
            "bin_end": 485.4146914778661,
            "count": 0
           },
           {
            "bin_start": 485.4146914778661,
            "bin_end": 600.429076913537,
            "count": 0
           },
           {
            "bin_start": 600.429076913537,
            "bin_end": 715.4434623492078,
            "count": 1
           },
           {
            "bin_start": 715.4434623492078,
            "bin_end": 830.4578477848787,
            "count": 0
           },
           {
            "bin_start": 830.4578477848787,
            "bin_end": 945.4722332205496,
            "count": 0
           },
           {
            "bin_start": 945.4722332205496,
            "bin_end": 1060.4866186562203,
            "count": 0
           },
           {
            "bin_start": 1060.4866186562203,
            "bin_end": 1175.5010040918912,
            "count": 0
           },
           {
            "bin_start": 1175.5010040918912,
            "bin_end": 1290.515389527562,
            "count": 0
           },
           {
            "bin_start": 1290.515389527562,
            "bin_end": 1405.529774963233,
            "count": 1
           }
          ]
         }
        },
        {
         "name": "y_pred_in",
         "dtype": "float64",
         "stats": {
          "unique_count": 4,
          "nan_count": 0,
          "min": "95.86665365430868",
          "max": "1440.0422957122082",
          "histogram": [
           {
            "bin_start": 95.86665365430868,
            "bin_end": 230.28421786009864,
            "count": 2
           },
           {
            "bin_start": 230.28421786009864,
            "bin_end": 364.70178206588855,
            "count": 1
           },
           {
            "bin_start": 364.70178206588855,
            "bin_end": 499.11934627167847,
            "count": 0
           },
           {
            "bin_start": 499.11934627167847,
            "bin_end": 633.5369104774685,
            "count": 0
           },
           {
            "bin_start": 633.5369104774685,
            "bin_end": 767.9544746832585,
            "count": 0
           },
           {
            "bin_start": 767.9544746832585,
            "bin_end": 902.3720388890483,
            "count": 0
           },
           {
            "bin_start": 902.3720388890483,
            "bin_end": 1036.7896030948382,
            "count": 0
           },
           {
            "bin_start": 1036.7896030948382,
            "bin_end": 1171.2071673006283,
            "count": 0
           },
           {
            "bin_start": 1171.2071673006283,
            "bin_end": 1305.6247315064181,
            "count": 0
           },
           {
            "bin_start": 1305.6247315064181,
            "bin_end": 1440.0422957122082,
            "count": 1
           }
          ]
         }
        },
        {
         "name": "residual_out",
         "dtype": "float64",
         "stats": {
          "unique_count": 4,
          "nan_count": 0,
          "min": "-594.529774963233",
          "max": "-135.4908160499789",
          "histogram": [
           {
            "bin_start": -594.529774963233,
            "bin_end": -548.6258790719075,
            "count": 1
           },
           {
            "bin_start": -548.6258790719075,
            "bin_end": -502.72198318058213,
            "count": 0
           },
           {
            "bin_start": -502.72198318058213,
            "bin_end": -456.81808728925677,
            "count": 0
           },
           {
            "bin_start": -456.81808728925677,
            "bin_end": -410.91419139793135,
            "count": 0
           },
           {
            "bin_start": -410.91419139793135,
            "bin_end": -365.0102955066059,
            "count": 0
           },
           {
            "bin_start": -365.0102955066059,
            "bin_end": -319.10639961528057,
            "count": 0
           },
           {
            "bin_start": -319.10639961528057,
            "bin_end": -273.20250372395515,
            "count": 1
           },
           {
            "bin_start": -273.20250372395515,
            "bin_end": -227.29860783262973,
            "count": 0
           },
           {
            "bin_start": -227.29860783262973,
            "bin_end": -181.3947119413043,
            "count": 1
           },
           {
            "bin_start": -181.3947119413043,
            "bin_end": -135.4908160499789,
            "count": 1
           }
          ]
         }
        },
        {
         "name": "residual_in",
         "dtype": "float64",
         "stats": {
          "unique_count": 4,
          "nan_count": 0,
          "min": "-547.0422957122082",
          "max": "6.826130859300292",
          "histogram": [
           {
            "bin_start": -547.0422957122082,
            "bin_end": -491.65545305505736,
            "count": 1
           },
           {
            "bin_start": -491.65545305505736,
            "bin_end": -436.2686103979065,
            "count": 0
           },
           {
            "bin_start": -436.2686103979065,
            "bin_end": -380.88176774075566,
            "count": 0
           },
           {
            "bin_start": -380.88176774075566,
            "bin_end": -325.4949250836048,
            "count": 0
           },
           {
            "bin_start": -325.4949250836048,
            "bin_end": -270.10808242645396,
            "count": 0
           },
           {
            "bin_start": -270.10808242645396,
            "bin_end": -214.7212397693031,
            "count": 0
           },
           {
            "bin_start": -214.7212397693031,
            "bin_end": -159.33439711215226,
            "count": 0
           },
           {
            "bin_start": -159.33439711215226,
            "bin_end": -103.94755445500141,
            "count": 0
           },
           {
            "bin_start": -103.94755445500141,
            "bin_end": -48.56071179785056,
            "count": 0
           },
           {
            "bin_start": -48.56071179785056,
            "bin_end": 6.826130859300292,
            "count": 3
           }
          ]
         }
        },
        {
         "name": "perc_off_out",
         "dtype": "float64",
         "stats": {
          "unique_count": 4,
          "nan_count": 0,
          "min": "-3.5604628679736483",
          "max": "-0.7330823365761195",
          "histogram": [
           {
            "bin_start": -3.5604628679736483,
            "bin_end": -3.2777248148338956,
            "count": 1
           },
           {
            "bin_start": -3.2777248148338956,
            "bin_end": -2.9949867616941424,
            "count": 0
           },
           {
            "bin_start": -2.9949867616941424,
            "bin_end": -2.7122487085543896,
            "count": 0
           },
           {
            "bin_start": -2.7122487085543896,
            "bin_end": -2.429510655414637,
            "count": 0
           },
           {
            "bin_start": -2.429510655414637,
            "bin_end": -2.146772602274884,
            "count": 0
           },
           {
            "bin_start": -2.146772602274884,
            "bin_end": -1.8640345491351311,
            "count": 0
           },
           {
            "bin_start": -1.8640345491351311,
            "bin_end": -1.5812964959953781,
            "count": 0
           },
           {
            "bin_start": -1.5812964959953781,
            "bin_end": -1.2985584428556254,
            "count": 0
           },
           {
            "bin_start": -1.2985584428556254,
            "bin_end": -1.0158203897158726,
            "count": 1
           },
           {
            "bin_start": -1.0158203897158726,
            "bin_end": -0.7330823365761195,
            "count": 2
           }
          ]
         }
        },
        {
         "name": "perc_off_in",
         "dtype": "float64",
         "stats": {
          "unique_count": 4,
          "nan_count": 0,
          "min": "-0.9564623194756873",
          "max": "0.01896147460916748",
          "histogram": [
           {
            "bin_start": -0.9564623194756873,
            "bin_end": -0.8589199400672018,
            "count": 1
           },
           {
            "bin_start": -0.8589199400672018,
            "bin_end": -0.7613775606587163,
            "count": 0
           },
           {
            "bin_start": -0.7613775606587163,
            "bin_end": -0.6638351812502308,
            "count": 0
           },
           {
            "bin_start": -0.6638351812502308,
            "bin_end": -0.5662928018417454,
            "count": 1
           },
           {
            "bin_start": -0.5662928018417454,
            "bin_end": -0.4687504224332599,
            "count": 0
           },
           {
            "bin_start": -0.4687504224332599,
            "bin_end": -0.3712080430247744,
            "count": 0
           },
           {
            "bin_start": -0.3712080430247744,
            "bin_end": -0.27366566361628897,
            "count": 0
           },
           {
            "bin_start": -0.27366566361628897,
            "bin_end": -0.17612328420780343,
            "count": 0
           },
           {
            "bin_start": -0.17612328420780343,
            "bin_end": -0.0785809047993179,
            "count": 0
           },
           {
            "bin_start": -0.0785809047993179,
            "bin_end": 0.01896147460916748,
            "count": 2
           }
          ]
         }
        },
        {
         "name": "_deepnote_index_column",
         "dtype": "int64"
        }
       ],
       "rows": [
        {
         "STATEFP": 6,
         "COUNTYFP": 3,
         "COUNTYNS": "01675840",
         "AFFGEOID": "0500000US06003",
         "GEOID": "06003",
         "NAME": "Alpine",
         "LSAD": "06",
         "ALAND": 1912292630,
         "AWATER": 12557304,
         "geometry": "POLYGON ((-120.072484 38.50986899999999, -120.072392 38.702767, -119.964948 38.775986, -119.877287 …",
         "statefips": 6,
         "countyfips": 3,
         "in_t_minus_4": 0,
         "in_t_minus_3": 51,
         "in_t_minus_2": 80,
         "in_t_minus_1": 43,
         "in_t_minus_0": 49,
         "out_t_minus_4": 0,
         "out_t_minus_3": 63,
         "out_t_minus_2": 84,
         "out_t_minus_1": 68,
         "out_t_minus_0": 56,
         "y_pred_out": 255.3859206065243,
         "y_pred_in": 95.86665365430868,
         "residual_out": -199.3859206065243,
         "residual_in": -46.86665365430868,
         "perc_off_out": -3.5604628679736483,
         "perc_off_in": -0.9564623194756873,
         "_deepnote_index_column": 9
        },
        {
         "STATEFP": 6,
         "COUNTYFP": 91,
         "COUNTYNS": "00277310",
         "AFFGEOID": "0500000US06091",
         "GEOID": "06091",
         "NAME": "Sierra",
         "LSAD": "06",
         "ALAND": 2468694587,
         "AWATER": 23299110,
         "geometry": "POLYGON ((-121.058203 39.537043, -121.009477 39.639459, -120.949435 39.672548, -120.873261 39.77616…",
         "statefips": 6,
         "countyfips": 91,
         "in_t_minus_4": 74,
         "in_t_minus_3": 99,
         "in_t_minus_2": 171,
         "in_t_minus_1": 153,
         "in_t_minus_0": 152,
         "out_t_minus_4": 116,
         "out_t_minus_3": 108,
         "out_t_minus_2": 139,
         "out_t_minus_1": 129,
         "out_t_minus_0": 129,
         "y_pred_out": 264.4908160499789,
         "y_pred_in": 162.86148759904555,
         "residual_out": -135.4908160499789,
         "residual_in": -10.861487599045546,
         "perc_off_out": -1.0503164034882084,
         "perc_off_in": -0.0714571552568786,
         "_deepnote_index_column": 26
        },
        {
         "STATEFP": 6,
         "COUNTYFP": 49,
         "COUNTYNS": "00277289",
         "AFFGEOID": "0500000US06049",
         "GEOID": "06049",
         "NAME": "Modoc",
         "LSAD": "06",
         "ALAND": 10140960152,
         "AWATER": 745420661,
         "geometry": "POLYGON ((-121.457213 41.949945, -121.447539998048 41.9971900332726, -121.43961 41.99708, -121.2510…",
         "statefips": 6,
         "countyfips": 49,
         "in_t_minus_4": 292,
         "in_t_minus_3": 356,
         "in_t_minus_2": 503,
         "in_t_minus_1": 364,
         "in_t_minus_0": 360,
         "out_t_minus_4": 284,
         "out_t_minus_3": 372,
         "out_t_minus_2": 426,
         "out_t_minus_1": 411,
         "out_t_minus_0": 343,
         "y_pred_out": 625.9265137689542,
         "y_pred_in": 353.1738691406997,
         "residual_out": -282.92651376895424,
         "residual_in": 6.826130859300292,
         "perc_off_out": -0.824858640725814,
         "perc_off_in": 0.01896147460916748,
         "_deepnote_index_column": 0
        },
        {
         "STATEFP": 6,
         "COUNTYFP": 15,
         "COUNTYNS": "01682074",
         "AFFGEOID": "0500000US06015",
         "GEOID": "06015",
         "NAME": "Del Norte",
         "LSAD": "06",
         "ALAND": 2606117983,
         "AWATER": 578742642,
         "geometry": "POLYGON ((-124.219592 41.846432, -124.203402 41.940964, -124.211605 41.99846, -124.001188 41.996146…",
         "statefips": 6,
         "countyfips": 15,
         "in_t_minus_4": 772,
         "in_t_minus_3": 1271,
         "in_t_minus_2": 1415,
         "in_t_minus_1": 1116,
         "in_t_minus_0": 893,
         "out_t_minus_4": 830,
         "out_t_minus_3": 951,
         "out_t_minus_2": 1226,
         "out_t_minus_1": 974,
         "out_t_minus_0": 811,
         "y_pred_out": 1405.529774963233,
         "y_pred_in": 1440.0422957122082,
         "residual_out": -594.529774963233,
         "residual_in": -547.0422957122082,
         "perc_off_out": -0.7330823365761195,
         "perc_off_in": -0.6125893569005691,
         "_deepnote_index_column": 43
        }
       ]
      },
      "text/plain": "    STATEFP  COUNTYFP  COUNTYNS        AFFGEOID  GEOID       NAME LSAD  \\\n9         6         3  01675840  0500000US06003  06003     Alpine   06   \n26        6        91  00277310  0500000US06091  06091     Sierra   06   \n0         6        49  00277289  0500000US06049  06049      Modoc   06   \n43        6        15  01682074  0500000US06015  06015  Del Norte   06   \n\n          ALAND     AWATER                                           geometry  \\\n9    1912292630   12557304  POLYGON ((-120.07248 38.50987, -120.07239 38.7...   \n26   2468694587   23299110  POLYGON ((-121.05820 39.53704, -121.00948 39.6...   \n0   10140960152  745420661  POLYGON ((-121.45721 41.94994, -121.44754 41.9...   \n43   2606117983  578742642  POLYGON ((-124.21959 41.84643, -124.20340 41.9...   \n\n    ...  out_t_minus_3  out_t_minus_2  out_t_minus_1  out_t_minus_0  \\\n9   ...           63.0           84.0           68.0           56.0   \n26  ...          108.0          139.0          129.0          129.0   \n0   ...          372.0          426.0          411.0          343.0   \n43  ...          951.0         1226.0          974.0          811.0   \n\n     y_pred_out    y_pred_in  residual_out  residual_in  perc_off_out  \\\n9    255.385921    95.866654   -199.385921   -46.866654     -3.560463   \n26   264.490816   162.861488   -135.490816   -10.861488     -1.050316   \n0    625.926514   353.173869   -282.926514     6.826131     -0.824859   \n43  1405.529775  1440.042296   -594.529775  -547.042296     -0.733082   \n\n    perc_off_in  \n9     -0.956462  \n26    -0.071457  \n0      0.018961  \n43    -0.612589  \n\n[4 rows x 28 columns]",
      "text/html": "<div>\n<style scoped>\n    .dataframe tbody tr th:only-of-type {\n        vertical-align: middle;\n    }\n\n    .dataframe tbody tr th {\n        vertical-align: top;\n    }\n\n    .dataframe thead th {\n        text-align: right;\n    }\n</style>\n<table border=\"1\" class=\"dataframe\">\n  <thead>\n    <tr style=\"text-align: right;\">\n      <th></th>\n      <th>STATEFP</th>\n      <th>COUNTYFP</th>\n      <th>COUNTYNS</th>\n      <th>AFFGEOID</th>\n      <th>GEOID</th>\n      <th>NAME</th>\n      <th>LSAD</th>\n      <th>ALAND</th>\n      <th>AWATER</th>\n      <th>geometry</th>\n      <th>...</th>\n      <th>out_t_minus_3</th>\n      <th>out_t_minus_2</th>\n      <th>out_t_minus_1</th>\n      <th>out_t_minus_0</th>\n      <th>y_pred_out</th>\n      <th>y_pred_in</th>\n      <th>residual_out</th>\n      <th>residual_in</th>\n      <th>perc_off_out</th>\n      <th>perc_off_in</th>\n    </tr>\n  </thead>\n  <tbody>\n    <tr>\n      <th>9</th>\n      <td>6</td>\n      <td>3</td>\n      <td>01675840</td>\n      <td>0500000US06003</td>\n      <td>06003</td>\n      <td>Alpine</td>\n      <td>06</td>\n      <td>1912292630</td>\n      <td>12557304</td>\n      <td>POLYGON ((-120.07248 38.50987, -120.07239 38.7...</td>\n      <td>...</td>\n      <td>63.0</td>\n      <td>84.0</td>\n      <td>68.0</td>\n      <td>56.0</td>\n      <td>255.385921</td>\n      <td>95.866654</td>\n      <td>-199.385921</td>\n      <td>-46.866654</td>\n      <td>-3.560463</td>\n      <td>-0.956462</td>\n    </tr>\n    <tr>\n      <th>26</th>\n      <td>6</td>\n      <td>91</td>\n      <td>00277310</td>\n      <td>0500000US06091</td>\n      <td>06091</td>\n      <td>Sierra</td>\n      <td>06</td>\n      <td>2468694587</td>\n      <td>23299110</td>\n      <td>POLYGON ((-121.05820 39.53704, -121.00948 39.6...</td>\n      <td>...</td>\n      <td>108.0</td>\n      <td>139.0</td>\n      <td>129.0</td>\n      <td>129.0</td>\n      <td>264.490816</td>\n      <td>162.861488</td>\n      <td>-135.490816</td>\n      <td>-10.861488</td>\n      <td>-1.050316</td>\n      <td>-0.071457</td>\n    </tr>\n    <tr>\n      <th>0</th>\n      <td>6</td>\n      <td>49</td>\n      <td>00277289</td>\n      <td>0500000US06049</td>\n      <td>06049</td>\n      <td>Modoc</td>\n      <td>06</td>\n      <td>10140960152</td>\n      <td>745420661</td>\n      <td>POLYGON ((-121.45721 41.94994, -121.44754 41.9...</td>\n      <td>...</td>\n      <td>372.0</td>\n      <td>426.0</td>\n      <td>411.0</td>\n      <td>343.0</td>\n      <td>625.926514</td>\n      <td>353.173869</td>\n      <td>-282.926514</td>\n      <td>6.826131</td>\n      <td>-0.824859</td>\n      <td>0.018961</td>\n    </tr>\n    <tr>\n      <th>43</th>\n      <td>6</td>\n      <td>15</td>\n      <td>01682074</td>\n      <td>0500000US06015</td>\n      <td>06015</td>\n      <td>Del Norte</td>\n      <td>06</td>\n      <td>2606117983</td>\n      <td>578742642</td>\n      <td>POLYGON ((-124.21959 41.84643, -124.20340 41.9...</td>\n      <td>...</td>\n      <td>951.0</td>\n      <td>1226.0</td>\n      <td>974.0</td>\n      <td>811.0</td>\n      <td>1405.529775</td>\n      <td>1440.042296</td>\n      <td>-594.529775</td>\n      <td>-547.042296</td>\n      <td>-0.733082</td>\n      <td>-0.612589</td>\n    </tr>\n  </tbody>\n</table>\n<p>4 rows × 28 columns</p>\n</div>"
     },
     "metadata": {}
    }
   ]
  },
  {
   "cell_type": "code",
   "metadata": {
    "cell_id": "802fd508-eb70-41f3-84c4-6c33e6298284",
    "tags": [],
    "deepnote_to_be_reexecuted": false,
    "source_hash": "5ca3ddbc",
    "execution_start": 1643402836507,
    "execution_millis": 65,
    "deepnote_output_heights": [
     378
    ],
    "deepnote_cell_type": "code"
   },
   "source": "chart = alt.Chart(geo_df).mark_point().encode(\n    x=alt.X('out_t_minus_0',title='Actual outflow'),\n    y=alt.Y('y_pred_out', title = 'Predicted outflow'),\n    tooltip='NAME'\n)\n\nline = pd.DataFrame({\n    'out_t_minus_0': [0, 300000],\n    'y_pred_out':  [0, 300000],\n})\n\nline_plot = alt.Chart(line).mark_line().encode(\n    x= 'out_t_minus_0',\n    y= 'y_pred_out',\n)\n\n(chart + line_plot).properties(title='Predicted outflow systematically over predicts outflow')",
   "execution_count": null,
   "outputs": [
    {
     "output_type": "execute_result",
     "execution_count": 10,
     "data": {
      "text/html": "\n<div id=\"altair-viz-6e6e1c9197134ac5a178a5ad1db17d05\"></div>\n<script type=\"text/javascript\">\n  (function(spec, embedOpt){\n    let outputDiv = document.currentScript.previousElementSibling;\n    if (outputDiv.id !== \"altair-viz-6e6e1c9197134ac5a178a5ad1db17d05\") {\n      outputDiv = document.getElementById(\"altair-viz-6e6e1c9197134ac5a178a5ad1db17d05\");\n    }\n    const paths = {\n      \"vega\": \"https://cdn.jsdelivr.net/npm//vega@5?noext\",\n      \"vega-lib\": \"https://cdn.jsdelivr.net/npm//vega-lib?noext\",\n      \"vega-lite\": \"https://cdn.jsdelivr.net/npm//vega-lite@4.8.1?noext\",\n      \"vega-embed\": \"https://cdn.jsdelivr.net/npm//vega-embed@6?noext\",\n    };\n\n    function loadScript(lib) {\n      return new Promise(function(resolve, reject) {\n        var s = document.createElement('script');\n        s.src = paths[lib];\n        s.async = true;\n        s.onload = () => resolve(paths[lib]);\n        s.onerror = () => reject(`Error loading script: ${paths[lib]}`);\n        document.getElementsByTagName(\"head\")[0].appendChild(s);\n      });\n    }\n\n    function showError(err) {\n      outputDiv.innerHTML = `<div class=\"error\" style=\"color:red;\">${err}</div>`;\n      throw err;\n    }\n\n    function displayChart(vegaEmbed) {\n      vegaEmbed(outputDiv, spec, embedOpt)\n        .catch(err => showError(`Javascript Error: ${err.message}<br>This usually means there's a typo in your chart specification. See the javascript console for the full traceback.`));\n    }\n\n    if(typeof define === \"function\" && define.amd) {\n      requirejs.config({paths});\n      require([\"vega-embed\"], displayChart, err => showError(`Error loading script: ${err.message}`));\n    } else if (typeof vegaEmbed === \"function\") {\n      displayChart(vegaEmbed);\n    } else {\n      loadScript(\"vega\")\n        .then(() => loadScript(\"vega-lite\"))\n        .then(() => loadScript(\"vega-embed\"))\n        .catch(showError)\n        .then(() => displayChart(vegaEmbed));\n    }\n  })({\"config\": {\"view\": {\"continuousWidth\": 400, \"continuousHeight\": 300}}, \"layer\": [{\"data\": {\"name\": \"data-bdc145069dee164ef013aa6867befd6f\"}, \"mark\": \"point\", \"encoding\": {\"tooltip\": {\"type\": \"nominal\", \"field\": \"NAME\"}, \"x\": {\"type\": \"quantitative\", \"field\": \"out_t_minus_0\", \"title\": \"Actual outflow\"}, \"y\": {\"type\": \"quantitative\", \"field\": \"y_pred_out\", \"title\": \"Predicted outflow\"}}}, {\"data\": {\"name\": \"data-d02595babc129afad265bb7964209041\"}, \"mark\": \"line\", \"encoding\": {\"x\": {\"type\": \"quantitative\", \"field\": \"out_t_minus_0\"}, \"y\": {\"type\": \"quantitative\", \"field\": \"y_pred_out\"}}}], \"title\": \"Predicted outflow systematically over predicts outflow\", \"$schema\": \"https://vega.github.io/schema/vega-lite/v4.8.1.json\", \"datasets\": {\"data-bdc145069dee164ef013aa6867befd6f\": [{\"AFFGEOID\": \"0500000US06049\", \"ALAND\": 10140960152, \"AWATER\": 745420661, \"COUNTYFP\": 49, \"COUNTYNS\": \"00277289\", \"GEOID\": \"06049\", \"LSAD\": \"06\", \"NAME\": \"Modoc\", \"STATEFP\": 6, \"countyfips\": 49, \"in_t_minus_0\": 360.0, \"in_t_minus_1\": 364.0, \"in_t_minus_2\": 503.0, \"in_t_minus_3\": 356.0, \"in_t_minus_4\": 292.0, \"out_t_minus_0\": 343.0, \"out_t_minus_1\": 411.0, \"out_t_minus_2\": 426.0, \"out_t_minus_3\": 372.0, \"out_t_minus_4\": 284.0, \"perc_off_in\": 0.01896147460916748, \"perc_off_out\": -0.824858640725814, \"residual_in\": 6.826130859300292, \"residual_out\": -282.92651376895424, \"statefips\": 6, \"y_pred_in\": 353.1738691406997, \"y_pred_out\": 625.9265137689542, \"type\": \"Feature\", \"geometry\": {\"type\": \"Polygon\", \"coordinates\": [[[-121.457213, 41.949945], [-121.447539998048, 41.997190033272595], [-121.43961, 41.99708], [-121.251099, 41.997569999999996], [-121.035195, 41.993323], [-120.87992571023601, 41.9934832599849], [-120.692219, 41.993677], [-120.501069, 41.993784999999995], [-120.181563, 41.994588], [-119.999168, 41.99454], [-119.999276, 41.874891], [-119.99828, 41.618764999999996], [-119.999866, 41.183974], [-120.501404, 41.18394], [-121.331786, 41.183886], [-121.446495, 41.183484], [-121.448981, 41.776392], [-121.457213, 41.949945]]]}}, {\"AFFGEOID\": \"0500000US06055\", \"ALAND\": 1938114186, \"AWATER\": 104300794, \"COUNTYFP\": 55, \"COUNTYNS\": \"00277292\", \"GEOID\": \"06055\", \"LSAD\": \"06\", \"NAME\": \"Napa\", \"STATEFP\": 6, \"countyfips\": 55, \"in_t_minus_0\": 5288.0, \"in_t_minus_1\": 5859.0, \"in_t_minus_2\": 7117.0, \"in_t_minus_3\": 6051.0, \"in_t_minus_4\": 4520.0, \"out_t_minus_0\": 6081.0, \"out_t_minus_1\": 6531.0, \"out_t_minus_2\": 8135.0, \"out_t_minus_3\": 6400.0, \"out_t_minus_4\": 4702.0, \"perc_off_in\": -0.22760588446512828, \"perc_off_out\": -0.3477280774030244, \"residual_in\": -1203.5799170515984, \"residual_out\": -2114.5344386877914, \"statefips\": 6, \"y_pred_in\": 6491.579917051598, \"y_pred_out\": 8195.534438687791, \"type\": \"Feature\", \"geometry\": {\"type\": \"Polygon\", \"coordinates\": [[[-122.627396, 38.667505999999996], [-122.46388999999999, 38.705203], [-122.397989, 38.804001], [-122.395056, 38.864245], [-122.287998, 38.839931], [-122.224206, 38.699984], [-122.168301, 38.655296], [-122.103281, 38.513348], [-122.126389, 38.428917999999996], [-122.061379, 38.327411], [-122.205982, 38.315712999999995], [-122.195971, 38.162991], [-122.213464, 38.154894], [-122.406786, 38.155632], [-122.349564, 38.193971999999995], [-122.543893, 38.519966], [-122.602659, 38.557496], [-122.646421, 38.598593], [-122.627396, 38.667505999999996]]]}}, {\"AFFGEOID\": \"0500000US06099\", \"ALAND\": 3874662824, \"AWATER\": 46356389, \"COUNTYFP\": 99, \"COUNTYNS\": \"00277314\", \"GEOID\": \"06099\", \"LSAD\": \"06\", \"NAME\": \"Stanislaus\", \"STATEFP\": 6, \"countyfips\": 99, \"in_t_minus_0\": 18444.0, \"in_t_minus_1\": 19614.0, \"in_t_minus_2\": 25513.0, \"in_t_minus_3\": 19878.0, \"in_t_minus_4\": 14405.0, \"out_t_minus_0\": 18727.0, \"out_t_minus_1\": 18903.0, \"out_t_minus_2\": 22557.0, \"out_t_minus_3\": 16768.0, \"out_t_minus_4\": 13311.0, \"perc_off_in\": -0.13524987057663362, \"perc_off_out\": -0.233551532939969, \"residual_in\": -2494.5486129154306, \"residual_out\": -4373.7195573668, \"statefips\": 6, \"y_pred_in\": 20938.54861291543, \"y_pred_out\": 23100.7195573668, \"type\": \"Feature\", \"geometry\": {\"type\": \"Polygon\", \"coordinates\": [[[-121.471925, 37.481783], [-121.241219, 37.664009], [-121.110049, 37.742128], [-120.995696, 37.760177999999996], [-120.920993, 37.737947], [-120.92644899999999, 38.077421], [-120.653274, 37.831858], [-120.387613, 37.633704], [-120.38767, 37.633364], [-120.989811, 37.395871], [-120.963812, 37.346143999999995], [-121.226804, 37.134774], [-121.282271, 37.183675], [-121.399451, 37.150386], [-121.459051, 37.282739], [-121.405753, 37.31099], [-121.47264799999999, 37.482169999999996], [-121.471925, 37.481783]]]}}, {\"AFFGEOID\": \"0500000US06077\", \"ALAND\": 3606263159, \"AWATER\": 88974329, \"COUNTYFP\": 77, \"COUNTYNS\": \"00277303\", \"GEOID\": \"06077\", \"LSAD\": \"06\", \"NAME\": \"San Joaquin\", \"STATEFP\": 6, \"countyfips\": 77, \"in_t_minus_0\": 30570.0, \"in_t_minus_1\": 32264.0, \"in_t_minus_2\": 40373.0, \"in_t_minus_3\": 30164.0, \"in_t_minus_4\": 22023.0, \"out_t_minus_0\": 26740.0, \"out_t_minus_1\": 26928.0, \"out_t_minus_2\": 32433.0, \"out_t_minus_3\": 24640.0, \"out_t_minus_4\": 18865.0, \"perc_off_in\": -0.0770328383017382, \"perc_off_out\": -0.28487665984435573, \"residual_in\": -2354.8938668841365, \"residual_out\": -7617.601884238073, \"statefips\": 6, \"y_pred_in\": 32924.89386688414, \"y_pred_out\": 34357.60188423807, \"type\": \"Feature\", \"geometry\": {\"type\": \"Polygon\", \"coordinates\": [[[-121.580022, 38.094414], [-121.472138, 38.259659], [-121.448142, 38.255008], [-121.39819299999999, 38.227427], [-121.28226699999999, 38.249835999999995], [-121.222512, 38.244406], [-121.027084, 38.300252], [-120.995497, 38.225401999999995], [-120.942113, 38.096328], [-120.92644899999999, 38.077421], [-120.920993, 37.737947], [-120.995696, 37.760177999999996], [-121.110049, 37.742128], [-121.241219, 37.664009], [-121.471925, 37.481783], [-121.556655, 37.542732], [-121.556959, 37.743051], [-121.556997, 37.816488], [-121.534167, 37.849022999999995], [-121.580022, 38.094414]]]}}, {\"AFFGEOID\": \"0500000US06011\", \"ALAND\": 2980332864, \"AWATER\": 14608870, \"COUNTYFP\": 11, \"COUNTYNS\": \"01675902\", \"GEOID\": \"06011\", \"LSAD\": \"06\", \"NAME\": \"Colusa\", \"STATEFP\": 6, \"countyfips\": 11, \"in_t_minus_0\": 763.0, \"in_t_minus_1\": 791.0, \"in_t_minus_2\": 921.0, \"in_t_minus_3\": 847.0, \"in_t_minus_4\": 659.0, \"out_t_minus_0\": 672.0, \"out_t_minus_1\": 797.0, \"out_t_minus_2\": 952.0, \"out_t_minus_3\": 676.0, \"out_t_minus_4\": 742.0, \"perc_off_in\": -0.24840480177535257, \"perc_off_out\": -0.36226130769737624, \"residual_in\": -189.53286375459402, \"residual_out\": -243.43959877263683, \"statefips\": 6, \"y_pred_in\": 952.532863754594, \"y_pred_out\": 915.4395987726368, \"type\": \"Feature\", \"geometry\": {\"type\": \"Polygon\", \"coordinates\": [[[-122.78509, 39.382974999999995], [-122.739062, 39.383266], [-122.192334, 39.385256999999996], [-122.136161, 39.414499], [-122.008857, 39.413567], [-121.890013, 39.383863999999996], [-121.899109, 39.357285999999995], [-121.908269, 39.303878], [-121.945514, 39.179843], [-121.889101, 39.072373], [-121.795366, 38.995686], [-121.835488, 38.924481], [-122.340172, 38.924246], [-122.409118, 38.962793], [-122.413416, 39.020218], [-122.491278, 39.052991], [-122.47729, 39.17395], [-122.680927, 39.238726], [-122.775043, 39.311778], [-122.743482, 39.36813], [-122.78509, 39.382974999999995]]]}}, {\"AFFGEOID\": \"0500000US06023\", \"ALAND\": 9241527430, \"AWATER\": 1253763757, \"COUNTYFP\": 23, \"COUNTYNS\": \"01681908\", \"GEOID\": \"06023\", \"LSAD\": \"06\", \"NAME\": \"Humboldt\", \"STATEFP\": 6, \"countyfips\": 23, \"in_t_minus_0\": 3943.0, \"in_t_minus_1\": 3946.0, \"in_t_minus_2\": 5467.0, \"in_t_minus_3\": 4351.0, \"in_t_minus_4\": 2936.0, \"out_t_minus_0\": 4417.0, \"out_t_minus_1\": 4704.0, \"out_t_minus_2\": 6008.0, \"out_t_minus_3\": 4080.0, \"out_t_minus_4\": 2933.0, \"perc_off_in\": -0.17537496955602166, \"perc_off_out\": -0.30306822640237163, \"residual_in\": -691.5035049593935, \"residual_out\": -1338.6523560192754, \"statefips\": 6, \"y_pred_in\": 4634.5035049593935, \"y_pred_out\": 5755.652356019275, \"type\": \"Feature\", \"geometry\": {\"type\": \"Polygon\", \"coordinates\": [[[-124.387023, 40.504954], [-124.301355, 40.659642999999996], [-124.176715, 40.843618], [-124.118147, 40.989263], [-124.125448, 41.048504], [-124.154513, 41.087159], [-124.163988, 41.138675], [-124.122677, 41.189726], [-124.092284, 41.287695], [-124.063076, 41.439578999999995], [-124.067473659422, 41.464736188490896], [-123.770551, 41.464193], [-123.770239, 41.380776], [-123.661363, 41.38209], [-123.487831, 41.376934], [-123.40829099999999, 41.179944], [-123.464006, 41.076347999999996], [-123.406082, 41.013791999999995], [-123.481457, 40.914957], [-123.560163, 40.950257], [-123.623826, 40.929421], [-123.55985, 40.829584], [-123.544059, 40.739385999999996], [-123.54445799999999, 40.001923], [-124.02520517453002, 40.001299341669004], [-124.035904, 40.013318999999996], [-124.068908, 40.021307], [-124.087086, 40.078441999999995], [-124.139952, 40.11635], [-124.187874, 40.130542], [-124.258405, 40.184277], [-124.34307, 40.243978999999996], [-124.363414, 40.260974], [-124.353124, 40.331424999999996], [-124.365357, 40.374855], [-124.409591, 40.438075999999995], [-124.387023, 40.504954]]]}}, {\"AFFGEOID\": \"0500000US06105\", \"ALAND\": 8234265085, \"AWATER\": 73407950, \"COUNTYFP\": 105, \"COUNTYNS\": \"00277317\", \"GEOID\": \"06105\", \"LSAD\": \"06\", \"NAME\": \"Trinity\", \"STATEFP\": 6, \"countyfips\": 105, \"in_t_minus_0\": 332.0, \"in_t_minus_1\": 452.0, \"in_t_minus_2\": 632.0, \"in_t_minus_3\": 390.0, \"in_t_minus_4\": 331.0, \"out_t_minus_0\": 443.0, \"out_t_minus_1\": 421.0, \"out_t_minus_2\": 571.0, \"out_t_minus_3\": 454.0, \"out_t_minus_4\": 355.0, \"perc_off_in\": -0.19355988589405945, \"perc_off_out\": -0.42357383813016597, \"residual_in\": -64.26188211682773, \"residual_out\": -187.64321029166354, \"statefips\": 6, \"y_pred_in\": 396.26188211682773, \"y_pred_out\": 630.6432102916635, \"type\": \"Feature\", \"geometry\": {\"type\": \"Polygon\", \"coordinates\": [[[-123.560163, 40.950257], [-123.481457, 40.914957], [-123.406082, 41.013791999999995], [-123.464006, 41.076347999999996], [-123.40829099999999, 41.179944], [-123.273402, 41.122890999999996], [-123.23948, 41.075762999999995], [-123.109077, 41.075429], [-123.03680800000001, 41.004058], [-122.917529, 40.99399], [-122.897411, 41.028475], [-122.973382, 41.112074], [-122.885921, 41.205141999999995], [-122.811342, 41.202450999999996], [-122.653686, 41.289237], [-122.585241, 41.359007999999996], [-122.50389, 41.342985], [-122.522636, 41.213525], [-122.49837600000001, 41.182674999999996], [-122.445453, 41.15793], [-122.457144, 41.096610999999996], [-122.51335399999999, 41.088226999999996], [-122.527753, 41.014395], [-122.60736299999999, 40.957747999999995], [-122.600458, 40.899749], [-122.66605799999999, 40.825874999999996], [-122.669839, 40.773567], [-122.752023, 40.689882], [-122.69879, 40.569292999999995], [-122.845954, 40.505181], [-122.903738, 40.445071], [-122.998682, 40.418141999999996], [-123.068789, 40.332232999999995], [-123.065426, 40.286971], [-122.97755, 40.241285], [-122.989623, 40.145496], [-122.934013, 39.978131], [-123.544563, 39.977015], [-123.54445799999999, 40.001923], [-123.544059, 40.739385999999996], [-123.55985, 40.829584], [-123.623826, 40.929421], [-123.560163, 40.950257]]]}}, {\"AFFGEOID\": \"0500000US06029\", \"ALAND\": 21062456129, \"AWATER\": 78764641, \"COUNTYFP\": 29, \"COUNTYNS\": \"02054176\", \"GEOID\": \"06029\", \"LSAD\": \"06\", \"NAME\": \"Kern\", \"STATEFP\": 6, \"countyfips\": 29, \"in_t_minus_0\": 25797.0, \"in_t_minus_1\": 26103.0, \"in_t_minus_2\": 31152.0, \"in_t_minus_3\": 23945.0, \"in_t_minus_4\": 19276.0, \"out_t_minus_0\": 24531.0, \"out_t_minus_1\": 24979.0, \"out_t_minus_2\": 32122.0, \"out_t_minus_3\": 25548.0, \"out_t_minus_4\": 19850.0, \"perc_off_in\": 0.0025314955389153936, \"perc_off_out\": -0.24073209798956596, \"residual_in\": 65.3049904174004, \"residual_out\": -5905.399095782042, \"statefips\": 6, \"y_pred_in\": 25731.6950095826, \"y_pred_out\": 30436.399095782042, \"type\": \"Feature\", \"geometry\": {\"type\": \"Polygon\", \"coordinates\": [[[-120.194146, 35.789204], [-119.538116, 35.789567], [-119.053437, 35.790748], [-118.803729, 35.790347], [-118.067719, 35.791537], [-118.008043, 35.789161], [-117.924459, 35.798148999999995], [-117.63299599999999, 35.797250999999996], [-117.651986, 35.709934], [-117.616195, 35.680856], [-117.630126, 35.564071], [-117.632011, 34.822269999999996], [-117.667292, 34.822525999999996], [-117.774368, 34.823301], [-118.326281, 34.819725999999996], [-118.894634, 34.817972], [-118.88136399999999, 34.790628999999996], [-118.976721, 34.812199], [-119.243645, 34.814178], [-119.276946, 34.879675], [-119.442352, 34.901274], [-119.472754, 34.901174], [-119.472719, 35.076885], [-119.560975, 35.087672999999995], [-119.553641, 35.179975], [-119.667056, 35.174808999999996], [-119.666663, 35.262527], [-119.809449, 35.263584], [-119.809346, 35.350865], [-119.880172, 35.351211], [-119.880045, 35.439133], [-119.913659, 35.439262], [-120.086674, 35.526554], [-120.085922, 35.614523999999996], [-120.193918, 35.614359], [-120.194146, 35.789204]]]}}, {\"AFFGEOID\": \"0500000US06111\", \"ALAND\": 4771968316, \"AWATER\": 947365005, \"COUNTYFP\": 111, \"COUNTYNS\": \"00277320\", \"GEOID\": \"06111\", \"LSAD\": \"06\", \"NAME\": \"Ventura\", \"STATEFP\": 6, \"countyfips\": 111, \"in_t_minus_0\": 27274.0, \"in_t_minus_1\": 28615.0, \"in_t_minus_2\": 37860.0, \"in_t_minus_3\": 28797.0, \"in_t_minus_4\": 21668.0, \"out_t_minus_0\": 30430.0, \"out_t_minus_1\": 31749.0, \"out_t_minus_2\": 39935.0, \"out_t_minus_3\": 32264.0, \"out_t_minus_4\": 24380.0, \"perc_off_in\": -0.05971301234607665, \"perc_off_out\": -0.29413329011318445, \"residual_in\": -1628.6126987268945, \"residual_out\": -8950.476018144203, \"statefips\": 6, \"y_pred_in\": 28902.612698726894, \"y_pred_out\": 39380.4760181442, \"type\": \"Feature\", \"geometry\": {\"type\": \"MultiPolygon\", \"coordinates\": [[[[-119.47794670672401, 34.378837558775594], [-119.44599099999999, 34.404067], [-119.442269, 34.463949], [-119.442353, 34.561101], [-119.442352, 34.901274], [-119.276946, 34.879675], [-119.243645, 34.814178], [-118.976721, 34.812199], [-118.88136399999999, 34.790628999999996], [-118.738618, 34.498968999999995], [-118.652285, 34.323392], [-118.633461, 34.269521999999995], [-118.667708, 34.236692], [-118.667944, 34.199166], [-118.693834, 34.168557], [-118.723374, 34.167860999999995], [-118.788889, 34.168214], [-118.856473, 34.126765], [-118.940801, 34.074967], [-118.94447951145901, 34.046738953351], [-118.954722, 34.048167], [-119.069959, 34.090469999999996], [-119.10978399999999, 34.094566], [-119.227743, 34.161728], [-119.257043, 34.213304], [-119.270144, 34.252902999999996], [-119.276614251859, 34.2563404250143], [-119.313034, 34.275689], [-119.37577999999999, 34.321118], [-119.46103600000001, 34.374064], [-119.47794670672401, 34.378837558775594]]], [[[-119.47073665694401, 34.053996622104], [-119.442654, 34.054156], [-119.364214, 34.050793999999996], [-119.363065, 34.000548], [-119.391587, 33.994636], [-119.48771955738201, 33.99651515438929], [-119.47073665694401, 34.053996622104]]], [[[-119.578942, 33.278628], [-119.510489, 33.307269], [-119.427171, 33.266023], [-119.429559, 33.228167], [-119.464725, 33.215432], [-119.545872, 33.233405999999995], [-119.578942, 33.278628]]]]}}, {\"AFFGEOID\": \"0500000US06003\", \"ALAND\": 1912292630, \"AWATER\": 12557304, \"COUNTYFP\": 3, \"COUNTYNS\": \"01675840\", \"GEOID\": \"06003\", \"LSAD\": \"06\", \"NAME\": \"Alpine\", \"STATEFP\": 6, \"countyfips\": 3, \"in_t_minus_0\": 49.0, \"in_t_minus_1\": 43.0, \"in_t_minus_2\": 80.0, \"in_t_minus_3\": 51.0, \"in_t_minus_4\": 0.0, \"out_t_minus_0\": 56.0, \"out_t_minus_1\": 68.0, \"out_t_minus_2\": 84.0, \"out_t_minus_3\": 63.0, \"out_t_minus_4\": 0.0, \"perc_off_in\": -0.9564623194756873, \"perc_off_out\": -3.5604628679736483, \"residual_in\": -46.86665365430868, \"residual_out\": -199.3859206065243, \"statefips\": 6, \"y_pred_in\": 95.86665365430868, \"y_pred_out\": 255.3859206065243, \"type\": \"Feature\", \"geometry\": {\"type\": \"Polygon\", \"coordinates\": [[[-120.072484, 38.509868999999995], [-120.07239200000001, 38.702767], [-119.96494799999999, 38.775985999999996], [-119.877287, 38.870193], [-119.904315, 38.933324], [-119.587679, 38.714734], [-119.58540614483901, 38.7131509006712], [-119.619066, 38.603529], [-119.542332, 38.481221], [-119.639205, 38.326879999999996], [-119.705385, 38.416101999999995], [-119.884749, 38.356184999999996], [-120.01995099999999, 38.433521], [-120.072566, 38.447081], [-120.072484, 38.509868999999995]]]}}, {\"AFFGEOID\": \"0500000US06001\", \"ALAND\": 1909598013, \"AWATER\": 216923745, \"COUNTYFP\": 1, \"COUNTYNS\": \"01675839\", \"GEOID\": \"06001\", \"LSAD\": \"06\", \"NAME\": \"Alameda\", \"STATEFP\": 6, \"countyfips\": 1, \"in_t_minus_0\": 73109.0, \"in_t_minus_1\": 76117.0, \"in_t_minus_2\": 94743.0, \"in_t_minus_3\": 74447.0, \"in_t_minus_4\": 56353.0, \"out_t_minus_0\": 85562.0, \"out_t_minus_1\": 87475.0, \"out_t_minus_2\": 111192.0, \"out_t_minus_3\": 80777.0, \"out_t_minus_4\": 55460.0, \"perc_off_in\": -0.10910064513148643, \"perc_off_out\": -0.23581218625697317, \"residual_in\": -7976.2390649178415, \"residual_out\": -20176.562280519138, \"statefips\": 6, \"y_pred_in\": 81085.23906491784, \"y_pred_out\": 105738.56228051914, \"type\": \"Feature\", \"geometry\": {\"type\": \"Polygon\", \"coordinates\": [[[-122.333711, 37.809796999999996], [-122.303931, 37.830087], [-122.32871428740701, 37.8938323463208], [-122.27108, 37.905823999999996], [-122.14026, 37.804562], [-122.045473, 37.798125999999996], [-122.004809, 37.770571], [-121.997771, 37.763227], [-122.010771, 37.755127], [-122.011771, 37.747428], [-121.989971, 37.733627999999996], [-121.97247, 37.728528], [-121.96077, 37.718629], [-121.873542, 37.739317], [-121.577005, 37.811527], [-121.556997, 37.816488], [-121.556959, 37.743051], [-121.556655, 37.542732], [-121.471925, 37.481783], [-121.47264799999999, 37.482169999999996], [-121.855762, 37.484536999999996], [-121.925041, 37.454186], [-122.059673, 37.464087], [-122.081473, 37.477838], [-122.11724, 37.506721], [-122.12919970222401, 37.5213219985908], [-122.111998, 37.528850999999996], [-122.144396, 37.581866], [-122.152905, 37.640771], [-122.162802519462, 37.6672730133697], [-122.163049, 37.667933], [-122.213774, 37.698695], [-122.24981, 37.726406], [-122.252452, 37.755129], [-122.312974, 37.777243999999996], [-122.333711, 37.809796999999996]]]}}, {\"AFFGEOID\": \"0500000US06093\", \"ALAND\": 16261933260, \"AWATER\": 179149816, \"COUNTYFP\": 93, \"COUNTYNS\": \"00277311\", \"GEOID\": \"06093\", \"LSAD\": \"06\", \"NAME\": \"Siskiyou\", \"STATEFP\": 6, \"countyfips\": 93, \"in_t_minus_0\": 1690.0, \"in_t_minus_1\": 1939.0, \"in_t_minus_2\": 2583.0, \"in_t_minus_3\": 1850.0, \"in_t_minus_4\": 1195.0, \"out_t_minus_0\": 1750.0, \"out_t_minus_1\": 1685.0, \"out_t_minus_2\": 2069.0, \"out_t_minus_3\": 1542.0, \"out_t_minus_4\": 1264.0, \"perc_off_in\": -0.22336568583257504, \"perc_off_out\": -0.2987550287601308, \"residual_in\": -377.48800905705184, \"residual_out\": -522.821300330229, \"statefips\": 6, \"y_pred_in\": 2067.488009057052, \"y_pred_out\": 2272.821300330229, \"type\": \"Feature\", \"geometry\": {\"type\": \"Polygon\", \"coordinates\": [[[-123.66020499999999, 41.714054999999995], [-123.703681, 41.829487], [-123.64281199999999, 41.889353], [-123.56544199999999, 41.903141], [-123.51911283680401, 41.9991725180329], [-123.43477, 42.001641], [-123.347562, 41.999108], [-123.23100126057801, 42.004970062256], [-123.145959, 42.009246999999995], [-123.045254, 42.003049], [-122.80008, 42.004070999999996], [-122.501135, 42.00846], [-122.28974909615701, 42.007764730496596], [-122.28952699999999, 42.007763999999995], [-122.101922, 42.005766], [-121.846712, 42.00307], [-121.675348, 42.000350999999995], [-121.447539998048, 41.997190033272595], [-121.457213, 41.949945], [-121.448981, 41.776392], [-121.446495, 41.183484], [-122.49837600000001, 41.182674999999996], [-122.522636, 41.213525], [-122.50389, 41.342985], [-122.585241, 41.359007999999996], [-122.653686, 41.289237], [-122.811342, 41.202450999999996], [-122.885921, 41.205141999999995], [-122.973382, 41.112074], [-122.897411, 41.028475], [-122.917529, 40.99399], [-123.03680800000001, 41.004058], [-123.109077, 41.075429], [-123.23948, 41.075762999999995], [-123.273402, 41.122890999999996], [-123.40829099999999, 41.179944], [-123.487831, 41.376934], [-123.661363, 41.38209], [-123.61179, 41.462126999999995], [-123.648046, 41.535024], [-123.719174, 41.595613], [-123.66020499999999, 41.714054999999995]]]}}, {\"AFFGEOID\": \"0500000US06115\", \"ALAND\": 1636913845, \"AWATER\": 31057995, \"COUNTYFP\": 115, \"COUNTYNS\": \"00277322\", \"GEOID\": \"06115\", \"LSAD\": \"06\", \"NAME\": \"Yuba\", \"STATEFP\": 6, \"countyfips\": 115, \"in_t_minus_0\": 6386.0, \"in_t_minus_1\": 6398.0, \"in_t_minus_2\": 8269.0, \"in_t_minus_3\": 5814.0, \"in_t_minus_4\": 4250.0, \"out_t_minus_0\": 5737.0, \"out_t_minus_1\": 5826.0, \"out_t_minus_2\": 7534.0, \"out_t_minus_3\": 5508.0, \"out_t_minus_4\": 4095.0, \"perc_off_in\": 0.0027889651424797047, \"perc_off_out\": -0.28263850824172704, \"residual_in\": 17.810331399875395, \"residual_out\": -1621.4971217827879, \"statefips\": 6, \"y_pred_in\": 6368.189668600125, \"y_pred_out\": 7358.497121782788, \"type\": \"Feature\", \"geometry\": {\"type\": \"Polygon\", \"coordinates\": [[[-121.62376, 39.295621], [-121.407527, 39.339754], [-121.33442, 39.425211999999995], [-121.305122, 39.519585], [-121.149907, 39.526446], [-121.076695, 39.597263999999996], [-121.009477, 39.639458999999995], [-121.05820299999999, 39.537043], [-121.022085, 39.391557999999996], [-121.127481, 39.380237], [-121.266132, 39.272717], [-121.279533, 39.034617999999995], [-121.332135, 39.042021], [-121.365643, 39.031743], [-121.414779, 38.996452], [-121.543306, 38.972404], [-121.57541499999999, 38.918348], [-121.610138, 39.057846999999995], [-121.58591, 39.089690999999995], [-121.62376, 39.295621]]]}}, {\"AFFGEOID\": \"0500000US06037\", \"ALAND\": 10510671776, \"AWATER\": 1794675167, \"COUNTYFP\": 37, \"COUNTYNS\": \"00277283\", \"GEOID\": \"06037\", \"LSAD\": \"06\", \"NAME\": \"Los Angeles\", \"STATEFP\": 6, \"countyfips\": 37, \"in_t_minus_0\": 182748.0, \"in_t_minus_1\": 190231.0, \"in_t_minus_2\": 230559.0, \"in_t_minus_3\": 191554.0, \"in_t_minus_4\": 160247.0, \"out_t_minus_0\": 268467.0, \"out_t_minus_1\": 277710.0, \"out_t_minus_2\": 341832.0, \"out_t_minus_3\": 258658.0, \"out_t_minus_4\": 201947.0, \"perc_off_in\": -0.08865511695289903, \"perc_off_out\": -0.13764445945876636, \"residual_in\": -16201.54531290839, \"residual_out\": -36952.99509751663, \"statefips\": 6, \"y_pred_in\": 198949.5453129084, \"y_pred_out\": 305419.9950975166, \"type\": \"Feature\", \"geometry\": {\"type\": \"MultiPolygon\", \"coordinates\": [[[[-118.593969, 33.467197999999996], [-118.484785, 33.487483], [-118.370323, 33.409285], [-118.286261, 33.351462999999995], [-118.325244, 33.299075], [-118.374768, 33.320065], [-118.465368, 33.326056], [-118.482609, 33.369914], [-118.563442, 33.434381], [-118.593969, 33.467197999999996]]], [[[-118.594033, 33.035951], [-118.540069, 32.980933], [-118.446771, 32.895424], [-118.353504, 32.821962], [-118.425634, 32.800595], [-118.487908, 32.84459], [-118.581513, 32.931672], [-118.641578, 33.017129], [-118.594033, 33.035951]]], [[[-118.940801, 34.074967], [-118.856473, 34.126765], [-118.788889, 34.168214], [-118.723374, 34.167860999999995], [-118.693834, 34.168557], [-118.667944, 34.199166], [-118.667708, 34.236692], [-118.633461, 34.269521999999995], [-118.652285, 34.323392], [-118.738618, 34.498968999999995], [-118.88136399999999, 34.790628999999996], [-118.894634, 34.817972], [-118.326281, 34.819725999999996], [-117.774368, 34.823301], [-117.667292, 34.822525999999996], [-117.655235, 34.397222], [-117.646374, 34.28917], [-117.677405, 34.166103], [-117.693545, 34.121627], [-117.70429, 34.095054999999995], [-117.711067, 34.079536], [-117.744342, 34.019852], [-117.767752, 34.019428999999995], [-117.802539, 33.975550999999996], [-117.783287, 33.946411], [-117.919725, 33.947668], [-117.966691, 33.946058], [-117.976593, 33.902809999999995], [-118.02871400000001, 33.866242], [-118.058655, 33.846126999999996], [-118.063268, 33.824107], [-118.093099, 33.786152], [-118.11507672288201, 33.743803322895], [-118.132698, 33.753217], [-118.1837, 33.736118], [-118.23192618587301, 33.715295467827495], [-118.258687, 33.703741], [-118.317205, 33.712818], [-118.333295892977, 33.7211848352577], [-118.354705, 33.732317], [-118.39660599999999, 33.735917], [-118.42840699999999, 33.774715], [-118.394307, 33.804314999999995], [-118.412708, 33.883913], [-118.460611, 33.969111], [-118.519514, 34.027509], [-118.603572, 34.039048], [-118.679366, 34.033255], [-118.744952, 34.032103], [-118.805114, 34.001239], [-118.854653, 34.034214999999996], [-118.94447951145901, 34.046738953351], [-118.940801, 34.074967]]]]}}, {\"AFFGEOID\": \"0500000US06045\", \"ALAND\": 9081426659, \"AWATER\": 962946207, \"COUNTYFP\": 45, \"COUNTYNS\": \"00277287\", \"GEOID\": \"06045\", \"LSAD\": \"06\", \"NAME\": \"Mendocino\", \"STATEFP\": 6, \"countyfips\": 45, \"in_t_minus_0\": 2706.0, \"in_t_minus_1\": 3114.0, \"in_t_minus_2\": 3900.0, \"in_t_minus_3\": 2965.0, \"in_t_minus_4\": 2133.0, \"out_t_minus_0\": 2979.0, \"out_t_minus_1\": 3243.0, \"out_t_minus_2\": 3542.0, \"out_t_minus_3\": 2861.0, \"out_t_minus_4\": 2209.0, \"perc_off_in\": -0.1906820244014154, \"perc_off_out\": -0.3931070757798383, \"residual_in\": -515.9855580302301, \"residual_out\": -1171.0659787481381, \"statefips\": 6, \"y_pred_in\": 3221.98555803023, \"y_pred_out\": 4150.065978748138, \"type\": \"Feature\", \"geometry\": {\"type\": \"Polygon\", \"coordinates\": [[[-124.02520517453002, 40.001299341669004], [-123.54445799999999, 40.001923], [-123.544563, 39.977015], [-122.934013, 39.978131], [-122.909787, 39.936385], [-122.950077, 39.907717999999996], [-122.937654, 39.798156], [-122.892676, 39.708898], [-122.885352, 39.580107999999996], [-122.89031, 39.529014], [-123.063181, 39.503538999999996], [-123.075114, 39.407683], [-122.994839, 39.235924], [-123.077812, 39.173791], [-123.056115, 39.048815], [-123.056212, 39.021096], [-122.98664, 38.997282999999996], [-122.948865, 38.90022], [-122.821592, 38.850139999999996], [-123.080997, 38.852438], [-123.136253, 38.809135999999995], [-123.368236, 38.777066], [-123.54092201163401, 38.76765621603929], [-123.57198700000001, 38.798189], [-123.638637, 38.843865], [-123.659846, 38.872529], [-123.71054, 38.91323], [-123.73289199999999, 38.954994], [-123.69074, 39.021293], [-123.72150500000001, 39.125327], [-123.765891, 39.193657], [-123.798991, 39.271355], [-123.825331, 39.360814], [-123.81469, 39.446538], [-123.766475, 39.552803], [-123.782322, 39.621486], [-123.792659, 39.684121999999995], [-123.829545, 39.723071], [-123.851714, 39.832041], [-123.907664, 39.863028], [-123.95495199999999, 39.922373], [-124.02520517453002, 40.001299341669004]]]}}, {\"AFFGEOID\": \"0500000US06039\", \"ALAND\": 5534617472, \"AWATER\": 42245931, \"COUNTYFP\": 39, \"COUNTYNS\": \"00277284\", \"GEOID\": \"06039\", \"LSAD\": \"06\", \"NAME\": \"Madera\", \"STATEFP\": 6, \"countyfips\": 39, \"in_t_minus_0\": 5705.0, \"in_t_minus_1\": 6296.0, \"in_t_minus_2\": 7388.0, \"in_t_minus_3\": 5607.0, \"in_t_minus_4\": 4474.0, \"out_t_minus_0\": 5475.0, \"out_t_minus_1\": 5757.0, \"out_t_minus_2\": 6676.0, \"out_t_minus_3\": 5629.0, \"out_t_minus_4\": 4826.0, \"perc_off_in\": -0.0672309492685773, \"perc_off_out\": -0.28381638055822067, \"residual_in\": -383.5525655772335, \"residual_out\": -1553.8946835562583, \"statefips\": 6, \"y_pred_in\": 6088.5525655772335, \"y_pred_out\": 7028.894683556258, \"type\": \"Feature\", \"geometry\": {\"type\": \"Polygon\", \"coordinates\": [[[-120.476692, 37.09639], [-120.22728599999999, 37.1634], [-120.106385, 37.167153], [-120.052055, 37.183108], [-119.761809, 37.417114], [-119.651191, 37.417832], [-119.651172, 37.461351], [-119.58422, 37.494696], [-119.583585, 37.560334999999995], [-119.308995, 37.777986], [-119.268979, 37.73923], [-119.124312, 37.733944], [-119.022363, 37.585737], [-119.286658, 37.374943], [-119.335189, 37.310773999999995], [-119.330573, 37.205791], [-119.36275, 37.167201], [-119.43306, 37.161516], [-119.470844, 37.110548], [-119.506733, 37.150554], [-119.567234, 37.115946], [-119.562979, 37.064095], [-119.604908, 37.071016], [-119.621116, 37.026604999999996], [-119.705356, 36.999794], [-119.713182, 36.991638], [-119.813734, 36.850412], [-119.932338, 36.843323], [-120.028143, 36.814485], [-120.057776, 36.82286], [-120.229179, 36.769687], [-120.370256, 36.78494], [-120.456246, 36.862863], [-120.450341, 36.911172], [-120.541696, 37.044505], [-120.476692, 37.09639]]]}}, {\"AFFGEOID\": \"0500000US06083\", \"ALAND\": 7083976828, \"AWATER\": 2729838280, \"COUNTYFP\": 83, \"COUNTYNS\": \"00277306\", \"GEOID\": \"06083\", \"LSAD\": \"06\", \"NAME\": \"Santa Barbara\", \"STATEFP\": 6, \"countyfips\": 83, \"in_t_minus_0\": 13264.0, \"in_t_minus_1\": 13796.0, \"in_t_minus_2\": 18210.0, \"in_t_minus_3\": 14486.0, \"in_t_minus_4\": 11354.0, \"out_t_minus_0\": 15395.0, \"out_t_minus_1\": 16732.0, \"out_t_minus_2\": 21608.0, \"out_t_minus_3\": 16358.0, \"out_t_minus_4\": 11939.0, \"perc_off_in\": -0.09246119501643282, \"perc_off_out\": -0.2982724669960501, \"residual_in\": -1226.405290697965, \"residual_out\": -4591.904629404191, \"statefips\": 6, \"y_pred_in\": 14490.405290697965, \"y_pred_out\": 19986.90462940419, \"type\": \"Feature\", \"geometry\": {\"type\": \"MultiPolygon\", \"coordinates\": [[[[-119.91621599999999, 34.058351], [-119.857304, 34.071298], [-119.739472, 34.049299], [-119.56670000000001, 34.053452], [-119.47073665694401, 34.053996622104], [-119.48771955738201, 33.99651515438929], [-119.554472, 33.99782], [-119.662825, 33.985889], [-119.721206, 33.959582999999995], [-119.795938, 33.962928999999995], [-119.873358, 33.980374999999995], [-119.876916, 34.023527], [-119.91621599999999, 34.058351]]], [[[-120.368278, 34.076465], [-120.24248, 34.057172], [-120.135853, 34.026087], [-120.05510699999999, 34.037729], [-119.984316, 33.983948], [-119.973691, 33.942481], [-120.049682, 33.914563], [-120.121817, 33.895711999999996], [-120.17904899999999, 33.927994], [-120.200085, 33.956904], [-120.36484, 33.991780999999996], [-120.454134, 34.028081], [-120.368278, 34.076465]]], [[[-120.65030521184, 34.975166302268704], [-120.496222, 34.993155], [-120.435473, 34.986759], [-120.301827, 34.905571], [-120.334548, 35.006315], [-120.188383, 35.030378], [-120.167616, 35.075297], [-120.082084, 35.114678], [-119.980122, 35.057573], [-119.92841899999999, 35.059794], [-119.745566, 34.973676], [-119.672963, 34.973375], [-119.535757, 34.897576], [-119.472754, 34.901174], [-119.442352, 34.901274], [-119.442353, 34.561101], [-119.442269, 34.463949], [-119.44599099999999, 34.404067], [-119.47794670672401, 34.378837558775594], [-119.536957, 34.395495], [-119.616862, 34.420995], [-119.68466599999999, 34.408297], [-119.709067, 34.395396999999996], [-119.785871, 34.415997], [-119.835771, 34.415796], [-119.873971, 34.408795], [-119.971951, 34.444641], [-120.050682, 34.461650999999996], [-120.141165, 34.473405], [-120.295051, 34.470622999999996], [-120.451425, 34.447094], [-120.511421, 34.522953], [-120.550092, 34.542794], [-120.581293, 34.556959], [-120.622575, 34.554017], [-120.64573899999999, 34.581035], [-120.60197, 34.692095], [-120.614852, 34.730709], [-120.62631999999999, 34.738071999999995], [-120.610266, 34.85818], [-120.670835, 34.904115], [-120.65030521184, 34.975166302268704]]]]}}, {\"AFFGEOID\": \"0500000US06013\", \"ALAND\": 1857233047, \"AWATER\": 225282636, \"COUNTYFP\": 13, \"COUNTYNS\": \"01675903\", \"GEOID\": \"06013\", \"LSAD\": \"06\", \"NAME\": \"Contra Costa\", \"STATEFP\": 6, \"countyfips\": 13, \"in_t_minus_0\": 49595.0, \"in_t_minus_1\": 52207.0, \"in_t_minus_2\": 67530.0, \"in_t_minus_3\": 53559.0, \"in_t_minus_4\": 38683.0, \"out_t_minus_0\": 50890.0, \"out_t_minus_1\": 53314.0, \"out_t_minus_2\": 65743.0, \"out_t_minus_3\": 48010.0, \"out_t_minus_4\": 34279.0, \"perc_off_in\": -0.14765504464548393, \"perc_off_out\": -0.3021617257811835, \"residual_in\": -7322.951939192775, \"residual_out\": -15377.01022500443, \"statefips\": 6, \"y_pred_in\": 56917.951939192775, \"y_pred_out\": 66267.01022500443, \"type\": \"Feature\", \"geometry\": {\"type\": \"Polygon\", \"coordinates\": [[[-122.425258, 37.955672], [-122.367582, 37.978168], [-122.36889099999999, 38.007948], [-122.34280385218801, 38.0092538777817], [-122.321706, 38.01031], [-122.262861, 38.051473], [-122.269320054917, 38.06037449753119], [-122.14312, 38.031760999999996], [-122.095733, 38.048355], [-122.050386, 38.060198], [-121.878235, 38.049318], [-121.862462, 38.06603], [-121.80127, 38.021622], [-121.737824, 38.02663], [-121.673065, 38.093517999999996], [-121.580022, 38.094414], [-121.534167, 37.849022999999995], [-121.556997, 37.816488], [-121.577005, 37.811527], [-121.873542, 37.739317], [-121.96077, 37.718629], [-121.97247, 37.728528], [-121.989971, 37.733627999999996], [-122.011771, 37.747428], [-122.010771, 37.755127], [-121.997771, 37.763227], [-122.004809, 37.770571], [-122.045473, 37.798125999999996], [-122.14026, 37.804562], [-122.27108, 37.905823999999996], [-122.32871428740701, 37.8938323463208], [-122.33453, 37.908791], [-122.378709, 37.905190999999995], [-122.425258, 37.955672]]]}}, {\"AFFGEOID\": \"0500000US06009\", \"ALAND\": 2641829200, \"AWATER\": 43797659, \"COUNTYFP\": 9, \"COUNTYNS\": \"01675885\", \"GEOID\": \"06009\", \"LSAD\": \"06\", \"NAME\": \"Calaveras\", \"STATEFP\": 6, \"countyfips\": 9, \"in_t_minus_0\": 2733.0, \"in_t_minus_1\": 2834.0, \"in_t_minus_2\": 3499.0, \"in_t_minus_3\": 2557.0, \"in_t_minus_4\": 1676.0, \"out_t_minus_0\": 2281.0, \"out_t_minus_1\": 2306.0, \"out_t_minus_2\": 2720.0, \"out_t_minus_3\": 2040.0, \"out_t_minus_4\": 1537.0, \"perc_off_in\": -0.10078705375919987, \"perc_off_out\": -0.39036652496423857, \"residual_in\": -275.45101792389323, \"residual_out\": -890.4260434434282, \"statefips\": 6, \"y_pred_in\": 3008.4510179238932, \"y_pred_out\": 3171.426043443428, \"type\": \"Feature\", \"geometry\": {\"type\": \"Polygon\", \"coordinates\": [[[-120.995497, 38.225401999999995], [-120.892864, 38.221574], [-120.810126, 38.28201], [-120.63129, 38.340263], [-120.614881, 38.389407999999996], [-120.423215, 38.473321999999996], [-120.33104, 38.465191999999995], [-120.205702, 38.501039], [-120.072484, 38.509868999999995], [-120.072566, 38.447081], [-120.01995099999999, 38.433521], [-120.176177, 38.374013999999995], [-120.44252900000001, 38.058741], [-120.46279799999999, 38.011927], [-120.534276, 37.989443], [-120.514952, 37.95339], [-120.653274, 37.831858], [-120.92644899999999, 38.077421], [-120.942113, 38.096328], [-120.995497, 38.225401999999995]]]}}, {\"AFFGEOID\": \"0500000US06019\", \"ALAND\": 15431404077, \"AWATER\": 137345152, \"COUNTYFP\": 19, \"COUNTYNS\": \"00277274\", \"GEOID\": \"06019\", \"LSAD\": \"06\", \"NAME\": \"Fresno\", \"STATEFP\": 6, \"countyfips\": 19, \"in_t_minus_0\": 22396.0, \"in_t_minus_1\": 23484.0, \"in_t_minus_2\": 29713.0, \"in_t_minus_3\": 22880.0, \"in_t_minus_4\": 18974.0, \"out_t_minus_0\": 22811.0, \"out_t_minus_1\": 23760.0, \"out_t_minus_2\": 29073.0, \"out_t_minus_3\": 24582.0, \"out_t_minus_4\": 20589.0, \"perc_off_in\": 0.0015725419878696988, \"perc_off_out\": -0.2372715478829941, \"residual_in\": 35.218650360329775, \"residual_out\": -5412.401278758978, \"statefips\": 6, \"y_pred_in\": 22360.78134963967, \"y_pred_out\": 28223.401278758978, \"type\": \"Feature\", \"geometry\": {\"type\": \"Polygon\", \"coordinates\": [[[-120.65595, 36.952832], [-120.590566, 36.952641], [-120.541696, 37.044505], [-120.450341, 36.911172], [-120.456246, 36.862863], [-120.370256, 36.78494], [-120.229179, 36.769687], [-120.057776, 36.82286], [-120.028143, 36.814485], [-119.932338, 36.843323], [-119.813734, 36.850412], [-119.713182, 36.991638], [-119.705356, 36.999794], [-119.621116, 37.026604999999996], [-119.604908, 37.071016], [-119.562979, 37.064095], [-119.567234, 37.115946], [-119.506733, 37.150554], [-119.470844, 37.110548], [-119.43306, 37.161516], [-119.36275, 37.167201], [-119.330573, 37.205791], [-119.335189, 37.310773999999995], [-119.286658, 37.374943], [-119.022363, 37.585737], [-118.91705999999999, 37.550336], [-118.85047399999999, 37.475795999999995], [-118.775014, 37.463052], [-118.78673599999999, 37.343379999999996], [-118.716016, 37.328208], [-118.654593, 37.141826], [-118.59266099999999, 37.138147], [-118.437137, 37.059818], [-118.36083099999999, 36.887734], [-118.389758, 36.834466], [-118.360586, 36.744772999999995], [-118.982441, 36.741645999999996], [-118.984779, 36.657146999999995], [-119.088295, 36.657514], [-119.174791, 36.658878], [-119.304625, 36.660606], [-119.305102, 36.573724999999996], [-119.46632199999999, 36.575238], [-119.546131, 36.508963], [-119.573194, 36.488835], [-119.66640000000001, 36.41888], [-119.754213, 36.402023], [-119.959227, 36.400974999999995], [-119.959058, 36.181747], [-120.315068, 35.907185999999996], [-120.433053, 35.968933], [-120.667551, 36.138056999999996], [-120.62691, 36.203227], [-120.678582, 36.267319], [-120.596562, 36.328488], [-120.597155, 36.488234999999996], [-120.918731, 36.740381], [-120.65595, 36.952832]]]}}, {\"AFFGEOID\": \"0500000US06107\", \"ALAND\": 12495083015, \"AWATER\": 37014644, \"COUNTYFP\": 107, \"COUNTYNS\": \"00277318\", \"GEOID\": \"06107\", \"LSAD\": \"06\", \"NAME\": \"Tulare\", \"STATEFP\": 6, \"countyfips\": 107, \"in_t_minus_0\": 10745.0, \"in_t_minus_1\": 11735.0, \"in_t_minus_2\": 14418.0, \"in_t_minus_3\": 11229.0, \"in_t_minus_4\": 9547.0, \"out_t_minus_0\": 10970.0, \"out_t_minus_1\": 12094.0, \"out_t_minus_2\": 14078.0, \"out_t_minus_3\": 11950.0, \"out_t_minus_4\": 10292.0, \"perc_off_in\": -0.03368790864366576, \"perc_off_out\": -0.2807564341932425, \"residual_in\": -361.9765783761886, \"residual_out\": -3079.89808309987, \"statefips\": 6, \"y_pred_in\": 11106.976578376189, \"y_pred_out\": 14049.89808309987, \"type\": \"Feature\", \"geometry\": {\"type\": \"Polygon\", \"coordinates\": [[[-119.546131, 36.508963], [-119.46632199999999, 36.575238], [-119.305102, 36.573724999999996], [-119.304625, 36.660606], [-119.174791, 36.658878], [-119.088295, 36.657514], [-118.984779, 36.657146999999995], [-118.982441, 36.741645999999996], [-118.360586, 36.744772999999995], [-118.366328, 36.691635], [-118.274624, 36.597334], [-118.29052300000001, 36.558535], [-118.239021, 36.523635], [-118.21482, 36.435036], [-118.100317, 36.346137], [-118.12714700000001, 36.279655999999996], [-118.03361100000001, 36.008944], [-118.003577, 35.983717999999996], [-117.980761, 35.867515], [-118.005489, 35.862699], [-118.008043, 35.789161], [-118.067719, 35.791537], [-118.803729, 35.790347], [-119.053437, 35.790748], [-119.538116, 35.789567], [-119.53616099999999, 36.050782], [-119.529358, 36.26985], [-119.47460699999999, 36.269025], [-119.474892, 36.400953], [-119.528792, 36.401465], [-119.528286, 36.487545], [-119.573194, 36.488835], [-119.546131, 36.508963]]]}}, {\"AFFGEOID\": \"0500000US06033\", \"ALAND\": 3254364315, \"AWATER\": 188836455, \"COUNTYFP\": 33, \"COUNTYNS\": \"00277281\", \"GEOID\": \"06033\", \"LSAD\": \"06\", \"NAME\": \"Lake\", \"STATEFP\": 6, \"countyfips\": 33, \"in_t_minus_0\": 2527.0, \"in_t_minus_1\": 2861.0, \"in_t_minus_2\": 3775.0, \"in_t_minus_3\": 2561.0, \"in_t_minus_4\": 1926.0, \"out_t_minus_0\": 2377.0, \"out_t_minus_1\": 2444.0, \"out_t_minus_2\": 2931.0, \"out_t_minus_3\": 2570.0, \"out_t_minus_4\": 1862.0, \"perc_off_in\": -0.0324401406722117, \"perc_off_out\": -0.44587152286126297, \"residual_in\": -81.97623547867897, \"residual_out\": -1059.836609841222, \"statefips\": 6, \"y_pred_in\": 2608.976235478679, \"y_pred_out\": 3436.836609841222, \"type\": \"Feature\", \"geometry\": {\"type\": \"Polygon\", \"coordinates\": [[[-123.077812, 39.173791], [-122.994839, 39.235924], [-123.075114, 39.407683], [-123.063181, 39.503538999999996], [-122.89031, 39.529014], [-122.885352, 39.580107999999996], [-122.73563899999999, 39.580667999999996], [-122.739062, 39.383266], [-122.78509, 39.382974999999995], [-122.743482, 39.36813], [-122.775043, 39.311778], [-122.680927, 39.238726], [-122.47729, 39.17395], [-122.491278, 39.052991], [-122.413416, 39.020218], [-122.409118, 38.962793], [-122.340172, 38.924246], [-122.403941, 38.925289], [-122.421904, 38.90377], [-122.395056, 38.864245], [-122.397989, 38.804001], [-122.46388999999999, 38.705203], [-122.627396, 38.667505999999996], [-122.77248, 38.821529999999996], [-122.821592, 38.850139999999996], [-122.948865, 38.90022], [-122.98664, 38.997282999999996], [-123.056212, 39.021096], [-123.056115, 39.048815], [-123.077812, 39.173791]]]}}, {\"AFFGEOID\": \"0500000US06053\", \"ALAND\": 8499616962, \"AWATER\": 1267799938, \"COUNTYFP\": 53, \"COUNTYNS\": \"00277291\", \"GEOID\": \"06053\", \"LSAD\": \"06\", \"NAME\": \"Monterey\", \"STATEFP\": 6, \"countyfips\": 53, \"in_t_minus_0\": 14032.0, \"in_t_minus_1\": 15673.0, \"in_t_minus_2\": 19463.0, \"in_t_minus_3\": 16912.0, \"in_t_minus_4\": 13942.0, \"out_t_minus_0\": 17043.0, \"out_t_minus_1\": 18041.0, \"out_t_minus_2\": 22978.0, \"out_t_minus_3\": 18537.0, \"out_t_minus_4\": 14860.0, \"perc_off_in\": -0.1857413020659877, \"perc_off_out\": -0.2403298721031619, \"residual_in\": -2606.3219505899397, \"residual_out\": -4095.942010254188, \"statefips\": 6, \"y_pred_in\": 16638.32195058994, \"y_pred_out\": 21138.942010254188, \"type\": \"Feature\", \"geometry\": {\"type\": \"Polygon\", \"coordinates\": [[[-121.970427, 36.582754], [-121.923866, 36.634558999999996], [-121.860604, 36.611135999999995], [-121.81446199999999, 36.682857999999996], [-121.796826, 36.777543], [-121.791544, 36.815186], [-121.81273242676201, 36.8500494437455], [-121.699956, 36.919683], [-121.644001, 36.893996], [-121.597698, 36.83735], [-121.45134, 36.724793], [-121.468086, 36.685518], [-121.350092, 36.648357], [-121.318373, 36.610026], [-121.311788, 36.502736], [-121.244091, 36.506910999999995], [-121.193465, 36.445751], [-121.040797, 36.323969], [-121.027362, 36.260079999999995], [-120.920551, 36.311012], [-120.86508, 36.292578], [-120.761483, 36.203579999999995], [-120.718426, 36.196847999999996], [-120.717696, 36.260011999999996], [-120.75834, 36.308603999999995], [-120.678582, 36.267319], [-120.62691, 36.203227], [-120.667551, 36.138056999999996], [-120.433053, 35.968933], [-120.315068, 35.907185999999996], [-120.27575999999999, 35.905881], [-120.213979, 35.789276], [-120.75065000000001, 35.791131], [-121.347053956004, 35.7951862038146], [-121.406823, 35.844623], [-121.462264, 35.885618], [-121.48620000000001, 35.970348], [-121.531876, 36.014368], [-121.574602, 36.025155999999996], [-121.62200899999999, 36.099695], [-121.680145, 36.165818], [-121.77985100000001, 36.227407], [-121.826425, 36.241859999999996], [-121.888491, 36.30281], [-121.903195, 36.393603], [-121.94160000000001, 36.485602], [-121.970427, 36.582754]]]}}, {\"AFFGEOID\": \"0500000US06075\", \"ALAND\": 121375681, \"AWATER\": 479216672, \"COUNTYFP\": 75, \"COUNTYNS\": \"00277302\", \"GEOID\": \"06075\", \"LSAD\": \"06\", \"NAME\": \"San Francisco\", \"STATEFP\": 6, \"countyfips\": 75, \"in_t_minus_0\": 42587.0, \"in_t_minus_1\": 43931.0, \"in_t_minus_2\": 52435.0, \"in_t_minus_3\": 43577.0, \"in_t_minus_4\": 35219.0, \"out_t_minus_0\": 56029.0, \"out_t_minus_1\": 55540.0, \"out_t_minus_2\": 69167.0, \"out_t_minus_3\": 53156.0, \"out_t_minus_4\": 37502.0, \"perc_off_in\": -0.08723811582327301, \"perc_off_out\": -0.17734258922886573, \"residual_in\": -3715.209638565728, \"residual_out\": -9936.327931904118, \"statefips\": 6, \"y_pred_in\": 46302.20963856573, \"y_pred_out\": 65965.32793190412, \"type\": \"Feature\", \"geometry\": {\"type\": \"Polygon\", \"coordinates\": [[[-122.511983, 37.77113], [-122.465396, 37.800878999999995], [-122.398139, 37.80563], [-122.385323, 37.790724], [-122.376462, 37.738558], [-122.356784, 37.729504999999996], [-122.361749, 37.71501], [-122.389826876588, 37.708331], [-122.50067801908301, 37.7081325680179], [-122.505601251345, 37.7355674652407], [-122.511983, 37.77113]]]}}, {\"AFFGEOID\": \"0500000US06081\", \"ALAND\": 1161960635, \"AWATER\": 757110545, \"COUNTYFP\": 81, \"COUNTYNS\": \"00277305\", \"GEOID\": \"06081\", \"LSAD\": \"06\", \"NAME\": \"San Mateo\", \"STATEFP\": 6, \"countyfips\": 81, \"in_t_minus_0\": 36538.0, \"in_t_minus_1\": 37581.0, \"in_t_minus_2\": 46314.0, \"in_t_minus_3\": 36754.0, \"in_t_minus_4\": 27749.0, \"out_t_minus_0\": 45374.0, \"out_t_minus_1\": 45799.0, \"out_t_minus_2\": 56985.0, \"out_t_minus_3\": 43853.0, \"out_t_minus_4\": 29878.0, \"perc_off_in\": -0.08556617980918829, \"perc_off_out\": -0.24493476241409184, \"residual_in\": -3126.417077868122, \"residual_out\": -11113.669909777003, \"statefips\": 6, \"y_pred_in\": 39664.41707786812, \"y_pred_out\": 56487.669909777, \"type\": \"Feature\", \"geometry\": {\"type\": \"Polygon\", \"coordinates\": [[[-122.518088, 37.576138], [-122.496786, 37.612136], [-122.49678399999999, 37.686433], [-122.50067801908301, 37.7081325680179], [-122.389826876588, 37.708331], [-122.39319, 37.707530999999996], [-122.360219, 37.592501], [-122.244372, 37.55814], [-122.168449, 37.504143], [-122.12919970222401, 37.5213219985908], [-122.11724, 37.506721], [-122.081473, 37.477838], [-122.144933, 37.458200000000005], [-122.190402, 37.431472], [-122.192665, 37.31801], [-122.152278, 37.286055], [-122.152774, 37.215444], [-122.31768199999999, 37.186945], [-122.29431019191301, 37.105141386718095], [-122.322971, 37.11546], [-122.344029, 37.144099], [-122.397065, 37.187249], [-122.418452, 37.248521], [-122.40559014390101, 37.3149650377439], [-122.40132299999999, 37.337008999999995], [-122.409258, 37.374804999999995], [-122.443687, 37.435941], [-122.445987, 37.461541], [-122.49378899999999, 37.492340999999996], [-122.516689, 37.521339999999995], [-122.518088, 37.576138]]]}}, {\"AFFGEOID\": \"0500000US06109\", \"ALAND\": 5752079372, \"AWATER\": 138722707, \"COUNTYFP\": 109, \"COUNTYNS\": \"00277319\", \"GEOID\": \"06109\", \"LSAD\": \"06\", \"NAME\": \"Tuolumne\", \"STATEFP\": 6, \"countyfips\": 109, \"in_t_minus_0\": 2216.0, \"in_t_minus_1\": 2449.0, \"in_t_minus_2\": 3333.0, \"in_t_minus_3\": 2388.0, \"in_t_minus_4\": 1732.0, \"out_t_minus_0\": 2091.0, \"out_t_minus_1\": 2050.0, \"out_t_minus_2\": 2530.0, \"out_t_minus_3\": 2075.0, \"out_t_minus_4\": 1470.0, \"perc_off_in\": -0.09130334723956231, \"perc_off_out\": -0.3924630090529991, \"residual_in\": -202.32821748287006, \"residual_out\": -820.6401519298211, \"statefips\": 6, \"y_pred_in\": 2418.32821748287, \"y_pred_out\": 2911.640151929821, \"type\": \"Feature\", \"geometry\": {\"type\": \"Polygon\", \"coordinates\": [[[-120.514952, 37.95339], [-120.534276, 37.989443], [-120.46279799999999, 38.011927], [-120.44252900000001, 38.058741], [-120.176177, 38.374013999999995], [-120.01995099999999, 38.433521], [-119.884749, 38.356184999999996], [-119.705385, 38.416101999999995], [-119.639205, 38.326879999999996], [-119.651509, 38.286462], [-119.604182, 38.234961], [-119.632671, 38.198858], [-119.57649599999999, 38.157661], [-119.469456, 38.128282999999996], [-119.345922, 38.083113], [-119.30458999999999, 38.023891], [-119.308389, 37.946824], [-119.200283, 37.885827], [-119.20128, 37.804328999999996], [-119.268979, 37.73923], [-119.308995, 37.777986], [-119.426792, 37.866724], [-119.474295, 37.855623], [-119.535699, 37.904122], [-119.646203, 37.846823], [-119.667203, 37.801224], [-119.809409, 37.755024999999996], [-119.907013, 37.757926], [-120.079508, 37.828807999999995], [-120.12722600000001, 37.781566], [-120.345437, 37.724787], [-120.30631199999999, 37.665419], [-120.391931, 37.683558999999995], [-120.387613, 37.633704], [-120.653274, 37.831858], [-120.514952, 37.95339]]]}}, {\"AFFGEOID\": \"0500000US06091\", \"ALAND\": 2468694587, \"AWATER\": 23299110, \"COUNTYFP\": 91, \"COUNTYNS\": \"00277310\", \"GEOID\": \"06091\", \"LSAD\": \"06\", \"NAME\": \"Sierra\", \"STATEFP\": 6, \"countyfips\": 91, \"in_t_minus_0\": 152.0, \"in_t_minus_1\": 153.0, \"in_t_minus_2\": 171.0, \"in_t_minus_3\": 99.0, \"in_t_minus_4\": 74.0, \"out_t_minus_0\": 129.0, \"out_t_minus_1\": 129.0, \"out_t_minus_2\": 139.0, \"out_t_minus_3\": 108.0, \"out_t_minus_4\": 116.0, \"perc_off_in\": -0.0714571552568786, \"perc_off_out\": -1.0503164034882084, \"residual_in\": -10.861487599045546, \"residual_out\": -135.4908160499789, \"statefips\": 6, \"y_pred_in\": 162.86148759904555, \"y_pred_out\": 264.4908160499789, \"type\": \"Feature\", \"geometry\": {\"type\": \"Polygon\", \"coordinates\": [[[-121.05820299999999, 39.537043], [-121.009477, 39.639458999999995], [-120.949435, 39.672548], [-120.873261, 39.776168], [-120.792484, 39.709793999999995], [-120.68075999999999, 39.676832999999995], [-120.65422699999999, 39.706629], [-120.147149, 39.707657999999995], [-120.015734, 39.708721], [-119.99993544808501, 39.7224069247242], [-120.00174, 39.538852], [-120.003028919657, 39.4450457761605], [-120.505445, 39.446117], [-120.575594, 39.522290999999996], [-120.654561, 39.52692], [-120.755729, 39.452663], [-120.992703, 39.414392], [-121.022085, 39.391557999999996], [-121.05820299999999, 39.537043]]]}}, {\"AFFGEOID\": \"0500000US06073\", \"ALAND\": 10900649391, \"AWATER\": 820695499, \"COUNTYFP\": 73, \"COUNTYNS\": \"00277301\", \"GEOID\": \"06073\", \"LSAD\": \"06\", \"NAME\": \"San Diego\", \"STATEFP\": 6, \"countyfips\": 73, \"in_t_minus_0\": 111293.0, \"in_t_minus_1\": 118131.0, \"in_t_minus_2\": 148522.0, \"in_t_minus_3\": 118698.0, \"in_t_minus_4\": 89403.0, \"out_t_minus_0\": 126786.0, \"out_t_minus_1\": 131700.0, \"out_t_minus_2\": 175493.0, \"out_t_minus_3\": 129376.0, \"out_t_minus_4\": 89551.0, \"perc_off_in\": -0.14396073269831328, \"perc_off_out\": -0.2746676698993991, \"residual_in\": -16021.82182419338, \"residual_out\": -34824.01519586521, \"statefips\": 6, \"y_pred_in\": 127314.82182419338, \"y_pred_out\": 161610.0151958652, \"type\": \"Feature\", \"geometry\": {\"type\": \"Polygon\", \"coordinates\": [[[-117.596188685737, 33.3869649943199], [-117.57848, 33.453927], [-117.508614, 33.469614], [-117.509722, 33.505019], [-117.364272, 33.505024999999996], [-117.259308, 33.454513], [-117.250495, 33.451629], [-117.241668, 33.448927999999995], [-117.241271, 33.431993], [-117.14157399999999, 33.43261], [-117.089024, 33.430285999999995], [-117.030861, 33.426930999999996], [-116.821826, 33.426873], [-116.197591, 33.428892999999995], [-116.085165, 33.425931999999996], [-116.08109, 33.074833], [-116.105634, 32.72157], [-116.10617888905001, 32.6185781426356], [-116.540643, 32.583746999999995], [-116.62705, 32.576260999999995], [-116.857154, 32.557459], [-117.12486200000001, 32.534155999999996], [-117.13203895573801, 32.585601187382096], [-117.136664, 32.618753999999996], [-117.168866, 32.671952], [-117.196767, 32.688851], [-117.246069, 32.669351999999996], [-117.255169, 32.700051], [-117.25497, 32.786947999999995], [-117.280971, 32.822247], [-117.28217000000001, 32.839546999999996], [-117.27387, 32.851447], [-117.262905, 32.849349], [-117.25617, 32.859446999999996], [-117.25616053514901, 32.8596735941017], [-117.25447, 32.900146], [-117.272139427178, 32.9755245825488], [-117.28077, 33.012343], [-117.315278, 33.093503999999996], [-117.362572, 33.168437], [-117.445583, 33.268516999999996], [-117.547693, 33.365491], [-117.59588, 33.386629], [-117.596188685737, 33.3869649943199]]]}}, {\"AFFGEOID\": \"0500000US06095\", \"ALAND\": 2128327622, \"AWATER\": 218699936, \"COUNTYFP\": 95, \"COUNTYNS\": \"00277312\", \"GEOID\": \"06095\", \"LSAD\": \"06\", \"NAME\": \"Solano\", \"STATEFP\": 6, \"countyfips\": 95, \"in_t_minus_0\": 22070.0, \"in_t_minus_1\": 23450.0, \"in_t_minus_2\": 30711.0, \"in_t_minus_3\": 23738.0, \"in_t_minus_4\": 17074.0, \"out_t_minus_0\": 21711.0, \"out_t_minus_1\": 22821.0, \"out_t_minus_2\": 28648.0, \"out_t_minus_3\": 20707.0, \"out_t_minus_4\": 15438.0, \"perc_off_in\": -0.14237801933425012, \"perc_off_out\": -0.2999715084572722, \"residual_in\": -3142.2828867069, \"residual_out\": -6512.681420115838, \"statefips\": 6, \"y_pred_in\": 25212.2828867069, \"y_pred_out\": 28223.681420115838, \"type\": \"Feature\", \"geometry\": {\"type\": \"Polygon\", \"coordinates\": [[[-122.406786, 38.155632], [-122.213464, 38.154894], [-122.195971, 38.162991], [-122.205982, 38.315712999999995], [-122.061379, 38.327411], [-122.126389, 38.428917999999996], [-122.103281, 38.513348], [-122.011673, 38.488991], [-121.940285, 38.533384], [-121.712034, 38.537962], [-121.693697, 38.313732], [-121.593273, 38.313089], [-121.615413, 38.195696], [-121.685645, 38.159644], [-121.71213, 38.085519999999995], [-121.862462, 38.06603], [-121.878235, 38.049318], [-122.050386, 38.060198], [-122.095733, 38.048355], [-122.14312, 38.031760999999996], [-122.269320054917, 38.06037449753119], [-122.301804, 38.105142], [-122.393588, 38.143449], [-122.39758123062401, 38.14200359725329], [-122.406786, 38.155632]]]}}, {\"AFFGEOID\": \"0500000US06041\", \"ALAND\": 1347976788, \"AWATER\": 797029137, \"COUNTYFP\": 41, \"COUNTYNS\": \"00277285\", \"GEOID\": \"06041\", \"LSAD\": \"06\", \"NAME\": \"Marin\", \"STATEFP\": 6, \"countyfips\": 41, \"in_t_minus_0\": 10812.0, \"in_t_minus_1\": 11328.0, \"in_t_minus_2\": 14620.0, \"in_t_minus_3\": 11546.0, \"in_t_minus_4\": 8328.0, \"out_t_minus_0\": 11298.0, \"out_t_minus_1\": 11651.0, \"out_t_minus_2\": 14896.0, \"out_t_minus_3\": 11720.0, \"out_t_minus_4\": 8674.0, \"perc_off_in\": -0.12024672648107607, \"perc_off_out\": -0.3177821302799087, \"residual_in\": -1300.1076067133945, \"residual_out\": -3590.3025079024083, \"statefips\": 6, \"y_pred_in\": 12112.107606713394, \"y_pred_out\": 14888.302507902408, \"type\": \"Feature\", \"geometry\": {\"type\": \"Polygon\", \"coordinates\": [[[-123.011533, 38.003437999999996], [-122.960889, 38.112961999999996], [-122.953629, 38.17567], [-122.987149, 38.237538], [-122.986319, 38.273164], [-123.003146477056, 38.2957052387145], [-122.910943, 38.321222], [-122.7399, 38.207018], [-122.56509299999999, 38.182217], [-122.505707, 38.115525999999996], [-122.48849963925902, 38.1090944743082], [-122.491283, 38.108087], [-122.499465, 38.032165], [-122.452995, 37.996167], [-122.488665, 37.966713999999996], [-122.486375, 37.921881], [-122.448413, 37.893409999999996], [-122.41847, 37.852720999999995], [-122.483483, 37.826727999999996], [-122.537285, 37.830328], [-122.60129, 37.875126], [-122.678474, 37.906604], [-122.70264, 37.89382], [-122.754606, 37.935527], [-122.797405, 37.976656999999996], [-122.856573, 38.016717], [-122.939711, 38.031908], [-122.97439, 37.992429], [-123.011533, 38.003437999999996]]]}}, {\"AFFGEOID\": \"0500000US06035\", \"ALAND\": 11761615592, \"AWATER\": 463426051, \"COUNTYFP\": 35, \"COUNTYNS\": \"01693324\", \"GEOID\": \"06035\", \"LSAD\": \"06\", \"NAME\": \"Lassen\", \"STATEFP\": 6, \"countyfips\": 35, \"in_t_minus_0\": 1191.0, \"in_t_minus_1\": 1276.0, \"in_t_minus_2\": 1573.0, \"in_t_minus_3\": 1325.0, \"in_t_minus_4\": 754.0, \"out_t_minus_0\": 1197.0, \"out_t_minus_1\": 1251.0, \"out_t_minus_2\": 1664.0, \"out_t_minus_3\": 1212.0, \"out_t_minus_4\": 868.0, \"perc_off_in\": -0.35963014875067884, \"perc_off_out\": -0.5094387813447788, \"residual_in\": -428.31950716205847, \"residual_out\": -609.7982212697002, \"statefips\": 6, \"y_pred_in\": 1619.3195071620585, \"y_pred_out\": 1806.7982212697002, \"type\": \"Feature\", \"geometry\": {\"type\": \"Polygon\", \"coordinates\": [[[-121.331786, 41.183886], [-120.501404, 41.18394], [-119.999866, 41.183974], [-119.999231, 40.865899], [-119.997533, 40.720991999999995], [-119.996155, 40.32125], [-119.997124, 40.126363], [-119.997634, 39.956505], [-119.99993544808501, 39.7224069247242], [-120.015734, 39.708721], [-120.147149, 39.707657999999995], [-120.110627, 39.765778999999995], [-120.108761, 39.93951], [-120.201264, 40.013473999999995], [-120.209641, 40.086008], [-120.341385, 40.115243], [-120.482848, 40.205798], [-120.510817, 40.248945], [-120.652158, 40.307656], [-120.764403, 40.31601], [-120.928582, 40.191931], [-121.061493, 40.256417], [-121.061417, 40.446535999999995], [-121.327826, 40.445367], [-121.319976, 40.905885999999995], [-121.331786, 41.183886]]]}}, {\"AFFGEOID\": \"0500000US06113\", \"ALAND\": 2628144763, \"AWATER\": 22878452, \"COUNTYFP\": 113, \"COUNTYNS\": \"00277321\", \"GEOID\": \"06113\", \"LSAD\": \"06\", \"NAME\": \"Yolo\", \"STATEFP\": 6, \"countyfips\": 113, \"in_t_minus_0\": 9652.0, \"in_t_minus_1\": 10152.0, \"in_t_minus_2\": 13454.0, \"in_t_minus_3\": 10187.0, \"in_t_minus_4\": 7307.0, \"out_t_minus_0\": 10789.0, \"out_t_minus_1\": 11403.0, \"out_t_minus_2\": 14271.0, \"out_t_minus_3\": 10516.0, \"out_t_minus_4\": 7361.0, \"perc_off_in\": -0.1176336095468281, \"perc_off_out\": -0.3149781965285778, \"residual_in\": -1135.3995993459848, \"residual_out\": -3398.2997623468254, \"statefips\": 6, \"y_pred_in\": 10787.399599345985, \"y_pred_out\": 14187.299762346825, \"type\": \"Feature\", \"geometry\": {\"type\": \"Polygon\", \"coordinates\": [[[-122.403941, 38.925289], [-122.340172, 38.924246], [-121.835488, 38.924481], [-121.749747, 38.871243], [-121.67382599999999, 38.743141], [-121.60289399999999, 38.735838], [-121.633774, 38.686164], [-121.553609, 38.603325999999996], [-121.544567, 38.597704], [-121.527667, 38.604603999999995], [-121.511566, 38.600904], [-121.506269, 38.586304999999996], [-121.520965, 38.566205], [-121.51129, 38.54629], [-121.513706, 38.540107], [-121.53089299999999, 38.529365], [-121.524018, 38.520868], [-121.551782, 38.513861], [-121.558701, 38.501939], [-121.50509, 38.469563], [-121.521641, 38.360104], [-121.593273, 38.313089], [-121.693697, 38.313732], [-121.712034, 38.537962], [-121.940285, 38.533384], [-122.011673, 38.488991], [-122.103281, 38.513348], [-122.168301, 38.655296], [-122.224206, 38.699984], [-122.287998, 38.839931], [-122.395056, 38.864245], [-122.421904, 38.90377], [-122.403941, 38.925289]]]}}, {\"AFFGEOID\": \"0500000US06065\", \"ALAND\": 18664901451, \"AWATER\": 250194697, \"COUNTYFP\": 65, \"COUNTYNS\": \"00277297\", \"GEOID\": \"06065\", \"LSAD\": \"06\", \"NAME\": \"Riverside\", \"STATEFP\": 6, \"countyfips\": 65, \"in_t_minus_0\": 107243.0, \"in_t_minus_1\": 113836.0, \"in_t_minus_2\": 146381.0, \"in_t_minus_3\": 107671.0, \"in_t_minus_4\": 80838.0, \"out_t_minus_0\": 93607.0, \"out_t_minus_1\": 96157.0, \"out_t_minus_2\": 117185.0, \"out_t_minus_3\": 88491.0, \"out_t_minus_4\": 71466.0, \"perc_off_in\": -0.059333752053474915, \"perc_off_out\": -0.2643902080609855, \"residual_in\": -6363.12957147081, \"residual_out\": -24748.77420596467, \"statefips\": 6, \"y_pred_in\": 113606.12957147081, \"y_pred_out\": 118355.77420596467, \"type\": \"Feature\", \"geometry\": {\"type\": \"Polygon\", \"coordinates\": [[[-117.673134, 33.871005], [-117.65537499999999, 33.924343], [-117.610947, 33.925114], [-117.558269, 34.018906], [-117.375278, 34.033875], [-117.371588, 34.019399], [-117.22537299999999, 34.018715], [-117.121293, 34.003916], [-117.104737, 34.004014999999995], [-116.929357, 34.004914], [-116.929558, 34.034113], [-116.300631, 34.032544], [-115.31621200000001, 34.03411], [-115.316065, 34.077843], [-114.43009113852001, 34.078931406279494], [-114.435504, 34.042615], [-114.454807, 34.010968], [-114.509568, 33.957263999999995], [-114.534987, 33.928498999999995], [-114.508708, 33.900639999999996], [-114.505638, 33.864276], [-114.520465, 33.827777999999995], [-114.504863, 33.760464999999996], [-114.496565, 33.719155], [-114.504993, 33.693022], [-114.525201, 33.661583], [-114.529186, 33.60665], [-114.524599, 33.552231], [-114.597283, 33.490653], [-114.629146518189, 33.433544999999796], [-114.830833, 33.430094], [-115.467506, 33.426992], [-116.085165, 33.425931999999996], [-116.197591, 33.428892999999995], [-116.821826, 33.426873], [-117.030861, 33.426930999999996], [-117.089024, 33.430285999999995], [-117.14157399999999, 33.43261], [-117.241271, 33.431993], [-117.241668, 33.448927999999995], [-117.250495, 33.451629], [-117.259308, 33.454513], [-117.364272, 33.505024999999996], [-117.509722, 33.505019], [-117.51021, 33.533999], [-117.457937, 33.602188999999996], [-117.412987, 33.659045], [-117.533999, 33.710355], [-117.67505299999999, 33.868725], [-117.673134, 33.871005]]]}}, {\"AFFGEOID\": \"0500000US06097\", \"ALAND\": 4081491107, \"AWATER\": 497455304, \"COUNTYFP\": 97, \"COUNTYNS\": \"01657246\", \"GEOID\": \"06097\", \"LSAD\": \"06\", \"NAME\": \"Sonoma\", \"STATEFP\": 6, \"countyfips\": 97, \"in_t_minus_0\": 14012.0, \"in_t_minus_1\": 13891.0, \"in_t_minus_2\": 19664.0, \"in_t_minus_3\": 15791.0, \"in_t_minus_4\": 11347.0, \"out_t_minus_0\": 16225.0, \"out_t_minus_1\": 18756.0, \"out_t_minus_2\": 22276.0, \"out_t_minus_3\": 15282.0, \"out_t_minus_4\": 10960.0, \"perc_off_in\": -0.13554720048212318, \"perc_off_out\": -0.34255278276329726, \"residual_in\": -1899.28737315551, \"residual_out\": -5557.918900334498, \"statefips\": 6, \"y_pred_in\": 15911.28737315551, \"y_pred_out\": 21782.918900334498, \"type\": \"Feature\", \"geometry\": {\"type\": \"Polygon\", \"coordinates\": [[[-123.54092201163401, 38.76765621603929], [-123.368236, 38.777066], [-123.136253, 38.809135999999995], [-123.080997, 38.852438], [-122.821592, 38.850139999999996], [-122.77248, 38.821529999999996], [-122.627396, 38.667505999999996], [-122.646421, 38.598593], [-122.602659, 38.557496], [-122.543893, 38.519966], [-122.349564, 38.193971999999995], [-122.406786, 38.155632], [-122.39758123062401, 38.14200359725329], [-122.48849963925902, 38.1090944743082], [-122.505707, 38.115525999999996], [-122.56509299999999, 38.182217], [-122.7399, 38.207018], [-122.910943, 38.321222], [-123.003146477056, 38.2957052387145], [-123.004122, 38.297011999999995], [-123.053504, 38.299385], [-123.068437, 38.33521], [-123.085572, 38.390525], [-123.166428, 38.474947], [-123.249797, 38.511044999999996], [-123.33189899999999, 38.565542], [-123.34961200000001, 38.596804999999996], [-123.441774, 38.699743999999995], [-123.51478399999999, 38.741966], [-123.54092201163401, 38.76765621603929]]]}}, {\"AFFGEOID\": \"0500000US06007\", \"ALAND\": 4238438186, \"AWATER\": 105311003, \"COUNTYFP\": 7, \"COUNTYNS\": \"01675842\", \"GEOID\": \"06007\", \"LSAD\": \"06\", \"NAME\": \"Butte\", \"STATEFP\": 6, \"countyfips\": 7, \"in_t_minus_0\": 6449.0, \"in_t_minus_1\": 7993.0, \"in_t_minus_2\": 10807.0, \"in_t_minus_3\": 7572.0, \"in_t_minus_4\": 5540.0, \"out_t_minus_0\": 14647.0, \"out_t_minus_1\": 10622.0, \"out_t_minus_2\": 9275.0, \"out_t_minus_3\": 7382.0, \"out_t_minus_4\": 5165.0, \"perc_off_in\": -0.19165147344867495, \"perc_off_out\": 0.12383213490301467, \"residual_in\": -1235.9603522705047, \"residual_out\": 1813.769279924456, \"statefips\": 6, \"y_pred_in\": 7684.960352270505, \"y_pred_out\": 12833.230720075544, \"type\": \"Feature\", \"geometry\": {\"type\": \"Polygon\", \"coordinates\": [[[-122.044865, 39.883770999999996], [-121.804041, 39.884344], [-121.70324099999999, 39.98423], [-121.64603199999999, 39.982527], [-121.586407, 40.100522], [-121.436886, 40.151905], [-121.366818, 40.086054], [-121.41948, 40.015766], [-121.429957, 39.900313], [-121.350821, 39.825703999999995], [-121.210878, 39.725651], [-121.136715, 39.628169], [-121.076695, 39.597263999999996], [-121.149907, 39.526446], [-121.305122, 39.519585], [-121.33442, 39.425211999999995], [-121.407527, 39.339754], [-121.62376, 39.295621], [-121.638066, 39.305566], [-121.908269, 39.303878], [-121.899109, 39.357285999999995], [-121.890013, 39.383863999999996], [-121.856532, 39.536904], [-121.994021, 39.533926], [-121.994343, 39.671458], [-121.94962, 39.732963999999996], [-121.967868, 39.722397], [-122.026498, 39.800137], [-122.046471, 39.797647999999995], [-122.044865, 39.883770999999996]]]}}, {\"AFFGEOID\": \"0500000US06025\", \"ALAND\": 10817292933, \"AWATER\": 790212281, \"COUNTYFP\": 25, \"COUNTYNS\": \"00277277\", \"GEOID\": \"06025\", \"LSAD\": \"06\", \"NAME\": \"Imperial\", \"STATEFP\": 6, \"countyfips\": 25, \"in_t_minus_0\": 4626.0, \"in_t_minus_1\": 5069.0, \"in_t_minus_2\": 6277.0, \"in_t_minus_3\": 5579.0, \"in_t_minus_4\": 4957.0, \"out_t_minus_0\": 5769.0, \"out_t_minus_1\": 5968.0, \"out_t_minus_2\": 6932.0, \"out_t_minus_3\": 7007.0, \"out_t_minus_4\": 6902.0, \"perc_off_in\": -0.040512966628608045, \"perc_off_out\": -0.17252947460759896, \"residual_in\": -187.41298362394082, \"residual_out\": -995.3225390112384, \"statefips\": 6, \"y_pred_in\": 4813.412983623941, \"y_pred_out\": 6764.322539011238, \"type\": \"Feature\", \"geometry\": {\"type\": \"Polygon\", \"coordinates\": [[[-116.105634, 32.72157], [-116.08109, 33.074833], [-116.085165, 33.425931999999996], [-115.467506, 33.426992], [-114.830833, 33.430094], [-114.629146518189, 33.433544999999796], [-114.635183, 33.422726], [-114.673901, 33.418299], [-114.72528199999999, 33.405048], [-114.707348, 33.376628], [-114.707962, 33.323420999999996], [-114.723259, 33.288078999999996], [-114.674491, 33.255597], [-114.678097, 33.2303], [-114.679359, 33.159518999999996], [-114.706175, 33.105335], [-114.670803, 33.037984], [-114.628293, 33.031051999999995], [-114.575161, 33.036542], [-114.517066790281, 33.0246287635685], [-114.511343, 33.023455], [-114.481315, 32.972063999999996], [-114.47664, 32.923628], [-114.463127, 32.901883999999995], [-114.468971, 32.845155], [-114.531746, 32.782503], [-114.570675, 32.747417], [-114.617386523962, 32.7410527731766], [-114.667493, 32.734226], [-114.70571699999999, 32.741581], [-114.719633, 32.718762999999996], [-115.000802, 32.699676], [-115.465164, 32.667100000000005], [-116.04662, 32.623353], [-116.10617888905001, 32.6185781426356], [-116.105634, 32.72157]]]}}, {\"AFFGEOID\": \"0500000US06057\", \"ALAND\": 2480587324, \"AWATER\": 41531993, \"COUNTYFP\": 57, \"COUNTYNS\": \"01682927\", \"GEOID\": \"06057\", \"LSAD\": \"06\", \"NAME\": \"Nevada\", \"STATEFP\": 6, \"countyfips\": 57, \"in_t_minus_0\": 5348.0, \"in_t_minus_1\": 5889.0, \"in_t_minus_2\": 7413.0, \"in_t_minus_3\": 5326.0, \"in_t_minus_4\": 3774.0, \"out_t_minus_0\": 5072.0, \"out_t_minus_1\": 4910.0, \"out_t_minus_2\": 5919.0, \"out_t_minus_3\": 4664.0, \"out_t_minus_4\": 3600.0, \"perc_off_in\": -0.10265847836087057, \"perc_off_out\": -0.2804118780540622, \"residual_in\": -549.0175422739358, \"residual_out\": -1422.2490454902036, \"statefips\": 6, \"y_pred_in\": 5897.017542273936, \"y_pred_out\": 6494.249045490204, \"type\": \"Feature\", \"geometry\": {\"type\": \"Polygon\", \"coordinates\": [[[-121.266132, 39.272717], [-121.127481, 39.380237], [-121.022085, 39.391557999999996], [-120.992703, 39.414392], [-120.755729, 39.452663], [-120.654561, 39.52692], [-120.575594, 39.522290999999996], [-120.505445, 39.446117], [-120.003028919657, 39.4450457761605], [-120.004795512304, 39.316475011958495], [-120.03665699999999, 39.316334], [-120.322378, 39.316427], [-120.55460000000001, 39.315596], [-120.67143300000001, 39.310370999999996], [-120.727893, 39.288081], [-120.98634799999999, 39.102233999999996], [-121.068788, 39.005176999999996], [-121.137979, 39.037911], [-121.279533, 39.034617999999995], [-121.266132, 39.272717]]]}}, {\"AFFGEOID\": \"0500000US06051\", \"ALAND\": 7896838487, \"AWATER\": 214695672, \"COUNTYFP\": 51, \"COUNTYNS\": \"00277290\", \"GEOID\": \"06051\", \"LSAD\": \"06\", \"NAME\": \"Mono\", \"STATEFP\": 6, \"countyfips\": 51, \"in_t_minus_0\": 752.0, \"in_t_minus_1\": 842.0, \"in_t_minus_2\": 1070.0, \"in_t_minus_3\": 859.0, \"in_t_minus_4\": 591.0, \"out_t_minus_0\": 784.0, \"out_t_minus_1\": 886.0, \"out_t_minus_2\": 1182.0, \"out_t_minus_3\": 862.0, \"out_t_minus_4\": 743.0, \"perc_off_in\": -0.30576579482643784, \"perc_off_out\": -0.4763645287456098, \"residual_in\": -229.93587770948125, \"residual_out\": -373.4697905365581, \"statefips\": 6, \"y_pred_in\": 981.9358777094812, \"y_pred_out\": 1157.469790536558, \"type\": \"Feature\", \"geometry\": {\"type\": \"Polygon\", \"coordinates\": [[[-119.639205, 38.326879999999996], [-119.542332, 38.481221], [-119.619066, 38.603529], [-119.58540614483901, 38.7131509006712], [-119.328704521076, 38.5343519277975], [-119.279262, 38.499914], [-119.15722610087201, 38.4143919717613], [-118.949673, 38.26894], [-118.500958, 37.949019], [-118.42799532515701, 37.8962242809098], [-118.022181, 37.602582999999996], [-117.83350404414401, 37.464938766244494], [-118.775014, 37.463052], [-118.85047399999999, 37.475795999999995], [-118.91705999999999, 37.550336], [-119.022363, 37.585737], [-119.124312, 37.733944], [-119.268979, 37.73923], [-119.20128, 37.804328999999996], [-119.200283, 37.885827], [-119.308389, 37.946824], [-119.30458999999999, 38.023891], [-119.345922, 38.083113], [-119.469456, 38.128282999999996], [-119.57649599999999, 38.157661], [-119.632671, 38.198858], [-119.604182, 38.234961], [-119.651509, 38.286462], [-119.639205, 38.326879999999996]]]}}, {\"AFFGEOID\": \"0500000US06101\", \"ALAND\": 1560546527, \"AWATER\": 15240593, \"COUNTYFP\": 101, \"COUNTYNS\": \"00277315\", \"GEOID\": \"06101\", \"LSAD\": \"06\", \"NAME\": \"Sutter\", \"STATEFP\": 6, \"countyfips\": 101, \"in_t_minus_0\": 4689.0, \"in_t_minus_1\": 5184.0, \"in_t_minus_2\": 6126.0, \"in_t_minus_3\": 4732.0, \"in_t_minus_4\": 3682.0, \"out_t_minus_0\": 4631.0, \"out_t_minus_1\": 5099.0, \"out_t_minus_2\": 6386.0, \"out_t_minus_3\": 4597.0, \"out_t_minus_4\": 3684.0, \"perc_off_in\": -0.14821809822413906, \"perc_off_out\": -0.29716613145905546, \"residual_in\": -694.9946625729881, \"residual_out\": -1376.176354786886, \"statefips\": 6, \"y_pred_in\": 5383.994662572988, \"y_pred_out\": 6007.176354786886, \"type\": \"Feature\", \"geometry\": {\"type\": \"Polygon\", \"coordinates\": [[[-121.908269, 39.303878], [-121.638066, 39.305566], [-121.62376, 39.295621], [-121.58591, 39.089690999999995], [-121.610138, 39.057846999999995], [-121.57541499999999, 38.918348], [-121.543306, 38.972404], [-121.414779, 38.996452], [-121.414399, 38.926214], [-121.469356, 38.925992], [-121.484396, 38.734598], [-121.559868, 38.736301999999995], [-121.60289399999999, 38.735838], [-121.67382599999999, 38.743141], [-121.749747, 38.871243], [-121.835488, 38.924481], [-121.795366, 38.995686], [-121.889101, 39.072373], [-121.945514, 39.179843], [-121.908269, 39.303878]]]}}, {\"AFFGEOID\": \"0500000US06047\", \"ALAND\": 5013300944, \"AWATER\": 111383846, \"COUNTYFP\": 47, \"COUNTYNS\": \"00277288\", \"GEOID\": \"06047\", \"LSAD\": \"06\", \"NAME\": \"Merced\", \"STATEFP\": 6, \"countyfips\": 47, \"in_t_minus_0\": 10363.0, \"in_t_minus_1\": 10752.0, \"in_t_minus_2\": 12693.0, \"in_t_minus_3\": 9840.0, \"in_t_minus_4\": 7910.0, \"out_t_minus_0\": 9078.0, \"out_t_minus_1\": 9356.0, \"out_t_minus_2\": 11191.0, \"out_t_minus_3\": 9289.0, \"out_t_minus_4\": 7671.0, \"perc_off_in\": -0.016719142824747936, \"perc_off_out\": -0.2730660011556583, \"residual_in\": -173.26047709286286, \"residual_out\": -2478.893158491066, \"statefips\": 6, \"y_pred_in\": 10536.260477092863, \"y_pred_out\": 11556.893158491066, \"type\": \"Feature\", \"geometry\": {\"type\": \"Polygon\", \"coordinates\": [[[-121.226804, 37.134774], [-120.963812, 37.346143999999995], [-120.989811, 37.395871], [-120.38767, 37.633364], [-120.177636, 37.261525999999996], [-120.052055, 37.183108], [-120.106385, 37.167153], [-120.22728599999999, 37.1634], [-120.476692, 37.09639], [-120.541696, 37.044505], [-120.590566, 36.952641], [-120.65595, 36.952832], [-120.918731, 36.740381], [-121.141523, 36.836656], [-121.234683, 36.926894], [-121.215406, 36.961248], [-121.245887, 36.983036], [-121.226804, 37.134774]]]}}, {\"AFFGEOID\": \"0500000US06087\", \"ALAND\": 1152866293, \"AWATER\": 419671509, \"COUNTYFP\": 87, \"COUNTYNS\": \"00277308\", \"GEOID\": \"06087\", \"LSAD\": \"06\", \"NAME\": \"Santa Cruz\", \"STATEFP\": 6, \"countyfips\": 87, \"in_t_minus_0\": 9177.0, \"in_t_minus_1\": 9840.0, \"in_t_minus_2\": 12552.0, \"in_t_minus_3\": 10364.0, \"in_t_minus_4\": 8215.0, \"out_t_minus_0\": 10728.0, \"out_t_minus_1\": 11365.0, \"out_t_minus_2\": 14341.0, \"out_t_minus_3\": 11044.0, \"out_t_minus_4\": 8325.0, \"perc_off_in\": -0.140478314837606, \"perc_off_out\": -0.266340156202986, \"residual_in\": -1289.1694952647103, \"residual_out\": -2857.297195745634, \"statefips\": 6, \"y_pred_in\": 10466.16949526471, \"y_pred_out\": 13585.297195745634, \"type\": \"Feature\", \"geometry\": {\"type\": \"Polygon\", \"coordinates\": [[[-122.31768199999999, 37.186945], [-122.152774, 37.215444], [-122.152278, 37.286055], [-121.99109, 37.14427], [-121.84629, 37.09702], [-121.809076, 37.069300999999996], [-121.738627, 36.990085], [-121.581354, 36.899152], [-121.644001, 36.893996], [-121.699956, 36.919683], [-121.81273242676201, 36.8500494437455], [-121.862266, 36.931551999999996], [-121.906468, 36.96895], [-121.95167000000001, 36.97145], [-122.027174, 36.95115], [-122.06731672906, 36.9535956897314], [-122.105976, 36.955951], [-122.20618, 37.013949], [-122.260481, 37.072548], [-122.284882, 37.101746999999996], [-122.29431019191301, 37.105141386718095], [-122.31768199999999, 37.186945]]]}}, {\"AFFGEOID\": \"0500000US06085\", \"ALAND\": 3343896477, \"AWATER\": 33589866, \"COUNTYFP\": 85, \"COUNTYNS\": \"00277307\", \"GEOID\": \"06085\", \"LSAD\": \"06\", \"NAME\": \"Santa Clara\", \"STATEFP\": 6, \"countyfips\": 85, \"in_t_minus_0\": 67142.0, \"in_t_minus_1\": 67849.0, \"in_t_minus_2\": 82359.0, \"in_t_minus_3\": 63684.0, \"in_t_minus_4\": 48482.0, \"out_t_minus_0\": 90553.0, \"out_t_minus_1\": 94537.0, \"out_t_minus_2\": 119741.0, \"out_t_minus_3\": 87208.0, \"out_t_minus_4\": 59202.0, \"perc_off_in\": -0.06978098836357038, \"perc_off_out\": -0.2269168409078783, \"residual_in\": -4685.235120706842, \"residual_out\": -20548.000694731105, \"statefips\": 6, \"y_pred_in\": 71827.23512070684, \"y_pred_out\": 111101.0006947311, \"type\": \"Feature\", \"geometry\": {\"type\": \"Polygon\", \"coordinates\": [[[-122.190402, 37.431472], [-122.144933, 37.458200000000005], [-122.081473, 37.477838], [-122.059673, 37.464087], [-121.925041, 37.454186], [-121.855762, 37.484536999999996], [-121.47264799999999, 37.482169999999996], [-121.405753, 37.31099], [-121.459051, 37.282739], [-121.399451, 37.150386], [-121.282271, 37.183675], [-121.226804, 37.134774], [-121.245887, 36.983036], [-121.215406, 36.961248], [-121.418246, 36.960549], [-121.452182, 36.988759], [-121.501488, 36.971894999999996], [-121.510185, 36.956019], [-121.513813, 36.945155], [-121.534463, 36.930932999999996], [-121.540016, 36.920764999999996], [-121.54800900000001, 36.917390999999995], [-121.581354, 36.899152], [-121.738627, 36.990085], [-121.809076, 37.069300999999996], [-121.84629, 37.09702], [-121.99109, 37.14427], [-122.152278, 37.286055], [-122.192665, 37.31801], [-122.190402, 37.431472]]]}}, {\"AFFGEOID\": \"0500000US06061\", \"ALAND\": 3644325262, \"AWATER\": 246494490, \"COUNTYFP\": 61, \"COUNTYNS\": \"00277295\", \"GEOID\": \"06061\", \"LSAD\": \"06\", \"NAME\": \"Placer\", \"STATEFP\": 6, \"countyfips\": 61, \"in_t_minus_0\": 24687.0, \"in_t_minus_1\": 26670.0, \"in_t_minus_2\": 35425.0, \"in_t_minus_3\": 24292.0, \"in_t_minus_4\": 15604.0, \"out_t_minus_0\": 20359.0, \"out_t_minus_1\": 20192.0, \"out_t_minus_2\": 25755.0, \"out_t_minus_3\": 18944.0, \"out_t_minus_4\": 13889.0, \"perc_off_in\": -0.10109108521209621, \"perc_off_out\": -0.35900289949184994, \"residual_in\": -2495.6356206310193, \"residual_out\": -7308.940030754573, \"statefips\": 6, \"y_pred_in\": 27182.63562063102, \"y_pred_out\": 27667.940030754573, \"type\": \"Feature\", \"geometry\": {\"type\": \"Polygon\", \"coordinates\": [[[-121.469356, 38.925992], [-121.414399, 38.926214], [-121.414779, 38.996452], [-121.365643, 39.031743], [-121.332135, 39.042021], [-121.279533, 39.034617999999995], [-121.137979, 39.037911], [-121.068788, 39.005176999999996], [-120.98634799999999, 39.102233999999996], [-120.727893, 39.288081], [-120.67143300000001, 39.310370999999996], [-120.55460000000001, 39.315596], [-120.322378, 39.316427], [-120.03665699999999, 39.316334], [-120.004795512304, 39.316475011958495], [-120.005142, 39.291258], [-120.003364028833, 39.1656267640688], [-120.002614842913, 39.112689374095794], [-120.001975250867, 39.0674958744683], [-120.143663, 39.067285], [-120.184098, 39.031014], [-120.435299, 39.028163], [-120.470985, 38.965506999999995], [-120.563747, 38.913705], [-120.642458, 38.944404], [-120.746395, 39.010352], [-120.812295, 39.000133], [-120.858903, 38.952256], [-120.940281, 38.962339], [-121.037502, 38.915689], [-121.040511, 38.915538], [-121.057993, 38.847846], [-121.141009, 38.71198], [-121.30883, 38.722789999999996], [-121.381658, 38.727796], [-121.484396, 38.734598], [-121.469356, 38.925992]]]}}, {\"AFFGEOID\": \"0500000US06015\", \"ALAND\": 2606117983, \"AWATER\": 578742642, \"COUNTYFP\": 15, \"COUNTYNS\": \"01682074\", \"GEOID\": \"06015\", \"LSAD\": \"06\", \"NAME\": \"Del Norte\", \"STATEFP\": 6, \"countyfips\": 15, \"in_t_minus_0\": 893.0, \"in_t_minus_1\": 1116.0, \"in_t_minus_2\": 1415.0, \"in_t_minus_3\": 1271.0, \"in_t_minus_4\": 772.0, \"out_t_minus_0\": 811.0, \"out_t_minus_1\": 974.0, \"out_t_minus_2\": 1226.0, \"out_t_minus_3\": 951.0, \"out_t_minus_4\": 830.0, \"perc_off_in\": -0.6125893569005691, \"perc_off_out\": -0.7330823365761195, \"residual_in\": -547.0422957122082, \"residual_out\": -594.529774963233, \"statefips\": 6, \"y_pred_in\": 1440.0422957122082, \"y_pred_out\": 1405.529774963233, \"type\": \"Feature\", \"geometry\": {\"type\": \"Polygon\", \"coordinates\": [[[-124.219592, 41.846432], [-124.203402, 41.940964], [-124.21160499999999, 41.99846], [-124.001188, 41.996145999999996], [-123.822037598588, 41.995620816947], [-123.656998, 41.995137], [-123.51911283680401, 41.9991725180329], [-123.56544199999999, 41.903141], [-123.64281199999999, 41.889353], [-123.703681, 41.829487], [-123.66020499999999, 41.714054999999995], [-123.719174, 41.595613], [-123.648046, 41.535024], [-123.61179, 41.462126999999995], [-123.661363, 41.38209], [-123.770239, 41.380776], [-123.770551, 41.464193], [-124.067473659422, 41.464736188490896], [-124.081987, 41.547761], [-124.116037, 41.628848999999995], [-124.143479, 41.709284], [-124.154246, 41.728801], [-124.19104, 41.736079], [-124.245027, 41.792300000000004], [-124.219592, 41.846432]]]}}, {\"AFFGEOID\": \"0500000US06043\", \"ALAND\": 3752472149, \"AWATER\": 36225644, \"COUNTYFP\": 43, \"COUNTYNS\": \"00277286\", \"GEOID\": \"06043\", \"LSAD\": \"06\", \"NAME\": \"Mariposa\", \"STATEFP\": 6, \"countyfips\": 43, \"in_t_minus_0\": 869.0, \"in_t_minus_1\": 937.0, \"in_t_minus_2\": 1288.0, \"in_t_minus_3\": 926.0, \"in_t_minus_4\": 634.0, \"out_t_minus_0\": 982.0, \"out_t_minus_1\": 975.0, \"out_t_minus_2\": 1195.0, \"out_t_minus_3\": 949.0, \"out_t_minus_4\": 730.0, \"perc_off_in\": -0.13174577015044117, \"perc_off_out\": -0.38503746746008866, \"residual_in\": -114.48707426073338, \"residual_out\": -378.1067930458071, \"statefips\": 6, \"y_pred_in\": 983.4870742607334, \"y_pred_out\": 1360.106793045807, \"type\": \"Feature\", \"geometry\": {\"type\": \"Polygon\", \"coordinates\": [[[-120.391931, 37.683558999999995], [-120.30631199999999, 37.665419], [-120.345437, 37.724787], [-120.12722600000001, 37.781566], [-120.079508, 37.828807999999995], [-119.907013, 37.757926], [-119.809409, 37.755024999999996], [-119.667203, 37.801224], [-119.646203, 37.846823], [-119.535699, 37.904122], [-119.474295, 37.855623], [-119.426792, 37.866724], [-119.308995, 37.777986], [-119.583585, 37.560334999999995], [-119.58422, 37.494696], [-119.651172, 37.461351], [-119.651191, 37.417832], [-119.761809, 37.417114], [-120.052055, 37.183108], [-120.177636, 37.261525999999996], [-120.38767, 37.633364], [-120.387613, 37.633704], [-120.391931, 37.683558999999995]]]}}, {\"AFFGEOID\": \"0500000US06069\", \"ALAND\": 3596590995, \"AWATER\": 4719296, \"COUNTYFP\": 69, \"COUNTYNS\": \"00277299\", \"GEOID\": \"06069\", \"LSAD\": \"06\", \"NAME\": \"San Benito\", \"STATEFP\": 6, \"countyfips\": 69, \"in_t_minus_0\": 3934.0, \"in_t_minus_1\": 4405.0, \"in_t_minus_2\": 4690.0, \"in_t_minus_3\": 3472.0, \"in_t_minus_4\": 2490.0, \"out_t_minus_0\": 3056.0, \"out_t_minus_1\": 3103.0, \"out_t_minus_2\": 3585.0, \"out_t_minus_3\": 2859.0, \"out_t_minus_4\": 2405.0, \"perc_off_in\": -0.1305377434423777, \"perc_off_out\": -0.3517045929630305, \"residual_in\": -513.5354827023139, \"residual_out\": -1074.8092360950213, \"statefips\": 6, \"y_pred_in\": 4447.535482702314, \"y_pred_out\": 4130.809236095021, \"type\": \"Feature\", \"geometry\": {\"type\": \"Polygon\", \"coordinates\": [[[-121.644001, 36.893996], [-121.581354, 36.899152], [-121.54800900000001, 36.917390999999995], [-121.540016, 36.920764999999996], [-121.534463, 36.930932999999996], [-121.513813, 36.945155], [-121.510185, 36.956019], [-121.501488, 36.971894999999996], [-121.452182, 36.988759], [-121.418246, 36.960549], [-121.215406, 36.961248], [-121.234683, 36.926894], [-121.141523, 36.836656], [-120.918731, 36.740381], [-120.597155, 36.488234999999996], [-120.596562, 36.328488], [-120.678582, 36.267319], [-120.75834, 36.308603999999995], [-120.717696, 36.260011999999996], [-120.718426, 36.196847999999996], [-120.761483, 36.203579999999995], [-120.86508, 36.292578], [-120.920551, 36.311012], [-121.027362, 36.260079999999995], [-121.040797, 36.323969], [-121.193465, 36.445751], [-121.244091, 36.506910999999995], [-121.311788, 36.502736], [-121.318373, 36.610026], [-121.350092, 36.648357], [-121.468086, 36.685518], [-121.45134, 36.724793], [-121.597698, 36.83735], [-121.644001, 36.893996]]]}}, {\"AFFGEOID\": \"0500000US06059\", \"ALAND\": 2053294769, \"AWATER\": 402004844, \"COUNTYFP\": 59, \"COUNTYNS\": \"00277294\", \"GEOID\": \"06059\", \"LSAD\": \"06\", \"NAME\": \"Orange\", \"STATEFP\": 6, \"countyfips\": 59, \"in_t_minus_0\": 98516.0, \"in_t_minus_1\": 101722.0, \"in_t_minus_2\": 129310.0, \"in_t_minus_3\": 101832.0, \"in_t_minus_4\": 79171.0, \"out_t_minus_0\": 112483.0, \"out_t_minus_1\": 119578.0, \"out_t_minus_2\": 151485.0, \"out_t_minus_3\": 112899.0, \"out_t_minus_4\": 86359.0, \"perc_off_in\": -0.080769979995709, \"perc_off_out\": -0.2364498969675862, \"residual_in\": -7957.135349257267, \"residual_out\": -26596.593760605, \"statefips\": 6, \"y_pred_in\": 106473.13534925727, \"y_pred_out\": 139079.593760605, \"type\": \"Feature\", \"geometry\": {\"type\": \"Polygon\", \"coordinates\": [[[-118.093099, 33.786152], [-118.063268, 33.824107], [-118.058655, 33.846126999999996], [-118.02871400000001, 33.866242], [-117.976593, 33.902809999999995], [-117.966691, 33.946058], [-117.919725, 33.947668], [-117.783287, 33.946411], [-117.673134, 33.871005], [-117.67505299999999, 33.868725], [-117.533999, 33.710355], [-117.412987, 33.659045], [-117.457937, 33.602188999999996], [-117.51021, 33.533999], [-117.509722, 33.505019], [-117.508614, 33.469614], [-117.57848, 33.453927], [-117.596188685737, 33.3869649943199], [-117.64558199999999, 33.440728], [-117.715349, 33.460556], [-117.726486, 33.483427], [-117.73225829761401, 33.4879550239786], [-117.814188, 33.552223999999995], [-117.840289, 33.573523], [-117.927091, 33.605520999999996], [-118.000593, 33.654319], [-118.088896, 33.729817], [-118.11507672288201, 33.743803322895], [-118.093099, 33.786152]]]}}, {\"AFFGEOID\": \"0500000US06071\", \"ALAND\": 51954895600, \"AWATER\": 117095140, \"COUNTYFP\": 71, \"COUNTYNS\": \"00277300\", \"GEOID\": \"06071\", \"LSAD\": \"06\", \"NAME\": \"San Bernardino\", \"STATEFP\": 6, \"countyfips\": 71, \"in_t_minus_0\": 93020.0, \"in_t_minus_1\": 98635.0, \"in_t_minus_2\": 120592.0, \"in_t_minus_3\": 93376.0, \"in_t_minus_4\": 74942.0, \"out_t_minus_0\": 90665.0, \"out_t_minus_1\": 95093.0, \"out_t_minus_2\": 116261.0, \"out_t_minus_3\": 89898.0, \"out_t_minus_4\": 73544.0, \"perc_off_in\": -0.05859293481432317, \"perc_off_out\": -0.2302474622667018, \"residual_in\": -5450.314796428342, \"residual_out\": -20875.38616641052, \"statefips\": 6, \"y_pred_in\": 98470.31479642834, \"y_pred_out\": 111540.38616641052, \"type\": \"Feature\", \"geometry\": {\"type\": \"Polygon\", \"coordinates\": [[[-117.802539, 33.975550999999996], [-117.767752, 34.019428999999995], [-117.744342, 34.019852], [-117.711067, 34.079536], [-117.70429, 34.095054999999995], [-117.693545, 34.121627], [-117.677405, 34.166103], [-117.646374, 34.28917], [-117.655235, 34.397222], [-117.667292, 34.822525999999996], [-117.632011, 34.822269999999996], [-117.630126, 35.564071], [-117.616195, 35.680856], [-117.651986, 35.709934], [-117.63299599999999, 35.797250999999996], [-117.251015, 35.795004], [-116.277263, 35.793394], [-115.735891, 35.79362], [-115.648032019625, 35.8096292126029], [-115.647683, 35.809357999999996], [-115.404537, 35.617605], [-115.303743, 35.538207], [-115.160068, 35.424129], [-115.043812, 35.332012], [-114.804249, 35.139689], [-114.633487, 35.001857], [-114.629769, 34.943039999999996], [-114.634382, 34.87289], [-114.576452, 34.8153], [-114.490971, 34.724848], [-114.465246, 34.691202], [-114.422382, 34.580711], [-114.378223, 34.516521], [-114.378852, 34.450376], [-114.335372, 34.450038], [-114.264317, 34.401329], [-114.172845, 34.344978999999995], [-114.14093, 34.305918999999996], [-114.14081715128, 34.3031275138817], [-114.139055, 34.259538], [-114.17805, 34.239968999999995], [-114.229715, 34.186928], [-114.292806, 34.166725], [-114.348052, 34.134457999999995], [-114.405941, 34.11154], [-114.428026, 34.092787], [-114.43009113852001, 34.078931406279494], [-115.316065, 34.077843], [-115.31621200000001, 34.03411], [-116.300631, 34.032544], [-116.929558, 34.034113], [-116.929357, 34.004914], [-117.104737, 34.004014999999995], [-117.121293, 34.003916], [-117.22537299999999, 34.018715], [-117.371588, 34.019399], [-117.375278, 34.033875], [-117.558269, 34.018906], [-117.610947, 33.925114], [-117.65537499999999, 33.924343], [-117.673134, 33.871005], [-117.783287, 33.946411], [-117.802539, 33.975550999999996]]]}}, {\"AFFGEOID\": \"0500000US06005\", \"ALAND\": 1539933577, \"AWATER\": 29470567, \"COUNTYFP\": 5, \"COUNTYNS\": \"01675841\", \"GEOID\": \"06005\", \"LSAD\": \"06\", \"NAME\": \"Amador\", \"STATEFP\": 6, \"countyfips\": 5, \"in_t_minus_0\": 2019.0, \"in_t_minus_1\": 2070.0, \"in_t_minus_2\": 2775.0, \"in_t_minus_3\": 1960.0, \"in_t_minus_4\": 1283.0, \"out_t_minus_0\": 1486.0, \"out_t_minus_1\": 1619.0, \"out_t_minus_2\": 1893.0, \"out_t_minus_3\": 1395.0, \"out_t_minus_4\": 1040.0, \"perc_off_in\": -0.07285150946067535, \"perc_off_out\": -0.5438580026349403, \"residual_in\": -147.08719760110353, \"residual_out\": -808.1729919155214, \"statefips\": 6, \"y_pred_in\": 2166.0871976011035, \"y_pred_out\": 2294.1729919155214, \"type\": \"Feature\", \"geometry\": {\"type\": \"Polygon\", \"coordinates\": [[[-121.027507, 38.508292], [-120.92711299999999, 38.514965], [-120.813554, 38.562193], [-120.62760399999999, 38.503143], [-120.51059599999999, 38.511466999999996], [-120.301721, 38.549109], [-120.21278699999999, 38.629371], [-120.140084, 38.638374], [-120.098322, 38.709029], [-120.07239200000001, 38.702767], [-120.072484, 38.509868999999995], [-120.205702, 38.501039], [-120.33104, 38.465191999999995], [-120.423215, 38.473321999999996], [-120.614881, 38.389407999999996], [-120.63129, 38.340263], [-120.810126, 38.28201], [-120.892864, 38.221574], [-120.995497, 38.225401999999995], [-121.027084, 38.300252], [-121.027507, 38.508292]]]}}, {\"AFFGEOID\": \"0500000US06103\", \"ALAND\": 7638228750, \"AWATER\": 33767783, \"COUNTYFP\": 103, \"COUNTYNS\": \"01692767\", \"GEOID\": \"06103\", \"LSAD\": \"06\", \"NAME\": \"Tehama\", \"STATEFP\": 6, \"countyfips\": 103, \"in_t_minus_0\": 3466.0, \"in_t_minus_1\": 3375.0, \"in_t_minus_2\": 3873.0, \"in_t_minus_3\": 2931.0, \"in_t_minus_4\": 2199.0, \"out_t_minus_0\": 3216.0, \"out_t_minus_1\": 2664.0, \"out_t_minus_2\": 3437.0, \"out_t_minus_3\": 2583.0, \"out_t_minus_4\": 2095.0, \"perc_off_in\": -0.0001412925548405637, \"perc_off_out\": -0.06380820257664083, \"residual_in\": -0.48971999507739383, \"residual_out\": -205.2071794864769, \"statefips\": 6, \"y_pred_in\": 3466.4897199950774, \"y_pred_out\": 3421.207179486477, \"type\": \"Feature\", \"geometry\": {\"type\": \"Polygon\", \"coordinates\": [[[-123.065426, 40.286971], [-122.976548, 40.315162], [-122.918472, 40.306757999999995], [-122.872769, 40.348848], [-122.749393, 40.365522], [-122.651341, 40.328288], [-122.523997, 40.3945], [-122.445021, 40.373398], [-122.310412, 40.371064], [-122.010316, 40.426558], [-121.940989, 40.415330999999995], [-121.806539, 40.44495], [-121.64633, 40.434726], [-121.497635, 40.445591], [-121.470395, 40.350213], [-121.342264, 40.309751], [-121.36839499999999, 40.21223], [-121.436886, 40.151905], [-121.586407, 40.100522], [-121.64603199999999, 39.982527], [-121.70324099999999, 39.98423], [-121.804041, 39.884344], [-122.044865, 39.883770999999996], [-122.046471, 39.797647999999995], [-122.911794, 39.799485], [-122.937654, 39.798156], [-122.950077, 39.907717999999996], [-122.909787, 39.936385], [-122.934013, 39.978131], [-122.989623, 40.145496], [-122.97755, 40.241285], [-123.065426, 40.286971]]]}}, {\"AFFGEOID\": \"0500000US06089\", \"ALAND\": 9778230074, \"AWATER\": 186479459, \"COUNTYFP\": 89, \"COUNTYNS\": \"01682610\", \"GEOID\": \"06089\", \"LSAD\": \"06\", \"NAME\": \"Shasta\", \"STATEFP\": 6, \"countyfips\": 89, \"in_t_minus_0\": 7168.0, \"in_t_minus_1\": 7301.0, \"in_t_minus_2\": 9891.0, \"in_t_minus_3\": 7017.0, \"in_t_minus_4\": 5563.0, \"out_t_minus_0\": 7058.0, \"out_t_minus_1\": 7016.0, \"out_t_minus_2\": 8694.0, \"out_t_minus_3\": 6728.0, \"out_t_minus_4\": 5032.0, \"perc_off_in\": 0.0373072796136792, \"perc_off_out\": -0.2345072720580046, \"residual_in\": 267.41858027085254, \"residual_out\": -1655.1523261853963, \"statefips\": 6, \"y_pred_in\": 6900.5814197291475, \"y_pred_out\": 8713.152326185396, \"type\": \"Feature\", \"geometry\": {\"type\": \"Polygon\", \"coordinates\": [[[-123.068789, 40.332232999999995], [-122.998682, 40.418141999999996], [-122.903738, 40.445071], [-122.845954, 40.505181], [-122.69879, 40.569292999999995], [-122.752023, 40.689882], [-122.669839, 40.773567], [-122.66605799999999, 40.825874999999996], [-122.600458, 40.899749], [-122.60736299999999, 40.957747999999995], [-122.527753, 41.014395], [-122.51335399999999, 41.088226999999996], [-122.457144, 41.096610999999996], [-122.445453, 41.15793], [-122.49837600000001, 41.182674999999996], [-121.446495, 41.183484], [-121.331786, 41.183886], [-121.319976, 40.905885999999995], [-121.327826, 40.445367], [-121.361456, 40.446822], [-121.497635, 40.445591], [-121.64633, 40.434726], [-121.806539, 40.44495], [-121.940989, 40.415330999999995], [-122.010316, 40.426558], [-122.310412, 40.371064], [-122.445021, 40.373398], [-122.523997, 40.3945], [-122.651341, 40.328288], [-122.749393, 40.365522], [-122.872769, 40.348848], [-122.918472, 40.306757999999995], [-122.976548, 40.315162], [-123.065426, 40.286971], [-123.068789, 40.332232999999995]]]}}, {\"AFFGEOID\": \"0500000US06021\", \"ALAND\": 3403160290, \"AWATER\": 33693350, \"COUNTYFP\": 21, \"COUNTYNS\": \"00277275\", \"GEOID\": \"06021\", \"LSAD\": \"06\", \"NAME\": \"Glenn\", \"STATEFP\": 6, \"countyfips\": 21, \"in_t_minus_0\": 1353.0, \"in_t_minus_1\": 1344.0, \"in_t_minus_2\": 1390.0, \"in_t_minus_3\": 1055.0, \"in_t_minus_4\": 902.0, \"out_t_minus_0\": 1256.0, \"out_t_minus_1\": 1125.0, \"out_t_minus_2\": 1278.0, \"out_t_minus_3\": 1042.0, \"out_t_minus_4\": 990.0, \"perc_off_in\": 0.042025027691901605, \"perc_off_out\": -0.0955813110636959, \"residual_in\": 56.859862467142875, \"residual_out\": -120.05012669600205, \"statefips\": 6, \"y_pred_in\": 1296.1401375328571, \"y_pred_out\": 1376.050126696002, \"type\": \"Feature\", \"geometry\": {\"type\": \"Polygon\", \"coordinates\": [[[-122.911794, 39.799485], [-122.046471, 39.797647999999995], [-122.026498, 39.800137], [-121.967868, 39.722397], [-121.94962, 39.732963999999996], [-121.994343, 39.671458], [-121.994021, 39.533926], [-121.856532, 39.536904], [-121.890013, 39.383863999999996], [-122.008857, 39.413567], [-122.136161, 39.414499], [-122.192334, 39.385256999999996], [-122.739062, 39.383266], [-122.73563899999999, 39.580667999999996], [-122.885352, 39.580107999999996], [-122.892676, 39.708898], [-122.937654, 39.798156], [-122.911794, 39.799485]]]}}, {\"AFFGEOID\": \"0500000US06063\", \"ALAND\": 6612400908, \"AWATER\": 156387636, \"COUNTYFP\": 63, \"COUNTYNS\": \"00277296\", \"GEOID\": \"06063\", \"LSAD\": \"06\", \"NAME\": \"Plumas\", \"STATEFP\": 6, \"countyfips\": 63, \"in_t_minus_0\": 957.0, \"in_t_minus_1\": 1076.0, \"in_t_minus_2\": 1445.0, \"in_t_minus_3\": 1041.0, \"in_t_minus_4\": 629.0, \"out_t_minus_0\": 977.0, \"out_t_minus_1\": 848.0, \"out_t_minus_2\": 1137.0, \"out_t_minus_3\": 758.0, \"out_t_minus_4\": 693.0, \"perc_off_in\": -0.2795663149096224, \"perc_off_out\": -0.19812876915560193, \"residual_in\": -267.54496336850866, \"residual_out\": -193.57180746502308, \"statefips\": 6, \"y_pred_in\": 1224.5449633685087, \"y_pred_out\": 1170.571807465023, \"type\": \"Feature\", \"geometry\": {\"type\": \"Polygon\", \"coordinates\": [[[-121.497635, 40.445591], [-121.361456, 40.446822], [-121.327826, 40.445367], [-121.061417, 40.446535999999995], [-121.061493, 40.256417], [-120.928582, 40.191931], [-120.764403, 40.31601], [-120.652158, 40.307656], [-120.510817, 40.248945], [-120.482848, 40.205798], [-120.341385, 40.115243], [-120.209641, 40.086008], [-120.201264, 40.013473999999995], [-120.108761, 39.93951], [-120.110627, 39.765778999999995], [-120.147149, 39.707657999999995], [-120.65422699999999, 39.706629], [-120.68075999999999, 39.676832999999995], [-120.792484, 39.709793999999995], [-120.873261, 39.776168], [-120.949435, 39.672548], [-121.009477, 39.639458999999995], [-121.076695, 39.597263999999996], [-121.136715, 39.628169], [-121.210878, 39.725651], [-121.350821, 39.825703999999995], [-121.429957, 39.900313], [-121.41948, 40.015766], [-121.366818, 40.086054], [-121.436886, 40.151905], [-121.36839499999999, 40.21223], [-121.342264, 40.309751], [-121.470395, 40.350213], [-121.497635, 40.445591]]]}}, {\"AFFGEOID\": \"0500000US06027\", \"ALAND\": 26368508430, \"AWATER\": 119088151, \"COUNTYFP\": 27, \"COUNTYNS\": \"01804637\", \"GEOID\": \"06027\", \"LSAD\": \"06\", \"NAME\": \"Inyo\", \"STATEFP\": 6, \"countyfips\": 27, \"in_t_minus_0\": 866.0, \"in_t_minus_1\": 910.0, \"in_t_minus_2\": 1093.0, \"in_t_minus_3\": 832.0, \"in_t_minus_4\": 577.0, \"out_t_minus_0\": 816.0, \"out_t_minus_1\": 803.0, \"out_t_minus_2\": 980.0, \"out_t_minus_3\": 968.0, \"out_t_minus_4\": 651.0, \"perc_off_in\": -0.0677713114307517, \"perc_off_out\": -0.6312260637119248, \"residual_in\": -58.689955699030975, \"residual_out\": -515.0804679889306, \"statefips\": 6, \"y_pred_in\": 924.689955699031, \"y_pred_out\": 1331.0804679889306, \"type\": \"Feature\", \"geometry\": {\"type\": \"Polygon\", \"coordinates\": [[[-118.775014, 37.463052], [-117.83350404414401, 37.464938766244494], [-117.68061, 37.353398999999996], [-117.244917, 37.030243999999996], [-117.16600056403101, 36.9712075385903], [-117.000895, 36.847694], [-116.48823300000001, 36.459097], [-116.37587500000001, 36.372561999999995], [-116.093601, 36.155805], [-115.892975, 35.999967], [-115.846113922762, 35.9635526731109], [-115.648032019625, 35.8096292126029], [-115.735891, 35.79362], [-116.277263, 35.793394], [-117.251015, 35.795004], [-117.63299599999999, 35.797250999999996], [-117.924459, 35.798148999999995], [-118.008043, 35.789161], [-118.005489, 35.862699], [-117.980761, 35.867515], [-118.003577, 35.983717999999996], [-118.03361100000001, 36.008944], [-118.12714700000001, 36.279655999999996], [-118.100317, 36.346137], [-118.21482, 36.435036], [-118.239021, 36.523635], [-118.29052300000001, 36.558535], [-118.274624, 36.597334], [-118.366328, 36.691635], [-118.360586, 36.744772999999995], [-118.389758, 36.834466], [-118.36083099999999, 36.887734], [-118.437137, 37.059818], [-118.59266099999999, 37.138147], [-118.654593, 37.141826], [-118.716016, 37.328208], [-118.78673599999999, 37.343379999999996], [-118.775014, 37.463052]]]}}, {\"AFFGEOID\": \"0500000US06067\", \"ALAND\": 2500490904, \"AWATER\": 74894369, \"COUNTYFP\": 67, \"COUNTYNS\": \"00277298\", \"GEOID\": \"06067\", \"LSAD\": \"06\", \"NAME\": \"Sacramento\", \"STATEFP\": 6, \"countyfips\": 67, \"in_t_minus_0\": 56521.0, \"in_t_minus_1\": 59036.0, \"in_t_minus_2\": 74342.0, \"in_t_minus_3\": 56112.0, \"in_t_minus_4\": 41237.0, \"out_t_minus_0\": 55812.0, \"out_t_minus_1\": 57480.0, \"out_t_minus_2\": 71518.0, \"out_t_minus_3\": 52517.0, \"out_t_minus_4\": 37696.0, \"perc_off_in\": -0.08518323129099761, \"perc_off_out\": -0.27960746555383326, \"residual_in\": -4814.641415798476, \"residual_out\": -15605.451867490541, \"statefips\": 6, \"y_pred_in\": 61335.64141579848, \"y_pred_out\": 71417.45186749054, \"type\": \"Feature\", \"geometry\": {\"type\": \"Polygon\", \"coordinates\": [[[-121.862462, 38.06603], [-121.71213, 38.085519999999995], [-121.685645, 38.159644], [-121.615413, 38.195696], [-121.593273, 38.313089], [-121.521641, 38.360104], [-121.50509, 38.469563], [-121.558701, 38.501939], [-121.551782, 38.513861], [-121.524018, 38.520868], [-121.53089299999999, 38.529365], [-121.513706, 38.540107], [-121.51129, 38.54629], [-121.520965, 38.566205], [-121.506269, 38.586304999999996], [-121.511566, 38.600904], [-121.527667, 38.604603999999995], [-121.544567, 38.597704], [-121.553609, 38.603325999999996], [-121.633774, 38.686164], [-121.60289399999999, 38.735838], [-121.559868, 38.736301999999995], [-121.484396, 38.734598], [-121.381658, 38.727796], [-121.30883, 38.722789999999996], [-121.141009, 38.71198], [-121.118617, 38.717118], [-121.027507, 38.508292], [-121.027084, 38.300252], [-121.222512, 38.244406], [-121.28226699999999, 38.249835999999995], [-121.39819299999999, 38.227427], [-121.448142, 38.255008], [-121.472138, 38.259659], [-121.580022, 38.094414], [-121.673065, 38.093517999999996], [-121.737824, 38.02663], [-121.80127, 38.021622], [-121.862462, 38.06603]]]}}, {\"AFFGEOID\": \"0500000US06031\", \"ALAND\": 3600883824, \"AWATER\": 3162664, \"COUNTYFP\": 31, \"COUNTYNS\": \"00277280\", \"GEOID\": \"06031\", \"LSAD\": \"06\", \"NAME\": \"Kings\", \"STATEFP\": 6, \"countyfips\": 31, \"in_t_minus_0\": 6591.0, \"in_t_minus_1\": 6964.0, \"in_t_minus_2\": 8702.0, \"in_t_minus_3\": 6115.0, \"in_t_minus_4\": 5312.0, \"out_t_minus_0\": 6684.0, \"out_t_minus_1\": 7089.0, \"out_t_minus_2\": 9524.0, \"out_t_minus_3\": 7519.0, \"out_t_minus_4\": 5797.0, \"perc_off_in\": 0.05332075843157136, \"perc_off_out\": -0.2625566954444518, \"residual_in\": 351.4371188224868, \"residual_out\": -1754.928952350716, \"statefips\": 6, \"y_pred_in\": 6239.562881177513, \"y_pred_out\": 8438.928952350716, \"type\": \"Feature\", \"geometry\": {\"type\": \"Polygon\", \"coordinates\": [[[-120.315068, 35.907185999999996], [-119.959058, 36.181747], [-119.959227, 36.400974999999995], [-119.754213, 36.402023], [-119.66640000000001, 36.41888], [-119.573194, 36.488835], [-119.528286, 36.487545], [-119.528792, 36.401465], [-119.474892, 36.400953], [-119.47460699999999, 36.269025], [-119.529358, 36.26985], [-119.53616099999999, 36.050782], [-119.538116, 35.789567], [-120.194146, 35.789204], [-120.213979, 35.789276], [-120.27575999999999, 35.905881], [-120.315068, 35.907185999999996]]]}}, {\"AFFGEOID\": \"0500000US06017\", \"ALAND\": 4423290468, \"AWATER\": 203328472, \"COUNTYFP\": 17, \"COUNTYNS\": \"00277273\", \"GEOID\": \"06017\", \"LSAD\": \"06\", \"NAME\": \"El Dorado\", \"STATEFP\": 6, \"countyfips\": 17, \"in_t_minus_0\": 10501.0, \"in_t_minus_1\": 12099.0, \"in_t_minus_2\": 15850.0, \"in_t_minus_3\": 10532.0, \"in_t_minus_4\": 7131.0, \"out_t_minus_0\": 9348.0, \"out_t_minus_1\": 9418.0, \"out_t_minus_2\": 11148.0, \"out_t_minus_3\": 8502.0, \"out_t_minus_4\": 6506.0, \"perc_off_in\": -0.11413444714352157, \"perc_off_out\": -0.34442760574350473, \"residual_in\": -1198.52582945412, \"residual_out\": -3219.709258490282, \"statefips\": 6, \"y_pred_in\": 11699.52582945412, \"y_pred_out\": 12567.709258490282, \"type\": \"Feature\", \"geometry\": {\"type\": \"Polygon\", \"coordinates\": [[[-121.141009, 38.71198], [-121.057993, 38.847846], [-121.040511, 38.915538], [-121.037502, 38.915689], [-120.940281, 38.962339], [-120.858903, 38.952256], [-120.812295, 39.000133], [-120.746395, 39.010352], [-120.642458, 38.944404], [-120.563747, 38.913705], [-120.470985, 38.965506999999995], [-120.435299, 39.028163], [-120.184098, 39.031014], [-120.143663, 39.067285], [-120.001975250867, 39.0674958744683], [-120.001014, 38.999573999999996], [-119.904315, 38.933324], [-119.877287, 38.870193], [-119.96494799999999, 38.775985999999996], [-120.07239200000001, 38.702767], [-120.098322, 38.709029], [-120.140084, 38.638374], [-120.21278699999999, 38.629371], [-120.301721, 38.549109], [-120.51059599999999, 38.511466999999996], [-120.62760399999999, 38.503143], [-120.813554, 38.562193], [-120.92711299999999, 38.514965], [-121.027507, 38.508292], [-121.118617, 38.717118], [-121.141009, 38.71198]]]}}, {\"AFFGEOID\": \"0500000US06079\", \"ALAND\": 8548611925, \"AWATER\": 815519172, \"COUNTYFP\": 79, \"COUNTYNS\": \"00277304\", \"GEOID\": \"06079\", \"LSAD\": \"06\", \"NAME\": \"San Luis Obispo\", \"STATEFP\": 6, \"countyfips\": 79, \"in_t_minus_0\": 10321.0, \"in_t_minus_1\": 11090.0, \"in_t_minus_2\": 14516.0, \"in_t_minus_3\": 11309.0, \"in_t_minus_4\": 8408.0, \"out_t_minus_0\": 10485.0, \"out_t_minus_1\": 10763.0, \"out_t_minus_2\": 13592.0, \"out_t_minus_3\": 10578.0, \"out_t_minus_4\": 7447.0, \"perc_off_in\": -0.12368008742397267, \"perc_off_out\": -0.33051270999243487, \"residual_in\": -1276.502182302822, \"residual_out\": -3465.42576427068, \"statefips\": 6, \"y_pred_in\": 11597.502182302822, \"y_pred_out\": 13950.42576427068, \"type\": \"Feature\", \"geometry\": {\"type\": \"Polygon\", \"coordinates\": [[[-121.347053956004, 35.7951862038146], [-120.75065000000001, 35.791131], [-120.213979, 35.789276], [-120.194146, 35.789204], [-120.193918, 35.614359], [-120.085922, 35.614523999999996], [-120.086674, 35.526554], [-119.913659, 35.439262], [-119.880045, 35.439133], [-119.880172, 35.351211], [-119.809346, 35.350865], [-119.809449, 35.263584], [-119.666663, 35.262527], [-119.667056, 35.174808999999996], [-119.553641, 35.179975], [-119.560975, 35.087672999999995], [-119.472719, 35.076885], [-119.472754, 34.901174], [-119.535757, 34.897576], [-119.672963, 34.973375], [-119.745566, 34.973676], [-119.92841899999999, 35.059794], [-119.980122, 35.057573], [-120.082084, 35.114678], [-120.167616, 35.075297], [-120.188383, 35.030378], [-120.334548, 35.006315], [-120.301827, 34.905571], [-120.435473, 34.986759], [-120.496222, 34.993155], [-120.65030521184, 34.975166302268704], [-120.63356999999999, 35.033085], [-120.629583, 35.078362], [-120.635787, 35.123805], [-120.675074, 35.153061], [-120.714185, 35.175998], [-120.756086, 35.160458999999996], [-120.84667400000001, 35.204429], [-120.89679, 35.247876999999995], [-120.87957, 35.294184], [-120.862133, 35.360763], [-120.88475700000001, 35.430195999999995], [-120.955863, 35.453742999999996], [-121.003359, 35.46071], [-121.11424, 35.57172], [-121.166712, 35.635399], [-121.272322, 35.666711], [-121.314632, 35.71331], [-121.332449, 35.783106], [-121.347053956004, 35.7951862038146]]]}}], \"data-d02595babc129afad265bb7964209041\": [{\"out_t_minus_0\": 0, \"y_pred_out\": 0}, {\"out_t_minus_0\": 300000, \"y_pred_out\": 300000}]}}, {\"mode\": \"vega-lite\"});\n</script>",
      "text/plain": "alt.LayerChart(...)"
     },
     "metadata": {}
    }
   ]
  },
  {
   "cell_type": "code",
   "metadata": {
    "cell_id": "6659beca-02e4-4305-a573-74e92d56f98b",
    "tags": [],
    "deepnote_to_be_reexecuted": false,
    "source_hash": "61dd2962",
    "execution_start": 1643402836549,
    "execution_millis": 25,
    "deepnote_output_heights": [
     378
    ],
    "deepnote_cell_type": "code"
   },
   "source": "chart = alt.Chart(geo_df).mark_point().encode(\n    x=alt.X('in_t_minus_0',title='Actual inflow'),\n    y=alt.Y('y_pred_in', title = 'Predicted inflow'),\n    tooltip='NAME'\n)\n\nline = pd.DataFrame({\n    'in_t_minus_0': [0, 200000],\n    'y_pred_in':  [0, 200000],\n})\n\nline_plot = alt.Chart(line).mark_line().encode(\n    x= 'in_t_minus_0',\n    y= 'y_pred_in',\n)\n\n(chart + line_plot).properties(title='Predicted inflow systematically over predicts inflow')",
   "execution_count": null,
   "outputs": [
    {
     "output_type": "execute_result",
     "execution_count": 11,
     "data": {
      "text/html": "\n<div id=\"altair-viz-777de57b974d4211bc960fe5f9a2dd50\"></div>\n<script type=\"text/javascript\">\n  (function(spec, embedOpt){\n    let outputDiv = document.currentScript.previousElementSibling;\n    if (outputDiv.id !== \"altair-viz-777de57b974d4211bc960fe5f9a2dd50\") {\n      outputDiv = document.getElementById(\"altair-viz-777de57b974d4211bc960fe5f9a2dd50\");\n    }\n    const paths = {\n      \"vega\": \"https://cdn.jsdelivr.net/npm//vega@5?noext\",\n      \"vega-lib\": \"https://cdn.jsdelivr.net/npm//vega-lib?noext\",\n      \"vega-lite\": \"https://cdn.jsdelivr.net/npm//vega-lite@4.8.1?noext\",\n      \"vega-embed\": \"https://cdn.jsdelivr.net/npm//vega-embed@6?noext\",\n    };\n\n    function loadScript(lib) {\n      return new Promise(function(resolve, reject) {\n        var s = document.createElement('script');\n        s.src = paths[lib];\n        s.async = true;\n        s.onload = () => resolve(paths[lib]);\n        s.onerror = () => reject(`Error loading script: ${paths[lib]}`);\n        document.getElementsByTagName(\"head\")[0].appendChild(s);\n      });\n    }\n\n    function showError(err) {\n      outputDiv.innerHTML = `<div class=\"error\" style=\"color:red;\">${err}</div>`;\n      throw err;\n    }\n\n    function displayChart(vegaEmbed) {\n      vegaEmbed(outputDiv, spec, embedOpt)\n        .catch(err => showError(`Javascript Error: ${err.message}<br>This usually means there's a typo in your chart specification. See the javascript console for the full traceback.`));\n    }\n\n    if(typeof define === \"function\" && define.amd) {\n      requirejs.config({paths});\n      require([\"vega-embed\"], displayChart, err => showError(`Error loading script: ${err.message}`));\n    } else if (typeof vegaEmbed === \"function\") {\n      displayChart(vegaEmbed);\n    } else {\n      loadScript(\"vega\")\n        .then(() => loadScript(\"vega-lite\"))\n        .then(() => loadScript(\"vega-embed\"))\n        .catch(showError)\n        .then(() => displayChart(vegaEmbed));\n    }\n  })({\"config\": {\"view\": {\"continuousWidth\": 400, \"continuousHeight\": 300}}, \"layer\": [{\"data\": {\"name\": \"data-bdc145069dee164ef013aa6867befd6f\"}, \"mark\": \"point\", \"encoding\": {\"tooltip\": {\"type\": \"nominal\", \"field\": \"NAME\"}, \"x\": {\"type\": \"quantitative\", \"field\": \"in_t_minus_0\", \"title\": \"Actual inflow\"}, \"y\": {\"type\": \"quantitative\", \"field\": \"y_pred_in\", \"title\": \"Predicted inflow\"}}}, {\"data\": {\"name\": \"data-8fdaa74652c82426945ff99cabde5676\"}, \"mark\": \"line\", \"encoding\": {\"x\": {\"type\": \"quantitative\", \"field\": \"in_t_minus_0\"}, \"y\": {\"type\": \"quantitative\", \"field\": \"y_pred_in\"}}}], \"title\": \"Predicted inflow systematically over predicts inflow\", \"$schema\": \"https://vega.github.io/schema/vega-lite/v4.8.1.json\", \"datasets\": {\"data-bdc145069dee164ef013aa6867befd6f\": [{\"AFFGEOID\": \"0500000US06049\", \"ALAND\": 10140960152, \"AWATER\": 745420661, \"COUNTYFP\": 49, \"COUNTYNS\": \"00277289\", \"GEOID\": \"06049\", \"LSAD\": \"06\", \"NAME\": \"Modoc\", \"STATEFP\": 6, \"countyfips\": 49, \"in_t_minus_0\": 360.0, \"in_t_minus_1\": 364.0, \"in_t_minus_2\": 503.0, \"in_t_minus_3\": 356.0, \"in_t_minus_4\": 292.0, \"out_t_minus_0\": 343.0, \"out_t_minus_1\": 411.0, \"out_t_minus_2\": 426.0, \"out_t_minus_3\": 372.0, \"out_t_minus_4\": 284.0, \"perc_off_in\": 0.01896147460916748, \"perc_off_out\": -0.824858640725814, \"residual_in\": 6.826130859300292, \"residual_out\": -282.92651376895424, \"statefips\": 6, \"y_pred_in\": 353.1738691406997, \"y_pred_out\": 625.9265137689542, \"type\": \"Feature\", \"geometry\": {\"type\": \"Polygon\", \"coordinates\": [[[-121.457213, 41.949945], [-121.447539998048, 41.997190033272595], [-121.43961, 41.99708], [-121.251099, 41.997569999999996], [-121.035195, 41.993323], [-120.87992571023601, 41.9934832599849], [-120.692219, 41.993677], [-120.501069, 41.993784999999995], [-120.181563, 41.994588], [-119.999168, 41.99454], [-119.999276, 41.874891], [-119.99828, 41.618764999999996], [-119.999866, 41.183974], [-120.501404, 41.18394], [-121.331786, 41.183886], [-121.446495, 41.183484], [-121.448981, 41.776392], [-121.457213, 41.949945]]]}}, {\"AFFGEOID\": \"0500000US06055\", \"ALAND\": 1938114186, \"AWATER\": 104300794, \"COUNTYFP\": 55, \"COUNTYNS\": \"00277292\", \"GEOID\": \"06055\", \"LSAD\": \"06\", \"NAME\": \"Napa\", \"STATEFP\": 6, \"countyfips\": 55, \"in_t_minus_0\": 5288.0, \"in_t_minus_1\": 5859.0, \"in_t_minus_2\": 7117.0, \"in_t_minus_3\": 6051.0, \"in_t_minus_4\": 4520.0, \"out_t_minus_0\": 6081.0, \"out_t_minus_1\": 6531.0, \"out_t_minus_2\": 8135.0, \"out_t_minus_3\": 6400.0, \"out_t_minus_4\": 4702.0, \"perc_off_in\": -0.22760588446512828, \"perc_off_out\": -0.3477280774030244, \"residual_in\": -1203.5799170515984, \"residual_out\": -2114.5344386877914, \"statefips\": 6, \"y_pred_in\": 6491.579917051598, \"y_pred_out\": 8195.534438687791, \"type\": \"Feature\", \"geometry\": {\"type\": \"Polygon\", \"coordinates\": [[[-122.627396, 38.667505999999996], [-122.46388999999999, 38.705203], [-122.397989, 38.804001], [-122.395056, 38.864245], [-122.287998, 38.839931], [-122.224206, 38.699984], [-122.168301, 38.655296], [-122.103281, 38.513348], [-122.126389, 38.428917999999996], [-122.061379, 38.327411], [-122.205982, 38.315712999999995], [-122.195971, 38.162991], [-122.213464, 38.154894], [-122.406786, 38.155632], [-122.349564, 38.193971999999995], [-122.543893, 38.519966], [-122.602659, 38.557496], [-122.646421, 38.598593], [-122.627396, 38.667505999999996]]]}}, {\"AFFGEOID\": \"0500000US06099\", \"ALAND\": 3874662824, \"AWATER\": 46356389, \"COUNTYFP\": 99, \"COUNTYNS\": \"00277314\", \"GEOID\": \"06099\", \"LSAD\": \"06\", \"NAME\": \"Stanislaus\", \"STATEFP\": 6, \"countyfips\": 99, \"in_t_minus_0\": 18444.0, \"in_t_minus_1\": 19614.0, \"in_t_minus_2\": 25513.0, \"in_t_minus_3\": 19878.0, \"in_t_minus_4\": 14405.0, \"out_t_minus_0\": 18727.0, \"out_t_minus_1\": 18903.0, \"out_t_minus_2\": 22557.0, \"out_t_minus_3\": 16768.0, \"out_t_minus_4\": 13311.0, \"perc_off_in\": -0.13524987057663362, \"perc_off_out\": -0.233551532939969, \"residual_in\": -2494.5486129154306, \"residual_out\": -4373.7195573668, \"statefips\": 6, \"y_pred_in\": 20938.54861291543, \"y_pred_out\": 23100.7195573668, \"type\": \"Feature\", \"geometry\": {\"type\": \"Polygon\", \"coordinates\": [[[-121.471925, 37.481783], [-121.241219, 37.664009], [-121.110049, 37.742128], [-120.995696, 37.760177999999996], [-120.920993, 37.737947], [-120.92644899999999, 38.077421], [-120.653274, 37.831858], [-120.387613, 37.633704], [-120.38767, 37.633364], [-120.989811, 37.395871], [-120.963812, 37.346143999999995], [-121.226804, 37.134774], [-121.282271, 37.183675], [-121.399451, 37.150386], [-121.459051, 37.282739], [-121.405753, 37.31099], [-121.47264799999999, 37.482169999999996], [-121.471925, 37.481783]]]}}, {\"AFFGEOID\": \"0500000US06077\", \"ALAND\": 3606263159, \"AWATER\": 88974329, \"COUNTYFP\": 77, \"COUNTYNS\": \"00277303\", \"GEOID\": \"06077\", \"LSAD\": \"06\", \"NAME\": \"San Joaquin\", \"STATEFP\": 6, \"countyfips\": 77, \"in_t_minus_0\": 30570.0, \"in_t_minus_1\": 32264.0, \"in_t_minus_2\": 40373.0, \"in_t_minus_3\": 30164.0, \"in_t_minus_4\": 22023.0, \"out_t_minus_0\": 26740.0, \"out_t_minus_1\": 26928.0, \"out_t_minus_2\": 32433.0, \"out_t_minus_3\": 24640.0, \"out_t_minus_4\": 18865.0, \"perc_off_in\": -0.0770328383017382, \"perc_off_out\": -0.28487665984435573, \"residual_in\": -2354.8938668841365, \"residual_out\": -7617.601884238073, \"statefips\": 6, \"y_pred_in\": 32924.89386688414, \"y_pred_out\": 34357.60188423807, \"type\": \"Feature\", \"geometry\": {\"type\": \"Polygon\", \"coordinates\": [[[-121.580022, 38.094414], [-121.472138, 38.259659], [-121.448142, 38.255008], [-121.39819299999999, 38.227427], [-121.28226699999999, 38.249835999999995], [-121.222512, 38.244406], [-121.027084, 38.300252], [-120.995497, 38.225401999999995], [-120.942113, 38.096328], [-120.92644899999999, 38.077421], [-120.920993, 37.737947], [-120.995696, 37.760177999999996], [-121.110049, 37.742128], [-121.241219, 37.664009], [-121.471925, 37.481783], [-121.556655, 37.542732], [-121.556959, 37.743051], [-121.556997, 37.816488], [-121.534167, 37.849022999999995], [-121.580022, 38.094414]]]}}, {\"AFFGEOID\": \"0500000US06011\", \"ALAND\": 2980332864, \"AWATER\": 14608870, \"COUNTYFP\": 11, \"COUNTYNS\": \"01675902\", \"GEOID\": \"06011\", \"LSAD\": \"06\", \"NAME\": \"Colusa\", \"STATEFP\": 6, \"countyfips\": 11, \"in_t_minus_0\": 763.0, \"in_t_minus_1\": 791.0, \"in_t_minus_2\": 921.0, \"in_t_minus_3\": 847.0, \"in_t_minus_4\": 659.0, \"out_t_minus_0\": 672.0, \"out_t_minus_1\": 797.0, \"out_t_minus_2\": 952.0, \"out_t_minus_3\": 676.0, \"out_t_minus_4\": 742.0, \"perc_off_in\": -0.24840480177535257, \"perc_off_out\": -0.36226130769737624, \"residual_in\": -189.53286375459402, \"residual_out\": -243.43959877263683, \"statefips\": 6, \"y_pred_in\": 952.532863754594, \"y_pred_out\": 915.4395987726368, \"type\": \"Feature\", \"geometry\": {\"type\": \"Polygon\", \"coordinates\": [[[-122.78509, 39.382974999999995], [-122.739062, 39.383266], [-122.192334, 39.385256999999996], [-122.136161, 39.414499], [-122.008857, 39.413567], [-121.890013, 39.383863999999996], [-121.899109, 39.357285999999995], [-121.908269, 39.303878], [-121.945514, 39.179843], [-121.889101, 39.072373], [-121.795366, 38.995686], [-121.835488, 38.924481], [-122.340172, 38.924246], [-122.409118, 38.962793], [-122.413416, 39.020218], [-122.491278, 39.052991], [-122.47729, 39.17395], [-122.680927, 39.238726], [-122.775043, 39.311778], [-122.743482, 39.36813], [-122.78509, 39.382974999999995]]]}}, {\"AFFGEOID\": \"0500000US06023\", \"ALAND\": 9241527430, \"AWATER\": 1253763757, \"COUNTYFP\": 23, \"COUNTYNS\": \"01681908\", \"GEOID\": \"06023\", \"LSAD\": \"06\", \"NAME\": \"Humboldt\", \"STATEFP\": 6, \"countyfips\": 23, \"in_t_minus_0\": 3943.0, \"in_t_minus_1\": 3946.0, \"in_t_minus_2\": 5467.0, \"in_t_minus_3\": 4351.0, \"in_t_minus_4\": 2936.0, \"out_t_minus_0\": 4417.0, \"out_t_minus_1\": 4704.0, \"out_t_minus_2\": 6008.0, \"out_t_minus_3\": 4080.0, \"out_t_minus_4\": 2933.0, \"perc_off_in\": -0.17537496955602166, \"perc_off_out\": -0.30306822640237163, \"residual_in\": -691.5035049593935, \"residual_out\": -1338.6523560192754, \"statefips\": 6, \"y_pred_in\": 4634.5035049593935, \"y_pred_out\": 5755.652356019275, \"type\": \"Feature\", \"geometry\": {\"type\": \"Polygon\", \"coordinates\": [[[-124.387023, 40.504954], [-124.301355, 40.659642999999996], [-124.176715, 40.843618], [-124.118147, 40.989263], [-124.125448, 41.048504], [-124.154513, 41.087159], [-124.163988, 41.138675], [-124.122677, 41.189726], [-124.092284, 41.287695], [-124.063076, 41.439578999999995], [-124.067473659422, 41.464736188490896], [-123.770551, 41.464193], [-123.770239, 41.380776], [-123.661363, 41.38209], [-123.487831, 41.376934], [-123.40829099999999, 41.179944], [-123.464006, 41.076347999999996], [-123.406082, 41.013791999999995], [-123.481457, 40.914957], [-123.560163, 40.950257], [-123.623826, 40.929421], [-123.55985, 40.829584], [-123.544059, 40.739385999999996], [-123.54445799999999, 40.001923], [-124.02520517453002, 40.001299341669004], [-124.035904, 40.013318999999996], [-124.068908, 40.021307], [-124.087086, 40.078441999999995], [-124.139952, 40.11635], [-124.187874, 40.130542], [-124.258405, 40.184277], [-124.34307, 40.243978999999996], [-124.363414, 40.260974], [-124.353124, 40.331424999999996], [-124.365357, 40.374855], [-124.409591, 40.438075999999995], [-124.387023, 40.504954]]]}}, {\"AFFGEOID\": \"0500000US06105\", \"ALAND\": 8234265085, \"AWATER\": 73407950, \"COUNTYFP\": 105, \"COUNTYNS\": \"00277317\", \"GEOID\": \"06105\", \"LSAD\": \"06\", \"NAME\": \"Trinity\", \"STATEFP\": 6, \"countyfips\": 105, \"in_t_minus_0\": 332.0, \"in_t_minus_1\": 452.0, \"in_t_minus_2\": 632.0, \"in_t_minus_3\": 390.0, \"in_t_minus_4\": 331.0, \"out_t_minus_0\": 443.0, \"out_t_minus_1\": 421.0, \"out_t_minus_2\": 571.0, \"out_t_minus_3\": 454.0, \"out_t_minus_4\": 355.0, \"perc_off_in\": -0.19355988589405945, \"perc_off_out\": -0.42357383813016597, \"residual_in\": -64.26188211682773, \"residual_out\": -187.64321029166354, \"statefips\": 6, \"y_pred_in\": 396.26188211682773, \"y_pred_out\": 630.6432102916635, \"type\": \"Feature\", \"geometry\": {\"type\": \"Polygon\", \"coordinates\": [[[-123.560163, 40.950257], [-123.481457, 40.914957], [-123.406082, 41.013791999999995], [-123.464006, 41.076347999999996], [-123.40829099999999, 41.179944], [-123.273402, 41.122890999999996], [-123.23948, 41.075762999999995], [-123.109077, 41.075429], [-123.03680800000001, 41.004058], [-122.917529, 40.99399], [-122.897411, 41.028475], [-122.973382, 41.112074], [-122.885921, 41.205141999999995], [-122.811342, 41.202450999999996], [-122.653686, 41.289237], [-122.585241, 41.359007999999996], [-122.50389, 41.342985], [-122.522636, 41.213525], [-122.49837600000001, 41.182674999999996], [-122.445453, 41.15793], [-122.457144, 41.096610999999996], [-122.51335399999999, 41.088226999999996], [-122.527753, 41.014395], [-122.60736299999999, 40.957747999999995], [-122.600458, 40.899749], [-122.66605799999999, 40.825874999999996], [-122.669839, 40.773567], [-122.752023, 40.689882], [-122.69879, 40.569292999999995], [-122.845954, 40.505181], [-122.903738, 40.445071], [-122.998682, 40.418141999999996], [-123.068789, 40.332232999999995], [-123.065426, 40.286971], [-122.97755, 40.241285], [-122.989623, 40.145496], [-122.934013, 39.978131], [-123.544563, 39.977015], [-123.54445799999999, 40.001923], [-123.544059, 40.739385999999996], [-123.55985, 40.829584], [-123.623826, 40.929421], [-123.560163, 40.950257]]]}}, {\"AFFGEOID\": \"0500000US06029\", \"ALAND\": 21062456129, \"AWATER\": 78764641, \"COUNTYFP\": 29, \"COUNTYNS\": \"02054176\", \"GEOID\": \"06029\", \"LSAD\": \"06\", \"NAME\": \"Kern\", \"STATEFP\": 6, \"countyfips\": 29, \"in_t_minus_0\": 25797.0, \"in_t_minus_1\": 26103.0, \"in_t_minus_2\": 31152.0, \"in_t_minus_3\": 23945.0, \"in_t_minus_4\": 19276.0, \"out_t_minus_0\": 24531.0, \"out_t_minus_1\": 24979.0, \"out_t_minus_2\": 32122.0, \"out_t_minus_3\": 25548.0, \"out_t_minus_4\": 19850.0, \"perc_off_in\": 0.0025314955389153936, \"perc_off_out\": -0.24073209798956596, \"residual_in\": 65.3049904174004, \"residual_out\": -5905.399095782042, \"statefips\": 6, \"y_pred_in\": 25731.6950095826, \"y_pred_out\": 30436.399095782042, \"type\": \"Feature\", \"geometry\": {\"type\": \"Polygon\", \"coordinates\": [[[-120.194146, 35.789204], [-119.538116, 35.789567], [-119.053437, 35.790748], [-118.803729, 35.790347], [-118.067719, 35.791537], [-118.008043, 35.789161], [-117.924459, 35.798148999999995], [-117.63299599999999, 35.797250999999996], [-117.651986, 35.709934], [-117.616195, 35.680856], [-117.630126, 35.564071], [-117.632011, 34.822269999999996], [-117.667292, 34.822525999999996], [-117.774368, 34.823301], [-118.326281, 34.819725999999996], [-118.894634, 34.817972], [-118.88136399999999, 34.790628999999996], [-118.976721, 34.812199], [-119.243645, 34.814178], [-119.276946, 34.879675], [-119.442352, 34.901274], [-119.472754, 34.901174], [-119.472719, 35.076885], [-119.560975, 35.087672999999995], [-119.553641, 35.179975], [-119.667056, 35.174808999999996], [-119.666663, 35.262527], [-119.809449, 35.263584], [-119.809346, 35.350865], [-119.880172, 35.351211], [-119.880045, 35.439133], [-119.913659, 35.439262], [-120.086674, 35.526554], [-120.085922, 35.614523999999996], [-120.193918, 35.614359], [-120.194146, 35.789204]]]}}, {\"AFFGEOID\": \"0500000US06111\", \"ALAND\": 4771968316, \"AWATER\": 947365005, \"COUNTYFP\": 111, \"COUNTYNS\": \"00277320\", \"GEOID\": \"06111\", \"LSAD\": \"06\", \"NAME\": \"Ventura\", \"STATEFP\": 6, \"countyfips\": 111, \"in_t_minus_0\": 27274.0, \"in_t_minus_1\": 28615.0, \"in_t_minus_2\": 37860.0, \"in_t_minus_3\": 28797.0, \"in_t_minus_4\": 21668.0, \"out_t_minus_0\": 30430.0, \"out_t_minus_1\": 31749.0, \"out_t_minus_2\": 39935.0, \"out_t_minus_3\": 32264.0, \"out_t_minus_4\": 24380.0, \"perc_off_in\": -0.05971301234607665, \"perc_off_out\": -0.29413329011318445, \"residual_in\": -1628.6126987268945, \"residual_out\": -8950.476018144203, \"statefips\": 6, \"y_pred_in\": 28902.612698726894, \"y_pred_out\": 39380.4760181442, \"type\": \"Feature\", \"geometry\": {\"type\": \"MultiPolygon\", \"coordinates\": [[[[-119.47794670672401, 34.378837558775594], [-119.44599099999999, 34.404067], [-119.442269, 34.463949], [-119.442353, 34.561101], [-119.442352, 34.901274], [-119.276946, 34.879675], [-119.243645, 34.814178], [-118.976721, 34.812199], [-118.88136399999999, 34.790628999999996], [-118.738618, 34.498968999999995], [-118.652285, 34.323392], [-118.633461, 34.269521999999995], [-118.667708, 34.236692], [-118.667944, 34.199166], [-118.693834, 34.168557], [-118.723374, 34.167860999999995], [-118.788889, 34.168214], [-118.856473, 34.126765], [-118.940801, 34.074967], [-118.94447951145901, 34.046738953351], [-118.954722, 34.048167], [-119.069959, 34.090469999999996], [-119.10978399999999, 34.094566], [-119.227743, 34.161728], [-119.257043, 34.213304], [-119.270144, 34.252902999999996], [-119.276614251859, 34.2563404250143], [-119.313034, 34.275689], [-119.37577999999999, 34.321118], [-119.46103600000001, 34.374064], [-119.47794670672401, 34.378837558775594]]], [[[-119.47073665694401, 34.053996622104], [-119.442654, 34.054156], [-119.364214, 34.050793999999996], [-119.363065, 34.000548], [-119.391587, 33.994636], [-119.48771955738201, 33.99651515438929], [-119.47073665694401, 34.053996622104]]], [[[-119.578942, 33.278628], [-119.510489, 33.307269], [-119.427171, 33.266023], [-119.429559, 33.228167], [-119.464725, 33.215432], [-119.545872, 33.233405999999995], [-119.578942, 33.278628]]]]}}, {\"AFFGEOID\": \"0500000US06003\", \"ALAND\": 1912292630, \"AWATER\": 12557304, \"COUNTYFP\": 3, \"COUNTYNS\": \"01675840\", \"GEOID\": \"06003\", \"LSAD\": \"06\", \"NAME\": \"Alpine\", \"STATEFP\": 6, \"countyfips\": 3, \"in_t_minus_0\": 49.0, \"in_t_minus_1\": 43.0, \"in_t_minus_2\": 80.0, \"in_t_minus_3\": 51.0, \"in_t_minus_4\": 0.0, \"out_t_minus_0\": 56.0, \"out_t_minus_1\": 68.0, \"out_t_minus_2\": 84.0, \"out_t_minus_3\": 63.0, \"out_t_minus_4\": 0.0, \"perc_off_in\": -0.9564623194756873, \"perc_off_out\": -3.5604628679736483, \"residual_in\": -46.86665365430868, \"residual_out\": -199.3859206065243, \"statefips\": 6, \"y_pred_in\": 95.86665365430868, \"y_pred_out\": 255.3859206065243, \"type\": \"Feature\", \"geometry\": {\"type\": \"Polygon\", \"coordinates\": [[[-120.072484, 38.509868999999995], [-120.07239200000001, 38.702767], [-119.96494799999999, 38.775985999999996], [-119.877287, 38.870193], [-119.904315, 38.933324], [-119.587679, 38.714734], [-119.58540614483901, 38.7131509006712], [-119.619066, 38.603529], [-119.542332, 38.481221], [-119.639205, 38.326879999999996], [-119.705385, 38.416101999999995], [-119.884749, 38.356184999999996], [-120.01995099999999, 38.433521], [-120.072566, 38.447081], [-120.072484, 38.509868999999995]]]}}, {\"AFFGEOID\": \"0500000US06001\", \"ALAND\": 1909598013, \"AWATER\": 216923745, \"COUNTYFP\": 1, \"COUNTYNS\": \"01675839\", \"GEOID\": \"06001\", \"LSAD\": \"06\", \"NAME\": \"Alameda\", \"STATEFP\": 6, \"countyfips\": 1, \"in_t_minus_0\": 73109.0, \"in_t_minus_1\": 76117.0, \"in_t_minus_2\": 94743.0, \"in_t_minus_3\": 74447.0, \"in_t_minus_4\": 56353.0, \"out_t_minus_0\": 85562.0, \"out_t_minus_1\": 87475.0, \"out_t_minus_2\": 111192.0, \"out_t_minus_3\": 80777.0, \"out_t_minus_4\": 55460.0, \"perc_off_in\": -0.10910064513148643, \"perc_off_out\": -0.23581218625697317, \"residual_in\": -7976.2390649178415, \"residual_out\": -20176.562280519138, \"statefips\": 6, \"y_pred_in\": 81085.23906491784, \"y_pred_out\": 105738.56228051914, \"type\": \"Feature\", \"geometry\": {\"type\": \"Polygon\", \"coordinates\": [[[-122.333711, 37.809796999999996], [-122.303931, 37.830087], [-122.32871428740701, 37.8938323463208], [-122.27108, 37.905823999999996], [-122.14026, 37.804562], [-122.045473, 37.798125999999996], [-122.004809, 37.770571], [-121.997771, 37.763227], [-122.010771, 37.755127], [-122.011771, 37.747428], [-121.989971, 37.733627999999996], [-121.97247, 37.728528], [-121.96077, 37.718629], [-121.873542, 37.739317], [-121.577005, 37.811527], [-121.556997, 37.816488], [-121.556959, 37.743051], [-121.556655, 37.542732], [-121.471925, 37.481783], [-121.47264799999999, 37.482169999999996], [-121.855762, 37.484536999999996], [-121.925041, 37.454186], [-122.059673, 37.464087], [-122.081473, 37.477838], [-122.11724, 37.506721], [-122.12919970222401, 37.5213219985908], [-122.111998, 37.528850999999996], [-122.144396, 37.581866], [-122.152905, 37.640771], [-122.162802519462, 37.6672730133697], [-122.163049, 37.667933], [-122.213774, 37.698695], [-122.24981, 37.726406], [-122.252452, 37.755129], [-122.312974, 37.777243999999996], [-122.333711, 37.809796999999996]]]}}, {\"AFFGEOID\": \"0500000US06093\", \"ALAND\": 16261933260, \"AWATER\": 179149816, \"COUNTYFP\": 93, \"COUNTYNS\": \"00277311\", \"GEOID\": \"06093\", \"LSAD\": \"06\", \"NAME\": \"Siskiyou\", \"STATEFP\": 6, \"countyfips\": 93, \"in_t_minus_0\": 1690.0, \"in_t_minus_1\": 1939.0, \"in_t_minus_2\": 2583.0, \"in_t_minus_3\": 1850.0, \"in_t_minus_4\": 1195.0, \"out_t_minus_0\": 1750.0, \"out_t_minus_1\": 1685.0, \"out_t_minus_2\": 2069.0, \"out_t_minus_3\": 1542.0, \"out_t_minus_4\": 1264.0, \"perc_off_in\": -0.22336568583257504, \"perc_off_out\": -0.2987550287601308, \"residual_in\": -377.48800905705184, \"residual_out\": -522.821300330229, \"statefips\": 6, \"y_pred_in\": 2067.488009057052, \"y_pred_out\": 2272.821300330229, \"type\": \"Feature\", \"geometry\": {\"type\": \"Polygon\", \"coordinates\": [[[-123.66020499999999, 41.714054999999995], [-123.703681, 41.829487], [-123.64281199999999, 41.889353], [-123.56544199999999, 41.903141], [-123.51911283680401, 41.9991725180329], [-123.43477, 42.001641], [-123.347562, 41.999108], [-123.23100126057801, 42.004970062256], [-123.145959, 42.009246999999995], [-123.045254, 42.003049], [-122.80008, 42.004070999999996], [-122.501135, 42.00846], [-122.28974909615701, 42.007764730496596], [-122.28952699999999, 42.007763999999995], [-122.101922, 42.005766], [-121.846712, 42.00307], [-121.675348, 42.000350999999995], [-121.447539998048, 41.997190033272595], [-121.457213, 41.949945], [-121.448981, 41.776392], [-121.446495, 41.183484], [-122.49837600000001, 41.182674999999996], [-122.522636, 41.213525], [-122.50389, 41.342985], [-122.585241, 41.359007999999996], [-122.653686, 41.289237], [-122.811342, 41.202450999999996], [-122.885921, 41.205141999999995], [-122.973382, 41.112074], [-122.897411, 41.028475], [-122.917529, 40.99399], [-123.03680800000001, 41.004058], [-123.109077, 41.075429], [-123.23948, 41.075762999999995], [-123.273402, 41.122890999999996], [-123.40829099999999, 41.179944], [-123.487831, 41.376934], [-123.661363, 41.38209], [-123.61179, 41.462126999999995], [-123.648046, 41.535024], [-123.719174, 41.595613], [-123.66020499999999, 41.714054999999995]]]}}, {\"AFFGEOID\": \"0500000US06115\", \"ALAND\": 1636913845, \"AWATER\": 31057995, \"COUNTYFP\": 115, \"COUNTYNS\": \"00277322\", \"GEOID\": \"06115\", \"LSAD\": \"06\", \"NAME\": \"Yuba\", \"STATEFP\": 6, \"countyfips\": 115, \"in_t_minus_0\": 6386.0, \"in_t_minus_1\": 6398.0, \"in_t_minus_2\": 8269.0, \"in_t_minus_3\": 5814.0, \"in_t_minus_4\": 4250.0, \"out_t_minus_0\": 5737.0, \"out_t_minus_1\": 5826.0, \"out_t_minus_2\": 7534.0, \"out_t_minus_3\": 5508.0, \"out_t_minus_4\": 4095.0, \"perc_off_in\": 0.0027889651424797047, \"perc_off_out\": -0.28263850824172704, \"residual_in\": 17.810331399875395, \"residual_out\": -1621.4971217827879, \"statefips\": 6, \"y_pred_in\": 6368.189668600125, \"y_pred_out\": 7358.497121782788, \"type\": \"Feature\", \"geometry\": {\"type\": \"Polygon\", \"coordinates\": [[[-121.62376, 39.295621], [-121.407527, 39.339754], [-121.33442, 39.425211999999995], [-121.305122, 39.519585], [-121.149907, 39.526446], [-121.076695, 39.597263999999996], [-121.009477, 39.639458999999995], [-121.05820299999999, 39.537043], [-121.022085, 39.391557999999996], [-121.127481, 39.380237], [-121.266132, 39.272717], [-121.279533, 39.034617999999995], [-121.332135, 39.042021], [-121.365643, 39.031743], [-121.414779, 38.996452], [-121.543306, 38.972404], [-121.57541499999999, 38.918348], [-121.610138, 39.057846999999995], [-121.58591, 39.089690999999995], [-121.62376, 39.295621]]]}}, {\"AFFGEOID\": \"0500000US06037\", \"ALAND\": 10510671776, \"AWATER\": 1794675167, \"COUNTYFP\": 37, \"COUNTYNS\": \"00277283\", \"GEOID\": \"06037\", \"LSAD\": \"06\", \"NAME\": \"Los Angeles\", \"STATEFP\": 6, \"countyfips\": 37, \"in_t_minus_0\": 182748.0, \"in_t_minus_1\": 190231.0, \"in_t_minus_2\": 230559.0, \"in_t_minus_3\": 191554.0, \"in_t_minus_4\": 160247.0, \"out_t_minus_0\": 268467.0, \"out_t_minus_1\": 277710.0, \"out_t_minus_2\": 341832.0, \"out_t_minus_3\": 258658.0, \"out_t_minus_4\": 201947.0, \"perc_off_in\": -0.08865511695289903, \"perc_off_out\": -0.13764445945876636, \"residual_in\": -16201.54531290839, \"residual_out\": -36952.99509751663, \"statefips\": 6, \"y_pred_in\": 198949.5453129084, \"y_pred_out\": 305419.9950975166, \"type\": \"Feature\", \"geometry\": {\"type\": \"MultiPolygon\", \"coordinates\": [[[[-118.593969, 33.467197999999996], [-118.484785, 33.487483], [-118.370323, 33.409285], [-118.286261, 33.351462999999995], [-118.325244, 33.299075], [-118.374768, 33.320065], [-118.465368, 33.326056], [-118.482609, 33.369914], [-118.563442, 33.434381], [-118.593969, 33.467197999999996]]], [[[-118.594033, 33.035951], [-118.540069, 32.980933], [-118.446771, 32.895424], [-118.353504, 32.821962], [-118.425634, 32.800595], [-118.487908, 32.84459], [-118.581513, 32.931672], [-118.641578, 33.017129], [-118.594033, 33.035951]]], [[[-118.940801, 34.074967], [-118.856473, 34.126765], [-118.788889, 34.168214], [-118.723374, 34.167860999999995], [-118.693834, 34.168557], [-118.667944, 34.199166], [-118.667708, 34.236692], [-118.633461, 34.269521999999995], [-118.652285, 34.323392], [-118.738618, 34.498968999999995], [-118.88136399999999, 34.790628999999996], [-118.894634, 34.817972], [-118.326281, 34.819725999999996], [-117.774368, 34.823301], [-117.667292, 34.822525999999996], [-117.655235, 34.397222], [-117.646374, 34.28917], [-117.677405, 34.166103], [-117.693545, 34.121627], [-117.70429, 34.095054999999995], [-117.711067, 34.079536], [-117.744342, 34.019852], [-117.767752, 34.019428999999995], [-117.802539, 33.975550999999996], [-117.783287, 33.946411], [-117.919725, 33.947668], [-117.966691, 33.946058], [-117.976593, 33.902809999999995], [-118.02871400000001, 33.866242], [-118.058655, 33.846126999999996], [-118.063268, 33.824107], [-118.093099, 33.786152], [-118.11507672288201, 33.743803322895], [-118.132698, 33.753217], [-118.1837, 33.736118], [-118.23192618587301, 33.715295467827495], [-118.258687, 33.703741], [-118.317205, 33.712818], [-118.333295892977, 33.7211848352577], [-118.354705, 33.732317], [-118.39660599999999, 33.735917], [-118.42840699999999, 33.774715], [-118.394307, 33.804314999999995], [-118.412708, 33.883913], [-118.460611, 33.969111], [-118.519514, 34.027509], [-118.603572, 34.039048], [-118.679366, 34.033255], [-118.744952, 34.032103], [-118.805114, 34.001239], [-118.854653, 34.034214999999996], [-118.94447951145901, 34.046738953351], [-118.940801, 34.074967]]]]}}, {\"AFFGEOID\": \"0500000US06045\", \"ALAND\": 9081426659, \"AWATER\": 962946207, \"COUNTYFP\": 45, \"COUNTYNS\": \"00277287\", \"GEOID\": \"06045\", \"LSAD\": \"06\", \"NAME\": \"Mendocino\", \"STATEFP\": 6, \"countyfips\": 45, \"in_t_minus_0\": 2706.0, \"in_t_minus_1\": 3114.0, \"in_t_minus_2\": 3900.0, \"in_t_minus_3\": 2965.0, \"in_t_minus_4\": 2133.0, \"out_t_minus_0\": 2979.0, \"out_t_minus_1\": 3243.0, \"out_t_minus_2\": 3542.0, \"out_t_minus_3\": 2861.0, \"out_t_minus_4\": 2209.0, \"perc_off_in\": -0.1906820244014154, \"perc_off_out\": -0.3931070757798383, \"residual_in\": -515.9855580302301, \"residual_out\": -1171.0659787481381, \"statefips\": 6, \"y_pred_in\": 3221.98555803023, \"y_pred_out\": 4150.065978748138, \"type\": \"Feature\", \"geometry\": {\"type\": \"Polygon\", \"coordinates\": [[[-124.02520517453002, 40.001299341669004], [-123.54445799999999, 40.001923], [-123.544563, 39.977015], [-122.934013, 39.978131], [-122.909787, 39.936385], [-122.950077, 39.907717999999996], [-122.937654, 39.798156], [-122.892676, 39.708898], [-122.885352, 39.580107999999996], [-122.89031, 39.529014], [-123.063181, 39.503538999999996], [-123.075114, 39.407683], [-122.994839, 39.235924], [-123.077812, 39.173791], [-123.056115, 39.048815], [-123.056212, 39.021096], [-122.98664, 38.997282999999996], [-122.948865, 38.90022], [-122.821592, 38.850139999999996], [-123.080997, 38.852438], [-123.136253, 38.809135999999995], [-123.368236, 38.777066], [-123.54092201163401, 38.76765621603929], [-123.57198700000001, 38.798189], [-123.638637, 38.843865], [-123.659846, 38.872529], [-123.71054, 38.91323], [-123.73289199999999, 38.954994], [-123.69074, 39.021293], [-123.72150500000001, 39.125327], [-123.765891, 39.193657], [-123.798991, 39.271355], [-123.825331, 39.360814], [-123.81469, 39.446538], [-123.766475, 39.552803], [-123.782322, 39.621486], [-123.792659, 39.684121999999995], [-123.829545, 39.723071], [-123.851714, 39.832041], [-123.907664, 39.863028], [-123.95495199999999, 39.922373], [-124.02520517453002, 40.001299341669004]]]}}, {\"AFFGEOID\": \"0500000US06039\", \"ALAND\": 5534617472, \"AWATER\": 42245931, \"COUNTYFP\": 39, \"COUNTYNS\": \"00277284\", \"GEOID\": \"06039\", \"LSAD\": \"06\", \"NAME\": \"Madera\", \"STATEFP\": 6, \"countyfips\": 39, \"in_t_minus_0\": 5705.0, \"in_t_minus_1\": 6296.0, \"in_t_minus_2\": 7388.0, \"in_t_minus_3\": 5607.0, \"in_t_minus_4\": 4474.0, \"out_t_minus_0\": 5475.0, \"out_t_minus_1\": 5757.0, \"out_t_minus_2\": 6676.0, \"out_t_minus_3\": 5629.0, \"out_t_minus_4\": 4826.0, \"perc_off_in\": -0.0672309492685773, \"perc_off_out\": -0.28381638055822067, \"residual_in\": -383.5525655772335, \"residual_out\": -1553.8946835562583, \"statefips\": 6, \"y_pred_in\": 6088.5525655772335, \"y_pred_out\": 7028.894683556258, \"type\": \"Feature\", \"geometry\": {\"type\": \"Polygon\", \"coordinates\": [[[-120.476692, 37.09639], [-120.22728599999999, 37.1634], [-120.106385, 37.167153], [-120.052055, 37.183108], [-119.761809, 37.417114], [-119.651191, 37.417832], [-119.651172, 37.461351], [-119.58422, 37.494696], [-119.583585, 37.560334999999995], [-119.308995, 37.777986], [-119.268979, 37.73923], [-119.124312, 37.733944], [-119.022363, 37.585737], [-119.286658, 37.374943], [-119.335189, 37.310773999999995], [-119.330573, 37.205791], [-119.36275, 37.167201], [-119.43306, 37.161516], [-119.470844, 37.110548], [-119.506733, 37.150554], [-119.567234, 37.115946], [-119.562979, 37.064095], [-119.604908, 37.071016], [-119.621116, 37.026604999999996], [-119.705356, 36.999794], [-119.713182, 36.991638], [-119.813734, 36.850412], [-119.932338, 36.843323], [-120.028143, 36.814485], [-120.057776, 36.82286], [-120.229179, 36.769687], [-120.370256, 36.78494], [-120.456246, 36.862863], [-120.450341, 36.911172], [-120.541696, 37.044505], [-120.476692, 37.09639]]]}}, {\"AFFGEOID\": \"0500000US06083\", \"ALAND\": 7083976828, \"AWATER\": 2729838280, \"COUNTYFP\": 83, \"COUNTYNS\": \"00277306\", \"GEOID\": \"06083\", \"LSAD\": \"06\", \"NAME\": \"Santa Barbara\", \"STATEFP\": 6, \"countyfips\": 83, \"in_t_minus_0\": 13264.0, \"in_t_minus_1\": 13796.0, \"in_t_minus_2\": 18210.0, \"in_t_minus_3\": 14486.0, \"in_t_minus_4\": 11354.0, \"out_t_minus_0\": 15395.0, \"out_t_minus_1\": 16732.0, \"out_t_minus_2\": 21608.0, \"out_t_minus_3\": 16358.0, \"out_t_minus_4\": 11939.0, \"perc_off_in\": -0.09246119501643282, \"perc_off_out\": -0.2982724669960501, \"residual_in\": -1226.405290697965, \"residual_out\": -4591.904629404191, \"statefips\": 6, \"y_pred_in\": 14490.405290697965, \"y_pred_out\": 19986.90462940419, \"type\": \"Feature\", \"geometry\": {\"type\": \"MultiPolygon\", \"coordinates\": [[[[-119.91621599999999, 34.058351], [-119.857304, 34.071298], [-119.739472, 34.049299], [-119.56670000000001, 34.053452], [-119.47073665694401, 34.053996622104], [-119.48771955738201, 33.99651515438929], [-119.554472, 33.99782], [-119.662825, 33.985889], [-119.721206, 33.959582999999995], [-119.795938, 33.962928999999995], [-119.873358, 33.980374999999995], [-119.876916, 34.023527], [-119.91621599999999, 34.058351]]], [[[-120.368278, 34.076465], [-120.24248, 34.057172], [-120.135853, 34.026087], [-120.05510699999999, 34.037729], [-119.984316, 33.983948], [-119.973691, 33.942481], [-120.049682, 33.914563], [-120.121817, 33.895711999999996], [-120.17904899999999, 33.927994], [-120.200085, 33.956904], [-120.36484, 33.991780999999996], [-120.454134, 34.028081], [-120.368278, 34.076465]]], [[[-120.65030521184, 34.975166302268704], [-120.496222, 34.993155], [-120.435473, 34.986759], [-120.301827, 34.905571], [-120.334548, 35.006315], [-120.188383, 35.030378], [-120.167616, 35.075297], [-120.082084, 35.114678], [-119.980122, 35.057573], [-119.92841899999999, 35.059794], [-119.745566, 34.973676], [-119.672963, 34.973375], [-119.535757, 34.897576], [-119.472754, 34.901174], [-119.442352, 34.901274], [-119.442353, 34.561101], [-119.442269, 34.463949], [-119.44599099999999, 34.404067], [-119.47794670672401, 34.378837558775594], [-119.536957, 34.395495], [-119.616862, 34.420995], [-119.68466599999999, 34.408297], [-119.709067, 34.395396999999996], [-119.785871, 34.415997], [-119.835771, 34.415796], [-119.873971, 34.408795], [-119.971951, 34.444641], [-120.050682, 34.461650999999996], [-120.141165, 34.473405], [-120.295051, 34.470622999999996], [-120.451425, 34.447094], [-120.511421, 34.522953], [-120.550092, 34.542794], [-120.581293, 34.556959], [-120.622575, 34.554017], [-120.64573899999999, 34.581035], [-120.60197, 34.692095], [-120.614852, 34.730709], [-120.62631999999999, 34.738071999999995], [-120.610266, 34.85818], [-120.670835, 34.904115], [-120.65030521184, 34.975166302268704]]]]}}, {\"AFFGEOID\": \"0500000US06013\", \"ALAND\": 1857233047, \"AWATER\": 225282636, \"COUNTYFP\": 13, \"COUNTYNS\": \"01675903\", \"GEOID\": \"06013\", \"LSAD\": \"06\", \"NAME\": \"Contra Costa\", \"STATEFP\": 6, \"countyfips\": 13, \"in_t_minus_0\": 49595.0, \"in_t_minus_1\": 52207.0, \"in_t_minus_2\": 67530.0, \"in_t_minus_3\": 53559.0, \"in_t_minus_4\": 38683.0, \"out_t_minus_0\": 50890.0, \"out_t_minus_1\": 53314.0, \"out_t_minus_2\": 65743.0, \"out_t_minus_3\": 48010.0, \"out_t_minus_4\": 34279.0, \"perc_off_in\": -0.14765504464548393, \"perc_off_out\": -0.3021617257811835, \"residual_in\": -7322.951939192775, \"residual_out\": -15377.01022500443, \"statefips\": 6, \"y_pred_in\": 56917.951939192775, \"y_pred_out\": 66267.01022500443, \"type\": \"Feature\", \"geometry\": {\"type\": \"Polygon\", \"coordinates\": [[[-122.425258, 37.955672], [-122.367582, 37.978168], [-122.36889099999999, 38.007948], [-122.34280385218801, 38.0092538777817], [-122.321706, 38.01031], [-122.262861, 38.051473], [-122.269320054917, 38.06037449753119], [-122.14312, 38.031760999999996], [-122.095733, 38.048355], [-122.050386, 38.060198], [-121.878235, 38.049318], [-121.862462, 38.06603], [-121.80127, 38.021622], [-121.737824, 38.02663], [-121.673065, 38.093517999999996], [-121.580022, 38.094414], [-121.534167, 37.849022999999995], [-121.556997, 37.816488], [-121.577005, 37.811527], [-121.873542, 37.739317], [-121.96077, 37.718629], [-121.97247, 37.728528], [-121.989971, 37.733627999999996], [-122.011771, 37.747428], [-122.010771, 37.755127], [-121.997771, 37.763227], [-122.004809, 37.770571], [-122.045473, 37.798125999999996], [-122.14026, 37.804562], [-122.27108, 37.905823999999996], [-122.32871428740701, 37.8938323463208], [-122.33453, 37.908791], [-122.378709, 37.905190999999995], [-122.425258, 37.955672]]]}}, {\"AFFGEOID\": \"0500000US06009\", \"ALAND\": 2641829200, \"AWATER\": 43797659, \"COUNTYFP\": 9, \"COUNTYNS\": \"01675885\", \"GEOID\": \"06009\", \"LSAD\": \"06\", \"NAME\": \"Calaveras\", \"STATEFP\": 6, \"countyfips\": 9, \"in_t_minus_0\": 2733.0, \"in_t_minus_1\": 2834.0, \"in_t_minus_2\": 3499.0, \"in_t_minus_3\": 2557.0, \"in_t_minus_4\": 1676.0, \"out_t_minus_0\": 2281.0, \"out_t_minus_1\": 2306.0, \"out_t_minus_2\": 2720.0, \"out_t_minus_3\": 2040.0, \"out_t_minus_4\": 1537.0, \"perc_off_in\": -0.10078705375919987, \"perc_off_out\": -0.39036652496423857, \"residual_in\": -275.45101792389323, \"residual_out\": -890.4260434434282, \"statefips\": 6, \"y_pred_in\": 3008.4510179238932, \"y_pred_out\": 3171.426043443428, \"type\": \"Feature\", \"geometry\": {\"type\": \"Polygon\", \"coordinates\": [[[-120.995497, 38.225401999999995], [-120.892864, 38.221574], [-120.810126, 38.28201], [-120.63129, 38.340263], [-120.614881, 38.389407999999996], [-120.423215, 38.473321999999996], [-120.33104, 38.465191999999995], [-120.205702, 38.501039], [-120.072484, 38.509868999999995], [-120.072566, 38.447081], [-120.01995099999999, 38.433521], [-120.176177, 38.374013999999995], [-120.44252900000001, 38.058741], [-120.46279799999999, 38.011927], [-120.534276, 37.989443], [-120.514952, 37.95339], [-120.653274, 37.831858], [-120.92644899999999, 38.077421], [-120.942113, 38.096328], [-120.995497, 38.225401999999995]]]}}, {\"AFFGEOID\": \"0500000US06019\", \"ALAND\": 15431404077, \"AWATER\": 137345152, \"COUNTYFP\": 19, \"COUNTYNS\": \"00277274\", \"GEOID\": \"06019\", \"LSAD\": \"06\", \"NAME\": \"Fresno\", \"STATEFP\": 6, \"countyfips\": 19, \"in_t_minus_0\": 22396.0, \"in_t_minus_1\": 23484.0, \"in_t_minus_2\": 29713.0, \"in_t_minus_3\": 22880.0, \"in_t_minus_4\": 18974.0, \"out_t_minus_0\": 22811.0, \"out_t_minus_1\": 23760.0, \"out_t_minus_2\": 29073.0, \"out_t_minus_3\": 24582.0, \"out_t_minus_4\": 20589.0, \"perc_off_in\": 0.0015725419878696988, \"perc_off_out\": -0.2372715478829941, \"residual_in\": 35.218650360329775, \"residual_out\": -5412.401278758978, \"statefips\": 6, \"y_pred_in\": 22360.78134963967, \"y_pred_out\": 28223.401278758978, \"type\": \"Feature\", \"geometry\": {\"type\": \"Polygon\", \"coordinates\": [[[-120.65595, 36.952832], [-120.590566, 36.952641], [-120.541696, 37.044505], [-120.450341, 36.911172], [-120.456246, 36.862863], [-120.370256, 36.78494], [-120.229179, 36.769687], [-120.057776, 36.82286], [-120.028143, 36.814485], [-119.932338, 36.843323], [-119.813734, 36.850412], [-119.713182, 36.991638], [-119.705356, 36.999794], [-119.621116, 37.026604999999996], [-119.604908, 37.071016], [-119.562979, 37.064095], [-119.567234, 37.115946], [-119.506733, 37.150554], [-119.470844, 37.110548], [-119.43306, 37.161516], [-119.36275, 37.167201], [-119.330573, 37.205791], [-119.335189, 37.310773999999995], [-119.286658, 37.374943], [-119.022363, 37.585737], [-118.91705999999999, 37.550336], [-118.85047399999999, 37.475795999999995], [-118.775014, 37.463052], [-118.78673599999999, 37.343379999999996], [-118.716016, 37.328208], [-118.654593, 37.141826], [-118.59266099999999, 37.138147], [-118.437137, 37.059818], [-118.36083099999999, 36.887734], [-118.389758, 36.834466], [-118.360586, 36.744772999999995], [-118.982441, 36.741645999999996], [-118.984779, 36.657146999999995], [-119.088295, 36.657514], [-119.174791, 36.658878], [-119.304625, 36.660606], [-119.305102, 36.573724999999996], [-119.46632199999999, 36.575238], [-119.546131, 36.508963], [-119.573194, 36.488835], [-119.66640000000001, 36.41888], [-119.754213, 36.402023], [-119.959227, 36.400974999999995], [-119.959058, 36.181747], [-120.315068, 35.907185999999996], [-120.433053, 35.968933], [-120.667551, 36.138056999999996], [-120.62691, 36.203227], [-120.678582, 36.267319], [-120.596562, 36.328488], [-120.597155, 36.488234999999996], [-120.918731, 36.740381], [-120.65595, 36.952832]]]}}, {\"AFFGEOID\": \"0500000US06107\", \"ALAND\": 12495083015, \"AWATER\": 37014644, \"COUNTYFP\": 107, \"COUNTYNS\": \"00277318\", \"GEOID\": \"06107\", \"LSAD\": \"06\", \"NAME\": \"Tulare\", \"STATEFP\": 6, \"countyfips\": 107, \"in_t_minus_0\": 10745.0, \"in_t_minus_1\": 11735.0, \"in_t_minus_2\": 14418.0, \"in_t_minus_3\": 11229.0, \"in_t_minus_4\": 9547.0, \"out_t_minus_0\": 10970.0, \"out_t_minus_1\": 12094.0, \"out_t_minus_2\": 14078.0, \"out_t_minus_3\": 11950.0, \"out_t_minus_4\": 10292.0, \"perc_off_in\": -0.03368790864366576, \"perc_off_out\": -0.2807564341932425, \"residual_in\": -361.9765783761886, \"residual_out\": -3079.89808309987, \"statefips\": 6, \"y_pred_in\": 11106.976578376189, \"y_pred_out\": 14049.89808309987, \"type\": \"Feature\", \"geometry\": {\"type\": \"Polygon\", \"coordinates\": [[[-119.546131, 36.508963], [-119.46632199999999, 36.575238], [-119.305102, 36.573724999999996], [-119.304625, 36.660606], [-119.174791, 36.658878], [-119.088295, 36.657514], [-118.984779, 36.657146999999995], [-118.982441, 36.741645999999996], [-118.360586, 36.744772999999995], [-118.366328, 36.691635], [-118.274624, 36.597334], [-118.29052300000001, 36.558535], [-118.239021, 36.523635], [-118.21482, 36.435036], [-118.100317, 36.346137], [-118.12714700000001, 36.279655999999996], [-118.03361100000001, 36.008944], [-118.003577, 35.983717999999996], [-117.980761, 35.867515], [-118.005489, 35.862699], [-118.008043, 35.789161], [-118.067719, 35.791537], [-118.803729, 35.790347], [-119.053437, 35.790748], [-119.538116, 35.789567], [-119.53616099999999, 36.050782], [-119.529358, 36.26985], [-119.47460699999999, 36.269025], [-119.474892, 36.400953], [-119.528792, 36.401465], [-119.528286, 36.487545], [-119.573194, 36.488835], [-119.546131, 36.508963]]]}}, {\"AFFGEOID\": \"0500000US06033\", \"ALAND\": 3254364315, \"AWATER\": 188836455, \"COUNTYFP\": 33, \"COUNTYNS\": \"00277281\", \"GEOID\": \"06033\", \"LSAD\": \"06\", \"NAME\": \"Lake\", \"STATEFP\": 6, \"countyfips\": 33, \"in_t_minus_0\": 2527.0, \"in_t_minus_1\": 2861.0, \"in_t_minus_2\": 3775.0, \"in_t_minus_3\": 2561.0, \"in_t_minus_4\": 1926.0, \"out_t_minus_0\": 2377.0, \"out_t_minus_1\": 2444.0, \"out_t_minus_2\": 2931.0, \"out_t_minus_3\": 2570.0, \"out_t_minus_4\": 1862.0, \"perc_off_in\": -0.0324401406722117, \"perc_off_out\": -0.44587152286126297, \"residual_in\": -81.97623547867897, \"residual_out\": -1059.836609841222, \"statefips\": 6, \"y_pred_in\": 2608.976235478679, \"y_pred_out\": 3436.836609841222, \"type\": \"Feature\", \"geometry\": {\"type\": \"Polygon\", \"coordinates\": [[[-123.077812, 39.173791], [-122.994839, 39.235924], [-123.075114, 39.407683], [-123.063181, 39.503538999999996], [-122.89031, 39.529014], [-122.885352, 39.580107999999996], [-122.73563899999999, 39.580667999999996], [-122.739062, 39.383266], [-122.78509, 39.382974999999995], [-122.743482, 39.36813], [-122.775043, 39.311778], [-122.680927, 39.238726], [-122.47729, 39.17395], [-122.491278, 39.052991], [-122.413416, 39.020218], [-122.409118, 38.962793], [-122.340172, 38.924246], [-122.403941, 38.925289], [-122.421904, 38.90377], [-122.395056, 38.864245], [-122.397989, 38.804001], [-122.46388999999999, 38.705203], [-122.627396, 38.667505999999996], [-122.77248, 38.821529999999996], [-122.821592, 38.850139999999996], [-122.948865, 38.90022], [-122.98664, 38.997282999999996], [-123.056212, 39.021096], [-123.056115, 39.048815], [-123.077812, 39.173791]]]}}, {\"AFFGEOID\": \"0500000US06053\", \"ALAND\": 8499616962, \"AWATER\": 1267799938, \"COUNTYFP\": 53, \"COUNTYNS\": \"00277291\", \"GEOID\": \"06053\", \"LSAD\": \"06\", \"NAME\": \"Monterey\", \"STATEFP\": 6, \"countyfips\": 53, \"in_t_minus_0\": 14032.0, \"in_t_minus_1\": 15673.0, \"in_t_minus_2\": 19463.0, \"in_t_minus_3\": 16912.0, \"in_t_minus_4\": 13942.0, \"out_t_minus_0\": 17043.0, \"out_t_minus_1\": 18041.0, \"out_t_minus_2\": 22978.0, \"out_t_minus_3\": 18537.0, \"out_t_minus_4\": 14860.0, \"perc_off_in\": -0.1857413020659877, \"perc_off_out\": -0.2403298721031619, \"residual_in\": -2606.3219505899397, \"residual_out\": -4095.942010254188, \"statefips\": 6, \"y_pred_in\": 16638.32195058994, \"y_pred_out\": 21138.942010254188, \"type\": \"Feature\", \"geometry\": {\"type\": \"Polygon\", \"coordinates\": [[[-121.970427, 36.582754], [-121.923866, 36.634558999999996], [-121.860604, 36.611135999999995], [-121.81446199999999, 36.682857999999996], [-121.796826, 36.777543], [-121.791544, 36.815186], [-121.81273242676201, 36.8500494437455], [-121.699956, 36.919683], [-121.644001, 36.893996], [-121.597698, 36.83735], [-121.45134, 36.724793], [-121.468086, 36.685518], [-121.350092, 36.648357], [-121.318373, 36.610026], [-121.311788, 36.502736], [-121.244091, 36.506910999999995], [-121.193465, 36.445751], [-121.040797, 36.323969], [-121.027362, 36.260079999999995], [-120.920551, 36.311012], [-120.86508, 36.292578], [-120.761483, 36.203579999999995], [-120.718426, 36.196847999999996], [-120.717696, 36.260011999999996], [-120.75834, 36.308603999999995], [-120.678582, 36.267319], [-120.62691, 36.203227], [-120.667551, 36.138056999999996], [-120.433053, 35.968933], [-120.315068, 35.907185999999996], [-120.27575999999999, 35.905881], [-120.213979, 35.789276], [-120.75065000000001, 35.791131], [-121.347053956004, 35.7951862038146], [-121.406823, 35.844623], [-121.462264, 35.885618], [-121.48620000000001, 35.970348], [-121.531876, 36.014368], [-121.574602, 36.025155999999996], [-121.62200899999999, 36.099695], [-121.680145, 36.165818], [-121.77985100000001, 36.227407], [-121.826425, 36.241859999999996], [-121.888491, 36.30281], [-121.903195, 36.393603], [-121.94160000000001, 36.485602], [-121.970427, 36.582754]]]}}, {\"AFFGEOID\": \"0500000US06075\", \"ALAND\": 121375681, \"AWATER\": 479216672, \"COUNTYFP\": 75, \"COUNTYNS\": \"00277302\", \"GEOID\": \"06075\", \"LSAD\": \"06\", \"NAME\": \"San Francisco\", \"STATEFP\": 6, \"countyfips\": 75, \"in_t_minus_0\": 42587.0, \"in_t_minus_1\": 43931.0, \"in_t_minus_2\": 52435.0, \"in_t_minus_3\": 43577.0, \"in_t_minus_4\": 35219.0, \"out_t_minus_0\": 56029.0, \"out_t_minus_1\": 55540.0, \"out_t_minus_2\": 69167.0, \"out_t_minus_3\": 53156.0, \"out_t_minus_4\": 37502.0, \"perc_off_in\": -0.08723811582327301, \"perc_off_out\": -0.17734258922886573, \"residual_in\": -3715.209638565728, \"residual_out\": -9936.327931904118, \"statefips\": 6, \"y_pred_in\": 46302.20963856573, \"y_pred_out\": 65965.32793190412, \"type\": \"Feature\", \"geometry\": {\"type\": \"Polygon\", \"coordinates\": [[[-122.511983, 37.77113], [-122.465396, 37.800878999999995], [-122.398139, 37.80563], [-122.385323, 37.790724], [-122.376462, 37.738558], [-122.356784, 37.729504999999996], [-122.361749, 37.71501], [-122.389826876588, 37.708331], [-122.50067801908301, 37.7081325680179], [-122.505601251345, 37.7355674652407], [-122.511983, 37.77113]]]}}, {\"AFFGEOID\": \"0500000US06081\", \"ALAND\": 1161960635, \"AWATER\": 757110545, \"COUNTYFP\": 81, \"COUNTYNS\": \"00277305\", \"GEOID\": \"06081\", \"LSAD\": \"06\", \"NAME\": \"San Mateo\", \"STATEFP\": 6, \"countyfips\": 81, \"in_t_minus_0\": 36538.0, \"in_t_minus_1\": 37581.0, \"in_t_minus_2\": 46314.0, \"in_t_minus_3\": 36754.0, \"in_t_minus_4\": 27749.0, \"out_t_minus_0\": 45374.0, \"out_t_minus_1\": 45799.0, \"out_t_minus_2\": 56985.0, \"out_t_minus_3\": 43853.0, \"out_t_minus_4\": 29878.0, \"perc_off_in\": -0.08556617980918829, \"perc_off_out\": -0.24493476241409184, \"residual_in\": -3126.417077868122, \"residual_out\": -11113.669909777003, \"statefips\": 6, \"y_pred_in\": 39664.41707786812, \"y_pred_out\": 56487.669909777, \"type\": \"Feature\", \"geometry\": {\"type\": \"Polygon\", \"coordinates\": [[[-122.518088, 37.576138], [-122.496786, 37.612136], [-122.49678399999999, 37.686433], [-122.50067801908301, 37.7081325680179], [-122.389826876588, 37.708331], [-122.39319, 37.707530999999996], [-122.360219, 37.592501], [-122.244372, 37.55814], [-122.168449, 37.504143], [-122.12919970222401, 37.5213219985908], [-122.11724, 37.506721], [-122.081473, 37.477838], [-122.144933, 37.458200000000005], [-122.190402, 37.431472], [-122.192665, 37.31801], [-122.152278, 37.286055], [-122.152774, 37.215444], [-122.31768199999999, 37.186945], [-122.29431019191301, 37.105141386718095], [-122.322971, 37.11546], [-122.344029, 37.144099], [-122.397065, 37.187249], [-122.418452, 37.248521], [-122.40559014390101, 37.3149650377439], [-122.40132299999999, 37.337008999999995], [-122.409258, 37.374804999999995], [-122.443687, 37.435941], [-122.445987, 37.461541], [-122.49378899999999, 37.492340999999996], [-122.516689, 37.521339999999995], [-122.518088, 37.576138]]]}}, {\"AFFGEOID\": \"0500000US06109\", \"ALAND\": 5752079372, \"AWATER\": 138722707, \"COUNTYFP\": 109, \"COUNTYNS\": \"00277319\", \"GEOID\": \"06109\", \"LSAD\": \"06\", \"NAME\": \"Tuolumne\", \"STATEFP\": 6, \"countyfips\": 109, \"in_t_minus_0\": 2216.0, \"in_t_minus_1\": 2449.0, \"in_t_minus_2\": 3333.0, \"in_t_minus_3\": 2388.0, \"in_t_minus_4\": 1732.0, \"out_t_minus_0\": 2091.0, \"out_t_minus_1\": 2050.0, \"out_t_minus_2\": 2530.0, \"out_t_minus_3\": 2075.0, \"out_t_minus_4\": 1470.0, \"perc_off_in\": -0.09130334723956231, \"perc_off_out\": -0.3924630090529991, \"residual_in\": -202.32821748287006, \"residual_out\": -820.6401519298211, \"statefips\": 6, \"y_pred_in\": 2418.32821748287, \"y_pred_out\": 2911.640151929821, \"type\": \"Feature\", \"geometry\": {\"type\": \"Polygon\", \"coordinates\": [[[-120.514952, 37.95339], [-120.534276, 37.989443], [-120.46279799999999, 38.011927], [-120.44252900000001, 38.058741], [-120.176177, 38.374013999999995], [-120.01995099999999, 38.433521], [-119.884749, 38.356184999999996], [-119.705385, 38.416101999999995], [-119.639205, 38.326879999999996], [-119.651509, 38.286462], [-119.604182, 38.234961], [-119.632671, 38.198858], [-119.57649599999999, 38.157661], [-119.469456, 38.128282999999996], [-119.345922, 38.083113], [-119.30458999999999, 38.023891], [-119.308389, 37.946824], [-119.200283, 37.885827], [-119.20128, 37.804328999999996], [-119.268979, 37.73923], [-119.308995, 37.777986], [-119.426792, 37.866724], [-119.474295, 37.855623], [-119.535699, 37.904122], [-119.646203, 37.846823], [-119.667203, 37.801224], [-119.809409, 37.755024999999996], [-119.907013, 37.757926], [-120.079508, 37.828807999999995], [-120.12722600000001, 37.781566], [-120.345437, 37.724787], [-120.30631199999999, 37.665419], [-120.391931, 37.683558999999995], [-120.387613, 37.633704], [-120.653274, 37.831858], [-120.514952, 37.95339]]]}}, {\"AFFGEOID\": \"0500000US06091\", \"ALAND\": 2468694587, \"AWATER\": 23299110, \"COUNTYFP\": 91, \"COUNTYNS\": \"00277310\", \"GEOID\": \"06091\", \"LSAD\": \"06\", \"NAME\": \"Sierra\", \"STATEFP\": 6, \"countyfips\": 91, \"in_t_minus_0\": 152.0, \"in_t_minus_1\": 153.0, \"in_t_minus_2\": 171.0, \"in_t_minus_3\": 99.0, \"in_t_minus_4\": 74.0, \"out_t_minus_0\": 129.0, \"out_t_minus_1\": 129.0, \"out_t_minus_2\": 139.0, \"out_t_minus_3\": 108.0, \"out_t_minus_4\": 116.0, \"perc_off_in\": -0.0714571552568786, \"perc_off_out\": -1.0503164034882084, \"residual_in\": -10.861487599045546, \"residual_out\": -135.4908160499789, \"statefips\": 6, \"y_pred_in\": 162.86148759904555, \"y_pred_out\": 264.4908160499789, \"type\": \"Feature\", \"geometry\": {\"type\": \"Polygon\", \"coordinates\": [[[-121.05820299999999, 39.537043], [-121.009477, 39.639458999999995], [-120.949435, 39.672548], [-120.873261, 39.776168], [-120.792484, 39.709793999999995], [-120.68075999999999, 39.676832999999995], [-120.65422699999999, 39.706629], [-120.147149, 39.707657999999995], [-120.015734, 39.708721], [-119.99993544808501, 39.7224069247242], [-120.00174, 39.538852], [-120.003028919657, 39.4450457761605], [-120.505445, 39.446117], [-120.575594, 39.522290999999996], [-120.654561, 39.52692], [-120.755729, 39.452663], [-120.992703, 39.414392], [-121.022085, 39.391557999999996], [-121.05820299999999, 39.537043]]]}}, {\"AFFGEOID\": \"0500000US06073\", \"ALAND\": 10900649391, \"AWATER\": 820695499, \"COUNTYFP\": 73, \"COUNTYNS\": \"00277301\", \"GEOID\": \"06073\", \"LSAD\": \"06\", \"NAME\": \"San Diego\", \"STATEFP\": 6, \"countyfips\": 73, \"in_t_minus_0\": 111293.0, \"in_t_minus_1\": 118131.0, \"in_t_minus_2\": 148522.0, \"in_t_minus_3\": 118698.0, \"in_t_minus_4\": 89403.0, \"out_t_minus_0\": 126786.0, \"out_t_minus_1\": 131700.0, \"out_t_minus_2\": 175493.0, \"out_t_minus_3\": 129376.0, \"out_t_minus_4\": 89551.0, \"perc_off_in\": -0.14396073269831328, \"perc_off_out\": -0.2746676698993991, \"residual_in\": -16021.82182419338, \"residual_out\": -34824.01519586521, \"statefips\": 6, \"y_pred_in\": 127314.82182419338, \"y_pred_out\": 161610.0151958652, \"type\": \"Feature\", \"geometry\": {\"type\": \"Polygon\", \"coordinates\": [[[-117.596188685737, 33.3869649943199], [-117.57848, 33.453927], [-117.508614, 33.469614], [-117.509722, 33.505019], [-117.364272, 33.505024999999996], [-117.259308, 33.454513], [-117.250495, 33.451629], [-117.241668, 33.448927999999995], [-117.241271, 33.431993], [-117.14157399999999, 33.43261], [-117.089024, 33.430285999999995], [-117.030861, 33.426930999999996], [-116.821826, 33.426873], [-116.197591, 33.428892999999995], [-116.085165, 33.425931999999996], [-116.08109, 33.074833], [-116.105634, 32.72157], [-116.10617888905001, 32.6185781426356], [-116.540643, 32.583746999999995], [-116.62705, 32.576260999999995], [-116.857154, 32.557459], [-117.12486200000001, 32.534155999999996], [-117.13203895573801, 32.585601187382096], [-117.136664, 32.618753999999996], [-117.168866, 32.671952], [-117.196767, 32.688851], [-117.246069, 32.669351999999996], [-117.255169, 32.700051], [-117.25497, 32.786947999999995], [-117.280971, 32.822247], [-117.28217000000001, 32.839546999999996], [-117.27387, 32.851447], [-117.262905, 32.849349], [-117.25617, 32.859446999999996], [-117.25616053514901, 32.8596735941017], [-117.25447, 32.900146], [-117.272139427178, 32.9755245825488], [-117.28077, 33.012343], [-117.315278, 33.093503999999996], [-117.362572, 33.168437], [-117.445583, 33.268516999999996], [-117.547693, 33.365491], [-117.59588, 33.386629], [-117.596188685737, 33.3869649943199]]]}}, {\"AFFGEOID\": \"0500000US06095\", \"ALAND\": 2128327622, \"AWATER\": 218699936, \"COUNTYFP\": 95, \"COUNTYNS\": \"00277312\", \"GEOID\": \"06095\", \"LSAD\": \"06\", \"NAME\": \"Solano\", \"STATEFP\": 6, \"countyfips\": 95, \"in_t_minus_0\": 22070.0, \"in_t_minus_1\": 23450.0, \"in_t_minus_2\": 30711.0, \"in_t_minus_3\": 23738.0, \"in_t_minus_4\": 17074.0, \"out_t_minus_0\": 21711.0, \"out_t_minus_1\": 22821.0, \"out_t_minus_2\": 28648.0, \"out_t_minus_3\": 20707.0, \"out_t_minus_4\": 15438.0, \"perc_off_in\": -0.14237801933425012, \"perc_off_out\": -0.2999715084572722, \"residual_in\": -3142.2828867069, \"residual_out\": -6512.681420115838, \"statefips\": 6, \"y_pred_in\": 25212.2828867069, \"y_pred_out\": 28223.681420115838, \"type\": \"Feature\", \"geometry\": {\"type\": \"Polygon\", \"coordinates\": [[[-122.406786, 38.155632], [-122.213464, 38.154894], [-122.195971, 38.162991], [-122.205982, 38.315712999999995], [-122.061379, 38.327411], [-122.126389, 38.428917999999996], [-122.103281, 38.513348], [-122.011673, 38.488991], [-121.940285, 38.533384], [-121.712034, 38.537962], [-121.693697, 38.313732], [-121.593273, 38.313089], [-121.615413, 38.195696], [-121.685645, 38.159644], [-121.71213, 38.085519999999995], [-121.862462, 38.06603], [-121.878235, 38.049318], [-122.050386, 38.060198], [-122.095733, 38.048355], [-122.14312, 38.031760999999996], [-122.269320054917, 38.06037449753119], [-122.301804, 38.105142], [-122.393588, 38.143449], [-122.39758123062401, 38.14200359725329], [-122.406786, 38.155632]]]}}, {\"AFFGEOID\": \"0500000US06041\", \"ALAND\": 1347976788, \"AWATER\": 797029137, \"COUNTYFP\": 41, \"COUNTYNS\": \"00277285\", \"GEOID\": \"06041\", \"LSAD\": \"06\", \"NAME\": \"Marin\", \"STATEFP\": 6, \"countyfips\": 41, \"in_t_minus_0\": 10812.0, \"in_t_minus_1\": 11328.0, \"in_t_minus_2\": 14620.0, \"in_t_minus_3\": 11546.0, \"in_t_minus_4\": 8328.0, \"out_t_minus_0\": 11298.0, \"out_t_minus_1\": 11651.0, \"out_t_minus_2\": 14896.0, \"out_t_minus_3\": 11720.0, \"out_t_minus_4\": 8674.0, \"perc_off_in\": -0.12024672648107607, \"perc_off_out\": -0.3177821302799087, \"residual_in\": -1300.1076067133945, \"residual_out\": -3590.3025079024083, \"statefips\": 6, \"y_pred_in\": 12112.107606713394, \"y_pred_out\": 14888.302507902408, \"type\": \"Feature\", \"geometry\": {\"type\": \"Polygon\", \"coordinates\": [[[-123.011533, 38.003437999999996], [-122.960889, 38.112961999999996], [-122.953629, 38.17567], [-122.987149, 38.237538], [-122.986319, 38.273164], [-123.003146477056, 38.2957052387145], [-122.910943, 38.321222], [-122.7399, 38.207018], [-122.56509299999999, 38.182217], [-122.505707, 38.115525999999996], [-122.48849963925902, 38.1090944743082], [-122.491283, 38.108087], [-122.499465, 38.032165], [-122.452995, 37.996167], [-122.488665, 37.966713999999996], [-122.486375, 37.921881], [-122.448413, 37.893409999999996], [-122.41847, 37.852720999999995], [-122.483483, 37.826727999999996], [-122.537285, 37.830328], [-122.60129, 37.875126], [-122.678474, 37.906604], [-122.70264, 37.89382], [-122.754606, 37.935527], [-122.797405, 37.976656999999996], [-122.856573, 38.016717], [-122.939711, 38.031908], [-122.97439, 37.992429], [-123.011533, 38.003437999999996]]]}}, {\"AFFGEOID\": \"0500000US06035\", \"ALAND\": 11761615592, \"AWATER\": 463426051, \"COUNTYFP\": 35, \"COUNTYNS\": \"01693324\", \"GEOID\": \"06035\", \"LSAD\": \"06\", \"NAME\": \"Lassen\", \"STATEFP\": 6, \"countyfips\": 35, \"in_t_minus_0\": 1191.0, \"in_t_minus_1\": 1276.0, \"in_t_minus_2\": 1573.0, \"in_t_minus_3\": 1325.0, \"in_t_minus_4\": 754.0, \"out_t_minus_0\": 1197.0, \"out_t_minus_1\": 1251.0, \"out_t_minus_2\": 1664.0, \"out_t_minus_3\": 1212.0, \"out_t_minus_4\": 868.0, \"perc_off_in\": -0.35963014875067884, \"perc_off_out\": -0.5094387813447788, \"residual_in\": -428.31950716205847, \"residual_out\": -609.7982212697002, \"statefips\": 6, \"y_pred_in\": 1619.3195071620585, \"y_pred_out\": 1806.7982212697002, \"type\": \"Feature\", \"geometry\": {\"type\": \"Polygon\", \"coordinates\": [[[-121.331786, 41.183886], [-120.501404, 41.18394], [-119.999866, 41.183974], [-119.999231, 40.865899], [-119.997533, 40.720991999999995], [-119.996155, 40.32125], [-119.997124, 40.126363], [-119.997634, 39.956505], [-119.99993544808501, 39.7224069247242], [-120.015734, 39.708721], [-120.147149, 39.707657999999995], [-120.110627, 39.765778999999995], [-120.108761, 39.93951], [-120.201264, 40.013473999999995], [-120.209641, 40.086008], [-120.341385, 40.115243], [-120.482848, 40.205798], [-120.510817, 40.248945], [-120.652158, 40.307656], [-120.764403, 40.31601], [-120.928582, 40.191931], [-121.061493, 40.256417], [-121.061417, 40.446535999999995], [-121.327826, 40.445367], [-121.319976, 40.905885999999995], [-121.331786, 41.183886]]]}}, {\"AFFGEOID\": \"0500000US06113\", \"ALAND\": 2628144763, \"AWATER\": 22878452, \"COUNTYFP\": 113, \"COUNTYNS\": \"00277321\", \"GEOID\": \"06113\", \"LSAD\": \"06\", \"NAME\": \"Yolo\", \"STATEFP\": 6, \"countyfips\": 113, \"in_t_minus_0\": 9652.0, \"in_t_minus_1\": 10152.0, \"in_t_minus_2\": 13454.0, \"in_t_minus_3\": 10187.0, \"in_t_minus_4\": 7307.0, \"out_t_minus_0\": 10789.0, \"out_t_minus_1\": 11403.0, \"out_t_minus_2\": 14271.0, \"out_t_minus_3\": 10516.0, \"out_t_minus_4\": 7361.0, \"perc_off_in\": -0.1176336095468281, \"perc_off_out\": -0.3149781965285778, \"residual_in\": -1135.3995993459848, \"residual_out\": -3398.2997623468254, \"statefips\": 6, \"y_pred_in\": 10787.399599345985, \"y_pred_out\": 14187.299762346825, \"type\": \"Feature\", \"geometry\": {\"type\": \"Polygon\", \"coordinates\": [[[-122.403941, 38.925289], [-122.340172, 38.924246], [-121.835488, 38.924481], [-121.749747, 38.871243], [-121.67382599999999, 38.743141], [-121.60289399999999, 38.735838], [-121.633774, 38.686164], [-121.553609, 38.603325999999996], [-121.544567, 38.597704], [-121.527667, 38.604603999999995], [-121.511566, 38.600904], [-121.506269, 38.586304999999996], [-121.520965, 38.566205], [-121.51129, 38.54629], [-121.513706, 38.540107], [-121.53089299999999, 38.529365], [-121.524018, 38.520868], [-121.551782, 38.513861], [-121.558701, 38.501939], [-121.50509, 38.469563], [-121.521641, 38.360104], [-121.593273, 38.313089], [-121.693697, 38.313732], [-121.712034, 38.537962], [-121.940285, 38.533384], [-122.011673, 38.488991], [-122.103281, 38.513348], [-122.168301, 38.655296], [-122.224206, 38.699984], [-122.287998, 38.839931], [-122.395056, 38.864245], [-122.421904, 38.90377], [-122.403941, 38.925289]]]}}, {\"AFFGEOID\": \"0500000US06065\", \"ALAND\": 18664901451, \"AWATER\": 250194697, \"COUNTYFP\": 65, \"COUNTYNS\": \"00277297\", \"GEOID\": \"06065\", \"LSAD\": \"06\", \"NAME\": \"Riverside\", \"STATEFP\": 6, \"countyfips\": 65, \"in_t_minus_0\": 107243.0, \"in_t_minus_1\": 113836.0, \"in_t_minus_2\": 146381.0, \"in_t_minus_3\": 107671.0, \"in_t_minus_4\": 80838.0, \"out_t_minus_0\": 93607.0, \"out_t_minus_1\": 96157.0, \"out_t_minus_2\": 117185.0, \"out_t_minus_3\": 88491.0, \"out_t_minus_4\": 71466.0, \"perc_off_in\": -0.059333752053474915, \"perc_off_out\": -0.2643902080609855, \"residual_in\": -6363.12957147081, \"residual_out\": -24748.77420596467, \"statefips\": 6, \"y_pred_in\": 113606.12957147081, \"y_pred_out\": 118355.77420596467, \"type\": \"Feature\", \"geometry\": {\"type\": \"Polygon\", \"coordinates\": [[[-117.673134, 33.871005], [-117.65537499999999, 33.924343], [-117.610947, 33.925114], [-117.558269, 34.018906], [-117.375278, 34.033875], [-117.371588, 34.019399], [-117.22537299999999, 34.018715], [-117.121293, 34.003916], [-117.104737, 34.004014999999995], [-116.929357, 34.004914], [-116.929558, 34.034113], [-116.300631, 34.032544], [-115.31621200000001, 34.03411], [-115.316065, 34.077843], [-114.43009113852001, 34.078931406279494], [-114.435504, 34.042615], [-114.454807, 34.010968], [-114.509568, 33.957263999999995], [-114.534987, 33.928498999999995], [-114.508708, 33.900639999999996], [-114.505638, 33.864276], [-114.520465, 33.827777999999995], [-114.504863, 33.760464999999996], [-114.496565, 33.719155], [-114.504993, 33.693022], [-114.525201, 33.661583], [-114.529186, 33.60665], [-114.524599, 33.552231], [-114.597283, 33.490653], [-114.629146518189, 33.433544999999796], [-114.830833, 33.430094], [-115.467506, 33.426992], [-116.085165, 33.425931999999996], [-116.197591, 33.428892999999995], [-116.821826, 33.426873], [-117.030861, 33.426930999999996], [-117.089024, 33.430285999999995], [-117.14157399999999, 33.43261], [-117.241271, 33.431993], [-117.241668, 33.448927999999995], [-117.250495, 33.451629], [-117.259308, 33.454513], [-117.364272, 33.505024999999996], [-117.509722, 33.505019], [-117.51021, 33.533999], [-117.457937, 33.602188999999996], [-117.412987, 33.659045], [-117.533999, 33.710355], [-117.67505299999999, 33.868725], [-117.673134, 33.871005]]]}}, {\"AFFGEOID\": \"0500000US06097\", \"ALAND\": 4081491107, \"AWATER\": 497455304, \"COUNTYFP\": 97, \"COUNTYNS\": \"01657246\", \"GEOID\": \"06097\", \"LSAD\": \"06\", \"NAME\": \"Sonoma\", \"STATEFP\": 6, \"countyfips\": 97, \"in_t_minus_0\": 14012.0, \"in_t_minus_1\": 13891.0, \"in_t_minus_2\": 19664.0, \"in_t_minus_3\": 15791.0, \"in_t_minus_4\": 11347.0, \"out_t_minus_0\": 16225.0, \"out_t_minus_1\": 18756.0, \"out_t_minus_2\": 22276.0, \"out_t_minus_3\": 15282.0, \"out_t_minus_4\": 10960.0, \"perc_off_in\": -0.13554720048212318, \"perc_off_out\": -0.34255278276329726, \"residual_in\": -1899.28737315551, \"residual_out\": -5557.918900334498, \"statefips\": 6, \"y_pred_in\": 15911.28737315551, \"y_pred_out\": 21782.918900334498, \"type\": \"Feature\", \"geometry\": {\"type\": \"Polygon\", \"coordinates\": [[[-123.54092201163401, 38.76765621603929], [-123.368236, 38.777066], [-123.136253, 38.809135999999995], [-123.080997, 38.852438], [-122.821592, 38.850139999999996], [-122.77248, 38.821529999999996], [-122.627396, 38.667505999999996], [-122.646421, 38.598593], [-122.602659, 38.557496], [-122.543893, 38.519966], [-122.349564, 38.193971999999995], [-122.406786, 38.155632], [-122.39758123062401, 38.14200359725329], [-122.48849963925902, 38.1090944743082], [-122.505707, 38.115525999999996], [-122.56509299999999, 38.182217], [-122.7399, 38.207018], [-122.910943, 38.321222], [-123.003146477056, 38.2957052387145], [-123.004122, 38.297011999999995], [-123.053504, 38.299385], [-123.068437, 38.33521], [-123.085572, 38.390525], [-123.166428, 38.474947], [-123.249797, 38.511044999999996], [-123.33189899999999, 38.565542], [-123.34961200000001, 38.596804999999996], [-123.441774, 38.699743999999995], [-123.51478399999999, 38.741966], [-123.54092201163401, 38.76765621603929]]]}}, {\"AFFGEOID\": \"0500000US06007\", \"ALAND\": 4238438186, \"AWATER\": 105311003, \"COUNTYFP\": 7, \"COUNTYNS\": \"01675842\", \"GEOID\": \"06007\", \"LSAD\": \"06\", \"NAME\": \"Butte\", \"STATEFP\": 6, \"countyfips\": 7, \"in_t_minus_0\": 6449.0, \"in_t_minus_1\": 7993.0, \"in_t_minus_2\": 10807.0, \"in_t_minus_3\": 7572.0, \"in_t_minus_4\": 5540.0, \"out_t_minus_0\": 14647.0, \"out_t_minus_1\": 10622.0, \"out_t_minus_2\": 9275.0, \"out_t_minus_3\": 7382.0, \"out_t_minus_4\": 5165.0, \"perc_off_in\": -0.19165147344867495, \"perc_off_out\": 0.12383213490301467, \"residual_in\": -1235.9603522705047, \"residual_out\": 1813.769279924456, \"statefips\": 6, \"y_pred_in\": 7684.960352270505, \"y_pred_out\": 12833.230720075544, \"type\": \"Feature\", \"geometry\": {\"type\": \"Polygon\", \"coordinates\": [[[-122.044865, 39.883770999999996], [-121.804041, 39.884344], [-121.70324099999999, 39.98423], [-121.64603199999999, 39.982527], [-121.586407, 40.100522], [-121.436886, 40.151905], [-121.366818, 40.086054], [-121.41948, 40.015766], [-121.429957, 39.900313], [-121.350821, 39.825703999999995], [-121.210878, 39.725651], [-121.136715, 39.628169], [-121.076695, 39.597263999999996], [-121.149907, 39.526446], [-121.305122, 39.519585], [-121.33442, 39.425211999999995], [-121.407527, 39.339754], [-121.62376, 39.295621], [-121.638066, 39.305566], [-121.908269, 39.303878], [-121.899109, 39.357285999999995], [-121.890013, 39.383863999999996], [-121.856532, 39.536904], [-121.994021, 39.533926], [-121.994343, 39.671458], [-121.94962, 39.732963999999996], [-121.967868, 39.722397], [-122.026498, 39.800137], [-122.046471, 39.797647999999995], [-122.044865, 39.883770999999996]]]}}, {\"AFFGEOID\": \"0500000US06025\", \"ALAND\": 10817292933, \"AWATER\": 790212281, \"COUNTYFP\": 25, \"COUNTYNS\": \"00277277\", \"GEOID\": \"06025\", \"LSAD\": \"06\", \"NAME\": \"Imperial\", \"STATEFP\": 6, \"countyfips\": 25, \"in_t_minus_0\": 4626.0, \"in_t_minus_1\": 5069.0, \"in_t_minus_2\": 6277.0, \"in_t_minus_3\": 5579.0, \"in_t_minus_4\": 4957.0, \"out_t_minus_0\": 5769.0, \"out_t_minus_1\": 5968.0, \"out_t_minus_2\": 6932.0, \"out_t_minus_3\": 7007.0, \"out_t_minus_4\": 6902.0, \"perc_off_in\": -0.040512966628608045, \"perc_off_out\": -0.17252947460759896, \"residual_in\": -187.41298362394082, \"residual_out\": -995.3225390112384, \"statefips\": 6, \"y_pred_in\": 4813.412983623941, \"y_pred_out\": 6764.322539011238, \"type\": \"Feature\", \"geometry\": {\"type\": \"Polygon\", \"coordinates\": [[[-116.105634, 32.72157], [-116.08109, 33.074833], [-116.085165, 33.425931999999996], [-115.467506, 33.426992], [-114.830833, 33.430094], [-114.629146518189, 33.433544999999796], [-114.635183, 33.422726], [-114.673901, 33.418299], [-114.72528199999999, 33.405048], [-114.707348, 33.376628], [-114.707962, 33.323420999999996], [-114.723259, 33.288078999999996], [-114.674491, 33.255597], [-114.678097, 33.2303], [-114.679359, 33.159518999999996], [-114.706175, 33.105335], [-114.670803, 33.037984], [-114.628293, 33.031051999999995], [-114.575161, 33.036542], [-114.517066790281, 33.0246287635685], [-114.511343, 33.023455], [-114.481315, 32.972063999999996], [-114.47664, 32.923628], [-114.463127, 32.901883999999995], [-114.468971, 32.845155], [-114.531746, 32.782503], [-114.570675, 32.747417], [-114.617386523962, 32.7410527731766], [-114.667493, 32.734226], [-114.70571699999999, 32.741581], [-114.719633, 32.718762999999996], [-115.000802, 32.699676], [-115.465164, 32.667100000000005], [-116.04662, 32.623353], [-116.10617888905001, 32.6185781426356], [-116.105634, 32.72157]]]}}, {\"AFFGEOID\": \"0500000US06057\", \"ALAND\": 2480587324, \"AWATER\": 41531993, \"COUNTYFP\": 57, \"COUNTYNS\": \"01682927\", \"GEOID\": \"06057\", \"LSAD\": \"06\", \"NAME\": \"Nevada\", \"STATEFP\": 6, \"countyfips\": 57, \"in_t_minus_0\": 5348.0, \"in_t_minus_1\": 5889.0, \"in_t_minus_2\": 7413.0, \"in_t_minus_3\": 5326.0, \"in_t_minus_4\": 3774.0, \"out_t_minus_0\": 5072.0, \"out_t_minus_1\": 4910.0, \"out_t_minus_2\": 5919.0, \"out_t_minus_3\": 4664.0, \"out_t_minus_4\": 3600.0, \"perc_off_in\": -0.10265847836087057, \"perc_off_out\": -0.2804118780540622, \"residual_in\": -549.0175422739358, \"residual_out\": -1422.2490454902036, \"statefips\": 6, \"y_pred_in\": 5897.017542273936, \"y_pred_out\": 6494.249045490204, \"type\": \"Feature\", \"geometry\": {\"type\": \"Polygon\", \"coordinates\": [[[-121.266132, 39.272717], [-121.127481, 39.380237], [-121.022085, 39.391557999999996], [-120.992703, 39.414392], [-120.755729, 39.452663], [-120.654561, 39.52692], [-120.575594, 39.522290999999996], [-120.505445, 39.446117], [-120.003028919657, 39.4450457761605], [-120.004795512304, 39.316475011958495], [-120.03665699999999, 39.316334], [-120.322378, 39.316427], [-120.55460000000001, 39.315596], [-120.67143300000001, 39.310370999999996], [-120.727893, 39.288081], [-120.98634799999999, 39.102233999999996], [-121.068788, 39.005176999999996], [-121.137979, 39.037911], [-121.279533, 39.034617999999995], [-121.266132, 39.272717]]]}}, {\"AFFGEOID\": \"0500000US06051\", \"ALAND\": 7896838487, \"AWATER\": 214695672, \"COUNTYFP\": 51, \"COUNTYNS\": \"00277290\", \"GEOID\": \"06051\", \"LSAD\": \"06\", \"NAME\": \"Mono\", \"STATEFP\": 6, \"countyfips\": 51, \"in_t_minus_0\": 752.0, \"in_t_minus_1\": 842.0, \"in_t_minus_2\": 1070.0, \"in_t_minus_3\": 859.0, \"in_t_minus_4\": 591.0, \"out_t_minus_0\": 784.0, \"out_t_minus_1\": 886.0, \"out_t_minus_2\": 1182.0, \"out_t_minus_3\": 862.0, \"out_t_minus_4\": 743.0, \"perc_off_in\": -0.30576579482643784, \"perc_off_out\": -0.4763645287456098, \"residual_in\": -229.93587770948125, \"residual_out\": -373.4697905365581, \"statefips\": 6, \"y_pred_in\": 981.9358777094812, \"y_pred_out\": 1157.469790536558, \"type\": \"Feature\", \"geometry\": {\"type\": \"Polygon\", \"coordinates\": [[[-119.639205, 38.326879999999996], [-119.542332, 38.481221], [-119.619066, 38.603529], [-119.58540614483901, 38.7131509006712], [-119.328704521076, 38.5343519277975], [-119.279262, 38.499914], [-119.15722610087201, 38.4143919717613], [-118.949673, 38.26894], [-118.500958, 37.949019], [-118.42799532515701, 37.8962242809098], [-118.022181, 37.602582999999996], [-117.83350404414401, 37.464938766244494], [-118.775014, 37.463052], [-118.85047399999999, 37.475795999999995], [-118.91705999999999, 37.550336], [-119.022363, 37.585737], [-119.124312, 37.733944], [-119.268979, 37.73923], [-119.20128, 37.804328999999996], [-119.200283, 37.885827], [-119.308389, 37.946824], [-119.30458999999999, 38.023891], [-119.345922, 38.083113], [-119.469456, 38.128282999999996], [-119.57649599999999, 38.157661], [-119.632671, 38.198858], [-119.604182, 38.234961], [-119.651509, 38.286462], [-119.639205, 38.326879999999996]]]}}, {\"AFFGEOID\": \"0500000US06101\", \"ALAND\": 1560546527, \"AWATER\": 15240593, \"COUNTYFP\": 101, \"COUNTYNS\": \"00277315\", \"GEOID\": \"06101\", \"LSAD\": \"06\", \"NAME\": \"Sutter\", \"STATEFP\": 6, \"countyfips\": 101, \"in_t_minus_0\": 4689.0, \"in_t_minus_1\": 5184.0, \"in_t_minus_2\": 6126.0, \"in_t_minus_3\": 4732.0, \"in_t_minus_4\": 3682.0, \"out_t_minus_0\": 4631.0, \"out_t_minus_1\": 5099.0, \"out_t_minus_2\": 6386.0, \"out_t_minus_3\": 4597.0, \"out_t_minus_4\": 3684.0, \"perc_off_in\": -0.14821809822413906, \"perc_off_out\": -0.29716613145905546, \"residual_in\": -694.9946625729881, \"residual_out\": -1376.176354786886, \"statefips\": 6, \"y_pred_in\": 5383.994662572988, \"y_pred_out\": 6007.176354786886, \"type\": \"Feature\", \"geometry\": {\"type\": \"Polygon\", \"coordinates\": [[[-121.908269, 39.303878], [-121.638066, 39.305566], [-121.62376, 39.295621], [-121.58591, 39.089690999999995], [-121.610138, 39.057846999999995], [-121.57541499999999, 38.918348], [-121.543306, 38.972404], [-121.414779, 38.996452], [-121.414399, 38.926214], [-121.469356, 38.925992], [-121.484396, 38.734598], [-121.559868, 38.736301999999995], [-121.60289399999999, 38.735838], [-121.67382599999999, 38.743141], [-121.749747, 38.871243], [-121.835488, 38.924481], [-121.795366, 38.995686], [-121.889101, 39.072373], [-121.945514, 39.179843], [-121.908269, 39.303878]]]}}, {\"AFFGEOID\": \"0500000US06047\", \"ALAND\": 5013300944, \"AWATER\": 111383846, \"COUNTYFP\": 47, \"COUNTYNS\": \"00277288\", \"GEOID\": \"06047\", \"LSAD\": \"06\", \"NAME\": \"Merced\", \"STATEFP\": 6, \"countyfips\": 47, \"in_t_minus_0\": 10363.0, \"in_t_minus_1\": 10752.0, \"in_t_minus_2\": 12693.0, \"in_t_minus_3\": 9840.0, \"in_t_minus_4\": 7910.0, \"out_t_minus_0\": 9078.0, \"out_t_minus_1\": 9356.0, \"out_t_minus_2\": 11191.0, \"out_t_minus_3\": 9289.0, \"out_t_minus_4\": 7671.0, \"perc_off_in\": -0.016719142824747936, \"perc_off_out\": -0.2730660011556583, \"residual_in\": -173.26047709286286, \"residual_out\": -2478.893158491066, \"statefips\": 6, \"y_pred_in\": 10536.260477092863, \"y_pred_out\": 11556.893158491066, \"type\": \"Feature\", \"geometry\": {\"type\": \"Polygon\", \"coordinates\": [[[-121.226804, 37.134774], [-120.963812, 37.346143999999995], [-120.989811, 37.395871], [-120.38767, 37.633364], [-120.177636, 37.261525999999996], [-120.052055, 37.183108], [-120.106385, 37.167153], [-120.22728599999999, 37.1634], [-120.476692, 37.09639], [-120.541696, 37.044505], [-120.590566, 36.952641], [-120.65595, 36.952832], [-120.918731, 36.740381], [-121.141523, 36.836656], [-121.234683, 36.926894], [-121.215406, 36.961248], [-121.245887, 36.983036], [-121.226804, 37.134774]]]}}, {\"AFFGEOID\": \"0500000US06087\", \"ALAND\": 1152866293, \"AWATER\": 419671509, \"COUNTYFP\": 87, \"COUNTYNS\": \"00277308\", \"GEOID\": \"06087\", \"LSAD\": \"06\", \"NAME\": \"Santa Cruz\", \"STATEFP\": 6, \"countyfips\": 87, \"in_t_minus_0\": 9177.0, \"in_t_minus_1\": 9840.0, \"in_t_minus_2\": 12552.0, \"in_t_minus_3\": 10364.0, \"in_t_minus_4\": 8215.0, \"out_t_minus_0\": 10728.0, \"out_t_minus_1\": 11365.0, \"out_t_minus_2\": 14341.0, \"out_t_minus_3\": 11044.0, \"out_t_minus_4\": 8325.0, \"perc_off_in\": -0.140478314837606, \"perc_off_out\": -0.266340156202986, \"residual_in\": -1289.1694952647103, \"residual_out\": -2857.297195745634, \"statefips\": 6, \"y_pred_in\": 10466.16949526471, \"y_pred_out\": 13585.297195745634, \"type\": \"Feature\", \"geometry\": {\"type\": \"Polygon\", \"coordinates\": [[[-122.31768199999999, 37.186945], [-122.152774, 37.215444], [-122.152278, 37.286055], [-121.99109, 37.14427], [-121.84629, 37.09702], [-121.809076, 37.069300999999996], [-121.738627, 36.990085], [-121.581354, 36.899152], [-121.644001, 36.893996], [-121.699956, 36.919683], [-121.81273242676201, 36.8500494437455], [-121.862266, 36.931551999999996], [-121.906468, 36.96895], [-121.95167000000001, 36.97145], [-122.027174, 36.95115], [-122.06731672906, 36.9535956897314], [-122.105976, 36.955951], [-122.20618, 37.013949], [-122.260481, 37.072548], [-122.284882, 37.101746999999996], [-122.29431019191301, 37.105141386718095], [-122.31768199999999, 37.186945]]]}}, {\"AFFGEOID\": \"0500000US06085\", \"ALAND\": 3343896477, \"AWATER\": 33589866, \"COUNTYFP\": 85, \"COUNTYNS\": \"00277307\", \"GEOID\": \"06085\", \"LSAD\": \"06\", \"NAME\": \"Santa Clara\", \"STATEFP\": 6, \"countyfips\": 85, \"in_t_minus_0\": 67142.0, \"in_t_minus_1\": 67849.0, \"in_t_minus_2\": 82359.0, \"in_t_minus_3\": 63684.0, \"in_t_minus_4\": 48482.0, \"out_t_minus_0\": 90553.0, \"out_t_minus_1\": 94537.0, \"out_t_minus_2\": 119741.0, \"out_t_minus_3\": 87208.0, \"out_t_minus_4\": 59202.0, \"perc_off_in\": -0.06978098836357038, \"perc_off_out\": -0.2269168409078783, \"residual_in\": -4685.235120706842, \"residual_out\": -20548.000694731105, \"statefips\": 6, \"y_pred_in\": 71827.23512070684, \"y_pred_out\": 111101.0006947311, \"type\": \"Feature\", \"geometry\": {\"type\": \"Polygon\", \"coordinates\": [[[-122.190402, 37.431472], [-122.144933, 37.458200000000005], [-122.081473, 37.477838], [-122.059673, 37.464087], [-121.925041, 37.454186], [-121.855762, 37.484536999999996], [-121.47264799999999, 37.482169999999996], [-121.405753, 37.31099], [-121.459051, 37.282739], [-121.399451, 37.150386], [-121.282271, 37.183675], [-121.226804, 37.134774], [-121.245887, 36.983036], [-121.215406, 36.961248], [-121.418246, 36.960549], [-121.452182, 36.988759], [-121.501488, 36.971894999999996], [-121.510185, 36.956019], [-121.513813, 36.945155], [-121.534463, 36.930932999999996], [-121.540016, 36.920764999999996], [-121.54800900000001, 36.917390999999995], [-121.581354, 36.899152], [-121.738627, 36.990085], [-121.809076, 37.069300999999996], [-121.84629, 37.09702], [-121.99109, 37.14427], [-122.152278, 37.286055], [-122.192665, 37.31801], [-122.190402, 37.431472]]]}}, {\"AFFGEOID\": \"0500000US06061\", \"ALAND\": 3644325262, \"AWATER\": 246494490, \"COUNTYFP\": 61, \"COUNTYNS\": \"00277295\", \"GEOID\": \"06061\", \"LSAD\": \"06\", \"NAME\": \"Placer\", \"STATEFP\": 6, \"countyfips\": 61, \"in_t_minus_0\": 24687.0, \"in_t_minus_1\": 26670.0, \"in_t_minus_2\": 35425.0, \"in_t_minus_3\": 24292.0, \"in_t_minus_4\": 15604.0, \"out_t_minus_0\": 20359.0, \"out_t_minus_1\": 20192.0, \"out_t_minus_2\": 25755.0, \"out_t_minus_3\": 18944.0, \"out_t_minus_4\": 13889.0, \"perc_off_in\": -0.10109108521209621, \"perc_off_out\": -0.35900289949184994, \"residual_in\": -2495.6356206310193, \"residual_out\": -7308.940030754573, \"statefips\": 6, \"y_pred_in\": 27182.63562063102, \"y_pred_out\": 27667.940030754573, \"type\": \"Feature\", \"geometry\": {\"type\": \"Polygon\", \"coordinates\": [[[-121.469356, 38.925992], [-121.414399, 38.926214], [-121.414779, 38.996452], [-121.365643, 39.031743], [-121.332135, 39.042021], [-121.279533, 39.034617999999995], [-121.137979, 39.037911], [-121.068788, 39.005176999999996], [-120.98634799999999, 39.102233999999996], [-120.727893, 39.288081], [-120.67143300000001, 39.310370999999996], [-120.55460000000001, 39.315596], [-120.322378, 39.316427], [-120.03665699999999, 39.316334], [-120.004795512304, 39.316475011958495], [-120.005142, 39.291258], [-120.003364028833, 39.1656267640688], [-120.002614842913, 39.112689374095794], [-120.001975250867, 39.0674958744683], [-120.143663, 39.067285], [-120.184098, 39.031014], [-120.435299, 39.028163], [-120.470985, 38.965506999999995], [-120.563747, 38.913705], [-120.642458, 38.944404], [-120.746395, 39.010352], [-120.812295, 39.000133], [-120.858903, 38.952256], [-120.940281, 38.962339], [-121.037502, 38.915689], [-121.040511, 38.915538], [-121.057993, 38.847846], [-121.141009, 38.71198], [-121.30883, 38.722789999999996], [-121.381658, 38.727796], [-121.484396, 38.734598], [-121.469356, 38.925992]]]}}, {\"AFFGEOID\": \"0500000US06015\", \"ALAND\": 2606117983, \"AWATER\": 578742642, \"COUNTYFP\": 15, \"COUNTYNS\": \"01682074\", \"GEOID\": \"06015\", \"LSAD\": \"06\", \"NAME\": \"Del Norte\", \"STATEFP\": 6, \"countyfips\": 15, \"in_t_minus_0\": 893.0, \"in_t_minus_1\": 1116.0, \"in_t_minus_2\": 1415.0, \"in_t_minus_3\": 1271.0, \"in_t_minus_4\": 772.0, \"out_t_minus_0\": 811.0, \"out_t_minus_1\": 974.0, \"out_t_minus_2\": 1226.0, \"out_t_minus_3\": 951.0, \"out_t_minus_4\": 830.0, \"perc_off_in\": -0.6125893569005691, \"perc_off_out\": -0.7330823365761195, \"residual_in\": -547.0422957122082, \"residual_out\": -594.529774963233, \"statefips\": 6, \"y_pred_in\": 1440.0422957122082, \"y_pred_out\": 1405.529774963233, \"type\": \"Feature\", \"geometry\": {\"type\": \"Polygon\", \"coordinates\": [[[-124.219592, 41.846432], [-124.203402, 41.940964], [-124.21160499999999, 41.99846], [-124.001188, 41.996145999999996], [-123.822037598588, 41.995620816947], [-123.656998, 41.995137], [-123.51911283680401, 41.9991725180329], [-123.56544199999999, 41.903141], [-123.64281199999999, 41.889353], [-123.703681, 41.829487], [-123.66020499999999, 41.714054999999995], [-123.719174, 41.595613], [-123.648046, 41.535024], [-123.61179, 41.462126999999995], [-123.661363, 41.38209], [-123.770239, 41.380776], [-123.770551, 41.464193], [-124.067473659422, 41.464736188490896], [-124.081987, 41.547761], [-124.116037, 41.628848999999995], [-124.143479, 41.709284], [-124.154246, 41.728801], [-124.19104, 41.736079], [-124.245027, 41.792300000000004], [-124.219592, 41.846432]]]}}, {\"AFFGEOID\": \"0500000US06043\", \"ALAND\": 3752472149, \"AWATER\": 36225644, \"COUNTYFP\": 43, \"COUNTYNS\": \"00277286\", \"GEOID\": \"06043\", \"LSAD\": \"06\", \"NAME\": \"Mariposa\", \"STATEFP\": 6, \"countyfips\": 43, \"in_t_minus_0\": 869.0, \"in_t_minus_1\": 937.0, \"in_t_minus_2\": 1288.0, \"in_t_minus_3\": 926.0, \"in_t_minus_4\": 634.0, \"out_t_minus_0\": 982.0, \"out_t_minus_1\": 975.0, \"out_t_minus_2\": 1195.0, \"out_t_minus_3\": 949.0, \"out_t_minus_4\": 730.0, \"perc_off_in\": -0.13174577015044117, \"perc_off_out\": -0.38503746746008866, \"residual_in\": -114.48707426073338, \"residual_out\": -378.1067930458071, \"statefips\": 6, \"y_pred_in\": 983.4870742607334, \"y_pred_out\": 1360.106793045807, \"type\": \"Feature\", \"geometry\": {\"type\": \"Polygon\", \"coordinates\": [[[-120.391931, 37.683558999999995], [-120.30631199999999, 37.665419], [-120.345437, 37.724787], [-120.12722600000001, 37.781566], [-120.079508, 37.828807999999995], [-119.907013, 37.757926], [-119.809409, 37.755024999999996], [-119.667203, 37.801224], [-119.646203, 37.846823], [-119.535699, 37.904122], [-119.474295, 37.855623], [-119.426792, 37.866724], [-119.308995, 37.777986], [-119.583585, 37.560334999999995], [-119.58422, 37.494696], [-119.651172, 37.461351], [-119.651191, 37.417832], [-119.761809, 37.417114], [-120.052055, 37.183108], [-120.177636, 37.261525999999996], [-120.38767, 37.633364], [-120.387613, 37.633704], [-120.391931, 37.683558999999995]]]}}, {\"AFFGEOID\": \"0500000US06069\", \"ALAND\": 3596590995, \"AWATER\": 4719296, \"COUNTYFP\": 69, \"COUNTYNS\": \"00277299\", \"GEOID\": \"06069\", \"LSAD\": \"06\", \"NAME\": \"San Benito\", \"STATEFP\": 6, \"countyfips\": 69, \"in_t_minus_0\": 3934.0, \"in_t_minus_1\": 4405.0, \"in_t_minus_2\": 4690.0, \"in_t_minus_3\": 3472.0, \"in_t_minus_4\": 2490.0, \"out_t_minus_0\": 3056.0, \"out_t_minus_1\": 3103.0, \"out_t_minus_2\": 3585.0, \"out_t_minus_3\": 2859.0, \"out_t_minus_4\": 2405.0, \"perc_off_in\": -0.1305377434423777, \"perc_off_out\": -0.3517045929630305, \"residual_in\": -513.5354827023139, \"residual_out\": -1074.8092360950213, \"statefips\": 6, \"y_pred_in\": 4447.535482702314, \"y_pred_out\": 4130.809236095021, \"type\": \"Feature\", \"geometry\": {\"type\": \"Polygon\", \"coordinates\": [[[-121.644001, 36.893996], [-121.581354, 36.899152], [-121.54800900000001, 36.917390999999995], [-121.540016, 36.920764999999996], [-121.534463, 36.930932999999996], [-121.513813, 36.945155], [-121.510185, 36.956019], [-121.501488, 36.971894999999996], [-121.452182, 36.988759], [-121.418246, 36.960549], [-121.215406, 36.961248], [-121.234683, 36.926894], [-121.141523, 36.836656], [-120.918731, 36.740381], [-120.597155, 36.488234999999996], [-120.596562, 36.328488], [-120.678582, 36.267319], [-120.75834, 36.308603999999995], [-120.717696, 36.260011999999996], [-120.718426, 36.196847999999996], [-120.761483, 36.203579999999995], [-120.86508, 36.292578], [-120.920551, 36.311012], [-121.027362, 36.260079999999995], [-121.040797, 36.323969], [-121.193465, 36.445751], [-121.244091, 36.506910999999995], [-121.311788, 36.502736], [-121.318373, 36.610026], [-121.350092, 36.648357], [-121.468086, 36.685518], [-121.45134, 36.724793], [-121.597698, 36.83735], [-121.644001, 36.893996]]]}}, {\"AFFGEOID\": \"0500000US06059\", \"ALAND\": 2053294769, \"AWATER\": 402004844, \"COUNTYFP\": 59, \"COUNTYNS\": \"00277294\", \"GEOID\": \"06059\", \"LSAD\": \"06\", \"NAME\": \"Orange\", \"STATEFP\": 6, \"countyfips\": 59, \"in_t_minus_0\": 98516.0, \"in_t_minus_1\": 101722.0, \"in_t_minus_2\": 129310.0, \"in_t_minus_3\": 101832.0, \"in_t_minus_4\": 79171.0, \"out_t_minus_0\": 112483.0, \"out_t_minus_1\": 119578.0, \"out_t_minus_2\": 151485.0, \"out_t_minus_3\": 112899.0, \"out_t_minus_4\": 86359.0, \"perc_off_in\": -0.080769979995709, \"perc_off_out\": -0.2364498969675862, \"residual_in\": -7957.135349257267, \"residual_out\": -26596.593760605, \"statefips\": 6, \"y_pred_in\": 106473.13534925727, \"y_pred_out\": 139079.593760605, \"type\": \"Feature\", \"geometry\": {\"type\": \"Polygon\", \"coordinates\": [[[-118.093099, 33.786152], [-118.063268, 33.824107], [-118.058655, 33.846126999999996], [-118.02871400000001, 33.866242], [-117.976593, 33.902809999999995], [-117.966691, 33.946058], [-117.919725, 33.947668], [-117.783287, 33.946411], [-117.673134, 33.871005], [-117.67505299999999, 33.868725], [-117.533999, 33.710355], [-117.412987, 33.659045], [-117.457937, 33.602188999999996], [-117.51021, 33.533999], [-117.509722, 33.505019], [-117.508614, 33.469614], [-117.57848, 33.453927], [-117.596188685737, 33.3869649943199], [-117.64558199999999, 33.440728], [-117.715349, 33.460556], [-117.726486, 33.483427], [-117.73225829761401, 33.4879550239786], [-117.814188, 33.552223999999995], [-117.840289, 33.573523], [-117.927091, 33.605520999999996], [-118.000593, 33.654319], [-118.088896, 33.729817], [-118.11507672288201, 33.743803322895], [-118.093099, 33.786152]]]}}, {\"AFFGEOID\": \"0500000US06071\", \"ALAND\": 51954895600, \"AWATER\": 117095140, \"COUNTYFP\": 71, \"COUNTYNS\": \"00277300\", \"GEOID\": \"06071\", \"LSAD\": \"06\", \"NAME\": \"San Bernardino\", \"STATEFP\": 6, \"countyfips\": 71, \"in_t_minus_0\": 93020.0, \"in_t_minus_1\": 98635.0, \"in_t_minus_2\": 120592.0, \"in_t_minus_3\": 93376.0, \"in_t_minus_4\": 74942.0, \"out_t_minus_0\": 90665.0, \"out_t_minus_1\": 95093.0, \"out_t_minus_2\": 116261.0, \"out_t_minus_3\": 89898.0, \"out_t_minus_4\": 73544.0, \"perc_off_in\": -0.05859293481432317, \"perc_off_out\": -0.2302474622667018, \"residual_in\": -5450.314796428342, \"residual_out\": -20875.38616641052, \"statefips\": 6, \"y_pred_in\": 98470.31479642834, \"y_pred_out\": 111540.38616641052, \"type\": \"Feature\", \"geometry\": {\"type\": \"Polygon\", \"coordinates\": [[[-117.802539, 33.975550999999996], [-117.767752, 34.019428999999995], [-117.744342, 34.019852], [-117.711067, 34.079536], [-117.70429, 34.095054999999995], [-117.693545, 34.121627], [-117.677405, 34.166103], [-117.646374, 34.28917], [-117.655235, 34.397222], [-117.667292, 34.822525999999996], [-117.632011, 34.822269999999996], [-117.630126, 35.564071], [-117.616195, 35.680856], [-117.651986, 35.709934], [-117.63299599999999, 35.797250999999996], [-117.251015, 35.795004], [-116.277263, 35.793394], [-115.735891, 35.79362], [-115.648032019625, 35.8096292126029], [-115.647683, 35.809357999999996], [-115.404537, 35.617605], [-115.303743, 35.538207], [-115.160068, 35.424129], [-115.043812, 35.332012], [-114.804249, 35.139689], [-114.633487, 35.001857], [-114.629769, 34.943039999999996], [-114.634382, 34.87289], [-114.576452, 34.8153], [-114.490971, 34.724848], [-114.465246, 34.691202], [-114.422382, 34.580711], [-114.378223, 34.516521], [-114.378852, 34.450376], [-114.335372, 34.450038], [-114.264317, 34.401329], [-114.172845, 34.344978999999995], [-114.14093, 34.305918999999996], [-114.14081715128, 34.3031275138817], [-114.139055, 34.259538], [-114.17805, 34.239968999999995], [-114.229715, 34.186928], [-114.292806, 34.166725], [-114.348052, 34.134457999999995], [-114.405941, 34.11154], [-114.428026, 34.092787], [-114.43009113852001, 34.078931406279494], [-115.316065, 34.077843], [-115.31621200000001, 34.03411], [-116.300631, 34.032544], [-116.929558, 34.034113], [-116.929357, 34.004914], [-117.104737, 34.004014999999995], [-117.121293, 34.003916], [-117.22537299999999, 34.018715], [-117.371588, 34.019399], [-117.375278, 34.033875], [-117.558269, 34.018906], [-117.610947, 33.925114], [-117.65537499999999, 33.924343], [-117.673134, 33.871005], [-117.783287, 33.946411], [-117.802539, 33.975550999999996]]]}}, {\"AFFGEOID\": \"0500000US06005\", \"ALAND\": 1539933577, \"AWATER\": 29470567, \"COUNTYFP\": 5, \"COUNTYNS\": \"01675841\", \"GEOID\": \"06005\", \"LSAD\": \"06\", \"NAME\": \"Amador\", \"STATEFP\": 6, \"countyfips\": 5, \"in_t_minus_0\": 2019.0, \"in_t_minus_1\": 2070.0, \"in_t_minus_2\": 2775.0, \"in_t_minus_3\": 1960.0, \"in_t_minus_4\": 1283.0, \"out_t_minus_0\": 1486.0, \"out_t_minus_1\": 1619.0, \"out_t_minus_2\": 1893.0, \"out_t_minus_3\": 1395.0, \"out_t_minus_4\": 1040.0, \"perc_off_in\": -0.07285150946067535, \"perc_off_out\": -0.5438580026349403, \"residual_in\": -147.08719760110353, \"residual_out\": -808.1729919155214, \"statefips\": 6, \"y_pred_in\": 2166.0871976011035, \"y_pred_out\": 2294.1729919155214, \"type\": \"Feature\", \"geometry\": {\"type\": \"Polygon\", \"coordinates\": [[[-121.027507, 38.508292], [-120.92711299999999, 38.514965], [-120.813554, 38.562193], [-120.62760399999999, 38.503143], [-120.51059599999999, 38.511466999999996], [-120.301721, 38.549109], [-120.21278699999999, 38.629371], [-120.140084, 38.638374], [-120.098322, 38.709029], [-120.07239200000001, 38.702767], [-120.072484, 38.509868999999995], [-120.205702, 38.501039], [-120.33104, 38.465191999999995], [-120.423215, 38.473321999999996], [-120.614881, 38.389407999999996], [-120.63129, 38.340263], [-120.810126, 38.28201], [-120.892864, 38.221574], [-120.995497, 38.225401999999995], [-121.027084, 38.300252], [-121.027507, 38.508292]]]}}, {\"AFFGEOID\": \"0500000US06103\", \"ALAND\": 7638228750, \"AWATER\": 33767783, \"COUNTYFP\": 103, \"COUNTYNS\": \"01692767\", \"GEOID\": \"06103\", \"LSAD\": \"06\", \"NAME\": \"Tehama\", \"STATEFP\": 6, \"countyfips\": 103, \"in_t_minus_0\": 3466.0, \"in_t_minus_1\": 3375.0, \"in_t_minus_2\": 3873.0, \"in_t_minus_3\": 2931.0, \"in_t_minus_4\": 2199.0, \"out_t_minus_0\": 3216.0, \"out_t_minus_1\": 2664.0, \"out_t_minus_2\": 3437.0, \"out_t_minus_3\": 2583.0, \"out_t_minus_4\": 2095.0, \"perc_off_in\": -0.0001412925548405637, \"perc_off_out\": -0.06380820257664083, \"residual_in\": -0.48971999507739383, \"residual_out\": -205.2071794864769, \"statefips\": 6, \"y_pred_in\": 3466.4897199950774, \"y_pred_out\": 3421.207179486477, \"type\": \"Feature\", \"geometry\": {\"type\": \"Polygon\", \"coordinates\": [[[-123.065426, 40.286971], [-122.976548, 40.315162], [-122.918472, 40.306757999999995], [-122.872769, 40.348848], [-122.749393, 40.365522], [-122.651341, 40.328288], [-122.523997, 40.3945], [-122.445021, 40.373398], [-122.310412, 40.371064], [-122.010316, 40.426558], [-121.940989, 40.415330999999995], [-121.806539, 40.44495], [-121.64633, 40.434726], [-121.497635, 40.445591], [-121.470395, 40.350213], [-121.342264, 40.309751], [-121.36839499999999, 40.21223], [-121.436886, 40.151905], [-121.586407, 40.100522], [-121.64603199999999, 39.982527], [-121.70324099999999, 39.98423], [-121.804041, 39.884344], [-122.044865, 39.883770999999996], [-122.046471, 39.797647999999995], [-122.911794, 39.799485], [-122.937654, 39.798156], [-122.950077, 39.907717999999996], [-122.909787, 39.936385], [-122.934013, 39.978131], [-122.989623, 40.145496], [-122.97755, 40.241285], [-123.065426, 40.286971]]]}}, {\"AFFGEOID\": \"0500000US06089\", \"ALAND\": 9778230074, \"AWATER\": 186479459, \"COUNTYFP\": 89, \"COUNTYNS\": \"01682610\", \"GEOID\": \"06089\", \"LSAD\": \"06\", \"NAME\": \"Shasta\", \"STATEFP\": 6, \"countyfips\": 89, \"in_t_minus_0\": 7168.0, \"in_t_minus_1\": 7301.0, \"in_t_minus_2\": 9891.0, \"in_t_minus_3\": 7017.0, \"in_t_minus_4\": 5563.0, \"out_t_minus_0\": 7058.0, \"out_t_minus_1\": 7016.0, \"out_t_minus_2\": 8694.0, \"out_t_minus_3\": 6728.0, \"out_t_minus_4\": 5032.0, \"perc_off_in\": 0.0373072796136792, \"perc_off_out\": -0.2345072720580046, \"residual_in\": 267.41858027085254, \"residual_out\": -1655.1523261853963, \"statefips\": 6, \"y_pred_in\": 6900.5814197291475, \"y_pred_out\": 8713.152326185396, \"type\": \"Feature\", \"geometry\": {\"type\": \"Polygon\", \"coordinates\": [[[-123.068789, 40.332232999999995], [-122.998682, 40.418141999999996], [-122.903738, 40.445071], [-122.845954, 40.505181], [-122.69879, 40.569292999999995], [-122.752023, 40.689882], [-122.669839, 40.773567], [-122.66605799999999, 40.825874999999996], [-122.600458, 40.899749], [-122.60736299999999, 40.957747999999995], [-122.527753, 41.014395], [-122.51335399999999, 41.088226999999996], [-122.457144, 41.096610999999996], [-122.445453, 41.15793], [-122.49837600000001, 41.182674999999996], [-121.446495, 41.183484], [-121.331786, 41.183886], [-121.319976, 40.905885999999995], [-121.327826, 40.445367], [-121.361456, 40.446822], [-121.497635, 40.445591], [-121.64633, 40.434726], [-121.806539, 40.44495], [-121.940989, 40.415330999999995], [-122.010316, 40.426558], [-122.310412, 40.371064], [-122.445021, 40.373398], [-122.523997, 40.3945], [-122.651341, 40.328288], [-122.749393, 40.365522], [-122.872769, 40.348848], [-122.918472, 40.306757999999995], [-122.976548, 40.315162], [-123.065426, 40.286971], [-123.068789, 40.332232999999995]]]}}, {\"AFFGEOID\": \"0500000US06021\", \"ALAND\": 3403160290, \"AWATER\": 33693350, \"COUNTYFP\": 21, \"COUNTYNS\": \"00277275\", \"GEOID\": \"06021\", \"LSAD\": \"06\", \"NAME\": \"Glenn\", \"STATEFP\": 6, \"countyfips\": 21, \"in_t_minus_0\": 1353.0, \"in_t_minus_1\": 1344.0, \"in_t_minus_2\": 1390.0, \"in_t_minus_3\": 1055.0, \"in_t_minus_4\": 902.0, \"out_t_minus_0\": 1256.0, \"out_t_minus_1\": 1125.0, \"out_t_minus_2\": 1278.0, \"out_t_minus_3\": 1042.0, \"out_t_minus_4\": 990.0, \"perc_off_in\": 0.042025027691901605, \"perc_off_out\": -0.0955813110636959, \"residual_in\": 56.859862467142875, \"residual_out\": -120.05012669600205, \"statefips\": 6, \"y_pred_in\": 1296.1401375328571, \"y_pred_out\": 1376.050126696002, \"type\": \"Feature\", \"geometry\": {\"type\": \"Polygon\", \"coordinates\": [[[-122.911794, 39.799485], [-122.046471, 39.797647999999995], [-122.026498, 39.800137], [-121.967868, 39.722397], [-121.94962, 39.732963999999996], [-121.994343, 39.671458], [-121.994021, 39.533926], [-121.856532, 39.536904], [-121.890013, 39.383863999999996], [-122.008857, 39.413567], [-122.136161, 39.414499], [-122.192334, 39.385256999999996], [-122.739062, 39.383266], [-122.73563899999999, 39.580667999999996], [-122.885352, 39.580107999999996], [-122.892676, 39.708898], [-122.937654, 39.798156], [-122.911794, 39.799485]]]}}, {\"AFFGEOID\": \"0500000US06063\", \"ALAND\": 6612400908, \"AWATER\": 156387636, \"COUNTYFP\": 63, \"COUNTYNS\": \"00277296\", \"GEOID\": \"06063\", \"LSAD\": \"06\", \"NAME\": \"Plumas\", \"STATEFP\": 6, \"countyfips\": 63, \"in_t_minus_0\": 957.0, \"in_t_minus_1\": 1076.0, \"in_t_minus_2\": 1445.0, \"in_t_minus_3\": 1041.0, \"in_t_minus_4\": 629.0, \"out_t_minus_0\": 977.0, \"out_t_minus_1\": 848.0, \"out_t_minus_2\": 1137.0, \"out_t_minus_3\": 758.0, \"out_t_minus_4\": 693.0, \"perc_off_in\": -0.2795663149096224, \"perc_off_out\": -0.19812876915560193, \"residual_in\": -267.54496336850866, \"residual_out\": -193.57180746502308, \"statefips\": 6, \"y_pred_in\": 1224.5449633685087, \"y_pred_out\": 1170.571807465023, \"type\": \"Feature\", \"geometry\": {\"type\": \"Polygon\", \"coordinates\": [[[-121.497635, 40.445591], [-121.361456, 40.446822], [-121.327826, 40.445367], [-121.061417, 40.446535999999995], [-121.061493, 40.256417], [-120.928582, 40.191931], [-120.764403, 40.31601], [-120.652158, 40.307656], [-120.510817, 40.248945], [-120.482848, 40.205798], [-120.341385, 40.115243], [-120.209641, 40.086008], [-120.201264, 40.013473999999995], [-120.108761, 39.93951], [-120.110627, 39.765778999999995], [-120.147149, 39.707657999999995], [-120.65422699999999, 39.706629], [-120.68075999999999, 39.676832999999995], [-120.792484, 39.709793999999995], [-120.873261, 39.776168], [-120.949435, 39.672548], [-121.009477, 39.639458999999995], [-121.076695, 39.597263999999996], [-121.136715, 39.628169], [-121.210878, 39.725651], [-121.350821, 39.825703999999995], [-121.429957, 39.900313], [-121.41948, 40.015766], [-121.366818, 40.086054], [-121.436886, 40.151905], [-121.36839499999999, 40.21223], [-121.342264, 40.309751], [-121.470395, 40.350213], [-121.497635, 40.445591]]]}}, {\"AFFGEOID\": \"0500000US06027\", \"ALAND\": 26368508430, \"AWATER\": 119088151, \"COUNTYFP\": 27, \"COUNTYNS\": \"01804637\", \"GEOID\": \"06027\", \"LSAD\": \"06\", \"NAME\": \"Inyo\", \"STATEFP\": 6, \"countyfips\": 27, \"in_t_minus_0\": 866.0, \"in_t_minus_1\": 910.0, \"in_t_minus_2\": 1093.0, \"in_t_minus_3\": 832.0, \"in_t_minus_4\": 577.0, \"out_t_minus_0\": 816.0, \"out_t_minus_1\": 803.0, \"out_t_minus_2\": 980.0, \"out_t_minus_3\": 968.0, \"out_t_minus_4\": 651.0, \"perc_off_in\": -0.0677713114307517, \"perc_off_out\": -0.6312260637119248, \"residual_in\": -58.689955699030975, \"residual_out\": -515.0804679889306, \"statefips\": 6, \"y_pred_in\": 924.689955699031, \"y_pred_out\": 1331.0804679889306, \"type\": \"Feature\", \"geometry\": {\"type\": \"Polygon\", \"coordinates\": [[[-118.775014, 37.463052], [-117.83350404414401, 37.464938766244494], [-117.68061, 37.353398999999996], [-117.244917, 37.030243999999996], [-117.16600056403101, 36.9712075385903], [-117.000895, 36.847694], [-116.48823300000001, 36.459097], [-116.37587500000001, 36.372561999999995], [-116.093601, 36.155805], [-115.892975, 35.999967], [-115.846113922762, 35.9635526731109], [-115.648032019625, 35.8096292126029], [-115.735891, 35.79362], [-116.277263, 35.793394], [-117.251015, 35.795004], [-117.63299599999999, 35.797250999999996], [-117.924459, 35.798148999999995], [-118.008043, 35.789161], [-118.005489, 35.862699], [-117.980761, 35.867515], [-118.003577, 35.983717999999996], [-118.03361100000001, 36.008944], [-118.12714700000001, 36.279655999999996], [-118.100317, 36.346137], [-118.21482, 36.435036], [-118.239021, 36.523635], [-118.29052300000001, 36.558535], [-118.274624, 36.597334], [-118.366328, 36.691635], [-118.360586, 36.744772999999995], [-118.389758, 36.834466], [-118.36083099999999, 36.887734], [-118.437137, 37.059818], [-118.59266099999999, 37.138147], [-118.654593, 37.141826], [-118.716016, 37.328208], [-118.78673599999999, 37.343379999999996], [-118.775014, 37.463052]]]}}, {\"AFFGEOID\": \"0500000US06067\", \"ALAND\": 2500490904, \"AWATER\": 74894369, \"COUNTYFP\": 67, \"COUNTYNS\": \"00277298\", \"GEOID\": \"06067\", \"LSAD\": \"06\", \"NAME\": \"Sacramento\", \"STATEFP\": 6, \"countyfips\": 67, \"in_t_minus_0\": 56521.0, \"in_t_minus_1\": 59036.0, \"in_t_minus_2\": 74342.0, \"in_t_minus_3\": 56112.0, \"in_t_minus_4\": 41237.0, \"out_t_minus_0\": 55812.0, \"out_t_minus_1\": 57480.0, \"out_t_minus_2\": 71518.0, \"out_t_minus_3\": 52517.0, \"out_t_minus_4\": 37696.0, \"perc_off_in\": -0.08518323129099761, \"perc_off_out\": -0.27960746555383326, \"residual_in\": -4814.641415798476, \"residual_out\": -15605.451867490541, \"statefips\": 6, \"y_pred_in\": 61335.64141579848, \"y_pred_out\": 71417.45186749054, \"type\": \"Feature\", \"geometry\": {\"type\": \"Polygon\", \"coordinates\": [[[-121.862462, 38.06603], [-121.71213, 38.085519999999995], [-121.685645, 38.159644], [-121.615413, 38.195696], [-121.593273, 38.313089], [-121.521641, 38.360104], [-121.50509, 38.469563], [-121.558701, 38.501939], [-121.551782, 38.513861], [-121.524018, 38.520868], [-121.53089299999999, 38.529365], [-121.513706, 38.540107], [-121.51129, 38.54629], [-121.520965, 38.566205], [-121.506269, 38.586304999999996], [-121.511566, 38.600904], [-121.527667, 38.604603999999995], [-121.544567, 38.597704], [-121.553609, 38.603325999999996], [-121.633774, 38.686164], [-121.60289399999999, 38.735838], [-121.559868, 38.736301999999995], [-121.484396, 38.734598], [-121.381658, 38.727796], [-121.30883, 38.722789999999996], [-121.141009, 38.71198], [-121.118617, 38.717118], [-121.027507, 38.508292], [-121.027084, 38.300252], [-121.222512, 38.244406], [-121.28226699999999, 38.249835999999995], [-121.39819299999999, 38.227427], [-121.448142, 38.255008], [-121.472138, 38.259659], [-121.580022, 38.094414], [-121.673065, 38.093517999999996], [-121.737824, 38.02663], [-121.80127, 38.021622], [-121.862462, 38.06603]]]}}, {\"AFFGEOID\": \"0500000US06031\", \"ALAND\": 3600883824, \"AWATER\": 3162664, \"COUNTYFP\": 31, \"COUNTYNS\": \"00277280\", \"GEOID\": \"06031\", \"LSAD\": \"06\", \"NAME\": \"Kings\", \"STATEFP\": 6, \"countyfips\": 31, \"in_t_minus_0\": 6591.0, \"in_t_minus_1\": 6964.0, \"in_t_minus_2\": 8702.0, \"in_t_minus_3\": 6115.0, \"in_t_minus_4\": 5312.0, \"out_t_minus_0\": 6684.0, \"out_t_minus_1\": 7089.0, \"out_t_minus_2\": 9524.0, \"out_t_minus_3\": 7519.0, \"out_t_minus_4\": 5797.0, \"perc_off_in\": 0.05332075843157136, \"perc_off_out\": -0.2625566954444518, \"residual_in\": 351.4371188224868, \"residual_out\": -1754.928952350716, \"statefips\": 6, \"y_pred_in\": 6239.562881177513, \"y_pred_out\": 8438.928952350716, \"type\": \"Feature\", \"geometry\": {\"type\": \"Polygon\", \"coordinates\": [[[-120.315068, 35.907185999999996], [-119.959058, 36.181747], [-119.959227, 36.400974999999995], [-119.754213, 36.402023], [-119.66640000000001, 36.41888], [-119.573194, 36.488835], [-119.528286, 36.487545], [-119.528792, 36.401465], [-119.474892, 36.400953], [-119.47460699999999, 36.269025], [-119.529358, 36.26985], [-119.53616099999999, 36.050782], [-119.538116, 35.789567], [-120.194146, 35.789204], [-120.213979, 35.789276], [-120.27575999999999, 35.905881], [-120.315068, 35.907185999999996]]]}}, {\"AFFGEOID\": \"0500000US06017\", \"ALAND\": 4423290468, \"AWATER\": 203328472, \"COUNTYFP\": 17, \"COUNTYNS\": \"00277273\", \"GEOID\": \"06017\", \"LSAD\": \"06\", \"NAME\": \"El Dorado\", \"STATEFP\": 6, \"countyfips\": 17, \"in_t_minus_0\": 10501.0, \"in_t_minus_1\": 12099.0, \"in_t_minus_2\": 15850.0, \"in_t_minus_3\": 10532.0, \"in_t_minus_4\": 7131.0, \"out_t_minus_0\": 9348.0, \"out_t_minus_1\": 9418.0, \"out_t_minus_2\": 11148.0, \"out_t_minus_3\": 8502.0, \"out_t_minus_4\": 6506.0, \"perc_off_in\": -0.11413444714352157, \"perc_off_out\": -0.34442760574350473, \"residual_in\": -1198.52582945412, \"residual_out\": -3219.709258490282, \"statefips\": 6, \"y_pred_in\": 11699.52582945412, \"y_pred_out\": 12567.709258490282, \"type\": \"Feature\", \"geometry\": {\"type\": \"Polygon\", \"coordinates\": [[[-121.141009, 38.71198], [-121.057993, 38.847846], [-121.040511, 38.915538], [-121.037502, 38.915689], [-120.940281, 38.962339], [-120.858903, 38.952256], [-120.812295, 39.000133], [-120.746395, 39.010352], [-120.642458, 38.944404], [-120.563747, 38.913705], [-120.470985, 38.965506999999995], [-120.435299, 39.028163], [-120.184098, 39.031014], [-120.143663, 39.067285], [-120.001975250867, 39.0674958744683], [-120.001014, 38.999573999999996], [-119.904315, 38.933324], [-119.877287, 38.870193], [-119.96494799999999, 38.775985999999996], [-120.07239200000001, 38.702767], [-120.098322, 38.709029], [-120.140084, 38.638374], [-120.21278699999999, 38.629371], [-120.301721, 38.549109], [-120.51059599999999, 38.511466999999996], [-120.62760399999999, 38.503143], [-120.813554, 38.562193], [-120.92711299999999, 38.514965], [-121.027507, 38.508292], [-121.118617, 38.717118], [-121.141009, 38.71198]]]}}, {\"AFFGEOID\": \"0500000US06079\", \"ALAND\": 8548611925, \"AWATER\": 815519172, \"COUNTYFP\": 79, \"COUNTYNS\": \"00277304\", \"GEOID\": \"06079\", \"LSAD\": \"06\", \"NAME\": \"San Luis Obispo\", \"STATEFP\": 6, \"countyfips\": 79, \"in_t_minus_0\": 10321.0, \"in_t_minus_1\": 11090.0, \"in_t_minus_2\": 14516.0, \"in_t_minus_3\": 11309.0, \"in_t_minus_4\": 8408.0, \"out_t_minus_0\": 10485.0, \"out_t_minus_1\": 10763.0, \"out_t_minus_2\": 13592.0, \"out_t_minus_3\": 10578.0, \"out_t_minus_4\": 7447.0, \"perc_off_in\": -0.12368008742397267, \"perc_off_out\": -0.33051270999243487, \"residual_in\": -1276.502182302822, \"residual_out\": -3465.42576427068, \"statefips\": 6, \"y_pred_in\": 11597.502182302822, \"y_pred_out\": 13950.42576427068, \"type\": \"Feature\", \"geometry\": {\"type\": \"Polygon\", \"coordinates\": [[[-121.347053956004, 35.7951862038146], [-120.75065000000001, 35.791131], [-120.213979, 35.789276], [-120.194146, 35.789204], [-120.193918, 35.614359], [-120.085922, 35.614523999999996], [-120.086674, 35.526554], [-119.913659, 35.439262], [-119.880045, 35.439133], [-119.880172, 35.351211], [-119.809346, 35.350865], [-119.809449, 35.263584], [-119.666663, 35.262527], [-119.667056, 35.174808999999996], [-119.553641, 35.179975], [-119.560975, 35.087672999999995], [-119.472719, 35.076885], [-119.472754, 34.901174], [-119.535757, 34.897576], [-119.672963, 34.973375], [-119.745566, 34.973676], [-119.92841899999999, 35.059794], [-119.980122, 35.057573], [-120.082084, 35.114678], [-120.167616, 35.075297], [-120.188383, 35.030378], [-120.334548, 35.006315], [-120.301827, 34.905571], [-120.435473, 34.986759], [-120.496222, 34.993155], [-120.65030521184, 34.975166302268704], [-120.63356999999999, 35.033085], [-120.629583, 35.078362], [-120.635787, 35.123805], [-120.675074, 35.153061], [-120.714185, 35.175998], [-120.756086, 35.160458999999996], [-120.84667400000001, 35.204429], [-120.89679, 35.247876999999995], [-120.87957, 35.294184], [-120.862133, 35.360763], [-120.88475700000001, 35.430195999999995], [-120.955863, 35.453742999999996], [-121.003359, 35.46071], [-121.11424, 35.57172], [-121.166712, 35.635399], [-121.272322, 35.666711], [-121.314632, 35.71331], [-121.332449, 35.783106], [-121.347053956004, 35.7951862038146]]]}}], \"data-8fdaa74652c82426945ff99cabde5676\": [{\"in_t_minus_0\": 0, \"y_pred_in\": 0}, {\"in_t_minus_0\": 200000, \"y_pred_in\": 200000}]}}, {\"mode\": \"vega-lite\"});\n</script>",
      "text/plain": "alt.LayerChart(...)"
     },
     "metadata": {}
    }
   ]
  },
  {
   "cell_type": "code",
   "metadata": {
    "cell_id": "0e591a01-5b31-4145-bb10-ed0e84872e32",
    "tags": [],
    "deepnote_to_be_reexecuted": false,
    "source_hash": "9c4b8326",
    "execution_start": 1643402836550,
    "execution_millis": 25,
    "deepnote_output_heights": [
     291
    ],
    "deepnote_cell_type": "code"
   },
   "source": "alt.Chart(geo_df).mark_geoshape().encode(\n    color=alt.Color('perc_off_out',scale=alt.Scale(scheme='blueorange', domain=[-1, 1]),legend=alt.Legend(format=\".0%\")),\n    tooltip=['NAME','perc_off_out']\n).properties(height=250,width=150,title='Percent off (close to 0 is good)')",
   "execution_count": null,
   "outputs": [
    {
     "output_type": "execute_result",
     "execution_count": 12,
     "data": {
      "text/html": "\n<div id=\"altair-viz-7123be684f7a48b2a0bdefa10481b56c\"></div>\n<script type=\"text/javascript\">\n  (function(spec, embedOpt){\n    let outputDiv = document.currentScript.previousElementSibling;\n    if (outputDiv.id !== \"altair-viz-7123be684f7a48b2a0bdefa10481b56c\") {\n      outputDiv = document.getElementById(\"altair-viz-7123be684f7a48b2a0bdefa10481b56c\");\n    }\n    const paths = {\n      \"vega\": \"https://cdn.jsdelivr.net/npm//vega@5?noext\",\n      \"vega-lib\": \"https://cdn.jsdelivr.net/npm//vega-lib?noext\",\n      \"vega-lite\": \"https://cdn.jsdelivr.net/npm//vega-lite@4.8.1?noext\",\n      \"vega-embed\": \"https://cdn.jsdelivr.net/npm//vega-embed@6?noext\",\n    };\n\n    function loadScript(lib) {\n      return new Promise(function(resolve, reject) {\n        var s = document.createElement('script');\n        s.src = paths[lib];\n        s.async = true;\n        s.onload = () => resolve(paths[lib]);\n        s.onerror = () => reject(`Error loading script: ${paths[lib]}`);\n        document.getElementsByTagName(\"head\")[0].appendChild(s);\n      });\n    }\n\n    function showError(err) {\n      outputDiv.innerHTML = `<div class=\"error\" style=\"color:red;\">${err}</div>`;\n      throw err;\n    }\n\n    function displayChart(vegaEmbed) {\n      vegaEmbed(outputDiv, spec, embedOpt)\n        .catch(err => showError(`Javascript Error: ${err.message}<br>This usually means there's a typo in your chart specification. See the javascript console for the full traceback.`));\n    }\n\n    if(typeof define === \"function\" && define.amd) {\n      requirejs.config({paths});\n      require([\"vega-embed\"], displayChart, err => showError(`Error loading script: ${err.message}`));\n    } else if (typeof vegaEmbed === \"function\") {\n      displayChart(vegaEmbed);\n    } else {\n      loadScript(\"vega\")\n        .then(() => loadScript(\"vega-lite\"))\n        .then(() => loadScript(\"vega-embed\"))\n        .catch(showError)\n        .then(() => displayChart(vegaEmbed));\n    }\n  })({\"config\": {\"view\": {\"continuousWidth\": 400, \"continuousHeight\": 300}}, \"data\": {\"name\": \"data-bdc145069dee164ef013aa6867befd6f\"}, \"mark\": \"geoshape\", \"encoding\": {\"color\": {\"type\": \"quantitative\", \"field\": \"perc_off_out\", \"legend\": {\"format\": \".0%\"}, \"scale\": {\"domain\": [-1, 1], \"scheme\": \"blueorange\"}}, \"tooltip\": [{\"type\": \"nominal\", \"field\": \"NAME\"}, {\"type\": \"quantitative\", \"field\": \"perc_off_out\"}]}, \"height\": 250, \"title\": \"Percent off (close to 0 is good)\", \"width\": 150, \"$schema\": \"https://vega.github.io/schema/vega-lite/v4.8.1.json\", \"datasets\": {\"data-bdc145069dee164ef013aa6867befd6f\": [{\"AFFGEOID\": \"0500000US06049\", \"ALAND\": 10140960152, \"AWATER\": 745420661, \"COUNTYFP\": 49, \"COUNTYNS\": \"00277289\", \"GEOID\": \"06049\", \"LSAD\": \"06\", \"NAME\": \"Modoc\", \"STATEFP\": 6, \"countyfips\": 49, \"in_t_minus_0\": 360.0, \"in_t_minus_1\": 364.0, \"in_t_minus_2\": 503.0, \"in_t_minus_3\": 356.0, \"in_t_minus_4\": 292.0, \"out_t_minus_0\": 343.0, \"out_t_minus_1\": 411.0, \"out_t_minus_2\": 426.0, \"out_t_minus_3\": 372.0, \"out_t_minus_4\": 284.0, \"perc_off_in\": 0.01896147460916748, \"perc_off_out\": -0.824858640725814, \"residual_in\": 6.826130859300292, \"residual_out\": -282.92651376895424, \"statefips\": 6, \"y_pred_in\": 353.1738691406997, \"y_pred_out\": 625.9265137689542, \"type\": \"Feature\", \"geometry\": {\"type\": \"Polygon\", \"coordinates\": [[[-121.457213, 41.949945], [-121.447539998048, 41.997190033272595], [-121.43961, 41.99708], [-121.251099, 41.997569999999996], [-121.035195, 41.993323], [-120.87992571023601, 41.9934832599849], [-120.692219, 41.993677], [-120.501069, 41.993784999999995], [-120.181563, 41.994588], [-119.999168, 41.99454], [-119.999276, 41.874891], [-119.99828, 41.618764999999996], [-119.999866, 41.183974], [-120.501404, 41.18394], [-121.331786, 41.183886], [-121.446495, 41.183484], [-121.448981, 41.776392], [-121.457213, 41.949945]]]}}, {\"AFFGEOID\": \"0500000US06055\", \"ALAND\": 1938114186, \"AWATER\": 104300794, \"COUNTYFP\": 55, \"COUNTYNS\": \"00277292\", \"GEOID\": \"06055\", \"LSAD\": \"06\", \"NAME\": \"Napa\", \"STATEFP\": 6, \"countyfips\": 55, \"in_t_minus_0\": 5288.0, \"in_t_minus_1\": 5859.0, \"in_t_minus_2\": 7117.0, \"in_t_minus_3\": 6051.0, \"in_t_minus_4\": 4520.0, \"out_t_minus_0\": 6081.0, \"out_t_minus_1\": 6531.0, \"out_t_minus_2\": 8135.0, \"out_t_minus_3\": 6400.0, \"out_t_minus_4\": 4702.0, \"perc_off_in\": -0.22760588446512828, \"perc_off_out\": -0.3477280774030244, \"residual_in\": -1203.5799170515984, \"residual_out\": -2114.5344386877914, \"statefips\": 6, \"y_pred_in\": 6491.579917051598, \"y_pred_out\": 8195.534438687791, \"type\": \"Feature\", \"geometry\": {\"type\": \"Polygon\", \"coordinates\": [[[-122.627396, 38.667505999999996], [-122.46388999999999, 38.705203], [-122.397989, 38.804001], [-122.395056, 38.864245], [-122.287998, 38.839931], [-122.224206, 38.699984], [-122.168301, 38.655296], [-122.103281, 38.513348], [-122.126389, 38.428917999999996], [-122.061379, 38.327411], [-122.205982, 38.315712999999995], [-122.195971, 38.162991], [-122.213464, 38.154894], [-122.406786, 38.155632], [-122.349564, 38.193971999999995], [-122.543893, 38.519966], [-122.602659, 38.557496], [-122.646421, 38.598593], [-122.627396, 38.667505999999996]]]}}, {\"AFFGEOID\": \"0500000US06099\", \"ALAND\": 3874662824, \"AWATER\": 46356389, \"COUNTYFP\": 99, \"COUNTYNS\": \"00277314\", \"GEOID\": \"06099\", \"LSAD\": \"06\", \"NAME\": \"Stanislaus\", \"STATEFP\": 6, \"countyfips\": 99, \"in_t_minus_0\": 18444.0, \"in_t_minus_1\": 19614.0, \"in_t_minus_2\": 25513.0, \"in_t_minus_3\": 19878.0, \"in_t_minus_4\": 14405.0, \"out_t_minus_0\": 18727.0, \"out_t_minus_1\": 18903.0, \"out_t_minus_2\": 22557.0, \"out_t_minus_3\": 16768.0, \"out_t_minus_4\": 13311.0, \"perc_off_in\": -0.13524987057663362, \"perc_off_out\": -0.233551532939969, \"residual_in\": -2494.5486129154306, \"residual_out\": -4373.7195573668, \"statefips\": 6, \"y_pred_in\": 20938.54861291543, \"y_pred_out\": 23100.7195573668, \"type\": \"Feature\", \"geometry\": {\"type\": \"Polygon\", \"coordinates\": [[[-121.471925, 37.481783], [-121.241219, 37.664009], [-121.110049, 37.742128], [-120.995696, 37.760177999999996], [-120.920993, 37.737947], [-120.92644899999999, 38.077421], [-120.653274, 37.831858], [-120.387613, 37.633704], [-120.38767, 37.633364], [-120.989811, 37.395871], [-120.963812, 37.346143999999995], [-121.226804, 37.134774], [-121.282271, 37.183675], [-121.399451, 37.150386], [-121.459051, 37.282739], [-121.405753, 37.31099], [-121.47264799999999, 37.482169999999996], [-121.471925, 37.481783]]]}}, {\"AFFGEOID\": \"0500000US06077\", \"ALAND\": 3606263159, \"AWATER\": 88974329, \"COUNTYFP\": 77, \"COUNTYNS\": \"00277303\", \"GEOID\": \"06077\", \"LSAD\": \"06\", \"NAME\": \"San Joaquin\", \"STATEFP\": 6, \"countyfips\": 77, \"in_t_minus_0\": 30570.0, \"in_t_minus_1\": 32264.0, \"in_t_minus_2\": 40373.0, \"in_t_minus_3\": 30164.0, \"in_t_minus_4\": 22023.0, \"out_t_minus_0\": 26740.0, \"out_t_minus_1\": 26928.0, \"out_t_minus_2\": 32433.0, \"out_t_minus_3\": 24640.0, \"out_t_minus_4\": 18865.0, \"perc_off_in\": -0.0770328383017382, \"perc_off_out\": -0.28487665984435573, \"residual_in\": -2354.8938668841365, \"residual_out\": -7617.601884238073, \"statefips\": 6, \"y_pred_in\": 32924.89386688414, \"y_pred_out\": 34357.60188423807, \"type\": \"Feature\", \"geometry\": {\"type\": \"Polygon\", \"coordinates\": [[[-121.580022, 38.094414], [-121.472138, 38.259659], [-121.448142, 38.255008], [-121.39819299999999, 38.227427], [-121.28226699999999, 38.249835999999995], [-121.222512, 38.244406], [-121.027084, 38.300252], [-120.995497, 38.225401999999995], [-120.942113, 38.096328], [-120.92644899999999, 38.077421], [-120.920993, 37.737947], [-120.995696, 37.760177999999996], [-121.110049, 37.742128], [-121.241219, 37.664009], [-121.471925, 37.481783], [-121.556655, 37.542732], [-121.556959, 37.743051], [-121.556997, 37.816488], [-121.534167, 37.849022999999995], [-121.580022, 38.094414]]]}}, {\"AFFGEOID\": \"0500000US06011\", \"ALAND\": 2980332864, \"AWATER\": 14608870, \"COUNTYFP\": 11, \"COUNTYNS\": \"01675902\", \"GEOID\": \"06011\", \"LSAD\": \"06\", \"NAME\": \"Colusa\", \"STATEFP\": 6, \"countyfips\": 11, \"in_t_minus_0\": 763.0, \"in_t_minus_1\": 791.0, \"in_t_minus_2\": 921.0, \"in_t_minus_3\": 847.0, \"in_t_minus_4\": 659.0, \"out_t_minus_0\": 672.0, \"out_t_minus_1\": 797.0, \"out_t_minus_2\": 952.0, \"out_t_minus_3\": 676.0, \"out_t_minus_4\": 742.0, \"perc_off_in\": -0.24840480177535257, \"perc_off_out\": -0.36226130769737624, \"residual_in\": -189.53286375459402, \"residual_out\": -243.43959877263683, \"statefips\": 6, \"y_pred_in\": 952.532863754594, \"y_pred_out\": 915.4395987726368, \"type\": \"Feature\", \"geometry\": {\"type\": \"Polygon\", \"coordinates\": [[[-122.78509, 39.382974999999995], [-122.739062, 39.383266], [-122.192334, 39.385256999999996], [-122.136161, 39.414499], [-122.008857, 39.413567], [-121.890013, 39.383863999999996], [-121.899109, 39.357285999999995], [-121.908269, 39.303878], [-121.945514, 39.179843], [-121.889101, 39.072373], [-121.795366, 38.995686], [-121.835488, 38.924481], [-122.340172, 38.924246], [-122.409118, 38.962793], [-122.413416, 39.020218], [-122.491278, 39.052991], [-122.47729, 39.17395], [-122.680927, 39.238726], [-122.775043, 39.311778], [-122.743482, 39.36813], [-122.78509, 39.382974999999995]]]}}, {\"AFFGEOID\": \"0500000US06023\", \"ALAND\": 9241527430, \"AWATER\": 1253763757, \"COUNTYFP\": 23, \"COUNTYNS\": \"01681908\", \"GEOID\": \"06023\", \"LSAD\": \"06\", \"NAME\": \"Humboldt\", \"STATEFP\": 6, \"countyfips\": 23, \"in_t_minus_0\": 3943.0, \"in_t_minus_1\": 3946.0, \"in_t_minus_2\": 5467.0, \"in_t_minus_3\": 4351.0, \"in_t_minus_4\": 2936.0, \"out_t_minus_0\": 4417.0, \"out_t_minus_1\": 4704.0, \"out_t_minus_2\": 6008.0, \"out_t_minus_3\": 4080.0, \"out_t_minus_4\": 2933.0, \"perc_off_in\": -0.17537496955602166, \"perc_off_out\": -0.30306822640237163, \"residual_in\": -691.5035049593935, \"residual_out\": -1338.6523560192754, \"statefips\": 6, \"y_pred_in\": 4634.5035049593935, \"y_pred_out\": 5755.652356019275, \"type\": \"Feature\", \"geometry\": {\"type\": \"Polygon\", \"coordinates\": [[[-124.387023, 40.504954], [-124.301355, 40.659642999999996], [-124.176715, 40.843618], [-124.118147, 40.989263], [-124.125448, 41.048504], [-124.154513, 41.087159], [-124.163988, 41.138675], [-124.122677, 41.189726], [-124.092284, 41.287695], [-124.063076, 41.439578999999995], [-124.067473659422, 41.464736188490896], [-123.770551, 41.464193], [-123.770239, 41.380776], [-123.661363, 41.38209], [-123.487831, 41.376934], [-123.40829099999999, 41.179944], [-123.464006, 41.076347999999996], [-123.406082, 41.013791999999995], [-123.481457, 40.914957], [-123.560163, 40.950257], [-123.623826, 40.929421], [-123.55985, 40.829584], [-123.544059, 40.739385999999996], [-123.54445799999999, 40.001923], [-124.02520517453002, 40.001299341669004], [-124.035904, 40.013318999999996], [-124.068908, 40.021307], [-124.087086, 40.078441999999995], [-124.139952, 40.11635], [-124.187874, 40.130542], [-124.258405, 40.184277], [-124.34307, 40.243978999999996], [-124.363414, 40.260974], [-124.353124, 40.331424999999996], [-124.365357, 40.374855], [-124.409591, 40.438075999999995], [-124.387023, 40.504954]]]}}, {\"AFFGEOID\": \"0500000US06105\", \"ALAND\": 8234265085, \"AWATER\": 73407950, \"COUNTYFP\": 105, \"COUNTYNS\": \"00277317\", \"GEOID\": \"06105\", \"LSAD\": \"06\", \"NAME\": \"Trinity\", \"STATEFP\": 6, \"countyfips\": 105, \"in_t_minus_0\": 332.0, \"in_t_minus_1\": 452.0, \"in_t_minus_2\": 632.0, \"in_t_minus_3\": 390.0, \"in_t_minus_4\": 331.0, \"out_t_minus_0\": 443.0, \"out_t_minus_1\": 421.0, \"out_t_minus_2\": 571.0, \"out_t_minus_3\": 454.0, \"out_t_minus_4\": 355.0, \"perc_off_in\": -0.19355988589405945, \"perc_off_out\": -0.42357383813016597, \"residual_in\": -64.26188211682773, \"residual_out\": -187.64321029166354, \"statefips\": 6, \"y_pred_in\": 396.26188211682773, \"y_pred_out\": 630.6432102916635, \"type\": \"Feature\", \"geometry\": {\"type\": \"Polygon\", \"coordinates\": [[[-123.560163, 40.950257], [-123.481457, 40.914957], [-123.406082, 41.013791999999995], [-123.464006, 41.076347999999996], [-123.40829099999999, 41.179944], [-123.273402, 41.122890999999996], [-123.23948, 41.075762999999995], [-123.109077, 41.075429], [-123.03680800000001, 41.004058], [-122.917529, 40.99399], [-122.897411, 41.028475], [-122.973382, 41.112074], [-122.885921, 41.205141999999995], [-122.811342, 41.202450999999996], [-122.653686, 41.289237], [-122.585241, 41.359007999999996], [-122.50389, 41.342985], [-122.522636, 41.213525], [-122.49837600000001, 41.182674999999996], [-122.445453, 41.15793], [-122.457144, 41.096610999999996], [-122.51335399999999, 41.088226999999996], [-122.527753, 41.014395], [-122.60736299999999, 40.957747999999995], [-122.600458, 40.899749], [-122.66605799999999, 40.825874999999996], [-122.669839, 40.773567], [-122.752023, 40.689882], [-122.69879, 40.569292999999995], [-122.845954, 40.505181], [-122.903738, 40.445071], [-122.998682, 40.418141999999996], [-123.068789, 40.332232999999995], [-123.065426, 40.286971], [-122.97755, 40.241285], [-122.989623, 40.145496], [-122.934013, 39.978131], [-123.544563, 39.977015], [-123.54445799999999, 40.001923], [-123.544059, 40.739385999999996], [-123.55985, 40.829584], [-123.623826, 40.929421], [-123.560163, 40.950257]]]}}, {\"AFFGEOID\": \"0500000US06029\", \"ALAND\": 21062456129, \"AWATER\": 78764641, \"COUNTYFP\": 29, \"COUNTYNS\": \"02054176\", \"GEOID\": \"06029\", \"LSAD\": \"06\", \"NAME\": \"Kern\", \"STATEFP\": 6, \"countyfips\": 29, \"in_t_minus_0\": 25797.0, \"in_t_minus_1\": 26103.0, \"in_t_minus_2\": 31152.0, \"in_t_minus_3\": 23945.0, \"in_t_minus_4\": 19276.0, \"out_t_minus_0\": 24531.0, \"out_t_minus_1\": 24979.0, \"out_t_minus_2\": 32122.0, \"out_t_minus_3\": 25548.0, \"out_t_minus_4\": 19850.0, \"perc_off_in\": 0.0025314955389153936, \"perc_off_out\": -0.24073209798956596, \"residual_in\": 65.3049904174004, \"residual_out\": -5905.399095782042, \"statefips\": 6, \"y_pred_in\": 25731.6950095826, \"y_pred_out\": 30436.399095782042, \"type\": \"Feature\", \"geometry\": {\"type\": \"Polygon\", \"coordinates\": [[[-120.194146, 35.789204], [-119.538116, 35.789567], [-119.053437, 35.790748], [-118.803729, 35.790347], [-118.067719, 35.791537], [-118.008043, 35.789161], [-117.924459, 35.798148999999995], [-117.63299599999999, 35.797250999999996], [-117.651986, 35.709934], [-117.616195, 35.680856], [-117.630126, 35.564071], [-117.632011, 34.822269999999996], [-117.667292, 34.822525999999996], [-117.774368, 34.823301], [-118.326281, 34.819725999999996], [-118.894634, 34.817972], [-118.88136399999999, 34.790628999999996], [-118.976721, 34.812199], [-119.243645, 34.814178], [-119.276946, 34.879675], [-119.442352, 34.901274], [-119.472754, 34.901174], [-119.472719, 35.076885], [-119.560975, 35.087672999999995], [-119.553641, 35.179975], [-119.667056, 35.174808999999996], [-119.666663, 35.262527], [-119.809449, 35.263584], [-119.809346, 35.350865], [-119.880172, 35.351211], [-119.880045, 35.439133], [-119.913659, 35.439262], [-120.086674, 35.526554], [-120.085922, 35.614523999999996], [-120.193918, 35.614359], [-120.194146, 35.789204]]]}}, {\"AFFGEOID\": \"0500000US06111\", \"ALAND\": 4771968316, \"AWATER\": 947365005, \"COUNTYFP\": 111, \"COUNTYNS\": \"00277320\", \"GEOID\": \"06111\", \"LSAD\": \"06\", \"NAME\": \"Ventura\", \"STATEFP\": 6, \"countyfips\": 111, \"in_t_minus_0\": 27274.0, \"in_t_minus_1\": 28615.0, \"in_t_minus_2\": 37860.0, \"in_t_minus_3\": 28797.0, \"in_t_minus_4\": 21668.0, \"out_t_minus_0\": 30430.0, \"out_t_minus_1\": 31749.0, \"out_t_minus_2\": 39935.0, \"out_t_minus_3\": 32264.0, \"out_t_minus_4\": 24380.0, \"perc_off_in\": -0.05971301234607665, \"perc_off_out\": -0.29413329011318445, \"residual_in\": -1628.6126987268945, \"residual_out\": -8950.476018144203, \"statefips\": 6, \"y_pred_in\": 28902.612698726894, \"y_pred_out\": 39380.4760181442, \"type\": \"Feature\", \"geometry\": {\"type\": \"MultiPolygon\", \"coordinates\": [[[[-119.47794670672401, 34.378837558775594], [-119.44599099999999, 34.404067], [-119.442269, 34.463949], [-119.442353, 34.561101], [-119.442352, 34.901274], [-119.276946, 34.879675], [-119.243645, 34.814178], [-118.976721, 34.812199], [-118.88136399999999, 34.790628999999996], [-118.738618, 34.498968999999995], [-118.652285, 34.323392], [-118.633461, 34.269521999999995], [-118.667708, 34.236692], [-118.667944, 34.199166], [-118.693834, 34.168557], [-118.723374, 34.167860999999995], [-118.788889, 34.168214], [-118.856473, 34.126765], [-118.940801, 34.074967], [-118.94447951145901, 34.046738953351], [-118.954722, 34.048167], [-119.069959, 34.090469999999996], [-119.10978399999999, 34.094566], [-119.227743, 34.161728], [-119.257043, 34.213304], [-119.270144, 34.252902999999996], [-119.276614251859, 34.2563404250143], [-119.313034, 34.275689], [-119.37577999999999, 34.321118], [-119.46103600000001, 34.374064], [-119.47794670672401, 34.378837558775594]]], [[[-119.47073665694401, 34.053996622104], [-119.442654, 34.054156], [-119.364214, 34.050793999999996], [-119.363065, 34.000548], [-119.391587, 33.994636], [-119.48771955738201, 33.99651515438929], [-119.47073665694401, 34.053996622104]]], [[[-119.578942, 33.278628], [-119.510489, 33.307269], [-119.427171, 33.266023], [-119.429559, 33.228167], [-119.464725, 33.215432], [-119.545872, 33.233405999999995], [-119.578942, 33.278628]]]]}}, {\"AFFGEOID\": \"0500000US06003\", \"ALAND\": 1912292630, \"AWATER\": 12557304, \"COUNTYFP\": 3, \"COUNTYNS\": \"01675840\", \"GEOID\": \"06003\", \"LSAD\": \"06\", \"NAME\": \"Alpine\", \"STATEFP\": 6, \"countyfips\": 3, \"in_t_minus_0\": 49.0, \"in_t_minus_1\": 43.0, \"in_t_minus_2\": 80.0, \"in_t_minus_3\": 51.0, \"in_t_minus_4\": 0.0, \"out_t_minus_0\": 56.0, \"out_t_minus_1\": 68.0, \"out_t_minus_2\": 84.0, \"out_t_minus_3\": 63.0, \"out_t_minus_4\": 0.0, \"perc_off_in\": -0.9564623194756873, \"perc_off_out\": -3.5604628679736483, \"residual_in\": -46.86665365430868, \"residual_out\": -199.3859206065243, \"statefips\": 6, \"y_pred_in\": 95.86665365430868, \"y_pred_out\": 255.3859206065243, \"type\": \"Feature\", \"geometry\": {\"type\": \"Polygon\", \"coordinates\": [[[-120.072484, 38.509868999999995], [-120.07239200000001, 38.702767], [-119.96494799999999, 38.775985999999996], [-119.877287, 38.870193], [-119.904315, 38.933324], [-119.587679, 38.714734], [-119.58540614483901, 38.7131509006712], [-119.619066, 38.603529], [-119.542332, 38.481221], [-119.639205, 38.326879999999996], [-119.705385, 38.416101999999995], [-119.884749, 38.356184999999996], [-120.01995099999999, 38.433521], [-120.072566, 38.447081], [-120.072484, 38.509868999999995]]]}}, {\"AFFGEOID\": \"0500000US06001\", \"ALAND\": 1909598013, \"AWATER\": 216923745, \"COUNTYFP\": 1, \"COUNTYNS\": \"01675839\", \"GEOID\": \"06001\", \"LSAD\": \"06\", \"NAME\": \"Alameda\", \"STATEFP\": 6, \"countyfips\": 1, \"in_t_minus_0\": 73109.0, \"in_t_minus_1\": 76117.0, \"in_t_minus_2\": 94743.0, \"in_t_minus_3\": 74447.0, \"in_t_minus_4\": 56353.0, \"out_t_minus_0\": 85562.0, \"out_t_minus_1\": 87475.0, \"out_t_minus_2\": 111192.0, \"out_t_minus_3\": 80777.0, \"out_t_minus_4\": 55460.0, \"perc_off_in\": -0.10910064513148643, \"perc_off_out\": -0.23581218625697317, \"residual_in\": -7976.2390649178415, \"residual_out\": -20176.562280519138, \"statefips\": 6, \"y_pred_in\": 81085.23906491784, \"y_pred_out\": 105738.56228051914, \"type\": \"Feature\", \"geometry\": {\"type\": \"Polygon\", \"coordinates\": [[[-122.333711, 37.809796999999996], [-122.303931, 37.830087], [-122.32871428740701, 37.8938323463208], [-122.27108, 37.905823999999996], [-122.14026, 37.804562], [-122.045473, 37.798125999999996], [-122.004809, 37.770571], [-121.997771, 37.763227], [-122.010771, 37.755127], [-122.011771, 37.747428], [-121.989971, 37.733627999999996], [-121.97247, 37.728528], [-121.96077, 37.718629], [-121.873542, 37.739317], [-121.577005, 37.811527], [-121.556997, 37.816488], [-121.556959, 37.743051], [-121.556655, 37.542732], [-121.471925, 37.481783], [-121.47264799999999, 37.482169999999996], [-121.855762, 37.484536999999996], [-121.925041, 37.454186], [-122.059673, 37.464087], [-122.081473, 37.477838], [-122.11724, 37.506721], [-122.12919970222401, 37.5213219985908], [-122.111998, 37.528850999999996], [-122.144396, 37.581866], [-122.152905, 37.640771], [-122.162802519462, 37.6672730133697], [-122.163049, 37.667933], [-122.213774, 37.698695], [-122.24981, 37.726406], [-122.252452, 37.755129], [-122.312974, 37.777243999999996], [-122.333711, 37.809796999999996]]]}}, {\"AFFGEOID\": \"0500000US06093\", \"ALAND\": 16261933260, \"AWATER\": 179149816, \"COUNTYFP\": 93, \"COUNTYNS\": \"00277311\", \"GEOID\": \"06093\", \"LSAD\": \"06\", \"NAME\": \"Siskiyou\", \"STATEFP\": 6, \"countyfips\": 93, \"in_t_minus_0\": 1690.0, \"in_t_minus_1\": 1939.0, \"in_t_minus_2\": 2583.0, \"in_t_minus_3\": 1850.0, \"in_t_minus_4\": 1195.0, \"out_t_minus_0\": 1750.0, \"out_t_minus_1\": 1685.0, \"out_t_minus_2\": 2069.0, \"out_t_minus_3\": 1542.0, \"out_t_minus_4\": 1264.0, \"perc_off_in\": -0.22336568583257504, \"perc_off_out\": -0.2987550287601308, \"residual_in\": -377.48800905705184, \"residual_out\": -522.821300330229, \"statefips\": 6, \"y_pred_in\": 2067.488009057052, \"y_pred_out\": 2272.821300330229, \"type\": \"Feature\", \"geometry\": {\"type\": \"Polygon\", \"coordinates\": [[[-123.66020499999999, 41.714054999999995], [-123.703681, 41.829487], [-123.64281199999999, 41.889353], [-123.56544199999999, 41.903141], [-123.51911283680401, 41.9991725180329], [-123.43477, 42.001641], [-123.347562, 41.999108], [-123.23100126057801, 42.004970062256], [-123.145959, 42.009246999999995], [-123.045254, 42.003049], [-122.80008, 42.004070999999996], [-122.501135, 42.00846], [-122.28974909615701, 42.007764730496596], [-122.28952699999999, 42.007763999999995], [-122.101922, 42.005766], [-121.846712, 42.00307], [-121.675348, 42.000350999999995], [-121.447539998048, 41.997190033272595], [-121.457213, 41.949945], [-121.448981, 41.776392], [-121.446495, 41.183484], [-122.49837600000001, 41.182674999999996], [-122.522636, 41.213525], [-122.50389, 41.342985], [-122.585241, 41.359007999999996], [-122.653686, 41.289237], [-122.811342, 41.202450999999996], [-122.885921, 41.205141999999995], [-122.973382, 41.112074], [-122.897411, 41.028475], [-122.917529, 40.99399], [-123.03680800000001, 41.004058], [-123.109077, 41.075429], [-123.23948, 41.075762999999995], [-123.273402, 41.122890999999996], [-123.40829099999999, 41.179944], [-123.487831, 41.376934], [-123.661363, 41.38209], [-123.61179, 41.462126999999995], [-123.648046, 41.535024], [-123.719174, 41.595613], [-123.66020499999999, 41.714054999999995]]]}}, {\"AFFGEOID\": \"0500000US06115\", \"ALAND\": 1636913845, \"AWATER\": 31057995, \"COUNTYFP\": 115, \"COUNTYNS\": \"00277322\", \"GEOID\": \"06115\", \"LSAD\": \"06\", \"NAME\": \"Yuba\", \"STATEFP\": 6, \"countyfips\": 115, \"in_t_minus_0\": 6386.0, \"in_t_minus_1\": 6398.0, \"in_t_minus_2\": 8269.0, \"in_t_minus_3\": 5814.0, \"in_t_minus_4\": 4250.0, \"out_t_minus_0\": 5737.0, \"out_t_minus_1\": 5826.0, \"out_t_minus_2\": 7534.0, \"out_t_minus_3\": 5508.0, \"out_t_minus_4\": 4095.0, \"perc_off_in\": 0.0027889651424797047, \"perc_off_out\": -0.28263850824172704, \"residual_in\": 17.810331399875395, \"residual_out\": -1621.4971217827879, \"statefips\": 6, \"y_pred_in\": 6368.189668600125, \"y_pred_out\": 7358.497121782788, \"type\": \"Feature\", \"geometry\": {\"type\": \"Polygon\", \"coordinates\": [[[-121.62376, 39.295621], [-121.407527, 39.339754], [-121.33442, 39.425211999999995], [-121.305122, 39.519585], [-121.149907, 39.526446], [-121.076695, 39.597263999999996], [-121.009477, 39.639458999999995], [-121.05820299999999, 39.537043], [-121.022085, 39.391557999999996], [-121.127481, 39.380237], [-121.266132, 39.272717], [-121.279533, 39.034617999999995], [-121.332135, 39.042021], [-121.365643, 39.031743], [-121.414779, 38.996452], [-121.543306, 38.972404], [-121.57541499999999, 38.918348], [-121.610138, 39.057846999999995], [-121.58591, 39.089690999999995], [-121.62376, 39.295621]]]}}, {\"AFFGEOID\": \"0500000US06037\", \"ALAND\": 10510671776, \"AWATER\": 1794675167, \"COUNTYFP\": 37, \"COUNTYNS\": \"00277283\", \"GEOID\": \"06037\", \"LSAD\": \"06\", \"NAME\": \"Los Angeles\", \"STATEFP\": 6, \"countyfips\": 37, \"in_t_minus_0\": 182748.0, \"in_t_minus_1\": 190231.0, \"in_t_minus_2\": 230559.0, \"in_t_minus_3\": 191554.0, \"in_t_minus_4\": 160247.0, \"out_t_minus_0\": 268467.0, \"out_t_minus_1\": 277710.0, \"out_t_minus_2\": 341832.0, \"out_t_minus_3\": 258658.0, \"out_t_minus_4\": 201947.0, \"perc_off_in\": -0.08865511695289903, \"perc_off_out\": -0.13764445945876636, \"residual_in\": -16201.54531290839, \"residual_out\": -36952.99509751663, \"statefips\": 6, \"y_pred_in\": 198949.5453129084, \"y_pred_out\": 305419.9950975166, \"type\": \"Feature\", \"geometry\": {\"type\": \"MultiPolygon\", \"coordinates\": [[[[-118.593969, 33.467197999999996], [-118.484785, 33.487483], [-118.370323, 33.409285], [-118.286261, 33.351462999999995], [-118.325244, 33.299075], [-118.374768, 33.320065], [-118.465368, 33.326056], [-118.482609, 33.369914], [-118.563442, 33.434381], [-118.593969, 33.467197999999996]]], [[[-118.594033, 33.035951], [-118.540069, 32.980933], [-118.446771, 32.895424], [-118.353504, 32.821962], [-118.425634, 32.800595], [-118.487908, 32.84459], [-118.581513, 32.931672], [-118.641578, 33.017129], [-118.594033, 33.035951]]], [[[-118.940801, 34.074967], [-118.856473, 34.126765], [-118.788889, 34.168214], [-118.723374, 34.167860999999995], [-118.693834, 34.168557], [-118.667944, 34.199166], [-118.667708, 34.236692], [-118.633461, 34.269521999999995], [-118.652285, 34.323392], [-118.738618, 34.498968999999995], [-118.88136399999999, 34.790628999999996], [-118.894634, 34.817972], [-118.326281, 34.819725999999996], [-117.774368, 34.823301], [-117.667292, 34.822525999999996], [-117.655235, 34.397222], [-117.646374, 34.28917], [-117.677405, 34.166103], [-117.693545, 34.121627], [-117.70429, 34.095054999999995], [-117.711067, 34.079536], [-117.744342, 34.019852], [-117.767752, 34.019428999999995], [-117.802539, 33.975550999999996], [-117.783287, 33.946411], [-117.919725, 33.947668], [-117.966691, 33.946058], [-117.976593, 33.902809999999995], [-118.02871400000001, 33.866242], [-118.058655, 33.846126999999996], [-118.063268, 33.824107], [-118.093099, 33.786152], [-118.11507672288201, 33.743803322895], [-118.132698, 33.753217], [-118.1837, 33.736118], [-118.23192618587301, 33.715295467827495], [-118.258687, 33.703741], [-118.317205, 33.712818], [-118.333295892977, 33.7211848352577], [-118.354705, 33.732317], [-118.39660599999999, 33.735917], [-118.42840699999999, 33.774715], [-118.394307, 33.804314999999995], [-118.412708, 33.883913], [-118.460611, 33.969111], [-118.519514, 34.027509], [-118.603572, 34.039048], [-118.679366, 34.033255], [-118.744952, 34.032103], [-118.805114, 34.001239], [-118.854653, 34.034214999999996], [-118.94447951145901, 34.046738953351], [-118.940801, 34.074967]]]]}}, {\"AFFGEOID\": \"0500000US06045\", \"ALAND\": 9081426659, \"AWATER\": 962946207, \"COUNTYFP\": 45, \"COUNTYNS\": \"00277287\", \"GEOID\": \"06045\", \"LSAD\": \"06\", \"NAME\": \"Mendocino\", \"STATEFP\": 6, \"countyfips\": 45, \"in_t_minus_0\": 2706.0, \"in_t_minus_1\": 3114.0, \"in_t_minus_2\": 3900.0, \"in_t_minus_3\": 2965.0, \"in_t_minus_4\": 2133.0, \"out_t_minus_0\": 2979.0, \"out_t_minus_1\": 3243.0, \"out_t_minus_2\": 3542.0, \"out_t_minus_3\": 2861.0, \"out_t_minus_4\": 2209.0, \"perc_off_in\": -0.1906820244014154, \"perc_off_out\": -0.3931070757798383, \"residual_in\": -515.9855580302301, \"residual_out\": -1171.0659787481381, \"statefips\": 6, \"y_pred_in\": 3221.98555803023, \"y_pred_out\": 4150.065978748138, \"type\": \"Feature\", \"geometry\": {\"type\": \"Polygon\", \"coordinates\": [[[-124.02520517453002, 40.001299341669004], [-123.54445799999999, 40.001923], [-123.544563, 39.977015], [-122.934013, 39.978131], [-122.909787, 39.936385], [-122.950077, 39.907717999999996], [-122.937654, 39.798156], [-122.892676, 39.708898], [-122.885352, 39.580107999999996], [-122.89031, 39.529014], [-123.063181, 39.503538999999996], [-123.075114, 39.407683], [-122.994839, 39.235924], [-123.077812, 39.173791], [-123.056115, 39.048815], [-123.056212, 39.021096], [-122.98664, 38.997282999999996], [-122.948865, 38.90022], [-122.821592, 38.850139999999996], [-123.080997, 38.852438], [-123.136253, 38.809135999999995], [-123.368236, 38.777066], [-123.54092201163401, 38.76765621603929], [-123.57198700000001, 38.798189], [-123.638637, 38.843865], [-123.659846, 38.872529], [-123.71054, 38.91323], [-123.73289199999999, 38.954994], [-123.69074, 39.021293], [-123.72150500000001, 39.125327], [-123.765891, 39.193657], [-123.798991, 39.271355], [-123.825331, 39.360814], [-123.81469, 39.446538], [-123.766475, 39.552803], [-123.782322, 39.621486], [-123.792659, 39.684121999999995], [-123.829545, 39.723071], [-123.851714, 39.832041], [-123.907664, 39.863028], [-123.95495199999999, 39.922373], [-124.02520517453002, 40.001299341669004]]]}}, {\"AFFGEOID\": \"0500000US06039\", \"ALAND\": 5534617472, \"AWATER\": 42245931, \"COUNTYFP\": 39, \"COUNTYNS\": \"00277284\", \"GEOID\": \"06039\", \"LSAD\": \"06\", \"NAME\": \"Madera\", \"STATEFP\": 6, \"countyfips\": 39, \"in_t_minus_0\": 5705.0, \"in_t_minus_1\": 6296.0, \"in_t_minus_2\": 7388.0, \"in_t_minus_3\": 5607.0, \"in_t_minus_4\": 4474.0, \"out_t_minus_0\": 5475.0, \"out_t_minus_1\": 5757.0, \"out_t_minus_2\": 6676.0, \"out_t_minus_3\": 5629.0, \"out_t_minus_4\": 4826.0, \"perc_off_in\": -0.0672309492685773, \"perc_off_out\": -0.28381638055822067, \"residual_in\": -383.5525655772335, \"residual_out\": -1553.8946835562583, \"statefips\": 6, \"y_pred_in\": 6088.5525655772335, \"y_pred_out\": 7028.894683556258, \"type\": \"Feature\", \"geometry\": {\"type\": \"Polygon\", \"coordinates\": [[[-120.476692, 37.09639], [-120.22728599999999, 37.1634], [-120.106385, 37.167153], [-120.052055, 37.183108], [-119.761809, 37.417114], [-119.651191, 37.417832], [-119.651172, 37.461351], [-119.58422, 37.494696], [-119.583585, 37.560334999999995], [-119.308995, 37.777986], [-119.268979, 37.73923], [-119.124312, 37.733944], [-119.022363, 37.585737], [-119.286658, 37.374943], [-119.335189, 37.310773999999995], [-119.330573, 37.205791], [-119.36275, 37.167201], [-119.43306, 37.161516], [-119.470844, 37.110548], [-119.506733, 37.150554], [-119.567234, 37.115946], [-119.562979, 37.064095], [-119.604908, 37.071016], [-119.621116, 37.026604999999996], [-119.705356, 36.999794], [-119.713182, 36.991638], [-119.813734, 36.850412], [-119.932338, 36.843323], [-120.028143, 36.814485], [-120.057776, 36.82286], [-120.229179, 36.769687], [-120.370256, 36.78494], [-120.456246, 36.862863], [-120.450341, 36.911172], [-120.541696, 37.044505], [-120.476692, 37.09639]]]}}, {\"AFFGEOID\": \"0500000US06083\", \"ALAND\": 7083976828, \"AWATER\": 2729838280, \"COUNTYFP\": 83, \"COUNTYNS\": \"00277306\", \"GEOID\": \"06083\", \"LSAD\": \"06\", \"NAME\": \"Santa Barbara\", \"STATEFP\": 6, \"countyfips\": 83, \"in_t_minus_0\": 13264.0, \"in_t_minus_1\": 13796.0, \"in_t_minus_2\": 18210.0, \"in_t_minus_3\": 14486.0, \"in_t_minus_4\": 11354.0, \"out_t_minus_0\": 15395.0, \"out_t_minus_1\": 16732.0, \"out_t_minus_2\": 21608.0, \"out_t_minus_3\": 16358.0, \"out_t_minus_4\": 11939.0, \"perc_off_in\": -0.09246119501643282, \"perc_off_out\": -0.2982724669960501, \"residual_in\": -1226.405290697965, \"residual_out\": -4591.904629404191, \"statefips\": 6, \"y_pred_in\": 14490.405290697965, \"y_pred_out\": 19986.90462940419, \"type\": \"Feature\", \"geometry\": {\"type\": \"MultiPolygon\", \"coordinates\": [[[[-119.91621599999999, 34.058351], [-119.857304, 34.071298], [-119.739472, 34.049299], [-119.56670000000001, 34.053452], [-119.47073665694401, 34.053996622104], [-119.48771955738201, 33.99651515438929], [-119.554472, 33.99782], [-119.662825, 33.985889], [-119.721206, 33.959582999999995], [-119.795938, 33.962928999999995], [-119.873358, 33.980374999999995], [-119.876916, 34.023527], [-119.91621599999999, 34.058351]]], [[[-120.368278, 34.076465], [-120.24248, 34.057172], [-120.135853, 34.026087], [-120.05510699999999, 34.037729], [-119.984316, 33.983948], [-119.973691, 33.942481], [-120.049682, 33.914563], [-120.121817, 33.895711999999996], [-120.17904899999999, 33.927994], [-120.200085, 33.956904], [-120.36484, 33.991780999999996], [-120.454134, 34.028081], [-120.368278, 34.076465]]], [[[-120.65030521184, 34.975166302268704], [-120.496222, 34.993155], [-120.435473, 34.986759], [-120.301827, 34.905571], [-120.334548, 35.006315], [-120.188383, 35.030378], [-120.167616, 35.075297], [-120.082084, 35.114678], [-119.980122, 35.057573], [-119.92841899999999, 35.059794], [-119.745566, 34.973676], [-119.672963, 34.973375], [-119.535757, 34.897576], [-119.472754, 34.901174], [-119.442352, 34.901274], [-119.442353, 34.561101], [-119.442269, 34.463949], [-119.44599099999999, 34.404067], [-119.47794670672401, 34.378837558775594], [-119.536957, 34.395495], [-119.616862, 34.420995], [-119.68466599999999, 34.408297], [-119.709067, 34.395396999999996], [-119.785871, 34.415997], [-119.835771, 34.415796], [-119.873971, 34.408795], [-119.971951, 34.444641], [-120.050682, 34.461650999999996], [-120.141165, 34.473405], [-120.295051, 34.470622999999996], [-120.451425, 34.447094], [-120.511421, 34.522953], [-120.550092, 34.542794], [-120.581293, 34.556959], [-120.622575, 34.554017], [-120.64573899999999, 34.581035], [-120.60197, 34.692095], [-120.614852, 34.730709], [-120.62631999999999, 34.738071999999995], [-120.610266, 34.85818], [-120.670835, 34.904115], [-120.65030521184, 34.975166302268704]]]]}}, {\"AFFGEOID\": \"0500000US06013\", \"ALAND\": 1857233047, \"AWATER\": 225282636, \"COUNTYFP\": 13, \"COUNTYNS\": \"01675903\", \"GEOID\": \"06013\", \"LSAD\": \"06\", \"NAME\": \"Contra Costa\", \"STATEFP\": 6, \"countyfips\": 13, \"in_t_minus_0\": 49595.0, \"in_t_minus_1\": 52207.0, \"in_t_minus_2\": 67530.0, \"in_t_minus_3\": 53559.0, \"in_t_minus_4\": 38683.0, \"out_t_minus_0\": 50890.0, \"out_t_minus_1\": 53314.0, \"out_t_minus_2\": 65743.0, \"out_t_minus_3\": 48010.0, \"out_t_minus_4\": 34279.0, \"perc_off_in\": -0.14765504464548393, \"perc_off_out\": -0.3021617257811835, \"residual_in\": -7322.951939192775, \"residual_out\": -15377.01022500443, \"statefips\": 6, \"y_pred_in\": 56917.951939192775, \"y_pred_out\": 66267.01022500443, \"type\": \"Feature\", \"geometry\": {\"type\": \"Polygon\", \"coordinates\": [[[-122.425258, 37.955672], [-122.367582, 37.978168], [-122.36889099999999, 38.007948], [-122.34280385218801, 38.0092538777817], [-122.321706, 38.01031], [-122.262861, 38.051473], [-122.269320054917, 38.06037449753119], [-122.14312, 38.031760999999996], [-122.095733, 38.048355], [-122.050386, 38.060198], [-121.878235, 38.049318], [-121.862462, 38.06603], [-121.80127, 38.021622], [-121.737824, 38.02663], [-121.673065, 38.093517999999996], [-121.580022, 38.094414], [-121.534167, 37.849022999999995], [-121.556997, 37.816488], [-121.577005, 37.811527], [-121.873542, 37.739317], [-121.96077, 37.718629], [-121.97247, 37.728528], [-121.989971, 37.733627999999996], [-122.011771, 37.747428], [-122.010771, 37.755127], [-121.997771, 37.763227], [-122.004809, 37.770571], [-122.045473, 37.798125999999996], [-122.14026, 37.804562], [-122.27108, 37.905823999999996], [-122.32871428740701, 37.8938323463208], [-122.33453, 37.908791], [-122.378709, 37.905190999999995], [-122.425258, 37.955672]]]}}, {\"AFFGEOID\": \"0500000US06009\", \"ALAND\": 2641829200, \"AWATER\": 43797659, \"COUNTYFP\": 9, \"COUNTYNS\": \"01675885\", \"GEOID\": \"06009\", \"LSAD\": \"06\", \"NAME\": \"Calaveras\", \"STATEFP\": 6, \"countyfips\": 9, \"in_t_minus_0\": 2733.0, \"in_t_minus_1\": 2834.0, \"in_t_minus_2\": 3499.0, \"in_t_minus_3\": 2557.0, \"in_t_minus_4\": 1676.0, \"out_t_minus_0\": 2281.0, \"out_t_minus_1\": 2306.0, \"out_t_minus_2\": 2720.0, \"out_t_minus_3\": 2040.0, \"out_t_minus_4\": 1537.0, \"perc_off_in\": -0.10078705375919987, \"perc_off_out\": -0.39036652496423857, \"residual_in\": -275.45101792389323, \"residual_out\": -890.4260434434282, \"statefips\": 6, \"y_pred_in\": 3008.4510179238932, \"y_pred_out\": 3171.426043443428, \"type\": \"Feature\", \"geometry\": {\"type\": \"Polygon\", \"coordinates\": [[[-120.995497, 38.225401999999995], [-120.892864, 38.221574], [-120.810126, 38.28201], [-120.63129, 38.340263], [-120.614881, 38.389407999999996], [-120.423215, 38.473321999999996], [-120.33104, 38.465191999999995], [-120.205702, 38.501039], [-120.072484, 38.509868999999995], [-120.072566, 38.447081], [-120.01995099999999, 38.433521], [-120.176177, 38.374013999999995], [-120.44252900000001, 38.058741], [-120.46279799999999, 38.011927], [-120.534276, 37.989443], [-120.514952, 37.95339], [-120.653274, 37.831858], [-120.92644899999999, 38.077421], [-120.942113, 38.096328], [-120.995497, 38.225401999999995]]]}}, {\"AFFGEOID\": \"0500000US06019\", \"ALAND\": 15431404077, \"AWATER\": 137345152, \"COUNTYFP\": 19, \"COUNTYNS\": \"00277274\", \"GEOID\": \"06019\", \"LSAD\": \"06\", \"NAME\": \"Fresno\", \"STATEFP\": 6, \"countyfips\": 19, \"in_t_minus_0\": 22396.0, \"in_t_minus_1\": 23484.0, \"in_t_minus_2\": 29713.0, \"in_t_minus_3\": 22880.0, \"in_t_minus_4\": 18974.0, \"out_t_minus_0\": 22811.0, \"out_t_minus_1\": 23760.0, \"out_t_minus_2\": 29073.0, \"out_t_minus_3\": 24582.0, \"out_t_minus_4\": 20589.0, \"perc_off_in\": 0.0015725419878696988, \"perc_off_out\": -0.2372715478829941, \"residual_in\": 35.218650360329775, \"residual_out\": -5412.401278758978, \"statefips\": 6, \"y_pred_in\": 22360.78134963967, \"y_pred_out\": 28223.401278758978, \"type\": \"Feature\", \"geometry\": {\"type\": \"Polygon\", \"coordinates\": [[[-120.65595, 36.952832], [-120.590566, 36.952641], [-120.541696, 37.044505], [-120.450341, 36.911172], [-120.456246, 36.862863], [-120.370256, 36.78494], [-120.229179, 36.769687], [-120.057776, 36.82286], [-120.028143, 36.814485], [-119.932338, 36.843323], [-119.813734, 36.850412], [-119.713182, 36.991638], [-119.705356, 36.999794], [-119.621116, 37.026604999999996], [-119.604908, 37.071016], [-119.562979, 37.064095], [-119.567234, 37.115946], [-119.506733, 37.150554], [-119.470844, 37.110548], [-119.43306, 37.161516], [-119.36275, 37.167201], [-119.330573, 37.205791], [-119.335189, 37.310773999999995], [-119.286658, 37.374943], [-119.022363, 37.585737], [-118.91705999999999, 37.550336], [-118.85047399999999, 37.475795999999995], [-118.775014, 37.463052], [-118.78673599999999, 37.343379999999996], [-118.716016, 37.328208], [-118.654593, 37.141826], [-118.59266099999999, 37.138147], [-118.437137, 37.059818], [-118.36083099999999, 36.887734], [-118.389758, 36.834466], [-118.360586, 36.744772999999995], [-118.982441, 36.741645999999996], [-118.984779, 36.657146999999995], [-119.088295, 36.657514], [-119.174791, 36.658878], [-119.304625, 36.660606], [-119.305102, 36.573724999999996], [-119.46632199999999, 36.575238], [-119.546131, 36.508963], [-119.573194, 36.488835], [-119.66640000000001, 36.41888], [-119.754213, 36.402023], [-119.959227, 36.400974999999995], [-119.959058, 36.181747], [-120.315068, 35.907185999999996], [-120.433053, 35.968933], [-120.667551, 36.138056999999996], [-120.62691, 36.203227], [-120.678582, 36.267319], [-120.596562, 36.328488], [-120.597155, 36.488234999999996], [-120.918731, 36.740381], [-120.65595, 36.952832]]]}}, {\"AFFGEOID\": \"0500000US06107\", \"ALAND\": 12495083015, \"AWATER\": 37014644, \"COUNTYFP\": 107, \"COUNTYNS\": \"00277318\", \"GEOID\": \"06107\", \"LSAD\": \"06\", \"NAME\": \"Tulare\", \"STATEFP\": 6, \"countyfips\": 107, \"in_t_minus_0\": 10745.0, \"in_t_minus_1\": 11735.0, \"in_t_minus_2\": 14418.0, \"in_t_minus_3\": 11229.0, \"in_t_minus_4\": 9547.0, \"out_t_minus_0\": 10970.0, \"out_t_minus_1\": 12094.0, \"out_t_minus_2\": 14078.0, \"out_t_minus_3\": 11950.0, \"out_t_minus_4\": 10292.0, \"perc_off_in\": -0.03368790864366576, \"perc_off_out\": -0.2807564341932425, \"residual_in\": -361.9765783761886, \"residual_out\": -3079.89808309987, \"statefips\": 6, \"y_pred_in\": 11106.976578376189, \"y_pred_out\": 14049.89808309987, \"type\": \"Feature\", \"geometry\": {\"type\": \"Polygon\", \"coordinates\": [[[-119.546131, 36.508963], [-119.46632199999999, 36.575238], [-119.305102, 36.573724999999996], [-119.304625, 36.660606], [-119.174791, 36.658878], [-119.088295, 36.657514], [-118.984779, 36.657146999999995], [-118.982441, 36.741645999999996], [-118.360586, 36.744772999999995], [-118.366328, 36.691635], [-118.274624, 36.597334], [-118.29052300000001, 36.558535], [-118.239021, 36.523635], [-118.21482, 36.435036], [-118.100317, 36.346137], [-118.12714700000001, 36.279655999999996], [-118.03361100000001, 36.008944], [-118.003577, 35.983717999999996], [-117.980761, 35.867515], [-118.005489, 35.862699], [-118.008043, 35.789161], [-118.067719, 35.791537], [-118.803729, 35.790347], [-119.053437, 35.790748], [-119.538116, 35.789567], [-119.53616099999999, 36.050782], [-119.529358, 36.26985], [-119.47460699999999, 36.269025], [-119.474892, 36.400953], [-119.528792, 36.401465], [-119.528286, 36.487545], [-119.573194, 36.488835], [-119.546131, 36.508963]]]}}, {\"AFFGEOID\": \"0500000US06033\", \"ALAND\": 3254364315, \"AWATER\": 188836455, \"COUNTYFP\": 33, \"COUNTYNS\": \"00277281\", \"GEOID\": \"06033\", \"LSAD\": \"06\", \"NAME\": \"Lake\", \"STATEFP\": 6, \"countyfips\": 33, \"in_t_minus_0\": 2527.0, \"in_t_minus_1\": 2861.0, \"in_t_minus_2\": 3775.0, \"in_t_minus_3\": 2561.0, \"in_t_minus_4\": 1926.0, \"out_t_minus_0\": 2377.0, \"out_t_minus_1\": 2444.0, \"out_t_minus_2\": 2931.0, \"out_t_minus_3\": 2570.0, \"out_t_minus_4\": 1862.0, \"perc_off_in\": -0.0324401406722117, \"perc_off_out\": -0.44587152286126297, \"residual_in\": -81.97623547867897, \"residual_out\": -1059.836609841222, \"statefips\": 6, \"y_pred_in\": 2608.976235478679, \"y_pred_out\": 3436.836609841222, \"type\": \"Feature\", \"geometry\": {\"type\": \"Polygon\", \"coordinates\": [[[-123.077812, 39.173791], [-122.994839, 39.235924], [-123.075114, 39.407683], [-123.063181, 39.503538999999996], [-122.89031, 39.529014], [-122.885352, 39.580107999999996], [-122.73563899999999, 39.580667999999996], [-122.739062, 39.383266], [-122.78509, 39.382974999999995], [-122.743482, 39.36813], [-122.775043, 39.311778], [-122.680927, 39.238726], [-122.47729, 39.17395], [-122.491278, 39.052991], [-122.413416, 39.020218], [-122.409118, 38.962793], [-122.340172, 38.924246], [-122.403941, 38.925289], [-122.421904, 38.90377], [-122.395056, 38.864245], [-122.397989, 38.804001], [-122.46388999999999, 38.705203], [-122.627396, 38.667505999999996], [-122.77248, 38.821529999999996], [-122.821592, 38.850139999999996], [-122.948865, 38.90022], [-122.98664, 38.997282999999996], [-123.056212, 39.021096], [-123.056115, 39.048815], [-123.077812, 39.173791]]]}}, {\"AFFGEOID\": \"0500000US06053\", \"ALAND\": 8499616962, \"AWATER\": 1267799938, \"COUNTYFP\": 53, \"COUNTYNS\": \"00277291\", \"GEOID\": \"06053\", \"LSAD\": \"06\", \"NAME\": \"Monterey\", \"STATEFP\": 6, \"countyfips\": 53, \"in_t_minus_0\": 14032.0, \"in_t_minus_1\": 15673.0, \"in_t_minus_2\": 19463.0, \"in_t_minus_3\": 16912.0, \"in_t_minus_4\": 13942.0, \"out_t_minus_0\": 17043.0, \"out_t_minus_1\": 18041.0, \"out_t_minus_2\": 22978.0, \"out_t_minus_3\": 18537.0, \"out_t_minus_4\": 14860.0, \"perc_off_in\": -0.1857413020659877, \"perc_off_out\": -0.2403298721031619, \"residual_in\": -2606.3219505899397, \"residual_out\": -4095.942010254188, \"statefips\": 6, \"y_pred_in\": 16638.32195058994, \"y_pred_out\": 21138.942010254188, \"type\": \"Feature\", \"geometry\": {\"type\": \"Polygon\", \"coordinates\": [[[-121.970427, 36.582754], [-121.923866, 36.634558999999996], [-121.860604, 36.611135999999995], [-121.81446199999999, 36.682857999999996], [-121.796826, 36.777543], [-121.791544, 36.815186], [-121.81273242676201, 36.8500494437455], [-121.699956, 36.919683], [-121.644001, 36.893996], [-121.597698, 36.83735], [-121.45134, 36.724793], [-121.468086, 36.685518], [-121.350092, 36.648357], [-121.318373, 36.610026], [-121.311788, 36.502736], [-121.244091, 36.506910999999995], [-121.193465, 36.445751], [-121.040797, 36.323969], [-121.027362, 36.260079999999995], [-120.920551, 36.311012], [-120.86508, 36.292578], [-120.761483, 36.203579999999995], [-120.718426, 36.196847999999996], [-120.717696, 36.260011999999996], [-120.75834, 36.308603999999995], [-120.678582, 36.267319], [-120.62691, 36.203227], [-120.667551, 36.138056999999996], [-120.433053, 35.968933], [-120.315068, 35.907185999999996], [-120.27575999999999, 35.905881], [-120.213979, 35.789276], [-120.75065000000001, 35.791131], [-121.347053956004, 35.7951862038146], [-121.406823, 35.844623], [-121.462264, 35.885618], [-121.48620000000001, 35.970348], [-121.531876, 36.014368], [-121.574602, 36.025155999999996], [-121.62200899999999, 36.099695], [-121.680145, 36.165818], [-121.77985100000001, 36.227407], [-121.826425, 36.241859999999996], [-121.888491, 36.30281], [-121.903195, 36.393603], [-121.94160000000001, 36.485602], [-121.970427, 36.582754]]]}}, {\"AFFGEOID\": \"0500000US06075\", \"ALAND\": 121375681, \"AWATER\": 479216672, \"COUNTYFP\": 75, \"COUNTYNS\": \"00277302\", \"GEOID\": \"06075\", \"LSAD\": \"06\", \"NAME\": \"San Francisco\", \"STATEFP\": 6, \"countyfips\": 75, \"in_t_minus_0\": 42587.0, \"in_t_minus_1\": 43931.0, \"in_t_minus_2\": 52435.0, \"in_t_minus_3\": 43577.0, \"in_t_minus_4\": 35219.0, \"out_t_minus_0\": 56029.0, \"out_t_minus_1\": 55540.0, \"out_t_minus_2\": 69167.0, \"out_t_minus_3\": 53156.0, \"out_t_minus_4\": 37502.0, \"perc_off_in\": -0.08723811582327301, \"perc_off_out\": -0.17734258922886573, \"residual_in\": -3715.209638565728, \"residual_out\": -9936.327931904118, \"statefips\": 6, \"y_pred_in\": 46302.20963856573, \"y_pred_out\": 65965.32793190412, \"type\": \"Feature\", \"geometry\": {\"type\": \"Polygon\", \"coordinates\": [[[-122.511983, 37.77113], [-122.465396, 37.800878999999995], [-122.398139, 37.80563], [-122.385323, 37.790724], [-122.376462, 37.738558], [-122.356784, 37.729504999999996], [-122.361749, 37.71501], [-122.389826876588, 37.708331], [-122.50067801908301, 37.7081325680179], [-122.505601251345, 37.7355674652407], [-122.511983, 37.77113]]]}}, {\"AFFGEOID\": \"0500000US06081\", \"ALAND\": 1161960635, \"AWATER\": 757110545, \"COUNTYFP\": 81, \"COUNTYNS\": \"00277305\", \"GEOID\": \"06081\", \"LSAD\": \"06\", \"NAME\": \"San Mateo\", \"STATEFP\": 6, \"countyfips\": 81, \"in_t_minus_0\": 36538.0, \"in_t_minus_1\": 37581.0, \"in_t_minus_2\": 46314.0, \"in_t_minus_3\": 36754.0, \"in_t_minus_4\": 27749.0, \"out_t_minus_0\": 45374.0, \"out_t_minus_1\": 45799.0, \"out_t_minus_2\": 56985.0, \"out_t_minus_3\": 43853.0, \"out_t_minus_4\": 29878.0, \"perc_off_in\": -0.08556617980918829, \"perc_off_out\": -0.24493476241409184, \"residual_in\": -3126.417077868122, \"residual_out\": -11113.669909777003, \"statefips\": 6, \"y_pred_in\": 39664.41707786812, \"y_pred_out\": 56487.669909777, \"type\": \"Feature\", \"geometry\": {\"type\": \"Polygon\", \"coordinates\": [[[-122.518088, 37.576138], [-122.496786, 37.612136], [-122.49678399999999, 37.686433], [-122.50067801908301, 37.7081325680179], [-122.389826876588, 37.708331], [-122.39319, 37.707530999999996], [-122.360219, 37.592501], [-122.244372, 37.55814], [-122.168449, 37.504143], [-122.12919970222401, 37.5213219985908], [-122.11724, 37.506721], [-122.081473, 37.477838], [-122.144933, 37.458200000000005], [-122.190402, 37.431472], [-122.192665, 37.31801], [-122.152278, 37.286055], [-122.152774, 37.215444], [-122.31768199999999, 37.186945], [-122.29431019191301, 37.105141386718095], [-122.322971, 37.11546], [-122.344029, 37.144099], [-122.397065, 37.187249], [-122.418452, 37.248521], [-122.40559014390101, 37.3149650377439], [-122.40132299999999, 37.337008999999995], [-122.409258, 37.374804999999995], [-122.443687, 37.435941], [-122.445987, 37.461541], [-122.49378899999999, 37.492340999999996], [-122.516689, 37.521339999999995], [-122.518088, 37.576138]]]}}, {\"AFFGEOID\": \"0500000US06109\", \"ALAND\": 5752079372, \"AWATER\": 138722707, \"COUNTYFP\": 109, \"COUNTYNS\": \"00277319\", \"GEOID\": \"06109\", \"LSAD\": \"06\", \"NAME\": \"Tuolumne\", \"STATEFP\": 6, \"countyfips\": 109, \"in_t_minus_0\": 2216.0, \"in_t_minus_1\": 2449.0, \"in_t_minus_2\": 3333.0, \"in_t_minus_3\": 2388.0, \"in_t_minus_4\": 1732.0, \"out_t_minus_0\": 2091.0, \"out_t_minus_1\": 2050.0, \"out_t_minus_2\": 2530.0, \"out_t_minus_3\": 2075.0, \"out_t_minus_4\": 1470.0, \"perc_off_in\": -0.09130334723956231, \"perc_off_out\": -0.3924630090529991, \"residual_in\": -202.32821748287006, \"residual_out\": -820.6401519298211, \"statefips\": 6, \"y_pred_in\": 2418.32821748287, \"y_pred_out\": 2911.640151929821, \"type\": \"Feature\", \"geometry\": {\"type\": \"Polygon\", \"coordinates\": [[[-120.514952, 37.95339], [-120.534276, 37.989443], [-120.46279799999999, 38.011927], [-120.44252900000001, 38.058741], [-120.176177, 38.374013999999995], [-120.01995099999999, 38.433521], [-119.884749, 38.356184999999996], [-119.705385, 38.416101999999995], [-119.639205, 38.326879999999996], [-119.651509, 38.286462], [-119.604182, 38.234961], [-119.632671, 38.198858], [-119.57649599999999, 38.157661], [-119.469456, 38.128282999999996], [-119.345922, 38.083113], [-119.30458999999999, 38.023891], [-119.308389, 37.946824], [-119.200283, 37.885827], [-119.20128, 37.804328999999996], [-119.268979, 37.73923], [-119.308995, 37.777986], [-119.426792, 37.866724], [-119.474295, 37.855623], [-119.535699, 37.904122], [-119.646203, 37.846823], [-119.667203, 37.801224], [-119.809409, 37.755024999999996], [-119.907013, 37.757926], [-120.079508, 37.828807999999995], [-120.12722600000001, 37.781566], [-120.345437, 37.724787], [-120.30631199999999, 37.665419], [-120.391931, 37.683558999999995], [-120.387613, 37.633704], [-120.653274, 37.831858], [-120.514952, 37.95339]]]}}, {\"AFFGEOID\": \"0500000US06091\", \"ALAND\": 2468694587, \"AWATER\": 23299110, \"COUNTYFP\": 91, \"COUNTYNS\": \"00277310\", \"GEOID\": \"06091\", \"LSAD\": \"06\", \"NAME\": \"Sierra\", \"STATEFP\": 6, \"countyfips\": 91, \"in_t_minus_0\": 152.0, \"in_t_minus_1\": 153.0, \"in_t_minus_2\": 171.0, \"in_t_minus_3\": 99.0, \"in_t_minus_4\": 74.0, \"out_t_minus_0\": 129.0, \"out_t_minus_1\": 129.0, \"out_t_minus_2\": 139.0, \"out_t_minus_3\": 108.0, \"out_t_minus_4\": 116.0, \"perc_off_in\": -0.0714571552568786, \"perc_off_out\": -1.0503164034882084, \"residual_in\": -10.861487599045546, \"residual_out\": -135.4908160499789, \"statefips\": 6, \"y_pred_in\": 162.86148759904555, \"y_pred_out\": 264.4908160499789, \"type\": \"Feature\", \"geometry\": {\"type\": \"Polygon\", \"coordinates\": [[[-121.05820299999999, 39.537043], [-121.009477, 39.639458999999995], [-120.949435, 39.672548], [-120.873261, 39.776168], [-120.792484, 39.709793999999995], [-120.68075999999999, 39.676832999999995], [-120.65422699999999, 39.706629], [-120.147149, 39.707657999999995], [-120.015734, 39.708721], [-119.99993544808501, 39.7224069247242], [-120.00174, 39.538852], [-120.003028919657, 39.4450457761605], [-120.505445, 39.446117], [-120.575594, 39.522290999999996], [-120.654561, 39.52692], [-120.755729, 39.452663], [-120.992703, 39.414392], [-121.022085, 39.391557999999996], [-121.05820299999999, 39.537043]]]}}, {\"AFFGEOID\": \"0500000US06073\", \"ALAND\": 10900649391, \"AWATER\": 820695499, \"COUNTYFP\": 73, \"COUNTYNS\": \"00277301\", \"GEOID\": \"06073\", \"LSAD\": \"06\", \"NAME\": \"San Diego\", \"STATEFP\": 6, \"countyfips\": 73, \"in_t_minus_0\": 111293.0, \"in_t_minus_1\": 118131.0, \"in_t_minus_2\": 148522.0, \"in_t_minus_3\": 118698.0, \"in_t_minus_4\": 89403.0, \"out_t_minus_0\": 126786.0, \"out_t_minus_1\": 131700.0, \"out_t_minus_2\": 175493.0, \"out_t_minus_3\": 129376.0, \"out_t_minus_4\": 89551.0, \"perc_off_in\": -0.14396073269831328, \"perc_off_out\": -0.2746676698993991, \"residual_in\": -16021.82182419338, \"residual_out\": -34824.01519586521, \"statefips\": 6, \"y_pred_in\": 127314.82182419338, \"y_pred_out\": 161610.0151958652, \"type\": \"Feature\", \"geometry\": {\"type\": \"Polygon\", \"coordinates\": [[[-117.596188685737, 33.3869649943199], [-117.57848, 33.453927], [-117.508614, 33.469614], [-117.509722, 33.505019], [-117.364272, 33.505024999999996], [-117.259308, 33.454513], [-117.250495, 33.451629], [-117.241668, 33.448927999999995], [-117.241271, 33.431993], [-117.14157399999999, 33.43261], [-117.089024, 33.430285999999995], [-117.030861, 33.426930999999996], [-116.821826, 33.426873], [-116.197591, 33.428892999999995], [-116.085165, 33.425931999999996], [-116.08109, 33.074833], [-116.105634, 32.72157], [-116.10617888905001, 32.6185781426356], [-116.540643, 32.583746999999995], [-116.62705, 32.576260999999995], [-116.857154, 32.557459], [-117.12486200000001, 32.534155999999996], [-117.13203895573801, 32.585601187382096], [-117.136664, 32.618753999999996], [-117.168866, 32.671952], [-117.196767, 32.688851], [-117.246069, 32.669351999999996], [-117.255169, 32.700051], [-117.25497, 32.786947999999995], [-117.280971, 32.822247], [-117.28217000000001, 32.839546999999996], [-117.27387, 32.851447], [-117.262905, 32.849349], [-117.25617, 32.859446999999996], [-117.25616053514901, 32.8596735941017], [-117.25447, 32.900146], [-117.272139427178, 32.9755245825488], [-117.28077, 33.012343], [-117.315278, 33.093503999999996], [-117.362572, 33.168437], [-117.445583, 33.268516999999996], [-117.547693, 33.365491], [-117.59588, 33.386629], [-117.596188685737, 33.3869649943199]]]}}, {\"AFFGEOID\": \"0500000US06095\", \"ALAND\": 2128327622, \"AWATER\": 218699936, \"COUNTYFP\": 95, \"COUNTYNS\": \"00277312\", \"GEOID\": \"06095\", \"LSAD\": \"06\", \"NAME\": \"Solano\", \"STATEFP\": 6, \"countyfips\": 95, \"in_t_minus_0\": 22070.0, \"in_t_minus_1\": 23450.0, \"in_t_minus_2\": 30711.0, \"in_t_minus_3\": 23738.0, \"in_t_minus_4\": 17074.0, \"out_t_minus_0\": 21711.0, \"out_t_minus_1\": 22821.0, \"out_t_minus_2\": 28648.0, \"out_t_minus_3\": 20707.0, \"out_t_minus_4\": 15438.0, \"perc_off_in\": -0.14237801933425012, \"perc_off_out\": -0.2999715084572722, \"residual_in\": -3142.2828867069, \"residual_out\": -6512.681420115838, \"statefips\": 6, \"y_pred_in\": 25212.2828867069, \"y_pred_out\": 28223.681420115838, \"type\": \"Feature\", \"geometry\": {\"type\": \"Polygon\", \"coordinates\": [[[-122.406786, 38.155632], [-122.213464, 38.154894], [-122.195971, 38.162991], [-122.205982, 38.315712999999995], [-122.061379, 38.327411], [-122.126389, 38.428917999999996], [-122.103281, 38.513348], [-122.011673, 38.488991], [-121.940285, 38.533384], [-121.712034, 38.537962], [-121.693697, 38.313732], [-121.593273, 38.313089], [-121.615413, 38.195696], [-121.685645, 38.159644], [-121.71213, 38.085519999999995], [-121.862462, 38.06603], [-121.878235, 38.049318], [-122.050386, 38.060198], [-122.095733, 38.048355], [-122.14312, 38.031760999999996], [-122.269320054917, 38.06037449753119], [-122.301804, 38.105142], [-122.393588, 38.143449], [-122.39758123062401, 38.14200359725329], [-122.406786, 38.155632]]]}}, {\"AFFGEOID\": \"0500000US06041\", \"ALAND\": 1347976788, \"AWATER\": 797029137, \"COUNTYFP\": 41, \"COUNTYNS\": \"00277285\", \"GEOID\": \"06041\", \"LSAD\": \"06\", \"NAME\": \"Marin\", \"STATEFP\": 6, \"countyfips\": 41, \"in_t_minus_0\": 10812.0, \"in_t_minus_1\": 11328.0, \"in_t_minus_2\": 14620.0, \"in_t_minus_3\": 11546.0, \"in_t_minus_4\": 8328.0, \"out_t_minus_0\": 11298.0, \"out_t_minus_1\": 11651.0, \"out_t_minus_2\": 14896.0, \"out_t_minus_3\": 11720.0, \"out_t_minus_4\": 8674.0, \"perc_off_in\": -0.12024672648107607, \"perc_off_out\": -0.3177821302799087, \"residual_in\": -1300.1076067133945, \"residual_out\": -3590.3025079024083, \"statefips\": 6, \"y_pred_in\": 12112.107606713394, \"y_pred_out\": 14888.302507902408, \"type\": \"Feature\", \"geometry\": {\"type\": \"Polygon\", \"coordinates\": [[[-123.011533, 38.003437999999996], [-122.960889, 38.112961999999996], [-122.953629, 38.17567], [-122.987149, 38.237538], [-122.986319, 38.273164], [-123.003146477056, 38.2957052387145], [-122.910943, 38.321222], [-122.7399, 38.207018], [-122.56509299999999, 38.182217], [-122.505707, 38.115525999999996], [-122.48849963925902, 38.1090944743082], [-122.491283, 38.108087], [-122.499465, 38.032165], [-122.452995, 37.996167], [-122.488665, 37.966713999999996], [-122.486375, 37.921881], [-122.448413, 37.893409999999996], [-122.41847, 37.852720999999995], [-122.483483, 37.826727999999996], [-122.537285, 37.830328], [-122.60129, 37.875126], [-122.678474, 37.906604], [-122.70264, 37.89382], [-122.754606, 37.935527], [-122.797405, 37.976656999999996], [-122.856573, 38.016717], [-122.939711, 38.031908], [-122.97439, 37.992429], [-123.011533, 38.003437999999996]]]}}, {\"AFFGEOID\": \"0500000US06035\", \"ALAND\": 11761615592, \"AWATER\": 463426051, \"COUNTYFP\": 35, \"COUNTYNS\": \"01693324\", \"GEOID\": \"06035\", \"LSAD\": \"06\", \"NAME\": \"Lassen\", \"STATEFP\": 6, \"countyfips\": 35, \"in_t_minus_0\": 1191.0, \"in_t_minus_1\": 1276.0, \"in_t_minus_2\": 1573.0, \"in_t_minus_3\": 1325.0, \"in_t_minus_4\": 754.0, \"out_t_minus_0\": 1197.0, \"out_t_minus_1\": 1251.0, \"out_t_minus_2\": 1664.0, \"out_t_minus_3\": 1212.0, \"out_t_minus_4\": 868.0, \"perc_off_in\": -0.35963014875067884, \"perc_off_out\": -0.5094387813447788, \"residual_in\": -428.31950716205847, \"residual_out\": -609.7982212697002, \"statefips\": 6, \"y_pred_in\": 1619.3195071620585, \"y_pred_out\": 1806.7982212697002, \"type\": \"Feature\", \"geometry\": {\"type\": \"Polygon\", \"coordinates\": [[[-121.331786, 41.183886], [-120.501404, 41.18394], [-119.999866, 41.183974], [-119.999231, 40.865899], [-119.997533, 40.720991999999995], [-119.996155, 40.32125], [-119.997124, 40.126363], [-119.997634, 39.956505], [-119.99993544808501, 39.7224069247242], [-120.015734, 39.708721], [-120.147149, 39.707657999999995], [-120.110627, 39.765778999999995], [-120.108761, 39.93951], [-120.201264, 40.013473999999995], [-120.209641, 40.086008], [-120.341385, 40.115243], [-120.482848, 40.205798], [-120.510817, 40.248945], [-120.652158, 40.307656], [-120.764403, 40.31601], [-120.928582, 40.191931], [-121.061493, 40.256417], [-121.061417, 40.446535999999995], [-121.327826, 40.445367], [-121.319976, 40.905885999999995], [-121.331786, 41.183886]]]}}, {\"AFFGEOID\": \"0500000US06113\", \"ALAND\": 2628144763, \"AWATER\": 22878452, \"COUNTYFP\": 113, \"COUNTYNS\": \"00277321\", \"GEOID\": \"06113\", \"LSAD\": \"06\", \"NAME\": \"Yolo\", \"STATEFP\": 6, \"countyfips\": 113, \"in_t_minus_0\": 9652.0, \"in_t_minus_1\": 10152.0, \"in_t_minus_2\": 13454.0, \"in_t_minus_3\": 10187.0, \"in_t_minus_4\": 7307.0, \"out_t_minus_0\": 10789.0, \"out_t_minus_1\": 11403.0, \"out_t_minus_2\": 14271.0, \"out_t_minus_3\": 10516.0, \"out_t_minus_4\": 7361.0, \"perc_off_in\": -0.1176336095468281, \"perc_off_out\": -0.3149781965285778, \"residual_in\": -1135.3995993459848, \"residual_out\": -3398.2997623468254, \"statefips\": 6, \"y_pred_in\": 10787.399599345985, \"y_pred_out\": 14187.299762346825, \"type\": \"Feature\", \"geometry\": {\"type\": \"Polygon\", \"coordinates\": [[[-122.403941, 38.925289], [-122.340172, 38.924246], [-121.835488, 38.924481], [-121.749747, 38.871243], [-121.67382599999999, 38.743141], [-121.60289399999999, 38.735838], [-121.633774, 38.686164], [-121.553609, 38.603325999999996], [-121.544567, 38.597704], [-121.527667, 38.604603999999995], [-121.511566, 38.600904], [-121.506269, 38.586304999999996], [-121.520965, 38.566205], [-121.51129, 38.54629], [-121.513706, 38.540107], [-121.53089299999999, 38.529365], [-121.524018, 38.520868], [-121.551782, 38.513861], [-121.558701, 38.501939], [-121.50509, 38.469563], [-121.521641, 38.360104], [-121.593273, 38.313089], [-121.693697, 38.313732], [-121.712034, 38.537962], [-121.940285, 38.533384], [-122.011673, 38.488991], [-122.103281, 38.513348], [-122.168301, 38.655296], [-122.224206, 38.699984], [-122.287998, 38.839931], [-122.395056, 38.864245], [-122.421904, 38.90377], [-122.403941, 38.925289]]]}}, {\"AFFGEOID\": \"0500000US06065\", \"ALAND\": 18664901451, \"AWATER\": 250194697, \"COUNTYFP\": 65, \"COUNTYNS\": \"00277297\", \"GEOID\": \"06065\", \"LSAD\": \"06\", \"NAME\": \"Riverside\", \"STATEFP\": 6, \"countyfips\": 65, \"in_t_minus_0\": 107243.0, \"in_t_minus_1\": 113836.0, \"in_t_minus_2\": 146381.0, \"in_t_minus_3\": 107671.0, \"in_t_minus_4\": 80838.0, \"out_t_minus_0\": 93607.0, \"out_t_minus_1\": 96157.0, \"out_t_minus_2\": 117185.0, \"out_t_minus_3\": 88491.0, \"out_t_minus_4\": 71466.0, \"perc_off_in\": -0.059333752053474915, \"perc_off_out\": -0.2643902080609855, \"residual_in\": -6363.12957147081, \"residual_out\": -24748.77420596467, \"statefips\": 6, \"y_pred_in\": 113606.12957147081, \"y_pred_out\": 118355.77420596467, \"type\": \"Feature\", \"geometry\": {\"type\": \"Polygon\", \"coordinates\": [[[-117.673134, 33.871005], [-117.65537499999999, 33.924343], [-117.610947, 33.925114], [-117.558269, 34.018906], [-117.375278, 34.033875], [-117.371588, 34.019399], [-117.22537299999999, 34.018715], [-117.121293, 34.003916], [-117.104737, 34.004014999999995], [-116.929357, 34.004914], [-116.929558, 34.034113], [-116.300631, 34.032544], [-115.31621200000001, 34.03411], [-115.316065, 34.077843], [-114.43009113852001, 34.078931406279494], [-114.435504, 34.042615], [-114.454807, 34.010968], [-114.509568, 33.957263999999995], [-114.534987, 33.928498999999995], [-114.508708, 33.900639999999996], [-114.505638, 33.864276], [-114.520465, 33.827777999999995], [-114.504863, 33.760464999999996], [-114.496565, 33.719155], [-114.504993, 33.693022], [-114.525201, 33.661583], [-114.529186, 33.60665], [-114.524599, 33.552231], [-114.597283, 33.490653], [-114.629146518189, 33.433544999999796], [-114.830833, 33.430094], [-115.467506, 33.426992], [-116.085165, 33.425931999999996], [-116.197591, 33.428892999999995], [-116.821826, 33.426873], [-117.030861, 33.426930999999996], [-117.089024, 33.430285999999995], [-117.14157399999999, 33.43261], [-117.241271, 33.431993], [-117.241668, 33.448927999999995], [-117.250495, 33.451629], [-117.259308, 33.454513], [-117.364272, 33.505024999999996], [-117.509722, 33.505019], [-117.51021, 33.533999], [-117.457937, 33.602188999999996], [-117.412987, 33.659045], [-117.533999, 33.710355], [-117.67505299999999, 33.868725], [-117.673134, 33.871005]]]}}, {\"AFFGEOID\": \"0500000US06097\", \"ALAND\": 4081491107, \"AWATER\": 497455304, \"COUNTYFP\": 97, \"COUNTYNS\": \"01657246\", \"GEOID\": \"06097\", \"LSAD\": \"06\", \"NAME\": \"Sonoma\", \"STATEFP\": 6, \"countyfips\": 97, \"in_t_minus_0\": 14012.0, \"in_t_minus_1\": 13891.0, \"in_t_minus_2\": 19664.0, \"in_t_minus_3\": 15791.0, \"in_t_minus_4\": 11347.0, \"out_t_minus_0\": 16225.0, \"out_t_minus_1\": 18756.0, \"out_t_minus_2\": 22276.0, \"out_t_minus_3\": 15282.0, \"out_t_minus_4\": 10960.0, \"perc_off_in\": -0.13554720048212318, \"perc_off_out\": -0.34255278276329726, \"residual_in\": -1899.28737315551, \"residual_out\": -5557.918900334498, \"statefips\": 6, \"y_pred_in\": 15911.28737315551, \"y_pred_out\": 21782.918900334498, \"type\": \"Feature\", \"geometry\": {\"type\": \"Polygon\", \"coordinates\": [[[-123.54092201163401, 38.76765621603929], [-123.368236, 38.777066], [-123.136253, 38.809135999999995], [-123.080997, 38.852438], [-122.821592, 38.850139999999996], [-122.77248, 38.821529999999996], [-122.627396, 38.667505999999996], [-122.646421, 38.598593], [-122.602659, 38.557496], [-122.543893, 38.519966], [-122.349564, 38.193971999999995], [-122.406786, 38.155632], [-122.39758123062401, 38.14200359725329], [-122.48849963925902, 38.1090944743082], [-122.505707, 38.115525999999996], [-122.56509299999999, 38.182217], [-122.7399, 38.207018], [-122.910943, 38.321222], [-123.003146477056, 38.2957052387145], [-123.004122, 38.297011999999995], [-123.053504, 38.299385], [-123.068437, 38.33521], [-123.085572, 38.390525], [-123.166428, 38.474947], [-123.249797, 38.511044999999996], [-123.33189899999999, 38.565542], [-123.34961200000001, 38.596804999999996], [-123.441774, 38.699743999999995], [-123.51478399999999, 38.741966], [-123.54092201163401, 38.76765621603929]]]}}, {\"AFFGEOID\": \"0500000US06007\", \"ALAND\": 4238438186, \"AWATER\": 105311003, \"COUNTYFP\": 7, \"COUNTYNS\": \"01675842\", \"GEOID\": \"06007\", \"LSAD\": \"06\", \"NAME\": \"Butte\", \"STATEFP\": 6, \"countyfips\": 7, \"in_t_minus_0\": 6449.0, \"in_t_minus_1\": 7993.0, \"in_t_minus_2\": 10807.0, \"in_t_minus_3\": 7572.0, \"in_t_minus_4\": 5540.0, \"out_t_minus_0\": 14647.0, \"out_t_minus_1\": 10622.0, \"out_t_minus_2\": 9275.0, \"out_t_minus_3\": 7382.0, \"out_t_minus_4\": 5165.0, \"perc_off_in\": -0.19165147344867495, \"perc_off_out\": 0.12383213490301467, \"residual_in\": -1235.9603522705047, \"residual_out\": 1813.769279924456, \"statefips\": 6, \"y_pred_in\": 7684.960352270505, \"y_pred_out\": 12833.230720075544, \"type\": \"Feature\", \"geometry\": {\"type\": \"Polygon\", \"coordinates\": [[[-122.044865, 39.883770999999996], [-121.804041, 39.884344], [-121.70324099999999, 39.98423], [-121.64603199999999, 39.982527], [-121.586407, 40.100522], [-121.436886, 40.151905], [-121.366818, 40.086054], [-121.41948, 40.015766], [-121.429957, 39.900313], [-121.350821, 39.825703999999995], [-121.210878, 39.725651], [-121.136715, 39.628169], [-121.076695, 39.597263999999996], [-121.149907, 39.526446], [-121.305122, 39.519585], [-121.33442, 39.425211999999995], [-121.407527, 39.339754], [-121.62376, 39.295621], [-121.638066, 39.305566], [-121.908269, 39.303878], [-121.899109, 39.357285999999995], [-121.890013, 39.383863999999996], [-121.856532, 39.536904], [-121.994021, 39.533926], [-121.994343, 39.671458], [-121.94962, 39.732963999999996], [-121.967868, 39.722397], [-122.026498, 39.800137], [-122.046471, 39.797647999999995], [-122.044865, 39.883770999999996]]]}}, {\"AFFGEOID\": \"0500000US06025\", \"ALAND\": 10817292933, \"AWATER\": 790212281, \"COUNTYFP\": 25, \"COUNTYNS\": \"00277277\", \"GEOID\": \"06025\", \"LSAD\": \"06\", \"NAME\": \"Imperial\", \"STATEFP\": 6, \"countyfips\": 25, \"in_t_minus_0\": 4626.0, \"in_t_minus_1\": 5069.0, \"in_t_minus_2\": 6277.0, \"in_t_minus_3\": 5579.0, \"in_t_minus_4\": 4957.0, \"out_t_minus_0\": 5769.0, \"out_t_minus_1\": 5968.0, \"out_t_minus_2\": 6932.0, \"out_t_minus_3\": 7007.0, \"out_t_minus_4\": 6902.0, \"perc_off_in\": -0.040512966628608045, \"perc_off_out\": -0.17252947460759896, \"residual_in\": -187.41298362394082, \"residual_out\": -995.3225390112384, \"statefips\": 6, \"y_pred_in\": 4813.412983623941, \"y_pred_out\": 6764.322539011238, \"type\": \"Feature\", \"geometry\": {\"type\": \"Polygon\", \"coordinates\": [[[-116.105634, 32.72157], [-116.08109, 33.074833], [-116.085165, 33.425931999999996], [-115.467506, 33.426992], [-114.830833, 33.430094], [-114.629146518189, 33.433544999999796], [-114.635183, 33.422726], [-114.673901, 33.418299], [-114.72528199999999, 33.405048], [-114.707348, 33.376628], [-114.707962, 33.323420999999996], [-114.723259, 33.288078999999996], [-114.674491, 33.255597], [-114.678097, 33.2303], [-114.679359, 33.159518999999996], [-114.706175, 33.105335], [-114.670803, 33.037984], [-114.628293, 33.031051999999995], [-114.575161, 33.036542], [-114.517066790281, 33.0246287635685], [-114.511343, 33.023455], [-114.481315, 32.972063999999996], [-114.47664, 32.923628], [-114.463127, 32.901883999999995], [-114.468971, 32.845155], [-114.531746, 32.782503], [-114.570675, 32.747417], [-114.617386523962, 32.7410527731766], [-114.667493, 32.734226], [-114.70571699999999, 32.741581], [-114.719633, 32.718762999999996], [-115.000802, 32.699676], [-115.465164, 32.667100000000005], [-116.04662, 32.623353], [-116.10617888905001, 32.6185781426356], [-116.105634, 32.72157]]]}}, {\"AFFGEOID\": \"0500000US06057\", \"ALAND\": 2480587324, \"AWATER\": 41531993, \"COUNTYFP\": 57, \"COUNTYNS\": \"01682927\", \"GEOID\": \"06057\", \"LSAD\": \"06\", \"NAME\": \"Nevada\", \"STATEFP\": 6, \"countyfips\": 57, \"in_t_minus_0\": 5348.0, \"in_t_minus_1\": 5889.0, \"in_t_minus_2\": 7413.0, \"in_t_minus_3\": 5326.0, \"in_t_minus_4\": 3774.0, \"out_t_minus_0\": 5072.0, \"out_t_minus_1\": 4910.0, \"out_t_minus_2\": 5919.0, \"out_t_minus_3\": 4664.0, \"out_t_minus_4\": 3600.0, \"perc_off_in\": -0.10265847836087057, \"perc_off_out\": -0.2804118780540622, \"residual_in\": -549.0175422739358, \"residual_out\": -1422.2490454902036, \"statefips\": 6, \"y_pred_in\": 5897.017542273936, \"y_pred_out\": 6494.249045490204, \"type\": \"Feature\", \"geometry\": {\"type\": \"Polygon\", \"coordinates\": [[[-121.266132, 39.272717], [-121.127481, 39.380237], [-121.022085, 39.391557999999996], [-120.992703, 39.414392], [-120.755729, 39.452663], [-120.654561, 39.52692], [-120.575594, 39.522290999999996], [-120.505445, 39.446117], [-120.003028919657, 39.4450457761605], [-120.004795512304, 39.316475011958495], [-120.03665699999999, 39.316334], [-120.322378, 39.316427], [-120.55460000000001, 39.315596], [-120.67143300000001, 39.310370999999996], [-120.727893, 39.288081], [-120.98634799999999, 39.102233999999996], [-121.068788, 39.005176999999996], [-121.137979, 39.037911], [-121.279533, 39.034617999999995], [-121.266132, 39.272717]]]}}, {\"AFFGEOID\": \"0500000US06051\", \"ALAND\": 7896838487, \"AWATER\": 214695672, \"COUNTYFP\": 51, \"COUNTYNS\": \"00277290\", \"GEOID\": \"06051\", \"LSAD\": \"06\", \"NAME\": \"Mono\", \"STATEFP\": 6, \"countyfips\": 51, \"in_t_minus_0\": 752.0, \"in_t_minus_1\": 842.0, \"in_t_minus_2\": 1070.0, \"in_t_minus_3\": 859.0, \"in_t_minus_4\": 591.0, \"out_t_minus_0\": 784.0, \"out_t_minus_1\": 886.0, \"out_t_minus_2\": 1182.0, \"out_t_minus_3\": 862.0, \"out_t_minus_4\": 743.0, \"perc_off_in\": -0.30576579482643784, \"perc_off_out\": -0.4763645287456098, \"residual_in\": -229.93587770948125, \"residual_out\": -373.4697905365581, \"statefips\": 6, \"y_pred_in\": 981.9358777094812, \"y_pred_out\": 1157.469790536558, \"type\": \"Feature\", \"geometry\": {\"type\": \"Polygon\", \"coordinates\": [[[-119.639205, 38.326879999999996], [-119.542332, 38.481221], [-119.619066, 38.603529], [-119.58540614483901, 38.7131509006712], [-119.328704521076, 38.5343519277975], [-119.279262, 38.499914], [-119.15722610087201, 38.4143919717613], [-118.949673, 38.26894], [-118.500958, 37.949019], [-118.42799532515701, 37.8962242809098], [-118.022181, 37.602582999999996], [-117.83350404414401, 37.464938766244494], [-118.775014, 37.463052], [-118.85047399999999, 37.475795999999995], [-118.91705999999999, 37.550336], [-119.022363, 37.585737], [-119.124312, 37.733944], [-119.268979, 37.73923], [-119.20128, 37.804328999999996], [-119.200283, 37.885827], [-119.308389, 37.946824], [-119.30458999999999, 38.023891], [-119.345922, 38.083113], [-119.469456, 38.128282999999996], [-119.57649599999999, 38.157661], [-119.632671, 38.198858], [-119.604182, 38.234961], [-119.651509, 38.286462], [-119.639205, 38.326879999999996]]]}}, {\"AFFGEOID\": \"0500000US06101\", \"ALAND\": 1560546527, \"AWATER\": 15240593, \"COUNTYFP\": 101, \"COUNTYNS\": \"00277315\", \"GEOID\": \"06101\", \"LSAD\": \"06\", \"NAME\": \"Sutter\", \"STATEFP\": 6, \"countyfips\": 101, \"in_t_minus_0\": 4689.0, \"in_t_minus_1\": 5184.0, \"in_t_minus_2\": 6126.0, \"in_t_minus_3\": 4732.0, \"in_t_minus_4\": 3682.0, \"out_t_minus_0\": 4631.0, \"out_t_minus_1\": 5099.0, \"out_t_minus_2\": 6386.0, \"out_t_minus_3\": 4597.0, \"out_t_minus_4\": 3684.0, \"perc_off_in\": -0.14821809822413906, \"perc_off_out\": -0.29716613145905546, \"residual_in\": -694.9946625729881, \"residual_out\": -1376.176354786886, \"statefips\": 6, \"y_pred_in\": 5383.994662572988, \"y_pred_out\": 6007.176354786886, \"type\": \"Feature\", \"geometry\": {\"type\": \"Polygon\", \"coordinates\": [[[-121.908269, 39.303878], [-121.638066, 39.305566], [-121.62376, 39.295621], [-121.58591, 39.089690999999995], [-121.610138, 39.057846999999995], [-121.57541499999999, 38.918348], [-121.543306, 38.972404], [-121.414779, 38.996452], [-121.414399, 38.926214], [-121.469356, 38.925992], [-121.484396, 38.734598], [-121.559868, 38.736301999999995], [-121.60289399999999, 38.735838], [-121.67382599999999, 38.743141], [-121.749747, 38.871243], [-121.835488, 38.924481], [-121.795366, 38.995686], [-121.889101, 39.072373], [-121.945514, 39.179843], [-121.908269, 39.303878]]]}}, {\"AFFGEOID\": \"0500000US06047\", \"ALAND\": 5013300944, \"AWATER\": 111383846, \"COUNTYFP\": 47, \"COUNTYNS\": \"00277288\", \"GEOID\": \"06047\", \"LSAD\": \"06\", \"NAME\": \"Merced\", \"STATEFP\": 6, \"countyfips\": 47, \"in_t_minus_0\": 10363.0, \"in_t_minus_1\": 10752.0, \"in_t_minus_2\": 12693.0, \"in_t_minus_3\": 9840.0, \"in_t_minus_4\": 7910.0, \"out_t_minus_0\": 9078.0, \"out_t_minus_1\": 9356.0, \"out_t_minus_2\": 11191.0, \"out_t_minus_3\": 9289.0, \"out_t_minus_4\": 7671.0, \"perc_off_in\": -0.016719142824747936, \"perc_off_out\": -0.2730660011556583, \"residual_in\": -173.26047709286286, \"residual_out\": -2478.893158491066, \"statefips\": 6, \"y_pred_in\": 10536.260477092863, \"y_pred_out\": 11556.893158491066, \"type\": \"Feature\", \"geometry\": {\"type\": \"Polygon\", \"coordinates\": [[[-121.226804, 37.134774], [-120.963812, 37.346143999999995], [-120.989811, 37.395871], [-120.38767, 37.633364], [-120.177636, 37.261525999999996], [-120.052055, 37.183108], [-120.106385, 37.167153], [-120.22728599999999, 37.1634], [-120.476692, 37.09639], [-120.541696, 37.044505], [-120.590566, 36.952641], [-120.65595, 36.952832], [-120.918731, 36.740381], [-121.141523, 36.836656], [-121.234683, 36.926894], [-121.215406, 36.961248], [-121.245887, 36.983036], [-121.226804, 37.134774]]]}}, {\"AFFGEOID\": \"0500000US06087\", \"ALAND\": 1152866293, \"AWATER\": 419671509, \"COUNTYFP\": 87, \"COUNTYNS\": \"00277308\", \"GEOID\": \"06087\", \"LSAD\": \"06\", \"NAME\": \"Santa Cruz\", \"STATEFP\": 6, \"countyfips\": 87, \"in_t_minus_0\": 9177.0, \"in_t_minus_1\": 9840.0, \"in_t_minus_2\": 12552.0, \"in_t_minus_3\": 10364.0, \"in_t_minus_4\": 8215.0, \"out_t_minus_0\": 10728.0, \"out_t_minus_1\": 11365.0, \"out_t_minus_2\": 14341.0, \"out_t_minus_3\": 11044.0, \"out_t_minus_4\": 8325.0, \"perc_off_in\": -0.140478314837606, \"perc_off_out\": -0.266340156202986, \"residual_in\": -1289.1694952647103, \"residual_out\": -2857.297195745634, \"statefips\": 6, \"y_pred_in\": 10466.16949526471, \"y_pred_out\": 13585.297195745634, \"type\": \"Feature\", \"geometry\": {\"type\": \"Polygon\", \"coordinates\": [[[-122.31768199999999, 37.186945], [-122.152774, 37.215444], [-122.152278, 37.286055], [-121.99109, 37.14427], [-121.84629, 37.09702], [-121.809076, 37.069300999999996], [-121.738627, 36.990085], [-121.581354, 36.899152], [-121.644001, 36.893996], [-121.699956, 36.919683], [-121.81273242676201, 36.8500494437455], [-121.862266, 36.931551999999996], [-121.906468, 36.96895], [-121.95167000000001, 36.97145], [-122.027174, 36.95115], [-122.06731672906, 36.9535956897314], [-122.105976, 36.955951], [-122.20618, 37.013949], [-122.260481, 37.072548], [-122.284882, 37.101746999999996], [-122.29431019191301, 37.105141386718095], [-122.31768199999999, 37.186945]]]}}, {\"AFFGEOID\": \"0500000US06085\", \"ALAND\": 3343896477, \"AWATER\": 33589866, \"COUNTYFP\": 85, \"COUNTYNS\": \"00277307\", \"GEOID\": \"06085\", \"LSAD\": \"06\", \"NAME\": \"Santa Clara\", \"STATEFP\": 6, \"countyfips\": 85, \"in_t_minus_0\": 67142.0, \"in_t_minus_1\": 67849.0, \"in_t_minus_2\": 82359.0, \"in_t_minus_3\": 63684.0, \"in_t_minus_4\": 48482.0, \"out_t_minus_0\": 90553.0, \"out_t_minus_1\": 94537.0, \"out_t_minus_2\": 119741.0, \"out_t_minus_3\": 87208.0, \"out_t_minus_4\": 59202.0, \"perc_off_in\": -0.06978098836357038, \"perc_off_out\": -0.2269168409078783, \"residual_in\": -4685.235120706842, \"residual_out\": -20548.000694731105, \"statefips\": 6, \"y_pred_in\": 71827.23512070684, \"y_pred_out\": 111101.0006947311, \"type\": \"Feature\", \"geometry\": {\"type\": \"Polygon\", \"coordinates\": [[[-122.190402, 37.431472], [-122.144933, 37.458200000000005], [-122.081473, 37.477838], [-122.059673, 37.464087], [-121.925041, 37.454186], [-121.855762, 37.484536999999996], [-121.47264799999999, 37.482169999999996], [-121.405753, 37.31099], [-121.459051, 37.282739], [-121.399451, 37.150386], [-121.282271, 37.183675], [-121.226804, 37.134774], [-121.245887, 36.983036], [-121.215406, 36.961248], [-121.418246, 36.960549], [-121.452182, 36.988759], [-121.501488, 36.971894999999996], [-121.510185, 36.956019], [-121.513813, 36.945155], [-121.534463, 36.930932999999996], [-121.540016, 36.920764999999996], [-121.54800900000001, 36.917390999999995], [-121.581354, 36.899152], [-121.738627, 36.990085], [-121.809076, 37.069300999999996], [-121.84629, 37.09702], [-121.99109, 37.14427], [-122.152278, 37.286055], [-122.192665, 37.31801], [-122.190402, 37.431472]]]}}, {\"AFFGEOID\": \"0500000US06061\", \"ALAND\": 3644325262, \"AWATER\": 246494490, \"COUNTYFP\": 61, \"COUNTYNS\": \"00277295\", \"GEOID\": \"06061\", \"LSAD\": \"06\", \"NAME\": \"Placer\", \"STATEFP\": 6, \"countyfips\": 61, \"in_t_minus_0\": 24687.0, \"in_t_minus_1\": 26670.0, \"in_t_minus_2\": 35425.0, \"in_t_minus_3\": 24292.0, \"in_t_minus_4\": 15604.0, \"out_t_minus_0\": 20359.0, \"out_t_minus_1\": 20192.0, \"out_t_minus_2\": 25755.0, \"out_t_minus_3\": 18944.0, \"out_t_minus_4\": 13889.0, \"perc_off_in\": -0.10109108521209621, \"perc_off_out\": -0.35900289949184994, \"residual_in\": -2495.6356206310193, \"residual_out\": -7308.940030754573, \"statefips\": 6, \"y_pred_in\": 27182.63562063102, \"y_pred_out\": 27667.940030754573, \"type\": \"Feature\", \"geometry\": {\"type\": \"Polygon\", \"coordinates\": [[[-121.469356, 38.925992], [-121.414399, 38.926214], [-121.414779, 38.996452], [-121.365643, 39.031743], [-121.332135, 39.042021], [-121.279533, 39.034617999999995], [-121.137979, 39.037911], [-121.068788, 39.005176999999996], [-120.98634799999999, 39.102233999999996], [-120.727893, 39.288081], [-120.67143300000001, 39.310370999999996], [-120.55460000000001, 39.315596], [-120.322378, 39.316427], [-120.03665699999999, 39.316334], [-120.004795512304, 39.316475011958495], [-120.005142, 39.291258], [-120.003364028833, 39.1656267640688], [-120.002614842913, 39.112689374095794], [-120.001975250867, 39.0674958744683], [-120.143663, 39.067285], [-120.184098, 39.031014], [-120.435299, 39.028163], [-120.470985, 38.965506999999995], [-120.563747, 38.913705], [-120.642458, 38.944404], [-120.746395, 39.010352], [-120.812295, 39.000133], [-120.858903, 38.952256], [-120.940281, 38.962339], [-121.037502, 38.915689], [-121.040511, 38.915538], [-121.057993, 38.847846], [-121.141009, 38.71198], [-121.30883, 38.722789999999996], [-121.381658, 38.727796], [-121.484396, 38.734598], [-121.469356, 38.925992]]]}}, {\"AFFGEOID\": \"0500000US06015\", \"ALAND\": 2606117983, \"AWATER\": 578742642, \"COUNTYFP\": 15, \"COUNTYNS\": \"01682074\", \"GEOID\": \"06015\", \"LSAD\": \"06\", \"NAME\": \"Del Norte\", \"STATEFP\": 6, \"countyfips\": 15, \"in_t_minus_0\": 893.0, \"in_t_minus_1\": 1116.0, \"in_t_minus_2\": 1415.0, \"in_t_minus_3\": 1271.0, \"in_t_minus_4\": 772.0, \"out_t_minus_0\": 811.0, \"out_t_minus_1\": 974.0, \"out_t_minus_2\": 1226.0, \"out_t_minus_3\": 951.0, \"out_t_minus_4\": 830.0, \"perc_off_in\": -0.6125893569005691, \"perc_off_out\": -0.7330823365761195, \"residual_in\": -547.0422957122082, \"residual_out\": -594.529774963233, \"statefips\": 6, \"y_pred_in\": 1440.0422957122082, \"y_pred_out\": 1405.529774963233, \"type\": \"Feature\", \"geometry\": {\"type\": \"Polygon\", \"coordinates\": [[[-124.219592, 41.846432], [-124.203402, 41.940964], [-124.21160499999999, 41.99846], [-124.001188, 41.996145999999996], [-123.822037598588, 41.995620816947], [-123.656998, 41.995137], [-123.51911283680401, 41.9991725180329], [-123.56544199999999, 41.903141], [-123.64281199999999, 41.889353], [-123.703681, 41.829487], [-123.66020499999999, 41.714054999999995], [-123.719174, 41.595613], [-123.648046, 41.535024], [-123.61179, 41.462126999999995], [-123.661363, 41.38209], [-123.770239, 41.380776], [-123.770551, 41.464193], [-124.067473659422, 41.464736188490896], [-124.081987, 41.547761], [-124.116037, 41.628848999999995], [-124.143479, 41.709284], [-124.154246, 41.728801], [-124.19104, 41.736079], [-124.245027, 41.792300000000004], [-124.219592, 41.846432]]]}}, {\"AFFGEOID\": \"0500000US06043\", \"ALAND\": 3752472149, \"AWATER\": 36225644, \"COUNTYFP\": 43, \"COUNTYNS\": \"00277286\", \"GEOID\": \"06043\", \"LSAD\": \"06\", \"NAME\": \"Mariposa\", \"STATEFP\": 6, \"countyfips\": 43, \"in_t_minus_0\": 869.0, \"in_t_minus_1\": 937.0, \"in_t_minus_2\": 1288.0, \"in_t_minus_3\": 926.0, \"in_t_minus_4\": 634.0, \"out_t_minus_0\": 982.0, \"out_t_minus_1\": 975.0, \"out_t_minus_2\": 1195.0, \"out_t_minus_3\": 949.0, \"out_t_minus_4\": 730.0, \"perc_off_in\": -0.13174577015044117, \"perc_off_out\": -0.38503746746008866, \"residual_in\": -114.48707426073338, \"residual_out\": -378.1067930458071, \"statefips\": 6, \"y_pred_in\": 983.4870742607334, \"y_pred_out\": 1360.106793045807, \"type\": \"Feature\", \"geometry\": {\"type\": \"Polygon\", \"coordinates\": [[[-120.391931, 37.683558999999995], [-120.30631199999999, 37.665419], [-120.345437, 37.724787], [-120.12722600000001, 37.781566], [-120.079508, 37.828807999999995], [-119.907013, 37.757926], [-119.809409, 37.755024999999996], [-119.667203, 37.801224], [-119.646203, 37.846823], [-119.535699, 37.904122], [-119.474295, 37.855623], [-119.426792, 37.866724], [-119.308995, 37.777986], [-119.583585, 37.560334999999995], [-119.58422, 37.494696], [-119.651172, 37.461351], [-119.651191, 37.417832], [-119.761809, 37.417114], [-120.052055, 37.183108], [-120.177636, 37.261525999999996], [-120.38767, 37.633364], [-120.387613, 37.633704], [-120.391931, 37.683558999999995]]]}}, {\"AFFGEOID\": \"0500000US06069\", \"ALAND\": 3596590995, \"AWATER\": 4719296, \"COUNTYFP\": 69, \"COUNTYNS\": \"00277299\", \"GEOID\": \"06069\", \"LSAD\": \"06\", \"NAME\": \"San Benito\", \"STATEFP\": 6, \"countyfips\": 69, \"in_t_minus_0\": 3934.0, \"in_t_minus_1\": 4405.0, \"in_t_minus_2\": 4690.0, \"in_t_minus_3\": 3472.0, \"in_t_minus_4\": 2490.0, \"out_t_minus_0\": 3056.0, \"out_t_minus_1\": 3103.0, \"out_t_minus_2\": 3585.0, \"out_t_minus_3\": 2859.0, \"out_t_minus_4\": 2405.0, \"perc_off_in\": -0.1305377434423777, \"perc_off_out\": -0.3517045929630305, \"residual_in\": -513.5354827023139, \"residual_out\": -1074.8092360950213, \"statefips\": 6, \"y_pred_in\": 4447.535482702314, \"y_pred_out\": 4130.809236095021, \"type\": \"Feature\", \"geometry\": {\"type\": \"Polygon\", \"coordinates\": [[[-121.644001, 36.893996], [-121.581354, 36.899152], [-121.54800900000001, 36.917390999999995], [-121.540016, 36.920764999999996], [-121.534463, 36.930932999999996], [-121.513813, 36.945155], [-121.510185, 36.956019], [-121.501488, 36.971894999999996], [-121.452182, 36.988759], [-121.418246, 36.960549], [-121.215406, 36.961248], [-121.234683, 36.926894], [-121.141523, 36.836656], [-120.918731, 36.740381], [-120.597155, 36.488234999999996], [-120.596562, 36.328488], [-120.678582, 36.267319], [-120.75834, 36.308603999999995], [-120.717696, 36.260011999999996], [-120.718426, 36.196847999999996], [-120.761483, 36.203579999999995], [-120.86508, 36.292578], [-120.920551, 36.311012], [-121.027362, 36.260079999999995], [-121.040797, 36.323969], [-121.193465, 36.445751], [-121.244091, 36.506910999999995], [-121.311788, 36.502736], [-121.318373, 36.610026], [-121.350092, 36.648357], [-121.468086, 36.685518], [-121.45134, 36.724793], [-121.597698, 36.83735], [-121.644001, 36.893996]]]}}, {\"AFFGEOID\": \"0500000US06059\", \"ALAND\": 2053294769, \"AWATER\": 402004844, \"COUNTYFP\": 59, \"COUNTYNS\": \"00277294\", \"GEOID\": \"06059\", \"LSAD\": \"06\", \"NAME\": \"Orange\", \"STATEFP\": 6, \"countyfips\": 59, \"in_t_minus_0\": 98516.0, \"in_t_minus_1\": 101722.0, \"in_t_minus_2\": 129310.0, \"in_t_minus_3\": 101832.0, \"in_t_minus_4\": 79171.0, \"out_t_minus_0\": 112483.0, \"out_t_minus_1\": 119578.0, \"out_t_minus_2\": 151485.0, \"out_t_minus_3\": 112899.0, \"out_t_minus_4\": 86359.0, \"perc_off_in\": -0.080769979995709, \"perc_off_out\": -0.2364498969675862, \"residual_in\": -7957.135349257267, \"residual_out\": -26596.593760605, \"statefips\": 6, \"y_pred_in\": 106473.13534925727, \"y_pred_out\": 139079.593760605, \"type\": \"Feature\", \"geometry\": {\"type\": \"Polygon\", \"coordinates\": [[[-118.093099, 33.786152], [-118.063268, 33.824107], [-118.058655, 33.846126999999996], [-118.02871400000001, 33.866242], [-117.976593, 33.902809999999995], [-117.966691, 33.946058], [-117.919725, 33.947668], [-117.783287, 33.946411], [-117.673134, 33.871005], [-117.67505299999999, 33.868725], [-117.533999, 33.710355], [-117.412987, 33.659045], [-117.457937, 33.602188999999996], [-117.51021, 33.533999], [-117.509722, 33.505019], [-117.508614, 33.469614], [-117.57848, 33.453927], [-117.596188685737, 33.3869649943199], [-117.64558199999999, 33.440728], [-117.715349, 33.460556], [-117.726486, 33.483427], [-117.73225829761401, 33.4879550239786], [-117.814188, 33.552223999999995], [-117.840289, 33.573523], [-117.927091, 33.605520999999996], [-118.000593, 33.654319], [-118.088896, 33.729817], [-118.11507672288201, 33.743803322895], [-118.093099, 33.786152]]]}}, {\"AFFGEOID\": \"0500000US06071\", \"ALAND\": 51954895600, \"AWATER\": 117095140, \"COUNTYFP\": 71, \"COUNTYNS\": \"00277300\", \"GEOID\": \"06071\", \"LSAD\": \"06\", \"NAME\": \"San Bernardino\", \"STATEFP\": 6, \"countyfips\": 71, \"in_t_minus_0\": 93020.0, \"in_t_minus_1\": 98635.0, \"in_t_minus_2\": 120592.0, \"in_t_minus_3\": 93376.0, \"in_t_minus_4\": 74942.0, \"out_t_minus_0\": 90665.0, \"out_t_minus_1\": 95093.0, \"out_t_minus_2\": 116261.0, \"out_t_minus_3\": 89898.0, \"out_t_minus_4\": 73544.0, \"perc_off_in\": -0.05859293481432317, \"perc_off_out\": -0.2302474622667018, \"residual_in\": -5450.314796428342, \"residual_out\": -20875.38616641052, \"statefips\": 6, \"y_pred_in\": 98470.31479642834, \"y_pred_out\": 111540.38616641052, \"type\": \"Feature\", \"geometry\": {\"type\": \"Polygon\", \"coordinates\": [[[-117.802539, 33.975550999999996], [-117.767752, 34.019428999999995], [-117.744342, 34.019852], [-117.711067, 34.079536], [-117.70429, 34.095054999999995], [-117.693545, 34.121627], [-117.677405, 34.166103], [-117.646374, 34.28917], [-117.655235, 34.397222], [-117.667292, 34.822525999999996], [-117.632011, 34.822269999999996], [-117.630126, 35.564071], [-117.616195, 35.680856], [-117.651986, 35.709934], [-117.63299599999999, 35.797250999999996], [-117.251015, 35.795004], [-116.277263, 35.793394], [-115.735891, 35.79362], [-115.648032019625, 35.8096292126029], [-115.647683, 35.809357999999996], [-115.404537, 35.617605], [-115.303743, 35.538207], [-115.160068, 35.424129], [-115.043812, 35.332012], [-114.804249, 35.139689], [-114.633487, 35.001857], [-114.629769, 34.943039999999996], [-114.634382, 34.87289], [-114.576452, 34.8153], [-114.490971, 34.724848], [-114.465246, 34.691202], [-114.422382, 34.580711], [-114.378223, 34.516521], [-114.378852, 34.450376], [-114.335372, 34.450038], [-114.264317, 34.401329], [-114.172845, 34.344978999999995], [-114.14093, 34.305918999999996], [-114.14081715128, 34.3031275138817], [-114.139055, 34.259538], [-114.17805, 34.239968999999995], [-114.229715, 34.186928], [-114.292806, 34.166725], [-114.348052, 34.134457999999995], [-114.405941, 34.11154], [-114.428026, 34.092787], [-114.43009113852001, 34.078931406279494], [-115.316065, 34.077843], [-115.31621200000001, 34.03411], [-116.300631, 34.032544], [-116.929558, 34.034113], [-116.929357, 34.004914], [-117.104737, 34.004014999999995], [-117.121293, 34.003916], [-117.22537299999999, 34.018715], [-117.371588, 34.019399], [-117.375278, 34.033875], [-117.558269, 34.018906], [-117.610947, 33.925114], [-117.65537499999999, 33.924343], [-117.673134, 33.871005], [-117.783287, 33.946411], [-117.802539, 33.975550999999996]]]}}, {\"AFFGEOID\": \"0500000US06005\", \"ALAND\": 1539933577, \"AWATER\": 29470567, \"COUNTYFP\": 5, \"COUNTYNS\": \"01675841\", \"GEOID\": \"06005\", \"LSAD\": \"06\", \"NAME\": \"Amador\", \"STATEFP\": 6, \"countyfips\": 5, \"in_t_minus_0\": 2019.0, \"in_t_minus_1\": 2070.0, \"in_t_minus_2\": 2775.0, \"in_t_minus_3\": 1960.0, \"in_t_minus_4\": 1283.0, \"out_t_minus_0\": 1486.0, \"out_t_minus_1\": 1619.0, \"out_t_minus_2\": 1893.0, \"out_t_minus_3\": 1395.0, \"out_t_minus_4\": 1040.0, \"perc_off_in\": -0.07285150946067535, \"perc_off_out\": -0.5438580026349403, \"residual_in\": -147.08719760110353, \"residual_out\": -808.1729919155214, \"statefips\": 6, \"y_pred_in\": 2166.0871976011035, \"y_pred_out\": 2294.1729919155214, \"type\": \"Feature\", \"geometry\": {\"type\": \"Polygon\", \"coordinates\": [[[-121.027507, 38.508292], [-120.92711299999999, 38.514965], [-120.813554, 38.562193], [-120.62760399999999, 38.503143], [-120.51059599999999, 38.511466999999996], [-120.301721, 38.549109], [-120.21278699999999, 38.629371], [-120.140084, 38.638374], [-120.098322, 38.709029], [-120.07239200000001, 38.702767], [-120.072484, 38.509868999999995], [-120.205702, 38.501039], [-120.33104, 38.465191999999995], [-120.423215, 38.473321999999996], [-120.614881, 38.389407999999996], [-120.63129, 38.340263], [-120.810126, 38.28201], [-120.892864, 38.221574], [-120.995497, 38.225401999999995], [-121.027084, 38.300252], [-121.027507, 38.508292]]]}}, {\"AFFGEOID\": \"0500000US06103\", \"ALAND\": 7638228750, \"AWATER\": 33767783, \"COUNTYFP\": 103, \"COUNTYNS\": \"01692767\", \"GEOID\": \"06103\", \"LSAD\": \"06\", \"NAME\": \"Tehama\", \"STATEFP\": 6, \"countyfips\": 103, \"in_t_minus_0\": 3466.0, \"in_t_minus_1\": 3375.0, \"in_t_minus_2\": 3873.0, \"in_t_minus_3\": 2931.0, \"in_t_minus_4\": 2199.0, \"out_t_minus_0\": 3216.0, \"out_t_minus_1\": 2664.0, \"out_t_minus_2\": 3437.0, \"out_t_minus_3\": 2583.0, \"out_t_minus_4\": 2095.0, \"perc_off_in\": -0.0001412925548405637, \"perc_off_out\": -0.06380820257664083, \"residual_in\": -0.48971999507739383, \"residual_out\": -205.2071794864769, \"statefips\": 6, \"y_pred_in\": 3466.4897199950774, \"y_pred_out\": 3421.207179486477, \"type\": \"Feature\", \"geometry\": {\"type\": \"Polygon\", \"coordinates\": [[[-123.065426, 40.286971], [-122.976548, 40.315162], [-122.918472, 40.306757999999995], [-122.872769, 40.348848], [-122.749393, 40.365522], [-122.651341, 40.328288], [-122.523997, 40.3945], [-122.445021, 40.373398], [-122.310412, 40.371064], [-122.010316, 40.426558], [-121.940989, 40.415330999999995], [-121.806539, 40.44495], [-121.64633, 40.434726], [-121.497635, 40.445591], [-121.470395, 40.350213], [-121.342264, 40.309751], [-121.36839499999999, 40.21223], [-121.436886, 40.151905], [-121.586407, 40.100522], [-121.64603199999999, 39.982527], [-121.70324099999999, 39.98423], [-121.804041, 39.884344], [-122.044865, 39.883770999999996], [-122.046471, 39.797647999999995], [-122.911794, 39.799485], [-122.937654, 39.798156], [-122.950077, 39.907717999999996], [-122.909787, 39.936385], [-122.934013, 39.978131], [-122.989623, 40.145496], [-122.97755, 40.241285], [-123.065426, 40.286971]]]}}, {\"AFFGEOID\": \"0500000US06089\", \"ALAND\": 9778230074, \"AWATER\": 186479459, \"COUNTYFP\": 89, \"COUNTYNS\": \"01682610\", \"GEOID\": \"06089\", \"LSAD\": \"06\", \"NAME\": \"Shasta\", \"STATEFP\": 6, \"countyfips\": 89, \"in_t_minus_0\": 7168.0, \"in_t_minus_1\": 7301.0, \"in_t_minus_2\": 9891.0, \"in_t_minus_3\": 7017.0, \"in_t_minus_4\": 5563.0, \"out_t_minus_0\": 7058.0, \"out_t_minus_1\": 7016.0, \"out_t_minus_2\": 8694.0, \"out_t_minus_3\": 6728.0, \"out_t_minus_4\": 5032.0, \"perc_off_in\": 0.0373072796136792, \"perc_off_out\": -0.2345072720580046, \"residual_in\": 267.41858027085254, \"residual_out\": -1655.1523261853963, \"statefips\": 6, \"y_pred_in\": 6900.5814197291475, \"y_pred_out\": 8713.152326185396, \"type\": \"Feature\", \"geometry\": {\"type\": \"Polygon\", \"coordinates\": [[[-123.068789, 40.332232999999995], [-122.998682, 40.418141999999996], [-122.903738, 40.445071], [-122.845954, 40.505181], [-122.69879, 40.569292999999995], [-122.752023, 40.689882], [-122.669839, 40.773567], [-122.66605799999999, 40.825874999999996], [-122.600458, 40.899749], [-122.60736299999999, 40.957747999999995], [-122.527753, 41.014395], [-122.51335399999999, 41.088226999999996], [-122.457144, 41.096610999999996], [-122.445453, 41.15793], [-122.49837600000001, 41.182674999999996], [-121.446495, 41.183484], [-121.331786, 41.183886], [-121.319976, 40.905885999999995], [-121.327826, 40.445367], [-121.361456, 40.446822], [-121.497635, 40.445591], [-121.64633, 40.434726], [-121.806539, 40.44495], [-121.940989, 40.415330999999995], [-122.010316, 40.426558], [-122.310412, 40.371064], [-122.445021, 40.373398], [-122.523997, 40.3945], [-122.651341, 40.328288], [-122.749393, 40.365522], [-122.872769, 40.348848], [-122.918472, 40.306757999999995], [-122.976548, 40.315162], [-123.065426, 40.286971], [-123.068789, 40.332232999999995]]]}}, {\"AFFGEOID\": \"0500000US06021\", \"ALAND\": 3403160290, \"AWATER\": 33693350, \"COUNTYFP\": 21, \"COUNTYNS\": \"00277275\", \"GEOID\": \"06021\", \"LSAD\": \"06\", \"NAME\": \"Glenn\", \"STATEFP\": 6, \"countyfips\": 21, \"in_t_minus_0\": 1353.0, \"in_t_minus_1\": 1344.0, \"in_t_minus_2\": 1390.0, \"in_t_minus_3\": 1055.0, \"in_t_minus_4\": 902.0, \"out_t_minus_0\": 1256.0, \"out_t_minus_1\": 1125.0, \"out_t_minus_2\": 1278.0, \"out_t_minus_3\": 1042.0, \"out_t_minus_4\": 990.0, \"perc_off_in\": 0.042025027691901605, \"perc_off_out\": -0.0955813110636959, \"residual_in\": 56.859862467142875, \"residual_out\": -120.05012669600205, \"statefips\": 6, \"y_pred_in\": 1296.1401375328571, \"y_pred_out\": 1376.050126696002, \"type\": \"Feature\", \"geometry\": {\"type\": \"Polygon\", \"coordinates\": [[[-122.911794, 39.799485], [-122.046471, 39.797647999999995], [-122.026498, 39.800137], [-121.967868, 39.722397], [-121.94962, 39.732963999999996], [-121.994343, 39.671458], [-121.994021, 39.533926], [-121.856532, 39.536904], [-121.890013, 39.383863999999996], [-122.008857, 39.413567], [-122.136161, 39.414499], [-122.192334, 39.385256999999996], [-122.739062, 39.383266], [-122.73563899999999, 39.580667999999996], [-122.885352, 39.580107999999996], [-122.892676, 39.708898], [-122.937654, 39.798156], [-122.911794, 39.799485]]]}}, {\"AFFGEOID\": \"0500000US06063\", \"ALAND\": 6612400908, \"AWATER\": 156387636, \"COUNTYFP\": 63, \"COUNTYNS\": \"00277296\", \"GEOID\": \"06063\", \"LSAD\": \"06\", \"NAME\": \"Plumas\", \"STATEFP\": 6, \"countyfips\": 63, \"in_t_minus_0\": 957.0, \"in_t_minus_1\": 1076.0, \"in_t_minus_2\": 1445.0, \"in_t_minus_3\": 1041.0, \"in_t_minus_4\": 629.0, \"out_t_minus_0\": 977.0, \"out_t_minus_1\": 848.0, \"out_t_minus_2\": 1137.0, \"out_t_minus_3\": 758.0, \"out_t_minus_4\": 693.0, \"perc_off_in\": -0.2795663149096224, \"perc_off_out\": -0.19812876915560193, \"residual_in\": -267.54496336850866, \"residual_out\": -193.57180746502308, \"statefips\": 6, \"y_pred_in\": 1224.5449633685087, \"y_pred_out\": 1170.571807465023, \"type\": \"Feature\", \"geometry\": {\"type\": \"Polygon\", \"coordinates\": [[[-121.497635, 40.445591], [-121.361456, 40.446822], [-121.327826, 40.445367], [-121.061417, 40.446535999999995], [-121.061493, 40.256417], [-120.928582, 40.191931], [-120.764403, 40.31601], [-120.652158, 40.307656], [-120.510817, 40.248945], [-120.482848, 40.205798], [-120.341385, 40.115243], [-120.209641, 40.086008], [-120.201264, 40.013473999999995], [-120.108761, 39.93951], [-120.110627, 39.765778999999995], [-120.147149, 39.707657999999995], [-120.65422699999999, 39.706629], [-120.68075999999999, 39.676832999999995], [-120.792484, 39.709793999999995], [-120.873261, 39.776168], [-120.949435, 39.672548], [-121.009477, 39.639458999999995], [-121.076695, 39.597263999999996], [-121.136715, 39.628169], [-121.210878, 39.725651], [-121.350821, 39.825703999999995], [-121.429957, 39.900313], [-121.41948, 40.015766], [-121.366818, 40.086054], [-121.436886, 40.151905], [-121.36839499999999, 40.21223], [-121.342264, 40.309751], [-121.470395, 40.350213], [-121.497635, 40.445591]]]}}, {\"AFFGEOID\": \"0500000US06027\", \"ALAND\": 26368508430, \"AWATER\": 119088151, \"COUNTYFP\": 27, \"COUNTYNS\": \"01804637\", \"GEOID\": \"06027\", \"LSAD\": \"06\", \"NAME\": \"Inyo\", \"STATEFP\": 6, \"countyfips\": 27, \"in_t_minus_0\": 866.0, \"in_t_minus_1\": 910.0, \"in_t_minus_2\": 1093.0, \"in_t_minus_3\": 832.0, \"in_t_minus_4\": 577.0, \"out_t_minus_0\": 816.0, \"out_t_minus_1\": 803.0, \"out_t_minus_2\": 980.0, \"out_t_minus_3\": 968.0, \"out_t_minus_4\": 651.0, \"perc_off_in\": -0.0677713114307517, \"perc_off_out\": -0.6312260637119248, \"residual_in\": -58.689955699030975, \"residual_out\": -515.0804679889306, \"statefips\": 6, \"y_pred_in\": 924.689955699031, \"y_pred_out\": 1331.0804679889306, \"type\": \"Feature\", \"geometry\": {\"type\": \"Polygon\", \"coordinates\": [[[-118.775014, 37.463052], [-117.83350404414401, 37.464938766244494], [-117.68061, 37.353398999999996], [-117.244917, 37.030243999999996], [-117.16600056403101, 36.9712075385903], [-117.000895, 36.847694], [-116.48823300000001, 36.459097], [-116.37587500000001, 36.372561999999995], [-116.093601, 36.155805], [-115.892975, 35.999967], [-115.846113922762, 35.9635526731109], [-115.648032019625, 35.8096292126029], [-115.735891, 35.79362], [-116.277263, 35.793394], [-117.251015, 35.795004], [-117.63299599999999, 35.797250999999996], [-117.924459, 35.798148999999995], [-118.008043, 35.789161], [-118.005489, 35.862699], [-117.980761, 35.867515], [-118.003577, 35.983717999999996], [-118.03361100000001, 36.008944], [-118.12714700000001, 36.279655999999996], [-118.100317, 36.346137], [-118.21482, 36.435036], [-118.239021, 36.523635], [-118.29052300000001, 36.558535], [-118.274624, 36.597334], [-118.366328, 36.691635], [-118.360586, 36.744772999999995], [-118.389758, 36.834466], [-118.36083099999999, 36.887734], [-118.437137, 37.059818], [-118.59266099999999, 37.138147], [-118.654593, 37.141826], [-118.716016, 37.328208], [-118.78673599999999, 37.343379999999996], [-118.775014, 37.463052]]]}}, {\"AFFGEOID\": \"0500000US06067\", \"ALAND\": 2500490904, \"AWATER\": 74894369, \"COUNTYFP\": 67, \"COUNTYNS\": \"00277298\", \"GEOID\": \"06067\", \"LSAD\": \"06\", \"NAME\": \"Sacramento\", \"STATEFP\": 6, \"countyfips\": 67, \"in_t_minus_0\": 56521.0, \"in_t_minus_1\": 59036.0, \"in_t_minus_2\": 74342.0, \"in_t_minus_3\": 56112.0, \"in_t_minus_4\": 41237.0, \"out_t_minus_0\": 55812.0, \"out_t_minus_1\": 57480.0, \"out_t_minus_2\": 71518.0, \"out_t_minus_3\": 52517.0, \"out_t_minus_4\": 37696.0, \"perc_off_in\": -0.08518323129099761, \"perc_off_out\": -0.27960746555383326, \"residual_in\": -4814.641415798476, \"residual_out\": -15605.451867490541, \"statefips\": 6, \"y_pred_in\": 61335.64141579848, \"y_pred_out\": 71417.45186749054, \"type\": \"Feature\", \"geometry\": {\"type\": \"Polygon\", \"coordinates\": [[[-121.862462, 38.06603], [-121.71213, 38.085519999999995], [-121.685645, 38.159644], [-121.615413, 38.195696], [-121.593273, 38.313089], [-121.521641, 38.360104], [-121.50509, 38.469563], [-121.558701, 38.501939], [-121.551782, 38.513861], [-121.524018, 38.520868], [-121.53089299999999, 38.529365], [-121.513706, 38.540107], [-121.51129, 38.54629], [-121.520965, 38.566205], [-121.506269, 38.586304999999996], [-121.511566, 38.600904], [-121.527667, 38.604603999999995], [-121.544567, 38.597704], [-121.553609, 38.603325999999996], [-121.633774, 38.686164], [-121.60289399999999, 38.735838], [-121.559868, 38.736301999999995], [-121.484396, 38.734598], [-121.381658, 38.727796], [-121.30883, 38.722789999999996], [-121.141009, 38.71198], [-121.118617, 38.717118], [-121.027507, 38.508292], [-121.027084, 38.300252], [-121.222512, 38.244406], [-121.28226699999999, 38.249835999999995], [-121.39819299999999, 38.227427], [-121.448142, 38.255008], [-121.472138, 38.259659], [-121.580022, 38.094414], [-121.673065, 38.093517999999996], [-121.737824, 38.02663], [-121.80127, 38.021622], [-121.862462, 38.06603]]]}}, {\"AFFGEOID\": \"0500000US06031\", \"ALAND\": 3600883824, \"AWATER\": 3162664, \"COUNTYFP\": 31, \"COUNTYNS\": \"00277280\", \"GEOID\": \"06031\", \"LSAD\": \"06\", \"NAME\": \"Kings\", \"STATEFP\": 6, \"countyfips\": 31, \"in_t_minus_0\": 6591.0, \"in_t_minus_1\": 6964.0, \"in_t_minus_2\": 8702.0, \"in_t_minus_3\": 6115.0, \"in_t_minus_4\": 5312.0, \"out_t_minus_0\": 6684.0, \"out_t_minus_1\": 7089.0, \"out_t_minus_2\": 9524.0, \"out_t_minus_3\": 7519.0, \"out_t_minus_4\": 5797.0, \"perc_off_in\": 0.05332075843157136, \"perc_off_out\": -0.2625566954444518, \"residual_in\": 351.4371188224868, \"residual_out\": -1754.928952350716, \"statefips\": 6, \"y_pred_in\": 6239.562881177513, \"y_pred_out\": 8438.928952350716, \"type\": \"Feature\", \"geometry\": {\"type\": \"Polygon\", \"coordinates\": [[[-120.315068, 35.907185999999996], [-119.959058, 36.181747], [-119.959227, 36.400974999999995], [-119.754213, 36.402023], [-119.66640000000001, 36.41888], [-119.573194, 36.488835], [-119.528286, 36.487545], [-119.528792, 36.401465], [-119.474892, 36.400953], [-119.47460699999999, 36.269025], [-119.529358, 36.26985], [-119.53616099999999, 36.050782], [-119.538116, 35.789567], [-120.194146, 35.789204], [-120.213979, 35.789276], [-120.27575999999999, 35.905881], [-120.315068, 35.907185999999996]]]}}, {\"AFFGEOID\": \"0500000US06017\", \"ALAND\": 4423290468, \"AWATER\": 203328472, \"COUNTYFP\": 17, \"COUNTYNS\": \"00277273\", \"GEOID\": \"06017\", \"LSAD\": \"06\", \"NAME\": \"El Dorado\", \"STATEFP\": 6, \"countyfips\": 17, \"in_t_minus_0\": 10501.0, \"in_t_minus_1\": 12099.0, \"in_t_minus_2\": 15850.0, \"in_t_minus_3\": 10532.0, \"in_t_minus_4\": 7131.0, \"out_t_minus_0\": 9348.0, \"out_t_minus_1\": 9418.0, \"out_t_minus_2\": 11148.0, \"out_t_minus_3\": 8502.0, \"out_t_minus_4\": 6506.0, \"perc_off_in\": -0.11413444714352157, \"perc_off_out\": -0.34442760574350473, \"residual_in\": -1198.52582945412, \"residual_out\": -3219.709258490282, \"statefips\": 6, \"y_pred_in\": 11699.52582945412, \"y_pred_out\": 12567.709258490282, \"type\": \"Feature\", \"geometry\": {\"type\": \"Polygon\", \"coordinates\": [[[-121.141009, 38.71198], [-121.057993, 38.847846], [-121.040511, 38.915538], [-121.037502, 38.915689], [-120.940281, 38.962339], [-120.858903, 38.952256], [-120.812295, 39.000133], [-120.746395, 39.010352], [-120.642458, 38.944404], [-120.563747, 38.913705], [-120.470985, 38.965506999999995], [-120.435299, 39.028163], [-120.184098, 39.031014], [-120.143663, 39.067285], [-120.001975250867, 39.0674958744683], [-120.001014, 38.999573999999996], [-119.904315, 38.933324], [-119.877287, 38.870193], [-119.96494799999999, 38.775985999999996], [-120.07239200000001, 38.702767], [-120.098322, 38.709029], [-120.140084, 38.638374], [-120.21278699999999, 38.629371], [-120.301721, 38.549109], [-120.51059599999999, 38.511466999999996], [-120.62760399999999, 38.503143], [-120.813554, 38.562193], [-120.92711299999999, 38.514965], [-121.027507, 38.508292], [-121.118617, 38.717118], [-121.141009, 38.71198]]]}}, {\"AFFGEOID\": \"0500000US06079\", \"ALAND\": 8548611925, \"AWATER\": 815519172, \"COUNTYFP\": 79, \"COUNTYNS\": \"00277304\", \"GEOID\": \"06079\", \"LSAD\": \"06\", \"NAME\": \"San Luis Obispo\", \"STATEFP\": 6, \"countyfips\": 79, \"in_t_minus_0\": 10321.0, \"in_t_minus_1\": 11090.0, \"in_t_minus_2\": 14516.0, \"in_t_minus_3\": 11309.0, \"in_t_minus_4\": 8408.0, \"out_t_minus_0\": 10485.0, \"out_t_minus_1\": 10763.0, \"out_t_minus_2\": 13592.0, \"out_t_minus_3\": 10578.0, \"out_t_minus_4\": 7447.0, \"perc_off_in\": -0.12368008742397267, \"perc_off_out\": -0.33051270999243487, \"residual_in\": -1276.502182302822, \"residual_out\": -3465.42576427068, \"statefips\": 6, \"y_pred_in\": 11597.502182302822, \"y_pred_out\": 13950.42576427068, \"type\": \"Feature\", \"geometry\": {\"type\": \"Polygon\", \"coordinates\": [[[-121.347053956004, 35.7951862038146], [-120.75065000000001, 35.791131], [-120.213979, 35.789276], [-120.194146, 35.789204], [-120.193918, 35.614359], [-120.085922, 35.614523999999996], [-120.086674, 35.526554], [-119.913659, 35.439262], [-119.880045, 35.439133], [-119.880172, 35.351211], [-119.809346, 35.350865], [-119.809449, 35.263584], [-119.666663, 35.262527], [-119.667056, 35.174808999999996], [-119.553641, 35.179975], [-119.560975, 35.087672999999995], [-119.472719, 35.076885], [-119.472754, 34.901174], [-119.535757, 34.897576], [-119.672963, 34.973375], [-119.745566, 34.973676], [-119.92841899999999, 35.059794], [-119.980122, 35.057573], [-120.082084, 35.114678], [-120.167616, 35.075297], [-120.188383, 35.030378], [-120.334548, 35.006315], [-120.301827, 34.905571], [-120.435473, 34.986759], [-120.496222, 34.993155], [-120.65030521184, 34.975166302268704], [-120.63356999999999, 35.033085], [-120.629583, 35.078362], [-120.635787, 35.123805], [-120.675074, 35.153061], [-120.714185, 35.175998], [-120.756086, 35.160458999999996], [-120.84667400000001, 35.204429], [-120.89679, 35.247876999999995], [-120.87957, 35.294184], [-120.862133, 35.360763], [-120.88475700000001, 35.430195999999995], [-120.955863, 35.453742999999996], [-121.003359, 35.46071], [-121.11424, 35.57172], [-121.166712, 35.635399], [-121.272322, 35.666711], [-121.314632, 35.71331], [-121.332449, 35.783106], [-121.347053956004, 35.7951862038146]]]}}]}}, {\"mode\": \"vega-lite\"});\n</script>",
      "text/plain": "alt.Chart(...)"
     },
     "metadata": {}
    }
   ]
  },
  {
   "cell_type": "code",
   "metadata": {
    "cell_id": "d1afe4ef-cf86-4c5d-a3c8-7b3458bb94b7",
    "tags": [],
    "deepnote_to_be_reexecuted": false,
    "source_hash": "edb7c88b",
    "execution_start": 1643402836552,
    "execution_millis": 88,
    "deepnote_output_heights": [
     237
    ],
    "deepnote_cell_type": "code"
   },
   "source": "\n# Plot outputs\nplt.scatter(y_test_in, y_pred_in, color=\"black\")\n\nplt.xticks(())\nplt.yticks(())\n\nplt.show()",
   "execution_count": null,
   "outputs": [
    {
     "data": {
      "text/plain": "<Figure size 432x288 with 1 Axes>",
      "image/png": "[encoded data removed]"
     },
     "metadata": {
      "image/png": {
       "width": 352,
       "height": 235
      }
     },
     "output_type": "display_data"
    }
   ]
  },
  {
   "cell_type": "markdown",
   "source": "## Decision Tree Classifier",
   "metadata": {
    "cell_id": "18794546-29a3-4601-8b1f-30fe67e12f78",
    "tags": [],
    "is_collapsed": false,
    "deepnote_cell_type": "text-cell-h2"
   }
  },
  {
   "cell_type": "code",
   "metadata": {
    "cell_id": "2225c930-51df-45a8-bc77-c8fcfcde1971",
    "tags": [],
    "deepnote_to_be_reexecuted": false,
    "source_hash": "79a21294",
    "execution_start": 1643402836687,
    "execution_millis": 18,
    "deepnote_output_heights": [
     21.1875
    ],
    "deepnote_cell_type": "code"
   },
   "source": "from sklearn.tree import plot_tree\n\n\nclf = DecisionTreeClassifier(random_state=0).fit(X_train, y_train_out)\n\nclf.fit(X_train, y_train_out)\n\ny_pred_out = clf.predict(X_test)\n\n\n# The mean squared error\nprint(\"Square root of mean squared error: %.2f\" %  math.sqrt(mean_squared_error(y_test_out, y_pred_out)))\n\n# The coefficient of determination: 1 is perfect prediction\nprint(\"Coefficient of determination: %.5f\" % r2_score(y_test_out, y_pred_out))\n",
   "execution_count": null,
   "outputs": [
    {
     "name": "stdout",
     "text": "Square root of mean squared error: 8185.96\nCoefficient of determination: 0.96584\n",
     "output_type": "stream"
    }
   ]
  },
  {
   "cell_type": "markdown",
   "source": "## Random Forrest",
   "metadata": {
    "cell_id": "feb91376-7e13-476d-9cc8-5c5aae66c29c",
    "tags": [],
    "is_collapsed": false,
    "deepnote_cell_type": "text-cell-h2"
   }
  },
  {
   "cell_type": "code",
   "metadata": {
    "cell_id": "0c6d9dac-f0fc-4910-b472-1b19d803e4f3",
    "tags": [],
    "deepnote_to_be_reexecuted": false,
    "source_hash": "98b708f",
    "execution_start": 1643402836688,
    "execution_millis": 7030,
    "deepnote_output_heights": [
     null,
     21.1875
    ],
    "deepnote_cell_type": "code"
   },
   "source": "# We assume that having a higher max_depth and a larger n_estimators will create the best result, but we sanity check here.\nrandom_state = 122\nparameters = {'n_estimators':[20,50,100], 'max_depth':[2,3,5,8], 'random_state':[random_state]}\nrfr = RandomForestRegressor()\nreg = GridSearchCV(rfr, parameters)\nreg.fit(X_train, y_train_out)\nreg.best_estimator_",
   "execution_count": null,
   "outputs": [
    {
     "name": "stderr",
     "text": "/shared-libs/python3.9/py/lib/python3.9/site-packages/sklearn/model_selection/_validation.py:681: DataConversionWarning: A column-vector y was passed when a 1d array was expected. Please change the shape of y to (n_samples,), for example using ravel().\n  estimator.fit(X_train, y_train, **fit_params)\n/shared-libs/python3.9/py/lib/python3.9/site-packages/sklearn/model_selection/_validation.py:681: DataConversionWarning: A column-vector y was passed when a 1d array was expected. Please change the shape of y to (n_samples,), for example using ravel().\n  estimator.fit(X_train, y_train, **fit_params)\n/shared-libs/python3.9/py/lib/python3.9/site-packages/sklearn/model_selection/_validation.py:681: DataConversionWarning: A column-vector y was passed when a 1d array was expected. Please change the shape of y to (n_samples,), for example using ravel().\n  estimator.fit(X_train, y_train, **fit_params)\n/shared-libs/python3.9/py/lib/python3.9/site-packages/sklearn/model_selection/_validation.py:681: DataConversionWarning: A column-vector y was passed when a 1d array was expected. Please change the shape of y to (n_samples,), for example using ravel().\n  estimator.fit(X_train, y_train, **fit_params)\n/shared-libs/python3.9/py/lib/python3.9/site-packages/sklearn/model_selection/_validation.py:681: DataConversionWarning: A column-vector y was passed when a 1d array was expected. Please change the shape of y to (n_samples,), for example using ravel().\n  estimator.fit(X_train, y_train, **fit_params)\n/shared-libs/python3.9/py/lib/python3.9/site-packages/sklearn/model_selection/_validation.py:681: DataConversionWarning: A column-vector y was passed when a 1d array was expected. Please change the shape of y to (n_samples,), for example using ravel().\n  estimator.fit(X_train, y_train, **fit_params)\n/shared-libs/python3.9/py/lib/python3.9/site-packages/sklearn/model_selection/_validation.py:681: DataConversionWarning: A column-vector y was passed when a 1d array was expected. Please change the shape of y to (n_samples,), for example using ravel().\n  estimator.fit(X_train, y_train, **fit_params)\n/shared-libs/python3.9/py/lib/python3.9/site-packages/sklearn/model_selection/_validation.py:681: DataConversionWarning: A column-vector y was passed when a 1d array was expected. Please change the shape of y to (n_samples,), for example using ravel().\n  estimator.fit(X_train, y_train, **fit_params)\n/shared-libs/python3.9/py/lib/python3.9/site-packages/sklearn/model_selection/_validation.py:681: DataConversionWarning: A column-vector y was passed when a 1d array was expected. Please change the shape of y to (n_samples,), for example using ravel().\n  estimator.fit(X_train, y_train, **fit_params)\n/shared-libs/python3.9/py/lib/python3.9/site-packages/sklearn/model_selection/_validation.py:681: DataConversionWarning: A column-vector y was passed when a 1d array was expected. Please change the shape of y to (n_samples,), for example using ravel().\n  estimator.fit(X_train, y_train, **fit_params)\n/shared-libs/python3.9/py/lib/python3.9/site-packages/sklearn/model_selection/_validation.py:681: DataConversionWarning: A column-vector y was passed when a 1d array was expected. Please change the shape of y to (n_samples,), for example using ravel().\n  estimator.fit(X_train, y_train, **fit_params)\n/shared-libs/python3.9/py/lib/python3.9/site-packages/sklearn/model_selection/_validation.py:681: DataConversionWarning: A column-vector y was passed when a 1d array was expected. Please change the shape of y to (n_samples,), for example using ravel().\n  estimator.fit(X_train, y_train, **fit_params)\n/shared-libs/python3.9/py/lib/python3.9/site-packages/sklearn/model_selection/_validation.py:681: DataConversionWarning: A column-vector y was passed when a 1d array was expected. Please change the shape of y to (n_samples,), for example using ravel().\n  estimator.fit(X_train, y_train, **fit_params)\n/shared-libs/python3.9/py/lib/python3.9/site-packages/sklearn/model_selection/_validation.py:681: DataConversionWarning: A column-vector y was passed when a 1d array was expected. Please change the shape of y to (n_samples,), for example using ravel().\n  estimator.fit(X_train, y_train, **fit_params)\n/shared-libs/python3.9/py/lib/python3.9/site-packages/sklearn/model_selection/_validation.py:681: DataConversionWarning: A column-vector y was passed when a 1d array was expected. Please change the shape of y to (n_samples,), for example using ravel().\n  estimator.fit(X_train, y_train, **fit_params)\n/shared-libs/python3.9/py/lib/python3.9/site-packages/sklearn/model_selection/_validation.py:681: DataConversionWarning: A column-vector y was passed when a 1d array was expected. Please change the shape of y to (n_samples,), for example using ravel().\n  estimator.fit(X_train, y_train, **fit_params)\n/shared-libs/python3.9/py/lib/python3.9/site-packages/sklearn/model_selection/_validation.py:681: DataConversionWarning: A column-vector y was passed when a 1d array was expected. Please change the shape of y to (n_samples,), for example using ravel().\n  estimator.fit(X_train, y_train, **fit_params)\n/shared-libs/python3.9/py/lib/python3.9/site-packages/sklearn/model_selection/_validation.py:681: DataConversionWarning: A column-vector y was passed when a 1d array was expected. Please change the shape of y to (n_samples,), for example using ravel().\n  estimator.fit(X_train, y_train, **fit_params)\n/shared-libs/python3.9/py/lib/python3.9/site-packages/sklearn/model_selection/_validation.py:681: DataConversionWarning: A column-vector y was passed when a 1d array was expected. Please change the shape of y to (n_samples,), for example using ravel().\n  estimator.fit(X_train, y_train, **fit_params)\n/shared-libs/python3.9/py/lib/python3.9/site-packages/sklearn/model_selection/_validation.py:681: DataConversionWarning: A column-vector y was passed when a 1d array was expected. Please change the shape of y to (n_samples,), for example using ravel().\n  estimator.fit(X_train, y_train, **fit_params)\n/shared-libs/python3.9/py/lib/python3.9/site-packages/sklearn/model_selection/_validation.py:681: DataConversionWarning: A column-vector y was passed when a 1d array was expected. Please change the shape of y to (n_samples,), for example using ravel().\n  estimator.fit(X_train, y_train, **fit_params)\n/shared-libs/python3.9/py/lib/python3.9/site-packages/sklearn/model_selection/_validation.py:681: DataConversionWarning: A column-vector y was passed when a 1d array was expected. Please change the shape of y to (n_samples,), for example using ravel().\n  estimator.fit(X_train, y_train, **fit_params)\n/shared-libs/python3.9/py/lib/python3.9/site-packages/sklearn/model_selection/_validation.py:681: DataConversionWarning: A column-vector y was passed when a 1d array was expected. Please change the shape of y to (n_samples,), for example using ravel().\n  estimator.fit(X_train, y_train, **fit_params)\n/shared-libs/python3.9/py/lib/python3.9/site-packages/sklearn/model_selection/_validation.py:681: DataConversionWarning: A column-vector y was passed when a 1d array was expected. Please change the shape of y to (n_samples,), for example using ravel().\n  estimator.fit(X_train, y_train, **fit_params)\n/shared-libs/python3.9/py/lib/python3.9/site-packages/sklearn/model_selection/_validation.py:681: DataConversionWarning: A column-vector y was passed when a 1d array was expected. Please change the shape of y to (n_samples,), for example using ravel().\n  estimator.fit(X_train, y_train, **fit_params)\n/shared-libs/python3.9/py/lib/python3.9/site-packages/sklearn/model_selection/_validation.py:681: DataConversionWarning: A column-vector y was passed when a 1d array was expected. Please change the shape of y to (n_samples,), for example using ravel().\n  estimator.fit(X_train, y_train, **fit_params)\n/shared-libs/python3.9/py/lib/python3.9/site-packages/sklearn/model_selection/_validation.py:681: DataConversionWarning: A column-vector y was passed when a 1d array was expected. Please change the shape of y to (n_samples,), for example using ravel().\n  estimator.fit(X_train, y_train, **fit_params)\n/shared-libs/python3.9/py/lib/python3.9/site-packages/sklearn/model_selection/_validation.py:681: DataConversionWarning: A column-vector y was passed when a 1d array was expected. Please change the shape of y to (n_samples,), for example using ravel().\n  estimator.fit(X_train, y_train, **fit_params)\n/shared-libs/python3.9/py/lib/python3.9/site-packages/sklearn/model_selection/_validation.py:681: DataConversionWarning: A column-vector y was passed when a 1d array was expected. Please change the shape of y to (n_samples,), for example using ravel().\n  estimator.fit(X_train, y_train, **fit_params)\n/shared-libs/python3.9/py/lib/python3.9/site-packages/sklearn/model_selection/_validation.py:681: DataConversionWarning: A column-vector y was passed when a 1d array was expected. Please change the shape of y to (n_samples,), for example using ravel().\n  estimator.fit(X_train, y_train, **fit_params)\n/shared-libs/python3.9/py/lib/python3.9/site-packages/sklearn/model_selection/_validation.py:681: DataConversionWarning: A column-vector y was passed when a 1d array was expected. Please change the shape of y to (n_samples,), for example using ravel().\n  estimator.fit(X_train, y_train, **fit_params)\n/shared-libs/python3.9/py/lib/python3.9/site-packages/sklearn/model_selection/_validation.py:681: DataConversionWarning: A column-vector y was passed when a 1d array was expected. Please change the shape of y to (n_samples,), for example using ravel().\n  estimator.fit(X_train, y_train, **fit_params)\n/shared-libs/python3.9/py/lib/python3.9/site-packages/sklearn/model_selection/_validation.py:681: DataConversionWarning: A column-vector y was passed when a 1d array was expected. Please change the shape of y to (n_samples,), for example using ravel().\n  estimator.fit(X_train, y_train, **fit_params)\n/shared-libs/python3.9/py/lib/python3.9/site-packages/sklearn/model_selection/_validation.py:681: DataConversionWarning: A column-vector y was passed when a 1d array was expected. Please change the shape of y to (n_samples,), for example using ravel().\n  estimator.fit(X_train, y_train, **fit_params)\n/shared-libs/python3.9/py/lib/python3.9/site-packages/sklearn/model_selection/_validation.py:681: DataConversionWarning: A column-vector y was passed when a 1d array was expected. Please change the shape of y to (n_samples,), for example using ravel().\n  estimator.fit(X_train, y_train, **fit_params)\n/shared-libs/python3.9/py/lib/python3.9/site-packages/sklearn/model_selection/_validation.py:681: DataConversionWarning: A column-vector y was passed when a 1d array was expected. Please change the shape of y to (n_samples,), for example using ravel().\n  estimator.fit(X_train, y_train, **fit_params)\n/shared-libs/python3.9/py/lib/python3.9/site-packages/sklearn/model_selection/_validation.py:681: DataConversionWarning: A column-vector y was passed when a 1d array was expected. Please change the shape of y to (n_samples,), for example using ravel().\n  estimator.fit(X_train, y_train, **fit_params)\n/shared-libs/python3.9/py/lib/python3.9/site-packages/sklearn/model_selection/_validation.py:681: DataConversionWarning: A column-vector y was passed when a 1d array was expected. Please change the shape of y to (n_samples,), for example using ravel().\n  estimator.fit(X_train, y_train, **fit_params)\n/shared-libs/python3.9/py/lib/python3.9/site-packages/sklearn/model_selection/_validation.py:681: DataConversionWarning: A column-vector y was passed when a 1d array was expected. Please change the shape of y to (n_samples,), for example using ravel().\n  estimator.fit(X_train, y_train, **fit_params)\n/shared-libs/python3.9/py/lib/python3.9/site-packages/sklearn/model_selection/_validation.py:681: DataConversionWarning: A column-vector y was passed when a 1d array was expected. Please change the shape of y to (n_samples,), for example using ravel().\n  estimator.fit(X_train, y_train, **fit_params)\n/shared-libs/python3.9/py/lib/python3.9/site-packages/sklearn/model_selection/_validation.py:681: DataConversionWarning: A column-vector y was passed when a 1d array was expected. Please change the shape of y to (n_samples,), for example using ravel().\n  estimator.fit(X_train, y_train, **fit_params)\n/shared-libs/python3.9/py/lib/python3.9/site-packages/sklearn/model_selection/_validation.py:681: DataConversionWarning: A column-vector y was passed when a 1d array was expected. Please change the shape of y to (n_samples,), for example using ravel().\n  estimator.fit(X_train, y_train, **fit_params)\n/shared-libs/python3.9/py/lib/python3.9/site-packages/sklearn/model_selection/_validation.py:681: DataConversionWarning: A column-vector y was passed when a 1d array was expected. Please change the shape of y to (n_samples,), for example using ravel().\n  estimator.fit(X_train, y_train, **fit_params)\n/shared-libs/python3.9/py/lib/python3.9/site-packages/sklearn/model_selection/_validation.py:681: DataConversionWarning: A column-vector y was passed when a 1d array was expected. Please change the shape of y to (n_samples,), for example using ravel().\n  estimator.fit(X_train, y_train, **fit_params)\n/shared-libs/python3.9/py/lib/python3.9/site-packages/sklearn/model_selection/_validation.py:681: DataConversionWarning: A column-vector y was passed when a 1d array was expected. Please change the shape of y to (n_samples,), for example using ravel().\n  estimator.fit(X_train, y_train, **fit_params)\n/shared-libs/python3.9/py/lib/python3.9/site-packages/sklearn/model_selection/_validation.py:681: DataConversionWarning: A column-vector y was passed when a 1d array was expected. Please change the shape of y to (n_samples,), for example using ravel().\n  estimator.fit(X_train, y_train, **fit_params)\n/shared-libs/python3.9/py/lib/python3.9/site-packages/sklearn/model_selection/_validation.py:681: DataConversionWarning: A column-vector y was passed when a 1d array was expected. Please change the shape of y to (n_samples,), for example using ravel().\n  estimator.fit(X_train, y_train, **fit_params)\n/shared-libs/python3.9/py/lib/python3.9/site-packages/sklearn/model_selection/_validation.py:681: DataConversionWarning: A column-vector y was passed when a 1d array was expected. Please change the shape of y to (n_samples,), for example using ravel().\n  estimator.fit(X_train, y_train, **fit_params)\n/shared-libs/python3.9/py/lib/python3.9/site-packages/sklearn/model_selection/_validation.py:681: DataConversionWarning: A column-vector y was passed when a 1d array was expected. Please change the shape of y to (n_samples,), for example using ravel().\n  estimator.fit(X_train, y_train, **fit_params)\n/shared-libs/python3.9/py/lib/python3.9/site-packages/sklearn/model_selection/_validation.py:681: DataConversionWarning: A column-vector y was passed when a 1d array was expected. Please change the shape of y to (n_samples,), for example using ravel().\n  estimator.fit(X_train, y_train, **fit_params)\n/shared-libs/python3.9/py/lib/python3.9/site-packages/sklearn/model_selection/_validation.py:681: DataConversionWarning: A column-vector y was passed when a 1d array was expected. Please change the shape of y to (n_samples,), for example using ravel().\n  estimator.fit(X_train, y_train, **fit_params)\n/shared-libs/python3.9/py/lib/python3.9/site-packages/sklearn/model_selection/_validation.py:681: DataConversionWarning: A column-vector y was passed when a 1d array was expected. Please change the shape of y to (n_samples,), for example using ravel().\n  estimator.fit(X_train, y_train, **fit_params)\n/shared-libs/python3.9/py/lib/python3.9/site-packages/sklearn/model_selection/_validation.py:681: DataConversionWarning: A column-vector y was passed when a 1d array was expected. Please change the shape of y to (n_samples,), for example using ravel().\n  estimator.fit(X_train, y_train, **fit_params)\n/shared-libs/python3.9/py/lib/python3.9/site-packages/sklearn/model_selection/_validation.py:681: DataConversionWarning: A column-vector y was passed when a 1d array was expected. Please change the shape of y to (n_samples,), for example using ravel().\n  estimator.fit(X_train, y_train, **fit_params)\n/shared-libs/python3.9/py/lib/python3.9/site-packages/sklearn/model_selection/_validation.py:681: DataConversionWarning: A column-vector y was passed when a 1d array was expected. Please change the shape of y to (n_samples,), for example using ravel().\n  estimator.fit(X_train, y_train, **fit_params)\n/shared-libs/python3.9/py/lib/python3.9/site-packages/sklearn/model_selection/_validation.py:681: DataConversionWarning: A column-vector y was passed when a 1d array was expected. Please change the shape of y to (n_samples,), for example using ravel().\n  estimator.fit(X_train, y_train, **fit_params)\n/shared-libs/python3.9/py/lib/python3.9/site-packages/sklearn/model_selection/_validation.py:681: DataConversionWarning: A column-vector y was passed when a 1d array was expected. Please change the shape of y to (n_samples,), for example using ravel().\n  estimator.fit(X_train, y_train, **fit_params)\n/shared-libs/python3.9/py/lib/python3.9/site-packages/sklearn/model_selection/_validation.py:681: DataConversionWarning: A column-vector y was passed when a 1d array was expected. Please change the shape of y to (n_samples,), for example using ravel().\n  estimator.fit(X_train, y_train, **fit_params)\n/shared-libs/python3.9/py/lib/python3.9/site-packages/sklearn/model_selection/_validation.py:681: DataConversionWarning: A column-vector y was passed when a 1d array was expected. Please change the shape of y to (n_samples,), for example using ravel().\n  estimator.fit(X_train, y_train, **fit_params)\n/shared-libs/python3.9/py/lib/python3.9/site-packages/sklearn/model_selection/_validation.py:681: DataConversionWarning: A column-vector y was passed when a 1d array was expected. Please change the shape of y to (n_samples,), for example using ravel().\n  estimator.fit(X_train, y_train, **fit_params)\n/shared-libs/python3.9/py/lib/python3.9/site-packages/sklearn/model_selection/_search.py:926: DataConversionWarning: A column-vector y was passed when a 1d array was expected. Please change the shape of y to (n_samples,), for example using ravel().\n  self.best_estimator_.fit(X, y, **fit_params)\n",
     "output_type": "stream"
    },
    {
     "output_type": "execute_result",
     "execution_count": 15,
     "data": {
      "text/plain": "RandomForestRegressor(max_depth=5, random_state=122)"
     },
     "metadata": {}
    }
   ]
  },
  {
   "cell_type": "code",
   "metadata": {
    "cell_id": "abf4bb10-3331-4e15-a1d5-aa94df0eeb58",
    "tags": [],
    "deepnote_to_be_reexecuted": false,
    "source_hash": "ed91b160",
    "execution_start": 1643402843727,
    "execution_millis": 215,
    "deepnote_output_heights": [
     null,
     21.1875
    ],
    "deepnote_cell_type": "code"
   },
   "source": "# inflow\nrfr = RandomForestRegressor(n_estimators=50, max_depth=5, random_state=random_state)\nrfr.fit(X_train, y_train_in)\ny_pred_in = rfr.predict(X_test)\nrmse_rfr = math.sqrt(mean_squared_error(y_test_in, y_pred_in))\nprint(r2_score(y_test_in, y_pred_in))\n\n# outflow\nrfr = RandomForestRegressor(n_estimators=50, max_depth=5, random_state=random_state)\nrfr.fit(X_train, y_train_out)\ny_pred_out = rfr.predict(X_test)\nrmse_rfr = math.sqrt(mean_squared_error(y_test_out, y_pred_out))\nr2_score(y_test_out, y_pred_out)",
   "execution_count": null,
   "outputs": [
    {
     "name": "stderr",
     "text": "<ipython-input-16-9b94716ded8a>:3: DataConversionWarning: A column-vector y was passed when a 1d array was expected. Please change the shape of y to (n_samples,), for example using ravel().\n  rfr.fit(X_train, y_train_in)\n0.9819849228000371\n<ipython-input-16-9b94716ded8a>:10: DataConversionWarning: A column-vector y was passed when a 1d array was expected. Please change the shape of y to (n_samples,), for example using ravel().\n  rfr.fit(X_train, y_train_out)\n",
     "output_type": "stream"
    },
    {
     "output_type": "execute_result",
     "execution_count": 16,
     "data": {
      "text/plain": "0.9597914103789219"
     },
     "metadata": {}
    }
   ]
  },
  {
   "cell_type": "markdown",
   "source": "<a style='text-decoration:none;line-height:16px;display:flex;color:#5B5B62;padding:10px;justify-content:end;' href='https://deepnote.com?utm_source=created-in-deepnote-cell&projectId=f6c76417-5fde-42f3-8920-755838dec3fa' target=\"_blank\">\n<img alt='Created in deepnote.com' style='display:inline;max-height:16px;margin:0px;margin-right:7.5px;' src='data:image/svg+xml;base64,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' > </img>\nCreated in <span style='font-weight:600;margin-left:4px;'>Deepnote</span></a>",
   "metadata": {
    "tags": [],
    "created_in_deepnote_cell": true,
    "deepnote_cell_type": "markdown"
   }
  }
 ],
 "nbformat": 4,
 "nbformat_minor": 2,
 "metadata": {
  "orig_nbformat": 2,
  "deepnote": {
   "is_reactive": false
  },
  "deepnote_notebook_id": "d4003752-4938-467b-9345-2f5d3c36dbca",
  "deepnote_execution_queue": []
 }
}