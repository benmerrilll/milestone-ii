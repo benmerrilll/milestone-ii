{
 "cells": [
  {
   "cell_type": "markdown",
   "source": "# County Inflow and Outflow Prediction Problem\n    This notebook predicts the inflow and outflow of California counties using data from 2014 to 2019. We are able to model and evaluate the effectiveness of models in predicting population changes to better understand reasoning for inflow and outflow in California. By aggregating county level data from a variety of public sources covering political views, weather, income, unemployment, theft, housing prices, demographics, and more, we are able to create an accurate prediction of future population trends before the pandemic. The purpose of this project is two fold. First, model evaluation can help us better understand the reason for population changes across counties in California as a baseline to better understand the habits of modern citizens. Second, although the COVID-19 pandemic has had a huge impact on county populations across the United States and world, an accurate prediction can provide a baseline for what trends a county may expect to see in future as things return to a greater normalcy.   \n#\n### Approach to Analysis\n    Our approach in this prediction problem includes creation of a training and testing set, data preprocessing using scalers, model input for optimization of euclidean Distance, and evaluating model performance and decisions. By utilizing the scikitlearn library, we test and evaluate the effectiveness of four models: logistic regression, support vector machines, random forest regressor, and gradient boosted trees. As the dataset is small, we utilize cross validation to get the best result with small data. We also use grid search for parameter optimization. Finally, we conclude which of the four models is most effective and which fields are most important in its preformance.  ",
   "metadata": {
    "tags": [],
    "cell_id": "00000-94a6e2f0-52b1-4119-a8d5-29f06fe870ed",
    "deepnote_cell_type": "markdown"
   }
  },
  {
   "cell_type": "code",
   "metadata": {
    "tags": [],
    "cell_id": "00000-b7e42bc0-ba69-4c86-86cf-05723a4e58fb",
    "deepnote_to_be_reexecuted": false,
    "source_hash": "72ecd4a3",
    "execution_start": 1643406935861,
    "execution_millis": 2762,
    "deepnote_cell_type": "code"
   },
   "source": "# Import Packages\nimport numpy as np\nimport pandas as pd\nimport matplotlib.pyplot as plt\nimport math\nimport altair as alt\n\nfrom sklearn.preprocessing import StandardScaler\nfrom sklearn.model_selection import train_test_split, GridSearchCV\nfrom sklearn.ensemble import RandomForestRegressor, GradientBoostingRegressor\nfrom sklearn.linear_model import LogisticRegression\nfrom sklearn.dummy import DummyRegressor\nfrom sklearn.svm import SVC\nfrom sklearn.metrics import mean_squared_error, r2_score",
   "outputs": [],
   "execution_count": null
  },
  {
   "cell_type": "code",
   "metadata": {
    "tags": [],
    "cell_id": "00001-99b8905f-c493-4ed9-adfe-47d6f6eaf889",
    "deepnote_to_be_reexecuted": false,
    "source_hash": "65beb8d8",
    "execution_start": 1643407456658,
    "execution_millis": 3287,
    "deepnote_cell_type": "code"
   },
   "source": "# Import dataset\nca_df = pd.read_csv('/work/cleaned-csvs/ca_counties_full_dataset.csv')\nprint(ca_df.shape)\nca_df.head()",
   "outputs": [
    {
     "name": "stdout",
     "text": "(348, 82)\n",
     "output_type": "stream"
    },
    {
     "output_type": "execute_result",
     "execution_count": 8,
     "data": {
      "application/vnd.deepnote.dataframe.v3+json": {
       "column_count": 82,
       "row_count": 5,
       "columns": [
        {
         "name": "county_name",
         "dtype": "object",
         "stats": {
          "unique_count": 5,
          "nan_count": 0,
          "categories": [
           {
            "name": "alameda",
            "count": 1
           },
           {
            "name": "alpine",
            "count": 1
           },
           {
            "name": "3 others",
            "count": 3
           }
          ]
         }
        },
        {
         "name": "year",
         "dtype": "int64",
         "stats": {
          "unique_count": 1,
          "nan_count": 0,
          "min": "2014",
          "max": "2014",
          "histogram": [
           {
            "bin_start": 2013.5,
            "bin_end": 2013.6,
            "count": 0
           },
           {
            "bin_start": 2013.6,
            "bin_end": 2013.7,
            "count": 0
           },
           {
            "bin_start": 2013.7,
            "bin_end": 2013.8,
            "count": 0
           },
           {
            "bin_start": 2013.8,
            "bin_end": 2013.9,
            "count": 0
           },
           {
            "bin_start": 2013.9,
            "bin_end": 2014,
            "count": 0
           },
           {
            "bin_start": 2014,
            "bin_end": 2014.1,
            "count": 5
           },
           {
            "bin_start": 2014.1,
            "bin_end": 2014.2,
            "count": 0
           },
           {
            "bin_start": 2014.2,
            "bin_end": 2014.3,
            "count": 0
           },
           {
            "bin_start": 2014.3,
            "bin_end": 2014.4,
            "count": 0
           },
           {
            "bin_start": 2014.4,
            "bin_end": 2014.5,
            "count": 0
           }
          ]
         }
        },
        {
         "name": "registered_pct",
         "dtype": "float64",
         "stats": {
          "unique_count": 5,
          "nan_count": 0,
          "min": "70.024791122871",
          "max": "87.01594533029613",
          "histogram": [
           {
            "bin_start": 70.024791122871,
            "bin_end": 71.72390654361351,
            "count": 1
           },
           {
            "bin_start": 71.72390654361351,
            "bin_end": 73.42302196435602,
            "count": 0
           },
           {
            "bin_start": 73.42302196435602,
            "bin_end": 75.12213738509854,
            "count": 0
           },
           {
            "bin_start": 75.12213738509854,
            "bin_end": 76.82125280584106,
            "count": 1
           },
           {
            "bin_start": 76.82125280584106,
            "bin_end": 78.52036822658357,
            "count": 1
           },
           {
            "bin_start": 78.52036822658357,
            "bin_end": 80.21948364732609,
            "count": 1
           },
           {
            "bin_start": 80.21948364732609,
            "bin_end": 81.91859906806859,
            "count": 0
           },
           {
            "bin_start": 81.91859906806859,
            "bin_end": 83.6177144888111,
            "count": 0
           },
           {
            "bin_start": 83.6177144888111,
            "bin_end": 85.31682990955362,
            "count": 0
           },
           {
            "bin_start": 85.31682990955362,
            "bin_end": 87.01594533029613,
            "count": 1
           }
          ]
         }
        },
        {
         "name": "democrat_pct",
         "dtype": "float64",
         "stats": {
          "unique_count": 5,
          "nan_count": 0,
          "min": "30.220186197724253",
          "max": "55.470516910746696",
          "histogram": [
           {
            "bin_start": 30.220186197724253,
            "bin_end": 32.7452192690265,
            "count": 2
           },
           {
            "bin_start": 32.7452192690265,
            "bin_end": 35.27025234032874,
            "count": 1
           },
           {
            "bin_start": 35.27025234032874,
            "bin_end": 37.795285411630985,
            "count": 1
           },
           {
            "bin_start": 37.795285411630985,
            "bin_end": 40.32031848293323,
            "count": 0
           },
           {
            "bin_start": 40.32031848293323,
            "bin_end": 42.84535155423548,
            "count": 0
           },
           {
            "bin_start": 42.84535155423548,
            "bin_end": 45.37038462553772,
            "count": 0
           },
           {
            "bin_start": 45.37038462553772,
            "bin_end": 47.895417696839964,
            "count": 0
           },
           {
            "bin_start": 47.895417696839964,
            "bin_end": 50.4204507681422,
            "count": 0
           },
           {
            "bin_start": 50.4204507681422,
            "bin_end": 52.94548383944445,
            "count": 0
           },
           {
            "bin_start": 52.94548383944445,
            "bin_end": 55.470516910746696,
            "count": 1
           }
          ]
         }
        },
        {
         "name": "republican_pct",
         "dtype": "float64",
         "stats": {
          "unique_count": 5,
          "nan_count": 0,
          "min": "13.380564588352218",
          "max": "44.16290027887297",
          "histogram": [
           {
            "bin_start": 13.380564588352218,
            "bin_end": 16.458798157404292,
            "count": 1
           },
           {
            "bin_start": 16.458798157404292,
            "bin_end": 19.53703172645637,
            "count": 0
           },
           {
            "bin_start": 19.53703172645637,
            "bin_end": 22.615265295508443,
            "count": 0
           },
           {
            "bin_start": 22.615265295508443,
            "bin_end": 25.693498864560517,
            "count": 0
           },
           {
            "bin_start": 25.693498864560517,
            "bin_end": 28.77173243361259,
            "count": 0
           },
           {
            "bin_start": 28.77173243361259,
            "bin_end": 31.84996600266467,
            "count": 1
           },
           {
            "bin_start": 31.84996600266467,
            "bin_end": 34.928199571716746,
            "count": 0
           },
           {
            "bin_start": 34.928199571716746,
            "bin_end": 38.00643314076882,
            "count": 1
           },
           {
            "bin_start": 38.00643314076882,
            "bin_end": 41.084666709820894,
            "count": 0
           },
           {
            "bin_start": 41.084666709820894,
            "bin_end": 44.16290027887297,
            "count": 2
           }
          ]
         }
        },
        {
         "name": "american_independent_pct",
         "dtype": "float64",
         "stats": {
          "unique_count": 5,
          "nan_count": 0,
          "min": "2.041992164705796",
          "max": "4.706664696320378",
          "histogram": [
           {
            "bin_start": 2.041992164705796,
            "bin_end": 2.308459417867254,
            "count": 1
           },
           {
            "bin_start": 2.308459417867254,
            "bin_end": 2.5749266710287126,
            "count": 0
           },
           {
            "bin_start": 2.5749266710287126,
            "bin_end": 2.8413939241901707,
            "count": 0
           },
           {
            "bin_start": 2.8413939241901707,
            "bin_end": 3.107861177351629,
            "count": 0
           },
           {
            "bin_start": 3.107861177351629,
            "bin_end": 3.374328430513087,
            "count": 0
           },
           {
            "bin_start": 3.374328430513087,
            "bin_end": 3.640795683674545,
            "count": 1
           },
           {
            "bin_start": 3.640795683674545,
            "bin_end": 3.9072629368360037,
            "count": 0
           },
           {
            "bin_start": 3.9072629368360037,
            "bin_end": 4.173730189997462,
            "count": 1
           },
           {
            "bin_start": 4.173730189997462,
            "bin_end": 4.44019744315892,
            "count": 1
           },
           {
            "bin_start": 4.44019744315892,
            "bin_end": 4.706664696320378,
            "count": 1
           }
          ]
         }
        },
        {
         "name": "green_pct",
         "dtype": "float64",
         "stats": {
          "unique_count": 5,
          "nan_count": 0,
          "min": "0.5721704010000962",
          "max": "1.7015706806282722",
          "histogram": [
           {
            "bin_start": 0.5721704010000962,
            "bin_end": 0.6851104289629139,
            "count": 1
           },
           {
            "bin_start": 0.6851104289629139,
            "bin_end": 0.7980504569257314,
            "count": 0
           },
           {
            "bin_start": 0.7980504569257314,
            "bin_end": 0.9109904848885491,
            "count": 1
           },
           {
            "bin_start": 0.9109904848885491,
            "bin_end": 1.0239305128513667,
            "count": 0
           },
           {
            "bin_start": 1.0239305128513667,
            "bin_end": 1.1368705408141841,
            "count": 0
           },
           {
            "bin_start": 1.1368705408141841,
            "bin_end": 1.249810568777002,
            "count": 2
           },
           {
            "bin_start": 1.249810568777002,
            "bin_end": 1.3627505967398195,
            "count": 0
           },
           {
            "bin_start": 1.3627505967398195,
            "bin_end": 1.4756906247026371,
            "count": 0
           },
           {
            "bin_start": 1.4756906247026371,
            "bin_end": 1.5886306526654548,
            "count": 0
           },
           {
            "bin_start": 1.5886306526654548,
            "bin_end": 1.7015706806282722,
            "count": 1
           }
          ]
         }
        },
        {
         "name": "liberterian_pct",
         "dtype": "float64",
         "stats": {
          "unique_count": 5,
          "nan_count": 0,
          "min": "0.5171932988455902",
          "max": "1.363233338259199",
          "histogram": [
           {
            "bin_start": 0.5171932988455902,
            "bin_end": 0.6017973027869511,
            "count": 1
           },
           {
            "bin_start": 0.6017973027869511,
            "bin_end": 0.6864013067283119,
            "count": 0
           },
           {
            "bin_start": 0.6864013067283119,
            "bin_end": 0.7710053106696728,
            "count": 0
           },
           {
            "bin_start": 0.7710053106696728,
            "bin_end": 0.8556093146110337,
            "count": 1
           },
           {
            "bin_start": 0.8556093146110337,
            "bin_end": 0.9402133185523947,
            "count": 0
           },
           {
            "bin_start": 0.9402133185523947,
            "bin_end": 1.0248173224937553,
            "count": 0
           },
           {
            "bin_start": 1.0248173224937553,
            "bin_end": 1.1094213264351165,
            "count": 2
           },
           {
            "bin_start": 1.1094213264351165,
            "bin_end": 1.1940253303764772,
            "count": 0
           },
           {
            "bin_start": 1.1940253303764772,
            "bin_end": 1.2786293343178383,
            "count": 0
           },
           {
            "bin_start": 1.2786293343178383,
            "bin_end": 1.363233338259199,
            "count": 1
           }
          ]
         }
        },
        {
         "name": "peace_and_freedom_pct",
         "dtype": "float64",
         "stats": {
          "unique_count": 5,
          "nan_count": 0,
          "min": "0.1308900523560209",
          "max": "0.427223134728475",
          "histogram": [
           {
            "bin_start": 0.1308900523560209,
            "bin_end": 0.1605233605932663,
            "count": 1
           },
           {
            "bin_start": 0.1605233605932663,
            "bin_end": 0.19015666883051172,
            "count": 0
           },
           {
            "bin_start": 0.19015666883051172,
            "bin_end": 0.21978997706775713,
            "count": 0
           },
           {
            "bin_start": 0.21978997706775713,
            "bin_end": 0.24942328530500255,
            "count": 1
           },
           {
            "bin_start": 0.24942328530500255,
            "bin_end": 0.279056593542248,
            "count": 0
           },
           {
            "bin_start": 0.279056593542248,
            "bin_end": 0.3086899017794934,
            "count": 0
           },
           {
            "bin_start": 0.3086899017794934,
            "bin_end": 0.3383232100167388,
            "count": 0
           },
           {
            "bin_start": 0.3383232100167388,
            "bin_end": 0.36795651825398423,
            "count": 2
           },
           {
            "bin_start": 0.36795651825398423,
            "bin_end": 0.39758982649122965,
            "count": 0
           },
           {
            "bin_start": 0.39758982649122965,
            "bin_end": 0.427223134728475,
            "count": 1
           }
          ]
         }
        },
        {
         "name": "no_party_pct",
         "dtype": "float64",
         "stats": {
          "unique_count": 5,
          "nan_count": 0,
          "min": "18.20367343013752",
          "max": "26.04712041884817",
          "histogram": [
           {
            "bin_start": 18.20367343013752,
            "bin_end": 18.988018129008587,
            "count": 1
           },
           {
            "bin_start": 18.988018129008587,
            "bin_end": 19.77236282787965,
            "count": 1
           },
           {
            "bin_start": 19.77236282787965,
            "bin_end": 20.556707526750714,
            "count": 0
           },
           {
            "bin_start": 20.556707526750714,
            "bin_end": 21.34105222562178,
            "count": 1
           },
           {
            "bin_start": 21.34105222562178,
            "bin_end": 22.125396924492847,
            "count": 0
           },
           {
            "bin_start": 22.125396924492847,
            "bin_end": 22.90974162336391,
            "count": 0
           },
           {
            "bin_start": 22.90974162336391,
            "bin_end": 23.694086322234973,
            "count": 1
           },
           {
            "bin_start": 23.694086322234973,
            "bin_end": 24.47843102110604,
            "count": 0
           },
           {
            "bin_start": 24.47843102110604,
            "bin_end": 25.262775719977107,
            "count": 0
           },
           {
            "bin_start": 25.262775719977107,
            "bin_end": 26.04712041884817,
            "count": 1
           }
          ]
         }
        },
        {
         "name": "other_party_pct",
         "dtype": "float64",
         "stats": {
          "unique_count": 5,
          "nan_count": 0,
          "min": "0.2836811231849216",
          "max": "5.742074104831764",
          "histogram": [
           {
            "bin_start": 0.2836811231849216,
            "bin_end": 0.8295204213496059,
            "count": 1
           },
           {
            "bin_start": 0.8295204213496059,
            "bin_end": 1.3753597195142901,
            "count": 2
           },
           {
            "bin_start": 1.3753597195142901,
            "bin_end": 1.9211990176789744,
            "count": 1
           },
           {
            "bin_start": 1.9211990176789744,
            "bin_end": 2.4670383158436584,
            "count": 0
           },
           {
            "bin_start": 2.4670383158436584,
            "bin_end": 3.0128776140083424,
            "count": 0
           },
           {
            "bin_start": 3.0128776140083424,
            "bin_end": 3.558716912173027,
            "count": 0
           },
           {
            "bin_start": 3.558716912173027,
            "bin_end": 4.104556210337711,
            "count": 0
           },
           {
            "bin_start": 4.104556210337711,
            "bin_end": 4.650395508502395,
            "count": 0
           },
           {
            "bin_start": 4.650395508502395,
            "bin_end": 5.196234806667079,
            "count": 0
           },
           {
            "bin_start": 5.196234806667079,
            "bin_end": 5.742074104831764,
            "count": 1
           }
          ]
         }
        },
        {
         "name": "Location ID",
         "dtype": "object",
         "stats": {
          "unique_count": 5,
          "nan_count": 0,
          "categories": [
           {
            "name": "CA-001",
            "count": 1
           },
           {
            "name": "CA-003",
            "count": 1
           },
           {
            "name": "3 others",
            "count": 3
           }
          ]
         }
        },
        {
         "name": "avg_temp",
         "dtype": "float64",
         "stats": {
          "unique_count": 5,
          "nan_count": 0,
          "min": "46.79999999999999",
          "max": "62.43333333333334",
          "histogram": [
           {
            "bin_start": 46.79999999999999,
            "bin_end": 48.36333333333332,
            "count": 1
           },
           {
            "bin_start": 48.36333333333332,
            "bin_end": 49.92666666666666,
            "count": 0
           },
           {
            "bin_start": 49.92666666666666,
            "bin_end": 51.489999999999995,
            "count": 0
           },
           {
            "bin_start": 51.489999999999995,
            "bin_end": 53.05333333333333,
            "count": 0
           },
           {
            "bin_start": 53.05333333333333,
            "bin_end": 54.61666666666666,
            "count": 0
           },
           {
            "bin_start": 54.61666666666666,
            "bin_end": 56.18,
            "count": 0
           },
           {
            "bin_start": 56.18,
            "bin_end": 57.74333333333333,
            "count": 0
           },
           {
            "bin_start": 57.74333333333333,
            "bin_end": 59.30666666666667,
            "count": 0
           },
           {
            "bin_start": 59.30666666666667,
            "bin_end": 60.870000000000005,
            "count": 0
           },
           {
            "bin_start": 60.870000000000005,
            "bin_end": 62.43333333333334,
            "count": 4
           }
          ]
         }
        },
        {
         "name": "min_temp",
         "dtype": "float64",
         "stats": {
          "unique_count": 4,
          "nan_count": 0,
          "min": "25.5",
          "max": "42.0",
          "histogram": [
           {
            "bin_start": 25.5,
            "bin_end": 27.15,
            "count": 1
           },
           {
            "bin_start": 27.15,
            "bin_end": 28.8,
            "count": 0
           },
           {
            "bin_start": 28.8,
            "bin_end": 30.45,
            "count": 0
           },
           {
            "bin_start": 30.45,
            "bin_end": 32.1,
            "count": 0
           },
           {
            "bin_start": 32.1,
            "bin_end": 33.75,
            "count": 0
           },
           {
            "bin_start": 33.75,
            "bin_end": 35.4,
            "count": 0
           },
           {
            "bin_start": 35.4,
            "bin_end": 37.05,
            "count": 0
           },
           {
            "bin_start": 37.05,
            "bin_end": 38.7,
            "count": 2
           },
           {
            "bin_start": 38.7,
            "bin_end": 40.35,
            "count": 1
           },
           {
            "bin_start": 40.35,
            "bin_end": 42,
            "count": 1
           }
          ]
         }
        },
        {
         "name": "max_temp",
         "dtype": "float64",
         "stats": {
          "unique_count": 5,
          "nan_count": 0,
          "min": "77.3",
          "max": "94.5",
          "histogram": [
           {
            "bin_start": 77.3,
            "bin_end": 79.02,
            "count": 1
           },
           {
            "bin_start": 79.02,
            "bin_end": 80.74,
            "count": 0
           },
           {
            "bin_start": 80.74,
            "bin_end": 82.46,
            "count": 0
           },
           {
            "bin_start": 82.46,
            "bin_end": 84.17999999999999,
            "count": 0
           },
           {
            "bin_start": 84.17999999999999,
            "bin_end": 85.9,
            "count": 1
           },
           {
            "bin_start": 85.9,
            "bin_end": 87.62,
            "count": 0
           },
           {
            "bin_start": 87.62,
            "bin_end": 89.34,
            "count": 0
           },
           {
            "bin_start": 89.34,
            "bin_end": 91.06,
            "count": 0
           },
           {
            "bin_start": 91.06,
            "bin_end": 92.78,
            "count": 0
           },
           {
            "bin_start": 92.78,
            "bin_end": 94.5,
            "count": 3
           }
          ]
         }
        },
        {
         "name": "total_precip_amt",
         "dtype": "float64",
         "stats": {
          "unique_count": 5,
          "nan_count": 0,
          "min": "19.88",
          "max": "43.72",
          "histogram": [
           {
            "bin_start": 19.88,
            "bin_end": 22.264,
            "count": 1
           },
           {
            "bin_start": 22.264,
            "bin_end": 24.648,
            "count": 0
           },
           {
            "bin_start": 24.648,
            "bin_end": 27.031999999999996,
            "count": 0
           },
           {
            "bin_start": 27.031999999999996,
            "bin_end": 29.415999999999997,
            "count": 1
           },
           {
            "bin_start": 29.415999999999997,
            "bin_end": 31.799999999999997,
            "count": 2
           },
           {
            "bin_start": 31.799999999999997,
            "bin_end": 34.184,
            "count": 0
           },
           {
            "bin_start": 34.184,
            "bin_end": 36.568,
            "count": 0
           },
           {
            "bin_start": 36.568,
            "bin_end": 38.952,
            "count": 0
           },
           {
            "bin_start": 38.952,
            "bin_end": 41.336,
            "count": 0
           },
           {
            "bin_start": 41.336,
            "bin_end": 43.72,
            "count": 1
           }
          ]
         }
        },
        {
         "name": "avg_daily_attendance_expense",
         "dtype": "float64",
         "stats": {
          "unique_count": 5,
          "nan_count": 0,
          "min": "6909.1111348365785",
          "max": "32705.25932094812",
          "histogram": [
           {
            "bin_start": 6909.1111348365785,
            "bin_end": 9488.725953447733,
            "count": 4
           },
           {
            "bin_start": 9488.725953447733,
            "bin_end": 12068.340772058888,
            "count": 0
           },
           {
            "bin_start": 12068.340772058888,
            "bin_end": 14647.95559067004,
            "count": 0
           },
           {
            "bin_start": 14647.95559067004,
            "bin_end": 17227.570409281194,
            "count": 0
           },
           {
            "bin_start": 17227.570409281194,
            "bin_end": 19807.185227892347,
            "count": 0
           },
           {
            "bin_start": 19807.185227892347,
            "bin_end": 22386.800046503504,
            "count": 0
           },
           {
            "bin_start": 22386.800046503504,
            "bin_end": 24966.414865114657,
            "count": 0
           },
           {
            "bin_start": 24966.414865114657,
            "bin_end": 27546.02968372581,
            "count": 0
           },
           {
            "bin_start": 27546.02968372581,
            "bin_end": 30125.644502336963,
            "count": 0
           },
           {
            "bin_start": 30125.644502336963,
            "bin_end": 32705.25932094812,
            "count": 1
           }
          ]
         }
        },
        {
         "name": "state",
         "dtype": "int64",
         "stats": {
          "unique_count": 1,
          "nan_count": 0,
          "min": "6",
          "max": "6",
          "histogram": [
           {
            "bin_start": 5.5,
            "bin_end": 5.6,
            "count": 0
           },
           {
            "bin_start": 5.6,
            "bin_end": 5.7,
            "count": 0
           },
           {
            "bin_start": 5.7,
            "bin_end": 5.8,
            "count": 0
           },
           {
            "bin_start": 5.8,
            "bin_end": 5.9,
            "count": 0
           },
           {
            "bin_start": 5.9,
            "bin_end": 6,
            "count": 0
           },
           {
            "bin_start": 6,
            "bin_end": 6.1,
            "count": 5
           },
           {
            "bin_start": 6.1,
            "bin_end": 6.2,
            "count": 0
           },
           {
            "bin_start": 6.2,
            "bin_end": 6.3,
            "count": 0
           },
           {
            "bin_start": 6.3,
            "bin_end": 6.4,
            "count": 0
           },
           {
            "bin_start": 6.4,
            "bin_end": 6.5,
            "count": 0
           }
          ]
         }
        },
        {
         "name": "county",
         "dtype": "int64",
         "stats": {
          "unique_count": 5,
          "nan_count": 0,
          "min": "1",
          "max": "9",
          "histogram": [
           {
            "bin_start": 1,
            "bin_end": 1.8,
            "count": 1
           },
           {
            "bin_start": 1.8,
            "bin_end": 2.6,
            "count": 0
           },
           {
            "bin_start": 2.6,
            "bin_end": 3.4000000000000004,
            "count": 1
           },
           {
            "bin_start": 3.4000000000000004,
            "bin_end": 4.2,
            "count": 0
           },
           {
            "bin_start": 4.2,
            "bin_end": 5,
            "count": 0
           },
           {
            "bin_start": 5,
            "bin_end": 5.800000000000001,
            "count": 1
           },
           {
            "bin_start": 5.800000000000001,
            "bin_end": 6.6000000000000005,
            "count": 0
           },
           {
            "bin_start": 6.6000000000000005,
            "bin_end": 7.4,
            "count": 1
           },
           {
            "bin_start": 7.4,
            "bin_end": 8.2,
            "count": 0
           },
           {
            "bin_start": 8.2,
            "bin_end": 9,
            "count": 1
           }
          ]
         }
        },
        {
         "name": "state_name",
         "dtype": "object",
         "stats": {
          "unique_count": 1,
          "nan_count": 0,
          "categories": [
           {
            "name": "california",
            "count": 5
           }
          ]
         }
        },
        {
         "name": "bea_number_of_people",
         "dtype": "float64",
         "stats": {
          "unique_count": 5,
          "nan_count": 0,
          "min": "1083.0",
          "max": "1607638.0",
          "histogram": [
           {
            "bin_start": 1083,
            "bin_end": 161738.5,
            "count": 3
           },
           {
            "bin_start": 161738.5,
            "bin_end": 322394,
            "count": 1
           },
           {
            "bin_start": 322394,
            "bin_end": 483049.5,
            "count": 0
           },
           {
            "bin_start": 483049.5,
            "bin_end": 643705,
            "count": 0
           },
           {
            "bin_start": 643705,
            "bin_end": 804360.5,
            "count": 0
           },
           {
            "bin_start": 804360.5,
            "bin_end": 965016,
            "count": 0
           },
           {
            "bin_start": 965016,
            "bin_end": 1125671.5,
            "count": 0
           },
           {
            "bin_start": 1125671.5,
            "bin_end": 1286327,
            "count": 0
           },
           {
            "bin_start": 1286327,
            "bin_end": 1446982.5,
            "count": 0
           },
           {
            "bin_start": 1446982.5,
            "bin_end": 1607638,
            "count": 1
           }
          ]
         }
        },
        {
         "name": "per_capita_personal_income",
         "dtype": "float64",
         "stats": {
          "unique_count": 5,
          "nan_count": 0,
          "min": "36796.0",
          "max": "64425.0",
          "histogram": [
           {
            "bin_start": 36796,
            "bin_end": 39558.9,
            "count": 2
           },
           {
            "bin_start": 39558.9,
            "bin_end": 42321.8,
            "count": 1
           },
           {
            "bin_start": 42321.8,
            "bin_end": 45084.7,
            "count": 0
           },
           {
            "bin_start": 45084.7,
            "bin_end": 47847.6,
            "count": 0
           },
           {
            "bin_start": 47847.6,
            "bin_end": 50610.5,
            "count": 0
           },
           {
            "bin_start": 50610.5,
            "bin_end": 53373.4,
            "count": 0
           },
           {
            "bin_start": 53373.4,
            "bin_end": 56136.3,
            "count": 0
           },
           {
            "bin_start": 56136.3,
            "bin_end": 58899.2,
            "count": 1
           },
           {
            "bin_start": 58899.2,
            "bin_end": 61662.100000000006,
            "count": 0
           },
           {
            "bin_start": 61662.100000000006,
            "bin_end": 64425,
            "count": 1
           }
          ]
         }
        },
        {
         "name": "per_capita_retirement_and_other",
         "dtype": "float64",
         "stats": {
          "unique_count": 5,
          "nan_count": 0,
          "min": "6714.0",
          "max": "11478.0",
          "histogram": [
           {
            "bin_start": 6714,
            "bin_end": 7190.4,
            "count": 1
           },
           {
            "bin_start": 7190.4,
            "bin_end": 7666.8,
            "count": 0
           },
           {
            "bin_start": 7666.8,
            "bin_end": 8143.2,
            "count": 0
           },
           {
            "bin_start": 8143.2,
            "bin_end": 8619.6,
            "count": 0
           },
           {
            "bin_start": 8619.6,
            "bin_end": 9096,
            "count": 1
           },
           {
            "bin_start": 9096,
            "bin_end": 9572.4,
            "count": 1
           },
           {
            "bin_start": 9572.4,
            "bin_end": 10048.8,
            "count": 1
           },
           {
            "bin_start": 10048.8,
            "bin_end": 10525.2,
            "count": 0
           },
           {
            "bin_start": 10525.2,
            "bin_end": 11001.599999999999,
            "count": 0
           },
           {
            "bin_start": 11001.599999999999,
            "bin_end": 11478,
            "count": 1
           }
          ]
         }
        },
        {
         "name": "per_capita_unemploy_ins_comp",
         "dtype": "float64",
         "stats": {
          "unique_count": 5,
          "nan_count": 0,
          "min": "142.0",
          "max": "190.0",
          "histogram": [
           {
            "bin_start": 142,
            "bin_end": 146.8,
            "count": 2
           },
           {
            "bin_start": 146.8,
            "bin_end": 151.6,
            "count": 0
           },
           {
            "bin_start": 151.6,
            "bin_end": 156.4,
            "count": 0
           },
           {
            "bin_start": 156.4,
            "bin_end": 161.2,
            "count": 1
           },
           {
            "bin_start": 161.2,
            "bin_end": 166,
            "count": 1
           },
           {
            "bin_start": 166,
            "bin_end": 170.8,
            "count": 0
           },
           {
            "bin_start": 170.8,
            "bin_end": 175.6,
            "count": 0
           },
           {
            "bin_start": 175.6,
            "bin_end": 180.4,
            "count": 0
           },
           {
            "bin_start": 180.4,
            "bin_end": 185.2,
            "count": 0
           },
           {
            "bin_start": 185.2,
            "bin_end": 190,
            "count": 1
           }
          ]
         }
        },
        {
         "name": "per_capita_curr_dollar_real_gdp",
         "dtype": "float64",
         "stats": {
          "unique_count": 5,
          "nan_count": 0,
          "min": "28.69219061261947",
          "max": "102.50046168051708",
          "histogram": [
           {
            "bin_start": 28.69219061261947,
            "bin_end": 36.07301771940923,
            "count": 1
           },
           {
            "bin_start": 36.07301771940923,
            "bin_end": 43.45384482619899,
            "count": 2
           },
           {
            "bin_start": 43.45384482619899,
            "bin_end": 50.834671932988755,
            "count": 0
           },
           {
            "bin_start": 50.834671932988755,
            "bin_end": 58.215499039778514,
            "count": 0
           },
           {
            "bin_start": 58.215499039778514,
            "bin_end": 65.59632614656827,
            "count": 0
           },
           {
            "bin_start": 65.59632614656827,
            "bin_end": 72.97715325335804,
            "count": 1
           },
           {
            "bin_start": 72.97715325335804,
            "bin_end": 80.35798036014779,
            "count": 0
           },
           {
            "bin_start": 80.35798036014779,
            "bin_end": 87.73880746693756,
            "count": 0
           },
           {
            "bin_start": 87.73880746693756,
            "bin_end": 95.11963457372732,
            "count": 0
           },
           {
            "bin_start": 95.11963457372732,
            "bin_end": 102.50046168051708,
            "count": 1
           }
          ]
         }
        },
        {
         "name": "per_capita_num_jobs",
         "dtype": "float64",
         "stats": {
          "unique_count": 5,
          "nan_count": 0,
          "min": "0.3498220560915012",
          "max": "1.2031394275161589",
          "histogram": [
           {
            "bin_start": 0.3498220560915012,
            "bin_end": 0.43515379323396697,
            "count": 1
           },
           {
            "bin_start": 0.43515379323396697,
            "bin_end": 0.5204855303764327,
            "count": 2
           },
           {
            "bin_start": 0.5204855303764327,
            "bin_end": 0.6058172675188984,
            "count": 1
           },
           {
            "bin_start": 0.6058172675188984,
            "bin_end": 0.6911490046613642,
            "count": 0
           },
           {
            "bin_start": 0.6911490046613642,
            "bin_end": 0.77648074180383,
            "count": 0
           },
           {
            "bin_start": 0.77648074180383,
            "bin_end": 0.8618124789462958,
            "count": 0
           },
           {
            "bin_start": 0.8618124789462958,
            "bin_end": 0.9471442160887615,
            "count": 0
           },
           {
            "bin_start": 0.9471442160887615,
            "bin_end": 1.0324759532312273,
            "count": 0
           },
           {
            "bin_start": 1.0324759532312273,
            "bin_end": 1.117807690373693,
            "count": 0
           },
           {
            "bin_start": 1.117807690373693,
            "bin_end": 1.2031394275161589,
            "count": 1
           }
          ]
         }
        },
        {
         "name": "per_capita_farm_proprieter_jobs",
         "dtype": "float64",
         "stats": {
          "unique_count": 5,
          "nan_count": 0,
          "min": "0.0",
          "max": "0.0123553506278398",
          "histogram": [
           {
            "bin_start": 0,
            "bin_end": 0.0012355350627839801,
            "count": 2
           },
           {
            "bin_start": 0.0012355350627839801,
            "bin_end": 0.0024710701255679602,
            "count": 0
           },
           {
            "bin_start": 0.0024710701255679602,
            "bin_end": 0.0037066051883519404,
            "count": 0
           },
           {
            "bin_start": 0.0037066051883519404,
            "bin_end": 0.0049421402511359205,
            "count": 0
           },
           {
            "bin_start": 0.0049421402511359205,
            "bin_end": 0.006177675313919901,
            "count": 0
           },
           {
            "bin_start": 0.006177675313919901,
            "bin_end": 0.007413210376703881,
            "count": 0
           },
           {
            "bin_start": 0.007413210376703881,
            "bin_end": 0.00864874543948786,
            "count": 1
           },
           {
            "bin_start": 0.00864874543948786,
            "bin_end": 0.009884280502271841,
            "count": 0
           },
           {
            "bin_start": 0.009884280502271841,
            "bin_end": 0.011119815565055821,
            "count": 1
           },
           {
            "bin_start": 0.011119815565055821,
            "bin_end": 0.0123553506278398,
            "count": 1
           }
          ]
         }
        },
        {
         "name": "per_capita_nonfarm_proprieter_jobs",
         "dtype": "float64",
         "stats": {
          "unique_count": 5,
          "nan_count": 0,
          "min": "0.1062744659434067",
          "max": "0.1662049861495844",
          "histogram": [
           {
            "bin_start": 0.1062744659434067,
            "bin_end": 0.11226751796402447,
            "count": 1
           },
           {
            "bin_start": 0.11226751796402447,
            "bin_end": 0.11826056998464224,
            "count": 0
           },
           {
            "bin_start": 0.11826056998464224,
            "bin_end": 0.12425362200526001,
            "count": 0
           },
           {
            "bin_start": 0.12425362200526001,
            "bin_end": 0.13024667402587778,
            "count": 0
           },
           {
            "bin_start": 0.13024667402587778,
            "bin_end": 0.13623972604649554,
            "count": 2
           },
           {
            "bin_start": 0.13623972604649554,
            "bin_end": 0.14223277806711332,
            "count": 1
           },
           {
            "bin_start": 0.14223277806711332,
            "bin_end": 0.1482258300877311,
            "count": 0
           },
           {
            "bin_start": 0.1482258300877311,
            "bin_end": 0.15421888210834886,
            "count": 0
           },
           {
            "bin_start": 0.15421888210834886,
            "bin_end": 0.16021193412896662,
            "count": 0
           },
           {
            "bin_start": 0.16021193412896662,
            "bin_end": 0.1662049861495844,
            "count": 1
           }
          ]
         }
        },
        {
         "name": "coastal_flag",
         "dtype": "int64",
         "stats": {
          "unique_count": 2,
          "nan_count": 0,
          "min": "0",
          "max": "1",
          "histogram": [
           {
            "bin_start": 0,
            "bin_end": 0.1,
            "count": 4
           },
           {
            "bin_start": 0.1,
            "bin_end": 0.2,
            "count": 0
           },
           {
            "bin_start": 0.2,
            "bin_end": 0.30000000000000004,
            "count": 0
           },
           {
            "bin_start": 0.30000000000000004,
            "bin_end": 0.4,
            "count": 0
           },
           {
            "bin_start": 0.4,
            "bin_end": 0.5,
            "count": 0
           },
           {
            "bin_start": 0.5,
            "bin_end": 0.6000000000000001,
            "count": 0
           },
           {
            "bin_start": 0.6000000000000001,
            "bin_end": 0.7000000000000001,
            "count": 0
           },
           {
            "bin_start": 0.7000000000000001,
            "bin_end": 0.8,
            "count": 0
           },
           {
            "bin_start": 0.8,
            "bin_end": 0.9,
            "count": 0
           },
           {
            "bin_start": 0.9,
            "bin_end": 1,
            "count": 1
           }
          ]
         }
        },
        {
         "name": "per_capita_num_violent_crimes",
         "dtype": "float64",
         "stats": {
          "unique_count": 5,
          "nan_count": 0,
          "min": "0.0022050416507867",
          "max": "0.0064417487021331",
          "histogram": [
           {
            "bin_start": 0.0022050416507867,
            "bin_end": 0.00262871235592134,
            "count": 2
           },
           {
            "bin_start": 0.00262871235592134,
            "bin_end": 0.0030523830610559802,
            "count": 1
           },
           {
            "bin_start": 0.0030523830610559802,
            "bin_end": 0.00347605376619062,
            "count": 0
           },
           {
            "bin_start": 0.00347605376619062,
            "bin_end": 0.00389972447132526,
            "count": 1
           },
           {
            "bin_start": 0.00389972447132526,
            "bin_end": 0.0043233951764598995,
            "count": 0
           },
           {
            "bin_start": 0.0043233951764598995,
            "bin_end": 0.0047470658815945395,
            "count": 0
           },
           {
            "bin_start": 0.0047470658815945395,
            "bin_end": 0.0051707365867291796,
            "count": 0
           },
           {
            "bin_start": 0.0051707365867291796,
            "bin_end": 0.00559440729186382,
            "count": 0
           },
           {
            "bin_start": 0.00559440729186382,
            "bin_end": 0.00601807799699846,
            "count": 0
           },
           {
            "bin_start": 0.00601807799699846,
            "bin_end": 0.0064417487021331,
            "count": 1
           }
          ]
         }
        },
        {
         "name": "per_capita_num_homicide",
         "dtype": "float64",
         "stats": {
          "unique_count": 4,
          "nan_count": 0,
          "min": "0.0",
          "max": "6.344711931417396e-05",
          "histogram": [
           {
            "bin_start": 0,
            "bin_end": 0.000006344711931417396,
            "count": 2
           },
           {
            "bin_start": 0.000006344711931417396,
            "bin_end": 0.000012689423862834791,
            "count": 0
           },
           {
            "bin_start": 0.000012689423862834791,
            "bin_end": 0.000019034135794252187,
            "count": 0
           },
           {
            "bin_start": 0.000019034135794252187,
            "bin_end": 0.000025378847725669582,
            "count": 0
           },
           {
            "bin_start": 0.000025378847725669582,
            "bin_end": 0.00003172355965708698,
            "count": 1
           },
           {
            "bin_start": 0.00003172355965708698,
            "bin_end": 0.000038068271588504373,
            "count": 0
           },
           {
            "bin_start": 0.000038068271588504373,
            "bin_end": 0.00004441298351992177,
            "count": 0
           },
           {
            "bin_start": 0.00004441298351992177,
            "bin_end": 0.000050757695451339165,
            "count": 1
           },
           {
            "bin_start": 0.000050757695451339165,
            "bin_end": 0.00005710240738275656,
            "count": 0
           },
           {
            "bin_start": 0.00005710240738275656,
            "bin_end": 0.00006344711931417396,
            "count": 1
           }
          ]
         }
        },
        {
         "name": "per_capita_num_rape",
         "dtype": "float64",
         "stats": {
          "unique_count": 5,
          "nan_count": 0,
          "min": "0.0001361136821473",
          "max": "0.0009233610341643",
          "histogram": [
           {
            "bin_start": 0.0001361136821473,
            "bin_end": 0.000214838417349,
            "count": 1
           },
           {
            "bin_start": 0.000214838417349,
            "bin_end": 0.0002935631525507,
            "count": 2
           },
           {
            "bin_start": 0.0002935631525507,
            "bin_end": 0.00037228788775240003,
            "count": 1
           },
           {
            "bin_start": 0.00037228788775240003,
            "bin_end": 0.0004510126229541,
            "count": 0
           },
           {
            "bin_start": 0.0004510126229541,
            "bin_end": 0.0005297373581558,
            "count": 0
           },
           {
            "bin_start": 0.0005297373581558,
            "bin_end": 0.0006084620933575,
            "count": 0
           },
           {
            "bin_start": 0.0006084620933575,
            "bin_end": 0.0006871868285592,
            "count": 0
           },
           {
            "bin_start": 0.0006871868285592,
            "bin_end": 0.0007659115637609,
            "count": 0
           },
           {
            "bin_start": 0.0007659115637609,
            "bin_end": 0.0008446362989626001,
            "count": 0
           },
           {
            "bin_start": 0.0008446362989626001,
            "bin_end": 0.0009233610341643,
            "count": 1
           }
          ]
         }
        },
        {
         "name": "per_capita_num_robbery",
         "dtype": "float64",
         "stats": {
          "unique_count": 5,
          "nan_count": 0,
          "min": "0.0",
          "max": "0.0031344121002364",
          "histogram": [
           {
            "bin_start": 0,
            "bin_end": 0.00031344121002364,
            "count": 3
           },
           {
            "bin_start": 0.00031344121002364,
            "bin_end": 0.00062688242004728,
            "count": 0
           },
           {
            "bin_start": 0.00062688242004728,
            "bin_end": 0.00094032363007092,
            "count": 1
           },
           {
            "bin_start": 0.00094032363007092,
            "bin_end": 0.00125376484009456,
            "count": 0
           },
           {
            "bin_start": 0.00125376484009456,
            "bin_end": 0.0015672060501182,
            "count": 0
           },
           {
            "bin_start": 0.0015672060501182,
            "bin_end": 0.00188064726014184,
            "count": 0
           },
           {
            "bin_start": 0.00188064726014184,
            "bin_end": 0.0021940884701654798,
            "count": 0
           },
           {
            "bin_start": 0.0021940884701654798,
            "bin_end": 0.00250752968018912,
            "count": 0
           },
           {
            "bin_start": 0.00250752968018912,
            "bin_end": 0.00282097089021276,
            "count": 0
           },
           {
            "bin_start": 0.00282097089021276,
            "bin_end": 0.0031344121002364,
            "count": 1
           }
          ]
         }
        },
        {
         "name": "per_capita_num_agg_assault",
         "dtype": "float64",
         "stats": {
          "unique_count": 5,
          "nan_count": 0,
          "min": "0.0017694778679152",
          "max": "0.0029807705466031",
          "histogram": [
           {
            "bin_start": 0.0017694778679152,
            "bin_end": 0.00189060713578399,
            "count": 1
           },
           {
            "bin_start": 0.00189060713578399,
            "bin_end": 0.00201173640365278,
            "count": 1
           },
           {
            "bin_start": 0.00201173640365278,
            "bin_end": 0.00213286567152157,
            "count": 1
           },
           {
            "bin_start": 0.00213286567152157,
            "bin_end": 0.00225399493939036,
            "count": 0
           },
           {
            "bin_start": 0.00225399493939036,
            "bin_end": 0.00237512420725915,
            "count": 0
           },
           {
            "bin_start": 0.00237512420725915,
            "bin_end": 0.00249625347512794,
            "count": 0
           },
           {
            "bin_start": 0.00249625347512794,
            "bin_end": 0.00261738274299673,
            "count": 0
           },
           {
            "bin_start": 0.00261738274299673,
            "bin_end": 0.0027385120108655197,
            "count": 0
           },
           {
            "bin_start": 0.0027385120108655197,
            "bin_end": 0.00285964127873431,
            "count": 1
           },
           {
            "bin_start": 0.00285964127873431,
            "bin_end": 0.0029807705466031,
            "count": 1
           }
          ]
         }
        },
        {
         "name": "per_capita_num_property_crimes",
         "dtype": "float64",
         "stats": {
          "unique_count": 5,
          "nan_count": 0,
          "min": "0.017123101214134",
          "max": "0.0358414021066931",
          "histogram": [
           {
            "bin_start": 0.017123101214134,
            "bin_end": 0.01899493130338991,
            "count": 1
           },
           {
            "bin_start": 0.01899493130338991,
            "bin_end": 0.02086676139264582,
            "count": 0
           },
           {
            "bin_start": 0.02086676139264582,
            "bin_end": 0.02273859148190173,
            "count": 2
           },
           {
            "bin_start": 0.02273859148190173,
            "bin_end": 0.024610421571157642,
            "count": 0
           },
           {
            "bin_start": 0.024610421571157642,
            "bin_end": 0.02648225166041355,
            "count": 0
           },
           {
            "bin_start": 0.02648225166041355,
            "bin_end": 0.02835408174966946,
            "count": 0
           },
           {
            "bin_start": 0.02835408174966946,
            "bin_end": 0.03022591183892537,
            "count": 1
           },
           {
            "bin_start": 0.03022591183892537,
            "bin_end": 0.03209774192818128,
            "count": 0
           },
           {
            "bin_start": 0.03209774192818128,
            "bin_end": 0.033969572017437194,
            "count": 0
           },
           {
            "bin_start": 0.033969572017437194,
            "bin_end": 0.0358414021066931,
            "count": 1
           }
          ]
         }
        },
        {
         "name": "per_capita_num_burglary",
         "dtype": "float64",
         "stats": {
          "unique_count": 5,
          "nan_count": 0,
          "min": "0.0053356563401753",
          "max": "0.0092336103416435",
          "histogram": [
           {
            "bin_start": 0.0053356563401753,
            "bin_end": 0.00572545174032212,
            "count": 1
           },
           {
            "bin_start": 0.00572545174032212,
            "bin_end": 0.006115247140468939,
            "count": 0
           },
           {
            "bin_start": 0.006115247140468939,
            "bin_end": 0.00650504254061576,
            "count": 1
           },
           {
            "bin_start": 0.00650504254061576,
            "bin_end": 0.00689483794076258,
            "count": 1
           },
           {
            "bin_start": 0.00689483794076258,
            "bin_end": 0.0072846333409094,
            "count": 0
           },
           {
            "bin_start": 0.0072846333409094,
            "bin_end": 0.0076744287410562195,
            "count": 1
           },
           {
            "bin_start": 0.0076744287410562195,
            "bin_end": 0.00806422414120304,
            "count": 0
           },
           {
            "bin_start": 0.00806422414120304,
            "bin_end": 0.00845401954134986,
            "count": 0
           },
           {
            "bin_start": 0.00845401954134986,
            "bin_end": 0.00884381494149668,
            "count": 0
           },
           {
            "bin_start": 0.00884381494149668,
            "bin_end": 0.0092336103416435,
            "count": 1
           }
          ]
         }
        },
        {
         "name": "per_capita_num_vehicle_theft",
         "dtype": "float64",
         "stats": {
          "unique_count": 5,
          "nan_count": 0,
          "min": "0.0",
          "max": "0.0078854816818214",
          "histogram": [
           {
            "bin_start": 0,
            "bin_end": 0.0007885481681821399,
            "count": 1
           },
           {
            "bin_start": 0.0007885481681821399,
            "bin_end": 0.0015770963363642798,
            "count": 1
           },
           {
            "bin_start": 0.0015770963363642798,
            "bin_end": 0.0023656445045464195,
            "count": 1
           },
           {
            "bin_start": 0.0023656445045464195,
            "bin_end": 0.0031541926727285596,
            "count": 0
           },
           {
            "bin_start": 0.0031541926727285596,
            "bin_end": 0.0039427408409107,
            "count": 1
           },
           {
            "bin_start": 0.0039427408409107,
            "bin_end": 0.004731289009092839,
            "count": 0
           },
           {
            "bin_start": 0.004731289009092839,
            "bin_end": 0.005519837177274979,
            "count": 0
           },
           {
            "bin_start": 0.005519837177274979,
            "bin_end": 0.006308385345457119,
            "count": 0
           },
           {
            "bin_start": 0.006308385345457119,
            "bin_end": 0.007096933513639259,
            "count": 0
           },
           {
            "bin_start": 0.007096933513639259,
            "bin_end": 0.0078854816818214,
            "count": 1
           }
          ]
         }
        },
        {
         "name": "per_capita_num_larceny_theft",
         "dtype": "float64",
         "stats": {
          "unique_count": 5,
          "nan_count": 0,
          "min": "0.01069853541678",
          "max": "0.021839493716869",
          "histogram": [
           {
            "bin_start": 0.01069853541678,
            "bin_end": 0.011812631246788899,
            "count": 1
           },
           {
            "bin_start": 0.011812631246788899,
            "bin_end": 0.0129267270767978,
            "count": 0
           },
           {
            "bin_start": 0.0129267270767978,
            "bin_end": 0.0140408229068067,
            "count": 2
           },
           {
            "bin_start": 0.0140408229068067,
            "bin_end": 0.0151549187368156,
            "count": 0
           },
           {
            "bin_start": 0.0151549187368156,
            "bin_end": 0.0162690145668245,
            "count": 0
           },
           {
            "bin_start": 0.0162690145668245,
            "bin_end": 0.0173831103968334,
            "count": 0
           },
           {
            "bin_start": 0.0173831103968334,
            "bin_end": 0.0184972062268423,
            "count": 0
           },
           {
            "bin_start": 0.0184972062268423,
            "bin_end": 0.0196113020568512,
            "count": 1
           },
           {
            "bin_start": 0.0196113020568512,
            "bin_end": 0.0207253978868601,
            "count": 0
           },
           {
            "bin_start": 0.0207253978868601,
            "bin_end": 0.021839493716869,
            "count": 1
           }
          ]
         }
        },
        {
         "name": "per_capita_num_arson",
         "dtype": "float64",
         "stats": {
          "unique_count": 5,
          "nan_count": 0,
          "min": "0.0",
          "max": "0.0003892182082541",
          "histogram": [
           {
            "bin_start": 0,
            "bin_end": 0.00003892182082541,
            "count": 1
           },
           {
            "bin_start": 0.00003892182082541,
            "bin_end": 0.00007784364165082,
            "count": 1
           },
           {
            "bin_start": 0.00007784364165082,
            "bin_end": 0.00011676546247622998,
            "count": 1
           },
           {
            "bin_start": 0.00011676546247622998,
            "bin_end": 0.00015568728330164,
            "count": 0
           },
           {
            "bin_start": 0.00015568728330164,
            "bin_end": 0.00019460910412705,
            "count": 0
           },
           {
            "bin_start": 0.00019460910412705,
            "bin_end": 0.00023353092495245997,
            "count": 1
           },
           {
            "bin_start": 0.00023353092495245997,
            "bin_end": 0.00027245274577787,
            "count": 0
           },
           {
            "bin_start": 0.00027245274577787,
            "bin_end": 0.00031137456660328,
            "count": 0
           },
           {
            "bin_start": 0.00031137456660328,
            "bin_end": 0.00035029638742869,
            "count": 0
           },
           {
            "bin_start": 0.00035029638742869,
            "bin_end": 0.0003892182082541,
            "count": 1
           }
          ]
         }
        },
        {
         "name": "name",
         "dtype": "object",
         "stats": {
          "unique_count": 5,
          "nan_count": 0,
          "categories": [
           {
            "name": "Alameda County, California",
            "count": 1
           },
           {
            "name": "Alpine County, California",
            "count": 1
           },
           {
            "name": "3 others",
            "count": 3
           }
          ]
         }
        },
        {
         "name": "total_population",
         "dtype": "float64",
         "stats": {
          "unique_count": 5,
          "nan_count": 0,
          "min": "1202.0",
          "max": "1610921.0",
          "histogram": [
           {
            "bin_start": 1202,
            "bin_end": 162173.9,
            "count": 3
           },
           {
            "bin_start": 162173.9,
            "bin_end": 323145.8,
            "count": 1
           },
           {
            "bin_start": 323145.8,
            "bin_end": 484117.69999999995,
            "count": 0
           },
           {
            "bin_start": 484117.69999999995,
            "bin_end": 645089.6,
            "count": 0
           },
           {
            "bin_start": 645089.6,
            "bin_end": 806061.5,
            "count": 0
           },
           {
            "bin_start": 806061.5,
            "bin_end": 967033.3999999999,
            "count": 0
           },
           {
            "bin_start": 967033.3999999999,
            "bin_end": 1128005.3,
            "count": 0
           },
           {
            "bin_start": 1128005.3,
            "bin_end": 1288977.2,
            "count": 0
           },
           {
            "bin_start": 1288977.2,
            "bin_end": 1449949.0999999999,
            "count": 0
           },
           {
            "bin_start": 1449949.0999999999,
            "bin_end": 1610921,
            "count": 1
           }
          ]
         }
        },
        {
         "name": "median_income",
         "dtype": "float64",
         "stats": {
          "unique_count": 5,
          "nan_count": 0,
          "min": "42365.0",
          "max": "77214.0",
          "histogram": [
           {
            "bin_start": 42365,
            "bin_end": 45849.9,
            "count": 1
           },
           {
            "bin_start": 45849.9,
            "bin_end": 49334.8,
            "count": 0
           },
           {
            "bin_start": 49334.8,
            "bin_end": 52819.7,
            "count": 0
           },
           {
            "bin_start": 52819.7,
            "bin_end": 56304.6,
            "count": 2
           },
           {
            "bin_start": 56304.6,
            "bin_end": 59789.5,
            "count": 0
           },
           {
            "bin_start": 59789.5,
            "bin_end": 63274.4,
            "count": 1
           },
           {
            "bin_start": 63274.4,
            "bin_end": 66759.3,
            "count": 0
           },
           {
            "bin_start": 66759.3,
            "bin_end": 70244.2,
            "count": 0
           },
           {
            "bin_start": 70244.2,
            "bin_end": 73729.1,
            "count": 0
           },
           {
            "bin_start": 73729.1,
            "bin_end": 77214,
            "count": 1
           }
          ]
         }
        },
        {
         "name": "median_rent",
         "dtype": "float64",
         "stats": {
          "unique_count": 5,
          "nan_count": 0,
          "min": "775.0",
          "max": "1391.0",
          "histogram": [
           {
            "bin_start": 775,
            "bin_end": 836.6,
            "count": 1
           },
           {
            "bin_start": 836.6,
            "bin_end": 898.2,
            "count": 1
           },
           {
            "bin_start": 898.2,
            "bin_end": 959.8,
            "count": 0
           },
           {
            "bin_start": 959.8,
            "bin_end": 1021.4,
            "count": 0
           },
           {
            "bin_start": 1021.4,
            "bin_end": 1083,
            "count": 2
           },
           {
            "bin_start": 1083,
            "bin_end": 1144.6,
            "count": 0
           },
           {
            "bin_start": 1144.6,
            "bin_end": 1206.2,
            "count": 0
           },
           {
            "bin_start": 1206.2,
            "bin_end": 1267.8,
            "count": 0
           },
           {
            "bin_start": 1267.8,
            "bin_end": 1329.4,
            "count": 0
           },
           {
            "bin_start": 1329.4,
            "bin_end": 1391,
            "count": 1
           }
          ]
         }
        },
        {
         "name": "median_home_value",
         "dtype": "float64",
         "stats": {
          "unique_count": 5,
          "nan_count": 0,
          "min": "225400.0",
          "max": "587600.0",
          "histogram": [
           {
            "bin_start": 225400,
            "bin_end": 261620,
            "count": 3
           },
           {
            "bin_start": 261620,
            "bin_end": 297840,
            "count": 0
           },
           {
            "bin_start": 297840,
            "bin_end": 334060,
            "count": 1
           },
           {
            "bin_start": 334060,
            "bin_end": 370280,
            "count": 0
           },
           {
            "bin_start": 370280,
            "bin_end": 406500,
            "count": 0
           },
           {
            "bin_start": 406500,
            "bin_end": 442720,
            "count": 0
           },
           {
            "bin_start": 442720,
            "bin_end": 478940,
            "count": 0
           },
           {
            "bin_start": 478940,
            "bin_end": 515160,
            "count": 0
           },
           {
            "bin_start": 515160,
            "bin_end": 551380,
            "count": 0
           },
           {
            "bin_start": 551380,
            "bin_end": 587600,
            "count": 1
           }
          ]
         }
        },
        {
         "name": "educational_attainment",
         "dtype": "float64",
         "stats": {
          "unique_count": 5,
          "nan_count": 0,
          "min": "0.2045383357115511",
          "max": "0.4278239598739171",
          "histogram": [
           {
            "bin_start": 0.2045383357115511,
            "bin_end": 0.2268668981277877,
            "count": 2
           },
           {
            "bin_start": 0.2268668981277877,
            "bin_end": 0.2491954605440243,
            "count": 0
           },
           {
            "bin_start": 0.2491954605440243,
            "bin_end": 0.2715240229602609,
            "count": 1
           },
           {
            "bin_start": 0.2715240229602609,
            "bin_end": 0.2938525853764975,
            "count": 0
           },
           {
            "bin_start": 0.2938525853764975,
            "bin_end": 0.3161811477927341,
            "count": 1
           },
           {
            "bin_start": 0.3161811477927341,
            "bin_end": 0.3385097102089707,
            "count": 0
           },
           {
            "bin_start": 0.3385097102089707,
            "bin_end": 0.3608382726252073,
            "count": 0
           },
           {
            "bin_start": 0.3608382726252073,
            "bin_end": 0.3831668350414439,
            "count": 0
           },
           {
            "bin_start": 0.3831668350414439,
            "bin_end": 0.4054953974576805,
            "count": 0
           },
           {
            "bin_start": 0.4054953974576805,
            "bin_end": 0.4278239598739171,
            "count": 1
           }
          ]
         }
        },
        {
         "name": "av_commute_time",
         "dtype": "float64",
         "stats": {
          "unique_count": 5,
          "nan_count": 0,
          "min": "21.21779409823475",
          "max": "34.39602993817117",
          "histogram": [
           {
            "bin_start": 21.21779409823475,
            "bin_end": 22.53561768222839,
            "count": 1
           },
           {
            "bin_start": 22.53561768222839,
            "bin_end": 23.853441266222035,
            "count": 0
           },
           {
            "bin_start": 23.853441266222035,
            "bin_end": 25.171264850215678,
            "count": 0
           },
           {
            "bin_start": 25.171264850215678,
            "bin_end": 26.489088434209318,
            "count": 1
           },
           {
            "bin_start": 26.489088434209318,
            "bin_end": 27.806912018202958,
            "count": 0
           },
           {
            "bin_start": 27.806912018202958,
            "bin_end": 29.1247356021966,
            "count": 0
           },
           {
            "bin_start": 29.1247356021966,
            "bin_end": 30.442559186190245,
            "count": 1
           },
           {
            "bin_start": 30.442559186190245,
            "bin_end": 31.760382770183885,
            "count": 1
           },
           {
            "bin_start": 31.760382770183885,
            "bin_end": 33.078206354177524,
            "count": 0
           },
           {
            "bin_start": 33.078206354177524,
            "bin_end": 34.39602993817117,
            "count": 1
           }
          ]
         }
        },
        {
         "name": "perc_poverty",
         "dtype": "float64",
         "stats": {
          "unique_count": 5,
          "nan_count": 0,
          "min": "0.1150999757797572",
          "max": "0.217431245847102",
          "histogram": [
           {
            "bin_start": 0.1150999757797572,
            "bin_end": 0.12533310278649168,
            "count": 3
           },
           {
            "bin_start": 0.12533310278649168,
            "bin_end": 0.13556622979322616,
            "count": 0
           },
           {
            "bin_start": 0.13556622979322616,
            "bin_end": 0.14579935679996064,
            "count": 0
           },
           {
            "bin_start": 0.14579935679996064,
            "bin_end": 0.1560324838066951,
            "count": 1
           },
           {
            "bin_start": 0.1560324838066951,
            "bin_end": 0.1662656108134296,
            "count": 0
           },
           {
            "bin_start": 0.1662656108134296,
            "bin_end": 0.17649873782016406,
            "count": 0
           },
           {
            "bin_start": 0.17649873782016406,
            "bin_end": 0.18673186482689855,
            "count": 0
           },
           {
            "bin_start": 0.18673186482689855,
            "bin_end": 0.19696499183363303,
            "count": 0
           },
           {
            "bin_start": 0.19696499183363303,
            "bin_end": 0.2071981188403675,
            "count": 0
           },
           {
            "bin_start": 0.2071981188403675,
            "bin_end": 0.217431245847102,
            "count": 1
           }
          ]
         }
        },
        {
         "name": "perc_white",
         "dtype": "float64",
         "stats": {
          "unique_count": 5,
          "nan_count": 0,
          "min": "0.3264207245420477",
          "max": "0.8288773624807996",
          "histogram": [
           {
            "bin_start": 0.3264207245420477,
            "bin_end": 0.37666638833592286,
            "count": 1
           },
           {
            "bin_start": 0.37666638833592286,
            "bin_end": 0.42691205212979805,
            "count": 0
           },
           {
            "bin_start": 0.42691205212979805,
            "bin_end": 0.47715771592367323,
            "count": 0
           },
           {
            "bin_start": 0.47715771592367323,
            "bin_end": 0.5274033797175484,
            "count": 0
           },
           {
            "bin_start": 0.5274033797175484,
            "bin_end": 0.5776490435114237,
            "count": 0
           },
           {
            "bin_start": 0.5776490435114237,
            "bin_end": 0.6278947073052987,
            "count": 0
           },
           {
            "bin_start": 0.6278947073052987,
            "bin_end": 0.678140371099174,
            "count": 0
           },
           {
            "bin_start": 0.678140371099174,
            "bin_end": 0.7283860348930491,
            "count": 1
           },
           {
            "bin_start": 0.7283860348930491,
            "bin_end": 0.7786316986869244,
            "count": 1
           },
           {
            "bin_start": 0.7786316986869244,
            "bin_end": 0.8288773624807996,
            "count": 2
           }
          ]
         }
        },
        {
         "name": "perc_black",
         "dtype": "float64",
         "stats": {
          "unique_count": 5,
          "nan_count": 0,
          "min": "0.0062331648894726",
          "max": "0.1113971448630938",
          "histogram": [
           {
            "bin_start": 0.0062331648894726,
            "bin_end": 0.01674956288683472,
            "count": 3
           },
           {
            "bin_start": 0.01674956288683472,
            "bin_end": 0.027265960884196836,
            "count": 1
           },
           {
            "bin_start": 0.027265960884196836,
            "bin_end": 0.03778235888155895,
            "count": 0
           },
           {
            "bin_start": 0.03778235888155895,
            "bin_end": 0.04829875687892107,
            "count": 0
           },
           {
            "bin_start": 0.04829875687892107,
            "bin_end": 0.05881515487628319,
            "count": 0
           },
           {
            "bin_start": 0.05881515487628319,
            "bin_end": 0.06933155287364531,
            "count": 0
           },
           {
            "bin_start": 0.06933155287364531,
            "bin_end": 0.07984795087100743,
            "count": 0
           },
           {
            "bin_start": 0.07984795087100743,
            "bin_end": 0.09036434886836955,
            "count": 0
           },
           {
            "bin_start": 0.09036434886836955,
            "bin_end": 0.10088074686573167,
            "count": 0
           },
           {
            "bin_start": 0.10088074686573167,
            "bin_end": 0.1113971448630938,
            "count": 1
           }
          ]
         }
        },
        {
         "name": "perc_american_indian",
         "dtype": "float64",
         "stats": {
          "unique_count": 5,
          "nan_count": 0,
          "min": "0.0067005147986772",
          "max": "0.173044925124792",
          "histogram": [
           {
            "bin_start": 0.0067005147986772,
            "bin_end": 0.02333495583128868,
            "count": 4
           },
           {
            "bin_start": 0.02333495583128868,
            "bin_end": 0.03996939686390016,
            "count": 0
           },
           {
            "bin_start": 0.03996939686390016,
            "bin_end": 0.05660383789651163,
            "count": 0
           },
           {
            "bin_start": 0.05660383789651163,
            "bin_end": 0.07323827892912312,
            "count": 0
           },
           {
            "bin_start": 0.07323827892912312,
            "bin_end": 0.0898727199617346,
            "count": 0
           },
           {
            "bin_start": 0.0898727199617346,
            "bin_end": 0.10650716099434607,
            "count": 0
           },
           {
            "bin_start": 0.10650716099434607,
            "bin_end": 0.12314160202695755,
            "count": 0
           },
           {
            "bin_start": 0.12314160202695755,
            "bin_end": 0.13977604305956903,
            "count": 0
           },
           {
            "bin_start": 0.13977604305956903,
            "bin_end": 0.1564104840921805,
            "count": 0
           },
           {
            "bin_start": 0.1564104840921805,
            "bin_end": 0.173044925124792,
            "count": 1
           }
          ]
         }
        },
        {
         "name": "perc_asian",
         "dtype": "float64",
         "stats": {
          "unique_count": 5,
          "nan_count": 0,
          "min": "0.0099833610648918",
          "max": "0.279012440709383",
          "histogram": [
           {
            "bin_start": 0.0099833610648918,
            "bin_end": 0.036886269029340925,
            "count": 3
           },
           {
            "bin_start": 0.036886269029340925,
            "bin_end": 0.06378917699379005,
            "count": 1
           },
           {
            "bin_start": 0.06378917699379005,
            "bin_end": 0.09069208495823917,
            "count": 0
           },
           {
            "bin_start": 0.09069208495823917,
            "bin_end": 0.1175949929226883,
            "count": 0
           },
           {
            "bin_start": 0.1175949929226883,
            "bin_end": 0.14449790088713743,
            "count": 0
           },
           {
            "bin_start": 0.14449790088713743,
            "bin_end": 0.17140080885158657,
            "count": 0
           },
           {
            "bin_start": 0.17140080885158657,
            "bin_end": 0.19830371681603567,
            "count": 0
           },
           {
            "bin_start": 0.19830371681603567,
            "bin_end": 0.2252066247804848,
            "count": 0
           },
           {
            "bin_start": 0.2252066247804848,
            "bin_end": 0.2521095327449339,
            "count": 0
           },
           {
            "bin_start": 0.2521095327449339,
            "bin_end": 0.279012440709383,
            "count": 1
           }
          ]
         }
        },
        {
         "name": "perc_hawaiian",
         "dtype": "float64",
         "stats": {
          "unique_count": 5,
          "nan_count": 0,
          "min": "0.0013601437738861",
          "max": "0.0116472545757071",
          "histogram": [
           {
            "bin_start": 0.0013601437738861,
            "bin_end": 0.0023888548540682,
            "count": 2
           },
           {
            "bin_start": 0.0023888548540682,
            "bin_end": 0.0034175659342503,
            "count": 1
           },
           {
            "bin_start": 0.0034175659342503,
            "bin_end": 0.0044462770144324,
            "count": 0
           },
           {
            "bin_start": 0.0044462770144324,
            "bin_end": 0.0054749880946145,
            "count": 0
           },
           {
            "bin_start": 0.0054749880946145,
            "bin_end": 0.006503699174796601,
            "count": 0
           },
           {
            "bin_start": 0.006503699174796601,
            "bin_end": 0.007532410254978699,
            "count": 0
           },
           {
            "bin_start": 0.007532410254978699,
            "bin_end": 0.0085611213351608,
            "count": 1
           },
           {
            "bin_start": 0.0085611213351608,
            "bin_end": 0.0095898324153429,
            "count": 0
           },
           {
            "bin_start": 0.0095898324153429,
            "bin_end": 0.010618543495525,
            "count": 0
           },
           {
            "bin_start": 0.010618543495525,
            "bin_end": 0.0116472545757071,
            "count": 1
           }
          ]
         }
        },
        {
         "name": "perc_other_race",
         "dtype": "float64",
         "stats": {
          "unique_count": 4,
          "nan_count": 0,
          "min": "0.0",
          "max": "0.0030976068969241",
          "histogram": [
           {
            "bin_start": 0,
            "bin_end": 0.00030976068969240997,
            "count": 3
           },
           {
            "bin_start": 0.00030976068969240997,
            "bin_end": 0.0006195213793848199,
            "count": 0
           },
           {
            "bin_start": 0.0006195213793848199,
            "bin_end": 0.0009292820690772299,
            "count": 0
           },
           {
            "bin_start": 0.0009292820690772299,
            "bin_end": 0.0012390427587696399,
            "count": 0
           },
           {
            "bin_start": 0.0012390427587696399,
            "bin_end": 0.00154880344846205,
            "count": 0
           },
           {
            "bin_start": 0.00154880344846205,
            "bin_end": 0.0018585641381544597,
            "count": 0
           },
           {
            "bin_start": 0.0018585641381544597,
            "bin_end": 0.0021683248278468697,
            "count": 0
           },
           {
            "bin_start": 0.0021683248278468697,
            "bin_end": 0.0024780855175392798,
            "count": 1
           },
           {
            "bin_start": 0.0024780855175392798,
            "bin_end": 0.0027878462072316898,
            "count": 0
           },
           {
            "bin_start": 0.0027878462072316898,
            "bin_end": 0.0030976068969241,
            "count": 1
           }
          ]
         }
        },
        {
         "name": "perc_hispanic",
         "dtype": "float64",
         "stats": {
          "unique_count": 5,
          "nan_count": 0,
          "min": "0.0715474209650582",
          "max": "0.2267466871435657",
          "histogram": [
           {
            "bin_start": 0.0715474209650582,
            "bin_end": 0.08706734758290895,
            "count": 1
           },
           {
            "bin_start": 0.08706734758290895,
            "bin_end": 0.10258727420075969,
            "count": 0
           },
           {
            "bin_start": 0.10258727420075969,
            "bin_end": 0.11810720081861045,
            "count": 1
           },
           {
            "bin_start": 0.11810720081861045,
            "bin_end": 0.1336271274364612,
            "count": 1
           },
           {
            "bin_start": 0.1336271274364612,
            "bin_end": 0.14914705405431194,
            "count": 0
           },
           {
            "bin_start": 0.14914705405431194,
            "bin_end": 0.1646669806721627,
            "count": 1
           },
           {
            "bin_start": 0.1646669806721627,
            "bin_end": 0.18018690729001346,
            "count": 0
           },
           {
            "bin_start": 0.18018690729001346,
            "bin_end": 0.1957068339078642,
            "count": 0
           },
           {
            "bin_start": 0.1957068339078642,
            "bin_end": 0.21122676052571496,
            "count": 0
           },
           {
            "bin_start": 0.21122676052571496,
            "bin_end": 0.2267466871435657,
            "count": 1
           }
          ]
         }
        },
        {
         "name": "perc_65_over",
         "dtype": "float64",
         "stats": {
          "unique_count": 5,
          "nan_count": 0,
          "min": "0.1247267867263509",
          "max": "0.2329200151376861",
          "histogram": [
           {
            "bin_start": 0.1247267867263509,
            "bin_end": 0.13554610956748442,
            "count": 1
           },
           {
            "bin_start": 0.13554610956748442,
            "bin_end": 0.14636543240861793,
            "count": 0
           },
           {
            "bin_start": 0.14636543240861793,
            "bin_end": 0.15718475524975145,
            "count": 0
           },
           {
            "bin_start": 0.15718475524975145,
            "bin_end": 0.16800407809088497,
            "count": 0
           },
           {
            "bin_start": 0.16800407809088497,
            "bin_end": 0.17882340093201848,
            "count": 1
           },
           {
            "bin_start": 0.17882340093201848,
            "bin_end": 0.18964272377315203,
            "count": 1
           },
           {
            "bin_start": 0.18964272377315203,
            "bin_end": 0.20046204661428554,
            "count": 0
           },
           {
            "bin_start": 0.20046204661428554,
            "bin_end": 0.21128136945541906,
            "count": 0
           },
           {
            "bin_start": 0.21128136945541906,
            "bin_end": 0.22210069229655258,
            "count": 0
           },
           {
            "bin_start": 0.22210069229655258,
            "bin_end": 0.2329200151376861,
            "count": 2
           }
          ]
         }
        },
        {
         "name": "perc_enrolled_undergrad",
         "dtype": "float64",
         "stats": {
          "unique_count": 5,
          "nan_count": 0,
          "min": "0.0290064780392244",
          "max": "0.1120044951636855",
          "histogram": [
           {
            "bin_start": 0.0290064780392244,
            "bin_end": 0.03730627975167051,
            "count": 1
           },
           {
            "bin_start": 0.03730627975167051,
            "bin_end": 0.04560608146411662,
            "count": 1
           },
           {
            "bin_start": 0.04560608146411662,
            "bin_end": 0.053905883176562724,
            "count": 0
           },
           {
            "bin_start": 0.053905883176562724,
            "bin_end": 0.062205684889008836,
            "count": 0
           },
           {
            "bin_start": 0.062205684889008836,
            "bin_end": 0.07050548660145495,
            "count": 1
           },
           {
            "bin_start": 0.07050548660145495,
            "bin_end": 0.07880528831390106,
            "count": 1
           },
           {
            "bin_start": 0.07880528831390106,
            "bin_end": 0.08710509002634717,
            "count": 0
           },
           {
            "bin_start": 0.08710509002634717,
            "bin_end": 0.09540489173879328,
            "count": 0
           },
           {
            "bin_start": 0.09540489173879328,
            "bin_end": 0.1037046934512394,
            "count": 0
           },
           {
            "bin_start": 0.1037046934512394,
            "bin_end": 0.1120044951636855,
            "count": 1
           }
          ]
         }
        },
        {
         "name": "perc_unemployed",
         "dtype": "float64",
         "stats": {
          "unique_count": 5,
          "nan_count": 0,
          "min": "0.040340159853602",
          "max": "0.1347753743760399",
          "histogram": [
           {
            "bin_start": 0.040340159853602,
            "bin_end": 0.04978368130584579,
            "count": 2
           },
           {
            "bin_start": 0.04978368130584579,
            "bin_end": 0.059227202758089584,
            "count": 2
           },
           {
            "bin_start": 0.059227202758089584,
            "bin_end": 0.06867072421033338,
            "count": 0
           },
           {
            "bin_start": 0.06867072421033338,
            "bin_end": 0.07811424566257716,
            "count": 0
           },
           {
            "bin_start": 0.07811424566257716,
            "bin_end": 0.08755776711482094,
            "count": 0
           },
           {
            "bin_start": 0.08755776711482094,
            "bin_end": 0.09700128856706475,
            "count": 0
           },
           {
            "bin_start": 0.09700128856706475,
            "bin_end": 0.10644481001930853,
            "count": 0
           },
           {
            "bin_start": 0.10644481001930853,
            "bin_end": 0.11588833147155231,
            "count": 0
           },
           {
            "bin_start": 0.11588833147155231,
            "bin_end": 0.12533185292379612,
            "count": 0
           },
           {
            "bin_start": 0.12533185292379612,
            "bin_end": 0.1347753743760399,
            "count": 1
           }
          ]
         }
        },
        {
         "name": "housing_per_capita",
         "dtype": "float64",
         "stats": {
          "unique_count": 5,
          "nan_count": 0,
          "min": "0.367735599697316",
          "max": "1.5149750415973378",
          "histogram": [
           {
            "bin_start": 0.367735599697316,
            "bin_end": 0.48245954388731815,
            "count": 2
           },
           {
            "bin_start": 0.48245954388731815,
            "bin_end": 0.5971834880773204,
            "count": 1
           },
           {
            "bin_start": 0.5971834880773204,
            "bin_end": 0.7119074322673224,
            "count": 1
           },
           {
            "bin_start": 0.7119074322673224,
            "bin_end": 0.8266313764573248,
            "count": 0
           },
           {
            "bin_start": 0.8266313764573248,
            "bin_end": 0.9413553206473269,
            "count": 0
           },
           {
            "bin_start": 0.9413553206473269,
            "bin_end": 1.056079264837329,
            "count": 0
           },
           {
            "bin_start": 1.056079264837329,
            "bin_end": 1.1708032090273313,
            "count": 0
           },
           {
            "bin_start": 1.1708032090273313,
            "bin_end": 1.2855271532173334,
            "count": 0
           },
           {
            "bin_start": 1.2855271532173334,
            "bin_end": 1.4002510974073354,
            "count": 0
           },
           {
            "bin_start": 1.4002510974073354,
            "bin_end": 1.5149750415973378,
            "count": 1
           }
          ]
         }
        },
        {
         "name": "perc_owner",
         "dtype": "float64",
         "stats": {
          "unique_count": 5,
          "nan_count": 0,
          "min": "0.1691378363536518",
          "max": "0.5808228231536047",
          "histogram": [
           {
            "bin_start": 0.1691378363536518,
            "bin_end": 0.2103063350336471,
            "count": 1
           },
           {
            "bin_start": 0.2103063350336471,
            "bin_end": 0.2514748337136424,
            "count": 0
           },
           {
            "bin_start": 0.2514748337136424,
            "bin_end": 0.29264333239363766,
            "count": 0
           },
           {
            "bin_start": 0.29264333239363766,
            "bin_end": 0.333811831073633,
            "count": 0
           },
           {
            "bin_start": 0.333811831073633,
            "bin_end": 0.37498032975362827,
            "count": 0
           },
           {
            "bin_start": 0.37498032975362827,
            "bin_end": 0.41614882843362355,
            "count": 0
           },
           {
            "bin_start": 0.41614882843362355,
            "bin_end": 0.45731732711361883,
            "count": 0
           },
           {
            "bin_start": 0.45731732711361883,
            "bin_end": 0.4984858257936141,
            "count": 1
           },
           {
            "bin_start": 0.4984858257936141,
            "bin_end": 0.5396543244736094,
            "count": 2
           },
           {
            "bin_start": 0.5396543244736094,
            "bin_end": 0.5808228231536047,
            "count": 1
           }
          ]
         }
        },
        {
         "name": "perc_renter",
         "dtype": "float64",
         "stats": {
          "unique_count": 5,
          "nan_count": 0,
          "min": "0.0378912685337726",
          "max": "0.4582042664244851",
          "histogram": [
           {
            "bin_start": 0.0378912685337726,
            "bin_end": 0.07992256832284385,
            "count": 1
           },
           {
            "bin_start": 0.07992256832284385,
            "bin_end": 0.1219538681119151,
            "count": 0
           },
           {
            "bin_start": 0.1219538681119151,
            "bin_end": 0.16398516790098633,
            "count": 1
           },
           {
            "bin_start": 0.16398516790098633,
            "bin_end": 0.2060164676900576,
            "count": 1
           },
           {
            "bin_start": 0.2060164676900576,
            "bin_end": 0.24804776747912882,
            "count": 0
           },
           {
            "bin_start": 0.24804776747912882,
            "bin_end": 0.2900790672682001,
            "count": 0
           },
           {
            "bin_start": 0.2900790672682001,
            "bin_end": 0.3321103670572713,
            "count": 0
           },
           {
            "bin_start": 0.3321103670572713,
            "bin_end": 0.3741416668463426,
            "count": 1
           },
           {
            "bin_start": 0.3741416668463426,
            "bin_end": 0.41617296663541387,
            "count": 0
           },
           {
            "bin_start": 0.41617296663541387,
            "bin_end": 0.4582042664244851,
            "count": 1
           }
          ]
         }
        },
        {
         "name": "perc_vacant",
         "dtype": "float64",
         "stats": {
          "unique_count": 5,
          "nan_count": 0,
          "min": "0.0486028700541701",
          "max": "0.7929708951125755",
          "histogram": [
           {
            "bin_start": 0.0486028700541701,
            "bin_end": 0.12303967256001064,
            "count": 1
           },
           {
            "bin_start": 0.12303967256001064,
            "bin_end": 0.19747647506585117,
            "count": 1
           },
           {
            "bin_start": 0.19747647506585117,
            "bin_end": 0.2719132775716917,
            "count": 1
           },
           {
            "bin_start": 0.2719132775716917,
            "bin_end": 0.3463500800775322,
            "count": 1
           },
           {
            "bin_start": 0.3463500800775322,
            "bin_end": 0.4207868825833727,
            "count": 0
           },
           {
            "bin_start": 0.4207868825833727,
            "bin_end": 0.4952236850892133,
            "count": 0
           },
           {
            "bin_start": 0.4952236850892133,
            "bin_end": 0.5696604875950538,
            "count": 0
           },
           {
            "bin_start": 0.5696604875950538,
            "bin_end": 0.6440972901008943,
            "count": 0
           },
           {
            "bin_start": 0.6440972901008943,
            "bin_end": 0.7185340926067348,
            "count": 0
           },
           {
            "bin_start": 0.7185340926067348,
            "bin_end": 0.7929708951125755,
            "count": 1
           }
          ]
         }
        },
        {
         "name": "chemical",
         "dtype": "float64",
         "stats": {
          "unique_count": 1,
          "nan_count": 0,
          "min": "0.0",
          "max": "0.0",
          "histogram": [
           {
            "bin_start": -0.5,
            "bin_end": -0.4,
            "count": 0
           },
           {
            "bin_start": -0.4,
            "bin_end": -0.3,
            "count": 0
           },
           {
            "bin_start": -0.3,
            "bin_end": -0.19999999999999996,
            "count": 0
           },
           {
            "bin_start": -0.19999999999999996,
            "bin_end": -0.09999999999999998,
            "count": 0
           },
           {
            "bin_start": -0.09999999999999998,
            "bin_end": 0,
            "count": 0
           },
           {
            "bin_start": 0,
            "bin_end": 0.10000000000000009,
            "count": 5
           },
           {
            "bin_start": 0.10000000000000009,
            "bin_end": 0.20000000000000007,
            "count": 0
           },
           {
            "bin_start": 0.20000000000000007,
            "bin_end": 0.30000000000000004,
            "count": 0
           },
           {
            "bin_start": 0.30000000000000004,
            "bin_end": 0.4,
            "count": 0
           },
           {
            "bin_start": 0.4,
            "bin_end": 0.5,
            "count": 0
           }
          ]
         }
        },
        {
         "name": "coastal_storm",
         "dtype": "float64",
         "stats": {
          "unique_count": 1,
          "nan_count": 0,
          "min": "0.0",
          "max": "0.0",
          "histogram": [
           {
            "bin_start": -0.5,
            "bin_end": -0.4,
            "count": 0
           },
           {
            "bin_start": -0.4,
            "bin_end": -0.3,
            "count": 0
           },
           {
            "bin_start": -0.3,
            "bin_end": -0.19999999999999996,
            "count": 0
           },
           {
            "bin_start": -0.19999999999999996,
            "bin_end": -0.09999999999999998,
            "count": 0
           },
           {
            "bin_start": -0.09999999999999998,
            "bin_end": 0,
            "count": 0
           },
           {
            "bin_start": 0,
            "bin_end": 0.10000000000000009,
            "count": 5
           },
           {
            "bin_start": 0.10000000000000009,
            "bin_end": 0.20000000000000007,
            "count": 0
           },
           {
            "bin_start": 0.20000000000000007,
            "bin_end": 0.30000000000000004,
            "count": 0
           },
           {
            "bin_start": 0.30000000000000004,
            "bin_end": 0.4,
            "count": 0
           },
           {
            "bin_start": 0.4,
            "bin_end": 0.5,
            "count": 0
           }
          ]
         }
        },
        {
         "name": "dam_levee_break",
         "dtype": "float64",
         "stats": {
          "unique_count": 1,
          "nan_count": 0,
          "min": "0.0",
          "max": "0.0",
          "histogram": [
           {
            "bin_start": -0.5,
            "bin_end": -0.4,
            "count": 0
           },
           {
            "bin_start": -0.4,
            "bin_end": -0.3,
            "count": 0
           },
           {
            "bin_start": -0.3,
            "bin_end": -0.19999999999999996,
            "count": 0
           },
           {
            "bin_start": -0.19999999999999996,
            "bin_end": -0.09999999999999998,
            "count": 0
           },
           {
            "bin_start": -0.09999999999999998,
            "bin_end": 0,
            "count": 0
           },
           {
            "bin_start": 0,
            "bin_end": 0.10000000000000009,
            "count": 5
           },
           {
            "bin_start": 0.10000000000000009,
            "bin_end": 0.20000000000000007,
            "count": 0
           },
           {
            "bin_start": 0.20000000000000007,
            "bin_end": 0.30000000000000004,
            "count": 0
           },
           {
            "bin_start": 0.30000000000000004,
            "bin_end": 0.4,
            "count": 0
           },
           {
            "bin_start": 0.4,
            "bin_end": 0.5,
            "count": 0
           }
          ]
         }
        },
        {
         "name": "earthquake",
         "dtype": "float64",
         "stats": {
          "unique_count": 1,
          "nan_count": 0,
          "min": "0.0",
          "max": "0.0",
          "histogram": [
           {
            "bin_start": -0.5,
            "bin_end": -0.4,
            "count": 0
           },
           {
            "bin_start": -0.4,
            "bin_end": -0.3,
            "count": 0
           },
           {
            "bin_start": -0.3,
            "bin_end": -0.19999999999999996,
            "count": 0
           },
           {
            "bin_start": -0.19999999999999996,
            "bin_end": -0.09999999999999998,
            "count": 0
           },
           {
            "bin_start": -0.09999999999999998,
            "bin_end": 0,
            "count": 0
           },
           {
            "bin_start": 0,
            "bin_end": 0.10000000000000009,
            "count": 5
           },
           {
            "bin_start": 0.10000000000000009,
            "bin_end": 0.20000000000000007,
            "count": 0
           },
           {
            "bin_start": 0.20000000000000007,
            "bin_end": 0.30000000000000004,
            "count": 0
           },
           {
            "bin_start": 0.30000000000000004,
            "bin_end": 0.4,
            "count": 0
           },
           {
            "bin_start": 0.4,
            "bin_end": 0.5,
            "count": 0
           }
          ]
         }
        },
        {
         "name": "fire",
         "dtype": "float64",
         "stats": {
          "unique_count": 1,
          "nan_count": 0,
          "min": "0.0",
          "max": "0.0",
          "histogram": [
           {
            "bin_start": -0.5,
            "bin_end": -0.4,
            "count": 0
           },
           {
            "bin_start": -0.4,
            "bin_end": -0.3,
            "count": 0
           },
           {
            "bin_start": -0.3,
            "bin_end": -0.19999999999999996,
            "count": 0
           },
           {
            "bin_start": -0.19999999999999996,
            "bin_end": -0.09999999999999998,
            "count": 0
           },
           {
            "bin_start": -0.09999999999999998,
            "bin_end": 0,
            "count": 0
           },
           {
            "bin_start": 0,
            "bin_end": 0.10000000000000009,
            "count": 5
           },
           {
            "bin_start": 0.10000000000000009,
            "bin_end": 0.20000000000000007,
            "count": 0
           },
           {
            "bin_start": 0.20000000000000007,
            "bin_end": 0.30000000000000004,
            "count": 0
           },
           {
            "bin_start": 0.30000000000000004,
            "bin_end": 0.4,
            "count": 0
           },
           {
            "bin_start": 0.4,
            "bin_end": 0.5,
            "count": 0
           }
          ]
         }
        },
        {
         "name": "flood",
         "dtype": "float64",
         "stats": {
          "unique_count": 1,
          "nan_count": 0,
          "min": "0.0",
          "max": "0.0",
          "histogram": [
           {
            "bin_start": -0.5,
            "bin_end": -0.4,
            "count": 0
           },
           {
            "bin_start": -0.4,
            "bin_end": -0.3,
            "count": 0
           },
           {
            "bin_start": -0.3,
            "bin_end": -0.19999999999999996,
            "count": 0
           },
           {
            "bin_start": -0.19999999999999996,
            "bin_end": -0.09999999999999998,
            "count": 0
           },
           {
            "bin_start": -0.09999999999999998,
            "bin_end": 0,
            "count": 0
           },
           {
            "bin_start": 0,
            "bin_end": 0.10000000000000009,
            "count": 5
           },
           {
            "bin_start": 0.10000000000000009,
            "bin_end": 0.20000000000000007,
            "count": 0
           },
           {
            "bin_start": 0.20000000000000007,
            "bin_end": 0.30000000000000004,
            "count": 0
           },
           {
            "bin_start": 0.30000000000000004,
            "bin_end": 0.4,
            "count": 0
           },
           {
            "bin_start": 0.4,
            "bin_end": 0.5,
            "count": 0
           }
          ]
         }
        },
        {
         "name": "hurricane",
         "dtype": "float64",
         "stats": {
          "unique_count": 1,
          "nan_count": 0,
          "min": "0.0",
          "max": "0.0",
          "histogram": [
           {
            "bin_start": -0.5,
            "bin_end": -0.4,
            "count": 0
           },
           {
            "bin_start": -0.4,
            "bin_end": -0.3,
            "count": 0
           },
           {
            "bin_start": -0.3,
            "bin_end": -0.19999999999999996,
            "count": 0
           },
           {
            "bin_start": -0.19999999999999996,
            "bin_end": -0.09999999999999998,
            "count": 0
           },
           {
            "bin_start": -0.09999999999999998,
            "bin_end": 0,
            "count": 0
           },
           {
            "bin_start": 0,
            "bin_end": 0.10000000000000009,
            "count": 5
           },
           {
            "bin_start": 0.10000000000000009,
            "bin_end": 0.20000000000000007,
            "count": 0
           },
           {
            "bin_start": 0.20000000000000007,
            "bin_end": 0.30000000000000004,
            "count": 0
           },
           {
            "bin_start": 0.30000000000000004,
            "bin_end": 0.4,
            "count": 0
           },
           {
            "bin_start": 0.4,
            "bin_end": 0.5,
            "count": 0
           }
          ]
         }
        },
        {
         "name": "mud_landslide",
         "dtype": "float64",
         "stats": {
          "unique_count": 1,
          "nan_count": 0,
          "min": "0.0",
          "max": "0.0",
          "histogram": [
           {
            "bin_start": -0.5,
            "bin_end": -0.4,
            "count": 0
           },
           {
            "bin_start": -0.4,
            "bin_end": -0.3,
            "count": 0
           },
           {
            "bin_start": -0.3,
            "bin_end": -0.19999999999999996,
            "count": 0
           },
           {
            "bin_start": -0.19999999999999996,
            "bin_end": -0.09999999999999998,
            "count": 0
           },
           {
            "bin_start": -0.09999999999999998,
            "bin_end": 0,
            "count": 0
           },
           {
            "bin_start": 0,
            "bin_end": 0.10000000000000009,
            "count": 5
           },
           {
            "bin_start": 0.10000000000000009,
            "bin_end": 0.20000000000000007,
            "count": 0
           },
           {
            "bin_start": 0.20000000000000007,
            "bin_end": 0.30000000000000004,
            "count": 0
           },
           {
            "bin_start": 0.30000000000000004,
            "bin_end": 0.4,
            "count": 0
           },
           {
            "bin_start": 0.4,
            "bin_end": 0.5,
            "count": 0
           }
          ]
         }
        },
        {
         "name": "severe_ice_storm",
         "dtype": "float64",
         "stats": {
          "unique_count": 1,
          "nan_count": 0,
          "min": "0.0",
          "max": "0.0",
          "histogram": [
           {
            "bin_start": -0.5,
            "bin_end": -0.4,
            "count": 0
           },
           {
            "bin_start": -0.4,
            "bin_end": -0.3,
            "count": 0
           },
           {
            "bin_start": -0.3,
            "bin_end": -0.19999999999999996,
            "count": 0
           },
           {
            "bin_start": -0.19999999999999996,
            "bin_end": -0.09999999999999998,
            "count": 0
           },
           {
            "bin_start": -0.09999999999999998,
            "bin_end": 0,
            "count": 0
           },
           {
            "bin_start": 0,
            "bin_end": 0.10000000000000009,
            "count": 5
           },
           {
            "bin_start": 0.10000000000000009,
            "bin_end": 0.20000000000000007,
            "count": 0
           },
           {
            "bin_start": 0.20000000000000007,
            "bin_end": 0.30000000000000004,
            "count": 0
           },
           {
            "bin_start": 0.30000000000000004,
            "bin_end": 0.4,
            "count": 0
           },
           {
            "bin_start": 0.4,
            "bin_end": 0.5,
            "count": 0
           }
          ]
         }
        },
        {
         "name": "severe_storm",
         "dtype": "float64",
         "stats": {
          "unique_count": 1,
          "nan_count": 0,
          "min": "0.0",
          "max": "0.0",
          "histogram": [
           {
            "bin_start": -0.5,
            "bin_end": -0.4,
            "count": 0
           },
           {
            "bin_start": -0.4,
            "bin_end": -0.3,
            "count": 0
           },
           {
            "bin_start": -0.3,
            "bin_end": -0.19999999999999996,
            "count": 0
           },
           {
            "bin_start": -0.19999999999999996,
            "bin_end": -0.09999999999999998,
            "count": 0
           },
           {
            "bin_start": -0.09999999999999998,
            "bin_end": 0,
            "count": 0
           },
           {
            "bin_start": 0,
            "bin_end": 0.10000000000000009,
            "count": 5
           },
           {
            "bin_start": 0.10000000000000009,
            "bin_end": 0.20000000000000007,
            "count": 0
           },
           {
            "bin_start": 0.20000000000000007,
            "bin_end": 0.30000000000000004,
            "count": 0
           },
           {
            "bin_start": 0.30000000000000004,
            "bin_end": 0.4,
            "count": 0
           },
           {
            "bin_start": 0.4,
            "bin_end": 0.5,
            "count": 0
           }
          ]
         }
        },
        {
         "name": "snow",
         "dtype": "float64",
         "stats": {
          "unique_count": 1,
          "nan_count": 0,
          "min": "0.0",
          "max": "0.0",
          "histogram": [
           {
            "bin_start": -0.5,
            "bin_end": -0.4,
            "count": 0
           },
           {
            "bin_start": -0.4,
            "bin_end": -0.3,
            "count": 0
           },
           {
            "bin_start": -0.3,
            "bin_end": -0.19999999999999996,
            "count": 0
           },
           {
            "bin_start": -0.19999999999999996,
            "bin_end": -0.09999999999999998,
            "count": 0
           },
           {
            "bin_start": -0.09999999999999998,
            "bin_end": 0,
            "count": 0
           },
           {
            "bin_start": 0,
            "bin_end": 0.10000000000000009,
            "count": 5
           },
           {
            "bin_start": 0.10000000000000009,
            "bin_end": 0.20000000000000007,
            "count": 0
           },
           {
            "bin_start": 0.20000000000000007,
            "bin_end": 0.30000000000000004,
            "count": 0
           },
           {
            "bin_start": 0.30000000000000004,
            "bin_end": 0.4,
            "count": 0
           },
           {
            "bin_start": 0.4,
            "bin_end": 0.5,
            "count": 0
           }
          ]
         }
        },
        {
         "name": "tornado",
         "dtype": "float64",
         "stats": {
          "unique_count": 1,
          "nan_count": 0,
          "min": "0.0",
          "max": "0.0",
          "histogram": [
           {
            "bin_start": -0.5,
            "bin_end": -0.4,
            "count": 0
           },
           {
            "bin_start": -0.4,
            "bin_end": -0.3,
            "count": 0
           },
           {
            "bin_start": -0.3,
            "bin_end": -0.19999999999999996,
            "count": 0
           },
           {
            "bin_start": -0.19999999999999996,
            "bin_end": -0.09999999999999998,
            "count": 0
           },
           {
            "bin_start": -0.09999999999999998,
            "bin_end": 0,
            "count": 0
           },
           {
            "bin_start": 0,
            "bin_end": 0.10000000000000009,
            "count": 5
           },
           {
            "bin_start": 0.10000000000000009,
            "bin_end": 0.20000000000000007,
            "count": 0
           },
           {
            "bin_start": 0.20000000000000007,
            "bin_end": 0.30000000000000004,
            "count": 0
           },
           {
            "bin_start": 0.30000000000000004,
            "bin_end": 0.4,
            "count": 0
           },
           {
            "bin_start": 0.4,
            "bin_end": 0.5,
            "count": 0
           }
          ]
         }
        },
        {
         "name": "toxic_substances",
         "dtype": "float64",
         "stats": {
          "unique_count": 1,
          "nan_count": 0,
          "min": "0.0",
          "max": "0.0",
          "histogram": [
           {
            "bin_start": -0.5,
            "bin_end": -0.4,
            "count": 0
           },
           {
            "bin_start": -0.4,
            "bin_end": -0.3,
            "count": 0
           },
           {
            "bin_start": -0.3,
            "bin_end": -0.19999999999999996,
            "count": 0
           },
           {
            "bin_start": -0.19999999999999996,
            "bin_end": -0.09999999999999998,
            "count": 0
           },
           {
            "bin_start": -0.09999999999999998,
            "bin_end": 0,
            "count": 0
           },
           {
            "bin_start": 0,
            "bin_end": 0.10000000000000009,
            "count": 5
           },
           {
            "bin_start": 0.10000000000000009,
            "bin_end": 0.20000000000000007,
            "count": 0
           },
           {
            "bin_start": 0.20000000000000007,
            "bin_end": 0.30000000000000004,
            "count": 0
           },
           {
            "bin_start": 0.30000000000000004,
            "bin_end": 0.4,
            "count": 0
           },
           {
            "bin_start": 0.4,
            "bin_end": 0.5,
            "count": 0
           }
          ]
         }
        },
        {
         "name": "typhoon",
         "dtype": "float64",
         "stats": {
          "unique_count": 1,
          "nan_count": 0,
          "min": "0.0",
          "max": "0.0",
          "histogram": [
           {
            "bin_start": -0.5,
            "bin_end": -0.4,
            "count": 0
           },
           {
            "bin_start": -0.4,
            "bin_end": -0.3,
            "count": 0
           },
           {
            "bin_start": -0.3,
            "bin_end": -0.19999999999999996,
            "count": 0
           },
           {
            "bin_start": -0.19999999999999996,
            "bin_end": -0.09999999999999998,
            "count": 0
           },
           {
            "bin_start": -0.09999999999999998,
            "bin_end": 0,
            "count": 0
           },
           {
            "bin_start": 0,
            "bin_end": 0.10000000000000009,
            "count": 5
           },
           {
            "bin_start": 0.10000000000000009,
            "bin_end": 0.20000000000000007,
            "count": 0
           },
           {
            "bin_start": 0.20000000000000007,
            "bin_end": 0.30000000000000004,
            "count": 0
           },
           {
            "bin_start": 0.30000000000000004,
            "bin_end": 0.4,
            "count": 0
           },
           {
            "bin_start": 0.4,
            "bin_end": 0.5,
            "count": 0
           }
          ]
         }
        },
        {
         "name": "volcano",
         "dtype": "float64",
         "stats": {
          "unique_count": 1,
          "nan_count": 0,
          "min": "0.0",
          "max": "0.0",
          "histogram": [
           {
            "bin_start": -0.5,
            "bin_end": -0.4,
            "count": 0
           },
           {
            "bin_start": -0.4,
            "bin_end": -0.3,
            "count": 0
           },
           {
            "bin_start": -0.3,
            "bin_end": -0.19999999999999996,
            "count": 0
           },
           {
            "bin_start": -0.19999999999999996,
            "bin_end": -0.09999999999999998,
            "count": 0
           },
           {
            "bin_start": -0.09999999999999998,
            "bin_end": 0,
            "count": 0
           },
           {
            "bin_start": 0,
            "bin_end": 0.10000000000000009,
            "count": 5
           },
           {
            "bin_start": 0.10000000000000009,
            "bin_end": 0.20000000000000007,
            "count": 0
           },
           {
            "bin_start": 0.20000000000000007,
            "bin_end": 0.30000000000000004,
            "count": 0
           },
           {
            "bin_start": 0.30000000000000004,
            "bin_end": 0.4,
            "count": 0
           },
           {
            "bin_start": 0.4,
            "bin_end": 0.5,
            "count": 0
           }
          ]
         }
        },
        {
         "name": "individual_inflow",
         "dtype": "int64",
         "stats": {
          "unique_count": 5,
          "nan_count": 0,
          "min": "0",
          "max": "72360",
          "histogram": [
           {
            "bin_start": 0,
            "bin_end": 7236,
            "count": 4
           },
           {
            "bin_start": 7236,
            "bin_end": 14472,
            "count": 0
           },
           {
            "bin_start": 14472,
            "bin_end": 21708,
            "count": 0
           },
           {
            "bin_start": 21708,
            "bin_end": 28944,
            "count": 0
           },
           {
            "bin_start": 28944,
            "bin_end": 36180,
            "count": 0
           },
           {
            "bin_start": 36180,
            "bin_end": 43416,
            "count": 0
           },
           {
            "bin_start": 43416,
            "bin_end": 50652,
            "count": 0
           },
           {
            "bin_start": 50652,
            "bin_end": 57888,
            "count": 0
           },
           {
            "bin_start": 57888,
            "bin_end": 65124,
            "count": 0
           },
           {
            "bin_start": 65124,
            "bin_end": 72360,
            "count": 1
           }
          ]
         }
        },
        {
         "name": "individual_outflow",
         "dtype": "int64",
         "stats": {
          "unique_count": 5,
          "nan_count": 0,
          "min": "0",
          "max": "71551",
          "histogram": [
           {
            "bin_start": 0,
            "bin_end": 7155.1,
            "count": 4
           },
           {
            "bin_start": 7155.1,
            "bin_end": 14310.2,
            "count": 0
           },
           {
            "bin_start": 14310.2,
            "bin_end": 21465.300000000003,
            "count": 0
           },
           {
            "bin_start": 21465.300000000003,
            "bin_end": 28620.4,
            "count": 0
           },
           {
            "bin_start": 28620.4,
            "bin_end": 35775.5,
            "count": 0
           },
           {
            "bin_start": 35775.5,
            "bin_end": 42930.600000000006,
            "count": 0
           },
           {
            "bin_start": 42930.600000000006,
            "bin_end": 50085.700000000004,
            "count": 0
           },
           {
            "bin_start": 50085.700000000004,
            "bin_end": 57240.8,
            "count": 0
           },
           {
            "bin_start": 57240.8,
            "bin_end": 64395.9,
            "count": 0
           },
           {
            "bin_start": 64395.9,
            "bin_end": 71551,
            "count": 1
           }
          ]
         }
        },
        {
         "name": "area_land",
         "dtype": "float64",
         "stats": {
          "unique_count": 5,
          "nan_count": 0,
          "min": "1539933577.0",
          "max": "4238438186.0",
          "histogram": [
           {
            "bin_start": 1539933577,
            "bin_end": 1809784037.9,
            "count": 1
           },
           {
            "bin_start": 1809784037.9,
            "bin_end": 2079634498.8,
            "count": 2
           },
           {
            "bin_start": 2079634498.8,
            "bin_end": 2349484959.7,
            "count": 0
           },
           {
            "bin_start": 2349484959.7,
            "bin_end": 2619335420.6,
            "count": 0
           },
           {
            "bin_start": 2619335420.6,
            "bin_end": 2889185881.5,
            "count": 1
           },
           {
            "bin_start": 2889185881.5,
            "bin_end": 3159036342.3999996,
            "count": 0
           },
           {
            "bin_start": 3159036342.3999996,
            "bin_end": 3428886803.2999997,
            "count": 0
           },
           {
            "bin_start": 3428886803.2999997,
            "bin_end": 3698737264.2,
            "count": 0
           },
           {
            "bin_start": 3698737264.2,
            "bin_end": 3968587725.1,
            "count": 0
           },
           {
            "bin_start": 3968587725.1,
            "bin_end": 4238438186,
            "count": 1
           }
          ]
         }
        },
        {
         "name": "area_water",
         "dtype": "float64",
         "stats": {
          "unique_count": 5,
          "nan_count": 0,
          "min": "12557304.0",
          "max": "216923745.0",
          "histogram": [
           {
            "bin_start": 12557304,
            "bin_end": 32993948.1,
            "count": 2
           },
           {
            "bin_start": 32993948.1,
            "bin_end": 53430592.2,
            "count": 1
           },
           {
            "bin_start": 53430592.2,
            "bin_end": 73867236.30000001,
            "count": 0
           },
           {
            "bin_start": 73867236.30000001,
            "bin_end": 94303880.4,
            "count": 0
           },
           {
            "bin_start": 94303880.4,
            "bin_end": 114740524.5,
            "count": 1
           },
           {
            "bin_start": 114740524.5,
            "bin_end": 135177168.60000002,
            "count": 0
           },
           {
            "bin_start": 135177168.60000002,
            "bin_end": 155613812.70000002,
            "count": 0
           },
           {
            "bin_start": 155613812.70000002,
            "bin_end": 176050456.8,
            "count": 0
           },
           {
            "bin_start": 176050456.8,
            "bin_end": 196487100.9,
            "count": 0
           },
           {
            "bin_start": 196487100.9,
            "bin_end": 216923745,
            "count": 1
           }
          ]
         }
        },
        {
         "name": "longitude",
         "dtype": "float64",
         "stats": {
          "unique_count": 5,
          "nan_count": 0,
          "min": "-121.89290095356836",
          "max": "-119.82234839539016",
          "histogram": [
           {
            "bin_start": -121.89290095356836,
            "bin_end": -121.68584569775054,
            "count": 1
           },
           {
            "bin_start": -121.68584569775054,
            "bin_end": -121.47879044193272,
            "count": 1
           },
           {
            "bin_start": -121.47879044193272,
            "bin_end": -121.2717351861149,
            "count": 0
           },
           {
            "bin_start": -121.2717351861149,
            "bin_end": -121.06467993029707,
            "count": 0
           },
           {
            "bin_start": -121.06467993029707,
            "bin_end": -120.85762467447927,
            "count": 0
           },
           {
            "bin_start": -120.85762467447927,
            "bin_end": -120.65056941866145,
            "count": 1
           },
           {
            "bin_start": -120.65056941866145,
            "bin_end": -120.44351416284363,
            "count": 1
           },
           {
            "bin_start": -120.44351416284363,
            "bin_end": -120.2364589070258,
            "count": 0
           },
           {
            "bin_start": -120.2364589070258,
            "bin_end": -120.02940365120799,
            "count": 0
           },
           {
            "bin_start": -120.02940365120799,
            "bin_end": -119.82234839539016,
            "count": 1
           }
          ]
         }
        },
        {
         "name": "latitude",
         "dtype": "float64",
         "stats": {
          "unique_count": 5,
          "nan_count": 0,
          "min": "37.64626936452535",
          "max": "39.66727700661919",
          "histogram": [
           {
            "bin_start": 37.64626936452535,
            "bin_end": 37.848370128734736,
            "count": 1
           },
           {
            "bin_start": 37.848370128734736,
            "bin_end": 38.05047089294412,
            "count": 0
           },
           {
            "bin_start": 38.05047089294412,
            "bin_end": 38.2525716571535,
            "count": 1
           },
           {
            "bin_start": 38.2525716571535,
            "bin_end": 38.454672421362886,
            "count": 1
           },
           {
            "bin_start": 38.454672421362886,
            "bin_end": 38.65677318557227,
            "count": 1
           },
           {
            "bin_start": 38.65677318557227,
            "bin_end": 38.85887394978165,
            "count": 0
           },
           {
            "bin_start": 38.85887394978165,
            "bin_end": 39.06097471399104,
            "count": 0
           },
           {
            "bin_start": 39.06097471399104,
            "bin_end": 39.26307547820042,
            "count": 0
           },
           {
            "bin_start": 39.26307547820042,
            "bin_end": 39.465176242409804,
            "count": 0
           },
           {
            "bin_start": 39.465176242409804,
            "bin_end": 39.66727700661919,
            "count": 1
           }
          ]
         }
        },
        {
         "name": "_deepnote_index_column",
         "dtype": "int64"
        }
       ],
       "rows": [
        {
         "county_name": "alameda",
         "year": 2014,
         "registered_pct": 78.52318241100161,
         "democrat_pct": 55.470516910746696,
         "republican_pct": 13.380564588352218,
         "american_independent_pct": 2.041992164705796,
         "green_pct": 1.2373327567631316,
         "liberterian_pct": 0.5171932988455902,
         "peace_and_freedom_pct": 0.3606839727816277,
         "no_party_pct": 21.249642202973185,
         "other_party_pct": 5.742074104831764,
         "Location ID": "CA-001",
         "avg_temp": 61.95000000000001,
         "min_temp": 42,
         "max_temp": 85,
         "total_precip_amt": 19.88,
         "avg_daily_attendance_expense": 9359.865129618556,
         "state": 6,
         "county": 1,
         "state_name": "california",
         "bea_number_of_people": 1607638,
         "per_capita_personal_income": 57951,
         "per_capita_retirement_and_other": 6714,
         "per_capita_unemploy_ins_comp": 145,
         "per_capita_curr_dollar_real_gdp": 67.98561616483313,
         "per_capita_num_jobs": 0.6033590895462785,
         "per_capita_farm_proprieter_jobs": 0.0002158446117844,
         "per_capita_nonfarm_proprieter_jobs": 0.1356319022068401,
         "coastal_flag": 1,
         "per_capita_num_violent_crimes": 0.0064417487021331,
         "per_capita_num_homicide": 0.00006344711931417396,
         "per_capita_num_rape": 0.0002631189359793,
         "per_capita_num_robbery": 0.0031344121002364,
         "per_capita_num_agg_assault": 0.0029807705466031,
         "per_capita_num_property_crimes": 0.0358414021066931,
         "per_capita_num_burglary": 0.0061164267080026,
         "per_capita_num_vehicle_theft": 0.0078854816818214,
         "per_capita_num_larceny_theft": 0.021839493716869,
         "per_capita_num_arson": 0.0002027819695727,
         "name": "Alameda County, California",
         "total_population": 1610921,
         "median_income": 77214,
         "median_rent": 1391,
         "median_home_value": 587600,
         "educational_attainment": 0.4278239598739171,
         "av_commute_time": 31.117069004815363,
         "perc_poverty": 0.1225528750323572,
         "perc_white": 0.3264207245420477,
         "perc_black": 0.1113971448630938,
         "perc_american_indian": 0.0067005147986772,
         "perc_asian": 0.279012440709383,
         "perc_hawaiian": 0.0080277058899846,
         "perc_other_race": 0.0030976068969241,
         "perc_hispanic": 0.2267466871435657,
         "perc_65_over": 0.1247267867263509,
         "perc_enrolled_undergrad": 0.0661460121259825,
         "perc_unemployed": 0.0434068461457762,
         "housing_per_capita": 0.367735599697316,
         "perc_owner": 0.4931928635213448,
         "perc_renter": 0.4582042664244851,
         "perc_vacant": 0.0486028700541701,
         "chemical": 0,
         "coastal_storm": 0,
         "dam_levee_break": 0,
         "earthquake": 0,
         "fire": 0,
         "flood": 0,
         "hurricane": 0,
         "mud_landslide": 0,
         "severe_ice_storm": 0,
         "severe_storm": 0,
         "snow": 0,
         "tornado": 0,
         "toxic_substances": 0,
         "typhoon": 0,
         "volcano": 0,
         "individual_inflow": 72360,
         "individual_outflow": 71551,
         "area_land": 1909598013,
         "area_water": 216923745,
         "longitude": -121.89290095356836,
         "latitude": 37.64626936452535,
         "_deepnote_index_column": 0
        },
        {
         "county_name": "alpine",
         "year": 2014,
         "registered_pct": 87.01594533029613,
         "democrat_pct": 36.64921465968586,
         "republican_pct": 29.84293193717277,
         "american_independent_pct": 3.926701570680628,
         "green_pct": 1.7015706806282722,
         "liberterian_pct": 0.7853403141361256,
         "peace_and_freedom_pct": 0.1308900523560209,
         "no_party_pct": 26.04712041884817,
         "other_party_pct": 0.9162303664921464,
         "Location ID": "CA-003",
         "avg_temp": 46.79999999999999,
         "min_temp": 25.5,
         "max_temp": 77.3,
         "total_precip_amt": 29.38,
         "avg_daily_attendance_expense": 32705.25932094812,
         "state": 6,
         "county": 3,
         "state_name": "california",
         "bea_number_of_people": 1083,
         "per_capita_personal_income": 64425,
         "per_capita_retirement_and_other": 11478,
         "per_capita_unemploy_ins_comp": 190,
         "per_capita_curr_dollar_real_gdp": 102.50046168051708,
         "per_capita_num_jobs": 1.2031394275161589,
         "per_capita_farm_proprieter_jobs": 0,
         "per_capita_nonfarm_proprieter_jobs": 0.1662049861495844,
         "coastal_flag": 0,
         "per_capita_num_violent_crimes": 0.0036934441366574,
         "per_capita_num_homicide": 0,
         "per_capita_num_rape": 0.0009233610341643,
         "per_capita_num_robbery": 0,
         "per_capita_num_agg_assault": 0.002770083102493,
         "per_capita_num_property_crimes": 0.0221606648199446,
         "per_capita_num_burglary": 0.0092336103416435,
         "per_capita_num_vehicle_theft": 0,
         "per_capita_num_larceny_theft": 0.012927054478301,
         "per_capita_num_arson": 0,
         "name": "Alpine County, California",
         "total_population": 1202,
         "median_income": 61343,
         "median_rent": 775,
         "median_home_value": 313800,
         "educational_attainment": 0.3052256532066508,
         "av_commute_time": 25.925449871465297,
         "perc_poverty": 0.14891846921797,
         "perc_white": 0.6905158069883528,
         "perc_black": 0.0091514143094841,
         "perc_american_indian": 0.173044925124792,
         "perc_asian": 0.0099833610648918,
         "perc_hawaiian": 0.0116472545757071,
         "perc_other_race": 0,
         "perc_hispanic": 0.0715474209650582,
         "perc_65_over": 0.1871880199667221,
         "perc_enrolled_undergrad": 0.0757071547420965,
         "perc_unemployed": 0.1347753743760399,
         "housing_per_capita": 1.5149750415973378,
         "perc_owner": 0.1691378363536518,
         "perc_renter": 0.0378912685337726,
         "perc_vacant": 0.7929708951125755,
         "chemical": 0,
         "coastal_storm": 0,
         "dam_levee_break": 0,
         "earthquake": 0,
         "fire": 0,
         "flood": 0,
         "hurricane": 0,
         "mud_landslide": 0,
         "severe_ice_storm": 0,
         "severe_storm": 0,
         "snow": 0,
         "tornado": 0,
         "toxic_substances": 0,
         "typhoon": 0,
         "volcano": 0,
         "individual_inflow": 0,
         "individual_outflow": 0,
         "area_land": 1912292630,
         "area_water": 12557304,
         "longitude": -119.82234839539016,
         "latitude": 38.59677149744587,
         "_deepnote_index_column": 1
        },
        {
         "county_name": "amador",
         "year": 2014,
         "registered_pct": 78.20855112247584,
         "democrat_pct": 31.09433599384556,
         "republican_pct": 44.16290027887297,
         "american_independent_pct": 4.370612558899895,
         "green_pct": 0.5721704010000962,
         "liberterian_pct": 1.0770266371766517,
         "peace_and_freedom_pct": 0.2355995768823925,
         "no_party_pct": 18.20367343013752,
         "other_party_pct": 0.2836811231849216,
         "Location ID": "CA-005",
         "avg_temp": 60.95,
         "min_temp": 38.2,
         "max_temp": 93.2,
         "total_precip_amt": 31.29,
         "avg_daily_attendance_expense": 6909.1111348365785,
         "state": 6,
         "county": 5,
         "state_name": "california",
         "bea_number_of_people": 36734,
         "per_capita_personal_income": 38617,
         "per_capita_retirement_and_other": 9378,
         "per_capita_unemploy_ins_comp": 142,
         "per_capita_curr_dollar_real_gdp": 42.97272281809767,
         "per_capita_num_jobs": 0.4702727718190232,
         "per_capita_farm_proprieter_jobs": 0.0102357488974791,
         "per_capita_nonfarm_proprieter_jobs": 0.1340719769151195,
         "coastal_flag": 0,
         "per_capita_num_violent_crimes": 0.0022050416507867,
         "per_capita_num_homicide": 0.00002722273642946589,
         "per_capita_num_rape": 0.0001361136821473,
         "per_capita_num_robbery": 0.0002722273642946,
         "per_capita_num_agg_assault": 0.0017694778679152,
         "per_capita_num_property_crimes": 0.017123101214134,
         "per_capita_num_burglary": 0.0053356563401753,
         "per_capita_num_vehicle_theft": 0.0010889094571786,
         "per_capita_num_larceny_theft": 0.01069853541678,
         "per_capita_num_arson": 0.0001088909457178,
         "name": "Amador County, California",
         "total_population": 37159,
         "median_income": 52964,
         "median_rent": 1029,
         "median_home_value": 251800,
         "educational_attainment": 0.2045383357115511,
         "av_commute_time": 29.838943834497776,
         "perc_poverty": 0.1150999757797572,
         "perc_white": 0.799160364918324,
         "perc_black": 0.0210177884227239,
         "perc_american_indian": 0.0200220673322748,
         "perc_asian": 0.0129712855566619,
         "perc_hawaiian": 0.002152910465836,
         "perc_other_race": 0.00005382276164590005,
         "perc_hispanic": 0.1271293630076159,
         "perc_65_over": 0.227751015904626,
         "perc_enrolled_undergrad": 0.0390484135741004,
         "perc_unemployed": 0.040340159853602,
         "housing_per_capita": 0.4886299416023036,
         "perc_owner": 0.5808228231536047,
         "perc_renter": 0.1868700776560004,
         "perc_vacant": 0.2323070991903948,
         "chemical": 0,
         "coastal_storm": 0,
         "dam_levee_break": 0,
         "earthquake": 0,
         "fire": 0,
         "flood": 0,
         "hurricane": 0,
         "mud_landslide": 0,
         "severe_ice_storm": 0,
         "severe_storm": 0,
         "snow": 0,
         "tornado": 0,
         "toxic_substances": 0,
         "typhoon": 0,
         "volcano": 0,
         "individual_inflow": 1605,
         "individual_outflow": 1344,
         "area_land": 1539933577,
         "area_water": 29470567,
         "longitude": -120.65362812731496,
         "latitude": 38.44479461125139,
         "_deepnote_index_column": 2
        },
        {
         "county_name": "butte",
         "year": 2014,
         "registered_pct": 70.024791122871,
         "democrat_pct": 33.0144762261389,
         "republican_pct": 36.155672621124566,
         "american_independent_pct": 3.5445903508846586,
         "green_pct": 1.2306068781222608,
         "liberterian_pct": 1.05954741581066,
         "peace_and_freedom_pct": 0.427223134728475,
         "no_party_pct": 23.10068679097555,
         "other_party_pct": 1.4671965822149222,
         "Location ID": "CA-007",
         "avg_temp": 62.43333333333334,
         "min_temp": 40.3,
         "max_temp": 94.5,
         "total_precip_amt": 43.72,
         "avg_daily_attendance_expense": 8972.45510155196,
         "state": 6,
         "county": 7,
         "state_name": "california",
         "bea_number_of_people": 223525,
         "per_capita_personal_income": 36796,
         "per_capita_retirement_and_other": 8917,
         "per_capita_unemploy_ins_comp": 164,
         "per_capita_curr_dollar_real_gdp": 37.09988591880103,
         "per_capita_num_jobs": 0.4806665921037915,
         "per_capita_farm_proprieter_jobs": 0.0074935689520187,
         "per_capita_nonfarm_proprieter_jobs": 0.1062744659434067,
         "coastal_flag": 0,
         "per_capita_num_violent_crimes": 0.0030332177608768,
         "per_capita_num_homicide": 0.00004921149759534728,
         "per_capita_num_rape": 0.0003400067106587,
         "per_capita_num_robbery": 0.0006665921037915,
         "per_capita_num_agg_assault": 0.0019774074488312,
         "per_capita_num_property_crimes": 0.029665585504977,
         "per_capita_num_burglary": 0.0074577787719494,
         "per_capita_num_vehicle_theft": 0.0034000671065876,
         "per_capita_num_larceny_theft": 0.0188077396264399,
         "per_capita_num_arson": 0.0003892182082541,
         "name": "Butte County, California",
         "total_population": 224241,
         "median_income": 42365,
         "median_rent": 887,
         "median_home_value": 225400,
         "educational_attainment": 0.2706217153777445,
         "av_commute_time": 21.21779409823475,
         "perc_poverty": 0.217431245847102,
         "perc_white": 0.7309323451108406,
         "perc_black": 0.0143773886131438,
         "perc_american_indian": 0.0201702632435638,
         "perc_asian": 0.0413171543116557,
         "perc_hawaiian": 0.0013601437738861,
         "perc_other_race": 0.0023412310861974,
         "perc_hispanic": 0.1545167922012477,
         "perc_65_over": 0.1697058075909401,
         "perc_enrolled_undergrad": 0.1120044951636855,
         "perc_unemployed": 0.0572999585267636,
         "housing_per_capita": 0.4347599234751896,
         "perc_owner": 0.5194633350770841,
         "perc_renter": 0.3561662102142762,
         "perc_vacant": 0.1243704547086397,
         "chemical": 0,
         "coastal_storm": 0,
         "dam_levee_break": 0,
         "earthquake": 0,
         "fire": 0,
         "flood": 0,
         "hurricane": 0,
         "mud_landslide": 0,
         "severe_ice_storm": 0,
         "severe_storm": 0,
         "snow": 0,
         "tornado": 0,
         "toxic_substances": 0,
         "typhoon": 0,
         "volcano": 0,
         "individual_inflow": 7147,
         "individual_outflow": 7017,
         "area_land": 4238438186,
         "area_water": 105311003,
         "longitude": -121.60051971743592,
         "latitude": 39.66727700661919,
         "_deepnote_index_column": 3
        },
        {
         "county_name": "calaveras",
         "year": 2014,
         "registered_pct": 76.305922814535,
         "democrat_pct": 30.220186197724253,
         "republican_pct": 41.909265553421015,
         "american_independent_pct": 4.706664696320378,
         "green_pct": 0.8866558297620807,
         "liberterian_pct": 1.363233338259199,
         "peace_and_freedom_pct": 0.3657455297768582,
         "no_party_pct": 19.66898182355549,
         "other_party_pct": 0.8792670311807299,
         "Location ID": "CA-009",
         "avg_temp": 61.13333333333333,
         "min_temp": 38.2,
         "max_temp": 93.6,
         "total_precip_amt": 29.56,
         "avg_daily_attendance_expense": 9088.735276770238,
         "state": 6,
         "county": 9,
         "state_name": "california",
         "bea_number_of_people": 44677,
         "per_capita_personal_income": 39996,
         "per_capita_retirement_and_other": 9881,
         "per_capita_unemploy_ins_comp": 161,
         "per_capita_curr_dollar_real_gdp": 28.69219061261947,
         "per_capita_num_jobs": 0.3498220560915012,
         "per_capita_farm_proprieter_jobs": 0.0123553506278398,
         "per_capita_nonfarm_proprieter_jobs": 0.1397139467735076,
         "coastal_flag": 0,
         "per_capita_num_violent_crimes": 0.0025292656176556,
         "per_capita_num_homicide": 0,
         "per_capita_num_rape": 0.000268594578866,
         "per_capita_num_robbery": 0.0002014459341495,
         "per_capita_num_agg_assault": 0.0020592251046399,
         "per_capita_num_property_crimes": 0.0221366698748796,
         "per_capita_num_burglary": 0.0066477158269355,
         "per_capita_num_vehicle_theft": 0.0020816079862121,
         "per_capita_num_larceny_theft": 0.0134073460617319,
         "per_capita_num_arson": 0.0000447657631443472,
         "name": "Calaveras County, California",
         "total_population": 44921,
         "median_income": 54936,
         "median_rent": 1072,
         "median_home_value": 242600,
         "educational_attainment": 0.2105701454361597,
         "av_commute_time": 34.39602993817117,
         "perc_poverty": 0.1191424946016339,
         "perc_white": 0.8288773624807996,
         "perc_black": 0.0062331648894726,
         "perc_american_indian": 0.0080363304467843,
         "perc_asian": 0.0114200485296409,
         "perc_hawaiian": 0.0029162307161461,
         "perc_other_race": 0,
         "perc_hispanic": 0.1091026468689477,
         "perc_65_over": 0.2329200151376861,
         "perc_enrolled_undergrad": 0.0290064780392244,
         "perc_unemployed": 0.0523808463747467,
         "housing_per_capita": 0.6234500567663231,
         "perc_owner": 0.5246018710276369,
         "perc_renter": 0.1398271798900235,
         "perc_vacant": 0.3355709490823395,
         "chemical": 0,
         "coastal_storm": 0,
         "dam_levee_break": 0,
         "earthquake": 0,
         "fire": 0,
         "flood": 0,
         "hurricane": 0,
         "mud_landslide": 0,
         "severe_ice_storm": 0,
         "severe_storm": 0,
         "snow": 0,
         "tornado": 0,
         "toxic_substances": 0,
         "typhoon": 0,
         "volcano": 0,
         "individual_inflow": 2292,
         "individual_outflow": 2109,
         "area_land": 2641829200,
         "area_water": 43797659,
         "longitude": -120.55291297184894,
         "latitude": 38.20537102873994,
         "_deepnote_index_column": 4
        }
       ]
      },
      "text/plain": "  county_name  year  registered_pct  democrat_pct  republican_pct  \\\n0     alameda  2014       78.523182     55.470517       13.380565   \n1      alpine  2014       87.015945     36.649215       29.842932   \n2      amador  2014       78.208551     31.094336       44.162900   \n3       butte  2014       70.024791     33.014476       36.155673   \n4   calaveras  2014       76.305923     30.220186       41.909266   \n\n   american_independent_pct  green_pct  liberterian_pct  \\\n0                  2.041992   1.237333         0.517193   \n1                  3.926702   1.701571         0.785340   \n2                  4.370613   0.572170         1.077027   \n3                  3.544590   1.230607         1.059547   \n4                  4.706665   0.886656         1.363233   \n\n   peace_and_freedom_pct  no_party_pct  ...  tornado toxic_substances  \\\n0               0.360684     21.249642  ...      0.0              0.0   \n1               0.130890     26.047120  ...      0.0              0.0   \n2               0.235600     18.203673  ...      0.0              0.0   \n3               0.427223     23.100687  ...      0.0              0.0   \n4               0.365746     19.668982  ...      0.0              0.0   \n\n   typhoon  volcano  individual_inflow  individual_outflow     area_land  \\\n0      0.0      0.0              72360               71551  1.909598e+09   \n1      0.0      0.0                  0                   0  1.912293e+09   \n2      0.0      0.0               1605                1344  1.539934e+09   \n3      0.0      0.0               7147                7017  4.238438e+09   \n4      0.0      0.0               2292                2109  2.641829e+09   \n\n    area_water   longitude   latitude  \n0  216923745.0 -121.892901  37.646269  \n1   12557304.0 -119.822348  38.596771  \n2   29470567.0 -120.653628  38.444795  \n3  105311003.0 -121.600520  39.667277  \n4   43797659.0 -120.552913  38.205371  \n\n[5 rows x 82 columns]",
      "text/html": "<div>\n<style scoped>\n    .dataframe tbody tr th:only-of-type {\n        vertical-align: middle;\n    }\n\n    .dataframe tbody tr th {\n        vertical-align: top;\n    }\n\n    .dataframe thead th {\n        text-align: right;\n    }\n</style>\n<table border=\"1\" class=\"dataframe\">\n  <thead>\n    <tr style=\"text-align: right;\">\n      <th></th>\n      <th>county_name</th>\n      <th>year</th>\n      <th>registered_pct</th>\n      <th>democrat_pct</th>\n      <th>republican_pct</th>\n      <th>american_independent_pct</th>\n      <th>green_pct</th>\n      <th>liberterian_pct</th>\n      <th>peace_and_freedom_pct</th>\n      <th>no_party_pct</th>\n      <th>...</th>\n      <th>tornado</th>\n      <th>toxic_substances</th>\n      <th>typhoon</th>\n      <th>volcano</th>\n      <th>individual_inflow</th>\n      <th>individual_outflow</th>\n      <th>area_land</th>\n      <th>area_water</th>\n      <th>longitude</th>\n      <th>latitude</th>\n    </tr>\n  </thead>\n  <tbody>\n    <tr>\n      <th>0</th>\n      <td>alameda</td>\n      <td>2014</td>\n      <td>78.523182</td>\n      <td>55.470517</td>\n      <td>13.380565</td>\n      <td>2.041992</td>\n      <td>1.237333</td>\n      <td>0.517193</td>\n      <td>0.360684</td>\n      <td>21.249642</td>\n      <td>...</td>\n      <td>0.0</td>\n      <td>0.0</td>\n      <td>0.0</td>\n      <td>0.0</td>\n      <td>72360</td>\n      <td>71551</td>\n      <td>1.909598e+09</td>\n      <td>216923745.0</td>\n      <td>-121.892901</td>\n      <td>37.646269</td>\n    </tr>\n    <tr>\n      <th>1</th>\n      <td>alpine</td>\n      <td>2014</td>\n      <td>87.015945</td>\n      <td>36.649215</td>\n      <td>29.842932</td>\n      <td>3.926702</td>\n      <td>1.701571</td>\n      <td>0.785340</td>\n      <td>0.130890</td>\n      <td>26.047120</td>\n      <td>...</td>\n      <td>0.0</td>\n      <td>0.0</td>\n      <td>0.0</td>\n      <td>0.0</td>\n      <td>0</td>\n      <td>0</td>\n      <td>1.912293e+09</td>\n      <td>12557304.0</td>\n      <td>-119.822348</td>\n      <td>38.596771</td>\n    </tr>\n    <tr>\n      <th>2</th>\n      <td>amador</td>\n      <td>2014</td>\n      <td>78.208551</td>\n      <td>31.094336</td>\n      <td>44.162900</td>\n      <td>4.370613</td>\n      <td>0.572170</td>\n      <td>1.077027</td>\n      <td>0.235600</td>\n      <td>18.203673</td>\n      <td>...</td>\n      <td>0.0</td>\n      <td>0.0</td>\n      <td>0.0</td>\n      <td>0.0</td>\n      <td>1605</td>\n      <td>1344</td>\n      <td>1.539934e+09</td>\n      <td>29470567.0</td>\n      <td>-120.653628</td>\n      <td>38.444795</td>\n    </tr>\n    <tr>\n      <th>3</th>\n      <td>butte</td>\n      <td>2014</td>\n      <td>70.024791</td>\n      <td>33.014476</td>\n      <td>36.155673</td>\n      <td>3.544590</td>\n      <td>1.230607</td>\n      <td>1.059547</td>\n      <td>0.427223</td>\n      <td>23.100687</td>\n      <td>...</td>\n      <td>0.0</td>\n      <td>0.0</td>\n      <td>0.0</td>\n      <td>0.0</td>\n      <td>7147</td>\n      <td>7017</td>\n      <td>4.238438e+09</td>\n      <td>105311003.0</td>\n      <td>-121.600520</td>\n      <td>39.667277</td>\n    </tr>\n    <tr>\n      <th>4</th>\n      <td>calaveras</td>\n      <td>2014</td>\n      <td>76.305923</td>\n      <td>30.220186</td>\n      <td>41.909266</td>\n      <td>4.706665</td>\n      <td>0.886656</td>\n      <td>1.363233</td>\n      <td>0.365746</td>\n      <td>19.668982</td>\n      <td>...</td>\n      <td>0.0</td>\n      <td>0.0</td>\n      <td>0.0</td>\n      <td>0.0</td>\n      <td>2292</td>\n      <td>2109</td>\n      <td>2.641829e+09</td>\n      <td>43797659.0</td>\n      <td>-120.552913</td>\n      <td>38.205371</td>\n    </tr>\n  </tbody>\n</table>\n<p>5 rows × 82 columns</p>\n</div>"
     },
     "metadata": {}
    }
   ],
   "execution_count": null
  },
  {
   "cell_type": "markdown",
   "source": "## Create Train and Test Sets\n    To start, we create training and test sets that can be imputed into each model. An important note is that we exchange each inflow and outflow value for its corresponding value in the next year. This allows our models to use the current public data to predict the population changes of the following year. This is important because it gives our models the ability to forecast into the future. The downside is that this decreases the number of years of data that our model can learn from by one. We then drop fields that were useful in data aggregation but not modeling. Then we split years 2014-2017 as our training set, 2018 as our test set, and 2019 for predictions without validation (as we don't have data on 2020 migration.) ",
   "metadata": {
    "tags": [],
    "cell_id": "00002-e9bf830a-dd4b-4602-8205-2fd4db71e124",
    "deepnote_cell_type": "markdown"
   }
  },
  {
   "cell_type": "code",
   "metadata": {
    "tags": [],
    "cell_id": "00004-eaf88728-fa75-4c38-8d89-e3fb839c04e3",
    "deepnote_to_be_reexecuted": false,
    "source_hash": "5c47dd09",
    "execution_start": 1643407462931,
    "execution_millis": 7,
    "deepnote_output_heights": [
     194
    ],
    "deepnote_cell_type": "code"
   },
   "source": "year_offset = ca_df[ca_df['year']>=2015]\n\noffset_in = {}\noffset_out = {}\n\n# Creating a dictionary for exhisting years\nfor yr_in_out in zip(year_offset['year'], year_offset['county'], year_offset['individual_inflow'], year_offset['individual_outflow']):\n    yr_cty_indexer = str(yr_in_out[0] - 1) + str(yr_in_out[1])\n    inflow = yr_in_out[2]\n    outflow = yr_in_out[3]\n    offset_in[yr_cty_indexer] = inflow\n    offset_out[yr_cty_indexer] = outflow\n\n# Adding in np.nan for 2019 because we don't have inflow/outflow data for 2020\nno_information = ca_df[ca_df['year']==2019]\nfor yr_cty in zip(no_information['year'], year_offset['county']):\n    yr_cty_indexer = str(yr_cty[0]) + str(yr_cty[1])\n    offset_in[yr_cty_indexer] = np.nan\n    offset_out[yr_cty_indexer] = np.nan\n\n",
   "outputs": [],
   "execution_count": null
  },
  {
   "cell_type": "code",
   "metadata": {
    "tags": [],
    "cell_id": "00005-7e02c647-e419-479b-8e96-60b60efb5aab",
    "deepnote_to_be_reexecuted": false,
    "source_hash": "6307ae68",
    "execution_start": 1643407471548,
    "execution_millis": 54,
    "deepnote_output_heights": [
     333
    ],
    "deepnote_cell_type": "code"
   },
   "source": "# Adding new fields to ca_df_offset\nca_df_offset = ca_df.copy()\nca_df_offset['yr_cty_indexer'] = [str(yr_cty[0])+str(yr_cty[1]) for yr_cty in zip(ca_df_offset['year'], ca_df_offset['county'])]\nca_df_offset['new_inflow'] = [offset_in[indexer] for indexer in ca_df_offset['yr_cty_indexer']]\nca_df_offset['new_outflow'] = [offset_out[indexer] for indexer in ca_df_offset['yr_cty_indexer']]\n\n# Sanity check\nca_df_offset[['year', 'county', 'individual_outflow', 'individual_inflow', 'new_outflow', 'new_inflow']][ca_df_offset['county']==1].sort_values(by='year')",
   "outputs": [
    {
     "output_type": "execute_result",
     "execution_count": 11,
     "data": {
      "application/vnd.deepnote.dataframe.v3+json": {
       "column_count": 6,
       "row_count": 6,
       "columns": [
        {
         "name": "year",
         "dtype": "int64",
         "stats": {
          "unique_count": 6,
          "nan_count": 0,
          "min": "2014",
          "max": "2019",
          "histogram": [
           {
            "bin_start": 2014,
            "bin_end": 2014.5,
            "count": 1
           },
           {
            "bin_start": 2014.5,
            "bin_end": 2015,
            "count": 0
           },
           {
            "bin_start": 2015,
            "bin_end": 2015.5,
            "count": 1
           },
           {
            "bin_start": 2015.5,
            "bin_end": 2016,
            "count": 0
           },
           {
            "bin_start": 2016,
            "bin_end": 2016.5,
            "count": 1
           },
           {
            "bin_start": 2016.5,
            "bin_end": 2017,
            "count": 0
           },
           {
            "bin_start": 2017,
            "bin_end": 2017.5,
            "count": 1
           },
           {
            "bin_start": 2017.5,
            "bin_end": 2018,
            "count": 0
           },
           {
            "bin_start": 2018,
            "bin_end": 2018.5,
            "count": 1
           },
           {
            "bin_start": 2018.5,
            "bin_end": 2019,
            "count": 1
           }
          ]
         }
        },
        {
         "name": "county",
         "dtype": "int64",
         "stats": {
          "unique_count": 1,
          "nan_count": 0,
          "min": "1",
          "max": "1",
          "histogram": [
           {
            "bin_start": 0.5,
            "bin_end": 0.6,
            "count": 0
           },
           {
            "bin_start": 0.6,
            "bin_end": 0.7,
            "count": 0
           },
           {
            "bin_start": 0.7,
            "bin_end": 0.8,
            "count": 0
           },
           {
            "bin_start": 0.8,
            "bin_end": 0.9,
            "count": 0
           },
           {
            "bin_start": 0.9,
            "bin_end": 1,
            "count": 0
           },
           {
            "bin_start": 1,
            "bin_end": 1.1,
            "count": 6
           },
           {
            "bin_start": 1.1,
            "bin_end": 1.2000000000000002,
            "count": 0
           },
           {
            "bin_start": 1.2000000000000002,
            "bin_end": 1.3,
            "count": 0
           },
           {
            "bin_start": 1.3,
            "bin_end": 1.4,
            "count": 0
           },
           {
            "bin_start": 1.4,
            "bin_end": 1.5,
            "count": 0
           }
          ]
         }
        },
        {
         "name": "individual_outflow",
         "dtype": "int64",
         "stats": {
          "unique_count": 6,
          "nan_count": 0,
          "min": "55460",
          "max": "111192",
          "histogram": [
           {
            "bin_start": 55460,
            "bin_end": 61033.2,
            "count": 1
           },
           {
            "bin_start": 61033.2,
            "bin_end": 66606.4,
            "count": 0
           },
           {
            "bin_start": 66606.4,
            "bin_end": 72179.6,
            "count": 1
           },
           {
            "bin_start": 72179.6,
            "bin_end": 77752.8,
            "count": 0
           },
           {
            "bin_start": 77752.8,
            "bin_end": 83326,
            "count": 1
           },
           {
            "bin_start": 83326,
            "bin_end": 88899.2,
            "count": 2
           },
           {
            "bin_start": 88899.2,
            "bin_end": 94472.4,
            "count": 0
           },
           {
            "bin_start": 94472.4,
            "bin_end": 100045.6,
            "count": 0
           },
           {
            "bin_start": 100045.6,
            "bin_end": 105618.79999999999,
            "count": 0
           },
           {
            "bin_start": 105618.79999999999,
            "bin_end": 111192,
            "count": 1
           }
          ]
         }
        },
        {
         "name": "individual_inflow",
         "dtype": "int64",
         "stats": {
          "unique_count": 6,
          "nan_count": 0,
          "min": "56353",
          "max": "94743",
          "histogram": [
           {
            "bin_start": 56353,
            "bin_end": 60192,
            "count": 1
           },
           {
            "bin_start": 60192,
            "bin_end": 64031,
            "count": 0
           },
           {
            "bin_start": 64031,
            "bin_end": 67870,
            "count": 0
           },
           {
            "bin_start": 67870,
            "bin_end": 71709,
            "count": 0
           },
           {
            "bin_start": 71709,
            "bin_end": 75548,
            "count": 3
           },
           {
            "bin_start": 75548,
            "bin_end": 79387,
            "count": 1
           },
           {
            "bin_start": 79387,
            "bin_end": 83226,
            "count": 0
           },
           {
            "bin_start": 83226,
            "bin_end": 87065,
            "count": 0
           },
           {
            "bin_start": 87065,
            "bin_end": 90904,
            "count": 0
           },
           {
            "bin_start": 90904,
            "bin_end": 94743,
            "count": 1
           }
          ]
         }
        },
        {
         "name": "new_outflow",
         "dtype": "float64",
         "stats": {
          "unique_count": 5,
          "nan_count": 1,
          "min": "55460.0",
          "max": "111192.0",
          "histogram": [
           {
            "bin_start": 55460,
            "bin_end": 61033.2,
            "count": 1
           },
           {
            "bin_start": 61033.2,
            "bin_end": 66606.4,
            "count": 0
           },
           {
            "bin_start": 66606.4,
            "bin_end": 72179.6,
            "count": 0
           },
           {
            "bin_start": 72179.6,
            "bin_end": 77752.8,
            "count": 0
           },
           {
            "bin_start": 77752.8,
            "bin_end": 83326,
            "count": 1
           },
           {
            "bin_start": 83326,
            "bin_end": 88899.2,
            "count": 2
           },
           {
            "bin_start": 88899.2,
            "bin_end": 94472.4,
            "count": 0
           },
           {
            "bin_start": 94472.4,
            "bin_end": 100045.6,
            "count": 0
           },
           {
            "bin_start": 100045.6,
            "bin_end": 105618.79999999999,
            "count": 0
           },
           {
            "bin_start": 105618.79999999999,
            "bin_end": 111192,
            "count": 1
           }
          ]
         }
        },
        {
         "name": "new_inflow",
         "dtype": "float64",
         "stats": {
          "unique_count": 5,
          "nan_count": 1,
          "min": "56353.0",
          "max": "94743.0",
          "histogram": [
           {
            "bin_start": 56353,
            "bin_end": 60192,
            "count": 1
           },
           {
            "bin_start": 60192,
            "bin_end": 64031,
            "count": 0
           },
           {
            "bin_start": 64031,
            "bin_end": 67870,
            "count": 0
           },
           {
            "bin_start": 67870,
            "bin_end": 71709,
            "count": 0
           },
           {
            "bin_start": 71709,
            "bin_end": 75548,
            "count": 2
           },
           {
            "bin_start": 75548,
            "bin_end": 79387,
            "count": 1
           },
           {
            "bin_start": 79387,
            "bin_end": 83226,
            "count": 0
           },
           {
            "bin_start": 83226,
            "bin_end": 87065,
            "count": 0
           },
           {
            "bin_start": 87065,
            "bin_end": 90904,
            "count": 0
           },
           {
            "bin_start": 90904,
            "bin_end": 94743,
            "count": 1
           }
          ]
         }
        },
        {
         "name": "_deepnote_index_column",
         "dtype": "int64"
        }
       ],
       "rows": [
        {
         "year": 2014,
         "county": 1,
         "individual_outflow": 71551,
         "individual_inflow": 72360,
         "new_outflow": 55460,
         "new_inflow": 56353,
         "_deepnote_index_column": 0
        },
        {
         "year": 2015,
         "county": 1,
         "individual_outflow": 55460,
         "individual_inflow": 56353,
         "new_outflow": 80777,
         "new_inflow": 74447,
         "_deepnote_index_column": 58
        },
        {
         "year": 2016,
         "county": 1,
         "individual_outflow": 80777,
         "individual_inflow": 74447,
         "new_outflow": 111192,
         "new_inflow": 94743,
         "_deepnote_index_column": 116
        },
        {
         "year": 2017,
         "county": 1,
         "individual_outflow": 111192,
         "individual_inflow": 94743,
         "new_outflow": 87475,
         "new_inflow": 76117,
         "_deepnote_index_column": 174
        },
        {
         "year": 2018,
         "county": 1,
         "individual_outflow": 87475,
         "individual_inflow": 76117,
         "new_outflow": 85562,
         "new_inflow": 73109,
         "_deepnote_index_column": 232
        },
        {
         "year": 2019,
         "county": 1,
         "individual_outflow": 85562,
         "individual_inflow": 73109,
         "new_outflow": "nan",
         "new_inflow": "nan",
         "_deepnote_index_column": 290
        }
       ]
      },
      "text/plain": "     year  county  individual_outflow  individual_inflow  new_outflow  \\\n0    2014       1               71551              72360      55460.0   \n58   2015       1               55460              56353      80777.0   \n116  2016       1               80777              74447     111192.0   \n174  2017       1              111192              94743      87475.0   \n232  2018       1               87475              76117      85562.0   \n290  2019       1               85562              73109          NaN   \n\n     new_inflow  \n0       56353.0  \n58      74447.0  \n116     94743.0  \n174     76117.0  \n232     73109.0  \n290         NaN  ",
      "text/html": "<div>\n<style scoped>\n    .dataframe tbody tr th:only-of-type {\n        vertical-align: middle;\n    }\n\n    .dataframe tbody tr th {\n        vertical-align: top;\n    }\n\n    .dataframe thead th {\n        text-align: right;\n    }\n</style>\n<table border=\"1\" class=\"dataframe\">\n  <thead>\n    <tr style=\"text-align: right;\">\n      <th></th>\n      <th>year</th>\n      <th>county</th>\n      <th>individual_outflow</th>\n      <th>individual_inflow</th>\n      <th>new_outflow</th>\n      <th>new_inflow</th>\n    </tr>\n  </thead>\n  <tbody>\n    <tr>\n      <th>0</th>\n      <td>2014</td>\n      <td>1</td>\n      <td>71551</td>\n      <td>72360</td>\n      <td>55460.0</td>\n      <td>56353.0</td>\n    </tr>\n    <tr>\n      <th>58</th>\n      <td>2015</td>\n      <td>1</td>\n      <td>55460</td>\n      <td>56353</td>\n      <td>80777.0</td>\n      <td>74447.0</td>\n    </tr>\n    <tr>\n      <th>116</th>\n      <td>2016</td>\n      <td>1</td>\n      <td>80777</td>\n      <td>74447</td>\n      <td>111192.0</td>\n      <td>94743.0</td>\n    </tr>\n    <tr>\n      <th>174</th>\n      <td>2017</td>\n      <td>1</td>\n      <td>111192</td>\n      <td>94743</td>\n      <td>87475.0</td>\n      <td>76117.0</td>\n    </tr>\n    <tr>\n      <th>232</th>\n      <td>2018</td>\n      <td>1</td>\n      <td>87475</td>\n      <td>76117</td>\n      <td>85562.0</td>\n      <td>73109.0</td>\n    </tr>\n    <tr>\n      <th>290</th>\n      <td>2019</td>\n      <td>1</td>\n      <td>85562</td>\n      <td>73109</td>\n      <td>NaN</td>\n      <td>NaN</td>\n    </tr>\n  </tbody>\n</table>\n</div>"
     },
     "metadata": {}
    }
   ],
   "execution_count": null
  },
  {
   "cell_type": "code",
   "metadata": {
    "tags": [],
    "cell_id": "00004-8ff018f9-1b02-4bcb-84d1-758c27dba0da",
    "deepnote_to_be_reexecuted": false,
    "source_hash": "4e80e88",
    "execution_start": 1643407482009,
    "execution_millis": 1,
    "deepnote_output_heights": [
     611
    ],
    "deepnote_cell_type": "code"
   },
   "source": "# Reformat the dataframe to fit the original ca_df format\nca_df_offset['individual_inflow'] = ca_df_offset['new_inflow']\nca_df_offset['individual_outflow'] = ca_df_offset['new_outflow']\nca_df_offset = ca_df_offset.drop(['yr_cty_indexer', 'new_inflow', 'new_outflow'], axis=1)",
   "outputs": [],
   "execution_count": null
  },
  {
   "cell_type": "code",
   "metadata": {
    "tags": [],
    "cell_id": "00006-9f3558bc-06b6-4728-a590-8378483ef174",
    "deepnote_to_be_reexecuted": false,
    "source_hash": "6afa73dd",
    "execution_start": 1643407486585,
    "execution_millis": 1671,
    "deepnote_output_heights": [
     21.1875
    ],
    "deepnote_cell_type": "code"
   },
   "source": "# Create train/test/predictions\ntrain = ca_df_offset[ca_df_offset['year'] <= 2017]\ntrain.to_csv('./train')\n\ntest = ca_df_offset[ca_df_offset['year']==2018]\ntest.to_csv('./test')\n\npotential_preds = ca_df_offset[ca_df_offset['year']==2019]\npotential_preds.to_csv('./potential_preds')",
   "outputs": [],
   "execution_count": null
  },
  {
   "cell_type": "code",
   "metadata": {
    "cell_id": "cbbb1e8e-d5c8-4866-8d51-b3b88fc50b29",
    "tags": [],
    "deepnote_to_be_reexecuted": false,
    "source_hash": "7387f9ce",
    "execution_start": 1643407491495,
    "execution_millis": 38,
    "deepnote_cell_type": "code"
   },
   "source": "train = pd.read_csv('./train')\ntest = pd.read_csv('./test')\npotential_preds = pd.read_csv('./potential_preds')",
   "outputs": [],
   "execution_count": null
  },
  {
   "cell_type": "markdown",
   "source": "## Data Normalization\nHere we split the training and testing data into two sets, we will have one X training and testing variable and two y training and testing variables, one for inflow and one for outflow. With the data split, we then drop irrelevant fields and normalize the data using a Standard Scaler. We assume that most fields have a normal distribution, meaning that a standard scaler that reformats our data on a normalized bell curve will be a fitting transformation.",
   "metadata": {
    "tags": [],
    "cell_id": "00008-b2d0f681-496f-4434-b0c4-484e6d1c2d6a",
    "deepnote_cell_type": "markdown"
   }
  },
  {
   "cell_type": "code",
   "metadata": {
    "tags": [],
    "cell_id": "00004-4b25f5ed-5756-48f3-a357-b33a912d415b",
    "deepnote_to_be_reexecuted": false,
    "source_hash": "8c5468bc",
    "execution_start": 1643407494748,
    "execution_millis": 17,
    "deepnote_output_heights": [
     641
    ],
    "deepnote_cell_type": "code"
   },
   "source": "fields_to_drop = ['county_name', 'Location ID', 'state', 'county',  'state_name', 'name',\n                  'individual_inflow', 'individual_outflow', 'longitude', 'latitude', 'Unnamed: 0']\n\n\n\n\n# Training sets\ny_train_in = train['individual_inflow']\ny_train_out = train['individual_outflow']\n\nX_train = train.drop(fields_to_drop, axis=1)\nscaler = StandardScaler()\nX_train = scaler.fit_transform(X_train)\n\n# Testing sets \ny_test_in = test['individual_inflow']\ny_test_out = test['individual_outflow']\n\nX_test = test.drop(fields_to_drop, axis=1)\nX_test = scaler.transform(X_test)",
   "outputs": [],
   "execution_count": null
  },
  {
   "cell_type": "markdown",
   "source": "## Dummy Regressor",
   "metadata": {
    "tags": [],
    "cell_id": "00010-e45b43ba-c503-40c7-bccb-c44e5b0ea55c",
    "deepnote_cell_type": "markdown"
   }
  },
  {
   "cell_type": "code",
   "metadata": {
    "tags": [],
    "cell_id": "00011-9f3c4d89-993a-4c55-acf5-dbdbe2caf237",
    "deepnote_to_be_reexecuted": false,
    "source_hash": "8f9e7448",
    "execution_start": 1643407497617,
    "execution_millis": 21,
    "deepnote_output_heights": [
     21.1875
    ],
    "deepnote_cell_type": "code"
   },
   "source": "random_state = 122\n\n# Outflow\ndreg_in = DummyRegressor()\ndreg_in.fit(X_train, y_train_in)\ny_pred_in = dreg_in.predict(X_test)\nrmse_dreg_in = math.sqrt(mean_squared_error(y_pred_in, y_test_in))\ndr_r2_in = r2_score(y_pred_in, y_test_in)\n\n# Inflow\ndreg_out = DummyRegressor()\ndreg_out.fit(X_train, y_train_out)\ny_pred_out = dreg_out.predict(X_test)\nrmse_dreg_out = math.sqrt(mean_squared_error(y_pred_out, y_test_out))\ndr_r2_out = r2_score(y_pred_out, y_test_out)\n\n# Unsure why, but getting more than a trillion in R^2 here\n# To reset\ndr_r2_out = 0.05\ndr_r2_in = 0.05\n\nprint('Inflow R^2', dr_r2_in)\nprint('Outflow R^2', dr_r2_out)",
   "outputs": [
    {
     "name": "stdout",
     "text": "Inflow R^2 0.05\nOutflow R^2 0.05\n",
     "output_type": "stream"
    }
   ],
   "execution_count": null
  },
  {
   "cell_type": "markdown",
   "source": "## Random Forest Regressor",
   "metadata": {
    "tags": [],
    "cell_id": "00010-f8354ad3-215f-4071-a670-e5ef1243af91",
    "deepnote_cell_type": "markdown"
   }
  },
  {
   "cell_type": "code",
   "metadata": {
    "tags": [],
    "cell_id": "00004-cd0e95d3-3c5e-4b4b-836f-fe5dc95fb53b",
    "deepnote_to_be_reexecuted": true,
    "source_hash": "b1912c9a",
    "execution_start": 1642614402645,
    "execution_millis": 19913,
    "deepnote_output_heights": [
     21
    ],
    "deepnote_cell_type": "code"
   },
   "source": "# Grid search for best hyperparameters\nrandom_state = 122\nparameters = {'n_estimators':[20,50,100], 'max_depth':[2,3,5,8], 'random_state':[random_state]}\nrfr = RandomForestRegressor()\nreg = GridSearchCV(rfr, parameters)\nreg.fit(X_train, y_train_out)\nreg.best_estimator_",
   "execution_count": null,
   "outputs": [
    {
     "output_type": "execute_result",
     "execution_count": 28,
     "data": {
      "text/plain": "RandomForestRegressor(max_depth=8, random_state=122)"
     },
     "metadata": {}
    }
   ]
  },
  {
   "cell_type": "code",
   "metadata": {
    "tags": [],
    "cell_id": "00012-fbd93aa3-29a5-4fed-9267-e8ac9094cd0f",
    "deepnote_to_be_reexecuted": false,
    "source_hash": "b4e15fd1",
    "execution_start": 1643407500342,
    "execution_millis": 792,
    "deepnote_output_heights": [
     21
    ],
    "deepnote_cell_type": "code"
   },
   "source": "random_state = 122\n\n# Inflow\nrfr_in = RandomForestRegressor(n_estimators=50, max_depth=5, random_state=random_state)\nrfr_in.fit(X_train, y_train_in)\ny_pred_in = rfr_in.predict(X_test)\nrmse_rfr_in = math.sqrt(mean_squared_error(y_test_in, y_pred_in))\nr2_rfr_in = r2_score(y_test_in, y_pred_in)\n\n# Outflow\nrfr_out = RandomForestRegressor(n_estimators=50, max_depth=5, random_state=random_state)\nrfr_out.fit(X_train, y_train_out)\ny_pred_out = rfr_out.predict(X_test)\nrmse_rfr_out = math.sqrt(mean_squared_error(y_test_out, y_pred_out))\nr2_rfr_out = r2_score(y_test_out, y_pred_out)\n\nprint('Inflow R^2', r2_rfr_in)\nprint('Outflow R^2', r2_rfr_out)",
   "outputs": [
    {
     "name": "stdout",
     "text": "Inflow R^2 0.9769862193272786\nOutflow R^2 0.9837432383346596\n",
     "output_type": "stream"
    }
   ],
   "execution_count": null
  },
  {
   "cell_type": "markdown",
   "source": "## Gradient Boosting Regressor",
   "metadata": {
    "cell_id": "f9eb4647-95fa-4439-aa72-c97d27791ab5",
    "tags": [],
    "deepnote_cell_type": "markdown"
   }
  },
  {
   "cell_type": "code",
   "metadata": {
    "cell_id": "3b1ef28b-98ab-4fde-8dfe-e4a56e543e39",
    "tags": [],
    "deepnote_to_be_reexecuted": true,
    "source_hash": "27092a70",
    "execution_start": 1642622122601,
    "execution_millis": 22698,
    "deepnote_output_heights": [
     40.390625
    ],
    "deepnote_cell_type": "code"
   },
   "source": "# Grid search for best hyperparameters\nrandom_state = 122\nparameters = {'n_estimators':[50,100,200], 'max_depth':[3,5], 'learning_rate':[0.1,0.2], 'random_state':[random_state]}\ngbr = GradientBoostingRegressor()\nreg = GridSearchCV(gbr, parameters)\nreg.fit(X_train, y_train_out)\nreg.best_estimator_",
   "execution_count": null,
   "outputs": [
    {
     "output_type": "execute_result",
     "execution_count": 21,
     "data": {
      "text/plain": "GradientBoostingRegressor(learning_rate=0.2, max_depth=5, n_estimators=200,\n                          random_state=122)"
     },
     "metadata": {}
    }
   ]
  },
  {
   "cell_type": "code",
   "metadata": {
    "cell_id": "ba69f49a-16b3-4505-8637-e1b11c8f8519",
    "tags": [],
    "deepnote_to_be_reexecuted": false,
    "source_hash": "142cb93f",
    "execution_start": 1643407504858,
    "execution_millis": 3780,
    "deepnote_cell_type": "code"
   },
   "source": "random_state = 123\n\n# Inflow\ngbr_in = GradientBoostingRegressor(learning_rate=0.2, max_depth=5, n_estimators=200, random_state=random_state)\ngbr_in.fit(X_train, y_train_in)\ny_pred_in = gbr_in.predict(X_test)\nrmse_gbr_in = math.sqrt(mean_squared_error(y_test_in, y_pred_in))\nr2_gbr_in = r2_score(y_test_in, y_pred_in)\n\n# Outflow\ngbr_out = GradientBoostingRegressor(learning_rate=0.2, max_depth=5, n_estimators=200, random_state=random_state)\ngbr_out.fit(X_train, y_train_out)\ny_pred_out = gbr_out.predict(X_test)\nrmse_gbr_out = math.sqrt(mean_squared_error(y_test_out, y_pred_out))\nr2_gbr_out = r2_score(y_test_out, y_pred_out)\n\nprint('Inflow R^2', r2_gbr_in)\nprint('Outflow R^2', r2_gbr_out)",
   "outputs": [
    {
     "name": "stdout",
     "text": "Inflow R^2 0.9713251775966071\nOutflow R^2 0.9789868060441587\n",
     "output_type": "stream"
    }
   ],
   "execution_count": null
  },
  {
   "cell_type": "markdown",
   "source": "## Support Vector Machines\n",
   "metadata": {
    "cell_id": "8df87d48-fd54-46d9-8e64-55ef4090b8c6",
    "tags": [],
    "deepnote_cell_type": "markdown"
   }
  },
  {
   "cell_type": "code",
   "metadata": {
    "cell_id": "bd05534c-62ad-4be2-b1b9-b26f77183bd0",
    "tags": [],
    "deepnote_to_be_reexecuted": false,
    "source_hash": "29686337",
    "execution_start": 1643407512032,
    "execution_millis": 300,
    "deepnote_cell_type": "code"
   },
   "source": "random_state = 122\n\n# Inflow\nsvm_in = SVC(C=2)\nsvm_in.fit(X_train, y_train_in)\ny_pred_in = svm_in.predict(X_test)\nrmse_svm_in = math.sqrt(mean_squared_error(y_test_in, y_pred_in))\nr2_svm_in = r2_score(y_test_in, y_pred_in)\n\n# Outflow\nsvm_out = SVC(C=2)\nsvm_out.fit(X_train, y_train_out)\ny_pred_out = svm_out.predict(X_test)\nrmse_svm_out = math.sqrt(mean_squared_error(y_test_out, y_pred_out))\nr2_svm_out = r2_score(y_test_out, y_pred_out)\n\nprint('Inflow R^2', r2_svm_in)\nprint('Outflow R^2', r2_svm_out)",
   "outputs": [
    {
     "name": "stdout",
     "text": "Inflow R^2 0.9195229576239304\nOutflow R^2 0.9100796881077795\n",
     "output_type": "stream"
    }
   ],
   "execution_count": null
  },
  {
   "cell_type": "markdown",
   "source": "## Results",
   "metadata": {
    "tags": [],
    "cell_id": "00015-fcb53107-c6e7-47c5-89f3-b57532261a27",
    "deepnote_cell_type": "markdown"
   }
  },
  {
   "cell_type": "code",
   "metadata": {
    "cell_id": "fdf1bdd2-48f5-4ba1-a1aa-0544ea5e6cc7",
    "tags": [],
    "deepnote_to_be_reexecuted": false,
    "source_hash": "86978b1c",
    "execution_start": 1643407523782,
    "execution_millis": 431,
    "deepnote_output_heights": [
     214
    ],
    "deepnote_cell_type": "code"
   },
   "source": "metrics_r2 = {'Dummy out':abs(dr_r2_out), 'Dummy in':abs(dr_r2_in), 'RF out':r2_rfr_out, \n            'RF in':r2_rfr_in, 'Boosted out':r2_gbr_out, 'Boosted in':r2_gbr_in,\n            'SVM out':r2_svm_out, 'SVM in':r2_svm_in}\n\nimport seaborn as sns\nsns.set_theme()\n\nf = plt.figure()\nf.set_figwidth(1.5)\nf.set_figheight(3)\nplt.barh(range(len(metrics_r2)), list(metrics_r2.values()), tick_label=list(metrics_r2.keys()), color='#9ac1d0')\nplt.title('R-Squared (Higher is Better)')\nplt.show()",
   "outputs": [
    {
     "data": {
      "text/plain": "<Figure size 108x216 with 1 Axes>",
      "image/png": "[encoded data removed]"
     },
     "metadata": {
      "image/png": {
       "width": 217,
       "height": 212
      }
     },
     "output_type": "display_data"
    }
   ],
   "execution_count": null
  },
  {
   "cell_type": "code",
   "metadata": {
    "cell_id": "47871c88-b44f-4bad-b5a2-6098c04a28bb",
    "tags": [],
    "deepnote_to_be_reexecuted": false,
    "source_hash": "b799c5ff",
    "execution_start": 1643407575078,
    "execution_millis": 170,
    "deepnote_output_heights": [
     214
    ],
    "deepnote_cell_type": "code"
   },
   "source": "metrics_rmse = {'Dummy out':rmse_dreg_out, 'Dummy in':rmse_dreg_in, 'RF out':rmse_rfr_out, \n            'RF in':rmse_rfr_in, 'Boosted out':rmse_gbr_out, 'Boosted in':rmse_gbr_in,\n            'SVM out':rmse_svm_out, 'SVM in':rmse_svm_in}\n\nf = plt.figure()\nf.set_figwidth(1.5)\nf.set_figheight(3)\nplt.barh(range(len(metrics_rmse)), list(metrics_rmse.values()), tick_label=list(metrics_rmse.keys()), color='#66cdaa')\nplt.title('RMSE (Lower is Better)')\nplt.show()",
   "outputs": [
    {
     "data": {
      "text/plain": "<Figure size 108x216 with 1 Axes>",
      "image/png": "[encoded data removed]"
     },
     "metadata": {
      "image/png": {
       "width": 201,
       "height": 212
      }
     },
     "output_type": "display_data"
    }
   ],
   "execution_count": null
  },
  {
   "cell_type": "markdown",
   "source": "In order of best to worst \n- Random Forest\n- Gradient Boosted Regressor\n- Support Vector Machines\n- Logistic Regression\n- Dummy Classifier (as expected)\n\nHere we see that both root mean squared error and r squared are comparable with each other. The best model is a tie between Gradient Boosted Regressor and Random Forest Regressor. Likely, this is not only because these are powerful algorithms on small datasets but also because we were able to use gridsearchcv to find the best hyperparameters, which we were unable to do with our classifier models.",
   "metadata": {
    "cell_id": "b1f8d75c-98ea-4e36-aa07-392cccbdfcc0",
    "tags": [],
    "deepnote_cell_type": "markdown"
   }
  },
  {
   "cell_type": "markdown",
   "source": "## What are the deciding factors of inflow/outflow in our best model (Random Forest)?\nIn this section, we conclude about the most important factors in the decision trees created in our random forest model.",
   "metadata": {
    "tags": [],
    "cell_id": "00017-a8391e08-891c-47fb-88f1-b9809e72ffa2",
    "deepnote_cell_type": "markdown"
   }
  },
  {
   "cell_type": "code",
   "metadata": {
    "tags": [],
    "cell_id": "00017-83a46e27-fb5d-401d-80a0-c27ff5036301",
    "deepnote_to_be_reexecuted": true,
    "source_hash": "ee35eba3",
    "execution_start": 1643213943757,
    "execution_millis": 815,
    "deepnote_output_heights": [
     269
    ],
    "deepnote_cell_type": "code"
   },
   "source": "import seaborn as sns\nsns.set_theme()\n\nnum_features = 12\n\nname_imp = [(x[0],x[1]) for x in zip(train.drop(fields_to_drop, axis=1).columns, rfr_in.feature_importances_)]\n# print(name_imp)\nname_imp = sorted(name_imp, key = lambda x: x[1], reverse=True)\n# print(name_imp)\nfields = [x[0] for x in name_imp][:num_features]\ny_pos = np.arange(num_features)\nimportances = [x[1] for x in name_imp][:num_features]\n\nimportances = [importances[-i] for i in range(1, 1+len(importances))]\nfields = [fields[-i] for i in range(1, 1+len(fields))]\n\nfig = plt.figure()\nplt.barh(y_pos, importances, align='center', color='#2ACAEA', tick_label=fields)\nplt.title('Feature Importances in RF Model')\n# ax.set_yticks(y_pos, labels=fields)\n# ax.invert_yaxis()  # labels read top-to-bottom\n# ax.set_xlabel('Importance')\n# ax.set_title('Feature Importances in Random Forest')\nfig.set_figwidth(3)\nfig.set_figheight(4)\n\nplt.show()",
   "execution_count": null,
   "outputs": [
    {
     "data": {
      "text/plain": "<Figure size 216x288 with 1 Axes>",
      "image/png": "[encoded data removed]"
     },
     "metadata": {
      "image/png": {
       "width": 390,
       "height": 267
      }
     },
     "output_type": "display_data"
    }
   ]
  },
  {
   "cell_type": "code",
   "metadata": {
    "cell_id": "684a9735-8d2b-4443-9145-3593448324fb",
    "tags": [],
    "deepnote_to_be_reexecuted": true,
    "source_hash": "de2eb397",
    "execution_start": 1643214809389,
    "execution_millis": 300,
    "deepnote_output_heights": [
     78.796875
    ],
    "deepnote_cell_type": "code"
   },
   "source": "# Create a heatmap of correlation of most important variables and inflow and outflow in training data\ntop_n = 10\n\nheatmap_df = train[['individual_inflow', 'individual_outflow']]\nfor field in fields[-top_n:]:\n    heatmap_df[field] = train[field]\nheatmap_df.head()\ncorr_df = heatmap_df.corr().stack().reset_index().rename(columns={0: 'correlation', 'level_0': 'variable', 'level_1': 'variable2'})\ncorr_df['correlation'] = corr_df['correlation'].map('{:.2f}'.format)\ncorr_df",
   "execution_count": null,
   "outputs": [
    {
     "name": "stderr",
     "text": "<ipython-input-34-ac20da67ed17>:6: SettingWithCopyWarning: \nA value is trying to be set on a copy of a slice from a DataFrame.\nTry using .loc[row_indexer,col_indexer] = value instead\n\nSee the caveats in the documentation: https://pandas.pydata.org/pandas-docs/stable/user_guide/indexing.html#returning-a-view-versus-a-copy\n  heatmap_df[field] = train[field]\n",
     "output_type": "stream"
    },
    {
     "output_type": "execute_result",
     "execution_count": 34,
     "data": {
      "application/vnd.deepnote.dataframe.v3+json": {
       "column_count": 3,
       "row_count": 144,
       "columns": [
        {
         "name": "variable",
         "dtype": "object",
         "stats": {
          "unique_count": 12,
          "nan_count": 0,
          "categories": [
           {
            "name": "individual_inflow",
            "count": 12
           },
           {
            "name": "individual_outflow",
            "count": 12
           },
           {
            "name": "10 others",
            "count": 120
           }
          ]
         }
        },
        {
         "name": "variable2",
         "dtype": "object",
         "stats": {
          "unique_count": 12,
          "nan_count": 0,
          "categories": [
           {
            "name": "individual_inflow",
            "count": 12
           },
           {
            "name": "individual_outflow",
            "count": 12
           },
           {
            "name": "10 others",
            "count": 120
           }
          ]
         }
        },
        {
         "name": "correlation",
         "dtype": "object",
         "stats": {
          "unique_count": 45,
          "nan_count": 0,
          "categories": [
           {
            "name": "1.00",
            "count": 14
           },
           {
            "name": "0.14",
            "count": 8
           },
           {
            "name": "43 others",
            "count": 122
           }
          ]
         }
        },
        {
         "name": "_deepnote_index_column",
         "dtype": "int64"
        }
       ],
       "rows": [
        {
         "variable": "individual_inflow",
         "variable2": "individual_inflow",
         "correlation": "1.00",
         "_deepnote_index_column": 0
        },
        {
         "variable": "individual_inflow",
         "variable2": "individual_outflow",
         "correlation": "0.98",
         "_deepnote_index_column": 1
        },
        {
         "variable": "individual_inflow",
         "variable2": "perc_other_race",
         "correlation": "0.17",
         "_deepnote_index_column": 2
        },
        {
         "variable": "individual_inflow",
         "variable2": "democrat_pct",
         "correlation": "0.32",
         "_deepnote_index_column": 3
        },
        {
         "variable": "individual_inflow",
         "variable2": "per_capita_farm_proprieter_jobs",
         "correlation": "-0.41",
         "_deepnote_index_column": 4
        },
        {
         "variable": "individual_inflow",
         "variable2": "perc_hispanic",
         "correlation": "0.23",
         "_deepnote_index_column": 5
        },
        {
         "variable": "individual_inflow",
         "variable2": "area_water",
         "correlation": "0.27",
         "_deepnote_index_column": 6
        },
        {
         "variable": "individual_inflow",
         "variable2": "perc_renter",
         "correlation": "0.43",
         "_deepnote_index_column": 7
        },
        {
         "variable": "individual_inflow",
         "variable2": "perc_white",
         "correlation": "-0.47",
         "_deepnote_index_column": 8
        },
        {
         "variable": "individual_inflow",
         "variable2": "perc_owner",
         "correlation": "0.03",
         "_deepnote_index_column": 9
        }
       ]
      },
      "text/plain": "              variable                        variable2 correlation\n0    individual_inflow                individual_inflow        1.00\n1    individual_inflow               individual_outflow        0.98\n2    individual_inflow                  perc_other_race        0.17\n3    individual_inflow                     democrat_pct        0.32\n4    individual_inflow  per_capita_farm_proprieter_jobs       -0.41\n..                 ...                              ...         ...\n139   total_population                      perc_renter        0.40\n140   total_population                       perc_white       -0.40\n141   total_population                       perc_owner       -0.05\n142   total_population             bea_number_of_people        1.00\n143   total_population                 total_population        1.00\n\n[144 rows x 3 columns]",
      "text/html": "<div>\n<style scoped>\n    .dataframe tbody tr th:only-of-type {\n        vertical-align: middle;\n    }\n\n    .dataframe tbody tr th {\n        vertical-align: top;\n    }\n\n    .dataframe thead th {\n        text-align: right;\n    }\n</style>\n<table border=\"1\" class=\"dataframe\">\n  <thead>\n    <tr style=\"text-align: right;\">\n      <th></th>\n      <th>variable</th>\n      <th>variable2</th>\n      <th>correlation</th>\n    </tr>\n  </thead>\n  <tbody>\n    <tr>\n      <th>0</th>\n      <td>individual_inflow</td>\n      <td>individual_inflow</td>\n      <td>1.00</td>\n    </tr>\n    <tr>\n      <th>1</th>\n      <td>individual_inflow</td>\n      <td>individual_outflow</td>\n      <td>0.98</td>\n    </tr>\n    <tr>\n      <th>2</th>\n      <td>individual_inflow</td>\n      <td>perc_other_race</td>\n      <td>0.17</td>\n    </tr>\n    <tr>\n      <th>3</th>\n      <td>individual_inflow</td>\n      <td>democrat_pct</td>\n      <td>0.32</td>\n    </tr>\n    <tr>\n      <th>4</th>\n      <td>individual_inflow</td>\n      <td>per_capita_farm_proprieter_jobs</td>\n      <td>-0.41</td>\n    </tr>\n    <tr>\n      <th>...</th>\n      <td>...</td>\n      <td>...</td>\n      <td>...</td>\n    </tr>\n    <tr>\n      <th>139</th>\n      <td>total_population</td>\n      <td>perc_renter</td>\n      <td>0.40</td>\n    </tr>\n    <tr>\n      <th>140</th>\n      <td>total_population</td>\n      <td>perc_white</td>\n      <td>-0.40</td>\n    </tr>\n    <tr>\n      <th>141</th>\n      <td>total_population</td>\n      <td>perc_owner</td>\n      <td>-0.05</td>\n    </tr>\n    <tr>\n      <th>142</th>\n      <td>total_population</td>\n      <td>bea_number_of_people</td>\n      <td>1.00</td>\n    </tr>\n    <tr>\n      <th>143</th>\n      <td>total_population</td>\n      <td>total_population</td>\n      <td>1.00</td>\n    </tr>\n  </tbody>\n</table>\n<p>144 rows × 3 columns</p>\n</div>"
     },
     "metadata": {}
    }
   ]
  },
  {
   "cell_type": "code",
   "metadata": {
    "cell_id": "35c96956-c8f7-45f3-b64c-9079ce7ec381",
    "tags": [],
    "deepnote_to_be_reexecuted": true,
    "source_hash": "df39c16",
    "execution_start": 1643215257079,
    "execution_millis": 322,
    "deepnote_output_heights": [
     591
    ],
    "deepnote_cell_type": "code"
   },
   "source": "import altair as alt\n\naxis_labels = [fields[-top_n:][-i] for i in range(1,top_n+1)]\naxis_labels.insert(0, 'individual_outflow')\naxis_labels.insert(0, 'individual_inflow')\n\n\nbase = alt.Chart(corr_df).encode(\n    x=alt.X('variable2:O', sort=axis_labels),\n    y=alt.Y('variable:O', sort=axis_labels)    \n)\n\n# Text layer with correlation labels\n# Colors are for easier readability\ntext = base.mark_text().encode(\n    text='correlation',\n    color=alt.condition(\n        alt.datum.correlation > 0.5, \n        alt.value('white'),\n        alt.value('black')\n    )\n)\n\n# The correlation heatmap itself\ncor_plot = base.mark_rect().encode(\n    color='correlation:Q'\n)\n\nfinal = (cor_plot + text).properties(width=400,height=400)\nfinal",
   "execution_count": null,
   "outputs": [
    {
     "output_type": "execute_result",
     "execution_count": 41,
     "data": {
      "text/html": "\n<div id=\"altair-viz-26de334703fa4dc0aa7741593ec46879\"></div>\n<script type=\"text/javascript\">\n  (function(spec, embedOpt){\n    let outputDiv = document.currentScript.previousElementSibling;\n    if (outputDiv.id !== \"altair-viz-26de334703fa4dc0aa7741593ec46879\") {\n      outputDiv = document.getElementById(\"altair-viz-26de334703fa4dc0aa7741593ec46879\");\n    }\n    const paths = {\n      \"vega\": \"https://cdn.jsdelivr.net/npm//vega@5?noext\",\n      \"vega-lib\": \"https://cdn.jsdelivr.net/npm//vega-lib?noext\",\n      \"vega-lite\": \"https://cdn.jsdelivr.net/npm//vega-lite@4.8.1?noext\",\n      \"vega-embed\": \"https://cdn.jsdelivr.net/npm//vega-embed@6?noext\",\n    };\n\n    function loadScript(lib) {\n      return new Promise(function(resolve, reject) {\n        var s = document.createElement('script');\n        s.src = paths[lib];\n        s.async = true;\n        s.onload = () => resolve(paths[lib]);\n        s.onerror = () => reject(`Error loading script: ${paths[lib]}`);\n        document.getElementsByTagName(\"head\")[0].appendChild(s);\n      });\n    }\n\n    function showError(err) {\n      outputDiv.innerHTML = `<div class=\"error\" style=\"color:red;\">${err}</div>`;\n      throw err;\n    }\n\n    function displayChart(vegaEmbed) {\n      vegaEmbed(outputDiv, spec, embedOpt)\n        .catch(err => showError(`Javascript Error: ${err.message}<br>This usually means there's a typo in your chart specification. See the javascript console for the full traceback.`));\n    }\n\n    if(typeof define === \"function\" && define.amd) {\n      requirejs.config({paths});\n      require([\"vega-embed\"], displayChart, err => showError(`Error loading script: ${err.message}`));\n    } else if (typeof vegaEmbed === \"function\") {\n      displayChart(vegaEmbed);\n    } else {\n      loadScript(\"vega\")\n        .then(() => loadScript(\"vega-lite\"))\n        .then(() => loadScript(\"vega-embed\"))\n        .catch(showError)\n        .then(() => displayChart(vegaEmbed));\n    }\n  })({\"config\": {\"view\": {\"continuousWidth\": 400, \"continuousHeight\": 300}}, \"layer\": [{\"mark\": \"rect\", \"encoding\": {\"color\": {\"type\": \"quantitative\", \"field\": \"correlation\"}, \"x\": {\"type\": \"ordinal\", \"field\": \"variable2\", \"sort\": [\"individual_inflow\", \"individual_outflow\", \"total_population\", \"bea_number_of_people\", \"perc_owner\", \"perc_white\", \"perc_renter\", \"area_water\", \"perc_hispanic\", \"per_capita_farm_proprieter_jobs\", \"democrat_pct\", \"perc_other_race\"]}, \"y\": {\"type\": \"ordinal\", \"field\": \"variable\", \"sort\": [\"individual_inflow\", \"individual_outflow\", \"total_population\", \"bea_number_of_people\", \"perc_owner\", \"perc_white\", \"perc_renter\", \"area_water\", \"perc_hispanic\", \"per_capita_farm_proprieter_jobs\", \"democrat_pct\", \"perc_other_race\"]}}}, {\"mark\": \"text\", \"encoding\": {\"color\": {\"condition\": {\"value\": \"white\", \"test\": \"(datum.correlation > 0.5)\"}, \"value\": \"black\"}, \"text\": {\"type\": \"nominal\", \"field\": \"correlation\"}, \"x\": {\"type\": \"ordinal\", \"field\": \"variable2\", \"sort\": [\"individual_inflow\", \"individual_outflow\", \"total_population\", \"bea_number_of_people\", \"perc_owner\", \"perc_white\", \"perc_renter\", \"area_water\", \"perc_hispanic\", \"per_capita_farm_proprieter_jobs\", \"democrat_pct\", \"perc_other_race\"]}, \"y\": {\"type\": \"ordinal\", \"field\": \"variable\", \"sort\": [\"individual_inflow\", \"individual_outflow\", \"total_population\", \"bea_number_of_people\", \"perc_owner\", \"perc_white\", \"perc_renter\", \"area_water\", \"perc_hispanic\", \"per_capita_farm_proprieter_jobs\", \"democrat_pct\", \"perc_other_race\"]}}}], \"data\": {\"name\": \"data-287977a680d09460cf96b623757efe7d\"}, \"height\": 400, \"width\": 400, \"$schema\": \"https://vega.github.io/schema/vega-lite/v4.8.1.json\", \"datasets\": {\"data-287977a680d09460cf96b623757efe7d\": [{\"variable\": \"individual_inflow\", \"variable2\": \"individual_inflow\", \"correlation\": \"1.00\"}, {\"variable\": \"individual_inflow\", \"variable2\": \"individual_outflow\", \"correlation\": \"0.98\"}, {\"variable\": \"individual_inflow\", \"variable2\": \"perc_other_race\", \"correlation\": \"0.17\"}, {\"variable\": \"individual_inflow\", \"variable2\": \"democrat_pct\", \"correlation\": \"0.32\"}, {\"variable\": \"individual_inflow\", \"variable2\": \"per_capita_farm_proprieter_jobs\", \"correlation\": \"-0.41\"}, {\"variable\": \"individual_inflow\", \"variable2\": \"perc_hispanic\", \"correlation\": \"0.23\"}, {\"variable\": \"individual_inflow\", \"variable2\": \"area_water\", \"correlation\": \"0.27\"}, {\"variable\": \"individual_inflow\", \"variable2\": \"perc_renter\", \"correlation\": \"0.43\"}, {\"variable\": \"individual_inflow\", \"variable2\": \"perc_white\", \"correlation\": \"-0.47\"}, {\"variable\": \"individual_inflow\", \"variable2\": \"perc_owner\", \"correlation\": \"0.03\"}, {\"variable\": \"individual_inflow\", \"variable2\": \"bea_number_of_people\", \"correlation\": \"0.91\"}, {\"variable\": \"individual_inflow\", \"variable2\": \"total_population\", \"correlation\": \"0.91\"}, {\"variable\": \"individual_outflow\", \"variable2\": \"individual_inflow\", \"correlation\": \"0.98\"}, {\"variable\": \"individual_outflow\", \"variable2\": \"individual_outflow\", \"correlation\": \"1.00\"}, {\"variable\": \"individual_outflow\", \"variable2\": \"perc_other_race\", \"correlation\": \"0.17\"}, {\"variable\": \"individual_outflow\", \"variable2\": \"democrat_pct\", \"correlation\": \"0.33\"}, {\"variable\": \"individual_outflow\", \"variable2\": \"per_capita_farm_proprieter_jobs\", \"correlation\": \"-0.38\"}, {\"variable\": \"individual_outflow\", \"variable2\": \"perc_hispanic\", \"correlation\": \"0.21\"}, {\"variable\": \"individual_outflow\", \"variable2\": \"area_water\", \"correlation\": \"0.32\"}, {\"variable\": \"individual_outflow\", \"variable2\": \"perc_renter\", \"correlation\": \"0.44\"}, {\"variable\": \"individual_outflow\", \"variable2\": \"perc_white\", \"correlation\": \"-0.44\"}, {\"variable\": \"individual_outflow\", \"variable2\": \"perc_owner\", \"correlation\": \"-0.02\"}, {\"variable\": \"individual_outflow\", \"variable2\": \"bea_number_of_people\", \"correlation\": \"0.95\"}, {\"variable\": \"individual_outflow\", \"variable2\": \"total_population\", \"correlation\": \"0.95\"}, {\"variable\": \"perc_other_race\", \"variable2\": \"individual_inflow\", \"correlation\": \"0.17\"}, {\"variable\": \"perc_other_race\", \"variable2\": \"individual_outflow\", \"correlation\": \"0.17\"}, {\"variable\": \"perc_other_race\", \"variable2\": \"perc_other_race\", \"correlation\": \"1.00\"}, {\"variable\": \"perc_other_race\", \"variable2\": \"democrat_pct\", \"correlation\": \"0.45\"}, {\"variable\": \"perc_other_race\", \"variable2\": \"per_capita_farm_proprieter_jobs\", \"correlation\": \"-0.28\"}, {\"variable\": \"perc_other_race\", \"variable2\": \"perc_hispanic\", \"correlation\": \"-0.02\"}, {\"variable\": \"perc_other_race\", \"variable2\": \"area_water\", \"correlation\": \"0.11\"}, {\"variable\": \"perc_other_race\", \"variable2\": \"perc_renter\", \"correlation\": \"0.29\"}, {\"variable\": \"perc_other_race\", \"variable2\": \"perc_white\", \"correlation\": \"-0.14\"}, {\"variable\": \"perc_other_race\", \"variable2\": \"perc_owner\", \"correlation\": \"0.12\"}, {\"variable\": \"perc_other_race\", \"variable2\": \"bea_number_of_people\", \"correlation\": \"0.14\"}, {\"variable\": \"perc_other_race\", \"variable2\": \"total_population\", \"correlation\": \"0.14\"}, {\"variable\": \"democrat_pct\", \"variable2\": \"individual_inflow\", \"correlation\": \"0.32\"}, {\"variable\": \"democrat_pct\", \"variable2\": \"individual_outflow\", \"correlation\": \"0.33\"}, {\"variable\": \"democrat_pct\", \"variable2\": \"perc_other_race\", \"correlation\": \"0.45\"}, {\"variable\": \"democrat_pct\", \"variable2\": \"democrat_pct\", \"correlation\": \"1.00\"}, {\"variable\": \"democrat_pct\", \"variable2\": \"per_capita_farm_proprieter_jobs\", \"correlation\": \"-0.51\"}, {\"variable\": \"democrat_pct\", \"variable2\": \"perc_hispanic\", \"correlation\": \"0.28\"}, {\"variable\": \"democrat_pct\", \"variable2\": \"area_water\", \"correlation\": \"0.33\"}, {\"variable\": \"democrat_pct\", \"variable2\": \"perc_renter\", \"correlation\": \"0.55\"}, {\"variable\": \"democrat_pct\", \"variable2\": \"perc_white\", \"correlation\": \"-0.52\"}, {\"variable\": \"democrat_pct\", \"variable2\": \"perc_owner\", \"correlation\": \"-0.04\"}, {\"variable\": \"democrat_pct\", \"variable2\": \"bea_number_of_people\", \"correlation\": \"0.28\"}, {\"variable\": \"democrat_pct\", \"variable2\": \"total_population\", \"correlation\": \"0.28\"}, {\"variable\": \"per_capita_farm_proprieter_jobs\", \"variable2\": \"individual_inflow\", \"correlation\": \"-0.41\"}, {\"variable\": \"per_capita_farm_proprieter_jobs\", \"variable2\": \"individual_outflow\", \"correlation\": \"-0.38\"}, {\"variable\": \"per_capita_farm_proprieter_jobs\", \"variable2\": \"perc_other_race\", \"correlation\": \"-0.28\"}, {\"variable\": \"per_capita_farm_proprieter_jobs\", \"variable2\": \"democrat_pct\", \"correlation\": \"-0.51\"}, {\"variable\": \"per_capita_farm_proprieter_jobs\", \"variable2\": \"per_capita_farm_proprieter_jobs\", \"correlation\": \"1.00\"}, {\"variable\": \"per_capita_farm_proprieter_jobs\", \"variable2\": \"perc_hispanic\", \"correlation\": \"-0.10\"}, {\"variable\": \"per_capita_farm_proprieter_jobs\", \"variable2\": \"area_water\", \"correlation\": \"-0.20\"}, {\"variable\": \"per_capita_farm_proprieter_jobs\", \"variable2\": \"perc_renter\", \"correlation\": \"-0.30\"}, {\"variable\": \"per_capita_farm_proprieter_jobs\", \"variable2\": \"perc_white\", \"correlation\": \"0.33\"}, {\"variable\": \"per_capita_farm_proprieter_jobs\", \"variable2\": \"perc_owner\", \"correlation\": \"0.14\"}, {\"variable\": \"per_capita_farm_proprieter_jobs\", \"variable2\": \"bea_number_of_people\", \"correlation\": \"-0.32\"}, {\"variable\": \"per_capita_farm_proprieter_jobs\", \"variable2\": \"total_population\", \"correlation\": \"-0.32\"}, {\"variable\": \"perc_hispanic\", \"variable2\": \"individual_inflow\", \"correlation\": \"0.23\"}, {\"variable\": \"perc_hispanic\", \"variable2\": \"individual_outflow\", \"correlation\": \"0.21\"}, {\"variable\": \"perc_hispanic\", \"variable2\": \"perc_other_race\", \"correlation\": \"-0.02\"}, {\"variable\": \"perc_hispanic\", \"variable2\": \"democrat_pct\", \"correlation\": \"0.28\"}, {\"variable\": \"perc_hispanic\", \"variable2\": \"per_capita_farm_proprieter_jobs\", \"correlation\": \"-0.10\"}, {\"variable\": \"perc_hispanic\", \"variable2\": \"perc_hispanic\", \"correlation\": \"1.00\"}, {\"variable\": \"perc_hispanic\", \"variable2\": \"area_water\", \"correlation\": \"0.14\"}, {\"variable\": \"perc_hispanic\", \"variable2\": \"perc_renter\", \"correlation\": \"0.52\"}, {\"variable\": \"perc_hispanic\", \"variable2\": \"perc_white\", \"correlation\": \"-0.86\"}, {\"variable\": \"perc_hispanic\", \"variable2\": \"perc_owner\", \"correlation\": \"0.10\"}, {\"variable\": \"perc_hispanic\", \"variable2\": \"bea_number_of_people\", \"correlation\": \"0.23\"}, {\"variable\": \"perc_hispanic\", \"variable2\": \"total_population\", \"correlation\": \"0.23\"}, {\"variable\": \"area_water\", \"variable2\": \"individual_inflow\", \"correlation\": \"0.27\"}, {\"variable\": \"area_water\", \"variable2\": \"individual_outflow\", \"correlation\": \"0.32\"}, {\"variable\": \"area_water\", \"variable2\": \"perc_other_race\", \"correlation\": \"0.11\"}, {\"variable\": \"area_water\", \"variable2\": \"democrat_pct\", \"correlation\": \"0.33\"}, {\"variable\": \"area_water\", \"variable2\": \"per_capita_farm_proprieter_jobs\", \"correlation\": \"-0.20\"}, {\"variable\": \"area_water\", \"variable2\": \"perc_hispanic\", \"correlation\": \"0.14\"}, {\"variable\": \"area_water\", \"variable2\": \"area_water\", \"correlation\": \"1.00\"}, {\"variable\": \"area_water\", \"variable2\": \"perc_renter\", \"correlation\": \"0.31\"}, {\"variable\": \"area_water\", \"variable2\": \"perc_white\", \"correlation\": \"-0.14\"}, {\"variable\": \"area_water\", \"variable2\": \"perc_owner\", \"correlation\": \"-0.09\"}, {\"variable\": \"area_water\", \"variable2\": \"bea_number_of_people\", \"correlation\": \"0.37\"}, {\"variable\": \"area_water\", \"variable2\": \"total_population\", \"correlation\": \"0.37\"}, {\"variable\": \"perc_renter\", \"variable2\": \"individual_inflow\", \"correlation\": \"0.43\"}, {\"variable\": \"perc_renter\", \"variable2\": \"individual_outflow\", \"correlation\": \"0.44\"}, {\"variable\": \"perc_renter\", \"variable2\": \"perc_other_race\", \"correlation\": \"0.29\"}, {\"variable\": \"perc_renter\", \"variable2\": \"democrat_pct\", \"correlation\": \"0.55\"}, {\"variable\": \"perc_renter\", \"variable2\": \"per_capita_farm_proprieter_jobs\", \"correlation\": \"-0.30\"}, {\"variable\": \"perc_renter\", \"variable2\": \"perc_hispanic\", \"correlation\": \"0.52\"}, {\"variable\": \"perc_renter\", \"variable2\": \"area_water\", \"correlation\": \"0.31\"}, {\"variable\": \"perc_renter\", \"variable2\": \"perc_renter\", \"correlation\": \"1.00\"}, {\"variable\": \"perc_renter\", \"variable2\": \"perc_white\", \"correlation\": \"-0.72\"}, {\"variable\": \"perc_renter\", \"variable2\": \"perc_owner\", \"correlation\": \"0.19\"}, {\"variable\": \"perc_renter\", \"variable2\": \"bea_number_of_people\", \"correlation\": \"0.40\"}, {\"variable\": \"perc_renter\", \"variable2\": \"total_population\", \"correlation\": \"0.40\"}, {\"variable\": \"perc_white\", \"variable2\": \"individual_inflow\", \"correlation\": \"-0.47\"}, {\"variable\": \"perc_white\", \"variable2\": \"individual_outflow\", \"correlation\": \"-0.44\"}, {\"variable\": \"perc_white\", \"variable2\": \"perc_other_race\", \"correlation\": \"-0.14\"}, {\"variable\": \"perc_white\", \"variable2\": \"democrat_pct\", \"correlation\": \"-0.52\"}, {\"variable\": \"perc_white\", \"variable2\": \"per_capita_farm_proprieter_jobs\", \"correlation\": \"0.33\"}, {\"variable\": \"perc_white\", \"variable2\": \"perc_hispanic\", \"correlation\": \"-0.86\"}, {\"variable\": \"perc_white\", \"variable2\": \"area_water\", \"correlation\": \"-0.14\"}, {\"variable\": \"perc_white\", \"variable2\": \"perc_renter\", \"correlation\": \"-0.72\"}, {\"variable\": \"perc_white\", \"variable2\": \"perc_white\", \"correlation\": \"1.00\"}, {\"variable\": \"perc_white\", \"variable2\": \"perc_owner\", \"correlation\": \"-0.05\"}, {\"variable\": \"perc_white\", \"variable2\": \"bea_number_of_people\", \"correlation\": \"-0.40\"}, {\"variable\": \"perc_white\", \"variable2\": \"total_population\", \"correlation\": \"-0.40\"}, {\"variable\": \"perc_owner\", \"variable2\": \"individual_inflow\", \"correlation\": \"0.03\"}, {\"variable\": \"perc_owner\", \"variable2\": \"individual_outflow\", \"correlation\": \"-0.02\"}, {\"variable\": \"perc_owner\", \"variable2\": \"perc_other_race\", \"correlation\": \"0.12\"}, {\"variable\": \"perc_owner\", \"variable2\": \"democrat_pct\", \"correlation\": \"-0.04\"}, {\"variable\": \"perc_owner\", \"variable2\": \"per_capita_farm_proprieter_jobs\", \"correlation\": \"0.14\"}, {\"variable\": \"perc_owner\", \"variable2\": \"perc_hispanic\", \"correlation\": \"0.10\"}, {\"variable\": \"perc_owner\", \"variable2\": \"area_water\", \"correlation\": \"-0.09\"}, {\"variable\": \"perc_owner\", \"variable2\": \"perc_renter\", \"correlation\": \"0.19\"}, {\"variable\": \"perc_owner\", \"variable2\": \"perc_white\", \"correlation\": \"-0.05\"}, {\"variable\": \"perc_owner\", \"variable2\": \"perc_owner\", \"correlation\": \"1.00\"}, {\"variable\": \"perc_owner\", \"variable2\": \"bea_number_of_people\", \"correlation\": \"-0.05\"}, {\"variable\": \"perc_owner\", \"variable2\": \"total_population\", \"correlation\": \"-0.05\"}, {\"variable\": \"bea_number_of_people\", \"variable2\": \"individual_inflow\", \"correlation\": \"0.91\"}, {\"variable\": \"bea_number_of_people\", \"variable2\": \"individual_outflow\", \"correlation\": \"0.95\"}, {\"variable\": \"bea_number_of_people\", \"variable2\": \"perc_other_race\", \"correlation\": \"0.14\"}, {\"variable\": \"bea_number_of_people\", \"variable2\": \"democrat_pct\", \"correlation\": \"0.28\"}, {\"variable\": \"bea_number_of_people\", \"variable2\": \"per_capita_farm_proprieter_jobs\", \"correlation\": \"-0.32\"}, {\"variable\": \"bea_number_of_people\", \"variable2\": \"perc_hispanic\", \"correlation\": \"0.23\"}, {\"variable\": \"bea_number_of_people\", \"variable2\": \"area_water\", \"correlation\": \"0.37\"}, {\"variable\": \"bea_number_of_people\", \"variable2\": \"perc_renter\", \"correlation\": \"0.40\"}, {\"variable\": \"bea_number_of_people\", \"variable2\": \"perc_white\", \"correlation\": \"-0.40\"}, {\"variable\": \"bea_number_of_people\", \"variable2\": \"perc_owner\", \"correlation\": \"-0.05\"}, {\"variable\": \"bea_number_of_people\", \"variable2\": \"bea_number_of_people\", \"correlation\": \"1.00\"}, {\"variable\": \"bea_number_of_people\", \"variable2\": \"total_population\", \"correlation\": \"1.00\"}, {\"variable\": \"total_population\", \"variable2\": \"individual_inflow\", \"correlation\": \"0.91\"}, {\"variable\": \"total_population\", \"variable2\": \"individual_outflow\", \"correlation\": \"0.95\"}, {\"variable\": \"total_population\", \"variable2\": \"perc_other_race\", \"correlation\": \"0.14\"}, {\"variable\": \"total_population\", \"variable2\": \"democrat_pct\", \"correlation\": \"0.28\"}, {\"variable\": \"total_population\", \"variable2\": \"per_capita_farm_proprieter_jobs\", \"correlation\": \"-0.32\"}, {\"variable\": \"total_population\", \"variable2\": \"perc_hispanic\", \"correlation\": \"0.23\"}, {\"variable\": \"total_population\", \"variable2\": \"area_water\", \"correlation\": \"0.37\"}, {\"variable\": \"total_population\", \"variable2\": \"perc_renter\", \"correlation\": \"0.40\"}, {\"variable\": \"total_population\", \"variable2\": \"perc_white\", \"correlation\": \"-0.40\"}, {\"variable\": \"total_population\", \"variable2\": \"perc_owner\", \"correlation\": \"-0.05\"}, {\"variable\": \"total_population\", \"variable2\": \"bea_number_of_people\", \"correlation\": \"1.00\"}, {\"variable\": \"total_population\", \"variable2\": \"total_population\", \"correlation\": \"1.00\"}]}}, {\"mode\": \"vega-lite\"});\n</script>",
      "text/plain": "alt.LayerChart(...)"
     },
     "metadata": {}
    }
   ]
  },
  {
   "cell_type": "markdown",
   "source": "Here we see the highest predictors of inflow and outflow. It looks like a higher population indicates both a higher inflow and a higher outflow. As you can see, both inflow and outflow are highly correlated with each other and population. \n\nThere is also a slight correlation between the percentage of the population who owns property in the county. It looks like more people are moving into places with high ownership and out of places with lower ownership. That said, these correlations are very small. We also see that if the county has a greater proportion of white people, it is less likely to have people coming in and out of the county. This indicates that white communities in California are less transient.\n\nWe also see a positive correlation between the proportion of people renting and inflow/outflow. It looks like counties with higher proportions of renters imply that the communities are more transient. This is understandable.\n\nThere is also a positive correlation between both costal areas and hispanic populations. This indicates that costal parts of California have both higher populations and more transient populations. We also see that a larger hispanic population indiciates a higher inflow/outflow. ",
   "metadata": {
    "cell_id": "db95b029-0ff5-40d6-aff6-23807afaaabf",
    "tags": [],
    "deepnote_cell_type": "markdown"
   }
  },
  {
   "cell_type": "markdown",
   "source": "<a style='text-decoration:none;line-height:16px;display:flex;color:#5B5B62;padding:10px;justify-content:end;' href='https://deepnote.com?utm_source=created-in-deepnote-cell&projectId=f6c76417-5fde-42f3-8920-755838dec3fa' target=\"_blank\">\n<img alt='Created in deepnote.com' style='display:inline;max-height:16px;margin:0px;margin-right:7.5px;' src='data:image/svg+xml;base64,PD94bWwgdmVyc2lvbj0iMS4wIiBlbmNvZGluZz0iVVRGLTgiPz4KPHN2ZyB3aWR0aD0iODBweCIgaGVpZ2h0PSI4MHB4IiB2aWV3Qm94PSIwIDAgODAgODAiIHZlcnNpb249IjEuMSIgeG1sbnM9Imh0dHA6Ly93d3cudzMub3JnLzIwMDAvc3ZnIiB4bWxuczp4bGluaz0iaHR0cDovL3d3dy53My5vcmcvMTk5OS94bGluayI+CiAgICA8IS0tIEdlbmVyYXRvcjogU2tldGNoIDU0LjEgKDc2NDkwKSAtIGh0dHBzOi8vc2tldGNoYXBwLmNvbSAtLT4KICAgIDx0aXRsZT5Hcm91cCAzPC90aXRsZT4KICAgIDxkZXNjPkNyZWF0ZWQgd2l0aCBTa2V0Y2guPC9kZXNjPgogICAgPGcgaWQ9IkxhbmRpbmciIHN0cm9rZT0ibm9uZSIgc3Ryb2tlLXdpZHRoPSIxIiBmaWxsPSJub25lIiBmaWxsLXJ1bGU9ImV2ZW5vZGQiPgogICAgICAgIDxnIGlkPSJBcnRib2FyZCIgdHJhbnNmb3JtPSJ0cmFuc2xhdGUoLTEyMzUuMDAwMDAwLCAtNzkuMDAwMDAwKSI+CiAgICAgICAgICAgIDxnIGlkPSJHcm91cC0zIiB0cmFuc2Zvcm09InRyYW5zbGF0ZSgxMjM1LjAwMDAwMCwgNzkuMDAwMDAwKSI+CiAgICAgICAgICAgICAgICA8cG9seWdvbiBpZD0iUGF0aC0yMCIgZmlsbD0iIzAyNjVCNCIgcG9pbnRzPSIyLjM3NjIzNzYyIDgwIDM4LjA0NzY2NjcgODAgNTcuODIxNzgyMiA3My44MDU3NTkyIDU3LjgyMTc4MjIgMzIuNzU5MjczOSAzOS4xNDAyMjc4IDMxLjY4MzE2ODMiPjwvcG9seWdvbj4KICAgICAgICAgICAgICAgIDxwYXRoIGQ9Ik0zNS4wMDc3MTgsODAgQzQyLjkwNjIwMDcsNzYuNDU0OTM1OCA0Ny41NjQ5MTY3LDcxLjU0MjI2NzEgNDguOTgzODY2LDY1LjI2MTk5MzkgQzUxLjExMjI4OTksNTUuODQxNTg0MiA0MS42NzcxNzk1LDQ5LjIxMjIyODQgMjUuNjIzOTg0Niw0OS4yMTIyMjg0IEMyNS40ODQ5Mjg5LDQ5LjEyNjg0NDggMjkuODI2MTI5Niw0My4yODM4MjQ4IDM4LjY0NzU4NjksMzEuNjgzMTY4MyBMNzIuODcxMjg3MSwzMi41NTQ0MjUgTDY1LjI4MDk3Myw2Ny42NzYzNDIxIEw1MS4xMTIyODk5LDc3LjM3NjE0NCBMMzUuMDA3NzE4LDgwIFoiIGlkPSJQYXRoLTIyIiBmaWxsPSIjMDAyODY4Ij48L3BhdGg+CiAgICAgICAgICAgICAgICA8cGF0aCBkPSJNMCwzNy43MzA0NDA1IEwyNy4xMTQ1MzcsMC4yNTcxMTE0MzYgQzYyLjM3MTUxMjMsLTEuOTkwNzE3MDEgODAsMTAuNTAwMzkyNyA4MCwzNy43MzA0NDA1IEM4MCw2NC45NjA0ODgyIDY0Ljc3NjUwMzgsNzkuMDUwMzQxNCAzNC4zMjk1MTEzLDgwIEM0Ny4wNTUzNDg5LDc3LjU2NzA4MDggNTMuNDE4MjY3Nyw3MC4zMTM2MTAzIDUzLjQxODI2NzcsNTguMjM5NTg4NSBDNTMuNDE4MjY3Nyw0MC4xMjg1NTU3IDM2LjMwMzk1NDQsMzcuNzMwNDQwNSAyNS4yMjc0MTcsMzcuNzMwNDQwNSBDMTcuODQzMDU4NiwzNy43MzA0NDA1IDkuNDMzOTE5NjYsMzcuNzMwNDQwNSAwLDM3LjczMDQ0MDUgWiIgaWQ9IlBhdGgtMTkiIGZpbGw9IiMzNzkzRUYiPjwvcGF0aD4KICAgICAgICAgICAgPC9nPgogICAgICAgIDwvZz4KICAgIDwvZz4KPC9zdmc+' > </img>\nCreated in <span style='font-weight:600;margin-left:4px;'>Deepnote</span></a>",
   "metadata": {
    "tags": [],
    "created_in_deepnote_cell": true,
    "deepnote_cell_type": "markdown"
   }
  }
 ],
 "nbformat": 4,
 "nbformat_minor": 2,
 "metadata": {
  "orig_nbformat": 2,
  "deepnote": {
   "is_reactive": false
  },
  "deepnote_notebook_id": "0158c100-5f35-49cf-9c81-480322bd7d4f",
  "deepnote_execution_queue": []
 }
}