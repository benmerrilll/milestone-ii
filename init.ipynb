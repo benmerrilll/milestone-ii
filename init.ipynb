{
 "cells": [
  {
   "cell_type": "markdown",
   "source": "## Initialization Notebook\nThis is your initialization notebook.\n\n**What's this for?**\n\nYou can put custom code you want us to run every time we setup your environment in here. \n\n**Awesome! Anything I should not put in here?**\n\nPlease don't install `jupyter` or `jedi` packages, they would break your Deepnote environment. Also, no need to put `!pip install`s here, we already save those automatically!\n\n**I want to learn more!**\n\nGreat! Just [head over to our docs](https://docs.deepnote.com/environment/custom-initialization).",
   "metadata": {
    "tags": [],
    "cell_id": "00000-2f96cf7e-28a2-4238-b0f9-89699fa6e116",
    "deepnote_cell_type": "markdown"
   }
  },
  {
   "cell_type": "code",
   "metadata": {
    "tags": [],
    "cell_id": "00001-4e741777-3749-46c7-a800-b3d5b99c85a1",
    "deepnote_to_be_reexecuted": false,
    "source_hash": "60b37886",
    "execution_start": 1643558867594,
    "execution_millis": 9257,
    "deepnote_cell_type": "code"
   },
   "source": "%%bash\n# If your project has a 'requirements.txt' file, we'll install it here apart from blacklisted packages that interfere with Deepnote (see above).\nif test -f requirements.txt\n  then\n    sed -i '/jedi/d;/jupyter/d;' ./requirements.txt\n    pip install -r ./requirements.txt\n  else echo \"There's no requirements.txt, so nothing to install. This is the case with most projects.\"\nfi",
   "outputs": [
    {
     "name": "stdout",
     "text": "Collecting datacommons\n  Downloading datacommons-1.4.3-py3-none-any.whl (46 kB)\nCollecting xlrd\n  Downloading xlrd-2.0.1-py2.py3-none-any.whl (96 kB)\nCollecting openpyxl\n  Downloading openpyxl-3.0.9-py2.py3-none-any.whl (242 kB)\nCollecting geopandas\n  Downloading geopandas-0.10.2-py2.py3-none-any.whl (1.0 MB)\nCollecting pygeos\n  Downloading pygeos-0.12.0-cp39-cp39-manylinux_2_17_x86_64.manylinux2014_x86_64.whl (2.2 MB)\nCollecting gpdvega\n  Downloading gpdvega-0.1.1rc1-py3-none-any.whl (3.4 kB)\nRequirement already satisfied: six in /shared-libs/python3.9/py-core/lib/python3.9/site-packages (from datacommons->-r ./requirements.txt (line 1)) (1.16.0)\nCollecting et-xmlfile\n  Downloading et_xmlfile-1.1.0-py3-none-any.whl (4.7 kB)\nCollecting shapely>=1.6\n  Downloading Shapely-1.8.0-cp39-cp39-manylinux_2_5_x86_64.manylinux1_x86_64.whl (1.1 MB)\nRequirement already satisfied: fiona>=1.8 in /shared-libs/python3.9/py/lib/python3.9/site-packages (from geopandas->-r ./requirements.txt (line 8)) (1.8.20)\nCollecting pyproj>=2.2.0\n  Downloading pyproj-3.3.0-cp39-cp39-manylinux_2_12_x86_64.manylinux2010_x86_64.whl (5.8 MB)\nRequirement already satisfied: pandas>=0.25.0 in /shared-libs/python3.9/py/lib/python3.9/site-packages (from geopandas->-r ./requirements.txt (line 8)) (1.2.5)\nRequirement already satisfied: numpy>=1.13 in /shared-libs/python3.9/py/lib/python3.9/site-packages (from pygeos->-r ./requirements.txt (line 9)) (1.21.4)\nRequirement already satisfied: altair in /shared-libs/python3.9/py/lib/python3.9/site-packages (from gpdvega->-r ./requirements.txt (line 10)) (4.1.0)\nRequirement already satisfied: certifi in /shared-libs/python3.9/py/lib/python3.9/site-packages (from fiona>=1.8->geopandas->-r ./requirements.txt (line 8)) (2021.10.8)\nRequirement already satisfied: click-plugins>=1.0 in /shared-libs/python3.9/py/lib/python3.9/site-packages (from fiona>=1.8->geopandas->-r ./requirements.txt (line 8)) (1.1.1)\nRequirement already satisfied: cligj>=0.5 in /shared-libs/python3.9/py/lib/python3.9/site-packages (from fiona>=1.8->geopandas->-r ./requirements.txt (line 8)) (0.7.2)\nRequirement already satisfied: click>=4.0 in /shared-libs/python3.9/py/lib/python3.9/site-packages (from fiona>=1.8->geopandas->-r ./requirements.txt (line 8)) (8.0.3)\nRequirement already satisfied: setuptools in /root/venv/lib/python3.9/site-packages (from fiona>=1.8->geopandas->-r ./requirements.txt (line 8)) (57.4.0)\nRequirement already satisfied: munch in /shared-libs/python3.9/py/lib/python3.9/site-packages (from fiona>=1.8->geopandas->-r ./requirements.txt (line 8)) (2.5.0)\nRequirement already satisfied: attrs>=17 in /shared-libs/python3.9/py-core/lib/python3.9/site-packages (from fiona>=1.8->geopandas->-r ./requirements.txt (line 8)) (21.2.0)\nRequirement already satisfied: python-dateutil>=2.7.3 in /shared-libs/python3.9/py-core/lib/python3.9/site-packages (from pandas>=0.25.0->geopandas->-r ./requirements.txt (line 8)) (2.8.2)\nRequirement already satisfied: pytz>=2017.3 in /shared-libs/python3.9/py/lib/python3.9/site-packages (from pandas>=0.25.0->geopandas->-r ./requirements.txt (line 8)) (2021.3)\nRequirement already satisfied: jinja2 in /shared-libs/python3.9/py-core/lib/python3.9/site-packages (from altair->gpdvega->-r ./requirements.txt (line 10)) (3.0.3)\nRequirement already satisfied: entrypoints in /shared-libs/python3.9/py-core/lib/python3.9/site-packages (from altair->gpdvega->-r ./requirements.txt (line 10)) (0.3)\nRequirement already satisfied: toolz in /shared-libs/python3.9/py/lib/python3.9/site-packages (from altair->gpdvega->-r ./requirements.txt (line 10)) (0.11.2)\nRequirement already satisfied: jsonschema in /shared-libs/python3.9/py-core/lib/python3.9/site-packages (from altair->gpdvega->-r ./requirements.txt (line 10)) (3.2.0)\nRequirement already satisfied: MarkupSafe>=2.0 in /shared-libs/python3.9/py-core/lib/python3.9/site-packages (from jinja2->altair->gpdvega->-r ./requirements.txt (line 10)) (2.0.1)\nRequirement already satisfied: pyrsistent>=0.14.0 in /shared-libs/python3.9/py-core/lib/python3.9/site-packages (from jsonschema->altair->gpdvega->-r ./requirements.txt (line 10)) (0.18.0)\nInstalling collected packages: shapely, pyproj, geopandas, et-xmlfile, xlrd, pygeos, openpyxl, gpdvega, datacommons\nSuccessfully installed datacommons-1.4.3 et-xmlfile-1.1.0 geopandas-0.10.2 gpdvega-0.1.1rc1 openpyxl-3.0.9 pygeos-0.12.0 pyproj-3.3.0 shapely-1.8.0 xlrd-2.0.1\nWARNING: You are using pip version 21.2.3; however, version 22.0 is available.\nYou should consider upgrading via the '/root/venv/bin/python -m pip install --upgrade pip' command.\n",
     "output_type": "stream"
    }
   ],
   "execution_count": null
  },
  {
   "cell_type": "markdown",
   "source": "<a style='text-decoration:none;line-height:16px;display:flex;color:#5B5B62;padding:10px;justify-content:end;' href='https://deepnote.com?utm_source=created-in-deepnote-cell&projectId=f6c76417-5fde-42f3-8920-755838dec3fa' target=\"_blank\">\n<img alt='Created in deepnote.com' style='display:inline;max-height:16px;margin:0px;margin-right:7.5px;' src='data:image/svg+xml;base64,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' > </img>\nCreated in <span style='font-weight:600;margin-left:4px;'>Deepnote</span></a>",
   "metadata": {
    "tags": [],
    "created_in_deepnote_cell": true,
    "deepnote_cell_type": "markdown"
   }
  }
 ],
 "nbformat": 4,
 "nbformat_minor": 2,
 "metadata": {
  "orig_nbformat": 2,
  "deepnote": {
   "is_reactive": false
  },
  "deepnote_notebook_id": "13f36263-f2ed-4bcc-afd5-d48d0fdaf9f1",
  "deepnote_execution_queue": []
 }
}