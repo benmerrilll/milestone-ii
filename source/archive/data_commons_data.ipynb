{
 "cells": [
  {
   "cell_type": "code",
   "metadata": {
    "tags": [],
    "cell_id": "00001-6b18d439-ee9a-4f24-852d-2c0556b05983",
    "deepnote_to_be_reexecuted": false,
    "source_hash": "ca8912da",
    "execution_start": 1640040918040,
    "execution_millis": 2485,
    "deepnote_cell_type": "code"
   },
   "source": "# Import the Data Commons Pandas library\nimport datacommons_pandas as dc\n\n# Import other libraries\nimport pandas as pd\nimport matplotlib.pyplot as plt\nimport numpy as np",
   "outputs": [],
   "execution_count": null
  },
  {
   "cell_type": "markdown",
   "source": "Here's a list of variables pulled and their sources: \n\nHOUSING - https://docs.datacommons.org/statistical_variables.html\n\n'Count_HousingUnit_OccupiedHousingUnit',\n'Count_HousingUnit_VacantHousingUnit',\n'Count_HousingUnit_OwnerOccupied',\n'Count_HousingUnit_RenterOccupied'",
   "metadata": {
    "tags": [],
    "cell_id": "00001-589597c5-b11c-4f30-bf63-9a81243dd8ab",
    "deepnote_cell_type": "markdown"
   }
  },
  {
   "cell_type": "code",
   "metadata": {
    "tags": [],
    "cell_id": "00001-463a7149-d2b9-4637-8c21-f5f194a6c398",
    "deepnote_to_be_reexecuted": false,
    "source_hash": "b7d0bf00",
    "execution_start": 1640041743053,
    "execution_millis": 7492,
    "deepnote_output_heights": [
     21.1875
    ],
    "deepnote_table_state": {
     "pageSize": 10,
     "pageIndex": 0,
     "filters": [],
     "sortBy": [
      {
       "id": "Median_Age_Person",
       "type": "asc"
      }
     ]
    },
    "deepnote_table_loading": false,
    "deepnote_cell_type": "code"
   },
   "source": "# Use this code to start https://github.com/datacommonsorg/api-python/blob/master/notebooks/analyzing_census_data.ipynb\n\nusa = 'country/USA' \ncounties = dc.get_places_in([usa], 'County')[usa] #creates a list of geoids for all US counties\n\nlen(counties) #this is the number of counties 3,227\n\ndf_county = dc.build_multivariate_dataframe(counties, ['Count_Person', 'Median_Age_Person', \n'Count_HousingUnit_OccupiedHousingUnit',\n'Count_HousingUnit_VacantHousingUnit',\n'Count_HousingUnit_OwnerOccupied',\n'Count_HousingUnit_RenterOccupied']) #create dataframe with these values for all counties\n\n\ndef add_name_col(df):\n  # Add a new column called name, where each value is the name for the place dcid in the index.\n  df['name'] = df.index.map(dc.get_property_values(df.index, 'name'))\n  \n  # Keep just the first name, instead of a list of all names.\n  df['name'] = df['name'].str[0]\n\nadd_name_col(df_county)\n\ndf_county.head()",
   "outputs": [
    {
     "output_type": "execute_result",
     "execution_count": 14,
     "data": {
      "application/vnd.deepnote.dataframe.v3+json": {
       "column_count": 7,
       "row_count": 5,
       "columns": [
        {
         "name": "Count_Person",
         "dtype": "int64",
         "stats": {
          "unique_count": 5,
          "nan_count": 0,
          "min": "22293",
          "max": "231767",
          "histogram": [
           {
            "bin_start": 22293,
            "bin_end": 43240.4,
            "count": 2
           },
           {
            "bin_start": 43240.4,
            "bin_end": 64187.8,
            "count": 2
           },
           {
            "bin_start": 64187.8,
            "bin_end": 85135.20000000001,
            "count": 0
           },
           {
            "bin_start": 85135.20000000001,
            "bin_end": 106082.6,
            "count": 0
           },
           {
            "bin_start": 106082.6,
            "bin_end": 127030,
            "count": 0
           },
           {
            "bin_start": 127030,
            "bin_end": 147977.40000000002,
            "count": 0
           },
           {
            "bin_start": 147977.40000000002,
            "bin_end": 168924.80000000002,
            "count": 0
           },
           {
            "bin_start": 168924.80000000002,
            "bin_end": 189872.2,
            "count": 0
           },
           {
            "bin_start": 189872.2,
            "bin_end": 210819.6,
            "count": 0
           },
           {
            "bin_start": 210819.6,
            "bin_end": 231767,
            "count": 1
           }
          ]
         }
        },
        {
         "name": "Median_Age_Person",
         "dtype": "float64",
         "stats": {
          "unique_count": 5,
          "nan_count": 0,
          "min": "38.2",
          "max": "43.0",
          "histogram": [
           {
            "bin_start": 38.2,
            "bin_end": 38.68,
            "count": 1
           },
           {
            "bin_start": 38.68,
            "bin_end": 39.160000000000004,
            "count": 0
           },
           {
            "bin_start": 39.160000000000004,
            "bin_end": 39.64,
            "count": 0
           },
           {
            "bin_start": 39.64,
            "bin_end": 40.120000000000005,
            "count": 0
           },
           {
            "bin_start": 40.120000000000005,
            "bin_end": 40.6,
            "count": 1
           },
           {
            "bin_start": 40.6,
            "bin_end": 41.08,
            "count": 2
           },
           {
            "bin_start": 41.08,
            "bin_end": 41.56,
            "count": 0
           },
           {
            "bin_start": 41.56,
            "bin_end": 42.04,
            "count": 0
           },
           {
            "bin_start": 42.04,
            "bin_end": 42.52,
            "count": 0
           },
           {
            "bin_start": 42.52,
            "bin_end": 43,
            "count": 1
           }
          ]
         }
        },
        {
         "name": "Count_HousingUnit_OccupiedHousingUnit",
         "dtype": "float64",
         "stats": {
          "unique_count": 5,
          "nan_count": 0,
          "min": "7927.0",
          "max": "93116.0",
          "histogram": [
           {
            "bin_start": 7927,
            "bin_end": 16445.9,
            "count": 2
           },
           {
            "bin_start": 16445.9,
            "bin_end": 24964.8,
            "count": 2
           },
           {
            "bin_start": 24964.8,
            "bin_end": 33483.7,
            "count": 0
           },
           {
            "bin_start": 33483.7,
            "bin_end": 42002.6,
            "count": 0
           },
           {
            "bin_start": 42002.6,
            "bin_end": 50521.5,
            "count": 0
           },
           {
            "bin_start": 50521.5,
            "bin_end": 59040.399999999994,
            "count": 0
           },
           {
            "bin_start": 59040.399999999994,
            "bin_end": 67559.29999999999,
            "count": 0
           },
           {
            "bin_start": 67559.29999999999,
            "bin_end": 76078.2,
            "count": 0
           },
           {
            "bin_start": 76078.2,
            "bin_end": 84597.09999999999,
            "count": 0
           },
           {
            "bin_start": 84597.09999999999,
            "bin_end": 93116,
            "count": 1
           }
          ]
         }
        },
        {
         "name": "Count_HousingUnit_VacantHousingUnit",
         "dtype": "float64",
         "stats": {
          "unique_count": 5,
          "nan_count": 0,
          "min": "1075.0",
          "max": "31032.0",
          "histogram": [
           {
            "bin_start": 1075,
            "bin_end": 4070.7,
            "count": 4
           },
           {
            "bin_start": 4070.7,
            "bin_end": 7066.4,
            "count": 0
           },
           {
            "bin_start": 7066.4,
            "bin_end": 10062.099999999999,
            "count": 0
           },
           {
            "bin_start": 10062.099999999999,
            "bin_end": 13057.8,
            "count": 0
           },
           {
            "bin_start": 13057.8,
            "bin_end": 16053.5,
            "count": 0
           },
           {
            "bin_start": 16053.5,
            "bin_end": 19049.199999999997,
            "count": 0
           },
           {
            "bin_start": 19049.199999999997,
            "bin_end": 22044.899999999998,
            "count": 0
           },
           {
            "bin_start": 22044.899999999998,
            "bin_end": 25040.6,
            "count": 0
           },
           {
            "bin_start": 25040.6,
            "bin_end": 28036.3,
            "count": 0
           },
           {
            "bin_start": 28036.3,
            "bin_end": 31032,
            "count": 1
           }
          ]
         }
        },
        {
         "name": "Count_HousingUnit_OwnerOccupied",
         "dtype": "float64",
         "stats": {
          "unique_count": 5,
          "nan_count": 0,
          "min": "5128.0",
          "max": "60896.0",
          "histogram": [
           {
            "bin_start": 5128,
            "bin_end": 10704.8,
            "count": 2
           },
           {
            "bin_start": 10704.8,
            "bin_end": 16281.6,
            "count": 1
           },
           {
            "bin_start": 16281.6,
            "bin_end": 21858.4,
            "count": 1
           },
           {
            "bin_start": 21858.4,
            "bin_end": 27435.2,
            "count": 0
           },
           {
            "bin_start": 27435.2,
            "bin_end": 33012,
            "count": 0
           },
           {
            "bin_start": 33012,
            "bin_end": 38588.8,
            "count": 0
           },
           {
            "bin_start": 38588.8,
            "bin_end": 44165.6,
            "count": 0
           },
           {
            "bin_start": 44165.6,
            "bin_end": 49742.4,
            "count": 0
           },
           {
            "bin_start": 49742.4,
            "bin_end": 55319.200000000004,
            "count": 0
           },
           {
            "bin_start": 55319.200000000004,
            "bin_end": 60896,
            "count": 1
           }
          ]
         }
        },
        {
         "name": "Count_HousingUnit_RenterOccupied",
         "dtype": "float64",
         "stats": {
          "unique_count": 5,
          "nan_count": 0,
          "min": "1763.0",
          "max": "20034.0",
          "histogram": [
           {
            "bin_start": 1763,
            "bin_end": 3590.1,
            "count": 1
           },
           {
            "bin_start": 3590.1,
            "bin_end": 5417.2,
            "count": 2
           },
           {
            "bin_start": 5417.2,
            "bin_end": 7244.299999999999,
            "count": 1
           },
           {
            "bin_start": 7244.299999999999,
            "bin_end": 9071.4,
            "count": 0
           },
           {
            "bin_start": 9071.4,
            "bin_end": 10898.5,
            "count": 0
           },
           {
            "bin_start": 10898.5,
            "bin_end": 12725.599999999999,
            "count": 0
           },
           {
            "bin_start": 12725.599999999999,
            "bin_end": 14552.699999999999,
            "count": 0
           },
           {
            "bin_start": 14552.699999999999,
            "bin_end": 16379.8,
            "count": 0
           },
           {
            "bin_start": 16379.8,
            "bin_end": 18206.899999999998,
            "count": 0
           },
           {
            "bin_start": 18206.899999999998,
            "bin_end": 20034,
            "count": 1
           }
          ]
         }
        },
        {
         "name": "name",
         "dtype": "object",
         "stats": {
          "unique_count": 5,
          "nan_count": 0,
          "categories": [
           {
            "name": "Autauga County",
            "count": 1
           },
           {
            "name": "Barbour County",
            "count": 1
           },
           {
            "name": "3 others",
            "count": 3
           }
          ]
         }
        },
        {
         "name": "_deepnote_index_column",
         "dtype": "object"
        }
       ],
       "rows": [
        {
         "Count_Person": 58805,
         "Median_Age_Person": 38.2,
         "Count_HousingUnit_OccupiedHousingUnit": 22412,
         "Count_HousingUnit_VacantHousingUnit": 1938,
         "Count_HousingUnit_OwnerOccupied": 15682,
         "Count_HousingUnit_RenterOccupied": 5715,
         "name": "Autauga County",
         "_deepnote_index_column": "geoId/01001"
        },
        {
         "Count_Person": 25223,
         "Median_Age_Person": 40.4,
         "Count_HousingUnit_OccupiedHousingUnit": 9677,
         "Count_HousingUnit_VacantHousingUnit": 1941,
         "Count_HousingUnit_OwnerOccupied": 5691,
         "Count_HousingUnit_RenterOccupied": 3654,
         "name": "Barbour County",
         "_deepnote_index_column": "geoId/01005"
        },
        {
         "Count_Person": 59134,
         "Median_Age_Person": 40.7,
         "Count_HousingUnit_OccupiedHousingUnit": 22367,
         "Count_HousingUnit_VacantHousingUnit": 2255,
         "Count_HousingUnit_OwnerOccupied": 16423,
         "Count_HousingUnit_RenterOccupied": 4424,
         "name": "Blount County",
         "_deepnote_index_column": "geoId/01009"
        },
        {
         "Count_Person": 22293,
         "Median_Age_Person": 40.9,
         "Count_HousingUnit_OccupiedHousingUnit": 7927,
         "Count_HousingUnit_VacantHousingUnit": 1075,
         "Count_HousingUnit_OwnerOccupied": 5128,
         "Count_HousingUnit_RenterOccupied": 1763,
         "name": "Bibb County",
         "_deepnote_index_column": "geoId/01007"
        },
        {
         "Count_Person": 231767,
         "Median_Age_Person": 43,
         "Count_HousingUnit_OccupiedHousingUnit": 93116,
         "Count_HousingUnit_VacantHousingUnit": 31032,
         "Count_HousingUnit_OwnerOccupied": 60896,
         "Count_HousingUnit_RenterOccupied": 20034,
         "name": "Baldwin County",
         "_deepnote_index_column": "geoId/01003"
        }
       ]
      },
      "text/plain": "             Count_Person  Median_Age_Person  \\\nplace                                          \ngeoId/01001         58805               38.2   \ngeoId/01003        231767               43.0   \ngeoId/01005         25223               40.4   \ngeoId/01007         22293               40.9   \ngeoId/01009         59134               40.7   \n\n             Count_HousingUnit_OccupiedHousingUnit  \\\nplace                                                \ngeoId/01001                                22412.0   \ngeoId/01003                                93116.0   \ngeoId/01005                                 9677.0   \ngeoId/01007                                 7927.0   \ngeoId/01009                                22367.0   \n\n             Count_HousingUnit_VacantHousingUnit  \\\nplace                                              \ngeoId/01001                               1938.0   \ngeoId/01003                              31032.0   \ngeoId/01005                               1941.0   \ngeoId/01007                               1075.0   \ngeoId/01009                               2255.0   \n\n             Count_HousingUnit_OwnerOccupied  \\\nplace                                          \ngeoId/01001                          15682.0   \ngeoId/01003                          60896.0   \ngeoId/01005                           5691.0   \ngeoId/01007                           5128.0   \ngeoId/01009                          16423.0   \n\n             Count_HousingUnit_RenterOccupied            name  \nplace                                                          \ngeoId/01001                            5715.0  Autauga County  \ngeoId/01003                           20034.0  Baldwin County  \ngeoId/01005                            3654.0  Barbour County  \ngeoId/01007                            1763.0     Bibb County  \ngeoId/01009                            4424.0   Blount County  ",
      "text/html": "<div>\n<style scoped>\n    .dataframe tbody tr th:only-of-type {\n        vertical-align: middle;\n    }\n\n    .dataframe tbody tr th {\n        vertical-align: top;\n    }\n\n    .dataframe thead th {\n        text-align: right;\n    }\n</style>\n<table border=\"1\" class=\"dataframe\">\n  <thead>\n    <tr style=\"text-align: right;\">\n      <th></th>\n      <th>Count_Person</th>\n      <th>Median_Age_Person</th>\n      <th>Count_HousingUnit_OccupiedHousingUnit</th>\n      <th>Count_HousingUnit_VacantHousingUnit</th>\n      <th>Count_HousingUnit_OwnerOccupied</th>\n      <th>Count_HousingUnit_RenterOccupied</th>\n      <th>name</th>\n    </tr>\n    <tr>\n      <th>place</th>\n      <th></th>\n      <th></th>\n      <th></th>\n      <th></th>\n      <th></th>\n      <th></th>\n      <th></th>\n    </tr>\n  </thead>\n  <tbody>\n    <tr>\n      <th>geoId/01001</th>\n      <td>58805</td>\n      <td>38.2</td>\n      <td>22412.0</td>\n      <td>1938.0</td>\n      <td>15682.0</td>\n      <td>5715.0</td>\n      <td>Autauga County</td>\n    </tr>\n    <tr>\n      <th>geoId/01003</th>\n      <td>231767</td>\n      <td>43.0</td>\n      <td>93116.0</td>\n      <td>31032.0</td>\n      <td>60896.0</td>\n      <td>20034.0</td>\n      <td>Baldwin County</td>\n    </tr>\n    <tr>\n      <th>geoId/01005</th>\n      <td>25223</td>\n      <td>40.4</td>\n      <td>9677.0</td>\n      <td>1941.0</td>\n      <td>5691.0</td>\n      <td>3654.0</td>\n      <td>Barbour County</td>\n    </tr>\n    <tr>\n      <th>geoId/01007</th>\n      <td>22293</td>\n      <td>40.9</td>\n      <td>7927.0</td>\n      <td>1075.0</td>\n      <td>5128.0</td>\n      <td>1763.0</td>\n      <td>Bibb County</td>\n    </tr>\n    <tr>\n      <th>geoId/01009</th>\n      <td>59134</td>\n      <td>40.7</td>\n      <td>22367.0</td>\n      <td>2255.0</td>\n      <td>16423.0</td>\n      <td>4424.0</td>\n      <td>Blount County</td>\n    </tr>\n  </tbody>\n</table>\n</div>"
     },
     "metadata": {}
    }
   ],
   "execution_count": null
  },
  {
   "cell_type": "code",
   "metadata": {
    "tags": [],
    "cell_id": "00003-85eb0a1d-6702-4379-a7ed-b785888c9a43",
    "deepnote_to_be_reexecuted": false,
    "source_hash": "e9931821",
    "execution_start": 1640889733982,
    "execution_millis": 1,
    "deepnote_output_heights": [
     366.5625
    ],
    "deepnote_cell_type": "code"
   },
   "source": "#dc.get_stat_series(counties, \"Count_Death\", observation_period=\"P1Y\")\n\n",
   "outputs": [],
   "execution_count": null
  },
  {
   "cell_type": "markdown",
   "source": "<a style='text-decoration:none;line-height:16px;display:flex;color:#5B5B62;padding:10px;justify-content:end;' href='https://deepnote.com?utm_source=created-in-deepnote-cell&projectId=f6c76417-5fde-42f3-8920-755838dec3fa' target=\"_blank\">\n<img alt='Created in deepnote.com' style='display:inline;max-height:16px;margin:0px;margin-right:7.5px;' src='data:image/svg+xml;base64,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' > </img>\nCreated in <span style='font-weight:600;margin-left:4px;'>Deepnote</span></a>",
   "metadata": {
    "tags": [],
    "created_in_deepnote_cell": true,
    "deepnote_cell_type": "markdown"
   }
  }
 ],
 "nbformat": 4,
 "nbformat_minor": 2,
 "metadata": {
  "orig_nbformat": 2,
  "deepnote": {
   "is_reactive": false
  },
  "deepnote_notebook_id": "a91b465a-acb0-4ff2-9d0e-ae167cf7c9f0",
  "deepnote_execution_queue": []
 }
}
