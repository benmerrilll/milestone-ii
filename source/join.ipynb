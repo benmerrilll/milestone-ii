{
 "cells": [
  {
   "cell_type": "markdown",
   "source": "### Join all files on county, state, and year",
   "metadata": {
    "tags": [],
    "is_collapsed": false,
    "cell_id": "00001-b01023cb-8ab9-405d-88f1-3b51a6dfed3d",
    "deepnote_cell_type": "text-cell-h3"
   }
  },
  {
   "cell_type": "markdown",
   "source": "I joined crime, fema, acs, inflow and outflow data on county, state and year. Here's next steps: 1. sanity check to make sure that these look like they're joined properly. 2. check on inflow/outflow conflicting dates. 3. normalize data (crime rate per 100,000) 4. figure out strategy for imputing missing values for crime data and other data",
   "metadata": {
    "tags": [],
    "is_collapsed": false,
    "cell_id": "00001-926f9076-07ee-453b-9c3e-007e035ae8d5",
    "deepnote_cell_type": "text-cell-p"
   }
  },
  {
   "cell_type": "code",
   "metadata": {
    "tags": [],
    "cell_id": "00002-92d180b7-2044-4c4b-ab8e-39b8e367529a",
    "deepnote_to_be_reexecuted": false,
    "source_hash": "9b82ee11",
    "execution_start": 1643551404003,
    "execution_millis": 1,
    "deepnote_cell_type": "code"
   },
   "source": "import pandas as pd",
   "outputs": [],
   "execution_count": null
  },
  {
   "cell_type": "code",
   "metadata": {
    "tags": [],
    "cell_id": "00003-a4cb0cef-9e51-445d-9250-02d27975bfe6",
    "deepnote_to_be_reexecuted": false,
    "source_hash": "9144f8b9",
    "execution_start": 1643551404022,
    "execution_millis": 243,
    "deepnote_cell_type": "code"
   },
   "source": "\nca_voter = pd.read_csv('/work/cleaned-csvs/ca_voter_reg_2014_2019.csv')\nca_weather = pd.read_csv('/work/cleaned-csvs/ca_weather.csv')\nca_economy = pd.read_csv('/work/cleaned-csvs/ca_economy.csv')\nca_school_expend = pd.read_csv('/work/cleaned-csvs/ca_school_expenditure.csv')\nca_crime = pd.read_csv('/work/cleaned-csvs/ca_crime.csv')\n\nacs = pd.read_csv('/work/cleaned-csvs/acs.csv')\nfema = pd.read_csv('/work/cleaned-csvs/fema.csv')\nirs = pd.read_csv('/work/cleaned-csvs/irs_in_out')\nposition = pd.read_csv('/work/cleaned-csvs/position.csv')\nmapper = pd.read_csv('/work/cleaned-csvs/us_counties.csv')\n\n# Note: This file was created manually using data from https://en.wikipedia.org/wiki/Coastal_California\n# It identifies if the county is on the coast \nca_coastal = pd.read_csv('/work/assets/ca_coastal.csv',usecols=[0,1])",
   "outputs": [],
   "execution_count": null
  },
  {
   "cell_type": "markdown",
   "source": "### Check For Missing Data",
   "metadata": {
    "tags": [],
    "is_collapsed": false,
    "cell_id": "00001-b53af7ef-02fe-43d6-90a3-877443be63b5",
    "deepnote_cell_type": "text-cell-h3"
   }
  },
  {
   "cell_type": "code",
   "metadata": {
    "tags": [],
    "cell_id": "00005-2db332b3-ff80-45e6-996b-d4aba8f55600",
    "deepnote_to_be_reexecuted": false,
    "source_hash": "5141dcf2",
    "execution_start": 1643551404271,
    "execution_millis": 65,
    "deepnote_output_heights": [
     21.1875
    ],
    "deepnote_cell_type": "code"
   },
   "source": "#Check for missing data in inflow/outflow\nunique_state_county_irs = len((irs['countyfips'].astype(str) + irs['statename']).value_counts())\nprint('irs years: ',irs['year'].unique())\n\nprint('Unique state/county values in irs: ',unique_state_county_irs)\n\nnum_years_irs = irs['year'].nunique()\n\n\nprint('Should have {} rows in irs'.format(num_years_irs * unique_state_county_irs))\nprint('Actual irs #rows: ',len(irs))\nprint('Missing {} rows in irs'.format(num_years_irs * unique_state_county_irs - len(irs)))\n",
   "outputs": [
    {
     "name": "stdout",
     "text": "irs years:  [2014 2015 2016 2017 2018 2019]\nUnique state/county values in irs:  3141\nShould have 18846 rows in irs\nActual irs #rows:  18772\nMissing 74 rows in irs\n",
     "output_type": "stream"
    }
   ],
   "execution_count": null
  },
  {
   "cell_type": "code",
   "metadata": {
    "tags": [],
    "cell_id": "00006-8ef8c8f2-e4c4-483b-9188-92efc637f594",
    "deepnote_to_be_reexecuted": false,
    "source_hash": "ece93118",
    "execution_start": 1643551404335,
    "execution_millis": 104,
    "deepnote_cell_type": "code"
   },
   "source": "#Check for missing ACS data\nprint('ACS num counties: ',acs['name'].nunique())\nprint('ACS years: ',acs['year'].unique())",
   "outputs": [
    {
     "name": "stdout",
     "text": "ACS num counties:  3222\nACS years:  [2014 2015 2016 2017 2018 2019]\n",
     "output_type": "stream"
    }
   ],
   "execution_count": null
  },
  {
   "cell_type": "code",
   "metadata": {
    "tags": [],
    "cell_id": "00006-503f4f20-6517-43fe-9cf1-668449eed479",
    "deepnote_to_be_reexecuted": false,
    "source_hash": "990f9c9d",
    "execution_start": 1643551404393,
    "execution_millis": 298,
    "deepnote_cell_type": "code"
   },
   "source": "#Check for missing CA data\nca_voter['county'] = ca_voter['county'].str.lower().str.strip()\nprint('CA voter num counties: ',ca_voter['county'].nunique())\nprint('CA voter years: ',ca_voter['year'].unique())\nprint('*************')\nprint('CA weather num counties: ',ca_weather['Location'].nunique())\nprint('CA weather years: ',ca_weather['year'].unique())\nprint('*************')\nprint('CA economy num counties: ',ca_economy['GeoFIPS'].nunique())\nprint('CA economy years: ',ca_economy['year'].unique())\nprint('*************')\nprint('CA school expenditure num counties: ',ca_school_expend['county_name'].nunique())\nprint('CA school expenditure years: ',ca_school_expend['year'].unique())\nprint('*************')\nprint('CA crime num counties: ',ca_crime['county_name'].nunique())\nprint('CA crime years: ',ca_crime['year'].unique())\nprint('*************')\nprint('CA coastal num counties: ',ca_coastal['County'].nunique())\n\n",
   "outputs": [
    {
     "name": "stdout",
     "text": "CA voter num counties:  58\nCA voter years:  [2014 2015 2016 2017 2018 2019]\n*************\nCA weather num counties:  58\nCA weather years:  [2014 2015 2016 2017 2018 2019]\n*************\nCA economy num counties:  58\nCA economy years:  [2014 2015 2016 2017 2018 2019]\n*************\nCA school expenditure num counties:  58\nCA school expenditure years:  [2019 2018 2017 2016 2015 2014]\n*************\nCA crime num counties:  58\nCA crime years:  [2014 2015 2016 2017 2018 2019]\n*************\nCA coastal num counties:  58\n",
     "output_type": "stream"
    }
   ],
   "execution_count": null
  },
  {
   "cell_type": "code",
   "metadata": {
    "tags": [],
    "cell_id": "00009-b13e110e-e99e-4785-a303-6368f30184f9",
    "deepnote_to_be_reexecuted": false,
    "source_hash": "af0bff9b",
    "execution_start": 1643551404480,
    "execution_millis": 222,
    "deepnote_cell_type": "code"
   },
   "source": "#Check for missing Fema data\nprint('FEMA num counties: ',(fema['county'].astype(str) + fema['state'].astype(str)).nunique())\nprint('FEMA years: ',fema['year'].unique())\n",
   "outputs": [
    {
     "name": "stdout",
     "text": "FEMA num counties:  2565\nFEMA years:  [2016 2017 2018 2014 2019 2015]\n",
     "output_type": "stream"
    }
   ],
   "execution_count": null
  },
  {
   "cell_type": "code",
   "metadata": {
    "tags": [],
    "cell_id": "00010-d7a0da53-af01-42dc-ab59-bb58a2146583",
    "deepnote_to_be_reexecuted": false,
    "source_hash": "ddb1fbfc",
    "allow_embed": false,
    "execution_start": 1643551404481,
    "execution_millis": 221,
    "deepnote_cell_type": "code"
   },
   "source": "#Check for missing position data\nprint('Position num counties: ',(position['state'].astype(str) + position['county'].astype(str)).nunique())\n#print('Position years: ',position['year'].unique())\n",
   "outputs": [
    {
     "name": "stdout",
     "text": "Position num counties:  3126\n",
     "output_type": "stream"
    }
   ],
   "execution_count": null
  },
  {
   "cell_type": "markdown",
   "source": "### Join CA Weather, Voter, Economy, School Expenditure, Coastal , Crime and CA Codes Data",
   "metadata": {
    "tags": [],
    "is_collapsed": false,
    "cell_id": "00004-650c12be-043b-45d1-a40f-24fc51bad2ee",
    "deepnote_cell_type": "text-cell-h3"
   }
  },
  {
   "cell_type": "code",
   "metadata": {
    "tags": [],
    "cell_id": "00004-bf8a5d3e-0555-4ae6-9327-f5ef0a8a7844",
    "deepnote_to_be_reexecuted": false,
    "source_hash": "90577af6",
    "execution_start": 1643551404519,
    "execution_millis": 61,
    "deepnote_output_heights": [
     607
    ],
    "deepnote_cell_type": "code"
   },
   "source": "ca_mapper = mapper[mapper['state_name']=='california']\n\n#Prep Voter data\nca_voter['county'] = ca_voter['county'].str.lower().str.strip()\nca_voter.rename(columns={'county':'county_name'},inplace=True)\n\n#Prep School Expenditure data\nca_school_expend['county_name'] = ca_school_expend['county_name'].str.lower().str.strip()\n\n#Prep Weather data\nca_weather.rename(columns={'Location':'county_name'},inplace=True)\nca_weather['county_name'] = ca_weather['county_name'].str.lower()\nca_weather['county_name'] = ca_weather['county_name'].str.replace(' county', '')\n\n#Prep Economy data\nca_economy['county'] = ca_economy['GeoFIPS'].astype(str).str[-3:].astype('int64')\nca_economy.drop(columns='GeoFIPS',inplace=True)\n\n#Prep coastal data\nca_coastal['County'] = ca_coastal['County'].str.lower().str.strip()\nca_coastal.rename(columns={'County':'county_name'},inplace=True)\n\n#Prep crime data \nca_crime['county_name'] = ca_crime['county_name'].str.lower().str.strip()\nca_crime['county_name'] = ca_crime['county_name'].str.replace(' county', '')\n\n#Merge CA data\nca_vote_weather = pd.merge(ca_voter, ca_weather, how='left',left_on=['county_name','year'],right_on=['county_name','year'])\nca_vote_weather_school = pd.merge(ca_vote_weather, ca_school_expend, how='left',on=['county_name','year'])\n\nca_vote_weather_mapper = pd.merge(ca_vote_weather_school, ca_mapper, how='left', left_on='county_name', right_on ='county_name')\n\nca_df = pd.merge(ca_vote_weather_mapper,ca_economy, how='left',on=['county','year']) \\\n            .merge(ca_crime, how = 'left',on=['county_name','year']) \\\n            .merge(ca_coastal, how = 'left', on = 'county_name')\n\nca_df\n#Update crime fields to per capita using BEA number of people\nca_df['per_capita_num_violent_crimes'] = ca_df['num_violent_crimes']/ca_df['bea_number_of_people']\nca_df['per_capita_num_homicide'] = ca_df['num_homicide']/ca_df['bea_number_of_people']\nca_df['per_capita_num_rape'] = ca_df['num_rape']/ca_df['bea_number_of_people']\nca_df['per_capita_num_robbery'] = ca_df['num_robbery']/ca_df['bea_number_of_people']\nca_df['per_capita_num_agg_assault'] = ca_df['num_agg_assault']/ca_df['bea_number_of_people']\nca_df['per_capita_num_property_crimes'] = ca_df['num_property_crimes']/ca_df['bea_number_of_people']\nca_df['per_capita_num_burglary'] = ca_df['num_burglary']/ca_df['bea_number_of_people']\nca_df['per_capita_num_vehicle_theft'] = ca_df['num_vehicle_theft']/ca_df['bea_number_of_people']\nca_df['per_capita_num_larceny_theft'] = ca_df['num_larceny_theft']/ca_df['bea_number_of_people']\nca_df['per_capita_num_arson'] = ca_df['num_arson']/ca_df['bea_number_of_people']\n\n#Drop fields no longer needed\nca_df = ca_df.drop(columns={'num_violent_crimes','num_homicide','num_rape','num_robbery',\n                    'num_agg_assault','num_property_crimes','num_burglary','num_vehicle_theft',\n                    'num_larceny_theft','num_arson'})\n ",
   "outputs": [],
   "execution_count": null
  },
  {
   "cell_type": "code",
   "metadata": {
    "tags": [],
    "cell_id": "00006-a429e6dc-000d-43f1-a45d-d7ae5d574f94",
    "deepnote_to_be_reexecuted": false,
    "source_hash": "15a88df5",
    "execution_start": 1643551404581,
    "execution_millis": 123,
    "deepnote_output_heights": [
     21
    ],
    "deepnote_table_state": {
     "pageSize": 10,
     "pageIndex": 5,
     "filters": [],
     "sortBy": []
    },
    "deepnote_table_loading": false,
    "deepnote_cell_type": "code"
   },
   "source": "ca_df.shape",
   "outputs": [
    {
     "output_type": "execute_result",
     "execution_count": 9,
     "data": {
      "text/plain": "(348, 39)"
     },
     "metadata": {}
    }
   ],
   "execution_count": null
  },
  {
   "cell_type": "code",
   "metadata": {
    "tags": [],
    "cell_id": "00008-3ba2ad95-a69e-474a-b367-9de7dd147923",
    "deepnote_to_be_reexecuted": false,
    "source_hash": "c4d0e059",
    "execution_start": 1643551404594,
    "execution_millis": 111,
    "deepnote_output_heights": [
     611
    ],
    "deepnote_cell_type": "code"
   },
   "source": "ca_df.isna().sum()",
   "outputs": [
    {
     "output_type": "execute_result",
     "execution_count": 10,
     "data": {
      "text/plain": "county_name                           0\nyear                                  0\nregistered_pct                        0\ndemocrat_pct                          0\nrepublican_pct                        0\namerican_independent_pct              0\ngreen_pct                             0\nliberterian_pct                       0\npeace_and_freedom_pct                 0\nno_party_pct                          0\nother_party_pct                       0\nLocation ID                           0\navg_temp                              0\nmin_temp                              0\nmax_temp                              0\ntotal_precip_amt                      0\navg_daily_attendance_expense          0\nstate                                 0\ncounty                                0\nstate_name                            0\nbea_number_of_people                  0\nper_capita_personal_income            0\nper_capita_retirement_and_other       0\nper_capita_unemploy_ins_comp          0\nper_capita_curr_dollar_real_gdp       0\nper_capita_num_jobs                   0\nper_capita_farm_proprieter_jobs       0\nper_capita_nonfarm_proprieter_jobs    0\ncoastal_flag                          0\nper_capita_num_violent_crimes         0\nper_capita_num_homicide               0\nper_capita_num_rape                   0\nper_capita_num_robbery                0\nper_capita_num_agg_assault            0\nper_capita_num_property_crimes        0\nper_capita_num_burglary               0\nper_capita_num_vehicle_theft          0\nper_capita_num_larceny_theft          0\nper_capita_num_arson                  0\ndtype: int64"
     },
     "metadata": {}
    }
   ],
   "execution_count": null
  },
  {
   "cell_type": "markdown",
   "source": "### Join ACS, Crime, FEMA, Inflow, and Outflow Data",
   "metadata": {
    "tags": [],
    "is_collapsed": false,
    "cell_id": "00006-99f6b0c3-37be-49e4-9a12-7355a4433826",
    "deepnote_cell_type": "text-cell-h3"
   }
  },
  {
   "cell_type": "code",
   "metadata": {
    "tags": [],
    "cell_id": "00004-fe51bdca-b0db-4428-9a88-cf89f790ef21",
    "deepnote_to_be_reexecuted": false,
    "source_hash": "65a4bf42",
    "execution_start": 1643551404614,
    "execution_millis": 37,
    "deepnote_output_heights": [
     328.46875
    ],
    "deepnote_cell_type": "code"
   },
   "source": "acs = acs.iloc[:,1:]\n#acs.reset_index(inplace=True)\nacs = acs[acs['state'] < 60] #remove puerto rico from data\nacs.set_index(['county','state','year'],inplace = True)\n\nfema = fema.iloc[:,1:]\nfema.set_index(['county','state','year'],inplace = True)\n\ncol_dict = {'countyfips':'county','statefips':'state'}\n\nirs = irs.iloc[:,1:]\nirs = irs.drop(columns=['statename','countyname'])\nirs.rename(columns=col_dict,inplace=True)\nirs.set_index(['county','state','year'],inplace = True)\n\n\n",
   "outputs": [],
   "execution_count": null
  },
  {
   "cell_type": "code",
   "metadata": {
    "tags": [],
    "cell_id": "00010-e1484bac-bafa-4df4-a635-bb17e9c11727",
    "deepnote_to_be_reexecuted": false,
    "source_hash": "5e50cf10",
    "execution_start": 1643551404656,
    "execution_millis": 51,
    "deepnote_output_heights": [
     null,
     21.1875
    ],
    "deepnote_cell_type": "code"
   },
   "source": "#Check lengths\nprint('ACS #rows: ',len(acs))\nprint('Fema #rows: ',len(fema))\nprint('IRS #rows: ',len(irs))\n\n\n#Make sure all datasets are unique on county, state, year\nif len(acs.index.drop_duplicates()) != len(acs):\n    print('Dupes in ACS')\nif len(fema.index.drop_duplicates()) != len(fema):\n    print('Dupes in FEMA')\nif len(irs.index.drop_duplicates()) != len(irs):\n    print('Dupes in IRS')\n",
   "outputs": [
    {
     "name": "stdout",
     "text": "ACS #rows:  18852\nFema #rows:  5396\nIRS #rows:  18772\n",
     "output_type": "stream"
    }
   ],
   "execution_count": null
  },
  {
   "cell_type": "code",
   "metadata": {
    "tags": [],
    "cell_id": "00007-18d1099f-80a5-4df9-80b5-cf499fe8263d",
    "deepnote_to_be_reexecuted": false,
    "source_hash": "7f294fe2",
    "execution_start": 1643551404676,
    "execution_millis": 78,
    "deepnote_cell_type": "code"
   },
   "source": "acs_fema = pd.merge(acs,fema,how = 'left',left_index = True, right_index = True)\nprint('acs_fema #rows: ',len(acs_fema))\n\nfema_col = list(fema.columns) # all columns in fema dataset\n\nacs_fema[fema_col] = acs_fema[fema_col].fillna(value = 0)\n\nacs_fema.reset_index(inplace = True)\n",
   "outputs": [
    {
     "name": "stdout",
     "text": "acs_fema #rows:  18852\n",
     "output_type": "stream"
    }
   ],
   "execution_count": null
  },
  {
   "cell_type": "code",
   "metadata": {
    "tags": [],
    "cell_id": "00007-3d75692c-82d9-40a4-b7b6-133862b4e016",
    "deepnote_to_be_reexecuted": false,
    "source_hash": "2b529b0d",
    "execution_start": 1643551404811,
    "execution_millis": 1973033695,
    "deepnote_cell_type": "code"
   },
   "source": "\nacs_fema.set_index(['county','state','year'],inplace=True)\n",
   "outputs": [],
   "execution_count": null
  },
  {
   "cell_type": "code",
   "metadata": {
    "tags": [],
    "cell_id": "00014-91c491d2-11f2-43a5-8f1f-968739cad610",
    "deepnote_to_be_reexecuted": false,
    "source_hash": "c96c8cd0",
    "execution_start": 1643551404812,
    "execution_millis": 373,
    "deepnote_cell_type": "code"
   },
   "source": "acs_fema.head()",
   "outputs": [
    {
     "output_type": "execute_result",
     "execution_count": 15,
     "data": {
      "application/vnd.deepnote.dataframe.v3+json": {
       "column_count": 39,
       "row_count": 5,
       "columns": [
        {
         "name": "name",
         "dtype": "object",
         "stats": {
          "unique_count": 5,
          "nan_count": 0,
          "categories": [
           {
            "name": "McPherson County, Nebraska",
            "count": 1
           },
           {
            "name": "Cheyenne County, Nebraska",
            "count": 1
           },
           {
            "name": "3 others",
            "count": 3
           }
          ]
         }
        },
        {
         "name": "total_population",
         "dtype": "float64",
         "stats": {
          "unique_count": 5,
          "nan_count": 0,
          "min": "426.0",
          "max": "24205.0",
          "histogram": [
           {
            "bin_start": 426,
            "bin_end": 2803.9,
            "count": 2
           },
           {
            "bin_start": 2803.9,
            "bin_end": 5181.8,
            "count": 1
           },
           {
            "bin_start": 5181.8,
            "bin_end": 7559.700000000001,
            "count": 0
           },
           {
            "bin_start": 7559.700000000001,
            "bin_end": 9937.6,
            "count": 0
           },
           {
            "bin_start": 9937.6,
            "bin_end": 12315.5,
            "count": 1
           },
           {
            "bin_start": 12315.5,
            "bin_end": 14693.400000000001,
            "count": 0
           },
           {
            "bin_start": 14693.400000000001,
            "bin_end": 17071.3,
            "count": 0
           },
           {
            "bin_start": 17071.3,
            "bin_end": 19449.2,
            "count": 0
           },
           {
            "bin_start": 19449.2,
            "bin_end": 21827.100000000002,
            "count": 0
           },
           {
            "bin_start": 21827.100000000002,
            "bin_end": 24205,
            "count": 1
           }
          ]
         }
        },
        {
         "name": "median_income",
         "dtype": "float64",
         "stats": {
          "unique_count": 5,
          "nan_count": 0,
          "min": "41776.0",
          "max": "57763.0",
          "histogram": [
           {
            "bin_start": 41776,
            "bin_end": 43374.7,
            "count": 1
           },
           {
            "bin_start": 43374.7,
            "bin_end": 44973.4,
            "count": 0
           },
           {
            "bin_start": 44973.4,
            "bin_end": 46572.1,
            "count": 1
           },
           {
            "bin_start": 46572.1,
            "bin_end": 48170.8,
            "count": 1
           },
           {
            "bin_start": 48170.8,
            "bin_end": 49769.5,
            "count": 0
           },
           {
            "bin_start": 49769.5,
            "bin_end": 51368.2,
            "count": 0
           },
           {
            "bin_start": 51368.2,
            "bin_end": 52966.9,
            "count": 0
           },
           {
            "bin_start": 52966.9,
            "bin_end": 54565.6,
            "count": 1
           },
           {
            "bin_start": 54565.6,
            "bin_end": 56164.3,
            "count": 0
           },
           {
            "bin_start": 56164.3,
            "bin_end": 57763,
            "count": 1
           }
          ]
         }
        },
        {
         "name": "median_rent",
         "dtype": "float64",
         "stats": {
          "unique_count": 5,
          "nan_count": 0,
          "min": "334.0",
          "max": "657.0",
          "histogram": [
           {
            "bin_start": 334,
            "bin_end": 366.3,
            "count": 1
           },
           {
            "bin_start": 366.3,
            "bin_end": 398.6,
            "count": 0
           },
           {
            "bin_start": 398.6,
            "bin_end": 430.9,
            "count": 0
           },
           {
            "bin_start": 430.9,
            "bin_end": 463.2,
            "count": 0
           },
           {
            "bin_start": 463.2,
            "bin_end": 495.5,
            "count": 0
           },
           {
            "bin_start": 495.5,
            "bin_end": 527.8,
            "count": 0
           },
           {
            "bin_start": 527.8,
            "bin_end": 560.0999999999999,
            "count": 1
           },
           {
            "bin_start": 560.0999999999999,
            "bin_end": 592.4,
            "count": 1
           },
           {
            "bin_start": 592.4,
            "bin_end": 624.7,
            "count": 0
           },
           {
            "bin_start": 624.7,
            "bin_end": 657,
            "count": 2
           }
          ]
         }
        },
        {
         "name": "median_home_value",
         "dtype": "float64",
         "stats": {
          "unique_count": 5,
          "nan_count": 0,
          "min": "71000.0",
          "max": "132700.0",
          "histogram": [
           {
            "bin_start": 71000,
            "bin_end": 77170,
            "count": 1
           },
           {
            "bin_start": 77170,
            "bin_end": 83340,
            "count": 0
           },
           {
            "bin_start": 83340,
            "bin_end": 89510,
            "count": 1
           },
           {
            "bin_start": 89510,
            "bin_end": 95680,
            "count": 1
           },
           {
            "bin_start": 95680,
            "bin_end": 101850,
            "count": 0
           },
           {
            "bin_start": 101850,
            "bin_end": 108020,
            "count": 0
           },
           {
            "bin_start": 108020,
            "bin_end": 114190,
            "count": 1
           },
           {
            "bin_start": 114190,
            "bin_end": 120360,
            "count": 0
           },
           {
            "bin_start": 120360,
            "bin_end": 126530,
            "count": 0
           },
           {
            "bin_start": 126530,
            "bin_end": 132700,
            "count": 1
           }
          ]
         }
        },
        {
         "name": "educational_attainment",
         "dtype": "float64",
         "stats": {
          "unique_count": 5,
          "nan_count": 0,
          "min": "0.127719298245614",
          "max": "0.2561728395061728",
          "histogram": [
           {
            "bin_start": 0.127719298245614,
            "bin_end": 0.1405646523716699,
            "count": 1
           },
           {
            "bin_start": 0.1405646523716699,
            "bin_end": 0.15341000649772576,
            "count": 2
           },
           {
            "bin_start": 0.15341000649772576,
            "bin_end": 0.16625536062378166,
            "count": 0
           },
           {
            "bin_start": 0.16625536062378166,
            "bin_end": 0.17910071474983752,
            "count": 0
           },
           {
            "bin_start": 0.17910071474983752,
            "bin_end": 0.1919460688758934,
            "count": 0
           },
           {
            "bin_start": 0.1919460688758934,
            "bin_end": 0.2047914230019493,
            "count": 0
           },
           {
            "bin_start": 0.2047914230019493,
            "bin_end": 0.21763677712800517,
            "count": 0
           },
           {
            "bin_start": 0.21763677712800517,
            "bin_end": 0.23048213125406106,
            "count": 0
           },
           {
            "bin_start": 0.23048213125406106,
            "bin_end": 0.24332748538011695,
            "count": 1
           },
           {
            "bin_start": 0.24332748538011695,
            "bin_end": 0.2561728395061728,
            "count": 1
           }
          ]
         }
        },
        {
         "name": "av_commute_time",
         "dtype": "float64",
         "stats": {
          "unique_count": 5,
          "nan_count": 0,
          "min": "10.801282051282053",
          "max": "28.6890243902439",
          "histogram": [
           {
            "bin_start": 10.801282051282053,
            "bin_end": 12.590056285178237,
            "count": 2
           },
           {
            "bin_start": 12.590056285178237,
            "bin_end": 14.378830519074423,
            "count": 0
           },
           {
            "bin_start": 14.378830519074423,
            "bin_end": 16.167604752970608,
            "count": 1
           },
           {
            "bin_start": 16.167604752970608,
            "bin_end": 17.956378986866792,
            "count": 0
           },
           {
            "bin_start": 17.956378986866792,
            "bin_end": 19.74515322076298,
            "count": 0
           },
           {
            "bin_start": 19.74515322076298,
            "bin_end": 21.533927454659164,
            "count": 0
           },
           {
            "bin_start": 21.533927454659164,
            "bin_end": 23.322701688555348,
            "count": 1
           },
           {
            "bin_start": 23.322701688555348,
            "bin_end": 25.111475922451532,
            "count": 0
           },
           {
            "bin_start": 25.111475922451532,
            "bin_end": 26.900250156347717,
            "count": 0
           },
           {
            "bin_start": 26.900250156347717,
            "bin_end": 28.6890243902439,
            "count": 1
           }
          ]
         }
        },
        {
         "name": "perc_poverty",
         "dtype": "float64",
         "stats": {
          "unique_count": 5,
          "nan_count": 0,
          "min": "0.1115353149713662",
          "max": "0.1365007229911175",
          "histogram": [
           {
            "bin_start": 0.1115353149713662,
            "bin_end": 0.11403185577334134,
            "count": 1
           },
           {
            "bin_start": 0.11403185577334134,
            "bin_end": 0.11652839657531647,
            "count": 1
           },
           {
            "bin_start": 0.11652839657531647,
            "bin_end": 0.1190249373772916,
            "count": 1
           },
           {
            "bin_start": 0.1190249373772916,
            "bin_end": 0.12152147817926673,
            "count": 0
           },
           {
            "bin_start": 0.12152147817926673,
            "bin_end": 0.12401801898124186,
            "count": 0
           },
           {
            "bin_start": 0.12401801898124186,
            "bin_end": 0.126514559783217,
            "count": 0
           },
           {
            "bin_start": 0.126514559783217,
            "bin_end": 0.1290111005851921,
            "count": 0
           },
           {
            "bin_start": 0.1290111005851921,
            "bin_end": 0.13150764138716725,
            "count": 0
           },
           {
            "bin_start": 0.13150764138716725,
            "bin_end": 0.1340041821891424,
            "count": 1
           },
           {
            "bin_start": 0.1340041821891424,
            "bin_end": 0.1365007229911175,
            "count": 1
           }
          ]
         }
        },
        {
         "name": "perc_white",
         "dtype": "float64",
         "stats": {
          "unique_count": 5,
          "nan_count": 0,
          "min": "0.6212765957446809",
          "max": "0.9812206572769951",
          "histogram": [
           {
            "bin_start": 0.6212765957446809,
            "bin_end": 0.6572710018979123,
            "count": 1
           },
           {
            "bin_start": 0.6572710018979123,
            "bin_end": 0.6932654080511437,
            "count": 0
           },
           {
            "bin_start": 0.6932654080511437,
            "bin_end": 0.7292598142043751,
            "count": 0
           },
           {
            "bin_start": 0.7292598142043751,
            "bin_end": 0.7652542203576066,
            "count": 0
           },
           {
            "bin_start": 0.7652542203576066,
            "bin_end": 0.8012486265108381,
            "count": 0
           },
           {
            "bin_start": 0.8012486265108381,
            "bin_end": 0.8372430326640694,
            "count": 0
           },
           {
            "bin_start": 0.8372430326640694,
            "bin_end": 0.8732374388173009,
            "count": 0
           },
           {
            "bin_start": 0.8732374388173009,
            "bin_end": 0.9092318449705323,
            "count": 1
           },
           {
            "bin_start": 0.9092318449705323,
            "bin_end": 0.9452262511237637,
            "count": 0
           },
           {
            "bin_start": 0.9452262511237637,
            "bin_end": 0.9812206572769951,
            "count": 3
           }
          ]
         }
        },
        {
         "name": "perc_black",
         "dtype": "float64",
         "stats": {
          "unique_count": 5,
          "nan_count": 0,
          "min": "0.0",
          "max": "0.0408180128072712",
          "histogram": [
           {
            "bin_start": 0,
            "bin_end": 0.00408180128072712,
            "count": 3
           },
           {
            "bin_start": 0.00408180128072712,
            "bin_end": 0.00816360256145424,
            "count": 1
           },
           {
            "bin_start": 0.00816360256145424,
            "bin_end": 0.01224540384218136,
            "count": 0
           },
           {
            "bin_start": 0.01224540384218136,
            "bin_end": 0.01632720512290848,
            "count": 0
           },
           {
            "bin_start": 0.01632720512290848,
            "bin_end": 0.020409006403635598,
            "count": 0
           },
           {
            "bin_start": 0.020409006403635598,
            "bin_end": 0.02449080768436272,
            "count": 0
           },
           {
            "bin_start": 0.02449080768436272,
            "bin_end": 0.02857260896508984,
            "count": 0
           },
           {
            "bin_start": 0.02857260896508984,
            "bin_end": 0.03265441024581696,
            "count": 0
           },
           {
            "bin_start": 0.03265441024581696,
            "bin_end": 0.03673621152654408,
            "count": 0
           },
           {
            "bin_start": 0.03673621152654408,
            "bin_end": 0.0408180128072712,
            "count": 1
           }
          ]
         }
        },
        {
         "name": "perc_american_indian",
         "dtype": "float64",
         "stats": {
          "unique_count": 4,
          "nan_count": 0,
          "min": "0.0",
          "max": "0.0086758934104523",
          "histogram": [
           {
            "bin_start": 0,
            "bin_end": 0.0008675893410452299,
            "count": 2
           },
           {
            "bin_start": 0.0008675893410452299,
            "bin_end": 0.0017351786820904598,
            "count": 0
           },
           {
            "bin_start": 0.0017351786820904598,
            "bin_end": 0.0026027680231356896,
            "count": 1
           },
           {
            "bin_start": 0.0026027680231356896,
            "bin_end": 0.0034703573641809197,
            "count": 0
           },
           {
            "bin_start": 0.0034703573641809197,
            "bin_end": 0.00433794670522615,
            "count": 1
           },
           {
            "bin_start": 0.00433794670522615,
            "bin_end": 0.005205536046271379,
            "count": 0
           },
           {
            "bin_start": 0.005205536046271379,
            "bin_end": 0.00607312538731661,
            "count": 0
           },
           {
            "bin_start": 0.00607312538731661,
            "bin_end": 0.006940714728361839,
            "count": 0
           },
           {
            "bin_start": 0.006940714728361839,
            "bin_end": 0.007808304069407069,
            "count": 0
           },
           {
            "bin_start": 0.007808304069407069,
            "bin_end": 0.0086758934104523,
            "count": 1
           }
          ]
         }
        },
        {
         "name": "perc_asian",
         "dtype": "float64",
         "stats": {
          "unique_count": 4,
          "nan_count": 0,
          "min": "0.0",
          "max": "0.0153325368379131",
          "histogram": [
           {
            "bin_start": 0,
            "bin_end": 0.00153325368379131,
            "count": 4
           },
           {
            "bin_start": 0.00153325368379131,
            "bin_end": 0.00306650736758262,
            "count": 0
           },
           {
            "bin_start": 0.00306650736758262,
            "bin_end": 0.00459976105137393,
            "count": 0
           },
           {
            "bin_start": 0.00459976105137393,
            "bin_end": 0.00613301473516524,
            "count": 0
           },
           {
            "bin_start": 0.00613301473516524,
            "bin_end": 0.00766626841895655,
            "count": 0
           },
           {
            "bin_start": 0.00766626841895655,
            "bin_end": 0.00919952210274786,
            "count": 0
           },
           {
            "bin_start": 0.00919952210274786,
            "bin_end": 0.01073277578653917,
            "count": 0
           },
           {
            "bin_start": 0.01073277578653917,
            "bin_end": 0.01226602947033048,
            "count": 0
           },
           {
            "bin_start": 0.01226602947033048,
            "bin_end": 0.01379928315412179,
            "count": 0
           },
           {
            "bin_start": 0.01379928315412179,
            "bin_end": 0.0153325368379131,
            "count": 1
           }
          ]
         }
        },
        {
         "name": "perc_hawaiian",
         "dtype": "float64",
         "stats": {
          "unique_count": 2,
          "nan_count": 0,
          "min": "0.0",
          "max": "0.0008181074447777",
          "histogram": [
           {
            "bin_start": 0,
            "bin_end": 0.00008181074447777,
            "count": 4
           },
           {
            "bin_start": 0.00008181074447777,
            "bin_end": 0.00016362148895554,
            "count": 0
           },
           {
            "bin_start": 0.00016362148895554,
            "bin_end": 0.00024543223343331,
            "count": 0
           },
           {
            "bin_start": 0.00024543223343331,
            "bin_end": 0.00032724297791108,
            "count": 0
           },
           {
            "bin_start": 0.00032724297791108,
            "bin_end": 0.00040905372238885,
            "count": 0
           },
           {
            "bin_start": 0.00040905372238885,
            "bin_end": 0.00049086446686662,
            "count": 0
           },
           {
            "bin_start": 0.00049086446686662,
            "bin_end": 0.00057267521134439,
            "count": 0
           },
           {
            "bin_start": 0.00057267521134439,
            "bin_end": 0.00065448595582216,
            "count": 0
           },
           {
            "bin_start": 0.00065448595582216,
            "bin_end": 0.00073629670029993,
            "count": 0
           },
           {
            "bin_start": 0.00073629670029993,
            "bin_end": 0.0008181074447777,
            "count": 1
           }
          ]
         }
        },
        {
         "name": "perc_other_race",
         "dtype": "float64",
         "stats": {
          "unique_count": 2,
          "nan_count": 0,
          "min": "0.0",
          "max": "9.956192751891676e-05",
          "histogram": [
           {
            "bin_start": 0,
            "bin_end": 0.000009956192751891677,
            "count": 4
           },
           {
            "bin_start": 0.000009956192751891677,
            "bin_end": 0.000019912385503783354,
            "count": 0
           },
           {
            "bin_start": 0.000019912385503783354,
            "bin_end": 0.000029868578255675032,
            "count": 0
           },
           {
            "bin_start": 0.000029868578255675032,
            "bin_end": 0.00003982477100756671,
            "count": 0
           },
           {
            "bin_start": 0.00003982477100756671,
            "bin_end": 0.00004978096375945838,
            "count": 0
           },
           {
            "bin_start": 0.00004978096375945838,
            "bin_end": 0.000059737156511350064,
            "count": 0
           },
           {
            "bin_start": 0.000059737156511350064,
            "bin_end": 0.00006969334926324174,
            "count": 0
           },
           {
            "bin_start": 0.00006969334926324174,
            "bin_end": 0.00007964954201513341,
            "count": 0
           },
           {
            "bin_start": 0.00007964954201513341,
            "bin_end": 0.00008960573476702509,
            "count": 0
           },
           {
            "bin_start": 0.00008960573476702509,
            "bin_end": 0.00009956192751891676,
            "count": 1
           }
          ]
         }
        },
        {
         "name": "perc_hispanic",
         "dtype": "float64",
         "stats": {
          "unique_count": 5,
          "nan_count": 0,
          "min": "0.0087001023541453",
          "max": "0.3260483371204297",
          "histogram": [
           {
            "bin_start": 0.0087001023541453,
            "bin_end": 0.04043492583077374,
            "count": 3
           },
           {
            "bin_start": 0.04043492583077374,
            "bin_end": 0.07216974930740218,
            "count": 1
           },
           {
            "bin_start": 0.07216974930740218,
            "bin_end": 0.10390457278403062,
            "count": 0
           },
           {
            "bin_start": 0.10390457278403062,
            "bin_end": 0.13563939626065907,
            "count": 0
           },
           {
            "bin_start": 0.13563939626065907,
            "bin_end": 0.1673742197372875,
            "count": 0
           },
           {
            "bin_start": 0.1673742197372875,
            "bin_end": 0.19910904321391595,
            "count": 0
           },
           {
            "bin_start": 0.19910904321391595,
            "bin_end": 0.2308438666905444,
            "count": 0
           },
           {
            "bin_start": 0.2308438666905444,
            "bin_end": 0.26257869016717283,
            "count": 0
           },
           {
            "bin_start": 0.26257869016717283,
            "bin_end": 0.29431351364380126,
            "count": 0
           },
           {
            "bin_start": 0.29431351364380126,
            "bin_end": 0.3260483371204297,
            "count": 1
           }
          ]
         }
        },
        {
         "name": "perc_65_over",
         "dtype": "float64",
         "stats": {
          "unique_count": 5,
          "nan_count": 0,
          "min": "0.1398058252427184",
          "max": "0.2676560900716479",
          "histogram": [
           {
            "bin_start": 0.1398058252427184,
            "bin_end": 0.15259085172561135,
            "count": 1
           },
           {
            "bin_start": 0.15259085172561135,
            "bin_end": 0.1653758782085043,
            "count": 1
           },
           {
            "bin_start": 0.1653758782085043,
            "bin_end": 0.17816090469139725,
            "count": 0
           },
           {
            "bin_start": 0.17816090469139725,
            "bin_end": 0.1909459311742902,
            "count": 0
           },
           {
            "bin_start": 0.1909459311742902,
            "bin_end": 0.20373095765718316,
            "count": 1
           },
           {
            "bin_start": 0.20373095765718316,
            "bin_end": 0.2165159841400761,
            "count": 1
           },
           {
            "bin_start": 0.2165159841400761,
            "bin_end": 0.22930101062296906,
            "count": 0
           },
           {
            "bin_start": 0.22930101062296906,
            "bin_end": 0.24208603710586202,
            "count": 0
           },
           {
            "bin_start": 0.24208603710586202,
            "bin_end": 0.254871063588755,
            "count": 0
           },
           {
            "bin_start": 0.254871063588755,
            "bin_end": 0.2676560900716479,
            "count": 1
           }
          ]
         }
        },
        {
         "name": "perc_enrolled_undergrad",
         "dtype": "float64",
         "stats": {
          "unique_count": 5,
          "nan_count": 0,
          "min": "0.0056294779938587",
          "max": "0.0420151334129828",
          "histogram": [
           {
            "bin_start": 0.0056294779938587,
            "bin_end": 0.00926804353577111,
            "count": 2
           },
           {
            "bin_start": 0.00926804353577111,
            "bin_end": 0.012906609077683519,
            "count": 0
           },
           {
            "bin_start": 0.012906609077683519,
            "bin_end": 0.01654517461959593,
            "count": 0
           },
           {
            "bin_start": 0.01654517461959593,
            "bin_end": 0.02018374016150834,
            "count": 0
           },
           {
            "bin_start": 0.02018374016150834,
            "bin_end": 0.02382230570342075,
            "count": 1
           },
           {
            "bin_start": 0.02382230570342075,
            "bin_end": 0.027460871245333158,
            "count": 0
           },
           {
            "bin_start": 0.027460871245333158,
            "bin_end": 0.03109943678724557,
            "count": 1
           },
           {
            "bin_start": 0.03109943678724557,
            "bin_end": 0.034738002329157976,
            "count": 0
           },
           {
            "bin_start": 0.034738002329157976,
            "bin_end": 0.03837656787107038,
            "count": 0
           },
           {
            "bin_start": 0.03837656787107038,
            "bin_end": 0.0420151334129828,
            "count": 1
           }
          ]
         }
        },
        {
         "name": "perc_unemployed",
         "dtype": "float64",
         "stats": {
          "unique_count": 5,
          "nan_count": 0,
          "min": "0.0140845070422535",
          "max": "0.0854657113613101",
          "histogram": [
           {
            "bin_start": 0.0140845070422535,
            "bin_end": 0.02122262747415916,
            "count": 1
           },
           {
            "bin_start": 0.02122262747415916,
            "bin_end": 0.02836074790606482,
            "count": 0
           },
           {
            "bin_start": 0.02836074790606482,
            "bin_end": 0.03549886833797048,
            "count": 0
           },
           {
            "bin_start": 0.03549886833797048,
            "bin_end": 0.04263698876987614,
            "count": 0
           },
           {
            "bin_start": 0.04263698876987614,
            "bin_end": 0.049775109201781804,
            "count": 0
           },
           {
            "bin_start": 0.049775109201781804,
            "bin_end": 0.05691322963368746,
            "count": 0
           },
           {
            "bin_start": 0.05691322963368746,
            "bin_end": 0.06405135006559312,
            "count": 2
           },
           {
            "bin_start": 0.06405135006559312,
            "bin_end": 0.07118947049749878,
            "count": 0
           },
           {
            "bin_start": 0.07118947049749878,
            "bin_end": 0.07832759092940444,
            "count": 0
           },
           {
            "bin_start": 0.07832759092940444,
            "bin_end": 0.0854657113613101,
            "count": 2
           }
          ]
         }
        },
        {
         "name": "housing_per_capita",
         "dtype": "float64",
         "stats": {
          "unique_count": 5,
          "nan_count": 0,
          "min": "0.4187151414996901",
          "max": "0.5992835209825998",
          "histogram": [
           {
            "bin_start": 0.4187151414996901,
            "bin_end": 0.4367719794479811,
            "count": 1
           },
           {
            "bin_start": 0.4367719794479811,
            "bin_end": 0.454828817396272,
            "count": 0
           },
           {
            "bin_start": 0.454828817396272,
            "bin_end": 0.472885655344563,
            "count": 0
           },
           {
            "bin_start": 0.472885655344563,
            "bin_end": 0.490942493292854,
            "count": 1
           },
           {
            "bin_start": 0.490942493292854,
            "bin_end": 0.5089993312411449,
            "count": 1
           },
           {
            "bin_start": 0.5089993312411449,
            "bin_end": 0.527056169189436,
            "count": 0
           },
           {
            "bin_start": 0.527056169189436,
            "bin_end": 0.5451130071377269,
            "count": 0
           },
           {
            "bin_start": 0.5451130071377269,
            "bin_end": 0.5631698450860179,
            "count": 0
           },
           {
            "bin_start": 0.5631698450860179,
            "bin_end": 0.5812266830343089,
            "count": 1
           },
           {
            "bin_start": 0.5812266830343089,
            "bin_end": 0.5992835209825998,
            "count": 1
           }
          ]
         }
        },
        {
         "name": "perc_owner",
         "dtype": "float64",
         "stats": {
          "unique_count": 5,
          "nan_count": 0,
          "min": "0.5286885245901639",
          "max": "0.6521978021978022",
          "histogram": [
           {
            "bin_start": 0.5286885245901639,
            "bin_end": 0.5410394523509278,
            "count": 1
           },
           {
            "bin_start": 0.5410394523509278,
            "bin_end": 0.5533903801116916,
            "count": 0
           },
           {
            "bin_start": 0.5533903801116916,
            "bin_end": 0.5657413078724554,
            "count": 1
           },
           {
            "bin_start": 0.5657413078724554,
            "bin_end": 0.5780922356332192,
            "count": 0
           },
           {
            "bin_start": 0.5780922356332192,
            "bin_end": 0.5904431633939831,
            "count": 1
           },
           {
            "bin_start": 0.5904431633939831,
            "bin_end": 0.6027940911547469,
            "count": 1
           },
           {
            "bin_start": 0.6027940911547469,
            "bin_end": 0.6151450189155108,
            "count": 0
           },
           {
            "bin_start": 0.6151450189155108,
            "bin_end": 0.6274959466762745,
            "count": 0
           },
           {
            "bin_start": 0.6274959466762745,
            "bin_end": 0.6398468744370384,
            "count": 0
           },
           {
            "bin_start": 0.6398468744370384,
            "bin_end": 0.6521978021978022,
            "count": 1
           }
          ]
         }
        },
        {
         "name": "perc_renter",
         "dtype": "float64",
         "stats": {
          "unique_count": 5,
          "nan_count": 0,
          "min": "0.17933390264731",
          "max": "0.2960996528486829",
          "histogram": [
           {
            "bin_start": 0.17933390264731,
            "bin_end": 0.19101047766744728,
            "count": 1
           },
           {
            "bin_start": 0.19101047766744728,
            "bin_end": 0.20268705268758458,
            "count": 1
           },
           {
            "bin_start": 0.20268705268758458,
            "bin_end": 0.21436362770772188,
            "count": 0
           },
           {
            "bin_start": 0.21436362770772188,
            "bin_end": 0.22604020272785916,
            "count": 0
           },
           {
            "bin_start": 0.22604020272785916,
            "bin_end": 0.23771677774799643,
            "count": 0
           },
           {
            "bin_start": 0.23771677774799643,
            "bin_end": 0.24939335276813374,
            "count": 1
           },
           {
            "bin_start": 0.24939335276813374,
            "bin_end": 0.26106992778827104,
            "count": 0
           },
           {
            "bin_start": 0.26106992778827104,
            "bin_end": 0.2727465028084083,
            "count": 1
           },
           {
            "bin_start": 0.2727465028084083,
            "bin_end": 0.2844230778285456,
            "count": 0
           },
           {
            "bin_start": 0.2844230778285456,
            "bin_end": 0.2960996528486829,
            "count": 1
           }
          ]
         }
        },
        {
         "name": "perc_vacant",
         "dtype": "float64",
         "stats": {
          "unique_count": 5,
          "nan_count": 0,
          "min": "0.1051664284255666",
          "max": "0.2570452604611443",
          "histogram": [
           {
            "bin_start": 0.1051664284255666,
            "bin_end": 0.12035431162912437,
            "count": 1
           },
           {
            "bin_start": 0.12035431162912437,
            "bin_end": 0.13554219483268215,
            "count": 0
           },
           {
            "bin_start": 0.13554219483268215,
            "bin_end": 0.1507300780362399,
            "count": 2
           },
           {
            "bin_start": 0.1507300780362399,
            "bin_end": 0.16591796123979768,
            "count": 0
           },
           {
            "bin_start": 0.16591796123979768,
            "bin_end": 0.18110584444335542,
            "count": 0
           },
           {
            "bin_start": 0.18110584444335542,
            "bin_end": 0.19629372764691322,
            "count": 0
           },
           {
            "bin_start": 0.19629372764691322,
            "bin_end": 0.21148161085047096,
            "count": 0
           },
           {
            "bin_start": 0.21148161085047096,
            "bin_end": 0.22666949405402875,
            "count": 0
           },
           {
            "bin_start": 0.22666949405402875,
            "bin_end": 0.2418573772575865,
            "count": 1
           },
           {
            "bin_start": 0.2418573772575865,
            "bin_end": 0.2570452604611443,
            "count": 1
           }
          ]
         }
        },
        {
         "name": "chemical",
         "dtype": "float64",
         "stats": {
          "unique_count": 1,
          "nan_count": 0,
          "min": "0.0",
          "max": "0.0",
          "histogram": [
           {
            "bin_start": -0.5,
            "bin_end": -0.4,
            "count": 0
           },
           {
            "bin_start": -0.4,
            "bin_end": -0.3,
            "count": 0
           },
           {
            "bin_start": -0.3,
            "bin_end": -0.19999999999999996,
            "count": 0
           },
           {
            "bin_start": -0.19999999999999996,
            "bin_end": -0.09999999999999998,
            "count": 0
           },
           {
            "bin_start": -0.09999999999999998,
            "bin_end": 0,
            "count": 0
           },
           {
            "bin_start": 0,
            "bin_end": 0.10000000000000009,
            "count": 5
           },
           {
            "bin_start": 0.10000000000000009,
            "bin_end": 0.20000000000000007,
            "count": 0
           },
           {
            "bin_start": 0.20000000000000007,
            "bin_end": 0.30000000000000004,
            "count": 0
           },
           {
            "bin_start": 0.30000000000000004,
            "bin_end": 0.4,
            "count": 0
           },
           {
            "bin_start": 0.4,
            "bin_end": 0.5,
            "count": 0
           }
          ]
         }
        },
        {
         "name": "coastal_storm",
         "dtype": "float64",
         "stats": {
          "unique_count": 1,
          "nan_count": 0,
          "min": "0.0",
          "max": "0.0",
          "histogram": [
           {
            "bin_start": -0.5,
            "bin_end": -0.4,
            "count": 0
           },
           {
            "bin_start": -0.4,
            "bin_end": -0.3,
            "count": 0
           },
           {
            "bin_start": -0.3,
            "bin_end": -0.19999999999999996,
            "count": 0
           },
           {
            "bin_start": -0.19999999999999996,
            "bin_end": -0.09999999999999998,
            "count": 0
           },
           {
            "bin_start": -0.09999999999999998,
            "bin_end": 0,
            "count": 0
           },
           {
            "bin_start": 0,
            "bin_end": 0.10000000000000009,
            "count": 5
           },
           {
            "bin_start": 0.10000000000000009,
            "bin_end": 0.20000000000000007,
            "count": 0
           },
           {
            "bin_start": 0.20000000000000007,
            "bin_end": 0.30000000000000004,
            "count": 0
           },
           {
            "bin_start": 0.30000000000000004,
            "bin_end": 0.4,
            "count": 0
           },
           {
            "bin_start": 0.4,
            "bin_end": 0.5,
            "count": 0
           }
          ]
         }
        },
        {
         "name": "dam_levee_break",
         "dtype": "float64",
         "stats": {
          "unique_count": 1,
          "nan_count": 0,
          "min": "0.0",
          "max": "0.0",
          "histogram": [
           {
            "bin_start": -0.5,
            "bin_end": -0.4,
            "count": 0
           },
           {
            "bin_start": -0.4,
            "bin_end": -0.3,
            "count": 0
           },
           {
            "bin_start": -0.3,
            "bin_end": -0.19999999999999996,
            "count": 0
           },
           {
            "bin_start": -0.19999999999999996,
            "bin_end": -0.09999999999999998,
            "count": 0
           },
           {
            "bin_start": -0.09999999999999998,
            "bin_end": 0,
            "count": 0
           },
           {
            "bin_start": 0,
            "bin_end": 0.10000000000000009,
            "count": 5
           },
           {
            "bin_start": 0.10000000000000009,
            "bin_end": 0.20000000000000007,
            "count": 0
           },
           {
            "bin_start": 0.20000000000000007,
            "bin_end": 0.30000000000000004,
            "count": 0
           },
           {
            "bin_start": 0.30000000000000004,
            "bin_end": 0.4,
            "count": 0
           },
           {
            "bin_start": 0.4,
            "bin_end": 0.5,
            "count": 0
           }
          ]
         }
        },
        {
         "name": "earthquake",
         "dtype": "float64",
         "stats": {
          "unique_count": 1,
          "nan_count": 0,
          "min": "0.0",
          "max": "0.0",
          "histogram": [
           {
            "bin_start": -0.5,
            "bin_end": -0.4,
            "count": 0
           },
           {
            "bin_start": -0.4,
            "bin_end": -0.3,
            "count": 0
           },
           {
            "bin_start": -0.3,
            "bin_end": -0.19999999999999996,
            "count": 0
           },
           {
            "bin_start": -0.19999999999999996,
            "bin_end": -0.09999999999999998,
            "count": 0
           },
           {
            "bin_start": -0.09999999999999998,
            "bin_end": 0,
            "count": 0
           },
           {
            "bin_start": 0,
            "bin_end": 0.10000000000000009,
            "count": 5
           },
           {
            "bin_start": 0.10000000000000009,
            "bin_end": 0.20000000000000007,
            "count": 0
           },
           {
            "bin_start": 0.20000000000000007,
            "bin_end": 0.30000000000000004,
            "count": 0
           },
           {
            "bin_start": 0.30000000000000004,
            "bin_end": 0.4,
            "count": 0
           },
           {
            "bin_start": 0.4,
            "bin_end": 0.5,
            "count": 0
           }
          ]
         }
        },
        {
         "name": "fire",
         "dtype": "float64",
         "stats": {
          "unique_count": 1,
          "nan_count": 0,
          "min": "0.0",
          "max": "0.0",
          "histogram": [
           {
            "bin_start": -0.5,
            "bin_end": -0.4,
            "count": 0
           },
           {
            "bin_start": -0.4,
            "bin_end": -0.3,
            "count": 0
           },
           {
            "bin_start": -0.3,
            "bin_end": -0.19999999999999996,
            "count": 0
           },
           {
            "bin_start": -0.19999999999999996,
            "bin_end": -0.09999999999999998,
            "count": 0
           },
           {
            "bin_start": -0.09999999999999998,
            "bin_end": 0,
            "count": 0
           },
           {
            "bin_start": 0,
            "bin_end": 0.10000000000000009,
            "count": 5
           },
           {
            "bin_start": 0.10000000000000009,
            "bin_end": 0.20000000000000007,
            "count": 0
           },
           {
            "bin_start": 0.20000000000000007,
            "bin_end": 0.30000000000000004,
            "count": 0
           },
           {
            "bin_start": 0.30000000000000004,
            "bin_end": 0.4,
            "count": 0
           },
           {
            "bin_start": 0.4,
            "bin_end": 0.5,
            "count": 0
           }
          ]
         }
        },
        {
         "name": "flood",
         "dtype": "float64",
         "stats": {
          "unique_count": 1,
          "nan_count": 0,
          "min": "0.0",
          "max": "0.0",
          "histogram": [
           {
            "bin_start": -0.5,
            "bin_end": -0.4,
            "count": 0
           },
           {
            "bin_start": -0.4,
            "bin_end": -0.3,
            "count": 0
           },
           {
            "bin_start": -0.3,
            "bin_end": -0.19999999999999996,
            "count": 0
           },
           {
            "bin_start": -0.19999999999999996,
            "bin_end": -0.09999999999999998,
            "count": 0
           },
           {
            "bin_start": -0.09999999999999998,
            "bin_end": 0,
            "count": 0
           },
           {
            "bin_start": 0,
            "bin_end": 0.10000000000000009,
            "count": 5
           },
           {
            "bin_start": 0.10000000000000009,
            "bin_end": 0.20000000000000007,
            "count": 0
           },
           {
            "bin_start": 0.20000000000000007,
            "bin_end": 0.30000000000000004,
            "count": 0
           },
           {
            "bin_start": 0.30000000000000004,
            "bin_end": 0.4,
            "count": 0
           },
           {
            "bin_start": 0.4,
            "bin_end": 0.5,
            "count": 0
           }
          ]
         }
        },
        {
         "name": "hurricane",
         "dtype": "float64",
         "stats": {
          "unique_count": 1,
          "nan_count": 0,
          "min": "0.0",
          "max": "0.0",
          "histogram": [
           {
            "bin_start": -0.5,
            "bin_end": -0.4,
            "count": 0
           },
           {
            "bin_start": -0.4,
            "bin_end": -0.3,
            "count": 0
           },
           {
            "bin_start": -0.3,
            "bin_end": -0.19999999999999996,
            "count": 0
           },
           {
            "bin_start": -0.19999999999999996,
            "bin_end": -0.09999999999999998,
            "count": 0
           },
           {
            "bin_start": -0.09999999999999998,
            "bin_end": 0,
            "count": 0
           },
           {
            "bin_start": 0,
            "bin_end": 0.10000000000000009,
            "count": 5
           },
           {
            "bin_start": 0.10000000000000009,
            "bin_end": 0.20000000000000007,
            "count": 0
           },
           {
            "bin_start": 0.20000000000000007,
            "bin_end": 0.30000000000000004,
            "count": 0
           },
           {
            "bin_start": 0.30000000000000004,
            "bin_end": 0.4,
            "count": 0
           },
           {
            "bin_start": 0.4,
            "bin_end": 0.5,
            "count": 0
           }
          ]
         }
        },
        {
         "name": "mud_landslide",
         "dtype": "float64",
         "stats": {
          "unique_count": 1,
          "nan_count": 0,
          "min": "0.0",
          "max": "0.0",
          "histogram": [
           {
            "bin_start": -0.5,
            "bin_end": -0.4,
            "count": 0
           },
           {
            "bin_start": -0.4,
            "bin_end": -0.3,
            "count": 0
           },
           {
            "bin_start": -0.3,
            "bin_end": -0.19999999999999996,
            "count": 0
           },
           {
            "bin_start": -0.19999999999999996,
            "bin_end": -0.09999999999999998,
            "count": 0
           },
           {
            "bin_start": -0.09999999999999998,
            "bin_end": 0,
            "count": 0
           },
           {
            "bin_start": 0,
            "bin_end": 0.10000000000000009,
            "count": 5
           },
           {
            "bin_start": 0.10000000000000009,
            "bin_end": 0.20000000000000007,
            "count": 0
           },
           {
            "bin_start": 0.20000000000000007,
            "bin_end": 0.30000000000000004,
            "count": 0
           },
           {
            "bin_start": 0.30000000000000004,
            "bin_end": 0.4,
            "count": 0
           },
           {
            "bin_start": 0.4,
            "bin_end": 0.5,
            "count": 0
           }
          ]
         }
        },
        {
         "name": "severe_ice_storm",
         "dtype": "float64",
         "stats": {
          "unique_count": 1,
          "nan_count": 0,
          "min": "0.0",
          "max": "0.0",
          "histogram": [
           {
            "bin_start": -0.5,
            "bin_end": -0.4,
            "count": 0
           },
           {
            "bin_start": -0.4,
            "bin_end": -0.3,
            "count": 0
           },
           {
            "bin_start": -0.3,
            "bin_end": -0.19999999999999996,
            "count": 0
           },
           {
            "bin_start": -0.19999999999999996,
            "bin_end": -0.09999999999999998,
            "count": 0
           },
           {
            "bin_start": -0.09999999999999998,
            "bin_end": 0,
            "count": 0
           },
           {
            "bin_start": 0,
            "bin_end": 0.10000000000000009,
            "count": 5
           },
           {
            "bin_start": 0.10000000000000009,
            "bin_end": 0.20000000000000007,
            "count": 0
           },
           {
            "bin_start": 0.20000000000000007,
            "bin_end": 0.30000000000000004,
            "count": 0
           },
           {
            "bin_start": 0.30000000000000004,
            "bin_end": 0.4,
            "count": 0
           },
           {
            "bin_start": 0.4,
            "bin_end": 0.5,
            "count": 0
           }
          ]
         }
        },
        {
         "name": "severe_storm",
         "dtype": "float64",
         "stats": {
          "unique_count": 1,
          "nan_count": 0,
          "min": "0.0",
          "max": "0.0",
          "histogram": [
           {
            "bin_start": -0.5,
            "bin_end": -0.4,
            "count": 0
           },
           {
            "bin_start": -0.4,
            "bin_end": -0.3,
            "count": 0
           },
           {
            "bin_start": -0.3,
            "bin_end": -0.19999999999999996,
            "count": 0
           },
           {
            "bin_start": -0.19999999999999996,
            "bin_end": -0.09999999999999998,
            "count": 0
           },
           {
            "bin_start": -0.09999999999999998,
            "bin_end": 0,
            "count": 0
           },
           {
            "bin_start": 0,
            "bin_end": 0.10000000000000009,
            "count": 5
           },
           {
            "bin_start": 0.10000000000000009,
            "bin_end": 0.20000000000000007,
            "count": 0
           },
           {
            "bin_start": 0.20000000000000007,
            "bin_end": 0.30000000000000004,
            "count": 0
           },
           {
            "bin_start": 0.30000000000000004,
            "bin_end": 0.4,
            "count": 0
           },
           {
            "bin_start": 0.4,
            "bin_end": 0.5,
            "count": 0
           }
          ]
         }
        },
        {
         "name": "snow",
         "dtype": "float64",
         "stats": {
          "unique_count": 1,
          "nan_count": 0,
          "min": "0.0",
          "max": "0.0",
          "histogram": [
           {
            "bin_start": -0.5,
            "bin_end": -0.4,
            "count": 0
           },
           {
            "bin_start": -0.4,
            "bin_end": -0.3,
            "count": 0
           },
           {
            "bin_start": -0.3,
            "bin_end": -0.19999999999999996,
            "count": 0
           },
           {
            "bin_start": -0.19999999999999996,
            "bin_end": -0.09999999999999998,
            "count": 0
           },
           {
            "bin_start": -0.09999999999999998,
            "bin_end": 0,
            "count": 0
           },
           {
            "bin_start": 0,
            "bin_end": 0.10000000000000009,
            "count": 5
           },
           {
            "bin_start": 0.10000000000000009,
            "bin_end": 0.20000000000000007,
            "count": 0
           },
           {
            "bin_start": 0.20000000000000007,
            "bin_end": 0.30000000000000004,
            "count": 0
           },
           {
            "bin_start": 0.30000000000000004,
            "bin_end": 0.4,
            "count": 0
           },
           {
            "bin_start": 0.4,
            "bin_end": 0.5,
            "count": 0
           }
          ]
         }
        },
        {
         "name": "tornado",
         "dtype": "float64",
         "stats": {
          "unique_count": 1,
          "nan_count": 0,
          "min": "0.0",
          "max": "0.0",
          "histogram": [
           {
            "bin_start": -0.5,
            "bin_end": -0.4,
            "count": 0
           },
           {
            "bin_start": -0.4,
            "bin_end": -0.3,
            "count": 0
           },
           {
            "bin_start": -0.3,
            "bin_end": -0.19999999999999996,
            "count": 0
           },
           {
            "bin_start": -0.19999999999999996,
            "bin_end": -0.09999999999999998,
            "count": 0
           },
           {
            "bin_start": -0.09999999999999998,
            "bin_end": 0,
            "count": 0
           },
           {
            "bin_start": 0,
            "bin_end": 0.10000000000000009,
            "count": 5
           },
           {
            "bin_start": 0.10000000000000009,
            "bin_end": 0.20000000000000007,
            "count": 0
           },
           {
            "bin_start": 0.20000000000000007,
            "bin_end": 0.30000000000000004,
            "count": 0
           },
           {
            "bin_start": 0.30000000000000004,
            "bin_end": 0.4,
            "count": 0
           },
           {
            "bin_start": 0.4,
            "bin_end": 0.5,
            "count": 0
           }
          ]
         }
        },
        {
         "name": "toxic_substances",
         "dtype": "float64",
         "stats": {
          "unique_count": 1,
          "nan_count": 0,
          "min": "0.0",
          "max": "0.0",
          "histogram": [
           {
            "bin_start": -0.5,
            "bin_end": -0.4,
            "count": 0
           },
           {
            "bin_start": -0.4,
            "bin_end": -0.3,
            "count": 0
           },
           {
            "bin_start": -0.3,
            "bin_end": -0.19999999999999996,
            "count": 0
           },
           {
            "bin_start": -0.19999999999999996,
            "bin_end": -0.09999999999999998,
            "count": 0
           },
           {
            "bin_start": -0.09999999999999998,
            "bin_end": 0,
            "count": 0
           },
           {
            "bin_start": 0,
            "bin_end": 0.10000000000000009,
            "count": 5
           },
           {
            "bin_start": 0.10000000000000009,
            "bin_end": 0.20000000000000007,
            "count": 0
           },
           {
            "bin_start": 0.20000000000000007,
            "bin_end": 0.30000000000000004,
            "count": 0
           },
           {
            "bin_start": 0.30000000000000004,
            "bin_end": 0.4,
            "count": 0
           },
           {
            "bin_start": 0.4,
            "bin_end": 0.5,
            "count": 0
           }
          ]
         }
        },
        {
         "name": "typhoon",
         "dtype": "float64",
         "stats": {
          "unique_count": 1,
          "nan_count": 0,
          "min": "0.0",
          "max": "0.0",
          "histogram": [
           {
            "bin_start": -0.5,
            "bin_end": -0.4,
            "count": 0
           },
           {
            "bin_start": -0.4,
            "bin_end": -0.3,
            "count": 0
           },
           {
            "bin_start": -0.3,
            "bin_end": -0.19999999999999996,
            "count": 0
           },
           {
            "bin_start": -0.19999999999999996,
            "bin_end": -0.09999999999999998,
            "count": 0
           },
           {
            "bin_start": -0.09999999999999998,
            "bin_end": 0,
            "count": 0
           },
           {
            "bin_start": 0,
            "bin_end": 0.10000000000000009,
            "count": 5
           },
           {
            "bin_start": 0.10000000000000009,
            "bin_end": 0.20000000000000007,
            "count": 0
           },
           {
            "bin_start": 0.20000000000000007,
            "bin_end": 0.30000000000000004,
            "count": 0
           },
           {
            "bin_start": 0.30000000000000004,
            "bin_end": 0.4,
            "count": 0
           },
           {
            "bin_start": 0.4,
            "bin_end": 0.5,
            "count": 0
           }
          ]
         }
        },
        {
         "name": "volcano",
         "dtype": "float64",
         "stats": {
          "unique_count": 1,
          "nan_count": 0,
          "min": "0.0",
          "max": "0.0",
          "histogram": [
           {
            "bin_start": -0.5,
            "bin_end": -0.4,
            "count": 0
           },
           {
            "bin_start": -0.4,
            "bin_end": -0.3,
            "count": 0
           },
           {
            "bin_start": -0.3,
            "bin_end": -0.19999999999999996,
            "count": 0
           },
           {
            "bin_start": -0.19999999999999996,
            "bin_end": -0.09999999999999998,
            "count": 0
           },
           {
            "bin_start": -0.09999999999999998,
            "bin_end": 0,
            "count": 0
           },
           {
            "bin_start": 0,
            "bin_end": 0.10000000000000009,
            "count": 5
           },
           {
            "bin_start": 0.10000000000000009,
            "bin_end": 0.20000000000000007,
            "count": 0
           },
           {
            "bin_start": 0.20000000000000007,
            "bin_end": 0.30000000000000004,
            "count": 0
           },
           {
            "bin_start": 0.30000000000000004,
            "bin_end": 0.4,
            "count": 0
           },
           {
            "bin_start": 0.4,
            "bin_end": 0.5,
            "count": 0
           }
          ]
         }
        },
        {
         "name": "county_name",
         "dtype": "object",
         "stats": {
          "unique_count": 1,
          "nan_count": 0,
          "categories": [
           {
            "name": "0",
            "count": 5
           }
          ]
         }
        },
        {
         "name": "state_name",
         "dtype": "object",
         "stats": {
          "unique_count": 1,
          "nan_count": 0,
          "categories": [
           {
            "name": "0",
            "count": 5
           }
          ]
         }
        },
        {
         "name": "_deepnote_index_column",
         "dtype": "object"
        }
       ],
       "rows": [
        {
         "name": "McPherson County, Nebraska",
         "total_population": 426,
         "median_income": 57763,
         "median_rent": 657,
         "median_home_value": 132700,
         "educational_attainment": 0.2561728395061728,
         "av_commute_time": 28.6890243902439,
         "perc_poverty": 0.1150234741784037,
         "perc_white": 0.9812206572769951,
         "perc_black": 0,
         "perc_american_indian": 0,
         "perc_asian": 0,
         "perc_hawaiian": 0,
         "perc_other_race": 0,
         "perc_hispanic": 0.0093896713615023,
         "perc_65_over": 0.2089201877934272,
         "perc_enrolled_undergrad": 0.0070422535211267,
         "perc_unemployed": 0.0140845070422535,
         "housing_per_capita": 0.5727699530516432,
         "perc_owner": 0.5286885245901639,
         "perc_renter": 0.2418032786885245,
         "perc_vacant": 0.2295081967213114,
         "chemical": 0,
         "coastal_storm": 0,
         "dam_levee_break": 0,
         "earthquake": 0,
         "fire": 0,
         "flood": 0,
         "hurricane": 0,
         "mud_landslide": 0,
         "severe_ice_storm": 0,
         "severe_storm": 0,
         "snow": 0,
         "tornado": 0,
         "toxic_substances": 0,
         "typhoon": 0,
         "volcano": 0,
         "county_name": "0",
         "state_name": "0",
         "_deepnote_index_column": "(117, 31, 2014)"
        },
        {
         "name": "Cheyenne County, Nebraska",
         "total_population": 10044,
         "median_income": 54094,
         "median_rent": 590,
         "median_home_value": 108400,
         "educational_attainment": 0.2384858952216465,
         "av_commute_time": 12.56614263803681,
         "perc_poverty": 0.1334129828753484,
         "perc_white": 0.902031063321386,
         "perc_black": 0.0025886101154918,
         "perc_american_indian": 0.0041816009557945,
         "perc_asian": 0.0153325368379131,
         "perc_hawaiian": 0,
         "perc_other_race": 0.00009956192751891676,
         "perc_hispanic": 0.063321385902031,
         "perc_65_over": 0.1609916367980884,
         "perc_enrolled_undergrad": 0.0420151334129828,
         "perc_unemployed": 0.0575467941059338,
         "housing_per_capita": 0.4875547590601354,
         "perc_owner": 0.5987339187257504,
         "perc_renter": 0.2960996528486829,
         "perc_vacant": 0.1051664284255666,
         "chemical": 0,
         "coastal_storm": 0,
         "dam_levee_break": 0,
         "earthquake": 0,
         "fire": 0,
         "flood": 0,
         "hurricane": 0,
         "mud_landslide": 0,
         "severe_ice_storm": 0,
         "severe_storm": 0,
         "snow": 0,
         "tornado": 0,
         "toxic_substances": 0,
         "typhoon": 0,
         "volcano": 0,
         "county_name": "0",
         "state_name": "0",
         "_deepnote_index_column": "(33, 31, 2014)"
        },
        {
         "name": "Dawson County, Nebraska",
         "total_population": 24205,
         "median_income": 48104,
         "median_rent": 648,
         "median_home_value": 89700,
         "educational_attainment": 0.1513791308873276,
         "av_commute_time": 16.033507397737164,
         "perc_poverty": 0.1365007229911175,
         "perc_white": 0.6212765957446809,
         "perc_black": 0.0408180128072712,
         "perc_american_indian": 0.0086758934104523,
         "perc_asian": 0.0007436480066102,
         "perc_hawaiian": 0,
         "perc_other_race": 0,
         "perc_hispanic": 0.3260483371204297,
         "perc_65_over": 0.1398058252427184,
         "perc_enrolled_undergrad": 0.0280933691386077,
         "perc_unemployed": 0.0785374922536666,
         "housing_per_capita": 0.4187151414996901,
         "perc_owner": 0.5890478539713863,
         "perc_renter": 0.2724222989639862,
         "perc_vacant": 0.1385298470646275,
         "chemical": 0,
         "coastal_storm": 0,
         "dam_levee_break": 0,
         "earthquake": 0,
         "fire": 0,
         "flood": 0,
         "hurricane": 0,
         "mud_landslide": 0,
         "severe_ice_storm": 0,
         "severe_storm": 0,
         "snow": 0,
         "tornado": 0,
         "toxic_substances": 0,
         "typhoon": 0,
         "volcano": 0,
         "county_name": "0",
         "state_name": "0",
         "_deepnote_index_column": "(47, 31, 2014)"
        },
        {
         "name": "Garfield County, Nebraska",
         "total_population": 1954,
         "median_income": 41776,
         "median_rent": 334,
         "median_home_value": 84800,
         "educational_attainment": 0.127719298245614,
         "av_commute_time": 10.801282051282053,
         "perc_poverty": 0.1171954964176049,
         "perc_white": 0.981064483111566,
         "perc_black": 0.0046059365404298,
         "perc_american_indian": 0,
         "perc_asian": 0,
         "perc_hawaiian": 0,
         "perc_other_race": 0,
         "perc_hispanic": 0.0087001023541453,
         "perc_65_over": 0.2676560900716479,
         "perc_enrolled_undergrad": 0.0056294779938587,
         "perc_unemployed": 0.0854657113613101,
         "housing_per_capita": 0.5992835209825998,
         "perc_owner": 0.5636208368915457,
         "perc_renter": 0.17933390264731,
         "perc_vacant": 0.2570452604611443,
         "chemical": 0,
         "coastal_storm": 0,
         "dam_levee_break": 0,
         "earthquake": 0,
         "fire": 0,
         "flood": 0,
         "hurricane": 0,
         "mud_landslide": 0,
         "severe_ice_storm": 0,
         "severe_storm": 0,
         "snow": 0,
         "tornado": 0,
         "toxic_substances": 0,
         "typhoon": 0,
         "volcano": 0,
         "county_name": "0",
         "state_name": "0",
         "_deepnote_index_column": "(71, 31, 2014)"
        },
        {
         "name": "Nance County, Nebraska",
         "total_population": 3667,
         "median_income": 46220,
         "median_rent": 532,
         "median_home_value": 71000,
         "educational_attainment": 0.1442382057231245,
         "av_commute_time": 21.65752589884217,
         "perc_poverty": 0.1115353149713662,
         "perc_white": 0.973275156803927,
         "perc_black": 0.0008181074447777,
         "perc_american_indian": 0.0024543223343332,
         "perc_asian": 0.0005454049631851,
         "perc_hawaiian": 0.0008181074447777,
         "perc_other_race": 0,
         "perc_hispanic": 0.0231797109353695,
         "perc_65_over": 0.1955276793018816,
         "perc_enrolled_undergrad": 0.0223616034905917,
         "perc_unemployed": 0.0619034633215162,
         "housing_per_capita": 0.4963185164985001,
         "perc_owner": 0.6521978021978022,
         "perc_renter": 0.1983516483516483,
         "perc_vacant": 0.1494505494505494,
         "chemical": 0,
         "coastal_storm": 0,
         "dam_levee_break": 0,
         "earthquake": 0,
         "fire": 0,
         "flood": 0,
         "hurricane": 0,
         "mud_landslide": 0,
         "severe_ice_storm": 0,
         "severe_storm": 0,
         "snow": 0,
         "tornado": 0,
         "toxic_substances": 0,
         "typhoon": 0,
         "volcano": 0,
         "county_name": "0",
         "state_name": "0",
         "_deepnote_index_column": "(125, 31, 2014)"
        }
       ]
      },
      "text/plain": "                                         name  total_population  \\\ncounty state year                                                 \n117    31    2014  McPherson County, Nebraska             426.0   \n33     31    2014   Cheyenne County, Nebraska           10044.0   \n47     31    2014     Dawson County, Nebraska           24205.0   \n71     31    2014   Garfield County, Nebraska            1954.0   \n125    31    2014      Nance County, Nebraska            3667.0   \n\n                   median_income  median_rent  median_home_value  \\\ncounty state year                                                  \n117    31    2014        57763.0        657.0           132700.0   \n33     31    2014        54094.0        590.0           108400.0   \n47     31    2014        48104.0        648.0            89700.0   \n71     31    2014        41776.0        334.0            84800.0   \n125    31    2014        46220.0        532.0            71000.0   \n\n                   educational_attainment  av_commute_time  perc_poverty  \\\ncounty state year                                                          \n117    31    2014                0.256173        28.689024      0.115023   \n33     31    2014                0.238486        12.566143      0.133413   \n47     31    2014                0.151379        16.033507      0.136501   \n71     31    2014                0.127719        10.801282      0.117195   \n125    31    2014                0.144238        21.657526      0.111535   \n\n                   perc_white  perc_black  ...  mud_landslide  \\\ncounty state year                          ...                  \n117    31    2014    0.981221    0.000000  ...            0.0   \n33     31    2014    0.902031    0.002589  ...            0.0   \n47     31    2014    0.621277    0.040818  ...            0.0   \n71     31    2014    0.981064    0.004606  ...            0.0   \n125    31    2014    0.973275    0.000818  ...            0.0   \n\n                   severe_ice_storm  severe_storm  snow  tornado  \\\ncounty state year                                                  \n117    31    2014               0.0           0.0   0.0      0.0   \n33     31    2014               0.0           0.0   0.0      0.0   \n47     31    2014               0.0           0.0   0.0      0.0   \n71     31    2014               0.0           0.0   0.0      0.0   \n125    31    2014               0.0           0.0   0.0      0.0   \n\n                   toxic_substances  typhoon  volcano  county_name  state_name  \ncounty state year                                                               \n117    31    2014               0.0      0.0      0.0            0           0  \n33     31    2014               0.0      0.0      0.0            0           0  \n47     31    2014               0.0      0.0      0.0            0           0  \n71     31    2014               0.0      0.0      0.0            0           0  \n125    31    2014               0.0      0.0      0.0            0           0  \n\n[5 rows x 39 columns]",
      "text/html": "<div>\n<style scoped>\n    .dataframe tbody tr th:only-of-type {\n        vertical-align: middle;\n    }\n\n    .dataframe tbody tr th {\n        vertical-align: top;\n    }\n\n    .dataframe thead th {\n        text-align: right;\n    }\n</style>\n<table border=\"1\" class=\"dataframe\">\n  <thead>\n    <tr style=\"text-align: right;\">\n      <th></th>\n      <th></th>\n      <th></th>\n      <th>name</th>\n      <th>total_population</th>\n      <th>median_income</th>\n      <th>median_rent</th>\n      <th>median_home_value</th>\n      <th>educational_attainment</th>\n      <th>av_commute_time</th>\n      <th>perc_poverty</th>\n      <th>perc_white</th>\n      <th>perc_black</th>\n      <th>...</th>\n      <th>mud_landslide</th>\n      <th>severe_ice_storm</th>\n      <th>severe_storm</th>\n      <th>snow</th>\n      <th>tornado</th>\n      <th>toxic_substances</th>\n      <th>typhoon</th>\n      <th>volcano</th>\n      <th>county_name</th>\n      <th>state_name</th>\n    </tr>\n    <tr>\n      <th>county</th>\n      <th>state</th>\n      <th>year</th>\n      <th></th>\n      <th></th>\n      <th></th>\n      <th></th>\n      <th></th>\n      <th></th>\n      <th></th>\n      <th></th>\n      <th></th>\n      <th></th>\n      <th></th>\n      <th></th>\n      <th></th>\n      <th></th>\n      <th></th>\n      <th></th>\n      <th></th>\n      <th></th>\n      <th></th>\n      <th></th>\n      <th></th>\n    </tr>\n  </thead>\n  <tbody>\n    <tr>\n      <th>117</th>\n      <th>31</th>\n      <th>2014</th>\n      <td>McPherson County, Nebraska</td>\n      <td>426.0</td>\n      <td>57763.0</td>\n      <td>657.0</td>\n      <td>132700.0</td>\n      <td>0.256173</td>\n      <td>28.689024</td>\n      <td>0.115023</td>\n      <td>0.981221</td>\n      <td>0.000000</td>\n      <td>...</td>\n      <td>0.0</td>\n      <td>0.0</td>\n      <td>0.0</td>\n      <td>0.0</td>\n      <td>0.0</td>\n      <td>0.0</td>\n      <td>0.0</td>\n      <td>0.0</td>\n      <td>0</td>\n      <td>0</td>\n    </tr>\n    <tr>\n      <th>33</th>\n      <th>31</th>\n      <th>2014</th>\n      <td>Cheyenne County, Nebraska</td>\n      <td>10044.0</td>\n      <td>54094.0</td>\n      <td>590.0</td>\n      <td>108400.0</td>\n      <td>0.238486</td>\n      <td>12.566143</td>\n      <td>0.133413</td>\n      <td>0.902031</td>\n      <td>0.002589</td>\n      <td>...</td>\n      <td>0.0</td>\n      <td>0.0</td>\n      <td>0.0</td>\n      <td>0.0</td>\n      <td>0.0</td>\n      <td>0.0</td>\n      <td>0.0</td>\n      <td>0.0</td>\n      <td>0</td>\n      <td>0</td>\n    </tr>\n    <tr>\n      <th>47</th>\n      <th>31</th>\n      <th>2014</th>\n      <td>Dawson County, Nebraska</td>\n      <td>24205.0</td>\n      <td>48104.0</td>\n      <td>648.0</td>\n      <td>89700.0</td>\n      <td>0.151379</td>\n      <td>16.033507</td>\n      <td>0.136501</td>\n      <td>0.621277</td>\n      <td>0.040818</td>\n      <td>...</td>\n      <td>0.0</td>\n      <td>0.0</td>\n      <td>0.0</td>\n      <td>0.0</td>\n      <td>0.0</td>\n      <td>0.0</td>\n      <td>0.0</td>\n      <td>0.0</td>\n      <td>0</td>\n      <td>0</td>\n    </tr>\n    <tr>\n      <th>71</th>\n      <th>31</th>\n      <th>2014</th>\n      <td>Garfield County, Nebraska</td>\n      <td>1954.0</td>\n      <td>41776.0</td>\n      <td>334.0</td>\n      <td>84800.0</td>\n      <td>0.127719</td>\n      <td>10.801282</td>\n      <td>0.117195</td>\n      <td>0.981064</td>\n      <td>0.004606</td>\n      <td>...</td>\n      <td>0.0</td>\n      <td>0.0</td>\n      <td>0.0</td>\n      <td>0.0</td>\n      <td>0.0</td>\n      <td>0.0</td>\n      <td>0.0</td>\n      <td>0.0</td>\n      <td>0</td>\n      <td>0</td>\n    </tr>\n    <tr>\n      <th>125</th>\n      <th>31</th>\n      <th>2014</th>\n      <td>Nance County, Nebraska</td>\n      <td>3667.0</td>\n      <td>46220.0</td>\n      <td>532.0</td>\n      <td>71000.0</td>\n      <td>0.144238</td>\n      <td>21.657526</td>\n      <td>0.111535</td>\n      <td>0.973275</td>\n      <td>0.000818</td>\n      <td>...</td>\n      <td>0.0</td>\n      <td>0.0</td>\n      <td>0.0</td>\n      <td>0.0</td>\n      <td>0.0</td>\n      <td>0.0</td>\n      <td>0.0</td>\n      <td>0.0</td>\n      <td>0</td>\n      <td>0</td>\n    </tr>\n  </tbody>\n</table>\n<p>5 rows × 39 columns</p>\n</div>"
     },
     "metadata": {}
    }
   ],
   "execution_count": null
  },
  {
   "cell_type": "code",
   "metadata": {
    "tags": [],
    "cell_id": "00008-b4c2805e-46ef-43a1-9e39-fccb0841ba63",
    "deepnote_to_be_reexecuted": false,
    "source_hash": "73c26db4",
    "execution_start": 1643551405180,
    "execution_millis": 143,
    "deepnote_cell_type": "code"
   },
   "source": "#Right now we are losing rows on this merge because we ae not synced up on the data\n# Puerto Rico is the biggest difference between ACS and inflow/outflow data\n# there are three counties in acs and not inflow outflow - two in Alaska and one in Hawaii\n\nall_df = pd.merge(acs_fema,irs,how='inner',left_index=True,right_index=True)",
   "outputs": [],
   "execution_count": null
  },
  {
   "cell_type": "code",
   "metadata": {
    "tags": [],
    "cell_id": "00015-eefeec0b-d211-4291-a9b6-9c7a58d01a05",
    "deepnote_to_be_reexecuted": false,
    "source_hash": "1b632283",
    "execution_start": 1643551405328,
    "execution_millis": 7,
    "deepnote_cell_type": "code"
   },
   "source": "all_df.reset_index(inplace=True)",
   "outputs": [],
   "execution_count": null
  },
  {
   "cell_type": "code",
   "metadata": {
    "tags": [],
    "cell_id": "00016-85dee65e-6325-41ca-95ec-99fe3497a8ac",
    "deepnote_to_be_reexecuted": false,
    "source_hash": "79f0c0a7",
    "execution_start": 1643551405341,
    "execution_millis": 20,
    "deepnote_cell_type": "code"
   },
   "source": "all_df = pd.merge(all_df, position, how = 'left', left_on = ['county','state'], right_on=['county','state'])",
   "outputs": [],
   "execution_count": null
  },
  {
   "cell_type": "code",
   "metadata": {
    "tags": [],
    "cell_id": "00025-6c52398f-6570-4bd2-ada0-d9f9a54d0f37",
    "deepnote_to_be_reexecuted": false,
    "source_hash": "be0b1bef",
    "execution_start": 1643551405368,
    "execution_millis": 2,
    "deepnote_output_heights": [
     251
    ],
    "deepnote_cell_type": "code"
   },
   "source": "all_df.columns",
   "outputs": [
    {
     "output_type": "execute_result",
     "execution_count": 19,
     "data": {
      "text/plain": "Index(['county', 'state', 'year', 'name', 'total_population', 'median_income',\n       'median_rent', 'median_home_value', 'educational_attainment',\n       'av_commute_time', 'perc_poverty', 'perc_white', 'perc_black',\n       'perc_american_indian', 'perc_asian', 'perc_hawaiian',\n       'perc_other_race', 'perc_hispanic', 'perc_65_over',\n       'perc_enrolled_undergrad', 'perc_unemployed', 'housing_per_capita',\n       'perc_owner', 'perc_renter', 'perc_vacant', 'chemical', 'coastal_storm',\n       'dam_levee_break', 'earthquake', 'fire', 'flood', 'hurricane',\n       'mud_landslide', 'severe_ice_storm', 'severe_storm', 'snow', 'tornado',\n       'toxic_substances', 'typhoon', 'volcano', 'county_name', 'state_name',\n       'individual_inflow', 'individual_outflow', 'area_land', 'area_water',\n       'longitude', 'latitude'],\n      dtype='object')"
     },
     "metadata": {}
    }
   ],
   "execution_count": null
  },
  {
   "cell_type": "code",
   "metadata": {
    "tags": [],
    "cell_id": "00008-eec6cce7-cacc-4def-ae33-e9ce61d921be",
    "deepnote_to_be_reexecuted": false,
    "source_hash": "dd940341",
    "execution_start": 1643551405423,
    "execution_millis": 6,
    "deepnote_output_heights": [
     611
    ],
    "deepnote_cell_type": "code"
   },
   "source": "all_df.isna().sum()",
   "outputs": [
    {
     "output_type": "execute_result",
     "execution_count": 20,
     "data": {
      "text/plain": "county                     0\nstate                      0\nyear                       0\nname                       0\ntotal_population           0\nmedian_income              0\nmedian_rent                0\nmedian_home_value          0\neducational_attainment     0\nav_commute_time            0\nperc_poverty               0\nperc_white                 0\nperc_black                 0\nperc_american_indian       0\nperc_asian                 0\nperc_hawaiian              0\nperc_other_race            0\nperc_hispanic              0\nperc_65_over               0\nperc_enrolled_undergrad    0\nperc_unemployed            0\nhousing_per_capita         0\nperc_owner                 0\nperc_renter                0\nperc_vacant                0\nchemical                   0\ncoastal_storm              0\ndam_levee_break            0\nearthquake                 0\nfire                       0\nflood                      0\nhurricane                  0\nmud_landslide              0\nsevere_ice_storm           0\nsevere_storm               0\nsnow                       0\ntornado                    0\ntoxic_substances           0\ntyphoon                    0\nvolcano                    0\ncounty_name                0\nstate_name                 0\nindividual_inflow          0\nindividual_outflow         0\narea_land                  2\narea_water                 2\nlongitude                  2\nlatitude                   2\ndtype: int64"
     },
     "metadata": {}
    }
   ],
   "execution_count": null
  },
  {
   "cell_type": "code",
   "metadata": {
    "tags": [],
    "cell_id": "00018-dcf1eff1-571f-49c7-b3c5-bbf750007271",
    "deepnote_to_be_reexecuted": false,
    "source_hash": "b38ed44a",
    "execution_start": 1643551405424,
    "execution_millis": 45,
    "deepnote_output_heights": [
     59.5625
    ],
    "deepnote_table_state": {
     "pageSize": 50,
     "pageIndex": 0,
     "filters": [],
     "sortBy": []
    },
    "deepnote_table_loading": false,
    "deepnote_cell_type": "code"
   },
   "source": "#There are two counties without long/lat data Shannon County and Wade\nprint(all_df[all_df['latitude'].isna()]['name'])\n\n\n# See here for reason: https://www.economy.com/support/blog/buffet.aspx?did=50094FC4-C32C-4CCA-862A-264BC890E13B\n# Shannon County, South Dakota (46-113)\n# Changed name and code to Oglala Lakota County (46-102) effective May 1, 2015.\n\n# Wade Hampton Census Area, Alaska (02-270)\n# Changed name and code to Kusilvak Census Area (02-158) effective July 1, 2015.\n",
   "outputs": [
    {
     "name": "stdout",
     "text": "390         Shannon County, South Dakota\n1998    Wade Hampton Census Area, Alaska\nName: name, dtype: object\n",
     "output_type": "stream"
    }
   ],
   "execution_count": null
  },
  {
   "cell_type": "markdown",
   "source": "### Add National Data Features to CA Data",
   "metadata": {
    "tags": [],
    "cell_id": "00030-dbbfc781-24c4-4524-a037-805d850c35ee",
    "deepnote_cell_type": "markdown"
   }
  },
  {
   "cell_type": "code",
   "metadata": {
    "tags": [],
    "cell_id": "00029-0d5edce1-e22f-437f-89c9-76c3147922b1",
    "deepnote_to_be_reexecuted": false,
    "source_hash": "2249e55",
    "execution_start": 1643551405468,
    "execution_millis": 343,
    "deepnote_cell_type": "code"
   },
   "source": "#Pull out the California rows of national dataset to be joined with CA data\nall_df_ca = all_df[all_df['state']==6]\nall_df.head()",
   "outputs": [
    {
     "output_type": "execute_result",
     "execution_count": 22,
     "data": {
      "application/vnd.deepnote.dataframe.v3+json": {
       "column_count": 48,
       "row_count": 5,
       "columns": [
        {
         "name": "county",
         "dtype": "int64",
         "stats": {
          "unique_count": 5,
          "nan_count": 0,
          "min": "33",
          "max": "125",
          "histogram": [
           {
            "bin_start": 33,
            "bin_end": 42.2,
            "count": 1
           },
           {
            "bin_start": 42.2,
            "bin_end": 51.4,
            "count": 1
           },
           {
            "bin_start": 51.4,
            "bin_end": 60.599999999999994,
            "count": 0
           },
           {
            "bin_start": 60.599999999999994,
            "bin_end": 69.8,
            "count": 0
           },
           {
            "bin_start": 69.8,
            "bin_end": 79,
            "count": 1
           },
           {
            "bin_start": 79,
            "bin_end": 88.19999999999999,
            "count": 0
           },
           {
            "bin_start": 88.19999999999999,
            "bin_end": 97.39999999999999,
            "count": 0
           },
           {
            "bin_start": 97.39999999999999,
            "bin_end": 106.6,
            "count": 0
           },
           {
            "bin_start": 106.6,
            "bin_end": 115.8,
            "count": 0
           },
           {
            "bin_start": 115.8,
            "bin_end": 125,
            "count": 2
           }
          ]
         }
        },
        {
         "name": "state",
         "dtype": "int64",
         "stats": {
          "unique_count": 1,
          "nan_count": 0,
          "min": "31",
          "max": "31",
          "histogram": [
           {
            "bin_start": 30.5,
            "bin_end": 30.6,
            "count": 0
           },
           {
            "bin_start": 30.6,
            "bin_end": 30.7,
            "count": 0
           },
           {
            "bin_start": 30.7,
            "bin_end": 30.8,
            "count": 0
           },
           {
            "bin_start": 30.8,
            "bin_end": 30.9,
            "count": 0
           },
           {
            "bin_start": 30.9,
            "bin_end": 31,
            "count": 0
           },
           {
            "bin_start": 31,
            "bin_end": 31.1,
            "count": 5
           },
           {
            "bin_start": 31.1,
            "bin_end": 31.2,
            "count": 0
           },
           {
            "bin_start": 31.2,
            "bin_end": 31.3,
            "count": 0
           },
           {
            "bin_start": 31.3,
            "bin_end": 31.4,
            "count": 0
           },
           {
            "bin_start": 31.4,
            "bin_end": 31.5,
            "count": 0
           }
          ]
         }
        },
        {
         "name": "year",
         "dtype": "int64",
         "stats": {
          "unique_count": 1,
          "nan_count": 0,
          "min": "2014",
          "max": "2014",
          "histogram": [
           {
            "bin_start": 2013.5,
            "bin_end": 2013.6,
            "count": 0
           },
           {
            "bin_start": 2013.6,
            "bin_end": 2013.7,
            "count": 0
           },
           {
            "bin_start": 2013.7,
            "bin_end": 2013.8,
            "count": 0
           },
           {
            "bin_start": 2013.8,
            "bin_end": 2013.9,
            "count": 0
           },
           {
            "bin_start": 2013.9,
            "bin_end": 2014,
            "count": 0
           },
           {
            "bin_start": 2014,
            "bin_end": 2014.1,
            "count": 5
           },
           {
            "bin_start": 2014.1,
            "bin_end": 2014.2,
            "count": 0
           },
           {
            "bin_start": 2014.2,
            "bin_end": 2014.3,
            "count": 0
           },
           {
            "bin_start": 2014.3,
            "bin_end": 2014.4,
            "count": 0
           },
           {
            "bin_start": 2014.4,
            "bin_end": 2014.5,
            "count": 0
           }
          ]
         }
        },
        {
         "name": "name",
         "dtype": "object",
         "stats": {
          "unique_count": 5,
          "nan_count": 0,
          "categories": [
           {
            "name": "McPherson County, Nebraska",
            "count": 1
           },
           {
            "name": "Cheyenne County, Nebraska",
            "count": 1
           },
           {
            "name": "3 others",
            "count": 3
           }
          ]
         }
        },
        {
         "name": "total_population",
         "dtype": "float64",
         "stats": {
          "unique_count": 5,
          "nan_count": 0,
          "min": "426.0",
          "max": "24205.0",
          "histogram": [
           {
            "bin_start": 426,
            "bin_end": 2803.9,
            "count": 2
           },
           {
            "bin_start": 2803.9,
            "bin_end": 5181.8,
            "count": 1
           },
           {
            "bin_start": 5181.8,
            "bin_end": 7559.700000000001,
            "count": 0
           },
           {
            "bin_start": 7559.700000000001,
            "bin_end": 9937.6,
            "count": 0
           },
           {
            "bin_start": 9937.6,
            "bin_end": 12315.5,
            "count": 1
           },
           {
            "bin_start": 12315.5,
            "bin_end": 14693.400000000001,
            "count": 0
           },
           {
            "bin_start": 14693.400000000001,
            "bin_end": 17071.3,
            "count": 0
           },
           {
            "bin_start": 17071.3,
            "bin_end": 19449.2,
            "count": 0
           },
           {
            "bin_start": 19449.2,
            "bin_end": 21827.100000000002,
            "count": 0
           },
           {
            "bin_start": 21827.100000000002,
            "bin_end": 24205,
            "count": 1
           }
          ]
         }
        },
        {
         "name": "median_income",
         "dtype": "float64",
         "stats": {
          "unique_count": 5,
          "nan_count": 0,
          "min": "41776.0",
          "max": "57763.0",
          "histogram": [
           {
            "bin_start": 41776,
            "bin_end": 43374.7,
            "count": 1
           },
           {
            "bin_start": 43374.7,
            "bin_end": 44973.4,
            "count": 0
           },
           {
            "bin_start": 44973.4,
            "bin_end": 46572.1,
            "count": 1
           },
           {
            "bin_start": 46572.1,
            "bin_end": 48170.8,
            "count": 1
           },
           {
            "bin_start": 48170.8,
            "bin_end": 49769.5,
            "count": 0
           },
           {
            "bin_start": 49769.5,
            "bin_end": 51368.2,
            "count": 0
           },
           {
            "bin_start": 51368.2,
            "bin_end": 52966.9,
            "count": 0
           },
           {
            "bin_start": 52966.9,
            "bin_end": 54565.6,
            "count": 1
           },
           {
            "bin_start": 54565.6,
            "bin_end": 56164.3,
            "count": 0
           },
           {
            "bin_start": 56164.3,
            "bin_end": 57763,
            "count": 1
           }
          ]
         }
        },
        {
         "name": "median_rent",
         "dtype": "float64",
         "stats": {
          "unique_count": 5,
          "nan_count": 0,
          "min": "334.0",
          "max": "657.0",
          "histogram": [
           {
            "bin_start": 334,
            "bin_end": 366.3,
            "count": 1
           },
           {
            "bin_start": 366.3,
            "bin_end": 398.6,
            "count": 0
           },
           {
            "bin_start": 398.6,
            "bin_end": 430.9,
            "count": 0
           },
           {
            "bin_start": 430.9,
            "bin_end": 463.2,
            "count": 0
           },
           {
            "bin_start": 463.2,
            "bin_end": 495.5,
            "count": 0
           },
           {
            "bin_start": 495.5,
            "bin_end": 527.8,
            "count": 0
           },
           {
            "bin_start": 527.8,
            "bin_end": 560.0999999999999,
            "count": 1
           },
           {
            "bin_start": 560.0999999999999,
            "bin_end": 592.4,
            "count": 1
           },
           {
            "bin_start": 592.4,
            "bin_end": 624.7,
            "count": 0
           },
           {
            "bin_start": 624.7,
            "bin_end": 657,
            "count": 2
           }
          ]
         }
        },
        {
         "name": "median_home_value",
         "dtype": "float64",
         "stats": {
          "unique_count": 5,
          "nan_count": 0,
          "min": "71000.0",
          "max": "132700.0",
          "histogram": [
           {
            "bin_start": 71000,
            "bin_end": 77170,
            "count": 1
           },
           {
            "bin_start": 77170,
            "bin_end": 83340,
            "count": 0
           },
           {
            "bin_start": 83340,
            "bin_end": 89510,
            "count": 1
           },
           {
            "bin_start": 89510,
            "bin_end": 95680,
            "count": 1
           },
           {
            "bin_start": 95680,
            "bin_end": 101850,
            "count": 0
           },
           {
            "bin_start": 101850,
            "bin_end": 108020,
            "count": 0
           },
           {
            "bin_start": 108020,
            "bin_end": 114190,
            "count": 1
           },
           {
            "bin_start": 114190,
            "bin_end": 120360,
            "count": 0
           },
           {
            "bin_start": 120360,
            "bin_end": 126530,
            "count": 0
           },
           {
            "bin_start": 126530,
            "bin_end": 132700,
            "count": 1
           }
          ]
         }
        },
        {
         "name": "educational_attainment",
         "dtype": "float64",
         "stats": {
          "unique_count": 5,
          "nan_count": 0,
          "min": "0.127719298245614",
          "max": "0.2561728395061728",
          "histogram": [
           {
            "bin_start": 0.127719298245614,
            "bin_end": 0.1405646523716699,
            "count": 1
           },
           {
            "bin_start": 0.1405646523716699,
            "bin_end": 0.15341000649772576,
            "count": 2
           },
           {
            "bin_start": 0.15341000649772576,
            "bin_end": 0.16625536062378166,
            "count": 0
           },
           {
            "bin_start": 0.16625536062378166,
            "bin_end": 0.17910071474983752,
            "count": 0
           },
           {
            "bin_start": 0.17910071474983752,
            "bin_end": 0.1919460688758934,
            "count": 0
           },
           {
            "bin_start": 0.1919460688758934,
            "bin_end": 0.2047914230019493,
            "count": 0
           },
           {
            "bin_start": 0.2047914230019493,
            "bin_end": 0.21763677712800517,
            "count": 0
           },
           {
            "bin_start": 0.21763677712800517,
            "bin_end": 0.23048213125406106,
            "count": 0
           },
           {
            "bin_start": 0.23048213125406106,
            "bin_end": 0.24332748538011695,
            "count": 1
           },
           {
            "bin_start": 0.24332748538011695,
            "bin_end": 0.2561728395061728,
            "count": 1
           }
          ]
         }
        },
        {
         "name": "av_commute_time",
         "dtype": "float64",
         "stats": {
          "unique_count": 5,
          "nan_count": 0,
          "min": "10.801282051282053",
          "max": "28.6890243902439",
          "histogram": [
           {
            "bin_start": 10.801282051282053,
            "bin_end": 12.590056285178237,
            "count": 2
           },
           {
            "bin_start": 12.590056285178237,
            "bin_end": 14.378830519074423,
            "count": 0
           },
           {
            "bin_start": 14.378830519074423,
            "bin_end": 16.167604752970608,
            "count": 1
           },
           {
            "bin_start": 16.167604752970608,
            "bin_end": 17.956378986866792,
            "count": 0
           },
           {
            "bin_start": 17.956378986866792,
            "bin_end": 19.74515322076298,
            "count": 0
           },
           {
            "bin_start": 19.74515322076298,
            "bin_end": 21.533927454659164,
            "count": 0
           },
           {
            "bin_start": 21.533927454659164,
            "bin_end": 23.322701688555348,
            "count": 1
           },
           {
            "bin_start": 23.322701688555348,
            "bin_end": 25.111475922451532,
            "count": 0
           },
           {
            "bin_start": 25.111475922451532,
            "bin_end": 26.900250156347717,
            "count": 0
           },
           {
            "bin_start": 26.900250156347717,
            "bin_end": 28.6890243902439,
            "count": 1
           }
          ]
         }
        },
        {
         "name": "perc_poverty",
         "dtype": "float64",
         "stats": {
          "unique_count": 5,
          "nan_count": 0,
          "min": "0.1115353149713662",
          "max": "0.1365007229911175",
          "histogram": [
           {
            "bin_start": 0.1115353149713662,
            "bin_end": 0.11403185577334134,
            "count": 1
           },
           {
            "bin_start": 0.11403185577334134,
            "bin_end": 0.11652839657531647,
            "count": 1
           },
           {
            "bin_start": 0.11652839657531647,
            "bin_end": 0.1190249373772916,
            "count": 1
           },
           {
            "bin_start": 0.1190249373772916,
            "bin_end": 0.12152147817926673,
            "count": 0
           },
           {
            "bin_start": 0.12152147817926673,
            "bin_end": 0.12401801898124186,
            "count": 0
           },
           {
            "bin_start": 0.12401801898124186,
            "bin_end": 0.126514559783217,
            "count": 0
           },
           {
            "bin_start": 0.126514559783217,
            "bin_end": 0.1290111005851921,
            "count": 0
           },
           {
            "bin_start": 0.1290111005851921,
            "bin_end": 0.13150764138716725,
            "count": 0
           },
           {
            "bin_start": 0.13150764138716725,
            "bin_end": 0.1340041821891424,
            "count": 1
           },
           {
            "bin_start": 0.1340041821891424,
            "bin_end": 0.1365007229911175,
            "count": 1
           }
          ]
         }
        },
        {
         "name": "perc_white",
         "dtype": "float64",
         "stats": {
          "unique_count": 5,
          "nan_count": 0,
          "min": "0.6212765957446809",
          "max": "0.9812206572769951",
          "histogram": [
           {
            "bin_start": 0.6212765957446809,
            "bin_end": 0.6572710018979123,
            "count": 1
           },
           {
            "bin_start": 0.6572710018979123,
            "bin_end": 0.6932654080511437,
            "count": 0
           },
           {
            "bin_start": 0.6932654080511437,
            "bin_end": 0.7292598142043751,
            "count": 0
           },
           {
            "bin_start": 0.7292598142043751,
            "bin_end": 0.7652542203576066,
            "count": 0
           },
           {
            "bin_start": 0.7652542203576066,
            "bin_end": 0.8012486265108381,
            "count": 0
           },
           {
            "bin_start": 0.8012486265108381,
            "bin_end": 0.8372430326640694,
            "count": 0
           },
           {
            "bin_start": 0.8372430326640694,
            "bin_end": 0.8732374388173009,
            "count": 0
           },
           {
            "bin_start": 0.8732374388173009,
            "bin_end": 0.9092318449705323,
            "count": 1
           },
           {
            "bin_start": 0.9092318449705323,
            "bin_end": 0.9452262511237637,
            "count": 0
           },
           {
            "bin_start": 0.9452262511237637,
            "bin_end": 0.9812206572769951,
            "count": 3
           }
          ]
         }
        },
        {
         "name": "perc_black",
         "dtype": "float64",
         "stats": {
          "unique_count": 5,
          "nan_count": 0,
          "min": "0.0",
          "max": "0.0408180128072712",
          "histogram": [
           {
            "bin_start": 0,
            "bin_end": 0.00408180128072712,
            "count": 3
           },
           {
            "bin_start": 0.00408180128072712,
            "bin_end": 0.00816360256145424,
            "count": 1
           },
           {
            "bin_start": 0.00816360256145424,
            "bin_end": 0.01224540384218136,
            "count": 0
           },
           {
            "bin_start": 0.01224540384218136,
            "bin_end": 0.01632720512290848,
            "count": 0
           },
           {
            "bin_start": 0.01632720512290848,
            "bin_end": 0.020409006403635598,
            "count": 0
           },
           {
            "bin_start": 0.020409006403635598,
            "bin_end": 0.02449080768436272,
            "count": 0
           },
           {
            "bin_start": 0.02449080768436272,
            "bin_end": 0.02857260896508984,
            "count": 0
           },
           {
            "bin_start": 0.02857260896508984,
            "bin_end": 0.03265441024581696,
            "count": 0
           },
           {
            "bin_start": 0.03265441024581696,
            "bin_end": 0.03673621152654408,
            "count": 0
           },
           {
            "bin_start": 0.03673621152654408,
            "bin_end": 0.0408180128072712,
            "count": 1
           }
          ]
         }
        },
        {
         "name": "perc_american_indian",
         "dtype": "float64",
         "stats": {
          "unique_count": 4,
          "nan_count": 0,
          "min": "0.0",
          "max": "0.0086758934104523",
          "histogram": [
           {
            "bin_start": 0,
            "bin_end": 0.0008675893410452299,
            "count": 2
           },
           {
            "bin_start": 0.0008675893410452299,
            "bin_end": 0.0017351786820904598,
            "count": 0
           },
           {
            "bin_start": 0.0017351786820904598,
            "bin_end": 0.0026027680231356896,
            "count": 1
           },
           {
            "bin_start": 0.0026027680231356896,
            "bin_end": 0.0034703573641809197,
            "count": 0
           },
           {
            "bin_start": 0.0034703573641809197,
            "bin_end": 0.00433794670522615,
            "count": 1
           },
           {
            "bin_start": 0.00433794670522615,
            "bin_end": 0.005205536046271379,
            "count": 0
           },
           {
            "bin_start": 0.005205536046271379,
            "bin_end": 0.00607312538731661,
            "count": 0
           },
           {
            "bin_start": 0.00607312538731661,
            "bin_end": 0.006940714728361839,
            "count": 0
           },
           {
            "bin_start": 0.006940714728361839,
            "bin_end": 0.007808304069407069,
            "count": 0
           },
           {
            "bin_start": 0.007808304069407069,
            "bin_end": 0.0086758934104523,
            "count": 1
           }
          ]
         }
        },
        {
         "name": "perc_asian",
         "dtype": "float64",
         "stats": {
          "unique_count": 4,
          "nan_count": 0,
          "min": "0.0",
          "max": "0.0153325368379131",
          "histogram": [
           {
            "bin_start": 0,
            "bin_end": 0.00153325368379131,
            "count": 4
           },
           {
            "bin_start": 0.00153325368379131,
            "bin_end": 0.00306650736758262,
            "count": 0
           },
           {
            "bin_start": 0.00306650736758262,
            "bin_end": 0.00459976105137393,
            "count": 0
           },
           {
            "bin_start": 0.00459976105137393,
            "bin_end": 0.00613301473516524,
            "count": 0
           },
           {
            "bin_start": 0.00613301473516524,
            "bin_end": 0.00766626841895655,
            "count": 0
           },
           {
            "bin_start": 0.00766626841895655,
            "bin_end": 0.00919952210274786,
            "count": 0
           },
           {
            "bin_start": 0.00919952210274786,
            "bin_end": 0.01073277578653917,
            "count": 0
           },
           {
            "bin_start": 0.01073277578653917,
            "bin_end": 0.01226602947033048,
            "count": 0
           },
           {
            "bin_start": 0.01226602947033048,
            "bin_end": 0.01379928315412179,
            "count": 0
           },
           {
            "bin_start": 0.01379928315412179,
            "bin_end": 0.0153325368379131,
            "count": 1
           }
          ]
         }
        },
        {
         "name": "perc_hawaiian",
         "dtype": "float64",
         "stats": {
          "unique_count": 2,
          "nan_count": 0,
          "min": "0.0",
          "max": "0.0008181074447777",
          "histogram": [
           {
            "bin_start": 0,
            "bin_end": 0.00008181074447777,
            "count": 4
           },
           {
            "bin_start": 0.00008181074447777,
            "bin_end": 0.00016362148895554,
            "count": 0
           },
           {
            "bin_start": 0.00016362148895554,
            "bin_end": 0.00024543223343331,
            "count": 0
           },
           {
            "bin_start": 0.00024543223343331,
            "bin_end": 0.00032724297791108,
            "count": 0
           },
           {
            "bin_start": 0.00032724297791108,
            "bin_end": 0.00040905372238885,
            "count": 0
           },
           {
            "bin_start": 0.00040905372238885,
            "bin_end": 0.00049086446686662,
            "count": 0
           },
           {
            "bin_start": 0.00049086446686662,
            "bin_end": 0.00057267521134439,
            "count": 0
           },
           {
            "bin_start": 0.00057267521134439,
            "bin_end": 0.00065448595582216,
            "count": 0
           },
           {
            "bin_start": 0.00065448595582216,
            "bin_end": 0.00073629670029993,
            "count": 0
           },
           {
            "bin_start": 0.00073629670029993,
            "bin_end": 0.0008181074447777,
            "count": 1
           }
          ]
         }
        },
        {
         "name": "perc_other_race",
         "dtype": "float64",
         "stats": {
          "unique_count": 2,
          "nan_count": 0,
          "min": "0.0",
          "max": "9.956192751891676e-05",
          "histogram": [
           {
            "bin_start": 0,
            "bin_end": 0.000009956192751891677,
            "count": 4
           },
           {
            "bin_start": 0.000009956192751891677,
            "bin_end": 0.000019912385503783354,
            "count": 0
           },
           {
            "bin_start": 0.000019912385503783354,
            "bin_end": 0.000029868578255675032,
            "count": 0
           },
           {
            "bin_start": 0.000029868578255675032,
            "bin_end": 0.00003982477100756671,
            "count": 0
           },
           {
            "bin_start": 0.00003982477100756671,
            "bin_end": 0.00004978096375945838,
            "count": 0
           },
           {
            "bin_start": 0.00004978096375945838,
            "bin_end": 0.000059737156511350064,
            "count": 0
           },
           {
            "bin_start": 0.000059737156511350064,
            "bin_end": 0.00006969334926324174,
            "count": 0
           },
           {
            "bin_start": 0.00006969334926324174,
            "bin_end": 0.00007964954201513341,
            "count": 0
           },
           {
            "bin_start": 0.00007964954201513341,
            "bin_end": 0.00008960573476702509,
            "count": 0
           },
           {
            "bin_start": 0.00008960573476702509,
            "bin_end": 0.00009956192751891676,
            "count": 1
           }
          ]
         }
        },
        {
         "name": "perc_hispanic",
         "dtype": "float64",
         "stats": {
          "unique_count": 5,
          "nan_count": 0,
          "min": "0.0087001023541453",
          "max": "0.3260483371204297",
          "histogram": [
           {
            "bin_start": 0.0087001023541453,
            "bin_end": 0.04043492583077374,
            "count": 3
           },
           {
            "bin_start": 0.04043492583077374,
            "bin_end": 0.07216974930740218,
            "count": 1
           },
           {
            "bin_start": 0.07216974930740218,
            "bin_end": 0.10390457278403062,
            "count": 0
           },
           {
            "bin_start": 0.10390457278403062,
            "bin_end": 0.13563939626065907,
            "count": 0
           },
           {
            "bin_start": 0.13563939626065907,
            "bin_end": 0.1673742197372875,
            "count": 0
           },
           {
            "bin_start": 0.1673742197372875,
            "bin_end": 0.19910904321391595,
            "count": 0
           },
           {
            "bin_start": 0.19910904321391595,
            "bin_end": 0.2308438666905444,
            "count": 0
           },
           {
            "bin_start": 0.2308438666905444,
            "bin_end": 0.26257869016717283,
            "count": 0
           },
           {
            "bin_start": 0.26257869016717283,
            "bin_end": 0.29431351364380126,
            "count": 0
           },
           {
            "bin_start": 0.29431351364380126,
            "bin_end": 0.3260483371204297,
            "count": 1
           }
          ]
         }
        },
        {
         "name": "perc_65_over",
         "dtype": "float64",
         "stats": {
          "unique_count": 5,
          "nan_count": 0,
          "min": "0.1398058252427184",
          "max": "0.2676560900716479",
          "histogram": [
           {
            "bin_start": 0.1398058252427184,
            "bin_end": 0.15259085172561135,
            "count": 1
           },
           {
            "bin_start": 0.15259085172561135,
            "bin_end": 0.1653758782085043,
            "count": 1
           },
           {
            "bin_start": 0.1653758782085043,
            "bin_end": 0.17816090469139725,
            "count": 0
           },
           {
            "bin_start": 0.17816090469139725,
            "bin_end": 0.1909459311742902,
            "count": 0
           },
           {
            "bin_start": 0.1909459311742902,
            "bin_end": 0.20373095765718316,
            "count": 1
           },
           {
            "bin_start": 0.20373095765718316,
            "bin_end": 0.2165159841400761,
            "count": 1
           },
           {
            "bin_start": 0.2165159841400761,
            "bin_end": 0.22930101062296906,
            "count": 0
           },
           {
            "bin_start": 0.22930101062296906,
            "bin_end": 0.24208603710586202,
            "count": 0
           },
           {
            "bin_start": 0.24208603710586202,
            "bin_end": 0.254871063588755,
            "count": 0
           },
           {
            "bin_start": 0.254871063588755,
            "bin_end": 0.2676560900716479,
            "count": 1
           }
          ]
         }
        },
        {
         "name": "perc_enrolled_undergrad",
         "dtype": "float64",
         "stats": {
          "unique_count": 5,
          "nan_count": 0,
          "min": "0.0056294779938587",
          "max": "0.0420151334129828",
          "histogram": [
           {
            "bin_start": 0.0056294779938587,
            "bin_end": 0.00926804353577111,
            "count": 2
           },
           {
            "bin_start": 0.00926804353577111,
            "bin_end": 0.012906609077683519,
            "count": 0
           },
           {
            "bin_start": 0.012906609077683519,
            "bin_end": 0.01654517461959593,
            "count": 0
           },
           {
            "bin_start": 0.01654517461959593,
            "bin_end": 0.02018374016150834,
            "count": 0
           },
           {
            "bin_start": 0.02018374016150834,
            "bin_end": 0.02382230570342075,
            "count": 1
           },
           {
            "bin_start": 0.02382230570342075,
            "bin_end": 0.027460871245333158,
            "count": 0
           },
           {
            "bin_start": 0.027460871245333158,
            "bin_end": 0.03109943678724557,
            "count": 1
           },
           {
            "bin_start": 0.03109943678724557,
            "bin_end": 0.034738002329157976,
            "count": 0
           },
           {
            "bin_start": 0.034738002329157976,
            "bin_end": 0.03837656787107038,
            "count": 0
           },
           {
            "bin_start": 0.03837656787107038,
            "bin_end": 0.0420151334129828,
            "count": 1
           }
          ]
         }
        },
        {
         "name": "perc_unemployed",
         "dtype": "float64",
         "stats": {
          "unique_count": 5,
          "nan_count": 0,
          "min": "0.0140845070422535",
          "max": "0.0854657113613101",
          "histogram": [
           {
            "bin_start": 0.0140845070422535,
            "bin_end": 0.02122262747415916,
            "count": 1
           },
           {
            "bin_start": 0.02122262747415916,
            "bin_end": 0.02836074790606482,
            "count": 0
           },
           {
            "bin_start": 0.02836074790606482,
            "bin_end": 0.03549886833797048,
            "count": 0
           },
           {
            "bin_start": 0.03549886833797048,
            "bin_end": 0.04263698876987614,
            "count": 0
           },
           {
            "bin_start": 0.04263698876987614,
            "bin_end": 0.049775109201781804,
            "count": 0
           },
           {
            "bin_start": 0.049775109201781804,
            "bin_end": 0.05691322963368746,
            "count": 0
           },
           {
            "bin_start": 0.05691322963368746,
            "bin_end": 0.06405135006559312,
            "count": 2
           },
           {
            "bin_start": 0.06405135006559312,
            "bin_end": 0.07118947049749878,
            "count": 0
           },
           {
            "bin_start": 0.07118947049749878,
            "bin_end": 0.07832759092940444,
            "count": 0
           },
           {
            "bin_start": 0.07832759092940444,
            "bin_end": 0.0854657113613101,
            "count": 2
           }
          ]
         }
        },
        {
         "name": "housing_per_capita",
         "dtype": "float64",
         "stats": {
          "unique_count": 5,
          "nan_count": 0,
          "min": "0.4187151414996901",
          "max": "0.5992835209825998",
          "histogram": [
           {
            "bin_start": 0.4187151414996901,
            "bin_end": 0.4367719794479811,
            "count": 1
           },
           {
            "bin_start": 0.4367719794479811,
            "bin_end": 0.454828817396272,
            "count": 0
           },
           {
            "bin_start": 0.454828817396272,
            "bin_end": 0.472885655344563,
            "count": 0
           },
           {
            "bin_start": 0.472885655344563,
            "bin_end": 0.490942493292854,
            "count": 1
           },
           {
            "bin_start": 0.490942493292854,
            "bin_end": 0.5089993312411449,
            "count": 1
           },
           {
            "bin_start": 0.5089993312411449,
            "bin_end": 0.527056169189436,
            "count": 0
           },
           {
            "bin_start": 0.527056169189436,
            "bin_end": 0.5451130071377269,
            "count": 0
           },
           {
            "bin_start": 0.5451130071377269,
            "bin_end": 0.5631698450860179,
            "count": 0
           },
           {
            "bin_start": 0.5631698450860179,
            "bin_end": 0.5812266830343089,
            "count": 1
           },
           {
            "bin_start": 0.5812266830343089,
            "bin_end": 0.5992835209825998,
            "count": 1
           }
          ]
         }
        },
        {
         "name": "perc_owner",
         "dtype": "float64",
         "stats": {
          "unique_count": 5,
          "nan_count": 0,
          "min": "0.5286885245901639",
          "max": "0.6521978021978022",
          "histogram": [
           {
            "bin_start": 0.5286885245901639,
            "bin_end": 0.5410394523509278,
            "count": 1
           },
           {
            "bin_start": 0.5410394523509278,
            "bin_end": 0.5533903801116916,
            "count": 0
           },
           {
            "bin_start": 0.5533903801116916,
            "bin_end": 0.5657413078724554,
            "count": 1
           },
           {
            "bin_start": 0.5657413078724554,
            "bin_end": 0.5780922356332192,
            "count": 0
           },
           {
            "bin_start": 0.5780922356332192,
            "bin_end": 0.5904431633939831,
            "count": 1
           },
           {
            "bin_start": 0.5904431633939831,
            "bin_end": 0.6027940911547469,
            "count": 1
           },
           {
            "bin_start": 0.6027940911547469,
            "bin_end": 0.6151450189155108,
            "count": 0
           },
           {
            "bin_start": 0.6151450189155108,
            "bin_end": 0.6274959466762745,
            "count": 0
           },
           {
            "bin_start": 0.6274959466762745,
            "bin_end": 0.6398468744370384,
            "count": 0
           },
           {
            "bin_start": 0.6398468744370384,
            "bin_end": 0.6521978021978022,
            "count": 1
           }
          ]
         }
        },
        {
         "name": "perc_renter",
         "dtype": "float64",
         "stats": {
          "unique_count": 5,
          "nan_count": 0,
          "min": "0.17933390264731",
          "max": "0.2960996528486829",
          "histogram": [
           {
            "bin_start": 0.17933390264731,
            "bin_end": 0.19101047766744728,
            "count": 1
           },
           {
            "bin_start": 0.19101047766744728,
            "bin_end": 0.20268705268758458,
            "count": 1
           },
           {
            "bin_start": 0.20268705268758458,
            "bin_end": 0.21436362770772188,
            "count": 0
           },
           {
            "bin_start": 0.21436362770772188,
            "bin_end": 0.22604020272785916,
            "count": 0
           },
           {
            "bin_start": 0.22604020272785916,
            "bin_end": 0.23771677774799643,
            "count": 0
           },
           {
            "bin_start": 0.23771677774799643,
            "bin_end": 0.24939335276813374,
            "count": 1
           },
           {
            "bin_start": 0.24939335276813374,
            "bin_end": 0.26106992778827104,
            "count": 0
           },
           {
            "bin_start": 0.26106992778827104,
            "bin_end": 0.2727465028084083,
            "count": 1
           },
           {
            "bin_start": 0.2727465028084083,
            "bin_end": 0.2844230778285456,
            "count": 0
           },
           {
            "bin_start": 0.2844230778285456,
            "bin_end": 0.2960996528486829,
            "count": 1
           }
          ]
         }
        },
        {
         "name": "perc_vacant",
         "dtype": "float64",
         "stats": {
          "unique_count": 5,
          "nan_count": 0,
          "min": "0.1051664284255666",
          "max": "0.2570452604611443",
          "histogram": [
           {
            "bin_start": 0.1051664284255666,
            "bin_end": 0.12035431162912437,
            "count": 1
           },
           {
            "bin_start": 0.12035431162912437,
            "bin_end": 0.13554219483268215,
            "count": 0
           },
           {
            "bin_start": 0.13554219483268215,
            "bin_end": 0.1507300780362399,
            "count": 2
           },
           {
            "bin_start": 0.1507300780362399,
            "bin_end": 0.16591796123979768,
            "count": 0
           },
           {
            "bin_start": 0.16591796123979768,
            "bin_end": 0.18110584444335542,
            "count": 0
           },
           {
            "bin_start": 0.18110584444335542,
            "bin_end": 0.19629372764691322,
            "count": 0
           },
           {
            "bin_start": 0.19629372764691322,
            "bin_end": 0.21148161085047096,
            "count": 0
           },
           {
            "bin_start": 0.21148161085047096,
            "bin_end": 0.22666949405402875,
            "count": 0
           },
           {
            "bin_start": 0.22666949405402875,
            "bin_end": 0.2418573772575865,
            "count": 1
           },
           {
            "bin_start": 0.2418573772575865,
            "bin_end": 0.2570452604611443,
            "count": 1
           }
          ]
         }
        },
        {
         "name": "chemical",
         "dtype": "float64",
         "stats": {
          "unique_count": 1,
          "nan_count": 0,
          "min": "0.0",
          "max": "0.0",
          "histogram": [
           {
            "bin_start": -0.5,
            "bin_end": -0.4,
            "count": 0
           },
           {
            "bin_start": -0.4,
            "bin_end": -0.3,
            "count": 0
           },
           {
            "bin_start": -0.3,
            "bin_end": -0.19999999999999996,
            "count": 0
           },
           {
            "bin_start": -0.19999999999999996,
            "bin_end": -0.09999999999999998,
            "count": 0
           },
           {
            "bin_start": -0.09999999999999998,
            "bin_end": 0,
            "count": 0
           },
           {
            "bin_start": 0,
            "bin_end": 0.10000000000000009,
            "count": 5
           },
           {
            "bin_start": 0.10000000000000009,
            "bin_end": 0.20000000000000007,
            "count": 0
           },
           {
            "bin_start": 0.20000000000000007,
            "bin_end": 0.30000000000000004,
            "count": 0
           },
           {
            "bin_start": 0.30000000000000004,
            "bin_end": 0.4,
            "count": 0
           },
           {
            "bin_start": 0.4,
            "bin_end": 0.5,
            "count": 0
           }
          ]
         }
        },
        {
         "name": "coastal_storm",
         "dtype": "float64",
         "stats": {
          "unique_count": 1,
          "nan_count": 0,
          "min": "0.0",
          "max": "0.0",
          "histogram": [
           {
            "bin_start": -0.5,
            "bin_end": -0.4,
            "count": 0
           },
           {
            "bin_start": -0.4,
            "bin_end": -0.3,
            "count": 0
           },
           {
            "bin_start": -0.3,
            "bin_end": -0.19999999999999996,
            "count": 0
           },
           {
            "bin_start": -0.19999999999999996,
            "bin_end": -0.09999999999999998,
            "count": 0
           },
           {
            "bin_start": -0.09999999999999998,
            "bin_end": 0,
            "count": 0
           },
           {
            "bin_start": 0,
            "bin_end": 0.10000000000000009,
            "count": 5
           },
           {
            "bin_start": 0.10000000000000009,
            "bin_end": 0.20000000000000007,
            "count": 0
           },
           {
            "bin_start": 0.20000000000000007,
            "bin_end": 0.30000000000000004,
            "count": 0
           },
           {
            "bin_start": 0.30000000000000004,
            "bin_end": 0.4,
            "count": 0
           },
           {
            "bin_start": 0.4,
            "bin_end": 0.5,
            "count": 0
           }
          ]
         }
        },
        {
         "name": "dam_levee_break",
         "dtype": "float64",
         "stats": {
          "unique_count": 1,
          "nan_count": 0,
          "min": "0.0",
          "max": "0.0",
          "histogram": [
           {
            "bin_start": -0.5,
            "bin_end": -0.4,
            "count": 0
           },
           {
            "bin_start": -0.4,
            "bin_end": -0.3,
            "count": 0
           },
           {
            "bin_start": -0.3,
            "bin_end": -0.19999999999999996,
            "count": 0
           },
           {
            "bin_start": -0.19999999999999996,
            "bin_end": -0.09999999999999998,
            "count": 0
           },
           {
            "bin_start": -0.09999999999999998,
            "bin_end": 0,
            "count": 0
           },
           {
            "bin_start": 0,
            "bin_end": 0.10000000000000009,
            "count": 5
           },
           {
            "bin_start": 0.10000000000000009,
            "bin_end": 0.20000000000000007,
            "count": 0
           },
           {
            "bin_start": 0.20000000000000007,
            "bin_end": 0.30000000000000004,
            "count": 0
           },
           {
            "bin_start": 0.30000000000000004,
            "bin_end": 0.4,
            "count": 0
           },
           {
            "bin_start": 0.4,
            "bin_end": 0.5,
            "count": 0
           }
          ]
         }
        },
        {
         "name": "earthquake",
         "dtype": "float64",
         "stats": {
          "unique_count": 1,
          "nan_count": 0,
          "min": "0.0",
          "max": "0.0",
          "histogram": [
           {
            "bin_start": -0.5,
            "bin_end": -0.4,
            "count": 0
           },
           {
            "bin_start": -0.4,
            "bin_end": -0.3,
            "count": 0
           },
           {
            "bin_start": -0.3,
            "bin_end": -0.19999999999999996,
            "count": 0
           },
           {
            "bin_start": -0.19999999999999996,
            "bin_end": -0.09999999999999998,
            "count": 0
           },
           {
            "bin_start": -0.09999999999999998,
            "bin_end": 0,
            "count": 0
           },
           {
            "bin_start": 0,
            "bin_end": 0.10000000000000009,
            "count": 5
           },
           {
            "bin_start": 0.10000000000000009,
            "bin_end": 0.20000000000000007,
            "count": 0
           },
           {
            "bin_start": 0.20000000000000007,
            "bin_end": 0.30000000000000004,
            "count": 0
           },
           {
            "bin_start": 0.30000000000000004,
            "bin_end": 0.4,
            "count": 0
           },
           {
            "bin_start": 0.4,
            "bin_end": 0.5,
            "count": 0
           }
          ]
         }
        },
        {
         "name": "fire",
         "dtype": "float64",
         "stats": {
          "unique_count": 1,
          "nan_count": 0,
          "min": "0.0",
          "max": "0.0",
          "histogram": [
           {
            "bin_start": -0.5,
            "bin_end": -0.4,
            "count": 0
           },
           {
            "bin_start": -0.4,
            "bin_end": -0.3,
            "count": 0
           },
           {
            "bin_start": -0.3,
            "bin_end": -0.19999999999999996,
            "count": 0
           },
           {
            "bin_start": -0.19999999999999996,
            "bin_end": -0.09999999999999998,
            "count": 0
           },
           {
            "bin_start": -0.09999999999999998,
            "bin_end": 0,
            "count": 0
           },
           {
            "bin_start": 0,
            "bin_end": 0.10000000000000009,
            "count": 5
           },
           {
            "bin_start": 0.10000000000000009,
            "bin_end": 0.20000000000000007,
            "count": 0
           },
           {
            "bin_start": 0.20000000000000007,
            "bin_end": 0.30000000000000004,
            "count": 0
           },
           {
            "bin_start": 0.30000000000000004,
            "bin_end": 0.4,
            "count": 0
           },
           {
            "bin_start": 0.4,
            "bin_end": 0.5,
            "count": 0
           }
          ]
         }
        },
        {
         "name": "flood",
         "dtype": "float64",
         "stats": {
          "unique_count": 1,
          "nan_count": 0,
          "min": "0.0",
          "max": "0.0",
          "histogram": [
           {
            "bin_start": -0.5,
            "bin_end": -0.4,
            "count": 0
           },
           {
            "bin_start": -0.4,
            "bin_end": -0.3,
            "count": 0
           },
           {
            "bin_start": -0.3,
            "bin_end": -0.19999999999999996,
            "count": 0
           },
           {
            "bin_start": -0.19999999999999996,
            "bin_end": -0.09999999999999998,
            "count": 0
           },
           {
            "bin_start": -0.09999999999999998,
            "bin_end": 0,
            "count": 0
           },
           {
            "bin_start": 0,
            "bin_end": 0.10000000000000009,
            "count": 5
           },
           {
            "bin_start": 0.10000000000000009,
            "bin_end": 0.20000000000000007,
            "count": 0
           },
           {
            "bin_start": 0.20000000000000007,
            "bin_end": 0.30000000000000004,
            "count": 0
           },
           {
            "bin_start": 0.30000000000000004,
            "bin_end": 0.4,
            "count": 0
           },
           {
            "bin_start": 0.4,
            "bin_end": 0.5,
            "count": 0
           }
          ]
         }
        },
        {
         "name": "hurricane",
         "dtype": "float64",
         "stats": {
          "unique_count": 1,
          "nan_count": 0,
          "min": "0.0",
          "max": "0.0",
          "histogram": [
           {
            "bin_start": -0.5,
            "bin_end": -0.4,
            "count": 0
           },
           {
            "bin_start": -0.4,
            "bin_end": -0.3,
            "count": 0
           },
           {
            "bin_start": -0.3,
            "bin_end": -0.19999999999999996,
            "count": 0
           },
           {
            "bin_start": -0.19999999999999996,
            "bin_end": -0.09999999999999998,
            "count": 0
           },
           {
            "bin_start": -0.09999999999999998,
            "bin_end": 0,
            "count": 0
           },
           {
            "bin_start": 0,
            "bin_end": 0.10000000000000009,
            "count": 5
           },
           {
            "bin_start": 0.10000000000000009,
            "bin_end": 0.20000000000000007,
            "count": 0
           },
           {
            "bin_start": 0.20000000000000007,
            "bin_end": 0.30000000000000004,
            "count": 0
           },
           {
            "bin_start": 0.30000000000000004,
            "bin_end": 0.4,
            "count": 0
           },
           {
            "bin_start": 0.4,
            "bin_end": 0.5,
            "count": 0
           }
          ]
         }
        },
        {
         "name": "mud_landslide",
         "dtype": "float64",
         "stats": {
          "unique_count": 1,
          "nan_count": 0,
          "min": "0.0",
          "max": "0.0",
          "histogram": [
           {
            "bin_start": -0.5,
            "bin_end": -0.4,
            "count": 0
           },
           {
            "bin_start": -0.4,
            "bin_end": -0.3,
            "count": 0
           },
           {
            "bin_start": -0.3,
            "bin_end": -0.19999999999999996,
            "count": 0
           },
           {
            "bin_start": -0.19999999999999996,
            "bin_end": -0.09999999999999998,
            "count": 0
           },
           {
            "bin_start": -0.09999999999999998,
            "bin_end": 0,
            "count": 0
           },
           {
            "bin_start": 0,
            "bin_end": 0.10000000000000009,
            "count": 5
           },
           {
            "bin_start": 0.10000000000000009,
            "bin_end": 0.20000000000000007,
            "count": 0
           },
           {
            "bin_start": 0.20000000000000007,
            "bin_end": 0.30000000000000004,
            "count": 0
           },
           {
            "bin_start": 0.30000000000000004,
            "bin_end": 0.4,
            "count": 0
           },
           {
            "bin_start": 0.4,
            "bin_end": 0.5,
            "count": 0
           }
          ]
         }
        },
        {
         "name": "severe_ice_storm",
         "dtype": "float64",
         "stats": {
          "unique_count": 1,
          "nan_count": 0,
          "min": "0.0",
          "max": "0.0",
          "histogram": [
           {
            "bin_start": -0.5,
            "bin_end": -0.4,
            "count": 0
           },
           {
            "bin_start": -0.4,
            "bin_end": -0.3,
            "count": 0
           },
           {
            "bin_start": -0.3,
            "bin_end": -0.19999999999999996,
            "count": 0
           },
           {
            "bin_start": -0.19999999999999996,
            "bin_end": -0.09999999999999998,
            "count": 0
           },
           {
            "bin_start": -0.09999999999999998,
            "bin_end": 0,
            "count": 0
           },
           {
            "bin_start": 0,
            "bin_end": 0.10000000000000009,
            "count": 5
           },
           {
            "bin_start": 0.10000000000000009,
            "bin_end": 0.20000000000000007,
            "count": 0
           },
           {
            "bin_start": 0.20000000000000007,
            "bin_end": 0.30000000000000004,
            "count": 0
           },
           {
            "bin_start": 0.30000000000000004,
            "bin_end": 0.4,
            "count": 0
           },
           {
            "bin_start": 0.4,
            "bin_end": 0.5,
            "count": 0
           }
          ]
         }
        },
        {
         "name": "severe_storm",
         "dtype": "float64",
         "stats": {
          "unique_count": 1,
          "nan_count": 0,
          "min": "0.0",
          "max": "0.0",
          "histogram": [
           {
            "bin_start": -0.5,
            "bin_end": -0.4,
            "count": 0
           },
           {
            "bin_start": -0.4,
            "bin_end": -0.3,
            "count": 0
           },
           {
            "bin_start": -0.3,
            "bin_end": -0.19999999999999996,
            "count": 0
           },
           {
            "bin_start": -0.19999999999999996,
            "bin_end": -0.09999999999999998,
            "count": 0
           },
           {
            "bin_start": -0.09999999999999998,
            "bin_end": 0,
            "count": 0
           },
           {
            "bin_start": 0,
            "bin_end": 0.10000000000000009,
            "count": 5
           },
           {
            "bin_start": 0.10000000000000009,
            "bin_end": 0.20000000000000007,
            "count": 0
           },
           {
            "bin_start": 0.20000000000000007,
            "bin_end": 0.30000000000000004,
            "count": 0
           },
           {
            "bin_start": 0.30000000000000004,
            "bin_end": 0.4,
            "count": 0
           },
           {
            "bin_start": 0.4,
            "bin_end": 0.5,
            "count": 0
           }
          ]
         }
        },
        {
         "name": "snow",
         "dtype": "float64",
         "stats": {
          "unique_count": 1,
          "nan_count": 0,
          "min": "0.0",
          "max": "0.0",
          "histogram": [
           {
            "bin_start": -0.5,
            "bin_end": -0.4,
            "count": 0
           },
           {
            "bin_start": -0.4,
            "bin_end": -0.3,
            "count": 0
           },
           {
            "bin_start": -0.3,
            "bin_end": -0.19999999999999996,
            "count": 0
           },
           {
            "bin_start": -0.19999999999999996,
            "bin_end": -0.09999999999999998,
            "count": 0
           },
           {
            "bin_start": -0.09999999999999998,
            "bin_end": 0,
            "count": 0
           },
           {
            "bin_start": 0,
            "bin_end": 0.10000000000000009,
            "count": 5
           },
           {
            "bin_start": 0.10000000000000009,
            "bin_end": 0.20000000000000007,
            "count": 0
           },
           {
            "bin_start": 0.20000000000000007,
            "bin_end": 0.30000000000000004,
            "count": 0
           },
           {
            "bin_start": 0.30000000000000004,
            "bin_end": 0.4,
            "count": 0
           },
           {
            "bin_start": 0.4,
            "bin_end": 0.5,
            "count": 0
           }
          ]
         }
        },
        {
         "name": "tornado",
         "dtype": "float64",
         "stats": {
          "unique_count": 1,
          "nan_count": 0,
          "min": "0.0",
          "max": "0.0",
          "histogram": [
           {
            "bin_start": -0.5,
            "bin_end": -0.4,
            "count": 0
           },
           {
            "bin_start": -0.4,
            "bin_end": -0.3,
            "count": 0
           },
           {
            "bin_start": -0.3,
            "bin_end": -0.19999999999999996,
            "count": 0
           },
           {
            "bin_start": -0.19999999999999996,
            "bin_end": -0.09999999999999998,
            "count": 0
           },
           {
            "bin_start": -0.09999999999999998,
            "bin_end": 0,
            "count": 0
           },
           {
            "bin_start": 0,
            "bin_end": 0.10000000000000009,
            "count": 5
           },
           {
            "bin_start": 0.10000000000000009,
            "bin_end": 0.20000000000000007,
            "count": 0
           },
           {
            "bin_start": 0.20000000000000007,
            "bin_end": 0.30000000000000004,
            "count": 0
           },
           {
            "bin_start": 0.30000000000000004,
            "bin_end": 0.4,
            "count": 0
           },
           {
            "bin_start": 0.4,
            "bin_end": 0.5,
            "count": 0
           }
          ]
         }
        },
        {
         "name": "toxic_substances",
         "dtype": "float64",
         "stats": {
          "unique_count": 1,
          "nan_count": 0,
          "min": "0.0",
          "max": "0.0",
          "histogram": [
           {
            "bin_start": -0.5,
            "bin_end": -0.4,
            "count": 0
           },
           {
            "bin_start": -0.4,
            "bin_end": -0.3,
            "count": 0
           },
           {
            "bin_start": -0.3,
            "bin_end": -0.19999999999999996,
            "count": 0
           },
           {
            "bin_start": -0.19999999999999996,
            "bin_end": -0.09999999999999998,
            "count": 0
           },
           {
            "bin_start": -0.09999999999999998,
            "bin_end": 0,
            "count": 0
           },
           {
            "bin_start": 0,
            "bin_end": 0.10000000000000009,
            "count": 5
           },
           {
            "bin_start": 0.10000000000000009,
            "bin_end": 0.20000000000000007,
            "count": 0
           },
           {
            "bin_start": 0.20000000000000007,
            "bin_end": 0.30000000000000004,
            "count": 0
           },
           {
            "bin_start": 0.30000000000000004,
            "bin_end": 0.4,
            "count": 0
           },
           {
            "bin_start": 0.4,
            "bin_end": 0.5,
            "count": 0
           }
          ]
         }
        },
        {
         "name": "typhoon",
         "dtype": "float64",
         "stats": {
          "unique_count": 1,
          "nan_count": 0,
          "min": "0.0",
          "max": "0.0",
          "histogram": [
           {
            "bin_start": -0.5,
            "bin_end": -0.4,
            "count": 0
           },
           {
            "bin_start": -0.4,
            "bin_end": -0.3,
            "count": 0
           },
           {
            "bin_start": -0.3,
            "bin_end": -0.19999999999999996,
            "count": 0
           },
           {
            "bin_start": -0.19999999999999996,
            "bin_end": -0.09999999999999998,
            "count": 0
           },
           {
            "bin_start": -0.09999999999999998,
            "bin_end": 0,
            "count": 0
           },
           {
            "bin_start": 0,
            "bin_end": 0.10000000000000009,
            "count": 5
           },
           {
            "bin_start": 0.10000000000000009,
            "bin_end": 0.20000000000000007,
            "count": 0
           },
           {
            "bin_start": 0.20000000000000007,
            "bin_end": 0.30000000000000004,
            "count": 0
           },
           {
            "bin_start": 0.30000000000000004,
            "bin_end": 0.4,
            "count": 0
           },
           {
            "bin_start": 0.4,
            "bin_end": 0.5,
            "count": 0
           }
          ]
         }
        },
        {
         "name": "volcano",
         "dtype": "float64",
         "stats": {
          "unique_count": 1,
          "nan_count": 0,
          "min": "0.0",
          "max": "0.0",
          "histogram": [
           {
            "bin_start": -0.5,
            "bin_end": -0.4,
            "count": 0
           },
           {
            "bin_start": -0.4,
            "bin_end": -0.3,
            "count": 0
           },
           {
            "bin_start": -0.3,
            "bin_end": -0.19999999999999996,
            "count": 0
           },
           {
            "bin_start": -0.19999999999999996,
            "bin_end": -0.09999999999999998,
            "count": 0
           },
           {
            "bin_start": -0.09999999999999998,
            "bin_end": 0,
            "count": 0
           },
           {
            "bin_start": 0,
            "bin_end": 0.10000000000000009,
            "count": 5
           },
           {
            "bin_start": 0.10000000000000009,
            "bin_end": 0.20000000000000007,
            "count": 0
           },
           {
            "bin_start": 0.20000000000000007,
            "bin_end": 0.30000000000000004,
            "count": 0
           },
           {
            "bin_start": 0.30000000000000004,
            "bin_end": 0.4,
            "count": 0
           },
           {
            "bin_start": 0.4,
            "bin_end": 0.5,
            "count": 0
           }
          ]
         }
        },
        {
         "name": "county_name",
         "dtype": "object",
         "stats": {
          "unique_count": 1,
          "nan_count": 0,
          "categories": [
           {
            "name": "0",
            "count": 5
           }
          ]
         }
        },
        {
         "name": "state_name",
         "dtype": "object",
         "stats": {
          "unique_count": 1,
          "nan_count": 0,
          "categories": [
           {
            "name": "0",
            "count": 5
           }
          ]
         }
        },
        {
         "name": "individual_inflow",
         "dtype": "int64",
         "stats": {
          "unique_count": 5,
          "nan_count": 0,
          "min": "0",
          "max": "1205",
          "histogram": [
           {
            "bin_start": 0,
            "bin_end": 120.5,
            "count": 2
           },
           {
            "bin_start": 120.5,
            "bin_end": 241,
            "count": 1
           },
           {
            "bin_start": 241,
            "bin_end": 361.5,
            "count": 0
           },
           {
            "bin_start": 361.5,
            "bin_end": 482,
            "count": 0
           },
           {
            "bin_start": 482,
            "bin_end": 602.5,
            "count": 0
           },
           {
            "bin_start": 602.5,
            "bin_end": 723,
            "count": 1
           },
           {
            "bin_start": 723,
            "bin_end": 843.5,
            "count": 0
           },
           {
            "bin_start": 843.5,
            "bin_end": 964,
            "count": 0
           },
           {
            "bin_start": 964,
            "bin_end": 1084.5,
            "count": 0
           },
           {
            "bin_start": 1084.5,
            "bin_end": 1205,
            "count": 1
           }
          ]
         }
        },
        {
         "name": "individual_outflow",
         "dtype": "int64",
         "stats": {
          "unique_count": 5,
          "nan_count": 0,
          "min": "0",
          "max": "1413",
          "histogram": [
           {
            "bin_start": 0,
            "bin_end": 141.3,
            "count": 3
           },
           {
            "bin_start": 141.3,
            "bin_end": 282.6,
            "count": 0
           },
           {
            "bin_start": 282.6,
            "bin_end": 423.90000000000003,
            "count": 0
           },
           {
            "bin_start": 423.90000000000003,
            "bin_end": 565.2,
            "count": 1
           },
           {
            "bin_start": 565.2,
            "bin_end": 706.5,
            "count": 0
           },
           {
            "bin_start": 706.5,
            "bin_end": 847.8000000000001,
            "count": 0
           },
           {
            "bin_start": 847.8000000000001,
            "bin_end": 989.1000000000001,
            "count": 0
           },
           {
            "bin_start": 989.1000000000001,
            "bin_end": 1130.4,
            "count": 0
           },
           {
            "bin_start": 1130.4,
            "bin_end": 1271.7,
            "count": 0
           },
           {
            "bin_start": 1271.7,
            "bin_end": 1413,
            "count": 1
           }
          ]
         }
        },
        {
         "name": "area_land",
         "dtype": "float64",
         "stats": {
          "unique_count": 5,
          "nan_count": 0,
          "min": "1143826229.0",
          "max": "3098367764.0",
          "histogram": [
           {
            "bin_start": 1143826229,
            "bin_end": 1339280382.5,
            "count": 1
           },
           {
            "bin_start": 1339280382.5,
            "bin_end": 1534734536,
            "count": 1
           },
           {
            "bin_start": 1534734536,
            "bin_end": 1730188689.5,
            "count": 0
           },
           {
            "bin_start": 1730188689.5,
            "bin_end": 1925642843,
            "count": 0
           },
           {
            "bin_start": 1925642843,
            "bin_end": 2121096996.5,
            "count": 0
           },
           {
            "bin_start": 2121096996.5,
            "bin_end": 2316551150,
            "count": 1
           },
           {
            "bin_start": 2316551150,
            "bin_end": 2512005303.5,
            "count": 0
           },
           {
            "bin_start": 2512005303.5,
            "bin_end": 2707459457,
            "count": 1
           },
           {
            "bin_start": 2707459457,
            "bin_end": 2902913610.5,
            "count": 0
           },
           {
            "bin_start": 2902913610.5,
            "bin_end": 3098367764,
            "count": 1
           }
          ]
         }
        },
        {
         "name": "area_water",
         "dtype": "float64",
         "stats": {
          "unique_count": 5,
          "nan_count": 0,
          "min": "292549.0",
          "max": "17085959.0",
          "histogram": [
           {
            "bin_start": 292549,
            "bin_end": 1971890,
            "count": 1
           },
           {
            "bin_start": 1971890,
            "bin_end": 3651231,
            "count": 1
           },
           {
            "bin_start": 3651231,
            "bin_end": 5330572,
            "count": 1
           },
           {
            "bin_start": 5330572,
            "bin_end": 7009913,
            "count": 0
           },
           {
            "bin_start": 7009913,
            "bin_end": 8689254,
            "count": 0
           },
           {
            "bin_start": 8689254,
            "bin_end": 10368595,
            "count": 0
           },
           {
            "bin_start": 10368595,
            "bin_end": 12047936,
            "count": 0
           },
           {
            "bin_start": 12047936,
            "bin_end": 13727277,
            "count": 0
           },
           {
            "bin_start": 13727277,
            "bin_end": 15406618,
            "count": 0
           },
           {
            "bin_start": 15406618,
            "bin_end": 17085959,
            "count": 2
           }
          ]
         }
        },
        {
         "name": "longitude",
         "dtype": "float64",
         "stats": {
          "unique_count": 5,
          "nan_count": 0,
          "min": "-102.99416929770577",
          "max": "-97.99327291140388",
          "histogram": [
           {
            "bin_start": -102.99416929770577,
            "bin_end": -102.49407965907558,
            "count": 1
           },
           {
            "bin_start": -102.49407965907558,
            "bin_end": -101.9939900204454,
            "count": 0
           },
           {
            "bin_start": -101.9939900204454,
            "bin_end": -101.4939003818152,
            "count": 0
           },
           {
            "bin_start": -101.4939003818152,
            "bin_end": -100.99381074318501,
            "count": 1
           },
           {
            "bin_start": -100.99381074318501,
            "bin_end": -100.49372110455482,
            "count": 0
           },
           {
            "bin_start": -100.49372110455482,
            "bin_end": -99.99363146592464,
            "count": 0
           },
           {
            "bin_start": -99.99363146592464,
            "bin_end": -99.49354182729445,
            "count": 1
           },
           {
            "bin_start": -99.49354182729445,
            "bin_end": -98.99345218866425,
            "count": 0
           },
           {
            "bin_start": -98.99345218866425,
            "bin_end": -98.49336255003406,
            "count": 1
           },
           {
            "bin_start": -98.49336255003406,
            "bin_end": -97.99327291140388,
            "count": 1
           }
          ]
         }
        },
        {
         "name": "latitude",
         "dtype": "float64",
         "stats": {
          "unique_count": 5,
          "nan_count": 0,
          "min": "40.87028216350619",
          "max": "41.91428954780174",
          "histogram": [
           {
            "bin_start": 40.87028216350619,
            "bin_end": 40.97468290193574,
            "count": 1
           },
           {
            "bin_start": 40.97468290193574,
            "bin_end": 41.0790836403653,
            "count": 0
           },
           {
            "bin_start": 41.0790836403653,
            "bin_end": 41.18348437879485,
            "count": 0
           },
           {
            "bin_start": 41.18348437879485,
            "bin_end": 41.287885117224405,
            "count": 1
           },
           {
            "bin_start": 41.287885117224405,
            "bin_end": 41.39228585565397,
            "count": 0
           },
           {
            "bin_start": 41.39228585565397,
            "bin_end": 41.49668659408352,
            "count": 1
           },
           {
            "bin_start": 41.49668659408352,
            "bin_end": 41.601087332513075,
            "count": 1
           },
           {
            "bin_start": 41.601087332513075,
            "bin_end": 41.70548807094263,
            "count": 0
           },
           {
            "bin_start": 41.70548807094263,
            "bin_end": 41.80988880937218,
            "count": 0
           },
           {
            "bin_start": 41.80988880937218,
            "bin_end": 41.91428954780174,
            "count": 1
           }
          ]
         }
        },
        {
         "name": "_deepnote_index_column",
         "dtype": "int64"
        }
       ],
       "rows": [
        {
         "county": 117,
         "state": 31,
         "year": 2014,
         "name": "McPherson County, Nebraska",
         "total_population": 426,
         "median_income": 57763,
         "median_rent": 657,
         "median_home_value": 132700,
         "educational_attainment": 0.2561728395061728,
         "av_commute_time": 28.6890243902439,
         "perc_poverty": 0.1150234741784037,
         "perc_white": 0.9812206572769951,
         "perc_black": 0,
         "perc_american_indian": 0,
         "perc_asian": 0,
         "perc_hawaiian": 0,
         "perc_other_race": 0,
         "perc_hispanic": 0.0093896713615023,
         "perc_65_over": 0.2089201877934272,
         "perc_enrolled_undergrad": 0.0070422535211267,
         "perc_unemployed": 0.0140845070422535,
         "housing_per_capita": 0.5727699530516432,
         "perc_owner": 0.5286885245901639,
         "perc_renter": 0.2418032786885245,
         "perc_vacant": 0.2295081967213114,
         "chemical": 0,
         "coastal_storm": 0,
         "dam_levee_break": 0,
         "earthquake": 0,
         "fire": 0,
         "flood": 0,
         "hurricane": 0,
         "mud_landslide": 0,
         "severe_ice_storm": 0,
         "severe_storm": 0,
         "snow": 0,
         "tornado": 0,
         "toxic_substances": 0,
         "typhoon": 0,
         "volcano": 0,
         "county_name": "0",
         "state_name": "0",
         "individual_inflow": 0,
         "individual_outflow": 0,
         "area_land": 2224733580,
         "area_water": 2680669,
         "longitude": -101.05993620110928,
         "latitude": 41.567976820586765,
         "_deepnote_index_column": 0
        },
        {
         "county": 33,
         "state": 31,
         "year": 2014,
         "name": "Cheyenne County, Nebraska",
         "total_population": 10044,
         "median_income": 54094,
         "median_rent": 590,
         "median_home_value": 108400,
         "educational_attainment": 0.2384858952216465,
         "av_commute_time": 12.56614263803681,
         "perc_poverty": 0.1334129828753484,
         "perc_white": 0.902031063321386,
         "perc_black": 0.0025886101154918,
         "perc_american_indian": 0.0041816009557945,
         "perc_asian": 0.0153325368379131,
         "perc_hawaiian": 0,
         "perc_other_race": 0.00009956192751891676,
         "perc_hispanic": 0.063321385902031,
         "perc_65_over": 0.1609916367980884,
         "perc_enrolled_undergrad": 0.0420151334129828,
         "perc_unemployed": 0.0575467941059338,
         "housing_per_capita": 0.4875547590601354,
         "perc_owner": 0.5987339187257504,
         "perc_renter": 0.2960996528486829,
         "perc_vacant": 0.1051664284255666,
         "chemical": 0,
         "coastal_storm": 0,
         "dam_levee_break": 0,
         "earthquake": 0,
         "fire": 0,
         "flood": 0,
         "hurricane": 0,
         "mud_landslide": 0,
         "severe_ice_storm": 0,
         "severe_storm": 0,
         "snow": 0,
         "tornado": 0,
         "toxic_substances": 0,
         "typhoon": 0,
         "volcano": 0,
         "county_name": "0",
         "state_name": "0",
         "individual_inflow": 617,
         "individual_outflow": 505,
         "area_land": 3098367764,
         "area_water": 292549,
         "longitude": -102.99416929770577,
         "latitude": 41.21999356724028,
         "_deepnote_index_column": 1
        },
        {
         "county": 47,
         "state": 31,
         "year": 2014,
         "name": "Dawson County, Nebraska",
         "total_population": 24205,
         "median_income": 48104,
         "median_rent": 648,
         "median_home_value": 89700,
         "educational_attainment": 0.1513791308873276,
         "av_commute_time": 16.033507397737164,
         "perc_poverty": 0.1365007229911175,
         "perc_white": 0.6212765957446809,
         "perc_black": 0.0408180128072712,
         "perc_american_indian": 0.0086758934104523,
         "perc_asian": 0.0007436480066102,
         "perc_hawaiian": 0,
         "perc_other_race": 0,
         "perc_hispanic": 0.3260483371204297,
         "perc_65_over": 0.1398058252427184,
         "perc_enrolled_undergrad": 0.0280933691386077,
         "perc_unemployed": 0.0785374922536666,
         "housing_per_capita": 0.4187151414996901,
         "perc_owner": 0.5890478539713863,
         "perc_renter": 0.2724222989639862,
         "perc_vacant": 0.1385298470646275,
         "chemical": 0,
         "coastal_storm": 0,
         "dam_levee_break": 0,
         "earthquake": 0,
         "fire": 0,
         "flood": 0,
         "hurricane": 0,
         "mud_landslide": 0,
         "severe_ice_storm": 0,
         "severe_storm": 0,
         "snow": 0,
         "tornado": 0,
         "toxic_substances": 0,
         "typhoon": 0,
         "volcano": 0,
         "county_name": "0",
         "state_name": "0",
         "individual_inflow": 1205,
         "individual_outflow": 1413,
         "area_land": 2623887234,
         "area_water": 16431843,
         "longitude": -99.82014610137765,
         "latitude": 40.87028216350619,
         "_deepnote_index_column": 2
        },
        {
         "county": 71,
         "state": 31,
         "year": 2014,
         "name": "Garfield County, Nebraska",
         "total_population": 1954,
         "median_income": 41776,
         "median_rent": 334,
         "median_home_value": 84800,
         "educational_attainment": 0.127719298245614,
         "av_commute_time": 10.801282051282053,
         "perc_poverty": 0.1171954964176049,
         "perc_white": 0.981064483111566,
         "perc_black": 0.0046059365404298,
         "perc_american_indian": 0,
         "perc_asian": 0,
         "perc_hawaiian": 0,
         "perc_other_race": 0,
         "perc_hispanic": 0.0087001023541453,
         "perc_65_over": 0.2676560900716479,
         "perc_enrolled_undergrad": 0.0056294779938587,
         "perc_unemployed": 0.0854657113613101,
         "housing_per_capita": 0.5992835209825998,
         "perc_owner": 0.5636208368915457,
         "perc_renter": 0.17933390264731,
         "perc_vacant": 0.2570452604611443,
         "chemical": 0,
         "coastal_storm": 0,
         "dam_levee_break": 0,
         "earthquake": 0,
         "fire": 0,
         "flood": 0,
         "hurricane": 0,
         "mud_landslide": 0,
         "severe_ice_storm": 0,
         "severe_storm": 0,
         "snow": 0,
         "tornado": 0,
         "toxic_substances": 0,
         "typhoon": 0,
         "volcano": 0,
         "county_name": "0",
         "state_name": "0",
         "individual_inflow": 70,
         "individual_outflow": 66,
         "area_land": 1474558349,
         "area_water": 5321553,
         "longitude": -98.9911182720622,
         "latitude": 41.91428954780174,
         "_deepnote_index_column": 3
        },
        {
         "county": 125,
         "state": 31,
         "year": 2014,
         "name": "Nance County, Nebraska",
         "total_population": 3667,
         "median_income": 46220,
         "median_rent": 532,
         "median_home_value": 71000,
         "educational_attainment": 0.1442382057231245,
         "av_commute_time": 21.65752589884217,
         "perc_poverty": 0.1115353149713662,
         "perc_white": 0.973275156803927,
         "perc_black": 0.0008181074447777,
         "perc_american_indian": 0.0024543223343332,
         "perc_asian": 0.0005454049631851,
         "perc_hawaiian": 0.0008181074447777,
         "perc_other_race": 0,
         "perc_hispanic": 0.0231797109353695,
         "perc_65_over": 0.1955276793018816,
         "perc_enrolled_undergrad": 0.0223616034905917,
         "perc_unemployed": 0.0619034633215162,
         "housing_per_capita": 0.4963185164985001,
         "perc_owner": 0.6521978021978022,
         "perc_renter": 0.1983516483516483,
         "perc_vacant": 0.1494505494505494,
         "chemical": 0,
         "coastal_storm": 0,
         "dam_levee_break": 0,
         "earthquake": 0,
         "fire": 0,
         "flood": 0,
         "hurricane": 0,
         "mud_landslide": 0,
         "severe_ice_storm": 0,
         "severe_storm": 0,
         "snow": 0,
         "tornado": 0,
         "toxic_substances": 0,
         "typhoon": 0,
         "volcano": 0,
         "county_name": "0",
         "state_name": "0",
         "individual_inflow": 169,
         "individual_outflow": 117,
         "area_land": 1143826229,
         "area_water": 17085959,
         "longitude": -97.99327291140388,
         "latitude": 41.39750194860172,
         "_deepnote_index_column": 4
        }
       ]
      },
      "text/plain": "   county  state  year                        name  total_population  \\\n0     117     31  2014  McPherson County, Nebraska             426.0   \n1      33     31  2014   Cheyenne County, Nebraska           10044.0   \n2      47     31  2014     Dawson County, Nebraska           24205.0   \n3      71     31  2014   Garfield County, Nebraska            1954.0   \n4     125     31  2014      Nance County, Nebraska            3667.0   \n\n   median_income  median_rent  median_home_value  educational_attainment  \\\n0        57763.0        657.0           132700.0                0.256173   \n1        54094.0        590.0           108400.0                0.238486   \n2        48104.0        648.0            89700.0                0.151379   \n3        41776.0        334.0            84800.0                0.127719   \n4        46220.0        532.0            71000.0                0.144238   \n\n   av_commute_time  ...  typhoon  volcano  county_name  state_name  \\\n0        28.689024  ...      0.0      0.0            0           0   \n1        12.566143  ...      0.0      0.0            0           0   \n2        16.033507  ...      0.0      0.0            0           0   \n3        10.801282  ...      0.0      0.0            0           0   \n4        21.657526  ...      0.0      0.0            0           0   \n\n   individual_inflow  individual_outflow     area_land  area_water  \\\n0                  0                   0  2.224734e+09   2680669.0   \n1                617                 505  3.098368e+09    292549.0   \n2               1205                1413  2.623887e+09  16431843.0   \n3                 70                  66  1.474558e+09   5321553.0   \n4                169                 117  1.143826e+09  17085959.0   \n\n    longitude   latitude  \n0 -101.059936  41.567977  \n1 -102.994169  41.219994  \n2  -99.820146  40.870282  \n3  -98.991118  41.914290  \n4  -97.993273  41.397502  \n\n[5 rows x 48 columns]",
      "text/html": "<div>\n<style scoped>\n    .dataframe tbody tr th:only-of-type {\n        vertical-align: middle;\n    }\n\n    .dataframe tbody tr th {\n        vertical-align: top;\n    }\n\n    .dataframe thead th {\n        text-align: right;\n    }\n</style>\n<table border=\"1\" class=\"dataframe\">\n  <thead>\n    <tr style=\"text-align: right;\">\n      <th></th>\n      <th>county</th>\n      <th>state</th>\n      <th>year</th>\n      <th>name</th>\n      <th>total_population</th>\n      <th>median_income</th>\n      <th>median_rent</th>\n      <th>median_home_value</th>\n      <th>educational_attainment</th>\n      <th>av_commute_time</th>\n      <th>...</th>\n      <th>typhoon</th>\n      <th>volcano</th>\n      <th>county_name</th>\n      <th>state_name</th>\n      <th>individual_inflow</th>\n      <th>individual_outflow</th>\n      <th>area_land</th>\n      <th>area_water</th>\n      <th>longitude</th>\n      <th>latitude</th>\n    </tr>\n  </thead>\n  <tbody>\n    <tr>\n      <th>0</th>\n      <td>117</td>\n      <td>31</td>\n      <td>2014</td>\n      <td>McPherson County, Nebraska</td>\n      <td>426.0</td>\n      <td>57763.0</td>\n      <td>657.0</td>\n      <td>132700.0</td>\n      <td>0.256173</td>\n      <td>28.689024</td>\n      <td>...</td>\n      <td>0.0</td>\n      <td>0.0</td>\n      <td>0</td>\n      <td>0</td>\n      <td>0</td>\n      <td>0</td>\n      <td>2.224734e+09</td>\n      <td>2680669.0</td>\n      <td>-101.059936</td>\n      <td>41.567977</td>\n    </tr>\n    <tr>\n      <th>1</th>\n      <td>33</td>\n      <td>31</td>\n      <td>2014</td>\n      <td>Cheyenne County, Nebraska</td>\n      <td>10044.0</td>\n      <td>54094.0</td>\n      <td>590.0</td>\n      <td>108400.0</td>\n      <td>0.238486</td>\n      <td>12.566143</td>\n      <td>...</td>\n      <td>0.0</td>\n      <td>0.0</td>\n      <td>0</td>\n      <td>0</td>\n      <td>617</td>\n      <td>505</td>\n      <td>3.098368e+09</td>\n      <td>292549.0</td>\n      <td>-102.994169</td>\n      <td>41.219994</td>\n    </tr>\n    <tr>\n      <th>2</th>\n      <td>47</td>\n      <td>31</td>\n      <td>2014</td>\n      <td>Dawson County, Nebraska</td>\n      <td>24205.0</td>\n      <td>48104.0</td>\n      <td>648.0</td>\n      <td>89700.0</td>\n      <td>0.151379</td>\n      <td>16.033507</td>\n      <td>...</td>\n      <td>0.0</td>\n      <td>0.0</td>\n      <td>0</td>\n      <td>0</td>\n      <td>1205</td>\n      <td>1413</td>\n      <td>2.623887e+09</td>\n      <td>16431843.0</td>\n      <td>-99.820146</td>\n      <td>40.870282</td>\n    </tr>\n    <tr>\n      <th>3</th>\n      <td>71</td>\n      <td>31</td>\n      <td>2014</td>\n      <td>Garfield County, Nebraska</td>\n      <td>1954.0</td>\n      <td>41776.0</td>\n      <td>334.0</td>\n      <td>84800.0</td>\n      <td>0.127719</td>\n      <td>10.801282</td>\n      <td>...</td>\n      <td>0.0</td>\n      <td>0.0</td>\n      <td>0</td>\n      <td>0</td>\n      <td>70</td>\n      <td>66</td>\n      <td>1.474558e+09</td>\n      <td>5321553.0</td>\n      <td>-98.991118</td>\n      <td>41.914290</td>\n    </tr>\n    <tr>\n      <th>4</th>\n      <td>125</td>\n      <td>31</td>\n      <td>2014</td>\n      <td>Nance County, Nebraska</td>\n      <td>3667.0</td>\n      <td>46220.0</td>\n      <td>532.0</td>\n      <td>71000.0</td>\n      <td>0.144238</td>\n      <td>21.657526</td>\n      <td>...</td>\n      <td>0.0</td>\n      <td>0.0</td>\n      <td>0</td>\n      <td>0</td>\n      <td>169</td>\n      <td>117</td>\n      <td>1.143826e+09</td>\n      <td>17085959.0</td>\n      <td>-97.993273</td>\n      <td>41.397502</td>\n    </tr>\n  </tbody>\n</table>\n<p>5 rows × 48 columns</p>\n</div>"
     },
     "metadata": {}
    }
   ],
   "execution_count": null
  },
  {
   "cell_type": "code",
   "metadata": {
    "tags": [],
    "cell_id": "00028-852f6e47-7061-4373-9f74-b55a7c2b69fe",
    "deepnote_to_be_reexecuted": false,
    "source_hash": "a50182d",
    "execution_start": 1643551406066,
    "execution_millis": 58,
    "deepnote_cell_type": "code"
   },
   "source": "ca_df.head()",
   "outputs": [
    {
     "output_type": "execute_result",
     "execution_count": 23,
     "data": {
      "application/vnd.deepnote.dataframe.v3+json": {
       "column_count": 39,
       "row_count": 5,
       "columns": [
        {
         "name": "county_name",
         "dtype": "object",
         "stats": {
          "unique_count": 5,
          "nan_count": 0,
          "categories": [
           {
            "name": "alameda",
            "count": 1
           },
           {
            "name": "alpine",
            "count": 1
           },
           {
            "name": "3 others",
            "count": 3
           }
          ]
         }
        },
        {
         "name": "year",
         "dtype": "int64",
         "stats": {
          "unique_count": 1,
          "nan_count": 0,
          "min": "2014",
          "max": "2014",
          "histogram": [
           {
            "bin_start": 2013.5,
            "bin_end": 2013.6,
            "count": 0
           },
           {
            "bin_start": 2013.6,
            "bin_end": 2013.7,
            "count": 0
           },
           {
            "bin_start": 2013.7,
            "bin_end": 2013.8,
            "count": 0
           },
           {
            "bin_start": 2013.8,
            "bin_end": 2013.9,
            "count": 0
           },
           {
            "bin_start": 2013.9,
            "bin_end": 2014,
            "count": 0
           },
           {
            "bin_start": 2014,
            "bin_end": 2014.1,
            "count": 5
           },
           {
            "bin_start": 2014.1,
            "bin_end": 2014.2,
            "count": 0
           },
           {
            "bin_start": 2014.2,
            "bin_end": 2014.3,
            "count": 0
           },
           {
            "bin_start": 2014.3,
            "bin_end": 2014.4,
            "count": 0
           },
           {
            "bin_start": 2014.4,
            "bin_end": 2014.5,
            "count": 0
           }
          ]
         }
        },
        {
         "name": "registered_pct",
         "dtype": "float64",
         "stats": {
          "unique_count": 5,
          "nan_count": 0,
          "min": "70.024791122871",
          "max": "87.01594533029613",
          "histogram": [
           {
            "bin_start": 70.024791122871,
            "bin_end": 71.72390654361351,
            "count": 1
           },
           {
            "bin_start": 71.72390654361351,
            "bin_end": 73.42302196435602,
            "count": 0
           },
           {
            "bin_start": 73.42302196435602,
            "bin_end": 75.12213738509854,
            "count": 0
           },
           {
            "bin_start": 75.12213738509854,
            "bin_end": 76.82125280584106,
            "count": 1
           },
           {
            "bin_start": 76.82125280584106,
            "bin_end": 78.52036822658357,
            "count": 1
           },
           {
            "bin_start": 78.52036822658357,
            "bin_end": 80.21948364732609,
            "count": 1
           },
           {
            "bin_start": 80.21948364732609,
            "bin_end": 81.91859906806859,
            "count": 0
           },
           {
            "bin_start": 81.91859906806859,
            "bin_end": 83.6177144888111,
            "count": 0
           },
           {
            "bin_start": 83.6177144888111,
            "bin_end": 85.31682990955362,
            "count": 0
           },
           {
            "bin_start": 85.31682990955362,
            "bin_end": 87.01594533029613,
            "count": 1
           }
          ]
         }
        },
        {
         "name": "democrat_pct",
         "dtype": "float64",
         "stats": {
          "unique_count": 5,
          "nan_count": 0,
          "min": "30.220186197724253",
          "max": "55.470516910746696",
          "histogram": [
           {
            "bin_start": 30.220186197724253,
            "bin_end": 32.7452192690265,
            "count": 2
           },
           {
            "bin_start": 32.7452192690265,
            "bin_end": 35.27025234032874,
            "count": 1
           },
           {
            "bin_start": 35.27025234032874,
            "bin_end": 37.795285411630985,
            "count": 1
           },
           {
            "bin_start": 37.795285411630985,
            "bin_end": 40.32031848293323,
            "count": 0
           },
           {
            "bin_start": 40.32031848293323,
            "bin_end": 42.84535155423548,
            "count": 0
           },
           {
            "bin_start": 42.84535155423548,
            "bin_end": 45.37038462553772,
            "count": 0
           },
           {
            "bin_start": 45.37038462553772,
            "bin_end": 47.895417696839964,
            "count": 0
           },
           {
            "bin_start": 47.895417696839964,
            "bin_end": 50.4204507681422,
            "count": 0
           },
           {
            "bin_start": 50.4204507681422,
            "bin_end": 52.94548383944445,
            "count": 0
           },
           {
            "bin_start": 52.94548383944445,
            "bin_end": 55.470516910746696,
            "count": 1
           }
          ]
         }
        },
        {
         "name": "republican_pct",
         "dtype": "float64",
         "stats": {
          "unique_count": 5,
          "nan_count": 0,
          "min": "13.380564588352218",
          "max": "44.16290027887297",
          "histogram": [
           {
            "bin_start": 13.380564588352218,
            "bin_end": 16.458798157404292,
            "count": 1
           },
           {
            "bin_start": 16.458798157404292,
            "bin_end": 19.53703172645637,
            "count": 0
           },
           {
            "bin_start": 19.53703172645637,
            "bin_end": 22.615265295508443,
            "count": 0
           },
           {
            "bin_start": 22.615265295508443,
            "bin_end": 25.693498864560517,
            "count": 0
           },
           {
            "bin_start": 25.693498864560517,
            "bin_end": 28.77173243361259,
            "count": 0
           },
           {
            "bin_start": 28.77173243361259,
            "bin_end": 31.84996600266467,
            "count": 1
           },
           {
            "bin_start": 31.84996600266467,
            "bin_end": 34.928199571716746,
            "count": 0
           },
           {
            "bin_start": 34.928199571716746,
            "bin_end": 38.00643314076882,
            "count": 1
           },
           {
            "bin_start": 38.00643314076882,
            "bin_end": 41.084666709820894,
            "count": 0
           },
           {
            "bin_start": 41.084666709820894,
            "bin_end": 44.16290027887297,
            "count": 2
           }
          ]
         }
        },
        {
         "name": "american_independent_pct",
         "dtype": "float64",
         "stats": {
          "unique_count": 5,
          "nan_count": 0,
          "min": "2.041992164705796",
          "max": "4.706664696320378",
          "histogram": [
           {
            "bin_start": 2.041992164705796,
            "bin_end": 2.308459417867254,
            "count": 1
           },
           {
            "bin_start": 2.308459417867254,
            "bin_end": 2.5749266710287126,
            "count": 0
           },
           {
            "bin_start": 2.5749266710287126,
            "bin_end": 2.8413939241901707,
            "count": 0
           },
           {
            "bin_start": 2.8413939241901707,
            "bin_end": 3.107861177351629,
            "count": 0
           },
           {
            "bin_start": 3.107861177351629,
            "bin_end": 3.374328430513087,
            "count": 0
           },
           {
            "bin_start": 3.374328430513087,
            "bin_end": 3.640795683674545,
            "count": 1
           },
           {
            "bin_start": 3.640795683674545,
            "bin_end": 3.9072629368360037,
            "count": 0
           },
           {
            "bin_start": 3.9072629368360037,
            "bin_end": 4.173730189997462,
            "count": 1
           },
           {
            "bin_start": 4.173730189997462,
            "bin_end": 4.44019744315892,
            "count": 1
           },
           {
            "bin_start": 4.44019744315892,
            "bin_end": 4.706664696320378,
            "count": 1
           }
          ]
         }
        },
        {
         "name": "green_pct",
         "dtype": "float64",
         "stats": {
          "unique_count": 5,
          "nan_count": 0,
          "min": "0.5721704010000962",
          "max": "1.7015706806282722",
          "histogram": [
           {
            "bin_start": 0.5721704010000962,
            "bin_end": 0.6851104289629139,
            "count": 1
           },
           {
            "bin_start": 0.6851104289629139,
            "bin_end": 0.7980504569257314,
            "count": 0
           },
           {
            "bin_start": 0.7980504569257314,
            "bin_end": 0.9109904848885491,
            "count": 1
           },
           {
            "bin_start": 0.9109904848885491,
            "bin_end": 1.0239305128513667,
            "count": 0
           },
           {
            "bin_start": 1.0239305128513667,
            "bin_end": 1.1368705408141841,
            "count": 0
           },
           {
            "bin_start": 1.1368705408141841,
            "bin_end": 1.249810568777002,
            "count": 2
           },
           {
            "bin_start": 1.249810568777002,
            "bin_end": 1.3627505967398195,
            "count": 0
           },
           {
            "bin_start": 1.3627505967398195,
            "bin_end": 1.4756906247026371,
            "count": 0
           },
           {
            "bin_start": 1.4756906247026371,
            "bin_end": 1.5886306526654548,
            "count": 0
           },
           {
            "bin_start": 1.5886306526654548,
            "bin_end": 1.7015706806282722,
            "count": 1
           }
          ]
         }
        },
        {
         "name": "liberterian_pct",
         "dtype": "float64",
         "stats": {
          "unique_count": 5,
          "nan_count": 0,
          "min": "0.5171932988455902",
          "max": "1.363233338259199",
          "histogram": [
           {
            "bin_start": 0.5171932988455902,
            "bin_end": 0.6017973027869511,
            "count": 1
           },
           {
            "bin_start": 0.6017973027869511,
            "bin_end": 0.6864013067283119,
            "count": 0
           },
           {
            "bin_start": 0.6864013067283119,
            "bin_end": 0.7710053106696728,
            "count": 0
           },
           {
            "bin_start": 0.7710053106696728,
            "bin_end": 0.8556093146110337,
            "count": 1
           },
           {
            "bin_start": 0.8556093146110337,
            "bin_end": 0.9402133185523947,
            "count": 0
           },
           {
            "bin_start": 0.9402133185523947,
            "bin_end": 1.0248173224937553,
            "count": 0
           },
           {
            "bin_start": 1.0248173224937553,
            "bin_end": 1.1094213264351165,
            "count": 2
           },
           {
            "bin_start": 1.1094213264351165,
            "bin_end": 1.1940253303764772,
            "count": 0
           },
           {
            "bin_start": 1.1940253303764772,
            "bin_end": 1.2786293343178383,
            "count": 0
           },
           {
            "bin_start": 1.2786293343178383,
            "bin_end": 1.363233338259199,
            "count": 1
           }
          ]
         }
        },
        {
         "name": "peace_and_freedom_pct",
         "dtype": "float64",
         "stats": {
          "unique_count": 5,
          "nan_count": 0,
          "min": "0.1308900523560209",
          "max": "0.427223134728475",
          "histogram": [
           {
            "bin_start": 0.1308900523560209,
            "bin_end": 0.1605233605932663,
            "count": 1
           },
           {
            "bin_start": 0.1605233605932663,
            "bin_end": 0.19015666883051172,
            "count": 0
           },
           {
            "bin_start": 0.19015666883051172,
            "bin_end": 0.21978997706775713,
            "count": 0
           },
           {
            "bin_start": 0.21978997706775713,
            "bin_end": 0.24942328530500255,
            "count": 1
           },
           {
            "bin_start": 0.24942328530500255,
            "bin_end": 0.279056593542248,
            "count": 0
           },
           {
            "bin_start": 0.279056593542248,
            "bin_end": 0.3086899017794934,
            "count": 0
           },
           {
            "bin_start": 0.3086899017794934,
            "bin_end": 0.3383232100167388,
            "count": 0
           },
           {
            "bin_start": 0.3383232100167388,
            "bin_end": 0.36795651825398423,
            "count": 2
           },
           {
            "bin_start": 0.36795651825398423,
            "bin_end": 0.39758982649122965,
            "count": 0
           },
           {
            "bin_start": 0.39758982649122965,
            "bin_end": 0.427223134728475,
            "count": 1
           }
          ]
         }
        },
        {
         "name": "no_party_pct",
         "dtype": "float64",
         "stats": {
          "unique_count": 5,
          "nan_count": 0,
          "min": "18.203673430137517",
          "max": "26.04712041884817",
          "histogram": [
           {
            "bin_start": 18.203673430137517,
            "bin_end": 18.988018129008584,
            "count": 1
           },
           {
            "bin_start": 18.988018129008584,
            "bin_end": 19.772362827879647,
            "count": 1
           },
           {
            "bin_start": 19.772362827879647,
            "bin_end": 20.556707526750714,
            "count": 0
           },
           {
            "bin_start": 20.556707526750714,
            "bin_end": 21.341052225621777,
            "count": 1
           },
           {
            "bin_start": 21.341052225621777,
            "bin_end": 22.125396924492843,
            "count": 0
           },
           {
            "bin_start": 22.125396924492843,
            "bin_end": 22.909741623363907,
            "count": 0
           },
           {
            "bin_start": 22.909741623363907,
            "bin_end": 23.694086322234973,
            "count": 1
           },
           {
            "bin_start": 23.694086322234973,
            "bin_end": 24.47843102110604,
            "count": 0
           },
           {
            "bin_start": 24.47843102110604,
            "bin_end": 25.262775719977103,
            "count": 0
           },
           {
            "bin_start": 25.262775719977103,
            "bin_end": 26.04712041884817,
            "count": 1
           }
          ]
         }
        },
        {
         "name": "other_party_pct",
         "dtype": "float64",
         "stats": {
          "unique_count": 5,
          "nan_count": 0,
          "min": "0.2836811231849216",
          "max": "5.742074104831764",
          "histogram": [
           {
            "bin_start": 0.2836811231849216,
            "bin_end": 0.8295204213496059,
            "count": 1
           },
           {
            "bin_start": 0.8295204213496059,
            "bin_end": 1.3753597195142901,
            "count": 2
           },
           {
            "bin_start": 1.3753597195142901,
            "bin_end": 1.9211990176789744,
            "count": 1
           },
           {
            "bin_start": 1.9211990176789744,
            "bin_end": 2.4670383158436584,
            "count": 0
           },
           {
            "bin_start": 2.4670383158436584,
            "bin_end": 3.0128776140083424,
            "count": 0
           },
           {
            "bin_start": 3.0128776140083424,
            "bin_end": 3.558716912173027,
            "count": 0
           },
           {
            "bin_start": 3.558716912173027,
            "bin_end": 4.104556210337711,
            "count": 0
           },
           {
            "bin_start": 4.104556210337711,
            "bin_end": 4.650395508502395,
            "count": 0
           },
           {
            "bin_start": 4.650395508502395,
            "bin_end": 5.196234806667079,
            "count": 0
           },
           {
            "bin_start": 5.196234806667079,
            "bin_end": 5.742074104831764,
            "count": 1
           }
          ]
         }
        },
        {
         "name": "Location ID",
         "dtype": "object",
         "stats": {
          "unique_count": 5,
          "nan_count": 0,
          "categories": [
           {
            "name": "CA-001",
            "count": 1
           },
           {
            "name": "CA-003",
            "count": 1
           },
           {
            "name": "3 others",
            "count": 3
           }
          ]
         }
        },
        {
         "name": "avg_temp",
         "dtype": "float64",
         "stats": {
          "unique_count": 5,
          "nan_count": 0,
          "min": "46.79999999999999",
          "max": "62.43333333333334",
          "histogram": [
           {
            "bin_start": 46.79999999999999,
            "bin_end": 48.36333333333332,
            "count": 1
           },
           {
            "bin_start": 48.36333333333332,
            "bin_end": 49.92666666666666,
            "count": 0
           },
           {
            "bin_start": 49.92666666666666,
            "bin_end": 51.489999999999995,
            "count": 0
           },
           {
            "bin_start": 51.489999999999995,
            "bin_end": 53.05333333333333,
            "count": 0
           },
           {
            "bin_start": 53.05333333333333,
            "bin_end": 54.61666666666666,
            "count": 0
           },
           {
            "bin_start": 54.61666666666666,
            "bin_end": 56.18,
            "count": 0
           },
           {
            "bin_start": 56.18,
            "bin_end": 57.74333333333333,
            "count": 0
           },
           {
            "bin_start": 57.74333333333333,
            "bin_end": 59.30666666666667,
            "count": 0
           },
           {
            "bin_start": 59.30666666666667,
            "bin_end": 60.870000000000005,
            "count": 0
           },
           {
            "bin_start": 60.870000000000005,
            "bin_end": 62.43333333333334,
            "count": 4
           }
          ]
         }
        },
        {
         "name": "min_temp",
         "dtype": "float64",
         "stats": {
          "unique_count": 4,
          "nan_count": 0,
          "min": "25.5",
          "max": "42.0",
          "histogram": [
           {
            "bin_start": 25.5,
            "bin_end": 27.15,
            "count": 1
           },
           {
            "bin_start": 27.15,
            "bin_end": 28.8,
            "count": 0
           },
           {
            "bin_start": 28.8,
            "bin_end": 30.45,
            "count": 0
           },
           {
            "bin_start": 30.45,
            "bin_end": 32.1,
            "count": 0
           },
           {
            "bin_start": 32.1,
            "bin_end": 33.75,
            "count": 0
           },
           {
            "bin_start": 33.75,
            "bin_end": 35.4,
            "count": 0
           },
           {
            "bin_start": 35.4,
            "bin_end": 37.05,
            "count": 0
           },
           {
            "bin_start": 37.05,
            "bin_end": 38.7,
            "count": 2
           },
           {
            "bin_start": 38.7,
            "bin_end": 40.35,
            "count": 1
           },
           {
            "bin_start": 40.35,
            "bin_end": 42,
            "count": 1
           }
          ]
         }
        },
        {
         "name": "max_temp",
         "dtype": "float64",
         "stats": {
          "unique_count": 5,
          "nan_count": 0,
          "min": "77.3",
          "max": "94.5",
          "histogram": [
           {
            "bin_start": 77.3,
            "bin_end": 79.02,
            "count": 1
           },
           {
            "bin_start": 79.02,
            "bin_end": 80.74,
            "count": 0
           },
           {
            "bin_start": 80.74,
            "bin_end": 82.46,
            "count": 0
           },
           {
            "bin_start": 82.46,
            "bin_end": 84.17999999999999,
            "count": 0
           },
           {
            "bin_start": 84.17999999999999,
            "bin_end": 85.9,
            "count": 1
           },
           {
            "bin_start": 85.9,
            "bin_end": 87.62,
            "count": 0
           },
           {
            "bin_start": 87.62,
            "bin_end": 89.34,
            "count": 0
           },
           {
            "bin_start": 89.34,
            "bin_end": 91.06,
            "count": 0
           },
           {
            "bin_start": 91.06,
            "bin_end": 92.78,
            "count": 0
           },
           {
            "bin_start": 92.78,
            "bin_end": 94.5,
            "count": 3
           }
          ]
         }
        },
        {
         "name": "total_precip_amt",
         "dtype": "float64",
         "stats": {
          "unique_count": 5,
          "nan_count": 0,
          "min": "19.88",
          "max": "43.72",
          "histogram": [
           {
            "bin_start": 19.88,
            "bin_end": 22.264,
            "count": 1
           },
           {
            "bin_start": 22.264,
            "bin_end": 24.648,
            "count": 0
           },
           {
            "bin_start": 24.648,
            "bin_end": 27.031999999999996,
            "count": 0
           },
           {
            "bin_start": 27.031999999999996,
            "bin_end": 29.415999999999997,
            "count": 1
           },
           {
            "bin_start": 29.415999999999997,
            "bin_end": 31.799999999999997,
            "count": 2
           },
           {
            "bin_start": 31.799999999999997,
            "bin_end": 34.184,
            "count": 0
           },
           {
            "bin_start": 34.184,
            "bin_end": 36.568,
            "count": 0
           },
           {
            "bin_start": 36.568,
            "bin_end": 38.952,
            "count": 0
           },
           {
            "bin_start": 38.952,
            "bin_end": 41.336,
            "count": 0
           },
           {
            "bin_start": 41.336,
            "bin_end": 43.72,
            "count": 1
           }
          ]
         }
        },
        {
         "name": "avg_daily_attendance_expense",
         "dtype": "float64",
         "stats": {
          "unique_count": 5,
          "nan_count": 0,
          "min": "6909.1111348365785",
          "max": "32705.259320948117",
          "histogram": [
           {
            "bin_start": 6909.1111348365785,
            "bin_end": 9488.725953447733,
            "count": 4
           },
           {
            "bin_start": 9488.725953447733,
            "bin_end": 12068.340772058888,
            "count": 0
           },
           {
            "bin_start": 12068.340772058888,
            "bin_end": 14647.95559067004,
            "count": 0
           },
           {
            "bin_start": 14647.95559067004,
            "bin_end": 17227.570409281194,
            "count": 0
           },
           {
            "bin_start": 17227.570409281194,
            "bin_end": 19807.185227892347,
            "count": 0
           },
           {
            "bin_start": 19807.185227892347,
            "bin_end": 22386.800046503504,
            "count": 0
           },
           {
            "bin_start": 22386.800046503504,
            "bin_end": 24966.414865114657,
            "count": 0
           },
           {
            "bin_start": 24966.414865114657,
            "bin_end": 27546.02968372581,
            "count": 0
           },
           {
            "bin_start": 27546.02968372581,
            "bin_end": 30125.644502336963,
            "count": 0
           },
           {
            "bin_start": 30125.644502336963,
            "bin_end": 32705.259320948117,
            "count": 1
           }
          ]
         }
        },
        {
         "name": "state",
         "dtype": "int64",
         "stats": {
          "unique_count": 1,
          "nan_count": 0,
          "min": "6",
          "max": "6",
          "histogram": [
           {
            "bin_start": 5.5,
            "bin_end": 5.6,
            "count": 0
           },
           {
            "bin_start": 5.6,
            "bin_end": 5.7,
            "count": 0
           },
           {
            "bin_start": 5.7,
            "bin_end": 5.8,
            "count": 0
           },
           {
            "bin_start": 5.8,
            "bin_end": 5.9,
            "count": 0
           },
           {
            "bin_start": 5.9,
            "bin_end": 6,
            "count": 0
           },
           {
            "bin_start": 6,
            "bin_end": 6.1,
            "count": 5
           },
           {
            "bin_start": 6.1,
            "bin_end": 6.2,
            "count": 0
           },
           {
            "bin_start": 6.2,
            "bin_end": 6.3,
            "count": 0
           },
           {
            "bin_start": 6.3,
            "bin_end": 6.4,
            "count": 0
           },
           {
            "bin_start": 6.4,
            "bin_end": 6.5,
            "count": 0
           }
          ]
         }
        },
        {
         "name": "county",
         "dtype": "int64",
         "stats": {
          "unique_count": 5,
          "nan_count": 0,
          "min": "1",
          "max": "9",
          "histogram": [
           {
            "bin_start": 1,
            "bin_end": 1.8,
            "count": 1
           },
           {
            "bin_start": 1.8,
            "bin_end": 2.6,
            "count": 0
           },
           {
            "bin_start": 2.6,
            "bin_end": 3.4000000000000004,
            "count": 1
           },
           {
            "bin_start": 3.4000000000000004,
            "bin_end": 4.2,
            "count": 0
           },
           {
            "bin_start": 4.2,
            "bin_end": 5,
            "count": 0
           },
           {
            "bin_start": 5,
            "bin_end": 5.800000000000001,
            "count": 1
           },
           {
            "bin_start": 5.800000000000001,
            "bin_end": 6.6000000000000005,
            "count": 0
           },
           {
            "bin_start": 6.6000000000000005,
            "bin_end": 7.4,
            "count": 1
           },
           {
            "bin_start": 7.4,
            "bin_end": 8.2,
            "count": 0
           },
           {
            "bin_start": 8.2,
            "bin_end": 9,
            "count": 1
           }
          ]
         }
        },
        {
         "name": "state_name",
         "dtype": "object",
         "stats": {
          "unique_count": 1,
          "nan_count": 0,
          "categories": [
           {
            "name": "california",
            "count": 5
           }
          ]
         }
        },
        {
         "name": "bea_number_of_people",
         "dtype": "float64",
         "stats": {
          "unique_count": 5,
          "nan_count": 0,
          "min": "1083.0",
          "max": "1607638.0",
          "histogram": [
           {
            "bin_start": 1083,
            "bin_end": 161738.5,
            "count": 3
           },
           {
            "bin_start": 161738.5,
            "bin_end": 322394,
            "count": 1
           },
           {
            "bin_start": 322394,
            "bin_end": 483049.5,
            "count": 0
           },
           {
            "bin_start": 483049.5,
            "bin_end": 643705,
            "count": 0
           },
           {
            "bin_start": 643705,
            "bin_end": 804360.5,
            "count": 0
           },
           {
            "bin_start": 804360.5,
            "bin_end": 965016,
            "count": 0
           },
           {
            "bin_start": 965016,
            "bin_end": 1125671.5,
            "count": 0
           },
           {
            "bin_start": 1125671.5,
            "bin_end": 1286327,
            "count": 0
           },
           {
            "bin_start": 1286327,
            "bin_end": 1446982.5,
            "count": 0
           },
           {
            "bin_start": 1446982.5,
            "bin_end": 1607638,
            "count": 1
           }
          ]
         }
        },
        {
         "name": "per_capita_personal_income",
         "dtype": "float64",
         "stats": {
          "unique_count": 5,
          "nan_count": 0,
          "min": "36796.0",
          "max": "64425.0",
          "histogram": [
           {
            "bin_start": 36796,
            "bin_end": 39558.9,
            "count": 2
           },
           {
            "bin_start": 39558.9,
            "bin_end": 42321.8,
            "count": 1
           },
           {
            "bin_start": 42321.8,
            "bin_end": 45084.7,
            "count": 0
           },
           {
            "bin_start": 45084.7,
            "bin_end": 47847.6,
            "count": 0
           },
           {
            "bin_start": 47847.6,
            "bin_end": 50610.5,
            "count": 0
           },
           {
            "bin_start": 50610.5,
            "bin_end": 53373.4,
            "count": 0
           },
           {
            "bin_start": 53373.4,
            "bin_end": 56136.3,
            "count": 0
           },
           {
            "bin_start": 56136.3,
            "bin_end": 58899.2,
            "count": 1
           },
           {
            "bin_start": 58899.2,
            "bin_end": 61662.100000000006,
            "count": 0
           },
           {
            "bin_start": 61662.100000000006,
            "bin_end": 64425,
            "count": 1
           }
          ]
         }
        },
        {
         "name": "per_capita_retirement_and_other",
         "dtype": "float64",
         "stats": {
          "unique_count": 5,
          "nan_count": 0,
          "min": "6714.0",
          "max": "11478.0",
          "histogram": [
           {
            "bin_start": 6714,
            "bin_end": 7190.4,
            "count": 1
           },
           {
            "bin_start": 7190.4,
            "bin_end": 7666.8,
            "count": 0
           },
           {
            "bin_start": 7666.8,
            "bin_end": 8143.2,
            "count": 0
           },
           {
            "bin_start": 8143.2,
            "bin_end": 8619.6,
            "count": 0
           },
           {
            "bin_start": 8619.6,
            "bin_end": 9096,
            "count": 1
           },
           {
            "bin_start": 9096,
            "bin_end": 9572.4,
            "count": 1
           },
           {
            "bin_start": 9572.4,
            "bin_end": 10048.8,
            "count": 1
           },
           {
            "bin_start": 10048.8,
            "bin_end": 10525.2,
            "count": 0
           },
           {
            "bin_start": 10525.2,
            "bin_end": 11001.599999999999,
            "count": 0
           },
           {
            "bin_start": 11001.599999999999,
            "bin_end": 11478,
            "count": 1
           }
          ]
         }
        },
        {
         "name": "per_capita_unemploy_ins_comp",
         "dtype": "float64",
         "stats": {
          "unique_count": 5,
          "nan_count": 0,
          "min": "142.0",
          "max": "190.0",
          "histogram": [
           {
            "bin_start": 142,
            "bin_end": 146.8,
            "count": 2
           },
           {
            "bin_start": 146.8,
            "bin_end": 151.6,
            "count": 0
           },
           {
            "bin_start": 151.6,
            "bin_end": 156.4,
            "count": 0
           },
           {
            "bin_start": 156.4,
            "bin_end": 161.2,
            "count": 1
           },
           {
            "bin_start": 161.2,
            "bin_end": 166,
            "count": 1
           },
           {
            "bin_start": 166,
            "bin_end": 170.8,
            "count": 0
           },
           {
            "bin_start": 170.8,
            "bin_end": 175.6,
            "count": 0
           },
           {
            "bin_start": 175.6,
            "bin_end": 180.4,
            "count": 0
           },
           {
            "bin_start": 180.4,
            "bin_end": 185.2,
            "count": 0
           },
           {
            "bin_start": 185.2,
            "bin_end": 190,
            "count": 1
           }
          ]
         }
        },
        {
         "name": "per_capita_curr_dollar_real_gdp",
         "dtype": "float64",
         "stats": {
          "unique_count": 5,
          "nan_count": 0,
          "min": "28.69219061261947",
          "max": "102.50046168051708",
          "histogram": [
           {
            "bin_start": 28.69219061261947,
            "bin_end": 36.07301771940923,
            "count": 1
           },
           {
            "bin_start": 36.07301771940923,
            "bin_end": 43.45384482619899,
            "count": 2
           },
           {
            "bin_start": 43.45384482619899,
            "bin_end": 50.834671932988755,
            "count": 0
           },
           {
            "bin_start": 50.834671932988755,
            "bin_end": 58.215499039778514,
            "count": 0
           },
           {
            "bin_start": 58.215499039778514,
            "bin_end": 65.59632614656827,
            "count": 0
           },
           {
            "bin_start": 65.59632614656827,
            "bin_end": 72.97715325335804,
            "count": 1
           },
           {
            "bin_start": 72.97715325335804,
            "bin_end": 80.35798036014779,
            "count": 0
           },
           {
            "bin_start": 80.35798036014779,
            "bin_end": 87.73880746693756,
            "count": 0
           },
           {
            "bin_start": 87.73880746693756,
            "bin_end": 95.11963457372732,
            "count": 0
           },
           {
            "bin_start": 95.11963457372732,
            "bin_end": 102.50046168051708,
            "count": 1
           }
          ]
         }
        },
        {
         "name": "per_capita_num_jobs",
         "dtype": "float64",
         "stats": {
          "unique_count": 5,
          "nan_count": 0,
          "min": "0.3498220560915012",
          "max": "1.2031394275161589",
          "histogram": [
           {
            "bin_start": 0.3498220560915012,
            "bin_end": 0.43515379323396697,
            "count": 1
           },
           {
            "bin_start": 0.43515379323396697,
            "bin_end": 0.5204855303764327,
            "count": 2
           },
           {
            "bin_start": 0.5204855303764327,
            "bin_end": 0.6058172675188984,
            "count": 1
           },
           {
            "bin_start": 0.6058172675188984,
            "bin_end": 0.6911490046613642,
            "count": 0
           },
           {
            "bin_start": 0.6911490046613642,
            "bin_end": 0.77648074180383,
            "count": 0
           },
           {
            "bin_start": 0.77648074180383,
            "bin_end": 0.8618124789462958,
            "count": 0
           },
           {
            "bin_start": 0.8618124789462958,
            "bin_end": 0.9471442160887615,
            "count": 0
           },
           {
            "bin_start": 0.9471442160887615,
            "bin_end": 1.0324759532312273,
            "count": 0
           },
           {
            "bin_start": 1.0324759532312273,
            "bin_end": 1.117807690373693,
            "count": 0
           },
           {
            "bin_start": 1.117807690373693,
            "bin_end": 1.2031394275161589,
            "count": 1
           }
          ]
         }
        },
        {
         "name": "per_capita_farm_proprieter_jobs",
         "dtype": "float64",
         "stats": {
          "unique_count": 5,
          "nan_count": 0,
          "min": "0.0",
          "max": "0.0123553506278398",
          "histogram": [
           {
            "bin_start": 0,
            "bin_end": 0.0012355350627839801,
            "count": 2
           },
           {
            "bin_start": 0.0012355350627839801,
            "bin_end": 0.0024710701255679602,
            "count": 0
           },
           {
            "bin_start": 0.0024710701255679602,
            "bin_end": 0.0037066051883519404,
            "count": 0
           },
           {
            "bin_start": 0.0037066051883519404,
            "bin_end": 0.0049421402511359205,
            "count": 0
           },
           {
            "bin_start": 0.0049421402511359205,
            "bin_end": 0.006177675313919901,
            "count": 0
           },
           {
            "bin_start": 0.006177675313919901,
            "bin_end": 0.007413210376703881,
            "count": 0
           },
           {
            "bin_start": 0.007413210376703881,
            "bin_end": 0.00864874543948786,
            "count": 1
           },
           {
            "bin_start": 0.00864874543948786,
            "bin_end": 0.009884280502271841,
            "count": 0
           },
           {
            "bin_start": 0.009884280502271841,
            "bin_end": 0.011119815565055821,
            "count": 1
           },
           {
            "bin_start": 0.011119815565055821,
            "bin_end": 0.0123553506278398,
            "count": 1
           }
          ]
         }
        },
        {
         "name": "per_capita_nonfarm_proprieter_jobs",
         "dtype": "float64",
         "stats": {
          "unique_count": 5,
          "nan_count": 0,
          "min": "0.1062744659434067",
          "max": "0.1662049861495844",
          "histogram": [
           {
            "bin_start": 0.1062744659434067,
            "bin_end": 0.11226751796402447,
            "count": 1
           },
           {
            "bin_start": 0.11226751796402447,
            "bin_end": 0.11826056998464224,
            "count": 0
           },
           {
            "bin_start": 0.11826056998464224,
            "bin_end": 0.12425362200526001,
            "count": 0
           },
           {
            "bin_start": 0.12425362200526001,
            "bin_end": 0.13024667402587778,
            "count": 0
           },
           {
            "bin_start": 0.13024667402587778,
            "bin_end": 0.13623972604649554,
            "count": 2
           },
           {
            "bin_start": 0.13623972604649554,
            "bin_end": 0.14223277806711332,
            "count": 1
           },
           {
            "bin_start": 0.14223277806711332,
            "bin_end": 0.1482258300877311,
            "count": 0
           },
           {
            "bin_start": 0.1482258300877311,
            "bin_end": 0.15421888210834886,
            "count": 0
           },
           {
            "bin_start": 0.15421888210834886,
            "bin_end": 0.16021193412896662,
            "count": 0
           },
           {
            "bin_start": 0.16021193412896662,
            "bin_end": 0.1662049861495844,
            "count": 1
           }
          ]
         }
        },
        {
         "name": "coastal_flag",
         "dtype": "int64",
         "stats": {
          "unique_count": 2,
          "nan_count": 0,
          "min": "0",
          "max": "1",
          "histogram": [
           {
            "bin_start": 0,
            "bin_end": 0.1,
            "count": 4
           },
           {
            "bin_start": 0.1,
            "bin_end": 0.2,
            "count": 0
           },
           {
            "bin_start": 0.2,
            "bin_end": 0.30000000000000004,
            "count": 0
           },
           {
            "bin_start": 0.30000000000000004,
            "bin_end": 0.4,
            "count": 0
           },
           {
            "bin_start": 0.4,
            "bin_end": 0.5,
            "count": 0
           },
           {
            "bin_start": 0.5,
            "bin_end": 0.6000000000000001,
            "count": 0
           },
           {
            "bin_start": 0.6000000000000001,
            "bin_end": 0.7000000000000001,
            "count": 0
           },
           {
            "bin_start": 0.7000000000000001,
            "bin_end": 0.8,
            "count": 0
           },
           {
            "bin_start": 0.8,
            "bin_end": 0.9,
            "count": 0
           },
           {
            "bin_start": 0.9,
            "bin_end": 1,
            "count": 1
           }
          ]
         }
        },
        {
         "name": "per_capita_num_violent_crimes",
         "dtype": "float64",
         "stats": {
          "unique_count": 5,
          "nan_count": 0,
          "min": "0.002205041650786737",
          "max": "0.006441748702133192",
          "histogram": [
           {
            "bin_start": 0.002205041650786737,
            "bin_end": 0.0026287123559213823,
            "count": 2
           },
           {
            "bin_start": 0.0026287123559213823,
            "bin_end": 0.003052383061056028,
            "count": 1
           },
           {
            "bin_start": 0.003052383061056028,
            "bin_end": 0.003476053766190673,
            "count": 0
           },
           {
            "bin_start": 0.003476053766190673,
            "bin_end": 0.0038997244713253184,
            "count": 1
           },
           {
            "bin_start": 0.0038997244713253184,
            "bin_end": 0.004323395176459964,
            "count": 0
           },
           {
            "bin_start": 0.004323395176459964,
            "bin_end": 0.00474706588159461,
            "count": 0
           },
           {
            "bin_start": 0.00474706588159461,
            "bin_end": 0.005170736586729255,
            "count": 0
           },
           {
            "bin_start": 0.005170736586729255,
            "bin_end": 0.0055944072918639,
            "count": 0
           },
           {
            "bin_start": 0.0055944072918639,
            "bin_end": 0.0060180779969985455,
            "count": 0
           },
           {
            "bin_start": 0.0060180779969985455,
            "bin_end": 0.006441748702133192,
            "count": 1
           }
          ]
         }
        },
        {
         "name": "per_capita_num_homicide",
         "dtype": "float64",
         "stats": {
          "unique_count": 4,
          "nan_count": 0,
          "min": "0.0",
          "max": "6.344711931417396e-05",
          "histogram": [
           {
            "bin_start": 0,
            "bin_end": 0.000006344711931417396,
            "count": 2
           },
           {
            "bin_start": 0.000006344711931417396,
            "bin_end": 0.000012689423862834791,
            "count": 0
           },
           {
            "bin_start": 0.000012689423862834791,
            "bin_end": 0.000019034135794252187,
            "count": 0
           },
           {
            "bin_start": 0.000019034135794252187,
            "bin_end": 0.000025378847725669582,
            "count": 0
           },
           {
            "bin_start": 0.000025378847725669582,
            "bin_end": 0.00003172355965708698,
            "count": 1
           },
           {
            "bin_start": 0.00003172355965708698,
            "bin_end": 0.000038068271588504373,
            "count": 0
           },
           {
            "bin_start": 0.000038068271588504373,
            "bin_end": 0.00004441298351992177,
            "count": 0
           },
           {
            "bin_start": 0.00004441298351992177,
            "bin_end": 0.000050757695451339165,
            "count": 1
           },
           {
            "bin_start": 0.000050757695451339165,
            "bin_end": 0.00005710240738275656,
            "count": 0
           },
           {
            "bin_start": 0.00005710240738275656,
            "bin_end": 0.00006344711931417396,
            "count": 1
           }
          ]
         }
        },
        {
         "name": "per_capita_num_rape",
         "dtype": "float64",
         "stats": {
          "unique_count": 5,
          "nan_count": 0,
          "min": "0.00013611368214732944",
          "max": "0.0009233610341643582",
          "histogram": [
           {
            "bin_start": 0.00013611368214732944,
            "bin_end": 0.00021483841734903233,
            "count": 1
           },
           {
            "bin_start": 0.00021483841734903233,
            "bin_end": 0.0002935631525507352,
            "count": 2
           },
           {
            "bin_start": 0.0002935631525507352,
            "bin_end": 0.0003722878877524381,
            "count": 1
           },
           {
            "bin_start": 0.0003722878877524381,
            "bin_end": 0.000451012622954141,
            "count": 0
           },
           {
            "bin_start": 0.000451012622954141,
            "bin_end": 0.0005297373581558439,
            "count": 0
           },
           {
            "bin_start": 0.0005297373581558439,
            "bin_end": 0.0006084620933575468,
            "count": 0
           },
           {
            "bin_start": 0.0006084620933575468,
            "bin_end": 0.0006871868285592496,
            "count": 0
           },
           {
            "bin_start": 0.0006871868285592496,
            "bin_end": 0.0007659115637609526,
            "count": 0
           },
           {
            "bin_start": 0.0007659115637609526,
            "bin_end": 0.0008446362989626554,
            "count": 0
           },
           {
            "bin_start": 0.0008446362989626554,
            "bin_end": 0.0009233610341643582,
            "count": 1
           }
          ]
         }
        },
        {
         "name": "per_capita_num_robbery",
         "dtype": "float64",
         "stats": {
          "unique_count": 5,
          "nan_count": 0,
          "min": "0.0",
          "max": "0.0031344121002364962",
          "histogram": [
           {
            "bin_start": 0,
            "bin_end": 0.00031344121002364965,
            "count": 3
           },
           {
            "bin_start": 0.00031344121002364965,
            "bin_end": 0.0006268824200472993,
            "count": 0
           },
           {
            "bin_start": 0.0006268824200472993,
            "bin_end": 0.0009403236300709489,
            "count": 1
           },
           {
            "bin_start": 0.0009403236300709489,
            "bin_end": 0.0012537648400945986,
            "count": 0
           },
           {
            "bin_start": 0.0012537648400945986,
            "bin_end": 0.0015672060501182483,
            "count": 0
           },
           {
            "bin_start": 0.0015672060501182483,
            "bin_end": 0.0018806472601418979,
            "count": 0
           },
           {
            "bin_start": 0.0018806472601418979,
            "bin_end": 0.0021940884701655474,
            "count": 0
           },
           {
            "bin_start": 0.0021940884701655474,
            "bin_end": 0.002507529680189197,
            "count": 0
           },
           {
            "bin_start": 0.002507529680189197,
            "bin_end": 0.002820970890212847,
            "count": 0
           },
           {
            "bin_start": 0.002820970890212847,
            "bin_end": 0.0031344121002364962,
            "count": 1
           }
          ]
         }
        },
        {
         "name": "per_capita_num_agg_assault",
         "dtype": "float64",
         "stats": {
          "unique_count": 5,
          "nan_count": 0,
          "min": "0.0017694778679152828",
          "max": "0.002980770546603153",
          "histogram": [
           {
            "bin_start": 0.0017694778679152828,
            "bin_end": 0.0018906071357840698,
            "count": 1
           },
           {
            "bin_start": 0.0018906071357840698,
            "bin_end": 0.002011736403652857,
            "count": 1
           },
           {
            "bin_start": 0.002011736403652857,
            "bin_end": 0.002132865671521644,
            "count": 1
           },
           {
            "bin_start": 0.002132865671521644,
            "bin_end": 0.002253994939390431,
            "count": 0
           },
           {
            "bin_start": 0.002253994939390431,
            "bin_end": 0.0023751242072592178,
            "count": 0
           },
           {
            "bin_start": 0.0023751242072592178,
            "bin_end": 0.002496253475128005,
            "count": 0
           },
           {
            "bin_start": 0.002496253475128005,
            "bin_end": 0.0026173827429967923,
            "count": 0
           },
           {
            "bin_start": 0.0026173827429967923,
            "bin_end": 0.002738512010865579,
            "count": 0
           },
           {
            "bin_start": 0.002738512010865579,
            "bin_end": 0.002859641278734366,
            "count": 1
           },
           {
            "bin_start": 0.002859641278734366,
            "bin_end": 0.002980770546603153,
            "count": 1
           }
          ]
         }
        },
        {
         "name": "per_capita_num_property_crimes",
         "dtype": "float64",
         "stats": {
          "unique_count": 5,
          "nan_count": 0,
          "min": "0.017123101214134046",
          "max": "0.035841402106693176",
          "histogram": [
           {
            "bin_start": 0.017123101214134046,
            "bin_end": 0.01899493130338996,
            "count": 1
           },
           {
            "bin_start": 0.01899493130338996,
            "bin_end": 0.02086676139264587,
            "count": 0
           },
           {
            "bin_start": 0.02086676139264587,
            "bin_end": 0.022738591481901785,
            "count": 2
           },
           {
            "bin_start": 0.022738591481901785,
            "bin_end": 0.024610421571157698,
            "count": 0
           },
           {
            "bin_start": 0.024610421571157698,
            "bin_end": 0.02648225166041361,
            "count": 0
           },
           {
            "bin_start": 0.02648225166041361,
            "bin_end": 0.028354081749669524,
            "count": 0
           },
           {
            "bin_start": 0.028354081749669524,
            "bin_end": 0.030225911838925437,
            "count": 1
           },
           {
            "bin_start": 0.030225911838925437,
            "bin_end": 0.03209774192818135,
            "count": 0
           },
           {
            "bin_start": 0.03209774192818135,
            "bin_end": 0.03396957201743726,
            "count": 0
           },
           {
            "bin_start": 0.03396957201743726,
            "bin_end": 0.035841402106693176,
            "count": 1
           }
          ]
         }
        },
        {
         "name": "per_capita_num_burglary",
         "dtype": "float64",
         "stats": {
          "unique_count": 5,
          "nan_count": 0,
          "min": "0.005335656340175314",
          "max": "0.009233610341643583",
          "histogram": [
           {
            "bin_start": 0.005335656340175314,
            "bin_end": 0.005725451740322142,
            "count": 1
           },
           {
            "bin_start": 0.005725451740322142,
            "bin_end": 0.006115247140468968,
            "count": 0
           },
           {
            "bin_start": 0.006115247140468968,
            "bin_end": 0.006505042540615795,
            "count": 1
           },
           {
            "bin_start": 0.006505042540615795,
            "bin_end": 0.0068948379407626215,
            "count": 1
           },
           {
            "bin_start": 0.0068948379407626215,
            "bin_end": 0.007284633340909449,
            "count": 0
           },
           {
            "bin_start": 0.007284633340909449,
            "bin_end": 0.007674428741056276,
            "count": 1
           },
           {
            "bin_start": 0.007674428741056276,
            "bin_end": 0.008064224141203103,
            "count": 0
           },
           {
            "bin_start": 0.008064224141203103,
            "bin_end": 0.00845401954134993,
            "count": 0
           },
           {
            "bin_start": 0.00845401954134993,
            "bin_end": 0.008843814941496756,
            "count": 0
           },
           {
            "bin_start": 0.008843814941496756,
            "bin_end": 0.009233610341643583,
            "count": 1
           }
          ]
         }
        },
        {
         "name": "per_capita_num_vehicle_theft",
         "dtype": "float64",
         "stats": {
          "unique_count": 5,
          "nan_count": 0,
          "min": "0.0",
          "max": "0.007885481681821405",
          "histogram": [
           {
            "bin_start": 0,
            "bin_end": 0.0007885481681821404,
            "count": 1
           },
           {
            "bin_start": 0.0007885481681821404,
            "bin_end": 0.0015770963363642809,
            "count": 1
           },
           {
            "bin_start": 0.0015770963363642809,
            "bin_end": 0.002365644504546421,
            "count": 1
           },
           {
            "bin_start": 0.002365644504546421,
            "bin_end": 0.0031541926727285618,
            "count": 0
           },
           {
            "bin_start": 0.0031541926727285618,
            "bin_end": 0.003942740840910702,
            "count": 1
           },
           {
            "bin_start": 0.003942740840910702,
            "bin_end": 0.004731289009092842,
            "count": 0
           },
           {
            "bin_start": 0.004731289009092842,
            "bin_end": 0.005519837177274983,
            "count": 0
           },
           {
            "bin_start": 0.005519837177274983,
            "bin_end": 0.0063083853454571235,
            "count": 0
           },
           {
            "bin_start": 0.0063083853454571235,
            "bin_end": 0.007096933513639264,
            "count": 0
           },
           {
            "bin_start": 0.007096933513639264,
            "bin_end": 0.007885481681821405,
            "count": 1
           }
          ]
         }
        },
        {
         "name": "per_capita_num_larceny_theft",
         "dtype": "float64",
         "stats": {
          "unique_count": 5,
          "nan_count": 0,
          "min": "0.010698535416780095",
          "max": "0.021839493716869097",
          "histogram": [
           {
            "bin_start": 0.010698535416780095,
            "bin_end": 0.011812631246788996,
            "count": 1
           },
           {
            "bin_start": 0.011812631246788996,
            "bin_end": 0.012926727076797895,
            "count": 0
           },
           {
            "bin_start": 0.012926727076797895,
            "bin_end": 0.014040822906806796,
            "count": 2
           },
           {
            "bin_start": 0.014040822906806796,
            "bin_end": 0.015154918736815695,
            "count": 0
           },
           {
            "bin_start": 0.015154918736815695,
            "bin_end": 0.016269014566824596,
            "count": 0
           },
           {
            "bin_start": 0.016269014566824596,
            "bin_end": 0.017383110396833497,
            "count": 0
           },
           {
            "bin_start": 0.017383110396833497,
            "bin_end": 0.018497206226842398,
            "count": 0
           },
           {
            "bin_start": 0.018497206226842398,
            "bin_end": 0.0196113020568513,
            "count": 1
           },
           {
            "bin_start": 0.0196113020568513,
            "bin_end": 0.020725397886860196,
            "count": 0
           },
           {
            "bin_start": 0.020725397886860196,
            "bin_end": 0.021839493716869097,
            "count": 1
           }
          ]
         }
        },
        {
         "name": "per_capita_num_arson",
         "dtype": "float64",
         "stats": {
          "unique_count": 5,
          "nan_count": 0,
          "min": "0.0",
          "max": "0.0003892182082541103",
          "histogram": [
           {
            "bin_start": 0,
            "bin_end": 0.00003892182082541103,
            "count": 1
           },
           {
            "bin_start": 0.00003892182082541103,
            "bin_end": 0.00007784364165082205,
            "count": 1
           },
           {
            "bin_start": 0.00007784364165082205,
            "bin_end": 0.00011676546247623307,
            "count": 1
           },
           {
            "bin_start": 0.00011676546247623307,
            "bin_end": 0.0001556872833016441,
            "count": 0
           },
           {
            "bin_start": 0.0001556872833016441,
            "bin_end": 0.00019460910412705514,
            "count": 0
           },
           {
            "bin_start": 0.00019460910412705514,
            "bin_end": 0.00023353092495246615,
            "count": 1
           },
           {
            "bin_start": 0.00023353092495246615,
            "bin_end": 0.0002724527457778772,
            "count": 0
           },
           {
            "bin_start": 0.0002724527457778772,
            "bin_end": 0.0003113745666032882,
            "count": 0
           },
           {
            "bin_start": 0.0003113745666032882,
            "bin_end": 0.00035029638742869925,
            "count": 0
           },
           {
            "bin_start": 0.00035029638742869925,
            "bin_end": 0.0003892182082541103,
            "count": 1
           }
          ]
         }
        },
        {
         "name": "_deepnote_index_column",
         "dtype": "int64"
        }
       ],
       "rows": [
        {
         "county_name": "alameda",
         "year": 2014,
         "registered_pct": 78.52318241100161,
         "democrat_pct": 55.470516910746696,
         "republican_pct": 13.380564588352218,
         "american_independent_pct": 2.041992164705796,
         "green_pct": 1.2373327567631316,
         "liberterian_pct": 0.5171932988455902,
         "peace_and_freedom_pct": 0.3606839727816277,
         "no_party_pct": 21.249642202973185,
         "other_party_pct": 5.742074104831764,
         "Location ID": "CA-001",
         "avg_temp": 61.95000000000001,
         "min_temp": 42,
         "max_temp": 85,
         "total_precip_amt": 19.88,
         "avg_daily_attendance_expense": 9359.865129618556,
         "state": 6,
         "county": 1,
         "state_name": "california",
         "bea_number_of_people": 1607638,
         "per_capita_personal_income": 57951,
         "per_capita_retirement_and_other": 6714,
         "per_capita_unemploy_ins_comp": 145,
         "per_capita_curr_dollar_real_gdp": 67.98561616483313,
         "per_capita_num_jobs": 0.6033590895462785,
         "per_capita_farm_proprieter_jobs": 0.0002158446117844,
         "per_capita_nonfarm_proprieter_jobs": 0.1356319022068401,
         "coastal_flag": 1,
         "per_capita_num_violent_crimes": 0.006441748702133192,
         "per_capita_num_homicide": 0.00006344711931417396,
         "per_capita_num_rape": 0.0002631189359793685,
         "per_capita_num_robbery": 0.0031344121002364962,
         "per_capita_num_agg_assault": 0.002980770546603153,
         "per_capita_num_property_crimes": 0.035841402106693176,
         "per_capita_num_burglary": 0.0061164267080026724,
         "per_capita_num_vehicle_theft": 0.007885481681821405,
         "per_capita_num_larceny_theft": 0.021839493716869097,
         "per_capita_num_arson": 0.00020278196957275208,
         "_deepnote_index_column": 0
        },
        {
         "county_name": "alpine",
         "year": 2014,
         "registered_pct": 87.01594533029613,
         "democrat_pct": 36.64921465968586,
         "republican_pct": 29.84293193717277,
         "american_independent_pct": 3.926701570680628,
         "green_pct": 1.7015706806282722,
         "liberterian_pct": 0.7853403141361256,
         "peace_and_freedom_pct": 0.1308900523560209,
         "no_party_pct": 26.04712041884817,
         "other_party_pct": 0.9162303664921464,
         "Location ID": "CA-003",
         "avg_temp": 46.79999999999999,
         "min_temp": 25.5,
         "max_temp": 77.3,
         "total_precip_amt": 29.38,
         "avg_daily_attendance_expense": 32705.259320948117,
         "state": 6,
         "county": 3,
         "state_name": "california",
         "bea_number_of_people": 1083,
         "per_capita_personal_income": 64425,
         "per_capita_retirement_and_other": 11478,
         "per_capita_unemploy_ins_comp": 190,
         "per_capita_curr_dollar_real_gdp": 102.50046168051708,
         "per_capita_num_jobs": 1.2031394275161589,
         "per_capita_farm_proprieter_jobs": 0,
         "per_capita_nonfarm_proprieter_jobs": 0.1662049861495844,
         "coastal_flag": 0,
         "per_capita_num_violent_crimes": 0.003693444136657433,
         "per_capita_num_homicide": 0,
         "per_capita_num_rape": 0.0009233610341643582,
         "per_capita_num_robbery": 0,
         "per_capita_num_agg_assault": 0.002770083102493075,
         "per_capita_num_property_crimes": 0.0221606648199446,
         "per_capita_num_burglary": 0.009233610341643583,
         "per_capita_num_vehicle_theft": 0,
         "per_capita_num_larceny_theft": 0.012927054478301015,
         "per_capita_num_arson": 0,
         "_deepnote_index_column": 1
        },
        {
         "county_name": "amador",
         "year": 2014,
         "registered_pct": 78.20855112247584,
         "democrat_pct": 31.09433599384556,
         "republican_pct": 44.16290027887297,
         "american_independent_pct": 4.370612558899895,
         "green_pct": 0.5721704010000962,
         "liberterian_pct": 1.0770266371766517,
         "peace_and_freedom_pct": 0.2355995768823925,
         "no_party_pct": 18.203673430137517,
         "other_party_pct": 0.2836811231849216,
         "Location ID": "CA-005",
         "avg_temp": 60.95,
         "min_temp": 38.2,
         "max_temp": 93.2,
         "total_precip_amt": 31.29,
         "avg_daily_attendance_expense": 6909.1111348365785,
         "state": 6,
         "county": 5,
         "state_name": "california",
         "bea_number_of_people": 36734,
         "per_capita_personal_income": 38617,
         "per_capita_retirement_and_other": 9378,
         "per_capita_unemploy_ins_comp": 142,
         "per_capita_curr_dollar_real_gdp": 42.97272281809767,
         "per_capita_num_jobs": 0.4702727718190232,
         "per_capita_farm_proprieter_jobs": 0.0102357488974791,
         "per_capita_nonfarm_proprieter_jobs": 0.1340719769151195,
         "coastal_flag": 0,
         "per_capita_num_violent_crimes": 0.002205041650786737,
         "per_capita_num_homicide": 0.00002722273642946589,
         "per_capita_num_rape": 0.00013611368214732944,
         "per_capita_num_robbery": 0.0002722273642946589,
         "per_capita_num_agg_assault": 0.0017694778679152828,
         "per_capita_num_property_crimes": 0.017123101214134046,
         "per_capita_num_burglary": 0.005335656340175314,
         "per_capita_num_vehicle_theft": 0.0010889094571786355,
         "per_capita_num_larceny_theft": 0.010698535416780095,
         "per_capita_num_arson": 0.00010889094571786355,
         "_deepnote_index_column": 2
        },
        {
         "county_name": "butte",
         "year": 2014,
         "registered_pct": 70.024791122871,
         "democrat_pct": 33.0144762261389,
         "republican_pct": 36.155672621124566,
         "american_independent_pct": 3.5445903508846586,
         "green_pct": 1.2306068781222608,
         "liberterian_pct": 1.05954741581066,
         "peace_and_freedom_pct": 0.427223134728475,
         "no_party_pct": 23.10068679097555,
         "other_party_pct": 1.4671965822149222,
         "Location ID": "CA-007",
         "avg_temp": 62.43333333333334,
         "min_temp": 40.3,
         "max_temp": 94.5,
         "total_precip_amt": 43.72,
         "avg_daily_attendance_expense": 8972.45510155196,
         "state": 6,
         "county": 7,
         "state_name": "california",
         "bea_number_of_people": 223525,
         "per_capita_personal_income": 36796,
         "per_capita_retirement_and_other": 8917,
         "per_capita_unemploy_ins_comp": 164,
         "per_capita_curr_dollar_real_gdp": 37.09988591880103,
         "per_capita_num_jobs": 0.4806665921037915,
         "per_capita_farm_proprieter_jobs": 0.0074935689520187,
         "per_capita_nonfarm_proprieter_jobs": 0.1062744659434067,
         "coastal_flag": 0,
         "per_capita_num_violent_crimes": 0.0030332177608768593,
         "per_capita_num_homicide": 0.00004921149759534728,
         "per_capita_num_rape": 0.000340006710658763,
         "per_capita_num_robbery": 0.0006665921037915222,
         "per_capita_num_agg_assault": 0.001977407448831227,
         "per_capita_num_property_crimes": 0.029665585504977072,
         "per_capita_num_burglary": 0.007457778771949446,
         "per_capita_num_vehicle_theft": 0.00340006710658763,
         "per_capita_num_larceny_theft": 0.018807739626439994,
         "per_capita_num_arson": 0.0003892182082541103,
         "_deepnote_index_column": 3
        },
        {
         "county_name": "calaveras",
         "year": 2014,
         "registered_pct": 76.305922814535,
         "democrat_pct": 30.220186197724253,
         "republican_pct": 41.909265553421015,
         "american_independent_pct": 4.706664696320378,
         "green_pct": 0.8866558297620807,
         "liberterian_pct": 1.363233338259199,
         "peace_and_freedom_pct": 0.3657455297768582,
         "no_party_pct": 19.66898182355549,
         "other_party_pct": 0.8792670311807299,
         "Location ID": "CA-009",
         "avg_temp": 61.13333333333333,
         "min_temp": 38.2,
         "max_temp": 93.6,
         "total_precip_amt": 29.56,
         "avg_daily_attendance_expense": 9088.735276770238,
         "state": 6,
         "county": 9,
         "state_name": "california",
         "bea_number_of_people": 44677,
         "per_capita_personal_income": 39996,
         "per_capita_retirement_and_other": 9881,
         "per_capita_unemploy_ins_comp": 161,
         "per_capita_curr_dollar_real_gdp": 28.69219061261947,
         "per_capita_num_jobs": 0.3498220560915012,
         "per_capita_farm_proprieter_jobs": 0.0123553506278398,
         "per_capita_nonfarm_proprieter_jobs": 0.1397139467735076,
         "coastal_flag": 0,
         "per_capita_num_violent_crimes": 0.002529265617655617,
         "per_capita_num_homicide": 0,
         "per_capita_num_rape": 0.0002685945788660832,
         "per_capita_num_robbery": 0.0002014459341495624,
         "per_capita_num_agg_assault": 0.002059225104639971,
         "per_capita_num_property_crimes": 0.02213666987487969,
         "per_capita_num_burglary": 0.006647715826935559,
         "per_capita_num_vehicle_theft": 0.002081607986212145,
         "per_capita_num_larceny_theft": 0.013407346061731988,
         "per_capita_num_arson": 0.000044765763144347204,
         "_deepnote_index_column": 4
        }
       ]
      },
      "text/plain": "  county_name  year  registered_pct  democrat_pct  republican_pct  \\\n0     alameda  2014       78.523182     55.470517       13.380565   \n1      alpine  2014       87.015945     36.649215       29.842932   \n2      amador  2014       78.208551     31.094336       44.162900   \n3       butte  2014       70.024791     33.014476       36.155673   \n4   calaveras  2014       76.305923     30.220186       41.909266   \n\n   american_independent_pct  green_pct  liberterian_pct  \\\n0                  2.041992   1.237333         0.517193   \n1                  3.926702   1.701571         0.785340   \n2                  4.370613   0.572170         1.077027   \n3                  3.544590   1.230607         1.059547   \n4                  4.706665   0.886656         1.363233   \n\n   peace_and_freedom_pct  no_party_pct  ...  per_capita_num_violent_crimes  \\\n0               0.360684     21.249642  ...                       0.006442   \n1               0.130890     26.047120  ...                       0.003693   \n2               0.235600     18.203673  ...                       0.002205   \n3               0.427223     23.100687  ...                       0.003033   \n4               0.365746     19.668982  ...                       0.002529   \n\n  per_capita_num_homicide  per_capita_num_rape  per_capita_num_robbery  \\\n0                0.000063             0.000263                0.003134   \n1                0.000000             0.000923                0.000000   \n2                0.000027             0.000136                0.000272   \n3                0.000049             0.000340                0.000667   \n4                0.000000             0.000269                0.000201   \n\n   per_capita_num_agg_assault  per_capita_num_property_crimes  \\\n0                    0.002981                        0.035841   \n1                    0.002770                        0.022161   \n2                    0.001769                        0.017123   \n3                    0.001977                        0.029666   \n4                    0.002059                        0.022137   \n\n   per_capita_num_burglary  per_capita_num_vehicle_theft  \\\n0                 0.006116                      0.007885   \n1                 0.009234                      0.000000   \n2                 0.005336                      0.001089   \n3                 0.007458                      0.003400   \n4                 0.006648                      0.002082   \n\n   per_capita_num_larceny_theft per_capita_num_arson  \n0                      0.021839             0.000203  \n1                      0.012927             0.000000  \n2                      0.010699             0.000109  \n3                      0.018808             0.000389  \n4                      0.013407             0.000045  \n\n[5 rows x 39 columns]",
      "text/html": "<div>\n<style scoped>\n    .dataframe tbody tr th:only-of-type {\n        vertical-align: middle;\n    }\n\n    .dataframe tbody tr th {\n        vertical-align: top;\n    }\n\n    .dataframe thead th {\n        text-align: right;\n    }\n</style>\n<table border=\"1\" class=\"dataframe\">\n  <thead>\n    <tr style=\"text-align: right;\">\n      <th></th>\n      <th>county_name</th>\n      <th>year</th>\n      <th>registered_pct</th>\n      <th>democrat_pct</th>\n      <th>republican_pct</th>\n      <th>american_independent_pct</th>\n      <th>green_pct</th>\n      <th>liberterian_pct</th>\n      <th>peace_and_freedom_pct</th>\n      <th>no_party_pct</th>\n      <th>...</th>\n      <th>per_capita_num_violent_crimes</th>\n      <th>per_capita_num_homicide</th>\n      <th>per_capita_num_rape</th>\n      <th>per_capita_num_robbery</th>\n      <th>per_capita_num_agg_assault</th>\n      <th>per_capita_num_property_crimes</th>\n      <th>per_capita_num_burglary</th>\n      <th>per_capita_num_vehicle_theft</th>\n      <th>per_capita_num_larceny_theft</th>\n      <th>per_capita_num_arson</th>\n    </tr>\n  </thead>\n  <tbody>\n    <tr>\n      <th>0</th>\n      <td>alameda</td>\n      <td>2014</td>\n      <td>78.523182</td>\n      <td>55.470517</td>\n      <td>13.380565</td>\n      <td>2.041992</td>\n      <td>1.237333</td>\n      <td>0.517193</td>\n      <td>0.360684</td>\n      <td>21.249642</td>\n      <td>...</td>\n      <td>0.006442</td>\n      <td>0.000063</td>\n      <td>0.000263</td>\n      <td>0.003134</td>\n      <td>0.002981</td>\n      <td>0.035841</td>\n      <td>0.006116</td>\n      <td>0.007885</td>\n      <td>0.021839</td>\n      <td>0.000203</td>\n    </tr>\n    <tr>\n      <th>1</th>\n      <td>alpine</td>\n      <td>2014</td>\n      <td>87.015945</td>\n      <td>36.649215</td>\n      <td>29.842932</td>\n      <td>3.926702</td>\n      <td>1.701571</td>\n      <td>0.785340</td>\n      <td>0.130890</td>\n      <td>26.047120</td>\n      <td>...</td>\n      <td>0.003693</td>\n      <td>0.000000</td>\n      <td>0.000923</td>\n      <td>0.000000</td>\n      <td>0.002770</td>\n      <td>0.022161</td>\n      <td>0.009234</td>\n      <td>0.000000</td>\n      <td>0.012927</td>\n      <td>0.000000</td>\n    </tr>\n    <tr>\n      <th>2</th>\n      <td>amador</td>\n      <td>2014</td>\n      <td>78.208551</td>\n      <td>31.094336</td>\n      <td>44.162900</td>\n      <td>4.370613</td>\n      <td>0.572170</td>\n      <td>1.077027</td>\n      <td>0.235600</td>\n      <td>18.203673</td>\n      <td>...</td>\n      <td>0.002205</td>\n      <td>0.000027</td>\n      <td>0.000136</td>\n      <td>0.000272</td>\n      <td>0.001769</td>\n      <td>0.017123</td>\n      <td>0.005336</td>\n      <td>0.001089</td>\n      <td>0.010699</td>\n      <td>0.000109</td>\n    </tr>\n    <tr>\n      <th>3</th>\n      <td>butte</td>\n      <td>2014</td>\n      <td>70.024791</td>\n      <td>33.014476</td>\n      <td>36.155673</td>\n      <td>3.544590</td>\n      <td>1.230607</td>\n      <td>1.059547</td>\n      <td>0.427223</td>\n      <td>23.100687</td>\n      <td>...</td>\n      <td>0.003033</td>\n      <td>0.000049</td>\n      <td>0.000340</td>\n      <td>0.000667</td>\n      <td>0.001977</td>\n      <td>0.029666</td>\n      <td>0.007458</td>\n      <td>0.003400</td>\n      <td>0.018808</td>\n      <td>0.000389</td>\n    </tr>\n    <tr>\n      <th>4</th>\n      <td>calaveras</td>\n      <td>2014</td>\n      <td>76.305923</td>\n      <td>30.220186</td>\n      <td>41.909266</td>\n      <td>4.706665</td>\n      <td>0.886656</td>\n      <td>1.363233</td>\n      <td>0.365746</td>\n      <td>19.668982</td>\n      <td>...</td>\n      <td>0.002529</td>\n      <td>0.000000</td>\n      <td>0.000269</td>\n      <td>0.000201</td>\n      <td>0.002059</td>\n      <td>0.022137</td>\n      <td>0.006648</td>\n      <td>0.002082</td>\n      <td>0.013407</td>\n      <td>0.000045</td>\n    </tr>\n  </tbody>\n</table>\n<p>5 rows × 39 columns</p>\n</div>"
     },
     "metadata": {}
    }
   ],
   "execution_count": null
  },
  {
   "cell_type": "code",
   "metadata": {
    "tags": [],
    "cell_id": "00029-eae9cede-7c02-4c56-af61-5f137ef35d20",
    "deepnote_to_be_reexecuted": false,
    "source_hash": "5a1c3786",
    "execution_start": 1643551406129,
    "execution_millis": 2,
    "deepnote_cell_type": "code"
   },
   "source": "#Merge National features and CA features\nca_full_df = pd.merge(ca_df,all_df_ca,how='left',left_on = ['county','state','year'],right_on = ['county','state','year'])",
   "outputs": [],
   "execution_count": null
  },
  {
   "cell_type": "code",
   "metadata": {
    "tags": [],
    "cell_id": "00031-6d9be6a0-ede6-4ca0-a76e-fcfb37825a62",
    "deepnote_to_be_reexecuted": false,
    "source_hash": "6c1b80c5",
    "execution_start": 1643551406139,
    "execution_millis": 2,
    "deepnote_cell_type": "code"
   },
   "source": "#Drop fields that are missing values and rename\nca_full_df = ca_full_df.drop(columns={'county_name_y','state_name_y'})\nca_full_df = ca_full_df.rename(columns={\"county_name_x\": \"county_name\", \"state_name_x\": \"state_name\"}) \n",
   "outputs": [],
   "execution_count": null
  },
  {
   "cell_type": "code",
   "metadata": {
    "tags": [],
    "cell_id": "00032-026f0e09-dfaf-4233-bdb6-c54c0ba95919",
    "deepnote_to_be_reexecuted": false,
    "source_hash": "bf7be126",
    "execution_start": 1643551406160,
    "execution_millis": 642,
    "deepnote_output_heights": [
     232.4375
    ],
    "deepnote_cell_type": "code"
   },
   "source": "ca_full_df",
   "outputs": [
    {
     "output_type": "execute_result",
     "execution_count": 26,
     "data": {
      "application/vnd.deepnote.dataframe.v3+json": {
       "column_count": 82,
       "row_count": 348,
       "columns": [
        {
         "name": "county_name",
         "dtype": "object",
         "stats": {
          "unique_count": 58,
          "nan_count": 0,
          "categories": [
           {
            "name": "alameda",
            "count": 6
           },
           {
            "name": "alpine",
            "count": 6
           },
           {
            "name": "56 others",
            "count": 336
           }
          ]
         }
        },
        {
         "name": "year",
         "dtype": "int64",
         "stats": {
          "unique_count": 6,
          "nan_count": 0,
          "min": "2014",
          "max": "2019",
          "histogram": [
           {
            "bin_start": 2014,
            "bin_end": 2014.5,
            "count": 58
           },
           {
            "bin_start": 2014.5,
            "bin_end": 2015,
            "count": 0
           },
           {
            "bin_start": 2015,
            "bin_end": 2015.5,
            "count": 58
           },
           {
            "bin_start": 2015.5,
            "bin_end": 2016,
            "count": 0
           },
           {
            "bin_start": 2016,
            "bin_end": 2016.5,
            "count": 58
           },
           {
            "bin_start": 2016.5,
            "bin_end": 2017,
            "count": 0
           },
           {
            "bin_start": 2017,
            "bin_end": 2017.5,
            "count": 58
           },
           {
            "bin_start": 2017.5,
            "bin_end": 2018,
            "count": 0
           },
           {
            "bin_start": 2018,
            "bin_end": 2018.5,
            "count": 58
           },
           {
            "bin_start": 2018.5,
            "bin_end": 2019,
            "count": 58
           }
          ]
         }
        },
        {
         "name": "registered_pct",
         "dtype": "float64",
         "stats": {
          "unique_count": 174,
          "nan_count": 0,
          "min": "53.73505354188131",
          "max": "89.08872901678657",
          "histogram": [
           {
            "bin_start": 53.73505354188131,
            "bin_end": 57.27042108937184,
            "count": 4
           },
           {
            "bin_start": 57.27042108937184,
            "bin_end": 60.80578863686236,
            "count": 6
           },
           {
            "bin_start": 60.80578863686236,
            "bin_end": 64.34115618435288,
            "count": 18
           },
           {
            "bin_start": 64.34115618435288,
            "bin_end": 67.8765237318434,
            "count": 22
           },
           {
            "bin_start": 67.8765237318434,
            "bin_end": 71.41189127933394,
            "count": 60
           },
           {
            "bin_start": 71.41189127933394,
            "bin_end": 74.94725882682447,
            "count": 62
           },
           {
            "bin_start": 74.94725882682447,
            "bin_end": 78.48262637431499,
            "count": 74
           },
           {
            "bin_start": 78.48262637431499,
            "bin_end": 82.01799392180553,
            "count": 52
           },
           {
            "bin_start": 82.01799392180553,
            "bin_end": 85.55336146929605,
            "count": 26
           },
           {
            "bin_start": 85.55336146929605,
            "bin_end": 89.08872901678657,
            "count": 24
           }
          ]
         }
        },
        {
         "name": "democrat_pct",
         "dtype": "float64",
         "stats": {
          "unique_count": 174,
          "nan_count": 0,
          "min": "19.976276862964",
          "max": "57.88154617600537",
          "histogram": [
           {
            "bin_start": 19.976276862964,
            "bin_end": 23.766803794268135,
            "count": 12
           },
           {
            "bin_start": 23.766803794268135,
            "bin_end": 27.557330725572275,
            "count": 16
           },
           {
            "bin_start": 27.557330725572275,
            "bin_end": 31.34785765687641,
            "count": 74
           },
           {
            "bin_start": 31.34785765687641,
            "bin_end": 35.13838458818055,
            "count": 60
           },
           {
            "bin_start": 35.13838458818055,
            "bin_end": 38.928911519484686,
            "count": 40
           },
           {
            "bin_start": 38.928911519484686,
            "bin_end": 42.71943845078882,
            "count": 34
           },
           {
            "bin_start": 42.71943845078882,
            "bin_end": 46.50996538209296,
            "count": 34
           },
           {
            "bin_start": 46.50996538209296,
            "bin_end": 50.3004923133971,
            "count": 32
           },
           {
            "bin_start": 50.3004923133971,
            "bin_end": 54.091019244701236,
            "count": 24
           },
           {
            "bin_start": 54.091019244701236,
            "bin_end": 57.88154617600537,
            "count": 22
           }
          ]
         }
        },
        {
         "name": "republican_pct",
         "dtype": "float64",
         "stats": {
          "unique_count": 174,
          "nan_count": 0,
          "min": "6.634723258227661",
          "max": "51.25822686798297",
          "histogram": [
           {
            "bin_start": 6.634723258227661,
            "bin_end": 11.097073619203192,
            "count": 8
           },
           {
            "bin_start": 11.097073619203192,
            "bin_end": 15.559423980178723,
            "count": 12
           },
           {
            "bin_start": 15.559423980178723,
            "bin_end": 20.021774341154256,
            "count": 32
           },
           {
            "bin_start": 20.021774341154256,
            "bin_end": 24.484124702129783,
            "count": 40
           },
           {
            "bin_start": 24.484124702129783,
            "bin_end": 28.946475063105318,
            "count": 30
           },
           {
            "bin_start": 28.946475063105318,
            "bin_end": 33.408825424080845,
            "count": 42
           },
           {
            "bin_start": 33.408825424080845,
            "bin_end": 37.87117578505638,
            "count": 54
           },
           {
            "bin_start": 37.87117578505638,
            "bin_end": 42.33352614603191,
            "count": 60
           },
           {
            "bin_start": 42.33352614603191,
            "bin_end": 46.79587650700744,
            "count": 56
           },
           {
            "bin_start": 46.79587650700744,
            "bin_end": 51.25822686798297,
            "count": 14
           }
          ]
         }
        },
        {
         "name": "american_independent_pct",
         "dtype": "float64",
         "stats": {
          "unique_count": 174,
          "nan_count": 0,
          "min": "1.6078360007279258",
          "max": "6.191117092866756",
          "histogram": [
           {
            "bin_start": 1.6078360007279258,
            "bin_end": 2.0661641099418087,
            "count": 16
           },
           {
            "bin_start": 2.0661641099418087,
            "bin_end": 2.5244922191556918,
            "count": 50
           },
           {
            "bin_start": 2.5244922191556918,
            "bin_end": 2.9828203283695744,
            "count": 72
           },
           {
            "bin_start": 2.9828203283695744,
            "bin_end": 3.4411484375834576,
            "count": 76
           },
           {
            "bin_start": 3.4411484375834576,
            "bin_end": 3.8994765467973407,
            "count": 28
           },
           {
            "bin_start": 3.8994765467973407,
            "bin_end": 4.357804656011224,
            "count": 42
           },
           {
            "bin_start": 4.357804656011224,
            "bin_end": 4.816132765225107,
            "count": 30
           },
           {
            "bin_start": 4.816132765225107,
            "bin_end": 5.27446087443899,
            "count": 22
           },
           {
            "bin_start": 5.27446087443899,
            "bin_end": 5.732788983652873,
            "count": 10
           },
           {
            "bin_start": 5.732788983652873,
            "bin_end": 6.191117092866756,
            "count": 2
           }
          ]
         }
        },
        {
         "name": "green_pct",
         "dtype": "float64",
         "stats": {
          "unique_count": 174,
          "nan_count": 0,
          "min": "0.1865246316138525",
          "max": "3.770367563471012",
          "histogram": [
           {
            "bin_start": 0.1865246316138525,
            "bin_end": 0.5449089247995684,
            "count": 188
           },
           {
            "bin_start": 0.5449089247995684,
            "bin_end": 0.9032932179852843,
            "count": 90
           },
           {
            "bin_start": 0.9032932179852843,
            "bin_end": 1.2616775111710001,
            "count": 40
           },
           {
            "bin_start": 1.2616775111710001,
            "bin_end": 1.620061804356716,
            "count": 10
           },
           {
            "bin_start": 1.620061804356716,
            "bin_end": 1.978446097542432,
            "count": 6
           },
           {
            "bin_start": 1.978446097542432,
            "bin_end": 2.336830390728148,
            "count": 4
           },
           {
            "bin_start": 2.336830390728148,
            "bin_end": 2.695214683913864,
            "count": 6
           },
           {
            "bin_start": 2.695214683913864,
            "bin_end": 3.05359897709958,
            "count": 0
           },
           {
            "bin_start": 3.05359897709958,
            "bin_end": 3.4119832702852957,
            "count": 0
           },
           {
            "bin_start": 3.4119832702852957,
            "bin_end": 3.770367563471012,
            "count": 4
           }
          ]
         }
        },
        {
         "name": "liberterian_pct",
         "dtype": "float64",
         "stats": {
          "unique_count": 174,
          "nan_count": 0,
          "min": "0.4158988317638506",
          "max": "1.6201455276655932",
          "histogram": [
           {
            "bin_start": 0.4158988317638506,
            "bin_end": 0.5363235013540248,
            "count": 20
           },
           {
            "bin_start": 0.5363235013540248,
            "bin_end": 0.6567481709441991,
            "count": 58
           },
           {
            "bin_start": 0.6567481709441991,
            "bin_end": 0.7771728405343734,
            "count": 66
           },
           {
            "bin_start": 0.7771728405343734,
            "bin_end": 0.8975975101245477,
            "count": 66
           },
           {
            "bin_start": 0.8975975101245477,
            "bin_end": 1.018022179714722,
            "count": 40
           },
           {
            "bin_start": 1.018022179714722,
            "bin_end": 1.138446849304896,
            "count": 52
           },
           {
            "bin_start": 1.138446849304896,
            "bin_end": 1.2588715188950703,
            "count": 22
           },
           {
            "bin_start": 1.2588715188950703,
            "bin_end": 1.3792961884852446,
            "count": 14
           },
           {
            "bin_start": 1.3792961884852446,
            "bin_end": 1.4997208580754189,
            "count": 6
           },
           {
            "bin_start": 1.4997208580754189,
            "bin_end": 1.6201455276655932,
            "count": 4
           }
          ]
         }
        },
        {
         "name": "peace_and_freedom_pct",
         "dtype": "float64",
         "stats": {
          "unique_count": 174,
          "nan_count": 0,
          "min": "0.0",
          "max": "0.8061354646944555",
          "histogram": [
           {
            "bin_start": 0,
            "bin_end": 0.08061354646944555,
            "count": 2
           },
           {
            "bin_start": 0.08061354646944555,
            "bin_end": 0.1612270929388911,
            "count": 8
           },
           {
            "bin_start": 0.1612270929388911,
            "bin_end": 0.24184063940833664,
            "count": 48
           },
           {
            "bin_start": 0.24184063940833664,
            "bin_end": 0.3224541858777822,
            "count": 150
           },
           {
            "bin_start": 0.3224541858777822,
            "bin_end": 0.4030677323472277,
            "count": 72
           },
           {
            "bin_start": 0.4030677323472277,
            "bin_end": 0.4836812788166733,
            "count": 32
           },
           {
            "bin_start": 0.4836812788166733,
            "bin_end": 0.5642948252861189,
            "count": 18
           },
           {
            "bin_start": 0.5642948252861189,
            "bin_end": 0.6449083717555644,
            "count": 12
           },
           {
            "bin_start": 0.6449083717555644,
            "bin_end": 0.7255219182250099,
            "count": 2
           },
           {
            "bin_start": 0.7255219182250099,
            "bin_end": 0.8061354646944555,
            "count": 4
           }
          ]
         }
        },
        {
         "name": "no_party_pct",
         "dtype": "float64",
         "stats": {
          "unique_count": 174,
          "nan_count": 0,
          "min": "3.0030946258117943",
          "max": "33.6725132202257",
          "histogram": [
           {
            "bin_start": 3.0030946258117943,
            "bin_end": 6.070036485253185,
            "count": 2
           },
           {
            "bin_start": 6.070036485253185,
            "bin_end": 9.136978344694576,
            "count": 0
           },
           {
            "bin_start": 9.136978344694576,
            "bin_end": 12.203920204135967,
            "count": 4
           },
           {
            "bin_start": 12.203920204135967,
            "bin_end": 15.270862063577358,
            "count": 0
           },
           {
            "bin_start": 15.270862063577358,
            "bin_end": 18.337803923018747,
            "count": 22
           },
           {
            "bin_start": 18.337803923018747,
            "bin_end": 21.40474578246014,
            "count": 86
           },
           {
            "bin_start": 21.40474578246014,
            "bin_end": 24.47168764190153,
            "count": 112
           },
           {
            "bin_start": 24.47168764190153,
            "bin_end": 27.53862950134292,
            "count": 86
           },
           {
            "bin_start": 27.53862950134292,
            "bin_end": 30.605571360784314,
            "count": 24
           },
           {
            "bin_start": 30.605571360784314,
            "bin_end": 33.6725132202257,
            "count": 12
           }
          ]
         }
        },
        {
         "name": "other_party_pct",
         "dtype": "float64",
         "stats": {
          "unique_count": 174,
          "nan_count": 0,
          "min": "0.0083437630371297",
          "max": "19.382818288802685",
          "histogram": [
           {
            "bin_start": 0.0083437630371297,
            "bin_end": 1.9457912156136854,
            "count": 334
           },
           {
            "bin_start": 1.9457912156136854,
            "bin_end": 3.8832386681902413,
            "count": 4
           },
           {
            "bin_start": 3.8832386681902413,
            "bin_end": 5.820686120766797,
            "count": 2
           },
           {
            "bin_start": 5.820686120766797,
            "bin_end": 7.758133573343352,
            "count": 0
           },
           {
            "bin_start": 7.758133573343352,
            "bin_end": 9.695581025919909,
            "count": 0
           },
           {
            "bin_start": 9.695581025919909,
            "bin_end": 11.633028478496465,
            "count": 2
           },
           {
            "bin_start": 11.633028478496465,
            "bin_end": 13.57047593107302,
            "count": 0
           },
           {
            "bin_start": 13.57047593107302,
            "bin_end": 15.507923383649576,
            "count": 4
           },
           {
            "bin_start": 15.507923383649576,
            "bin_end": 17.44537083622613,
            "count": 0
           },
           {
            "bin_start": 17.44537083622613,
            "bin_end": 19.382818288802685,
            "count": 2
           }
          ]
         }
        },
        {
         "name": "Location ID",
         "dtype": "object",
         "stats": {
          "unique_count": 58,
          "nan_count": 0,
          "categories": [
           {
            "name": "CA-001",
            "count": 6
           },
           {
            "name": "CA-003",
            "count": 6
           },
           {
            "name": "56 others",
            "count": 336
           }
          ]
         }
        },
        {
         "name": "avg_temp",
         "dtype": "float64",
         "stats": {
          "unique_count": 338,
          "nan_count": 0,
          "min": "43.46666666666667",
          "max": "76.50833333333334",
          "histogram": [
           {
            "bin_start": 43.46666666666667,
            "bin_end": 46.770833333333336,
            "count": 12
           },
           {
            "bin_start": 46.770833333333336,
            "bin_end": 50.075,
            "count": 25
           },
           {
            "bin_start": 50.075,
            "bin_end": 53.37916666666667,
            "count": 17
           },
           {
            "bin_start": 53.37916666666667,
            "bin_end": 56.68333333333334,
            "count": 45
           },
           {
            "bin_start": 56.68333333333334,
            "bin_end": 59.987500000000004,
            "count": 76
           },
           {
            "bin_start": 59.987500000000004,
            "bin_end": 63.29166666666667,
            "count": 99
           },
           {
            "bin_start": 63.29166666666667,
            "bin_end": 66.59583333333333,
            "count": 54
           },
           {
            "bin_start": 66.59583333333333,
            "bin_end": 69.9,
            "count": 9
           },
           {
            "bin_start": 69.9,
            "bin_end": 73.20416666666668,
            "count": 6
           },
           {
            "bin_start": 73.20416666666668,
            "bin_end": 76.50833333333334,
            "count": 5
           }
          ]
         }
        },
        {
         "name": "min_temp",
         "dtype": "float64",
         "stats": {
          "unique_count": 169,
          "nan_count": 0,
          "min": "13.2",
          "max": "49.2",
          "histogram": [
           {
            "bin_start": 13.2,
            "bin_end": 16.8,
            "count": 5
           },
           {
            "bin_start": 16.8,
            "bin_end": 20.4,
            "count": 12
           },
           {
            "bin_start": 20.4,
            "bin_end": 24,
            "count": 18
           },
           {
            "bin_start": 24,
            "bin_end": 27.6,
            "count": 13
           },
           {
            "bin_start": 27.6,
            "bin_end": 31.2,
            "count": 42
           },
           {
            "bin_start": 31.2,
            "bin_end": 34.8,
            "count": 46
           },
           {
            "bin_start": 34.8,
            "bin_end": 38.4,
            "count": 113
           },
           {
            "bin_start": 38.4,
            "bin_end": 42,
            "count": 70
           },
           {
            "bin_start": 42,
            "bin_end": 45.599999999999994,
            "count": 21
           },
           {
            "bin_start": 45.599999999999994,
            "bin_end": 49.2,
            "count": 8
           }
          ]
         }
        },
        {
         "name": "max_temp",
         "dtype": "float64",
         "stats": {
          "unique_count": 188,
          "nan_count": 0,
          "min": "70.4",
          "max": "109.3",
          "histogram": [
           {
            "bin_start": 70.4,
            "bin_end": 74.29,
            "count": 6
           },
           {
            "bin_start": 74.29,
            "bin_end": 78.18,
            "count": 14
           },
           {
            "bin_start": 78.18,
            "bin_end": 82.07000000000001,
            "count": 17
           },
           {
            "bin_start": 82.07000000000001,
            "bin_end": 85.96000000000001,
            "count": 64
           },
           {
            "bin_start": 85.96000000000001,
            "bin_end": 89.85,
            "count": 80
           },
           {
            "bin_start": 89.85,
            "bin_end": 93.74000000000001,
            "count": 73
           },
           {
            "bin_start": 93.74000000000001,
            "bin_end": 97.63,
            "count": 58
           },
           {
            "bin_start": 97.63,
            "bin_end": 101.52,
            "count": 22
           },
           {
            "bin_start": 101.52,
            "bin_end": 105.41,
            "count": 8
           },
           {
            "bin_start": 105.41,
            "bin_end": 109.3,
            "count": 6
           }
          ]
         }
        },
        {
         "name": "total_precip_amt",
         "dtype": "float64",
         "stats": {
          "unique_count": 341,
          "nan_count": 0,
          "min": "2.06",
          "max": "97.59",
          "histogram": [
           {
            "bin_start": 2.06,
            "bin_end": 11.613000000000001,
            "count": 62
           },
           {
            "bin_start": 11.613000000000001,
            "bin_end": 21.166,
            "count": 87
           },
           {
            "bin_start": 21.166,
            "bin_end": 30.719,
            "count": 68
           },
           {
            "bin_start": 30.719,
            "bin_end": 40.272000000000006,
            "count": 43
           },
           {
            "bin_start": 40.272000000000006,
            "bin_end": 49.825,
            "count": 36
           },
           {
            "bin_start": 49.825,
            "bin_end": 59.37800000000001,
            "count": 23
           },
           {
            "bin_start": 59.37800000000001,
            "bin_end": 68.93100000000001,
            "count": 17
           },
           {
            "bin_start": 68.93100000000001,
            "bin_end": 78.48400000000001,
            "count": 6
           },
           {
            "bin_start": 78.48400000000001,
            "bin_end": 88.037,
            "count": 4
           },
           {
            "bin_start": 88.037,
            "bin_end": 97.59,
            "count": 2
           }
          ]
         }
        },
        {
         "name": "avg_daily_attendance_expense",
         "dtype": "float64",
         "stats": {
          "unique_count": 348,
          "nan_count": 0,
          "min": "6909.1111348365785",
          "max": "43008.99906002417",
          "histogram": [
           {
            "bin_start": 6909.1111348365785,
            "bin_end": 10519.099927355337,
            "count": 126
           },
           {
            "bin_start": 10519.099927355337,
            "bin_end": 14129.088719874097,
            "count": 196
           },
           {
            "bin_start": 14129.088719874097,
            "bin_end": 17739.077512392854,
            "count": 20
           },
           {
            "bin_start": 17739.077512392854,
            "bin_end": 21349.066304911616,
            "count": 0
           },
           {
            "bin_start": 21349.066304911616,
            "bin_end": 24959.055097430373,
            "count": 0
           },
           {
            "bin_start": 24959.055097430373,
            "bin_end": 28569.04388994913,
            "count": 0
           },
           {
            "bin_start": 28569.04388994913,
            "bin_end": 32179.032682467892,
            "count": 0
           },
           {
            "bin_start": 32179.032682467892,
            "bin_end": 35789.02147498665,
            "count": 5
           },
           {
            "bin_start": 35789.02147498665,
            "bin_end": 39399.01026750541,
            "count": 0
           },
           {
            "bin_start": 39399.01026750541,
            "bin_end": 43008.99906002417,
            "count": 1
           }
          ]
         }
        },
        {
         "name": "state",
         "dtype": "int64",
         "stats": {
          "unique_count": 1,
          "nan_count": 0,
          "min": "6",
          "max": "6",
          "histogram": [
           {
            "bin_start": 5.5,
            "bin_end": 5.6,
            "count": 0
           },
           {
            "bin_start": 5.6,
            "bin_end": 5.7,
            "count": 0
           },
           {
            "bin_start": 5.7,
            "bin_end": 5.8,
            "count": 0
           },
           {
            "bin_start": 5.8,
            "bin_end": 5.9,
            "count": 0
           },
           {
            "bin_start": 5.9,
            "bin_end": 6,
            "count": 0
           },
           {
            "bin_start": 6,
            "bin_end": 6.1,
            "count": 348
           },
           {
            "bin_start": 6.1,
            "bin_end": 6.2,
            "count": 0
           },
           {
            "bin_start": 6.2,
            "bin_end": 6.3,
            "count": 0
           },
           {
            "bin_start": 6.3,
            "bin_end": 6.4,
            "count": 0
           },
           {
            "bin_start": 6.4,
            "bin_end": 6.5,
            "count": 0
           }
          ]
         }
        },
        {
         "name": "county",
         "dtype": "int64",
         "stats": {
          "unique_count": 58,
          "nan_count": 0,
          "min": "1",
          "max": "115",
          "histogram": [
           {
            "bin_start": 1,
            "bin_end": 12.4,
            "count": 36
           },
           {
            "bin_start": 12.4,
            "bin_end": 23.8,
            "count": 36
           },
           {
            "bin_start": 23.8,
            "bin_end": 35.2,
            "count": 36
           },
           {
            "bin_start": 35.2,
            "bin_end": 46.6,
            "count": 30
           },
           {
            "bin_start": 46.6,
            "bin_end": 58,
            "count": 36
           },
           {
            "bin_start": 58,
            "bin_end": 69.4,
            "count": 36
           },
           {
            "bin_start": 69.4,
            "bin_end": 80.8,
            "count": 30
           },
           {
            "bin_start": 80.8,
            "bin_end": 92.2,
            "count": 36
           },
           {
            "bin_start": 92.2,
            "bin_end": 103.60000000000001,
            "count": 36
           },
           {
            "bin_start": 103.60000000000001,
            "bin_end": 115,
            "count": 36
           }
          ]
         }
        },
        {
         "name": "state_name",
         "dtype": "object",
         "stats": {
          "unique_count": 1,
          "nan_count": 0,
          "categories": [
           {
            "name": "california",
            "count": 348
           }
          ]
         }
        },
        {
         "name": "bea_number_of_people",
         "dtype": "float64",
         "stats": {
          "unique_count": 348,
          "nan_count": 0,
          "min": "1053.0",
          "max": "10094865.0",
          "histogram": [
           {
            "bin_start": 1053,
            "bin_end": 1010434.2,
            "count": 294
           },
           {
            "bin_start": 1010434.2,
            "bin_end": 2019815.4,
            "count": 24
           },
           {
            "bin_start": 2019815.4,
            "bin_end": 3029196.5999999996,
            "count": 12
           },
           {
            "bin_start": 3029196.5999999996,
            "bin_end": 4038577.8,
            "count": 12
           },
           {
            "bin_start": 4038577.8,
            "bin_end": 5047959,
            "count": 0
           },
           {
            "bin_start": 5047959,
            "bin_end": 6057340.199999999,
            "count": 0
           },
           {
            "bin_start": 6057340.199999999,
            "bin_end": 7066721.399999999,
            "count": 0
           },
           {
            "bin_start": 7066721.399999999,
            "bin_end": 8076102.6,
            "count": 0
           },
           {
            "bin_start": 8076102.6,
            "bin_end": 9085483.799999999,
            "count": 0
           },
           {
            "bin_start": 9085483.799999999,
            "bin_end": 10094865,
            "count": 6
           }
          ]
         }
        },
        {
         "name": "per_capita_personal_income",
         "dtype": "float64",
         "stats": {
          "unique_count": 346,
          "nan_count": 0,
          "min": "30556.0",
          "max": "138903.0",
          "histogram": [
           {
            "bin_start": 30556,
            "bin_end": 41390.7,
            "count": 124
           },
           {
            "bin_start": 41390.7,
            "bin_end": 52225.4,
            "count": 104
           },
           {
            "bin_start": 52225.4,
            "bin_end": 63060.100000000006,
            "count": 62
           },
           {
            "bin_start": 63060.100000000006,
            "bin_end": 73894.8,
            "count": 27
           },
           {
            "bin_start": 73894.8,
            "bin_end": 84729.5,
            "count": 8
           },
           {
            "bin_start": 84729.5,
            "bin_end": 95564.20000000001,
            "count": 3
           },
           {
            "bin_start": 95564.20000000001,
            "bin_end": 106398.90000000001,
            "count": 6
           },
           {
            "bin_start": 106398.90000000001,
            "bin_end": 117233.6,
            "count": 6
           },
           {
            "bin_start": 117233.6,
            "bin_end": 128068.3,
            "count": 3
           },
           {
            "bin_start": 128068.3,
            "bin_end": 138903,
            "count": 5
           }
          ]
         }
        },
        {
         "name": "per_capita_retirement_and_other",
         "dtype": "float64",
         "stats": {
          "unique_count": 340,
          "nan_count": 0,
          "min": "4128.0",
          "max": "15307.0",
          "histogram": [
           {
            "bin_start": 4128,
            "bin_end": 5245.9,
            "count": 6
           },
           {
            "bin_start": 5245.9,
            "bin_end": 6363.8,
            "count": 36
           },
           {
            "bin_start": 6363.8,
            "bin_end": 7481.700000000001,
            "count": 82
           },
           {
            "bin_start": 7481.700000000001,
            "bin_end": 8599.6,
            "count": 80
           },
           {
            "bin_start": 8599.6,
            "bin_end": 9717.5,
            "count": 41
           },
           {
            "bin_start": 9717.5,
            "bin_end": 10835.400000000001,
            "count": 33
           },
           {
            "bin_start": 10835.400000000001,
            "bin_end": 11953.300000000001,
            "count": 34
           },
           {
            "bin_start": 11953.300000000001,
            "bin_end": 13071.2,
            "count": 23
           },
           {
            "bin_start": 13071.2,
            "bin_end": 14189.1,
            "count": 10
           },
           {
            "bin_start": 14189.1,
            "bin_end": 15307,
            "count": 3
           }
          ]
         }
        },
        {
         "name": "per_capita_unemploy_ins_comp",
         "dtype": "float64",
         "stats": {
          "unique_count": 165,
          "nan_count": 0,
          "min": "74.0",
          "max": "671.0",
          "histogram": [
           {
            "bin_start": 74,
            "bin_end": 133.7,
            "count": 136
           },
           {
            "bin_start": 133.7,
            "bin_end": 193.4,
            "count": 111
           },
           {
            "bin_start": 193.4,
            "bin_end": 253.10000000000002,
            "count": 60
           },
           {
            "bin_start": 253.10000000000002,
            "bin_end": 312.8,
            "count": 29
           },
           {
            "bin_start": 312.8,
            "bin_end": 372.5,
            "count": 0
           },
           {
            "bin_start": 372.5,
            "bin_end": 432.20000000000005,
            "count": 0
           },
           {
            "bin_start": 432.20000000000005,
            "bin_end": 491.90000000000003,
            "count": 0
           },
           {
            "bin_start": 491.90000000000003,
            "bin_end": 551.6,
            "count": 2
           },
           {
            "bin_start": 551.6,
            "bin_end": 611.3000000000001,
            "count": 3
           },
           {
            "bin_start": 611.3000000000001,
            "bin_end": 671,
            "count": 7
           }
          ]
         }
        },
        {
         "name": "per_capita_curr_dollar_real_gdp",
         "dtype": "float64",
         "stats": {
          "unique_count": 348,
          "nan_count": 0,
          "min": "28.69219061261947",
          "max": "231.543834615726",
          "histogram": [
           {
            "bin_start": 28.69219061261947,
            "bin_end": 48.977355012930126,
            "count": 177
           },
           {
            "bin_start": 48.977355012930126,
            "bin_end": 69.26251941324078,
            "count": 102
           },
           {
            "bin_start": 69.26251941324078,
            "bin_end": 89.54768381355143,
            "count": 41
           },
           {
            "bin_start": 89.54768381355143,
            "bin_end": 109.83284821386209,
            "count": 7
           },
           {
            "bin_start": 109.83284821386209,
            "bin_end": 130.11801261417276,
            "count": 6
           },
           {
            "bin_start": 130.11801261417276,
            "bin_end": 150.4031770144834,
            "count": 4
           },
           {
            "bin_start": 150.4031770144834,
            "bin_end": 170.68834141479405,
            "count": 5
           },
           {
            "bin_start": 170.68834141479405,
            "bin_end": 190.97350581510472,
            "count": 3
           },
           {
            "bin_start": 190.97350581510472,
            "bin_end": 211.25867021541538,
            "count": 1
           },
           {
            "bin_start": 211.25867021541538,
            "bin_end": 231.543834615726,
            "count": 2
           }
          ]
         }
        },
        {
         "name": "per_capita_num_jobs",
         "dtype": "float64",
         "stats": {
          "unique_count": 348,
          "nan_count": 0,
          "min": "0.3498220560915012",
          "max": "1.278252611585945",
          "histogram": [
           {
            "bin_start": 0.3498220560915012,
            "bin_end": 0.4426651116409456,
            "count": 91
           },
           {
            "bin_start": 0.4426651116409456,
            "bin_end": 0.53550816719039,
            "count": 113
           },
           {
            "bin_start": 0.53550816719039,
            "bin_end": 0.6283512227398342,
            "count": 78
           },
           {
            "bin_start": 0.6283512227398342,
            "bin_end": 0.7211942782892786,
            "count": 34
           },
           {
            "bin_start": 0.7211942782892786,
            "bin_end": 0.814037333838723,
            "count": 20
           },
           {
            "bin_start": 0.814037333838723,
            "bin_end": 0.9068803893881674,
            "count": 0
           },
           {
            "bin_start": 0.9068803893881674,
            "bin_end": 0.9997234449376118,
            "count": 0
           },
           {
            "bin_start": 0.9997234449376118,
            "bin_end": 1.0925665004870562,
            "count": 4
           },
           {
            "bin_start": 1.0925665004870562,
            "bin_end": 1.1854095560365006,
            "count": 4
           },
           {
            "bin_start": 1.1854095560365006,
            "bin_end": 1.278252611585945,
            "count": 4
           }
          ]
         }
        },
        {
         "name": "per_capita_farm_proprieter_jobs",
         "dtype": "float64",
         "stats": {
          "unique_count": 337,
          "nan_count": 0,
          "min": "0.0",
          "max": "0.0391698438961225",
          "histogram": [
           {
            "bin_start": 0,
            "bin_end": 0.00391698438961225,
            "count": 147
           },
           {
            "bin_start": 0.00391698438961225,
            "bin_end": 0.0078339687792245,
            "count": 95
           },
           {
            "bin_start": 0.0078339687792245,
            "bin_end": 0.011750953168836748,
            "count": 62
           },
           {
            "bin_start": 0.011750953168836748,
            "bin_end": 0.015667937558449,
            "count": 10
           },
           {
            "bin_start": 0.015667937558449,
            "bin_end": 0.01958492194806125,
            "count": 10
           },
           {
            "bin_start": 0.01958492194806125,
            "bin_end": 0.023501906337673496,
            "count": 6
           },
           {
            "bin_start": 0.023501906337673496,
            "bin_end": 0.027418890727285747,
            "count": 0
           },
           {
            "bin_start": 0.027418890727285747,
            "bin_end": 0.031335875116898,
            "count": 6
           },
           {
            "bin_start": 0.031335875116898,
            "bin_end": 0.03525285950651025,
            "count": 0
           },
           {
            "bin_start": 0.03525285950651025,
            "bin_end": 0.0391698438961225,
            "count": 12
           }
          ]
         }
        },
        {
         "name": "per_capita_nonfarm_proprieter_jobs",
         "dtype": "float64",
         "stats": {
          "unique_count": 348,
          "nan_count": 0,
          "min": "0.0475726860496132",
          "max": "0.276816847655322",
          "histogram": [
           {
            "bin_start": 0.0475726860496132,
            "bin_end": 0.07049710221018407,
            "count": 18
           },
           {
            "bin_start": 0.07049710221018407,
            "bin_end": 0.09342151837075496,
            "count": 73
           },
           {
            "bin_start": 0.09342151837075496,
            "bin_end": 0.11634593453132583,
            "count": 62
           },
           {
            "bin_start": 0.11634593453132583,
            "bin_end": 0.13927035069189672,
            "count": 65
           },
           {
            "bin_start": 0.13927035069189672,
            "bin_end": 0.1621947668524676,
            "count": 65
           },
           {
            "bin_start": 0.1621947668524676,
            "bin_end": 0.18511918301303848,
            "count": 47
           },
           {
            "bin_start": 0.18511918301303848,
            "bin_end": 0.20804359917360934,
            "count": 9
           },
           {
            "bin_start": 0.20804359917360934,
            "bin_end": 0.23096801533418024,
            "count": 3
           },
           {
            "bin_start": 0.23096801533418024,
            "bin_end": 0.2538924314947511,
            "count": 0
           },
           {
            "bin_start": 0.2538924314947511,
            "bin_end": 0.276816847655322,
            "count": 6
           }
          ]
         }
        },
        {
         "name": "coastal_flag",
         "dtype": "int64",
         "stats": {
          "unique_count": 2,
          "nan_count": 0,
          "min": "0",
          "max": "1",
          "histogram": [
           {
            "bin_start": 0,
            "bin_end": 0.1,
            "count": 222
           },
           {
            "bin_start": 0.1,
            "bin_end": 0.2,
            "count": 0
           },
           {
            "bin_start": 0.2,
            "bin_end": 0.30000000000000004,
            "count": 0
           },
           {
            "bin_start": 0.30000000000000004,
            "bin_end": 0.4,
            "count": 0
           },
           {
            "bin_start": 0.4,
            "bin_end": 0.5,
            "count": 0
           },
           {
            "bin_start": 0.5,
            "bin_end": 0.6000000000000001,
            "count": 0
           },
           {
            "bin_start": 0.6000000000000001,
            "bin_end": 0.7000000000000001,
            "count": 0
           },
           {
            "bin_start": 0.7000000000000001,
            "bin_end": 0.8,
            "count": 0
           },
           {
            "bin_start": 0.8,
            "bin_end": 0.9,
            "count": 0
           },
           {
            "bin_start": 0.9,
            "bin_end": 1,
            "count": 126
           }
          ]
         }
        },
        {
         "name": "per_capita_num_violent_crimes",
         "dtype": "float64",
         "stats": {
          "unique_count": 348,
          "nan_count": 0,
          "min": "0.0003379520108144643",
          "max": "0.011680143755615454",
          "histogram": [
           {
            "bin_start": 0.0003379520108144643,
            "bin_end": 0.001472171185294563,
            "count": 2
           },
           {
            "bin_start": 0.001472171185294563,
            "bin_end": 0.002606390359774662,
            "count": 58
           },
           {
            "bin_start": 0.002606390359774662,
            "bin_end": 0.003740609534254761,
            "count": 86
           },
           {
            "bin_start": 0.003740609534254761,
            "bin_end": 0.00487482870873486,
            "count": 84
           },
           {
            "bin_start": 0.00487482870873486,
            "bin_end": 0.0060090478832149595,
            "count": 67
           },
           {
            "bin_start": 0.0060090478832149595,
            "bin_end": 0.007143267057695058,
            "count": 27
           },
           {
            "bin_start": 0.007143267057695058,
            "bin_end": 0.008277486232175156,
            "count": 17
           },
           {
            "bin_start": 0.008277486232175156,
            "bin_end": 0.009411705406655256,
            "count": 4
           },
           {
            "bin_start": 0.009411705406655256,
            "bin_end": 0.010545924581135355,
            "count": 0
           },
           {
            "bin_start": 0.010545924581135355,
            "bin_end": 0.011680143755615454,
            "count": 3
           }
          ]
         }
        },
        {
         "name": "per_capita_num_homicide",
         "dtype": "float64",
         "stats": {
          "unique_count": 303,
          "nan_count": 0,
          "min": "0.0",
          "max": "0.0004406256884776382",
          "histogram": [
           {
            "bin_start": 0,
            "bin_end": 0.00004406256884776382,
            "count": 198
           },
           {
            "bin_start": 0.00004406256884776382,
            "bin_end": 0.00008812513769552764,
            "count": 109
           },
           {
            "bin_start": 0.00008812513769552764,
            "bin_end": 0.00013218770654329146,
            "count": 27
           },
           {
            "bin_start": 0.00013218770654329146,
            "bin_end": 0.00017625027539105528,
            "count": 10
           },
           {
            "bin_start": 0.00017625027539105528,
            "bin_end": 0.0002203128442388191,
            "count": 0
           },
           {
            "bin_start": 0.0002203128442388191,
            "bin_end": 0.0002643754130865829,
            "count": 3
           },
           {
            "bin_start": 0.0002643754130865829,
            "bin_end": 0.00030843798193434677,
            "count": 0
           },
           {
            "bin_start": 0.00030843798193434677,
            "bin_end": 0.00035250055078211057,
            "count": 0
           },
           {
            "bin_start": 0.00035250055078211057,
            "bin_end": 0.00039656311962987437,
            "count": 0
           },
           {
            "bin_start": 0.00039656311962987437,
            "bin_end": 0.0004406256884776382,
            "count": 1
           }
          ]
         }
        },
        {
         "name": "per_capita_num_rape",
         "dtype": "float64",
         "stats": {
          "unique_count": 341,
          "nan_count": 0,
          "min": "0.0",
          "max": "0.0018501387604070306",
          "histogram": [
           {
            "bin_start": 0,
            "bin_end": 0.00018501387604070307,
            "count": 25
           },
           {
            "bin_start": 0.00018501387604070307,
            "bin_end": 0.00037002775208140614,
            "count": 153
           },
           {
            "bin_start": 0.00037002775208140614,
            "bin_end": 0.0005550416281221093,
            "count": 104
           },
           {
            "bin_start": 0.0005550416281221093,
            "bin_end": 0.0007400555041628123,
            "count": 36
           },
           {
            "bin_start": 0.0007400555041628123,
            "bin_end": 0.0009250693802035153,
            "count": 15
           },
           {
            "bin_start": 0.0009250693802035153,
            "bin_end": 0.0011100832562442185,
            "count": 8
           },
           {
            "bin_start": 0.0011100832562442185,
            "bin_end": 0.0012950971322849216,
            "count": 4
           },
           {
            "bin_start": 0.0012950971322849216,
            "bin_end": 0.0014801110083256246,
            "count": 0
           },
           {
            "bin_start": 0.0014801110083256246,
            "bin_end": 0.0016651248843663276,
            "count": 1
           },
           {
            "bin_start": 0.0016651248843663276,
            "bin_end": 0.0018501387604070306,
            "count": 2
           }
          ]
         }
        },
        {
         "name": "per_capita_num_robbery",
         "dtype": "float64",
         "stats": {
          "unique_count": 338,
          "nan_count": 0,
          "min": "0.0",
          "max": "0.004222478878917377",
          "histogram": [
           {
            "bin_start": 0,
            "bin_end": 0.0004222478878917377,
            "count": 100
           },
           {
            "bin_start": 0.0004222478878917377,
            "bin_end": 0.0008444957757834754,
            "count": 131
           },
           {
            "bin_start": 0.0008444957757834754,
            "bin_end": 0.0012667436636752132,
            "count": 54
           },
           {
            "bin_start": 0.0012667436636752132,
            "bin_end": 0.001688991551566951,
            "count": 39
           },
           {
            "bin_start": 0.001688991551566951,
            "bin_end": 0.0021112394394586886,
            "count": 8
           },
           {
            "bin_start": 0.0021112394394586886,
            "bin_end": 0.0025334873273504263,
            "count": 4
           },
           {
            "bin_start": 0.0025334873273504263,
            "bin_end": 0.002955735215242164,
            "count": 3
           },
           {
            "bin_start": 0.002955735215242164,
            "bin_end": 0.003377983103133902,
            "count": 3
           },
           {
            "bin_start": 0.003377983103133902,
            "bin_end": 0.0038002309910256395,
            "count": 4
           },
           {
            "bin_start": 0.0038002309910256395,
            "bin_end": 0.004222478878917377,
            "count": 2
           }
          ]
         }
        },
        {
         "name": "per_capita_num_agg_assault",
         "dtype": "float64",
         "stats": {
          "unique_count": 348,
          "nan_count": 0,
          "min": "0.0003379520108144643",
          "max": "0.011648745519713262",
          "histogram": [
           {
            "bin_start": 0.0003379520108144643,
            "bin_end": 0.001469031361704344,
            "count": 39
           },
           {
            "bin_start": 0.001469031361704344,
            "bin_end": 0.0026001107125942237,
            "count": 113
           },
           {
            "bin_start": 0.0026001107125942237,
            "bin_end": 0.0037311900634841035,
            "count": 109
           },
           {
            "bin_start": 0.0037311900634841035,
            "bin_end": 0.004862269414373984,
            "count": 48
           },
           {
            "bin_start": 0.004862269414373984,
            "bin_end": 0.0059933487652638635,
            "count": 28
           },
           {
            "bin_start": 0.0059933487652638635,
            "bin_end": 0.007124428116153743,
            "count": 4
           },
           {
            "bin_start": 0.007124428116153743,
            "bin_end": 0.008255507467043623,
            "count": 3
           },
           {
            "bin_start": 0.008255507467043623,
            "bin_end": 0.009386586817933503,
            "count": 2
           },
           {
            "bin_start": 0.009386586817933503,
            "bin_end": 0.010517666168823383,
            "count": 1
           },
           {
            "bin_start": 0.010517666168823383,
            "bin_end": 0.011648745519713262,
            "count": 1
           }
          ]
         }
        },
        {
         "name": "per_capita_num_property_crimes",
         "dtype": "float64",
         "stats": {
          "unique_count": 348,
          "nan_count": 0,
          "min": "0.007429922323539345",
          "max": "0.06296846277540796",
          "histogram": [
           {
            "bin_start": 0.007429922323539345,
            "bin_end": 0.012983776368726207,
            "count": 20
           },
           {
            "bin_start": 0.012983776368726207,
            "bin_end": 0.01853763041391307,
            "count": 95
           },
           {
            "bin_start": 0.01853763041391307,
            "bin_end": 0.024091484459099928,
            "count": 95
           },
           {
            "bin_start": 0.024091484459099928,
            "bin_end": 0.029645338504286793,
            "count": 85
           },
           {
            "bin_start": 0.029645338504286793,
            "bin_end": 0.03519919254947365,
            "count": 37
           },
           {
            "bin_start": 0.03519919254947365,
            "bin_end": 0.040753046594660516,
            "count": 10
           },
           {
            "bin_start": 0.040753046594660516,
            "bin_end": 0.046306900639847375,
            "count": 0
           },
           {
            "bin_start": 0.046306900639847375,
            "bin_end": 0.05186075468503424,
            "count": 0
           },
           {
            "bin_start": 0.05186075468503424,
            "bin_end": 0.057414608730221105,
            "count": 4
           },
           {
            "bin_start": 0.057414608730221105,
            "bin_end": 0.06296846277540796,
            "count": 2
           }
          ]
         }
        },
        {
         "name": "per_capita_num_burglary",
         "dtype": "float64",
         "stats": {
          "unique_count": 348,
          "nan_count": 0,
          "min": "0.0011805555555555556",
          "max": "0.013888888888888888",
          "histogram": [
           {
            "bin_start": 0.0011805555555555556,
            "bin_end": 0.002451388888888889,
            "count": 10
           },
           {
            "bin_start": 0.002451388888888889,
            "bin_end": 0.0037222222222222223,
            "count": 68
           },
           {
            "bin_start": 0.0037222222222222223,
            "bin_end": 0.004993055555555555,
            "count": 97
           },
           {
            "bin_start": 0.004993055555555555,
            "bin_end": 0.006263888888888888,
            "count": 75
           },
           {
            "bin_start": 0.006263888888888888,
            "bin_end": 0.007534722222222221,
            "count": 59
           },
           {
            "bin_start": 0.007534722222222221,
            "bin_end": 0.008805555555555556,
            "count": 22
           },
           {
            "bin_start": 0.008805555555555556,
            "bin_end": 0.010076388888888888,
            "count": 11
           },
           {
            "bin_start": 0.010076388888888888,
            "bin_end": 0.011347222222222222,
            "count": 4
           },
           {
            "bin_start": 0.011347222222222222,
            "bin_end": 0.012618055555555556,
            "count": 1
           },
           {
            "bin_start": 0.012618055555555556,
            "bin_end": 0.013888888888888888,
            "count": 1
           }
          ]
         }
        },
        {
         "name": "per_capita_num_vehicle_theft",
         "dtype": "float64",
         "stats": {
          "unique_count": 346,
          "nan_count": 0,
          "min": "0.0",
          "max": "0.008433665603523216",
          "histogram": [
           {
            "bin_start": 0,
            "bin_end": 0.0008433665603523215,
            "count": 17
           },
           {
            "bin_start": 0.0008433665603523215,
            "bin_end": 0.001686733120704643,
            "count": 64
           },
           {
            "bin_start": 0.001686733120704643,
            "bin_end": 0.0025300996810569644,
            "count": 66
           },
           {
            "bin_start": 0.0025300996810569644,
            "bin_end": 0.003373466241409286,
            "count": 45
           },
           {
            "bin_start": 0.003373466241409286,
            "bin_end": 0.004216832801761608,
            "count": 47
           },
           {
            "bin_start": 0.004216832801761608,
            "bin_end": 0.005060199362113929,
            "count": 57
           },
           {
            "bin_start": 0.005060199362113929,
            "bin_end": 0.0059035659224662505,
            "count": 28
           },
           {
            "bin_start": 0.0059035659224662505,
            "bin_end": 0.006746932482818572,
            "count": 14
           },
           {
            "bin_start": 0.006746932482818572,
            "bin_end": 0.007590299043170894,
            "count": 5
           },
           {
            "bin_start": 0.007590299043170894,
            "bin_end": 0.008433665603523216,
            "count": 5
           }
          ]
         }
        },
        {
         "name": "per_capita_num_larceny_theft",
         "dtype": "float64",
         "stats": {
          "unique_count": 348,
          "nan_count": 0,
          "min": "0.0037149611617696724",
          "max": "0.051722507068609674",
          "histogram": [
           {
            "bin_start": 0.0037149611617696724,
            "bin_end": 0.008515715752453672,
            "count": 32
           },
           {
            "bin_start": 0.008515715752453672,
            "bin_end": 0.013316470343137675,
            "count": 127
           },
           {
            "bin_start": 0.013316470343137675,
            "bin_end": 0.018117224933821674,
            "count": 127
           },
           {
            "bin_start": 0.018117224933821674,
            "bin_end": 0.022917979524505677,
            "count": 46
           },
           {
            "bin_start": 0.022917979524505677,
            "bin_end": 0.027718734115189676,
            "count": 9
           },
           {
            "bin_start": 0.027718734115189676,
            "bin_end": 0.03251948870587368,
            "count": 1
           },
           {
            "bin_start": 0.03251948870587368,
            "bin_end": 0.03732024329655768,
            "count": 0
           },
           {
            "bin_start": 0.03732024329655768,
            "bin_end": 0.042120997887241676,
            "count": 1
           },
           {
            "bin_start": 0.042120997887241676,
            "bin_end": 0.046921752477925675,
            "count": 3
           },
           {
            "bin_start": 0.046921752477925675,
            "bin_end": 0.051722507068609674,
            "count": 2
           }
          ]
         }
        },
        {
         "name": "per_capita_num_arson",
         "dtype": "float64",
         "stats": {
          "unique_count": 315,
          "nan_count": 0,
          "min": "0.0",
          "max": "0.0009415529877730724",
          "histogram": [
           {
            "bin_start": 0,
            "bin_end": 0.00009415529877730724,
            "count": 80
           },
           {
            "bin_start": 0.00009415529877730724,
            "bin_end": 0.00018831059755461448,
            "count": 120
           },
           {
            "bin_start": 0.00018831059755461448,
            "bin_end": 0.00028246589633192174,
            "count": 71
           },
           {
            "bin_start": 0.00028246589633192174,
            "bin_end": 0.00037662119510922896,
            "count": 38
           },
           {
            "bin_start": 0.00037662119510922896,
            "bin_end": 0.00047077649388653617,
            "count": 12
           },
           {
            "bin_start": 0.00047077649388653617,
            "bin_end": 0.0005649317926638435,
            "count": 15
           },
           {
            "bin_start": 0.0005649317926638435,
            "bin_end": 0.0006590870914411507,
            "count": 2
           },
           {
            "bin_start": 0.0006590870914411507,
            "bin_end": 0.0007532423902184579,
            "count": 2
           },
           {
            "bin_start": 0.0007532423902184579,
            "bin_end": 0.0008473976889957651,
            "count": 5
           },
           {
            "bin_start": 0.0008473976889957651,
            "bin_end": 0.0009415529877730724,
            "count": 3
           }
          ]
         }
        },
        {
         "name": "name",
         "dtype": "object",
         "stats": {
          "unique_count": 58,
          "nan_count": 0,
          "categories": [
           {
            "name": "Alameda County, California",
            "count": 6
           },
           {
            "name": "Alpine County, California",
            "count": 6
           },
           {
            "name": "56 others",
            "count": 336
           }
          ]
         }
        },
        {
         "name": "total_population",
         "dtype": "float64",
         "stats": {
          "unique_count": 347,
          "nan_count": 0,
          "min": "1039.0",
          "max": "10170292.0",
          "histogram": [
           {
            "bin_start": 1039,
            "bin_end": 1017964.3,
            "count": 294
           },
           {
            "bin_start": 1017964.3,
            "bin_end": 2034889.6,
            "count": 24
           },
           {
            "bin_start": 2034889.6,
            "bin_end": 3051814.9000000004,
            "count": 12
           },
           {
            "bin_start": 3051814.9000000004,
            "bin_end": 4068740.2,
            "count": 12
           },
           {
            "bin_start": 4068740.2,
            "bin_end": 5085665.5,
            "count": 0
           },
           {
            "bin_start": 5085665.5,
            "bin_end": 6102590.800000001,
            "count": 0
           },
           {
            "bin_start": 6102590.800000001,
            "bin_end": 7119516.100000001,
            "count": 0
           },
           {
            "bin_start": 7119516.100000001,
            "bin_end": 8136441.4,
            "count": 0
           },
           {
            "bin_start": 8136441.4,
            "bin_end": 9153366.700000001,
            "count": 0
           },
           {
            "bin_start": 9153366.700000001,
            "bin_end": 10170292,
            "count": 6
           }
          ]
         }
        },
        {
         "name": "median_income",
         "dtype": "float64",
         "stats": {
          "unique_count": 348,
          "nan_count": 0,
          "min": "34529.0",
          "max": "138500.0",
          "histogram": [
           {
            "bin_start": 34529,
            "bin_end": 44926.1,
            "count": 52
           },
           {
            "bin_start": 44926.1,
            "bin_end": 55323.2,
            "count": 101
           },
           {
            "bin_start": 55323.2,
            "bin_end": 65720.3,
            "count": 77
           },
           {
            "bin_start": 65720.3,
            "bin_end": 76117.4,
            "count": 41
           },
           {
            "bin_start": 76117.4,
            "bin_end": 86514.5,
            "count": 32
           },
           {
            "bin_start": 86514.5,
            "bin_end": 96911.6,
            "count": 19
           },
           {
            "bin_start": 96911.6,
            "bin_end": 107308.7,
            "count": 11
           },
           {
            "bin_start": 107308.7,
            "bin_end": 117705.8,
            "count": 8
           },
           {
            "bin_start": 117705.8,
            "bin_end": 128102.90000000001,
            "count": 5
           },
           {
            "bin_start": 128102.90000000001,
            "bin_end": 138500,
            "count": 2
           }
          ]
         }
        },
        {
         "name": "median_rent",
         "dtype": "float64",
         "stats": {
          "unique_count": 291,
          "nan_count": 0,
          "min": "538.0",
          "max": "2497.0",
          "histogram": [
           {
            "bin_start": 538,
            "bin_end": 733.9,
            "count": 9
           },
           {
            "bin_start": 733.9,
            "bin_end": 929.8,
            "count": 100
           },
           {
            "bin_start": 929.8,
            "bin_end": 1125.7,
            "count": 83
           },
           {
            "bin_start": 1125.7,
            "bin_end": 1321.6,
            "count": 48
           },
           {
            "bin_start": 1321.6,
            "bin_end": 1517.5,
            "count": 37
           },
           {
            "bin_start": 1517.5,
            "bin_end": 1713.4,
            "count": 30
           },
           {
            "bin_start": 1713.4,
            "bin_end": 1909.3,
            "count": 25
           },
           {
            "bin_start": 1909.3,
            "bin_end": 2105.2,
            "count": 8
           },
           {
            "bin_start": 2105.2,
            "bin_end": 2301.1000000000004,
            "count": 4
           },
           {
            "bin_start": 2301.1000000000004,
            "bin_end": 2497,
            "count": 4
           }
          ]
         }
        },
        {
         "name": "median_home_value",
         "dtype": "float64",
         "stats": {
          "unique_count": 334,
          "nan_count": 0,
          "min": "133300.0",
          "max": "1233600.0",
          "histogram": [
           {
            "bin_start": 133300,
            "bin_end": 243330,
            "count": 103
           },
           {
            "bin_start": 243330,
            "bin_end": 353360,
            "count": 104
           },
           {
            "bin_start": 353360,
            "bin_end": 463390,
            "count": 39
           },
           {
            "bin_start": 463390,
            "bin_end": 573420,
            "count": 35
           },
           {
            "bin_start": 573420,
            "bin_end": 683450,
            "count": 32
           },
           {
            "bin_start": 683450,
            "bin_end": 793480,
            "count": 8
           },
           {
            "bin_start": 793480,
            "bin_end": 903510,
            "count": 8
           },
           {
            "bin_start": 903510,
            "bin_end": 1013540,
            "count": 7
           },
           {
            "bin_start": 1013540,
            "bin_end": 1123570,
            "count": 7
           },
           {
            "bin_start": 1123570,
            "bin_end": 1233600,
            "count": 5
           }
          ]
         }
        },
        {
         "name": "educational_attainment",
         "dtype": "float64",
         "stats": {
          "unique_count": 348,
          "nan_count": 0,
          "min": "0.1147421046213876",
          "max": "0.6145410341990957",
          "histogram": [
           {
            "bin_start": 0.1147421046213876,
            "bin_end": 0.1647219975791584,
            "count": 79
           },
           {
            "bin_start": 0.1647219975791584,
            "bin_end": 0.21470189053692923,
            "count": 69
           },
           {
            "bin_start": 0.21470189053692923,
            "bin_end": 0.2646817834947,
            "count": 54
           },
           {
            "bin_start": 0.2646817834947,
            "bin_end": 0.31466167645247084,
            "count": 30
           },
           {
            "bin_start": 0.31466167645247084,
            "bin_end": 0.3646415694102416,
            "count": 45
           },
           {
            "bin_start": 0.3646415694102416,
            "bin_end": 0.41462146236801245,
            "count": 33
           },
           {
            "bin_start": 0.41462146236801245,
            "bin_end": 0.4646013553257832,
            "count": 12
           },
           {
            "bin_start": 0.4646013553257832,
            "bin_end": 0.514581248283554,
            "count": 8
           },
           {
            "bin_start": 0.514581248283554,
            "bin_end": 0.5645611412413248,
            "count": 9
           },
           {
            "bin_start": 0.5645611412413248,
            "bin_end": 0.6145410341990957,
            "count": 9
           }
          ]
         }
        },
        {
         "name": "av_commute_time",
         "dtype": "float64",
         "stats": {
          "unique_count": 348,
          "nan_count": 0,
          "min": "13.769551616266943",
          "max": "39.978049704268784",
          "histogram": [
           {
            "bin_start": 13.769551616266943,
            "bin_end": 16.390401425067125,
            "count": 18
           },
           {
            "bin_start": 16.390401425067125,
            "bin_end": 19.011251233867313,
            "count": 24
           },
           {
            "bin_start": 19.011251233867313,
            "bin_end": 21.632101042667493,
            "count": 38
           },
           {
            "bin_start": 21.632101042667493,
            "bin_end": 24.25295085146768,
            "count": 60
           },
           {
            "bin_start": 24.25295085146768,
            "bin_end": 26.87380066026786,
            "count": 51
           },
           {
            "bin_start": 26.87380066026786,
            "bin_end": 29.49465046906805,
            "count": 56
           },
           {
            "bin_start": 29.49465046906805,
            "bin_end": 32.11550027786823,
            "count": 48
           },
           {
            "bin_start": 32.11550027786823,
            "bin_end": 34.736350086668416,
            "count": 34
           },
           {
            "bin_start": 34.736350086668416,
            "bin_end": 37.3571998954686,
            "count": 12
           },
           {
            "bin_start": 37.3571998954686,
            "bin_end": 39.978049704268784,
            "count": 7
           }
          ]
         }
        },
        {
         "name": "perc_poverty",
         "dtype": "float64",
         "stats": {
          "unique_count": 348,
          "nan_count": 0,
          "min": "0.0483528912766859",
          "max": "0.2825961702146233",
          "histogram": [
           {
            "bin_start": 0.0483528912766859,
            "bin_end": 0.07177721917047963,
            "count": 17
           },
           {
            "bin_start": 0.07177721917047963,
            "bin_end": 0.09520154706427338,
            "count": 48
           },
           {
            "bin_start": 0.09520154706427338,
            "bin_end": 0.11862587495806712,
            "count": 57
           },
           {
            "bin_start": 0.11862587495806712,
            "bin_end": 0.14205020285186085,
            "count": 65
           },
           {
            "bin_start": 0.14205020285186085,
            "bin_end": 0.1654745307456546,
            "count": 36
           },
           {
            "bin_start": 0.1654745307456546,
            "bin_end": 0.18889885863944833,
            "count": 42
           },
           {
            "bin_start": 0.18889885863944833,
            "bin_end": 0.2123231865332421,
            "count": 53
           },
           {
            "bin_start": 0.2123231865332421,
            "bin_end": 0.23574751442703581,
            "count": 17
           },
           {
            "bin_start": 0.23574751442703581,
            "bin_end": 0.2591718423208295,
            "count": 9
           },
           {
            "bin_start": 0.2591718423208295,
            "bin_end": 0.2825961702146233,
            "count": 4
           }
          ]
         }
        },
        {
         "name": "perc_white",
         "dtype": "float64",
         "stats": {
          "unique_count": 348,
          "nan_count": 0,
          "min": "0.1000965703722098",
          "max": "0.8798411122144985",
          "histogram": [
           {
            "bin_start": 0.1000965703722098,
            "bin_end": 0.17807102455643867,
            "count": 6
           },
           {
            "bin_start": 0.17807102455643867,
            "bin_end": 0.2560454787406675,
            "count": 0
           },
           {
            "bin_start": 0.2560454787406675,
            "bin_end": 0.3340199329248964,
            "count": 61
           },
           {
            "bin_start": 0.3340199329248964,
            "bin_end": 0.4119943871091253,
            "count": 53
           },
           {
            "bin_start": 0.4119943871091253,
            "bin_end": 0.48996884129335416,
            "count": 48
           },
           {
            "bin_start": 0.48996884129335416,
            "bin_end": 0.5679432954775829,
            "count": 21
           },
           {
            "bin_start": 0.5679432954775829,
            "bin_end": 0.6459177496618118,
            "count": 24
           },
           {
            "bin_start": 0.6459177496618118,
            "bin_end": 0.7238922038460407,
            "count": 49
           },
           {
            "bin_start": 0.7238922038460407,
            "bin_end": 0.8018666580302696,
            "count": 42
           },
           {
            "bin_start": 0.8018666580302696,
            "bin_end": 0.8798411122144985,
            "count": 44
           }
          ]
         }
        },
        {
         "name": "perc_black",
         "dtype": "float64",
         "stats": {
          "unique_count": 348,
          "nan_count": 0,
          "min": "0.0006578947368421",
          "max": "0.1385711721985338",
          "histogram": [
           {
            "bin_start": 0.0006578947368421,
            "bin_end": 0.01444922248301127,
            "count": 125
           },
           {
            "bin_start": 0.01444922248301127,
            "bin_end": 0.028240550229180438,
            "count": 120
           },
           {
            "bin_start": 0.028240550229180438,
            "bin_end": 0.04203187797534961,
            "count": 18
           },
           {
            "bin_start": 0.04203187797534961,
            "bin_end": 0.055823205721518776,
            "count": 27
           },
           {
            "bin_start": 0.055823205721518776,
            "bin_end": 0.06961453346768794,
            "count": 15
           },
           {
            "bin_start": 0.06961453346768794,
            "bin_end": 0.08340586121385711,
            "count": 16
           },
           {
            "bin_start": 0.08340586121385711,
            "bin_end": 0.09719718896002627,
            "count": 14
           },
           {
            "bin_start": 0.09719718896002627,
            "bin_end": 0.11098851670619544,
            "count": 6
           },
           {
            "bin_start": 0.11098851670619544,
            "bin_end": 0.12477984445236462,
            "count": 1
           },
           {
            "bin_start": 0.12477984445236462,
            "bin_end": 0.1385711721985338,
            "count": 6
           }
          ]
         }
        },
        {
         "name": "perc_american_indian",
         "dtype": "float64",
         "stats": {
          "unique_count": 348,
          "nan_count": 0,
          "min": "0.0010512140755262",
          "max": "0.3397497593840231",
          "histogram": [
           {
            "bin_start": 0.0010512140755262,
            "bin_end": 0.03492106860637589,
            "count": 300
           },
           {
            "bin_start": 0.03492106860637589,
            "bin_end": 0.06879092313722558,
            "count": 33
           },
           {
            "bin_start": 0.06879092313722558,
            "bin_end": 0.10266077766807527,
            "count": 3
           },
           {
            "bin_start": 0.10266077766807527,
            "bin_end": 0.13653063219892494,
            "count": 6
           },
           {
            "bin_start": 0.13653063219892494,
            "bin_end": 0.17040048672977462,
            "count": 0
           },
           {
            "bin_start": 0.17040048672977462,
            "bin_end": 0.20427034126062432,
            "count": 3
           },
           {
            "bin_start": 0.20427034126062432,
            "bin_end": 0.23814019579147402,
            "count": 1
           },
           {
            "bin_start": 0.23814019579147402,
            "bin_end": 0.2720100503223237,
            "count": 1
           },
           {
            "bin_start": 0.2720100503223237,
            "bin_end": 0.3058799048531734,
            "count": 0
           },
           {
            "bin_start": 0.3058799048531734,
            "bin_end": 0.3397497593840231,
            "count": 1
           }
          ]
         }
        },
        {
         "name": "perc_asian",
         "dtype": "float64",
         "stats": {
          "unique_count": 346,
          "nan_count": 0,
          "min": "0.0",
          "max": "0.375639831273355",
          "histogram": [
           {
            "bin_start": 0,
            "bin_end": 0.0375639831273355,
            "count": 164
           },
           {
            "bin_start": 0.0375639831273355,
            "bin_end": 0.075127966254671,
            "count": 88
           },
           {
            "bin_start": 0.075127966254671,
            "bin_end": 0.1126919493820065,
            "count": 18
           },
           {
            "bin_start": 0.1126919493820065,
            "bin_end": 0.150255932509342,
            "count": 27
           },
           {
            "bin_start": 0.150255932509342,
            "bin_end": 0.1878199156366775,
            "count": 21
           },
           {
            "bin_start": 0.1878199156366775,
            "bin_end": 0.225383898764013,
            "count": 6
           },
           {
            "bin_start": 0.225383898764013,
            "bin_end": 0.2629478818913485,
            "count": 0
           },
           {
            "bin_start": 0.2629478818913485,
            "bin_end": 0.300511865018684,
            "count": 10
           },
           {
            "bin_start": 0.300511865018684,
            "bin_end": 0.3380758481460195,
            "count": 3
           },
           {
            "bin_start": 0.3380758481460195,
            "bin_end": 0.375639831273355,
            "count": 11
           }
          ]
         }
        },
        {
         "name": "perc_hawaiian",
         "dtype": "float64",
         "stats": {
          "unique_count": 331,
          "nan_count": 0,
          "min": "0.0",
          "max": "0.016991032879442",
          "histogram": [
           {
            "bin_start": 0,
            "bin_end": 0.0016991032879442002,
            "count": 140
           },
           {
            "bin_start": 0.0016991032879442002,
            "bin_end": 0.0033982065758884003,
            "count": 99
           },
           {
            "bin_start": 0.0033982065758884003,
            "bin_end": 0.0050973098638326005,
            "count": 49
           },
           {
            "bin_start": 0.0050973098638326005,
            "bin_end": 0.006796413151776801,
            "count": 15
           },
           {
            "bin_start": 0.006796413151776801,
            "bin_end": 0.008495516439721,
            "count": 18
           },
           {
            "bin_start": 0.008495516439721,
            "bin_end": 0.010194619727665201,
            "count": 7
           },
           {
            "bin_start": 0.010194619727665201,
            "bin_end": 0.011893723015609401,
            "count": 9
           },
           {
            "bin_start": 0.011893723015609401,
            "bin_end": 0.013592826303553601,
            "count": 6
           },
           {
            "bin_start": 0.013592826303553601,
            "bin_end": 0.015291929591497801,
            "count": 4
           },
           {
            "bin_start": 0.015291929591497801,
            "bin_end": 0.016991032879442,
            "count": 1
           }
          ]
         }
        },
        {
         "name": "perc_other_race",
         "dtype": "float64",
         "stats": {
          "unique_count": 304,
          "nan_count": 0,
          "min": "0.0",
          "max": "0.018439960912801",
          "histogram": [
           {
            "bin_start": 0,
            "bin_end": 0.0018439960912800999,
            "count": 210
           },
           {
            "bin_start": 0.0018439960912800999,
            "bin_end": 0.0036879921825601998,
            "count": 88
           },
           {
            "bin_start": 0.0036879921825601998,
            "bin_end": 0.005531988273840299,
            "count": 30
           },
           {
            "bin_start": 0.005531988273840299,
            "bin_end": 0.0073759843651203996,
            "count": 15
           },
           {
            "bin_start": 0.0073759843651203996,
            "bin_end": 0.0092199804564005,
            "count": 2
           },
           {
            "bin_start": 0.0092199804564005,
            "bin_end": 0.011063976547680598,
            "count": 1
           },
           {
            "bin_start": 0.011063976547680598,
            "bin_end": 0.012907972638960699,
            "count": 1
           },
           {
            "bin_start": 0.012907972638960699,
            "bin_end": 0.014751968730240799,
            "count": 0
           },
           {
            "bin_start": 0.014751968730240799,
            "bin_end": 0.016595964821520898,
            "count": 0
           },
           {
            "bin_start": 0.016595964821520898,
            "bin_end": 0.018439960912801,
            "count": 1
           }
          ]
         }
        },
        {
         "name": "perc_hispanic",
         "dtype": "float64",
         "stats": {
          "unique_count": 348,
          "nan_count": 0,
          "min": "0.0710321864594894",
          "max": "0.8503048864608338",
          "histogram": [
           {
            "bin_start": 0.0710321864594894,
            "bin_end": 0.14895945645962383,
            "count": 90
           },
           {
            "bin_start": 0.14895945645962383,
            "bin_end": 0.22688672645975827,
            "count": 53
           },
           {
            "bin_start": 0.22688672645975827,
            "bin_end": 0.3048139964598927,
            "count": 64
           },
           {
            "bin_start": 0.3048139964598927,
            "bin_end": 0.38274126646002715,
            "count": 33
           },
           {
            "bin_start": 0.38274126646002715,
            "bin_end": 0.4606685364601616,
            "count": 27
           },
           {
            "bin_start": 0.4606685364601616,
            "bin_end": 0.538595806460296,
            "count": 31
           },
           {
            "bin_start": 0.538595806460296,
            "bin_end": 0.6165230764604305,
            "count": 38
           },
           {
            "bin_start": 0.6165230764604305,
            "bin_end": 0.6944503464605649,
            "count": 6
           },
           {
            "bin_start": 0.6944503464605649,
            "bin_end": 0.7723776164606994,
            "count": 0
           },
           {
            "bin_start": 0.7723776164606994,
            "bin_end": 0.8503048864608338,
            "count": 6
           }
          ]
         }
        },
        {
         "name": "perc_65_over",
         "dtype": "float64",
         "stats": {
          "unique_count": 348,
          "nan_count": 0,
          "min": "0.0887142391311581",
          "max": "0.2993262752646776",
          "histogram": [
           {
            "bin_start": 0.0887142391311581,
            "bin_end": 0.10977544274451004,
            "count": 24
           },
           {
            "bin_start": 0.10977544274451004,
            "bin_end": 0.130836646357862,
            "count": 69
           },
           {
            "bin_start": 0.130836646357862,
            "bin_end": 0.15189784997121392,
            "count": 83
           },
           {
            "bin_start": 0.15189784997121392,
            "bin_end": 0.17295905358456587,
            "count": 34
           },
           {
            "bin_start": 0.17295905358456587,
            "bin_end": 0.19402025719791782,
            "count": 34
           },
           {
            "bin_start": 0.19402025719791782,
            "bin_end": 0.21508146081126978,
            "count": 27
           },
           {
            "bin_start": 0.21508146081126978,
            "bin_end": 0.23614266442462173,
            "count": 33
           },
           {
            "bin_start": 0.23614266442462173,
            "bin_end": 0.2572038680379737,
            "count": 21
           },
           {
            "bin_start": 0.2572038680379737,
            "bin_end": 0.27826507165132564,
            "count": 19
           },
           {
            "bin_start": 0.27826507165132564,
            "bin_end": 0.2993262752646776,
            "count": 4
           }
          ]
         }
        },
        {
         "name": "perc_enrolled_undergrad",
         "dtype": "float64",
         "stats": {
          "unique_count": 348,
          "nan_count": 0,
          "min": "0.0046578684706665",
          "max": "0.176614213475967",
          "histogram": [
           {
            "bin_start": 0.0046578684706665,
            "bin_end": 0.02185350297119655,
            "count": 10
           },
           {
            "bin_start": 0.02185350297119655,
            "bin_end": 0.03904913747172661,
            "count": 48
           },
           {
            "bin_start": 0.03904913747172661,
            "bin_end": 0.05624477197225666,
            "count": 109
           },
           {
            "bin_start": 0.05624477197225666,
            "bin_end": 0.07344040647278671,
            "count": 134
           },
           {
            "bin_start": 0.07344040647278671,
            "bin_end": 0.09063604097331676,
            "count": 12
           },
           {
            "bin_start": 0.09063604097331676,
            "bin_end": 0.10783167547384682,
            "count": 6
           },
           {
            "bin_start": 0.10783167547384682,
            "bin_end": 0.12502730997437686,
            "count": 22
           },
           {
            "bin_start": 0.12502730997437686,
            "bin_end": 0.1422229444749069,
            "count": 1
           },
           {
            "bin_start": 0.1422229444749069,
            "bin_end": 0.15941857897543696,
            "count": 2
           },
           {
            "bin_start": 0.15941857897543696,
            "bin_end": 0.176614213475967,
            "count": 4
           }
          ]
         }
        },
        {
         "name": "perc_unemployed",
         "dtype": "float64",
         "stats": {
          "unique_count": 348,
          "nan_count": 0,
          "min": "0.0089519322339732",
          "max": "0.1386378193722866",
          "histogram": [
           {
            "bin_start": 0.0089519322339732,
            "bin_end": 0.021920520947804542,
            "count": 69
           },
           {
            "bin_start": 0.021920520947804542,
            "bin_end": 0.03488910966163588,
            "count": 126
           },
           {
            "bin_start": 0.03488910966163588,
            "bin_end": 0.04785769837546722,
            "count": 62
           },
           {
            "bin_start": 0.04785769837546722,
            "bin_end": 0.06082628708929856,
            "count": 35
           },
           {
            "bin_start": 0.06082628708929856,
            "bin_end": 0.0737948758031299,
            "count": 31
           },
           {
            "bin_start": 0.0737948758031299,
            "bin_end": 0.08676346451696124,
            "count": 13
           },
           {
            "bin_start": 0.08676346451696124,
            "bin_end": 0.09973205323079258,
            "count": 7
           },
           {
            "bin_start": 0.09973205323079258,
            "bin_end": 0.11270064194462392,
            "count": 1
           },
           {
            "bin_start": 0.11270064194462392,
            "bin_end": 0.12566923065845528,
            "count": 1
           },
           {
            "bin_start": 0.12566923065845528,
            "bin_end": 0.1386378193722866,
            "count": 3
           }
          ]
         }
        },
        {
         "name": "housing_per_capita",
         "dtype": "float64",
         "stats": {
          "unique_count": 348,
          "nan_count": 0,
          "min": "0.2986111573245313",
          "max": "1.7006737247353223",
          "histogram": [
           {
            "bin_start": 0.2986111573245313,
            "bin_end": 0.43881741406561037,
            "count": 239
           },
           {
            "bin_start": 0.43881741406561037,
            "bin_end": 0.5790236708066895,
            "count": 59
           },
           {
            "bin_start": 0.5790236708066895,
            "bin_end": 0.7192299275477685,
            "count": 26
           },
           {
            "bin_start": 0.7192299275477685,
            "bin_end": 0.8594361842888476,
            "count": 12
           },
           {
            "bin_start": 0.8594361842888476,
            "bin_end": 0.9996424410299267,
            "count": 6
           },
           {
            "bin_start": 0.9996424410299267,
            "bin_end": 1.1398486977710058,
            "count": 0
           },
           {
            "bin_start": 1.1398486977710058,
            "bin_end": 1.280054954512085,
            "count": 0
           },
           {
            "bin_start": 1.280054954512085,
            "bin_end": 1.420261211253164,
            "count": 0
           },
           {
            "bin_start": 1.420261211253164,
            "bin_end": 1.5604674679942432,
            "count": 4
           },
           {
            "bin_start": 1.5604674679942432,
            "bin_end": 1.7006737247353223,
            "count": 2
           }
          ]
         }
        },
        {
         "name": "perc_owner",
         "dtype": "float64",
         "stats": {
          "unique_count": 348,
          "nan_count": 0,
          "min": "0.1448355452971725",
          "max": "0.6419002306456871",
          "histogram": [
           {
            "bin_start": 0.1448355452971725,
            "bin_end": 0.19454201383202396,
            "count": 6
           },
           {
            "bin_start": 0.19454201383202396,
            "bin_end": 0.2442484823668754,
            "count": 6
           },
           {
            "bin_start": 0.2442484823668754,
            "bin_end": 0.29395495090172685,
            "count": 0
           },
           {
            "bin_start": 0.29395495090172685,
            "bin_end": 0.34366141943657835,
            "count": 5
           },
           {
            "bin_start": 0.34366141943657835,
            "bin_end": 0.39336788797142985,
            "count": 7
           },
           {
            "bin_start": 0.39336788797142985,
            "bin_end": 0.44307435650628124,
            "count": 19
           },
           {
            "bin_start": 0.44307435650628124,
            "bin_end": 0.49278082504113274,
            "count": 63
           },
           {
            "bin_start": 0.49278082504113274,
            "bin_end": 0.5424872935759842,
            "count": 124
           },
           {
            "bin_start": 0.5424872935759842,
            "bin_end": 0.5921937621108356,
            "count": 88
           },
           {
            "bin_start": 0.5921937621108356,
            "bin_end": 0.6419002306456871,
            "count": 30
           }
          ]
         }
        },
        {
         "name": "perc_renter",
         "dtype": "float64",
         "stats": {
          "unique_count": 348,
          "nan_count": 0,
          "min": "0.0276976341604154",
          "max": "0.5871685657025407",
          "histogram": [
           {
            "bin_start": 0.0276976341604154,
            "bin_end": 0.08364472731462794,
            "count": 6
           },
           {
            "bin_start": 0.08364472731462794,
            "bin_end": 0.13959182046884047,
            "count": 13
           },
           {
            "bin_start": 0.13959182046884047,
            "bin_end": 0.195538913623053,
            "count": 34
           },
           {
            "bin_start": 0.195538913623053,
            "bin_end": 0.2514860067772655,
            "count": 28
           },
           {
            "bin_start": 0.2514860067772655,
            "bin_end": 0.30743309993147805,
            "count": 37
           },
           {
            "bin_start": 0.30743309993147805,
            "bin_end": 0.3633801930856906,
            "count": 84
           },
           {
            "bin_start": 0.3633801930856906,
            "bin_end": 0.4193272862399031,
            "count": 74
           },
           {
            "bin_start": 0.4193272862399031,
            "bin_end": 0.47527437939411565,
            "count": 56
           },
           {
            "bin_start": 0.47527437939411565,
            "bin_end": 0.5312214725483282,
            "count": 10
           },
           {
            "bin_start": 0.5312214725483282,
            "bin_end": 0.5871685657025407,
            "count": 6
           }
          ]
         }
        },
        {
         "name": "perc_vacant",
         "dtype": "float64",
         "stats": {
          "unique_count": 348,
          "nan_count": 0,
          "min": "0.0383684015987121",
          "max": "0.827466820542412",
          "histogram": [
           {
            "bin_start": 0.0383684015987121,
            "bin_end": 0.11727824349308208,
            "count": 183
           },
           {
            "bin_start": 0.11727824349308208,
            "bin_end": 0.19618808538745208,
            "count": 70
           },
           {
            "bin_start": 0.19618808538745208,
            "bin_end": 0.27509792728182203,
            "count": 42
           },
           {
            "bin_start": 0.27509792728182203,
            "bin_end": 0.35400776917619203,
            "count": 20
           },
           {
            "bin_start": 0.35400776917619203,
            "bin_end": 0.43291761107056204,
            "count": 9
           },
           {
            "bin_start": 0.43291761107056204,
            "bin_end": 0.511827452964932,
            "count": 12
           },
           {
            "bin_start": 0.511827452964932,
            "bin_end": 0.590737294859302,
            "count": 0
           },
           {
            "bin_start": 0.590737294859302,
            "bin_end": 0.669647136753672,
            "count": 6
           },
           {
            "bin_start": 0.669647136753672,
            "bin_end": 0.748556978648042,
            "count": 0
           },
           {
            "bin_start": 0.748556978648042,
            "bin_end": 0.827466820542412,
            "count": 6
           }
          ]
         }
        },
        {
         "name": "chemical",
         "dtype": "float64",
         "stats": {
          "unique_count": 1,
          "nan_count": 0,
          "min": "0.0",
          "max": "0.0",
          "histogram": [
           {
            "bin_start": -0.5,
            "bin_end": -0.4,
            "count": 0
           },
           {
            "bin_start": -0.4,
            "bin_end": -0.3,
            "count": 0
           },
           {
            "bin_start": -0.3,
            "bin_end": -0.19999999999999996,
            "count": 0
           },
           {
            "bin_start": -0.19999999999999996,
            "bin_end": -0.09999999999999998,
            "count": 0
           },
           {
            "bin_start": -0.09999999999999998,
            "bin_end": 0,
            "count": 0
           },
           {
            "bin_start": 0,
            "bin_end": 0.10000000000000009,
            "count": 348
           },
           {
            "bin_start": 0.10000000000000009,
            "bin_end": 0.20000000000000007,
            "count": 0
           },
           {
            "bin_start": 0.20000000000000007,
            "bin_end": 0.30000000000000004,
            "count": 0
           },
           {
            "bin_start": 0.30000000000000004,
            "bin_end": 0.4,
            "count": 0
           },
           {
            "bin_start": 0.4,
            "bin_end": 0.5,
            "count": 0
           }
          ]
         }
        },
        {
         "name": "coastal_storm",
         "dtype": "float64",
         "stats": {
          "unique_count": 1,
          "nan_count": 0,
          "min": "0.0",
          "max": "0.0",
          "histogram": [
           {
            "bin_start": -0.5,
            "bin_end": -0.4,
            "count": 0
           },
           {
            "bin_start": -0.4,
            "bin_end": -0.3,
            "count": 0
           },
           {
            "bin_start": -0.3,
            "bin_end": -0.19999999999999996,
            "count": 0
           },
           {
            "bin_start": -0.19999999999999996,
            "bin_end": -0.09999999999999998,
            "count": 0
           },
           {
            "bin_start": -0.09999999999999998,
            "bin_end": 0,
            "count": 0
           },
           {
            "bin_start": 0,
            "bin_end": 0.10000000000000009,
            "count": 348
           },
           {
            "bin_start": 0.10000000000000009,
            "bin_end": 0.20000000000000007,
            "count": 0
           },
           {
            "bin_start": 0.20000000000000007,
            "bin_end": 0.30000000000000004,
            "count": 0
           },
           {
            "bin_start": 0.30000000000000004,
            "bin_end": 0.4,
            "count": 0
           },
           {
            "bin_start": 0.4,
            "bin_end": 0.5,
            "count": 0
           }
          ]
         }
        },
        {
         "name": "dam_levee_break",
         "dtype": "float64",
         "stats": {
          "unique_count": 2,
          "nan_count": 0,
          "min": "0.0",
          "max": "1.0",
          "histogram": [
           {
            "bin_start": 0,
            "bin_end": 0.1,
            "count": 345
           },
           {
            "bin_start": 0.1,
            "bin_end": 0.2,
            "count": 0
           },
           {
            "bin_start": 0.2,
            "bin_end": 0.30000000000000004,
            "count": 0
           },
           {
            "bin_start": 0.30000000000000004,
            "bin_end": 0.4,
            "count": 0
           },
           {
            "bin_start": 0.4,
            "bin_end": 0.5,
            "count": 0
           },
           {
            "bin_start": 0.5,
            "bin_end": 0.6000000000000001,
            "count": 0
           },
           {
            "bin_start": 0.6000000000000001,
            "bin_end": 0.7000000000000001,
            "count": 0
           },
           {
            "bin_start": 0.7000000000000001,
            "bin_end": 0.8,
            "count": 0
           },
           {
            "bin_start": 0.8,
            "bin_end": 0.9,
            "count": 0
           },
           {
            "bin_start": 0.9,
            "bin_end": 1,
            "count": 3
           }
          ]
         }
        },
        {
         "name": "earthquake",
         "dtype": "float64",
         "stats": {
          "unique_count": 2,
          "nan_count": 0,
          "min": "0.0",
          "max": "1.0",
          "histogram": [
           {
            "bin_start": 0,
            "bin_end": 0.1,
            "count": 344
           },
           {
            "bin_start": 0.1,
            "bin_end": 0.2,
            "count": 0
           },
           {
            "bin_start": 0.2,
            "bin_end": 0.30000000000000004,
            "count": 0
           },
           {
            "bin_start": 0.30000000000000004,
            "bin_end": 0.4,
            "count": 0
           },
           {
            "bin_start": 0.4,
            "bin_end": 0.5,
            "count": 0
           },
           {
            "bin_start": 0.5,
            "bin_end": 0.6000000000000001,
            "count": 0
           },
           {
            "bin_start": 0.6000000000000001,
            "bin_end": 0.7000000000000001,
            "count": 0
           },
           {
            "bin_start": 0.7000000000000001,
            "bin_end": 0.8,
            "count": 0
           },
           {
            "bin_start": 0.8,
            "bin_end": 0.9,
            "count": 0
           },
           {
            "bin_start": 0.9,
            "bin_end": 1,
            "count": 4
           }
          ]
         }
        },
        {
         "name": "fire",
         "dtype": "float64",
         "stats": {
          "unique_count": 6,
          "nan_count": 0,
          "min": "0.0",
          "max": "5.0",
          "histogram": [
           {
            "bin_start": 0,
            "bin_end": 0.5,
            "count": 289
           },
           {
            "bin_start": 0.5,
            "bin_end": 1,
            "count": 0
           },
           {
            "bin_start": 1,
            "bin_end": 1.5,
            "count": 29
           },
           {
            "bin_start": 1.5,
            "bin_end": 2,
            "count": 0
           },
           {
            "bin_start": 2,
            "bin_end": 2.5,
            "count": 14
           },
           {
            "bin_start": 2.5,
            "bin_end": 3,
            "count": 0
           },
           {
            "bin_start": 3,
            "bin_end": 3.5,
            "count": 6
           },
           {
            "bin_start": 3.5,
            "bin_end": 4,
            "count": 0
           },
           {
            "bin_start": 4,
            "bin_end": 4.5,
            "count": 8
           },
           {
            "bin_start": 4.5,
            "bin_end": 5,
            "count": 2
           }
          ]
         }
        },
        {
         "name": "flood",
         "dtype": "float64",
         "stats": {
          "unique_count": 3,
          "nan_count": 0,
          "min": "0.0",
          "max": "2.0",
          "histogram": [
           {
            "bin_start": 0,
            "bin_end": 0.2,
            "count": 298
           },
           {
            "bin_start": 0.2,
            "bin_end": 0.4,
            "count": 0
           },
           {
            "bin_start": 0.4,
            "bin_end": 0.6000000000000001,
            "count": 0
           },
           {
            "bin_start": 0.6000000000000001,
            "bin_end": 0.8,
            "count": 0
           },
           {
            "bin_start": 0.8,
            "bin_end": 1,
            "count": 0
           },
           {
            "bin_start": 1,
            "bin_end": 1.2000000000000002,
            "count": 35
           },
           {
            "bin_start": 1.2000000000000002,
            "bin_end": 1.4000000000000001,
            "count": 0
           },
           {
            "bin_start": 1.4000000000000001,
            "bin_end": 1.6,
            "count": 0
           },
           {
            "bin_start": 1.6,
            "bin_end": 1.8,
            "count": 0
           },
           {
            "bin_start": 1.8,
            "bin_end": 2,
            "count": 15
           }
          ]
         }
        },
        {
         "name": "hurricane",
         "dtype": "float64",
         "stats": {
          "unique_count": 1,
          "nan_count": 0,
          "min": "0.0",
          "max": "0.0",
          "histogram": [
           {
            "bin_start": -0.5,
            "bin_end": -0.4,
            "count": 0
           },
           {
            "bin_start": -0.4,
            "bin_end": -0.3,
            "count": 0
           },
           {
            "bin_start": -0.3,
            "bin_end": -0.19999999999999996,
            "count": 0
           },
           {
            "bin_start": -0.19999999999999996,
            "bin_end": -0.09999999999999998,
            "count": 0
           },
           {
            "bin_start": -0.09999999999999998,
            "bin_end": 0,
            "count": 0
           },
           {
            "bin_start": 0,
            "bin_end": 0.10000000000000009,
            "count": 348
           },
           {
            "bin_start": 0.10000000000000009,
            "bin_end": 0.20000000000000007,
            "count": 0
           },
           {
            "bin_start": 0.20000000000000007,
            "bin_end": 0.30000000000000004,
            "count": 0
           },
           {
            "bin_start": 0.30000000000000004,
            "bin_end": 0.4,
            "count": 0
           },
           {
            "bin_start": 0.4,
            "bin_end": 0.5,
            "count": 0
           }
          ]
         }
        },
        {
         "name": "mud_landslide",
         "dtype": "float64",
         "stats": {
          "unique_count": 1,
          "nan_count": 0,
          "min": "0.0",
          "max": "0.0",
          "histogram": [
           {
            "bin_start": -0.5,
            "bin_end": -0.4,
            "count": 0
           },
           {
            "bin_start": -0.4,
            "bin_end": -0.3,
            "count": 0
           },
           {
            "bin_start": -0.3,
            "bin_end": -0.19999999999999996,
            "count": 0
           },
           {
            "bin_start": -0.19999999999999996,
            "bin_end": -0.09999999999999998,
            "count": 0
           },
           {
            "bin_start": -0.09999999999999998,
            "bin_end": 0,
            "count": 0
           },
           {
            "bin_start": 0,
            "bin_end": 0.10000000000000009,
            "count": 348
           },
           {
            "bin_start": 0.10000000000000009,
            "bin_end": 0.20000000000000007,
            "count": 0
           },
           {
            "bin_start": 0.20000000000000007,
            "bin_end": 0.30000000000000004,
            "count": 0
           },
           {
            "bin_start": 0.30000000000000004,
            "bin_end": 0.4,
            "count": 0
           },
           {
            "bin_start": 0.4,
            "bin_end": 0.5,
            "count": 0
           }
          ]
         }
        },
        {
         "name": "severe_ice_storm",
         "dtype": "float64",
         "stats": {
          "unique_count": 1,
          "nan_count": 0,
          "min": "0.0",
          "max": "0.0",
          "histogram": [
           {
            "bin_start": -0.5,
            "bin_end": -0.4,
            "count": 0
           },
           {
            "bin_start": -0.4,
            "bin_end": -0.3,
            "count": 0
           },
           {
            "bin_start": -0.3,
            "bin_end": -0.19999999999999996,
            "count": 0
           },
           {
            "bin_start": -0.19999999999999996,
            "bin_end": -0.09999999999999998,
            "count": 0
           },
           {
            "bin_start": -0.09999999999999998,
            "bin_end": 0,
            "count": 0
           },
           {
            "bin_start": 0,
            "bin_end": 0.10000000000000009,
            "count": 348
           },
           {
            "bin_start": 0.10000000000000009,
            "bin_end": 0.20000000000000007,
            "count": 0
           },
           {
            "bin_start": 0.20000000000000007,
            "bin_end": 0.30000000000000004,
            "count": 0
           },
           {
            "bin_start": 0.30000000000000004,
            "bin_end": 0.4,
            "count": 0
           },
           {
            "bin_start": 0.4,
            "bin_end": 0.5,
            "count": 0
           }
          ]
         }
        },
        {
         "name": "severe_storm",
         "dtype": "float64",
         "stats": {
          "unique_count": 3,
          "nan_count": 0,
          "min": "0.0",
          "max": "2.0",
          "histogram": [
           {
            "bin_start": 0,
            "bin_end": 0.2,
            "count": 291
           },
           {
            "bin_start": 0.2,
            "bin_end": 0.4,
            "count": 0
           },
           {
            "bin_start": 0.4,
            "bin_end": 0.6000000000000001,
            "count": 0
           },
           {
            "bin_start": 0.6000000000000001,
            "bin_end": 0.8,
            "count": 0
           },
           {
            "bin_start": 0.8,
            "bin_end": 1,
            "count": 0
           },
           {
            "bin_start": 1,
            "bin_end": 1.2000000000000002,
            "count": 51
           },
           {
            "bin_start": 1.2000000000000002,
            "bin_end": 1.4000000000000001,
            "count": 0
           },
           {
            "bin_start": 1.4000000000000001,
            "bin_end": 1.6,
            "count": 0
           },
           {
            "bin_start": 1.6,
            "bin_end": 1.8,
            "count": 0
           },
           {
            "bin_start": 1.8,
            "bin_end": 2,
            "count": 6
           }
          ]
         }
        },
        {
         "name": "snow",
         "dtype": "float64",
         "stats": {
          "unique_count": 1,
          "nan_count": 0,
          "min": "0.0",
          "max": "0.0",
          "histogram": [
           {
            "bin_start": -0.5,
            "bin_end": -0.4,
            "count": 0
           },
           {
            "bin_start": -0.4,
            "bin_end": -0.3,
            "count": 0
           },
           {
            "bin_start": -0.3,
            "bin_end": -0.19999999999999996,
            "count": 0
           },
           {
            "bin_start": -0.19999999999999996,
            "bin_end": -0.09999999999999998,
            "count": 0
           },
           {
            "bin_start": -0.09999999999999998,
            "bin_end": 0,
            "count": 0
           },
           {
            "bin_start": 0,
            "bin_end": 0.10000000000000009,
            "count": 348
           },
           {
            "bin_start": 0.10000000000000009,
            "bin_end": 0.20000000000000007,
            "count": 0
           },
           {
            "bin_start": 0.20000000000000007,
            "bin_end": 0.30000000000000004,
            "count": 0
           },
           {
            "bin_start": 0.30000000000000004,
            "bin_end": 0.4,
            "count": 0
           },
           {
            "bin_start": 0.4,
            "bin_end": 0.5,
            "count": 0
           }
          ]
         }
        },
        {
         "name": "tornado",
         "dtype": "float64",
         "stats": {
          "unique_count": 1,
          "nan_count": 0,
          "min": "0.0",
          "max": "0.0",
          "histogram": [
           {
            "bin_start": -0.5,
            "bin_end": -0.4,
            "count": 0
           },
           {
            "bin_start": -0.4,
            "bin_end": -0.3,
            "count": 0
           },
           {
            "bin_start": -0.3,
            "bin_end": -0.19999999999999996,
            "count": 0
           },
           {
            "bin_start": -0.19999999999999996,
            "bin_end": -0.09999999999999998,
            "count": 0
           },
           {
            "bin_start": -0.09999999999999998,
            "bin_end": 0,
            "count": 0
           },
           {
            "bin_start": 0,
            "bin_end": 0.10000000000000009,
            "count": 348
           },
           {
            "bin_start": 0.10000000000000009,
            "bin_end": 0.20000000000000007,
            "count": 0
           },
           {
            "bin_start": 0.20000000000000007,
            "bin_end": 0.30000000000000004,
            "count": 0
           },
           {
            "bin_start": 0.30000000000000004,
            "bin_end": 0.4,
            "count": 0
           },
           {
            "bin_start": 0.4,
            "bin_end": 0.5,
            "count": 0
           }
          ]
         }
        },
        {
         "name": "toxic_substances",
         "dtype": "float64",
         "stats": {
          "unique_count": 1,
          "nan_count": 0,
          "min": "0.0",
          "max": "0.0",
          "histogram": [
           {
            "bin_start": -0.5,
            "bin_end": -0.4,
            "count": 0
           },
           {
            "bin_start": -0.4,
            "bin_end": -0.3,
            "count": 0
           },
           {
            "bin_start": -0.3,
            "bin_end": -0.19999999999999996,
            "count": 0
           },
           {
            "bin_start": -0.19999999999999996,
            "bin_end": -0.09999999999999998,
            "count": 0
           },
           {
            "bin_start": -0.09999999999999998,
            "bin_end": 0,
            "count": 0
           },
           {
            "bin_start": 0,
            "bin_end": 0.10000000000000009,
            "count": 348
           },
           {
            "bin_start": 0.10000000000000009,
            "bin_end": 0.20000000000000007,
            "count": 0
           },
           {
            "bin_start": 0.20000000000000007,
            "bin_end": 0.30000000000000004,
            "count": 0
           },
           {
            "bin_start": 0.30000000000000004,
            "bin_end": 0.4,
            "count": 0
           },
           {
            "bin_start": 0.4,
            "bin_end": 0.5,
            "count": 0
           }
          ]
         }
        },
        {
         "name": "typhoon",
         "dtype": "float64",
         "stats": {
          "unique_count": 1,
          "nan_count": 0,
          "min": "0.0",
          "max": "0.0",
          "histogram": [
           {
            "bin_start": -0.5,
            "bin_end": -0.4,
            "count": 0
           },
           {
            "bin_start": -0.4,
            "bin_end": -0.3,
            "count": 0
           },
           {
            "bin_start": -0.3,
            "bin_end": -0.19999999999999996,
            "count": 0
           },
           {
            "bin_start": -0.19999999999999996,
            "bin_end": -0.09999999999999998,
            "count": 0
           },
           {
            "bin_start": -0.09999999999999998,
            "bin_end": 0,
            "count": 0
           },
           {
            "bin_start": 0,
            "bin_end": 0.10000000000000009,
            "count": 348
           },
           {
            "bin_start": 0.10000000000000009,
            "bin_end": 0.20000000000000007,
            "count": 0
           },
           {
            "bin_start": 0.20000000000000007,
            "bin_end": 0.30000000000000004,
            "count": 0
           },
           {
            "bin_start": 0.30000000000000004,
            "bin_end": 0.4,
            "count": 0
           },
           {
            "bin_start": 0.4,
            "bin_end": 0.5,
            "count": 0
           }
          ]
         }
        },
        {
         "name": "volcano",
         "dtype": "float64",
         "stats": {
          "unique_count": 1,
          "nan_count": 0,
          "min": "0.0",
          "max": "0.0",
          "histogram": [
           {
            "bin_start": -0.5,
            "bin_end": -0.4,
            "count": 0
           },
           {
            "bin_start": -0.4,
            "bin_end": -0.3,
            "count": 0
           },
           {
            "bin_start": -0.3,
            "bin_end": -0.19999999999999996,
            "count": 0
           },
           {
            "bin_start": -0.19999999999999996,
            "bin_end": -0.09999999999999998,
            "count": 0
           },
           {
            "bin_start": -0.09999999999999998,
            "bin_end": 0,
            "count": 0
           },
           {
            "bin_start": 0,
            "bin_end": 0.10000000000000009,
            "count": 348
           },
           {
            "bin_start": 0.10000000000000009,
            "bin_end": 0.20000000000000007,
            "count": 0
           },
           {
            "bin_start": 0.20000000000000007,
            "bin_end": 0.30000000000000004,
            "count": 0
           },
           {
            "bin_start": 0.30000000000000004,
            "bin_end": 0.4,
            "count": 0
           },
           {
            "bin_start": 0.4,
            "bin_end": 0.5,
            "count": 0
           }
          ]
         }
        },
        {
         "name": "individual_inflow",
         "dtype": "int64",
         "stats": {
          "unique_count": 345,
          "nan_count": 0,
          "min": "0",
          "max": "230559",
          "histogram": [
           {
            "bin_start": 0,
            "bin_end": 23055.9,
            "count": 256
           },
           {
            "bin_start": 23055.9,
            "bin_end": 46111.8,
            "count": 38
           },
           {
            "bin_start": 46111.8,
            "bin_end": 69167.70000000001,
            "count": 17
           },
           {
            "bin_start": 69167.70000000001,
            "bin_end": 92223.6,
            "count": 11
           },
           {
            "bin_start": 92223.6,
            "bin_end": 115279.5,
            "count": 13
           },
           {
            "bin_start": 115279.5,
            "bin_end": 138335.40000000002,
            "count": 5
           },
           {
            "bin_start": 138335.40000000002,
            "bin_end": 161391.30000000002,
            "count": 3
           },
           {
            "bin_start": 161391.30000000002,
            "bin_end": 184447.2,
            "count": 1
           },
           {
            "bin_start": 184447.2,
            "bin_end": 207503.1,
            "count": 3
           },
           {
            "bin_start": 207503.1,
            "bin_end": 230559,
            "count": 1
           }
          ]
         }
        },
        {
         "name": "individual_outflow",
         "dtype": "int64",
         "stats": {
          "unique_count": 345,
          "nan_count": 0,
          "min": "0",
          "max": "341832",
          "histogram": [
           {
            "bin_start": 0,
            "bin_end": 34183.2,
            "count": 282
           },
           {
            "bin_start": 34183.2,
            "bin_end": 68366.4,
            "count": 24
           },
           {
            "bin_start": 68366.4,
            "bin_end": 102549.59999999999,
            "count": 22
           },
           {
            "bin_start": 102549.59999999999,
            "bin_end": 136732.8,
            "count": 12
           },
           {
            "bin_start": 136732.8,
            "bin_end": 170916,
            "count": 1
           },
           {
            "bin_start": 170916,
            "bin_end": 205099.19999999998,
            "count": 2
           },
           {
            "bin_start": 205099.19999999998,
            "bin_end": 239282.39999999997,
            "count": 0
           },
           {
            "bin_start": 239282.39999999997,
            "bin_end": 273465.6,
            "count": 3
           },
           {
            "bin_start": 273465.6,
            "bin_end": 307648.8,
            "count": 1
           },
           {
            "bin_start": 307648.8,
            "bin_end": 341832,
            "count": 1
           }
          ]
         }
        },
        {
         "name": "area_land",
         "dtype": "float64",
         "stats": {
          "unique_count": 58,
          "nan_count": 0,
          "min": "121375681.0",
          "max": "51954895600.0",
          "histogram": [
           {
            "bin_start": 121375681,
            "bin_end": 5304727672.9,
            "count": 204
           },
           {
            "bin_start": 5304727672.9,
            "bin_end": 10488079664.8,
            "count": 78
           },
           {
            "bin_start": 10488079664.8,
            "bin_end": 15671431656.699999,
            "count": 36
           },
           {
            "bin_start": 15671431656.699999,
            "bin_end": 20854783648.6,
            "count": 12
           },
           {
            "bin_start": 20854783648.6,
            "bin_end": 26038135640.5,
            "count": 6
           },
           {
            "bin_start": 26038135640.5,
            "bin_end": 31221487632.399998,
            "count": 6
           },
           {
            "bin_start": 31221487632.399998,
            "bin_end": 36404839624.299995,
            "count": 0
           },
           {
            "bin_start": 36404839624.299995,
            "bin_end": 41588191616.2,
            "count": 0
           },
           {
            "bin_start": 41588191616.2,
            "bin_end": 46771543608.1,
            "count": 0
           },
           {
            "bin_start": 46771543608.1,
            "bin_end": 51954895600,
            "count": 6
           }
          ]
         }
        },
        {
         "name": "area_water",
         "dtype": "float64",
         "stats": {
          "unique_count": 58,
          "nan_count": 0,
          "min": "3162664.0",
          "max": "2729838280.0",
          "histogram": [
           {
            "bin_start": 3162664,
            "bin_end": 275830225.6,
            "count": 240
           },
           {
            "bin_start": 275830225.6,
            "bin_end": 548497787.2,
            "count": 30
           },
           {
            "bin_start": 548497787.2,
            "bin_end": 821165348.8000001,
            "count": 42
           },
           {
            "bin_start": 821165348.8000001,
            "bin_end": 1093832910.4,
            "count": 12
           },
           {
            "bin_start": 1093832910.4,
            "bin_end": 1366500472,
            "count": 12
           },
           {
            "bin_start": 1366500472,
            "bin_end": 1639168033.6000001,
            "count": 0
           },
           {
            "bin_start": 1639168033.6000001,
            "bin_end": 1911835595.2000003,
            "count": 6
           },
           {
            "bin_start": 1911835595.2000003,
            "bin_end": 2184503156.8,
            "count": 0
           },
           {
            "bin_start": 2184503156.8,
            "bin_end": 2457170718.4,
            "count": 0
           },
           {
            "bin_start": 2457170718.4,
            "bin_end": 2729838280,
            "count": 6
           }
          ]
         }
        },
        {
         "name": "longitude",
         "dtype": "float64",
         "stats": {
          "unique_count": 58,
          "nan_count": 0,
          "min": "-123.89740322728292",
          "max": "-115.36434267545376",
          "histogram": [
           {
            "bin_start": -123.89740322728292,
            "bin_end": -123.04409717210001,
            "count": 24
           },
           {
            "bin_start": -123.04409717210001,
            "bin_end": -122.19079111691708,
            "count": 60
           },
           {
            "bin_start": -122.19079111691708,
            "bin_end": -121.33748506173417,
            "count": 66
           },
           {
            "bin_start": -121.33748506173417,
            "bin_end": -120.48417900655126,
            "count": 84
           },
           {
            "bin_start": -120.48417900655126,
            "bin_end": -119.63087295136833,
            "count": 48
           },
           {
            "bin_start": -119.63087295136833,
            "bin_end": -118.77756689618542,
            "count": 18
           },
           {
            "bin_start": -118.77756689618542,
            "bin_end": -117.9242608410025,
            "count": 12
           },
           {
            "bin_start": -117.9242608410025,
            "bin_end": -117.0709547858196,
            "count": 12
           },
           {
            "bin_start": -117.0709547858196,
            "bin_end": -116.21764873063667,
            "count": 6
           },
           {
            "bin_start": -116.21764873063667,
            "bin_end": -115.36434267545376,
            "count": 18
           }
          ]
         }
        },
        {
         "name": "latitude",
         "dtype": "float64",
         "stats": {
          "unique_count": 58,
          "nan_count": 0,
          "min": "33.03456148642573",
          "max": "41.74228172332175",
          "histogram": [
           {
            "bin_start": 33.03456148642573,
            "bin_end": 33.905333510115334,
            "count": 24
           },
           {
            "bin_start": 33.905333510115334,
            "bin_end": 34.77610553380494,
            "count": 18
           },
           {
            "bin_start": 34.77610553380494,
            "bin_end": 35.646877557494534,
            "count": 18
           },
           {
            "bin_start": 35.646877557494534,
            "bin_end": 36.51764958118414,
            "count": 24
           },
           {
            "bin_start": 36.51764958118414,
            "bin_end": 37.38842160487374,
            "count": 36
           },
           {
            "bin_start": 37.38842160487374,
            "bin_end": 38.259193628563345,
            "count": 66
           },
           {
            "bin_start": 38.259193628563345,
            "bin_end": 39.12996565225295,
            "count": 66
           },
           {
            "bin_start": 39.12996565225295,
            "bin_end": 40.000737675942545,
            "count": 42
           },
           {
            "bin_start": 40.000737675942545,
            "bin_end": 40.87150969963215,
            "count": 36
           },
           {
            "bin_start": 40.87150969963215,
            "bin_end": 41.74228172332175,
            "count": 18
           }
          ]
         }
        },
        {
         "name": "_deepnote_index_column",
         "dtype": "int64"
        }
       ],
       "rows": [
        {
         "county_name": "alameda",
         "year": 2014,
         "registered_pct": 78.52318241100161,
         "democrat_pct": 55.470516910746696,
         "republican_pct": 13.380564588352218,
         "american_independent_pct": 2.041992164705796,
         "green_pct": 1.2373327567631316,
         "liberterian_pct": 0.5171932988455902,
         "peace_and_freedom_pct": 0.3606839727816277,
         "no_party_pct": 21.249642202973185,
         "other_party_pct": 5.742074104831764,
         "Location ID": "CA-001",
         "avg_temp": 61.95000000000001,
         "min_temp": 42,
         "max_temp": 85,
         "total_precip_amt": 19.88,
         "avg_daily_attendance_expense": 9359.865129618556,
         "state": 6,
         "county": 1,
         "state_name": "california",
         "bea_number_of_people": 1607638,
         "per_capita_personal_income": 57951,
         "per_capita_retirement_and_other": 6714,
         "per_capita_unemploy_ins_comp": 145,
         "per_capita_curr_dollar_real_gdp": 67.98561616483313,
         "per_capita_num_jobs": 0.6033590895462785,
         "per_capita_farm_proprieter_jobs": 0.0002158446117844,
         "per_capita_nonfarm_proprieter_jobs": 0.1356319022068401,
         "coastal_flag": 1,
         "per_capita_num_violent_crimes": 0.006441748702133192,
         "per_capita_num_homicide": 0.00006344711931417396,
         "per_capita_num_rape": 0.0002631189359793685,
         "per_capita_num_robbery": 0.0031344121002364962,
         "per_capita_num_agg_assault": 0.002980770546603153,
         "per_capita_num_property_crimes": 0.035841402106693176,
         "per_capita_num_burglary": 0.0061164267080026724,
         "per_capita_num_vehicle_theft": 0.007885481681821405,
         "per_capita_num_larceny_theft": 0.021839493716869097,
         "per_capita_num_arson": 0.00020278196957275208,
         "name": "Alameda County, California",
         "total_population": 1610921,
         "median_income": 77214,
         "median_rent": 1391,
         "median_home_value": 587600,
         "educational_attainment": 0.4278239598739171,
         "av_commute_time": 31.117069004815363,
         "perc_poverty": 0.1225528750323572,
         "perc_white": 0.3264207245420477,
         "perc_black": 0.1113971448630938,
         "perc_american_indian": 0.0067005147986772,
         "perc_asian": 0.279012440709383,
         "perc_hawaiian": 0.0080277058899846,
         "perc_other_race": 0.0030976068969241,
         "perc_hispanic": 0.2267466871435657,
         "perc_65_over": 0.1247267867263509,
         "perc_enrolled_undergrad": 0.0661460121259825,
         "perc_unemployed": 0.0434068461457762,
         "housing_per_capita": 0.367735599697316,
         "perc_owner": 0.4931928635213448,
         "perc_renter": 0.4582042664244851,
         "perc_vacant": 0.0486028700541701,
         "chemical": 0,
         "coastal_storm": 0,
         "dam_levee_break": 0,
         "earthquake": 0,
         "fire": 0,
         "flood": 0,
         "hurricane": 0,
         "mud_landslide": 0,
         "severe_ice_storm": 0,
         "severe_storm": 0,
         "snow": 0,
         "tornado": 0,
         "toxic_substances": 0,
         "typhoon": 0,
         "volcano": 0,
         "individual_inflow": 72360,
         "individual_outflow": 71551,
         "area_land": 1909598013,
         "area_water": 216923745,
         "longitude": -121.89290095356836,
         "latitude": 37.64626936452535,
         "_deepnote_index_column": 0
        },
        {
         "county_name": "alpine",
         "year": 2014,
         "registered_pct": 87.01594533029613,
         "democrat_pct": 36.64921465968586,
         "republican_pct": 29.84293193717277,
         "american_independent_pct": 3.926701570680628,
         "green_pct": 1.7015706806282722,
         "liberterian_pct": 0.7853403141361256,
         "peace_and_freedom_pct": 0.1308900523560209,
         "no_party_pct": 26.04712041884817,
         "other_party_pct": 0.9162303664921464,
         "Location ID": "CA-003",
         "avg_temp": 46.79999999999999,
         "min_temp": 25.5,
         "max_temp": 77.3,
         "total_precip_amt": 29.38,
         "avg_daily_attendance_expense": 32705.259320948117,
         "state": 6,
         "county": 3,
         "state_name": "california",
         "bea_number_of_people": 1083,
         "per_capita_personal_income": 64425,
         "per_capita_retirement_and_other": 11478,
         "per_capita_unemploy_ins_comp": 190,
         "per_capita_curr_dollar_real_gdp": 102.50046168051708,
         "per_capita_num_jobs": 1.2031394275161589,
         "per_capita_farm_proprieter_jobs": 0,
         "per_capita_nonfarm_proprieter_jobs": 0.1662049861495844,
         "coastal_flag": 0,
         "per_capita_num_violent_crimes": 0.003693444136657433,
         "per_capita_num_homicide": 0,
         "per_capita_num_rape": 0.0009233610341643582,
         "per_capita_num_robbery": 0,
         "per_capita_num_agg_assault": 0.002770083102493075,
         "per_capita_num_property_crimes": 0.0221606648199446,
         "per_capita_num_burglary": 0.009233610341643583,
         "per_capita_num_vehicle_theft": 0,
         "per_capita_num_larceny_theft": 0.012927054478301015,
         "per_capita_num_arson": 0,
         "name": "Alpine County, California",
         "total_population": 1202,
         "median_income": 61343,
         "median_rent": 775,
         "median_home_value": 313800,
         "educational_attainment": 0.3052256532066508,
         "av_commute_time": 25.925449871465297,
         "perc_poverty": 0.14891846921797,
         "perc_white": 0.6905158069883528,
         "perc_black": 0.0091514143094841,
         "perc_american_indian": 0.173044925124792,
         "perc_asian": 0.0099833610648918,
         "perc_hawaiian": 0.0116472545757071,
         "perc_other_race": 0,
         "perc_hispanic": 0.0715474209650582,
         "perc_65_over": 0.1871880199667221,
         "perc_enrolled_undergrad": 0.0757071547420965,
         "perc_unemployed": 0.1347753743760399,
         "housing_per_capita": 1.5149750415973378,
         "perc_owner": 0.1691378363536518,
         "perc_renter": 0.0378912685337726,
         "perc_vacant": 0.7929708951125755,
         "chemical": 0,
         "coastal_storm": 0,
         "dam_levee_break": 0,
         "earthquake": 0,
         "fire": 0,
         "flood": 0,
         "hurricane": 0,
         "mud_landslide": 0,
         "severe_ice_storm": 0,
         "severe_storm": 0,
         "snow": 0,
         "tornado": 0,
         "toxic_substances": 0,
         "typhoon": 0,
         "volcano": 0,
         "individual_inflow": 0,
         "individual_outflow": 0,
         "area_land": 1912292630,
         "area_water": 12557304,
         "longitude": -119.82234839539016,
         "latitude": 38.59677149744587,
         "_deepnote_index_column": 1
        },
        {
         "county_name": "amador",
         "year": 2014,
         "registered_pct": 78.20855112247584,
         "democrat_pct": 31.09433599384556,
         "republican_pct": 44.16290027887297,
         "american_independent_pct": 4.370612558899895,
         "green_pct": 0.5721704010000962,
         "liberterian_pct": 1.0770266371766517,
         "peace_and_freedom_pct": 0.2355995768823925,
         "no_party_pct": 18.203673430137517,
         "other_party_pct": 0.2836811231849216,
         "Location ID": "CA-005",
         "avg_temp": 60.95,
         "min_temp": 38.2,
         "max_temp": 93.2,
         "total_precip_amt": 31.29,
         "avg_daily_attendance_expense": 6909.1111348365785,
         "state": 6,
         "county": 5,
         "state_name": "california",
         "bea_number_of_people": 36734,
         "per_capita_personal_income": 38617,
         "per_capita_retirement_and_other": 9378,
         "per_capita_unemploy_ins_comp": 142,
         "per_capita_curr_dollar_real_gdp": 42.97272281809767,
         "per_capita_num_jobs": 0.4702727718190232,
         "per_capita_farm_proprieter_jobs": 0.0102357488974791,
         "per_capita_nonfarm_proprieter_jobs": 0.1340719769151195,
         "coastal_flag": 0,
         "per_capita_num_violent_crimes": 0.002205041650786737,
         "per_capita_num_homicide": 0.00002722273642946589,
         "per_capita_num_rape": 0.00013611368214732944,
         "per_capita_num_robbery": 0.0002722273642946589,
         "per_capita_num_agg_assault": 0.0017694778679152828,
         "per_capita_num_property_crimes": 0.017123101214134046,
         "per_capita_num_burglary": 0.005335656340175314,
         "per_capita_num_vehicle_theft": 0.0010889094571786355,
         "per_capita_num_larceny_theft": 0.010698535416780095,
         "per_capita_num_arson": 0.00010889094571786355,
         "name": "Amador County, California",
         "total_population": 37159,
         "median_income": 52964,
         "median_rent": 1029,
         "median_home_value": 251800,
         "educational_attainment": 0.2045383357115511,
         "av_commute_time": 29.838943834497776,
         "perc_poverty": 0.1150999757797572,
         "perc_white": 0.799160364918324,
         "perc_black": 0.0210177884227239,
         "perc_american_indian": 0.0200220673322748,
         "perc_asian": 0.0129712855566619,
         "perc_hawaiian": 0.002152910465836,
         "perc_other_race": 0.00005382276164590005,
         "perc_hispanic": 0.1271293630076159,
         "perc_65_over": 0.227751015904626,
         "perc_enrolled_undergrad": 0.0390484135741004,
         "perc_unemployed": 0.040340159853602,
         "housing_per_capita": 0.4886299416023036,
         "perc_owner": 0.5808228231536047,
         "perc_renter": 0.1868700776560004,
         "perc_vacant": 0.2323070991903948,
         "chemical": 0,
         "coastal_storm": 0,
         "dam_levee_break": 0,
         "earthquake": 0,
         "fire": 0,
         "flood": 0,
         "hurricane": 0,
         "mud_landslide": 0,
         "severe_ice_storm": 0,
         "severe_storm": 0,
         "snow": 0,
         "tornado": 0,
         "toxic_substances": 0,
         "typhoon": 0,
         "volcano": 0,
         "individual_inflow": 1605,
         "individual_outflow": 1344,
         "area_land": 1539933577,
         "area_water": 29470567,
         "longitude": -120.65362812731496,
         "latitude": 38.44479461125139,
         "_deepnote_index_column": 2
        },
        {
         "county_name": "butte",
         "year": 2014,
         "registered_pct": 70.024791122871,
         "democrat_pct": 33.0144762261389,
         "republican_pct": 36.155672621124566,
         "american_independent_pct": 3.5445903508846586,
         "green_pct": 1.2306068781222608,
         "liberterian_pct": 1.05954741581066,
         "peace_and_freedom_pct": 0.427223134728475,
         "no_party_pct": 23.10068679097555,
         "other_party_pct": 1.4671965822149222,
         "Location ID": "CA-007",
         "avg_temp": 62.43333333333334,
         "min_temp": 40.3,
         "max_temp": 94.5,
         "total_precip_amt": 43.72,
         "avg_daily_attendance_expense": 8972.45510155196,
         "state": 6,
         "county": 7,
         "state_name": "california",
         "bea_number_of_people": 223525,
         "per_capita_personal_income": 36796,
         "per_capita_retirement_and_other": 8917,
         "per_capita_unemploy_ins_comp": 164,
         "per_capita_curr_dollar_real_gdp": 37.09988591880103,
         "per_capita_num_jobs": 0.4806665921037915,
         "per_capita_farm_proprieter_jobs": 0.0074935689520187,
         "per_capita_nonfarm_proprieter_jobs": 0.1062744659434067,
         "coastal_flag": 0,
         "per_capita_num_violent_crimes": 0.0030332177608768593,
         "per_capita_num_homicide": 0.00004921149759534728,
         "per_capita_num_rape": 0.000340006710658763,
         "per_capita_num_robbery": 0.0006665921037915222,
         "per_capita_num_agg_assault": 0.001977407448831227,
         "per_capita_num_property_crimes": 0.029665585504977072,
         "per_capita_num_burglary": 0.007457778771949446,
         "per_capita_num_vehicle_theft": 0.00340006710658763,
         "per_capita_num_larceny_theft": 0.018807739626439994,
         "per_capita_num_arson": 0.0003892182082541103,
         "name": "Butte County, California",
         "total_population": 224241,
         "median_income": 42365,
         "median_rent": 887,
         "median_home_value": 225400,
         "educational_attainment": 0.2706217153777445,
         "av_commute_time": 21.21779409823475,
         "perc_poverty": 0.217431245847102,
         "perc_white": 0.7309323451108406,
         "perc_black": 0.0143773886131438,
         "perc_american_indian": 0.0201702632435638,
         "perc_asian": 0.0413171543116557,
         "perc_hawaiian": 0.0013601437738861,
         "perc_other_race": 0.0023412310861974,
         "perc_hispanic": 0.1545167922012477,
         "perc_65_over": 0.1697058075909401,
         "perc_enrolled_undergrad": 0.1120044951636855,
         "perc_unemployed": 0.0572999585267636,
         "housing_per_capita": 0.4347599234751896,
         "perc_owner": 0.5194633350770841,
         "perc_renter": 0.3561662102142762,
         "perc_vacant": 0.1243704547086397,
         "chemical": 0,
         "coastal_storm": 0,
         "dam_levee_break": 0,
         "earthquake": 0,
         "fire": 0,
         "flood": 0,
         "hurricane": 0,
         "mud_landslide": 0,
         "severe_ice_storm": 0,
         "severe_storm": 0,
         "snow": 0,
         "tornado": 0,
         "toxic_substances": 0,
         "typhoon": 0,
         "volcano": 0,
         "individual_inflow": 7147,
         "individual_outflow": 7017,
         "area_land": 4238438186,
         "area_water": 105311003,
         "longitude": -121.60051971743592,
         "latitude": 39.66727700661919,
         "_deepnote_index_column": 3
        },
        {
         "county_name": "calaveras",
         "year": 2014,
         "registered_pct": 76.305922814535,
         "democrat_pct": 30.220186197724253,
         "republican_pct": 41.909265553421015,
         "american_independent_pct": 4.706664696320378,
         "green_pct": 0.8866558297620807,
         "liberterian_pct": 1.363233338259199,
         "peace_and_freedom_pct": 0.3657455297768582,
         "no_party_pct": 19.66898182355549,
         "other_party_pct": 0.8792670311807299,
         "Location ID": "CA-009",
         "avg_temp": 61.13333333333333,
         "min_temp": 38.2,
         "max_temp": 93.6,
         "total_precip_amt": 29.56,
         "avg_daily_attendance_expense": 9088.735276770238,
         "state": 6,
         "county": 9,
         "state_name": "california",
         "bea_number_of_people": 44677,
         "per_capita_personal_income": 39996,
         "per_capita_retirement_and_other": 9881,
         "per_capita_unemploy_ins_comp": 161,
         "per_capita_curr_dollar_real_gdp": 28.69219061261947,
         "per_capita_num_jobs": 0.3498220560915012,
         "per_capita_farm_proprieter_jobs": 0.0123553506278398,
         "per_capita_nonfarm_proprieter_jobs": 0.1397139467735076,
         "coastal_flag": 0,
         "per_capita_num_violent_crimes": 0.002529265617655617,
         "per_capita_num_homicide": 0,
         "per_capita_num_rape": 0.0002685945788660832,
         "per_capita_num_robbery": 0.0002014459341495624,
         "per_capita_num_agg_assault": 0.002059225104639971,
         "per_capita_num_property_crimes": 0.02213666987487969,
         "per_capita_num_burglary": 0.006647715826935559,
         "per_capita_num_vehicle_theft": 0.002081607986212145,
         "per_capita_num_larceny_theft": 0.013407346061731988,
         "per_capita_num_arson": 0.000044765763144347204,
         "name": "Calaveras County, California",
         "total_population": 44921,
         "median_income": 54936,
         "median_rent": 1072,
         "median_home_value": 242600,
         "educational_attainment": 0.2105701454361597,
         "av_commute_time": 34.39602993817117,
         "perc_poverty": 0.1191424946016339,
         "perc_white": 0.8288773624807996,
         "perc_black": 0.0062331648894726,
         "perc_american_indian": 0.0080363304467843,
         "perc_asian": 0.0114200485296409,
         "perc_hawaiian": 0.0029162307161461,
         "perc_other_race": 0,
         "perc_hispanic": 0.1091026468689477,
         "perc_65_over": 0.2329200151376861,
         "perc_enrolled_undergrad": 0.0290064780392244,
         "perc_unemployed": 0.0523808463747467,
         "housing_per_capita": 0.6234500567663231,
         "perc_owner": 0.5246018710276369,
         "perc_renter": 0.1398271798900235,
         "perc_vacant": 0.3355709490823395,
         "chemical": 0,
         "coastal_storm": 0,
         "dam_levee_break": 0,
         "earthquake": 0,
         "fire": 0,
         "flood": 0,
         "hurricane": 0,
         "mud_landslide": 0,
         "severe_ice_storm": 0,
         "severe_storm": 0,
         "snow": 0,
         "tornado": 0,
         "toxic_substances": 0,
         "typhoon": 0,
         "volcano": 0,
         "individual_inflow": 2292,
         "individual_outflow": 2109,
         "area_land": 2641829200,
         "area_water": 43797659,
         "longitude": -120.55291297184894,
         "latitude": 38.20537102873994,
         "_deepnote_index_column": 4
        },
        {
         "county_name": "colusa",
         "year": 2014,
         "registered_pct": 61.76805465191932,
         "democrat_pct": 33.46938775510204,
         "republican_pct": 43.98946675444371,
         "american_independent_pct": 2.659644502962476,
         "green_pct": 0.2764976958525346,
         "liberterian_pct": 0.4739960500329164,
         "peace_and_freedom_pct": 0.1711652402896642,
         "no_party_pct": 18.933508887425937,
         "other_party_pct": 0.0263331138907175,
         "Location ID": "CA-011",
         "avg_temp": 64.38333333333334,
         "min_temp": 38.5,
         "max_temp": 96.2,
         "total_precip_amt": 28.67,
         "avg_daily_attendance_expense": 7770.909210961477,
         "state": 6,
         "county": 11,
         "state_name": "california",
         "bea_number_of_people": 21156,
         "per_capita_personal_income": 35342,
         "per_capita_retirement_and_other": 6341,
         "per_capita_unemploy_ins_comp": 551,
         "per_capita_curr_dollar_real_gdp": 56.18283229343921,
         "per_capita_num_jobs": 0.5407922102476839,
         "per_capita_farm_proprieter_jobs": 0.0307241444507468,
         "per_capita_nonfarm_proprieter_jobs": 0.0839478162223482,
         "coastal_flag": 0,
         "per_capita_num_violent_crimes": 0.0018907165815844206,
         "per_capita_num_homicide": 0,
         "per_capita_num_rape": 0.00009453582907922102,
         "per_capita_num_robbery": 0.0002836074872376631,
         "per_capita_num_agg_assault": 0.0015125732652675364,
         "per_capita_num_property_crimes": 0.01654377008886368,
         "per_capita_num_burglary": 0.005341274342975988,
         "per_capita_num_vehicle_theft": 0.001559841179807147,
         "per_capita_num_larceny_theft": 0.009642654566080544,
         "per_capita_num_arson": 0.00009453582907922102,
         "name": "Colusa County, California",
         "total_population": 21424,
         "median_income": 50503,
         "median_rent": 864,
         "median_home_value": 174500,
         "educational_attainment": 0.1431591664149803,
         "av_commute_time": 22.081690487925087,
         "perc_poverty": 0.1432038834951456,
         "perc_white": 0.3820014936519791,
         "perc_black": 0.0084017923823749,
         "perc_american_indian": 0.0133495145631067,
         "perc_asian": 0.0132094846900672,
         "perc_hawaiian": 0.000886855862584,
         "perc_other_race": 0,
         "perc_hispanic": 0.5673543689320388,
         "perc_65_over": 0.1250466766243465,
         "perc_enrolled_undergrad": 0.0406086631814787,
         "perc_unemployed": 0.1090365944734876,
         "housing_per_capita": 0.3683252427184466,
         "perc_owner": 0.5567101761500444,
         "perc_renter": 0.3192244328982385,
         "perc_vacant": 0.1240653909517171,
         "chemical": 0,
         "coastal_storm": 0,
         "dam_levee_break": 0,
         "earthquake": 0,
         "fire": 0,
         "flood": 0,
         "hurricane": 0,
         "mud_landslide": 0,
         "severe_ice_storm": 0,
         "severe_storm": 0,
         "snow": 0,
         "tornado": 0,
         "toxic_substances": 0,
         "typhoon": 0,
         "volcano": 0,
         "individual_inflow": 760,
         "individual_outflow": 886,
         "area_land": 2980332864,
         "area_water": 14608870,
         "longitude": -122.23317261550378,
         "latitude": 39.17881956608651,
         "_deepnote_index_column": 5
        },
        {
         "county_name": "contra costa",
         "year": 2014,
         "registered_pct": 73.40086407814272,
         "democrat_pct": 49.071411375092175,
         "republican_pct": 23.910706872333044,
         "american_independent_pct": 2.6594201936984496,
         "green_pct": 0.634477110863833,
         "liberterian_pct": 0.5992178510428969,
         "peace_and_freedom_pct": 0.2225503818805317,
         "no_party_pct": 22.6408048210403,
         "other_party_pct": 0.2614113940487677,
         "Location ID": "CA-013",
         "avg_temp": 62.73333333333333,
         "min_temp": 44.4,
         "max_temp": 86.9,
         "total_precip_amt": 21.07,
         "avg_daily_attendance_expense": 8494.563068492003,
         "state": 6,
         "county": 13,
         "state_name": "california",
         "bea_number_of_people": 1108665,
         "per_capita_personal_income": 63390,
         "per_capita_retirement_and_other": 6722,
         "per_capita_unemploy_ins_comp": 148,
         "per_capita_curr_dollar_real_gdp": 61.58832289284861,
         "per_capita_num_jobs": 0.4707490540424745,
         "per_capita_farm_proprieter_jobs": 0.0004428749892889,
         "per_capita_nonfarm_proprieter_jobs": 0.1398862596005105,
         "coastal_flag": 1,
         "per_capita_num_violent_crimes": 0.003292247883716001,
         "per_capita_num_homicide": 0.000042393328913603295,
         "per_capita_num_rape": 0.00021286863028958253,
         "per_capita_num_robbery": 0.0013132912106001361,
         "per_capita_num_agg_assault": 0.0017236947139126788,
         "per_capita_num_property_crimes": 0.029072803777516202,
         "per_capita_num_burglary": 0.006267898779162326,
         "per_capita_num_vehicle_theft": 0.005924242219245669,
         "per_capita_num_larceny_theft": 0.016880662779108206,
         "per_capita_num_arson": 0.00013800381539960224,
         "name": "Contra Costa County, California",
         "total_population": 1111339,
         "median_income": 80361,
         "median_rent": 1443,
         "median_home_value": 474000,
         "educational_attainment": 0.3968713720080856,
         "av_commute_time": 35.953680761270085,
         "perc_poverty": 0.1043740928735516,
         "perc_white": 0.4538642124500265,
         "perc_black": 0.0821522505734074,
         "perc_american_indian": 0.0046493464190494,
         "perc_asian": 0.1532628657862272,
         "perc_hawaiian": 0.0047060347922641,
         "perc_other_race": 0.0035335752637134,
         "perc_hispanic": 0.2515515067859582,
         "perc_65_over": 0.1421168518336889,
         "perc_enrolled_undergrad": 0.0585069002347618,
         "perc_unemployed": 0.0438363091729886,
         "housing_per_capita": 0.3660377256624666,
         "perc_owner": 0.6071554996165116,
         "perc_renter": 0.3464915730889496,
         "perc_vacant": 0.0463529272945387,
         "chemical": 0,
         "coastal_storm": 0,
         "dam_levee_break": 0,
         "earthquake": 0,
         "fire": 0,
         "flood": 0,
         "hurricane": 0,
         "mud_landslide": 0,
         "severe_ice_storm": 0,
         "severe_storm": 0,
         "snow": 0,
         "tornado": 0,
         "toxic_substances": 0,
         "typhoon": 0,
         "volcano": 0,
         "individual_inflow": 50259,
         "individual_outflow": 43324,
         "area_land": 1857233047,
         "area_water": 225282636,
         "longitude": -121.92009694272112,
         "latitude": 37.919671192881815,
         "_deepnote_index_column": 6
        },
        {
         "county_name": "del norte",
         "year": 2014,
         "registered_pct": 69.85153125513615,
         "democrat_pct": 32.57254901960784,
         "republican_pct": 35.67058823529411,
         "american_independent_pct": 4.650980392156863,
         "green_pct": 0.7607843137254903,
         "liberterian_pct": 0.9254901960784314,
         "peace_and_freedom_pct": 0.4313725490196078,
         "no_party_pct": 23.6,
         "other_party_pct": 1.388235294117647,
         "Location ID": "CA-015",
         "avg_temp": 54.92499999999999,
         "min_temp": 37.4,
         "max_temp": 84,
         "total_precip_amt": 67.16,
         "avg_daily_attendance_expense": 10593.244305470662,
         "state": 6,
         "county": 15,
         "state_name": "california",
         "bea_number_of_people": 27182,
         "per_capita_personal_income": 31527,
         "per_capita_retirement_and_other": 9593,
         "per_capita_unemploy_ins_comp": 164,
         "per_capita_curr_dollar_real_gdp": 29.353358840409093,
         "per_capita_num_jobs": 0.3863218306232065,
         "per_capita_farm_proprieter_jobs": 0.003531748951512,
         "per_capita_nonfarm_proprieter_jobs": 0.0804944448532116,
         "coastal_flag": 1,
         "per_capita_num_violent_crimes": 0.0060701935104113015,
         "per_capita_num_homicide": 0.000036789051578250314,
         "per_capita_num_rape": 0.0010300934441910088,
         "per_capita_num_robbery": 0.0007725700831432566,
         "per_capita_num_agg_assault": 0.004230740931498786,
         "per_capita_num_property_crimes": 0.023876094474284452,
         "per_capita_num_burglary": 0.010116989184018836,
         "per_capita_num_vehicle_theft": 0.004451475240968288,
         "per_capita_num_larceny_theft": 0.00930763004929733,
         "per_capita_num_arson": 0.0002575233610477522,
         "name": "Del Norte County, California",
         "total_population": 28066,
         "median_income": 39302,
         "median_rent": 843,
         "median_home_value": 180100,
         "educational_attainment": 0.1603617571059431,
         "av_commute_time": 13.769551616266943,
         "perc_poverty": 0.1948264804389653,
         "perc_white": 0.6379961519275992,
         "perc_black": 0.0353096273070619,
         "perc_american_indian": 0.0501318321100263,
         "perc_asian": 0.0211643982042328,
         "perc_hawaiian": 0.0016389938003277,
         "perc_other_race": 0.0012470605002494,
         "perc_hispanic": 0.1863820993372764,
         "perc_65_over": 0.1479370056295874,
         "perc_enrolled_undergrad": 0.0540867954108173,
         "perc_unemployed": 0.0643483218128696,
         "housing_per_capita": 0.4015534810803107,
         "perc_owner": 0.5038154392191659,
         "perc_renter": 0.3415261756876663,
         "perc_vacant": 0.1546583850931677,
         "chemical": 0,
         "coastal_storm": 0,
         "dam_levee_break": 0,
         "earthquake": 0,
         "fire": 0,
         "flood": 0,
         "hurricane": 0,
         "mud_landslide": 0,
         "severe_ice_storm": 0,
         "severe_storm": 0,
         "snow": 0,
         "tornado": 0,
         "toxic_substances": 0,
         "typhoon": 0,
         "volcano": 0,
         "individual_inflow": 989,
         "individual_outflow": 1038,
         "area_land": 2606117983,
         "area_water": 578742642,
         "longitude": -123.89740322728292,
         "latitude": 41.74228172332175,
         "_deepnote_index_column": 7
        },
        {
         "county_name": "el dorado",
         "year": 2014,
         "registered_pct": 78.79549323174191,
         "democrat_pct": 28.56047357641844,
         "republican_pct": 42.925811972206375,
         "american_independent_pct": 4.138182566327819,
         "green_pct": 0.7930347607335572,
         "liberterian_pct": 1.1381171035527584,
         "peace_and_freedom_pct": 0.2833602977621083,
         "no_party_pct": 21.273531529678017,
         "other_party_pct": 0.8874881933209267,
         "Location ID": "CA-017",
         "avg_temp": 56.66666666666666,
         "min_temp": 35.4,
         "max_temp": 88.2,
         "total_precip_amt": 39.91,
         "avg_daily_attendance_expense": 8422.210827215851,
         "state": 6,
         "county": 17,
         "state_name": "california",
         "bea_number_of_people": 183157,
         "per_capita_personal_income": 56496,
         "per_capita_retirement_and_other": 7546,
         "per_capita_unemploy_ins_comp": 159,
         "per_capita_curr_dollar_real_gdp": 36.20228547093477,
         "per_capita_num_jobs": 0.4529010630224343,
         "per_capita_farm_proprieter_jobs": 0.0060876734167954,
         "per_capita_nonfarm_proprieter_jobs": 0.1545723068187402,
         "coastal_flag": 0,
         "per_capita_num_violent_crimes": 0.0022330568856227173,
         "per_capita_num_homicide": 0.000016379390359090833,
         "per_capita_num_rape": 0.00026207024574545333,
         "per_capita_num_robbery": 0.0002784496361045442,
         "per_capita_num_agg_assault": 0.0016761576134136287,
         "per_capita_num_property_crimes": 0.017132842315609013,
         "per_capita_num_burglary": 0.004531631332681797,
         "per_capita_num_vehicle_theft": 0.0016379390359090834,
         "per_capita_num_larceny_theft": 0.010963271947018132,
         "per_capita_num_arson": 0.00007097735822272695,
         "name": "El Dorado County, California",
         "total_population": 183087,
         "median_income": 71113,
         "median_rent": 1018,
         "median_home_value": 376800,
         "educational_attainment": 0.31057628581557,
         "av_commute_time": 27.380170623561767,
         "perc_poverty": 0.1251754630312365,
         "perc_white": 0.7856101197791214,
         "perc_black": 0.0074336244517633,
         "perc_american_indian": 0.0084222254993527,
         "perc_asian": 0.0424606880881766,
         "perc_hawaiian": 0.0015457132401535,
         "perc_other_race": 0.0003331749386903,
         "perc_hispanic": 0.1267430238083534,
         "perc_65_over": 0.1800892471884951,
         "perc_enrolled_undergrad": 0.0484032181421946,
         "perc_unemployed": 0.0402868581603281,
         "housing_per_capita": 0.4854031143663941,
         "perc_owner": 0.5702872703131505,
         "perc_renter": 0.170156744044739,
         "perc_vacant": 0.2595559856421104,
         "chemical": 0,
         "coastal_storm": 0,
         "dam_levee_break": 0,
         "earthquake": 0,
         "fire": 1,
         "flood": 0,
         "hurricane": 0,
         "mud_landslide": 0,
         "severe_ice_storm": 0,
         "severe_storm": 0,
         "snow": 0,
         "tornado": 0,
         "toxic_substances": 0,
         "typhoon": 0,
         "volcano": 0,
         "individual_inflow": 9897,
         "individual_outflow": 8318,
         "area_land": 4423290468,
         "area_water": 203328472,
         "longitude": -120.52496579985412,
         "latitude": 38.77862239505031,
         "_deepnote_index_column": 8
        },
        {
         "county_name": "fresno",
         "year": 2014,
         "registered_pct": 72.79724497198647,
         "democrat_pct": 39.96969500495878,
         "republican_pct": 36.780706620272646,
         "american_independent_pct": 2.6349977067139254,
         "green_pct": 0.3635638866276207,
         "liberterian_pct": 0.5201316898516688,
         "peace_and_freedom_pct": 0.2660692116138731,
         "no_party_pct": 18.263202003683663,
         "other_party_pct": 1.2016338762778167,
         "Location ID": "CA-019",
         "avg_temp": 59.01666666666666,
         "min_temp": 34.4,
         "max_temp": 90.3,
         "total_precip_amt": 12.44,
         "avg_daily_attendance_expense": 8646.110916635906,
         "state": 6,
         "county": 19,
         "state_name": "california",
         "bea_number_of_people": 960072,
         "per_capita_personal_income": 36746,
         "per_capita_retirement_and_other": 7165,
         "per_capita_unemploy_ins_comp": 239,
         "per_capita_curr_dollar_real_gdp": 41.305014623903205,
         "per_capita_num_jobs": 0.4843626311359981,
         "per_capita_farm_proprieter_jobs": 0.0046861068753176,
         "per_capita_nonfarm_proprieter_jobs": 0.0882819205226274,
         "coastal_flag": 0,
         "per_capita_num_violent_crimes": 0.004736103125598913,
         "per_capita_num_homicide": 0.00006145372430401054,
         "per_capita_num_rape": 0.0001906107041971852,
         "per_capita_num_robbery": 0.0010832520894266263,
         "per_capita_num_agg_assault": 0.0034007866076710912,
         "per_capita_num_property_crimes": 0.033888083393745466,
         "per_capita_num_burglary": 0.00816397103550567,
         "per_capita_num_vehicle_theft": 0.005035039038738761,
         "per_capita_num_larceny_theft": 0.02068907331950104,
         "per_capita_num_arson": 0.0005114199768350707,
         "name": "Fresno County, California",
         "total_population": 965974,
         "median_income": 43423,
         "median_rent": 891,
         "median_home_value": 204700,
         "educational_attainment": 0.1966082143195337,
         "av_commute_time": 21.99824112065741,
         "perc_poverty": 0.2724918061976823,
         "perc_white": 0.3062856764260735,
         "perc_black": 0.0466120206133912,
         "perc_american_indian": 0.0087507531258605,
         "perc_asian": 0.0976620488750214,
         "perc_hawaiian": 0.0015404141312292,
         "perc_other_race": 0.0035694542503214,
         "perc_hispanic": 0.5194456579576676,
         "perc_65_over": 0.1122649263851822,
         "perc_enrolled_undergrad": 0.0648982270744347,
         "perc_unemployed": 0.0739295260534962,
         "housing_per_capita": 0.3355763198595407,
         "perc_owner": 0.471063493728367,
         "perc_renter": 0.448219695333757,
         "perc_vacant": 0.0807168109378759,
         "chemical": 0,
         "coastal_storm": 0,
         "dam_levee_break": 0,
         "earthquake": 0,
         "fire": 0,
         "flood": 0,
         "hurricane": 0,
         "mud_landslide": 0,
         "severe_ice_storm": 0,
         "severe_storm": 0,
         "snow": 0,
         "tornado": 0,
         "toxic_substances": 0,
         "typhoon": 0,
         "volcano": 0,
         "individual_inflow": 25009,
         "individual_outflow": 24837,
         "area_land": 15431404077,
         "area_water": 137345152,
         "longitude": -119.64669419186986,
         "latitude": 36.75733668131955,
         "_deepnote_index_column": 9
        }
       ]
      },
      "text/plain": "    county_name  year  registered_pct  democrat_pct  republican_pct  \\\n0       alameda  2014       78.523182     55.470517       13.380565   \n1        alpine  2014       87.015945     36.649215       29.842932   \n2        amador  2014       78.208551     31.094336       44.162900   \n3         butte  2014       70.024791     33.014476       36.155673   \n4     calaveras  2014       76.305923     30.220186       41.909266   \n..          ...   ...             ...           ...             ...   \n343      tulare  2019       63.594821     31.100510       39.187681   \n344    tuolumne  2019       77.943684     29.363418       41.220038   \n345     ventura  2019       81.371817     39.800167       29.640497   \n346        yolo  2019       74.955314     47.270375       19.551750   \n347        yuba  2019       69.755523     26.823488       36.182378   \n\n     american_independent_pct  green_pct  liberterian_pct  \\\n0                    2.041992   1.237333         0.517193   \n1                    3.926702   1.701571         0.785340   \n2                    4.370613   0.572170         1.077027   \n3                    3.544590   1.230607         1.059547   \n4                    4.706665   0.886656         1.363233   \n..                        ...        ...              ...   \n343                  3.126937   0.278685         0.789410   \n344                  3.865746   0.553142         1.131285   \n345                  2.348195   0.402522         0.803259   \n346                  2.729625   0.712765         0.828919   \n347                  4.823132   0.438467         1.161344   \n\n     peace_and_freedom_pct  no_party_pct  ...  tornado toxic_substances  \\\n0                 0.360684     21.249642  ...      0.0              0.0   \n1                 0.130890     26.047120  ...      0.0              0.0   \n2                 0.235600     18.203673  ...      0.0              0.0   \n3                 0.427223     23.100687  ...      0.0              0.0   \n4                 0.365746     19.668982  ...      0.0              0.0   \n..                     ...           ...  ...      ...              ...   \n343               0.256248     24.731500  ...      0.0              0.0   \n344               0.275009     23.469483  ...      0.0              0.0   \n345               0.263514     25.184192  ...      0.0              0.0   \n346               0.358142     27.677267  ...      0.0              0.0   \n347               0.589560     29.125437  ...      0.0              0.0   \n\n     typhoon  volcano  individual_inflow  individual_outflow     area_land  \\\n0        0.0      0.0              72360               71551  1.909598e+09   \n1        0.0      0.0                  0                   0  1.912293e+09   \n2        0.0      0.0               1605                1344  1.539934e+09   \n3        0.0      0.0               7147                7017  4.238438e+09   \n4        0.0      0.0               2292                2109  2.641829e+09   \n..       ...      ...                ...                 ...           ...   \n343      0.0      0.0              10745               10970  1.249508e+10   \n344      0.0      0.0               2216                2091  5.752079e+09   \n345      0.0      0.0              27274               30430  4.771968e+09   \n346      0.0      0.0               9652               10789  2.628145e+09   \n347      0.0      0.0               6386                5737  1.636914e+09   \n\n      area_water   longitude   latitude  \n0    216923745.0 -121.892901  37.646269  \n1     12557304.0 -119.822348  38.596771  \n2     29470567.0 -120.653628  38.444795  \n3    105311003.0 -121.600520  39.667277  \n4     43797659.0 -120.552913  38.205371  \n..           ...         ...        ...  \n343   37014644.0 -118.802020  36.220266  \n344  138722707.0 -119.952509  38.026440  \n345  947365005.0 -119.091061  34.444657  \n346   22878452.0 -121.901632  38.683826  \n347   31057995.0 -121.353456  39.262061  \n\n[348 rows x 82 columns]",
      "text/html": "<div>\n<style scoped>\n    .dataframe tbody tr th:only-of-type {\n        vertical-align: middle;\n    }\n\n    .dataframe tbody tr th {\n        vertical-align: top;\n    }\n\n    .dataframe thead th {\n        text-align: right;\n    }\n</style>\n<table border=\"1\" class=\"dataframe\">\n  <thead>\n    <tr style=\"text-align: right;\">\n      <th></th>\n      <th>county_name</th>\n      <th>year</th>\n      <th>registered_pct</th>\n      <th>democrat_pct</th>\n      <th>republican_pct</th>\n      <th>american_independent_pct</th>\n      <th>green_pct</th>\n      <th>liberterian_pct</th>\n      <th>peace_and_freedom_pct</th>\n      <th>no_party_pct</th>\n      <th>...</th>\n      <th>tornado</th>\n      <th>toxic_substances</th>\n      <th>typhoon</th>\n      <th>volcano</th>\n      <th>individual_inflow</th>\n      <th>individual_outflow</th>\n      <th>area_land</th>\n      <th>area_water</th>\n      <th>longitude</th>\n      <th>latitude</th>\n    </tr>\n  </thead>\n  <tbody>\n    <tr>\n      <th>0</th>\n      <td>alameda</td>\n      <td>2014</td>\n      <td>78.523182</td>\n      <td>55.470517</td>\n      <td>13.380565</td>\n      <td>2.041992</td>\n      <td>1.237333</td>\n      <td>0.517193</td>\n      <td>0.360684</td>\n      <td>21.249642</td>\n      <td>...</td>\n      <td>0.0</td>\n      <td>0.0</td>\n      <td>0.0</td>\n      <td>0.0</td>\n      <td>72360</td>\n      <td>71551</td>\n      <td>1.909598e+09</td>\n      <td>216923745.0</td>\n      <td>-121.892901</td>\n      <td>37.646269</td>\n    </tr>\n    <tr>\n      <th>1</th>\n      <td>alpine</td>\n      <td>2014</td>\n      <td>87.015945</td>\n      <td>36.649215</td>\n      <td>29.842932</td>\n      <td>3.926702</td>\n      <td>1.701571</td>\n      <td>0.785340</td>\n      <td>0.130890</td>\n      <td>26.047120</td>\n      <td>...</td>\n      <td>0.0</td>\n      <td>0.0</td>\n      <td>0.0</td>\n      <td>0.0</td>\n      <td>0</td>\n      <td>0</td>\n      <td>1.912293e+09</td>\n      <td>12557304.0</td>\n      <td>-119.822348</td>\n      <td>38.596771</td>\n    </tr>\n    <tr>\n      <th>2</th>\n      <td>amador</td>\n      <td>2014</td>\n      <td>78.208551</td>\n      <td>31.094336</td>\n      <td>44.162900</td>\n      <td>4.370613</td>\n      <td>0.572170</td>\n      <td>1.077027</td>\n      <td>0.235600</td>\n      <td>18.203673</td>\n      <td>...</td>\n      <td>0.0</td>\n      <td>0.0</td>\n      <td>0.0</td>\n      <td>0.0</td>\n      <td>1605</td>\n      <td>1344</td>\n      <td>1.539934e+09</td>\n      <td>29470567.0</td>\n      <td>-120.653628</td>\n      <td>38.444795</td>\n    </tr>\n    <tr>\n      <th>3</th>\n      <td>butte</td>\n      <td>2014</td>\n      <td>70.024791</td>\n      <td>33.014476</td>\n      <td>36.155673</td>\n      <td>3.544590</td>\n      <td>1.230607</td>\n      <td>1.059547</td>\n      <td>0.427223</td>\n      <td>23.100687</td>\n      <td>...</td>\n      <td>0.0</td>\n      <td>0.0</td>\n      <td>0.0</td>\n      <td>0.0</td>\n      <td>7147</td>\n      <td>7017</td>\n      <td>4.238438e+09</td>\n      <td>105311003.0</td>\n      <td>-121.600520</td>\n      <td>39.667277</td>\n    </tr>\n    <tr>\n      <th>4</th>\n      <td>calaveras</td>\n      <td>2014</td>\n      <td>76.305923</td>\n      <td>30.220186</td>\n      <td>41.909266</td>\n      <td>4.706665</td>\n      <td>0.886656</td>\n      <td>1.363233</td>\n      <td>0.365746</td>\n      <td>19.668982</td>\n      <td>...</td>\n      <td>0.0</td>\n      <td>0.0</td>\n      <td>0.0</td>\n      <td>0.0</td>\n      <td>2292</td>\n      <td>2109</td>\n      <td>2.641829e+09</td>\n      <td>43797659.0</td>\n      <td>-120.552913</td>\n      <td>38.205371</td>\n    </tr>\n    <tr>\n      <th>...</th>\n      <td>...</td>\n      <td>...</td>\n      <td>...</td>\n      <td>...</td>\n      <td>...</td>\n      <td>...</td>\n      <td>...</td>\n      <td>...</td>\n      <td>...</td>\n      <td>...</td>\n      <td>...</td>\n      <td>...</td>\n      <td>...</td>\n      <td>...</td>\n      <td>...</td>\n      <td>...</td>\n      <td>...</td>\n      <td>...</td>\n      <td>...</td>\n      <td>...</td>\n      <td>...</td>\n    </tr>\n    <tr>\n      <th>343</th>\n      <td>tulare</td>\n      <td>2019</td>\n      <td>63.594821</td>\n      <td>31.100510</td>\n      <td>39.187681</td>\n      <td>3.126937</td>\n      <td>0.278685</td>\n      <td>0.789410</td>\n      <td>0.256248</td>\n      <td>24.731500</td>\n      <td>...</td>\n      <td>0.0</td>\n      <td>0.0</td>\n      <td>0.0</td>\n      <td>0.0</td>\n      <td>10745</td>\n      <td>10970</td>\n      <td>1.249508e+10</td>\n      <td>37014644.0</td>\n      <td>-118.802020</td>\n      <td>36.220266</td>\n    </tr>\n    <tr>\n      <th>344</th>\n      <td>tuolumne</td>\n      <td>2019</td>\n      <td>77.943684</td>\n      <td>29.363418</td>\n      <td>41.220038</td>\n      <td>3.865746</td>\n      <td>0.553142</td>\n      <td>1.131285</td>\n      <td>0.275009</td>\n      <td>23.469483</td>\n      <td>...</td>\n      <td>0.0</td>\n      <td>0.0</td>\n      <td>0.0</td>\n      <td>0.0</td>\n      <td>2216</td>\n      <td>2091</td>\n      <td>5.752079e+09</td>\n      <td>138722707.0</td>\n      <td>-119.952509</td>\n      <td>38.026440</td>\n    </tr>\n    <tr>\n      <th>345</th>\n      <td>ventura</td>\n      <td>2019</td>\n      <td>81.371817</td>\n      <td>39.800167</td>\n      <td>29.640497</td>\n      <td>2.348195</td>\n      <td>0.402522</td>\n      <td>0.803259</td>\n      <td>0.263514</td>\n      <td>25.184192</td>\n      <td>...</td>\n      <td>0.0</td>\n      <td>0.0</td>\n      <td>0.0</td>\n      <td>0.0</td>\n      <td>27274</td>\n      <td>30430</td>\n      <td>4.771968e+09</td>\n      <td>947365005.0</td>\n      <td>-119.091061</td>\n      <td>34.444657</td>\n    </tr>\n    <tr>\n      <th>346</th>\n      <td>yolo</td>\n      <td>2019</td>\n      <td>74.955314</td>\n      <td>47.270375</td>\n      <td>19.551750</td>\n      <td>2.729625</td>\n      <td>0.712765</td>\n      <td>0.828919</td>\n      <td>0.358142</td>\n      <td>27.677267</td>\n      <td>...</td>\n      <td>0.0</td>\n      <td>0.0</td>\n      <td>0.0</td>\n      <td>0.0</td>\n      <td>9652</td>\n      <td>10789</td>\n      <td>2.628145e+09</td>\n      <td>22878452.0</td>\n      <td>-121.901632</td>\n      <td>38.683826</td>\n    </tr>\n    <tr>\n      <th>347</th>\n      <td>yuba</td>\n      <td>2019</td>\n      <td>69.755523</td>\n      <td>26.823488</td>\n      <td>36.182378</td>\n      <td>4.823132</td>\n      <td>0.438467</td>\n      <td>1.161344</td>\n      <td>0.589560</td>\n      <td>29.125437</td>\n      <td>...</td>\n      <td>0.0</td>\n      <td>0.0</td>\n      <td>0.0</td>\n      <td>0.0</td>\n      <td>6386</td>\n      <td>5737</td>\n      <td>1.636914e+09</td>\n      <td>31057995.0</td>\n      <td>-121.353456</td>\n      <td>39.262061</td>\n    </tr>\n  </tbody>\n</table>\n<p>348 rows × 82 columns</p>\n</div>"
     },
     "metadata": {}
    }
   ],
   "execution_count": null
  },
  {
   "cell_type": "code",
   "metadata": {
    "tags": [],
    "cell_id": "00033-eca721d4-6d0f-439f-a658-09d4ea53440a",
    "deepnote_to_be_reexecuted": false,
    "source_hash": "c196db9a",
    "execution_start": 1643551406794,
    "execution_millis": 1973033974,
    "deepnote_output_heights": [
     1
    ],
    "deepnote_table_state": {
     "pageSize": 10,
     "pageIndex": 8,
     "filters": [],
     "sortBy": []
    },
    "deepnote_table_loading": false,
    "deepnote_cell_type": "code"
   },
   "source": "ca_full_df.columns",
   "outputs": [
    {
     "output_type": "execute_result",
     "execution_count": 27,
     "data": {
      "text/plain": "Index(['county_name', 'year', 'registered_pct', 'democrat_pct',\n       'republican_pct', 'american_independent_pct', 'green_pct',\n       'liberterian_pct', 'peace_and_freedom_pct', 'no_party_pct',\n       'other_party_pct', 'Location ID', 'avg_temp', 'min_temp', 'max_temp',\n       'total_precip_amt', 'avg_daily_attendance_expense', 'state', 'county',\n       'state_name', 'bea_number_of_people', 'per_capita_personal_income',\n       'per_capita_retirement_and_other', 'per_capita_unemploy_ins_comp',\n       'per_capita_curr_dollar_real_gdp', 'per_capita_num_jobs',\n       'per_capita_farm_proprieter_jobs', 'per_capita_nonfarm_proprieter_jobs',\n       'coastal_flag', 'per_capita_num_violent_crimes',\n       'per_capita_num_homicide', 'per_capita_num_rape',\n       'per_capita_num_robbery', 'per_capita_num_agg_assault',\n       'per_capita_num_property_crimes', 'per_capita_num_burglary',\n       'per_capita_num_vehicle_theft', 'per_capita_num_larceny_theft',\n       'per_capita_num_arson', 'name', 'total_population', 'median_income',\n       'median_rent', 'median_home_value', 'educational_attainment',\n       'av_commute_time', 'perc_poverty', 'perc_white', 'perc_black',\n       'perc_american_indian', 'perc_asian', 'perc_hawaiian',\n       'perc_other_race', 'perc_hispanic', 'perc_65_over',\n       'perc_enrolled_undergrad', 'perc_unemployed', 'housing_per_capita',\n       'perc_owner', 'perc_renter', 'perc_vacant', 'chemical', 'coastal_storm',\n       'dam_levee_break', 'earthquake', 'fire', 'flood', 'hurricane',\n       'mud_landslide', 'severe_ice_storm', 'severe_storm', 'snow', 'tornado',\n       'toxic_substances', 'typhoon', 'volcano', 'individual_inflow',\n       'individual_outflow', 'area_land', 'area_water', 'longitude',\n       'latitude'],\n      dtype='object')"
     },
     "metadata": {}
    }
   ],
   "execution_count": null
  },
  {
   "cell_type": "code",
   "metadata": {
    "tags": [],
    "cell_id": "00033-4ee0969a-f818-49c4-b9aa-0f41fbd86091",
    "deepnote_to_be_reexecuted": false,
    "source_hash": "3db806e1",
    "execution_start": 1643551406806,
    "execution_millis": 1972690555,
    "deepnote_output_heights": [
     21
    ],
    "deepnote_cell_type": "code"
   },
   "source": "#There are no nan values in ca_full_df\nca_full_df.isna().sum().sum()",
   "outputs": [
    {
     "output_type": "execute_result",
     "execution_count": 28,
     "data": {
      "text/plain": "0"
     },
     "metadata": {}
    }
   ],
   "execution_count": null
  },
  {
   "cell_type": "markdown",
   "source": "### Write out final files",
   "metadata": {
    "tags": [],
    "cell_id": "00034-cf10bb10-11d3-4c87-8987-4136645b6189",
    "deepnote_cell_type": "markdown"
   }
  },
  {
   "cell_type": "code",
   "metadata": {
    "tags": [],
    "cell_id": "00035-fbffa874-7e5a-44ef-a7db-a3b035a2c7ca",
    "deepnote_to_be_reexecuted": false,
    "source_hash": "e555de29",
    "execution_start": 1643551406854,
    "execution_millis": 920,
    "deepnote_cell_type": "code"
   },
   "source": "#CA file\nca_full_df.to_csv('/work/cleaned-csvs/ca_counties_full_dataset.csv',index=False)\n\n#National file\nall_df.to_csv('/work/cleaned-csvs/national_counties_full_dataset.csv',index=False)",
   "outputs": [],
   "execution_count": null
  },
  {
   "cell_type": "markdown",
   "source": "<a style='text-decoration:none;line-height:16px;display:flex;color:#5B5B62;padding:10px;justify-content:end;' href='https://deepnote.com?utm_source=created-in-deepnote-cell&projectId=f6c76417-5fde-42f3-8920-755838dec3fa' target=\"_blank\">\n<img alt='Created in deepnote.com' style='display:inline;max-height:16px;margin:0px;margin-right:7.5px;' src='data:image/svg+xml;base64,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' > </img>\nCreated in <span style='font-weight:600;margin-left:4px;'>Deepnote</span></a>",
   "metadata": {
    "tags": [],
    "created_in_deepnote_cell": true,
    "deepnote_cell_type": "markdown"
   }
  }
 ],
 "nbformat": 4,
 "nbformat_minor": 2,
 "metadata": {
  "orig_nbformat": 2,
  "deepnote": {
   "is_reactive": false
  },
  "deepnote_notebook_id": "5b74e937-3146-4880-947a-ab7ff3d76106",
  "deepnote_execution_queue": []
 }
}
