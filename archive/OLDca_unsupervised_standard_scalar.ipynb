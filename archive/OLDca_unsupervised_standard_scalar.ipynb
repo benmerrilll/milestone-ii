{
 "cells": [
  {
   "cell_type": "code",
   "execution_count": null,
   "metadata": {
    "cell_id": "2def8243-8707-4159-b641-213b07042967",
    "deepnote_cell_type": "code",
    "deepnote_to_be_reexecuted": false,
    "execution_millis": 6158,
    "execution_start": 1642431408906,
    "source_hash": "f765b6cd",
    "tags": []
   },
   "outputs": [],
   "source": [
    "import pandas as pd\n",
    "import matplotlib.pyplot as plt\n",
    "import numpy as np\n",
    "from tqdm import tqdm\n",
    "\n",
    "from sklearn.preprocessing import MinMaxScaler\n",
    "from sklearn.preprocessing import StandardScaler\n",
    "from sklearn.cluster import KMeans\n",
    "from sklearn.decomposition import PCA\n",
    "from sklearn import metrics\n",
    "from sklearn.metrics import silhouette_samples\n",
    "from sklearn.cluster import AgglomerativeClustering\n",
    "from scipy.cluster.hierarchy import ward, dendrogram, complete, average, single\n",
    "\n",
    "import geopandas as gpd\n",
    "import pygeos\n",
    "import gpdvega \n",
    "\n",
    "import altair as alt\n"
   ]
  },
  {
   "cell_type": "code",
   "execution_count": null,
   "metadata": {
    "cell_id": "00001-833c1027-a461-4b6e-9117-89d46d40a883",
    "deepnote_cell_type": "code",
    "deepnote_to_be_reexecuted": false,
    "execution_millis": 1280,
    "execution_start": 1642431415170,
    "source_hash": "b87e9d9f",
    "tags": []
   },
   "outputs": [],
   "source": [
    "#Load on California shape data\n",
    "counties = gpd.read_file('/work/ca-county-boundaries/CA_Counties/CA_Counties_TIGER2016.shp')\n",
    "counties['county_name'] = counties['NAME'].str.lower()\n",
    "counties.head()"
   ]
  },
  {
   "cell_type": "code",
   "execution_count": null,
   "metadata": {
    "cell_id": "00002-e6035287-4c8e-42c2-b83a-f82634394d2f",
    "deepnote_cell_type": "code",
    "deepnote_output_heights": [
     580
    ],
    "deepnote_to_be_reexecuted": false,
    "execution_millis": 251243054,
    "execution_start": 1642431416311,
    "source_hash": "736f9611",
    "tags": []
   },
   "outputs": [],
   "source": [
    "#Load in California data\n",
    "ca_df = pd.read_csv('/work/cleaned-csvs/ca_counties_full_dataset.csv')\n",
    "\n",
    "ca_df.columns"
   ]
  },
  {
   "cell_type": "code",
   "execution_count": null,
   "metadata": {
    "cell_id": "00003-f8261417-ae90-4f16-a2c6-9b8241d7b27b",
    "deepnote_cell_type": "code",
    "deepnote_output_heights": [
     81
    ],
    "deepnote_to_be_reexecuted": false,
    "execution_millis": 140,
    "execution_start": 1642431416312,
    "source_hash": "1dc3e027",
    "tags": []
   },
   "outputs": [],
   "source": [
    "# Check for sparse columns\n",
    "nullseries=ca_df.isna().sum()\n",
    "nullseries[nullseries > 0]"
   ]
  },
  {
   "cell_type": "code",
   "execution_count": null,
   "metadata": {
    "cell_id": "00004-ad1dbf91-6660-4c58-ac6b-de943783083b",
    "deepnote_cell_type": "code",
    "deepnote_output_heights": [
     81
    ],
    "deepnote_to_be_reexecuted": false,
    "execution_millis": 135,
    "execution_start": 1642431416317,
    "source_hash": "7e78396d",
    "tags": []
   },
   "outputs": [],
   "source": [
    "#Data prep for unsupervised learning tasks\n",
    "\n",
    "#Let's just look at one year of data, 2018\n",
    "ca_df = ca_df[ca_df['year']==2018]\n",
    "\n",
    "#Before removing text columns, create a mapper for county names\n",
    "ca_df = ca_df.reset_index()\n",
    "county_list_mapper = list(ca_df['county_name'])\n",
    "county_dict_mapper = (ca_df[['county_name']].to_dict('index'))\n",
    "\n",
    "#Identify and drop non-numeric fields\n",
    "non_numeric = ca_df.select_dtypes(exclude='number').columns.to_list()\n",
    "ca_df = ca_df.drop(columns=non_numeric)\n",
    "\n",
    "\n",
    "#Remove fields that are numeric, but not meaningful features of the county\n",
    "ca_df = ca_df.drop(columns = {'state','county', 'longitude',\n",
    "       'latitude','year'})\n",
    "\n",
    "\n",
    "ca_df.shape"
   ]
  },
  {
   "cell_type": "code",
   "execution_count": null,
   "metadata": {
    "cell_id": "00005-0f30757f-4c5a-4630-ba33-829ed02f8e16",
    "deepnote_cell_type": "code",
    "deepnote_output_heights": [
     511.6875
    ],
    "deepnote_to_be_reexecuted": false,
    "execution_millis": 134,
    "execution_start": 1642431416318,
    "source_hash": "a7c57bf5",
    "tags": []
   },
   "outputs": [],
   "source": [
    "ca_df.columns"
   ]
  },
  {
   "cell_type": "markdown",
   "metadata": {
    "cell_id": "00006-da24d696-ef6b-4ea6-8dcf-61bbc7c38f04",
    "deepnote_cell_type": "markdown",
    "tags": []
   },
   "source": [
    "### Feature Scaling\n",
    "Let's try using the standard scaler, which follows the Standard Normal Distribution an makes the mean of each field 0.  "
   ]
  },
  {
   "cell_type": "code",
   "execution_count": null,
   "metadata": {
    "cell_id": "00007-8d61a4b4-9e50-4c96-a847-fc1a7d779853",
    "deepnote_cell_type": "code",
    "deepnote_output_heights": [
     null,
     611
    ],
    "deepnote_to_be_reexecuted": false,
    "execution_millis": 624,
    "execution_start": 1642431416319,
    "source_hash": "97dd0f6d",
    "tags": []
   },
   "outputs": [],
   "source": [
    "scaler = StandardScaler()\n",
    "scaled_data = scaler.fit_transform(ca_df)\n",
    "\n",
    "# verify that there are no missing values and inspect data\n",
    "print('missing values:', pd.DataFrame(scaled_data).isna().sum().sum())\n",
    "pd.DataFrame(scaled_data)\n"
   ]
  },
  {
   "cell_type": "code",
   "execution_count": null,
   "metadata": {
    "cell_id": "00008-416b45c4-0c88-4c1f-b88d-caec562bb3b2",
    "deepnote_cell_type": "code",
    "deepnote_output_heights": [
     31
    ],
    "deepnote_to_be_reexecuted": false,
    "execution_millis": 251242879,
    "execution_start": 1642431416960,
    "source_hash": "a1f2dea6",
    "tags": []
   },
   "outputs": [],
   "source": [
    "scaled_data.shape"
   ]
  },
  {
   "cell_type": "markdown",
   "metadata": {
    "cell_id": "00009-ef5f1e4b-3b65-469e-8f42-c8985ffc3c45",
    "deepnote_cell_type": "markdown",
    "tags": []
   },
   "source": [
    "### K-Means Clustering\n",
    "\n",
    "We will run K-Means with multiple n_clusters values so we can use the elbow method. To determine the optimal number of clusters, we have to select the value of k at the “elbow”, or the point after which the inertia start decreasing in a linear fashion. \n",
    "\n",
    "Inertia is the sum of squared distances of samples to their closest cluster center (SSE)\n",
    "\n",
    "We will try two methods of initializing K-Means, the default, which is 'k-means++', which selectes inital cluster centers in a \"smart way\", and 'random' which choses initial centroids at random.\n",
    "\n",
    "We will also look at two metrics to check the quality of our clusters:\n",
    "\n",
    "#### Davies_Bouldin Index\n",
    "This index signifies the average ‘similarity’ between clusters, where the similarity is a measure that compares the distance between clusters with the size of the clusters themselves. Zero is the lowest possible score. Values closer to zero indicate a better partition.\n",
    "\n",
    "#### Calinski-Harabasz Index\n",
    "The index is the ratio of the sum of between-clusters dispersion and of within-cluster dispersion for all clusters (where dispersion is defined as the sum of distances squared). The score is higher when clusters are dense and well separated, which relates to a standard concept of a cluster.\n",
    "\n"
   ]
  },
  {
   "cell_type": "code",
   "execution_count": null,
   "metadata": {
    "cell_id": "00010-b34b8d30-d37c-4312-a5f2-f6acade184ba",
    "deepnote_cell_type": "code",
    "deepnote_output_heights": [
     193.875,
     193.875
    ],
    "deepnote_to_be_reexecuted": false,
    "execution_millis": 18193,
    "execution_start": 1642431417682,
    "source_hash": "98d5088f",
    "tags": []
   },
   "outputs": [],
   "source": [
    "k_range = [*range(3, 20)]\n",
    "\n",
    "#Calculate inertia scores using the default initialization 'k-means++'\n",
    "inertia_scores = []\n",
    "for k in k_range:\n",
    "    kmeans = KMeans(n_clusters=k, random_state=42,init ='k-means++').fit(scaled_data)\n",
    "    inertia_scores.append(kmeans.inertia_)\n",
    "    kmeans.fit(scaled_data)\n",
    "    ch_score = metrics.calinski_harabasz_score(scaled_data,kmeans.labels_)\n",
    "    db_score = metrics.davies_bouldin_score(scaled_data,kmeans.labels_)\n",
    "    print('k: {}, ch_score: {}, db_score {} '.format(k,ch_score,db_score))\n"
   ]
  },
  {
   "cell_type": "markdown",
   "metadata": {
    "cell_id": "00011-6419ce39-4e51-407f-b530-cd9ef3871d6f",
    "deepnote_cell_type": "markdown",
    "tags": []
   },
   "source": [
    "Our Calinksi-Harabasz scores are all low.\n",
    "\n",
    "inertia_ provides the sum of the squared error, SSE. We will plot this to find \"elbow\"\n"
   ]
  },
  {
   "cell_type": "code",
   "execution_count": null,
   "metadata": {
    "cell_id": "00012-82a887f4-56df-4788-a3b9-9625a0b8961e",
    "deepnote_cell_type": "code",
    "deepnote_output_heights": [
     31,
     340
    ],
    "deepnote_to_be_reexecuted": false,
    "execution_millis": 424,
    "execution_start": 1642431435848,
    "source_hash": "f5681091",
    "tags": []
   },
   "outputs": [],
   "source": [
    "plt.plot(k_range, inertia_scores, '-o')\n",
    "plt.ylabel('SSE')\n",
    "plt.xlabel('Number of clusters (k)')\n",
    "plt.title('The Elbow Method using \"k-means++\" initialization ')"
   ]
  },
  {
   "cell_type": "markdown",
   "metadata": {
    "cell_id": "00013-c465e093-450d-47cb-aa06-5f718be33478",
    "deepnote_cell_type": "markdown",
    "tags": []
   },
   "source": [
    "Not seeing much of an elbow above, let's try using the random initialization"
   ]
  },
  {
   "cell_type": "code",
   "execution_count": null,
   "metadata": {
    "cell_id": "00014-3cdfd3b4-1621-493d-8ac2-5cd85fcef99d",
    "deepnote_cell_type": "code",
    "deepnote_to_be_reexecuted": false,
    "execution_millis": 18493,
    "execution_start": 1642431436222,
    "source_hash": "efb7646c",
    "tags": []
   },
   "outputs": [],
   "source": [
    "inertia_scores = []\n",
    "for k in k_range:\n",
    "    kmeans = KMeans(n_clusters=k, random_state=42,init='random').fit(scaled_data)\n",
    "    inertia_scores.append(kmeans.inertia_)\n",
    "    kmeans.fit(scaled_data)\n",
    "    ch_score = metrics.calinski_harabasz_score(scaled_data,kmeans.labels_)\n",
    "    db_score = metrics.davies_bouldin_score(scaled_data,kmeans.labels_)\n",
    "    print('k: {}, ch_score: {}, db_score {} '.format(k,ch_score,db_score))\n",
    "\n"
   ]
  },
  {
   "cell_type": "markdown",
   "metadata": {
    "cell_id": "00015-a4591dbc-b1ef-4627-9098-f1575555e598",
    "deepnote_cell_type": "markdown",
    "tags": []
   },
   "source": [
    "Our Calinski-Harabasz scores are still low. Let's see if the elbow shows us anything different..."
   ]
  },
  {
   "cell_type": "code",
   "execution_count": null,
   "metadata": {
    "cell_id": "00016-6580f19b-e2d2-4415-8af9-cf6271295658",
    "deepnote_cell_type": "code",
    "deepnote_output_heights": [
     31,
     340
    ],
    "deepnote_to_be_reexecuted": false,
    "execution_millis": 457,
    "execution_start": 1642431454725,
    "source_hash": "27c64e49",
    "tags": []
   },
   "outputs": [],
   "source": [
    "plt.plot(k_range, inertia_scores, '-o')\n",
    "plt.ylabel('SSE')\n",
    "plt.xlabel('Number of clusters (k)')\n",
    "plt.title('The Elbow Method using \"random\" initialization')"
   ]
  },
  {
   "cell_type": "markdown",
   "metadata": {
    "cell_id": "00017-8fe3a120-6317-41fe-9b80-cc040027ddbf",
    "deepnote_cell_type": "markdown",
    "tags": []
   },
   "source": [
    "Neither of these really show an elbow. Let's try using silhouette analysis.\n",
    "\n",
    "From https://scikit-learn.org/stable/auto_examples/cluster/plot_kmeans_silhouette_analysis.html#sphx-glr-auto-examples-cluster-plot-kmeans-silhouette-analysis-py:\n",
    "\n",
    "Silhouette analysis can be used to study the separation distance between the resulting clusters. The silhouette plot displays a measure of how close each point in one cluster is to points in the neighboring clusters and thus provides a way to assess parameters like number of clusters visually. This measure has a range of [-1, 1].\n",
    "\n",
    "Silhouette coefficients (as these values are referred to as) near +1 indicate that the sample is far away from the neighboring clusters. A value of 0 indicates that the sample is on or very close to the decision boundary between two neighboring clusters and negative values indicate that those samples might have been assigned to the wrong cluster.\n",
    "\n"
   ]
  },
  {
   "cell_type": "code",
   "execution_count": null,
   "metadata": {
    "cell_id": "00018-b3deb680-07ae-4ad4-95c9-0b80c4a6a0f5",
    "deepnote_cell_type": "code",
    "deepnote_output_heights": [
     null,
     409,
     409,
     409,
     409,
     409,
     409,
     409,
     409,
     409
    ],
    "deepnote_to_be_reexecuted": false,
    "execution_millis": 10133,
    "execution_start": 1642431455112,
    "source_hash": "7e726dbe",
    "tags": []
   },
   "outputs": [],
   "source": [
    "# Code from https://towardsdatascience.com/k-means-clustering-algorithm-applications-evaluation-methods-and-drawbacks-aa03e644b48a\n",
    "# Per the article, a good number of clusters will have a well above 0.5 silhouette \n",
    "# average score as well as all of the clusters have higher than the average score\n",
    "\n",
    "for i, k in enumerate(range(2,11)):\n",
    "    #fig, (ax1, ax2) = plt.subplots(1, 2)\n",
    "    fig, ax1 = plt.subplots(1, 1)\n",
    "    fig.set_size_inches(18, 7)\n",
    "    \n",
    "    # Run the Kmeans algorithm\n",
    "    km = KMeans(n_clusters=k)\n",
    "    labels = km.fit_predict(scaled_data)\n",
    "    centroids = km.cluster_centers_\n",
    "\n",
    "    # Get silhouette samples\n",
    "    silhouette_vals = silhouette_samples(scaled_data, labels)\n",
    "\n",
    "    # Silhouette plot\n",
    "    y_ticks = []\n",
    "    y_lower, y_upper = 0, 0\n",
    "    for i, cluster in enumerate(np.unique(labels)):\n",
    "        cluster_silhouette_vals = silhouette_vals[labels == cluster]\n",
    "        cluster_silhouette_vals.sort()\n",
    "        y_upper += len(cluster_silhouette_vals)\n",
    "        ax1.barh(range(y_lower, y_upper), cluster_silhouette_vals, edgecolor='none', height=1)\n",
    "        ax1.text(-0.03, (y_lower + y_upper) / 2, str(i + 1))\n",
    "        y_lower += len(cluster_silhouette_vals)\n",
    "\n",
    "    # Get the average silhouette score and plot it\n",
    "    avg_score = np.mean(silhouette_vals)\n",
    "    ax1.axvline(avg_score, linestyle='--', linewidth=2, color='green')\n",
    "    ax1.set_yticks([])\n",
    "    ax1.set_xlim([-0.1, 1])\n",
    "    ax1.set_xlabel('Silhouette coefficient values')\n",
    "    ax1.set_ylabel('Cluster labels')\n",
    "    ax1.set_title('Silhouette plot for the various clusters', y=1.02);\n",
    "    print('Average silhouette score for {} clusters is {}'.format(k,avg_score))\n",
    "    \n",
    "   # plt.tight_layout()\n",
    "    plt.suptitle(f'Silhouette analysis using k = {k}',\n",
    "                 fontsize=16, fontweight='semibold', y=1.05);\n"
   ]
  },
  {
   "cell_type": "markdown",
   "metadata": {
    "cell_id": "00019-bb441335-5c32-4fea-bab9-ee8baddcef5f",
    "deepnote_cell_type": "markdown",
    "tags": []
   },
   "source": [
    "None of our clusters have a score higher than 0.5. Based on this, I see three possible conclusions:\n",
    "1. K-Means is probably not the right algorithm for us\n",
    "2. Maybe there is only a single cluster in the data, but I doubt this. If nothing else, counties with large cities should cluster together.\n",
    "3. Maybe there are too many dimensions? Can try running PCA on the data, then K-Means"
   ]
  },
  {
   "cell_type": "markdown",
   "metadata": {
    "cell_id": "00020-75d085d2-0e35-4332-a254-63d668a58ad1",
    "deepnote_cell_type": "markdown",
    "tags": []
   },
   "source": [
    "### Agglomerative Clustering\n",
    "Agglomerative clustring performs a bottom up approach where each observation starts in its own cluster and clusters are successively merged together.\n",
    "\n",
    "There are 4 types of linkages we will consider:\n",
    "- Single: minimum distance between clusters\n",
    "- Complete: maximum distance between clusters\n",
    "- Average: average distance between clusters\n",
    "- Ward: difference between:\n",
    "- - The total within-cluster sum of squares for the two clusters seperately\n",
    "- - and\n",
    "- - The within-cluster sum of squares resulting from merging the two clusters\n",
    "\n",
    "We are using Ward's Method to start because it tends to create equal sized clusters and is effective for noisy data. \n",
    "\n",
    "The output of the ward function is as follows:\n",
    "- Column 1 and 2 are child nodes\n",
    "- Column 3 is distance\n",
    "- Column 4 is the number of leaf nodes merged\n",
    "\n",
    "Every node 58 and higher are nodes that are created from merges. Node id 58 is created from the first line of the ward result, node id 59 is the second line, etc."
   ]
  },
  {
   "cell_type": "code",
   "execution_count": null,
   "metadata": {
    "cell_id": "00021-06751b6b-38cf-4617-8fc8-d5f4bd3e7647",
    "deepnote_cell_type": "code",
    "deepnote_output_heights": [
     433
    ],
    "deepnote_to_be_reexecuted": false,
    "execution_millis": 4122,
    "execution_start": 1642431465247,
    "source_hash": "2c5e6009",
    "tags": []
   },
   "outputs": [],
   "source": [
    "plt.figure(figsize=(10,6))\n",
    "cls1 = ward(scaled_data)\n",
    "dendrogram(cls1)#,orientation='left')\n",
    "plt.title('Dendrogram using Ward Linkage')\n",
    "plt.show()\n",
    "\n",
    "print(cls1)"
   ]
  },
  {
   "cell_type": "markdown",
   "metadata": {
    "cell_id": "00022-3d47a9f8-f3b0-48a5-b8cc-cf323b6a64f7",
    "deepnote_cell_type": "markdown",
    "tags": []
   },
   "source": [
    "Based on the dendrogram we are going to assign the data to 3 clusters, so now we will run the clusters to get the assignment value"
   ]
  },
  {
   "cell_type": "code",
   "execution_count": null,
   "metadata": {
    "cell_id": "00023-b857ab6d-e190-44d0-a5de-2772895ee59a",
    "deepnote_cell_type": "code",
    "deepnote_output_heights": [
     120
    ],
    "deepnote_to_be_reexecuted": false,
    "execution_millis": 1414,
    "execution_start": 1642431467956,
    "source_hash": "499722c",
    "tags": []
   },
   "outputs": [],
   "source": [
    "cls_w = AgglomerativeClustering(n_clusters=3, linkage='ward')\n",
    "cls_assignment_w = cls_w.fit_predict(scaled_data)\n",
    "cls_assignment_w"
   ]
  },
  {
   "cell_type": "code",
   "execution_count": null,
   "metadata": {
    "cell_id": "00024-b1f21e1c-a4bb-4b93-b82a-dae158fa1297",
    "deepnote_cell_type": "code",
    "deepnote_output_heights": [
     611
    ],
    "deepnote_to_be_reexecuted": false,
    "execution_millis": 1412,
    "execution_start": 1642431467958,
    "source_hash": "b97822e4",
    "tags": []
   },
   "outputs": [],
   "source": [
    "#Zip together the mapper and the cluster assignment\n",
    "county_cluster = list(zip(county_list_mapper, list(cls_assignment_w)))\n",
    "\n",
    "cluster_df = pd.DataFrame(county_cluster, columns=['county_name', 'agglom_ward_cluster'])\n",
    "cluster_df\n"
   ]
  },
  {
   "cell_type": "code",
   "execution_count": null,
   "metadata": {
    "cell_id": "00025-32619162-1182-4a47-9209-0beae2d328a2",
    "deepnote_cell_type": "code",
    "deepnote_output_heights": [
     97.9375
    ],
    "deepnote_to_be_reexecuted": false,
    "execution_millis": 0,
    "execution_start": 1642431467960,
    "source_hash": "fe246167",
    "tags": []
   },
   "outputs": [],
   "source": [
    "#Show the clusters on a map\n",
    "ca_all = pd.merge(counties,cluster_df,how='inner',on='county_name')"
   ]
  },
  {
   "cell_type": "code",
   "execution_count": null,
   "metadata": {
    "cell_id": "00026-fe9638dd-ba5d-4773-8236-787f3b7082ec",
    "deepnote_cell_type": "code",
    "deepnote_output_heights": [
     null,
     31
    ],
    "deepnote_to_be_reexecuted": false,
    "execution_millis": 4037,
    "execution_start": 1642431467961,
    "source_hash": "91926b65",
    "tags": []
   },
   "outputs": [],
   "source": [
    "alt.Chart(ca_all).mark_geoshape().encode(\n",
    "    tooltip='NAME',\n",
    "    color='agglom_ward_cluster:N'\n",
    ").properties(title='Agglomerative Clusters - Ward Linkage - 2018 Data')"
   ]
  },
  {
   "cell_type": "markdown",
   "metadata": {
    "cell_id": "00027-74108bbb-26d7-4ad1-ae88-e0babf8b8ef6",
    "deepnote_cell_type": "markdown",
    "tags": []
   },
   "source": [
    "Out of curiousity, let's see if we get similar clusterings if we use different agglomerative clustering linkage methods "
   ]
  },
  {
   "cell_type": "code",
   "execution_count": null,
   "metadata": {
    "cell_id": "00028-1beead17-5885-4dc4-8f8b-f561c6c19608",
    "deepnote_cell_type": "code",
    "deepnote_output_heights": [
     433
    ],
    "deepnote_to_be_reexecuted": false,
    "execution_millis": 992,
    "execution_start": 1642431471723,
    "source_hash": "83af3cfd",
    "tags": []
   },
   "outputs": [],
   "source": [
    "#Complete linkage method\n",
    "plt.figure(figsize=(10,6))\n",
    "cls2 = complete(scaled_data)\n",
    "dendrogram(cls2)#,orientation='left')\n",
    "plt.title('Dendrogram using Complete Linkage')\n",
    "plt.show()\n",
    "\n",
    "#print(cls2)"
   ]
  },
  {
   "cell_type": "markdown",
   "metadata": {
    "cell_id": "00029-6fe335e5-ba69-4970-87d0-d4b81e848024",
    "deepnote_cell_type": "markdown",
    "tags": []
   },
   "source": [
    "With complete linkage it seems that 5 clusters are more appropriate"
   ]
  },
  {
   "cell_type": "code",
   "execution_count": null,
   "metadata": {
    "cell_id": "00030-61f42486-7fa7-451c-a56a-607869849da6",
    "deepnote_cell_type": "code",
    "deepnote_to_be_reexecuted": false,
    "execution_millis": 1,
    "execution_start": 1642431472668,
    "source_hash": "d55b5333",
    "tags": []
   },
   "outputs": [],
   "source": [
    "\n",
    "cls_c = AgglomerativeClustering(n_clusters=5, linkage='complete')\n",
    "cls_assignment_c = cls_c.fit_predict(scaled_data)\n",
    "\n",
    "county_cluster = list(zip(county_list_mapper, list(cls_assignment_c)))\n",
    "\n",
    "new_df = pd.DataFrame(county_cluster, columns=['county_name', 'agglom_complete_cluster'])\n",
    "\n",
    "ca_all = ca_all.merge(new_df, how = 'inner', on = 'county_name')"
   ]
  },
  {
   "cell_type": "code",
   "execution_count": null,
   "metadata": {
    "cell_id": "00031-f5d28c95-ccf8-41de-87c5-fe464891700f",
    "deepnote_cell_type": "code",
    "deepnote_output_heights": [
     433
    ],
    "deepnote_to_be_reexecuted": false,
    "execution_millis": 2902,
    "execution_start": 1642431472669,
    "source_hash": "8576713d",
    "tags": []
   },
   "outputs": [],
   "source": [
    "#Average Linkage Method\n",
    "plt.figure(figsize=(10,6))\n",
    "cls3 = average(scaled_data)\n",
    "dendrogram(cls3)#,orientation='left')\n",
    "plt.title('Dendrogram using Average Linkage')\n",
    "plt.show()\n",
    "\n",
    "#print(cls3)"
   ]
  },
  {
   "cell_type": "markdown",
   "metadata": {
    "cell_id": "00032-499e814b-ce95-406e-b3eb-38fa95062406",
    "deepnote_cell_type": "markdown",
    "tags": []
   },
   "source": [
    "With average linkage it seems that 5 clusters are appropriate"
   ]
  },
  {
   "cell_type": "code",
   "execution_count": null,
   "metadata": {
    "cell_id": "00033-10b59745-8a41-4ae5-a1f5-28a12b4df902",
    "deepnote_cell_type": "code",
    "deepnote_to_be_reexecuted": false,
    "execution_millis": 7,
    "execution_start": 1642431475364,
    "source_hash": "ab4c51a9",
    "tags": []
   },
   "outputs": [],
   "source": [
    "\n",
    "cls_a = AgglomerativeClustering(n_clusters=5, linkage='average')\n",
    "cls_assignment_a = cls_a.fit_predict(scaled_data)\n",
    "\n",
    "county_cluster = list(zip(county_list_mapper, list(cls_assignment_a)))\n",
    "\n",
    "new_df = pd.DataFrame(county_cluster, columns=['county_name', 'agglom_average_cluster'])\n",
    "\n",
    "ca_all = ca_all.merge(new_df, how = 'inner', on = 'county_name')"
   ]
  },
  {
   "cell_type": "code",
   "execution_count": null,
   "metadata": {
    "cell_id": "00034-068e056e-4217-4505-a229-a9323543ee98",
    "deepnote_cell_type": "code",
    "deepnote_output_heights": [
     433
    ],
    "deepnote_to_be_reexecuted": false,
    "execution_millis": 2207,
    "execution_start": 1642431475438,
    "source_hash": "92cb89b7",
    "tags": []
   },
   "outputs": [],
   "source": [
    "#Single linkage method\n",
    "plt.figure(figsize=(10,6))\n",
    "cls4 = single(scaled_data)\n",
    "dendrogram(cls4)#,orientation='left')\n",
    "plt.title('Dendrogram using Single Linkage')\n",
    "plt.show()\n",
    "\n",
    "#print(cls4)"
   ]
  },
  {
   "cell_type": "markdown",
   "metadata": {
    "cell_id": "00035-d2631629-b08b-4770-acdc-c2d200cb6d73",
    "deepnote_cell_type": "markdown",
    "tags": []
   },
   "source": [
    "Using single linkage 2 clusters seems most appropriate"
   ]
  },
  {
   "cell_type": "code",
   "execution_count": null,
   "metadata": {
    "cell_id": "00036-adba228a-ed20-45ca-9d00-de96f5dcb2fc",
    "deepnote_cell_type": "code",
    "deepnote_to_be_reexecuted": false,
    "execution_millis": 9,
    "execution_start": 1642431477641,
    "source_hash": "4ce8ec75",
    "tags": []
   },
   "outputs": [],
   "source": [
    "cls_s = AgglomerativeClustering(n_clusters=2, linkage='single')\n",
    "cls_assignment_s = cls_s.fit_predict(scaled_data)\n",
    "\n",
    "county_cluster = list(zip(county_list_mapper, list(cls_assignment_s)))\n",
    "\n",
    "new_df = pd.DataFrame(county_cluster, columns=['county_name', 'agglom_single_cluster'])\n",
    "\n",
    "ca_all = ca_all.merge(new_df, how = 'inner', on = 'county_name')"
   ]
  },
  {
   "cell_type": "markdown",
   "metadata": {
    "cell_id": "00037-040fabe1-b396-47ec-8064-6d119eba7122",
    "deepnote_cell_type": "markdown",
    "tags": []
   },
   "source": [
    "Show the rest of the agglomerative clustering maps"
   ]
  },
  {
   "cell_type": "code",
   "execution_count": null,
   "metadata": {
    "cell_id": "00038-1c065094-31b4-4a5d-b8a2-12a756b9a840",
    "deepnote_cell_type": "code",
    "deepnote_output_heights": [
     null,
     31
    ],
    "deepnote_to_be_reexecuted": false,
    "execution_millis": 2415,
    "execution_start": 1642431477661,
    "source_hash": "2d47dca4",
    "tags": []
   },
   "outputs": [],
   "source": [
    "#Show Complete Linkage Cluster Map\n",
    "\n",
    "complete = alt.Chart(ca_all).mark_geoshape().encode(\n",
    "    tooltip='NAME',\n",
    "    color='agglom_complete_cluster:N'\n",
    ").properties(title='Agglomerative Clusters - Complete Linkage - 2018 Data')\n",
    "\n",
    "complete"
   ]
  },
  {
   "cell_type": "code",
   "execution_count": null,
   "metadata": {
    "cell_id": "00039-3d66e89e-e2eb-45cb-94f3-9dfd91b4df5b",
    "deepnote_cell_type": "code",
    "deepnote_output_heights": [
     null,
     62
    ],
    "deepnote_to_be_reexecuted": false,
    "execution_millis": 1215,
    "execution_start": 1642431480197,
    "source_hash": "60395723",
    "tags": []
   },
   "outputs": [],
   "source": [
    "#Show average linkage cluster map\n",
    "average = alt.Chart(ca_all).mark_geoshape().encode(\n",
    "    tooltip='NAME',\n",
    "    color='agglom_average_cluster:N'\n",
    ").properties(title='Agglomerative Clusters - Average Linkage - 2018 Data')\n",
    "average"
   ]
  },
  {
   "cell_type": "code",
   "execution_count": null,
   "metadata": {
    "cell_id": "00040-c84f8720-1818-449e-bce6-c6ba5b3d4988",
    "deepnote_cell_type": "code",
    "deepnote_output_heights": [
     null,
     31
    ],
    "deepnote_to_be_reexecuted": false,
    "execution_millis": 1681,
    "execution_start": 1642431482105,
    "source_hash": "68ee5b90",
    "tags": []
   },
   "outputs": [],
   "source": [
    "#Show single linkage cluster map\n",
    "single = alt.Chart(ca_all).mark_geoshape().encode(\n",
    "    tooltip='NAME',\n",
    "    color='agglom_single_cluster:N'\n",
    ").properties(title='Agglomerative Clusters - Single Linkage - 2018 Data')\n",
    "single\n"
   ]
  },
  {
   "cell_type": "markdown",
   "metadata": {
    "created_in_deepnote_cell": true,
    "deepnote_cell_type": "markdown",
    "tags": []
   },
   "source": [
    "<a style='text-decoration:none;line-height:16px;display:flex;color:#5B5B62;padding:10px;justify-content:end;' href='https://deepnote.com?utm_source=created-in-deepnote-cell&projectId=f6c76417-5fde-42f3-8920-755838dec3fa' target=\"_blank\">\n",
    "<img alt='Created in deepnote.com' style='display:inline;max-height:16px;margin:0px;margin-right:7.5px;' src='data:image/svg+xml;base64,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' > </img>\n",
    "Created in <span style='font-weight:600;margin-left:4px;'>Deepnote</span></a>"
   ]
  }
 ],
 "metadata": {
  "deepnote": {
   "is_reactive": false
  },
  "deepnote_execution_queue": [],
  "deepnote_notebook_id": "afa8ff2a-48a1-49d2-8750-be8c4d5035ae"
 },
 "nbformat": 4,
 "nbformat_minor": 2
}
