{
 "cells": [
  {
   "cell_type": "code",
   "metadata": {
    "tags": [],
    "cell_id": "00000-ca07f5f9-365c-4141-9847-880311a0d5f9",
    "deepnote_to_be_reexecuted": false,
    "source_hash": "8ad57f32",
    "execution_start": 1640827078549,
    "execution_millis": 36,
    "deepnote_cell_type": "code"
   },
   "source": "#Data pull based on info from https://towardsdatascience.com/getting-weather-data-in-3-easy-steps-8dc10cc5c859",
   "outputs": [],
   "execution_count": null
  },
  {
   "cell_type": "code",
   "metadata": {
    "tags": [],
    "cell_id": "00001-8765fc1f-4f75-4f2d-8137-c9610b271172",
    "deepnote_to_be_reexecuted": false,
    "source_hash": "1d50f4b",
    "execution_start": 1640827078585,
    "execution_millis": 0,
    "deepnote_cell_type": "code"
   },
   "source": "#needed to make web requests\nimport requests\n\n#store the data we get as a dataframe\nimport pandas as pd\n\n#convert the response as a structured json\nimport json\n\n#mathematical operations on lists\nimport numpy as np\n\n#parse the datetimes we get from NOAA\nfrom datetime import datetime\n\n#add the access token you got from NOAA\nToken = 'fwVduGAphkRQpiXHqKLdJAcaOYSPwsqT'\n\n#Long Beach Airport station\nstation_id = 'GHCND:USW00023129'",
   "outputs": [],
   "execution_count": null
  },
  {
   "cell_type": "code",
   "metadata": {
    "tags": [],
    "cell_id": "00002-3cc62a9b-9291-4457-a7d5-764d7a119031",
    "deepnote_to_be_reexecuted": false,
    "source_hash": "decbbf7a",
    "execution_start": 1640829874131,
    "execution_millis": 1415,
    "deepnote_output_heights": [
     21.1875
    ],
    "deepnote_cell_type": "code"
   },
   "source": "def get_stations(fips):\n    '''Returns a list containing all NOAA stations for an input FIPS county code'''\n    ids=[]\n    r = requests.get('https://www.ncdc.noaa.gov/cdo-web/api/v2/stations?locationid=FIPS:'+fips+'&limit=1000', headers={'token':Token})\n    d = json.loads(r.text)\n    \n    ids+=[item['id'] for item in d['results']]\n    return ids",
   "outputs": [
    {
     "output_type": "execute_result",
     "execution_count": 37,
     "data": {
      "text/plain": "71"
     },
     "metadata": {}
    }
   ],
   "execution_count": null
  },
  {
   "cell_type": "code",
   "metadata": {
    "tags": [],
    "cell_id": "00002-2507e737-dc6c-4551-93a4-dff3e561e2de",
    "deepnote_to_be_reexecuted": false,
    "source_hash": "6d7cf0a1",
    "execution_start": 1640830071526,
    "execution_millis": 165,
    "deepnote_output_heights": [
     21.1875
    ],
    "deepnote_cell_type": "code"
   },
   "source": "#Get list of all CA Counties\nca_counties = pd.read_csv('/work/output/ca_counties.csv',dtype = str)\nca_counties['fips'] = ca_counties['state_code'] + ca_counties['county_code']\nca_counties\n",
   "outputs": [
    {
     "output_type": "execute_result",
     "execution_count": 41,
     "data": {
      "application/vnd.deepnote.dataframe.v3+json": {
       "column_count": 4,
       "row_count": 58,
       "columns": [
        {
         "name": "county_code",
         "dtype": "object",
         "stats": {
          "unique_count": 58,
          "nan_count": 0,
          "categories": [
           {
            "name": "001",
            "count": 1
           },
           {
            "name": "003",
            "count": 1
           },
           {
            "name": "56 others",
            "count": 56
           }
          ]
         }
        },
        {
         "name": "state_code",
         "dtype": "object",
         "stats": {
          "unique_count": 1,
          "nan_count": 0,
          "categories": [
           {
            "name": "06",
            "count": 58
           }
          ]
         }
        },
        {
         "name": "county",
         "dtype": "object",
         "stats": {
          "unique_count": 58,
          "nan_count": 0,
          "categories": [
           {
            "name": "Alameda County",
            "count": 1
           },
           {
            "name": "Alpine County",
            "count": 1
           },
           {
            "name": "56 others",
            "count": 56
           }
          ]
         }
        },
        {
         "name": "fips",
         "dtype": "object",
         "stats": {
          "unique_count": 58,
          "nan_count": 0,
          "categories": [
           {
            "name": "06001",
            "count": 1
           },
           {
            "name": "06003",
            "count": 1
           },
           {
            "name": "56 others",
            "count": 56
           }
          ]
         }
        },
        {
         "name": "_deepnote_index_column",
         "dtype": "int64"
        }
       ],
       "rows": [
        {
         "county_code": "001",
         "state_code": "06",
         "county": "Alameda County",
         "fips": "06001",
         "_deepnote_index_column": 0
        },
        {
         "county_code": "003",
         "state_code": "06",
         "county": "Alpine County",
         "fips": "06003",
         "_deepnote_index_column": 1
        },
        {
         "county_code": "005",
         "state_code": "06",
         "county": "Amador County",
         "fips": "06005",
         "_deepnote_index_column": 2
        },
        {
         "county_code": "007",
         "state_code": "06",
         "county": "Butte County",
         "fips": "06007",
         "_deepnote_index_column": 3
        },
        {
         "county_code": "009",
         "state_code": "06",
         "county": "Calaveras County",
         "fips": "06009",
         "_deepnote_index_column": 4
        },
        {
         "county_code": "011",
         "state_code": "06",
         "county": "Colusa County",
         "fips": "06011",
         "_deepnote_index_column": 5
        },
        {
         "county_code": "013",
         "state_code": "06",
         "county": "Contra Costa County",
         "fips": "06013",
         "_deepnote_index_column": 6
        },
        {
         "county_code": "015",
         "state_code": "06",
         "county": "Del Norte County",
         "fips": "06015",
         "_deepnote_index_column": 7
        },
        {
         "county_code": "017",
         "state_code": "06",
         "county": "El Dorado County",
         "fips": "06017",
         "_deepnote_index_column": 8
        },
        {
         "county_code": "019",
         "state_code": "06",
         "county": "Fresno County",
         "fips": "06019",
         "_deepnote_index_column": 9
        }
       ]
      },
      "text/plain": "   county_code state_code                  county   fips\n0          001         06          Alameda County  06001\n1          003         06           Alpine County  06003\n2          005         06           Amador County  06005\n3          007         06            Butte County  06007\n4          009         06        Calaveras County  06009\n5          011         06           Colusa County  06011\n6          013         06     Contra Costa County  06013\n7          015         06        Del Norte County  06015\n8          017         06        El Dorado County  06017\n9          019         06           Fresno County  06019\n10         021         06            Glenn County  06021\n11         023         06         Humboldt County  06023\n12         025         06         Imperial County  06025\n13         027         06             Inyo County  06027\n14         029         06             Kern County  06029\n15         031         06            Kings County  06031\n16         033         06             Lake County  06033\n17         035         06           Lassen County  06035\n18         037         06      Los Angeles County  06037\n19         039         06           Madera County  06039\n20         041         06            Marin County  06041\n21         043         06         Mariposa County  06043\n22         045         06        Mendocino County  06045\n23         047         06           Merced County  06047\n24         049         06            Modoc County  06049\n25         051         06             Mono County  06051\n26         053         06         Monterey County  06053\n27         055         06             Napa County  06055\n28         057         06           Nevada County  06057\n29         059         06           Orange County  06059\n30         061         06           Placer County  06061\n31         063         06           Plumas County  06063\n32         065         06        Riverside County  06065\n33         067         06       Sacramento County  06067\n34         069         06       San Benito County  06069\n35         071         06   San Bernardino County  06071\n36         073         06        San Diego County  06073\n37         075         06    San Francisco County  06075\n38         077         06      San Joaquin County  06077\n39         079         06  San Luis Obispo County  06079\n40         081         06        San Mateo County  06081\n41         083         06    Santa Barbara County  06083\n42         085         06      Santa Clara County  06085\n43         087         06       Santa Cruz County  06087\n44         089         06           Shasta County  06089\n45         091         06           Sierra County  06091\n46         093         06         Siskiyou County  06093\n47         095         06           Solano County  06095\n48         097         06           Sonoma County  06097\n49         099         06       Stanislaus County  06099\n50         101         06           Sutter County  06101\n51         103         06           Tehama County  06103\n52         105         06          Trinity County  06105\n53         107         06           Tulare County  06107\n54         109         06         Tuolumne County  06109\n55         111         06          Ventura County  06111\n56         113         06             Yolo County  06113\n57         115         06             Yuba County  06115",
      "text/html": "<div>\n<style scoped>\n    .dataframe tbody tr th:only-of-type {\n        vertical-align: middle;\n    }\n\n    .dataframe tbody tr th {\n        vertical-align: top;\n    }\n\n    .dataframe thead th {\n        text-align: right;\n    }\n</style>\n<table border=\"1\" class=\"dataframe\">\n  <thead>\n    <tr style=\"text-align: right;\">\n      <th></th>\n      <th>county_code</th>\n      <th>state_code</th>\n      <th>county</th>\n      <th>fips</th>\n    </tr>\n  </thead>\n  <tbody>\n    <tr>\n      <th>0</th>\n      <td>001</td>\n      <td>06</td>\n      <td>Alameda County</td>\n      <td>06001</td>\n    </tr>\n    <tr>\n      <th>1</th>\n      <td>003</td>\n      <td>06</td>\n      <td>Alpine County</td>\n      <td>06003</td>\n    </tr>\n    <tr>\n      <th>2</th>\n      <td>005</td>\n      <td>06</td>\n      <td>Amador County</td>\n      <td>06005</td>\n    </tr>\n    <tr>\n      <th>3</th>\n      <td>007</td>\n      <td>06</td>\n      <td>Butte County</td>\n      <td>06007</td>\n    </tr>\n    <tr>\n      <th>4</th>\n      <td>009</td>\n      <td>06</td>\n      <td>Calaveras County</td>\n      <td>06009</td>\n    </tr>\n    <tr>\n      <th>5</th>\n      <td>011</td>\n      <td>06</td>\n      <td>Colusa County</td>\n      <td>06011</td>\n    </tr>\n    <tr>\n      <th>6</th>\n      <td>013</td>\n      <td>06</td>\n      <td>Contra Costa County</td>\n      <td>06013</td>\n    </tr>\n    <tr>\n      <th>7</th>\n      <td>015</td>\n      <td>06</td>\n      <td>Del Norte County</td>\n      <td>06015</td>\n    </tr>\n    <tr>\n      <th>8</th>\n      <td>017</td>\n      <td>06</td>\n      <td>El Dorado County</td>\n      <td>06017</td>\n    </tr>\n    <tr>\n      <th>9</th>\n      <td>019</td>\n      <td>06</td>\n      <td>Fresno County</td>\n      <td>06019</td>\n    </tr>\n    <tr>\n      <th>10</th>\n      <td>021</td>\n      <td>06</td>\n      <td>Glenn County</td>\n      <td>06021</td>\n    </tr>\n    <tr>\n      <th>11</th>\n      <td>023</td>\n      <td>06</td>\n      <td>Humboldt County</td>\n      <td>06023</td>\n    </tr>\n    <tr>\n      <th>12</th>\n      <td>025</td>\n      <td>06</td>\n      <td>Imperial County</td>\n      <td>06025</td>\n    </tr>\n    <tr>\n      <th>13</th>\n      <td>027</td>\n      <td>06</td>\n      <td>Inyo County</td>\n      <td>06027</td>\n    </tr>\n    <tr>\n      <th>14</th>\n      <td>029</td>\n      <td>06</td>\n      <td>Kern County</td>\n      <td>06029</td>\n    </tr>\n    <tr>\n      <th>15</th>\n      <td>031</td>\n      <td>06</td>\n      <td>Kings County</td>\n      <td>06031</td>\n    </tr>\n    <tr>\n      <th>16</th>\n      <td>033</td>\n      <td>06</td>\n      <td>Lake County</td>\n      <td>06033</td>\n    </tr>\n    <tr>\n      <th>17</th>\n      <td>035</td>\n      <td>06</td>\n      <td>Lassen County</td>\n      <td>06035</td>\n    </tr>\n    <tr>\n      <th>18</th>\n      <td>037</td>\n      <td>06</td>\n      <td>Los Angeles County</td>\n      <td>06037</td>\n    </tr>\n    <tr>\n      <th>19</th>\n      <td>039</td>\n      <td>06</td>\n      <td>Madera County</td>\n      <td>06039</td>\n    </tr>\n    <tr>\n      <th>20</th>\n      <td>041</td>\n      <td>06</td>\n      <td>Marin County</td>\n      <td>06041</td>\n    </tr>\n    <tr>\n      <th>21</th>\n      <td>043</td>\n      <td>06</td>\n      <td>Mariposa County</td>\n      <td>06043</td>\n    </tr>\n    <tr>\n      <th>22</th>\n      <td>045</td>\n      <td>06</td>\n      <td>Mendocino County</td>\n      <td>06045</td>\n    </tr>\n    <tr>\n      <th>23</th>\n      <td>047</td>\n      <td>06</td>\n      <td>Merced County</td>\n      <td>06047</td>\n    </tr>\n    <tr>\n      <th>24</th>\n      <td>049</td>\n      <td>06</td>\n      <td>Modoc County</td>\n      <td>06049</td>\n    </tr>\n    <tr>\n      <th>25</th>\n      <td>051</td>\n      <td>06</td>\n      <td>Mono County</td>\n      <td>06051</td>\n    </tr>\n    <tr>\n      <th>26</th>\n      <td>053</td>\n      <td>06</td>\n      <td>Monterey County</td>\n      <td>06053</td>\n    </tr>\n    <tr>\n      <th>27</th>\n      <td>055</td>\n      <td>06</td>\n      <td>Napa County</td>\n      <td>06055</td>\n    </tr>\n    <tr>\n      <th>28</th>\n      <td>057</td>\n      <td>06</td>\n      <td>Nevada County</td>\n      <td>06057</td>\n    </tr>\n    <tr>\n      <th>29</th>\n      <td>059</td>\n      <td>06</td>\n      <td>Orange County</td>\n      <td>06059</td>\n    </tr>\n    <tr>\n      <th>30</th>\n      <td>061</td>\n      <td>06</td>\n      <td>Placer County</td>\n      <td>06061</td>\n    </tr>\n    <tr>\n      <th>31</th>\n      <td>063</td>\n      <td>06</td>\n      <td>Plumas County</td>\n      <td>06063</td>\n    </tr>\n    <tr>\n      <th>32</th>\n      <td>065</td>\n      <td>06</td>\n      <td>Riverside County</td>\n      <td>06065</td>\n    </tr>\n    <tr>\n      <th>33</th>\n      <td>067</td>\n      <td>06</td>\n      <td>Sacramento County</td>\n      <td>06067</td>\n    </tr>\n    <tr>\n      <th>34</th>\n      <td>069</td>\n      <td>06</td>\n      <td>San Benito County</td>\n      <td>06069</td>\n    </tr>\n    <tr>\n      <th>35</th>\n      <td>071</td>\n      <td>06</td>\n      <td>San Bernardino County</td>\n      <td>06071</td>\n    </tr>\n    <tr>\n      <th>36</th>\n      <td>073</td>\n      <td>06</td>\n      <td>San Diego County</td>\n      <td>06073</td>\n    </tr>\n    <tr>\n      <th>37</th>\n      <td>075</td>\n      <td>06</td>\n      <td>San Francisco County</td>\n      <td>06075</td>\n    </tr>\n    <tr>\n      <th>38</th>\n      <td>077</td>\n      <td>06</td>\n      <td>San Joaquin County</td>\n      <td>06077</td>\n    </tr>\n    <tr>\n      <th>39</th>\n      <td>079</td>\n      <td>06</td>\n      <td>San Luis Obispo County</td>\n      <td>06079</td>\n    </tr>\n    <tr>\n      <th>40</th>\n      <td>081</td>\n      <td>06</td>\n      <td>San Mateo County</td>\n      <td>06081</td>\n    </tr>\n    <tr>\n      <th>41</th>\n      <td>083</td>\n      <td>06</td>\n      <td>Santa Barbara County</td>\n      <td>06083</td>\n    </tr>\n    <tr>\n      <th>42</th>\n      <td>085</td>\n      <td>06</td>\n      <td>Santa Clara County</td>\n      <td>06085</td>\n    </tr>\n    <tr>\n      <th>43</th>\n      <td>087</td>\n      <td>06</td>\n      <td>Santa Cruz County</td>\n      <td>06087</td>\n    </tr>\n    <tr>\n      <th>44</th>\n      <td>089</td>\n      <td>06</td>\n      <td>Shasta County</td>\n      <td>06089</td>\n    </tr>\n    <tr>\n      <th>45</th>\n      <td>091</td>\n      <td>06</td>\n      <td>Sierra County</td>\n      <td>06091</td>\n    </tr>\n    <tr>\n      <th>46</th>\n      <td>093</td>\n      <td>06</td>\n      <td>Siskiyou County</td>\n      <td>06093</td>\n    </tr>\n    <tr>\n      <th>47</th>\n      <td>095</td>\n      <td>06</td>\n      <td>Solano County</td>\n      <td>06095</td>\n    </tr>\n    <tr>\n      <th>48</th>\n      <td>097</td>\n      <td>06</td>\n      <td>Sonoma County</td>\n      <td>06097</td>\n    </tr>\n    <tr>\n      <th>49</th>\n      <td>099</td>\n      <td>06</td>\n      <td>Stanislaus County</td>\n      <td>06099</td>\n    </tr>\n    <tr>\n      <th>50</th>\n      <td>101</td>\n      <td>06</td>\n      <td>Sutter County</td>\n      <td>06101</td>\n    </tr>\n    <tr>\n      <th>51</th>\n      <td>103</td>\n      <td>06</td>\n      <td>Tehama County</td>\n      <td>06103</td>\n    </tr>\n    <tr>\n      <th>52</th>\n      <td>105</td>\n      <td>06</td>\n      <td>Trinity County</td>\n      <td>06105</td>\n    </tr>\n    <tr>\n      <th>53</th>\n      <td>107</td>\n      <td>06</td>\n      <td>Tulare County</td>\n      <td>06107</td>\n    </tr>\n    <tr>\n      <th>54</th>\n      <td>109</td>\n      <td>06</td>\n      <td>Tuolumne County</td>\n      <td>06109</td>\n    </tr>\n    <tr>\n      <th>55</th>\n      <td>111</td>\n      <td>06</td>\n      <td>Ventura County</td>\n      <td>06111</td>\n    </tr>\n    <tr>\n      <th>56</th>\n      <td>113</td>\n      <td>06</td>\n      <td>Yolo County</td>\n      <td>06113</td>\n    </tr>\n    <tr>\n      <th>57</th>\n      <td>115</td>\n      <td>06</td>\n      <td>Yuba County</td>\n      <td>06115</td>\n    </tr>\n  </tbody>\n</table>\n</div>"
     },
     "metadata": {}
    }
   ],
   "execution_count": null
  },
  {
   "cell_type": "code",
   "metadata": {
    "tags": [],
    "cell_id": "00003-40207966-adce-4338-919f-fe9d4fcbde57",
    "deepnote_to_be_reexecuted": false,
    "source_hash": "d7bf93",
    "execution_start": 1640830260407,
    "execution_millis": 2241,
    "deepnote_cell_type": "code"
   },
   "source": "#Get stations for each county\nca_counties = ca_counties.head(3)\nca_counties['stations'] = ca_counties.apply(lambda x: get_stations(x['fips']),axis=1)\n#ca_counties['stations'] = ca_counties.apply(lambda x: get_stations('06001'),axis=1)\nca_counties",
   "outputs": [
    {
     "output_type": "execute_result",
     "execution_count": 44,
     "data": {
      "application/vnd.deepnote.dataframe.v3+json": {
       "column_count": 5,
       "row_count": 3,
       "columns": [
        {
         "name": "county_code",
         "dtype": "object",
         "stats": {
          "unique_count": 3,
          "nan_count": 0,
          "categories": [
           {
            "name": "001",
            "count": 1
           },
           {
            "name": "003",
            "count": 1
           },
           {
            "name": "005",
            "count": 1
           }
          ]
         }
        },
        {
         "name": "state_code",
         "dtype": "object",
         "stats": {
          "unique_count": 1,
          "nan_count": 0,
          "categories": [
           {
            "name": "06",
            "count": 3
           }
          ]
         }
        },
        {
         "name": "county",
         "dtype": "object",
         "stats": {
          "unique_count": 3,
          "nan_count": 0,
          "categories": [
           {
            "name": "Alameda County",
            "count": 1
           },
           {
            "name": "Alpine County",
            "count": 1
           },
           {
            "name": "Amador County",
            "count": 1
           }
          ]
         }
        },
        {
         "name": "fips",
         "dtype": "object",
         "stats": {
          "unique_count": 3,
          "nan_count": 0,
          "categories": [
           {
            "name": "06001",
            "count": 1
           },
           {
            "name": "06003",
            "count": 1
           },
           {
            "name": "06005",
            "count": 1
           }
          ]
         }
        },
        {
         "name": "stations",
         "dtype": "object",
         "stats": {
          "unique_count": 3,
          "nan_count": 0,
          "categories": [
           {
            "name": "['COOP:040163', 'COOP:040693', 'COOP:043244', 'COOP:043861', 'COOP:043863', 'COOP:044995', 'COOP:044997', 'COOP:046144', 'COOP:046332', 'COOP:046333', 'COOP:046335', 'COOP:046336', 'COOP:049001', 'COOP:049185', 'GHCND:US1CAAL0001', 'GHCND:US1CAAL0002', 'GHCND:US1CAAL0003', 'GHCND:US1CAAL0004', 'GHCND:US1CAAL0006', 'GHCND:US1CAAL0007', 'GHCND:US1CAAL0008', 'GHCND:US1CAAL0011', 'GHCND:US1CAAL0012', 'GHCND:US1CAAL0015', 'GHCND:US1CAAL0016', 'GHCND:US1CAAL0017', 'GHCND:US1CAAL0018', 'GHCND:US1CAAL0020', 'GHCND:US1CAAL0022', 'GHCND:US1CAAL0024', 'GHCND:US1CAAL0025', 'GHCND:US1CAAL0030', 'GHCND:US1CAAL0031', 'GHCND:US1CAAL0032', 'GHCND:US1CAAL0033', 'GHCND:US1CAAL0034', 'GHCND:US1CAAL0035', 'GHCND:US1CAAL0039', 'GHCND:US1CAAL0045', 'GHCND:US1CAAL0050', 'GHCND:US1CAAL0052', 'GHCND:US1CAAL0053', 'GHCND:USC00040693', 'GHCND:USC00043244', 'GHCND:USC00043862', 'GHCND:USC00043863', 'GHCND:USC00044997', 'GHCND:USC00046144', 'GHCND:USC00046201', 'GHCND:USC00046332', 'GHCND:USC00046333', 'GHCND:USC00046336', 'GHCND:USC00049001', 'GHCND:USC00049185', 'GHCND:USR0000CCLV', 'GHCND:USR0000CLVR', 'GHCND:USR0000COKS', 'GHCND:USR0000CRSP', 'GHCND:USW00023230', 'GHCND:USW00023239', 'GHCND:USW00023285', 'GHCND:USW00093211', 'GHCND:USW00093228', 'NEXRAD:KBBX', 'NEXRAD:KDAX', 'NEXRAD:KHNX', 'NEXRAD:KMUX', 'WBAN:23230', 'WBAN:23239', 'WBAN:23285', 'WBAN:93228']",
            "count": 1
           },
           {
            "name": "['COOP:045356', 'COOP:048781', 'COOP:049105', 'COOP:049775', 'GHCND:USC00045356', 'GHCND:USC00048781', 'GHCND:USC00049105', 'GHCND:USC00049775', 'GHCND:USR0000CMRK', 'GHCND:USS0019L05S', 'GHCND:USS0019L06S', 'GHCND:USS0019L19S', 'GHCND:USS0019L39S', 'GHCND:USS0019L40S', 'GHCND:USS0019L41S', 'GHCND:USS0019L43S', 'GHCND:USS0019L44S', 'GHCND:USS0019L45S', 'NEXRAD:KBBX', 'NEXRAD:KDAX', 'NEXRAD:KHNX', 'NEXRAD:KMUX', 'NEXRAD:KRGX']",
            "count": 1
           },
           {
            "name": "['COOP:042728', 'COOP:043038', 'COOP:044283', 'COOP:044497', 'COOP:046936', 'COOP:047000', 'COOP:047689', 'COOP:048713', 'COOP:048928', 'GHCND:US1CAAM0002', 'GHCND:US1CAAM0003', 'GHCND:US1CAAM0004', 'GHCND:US1CAAM0005', 'GHCND:US1CAAM0006', 'GHCND:US1CAAM0007', 'GHCND:US1CAAM0009', 'GHCND:US1CAAM0010', 'GHCND:US1CAAM0011', 'GHCND:US1CAAM0013', 'GHCND:US1CAAM0014', 'GHCND:US1CAAM0016', 'GHCND:USC00042728', 'GHCND:USC00043038', 'GHCND:USC00044283', 'GHCND:USC00046936', 'GHCND:USC00047000', 'GHCND:USC00047689', 'GHCND:USC00048713', 'GHCND:USC00048928', 'GHCND:USR0000CBVR', 'GHCND:USR0000CMTZ', 'NEXRAD:KBBX', 'NEXRAD:KDAX', 'NEXRAD:KMUX', 'NEXRAD:KRGX']",
            "count": 1
           }
          ]
         }
        },
        {
         "name": "_deepnote_index_column",
         "dtype": "int64"
        }
       ],
       "rows": [
        {
         "county_code": "001",
         "state_code": "06",
         "county": "Alameda County",
         "fips": "06001",
         "stations": "['COOP:040163', 'COOP:040693', 'COOP:043244', 'COOP:043861', 'COOP:043863', 'COOP:044995', 'COOP:04…",
         "_deepnote_index_column": 0
        },
        {
         "county_code": "003",
         "state_code": "06",
         "county": "Alpine County",
         "fips": "06003",
         "stations": "['COOP:045356', 'COOP:048781', 'COOP:049105', 'COOP:049775', 'GHCND:USC00045356', 'GHCND:USC0004878…",
         "_deepnote_index_column": 1
        },
        {
         "county_code": "005",
         "state_code": "06",
         "county": "Amador County",
         "fips": "06005",
         "stations": "['COOP:042728', 'COOP:043038', 'COOP:044283', 'COOP:044497', 'COOP:046936', 'COOP:047000', 'COOP:04…",
         "_deepnote_index_column": 2
        }
       ]
      },
      "text/plain": "  county_code state_code          county   fips  \\\n0         001         06  Alameda County  06001   \n1         003         06   Alpine County  06003   \n2         005         06   Amador County  06005   \n\n                                            stations  \n0  [COOP:040163, COOP:040693, COOP:043244, COOP:0...  \n1  [COOP:045356, COOP:048781, COOP:049105, COOP:0...  \n2  [COOP:042728, COOP:043038, COOP:044283, COOP:0...  ",
      "text/html": "<div>\n<style scoped>\n    .dataframe tbody tr th:only-of-type {\n        vertical-align: middle;\n    }\n\n    .dataframe tbody tr th {\n        vertical-align: top;\n    }\n\n    .dataframe thead th {\n        text-align: right;\n    }\n</style>\n<table border=\"1\" class=\"dataframe\">\n  <thead>\n    <tr style=\"text-align: right;\">\n      <th></th>\n      <th>county_code</th>\n      <th>state_code</th>\n      <th>county</th>\n      <th>fips</th>\n      <th>stations</th>\n    </tr>\n  </thead>\n  <tbody>\n    <tr>\n      <th>0</th>\n      <td>001</td>\n      <td>06</td>\n      <td>Alameda County</td>\n      <td>06001</td>\n      <td>[COOP:040163, COOP:040693, COOP:043244, COOP:0...</td>\n    </tr>\n    <tr>\n      <th>1</th>\n      <td>003</td>\n      <td>06</td>\n      <td>Alpine County</td>\n      <td>06003</td>\n      <td>[COOP:045356, COOP:048781, COOP:049105, COOP:0...</td>\n    </tr>\n    <tr>\n      <th>2</th>\n      <td>005</td>\n      <td>06</td>\n      <td>Amador County</td>\n      <td>06005</td>\n      <td>[COOP:042728, COOP:043038, COOP:044283, COOP:0...</td>\n    </tr>\n  </tbody>\n</table>\n</div>"
     },
     "metadata": {}
    }
   ],
   "execution_count": null
  },
  {
   "cell_type": "code",
   "metadata": {
    "tags": [],
    "cell_id": "00005-30ee325b-5519-4167-b00f-2962f63a38ff",
    "deepnote_to_be_reexecuted": false,
    "source_hash": "398029a2",
    "execution_start": 1640830641869,
    "execution_millis": 24,
    "deepnote_output_heights": [
     21.1875
    ],
    "deepnote_cell_type": "code"
   },
   "source": "#Make sure we haven't exceeded the limit on stations\nca_counties['num_stations']= ca_counties.apply(lambda x: len(x['stations']),axis=1)\nca_counties['num_stations'].max()",
   "outputs": [
    {
     "output_type": "execute_result",
     "execution_count": 56,
     "data": {
      "text/plain": "71"
     },
     "metadata": {}
    }
   ],
   "execution_count": null
  },
  {
   "cell_type": "code",
   "metadata": {
    "tags": [],
    "cell_id": "00006-f0ff2eec-bd95-4ff3-bf98-efd999817379",
    "deepnote_cell_type": "code"
   },
   "source": "#Loop through each county and pull back the weather stats, then add to dataframe\n#Need to build this",
   "outputs": [],
   "execution_count": null
  },
  {
   "cell_type": "code",
   "metadata": {
    "tags": [],
    "cell_id": "00002-bba7fa45-3c12-4db8-ba04-2a4b176c881c",
    "deepnote_to_be_reexecuted": false,
    "source_hash": "1628f1d9",
    "execution_start": 1640833149339,
    "execution_millis": 70,
    "deepnote_output_heights": [
     611,
     481.6875
    ],
    "deepnote_cell_type": "code"
   },
   "source": "#Work on figuring out correct API request to get back the variables we want\n#Using this code block to see what variables are available - it appears to be different based on location\n\n#What data types are available:\nr = requests.get('https://www.ncdc.noaa.gov/cdo-web/api/v2/datatypes?datasetid=GSOM&limit=1000&stationid=GHCND:US1CAAL0003', headers={'token':Token})\n#r = requests.get('https://www.ncdc.noaa.gov/cdo-web/api/v2/datatypes?datasetid=GSOY&limit=1000&stationid=COOP:040163', headers={'token':Token})\n\n\nd = json.loads(r.text)\nd\n\n",
   "outputs": [
    {
     "output_type": "execute_result",
     "execution_count": 76,
     "data": {
      "text/plain": "{'metadata': {'resultset': {'offset': 1, 'count': 9, 'limit': 1000}},\n 'results': [{'mindate': '1781-01-01',\n   'maxdate': '2021-11-01',\n   'name': 'Number of days with greater than or equal to 0.1 inch of precipitation',\n   'datacoverage': 1,\n   'id': 'DP01'},\n  {'mindate': '1781-01-01',\n   'maxdate': '2021-11-01',\n   'name': 'Number of days with greater than or equal to 1.0 inch of precipitation',\n   'datacoverage': 1,\n   'id': 'DP10'},\n  {'mindate': '1840-05-01',\n   'maxdate': '2021-11-01',\n   'name': 'Number days with snow depth > 1 inch.',\n   'datacoverage': 1,\n   'id': 'DSNW'},\n  {'mindate': '1840-05-01',\n   'maxdate': '2021-11-01',\n   'name': 'Day the extreme maximum daily snowfall for the period occurred.',\n   'datacoverage': 1,\n   'id': 'DYSN'},\n  {'mindate': '1781-01-01',\n   'maxdate': '2021-11-01',\n   'name': 'Day Extreme maximum daily precipitation for the period.',\n   'datacoverage': 1,\n   'id': 'DYXP'},\n  {'mindate': '1840-05-01',\n   'maxdate': '2021-11-01',\n   'name': 'Extreme maximum snowfall for the period.',\n   'datacoverage': 1,\n   'id': 'EMSN'},\n  {'mindate': '1781-01-01',\n   'maxdate': '2021-11-01',\n   'name': 'Extreme maximum precipitation for the period.',\n   'datacoverage': 1,\n   'id': 'EMXP'},\n  {'mindate': '1781-01-01',\n   'maxdate': '2021-11-01',\n   'name': 'Precipitation',\n   'datacoverage': 1,\n   'id': 'PRCP'},\n  {'mindate': '1840-05-01',\n   'maxdate': '2021-11-01',\n   'name': 'Snowfall',\n   'datacoverage': 1,\n   'id': 'SNOW'}]}"
     },
     "metadata": {}
    }
   ],
   "execution_count": null
  },
  {
   "cell_type": "code",
   "metadata": {
    "tags": [],
    "cell_id": "00002-20bbc2c0-05ee-4b2b-a1f6-b86276990a98",
    "deepnote_to_be_reexecuted": false,
    "source_hash": "49125000",
    "execution_start": 1640832331883,
    "execution_millis": 615,
    "deepnote_cell_type": "code"
   },
   "source": "#initialize lists to store data\ndates_temp = []\ndates_prcp = []\ntemps = []\nprcp = []\nmax_temps = []\nmin_temps = []\n\n#for each year from 2014-2018 ...\nfor year in range(2014, 2015):\n    year = str(year)\n    print('working on year '+year)\n    \n    #make the api call\n    #r = requests.get('https://www.ncdc.noaa.gov/cdo-web/api/v2/data?datasetid=GSOY&datatypeid=TAVG&limit=1000&stationid=GHCND:USW00023129&startdate='+year+'-01-01&enddate='+year+'-12-31', headers={'token':Token})\n    #r = requests.get('https://www.ncdc.noaa.gov/cdo-web/api/v2/data?datasetid=GSOY&limit=1000&stationid=GHCND:USW00023129&startdate='+year+'-01-01&enddate='+year+'-12-31', headers={'token':Token})\n    r = requests.get('https://www.ncdc.noaa.gov/cdo-web/api/v2/data?datasetid=GSOM&limit=1000&stationid=GHCND:US1CAAL0003&startdate='+year+'-01-01&enddate='+year+'-12-31', headers={'token':Token})\n#     'GHCND:US1CAAL0003',\n#  'GHCND:US1CAAL0004',\n    #r = requests.get('https://www.ncdc.noaa.gov/cdo-web/api/v2/data?datasetid=GSOM&datatypeid=TAVG&limit=1000&stationid=GHCND:USW00023129&startdate='+year+'-01-01&enddate='+year+'-12-31', headers={'token':Token})\n    #r = requests.get('https://www.ncdc.noaa.gov/cdo-web/api/v2/data?datasetid=GSOM&&datatypeid=TAVG&locations?locationcategoryid=CNTY&startdate='+year+'-01-01&enddate='+year+'-12-31', headers={'token':Token})\n    #r = requests.get('https://www.ncdc.noaa.gov/cdo-web/api/v2/data?datasetid=GSOM&locations?locationid=CNTY&limit=1000&startdate='+year+'-01-01&enddate='+year+'-12-31', headers={'token':Token})\n    #r = requests.get('https://www.ncdc.noaa.gov/cdo-web/api/v2/locations?locationid=ST&datasetid=GSOM', headers={'token':Token})\n    #r = requests.get('https://www.ncdc.noaa.gov/cdo-web/api/v2/data?datasetid=GSOM&datatypeid=TAVG&limit=1000&locationnid=CNTY:FIPS:06003&startdate='+year+'-01-01&enddate='+year+'-12-31', headers={'token':Token})\n   #https://www.ncdc.noaa.gov/cdo-web/api/v2/data?datasetid=GSOM&stationid=GHCND:USC00010008&units=standard&startdate=2010-05-01&enddate=2010-05-31\n    #load the api response as a json\n    d = json.loads(r.text)\n    #get all items in the response which are average temperature readings\n    avg_temps = [item for item in d['results'] if item['datatype']=='TAVG']\n    #get all items in the response which are max temperature readings\n    max_temps = [item for item in d['results'] if item['datatype']=='TMAX']\n    #get all items in the response which are min temperature readings\n    min_temps = [item for item in d['results'] if item['datatype']=='TMIN']\n    #get all items in the response which are precipitation readings\n    prcp = [item for item in d['results'] if item['datatype']=='PRCP']\n    #get the actual average temperature from all average temperature readings\n    temps += [item['value'] for item in avg_temps]",
   "outputs": [
    {
     "name": "stdout",
     "text": "working on year 2014\n",
     "output_type": "stream",
     "data": {}
    }
   ],
   "execution_count": null
  },
  {
   "cell_type": "code",
   "metadata": {
    "tags": [],
    "cell_id": "00003-e735f941-b2f3-4313-82fb-c7e33073cf2d",
    "deepnote_to_be_reexecuted": false,
    "source_hash": "772cd958",
    "execution_start": 1640832338212,
    "execution_millis": 33,
    "deepnote_output_heights": [
     611,
     611
    ],
    "deepnote_cell_type": "code"
   },
   "source": "#avg_temps\nd['results']\n\n# #initialize dataframe\n# df_temp = pd.DataFrame()\n\n# #populate date and average temperature fields (cast string date to datetime and convert temperature from tenths of Celsius to Fahrenheit)\n# df_temp['date'] = [datetime.strptime(d, \"%Y-%m-%dT%H:%M:%S\") for d in dates_temp]\n# df_temp['avgTemp'] = [float(v)/10.0*1.8 + 32 for v in temps]\n\n# df_temp",
   "outputs": [
    {
     "output_type": "execute_result",
     "execution_count": 69,
     "data": {
      "text/plain": "[{'date': '2014-01-01T00:00:00',\n  'datatype': 'DP01',\n  'station': 'GHCND:US1CAAL0003',\n  'attributes': ',N',\n  'value': 5},\n {'date': '2014-01-01T00:00:00',\n  'datatype': 'DP10',\n  'station': 'GHCND:US1CAAL0003',\n  'attributes': ',N',\n  'value': 0},\n {'date': '2014-01-01T00:00:00',\n  'datatype': 'DP1X',\n  'station': 'GHCND:US1CAAL0003',\n  'attributes': ',N',\n  'value': 0},\n {'date': '2014-01-01T00:00:00',\n  'datatype': 'DSNW',\n  'station': 'GHCND:US1CAAL0003',\n  'attributes': '4,N',\n  'value': 0},\n {'date': '2014-01-01T00:00:00',\n  'datatype': 'DYSN',\n  'station': 'GHCND:US1CAAL0003',\n  'attributes': '+,4,N',\n  'value': 20140131},\n {'date': '2014-01-01T00:00:00',\n  'datatype': 'DYXP',\n  'station': 'GHCND:US1CAAL0003',\n  'attributes': '+,,N',\n  'value': 20140130},\n {'date': '2014-01-01T00:00:00',\n  'datatype': 'EMSN',\n  'station': 'GHCND:US1CAAL0003',\n  'attributes': '4,,N,31,+',\n  'value': 0},\n {'date': '2014-01-01T00:00:00',\n  'datatype': 'EMXP',\n  'station': 'GHCND:US1CAAL0003',\n  'attributes': ',,N,30,+',\n  'value': 1},\n {'date': '2014-01-01T00:00:00',\n  'datatype': 'PRCP',\n  'station': 'GHCND:US1CAAL0003',\n  'attributes': ',,,N',\n  'value': 3.8},\n {'date': '2014-01-01T00:00:00',\n  'datatype': 'SNOW',\n  'station': 'GHCND:US1CAAL0003',\n  'attributes': '4,,,N',\n  'value': 0},\n {'date': '2014-02-01T00:00:00',\n  'datatype': 'DP01',\n  'station': 'GHCND:US1CAAL0003',\n  'attributes': ',N',\n  'value': 14},\n {'date': '2014-02-01T00:00:00',\n  'datatype': 'DP10',\n  'station': 'GHCND:US1CAAL0003',\n  'attributes': ',N',\n  'value': 8},\n {'date': '2014-02-01T00:00:00',\n  'datatype': 'DP1X',\n  'station': 'GHCND:US1CAAL0003',\n  'attributes': ',N',\n  'value': 1},\n {'date': '2014-02-01T00:00:00',\n  'datatype': 'DYXP',\n  'station': 'GHCND:US1CAAL0003',\n  'attributes': ',,N',\n  'value': 20140228},\n {'date': '2014-02-01T00:00:00',\n  'datatype': 'EMXP',\n  'station': 'GHCND:US1CAAL0003',\n  'attributes': ',,N,28,',\n  'value': 25.7},\n {'date': '2014-02-01T00:00:00',\n  'datatype': 'PRCP',\n  'station': 'GHCND:US1CAAL0003',\n  'attributes': ',,,N',\n  'value': 123.8},\n {'date': '2014-03-01T00:00:00',\n  'datatype': 'DP01',\n  'station': 'GHCND:US1CAAL0003',\n  'attributes': ',N',\n  'value': 10},\n {'date': '2014-03-01T00:00:00',\n  'datatype': 'DP10',\n  'station': 'GHCND:US1CAAL0003',\n  'attributes': ',N',\n  'value': 6},\n {'date': '2014-03-01T00:00:00',\n  'datatype': 'DP1X',\n  'station': 'GHCND:US1CAAL0003',\n  'attributes': ',N',\n  'value': 0},\n {'date': '2014-03-01T00:00:00',\n  'datatype': 'DYXP',\n  'station': 'GHCND:US1CAAL0003',\n  'attributes': ',,N',\n  'value': 20140330},\n {'date': '2014-03-01T00:00:00',\n  'datatype': 'EMXP',\n  'station': 'GHCND:US1CAAL0003',\n  'attributes': ',,N,30,',\n  'value': 16.8},\n {'date': '2014-03-01T00:00:00',\n  'datatype': 'PRCP',\n  'station': 'GHCND:US1CAAL0003',\n  'attributes': ',,,N',\n  'value': 60},\n {'date': '2014-04-01T00:00:00',\n  'datatype': 'DP01',\n  'station': 'GHCND:US1CAAL0003',\n  'attributes': '5,N',\n  'value': 4},\n {'date': '2014-04-01T00:00:00',\n  'datatype': 'DP10',\n  'station': 'GHCND:US1CAAL0003',\n  'attributes': '5,N',\n  'value': 4},\n {'date': '2014-04-01T00:00:00',\n  'datatype': 'DP1X',\n  'station': 'GHCND:US1CAAL0003',\n  'attributes': '5,N',\n  'value': 0},\n {'date': '2014-04-01T00:00:00',\n  'datatype': 'DYXP',\n  'station': 'GHCND:US1CAAL0003',\n  'attributes': ',5,N',\n  'value': 20140401},\n {'date': '2014-04-01T00:00:00',\n  'datatype': 'EMXP',\n  'station': 'GHCND:US1CAAL0003',\n  'attributes': '5,,N,01,',\n  'value': 18},\n {'date': '2014-04-01T00:00:00',\n  'datatype': 'PRCP',\n  'station': 'GHCND:US1CAAL0003',\n  'attributes': ',a,,N',\n  'value': 67.2},\n {'date': '2014-05-01T00:00:00',\n  'datatype': 'DP01',\n  'station': 'GHCND:US1CAAL0003',\n  'attributes': ',N',\n  'value': 0},\n {'date': '2014-05-01T00:00:00',\n  'datatype': 'DP10',\n  'station': 'GHCND:US1CAAL0003',\n  'attributes': ',N',\n  'value': 0},\n {'date': '2014-05-01T00:00:00',\n  'datatype': 'DP1X',\n  'station': 'GHCND:US1CAAL0003',\n  'attributes': ',N',\n  'value': 0},\n {'date': '2014-05-01T00:00:00',\n  'datatype': 'DSNW',\n  'station': 'GHCND:US1CAAL0003',\n  'attributes': ',N',\n  'value': 0},\n {'date': '2014-05-01T00:00:00',\n  'datatype': 'DYSN',\n  'station': 'GHCND:US1CAAL0003',\n  'attributes': '+,,N',\n  'value': 20140531},\n {'date': '2014-05-01T00:00:00',\n  'datatype': 'DYXP',\n  'station': 'GHCND:US1CAAL0003',\n  'attributes': '+,,N',\n  'value': 20140531},\n {'date': '2014-05-01T00:00:00',\n  'datatype': 'EMSN',\n  'station': 'GHCND:US1CAAL0003',\n  'attributes': ',,N,31,+',\n  'value': 0},\n {'date': '2014-05-01T00:00:00',\n  'datatype': 'EMXP',\n  'station': 'GHCND:US1CAAL0003',\n  'attributes': ',,N,31,+',\n  'value': 0},\n {'date': '2014-05-01T00:00:00',\n  'datatype': 'PRCP',\n  'station': 'GHCND:US1CAAL0003',\n  'attributes': ',,,N',\n  'value': 0},\n {'date': '2014-05-01T00:00:00',\n  'datatype': 'SNOW',\n  'station': 'GHCND:US1CAAL0003',\n  'attributes': ',,,N',\n  'value': 0},\n {'date': '2014-06-01T00:00:00',\n  'datatype': 'DP01',\n  'station': 'GHCND:US1CAAL0003',\n  'attributes': ',N',\n  'value': 1},\n {'date': '2014-06-01T00:00:00',\n  'datatype': 'DP10',\n  'station': 'GHCND:US1CAAL0003',\n  'attributes': ',N',\n  'value': 0},\n {'date': '2014-06-01T00:00:00',\n  'datatype': 'DP1X',\n  'station': 'GHCND:US1CAAL0003',\n  'attributes': ',N',\n  'value': 0},\n {'date': '2014-06-01T00:00:00',\n  'datatype': 'DSNW',\n  'station': 'GHCND:US1CAAL0003',\n  'attributes': '1,N',\n  'value': 0},\n {'date': '2014-06-01T00:00:00',\n  'datatype': 'DYSN',\n  'station': 'GHCND:US1CAAL0003',\n  'attributes': '+,1,N',\n  'value': 20140630},\n {'date': '2014-06-01T00:00:00',\n  'datatype': 'DYXP',\n  'station': 'GHCND:US1CAAL0003',\n  'attributes': ',,N',\n  'value': 20140626},\n {'date': '2014-06-01T00:00:00',\n  'datatype': 'EMSN',\n  'station': 'GHCND:US1CAAL0003',\n  'attributes': '1,,N,30,+',\n  'value': 0},\n {'date': '2014-06-01T00:00:00',\n  'datatype': 'EMXP',\n  'station': 'GHCND:US1CAAL0003',\n  'attributes': ',,N,26,',\n  'value': 0.5},\n {'date': '2014-06-01T00:00:00',\n  'datatype': 'PRCP',\n  'station': 'GHCND:US1CAAL0003',\n  'attributes': ',,,N',\n  'value': 0.5},\n {'date': '2014-06-01T00:00:00',\n  'datatype': 'SNOW',\n  'station': 'GHCND:US1CAAL0003',\n  'attributes': '1,,,N',\n  'value': 0},\n {'date': '2014-07-01T00:00:00',\n  'datatype': 'DP01',\n  'station': 'GHCND:US1CAAL0003',\n  'attributes': ',N',\n  'value': 0},\n {'date': '2014-07-01T00:00:00',\n  'datatype': 'DP10',\n  'station': 'GHCND:US1CAAL0003',\n  'attributes': ',N',\n  'value': 0},\n {'date': '2014-07-01T00:00:00',\n  'datatype': 'DP1X',\n  'station': 'GHCND:US1CAAL0003',\n  'attributes': ',N',\n  'value': 0},\n {'date': '2014-07-01T00:00:00',\n  'datatype': 'DSNW',\n  'station': 'GHCND:US1CAAL0003',\n  'attributes': '1,N',\n  'value': 0},\n {'date': '2014-07-01T00:00:00',\n  'datatype': 'DYSN',\n  'station': 'GHCND:US1CAAL0003',\n  'attributes': '+,1,N',\n  'value': 20140731},\n {'date': '2014-07-01T00:00:00',\n  'datatype': 'DYXP',\n  'station': 'GHCND:US1CAAL0003',\n  'attributes': ',,N',\n  'value': 20140723},\n {'date': '2014-07-01T00:00:00',\n  'datatype': 'EMSN',\n  'station': 'GHCND:US1CAAL0003',\n  'attributes': '1,,N,31,+',\n  'value': 0},\n {'date': '2014-07-01T00:00:00',\n  'datatype': 'EMXP',\n  'station': 'GHCND:US1CAAL0003',\n  'attributes': ',T,N,23,',\n  'value': 0},\n {'date': '2014-07-01T00:00:00',\n  'datatype': 'PRCP',\n  'station': 'GHCND:US1CAAL0003',\n  'attributes': ',T,,N',\n  'value': 0},\n {'date': '2014-07-01T00:00:00',\n  'datatype': 'SNOW',\n  'station': 'GHCND:US1CAAL0003',\n  'attributes': '1,,,N',\n  'value': 0},\n {'date': '2014-08-01T00:00:00',\n  'datatype': 'DP01',\n  'station': 'GHCND:US1CAAL0003',\n  'attributes': ',N',\n  'value': 1},\n {'date': '2014-08-01T00:00:00',\n  'datatype': 'DP10',\n  'station': 'GHCND:US1CAAL0003',\n  'attributes': ',N',\n  'value': 0},\n {'date': '2014-08-01T00:00:00',\n  'datatype': 'DP1X',\n  'station': 'GHCND:US1CAAL0003',\n  'attributes': ',N',\n  'value': 0},\n {'date': '2014-08-01T00:00:00',\n  'datatype': 'DSNW',\n  'station': 'GHCND:US1CAAL0003',\n  'attributes': '1,N',\n  'value': 0},\n {'date': '2014-08-01T00:00:00',\n  'datatype': 'DYSN',\n  'station': 'GHCND:US1CAAL0003',\n  'attributes': '+,1,N',\n  'value': 20140831},\n {'date': '2014-08-01T00:00:00',\n  'datatype': 'DYXP',\n  'station': 'GHCND:US1CAAL0003',\n  'attributes': ',,N',\n  'value': 20140806},\n {'date': '2014-08-01T00:00:00',\n  'datatype': 'EMSN',\n  'station': 'GHCND:US1CAAL0003',\n  'attributes': '1,,N,31,+',\n  'value': 0},\n {'date': '2014-08-01T00:00:00',\n  'datatype': 'EMXP',\n  'station': 'GHCND:US1CAAL0003',\n  'attributes': ',,N,06,',\n  'value': 0.8},\n {'date': '2014-08-01T00:00:00',\n  'datatype': 'PRCP',\n  'station': 'GHCND:US1CAAL0003',\n  'attributes': ',,,N',\n  'value': 0.8},\n {'date': '2014-08-01T00:00:00',\n  'datatype': 'SNOW',\n  'station': 'GHCND:US1CAAL0003',\n  'attributes': '1,,,N',\n  'value': 0},\n {'date': '2014-09-01T00:00:00',\n  'datatype': 'DP01',\n  'station': 'GHCND:US1CAAL0003',\n  'attributes': ',N',\n  'value': 5},\n {'date': '2014-09-01T00:00:00',\n  'datatype': 'DP10',\n  'station': 'GHCND:US1CAAL0003',\n  'attributes': ',N',\n  'value': 2},\n {'date': '2014-09-01T00:00:00',\n  'datatype': 'DP1X',\n  'station': 'GHCND:US1CAAL0003',\n  'attributes': ',N',\n  'value': 0},\n {'date': '2014-09-01T00:00:00',\n  'datatype': 'DSNW',\n  'station': 'GHCND:US1CAAL0003',\n  'attributes': '5,N',\n  'value': 0},\n {'date': '2014-09-01T00:00:00',\n  'datatype': 'DYSN',\n  'station': 'GHCND:US1CAAL0003',\n  'attributes': '+,5,N',\n  'value': 20140930},\n {'date': '2014-09-01T00:00:00',\n  'datatype': 'DYXP',\n  'station': 'GHCND:US1CAAL0003',\n  'attributes': ',,N',\n  'value': 20140925},\n {'date': '2014-09-01T00:00:00',\n  'datatype': 'EMSN',\n  'station': 'GHCND:US1CAAL0003',\n  'attributes': '5,,N,30,+',\n  'value': 0},\n {'date': '2014-09-01T00:00:00',\n  'datatype': 'EMXP',\n  'station': 'GHCND:US1CAAL0003',\n  'attributes': ',,N,25,',\n  'value': 10.7},\n {'date': '2014-09-01T00:00:00',\n  'datatype': 'PRCP',\n  'station': 'GHCND:US1CAAL0003',\n  'attributes': ',,,N',\n  'value': 16},\n {'date': '2014-09-01T00:00:00',\n  'datatype': 'SNOW',\n  'station': 'GHCND:US1CAAL0003',\n  'attributes': '5,,,N',\n  'value': 0},\n {'date': '2014-10-01T00:00:00',\n  'datatype': 'DP01',\n  'station': 'GHCND:US1CAAL0003',\n  'attributes': ',N',\n  'value': 4},\n {'date': '2014-10-01T00:00:00',\n  'datatype': 'DP10',\n  'station': 'GHCND:US1CAAL0003',\n  'attributes': ',N',\n  'value': 2},\n {'date': '2014-10-01T00:00:00',\n  'datatype': 'DP1X',\n  'station': 'GHCND:US1CAAL0003',\n  'attributes': ',N',\n  'value': 0},\n {'date': '2014-10-01T00:00:00',\n  'datatype': 'DSNW',\n  'station': 'GHCND:US1CAAL0003',\n  'attributes': '3,N',\n  'value': 0},\n {'date': '2014-10-01T00:00:00',\n  'datatype': 'DYSN',\n  'station': 'GHCND:US1CAAL0003',\n  'attributes': '+,3,N',\n  'value': 20141031},\n {'date': '2014-10-01T00:00:00',\n  'datatype': 'DYXP',\n  'station': 'GHCND:US1CAAL0003',\n  'attributes': ',,N',\n  'value': 20141026},\n {'date': '2014-10-01T00:00:00',\n  'datatype': 'EMSN',\n  'station': 'GHCND:US1CAAL0003',\n  'attributes': '3,,N,31,+',\n  'value': 0},\n {'date': '2014-10-01T00:00:00',\n  'datatype': 'EMXP',\n  'station': 'GHCND:US1CAAL0003',\n  'attributes': ',,N,26,',\n  'value': 6.1},\n {'date': '2014-10-01T00:00:00',\n  'datatype': 'PRCP',\n  'station': 'GHCND:US1CAAL0003',\n  'attributes': ',,,N',\n  'value': 13.3},\n {'date': '2014-10-01T00:00:00',\n  'datatype': 'SNOW',\n  'station': 'GHCND:US1CAAL0003',\n  'attributes': '3,,,N',\n  'value': 0},\n {'date': '2014-11-01T00:00:00',\n  'datatype': 'DP01',\n  'station': 'GHCND:US1CAAL0003',\n  'attributes': ',N',\n  'value': 9},\n {'date': '2014-11-01T00:00:00',\n  'datatype': 'DP10',\n  'station': 'GHCND:US1CAAL0003',\n  'attributes': ',N',\n  'value': 6},\n {'date': '2014-11-01T00:00:00',\n  'datatype': 'DP1X',\n  'station': 'GHCND:US1CAAL0003',\n  'attributes': ',N',\n  'value': 0},\n {'date': '2014-11-01T00:00:00',\n  'datatype': 'DYXP',\n  'station': 'GHCND:US1CAAL0003',\n  'attributes': ',,N',\n  'value': 20141121},\n {'date': '2014-11-01T00:00:00',\n  'datatype': 'EMXP',\n  'station': 'GHCND:US1CAAL0003',\n  'attributes': ',,N,21,',\n  'value': 19.6},\n {'date': '2014-11-01T00:00:00',\n  'datatype': 'PRCP',\n  'station': 'GHCND:US1CAAL0003',\n  'attributes': ',,,N',\n  'value': 69.6},\n {'date': '2014-12-01T00:00:00',\n  'datatype': 'DP01',\n  'station': 'GHCND:US1CAAL0003',\n  'attributes': ',N',\n  'value': 18},\n {'date': '2014-12-01T00:00:00',\n  'datatype': 'DP10',\n  'station': 'GHCND:US1CAAL0003',\n  'attributes': ',N',\n  'value': 13},\n {'date': '2014-12-01T00:00:00',\n  'datatype': 'DP1X',\n  'station': 'GHCND:US1CAAL0003',\n  'attributes': ',N',\n  'value': 3},\n {'date': '2014-12-01T00:00:00',\n  'datatype': 'DYXP',\n  'station': 'GHCND:US1CAAL0003',\n  'attributes': ',,N',\n  'value': 20141212},\n {'date': '2014-12-01T00:00:00',\n  'datatype': 'EMXP',\n  'station': 'GHCND:US1CAAL0003',\n  'attributes': ',,N,12,',\n  'value': 116.8},\n {'date': '2014-12-01T00:00:00',\n  'datatype': 'PRCP',\n  'station': 'GHCND:US1CAAL0003',\n  'attributes': ',,,N',\n  'value': 307.8}]"
     },
     "metadata": {}
    }
   ],
   "execution_count": null
  },
  {
   "cell_type": "code",
   "metadata": {
    "tags": [],
    "cell_id": "00003-032e4189-92db-42bc-b3ae-c31208c2079c",
    "deepnote_to_be_reexecuted": false,
    "source_hash": "d582ae2f",
    "execution_start": 1640831014099,
    "execution_millis": 5,
    "deepnote_cell_type": "code"
   },
   "source": "#initialize dataframe\ndf_temp = pd.DataFrame()\n\n#populate date and average temperature fields (cast string date to datetime and convert temperature from tenths of Celsius to Fahrenheit)\ndf_temp['date'] = [datetime.strptime(d, \"%Y-%m-%dT%H:%M:%S\") for d in dates_temp]\ndf_temp['avgTemp'] = [float(v)/10.0*1.8 + 32 for v in temps]\ndf_temp\n",
   "outputs": [
    {
     "output_type": "execute_result",
     "execution_count": 59,
     "data": {
      "application/vnd.deepnote.dataframe.v3+json": {
       "column_count": 2,
       "row_count": 1,
       "columns": [
        {
         "name": "date",
         "dtype": "datetime64[ns]",
         "stats": {
          "unique_count": 1,
          "nan_count": 0,
          "min": "2014-01-01 00:00:00",
          "max": "2014-01-01 00:00:00",
          "histogram": null
         }
        },
        {
         "name": "avgTemp",
         "dtype": "float64",
         "stats": {
          "unique_count": 1,
          "nan_count": 0,
          "min": "35.5676",
          "max": "35.5676",
          "histogram": [
           {
            "bin_start": 35.0676,
            "bin_end": 35.1676,
            "count": 0
           },
           {
            "bin_start": 35.1676,
            "bin_end": 35.2676,
            "count": 0
           },
           {
            "bin_start": 35.2676,
            "bin_end": 35.367599999999996,
            "count": 0
           },
           {
            "bin_start": 35.367599999999996,
            "bin_end": 35.4676,
            "count": 0
           },
           {
            "bin_start": 35.4676,
            "bin_end": 35.5676,
            "count": 0
           },
           {
            "bin_start": 35.5676,
            "bin_end": 35.6676,
            "count": 1
           },
           {
            "bin_start": 35.6676,
            "bin_end": 35.7676,
            "count": 0
           },
           {
            "bin_start": 35.7676,
            "bin_end": 35.867599999999996,
            "count": 0
           },
           {
            "bin_start": 35.867599999999996,
            "bin_end": 35.9676,
            "count": 0
           },
           {
            "bin_start": 35.9676,
            "bin_end": 36.0676,
            "count": 0
           }
          ]
         }
        },
        {
         "name": "_deepnote_index_column",
         "dtype": "int64"
        }
       ],
       "rows": [
        {
         "date": "2014-01-01T00:00:00.000000",
         "avgTemp": 35.5676,
         "_deepnote_index_column": 0
        }
       ]
      },
      "text/plain": "        date  avgTemp\n0 2014-01-01  35.5676",
      "text/html": "<div>\n<style scoped>\n    .dataframe tbody tr th:only-of-type {\n        vertical-align: middle;\n    }\n\n    .dataframe tbody tr th {\n        vertical-align: top;\n    }\n\n    .dataframe thead th {\n        text-align: right;\n    }\n</style>\n<table border=\"1\" class=\"dataframe\">\n  <thead>\n    <tr style=\"text-align: right;\">\n      <th></th>\n      <th>date</th>\n      <th>avgTemp</th>\n    </tr>\n  </thead>\n  <tbody>\n    <tr>\n      <th>0</th>\n      <td>2014-01-01</td>\n      <td>35.5676</td>\n    </tr>\n  </tbody>\n</table>\n</div>"
     },
     "metadata": {}
    }
   ],
   "execution_count": null
  },
  {
   "cell_type": "markdown",
   "source": "<a style='text-decoration:none;line-height:16px;display:flex;color:#5B5B62;padding:10px;justify-content:end;' href='https://deepnote.com?utm_source=created-in-deepnote-cell&projectId=f6c76417-5fde-42f3-8920-755838dec3fa' target=\"_blank\">\n<img alt='Created in deepnote.com' style='display:inline;max-height:16px;margin:0px;margin-right:7.5px;' src='data:image/svg+xml;base64,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' > </img>\nCreated in <span style='font-weight:600;margin-left:4px;'>Deepnote</span></a>",
   "metadata": {
    "tags": [],
    "created_in_deepnote_cell": true,
    "deepnote_cell_type": "markdown"
   }
  }
 ],
 "nbformat": 4,
 "nbformat_minor": 2,
 "metadata": {
  "orig_nbformat": 2,
  "deepnote": {
   "is_reactive": false
  },
  "deepnote_notebook_id": "13e3bc9f-a6c7-4170-827b-be3fb2ef8d53",
  "deepnote_execution_queue": []
 }
}