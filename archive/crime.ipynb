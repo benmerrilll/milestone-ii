{
 "cells": [
  {
   "cell_type": "markdown",
   "source": "### Clean Crime Data",
   "metadata": {
    "tags": [],
    "is_collapsed": false,
    "cell_id": "00000-d5868372-5606-4c48-827e-9990b425152d",
    "deepnote_cell_type": "text-cell-h3"
   }
  },
  {
   "cell_type": "markdown",
   "source": "This may not be useable because \"These data do not represent county totals as they exclude crime counts for city agencies and other types of agencies that have jurisdiction within each county.\" Source: https://ucr.fbi.gov/crime-in-the-u.s/2019/crime-in-the-u.s.-2019/tables/table-10/table-10-data-declaration",
   "metadata": {
    "tags": [],
    "is_collapsed": false,
    "cell_id": "00001-3a46d9df-02ae-4db5-bda5-547e22d3e848",
    "deepnote_cell_type": "text-cell-p"
   }
  },
  {
   "cell_type": "markdown",
   "source": "\"General comments: The Metropolitan Counties classification encompasses jurisdictions covered by noncity law enforcement agencies located within currently designated Metropolitan Statistical Areas (MSAs). The Nonmetropolitan Counties classification encompasses jurisdictions covered by noncity agencies located outside currently designated MSAs.This table provides the volume of violent crime (murder and nonnegligent manslaughter, rape, robbery, and aggravated assault) and property crime (burglary, larceny-theft, and motor vehicle theft) as reported by law enforcement agencies (such as individual sheriffs’ offices and/or county police departments) in metropolitan counties and nonmetropolitan counties (listed alphabetically by state) that contributed data to the UCR Program. (Note:&nbsp; Arson is not included in the property crime total in this table; however, if complete arson data were provided, it will appear in the Arson column.)These data do not represent county totals as they exclude crime counts for city agencies and other types of agencies that have jurisdiction within each county.\"",
   "metadata": {
    "tags": [],
    "is_collapsed": false,
    "cell_id": "00002-5a1aadc3-9b10-4387-8fe4-9041c7249b14",
    "deepnote_cell_type": "text-cell-p"
   }
  },
  {
   "cell_type": "markdown",
   "source": "",
   "metadata": {
    "tags": [],
    "is_collapsed": false,
    "cell_id": "00003-927ba9b0-30ae-47d4-8f60-6bc780160e80",
    "deepnote_cell_type": "text-cell-p"
   }
  },
  {
   "cell_type": "code",
   "metadata": {
    "tags": [],
    "cell_id": "00000-93529fc3-17f2-444f-9a70-dce9d4a3d4cd",
    "deepnote_to_be_reexecuted": false,
    "source_hash": "cb1a4904",
    "execution_start": 1641176489113,
    "execution_millis": 1,
    "deepnote_cell_type": "code"
   },
   "source": "import pandas as pd\n\n# Crime data https://www.fbi.gov/services/cjis/ucr/publications table 10 for years 2014 - 2019\n",
   "outputs": [],
   "execution_count": null
  },
  {
   "cell_type": "code",
   "metadata": {
    "tags": [],
    "cell_id": "00001-fce3d7ae-8785-4eb5-9a47-f4d1e4b59aa0",
    "deepnote_to_be_reexecuted": false,
    "source_hash": "29f219e9",
    "execution_start": 1641176489114,
    "execution_millis": 1217,
    "deepnote_output_heights": [
     21.1875
    ],
    "deepnote_cell_type": "code"
   },
   "source": "mapper = pd.read_csv('/work/cleaned-csvs/us_counties.csv')\n\ncrime_df = pd.DataFrame(columns=['year'])\n\nfor year in range(2014, 2019):\n    # Create filepath read in df\n    yr_range = str(year)\n    \n    filepath = 'assets/crime_counties_{}.xls'.format(yr_range)\n    df = pd.read_excel(filepath)\n    \n    df = df.iloc[3:,:] #get rid of top few unneccessary rows\n    \n    new_header = df.iloc[0] #grab the first row for the header\n    df = df[1:] #take the data less the header row\n    df.columns = new_header #set the header row as the df header\n    df['year'] = yr_range\n\n    df['State'] = df['State'].ffill()\n\n    crime_df = pd.concat([crime_df,df], ignore_index=True)\n\n\n# Remove footnotes\ncrime_df.sort_values('County',inplace = True)\n\ncrime_df = crime_df.iloc[:-50,:]\n\nlen(crime_df)",
   "outputs": [
    {
     "output_type": "execute_result",
     "execution_count": 2,
     "data": {
      "text/plain": "12642"
     },
     "metadata": {}
    }
   ],
   "execution_count": null
  },
  {
   "cell_type": "markdown",
   "source": "### There's a lot of missing data",
   "metadata": {
    "tags": [],
    "is_collapsed": false,
    "cell_id": "00004-02183e28-92f7-4756-b647-bc048f40aa99",
    "deepnote_cell_type": "text-cell-h3"
   }
  },
  {
   "cell_type": "markdown",
   "source": "consider bringing in metropolitan statistic area data, but this feels too messy to be worth the effort. ",
   "metadata": {
    "tags": [],
    "is_collapsed": false,
    "cell_id": "00005-a4943b24-3485-4dd2-b4f3-cacdc59d51dd",
    "deepnote_cell_type": "text-cell-p"
   }
  },
  {
   "cell_type": "code",
   "metadata": {
    "tags": [],
    "cell_id": "00004-ff62a44a-1521-44a1-ae03-34c4a9a0013b",
    "deepnote_to_be_reexecuted": false,
    "source_hash": "9c72c227",
    "execution_start": 1641176490344,
    "execution_millis": 213,
    "deepnote_output_heights": [
     117.125
    ],
    "deepnote_cell_type": "code"
   },
   "source": "crime_msa = pd.read_excel('/work/assets/crime_msa_2019.xls')\n\ncrime_msa\n\ncrime_msa = crime_msa.iloc[2:,:] #get rid of top few unneccessary rows\n    \nnew_header = crime_msa.iloc[0] #grab the first row for the header\ncrime_msa = crime_msa[1:] #take the data less the header row\ncrime_msa.columns = new_header #set the header row as the df header\n\n\ncrime_msa['Metropolitan Statistical Area'] = crime_msa['Metropolitan Statistical Area'].ffill()\n\ncrime_msa[crime_msa['Counties/principal cities']=='Rate per 100,000 inhabitants']\n\ncrime_msa = crime_msa[['Metropolitan Statistical Area', 'Counties/principal cities','Violent\\ncrime', 'Property\\ncrime']]\n\ncrime_msa.head(5)",
   "outputs": [
    {
     "output_type": "execute_result",
     "execution_count": 3,
     "data": {
      "application/vnd.deepnote.dataframe.v3+json": {
       "column_count": 4,
       "row_count": 5,
       "columns": [
        {
         "name": "Metropolitan Statistical Area",
         "dtype": "object",
         "stats": {
          "unique_count": 1,
          "nan_count": 0,
          "categories": [
           {
            "name": "Abilene, TX M.S.A.",
            "count": 5
           }
          ]
         }
        },
        {
         "name": "Counties/principal cities",
         "dtype": "object",
         "stats": {
          "unique_count": 4,
          "nan_count": 1,
          "categories": [
           {
            "name": "Includes Callahan, Jones, and Taylor Counties",
            "count": 1
           },
           {
            "name": "3 others",
            "count": 3
           },
           {
            "name": "Missing",
            "count": 1
           }
          ]
         }
        },
        {
         "name": "Violent\ncrime",
         "dtype": "object",
         "stats": {
          "unique_count": 4,
          "nan_count": 1,
          "categories": [
           {
            "name": " ",
            "count": 1
           },
           {
            "name": "3 others",
            "count": 3
           },
           {
            "name": "Missing",
            "count": 1
           }
          ]
         }
        },
        {
         "name": "Property\ncrime",
         "dtype": "object",
         "stats": {
          "unique_count": 4,
          "nan_count": 1,
          "categories": [
           {
            "name": " ",
            "count": 1
           },
           {
            "name": "3 others",
            "count": 3
           },
           {
            "name": "Missing",
            "count": 1
           }
          ]
         }
        },
        {
         "name": "_deepnote_index_column",
         "dtype": "int64"
        }
       ],
       "rows": [
        {
         "Metropolitan Statistical Area": "Abilene, TX M.S.A.",
         "Counties/principal cities": "nan",
         "Violent\ncrime": " ",
         "Property\ncrime": " ",
         "_deepnote_index_column": 3
        },
        {
         "Metropolitan Statistical Area": "Abilene, TX M.S.A.",
         "Counties/principal cities": "Includes Callahan, Jones, and Taylor Counties",
         "Violent\ncrime": "nan",
         "Property\ncrime": "nan",
         "_deepnote_index_column": 4
        },
        {
         "Metropolitan Statistical Area": "Abilene, TX M.S.A.",
         "Counties/principal cities": "City of Abilene",
         "Violent\ncrime": "458",
         "Property\ncrime": "3112",
         "_deepnote_index_column": 5
        },
        {
         "Metropolitan Statistical Area": "Abilene, TX M.S.A.",
         "Counties/principal cities": "Total area actually reporting",
         "Violent\ncrime": "543",
         "Property\ncrime": "3603",
         "_deepnote_index_column": 6
        },
        {
         "Metropolitan Statistical Area": "Abilene, TX M.S.A.",
         "Counties/principal cities": "Rate per 100,000 inhabitants",
         "Violent\ncrime": "317.3",
         "Property\ncrime": "2105.5",
         "_deepnote_index_column": 7
        }
       ]
      },
      "text/plain": "2 Metropolitan Statistical Area  \\\n3            Abilene, TX M.S.A.   \n4            Abilene, TX M.S.A.   \n5            Abilene, TX M.S.A.   \n6            Abilene, TX M.S.A.   \n7            Abilene, TX M.S.A.   \n\n2                      Counties/principal cities Violent\\ncrime  \\\n3                                            NaN                  \n4  Includes Callahan, Jones, and Taylor Counties            NaN   \n5                                City of Abilene            458   \n6                  Total area actually reporting            543   \n7                   Rate per 100,000 inhabitants          317.3   \n\n2 Property\\ncrime  \n3                  \n4             NaN  \n5            3112  \n6            3603  \n7          2105.5  ",
      "text/html": "<div>\n<style scoped>\n    .dataframe tbody tr th:only-of-type {\n        vertical-align: middle;\n    }\n\n    .dataframe tbody tr th {\n        vertical-align: top;\n    }\n\n    .dataframe thead th {\n        text-align: right;\n    }\n</style>\n<table border=\"1\" class=\"dataframe\">\n  <thead>\n    <tr style=\"text-align: right;\">\n      <th>2</th>\n      <th>Metropolitan Statistical Area</th>\n      <th>Counties/principal cities</th>\n      <th>Violent\\ncrime</th>\n      <th>Property\\ncrime</th>\n    </tr>\n  </thead>\n  <tbody>\n    <tr>\n      <th>3</th>\n      <td>Abilene, TX M.S.A.</td>\n      <td>NaN</td>\n      <td></td>\n      <td></td>\n    </tr>\n    <tr>\n      <th>4</th>\n      <td>Abilene, TX M.S.A.</td>\n      <td>Includes Callahan, Jones, and Taylor Counties</td>\n      <td>NaN</td>\n      <td>NaN</td>\n    </tr>\n    <tr>\n      <th>5</th>\n      <td>Abilene, TX M.S.A.</td>\n      <td>City of Abilene</td>\n      <td>458</td>\n      <td>3112</td>\n    </tr>\n    <tr>\n      <th>6</th>\n      <td>Abilene, TX M.S.A.</td>\n      <td>Total area actually reporting</td>\n      <td>543</td>\n      <td>3603</td>\n    </tr>\n    <tr>\n      <th>7</th>\n      <td>Abilene, TX M.S.A.</td>\n      <td>Rate per 100,000 inhabitants</td>\n      <td>317.3</td>\n      <td>2105.5</td>\n    </tr>\n  </tbody>\n</table>\n</div>"
     },
     "metadata": {}
    }
   ],
   "execution_count": null
  },
  {
   "cell_type": "markdown",
   "source": "### Clean Up Crime Data - find inconsistencies in names",
   "metadata": {
    "tags": [],
    "is_collapsed": false,
    "cell_id": "00004-dcf67b18-b928-4435-abe0-5431cf27bff4",
    "deepnote_cell_type": "text-cell-h3"
   }
  },
  {
   "cell_type": "code",
   "metadata": {
    "tags": [],
    "cell_id": "00002-51489b28-b83d-45a1-9162-631708e84ae5",
    "deepnote_to_be_reexecuted": false,
    "source_hash": "ed7106b1",
    "execution_start": 1641176490581,
    "execution_millis": 692,
    "deepnote_cell_type": "code"
   },
   "source": "crime_df['state']=crime_df['State'].str.split(' -').str[0].str.lower() #isolate state in one column\n\ncrime_df['county']=crime_df['County'].str.lower() #make county lowercase\n\n\n#There's got to be a better way --> dictionary?\ncrime_df['county'] = crime_df['county'].str.replace('\\d+', '')\ncrime_df['county'] = crime_df['county'].str.replace(' county police department', '')\ncrime_df['county'] = crime_df['county'].str.replace(',', '')\ncrime_df['county'] = crime_df['county'].str.replace(' police department', '')\ncrime_df['county'] = crime_df['county'].str.replace(' public safety', '')\ncrime_df['county'] = crime_df['county'].str.replace('hartsville/trousdale', 'trousdale')\ncrime_df['county'] = crime_df['county'].str.replace('de witt', 'dewitt')\ncrime_df['county'] = crime_df['county'].str.replace('la porte', 'laporte')\ncrime_df['county'] = crime_df['county'].str.replace('la salle', 'lasalle')\ncrime_df['county'] = crime_df['county'].str.replace('de kalb', 'dekalb')\ncrime_df['county'] = crime_df['county'].str.replace(' county unified', '')\ncrime_df['county'] = crime_df['county'].str.replace('dona ana', 'doña ana')\ncrime_df['county'] = crime_df['county'].str.replace('snohomish ', 'snohomish')\ncrime_df['county'] = crime_df['county'].str.replace('duchess', 'dutchess')\n#crime_df['county'] = crime_df['county'].str.replace('story', 'storey')\ncrime_df['county'] = crime_df['county'].str.replace('de soto ', 'de soto')\ncrime_df['county'] = crime_df['county'].str.replace('livingston ', 'livingston')\ncrime_df['county'] = crime_df['county'].str.replace('vermilion ', 'vermilion')\ncrime_df['county'] = crime_df['county'].str.replace('allen ', 'allen')\ncrime_df['county'] = crime_df['county'].str.replace('tulare ', 'tulare')\ncrime_df['county'] = crime_df['county'].str.replace('hinds ', 'hinds')\ncrime_df['county'] = crime_df['county'].str.replace('carson city', 'cars')\ncrime_df['county'] = crime_df['county'].str.replace('butte-silver bow', 'silver bow')\ncrime_df['county'] = crime_df['county'].str.replace('baltimore county', 'baltimore')\ncrime_df['county'] = crime_df['county'].str.replace(\"prince george's \", \"prince george's\")\ncrime_df['county'] = crime_df['county'].str.replace('bartholemew', 'bartholomew')\n#crime_df['county'] = crime_df['county'].str.replace('st. bernard', 'st. bernard')\ncrime_df['county'] = crime_df['county'].str.replace('augusta-richmond', 'richmond')\n\n\ncrime_df = crime_df [[ 'county', 'Violent\\ncrime', 'Property\\ncrime', 'state','year']]\n\ndict_crime = {'Violent\\ncrime':'violent_crime', 'Property\\ncrime':'property_crime','county':'county_name','state':'state_name'}\n\ncrime_df.rename(columns=dict_crime,inplace = True)\n",
   "outputs": [
    {
     "name": "stderr",
     "text": "<ipython-input-4-bed2e1607e01>:7: FutureWarning: The default value of regex will change from True to False in a future version.\n  crime_df['county'] = crime_df['county'].str.replace('\\d+', '')\n",
     "output_type": "stream",
     "data": {}
    }
   ],
   "execution_count": null
  },
  {
   "cell_type": "markdown",
   "source": "### Match county names with the fips code for states and counties",
   "metadata": {
    "tags": [],
    "is_collapsed": false,
    "cell_id": "00006-f0bef02e-c641-4062-8a3e-363d316a16c7",
    "deepnote_cell_type": "text-cell-h3"
   }
  },
  {
   "cell_type": "code",
   "metadata": {
    "tags": [],
    "cell_id": "00004-eb4eef4e-7af0-4a37-a73b-6d5923867fcf",
    "deepnote_to_be_reexecuted": false,
    "source_hash": "a0ab95c4",
    "execution_start": 1641176491022,
    "execution_millis": 41,
    "deepnote_output_heights": [
     232.25
    ],
    "deepnote_cell_type": "code"
   },
   "source": "# The mapper is necessary is to add the state/county fips code for all of the crime data\n\nmapper['county_name'] = mapper['county_name'].str.replace('la salle', 'lasalle')\n\nmapper['county_name'] = mapper['county_name'].str.replace('de witt', 'dewitt')\nmapper['county_name'] = mapper['county_name'].str.replace('de kalb', 'dekalb')\n\n",
   "outputs": [],
   "execution_count": null
  },
  {
   "cell_type": "code",
   "metadata": {
    "tags": [],
    "cell_id": "00005-7cb77123-2ad5-4589-bf72-360e698653cf",
    "deepnote_to_be_reexecuted": false,
    "source_hash": "ae6778ae",
    "execution_start": 1641176491064,
    "execution_millis": 0,
    "deepnote_output_heights": [
     21.1875
    ],
    "deepnote_cell_type": "code"
   },
   "source": "crime_df = pd.merge(mapper,crime_df,how='right',left_on = ['state_name','county_name'],right_on = ['state_name','county_name'])",
   "outputs": [],
   "execution_count": null
  },
  {
   "cell_type": "code",
   "metadata": {
    "tags": [],
    "cell_id": "00006-70c8404d-1ac8-4074-8c52-d0c838437623",
    "deepnote_to_be_reexecuted": false,
    "source_hash": "9316ce35",
    "execution_start": 1641176491065,
    "execution_millis": 106,
    "deepnote_table_state": {
     "pageSize": 100,
     "pageIndex": 0,
     "filters": [],
     "sortBy": []
    },
    "deepnote_table_loading": false,
    "deepnote_cell_type": "code"
   },
   "source": "# Get list of rows without state/county index\n\ncrime_df = crime_df[~crime_df['county_name'].isna()]\nmissing_1 = crime_df[crime_df['state'].isna()].sort_values('state_name')\n\nmissing_1.head()",
   "outputs": [
    {
     "output_type": "execute_result",
     "execution_count": 7,
     "data": {
      "application/vnd.deepnote.dataframe.v3+json": {
       "column_count": 7,
       "row_count": 2,
       "columns": [
        {
         "name": "state",
         "dtype": "float64",
         "stats": {
          "unique_count": 0,
          "nan_count": 2,
          "min": null,
          "max": null,
          "histogram": [
           {
            "bin_start": 0,
            "bin_end": 0.1,
            "count": 0
           },
           {
            "bin_start": 0.1,
            "bin_end": 0.2,
            "count": 0
           },
           {
            "bin_start": 0.2,
            "bin_end": 0.30000000000000004,
            "count": 0
           },
           {
            "bin_start": 0.30000000000000004,
            "bin_end": 0.4,
            "count": 0
           },
           {
            "bin_start": 0.4,
            "bin_end": 0.5,
            "count": 0
           },
           {
            "bin_start": 0.5,
            "bin_end": 0.6000000000000001,
            "count": 0
           },
           {
            "bin_start": 0.6000000000000001,
            "bin_end": 0.7000000000000001,
            "count": 0
           },
           {
            "bin_start": 0.7000000000000001,
            "bin_end": 0.8,
            "count": 0
           },
           {
            "bin_start": 0.8,
            "bin_end": 0.9,
            "count": 0
           },
           {
            "bin_start": 0.9,
            "bin_end": 1,
            "count": 0
           }
          ]
         }
        },
        {
         "name": "county",
         "dtype": "float64",
         "stats": {
          "unique_count": 0,
          "nan_count": 2,
          "min": null,
          "max": null,
          "histogram": [
           {
            "bin_start": 0,
            "bin_end": 0.1,
            "count": 0
           },
           {
            "bin_start": 0.1,
            "bin_end": 0.2,
            "count": 0
           },
           {
            "bin_start": 0.2,
            "bin_end": 0.30000000000000004,
            "count": 0
           },
           {
            "bin_start": 0.30000000000000004,
            "bin_end": 0.4,
            "count": 0
           },
           {
            "bin_start": 0.4,
            "bin_end": 0.5,
            "count": 0
           },
           {
            "bin_start": 0.5,
            "bin_end": 0.6000000000000001,
            "count": 0
           },
           {
            "bin_start": 0.6000000000000001,
            "bin_end": 0.7000000000000001,
            "count": 0
           },
           {
            "bin_start": 0.7000000000000001,
            "bin_end": 0.8,
            "count": 0
           },
           {
            "bin_start": 0.8,
            "bin_end": 0.9,
            "count": 0
           },
           {
            "bin_start": 0.9,
            "bin_end": 1,
            "count": 0
           }
          ]
         }
        },
        {
         "name": "county_name",
         "dtype": "object",
         "stats": {
          "unique_count": 2,
          "nan_count": 0,
          "categories": [
           {
            "name": "st. bernard ",
            "count": 1
           },
           {
            "name": "story",
            "count": 1
           }
          ]
         }
        },
        {
         "name": "state_name",
         "dtype": "object",
         "stats": {
          "unique_count": 2,
          "nan_count": 0,
          "categories": [
           {
            "name": "louisiana",
            "count": 1
           },
           {
            "name": "nevada",
            "count": 1
           }
          ]
         }
        },
        {
         "name": "violent_crime",
         "dtype": "object",
         "stats": {
          "unique_count": 2,
          "nan_count": 0,
          "categories": [
           {
            "name": "86",
            "count": 1
           },
           {
            "name": "31",
            "count": 1
           }
          ]
         }
        },
        {
         "name": "property_crime",
         "dtype": "object",
         "stats": {
          "unique_count": 2,
          "nan_count": 0,
          "categories": [
           {
            "name": "833",
            "count": 1
           },
           {
            "name": "95",
            "count": 1
           }
          ]
         }
        },
        {
         "name": "year",
         "dtype": "object",
         "stats": {
          "unique_count": 2,
          "nan_count": 0,
          "categories": [
           {
            "name": "2014",
            "count": 1
           },
           {
            "name": "2015",
            "count": 1
           }
          ]
         }
        },
        {
         "name": "_deepnote_index_column",
         "dtype": "int64"
        }
       ],
       "rows": [
        {
         "state": "nan",
         "county": "nan",
         "county_name": "st. bernard ",
         "state_name": "louisiana",
         "violent_crime": "86",
         "property_crime": "833",
         "year": "2014",
         "_deepnote_index_column": 10662
        },
        {
         "state": "nan",
         "county": "nan",
         "county_name": "story",
         "state_name": "nevada",
         "violent_crime": "31",
         "property_crime": "95",
         "year": "2015",
         "_deepnote_index_column": 10933
        }
       ]
      },
      "text/plain": "       state  county   county_name state_name violent_crime property_crime  \\\n10662    NaN     NaN  st. bernard   louisiana            86            833   \n10933    NaN     NaN         story     nevada            31             95   \n\n       year  \n10662  2014  \n10933  2015  ",
      "text/html": "<div>\n<style scoped>\n    .dataframe tbody tr th:only-of-type {\n        vertical-align: middle;\n    }\n\n    .dataframe tbody tr th {\n        vertical-align: top;\n    }\n\n    .dataframe thead th {\n        text-align: right;\n    }\n</style>\n<table border=\"1\" class=\"dataframe\">\n  <thead>\n    <tr style=\"text-align: right;\">\n      <th></th>\n      <th>state</th>\n      <th>county</th>\n      <th>county_name</th>\n      <th>state_name</th>\n      <th>violent_crime</th>\n      <th>property_crime</th>\n      <th>year</th>\n    </tr>\n  </thead>\n  <tbody>\n    <tr>\n      <th>10662</th>\n      <td>NaN</td>\n      <td>NaN</td>\n      <td>st. bernard</td>\n      <td>louisiana</td>\n      <td>86</td>\n      <td>833</td>\n      <td>2014</td>\n    </tr>\n    <tr>\n      <th>10933</th>\n      <td>NaN</td>\n      <td>NaN</td>\n      <td>story</td>\n      <td>nevada</td>\n      <td>31</td>\n      <td>95</td>\n      <td>2015</td>\n    </tr>\n  </tbody>\n</table>\n</div>"
     },
     "metadata": {}
    }
   ],
   "execution_count": null
  },
  {
   "cell_type": "markdown",
   "source": "### Deal with Duplicates",
   "metadata": {
    "tags": [],
    "is_collapsed": false,
    "cell_id": "00012-44f7e671-4878-4f51-8d35-6973409cd0e9",
    "deepnote_cell_type": "text-cell-h3"
   }
  },
  {
   "cell_type": "markdown",
   "source": "There are to be 113 rows with information about one county, state, and year information. Most of these rows report both county crimes and county police department crimes. It appears that those that disaggregate in this way attribute nearly all of their crimes to the police department and none to the county. See Clayton below for an example. Currently, the fix is to take the higher crimes row for a given year, county and state. I'm open to other solutions too. ",
   "metadata": {
    "tags": [],
    "is_collapsed": false,
    "cell_id": "00010-67467f6c-8879-4238-9737-1fb504ffe482",
    "deepnote_cell_type": "text-cell-p"
   }
  },
  {
   "cell_type": "code",
   "metadata": {
    "tags": [],
    "cell_id": "00009-d7907bfd-c453-4312-a268-ba6aafe5ada3",
    "deepnote_to_be_reexecuted": false,
    "source_hash": "8ac5f287",
    "execution_start": 1641176491172,
    "execution_millis": 146,
    "deepnote_output_heights": [
     232.4375
    ],
    "deepnote_cell_type": "code"
   },
   "source": "crime_df = crime_df.set_index(['county','state','year'],)\n\ncrime_df.index.value_counts()[:112]",
   "outputs": [
    {
     "output_type": "execute_result",
     "execution_count": 8,
     "data": {
      "text/plain": "(177.0, 21.0, 2015)    2\n(3.0, 24.0, 2017)      2\n(117.0, 21.0, 2016)    2\n(103.0, 36.0, 2017)    2\n(127.0, 13.0, 2016)    2\n                      ..\n(99.0, 38.0, 2016)     1\n(53.0, 30.0, 2014)     1\n(57.0, 41.0, 2017)     1\n(77.0, 22.0, 2014)     1\n(41.0, 8.0, 2016)      1\nLength: 112, dtype: int64"
     },
     "metadata": {}
    }
   ],
   "execution_count": null
  },
  {
   "cell_type": "code",
   "metadata": {
    "tags": [],
    "cell_id": "00010-0629c1db-b375-4731-82f7-b9f10023346c",
    "deepnote_to_be_reexecuted": false,
    "source_hash": "9c62f40c",
    "execution_start": 1641176491197,
    "execution_millis": 9,
    "deepnote_cell_type": "code"
   },
   "source": "crime_df.reset_index(inplace=True)",
   "outputs": [],
   "execution_count": null
  },
  {
   "cell_type": "code",
   "metadata": {
    "tags": [],
    "cell_id": "00011-4b3b7c4b-0468-4038-a33b-2fd9f6145687",
    "deepnote_to_be_reexecuted": false,
    "source_hash": "6ef3aa98",
    "execution_start": 1641176491269,
    "execution_millis": 28,
    "deepnote_table_state": {
     "pageSize": 50,
     "pageIndex": 0,
     "filters": [],
     "sortBy": []
    },
    "deepnote_table_loading": false,
    "deepnote_output_heights": [
     59.5625
    ],
    "deepnote_cell_type": "code"
   },
   "source": "# Anne arundel - used police department + county\n# crime_df[(crime_df['county']==3) & (crime_df['state']==24)]\n\n\n# Clayton police vs. Clayton County\n# crime_df[(crime_df['county']==63) & (crime_df['state']==13)]\n\n#crime_df[(crime_df['county']==37) & (crime_df['state']==21)]\n\n\ncrime_df = crime_df.sort_values('property_crime',ascending=False)\n\ncrime_df = crime_df.groupby(['county', 'state', 'year', 'county_name', 'state_name',]).first().reset_index()",
   "outputs": [],
   "execution_count": null
  },
  {
   "cell_type": "code",
   "metadata": {
    "tags": [],
    "cell_id": "00017-e95216d0-e4d6-4a51-93bc-1a8b5abd331a",
    "deepnote_to_be_reexecuted": false,
    "source_hash": "874dc04f",
    "execution_start": 1641176491339,
    "execution_millis": 187220266,
    "deepnote_output_heights": [
     21.1875
    ],
    "deepnote_cell_type": "code"
   },
   "source": "14854 - len(crime_df) ",
   "outputs": [
    {
     "output_type": "execute_result",
     "execution_count": 11,
     "data": {
      "text/plain": "2313"
     },
     "metadata": {}
    }
   ],
   "execution_count": null
  },
  {
   "cell_type": "markdown",
   "source": "### Export to csv",
   "metadata": {
    "tags": [],
    "is_collapsed": false,
    "cell_id": "00016-f5206261-f43d-4461-8d2c-62e1a269996b",
    "deepnote_cell_type": "text-cell-h3"
   }
  },
  {
   "cell_type": "code",
   "metadata": {
    "tags": [],
    "cell_id": "00017-3eb4fee7-88f7-46b4-96bf-54e6ea9032ee",
    "deepnote_to_be_reexecuted": false,
    "source_hash": "9b70d083",
    "execution_start": 1641176491340,
    "execution_millis": 47,
    "deepnote_cell_type": "code"
   },
   "source": "crime_df.to_csv('/work/cleaned-csvs/crime.csv')",
   "outputs": [],
   "execution_count": null
  },
  {
   "cell_type": "markdown",
   "source": "<a style='text-decoration:none;line-height:16px;display:flex;color:#5B5B62;padding:10px;justify-content:end;' href='https://deepnote.com?utm_source=created-in-deepnote-cell&projectId=f6c76417-5fde-42f3-8920-755838dec3fa' target=\"_blank\">\n<img alt='Created in deepnote.com' style='display:inline;max-height:16px;margin:0px;margin-right:7.5px;' src='data:image/svg+xml;base64,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' > </img>\nCreated in <span style='font-weight:600;margin-left:4px;'>Deepnote</span></a>",
   "metadata": {
    "tags": [],
    "created_in_deepnote_cell": true,
    "deepnote_cell_type": "markdown"
   }
  }
 ],
 "nbformat": 4,
 "nbformat_minor": 2,
 "metadata": {
  "orig_nbformat": 2,
  "deepnote": {
   "is_reactive": false
  },
  "deepnote_notebook_id": "79f9caf2-0a55-4440-bddb-7b570df6f14c",
  "deepnote_execution_queue": []
 }
}