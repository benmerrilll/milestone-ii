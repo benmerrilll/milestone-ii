{
 "cells": [
  {
   "cell_type": "code",
   "metadata": {
    "tags": [],
    "cell_id": "00000-029bc1eb-bce1-472a-a854-4c4c0ffa0e64",
    "deepnote_to_be_reexecuted": false,
    "source_hash": "87ea3465",
    "execution_start": 1641475687322,
    "execution_millis": 42,
    "deepnote_cell_type": "code"
   },
   "source": "#Data source:\n#https://www.cde.ca.gov/ds/fd/ec/currentexpense.asp\n\n#Data is in school year format, so 2013-2014 is being used for 2014 for our purposes\n\n#Content Notes\n# ADA is Average Daily Attendance\n\n# Total ADA is defined as the total days of student attendance divided by \n# the total days of instruction.\n\n# By district, the adjusted expenditures are divided by the total ADA to arrive at the \n# Current Expense (or Cost) of Education per ADA.\n\n# So, you can consider avg_daily_attendance_expense a proxy for average yearly cost per \n# student.\n# For example if you had 200 days of instruction and 1000 days of student attendance,\n# than you would calculate Total ADA (yearly_daily_attendance_count) as 1000/200 or 5.\n# If your total_yearly_expense is $50,000, then your avg_daily_attendance_expense is \n# $50,000/5 or $10,000",
   "execution_count": null,
   "outputs": []
  },
  {
   "cell_type": "code",
   "metadata": {
    "tags": [],
    "deepnote_to_be_reexecuted": false,
    "source_hash": "f66061d1",
    "execution_start": 1641475687364,
    "execution_millis": 1,
    "cell_id": "00000-eca039ca-982e-4b8f-965e-edf6d701676d",
    "deepnote_cell_type": "code"
   },
   "source": "import pandas as pd\n",
   "execution_count": null,
   "outputs": []
  },
  {
   "cell_type": "code",
   "metadata": {
    "tags": [],
    "deepnote_to_be_reexecuted": false,
    "source_hash": "62060bef",
    "execution_start": 1641475687365,
    "execution_millis": 721,
    "cell_id": "00002-f278b351-edad-450f-bbc2-39db2cafc97e",
    "deepnote_cell_type": "code"
   },
   "source": "#Load in all files\ncurr_exp_2019 = pd.read_excel('/work/assets/currentexpense1819.xlsx',skiprows=10,sheet_name='County Averages',\nheader = None,\nnames=['county_name','total_yearly_expense','yearly_daily_attendance_count','avg_daily_attendance_expense'])\n\ncurr_exp_2018 = pd.read_excel('/work/assets/currentexpense1718.xlsx',skiprows=9,sheet_name='County Averages').rename(columns={'County':'county_name','EDP 365':'total_yearly_expense','Current Expense ADA':'yearly_daily_attendance_count','Current Expense Per ADA':'avg_daily_attendance_expense'})\ncurr_exp_2017 = pd.read_excel('/work/assets/currentexpense1617.xlsx',skiprows=7,sheet_name='County Averages').rename(columns={'County':'county_name','EDP 365':'total_yearly_expense','Current Expense ADA':'yearly_daily_attendance_count','Current Expense Per ADA':'avg_daily_attendance_expense'})\ncurr_exp_2016 = pd.read_excel('/work/assets/currentexpense1516.xls',skiprows=7,skipfooter=1,sheet_name='County Averages').rename(columns={'County':'county_name','EDP 365':'total_yearly_expense','Current Expense ADA':'yearly_daily_attendance_count','Current Expense Per ADA':'avg_daily_attendance_expense'})\ncurr_exp_2015 = pd.read_excel('/work/assets/currentexpense1415.xls',skiprows=4,skipfooter=1,sheet_name='County Averages').rename(columns={'County':'county_name','EDP 365':'total_yearly_expense','Current Expense ADA':'yearly_daily_attendance_count','Current Expense Per ADA':'avg_daily_attendance_expense'})\ncurr_exp_2014 = pd.read_excel('/work/assets/currentexpense1314.xls',skiprows=6,skipfooter=1,sheet_name='County Averages').rename(columns={'County':'county_name','Expenditures (EDP 365)':'total_yearly_expense','Current Expense ADA':'yearly_daily_attendance_count','Current Expense Per ADA':'avg_daily_attendance_expense'})\n",
   "execution_count": null,
   "outputs": []
  },
  {
   "cell_type": "code",
   "metadata": {
    "tags": [],
    "deepnote_to_be_reexecuted": false,
    "source_hash": "e477fb3f",
    "execution_start": 1641475688143,
    "execution_millis": 75,
    "deepnote_output_heights": [
     611
    ],
    "cell_id": "00004-cc09495c-c181-47d4-ba96-bb33a2b38c8b",
    "deepnote_cell_type": "code"
   },
   "source": "#prep files for merge to one dataset\ncurr_exp_2019['year']=2019\ncurr_exp_2018['year']=2018\ncurr_exp_2017['year']=2017\ncurr_exp_2016['year']=2016\ncurr_exp_2015['year']=2015\ncurr_exp_2014['year']=2014\n\n#Fix spelling of Humboldt county in 2017\ncurr_exp_2017['county_name'].replace({'Humbolt':'Humboldt'},inplace=True)\n\ncurr_exp_2017[curr_exp_2017['county_name'].isin(['Humboldt'])]",
   "execution_count": null,
   "outputs": [
    {
     "output_type": "execute_result",
     "execution_count": 4,
     "data": {
      "application/vnd.deepnote.dataframe.v3+json": {
       "column_count": 5,
       "row_count": 1,
       "columns": [
        {
         "name": "county_name",
         "dtype": "object",
         "stats": {
          "unique_count": 1,
          "nan_count": 0,
          "categories": [
           {
            "name": "Humboldt",
            "count": 1
           }
          ]
         }
        },
        {
         "name": "total_yearly_expense",
         "dtype": "float64",
         "stats": {
          "unique_count": 1,
          "nan_count": 0,
          "min": "172224755.69",
          "max": "172224755.69",
          "histogram": [
           {
            "bin_start": 172224755.19,
            "bin_end": 172224755.29,
            "count": 0
           },
           {
            "bin_start": 172224755.29,
            "bin_end": 172224755.39,
            "count": 0
           },
           {
            "bin_start": 172224755.39,
            "bin_end": 172224755.49,
            "count": 0
           },
           {
            "bin_start": 172224755.49,
            "bin_end": 172224755.59,
            "count": 0
           },
           {
            "bin_start": 172224755.59,
            "bin_end": 172224755.69,
            "count": 0
           },
           {
            "bin_start": 172224755.69,
            "bin_end": 172224755.79,
            "count": 1
           },
           {
            "bin_start": 172224755.79,
            "bin_end": 172224755.89,
            "count": 0
           },
           {
            "bin_start": 172224755.89,
            "bin_end": 172224755.99,
            "count": 0
           },
           {
            "bin_start": 172224755.99,
            "bin_end": 172224756.09,
            "count": 0
           },
           {
            "bin_start": 172224756.09,
            "bin_end": 172224756.19,
            "count": 0
           }
          ]
         }
        },
        {
         "name": "yearly_daily_attendance_count",
         "dtype": "float64",
         "stats": {
          "unique_count": 1,
          "nan_count": 0,
          "min": "14508.94",
          "max": "14508.94",
          "histogram": [
           {
            "bin_start": 14508.44,
            "bin_end": 14508.54,
            "count": 0
           },
           {
            "bin_start": 14508.54,
            "bin_end": 14508.640000000001,
            "count": 0
           },
           {
            "bin_start": 14508.640000000001,
            "bin_end": 14508.74,
            "count": 0
           },
           {
            "bin_start": 14508.74,
            "bin_end": 14508.84,
            "count": 0
           },
           {
            "bin_start": 14508.84,
            "bin_end": 14508.94,
            "count": 0
           },
           {
            "bin_start": 14508.94,
            "bin_end": 14509.04,
            "count": 1
           },
           {
            "bin_start": 14509.04,
            "bin_end": 14509.140000000001,
            "count": 0
           },
           {
            "bin_start": 14509.140000000001,
            "bin_end": 14509.24,
            "count": 0
           },
           {
            "bin_start": 14509.24,
            "bin_end": 14509.34,
            "count": 0
           },
           {
            "bin_start": 14509.34,
            "bin_end": 14509.44,
            "count": 0
           }
          ]
         }
        },
        {
         "name": "avg_daily_attendance_expense",
         "dtype": "float64",
         "stats": {
          "unique_count": 1,
          "nan_count": 0,
          "min": "11870.250734374806",
          "max": "11870.250734374806",
          "histogram": [
           {
            "bin_start": 11869.750734374806,
            "bin_end": 11869.850734374806,
            "count": 0
           },
           {
            "bin_start": 11869.850734374806,
            "bin_end": 11869.950734374806,
            "count": 0
           },
           {
            "bin_start": 11869.950734374806,
            "bin_end": 11870.050734374805,
            "count": 0
           },
           {
            "bin_start": 11870.050734374805,
            "bin_end": 11870.150734374805,
            "count": 0
           },
           {
            "bin_start": 11870.150734374805,
            "bin_end": 11870.250734374806,
            "count": 0
           },
           {
            "bin_start": 11870.250734374806,
            "bin_end": 11870.350734374806,
            "count": 1
           },
           {
            "bin_start": 11870.350734374806,
            "bin_end": 11870.450734374806,
            "count": 0
           },
           {
            "bin_start": 11870.450734374806,
            "bin_end": 11870.550734374805,
            "count": 0
           },
           {
            "bin_start": 11870.550734374805,
            "bin_end": 11870.650734374805,
            "count": 0
           },
           {
            "bin_start": 11870.650734374805,
            "bin_end": 11870.750734374806,
            "count": 0
           }
          ]
         }
        },
        {
         "name": "year",
         "dtype": "int64",
         "stats": {
          "unique_count": 1,
          "nan_count": 0,
          "min": "2017",
          "max": "2017",
          "histogram": [
           {
            "bin_start": 2016.5,
            "bin_end": 2016.6,
            "count": 0
           },
           {
            "bin_start": 2016.6,
            "bin_end": 2016.7,
            "count": 0
           },
           {
            "bin_start": 2016.7,
            "bin_end": 2016.8,
            "count": 0
           },
           {
            "bin_start": 2016.8,
            "bin_end": 2016.9,
            "count": 0
           },
           {
            "bin_start": 2016.9,
            "bin_end": 2017,
            "count": 0
           },
           {
            "bin_start": 2017,
            "bin_end": 2017.1,
            "count": 1
           },
           {
            "bin_start": 2017.1,
            "bin_end": 2017.2,
            "count": 0
           },
           {
            "bin_start": 2017.2,
            "bin_end": 2017.3,
            "count": 0
           },
           {
            "bin_start": 2017.3,
            "bin_end": 2017.4,
            "count": 0
           },
           {
            "bin_start": 2017.4,
            "bin_end": 2017.5,
            "count": 0
           }
          ]
         }
        },
        {
         "name": "_deepnote_index_column",
         "dtype": "int64"
        }
       ],
       "rows": [
        {
         "county_name": "Humboldt",
         "total_yearly_expense": 172224755.69,
         "yearly_daily_attendance_count": 14508.94,
         "avg_daily_attendance_expense": 11870.250734374806,
         "year": 2017,
         "_deepnote_index_column": 11
        }
       ]
      },
      "text/plain": "   county_name  total_yearly_expense  yearly_daily_attendance_count  \\\n11    Humboldt          1.722248e+08                       14508.94   \n\n    avg_daily_attendance_expense  year  \n11                  11870.250734  2017  ",
      "text/html": "<div>\n<style scoped>\n    .dataframe tbody tr th:only-of-type {\n        vertical-align: middle;\n    }\n\n    .dataframe tbody tr th {\n        vertical-align: top;\n    }\n\n    .dataframe thead th {\n        text-align: right;\n    }\n</style>\n<table border=\"1\" class=\"dataframe\">\n  <thead>\n    <tr style=\"text-align: right;\">\n      <th></th>\n      <th>county_name</th>\n      <th>total_yearly_expense</th>\n      <th>yearly_daily_attendance_count</th>\n      <th>avg_daily_attendance_expense</th>\n      <th>year</th>\n    </tr>\n  </thead>\n  <tbody>\n    <tr>\n      <th>11</th>\n      <td>Humboldt</td>\n      <td>1.722248e+08</td>\n      <td>14508.94</td>\n      <td>11870.250734</td>\n      <td>2017</td>\n    </tr>\n  </tbody>\n</table>\n</div>"
     },
     "metadata": {}
    }
   ]
  },
  {
   "cell_type": "code",
   "metadata": {
    "tags": [],
    "deepnote_to_be_reexecuted": false,
    "source_hash": "d0895d1",
    "execution_start": 1641475688231,
    "execution_millis": 282,
    "deepnote_output_heights": [
     117.125
    ],
    "cell_id": "00005-1f6d5a12-bb31-414c-912e-bcdda9769542",
    "deepnote_cell_type": "code"
   },
   "source": "#Concatenate all years into 1 df\nall_vals = pd.concat([curr_exp_2019, curr_exp_2018,curr_exp_2017,curr_exp_2016,curr_exp_2015,curr_exp_2014])\n\n\n#We only need the per student amount per county\nall_vals = all_vals.drop(columns={'total_yearly_expense','yearly_daily_attendance_count'})\n\nprint(all_vals['year'].value_counts(0))\nprint(all_vals['county_name'].nunique())\n",
   "execution_count": null,
   "outputs": [
    {
     "name": "stdout",
     "text": "2014    58\n2015    58\n2016    58\n2017    58\n2018    58\n2019    58\nName: year, dtype: int64\n58\n",
     "output_type": "stream",
     "data": {}
    }
   ]
  },
  {
   "cell_type": "code",
   "metadata": {
    "tags": [],
    "deepnote_to_be_reexecuted": false,
    "source_hash": "d8fbb65b",
    "execution_start": 1641475688232,
    "execution_millis": 281,
    "cell_id": "00006-039ec530-3983-4d3a-a42d-f1e2e4b2bf6f",
    "deepnote_cell_type": "code"
   },
   "source": "all_vals.head()",
   "execution_count": null,
   "outputs": [
    {
     "output_type": "execute_result",
     "execution_count": 6,
     "data": {
      "application/vnd.deepnote.dataframe.v3+json": {
       "column_count": 3,
       "row_count": 5,
       "columns": [
        {
         "name": "county_name",
         "dtype": "object",
         "stats": {
          "unique_count": 5,
          "nan_count": 0,
          "categories": [
           {
            "name": "Alameda",
            "count": 1
           },
           {
            "name": "Alpine",
            "count": 1
           },
           {
            "name": "3 others",
            "count": 3
           }
          ]
         }
        },
        {
         "name": "avg_daily_attendance_expense",
         "dtype": "float64",
         "stats": {
          "unique_count": 5,
          "nan_count": 0,
          "min": "9560.13914089174",
          "max": "43008.99906002417",
          "histogram": [
           {
            "bin_start": 9560.13914089174,
            "bin_end": 12905.025132804984,
            "count": 2
           },
           {
            "bin_start": 12905.025132804984,
            "bin_end": 16249.911124718226,
            "count": 2
           },
           {
            "bin_start": 16249.911124718226,
            "bin_end": 19594.79711663147,
            "count": 0
           },
           {
            "bin_start": 19594.79711663147,
            "bin_end": 22939.683108544712,
            "count": 0
           },
           {
            "bin_start": 22939.683108544712,
            "bin_end": 26284.569100457957,
            "count": 0
           },
           {
            "bin_start": 26284.569100457957,
            "bin_end": 29629.4550923712,
            "count": 0
           },
           {
            "bin_start": 29629.4550923712,
            "bin_end": 32974.341084284446,
            "count": 0
           },
           {
            "bin_start": 32974.341084284446,
            "bin_end": 36319.22707619768,
            "count": 0
           },
           {
            "bin_start": 36319.22707619768,
            "bin_end": 39664.113068110935,
            "count": 0
           },
           {
            "bin_start": 39664.113068110935,
            "bin_end": 43008.99906002417,
            "count": 1
           }
          ]
         }
        },
        {
         "name": "year",
         "dtype": "int64",
         "stats": {
          "unique_count": 1,
          "nan_count": 0,
          "min": "2019",
          "max": "2019",
          "histogram": [
           {
            "bin_start": 2018.5,
            "bin_end": 2018.6,
            "count": 0
           },
           {
            "bin_start": 2018.6,
            "bin_end": 2018.7,
            "count": 0
           },
           {
            "bin_start": 2018.7,
            "bin_end": 2018.8,
            "count": 0
           },
           {
            "bin_start": 2018.8,
            "bin_end": 2018.9,
            "count": 0
           },
           {
            "bin_start": 2018.9,
            "bin_end": 2019,
            "count": 0
           },
           {
            "bin_start": 2019,
            "bin_end": 2019.1,
            "count": 5
           },
           {
            "bin_start": 2019.1,
            "bin_end": 2019.2,
            "count": 0
           },
           {
            "bin_start": 2019.2,
            "bin_end": 2019.3,
            "count": 0
           },
           {
            "bin_start": 2019.3,
            "bin_end": 2019.4,
            "count": 0
           },
           {
            "bin_start": 2019.4,
            "bin_end": 2019.5,
            "count": 0
           }
          ]
         }
        },
        {
         "name": "_deepnote_index_column",
         "dtype": "int64"
        }
       ],
       "rows": [
        {
         "county_name": "Alameda",
         "avg_daily_attendance_expense": 13194.89578845783,
         "year": 2019,
         "_deepnote_index_column": 0
        },
        {
         "county_name": "Alpine",
         "avg_daily_attendance_expense": 43008.99906002417,
         "year": 2019,
         "_deepnote_index_column": 1
        },
        {
         "county_name": "Amador",
         "avg_daily_attendance_expense": 9560.13914089174,
         "year": 2019,
         "_deepnote_index_column": 2
        },
        {
         "county_name": "Butte",
         "avg_daily_attendance_expense": 12468.193786123991,
         "year": 2019,
         "_deepnote_index_column": 3
        },
        {
         "county_name": "Calaveras",
         "avg_daily_attendance_expense": 13095.530582367297,
         "year": 2019,
         "_deepnote_index_column": 4
        }
       ]
      },
      "text/plain": "  county_name  avg_daily_attendance_expense  year\n0     Alameda                  13194.895788  2019\n1      Alpine                  43008.999060  2019\n2      Amador                   9560.139141  2019\n3       Butte                  12468.193786  2019\n4   Calaveras                  13095.530582  2019",
      "text/html": "<div>\n<style scoped>\n    .dataframe tbody tr th:only-of-type {\n        vertical-align: middle;\n    }\n\n    .dataframe tbody tr th {\n        vertical-align: top;\n    }\n\n    .dataframe thead th {\n        text-align: right;\n    }\n</style>\n<table border=\"1\" class=\"dataframe\">\n  <thead>\n    <tr style=\"text-align: right;\">\n      <th></th>\n      <th>county_name</th>\n      <th>avg_daily_attendance_expense</th>\n      <th>year</th>\n    </tr>\n  </thead>\n  <tbody>\n    <tr>\n      <th>0</th>\n      <td>Alameda</td>\n      <td>13194.895788</td>\n      <td>2019</td>\n    </tr>\n    <tr>\n      <th>1</th>\n      <td>Alpine</td>\n      <td>43008.999060</td>\n      <td>2019</td>\n    </tr>\n    <tr>\n      <th>2</th>\n      <td>Amador</td>\n      <td>9560.139141</td>\n      <td>2019</td>\n    </tr>\n    <tr>\n      <th>3</th>\n      <td>Butte</td>\n      <td>12468.193786</td>\n      <td>2019</td>\n    </tr>\n    <tr>\n      <th>4</th>\n      <td>Calaveras</td>\n      <td>13095.530582</td>\n      <td>2019</td>\n    </tr>\n  </tbody>\n</table>\n</div>"
     },
     "metadata": {}
    }
   ]
  },
  {
   "cell_type": "code",
   "metadata": {
    "tags": [],
    "deepnote_to_be_reexecuted": false,
    "source_hash": "ee27a942",
    "execution_start": 1641475688243,
    "execution_millis": 2,
    "deepnote_output_heights": [
     21.1875
    ],
    "cell_id": "00007-a326c681-346f-426d-8215-9bad14e4f892",
    "deepnote_cell_type": "code"
   },
   "source": "#Should be 58 counties * number of years returned, so right now, 6, = 348\nlen(all_vals)",
   "execution_count": null,
   "outputs": [
    {
     "output_type": "execute_result",
     "execution_count": 7,
     "data": {
      "text/plain": "348"
     },
     "metadata": {}
    }
   ]
  },
  {
   "cell_type": "code",
   "metadata": {
    "tags": [],
    "deepnote_to_be_reexecuted": false,
    "source_hash": "7b48c71f",
    "execution_start": 1641475688295,
    "execution_millis": 220,
    "cell_id": "00008-f9fba41f-9889-4107-80ff-65d70413cff1",
    "deepnote_cell_type": "code"
   },
   "source": "#Write data out to be used with other county variables\nall_vals.to_csv('/work/cleaned-csvs/ca_school_expenditure.csv',index=False)",
   "execution_count": null,
   "outputs": []
  },
  {
   "cell_type": "markdown",
   "source": "<a style='text-decoration:none;line-height:16px;display:flex;color:#5B5B62;padding:10px;justify-content:end;' href='https://deepnote.com?utm_source=created-in-deepnote-cell&projectId=f6c76417-5fde-42f3-8920-755838dec3fa' target=\"_blank\">\n<img alt='Created in deepnote.com' style='display:inline;max-height:16px;margin:0px;margin-right:7.5px;' src='data:image/svg+xml;base64,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' > </img>\nCreated in <span style='font-weight:600;margin-left:4px;'>Deepnote</span></a>",
   "metadata": {
    "tags": [],
    "created_in_deepnote_cell": true,
    "deepnote_cell_type": "markdown"
   }
  }
 ],
 "nbformat": 4,
 "nbformat_minor": 2,
 "metadata": {
  "orig_nbformat": 2,
  "deepnote": {
   "is_reactive": false
  },
  "deepnote_notebook_id": "0c5e345c-845a-4dfd-bdb3-3e797c16fde3",
  "deepnote_execution_queue": []
 }
}