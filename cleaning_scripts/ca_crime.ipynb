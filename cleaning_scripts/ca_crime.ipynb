{
 "cells": [
  {
   "cell_type": "code",
   "metadata": {
    "tags": [],
    "cell_id": "00000-c4630a7f-e69e-47e2-b97c-11e350243b07",
    "deepnote_to_be_reexecuted": false,
    "source_hash": "b4cde312",
    "execution_start": 1641481250850,
    "deepnote_cell_type": "code"
   },
   "source": "# Data Source\n# https://openjustice.doj.ca.gov/data\n# From the Crimes and Clearances (including Arson) section, choose the Summary CSV file\n# There is also a Readme pdf to explain the variables\n\n# Notes: \n# num_violent_crimes is the sum of num_homicide, num_rape, num_robbery, and num_agg_assault\n# num_property_crimes is the sum of num_burglary, num_vehicle_theft, num_larceny_theft\n\n",
   "execution_count": null,
   "outputs": []
  },
  {
   "cell_type": "code",
   "metadata": {
    "tags": [],
    "deepnote_to_be_reexecuted": false,
    "source_hash": "9b82ee11",
    "execution_start": 1641481250908,
    "execution_millis": 3654499,
    "cell_id": "00000-2e78067f-3d8e-4be0-97d2-0d063d2e1ecc",
    "deepnote_cell_type": "code"
   },
   "source": "import pandas as pd",
   "execution_count": null,
   "outputs": []
  },
  {
   "cell_type": "code",
   "metadata": {
    "tags": [],
    "deepnote_to_be_reexecuted": false,
    "source_hash": "45d70e84",
    "execution_start": 1641481250909,
    "execution_millis": 240,
    "deepnote_output_heights": [
     232.25,
     232.25
    ],
    "cell_id": "00001-1cdd63f4-333a-4043-bd0d-3061bd4649cc",
    "deepnote_cell_type": "code"
   },
   "source": "#Read in data\ncrime_df = pd.read_csv('/work/assets/Crimes_and_Clearances_with_Arson-1985-2020.csv',\n            usecols=[0,1,2,3,4,5,6,7,8,9,10,11,24],header=0,\n            names=['year','county_name','agency_name','num_violent_crimes','num_homicide',\n                    'num_rape','num_robbery','num_agg_assault','num_property_crimes',\n                    'num_burglary','num_vehicle_theft','num_larceny_theft','num_arson'])\n\n\n# Zero fill missing num_arson values and convert to int\ncrime_df['num_arson'].replace(r'^\\s*$', '0', regex=True,inplace=True)\ncrime_df['num_arson'] = crime_df['num_arson'].astype(str).astype(int)\n\n",
   "execution_count": null,
   "outputs": [
    {
     "name": "stderr",
     "text": "/shared-libs/python3.9/py-core/lib/python3.9/site-packages/IPython/core/interactiveshell.py:3185: DtypeWarning: Columns (24) have mixed types.Specify dtype option on import or set low_memory=False.\n  has_raised = await self.run_ast_nodes(code_ast.body, cell_name,\n",
     "output_type": "stream",
     "data": {}
    }
   ]
  },
  {
   "cell_type": "code",
   "metadata": {
    "tags": [],
    "deepnote_to_be_reexecuted": false,
    "source_hash": "ffd6cd91",
    "execution_start": 1641481251176,
    "execution_millis": 45,
    "deepnote_output_heights": [
     21
    ],
    "cell_id": "00002-cba58631-43c3-44ca-bffe-83780fee7acb",
    "deepnote_cell_type": "code"
   },
   "source": "#Check shape - should be 26409,13\ncrime_df.shape",
   "execution_count": null,
   "outputs": [
    {
     "output_type": "execute_result",
     "execution_count": 4,
     "data": {
      "text/plain": "(26409, 13)"
     },
     "metadata": {}
    }
   ]
  },
  {
   "cell_type": "code",
   "metadata": {
    "tags": [],
    "cell_id": "00004-7d684692-0052-4f60-9fbf-dfde0450b8ba",
    "deepnote_to_be_reexecuted": false,
    "source_hash": "66db8387",
    "execution_start": 1641481251264,
    "execution_millis": 130,
    "deepnote_output_heights": [
     232.25
    ],
    "deepnote_cell_type": "code"
   },
   "source": "#Check one row of data\ncrime_df.head(1)",
   "execution_count": null,
   "outputs": [
    {
     "output_type": "execute_result",
     "execution_count": 5,
     "data": {
      "application/vnd.deepnote.dataframe.v3+json": {
       "column_count": 13,
       "row_count": 1,
       "columns": [
        {
         "name": "year",
         "dtype": "int64",
         "stats": {
          "unique_count": 1,
          "nan_count": 0,
          "min": "1985",
          "max": "1985",
          "histogram": [
           {
            "bin_start": 1984.5,
            "bin_end": 1984.6,
            "count": 0
           },
           {
            "bin_start": 1984.6,
            "bin_end": 1984.7,
            "count": 0
           },
           {
            "bin_start": 1984.7,
            "bin_end": 1984.8,
            "count": 0
           },
           {
            "bin_start": 1984.8,
            "bin_end": 1984.9,
            "count": 0
           },
           {
            "bin_start": 1984.9,
            "bin_end": 1985,
            "count": 0
           },
           {
            "bin_start": 1985,
            "bin_end": 1985.1,
            "count": 1
           },
           {
            "bin_start": 1985.1,
            "bin_end": 1985.2,
            "count": 0
           },
           {
            "bin_start": 1985.2,
            "bin_end": 1985.3,
            "count": 0
           },
           {
            "bin_start": 1985.3,
            "bin_end": 1985.4,
            "count": 0
           },
           {
            "bin_start": 1985.4,
            "bin_end": 1985.5,
            "count": 0
           }
          ]
         }
        },
        {
         "name": "county_name",
         "dtype": "object",
         "stats": {
          "unique_count": 1,
          "nan_count": 0,
          "categories": [
           {
            "name": "Alameda County",
            "count": 1
           }
          ]
         }
        },
        {
         "name": "agency_name",
         "dtype": "object",
         "stats": {
          "unique_count": 1,
          "nan_count": 0,
          "categories": [
           {
            "name": "Alameda Co. Sheriff's Department",
            "count": 1
           }
          ]
         }
        },
        {
         "name": "num_violent_crimes",
         "dtype": "int64",
         "stats": {
          "unique_count": 1,
          "nan_count": 0,
          "min": "427",
          "max": "427",
          "histogram": [
           {
            "bin_start": 426.5,
            "bin_end": 426.6,
            "count": 0
           },
           {
            "bin_start": 426.6,
            "bin_end": 426.7,
            "count": 0
           },
           {
            "bin_start": 426.7,
            "bin_end": 426.8,
            "count": 0
           },
           {
            "bin_start": 426.8,
            "bin_end": 426.9,
            "count": 0
           },
           {
            "bin_start": 426.9,
            "bin_end": 427,
            "count": 0
           },
           {
            "bin_start": 427,
            "bin_end": 427.1,
            "count": 1
           },
           {
            "bin_start": 427.1,
            "bin_end": 427.2,
            "count": 0
           },
           {
            "bin_start": 427.2,
            "bin_end": 427.3,
            "count": 0
           },
           {
            "bin_start": 427.3,
            "bin_end": 427.4,
            "count": 0
           },
           {
            "bin_start": 427.4,
            "bin_end": 427.5,
            "count": 0
           }
          ]
         }
        },
        {
         "name": "num_homicide",
         "dtype": "int64",
         "stats": {
          "unique_count": 1,
          "nan_count": 0,
          "min": "3",
          "max": "3",
          "histogram": [
           {
            "bin_start": 2.5,
            "bin_end": 2.6,
            "count": 0
           },
           {
            "bin_start": 2.6,
            "bin_end": 2.7,
            "count": 0
           },
           {
            "bin_start": 2.7,
            "bin_end": 2.8,
            "count": 0
           },
           {
            "bin_start": 2.8,
            "bin_end": 2.9,
            "count": 0
           },
           {
            "bin_start": 2.9,
            "bin_end": 3,
            "count": 0
           },
           {
            "bin_start": 3,
            "bin_end": 3.1,
            "count": 1
           },
           {
            "bin_start": 3.1,
            "bin_end": 3.2,
            "count": 0
           },
           {
            "bin_start": 3.2,
            "bin_end": 3.3,
            "count": 0
           },
           {
            "bin_start": 3.3,
            "bin_end": 3.4,
            "count": 0
           },
           {
            "bin_start": 3.4,
            "bin_end": 3.5,
            "count": 0
           }
          ]
         }
        },
        {
         "name": "num_rape",
         "dtype": "int64",
         "stats": {
          "unique_count": 1,
          "nan_count": 0,
          "min": "27",
          "max": "27",
          "histogram": [
           {
            "bin_start": 26.5,
            "bin_end": 26.6,
            "count": 0
           },
           {
            "bin_start": 26.6,
            "bin_end": 26.7,
            "count": 0
           },
           {
            "bin_start": 26.7,
            "bin_end": 26.8,
            "count": 0
           },
           {
            "bin_start": 26.8,
            "bin_end": 26.9,
            "count": 0
           },
           {
            "bin_start": 26.9,
            "bin_end": 27,
            "count": 0
           },
           {
            "bin_start": 27,
            "bin_end": 27.1,
            "count": 1
           },
           {
            "bin_start": 27.1,
            "bin_end": 27.2,
            "count": 0
           },
           {
            "bin_start": 27.2,
            "bin_end": 27.3,
            "count": 0
           },
           {
            "bin_start": 27.3,
            "bin_end": 27.4,
            "count": 0
           },
           {
            "bin_start": 27.4,
            "bin_end": 27.5,
            "count": 0
           }
          ]
         }
        },
        {
         "name": "num_robbery",
         "dtype": "int64",
         "stats": {
          "unique_count": 1,
          "nan_count": 0,
          "min": "166",
          "max": "166",
          "histogram": [
           {
            "bin_start": 165.5,
            "bin_end": 165.6,
            "count": 0
           },
           {
            "bin_start": 165.6,
            "bin_end": 165.7,
            "count": 0
           },
           {
            "bin_start": 165.7,
            "bin_end": 165.8,
            "count": 0
           },
           {
            "bin_start": 165.8,
            "bin_end": 165.9,
            "count": 0
           },
           {
            "bin_start": 165.9,
            "bin_end": 166,
            "count": 0
           },
           {
            "bin_start": 166,
            "bin_end": 166.1,
            "count": 1
           },
           {
            "bin_start": 166.1,
            "bin_end": 166.2,
            "count": 0
           },
           {
            "bin_start": 166.2,
            "bin_end": 166.3,
            "count": 0
           },
           {
            "bin_start": 166.3,
            "bin_end": 166.4,
            "count": 0
           },
           {
            "bin_start": 166.4,
            "bin_end": 166.5,
            "count": 0
           }
          ]
         }
        },
        {
         "name": "num_agg_assault",
         "dtype": "int64",
         "stats": {
          "unique_count": 1,
          "nan_count": 0,
          "min": "231",
          "max": "231",
          "histogram": [
           {
            "bin_start": 230.5,
            "bin_end": 230.6,
            "count": 0
           },
           {
            "bin_start": 230.6,
            "bin_end": 230.7,
            "count": 0
           },
           {
            "bin_start": 230.7,
            "bin_end": 230.8,
            "count": 0
           },
           {
            "bin_start": 230.8,
            "bin_end": 230.9,
            "count": 0
           },
           {
            "bin_start": 230.9,
            "bin_end": 231,
            "count": 0
           },
           {
            "bin_start": 231,
            "bin_end": 231.1,
            "count": 1
           },
           {
            "bin_start": 231.1,
            "bin_end": 231.2,
            "count": 0
           },
           {
            "bin_start": 231.2,
            "bin_end": 231.3,
            "count": 0
           },
           {
            "bin_start": 231.3,
            "bin_end": 231.4,
            "count": 0
           },
           {
            "bin_start": 231.4,
            "bin_end": 231.5,
            "count": 0
           }
          ]
         }
        },
        {
         "name": "num_property_crimes",
         "dtype": "int64",
         "stats": {
          "unique_count": 1,
          "nan_count": 0,
          "min": "3964",
          "max": "3964",
          "histogram": [
           {
            "bin_start": 3963.5,
            "bin_end": 3963.6,
            "count": 0
           },
           {
            "bin_start": 3963.6,
            "bin_end": 3963.7,
            "count": 0
           },
           {
            "bin_start": 3963.7,
            "bin_end": 3963.8,
            "count": 0
           },
           {
            "bin_start": 3963.8,
            "bin_end": 3963.9,
            "count": 0
           },
           {
            "bin_start": 3963.9,
            "bin_end": 3964,
            "count": 0
           },
           {
            "bin_start": 3964,
            "bin_end": 3964.1,
            "count": 1
           },
           {
            "bin_start": 3964.1,
            "bin_end": 3964.2,
            "count": 0
           },
           {
            "bin_start": 3964.2,
            "bin_end": 3964.3,
            "count": 0
           },
           {
            "bin_start": 3964.3,
            "bin_end": 3964.4,
            "count": 0
           },
           {
            "bin_start": 3964.4,
            "bin_end": 3964.5,
            "count": 0
           }
          ]
         }
        },
        {
         "name": "num_burglary",
         "dtype": "int64",
         "stats": {
          "unique_count": 1,
          "nan_count": 0,
          "min": "1483",
          "max": "1483",
          "histogram": [
           {
            "bin_start": 1482.5,
            "bin_end": 1482.6,
            "count": 0
           },
           {
            "bin_start": 1482.6,
            "bin_end": 1482.7,
            "count": 0
           },
           {
            "bin_start": 1482.7,
            "bin_end": 1482.8,
            "count": 0
           },
           {
            "bin_start": 1482.8,
            "bin_end": 1482.9,
            "count": 0
           },
           {
            "bin_start": 1482.9,
            "bin_end": 1483,
            "count": 0
           },
           {
            "bin_start": 1483,
            "bin_end": 1483.1,
            "count": 1
           },
           {
            "bin_start": 1483.1,
            "bin_end": 1483.2,
            "count": 0
           },
           {
            "bin_start": 1483.2,
            "bin_end": 1483.3,
            "count": 0
           },
           {
            "bin_start": 1483.3,
            "bin_end": 1483.4,
            "count": 0
           },
           {
            "bin_start": 1483.4,
            "bin_end": 1483.5,
            "count": 0
           }
          ]
         }
        },
        {
         "name": "num_vehicle_theft",
         "dtype": "int64",
         "stats": {
          "unique_count": 1,
          "nan_count": 0,
          "min": "353",
          "max": "353",
          "histogram": [
           {
            "bin_start": 352.5,
            "bin_end": 352.6,
            "count": 0
           },
           {
            "bin_start": 352.6,
            "bin_end": 352.7,
            "count": 0
           },
           {
            "bin_start": 352.7,
            "bin_end": 352.8,
            "count": 0
           },
           {
            "bin_start": 352.8,
            "bin_end": 352.9,
            "count": 0
           },
           {
            "bin_start": 352.9,
            "bin_end": 353,
            "count": 0
           },
           {
            "bin_start": 353,
            "bin_end": 353.1,
            "count": 1
           },
           {
            "bin_start": 353.1,
            "bin_end": 353.2,
            "count": 0
           },
           {
            "bin_start": 353.2,
            "bin_end": 353.3,
            "count": 0
           },
           {
            "bin_start": 353.3,
            "bin_end": 353.4,
            "count": 0
           },
           {
            "bin_start": 353.4,
            "bin_end": 353.5,
            "count": 0
           }
          ]
         }
        },
        {
         "name": "num_larceny_theft",
         "dtype": "int64",
         "stats": {
          "unique_count": 1,
          "nan_count": 0,
          "min": "2128",
          "max": "2128",
          "histogram": [
           {
            "bin_start": 2127.5,
            "bin_end": 2127.6,
            "count": 0
           },
           {
            "bin_start": 2127.6,
            "bin_end": 2127.7,
            "count": 0
           },
           {
            "bin_start": 2127.7,
            "bin_end": 2127.8,
            "count": 0
           },
           {
            "bin_start": 2127.8,
            "bin_end": 2127.9,
            "count": 0
           },
           {
            "bin_start": 2127.9,
            "bin_end": 2128,
            "count": 0
           },
           {
            "bin_start": 2128,
            "bin_end": 2128.1,
            "count": 1
           },
           {
            "bin_start": 2128.1,
            "bin_end": 2128.2,
            "count": 0
           },
           {
            "bin_start": 2128.2,
            "bin_end": 2128.3,
            "count": 0
           },
           {
            "bin_start": 2128.3,
            "bin_end": 2128.4,
            "count": 0
           },
           {
            "bin_start": 2128.4,
            "bin_end": 2128.5,
            "count": 0
           }
          ]
         }
        },
        {
         "name": "num_arson",
         "dtype": "int64",
         "stats": {
          "unique_count": 1,
          "nan_count": 0,
          "min": "31",
          "max": "31",
          "histogram": [
           {
            "bin_start": 30.5,
            "bin_end": 30.6,
            "count": 0
           },
           {
            "bin_start": 30.6,
            "bin_end": 30.7,
            "count": 0
           },
           {
            "bin_start": 30.7,
            "bin_end": 30.8,
            "count": 0
           },
           {
            "bin_start": 30.8,
            "bin_end": 30.9,
            "count": 0
           },
           {
            "bin_start": 30.9,
            "bin_end": 31,
            "count": 0
           },
           {
            "bin_start": 31,
            "bin_end": 31.1,
            "count": 1
           },
           {
            "bin_start": 31.1,
            "bin_end": 31.2,
            "count": 0
           },
           {
            "bin_start": 31.2,
            "bin_end": 31.3,
            "count": 0
           },
           {
            "bin_start": 31.3,
            "bin_end": 31.4,
            "count": 0
           },
           {
            "bin_start": 31.4,
            "bin_end": 31.5,
            "count": 0
           }
          ]
         }
        },
        {
         "name": "_deepnote_index_column",
         "dtype": "int64"
        }
       ],
       "rows": [
        {
         "year": 1985,
         "county_name": "Alameda County",
         "agency_name": "Alameda Co. Sheriff's Department",
         "num_violent_crimes": 427,
         "num_homicide": 3,
         "num_rape": 27,
         "num_robbery": 166,
         "num_agg_assault": 231,
         "num_property_crimes": 3964,
         "num_burglary": 1483,
         "num_vehicle_theft": 353,
         "num_larceny_theft": 2128,
         "num_arson": 31,
         "_deepnote_index_column": 0
        }
       ]
      },
      "text/plain": "   year     county_name                       agency_name  num_violent_crimes  \\\n0  1985  Alameda County  Alameda Co. Sheriff's Department                 427   \n\n   num_homicide  num_rape  num_robbery  num_agg_assault  num_property_crimes  \\\n0             3        27          166              231                 3964   \n\n   num_burglary  num_vehicle_theft  num_larceny_theft  num_arson  \n0          1483                353               2128         31  ",
      "text/html": "<div>\n<style scoped>\n    .dataframe tbody tr th:only-of-type {\n        vertical-align: middle;\n    }\n\n    .dataframe tbody tr th {\n        vertical-align: top;\n    }\n\n    .dataframe thead th {\n        text-align: right;\n    }\n</style>\n<table border=\"1\" class=\"dataframe\">\n  <thead>\n    <tr style=\"text-align: right;\">\n      <th></th>\n      <th>year</th>\n      <th>county_name</th>\n      <th>agency_name</th>\n      <th>num_violent_crimes</th>\n      <th>num_homicide</th>\n      <th>num_rape</th>\n      <th>num_robbery</th>\n      <th>num_agg_assault</th>\n      <th>num_property_crimes</th>\n      <th>num_burglary</th>\n      <th>num_vehicle_theft</th>\n      <th>num_larceny_theft</th>\n      <th>num_arson</th>\n    </tr>\n  </thead>\n  <tbody>\n    <tr>\n      <th>0</th>\n      <td>1985</td>\n      <td>Alameda County</td>\n      <td>Alameda Co. Sheriff's Department</td>\n      <td>427</td>\n      <td>3</td>\n      <td>27</td>\n      <td>166</td>\n      <td>231</td>\n      <td>3964</td>\n      <td>1483</td>\n      <td>353</td>\n      <td>2128</td>\n      <td>31</td>\n    </tr>\n  </tbody>\n</table>\n</div>"
     },
     "metadata": {}
    }
   ]
  },
  {
   "cell_type": "code",
   "metadata": {
    "tags": [],
    "cell_id": "00004-cac32e7c-c9ea-464e-b50d-81bf9b2ca861",
    "deepnote_to_be_reexecuted": false,
    "source_hash": "330700d2",
    "execution_start": 1641481251448,
    "execution_millis": 0,
    "deepnote_cell_type": "code"
   },
   "source": "# Limit to 2014-2019\ncrime_df = crime_df[crime_df['year'].between(2014,2019)]",
   "execution_count": null,
   "outputs": []
  },
  {
   "cell_type": "code",
   "metadata": {
    "tags": [],
    "deepnote_to_be_reexecuted": false,
    "source_hash": "994531f9",
    "execution_start": 1641481251448,
    "execution_millis": 118,
    "deepnote_output_heights": [
     59.5625
    ],
    "cell_id": "00003-7ff3d28e-453e-413a-b84b-0a6e7d10f2bc",
    "deepnote_cell_type": "code"
   },
   "source": "#Sum the agency data to provide county totals per year\ncrime_grouped = crime_df.groupby(['year','county_name']).sum().reset_index()\ncrime_grouped.head()",
   "execution_count": null,
   "outputs": [
    {
     "output_type": "execute_result",
     "execution_count": 7,
     "data": {
      "application/vnd.deepnote.dataframe.v3+json": {
       "column_count": 12,
       "row_count": 5,
       "columns": [
        {
         "name": "year",
         "dtype": "int64",
         "stats": {
          "unique_count": 1,
          "nan_count": 0,
          "min": "2014",
          "max": "2014",
          "histogram": [
           {
            "bin_start": 2013.5,
            "bin_end": 2013.6,
            "count": 0
           },
           {
            "bin_start": 2013.6,
            "bin_end": 2013.7,
            "count": 0
           },
           {
            "bin_start": 2013.7,
            "bin_end": 2013.8,
            "count": 0
           },
           {
            "bin_start": 2013.8,
            "bin_end": 2013.9,
            "count": 0
           },
           {
            "bin_start": 2013.9,
            "bin_end": 2014,
            "count": 0
           },
           {
            "bin_start": 2014,
            "bin_end": 2014.1,
            "count": 5
           },
           {
            "bin_start": 2014.1,
            "bin_end": 2014.2,
            "count": 0
           },
           {
            "bin_start": 2014.2,
            "bin_end": 2014.3,
            "count": 0
           },
           {
            "bin_start": 2014.3,
            "bin_end": 2014.4,
            "count": 0
           },
           {
            "bin_start": 2014.4,
            "bin_end": 2014.5,
            "count": 0
           }
          ]
         }
        },
        {
         "name": "county_name",
         "dtype": "object",
         "stats": {
          "unique_count": 5,
          "nan_count": 0,
          "categories": [
           {
            "name": "Alameda County",
            "count": 1
           },
           {
            "name": "Alpine County",
            "count": 1
           },
           {
            "name": "3 others",
            "count": 3
           }
          ]
         }
        },
        {
         "name": "num_violent_crimes",
         "dtype": "int64",
         "stats": {
          "unique_count": 5,
          "nan_count": 0,
          "min": "4",
          "max": "10356",
          "histogram": [
           {
            "bin_start": 4,
            "bin_end": 1039.2,
            "count": 4
           },
           {
            "bin_start": 1039.2,
            "bin_end": 2074.4,
            "count": 0
           },
           {
            "bin_start": 2074.4,
            "bin_end": 3109.6000000000004,
            "count": 0
           },
           {
            "bin_start": 3109.6000000000004,
            "bin_end": 4144.8,
            "count": 0
           },
           {
            "bin_start": 4144.8,
            "bin_end": 5180,
            "count": 0
           },
           {
            "bin_start": 5180,
            "bin_end": 6215.200000000001,
            "count": 0
           },
           {
            "bin_start": 6215.200000000001,
            "bin_end": 7250.400000000001,
            "count": 0
           },
           {
            "bin_start": 7250.400000000001,
            "bin_end": 8285.6,
            "count": 0
           },
           {
            "bin_start": 8285.6,
            "bin_end": 9320.800000000001,
            "count": 0
           },
           {
            "bin_start": 9320.800000000001,
            "bin_end": 10356,
            "count": 1
           }
          ]
         }
        },
        {
         "name": "num_homicide",
         "dtype": "int64",
         "stats": {
          "unique_count": 4,
          "nan_count": 0,
          "min": "0",
          "max": "102",
          "histogram": [
           {
            "bin_start": 0,
            "bin_end": 10.2,
            "count": 3
           },
           {
            "bin_start": 10.2,
            "bin_end": 20.4,
            "count": 1
           },
           {
            "bin_start": 20.4,
            "bin_end": 30.599999999999998,
            "count": 0
           },
           {
            "bin_start": 30.599999999999998,
            "bin_end": 40.8,
            "count": 0
           },
           {
            "bin_start": 40.8,
            "bin_end": 51,
            "count": 0
           },
           {
            "bin_start": 51,
            "bin_end": 61.199999999999996,
            "count": 0
           },
           {
            "bin_start": 61.199999999999996,
            "bin_end": 71.39999999999999,
            "count": 0
           },
           {
            "bin_start": 71.39999999999999,
            "bin_end": 81.6,
            "count": 0
           },
           {
            "bin_start": 81.6,
            "bin_end": 91.8,
            "count": 0
           },
           {
            "bin_start": 91.8,
            "bin_end": 102,
            "count": 1
           }
          ]
         }
        },
        {
         "name": "num_rape",
         "dtype": "int64",
         "stats": {
          "unique_count": 5,
          "nan_count": 0,
          "min": "1",
          "max": "423",
          "histogram": [
           {
            "bin_start": 1,
            "bin_end": 43.2,
            "count": 3
           },
           {
            "bin_start": 43.2,
            "bin_end": 85.4,
            "count": 1
           },
           {
            "bin_start": 85.4,
            "bin_end": 127.60000000000001,
            "count": 0
           },
           {
            "bin_start": 127.60000000000001,
            "bin_end": 169.8,
            "count": 0
           },
           {
            "bin_start": 169.8,
            "bin_end": 212,
            "count": 0
           },
           {
            "bin_start": 212,
            "bin_end": 254.20000000000002,
            "count": 0
           },
           {
            "bin_start": 254.20000000000002,
            "bin_end": 296.40000000000003,
            "count": 0
           },
           {
            "bin_start": 296.40000000000003,
            "bin_end": 338.6,
            "count": 0
           },
           {
            "bin_start": 338.6,
            "bin_end": 380.8,
            "count": 0
           },
           {
            "bin_start": 380.8,
            "bin_end": 423,
            "count": 1
           }
          ]
         }
        },
        {
         "name": "num_robbery",
         "dtype": "int64",
         "stats": {
          "unique_count": 5,
          "nan_count": 0,
          "min": "0",
          "max": "5039",
          "histogram": [
           {
            "bin_start": 0,
            "bin_end": 503.9,
            "count": 4
           },
           {
            "bin_start": 503.9,
            "bin_end": 1007.8,
            "count": 0
           },
           {
            "bin_start": 1007.8,
            "bin_end": 1511.6999999999998,
            "count": 0
           },
           {
            "bin_start": 1511.6999999999998,
            "bin_end": 2015.6,
            "count": 0
           },
           {
            "bin_start": 2015.6,
            "bin_end": 2519.5,
            "count": 0
           },
           {
            "bin_start": 2519.5,
            "bin_end": 3023.3999999999996,
            "count": 0
           },
           {
            "bin_start": 3023.3999999999996,
            "bin_end": 3527.2999999999997,
            "count": 0
           },
           {
            "bin_start": 3527.2999999999997,
            "bin_end": 4031.2,
            "count": 0
           },
           {
            "bin_start": 4031.2,
            "bin_end": 4535.099999999999,
            "count": 0
           },
           {
            "bin_start": 4535.099999999999,
            "bin_end": 5039,
            "count": 1
           }
          ]
         }
        },
        {
         "name": "num_agg_assault",
         "dtype": "int64",
         "stats": {
          "unique_count": 5,
          "nan_count": 0,
          "min": "3",
          "max": "4792",
          "histogram": [
           {
            "bin_start": 3,
            "bin_end": 481.9,
            "count": 4
           },
           {
            "bin_start": 481.9,
            "bin_end": 960.8,
            "count": 0
           },
           {
            "bin_start": 960.8,
            "bin_end": 1439.6999999999998,
            "count": 0
           },
           {
            "bin_start": 1439.6999999999998,
            "bin_end": 1918.6,
            "count": 0
           },
           {
            "bin_start": 1918.6,
            "bin_end": 2397.5,
            "count": 0
           },
           {
            "bin_start": 2397.5,
            "bin_end": 2876.3999999999996,
            "count": 0
           },
           {
            "bin_start": 2876.3999999999996,
            "bin_end": 3355.2999999999997,
            "count": 0
           },
           {
            "bin_start": 3355.2999999999997,
            "bin_end": 3834.2,
            "count": 0
           },
           {
            "bin_start": 3834.2,
            "bin_end": 4313.099999999999,
            "count": 0
           },
           {
            "bin_start": 4313.099999999999,
            "bin_end": 4792,
            "count": 1
           }
          ]
         }
        },
        {
         "name": "num_property_crimes",
         "dtype": "int64",
         "stats": {
          "unique_count": 5,
          "nan_count": 0,
          "min": "24",
          "max": "57620",
          "histogram": [
           {
            "bin_start": 24,
            "bin_end": 5783.6,
            "count": 3
           },
           {
            "bin_start": 5783.6,
            "bin_end": 11543.2,
            "count": 1
           },
           {
            "bin_start": 11543.2,
            "bin_end": 17302.800000000003,
            "count": 0
           },
           {
            "bin_start": 17302.800000000003,
            "bin_end": 23062.4,
            "count": 0
           },
           {
            "bin_start": 23062.4,
            "bin_end": 28822,
            "count": 0
           },
           {
            "bin_start": 28822,
            "bin_end": 34581.600000000006,
            "count": 0
           },
           {
            "bin_start": 34581.600000000006,
            "bin_end": 40341.200000000004,
            "count": 0
           },
           {
            "bin_start": 40341.200000000004,
            "bin_end": 46100.8,
            "count": 0
           },
           {
            "bin_start": 46100.8,
            "bin_end": 51860.4,
            "count": 0
           },
           {
            "bin_start": 51860.4,
            "bin_end": 57620,
            "count": 1
           }
          ]
         }
        },
        {
         "name": "num_burglary",
         "dtype": "int64",
         "stats": {
          "unique_count": 5,
          "nan_count": 0,
          "min": "10",
          "max": "9833",
          "histogram": [
           {
            "bin_start": 10,
            "bin_end": 992.3,
            "count": 3
           },
           {
            "bin_start": 992.3,
            "bin_end": 1974.6,
            "count": 1
           },
           {
            "bin_start": 1974.6,
            "bin_end": 2956.8999999999996,
            "count": 0
           },
           {
            "bin_start": 2956.8999999999996,
            "bin_end": 3939.2,
            "count": 0
           },
           {
            "bin_start": 3939.2,
            "bin_end": 4921.5,
            "count": 0
           },
           {
            "bin_start": 4921.5,
            "bin_end": 5903.799999999999,
            "count": 0
           },
           {
            "bin_start": 5903.799999999999,
            "bin_end": 6886.099999999999,
            "count": 0
           },
           {
            "bin_start": 6886.099999999999,
            "bin_end": 7868.4,
            "count": 0
           },
           {
            "bin_start": 7868.4,
            "bin_end": 8850.699999999999,
            "count": 0
           },
           {
            "bin_start": 8850.699999999999,
            "bin_end": 9833,
            "count": 1
           }
          ]
         }
        },
        {
         "name": "num_vehicle_theft",
         "dtype": "int64",
         "stats": {
          "unique_count": 5,
          "nan_count": 0,
          "min": "0",
          "max": "12677",
          "histogram": [
           {
            "bin_start": 0,
            "bin_end": 1267.7,
            "count": 4
           },
           {
            "bin_start": 1267.7,
            "bin_end": 2535.4,
            "count": 0
           },
           {
            "bin_start": 2535.4,
            "bin_end": 3803.1000000000004,
            "count": 0
           },
           {
            "bin_start": 3803.1000000000004,
            "bin_end": 5070.8,
            "count": 0
           },
           {
            "bin_start": 5070.8,
            "bin_end": 6338.5,
            "count": 0
           },
           {
            "bin_start": 6338.5,
            "bin_end": 7606.200000000001,
            "count": 0
           },
           {
            "bin_start": 7606.200000000001,
            "bin_end": 8873.9,
            "count": 0
           },
           {
            "bin_start": 8873.9,
            "bin_end": 10141.6,
            "count": 0
           },
           {
            "bin_start": 10141.6,
            "bin_end": 11409.300000000001,
            "count": 0
           },
           {
            "bin_start": 11409.300000000001,
            "bin_end": 12677,
            "count": 1
           }
          ]
         }
        },
        {
         "name": "num_larceny_theft",
         "dtype": "int64",
         "stats": {
          "unique_count": 5,
          "nan_count": 0,
          "min": "14",
          "max": "35110",
          "histogram": [
           {
            "bin_start": 14,
            "bin_end": 3523.6,
            "count": 3
           },
           {
            "bin_start": 3523.6,
            "bin_end": 7033.2,
            "count": 1
           },
           {
            "bin_start": 7033.2,
            "bin_end": 10542.8,
            "count": 0
           },
           {
            "bin_start": 10542.8,
            "bin_end": 14052.4,
            "count": 0
           },
           {
            "bin_start": 14052.4,
            "bin_end": 17562,
            "count": 0
           },
           {
            "bin_start": 17562,
            "bin_end": 21071.6,
            "count": 0
           },
           {
            "bin_start": 21071.6,
            "bin_end": 24581.2,
            "count": 0
           },
           {
            "bin_start": 24581.2,
            "bin_end": 28090.8,
            "count": 0
           },
           {
            "bin_start": 28090.8,
            "bin_end": 31600.399999999998,
            "count": 0
           },
           {
            "bin_start": 31600.399999999998,
            "bin_end": 35110,
            "count": 1
           }
          ]
         }
        },
        {
         "name": "num_arson",
         "dtype": "int64",
         "stats": {
          "unique_count": 5,
          "nan_count": 0,
          "min": "0",
          "max": "326",
          "histogram": [
           {
            "bin_start": 0,
            "bin_end": 32.6,
            "count": 3
           },
           {
            "bin_start": 32.6,
            "bin_end": 65.2,
            "count": 0
           },
           {
            "bin_start": 65.2,
            "bin_end": 97.80000000000001,
            "count": 1
           },
           {
            "bin_start": 97.80000000000001,
            "bin_end": 130.4,
            "count": 0
           },
           {
            "bin_start": 130.4,
            "bin_end": 163,
            "count": 0
           },
           {
            "bin_start": 163,
            "bin_end": 195.60000000000002,
            "count": 0
           },
           {
            "bin_start": 195.60000000000002,
            "bin_end": 228.20000000000002,
            "count": 0
           },
           {
            "bin_start": 228.20000000000002,
            "bin_end": 260.8,
            "count": 0
           },
           {
            "bin_start": 260.8,
            "bin_end": 293.40000000000003,
            "count": 0
           },
           {
            "bin_start": 293.40000000000003,
            "bin_end": 326,
            "count": 1
           }
          ]
         }
        },
        {
         "name": "_deepnote_index_column",
         "dtype": "int64"
        }
       ],
       "rows": [
        {
         "year": 2014,
         "county_name": "Alameda County",
         "num_violent_crimes": 10356,
         "num_homicide": 102,
         "num_rape": 423,
         "num_robbery": 5039,
         "num_agg_assault": 4792,
         "num_property_crimes": 57620,
         "num_burglary": 9833,
         "num_vehicle_theft": 12677,
         "num_larceny_theft": 35110,
         "num_arson": 326,
         "_deepnote_index_column": 0
        },
        {
         "year": 2014,
         "county_name": "Alpine County",
         "num_violent_crimes": 4,
         "num_homicide": 0,
         "num_rape": 1,
         "num_robbery": 0,
         "num_agg_assault": 3,
         "num_property_crimes": 24,
         "num_burglary": 10,
         "num_vehicle_theft": 0,
         "num_larceny_theft": 14,
         "num_arson": 0,
         "_deepnote_index_column": 1
        },
        {
         "year": 2014,
         "county_name": "Amador County",
         "num_violent_crimes": 81,
         "num_homicide": 1,
         "num_rape": 5,
         "num_robbery": 10,
         "num_agg_assault": 65,
         "num_property_crimes": 629,
         "num_burglary": 196,
         "num_vehicle_theft": 40,
         "num_larceny_theft": 393,
         "num_arson": 4,
         "_deepnote_index_column": 2
        },
        {
         "year": 2014,
         "county_name": "Butte County",
         "num_violent_crimes": 678,
         "num_homicide": 11,
         "num_rape": 76,
         "num_robbery": 149,
         "num_agg_assault": 442,
         "num_property_crimes": 6631,
         "num_burglary": 1667,
         "num_vehicle_theft": 760,
         "num_larceny_theft": 4204,
         "num_arson": 87,
         "_deepnote_index_column": 3
        },
        {
         "year": 2014,
         "county_name": "Calaveras County",
         "num_violent_crimes": 113,
         "num_homicide": 0,
         "num_rape": 12,
         "num_robbery": 9,
         "num_agg_assault": 92,
         "num_property_crimes": 989,
         "num_burglary": 297,
         "num_vehicle_theft": 93,
         "num_larceny_theft": 599,
         "num_arson": 2,
         "_deepnote_index_column": 4
        }
       ]
      },
      "text/plain": "   year       county_name  num_violent_crimes  num_homicide  num_rape  \\\n0  2014    Alameda County               10356           102       423   \n1  2014     Alpine County                   4             0         1   \n2  2014     Amador County                  81             1         5   \n3  2014      Butte County                 678            11        76   \n4  2014  Calaveras County                 113             0        12   \n\n   num_robbery  num_agg_assault  num_property_crimes  num_burglary  \\\n0         5039             4792                57620          9833   \n1            0                3                   24            10   \n2           10               65                  629           196   \n3          149              442                 6631          1667   \n4            9               92                  989           297   \n\n   num_vehicle_theft  num_larceny_theft  num_arson  \n0              12677              35110        326  \n1                  0                 14          0  \n2                 40                393          4  \n3                760               4204         87  \n4                 93                599          2  ",
      "text/html": "<div>\n<style scoped>\n    .dataframe tbody tr th:only-of-type {\n        vertical-align: middle;\n    }\n\n    .dataframe tbody tr th {\n        vertical-align: top;\n    }\n\n    .dataframe thead th {\n        text-align: right;\n    }\n</style>\n<table border=\"1\" class=\"dataframe\">\n  <thead>\n    <tr style=\"text-align: right;\">\n      <th></th>\n      <th>year</th>\n      <th>county_name</th>\n      <th>num_violent_crimes</th>\n      <th>num_homicide</th>\n      <th>num_rape</th>\n      <th>num_robbery</th>\n      <th>num_agg_assault</th>\n      <th>num_property_crimes</th>\n      <th>num_burglary</th>\n      <th>num_vehicle_theft</th>\n      <th>num_larceny_theft</th>\n      <th>num_arson</th>\n    </tr>\n  </thead>\n  <tbody>\n    <tr>\n      <th>0</th>\n      <td>2014</td>\n      <td>Alameda County</td>\n      <td>10356</td>\n      <td>102</td>\n      <td>423</td>\n      <td>5039</td>\n      <td>4792</td>\n      <td>57620</td>\n      <td>9833</td>\n      <td>12677</td>\n      <td>35110</td>\n      <td>326</td>\n    </tr>\n    <tr>\n      <th>1</th>\n      <td>2014</td>\n      <td>Alpine County</td>\n      <td>4</td>\n      <td>0</td>\n      <td>1</td>\n      <td>0</td>\n      <td>3</td>\n      <td>24</td>\n      <td>10</td>\n      <td>0</td>\n      <td>14</td>\n      <td>0</td>\n    </tr>\n    <tr>\n      <th>2</th>\n      <td>2014</td>\n      <td>Amador County</td>\n      <td>81</td>\n      <td>1</td>\n      <td>5</td>\n      <td>10</td>\n      <td>65</td>\n      <td>629</td>\n      <td>196</td>\n      <td>40</td>\n      <td>393</td>\n      <td>4</td>\n    </tr>\n    <tr>\n      <th>3</th>\n      <td>2014</td>\n      <td>Butte County</td>\n      <td>678</td>\n      <td>11</td>\n      <td>76</td>\n      <td>149</td>\n      <td>442</td>\n      <td>6631</td>\n      <td>1667</td>\n      <td>760</td>\n      <td>4204</td>\n      <td>87</td>\n    </tr>\n    <tr>\n      <th>4</th>\n      <td>2014</td>\n      <td>Calaveras County</td>\n      <td>113</td>\n      <td>0</td>\n      <td>12</td>\n      <td>9</td>\n      <td>92</td>\n      <td>989</td>\n      <td>297</td>\n      <td>93</td>\n      <td>599</td>\n      <td>2</td>\n    </tr>\n  </tbody>\n</table>\n</div>"
     },
     "metadata": {}
    }
   ]
  },
  {
   "cell_type": "code",
   "metadata": {
    "tags": [],
    "deepnote_to_be_reexecuted": false,
    "source_hash": "dcbb858b",
    "execution_start": 1641481251580,
    "execution_millis": 274,
    "cell_id": "00004-0605383c-870c-49c1-8974-d7f8acfd71e7",
    "deepnote_cell_type": "code"
   },
   "source": "crime_grouped",
   "execution_count": null,
   "outputs": [
    {
     "output_type": "execute_result",
     "execution_count": 8,
     "data": {
      "application/vnd.deepnote.dataframe.v3+json": {
       "column_count": 12,
       "row_count": 348,
       "columns": [
        {
         "name": "year",
         "dtype": "int64",
         "stats": {
          "unique_count": 6,
          "nan_count": 0,
          "min": "2014",
          "max": "2019",
          "histogram": [
           {
            "bin_start": 2014,
            "bin_end": 2014.5,
            "count": 58
           },
           {
            "bin_start": 2014.5,
            "bin_end": 2015,
            "count": 0
           },
           {
            "bin_start": 2015,
            "bin_end": 2015.5,
            "count": 58
           },
           {
            "bin_start": 2015.5,
            "bin_end": 2016,
            "count": 0
           },
           {
            "bin_start": 2016,
            "bin_end": 2016.5,
            "count": 58
           },
           {
            "bin_start": 2016.5,
            "bin_end": 2017,
            "count": 0
           },
           {
            "bin_start": 2017,
            "bin_end": 2017.5,
            "count": 58
           },
           {
            "bin_start": 2017.5,
            "bin_end": 2018,
            "count": 0
           },
           {
            "bin_start": 2018,
            "bin_end": 2018.5,
            "count": 58
           },
           {
            "bin_start": 2018.5,
            "bin_end": 2019,
            "count": 58
           }
          ]
         }
        },
        {
         "name": "county_name",
         "dtype": "object",
         "stats": {
          "unique_count": 58,
          "nan_count": 0,
          "categories": [
           {
            "name": "Alameda County",
            "count": 6
           },
           {
            "name": "Alpine County",
            "count": 6
           },
           {
            "name": "56 others",
            "count": 336
           }
          ]
         }
        },
        {
         "name": "num_violent_crimes",
         "dtype": "int64",
         "stats": {
          "unique_count": 323,
          "nan_count": 0,
          "min": "1",
          "max": "59924",
          "histogram": [
           {
            "bin_start": 1,
            "bin_end": 5993.3,
            "count": 296
           },
           {
            "bin_start": 5993.3,
            "bin_end": 11985.6,
            "count": 45
           },
           {
            "bin_start": 11985.6,
            "bin_end": 17977.9,
            "count": 1
           },
           {
            "bin_start": 17977.9,
            "bin_end": 23970.2,
            "count": 0
           },
           {
            "bin_start": 23970.2,
            "bin_end": 29962.5,
            "count": 0
           },
           {
            "bin_start": 29962.5,
            "bin_end": 35954.8,
            "count": 0
           },
           {
            "bin_start": 35954.8,
            "bin_end": 41947.1,
            "count": 0
           },
           {
            "bin_start": 41947.1,
            "bin_end": 47939.4,
            "count": 1
           },
           {
            "bin_start": 47939.4,
            "bin_end": 53931.700000000004,
            "count": 1
           },
           {
            "bin_start": 53931.700000000004,
            "bin_end": 59924,
            "count": 4
           }
          ]
         }
        },
        {
         "name": "num_homicide",
         "dtype": "int64",
         "stats": {
          "unique_count": 94,
          "nan_count": 0,
          "min": "0",
          "max": "622",
          "histogram": [
           {
            "bin_start": 0,
            "bin_end": 62.2,
            "count": 302
           },
           {
            "bin_start": 62.2,
            "bin_end": 124.4,
            "count": 36
           },
           {
            "bin_start": 124.4,
            "bin_end": 186.60000000000002,
            "count": 4
           },
           {
            "bin_start": 186.60000000000002,
            "bin_end": 248.8,
            "count": 0
           },
           {
            "bin_start": 248.8,
            "bin_end": 311,
            "count": 0
           },
           {
            "bin_start": 311,
            "bin_end": 373.20000000000005,
            "count": 0
           },
           {
            "bin_start": 373.20000000000005,
            "bin_end": 435.40000000000003,
            "count": 0
           },
           {
            "bin_start": 435.40000000000003,
            "bin_end": 497.6,
            "count": 0
           },
           {
            "bin_start": 497.6,
            "bin_end": 559.8000000000001,
            "count": 2
           },
           {
            "bin_start": 559.8000000000001,
            "bin_end": 622,
            "count": 4
           }
          ]
         }
        },
        {
         "name": "num_rape",
         "dtype": "int64",
         "stats": {
          "unique_count": 216,
          "nan_count": 0,
          "min": "0",
          "max": "4489",
          "histogram": [
           {
            "bin_start": 0,
            "bin_end": 448.9,
            "count": 307
           },
           {
            "bin_start": 448.9,
            "bin_end": 897.8,
            "count": 27
           },
           {
            "bin_start": 897.8,
            "bin_end": 1346.6999999999998,
            "count": 8
           },
           {
            "bin_start": 1346.6999999999998,
            "bin_end": 1795.6,
            "count": 0
           },
           {
            "bin_start": 1795.6,
            "bin_end": 2244.5,
            "count": 1
           },
           {
            "bin_start": 2244.5,
            "bin_end": 2693.3999999999996,
            "count": 0
           },
           {
            "bin_start": 2693.3999999999996,
            "bin_end": 3142.2999999999997,
            "count": 0
           },
           {
            "bin_start": 3142.2999999999997,
            "bin_end": 3591.2,
            "count": 0
           },
           {
            "bin_start": 3591.2,
            "bin_end": 4040.1,
            "count": 1
           },
           {
            "bin_start": 4040.1,
            "bin_end": 4489,
            "count": 4
           }
          ]
         }
        },
        {
         "name": "num_robbery",
         "dtype": "int64",
         "stats": {
          "unique_count": 230,
          "nan_count": 0,
          "min": "0",
          "max": "21089",
          "histogram": [
           {
            "bin_start": 0,
            "bin_end": 2108.9,
            "count": 303
           },
           {
            "bin_start": 2108.9,
            "bin_end": 4217.8,
            "count": 33
           },
           {
            "bin_start": 4217.8,
            "bin_end": 6326.700000000001,
            "count": 6
           },
           {
            "bin_start": 6326.700000000001,
            "bin_end": 8435.6,
            "count": 0
           },
           {
            "bin_start": 8435.6,
            "bin_end": 10544.5,
            "count": 0
           },
           {
            "bin_start": 10544.5,
            "bin_end": 12653.400000000001,
            "count": 0
           },
           {
            "bin_start": 12653.400000000001,
            "bin_end": 14762.300000000001,
            "count": 0
           },
           {
            "bin_start": 14762.300000000001,
            "bin_end": 16871.2,
            "count": 1
           },
           {
            "bin_start": 16871.2,
            "bin_end": 18980.100000000002,
            "count": 2
           },
           {
            "bin_start": 18980.100000000002,
            "bin_end": 21089,
            "count": 3
           }
          ]
         }
        },
        {
         "name": "num_agg_assault",
         "dtype": "int64",
         "stats": {
          "unique_count": 302,
          "nan_count": 0,
          "min": "1",
          "max": "34028",
          "histogram": [
           {
            "bin_start": 1,
            "bin_end": 3403.7,
            "count": 290
           },
           {
            "bin_start": 3403.7,
            "bin_end": 6806.4,
            "count": 45
           },
           {
            "bin_start": 6806.4,
            "bin_end": 10209.099999999999,
            "count": 7
           },
           {
            "bin_start": 10209.099999999999,
            "bin_end": 13611.8,
            "count": 0
           },
           {
            "bin_start": 13611.8,
            "bin_end": 17014.5,
            "count": 0
           },
           {
            "bin_start": 17014.5,
            "bin_end": 20417.199999999997,
            "count": 0
           },
           {
            "bin_start": 20417.199999999997,
            "bin_end": 23819.899999999998,
            "count": 1
           },
           {
            "bin_start": 23819.899999999998,
            "bin_end": 27222.6,
            "count": 0
           },
           {
            "bin_start": 27222.6,
            "bin_end": 30625.3,
            "count": 1
           },
           {
            "bin_start": 30625.3,
            "bin_end": 34028,
            "count": 4
           }
          ]
         }
        },
        {
         "name": "num_property_crimes",
         "dtype": "int64",
         "stats": {
          "unique_count": 342,
          "nan_count": 0,
          "min": "22",
          "max": "252224",
          "histogram": [
           {
            "bin_start": 22,
            "bin_end": 25242.2,
            "count": 277
           },
           {
            "bin_start": 25242.2,
            "bin_end": 50462.4,
            "count": 34
           },
           {
            "bin_start": 50462.4,
            "bin_end": 75682.6,
            "count": 31
           },
           {
            "bin_start": 75682.6,
            "bin_end": 100902.8,
            "count": 0
           },
           {
            "bin_start": 100902.8,
            "bin_end": 126123,
            "count": 0
           },
           {
            "bin_start": 126123,
            "bin_end": 151343.2,
            "count": 0
           },
           {
            "bin_start": 151343.2,
            "bin_end": 176563.4,
            "count": 0
           },
           {
            "bin_start": 176563.4,
            "bin_end": 201783.6,
            "count": 0
           },
           {
            "bin_start": 201783.6,
            "bin_end": 227003.80000000002,
            "count": 2
           },
           {
            "bin_start": 227003.80000000002,
            "bin_end": 252224,
            "count": 4
           }
          ]
         }
        },
        {
         "name": "num_burglary",
         "dtype": "int64",
         "stats": {
          "unique_count": 320,
          "nan_count": 0,
          "min": "5",
          "max": "46972",
          "histogram": [
           {
            "bin_start": 5,
            "bin_end": 4701.7,
            "count": 280
           },
           {
            "bin_start": 4701.7,
            "bin_end": 9398.4,
            "count": 42
           },
           {
            "bin_start": 9398.4,
            "bin_end": 14095.099999999999,
            "count": 17
           },
           {
            "bin_start": 14095.099999999999,
            "bin_end": 18791.8,
            "count": 3
           },
           {
            "bin_start": 18791.8,
            "bin_end": 23488.5,
            "count": 0
           },
           {
            "bin_start": 23488.5,
            "bin_end": 28185.199999999997,
            "count": 0
           },
           {
            "bin_start": 28185.199999999997,
            "bin_end": 32881.9,
            "count": 0
           },
           {
            "bin_start": 32881.9,
            "bin_end": 37578.6,
            "count": 0
           },
           {
            "bin_start": 37578.6,
            "bin_end": 42275.299999999996,
            "count": 1
           },
           {
            "bin_start": 42275.299999999996,
            "bin_end": 46972,
            "count": 5
           }
          ]
         }
        },
        {
         "name": "num_vehicle_theft",
         "dtype": "int64",
         "stats": {
          "unique_count": 306,
          "nan_count": 0,
          "min": "0",
          "max": "47496",
          "histogram": [
           {
            "bin_start": 0,
            "bin_end": 4749.6,
            "count": 283
           },
           {
            "bin_start": 4749.6,
            "bin_end": 9499.2,
            "count": 34
           },
           {
            "bin_start": 9499.2,
            "bin_end": 14248.800000000001,
            "count": 25
           },
           {
            "bin_start": 14248.800000000001,
            "bin_end": 18998.4,
            "count": 0
           },
           {
            "bin_start": 18998.4,
            "bin_end": 23748,
            "count": 0
           },
           {
            "bin_start": 23748,
            "bin_end": 28497.600000000002,
            "count": 0
           },
           {
            "bin_start": 28497.600000000002,
            "bin_end": 33247.200000000004,
            "count": 0
           },
           {
            "bin_start": 33247.200000000004,
            "bin_end": 37996.8,
            "count": 2
           },
           {
            "bin_start": 37996.8,
            "bin_end": 42746.4,
            "count": 1
           },
           {
            "bin_start": 42746.4,
            "bin_end": 47496,
            "count": 3
           }
          ]
         }
        },
        {
         "name": "num_larceny_theft",
         "dtype": "int64",
         "stats": {
          "unique_count": 339,
          "nan_count": 0,
          "min": "11",
          "max": "157810",
          "histogram": [
           {
            "bin_start": 11,
            "bin_end": 15790.9,
            "count": 279
           },
           {
            "bin_start": 15790.9,
            "bin_end": 31570.8,
            "count": 31
           },
           {
            "bin_start": 31570.8,
            "bin_end": 47350.7,
            "count": 30
           },
           {
            "bin_start": 47350.7,
            "bin_end": 63130.6,
            "count": 2
           },
           {
            "bin_start": 63130.6,
            "bin_end": 78910.5,
            "count": 0
           },
           {
            "bin_start": 78910.5,
            "bin_end": 94690.4,
            "count": 0
           },
           {
            "bin_start": 94690.4,
            "bin_end": 110470.3,
            "count": 0
           },
           {
            "bin_start": 110470.3,
            "bin_end": 126250.2,
            "count": 0
           },
           {
            "bin_start": 126250.2,
            "bin_end": 142030.1,
            "count": 1
           },
           {
            "bin_start": 142030.1,
            "bin_end": 157810,
            "count": 5
           }
          ]
         }
        },
        {
         "name": "num_arson",
         "dtype": "int64",
         "stats": {
          "unique_count": 170,
          "nan_count": 0,
          "min": "0",
          "max": "2711",
          "histogram": [
           {
            "bin_start": 0,
            "bin_end": 271.1,
            "count": 302
           },
           {
            "bin_start": 271.1,
            "bin_end": 542.2,
            "count": 34
           },
           {
            "bin_start": 542.2,
            "bin_end": 813.3000000000001,
            "count": 5
           },
           {
            "bin_start": 813.3000000000001,
            "bin_end": 1084.4,
            "count": 1
           },
           {
            "bin_start": 1084.4,
            "bin_end": 1355.5,
            "count": 0
           },
           {
            "bin_start": 1355.5,
            "bin_end": 1626.6000000000001,
            "count": 0
           },
           {
            "bin_start": 1626.6000000000001,
            "bin_end": 1897.7000000000003,
            "count": 0
           },
           {
            "bin_start": 1897.7000000000003,
            "bin_end": 2168.8,
            "count": 2
           },
           {
            "bin_start": 2168.8,
            "bin_end": 2439.9,
            "count": 1
           },
           {
            "bin_start": 2439.9,
            "bin_end": 2711,
            "count": 3
           }
          ]
         }
        },
        {
         "name": "_deepnote_index_column",
         "dtype": "int64"
        }
       ],
       "rows": [
        {
         "year": 2014,
         "county_name": "Alameda County",
         "num_violent_crimes": 10356,
         "num_homicide": 102,
         "num_rape": 423,
         "num_robbery": 5039,
         "num_agg_assault": 4792,
         "num_property_crimes": 57620,
         "num_burglary": 9833,
         "num_vehicle_theft": 12677,
         "num_larceny_theft": 35110,
         "num_arson": 326,
         "_deepnote_index_column": 0
        },
        {
         "year": 2014,
         "county_name": "Alpine County",
         "num_violent_crimes": 4,
         "num_homicide": 0,
         "num_rape": 1,
         "num_robbery": 0,
         "num_agg_assault": 3,
         "num_property_crimes": 24,
         "num_burglary": 10,
         "num_vehicle_theft": 0,
         "num_larceny_theft": 14,
         "num_arson": 0,
         "_deepnote_index_column": 1
        },
        {
         "year": 2014,
         "county_name": "Amador County",
         "num_violent_crimes": 81,
         "num_homicide": 1,
         "num_rape": 5,
         "num_robbery": 10,
         "num_agg_assault": 65,
         "num_property_crimes": 629,
         "num_burglary": 196,
         "num_vehicle_theft": 40,
         "num_larceny_theft": 393,
         "num_arson": 4,
         "_deepnote_index_column": 2
        },
        {
         "year": 2014,
         "county_name": "Butte County",
         "num_violent_crimes": 678,
         "num_homicide": 11,
         "num_rape": 76,
         "num_robbery": 149,
         "num_agg_assault": 442,
         "num_property_crimes": 6631,
         "num_burglary": 1667,
         "num_vehicle_theft": 760,
         "num_larceny_theft": 4204,
         "num_arson": 87,
         "_deepnote_index_column": 3
        },
        {
         "year": 2014,
         "county_name": "Calaveras County",
         "num_violent_crimes": 113,
         "num_homicide": 0,
         "num_rape": 12,
         "num_robbery": 9,
         "num_agg_assault": 92,
         "num_property_crimes": 989,
         "num_burglary": 297,
         "num_vehicle_theft": 93,
         "num_larceny_theft": 599,
         "num_arson": 2,
         "_deepnote_index_column": 4
        },
        {
         "year": 2014,
         "county_name": "Colusa County",
         "num_violent_crimes": 40,
         "num_homicide": 0,
         "num_rape": 2,
         "num_robbery": 6,
         "num_agg_assault": 32,
         "num_property_crimes": 350,
         "num_burglary": 113,
         "num_vehicle_theft": 33,
         "num_larceny_theft": 204,
         "num_arson": 2,
         "_deepnote_index_column": 5
        },
        {
         "year": 2014,
         "county_name": "Contra Costa County",
         "num_violent_crimes": 3650,
         "num_homicide": 47,
         "num_rape": 236,
         "num_robbery": 1456,
         "num_agg_assault": 1911,
         "num_property_crimes": 32232,
         "num_burglary": 6949,
         "num_vehicle_theft": 6568,
         "num_larceny_theft": 18715,
         "num_arson": 153,
         "_deepnote_index_column": 6
        },
        {
         "year": 2014,
         "county_name": "Del Norte County",
         "num_violent_crimes": 165,
         "num_homicide": 1,
         "num_rape": 28,
         "num_robbery": 21,
         "num_agg_assault": 115,
         "num_property_crimes": 649,
         "num_burglary": 275,
         "num_vehicle_theft": 121,
         "num_larceny_theft": 253,
         "num_arson": 7,
         "_deepnote_index_column": 7
        },
        {
         "year": 2014,
         "county_name": "El Dorado County",
         "num_violent_crimes": 409,
         "num_homicide": 3,
         "num_rape": 48,
         "num_robbery": 51,
         "num_agg_assault": 307,
         "num_property_crimes": 3138,
         "num_burglary": 830,
         "num_vehicle_theft": 300,
         "num_larceny_theft": 2008,
         "num_arson": 13,
         "_deepnote_index_column": 8
        },
        {
         "year": 2014,
         "county_name": "Fresno County",
         "num_violent_crimes": 4547,
         "num_homicide": 59,
         "num_rape": 183,
         "num_robbery": 1040,
         "num_agg_assault": 3265,
         "num_property_crimes": 32535,
         "num_burglary": 7838,
         "num_vehicle_theft": 4834,
         "num_larceny_theft": 19863,
         "num_arson": 491,
         "_deepnote_index_column": 9
        }
       ]
      },
      "text/plain": "     year       county_name  num_violent_crimes  num_homicide  num_rape  \\\n0    2014    Alameda County               10356           102       423   \n1    2014     Alpine County                   4             0         1   \n2    2014     Amador County                  81             1         5   \n3    2014      Butte County                 678            11        76   \n4    2014  Calaveras County                 113             0        12   \n..    ...               ...                 ...           ...       ...   \n343  2019     Tulare County                1692            20       194   \n344  2019   Tuolumne County                 195             2        68   \n345  2019    Ventura County                1830            24       232   \n346  2019       Yolo County                 637             6        87   \n347  2019       Yuba County                 326             7        41   \n\n     num_robbery  num_agg_assault  num_property_crimes  num_burglary  \\\n0           5039             4792                57620          9833   \n1              0                3                   24            10   \n2             10               65                  629           196   \n3            149              442                 6631          1667   \n4              9               92                  989           297   \n..           ...              ...                  ...           ...   \n343          389             1089                10625          2025   \n344           13              112                 1074           375   \n345          527             1047                12634          1946   \n346          176              368                 6644           925   \n347           61              217                 1844           405   \n\n     num_vehicle_theft  num_larceny_theft  num_arson  \n0                12677              35110        326  \n1                    0                 14          0  \n2                   40                393          4  \n3                  760               4204         87  \n4                   93                599          2  \n..                 ...                ...        ...  \n343               1845               6755         87  \n344                101                598         10  \n345               1234               9454         91  \n346                587               5132         88  \n347                475                964         20  \n\n[348 rows x 12 columns]",
      "text/html": "<div>\n<style scoped>\n    .dataframe tbody tr th:only-of-type {\n        vertical-align: middle;\n    }\n\n    .dataframe tbody tr th {\n        vertical-align: top;\n    }\n\n    .dataframe thead th {\n        text-align: right;\n    }\n</style>\n<table border=\"1\" class=\"dataframe\">\n  <thead>\n    <tr style=\"text-align: right;\">\n      <th></th>\n      <th>year</th>\n      <th>county_name</th>\n      <th>num_violent_crimes</th>\n      <th>num_homicide</th>\n      <th>num_rape</th>\n      <th>num_robbery</th>\n      <th>num_agg_assault</th>\n      <th>num_property_crimes</th>\n      <th>num_burglary</th>\n      <th>num_vehicle_theft</th>\n      <th>num_larceny_theft</th>\n      <th>num_arson</th>\n    </tr>\n  </thead>\n  <tbody>\n    <tr>\n      <th>0</th>\n      <td>2014</td>\n      <td>Alameda County</td>\n      <td>10356</td>\n      <td>102</td>\n      <td>423</td>\n      <td>5039</td>\n      <td>4792</td>\n      <td>57620</td>\n      <td>9833</td>\n      <td>12677</td>\n      <td>35110</td>\n      <td>326</td>\n    </tr>\n    <tr>\n      <th>1</th>\n      <td>2014</td>\n      <td>Alpine County</td>\n      <td>4</td>\n      <td>0</td>\n      <td>1</td>\n      <td>0</td>\n      <td>3</td>\n      <td>24</td>\n      <td>10</td>\n      <td>0</td>\n      <td>14</td>\n      <td>0</td>\n    </tr>\n    <tr>\n      <th>2</th>\n      <td>2014</td>\n      <td>Amador County</td>\n      <td>81</td>\n      <td>1</td>\n      <td>5</td>\n      <td>10</td>\n      <td>65</td>\n      <td>629</td>\n      <td>196</td>\n      <td>40</td>\n      <td>393</td>\n      <td>4</td>\n    </tr>\n    <tr>\n      <th>3</th>\n      <td>2014</td>\n      <td>Butte County</td>\n      <td>678</td>\n      <td>11</td>\n      <td>76</td>\n      <td>149</td>\n      <td>442</td>\n      <td>6631</td>\n      <td>1667</td>\n      <td>760</td>\n      <td>4204</td>\n      <td>87</td>\n    </tr>\n    <tr>\n      <th>4</th>\n      <td>2014</td>\n      <td>Calaveras County</td>\n      <td>113</td>\n      <td>0</td>\n      <td>12</td>\n      <td>9</td>\n      <td>92</td>\n      <td>989</td>\n      <td>297</td>\n      <td>93</td>\n      <td>599</td>\n      <td>2</td>\n    </tr>\n    <tr>\n      <th>...</th>\n      <td>...</td>\n      <td>...</td>\n      <td>...</td>\n      <td>...</td>\n      <td>...</td>\n      <td>...</td>\n      <td>...</td>\n      <td>...</td>\n      <td>...</td>\n      <td>...</td>\n      <td>...</td>\n      <td>...</td>\n    </tr>\n    <tr>\n      <th>343</th>\n      <td>2019</td>\n      <td>Tulare County</td>\n      <td>1692</td>\n      <td>20</td>\n      <td>194</td>\n      <td>389</td>\n      <td>1089</td>\n      <td>10625</td>\n      <td>2025</td>\n      <td>1845</td>\n      <td>6755</td>\n      <td>87</td>\n    </tr>\n    <tr>\n      <th>344</th>\n      <td>2019</td>\n      <td>Tuolumne County</td>\n      <td>195</td>\n      <td>2</td>\n      <td>68</td>\n      <td>13</td>\n      <td>112</td>\n      <td>1074</td>\n      <td>375</td>\n      <td>101</td>\n      <td>598</td>\n      <td>10</td>\n    </tr>\n    <tr>\n      <th>345</th>\n      <td>2019</td>\n      <td>Ventura County</td>\n      <td>1830</td>\n      <td>24</td>\n      <td>232</td>\n      <td>527</td>\n      <td>1047</td>\n      <td>12634</td>\n      <td>1946</td>\n      <td>1234</td>\n      <td>9454</td>\n      <td>91</td>\n    </tr>\n    <tr>\n      <th>346</th>\n      <td>2019</td>\n      <td>Yolo County</td>\n      <td>637</td>\n      <td>6</td>\n      <td>87</td>\n      <td>176</td>\n      <td>368</td>\n      <td>6644</td>\n      <td>925</td>\n      <td>587</td>\n      <td>5132</td>\n      <td>88</td>\n    </tr>\n    <tr>\n      <th>347</th>\n      <td>2019</td>\n      <td>Yuba County</td>\n      <td>326</td>\n      <td>7</td>\n      <td>41</td>\n      <td>61</td>\n      <td>217</td>\n      <td>1844</td>\n      <td>405</td>\n      <td>475</td>\n      <td>964</td>\n      <td>20</td>\n    </tr>\n  </tbody>\n</table>\n<p>348 rows × 12 columns</p>\n</div>"
     },
     "metadata": {}
    }
   ]
  },
  {
   "cell_type": "code",
   "metadata": {
    "tags": [],
    "deepnote_to_be_reexecuted": false,
    "source_hash": "f06efd30",
    "execution_start": 1641481251852,
    "execution_millis": 3,
    "deepnote_output_heights": [
     79
    ],
    "cell_id": "00007-8345b095-54f8-4437-8be7-600d684d7f52",
    "deepnote_cell_type": "code"
   },
   "source": "crime_grouped.columns",
   "execution_count": null,
   "outputs": [
    {
     "output_type": "execute_result",
     "execution_count": 9,
     "data": {
      "text/plain": "Index(['year', 'county_name', 'num_violent_crimes', 'num_homicide', 'num_rape',\n       'num_robbery', 'num_agg_assault', 'num_property_crimes', 'num_burglary',\n       'num_vehicle_theft', 'num_larceny_theft', 'num_arson'],\n      dtype='object')"
     },
     "metadata": {}
    }
   ]
  },
  {
   "cell_type": "code",
   "metadata": {
    "tags": [],
    "deepnote_to_be_reexecuted": false,
    "source_hash": "2bcd8270",
    "execution_start": 1641481251895,
    "execution_millis": 1,
    "cell_id": "00008-4d26366b-5456-4825-8e34-f92adabd8b37",
    "deepnote_cell_type": "code"
   },
   "source": "#Write out file to be used in project \ncrime_grouped.to_csv('/work/cleaned-csvs/ca_crime.csv',index=False)",
   "execution_count": null,
   "outputs": []
  },
  {
   "cell_type": "markdown",
   "source": "<a style='text-decoration:none;line-height:16px;display:flex;color:#5B5B62;padding:10px;justify-content:end;' href='https://deepnote.com?utm_source=created-in-deepnote-cell&projectId=f6c76417-5fde-42f3-8920-755838dec3fa' target=\"_blank\">\n<img alt='Created in deepnote.com' style='display:inline;max-height:16px;margin:0px;margin-right:7.5px;' src='data:image/svg+xml;base64,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' > </img>\nCreated in <span style='font-weight:600;margin-left:4px;'>Deepnote</span></a>",
   "metadata": {
    "tags": [],
    "created_in_deepnote_cell": true,
    "deepnote_cell_type": "markdown"
   }
  }
 ],
 "nbformat": 4,
 "nbformat_minor": 2,
 "metadata": {
  "orig_nbformat": 2,
  "deepnote": {
   "is_reactive": false
  },
  "deepnote_notebook_id": "9e0bbf93-1ef5-4033-9214-c3913eb261f7",
  "deepnote_execution_queue": []
 }
}