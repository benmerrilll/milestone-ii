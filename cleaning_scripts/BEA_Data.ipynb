{
 "cells": [
  {
   "cell_type": "code",
   "metadata": {
    "tags": [],
    "cell_id": "00000-d7fab247-c6ff-4768-842c-9d1105dca1ad",
    "deepnote_cell_type": "code"
   },
   "source": "# Data Source\n# https://apps.bea.gov/regional/downloadzip.cfm\n# The files are from the GDP section (CAGDP1: GDP Summary by County and MSA) and the \n# Personal Income section (CAINC30: Economic Profile By County)\n",
   "execution_count": null,
   "outputs": []
  },
  {
   "cell_type": "code",
   "metadata": {
    "tags": [],
    "cell_id": "00000-05e91853-9498-439e-8c40-ce4781d1070e",
    "deepnote_to_be_reexecuted": false,
    "source_hash": "3b7c8afa",
    "execution_start": 1641427521516,
    "execution_millis": 2689,
    "deepnote_cell_type": "code"
   },
   "source": "import pandas as pd\nimport numpy as np\nimport matplotlib.pyplot as plt\nimport seaborn as sns\nimport altair as alt\n",
   "execution_count": null,
   "outputs": []
  },
  {
   "cell_type": "code",
   "metadata": {
    "tags": [],
    "cell_id": "00001-9e77f892-7ecc-4854-ba25-8d56b5fc38fc",
    "deepnote_to_be_reexecuted": false,
    "source_hash": "a20db985",
    "execution_start": 1641427524215,
    "execution_millis": 73,
    "deepnote_output_heights": [
     21.1875
    ],
    "deepnote_cell_type": "code"
   },
   "source": "earnings_df = pd.read_csv('/work/assets/CAINC30_CA_1969_2020.csv')\ncounty_gdp = pd.read_csv('/work/assets/CAGDP1_CA_2001_2019.csv')\n\ncounty_gdp = county_gdp.iloc[3:-4,:] #Get rid of unnecessary rows (CA totals and footer)\ncounty_gdp['GeoFIPS'] = county_gdp.GeoFIPS.apply(lambda s:s.replace('\"', \"\")) #get rid of quotes\ncounty_gdp[\"county_code\"]=county_gdp['GeoFIPS'].str[-3:] #Isolate County Code\n\n\n\nearnings_df = earnings_df.iloc[31:-4,:] #Get rid of unnecessary rows (CA totals and footer)\nearnings_df['GeoFIPS'] = earnings_df.GeoFIPS.apply(lambda s:s.replace('\"', \"\")) #get rid of quotes\nearnings_df[\"county_code\"]=earnings_df['GeoFIPS'].str[-3:] #Isolate County Code\n",
   "execution_count": null,
   "outputs": []
  },
  {
   "cell_type": "code",
   "metadata": {
    "tags": [],
    "cell_id": "00002-ab1037f5-f716-4850-b7cf-fd839668726d",
    "deepnote_to_be_reexecuted": false,
    "source_hash": "d0a1db6b",
    "execution_start": 1641427524289,
    "execution_millis": 12,
    "deepnote_output_heights": [
     462.5
    ],
    "deepnote_cell_type": "code"
   },
   "source": "earnings_df['Description'].unique()",
   "execution_count": null,
   "outputs": [
    {
     "output_type": "execute_result",
     "execution_count": 3,
     "data": {
      "text/plain": "array(['Personal income (thousands of dollars)',\n       ' Net earnings by place of residence',\n       ' Personal current transfer receipts',\n       '  Income maintenance benefits 1/',\n       '  Unemployment insurance compensation', '  Retirement and other',\n       ' Dividends, interest, and rent 2/', ' Population (persons) 3/',\n       ' Per capita personal income 4/', ' Per capita net earnings 4/',\n       ' Per capita personal current transfer receipts 4/',\n       '  Per capita income maintenance benefits 4/',\n       '  Per capita unemployment insurance compensation 4/',\n       '  Per capita retirement and other 4/',\n       ' Per capita dividends, interest, and rent 4/',\n       ' Earnings by place of work', '  Wages and salaries',\n       '  Supplements to wages and salaries',\n       '   Employer contributions for employee pension and insurance funds 5/',\n       '   Employer contributions for government social insurance',\n       \"  Proprietors' income\", \"   Farm proprietors' income\",\n       \"   Nonfarm proprietors' income\",\n       'Total employment (number of jobs)', ' Wage and salary employment',\n       ' Proprietors employment', '  Farm proprietors employment 6/',\n       '  Nonfarm proprietors employment',\n       'Average earnings per job (dollars)',\n       ' Average wages and salaries',\n       \" Average nonfarm proprietors' income\"], dtype=object)"
     },
     "metadata": {}
    }
   ]
  },
  {
   "cell_type": "code",
   "metadata": {
    "tags": [],
    "cell_id": "00003-fb65fb32-2cd9-4a9e-a38a-f99152825b1c",
    "deepnote_to_be_reexecuted": false,
    "source_hash": "4e175b13",
    "execution_start": 1641427524311,
    "execution_millis": 217,
    "deepnote_output_heights": [
     59.5625
    ],
    "deepnote_cell_type": "code"
   },
   "source": "county_gdp['Description'].unique()\ncounty_gdp.head()",
   "execution_count": null,
   "outputs": [
    {
     "output_type": "execute_result",
     "execution_count": 4,
     "data": {
      "application/vnd.deepnote.dataframe.v3+json": {
       "column_count": 28,
       "row_count": 5,
       "columns": [
        {
         "name": "GeoFIPS",
         "dtype": "object",
         "stats": {
          "unique_count": 2,
          "nan_count": 0,
          "categories": [
           {
            "name": " 06001",
            "count": 3
           },
           {
            "name": " 06003",
            "count": 2
           }
          ]
         }
        },
        {
         "name": "GeoName",
         "dtype": "object",
         "stats": {
          "unique_count": 2,
          "nan_count": 0,
          "categories": [
           {
            "name": "Alameda, CA",
            "count": 3
           },
           {
            "name": "Alpine, CA",
            "count": 2
           }
          ]
         }
        },
        {
         "name": "Region",
         "dtype": "float64",
         "stats": {
          "unique_count": 1,
          "nan_count": 0,
          "min": "8.0",
          "max": "8.0",
          "histogram": [
           {
            "bin_start": 7.5,
            "bin_end": 7.6,
            "count": 0
           },
           {
            "bin_start": 7.6,
            "bin_end": 7.7,
            "count": 0
           },
           {
            "bin_start": 7.7,
            "bin_end": 7.8,
            "count": 0
           },
           {
            "bin_start": 7.8,
            "bin_end": 7.9,
            "count": 0
           },
           {
            "bin_start": 7.9,
            "bin_end": 8,
            "count": 0
           },
           {
            "bin_start": 8,
            "bin_end": 8.1,
            "count": 5
           },
           {
            "bin_start": 8.1,
            "bin_end": 8.2,
            "count": 0
           },
           {
            "bin_start": 8.2,
            "bin_end": 8.3,
            "count": 0
           },
           {
            "bin_start": 8.3,
            "bin_end": 8.4,
            "count": 0
           },
           {
            "bin_start": 8.4,
            "bin_end": 8.5,
            "count": 0
           }
          ]
         }
        },
        {
         "name": "TableName",
         "dtype": "object",
         "stats": {
          "unique_count": 1,
          "nan_count": 0,
          "categories": [
           {
            "name": "CAGDP1",
            "count": 5
           }
          ]
         }
        },
        {
         "name": "LineCode",
         "dtype": "float64",
         "stats": {
          "unique_count": 3,
          "nan_count": 0,
          "min": "1.0",
          "max": "3.0",
          "histogram": [
           {
            "bin_start": 1,
            "bin_end": 1.2,
            "count": 2
           },
           {
            "bin_start": 1.2,
            "bin_end": 1.4,
            "count": 0
           },
           {
            "bin_start": 1.4,
            "bin_end": 1.6,
            "count": 0
           },
           {
            "bin_start": 1.6,
            "bin_end": 1.8,
            "count": 0
           },
           {
            "bin_start": 1.8,
            "bin_end": 2,
            "count": 0
           },
           {
            "bin_start": 2,
            "bin_end": 2.2,
            "count": 2
           },
           {
            "bin_start": 2.2,
            "bin_end": 2.4000000000000004,
            "count": 0
           },
           {
            "bin_start": 2.4000000000000004,
            "bin_end": 2.6,
            "count": 0
           },
           {
            "bin_start": 2.6,
            "bin_end": 2.8,
            "count": 0
           },
           {
            "bin_start": 2.8,
            "bin_end": 3,
            "count": 1
           }
          ]
         }
        },
        {
         "name": "IndustryClassification",
         "dtype": "object",
         "stats": {
          "unique_count": 1,
          "nan_count": 0,
          "categories": [
           {
            "name": "...",
            "count": 5
           }
          ]
         }
        },
        {
         "name": "Description",
         "dtype": "object",
         "stats": {
          "unique_count": 3,
          "nan_count": 0,
          "categories": [
           {
            "name": "Real GDP (thousands of chained 2012 dollars)",
            "count": 2
           },
           {
            "name": "Chain-type quantity indexes for real GDP",
            "count": 2
           },
           {
            "name": "Current-dollar GDP (thousands of current dollars)",
            "count": 1
           }
          ]
         }
        },
        {
         "name": "Unit",
         "dtype": "object",
         "stats": {
          "unique_count": 3,
          "nan_count": 0,
          "categories": [
           {
            "name": "Thousands of chained 2012 dollars",
            "count": 2
           },
           {
            "name": "Quantity index",
            "count": 2
           },
           {
            "name": "Thousands of dollars",
            "count": 1
           }
          ]
         }
        },
        {
         "name": "2001",
         "dtype": "float64",
         "stats": {
          "unique_count": 5,
          "nan_count": 0,
          "min": "76.502",
          "max": "81266604.0",
          "histogram": [
           {
            "bin_start": 76.502,
            "bin_end": 8126729.2518,
            "count": 3
           },
           {
            "bin_start": 8126729.2518,
            "bin_end": 16253382.0016,
            "count": 0
           },
           {
            "bin_start": 16253382.0016,
            "bin_end": 24380034.751399998,
            "count": 0
           },
           {
            "bin_start": 24380034.751399998,
            "bin_end": 32506687.501199998,
            "count": 0
           },
           {
            "bin_start": 32506687.501199998,
            "bin_end": 40633340.250999995,
            "count": 0
           },
           {
            "bin_start": 40633340.250999995,
            "bin_end": 48759993.00079999,
            "count": 0
           },
           {
            "bin_start": 48759993.00079999,
            "bin_end": 56886645.750599995,
            "count": 0
           },
           {
            "bin_start": 56886645.750599995,
            "bin_end": 65013298.50039999,
            "count": 0
           },
           {
            "bin_start": 65013298.50039999,
            "bin_end": 73139951.2502,
            "count": 1
           },
           {
            "bin_start": 73139951.2502,
            "bin_end": 81266604,
            "count": 1
           }
          ]
         }
        },
        {
         "name": "2002",
         "dtype": "float64",
         "stats": {
          "unique_count": 5,
          "nan_count": 0,
          "min": "79.007",
          "max": "82555391.0",
          "histogram": [
           {
            "bin_start": 79.007,
            "bin_end": 8255610.206300001,
            "count": 3
           },
           {
            "bin_start": 8255610.206300001,
            "bin_end": 16511141.4056,
            "count": 0
           },
           {
            "bin_start": 16511141.4056,
            "bin_end": 24766672.604900002,
            "count": 0
           },
           {
            "bin_start": 24766672.604900002,
            "bin_end": 33022203.8042,
            "count": 0
           },
           {
            "bin_start": 33022203.8042,
            "bin_end": 41277735.0035,
            "count": 0
           },
           {
            "bin_start": 41277735.0035,
            "bin_end": 49533266.202800006,
            "count": 0
           },
           {
            "bin_start": 49533266.202800006,
            "bin_end": 57788797.402100004,
            "count": 0
           },
           {
            "bin_start": 57788797.402100004,
            "bin_end": 66044328.6014,
            "count": 0
           },
           {
            "bin_start": 66044328.6014,
            "bin_end": 74299859.80070001,
            "count": 1
           },
           {
            "bin_start": 74299859.80070001,
            "bin_end": 82555391,
            "count": 1
           }
          ]
         }
        },
        {
         "name": "2003",
         "dtype": "float64",
         "stats": {
          "unique_count": 5,
          "nan_count": 0,
          "min": "81.058",
          "max": "86554424.0",
          "histogram": [
           {
            "bin_start": 81.058,
            "bin_end": 8655515.3522,
            "count": 3
           },
           {
            "bin_start": 8655515.3522,
            "bin_end": 17310949.646399997,
            "count": 0
           },
           {
            "bin_start": 17310949.646399997,
            "bin_end": 25966383.940599997,
            "count": 0
           },
           {
            "bin_start": 25966383.940599997,
            "bin_end": 34621818.234799996,
            "count": 0
           },
           {
            "bin_start": 34621818.234799996,
            "bin_end": 43277252.529,
            "count": 0
           },
           {
            "bin_start": 43277252.529,
            "bin_end": 51932686.823199995,
            "count": 0
           },
           {
            "bin_start": 51932686.823199995,
            "bin_end": 60588121.11739999,
            "count": 0
           },
           {
            "bin_start": 60588121.11739999,
            "bin_end": 69243555.4116,
            "count": 0
           },
           {
            "bin_start": 69243555.4116,
            "bin_end": 77898989.7058,
            "count": 1
           },
           {
            "bin_start": 77898989.7058,
            "bin_end": 86554424,
            "count": 1
           }
          ]
         }
        },
        {
         "name": "2004",
         "dtype": "float64",
         "stats": {
          "unique_count": 5,
          "nan_count": 0,
          "min": "78.833",
          "max": "88425432.0",
          "histogram": [
           {
            "bin_start": 78.833,
            "bin_end": 8842614.1497,
            "count": 3
           },
           {
            "bin_start": 8842614.1497,
            "bin_end": 17685149.4664,
            "count": 0
           },
           {
            "bin_start": 17685149.4664,
            "bin_end": 26527684.7831,
            "count": 0
           },
           {
            "bin_start": 26527684.7831,
            "bin_end": 35370220.0998,
            "count": 0
           },
           {
            "bin_start": 35370220.0998,
            "bin_end": 44212755.416499995,
            "count": 0
           },
           {
            "bin_start": 44212755.416499995,
            "bin_end": 53055290.7332,
            "count": 0
           },
           {
            "bin_start": 53055290.7332,
            "bin_end": 61897826.0499,
            "count": 0
           },
           {
            "bin_start": 61897826.0499,
            "bin_end": 70740361.3666,
            "count": 0
           },
           {
            "bin_start": 70740361.3666,
            "bin_end": 79582896.6833,
            "count": 1
           },
           {
            "bin_start": 79582896.6833,
            "bin_end": 88425432,
            "count": 1
           }
          ]
         }
        },
        {
         "name": "2005",
         "dtype": "float64",
         "stats": {
          "unique_count": 5,
          "nan_count": 0,
          "min": "79.755",
          "max": "90629810.0",
          "histogram": [
           {
            "bin_start": 79.755,
            "bin_end": 9063052.779500002,
            "count": 3
           },
           {
            "bin_start": 9063052.779500002,
            "bin_end": 18126025.804,
            "count": 0
           },
           {
            "bin_start": 18126025.804,
            "bin_end": 27188998.828500003,
            "count": 0
           },
           {
            "bin_start": 27188998.828500003,
            "bin_end": 36251971.85300001,
            "count": 0
           },
           {
            "bin_start": 36251971.85300001,
            "bin_end": 45314944.877500005,
            "count": 0
           },
           {
            "bin_start": 45314944.877500005,
            "bin_end": 54377917.90200001,
            "count": 0
           },
           {
            "bin_start": 54377917.90200001,
            "bin_end": 63440890.926500015,
            "count": 0
           },
           {
            "bin_start": 63440890.926500015,
            "bin_end": 72503863.951,
            "count": 0
           },
           {
            "bin_start": 72503863.951,
            "bin_end": 81566836.9755,
            "count": 1
           },
           {
            "bin_start": 81566836.9755,
            "bin_end": 90629810,
            "count": 1
           }
          ]
         }
        },
        {
         "name": "2006",
         "dtype": "float64",
         "stats": {
          "unique_count": 5,
          "nan_count": 0,
          "min": "91.605",
          "max": "94304284.0",
          "histogram": [
           {
            "bin_start": 91.605,
            "bin_end": 9430510.8445,
            "count": 3
           },
           {
            "bin_start": 9430510.8445,
            "bin_end": 18860930.084,
            "count": 0
           },
           {
            "bin_start": 18860930.084,
            "bin_end": 28291349.323499996,
            "count": 0
           },
           {
            "bin_start": 28291349.323499996,
            "bin_end": 37721768.56299999,
            "count": 0
           },
           {
            "bin_start": 37721768.56299999,
            "bin_end": 47152187.802499995,
            "count": 0
           },
           {
            "bin_start": 47152187.802499995,
            "bin_end": 56582607.04199999,
            "count": 0
           },
           {
            "bin_start": 56582607.04199999,
            "bin_end": 66013026.28149999,
            "count": 0
           },
           {
            "bin_start": 66013026.28149999,
            "bin_end": 75443445.521,
            "count": 0
           },
           {
            "bin_start": 75443445.521,
            "bin_end": 84873864.7605,
            "count": 0
           },
           {
            "bin_start": 84873864.7605,
            "bin_end": 94304284,
            "count": 2
           }
          ]
         }
        },
        {
         "name": "2007",
         "dtype": "float64",
         "stats": {
          "unique_count": 5,
          "nan_count": 0,
          "min": "95.828",
          "max": "94950468.0",
          "histogram": [
           {
            "bin_start": 95.828,
            "bin_end": 9495133.0452,
            "count": 3
           },
           {
            "bin_start": 9495133.0452,
            "bin_end": 18990170.2624,
            "count": 0
           },
           {
            "bin_start": 18990170.2624,
            "bin_end": 28485207.4796,
            "count": 0
           },
           {
            "bin_start": 28485207.4796,
            "bin_end": 37980244.6968,
            "count": 0
           },
           {
            "bin_start": 37980244.6968,
            "bin_end": 47475281.914,
            "count": 0
           },
           {
            "bin_start": 47475281.914,
            "bin_end": 56970319.1312,
            "count": 0
           },
           {
            "bin_start": 56970319.1312,
            "bin_end": 66465356.348400004,
            "count": 0
           },
           {
            "bin_start": 66465356.348400004,
            "bin_end": 75960393.5656,
            "count": 0
           },
           {
            "bin_start": 75960393.5656,
            "bin_end": 85455430.78279999,
            "count": 0
           },
           {
            "bin_start": 85455430.78279999,
            "bin_end": 94950468,
            "count": 2
           }
          ]
         }
        },
        {
         "name": "2008",
         "dtype": "float64",
         "stats": {
          "unique_count": 5,
          "nan_count": 0,
          "min": "90.657",
          "max": "95116368.0",
          "histogram": [
           {
            "bin_start": 90.657,
            "bin_end": 9511718.391299998,
            "count": 3
           },
           {
            "bin_start": 9511718.391299998,
            "bin_end": 19023346.1256,
            "count": 0
           },
           {
            "bin_start": 19023346.1256,
            "bin_end": 28534973.859899998,
            "count": 0
           },
           {
            "bin_start": 28534973.859899998,
            "bin_end": 38046601.59419999,
            "count": 0
           },
           {
            "bin_start": 38046601.59419999,
            "bin_end": 47558229.328499995,
            "count": 0
           },
           {
            "bin_start": 47558229.328499995,
            "bin_end": 57069857.06279999,
            "count": 0
           },
           {
            "bin_start": 57069857.06279999,
            "bin_end": 66581484.797099985,
            "count": 0
           },
           {
            "bin_start": 66581484.797099985,
            "bin_end": 76093112.5314,
            "count": 0
           },
           {
            "bin_start": 76093112.5314,
            "bin_end": 85604740.2657,
            "count": 0
           },
           {
            "bin_start": 85604740.2657,
            "bin_end": 95116368,
            "count": 2
           }
          ]
         }
        },
        {
         "name": "2009",
         "dtype": "float64",
         "stats": {
          "unique_count": 5,
          "nan_count": 0,
          "min": "87.754",
          "max": "90205582.0",
          "histogram": [
           {
            "bin_start": 87.754,
            "bin_end": 9020637.178600002,
            "count": 3
           },
           {
            "bin_start": 9020637.178600002,
            "bin_end": 18041186.603200004,
            "count": 0
           },
           {
            "bin_start": 18041186.603200004,
            "bin_end": 27061736.027800005,
            "count": 0
           },
           {
            "bin_start": 27061736.027800005,
            "bin_end": 36082285.45240001,
            "count": 0
           },
           {
            "bin_start": 36082285.45240001,
            "bin_end": 45102834.87700001,
            "count": 0
           },
           {
            "bin_start": 45102834.87700001,
            "bin_end": 54123384.30160001,
            "count": 0
           },
           {
            "bin_start": 54123384.30160001,
            "bin_end": 63143933.72620001,
            "count": 0
           },
           {
            "bin_start": 63143933.72620001,
            "bin_end": 72164483.1508,
            "count": 0
           },
           {
            "bin_start": 72164483.1508,
            "bin_end": 81185032.57540001,
            "count": 0
           },
           {
            "bin_start": 81185032.57540001,
            "bin_end": 90205582,
            "count": 2
           }
          ]
         }
        },
        {
         "name": "2010",
         "dtype": "float64",
         "stats": {
          "unique_count": 5,
          "nan_count": 0,
          "min": "89.905",
          "max": "93090964.0",
          "histogram": [
           {
            "bin_start": 89.905,
            "bin_end": 9309177.314499998,
            "count": 3
           },
           {
            "bin_start": 9309177.314499998,
            "bin_end": 18618264.724,
            "count": 0
           },
           {
            "bin_start": 18618264.724,
            "bin_end": 27927352.1335,
            "count": 0
           },
           {
            "bin_start": 27927352.1335,
            "bin_end": 37236439.543,
            "count": 0
           },
           {
            "bin_start": 37236439.543,
            "bin_end": 46545526.9525,
            "count": 0
           },
           {
            "bin_start": 46545526.9525,
            "bin_end": 55854614.361999996,
            "count": 0
           },
           {
            "bin_start": 55854614.361999996,
            "bin_end": 65163701.77149999,
            "count": 0
           },
           {
            "bin_start": 65163701.77149999,
            "bin_end": 74472789.181,
            "count": 0
           },
           {
            "bin_start": 74472789.181,
            "bin_end": 83781876.5905,
            "count": 0
           },
           {
            "bin_start": 83781876.5905,
            "bin_end": 93090964,
            "count": 2
           }
          ]
         }
        },
        {
         "name": "2011",
         "dtype": "float64",
         "stats": {
          "unique_count": 5,
          "nan_count": 0,
          "min": "97.529",
          "max": "94801980.0",
          "histogram": [
           {
            "bin_start": 97.529,
            "bin_end": 9480285.776099999,
            "count": 3
           },
           {
            "bin_start": 9480285.776099999,
            "bin_end": 18960474.023199998,
            "count": 0
           },
           {
            "bin_start": 18960474.023199998,
            "bin_end": 28440662.270299997,
            "count": 0
           },
           {
            "bin_start": 28440662.270299997,
            "bin_end": 37920850.5174,
            "count": 0
           },
           {
            "bin_start": 37920850.5174,
            "bin_end": 47401038.76449999,
            "count": 0
           },
           {
            "bin_start": 47401038.76449999,
            "bin_end": 56881227.011599995,
            "count": 0
           },
           {
            "bin_start": 56881227.011599995,
            "bin_end": 66361415.2587,
            "count": 0
           },
           {
            "bin_start": 66361415.2587,
            "bin_end": 75841603.5058,
            "count": 0
           },
           {
            "bin_start": 75841603.5058,
            "bin_end": 85321791.75289999,
            "count": 0
           },
           {
            "bin_start": 85321791.75289999,
            "bin_end": 94801980,
            "count": 2
           }
          ]
         }
        },
        {
         "name": "2012",
         "dtype": "float64",
         "stats": {
          "unique_count": 3,
          "nan_count": 0,
          "min": "100.0",
          "max": "97203584.0",
          "histogram": [
           {
            "bin_start": 100,
            "bin_end": 9720448.4,
            "count": 3
           },
           {
            "bin_start": 9720448.4,
            "bin_end": 19440796.8,
            "count": 0
           },
           {
            "bin_start": 19440796.8,
            "bin_end": 29161145.200000003,
            "count": 0
           },
           {
            "bin_start": 29161145.200000003,
            "bin_end": 38881493.6,
            "count": 0
           },
           {
            "bin_start": 38881493.6,
            "bin_end": 48601842,
            "count": 0
           },
           {
            "bin_start": 48601842,
            "bin_end": 58322190.400000006,
            "count": 0
           },
           {
            "bin_start": 58322190.400000006,
            "bin_end": 68042538.8,
            "count": 0
           },
           {
            "bin_start": 68042538.8,
            "bin_end": 77762887.2,
            "count": 0
           },
           {
            "bin_start": 77762887.2,
            "bin_end": 87483235.60000001,
            "count": 0
           },
           {
            "bin_start": 87483235.60000001,
            "bin_end": 97203584,
            "count": 2
           }
          ]
         }
        },
        {
         "name": "2013",
         "dtype": "float64",
         "stats": {
          "unique_count": 5,
          "nan_count": 0,
          "min": "99.699",
          "max": "102651288.0",
          "histogram": [
           {
            "bin_start": 99.699,
            "bin_end": 10265218.529099999,
            "count": 3
           },
           {
            "bin_start": 10265218.529099999,
            "bin_end": 20530337.3592,
            "count": 0
           },
           {
            "bin_start": 20530337.3592,
            "bin_end": 30795456.1893,
            "count": 0
           },
           {
            "bin_start": 30795456.1893,
            "bin_end": 41060575.0194,
            "count": 0
           },
           {
            "bin_start": 41060575.0194,
            "bin_end": 51325693.8495,
            "count": 0
           },
           {
            "bin_start": 51325693.8495,
            "bin_end": 61590812.6796,
            "count": 0
           },
           {
            "bin_start": 61590812.6796,
            "bin_end": 71855931.5097,
            "count": 0
           },
           {
            "bin_start": 71855931.5097,
            "bin_end": 82121050.3398,
            "count": 0
           },
           {
            "bin_start": 82121050.3398,
            "bin_end": 92386169.1699,
            "count": 0
           },
           {
            "bin_start": 92386169.1699,
            "bin_end": 102651288,
            "count": 2
           }
          ]
         }
        },
        {
         "name": "2014",
         "dtype": "float64",
         "stats": {
          "unique_count": 5,
          "nan_count": 0,
          "min": "108.327",
          "max": "109296260.0",
          "histogram": [
           {
            "bin_start": 108.327,
            "bin_end": 10929723.494299999,
            "count": 3
           },
           {
            "bin_start": 10929723.494299999,
            "bin_end": 21859338.661599997,
            "count": 0
           },
           {
            "bin_start": 21859338.661599997,
            "bin_end": 32788953.828899994,
            "count": 0
           },
           {
            "bin_start": 32788953.828899994,
            "bin_end": 43718568.996199995,
            "count": 0
           },
           {
            "bin_start": 43718568.996199995,
            "bin_end": 54648184.163499996,
            "count": 0
           },
           {
            "bin_start": 54648184.163499996,
            "bin_end": 65577799.33079999,
            "count": 0
           },
           {
            "bin_start": 65577799.33079999,
            "bin_end": 76507414.4981,
            "count": 0
           },
           {
            "bin_start": 76507414.4981,
            "bin_end": 87437029.6654,
            "count": 0
           },
           {
            "bin_start": 87437029.6654,
            "bin_end": 98366644.8327,
            "count": 0
           },
           {
            "bin_start": 98366644.8327,
            "bin_end": 109296260,
            "count": 2
           }
          ]
         }
        },
        {
         "name": "2015",
         "dtype": "float64",
         "stats": {
          "unique_count": 5,
          "nan_count": 0,
          "min": "112.73",
          "max": "119856797.0",
          "histogram": [
           {
            "bin_start": 112.73,
            "bin_end": 11985781.157,
            "count": 3
           },
           {
            "bin_start": 11985781.157,
            "bin_end": 23971449.584,
            "count": 0
           },
           {
            "bin_start": 23971449.584,
            "bin_end": 35957118.01099999,
            "count": 0
           },
           {
            "bin_start": 35957118.01099999,
            "bin_end": 47942786.43799999,
            "count": 0
           },
           {
            "bin_start": 47942786.43799999,
            "bin_end": 59928454.864999995,
            "count": 0
           },
           {
            "bin_start": 59928454.864999995,
            "bin_end": 71914123.292,
            "count": 0
           },
           {
            "bin_start": 71914123.292,
            "bin_end": 83899791.719,
            "count": 0
           },
           {
            "bin_start": 83899791.719,
            "bin_end": 95885460.146,
            "count": 0
           },
           {
            "bin_start": 95885460.146,
            "bin_end": 107871128.573,
            "count": 0
           },
           {
            "bin_start": 107871128.573,
            "bin_end": 119856797,
            "count": 2
           }
          ]
         }
        },
        {
         "name": "2016",
         "dtype": "float64",
         "stats": {
          "unique_count": 5,
          "nan_count": 0,
          "min": "110.503",
          "max": "126100394.0",
          "histogram": [
           {
            "bin_start": 110.503,
            "bin_end": 12610138.8527,
            "count": 3
           },
           {
            "bin_start": 12610138.8527,
            "bin_end": 25220167.2024,
            "count": 0
           },
           {
            "bin_start": 25220167.2024,
            "bin_end": 37830195.552099995,
            "count": 0
           },
           {
            "bin_start": 37830195.552099995,
            "bin_end": 50440223.9018,
            "count": 0
           },
           {
            "bin_start": 50440223.9018,
            "bin_end": 63050252.2515,
            "count": 0
           },
           {
            "bin_start": 63050252.2515,
            "bin_end": 75660280.6012,
            "count": 0
           },
           {
            "bin_start": 75660280.6012,
            "bin_end": 88270308.9509,
            "count": 0
           },
           {
            "bin_start": 88270308.9509,
            "bin_end": 100880337.3006,
            "count": 0
           },
           {
            "bin_start": 100880337.3006,
            "bin_end": 113490365.65030001,
            "count": 0
           },
           {
            "bin_start": 113490365.65030001,
            "bin_end": 126100394,
            "count": 2
           }
          ]
         }
        },
        {
         "name": "2017",
         "dtype": "float64",
         "stats": {
          "unique_count": 5,
          "nan_count": 0,
          "min": "106.471",
          "max": "133468782.0",
          "histogram": [
           {
            "bin_start": 106.471,
            "bin_end": 13346974.0239,
            "count": 3
           },
           {
            "bin_start": 13346974.0239,
            "bin_end": 26693841.5768,
            "count": 0
           },
           {
            "bin_start": 26693841.5768,
            "bin_end": 40040709.1297,
            "count": 0
           },
           {
            "bin_start": 40040709.1297,
            "bin_end": 53387576.6826,
            "count": 0
           },
           {
            "bin_start": 53387576.6826,
            "bin_end": 66734444.2355,
            "count": 0
           },
           {
            "bin_start": 66734444.2355,
            "bin_end": 80081311.7884,
            "count": 0
           },
           {
            "bin_start": 80081311.7884,
            "bin_end": 93428179.3413,
            "count": 0
           },
           {
            "bin_start": 93428179.3413,
            "bin_end": 106775046.8942,
            "count": 0
           },
           {
            "bin_start": 106775046.8942,
            "bin_end": 120121914.4471,
            "count": 0
           },
           {
            "bin_start": 120121914.4471,
            "bin_end": 133468782,
            "count": 2
           }
          ]
         }
        },
        {
         "name": "2018",
         "dtype": "float64",
         "stats": {
          "unique_count": 5,
          "nan_count": 0,
          "min": "105.626",
          "max": "140288623.0",
          "histogram": [
           {
            "bin_start": 105.626,
            "bin_end": 14028957.363400001,
            "count": 3
           },
           {
            "bin_start": 14028957.363400001,
            "bin_end": 28057809.1008,
            "count": 0
           },
           {
            "bin_start": 28057809.1008,
            "bin_end": 42086660.8382,
            "count": 0
           },
           {
            "bin_start": 42086660.8382,
            "bin_end": 56115512.575600006,
            "count": 0
           },
           {
            "bin_start": 56115512.575600006,
            "bin_end": 70144364.31300001,
            "count": 0
           },
           {
            "bin_start": 70144364.31300001,
            "bin_end": 84173216.0504,
            "count": 0
           },
           {
            "bin_start": 84173216.0504,
            "bin_end": 98202067.78780001,
            "count": 0
           },
           {
            "bin_start": 98202067.78780001,
            "bin_end": 112230919.52520001,
            "count": 0
           },
           {
            "bin_start": 112230919.52520001,
            "bin_end": 126259771.2626,
            "count": 0
           },
           {
            "bin_start": 126259771.2626,
            "bin_end": 140288623,
            "count": 2
           }
          ]
         }
        },
        {
         "name": "2019",
         "dtype": "float64",
         "stats": {
          "unique_count": 5,
          "nan_count": 0,
          "min": "116.546",
          "max": "146210749.0",
          "histogram": [
           {
            "bin_start": 116.546,
            "bin_end": 14621179.7914,
            "count": 3
           },
           {
            "bin_start": 14621179.7914,
            "bin_end": 29242243.0368,
            "count": 0
           },
           {
            "bin_start": 29242243.0368,
            "bin_end": 43863306.2822,
            "count": 0
           },
           {
            "bin_start": 43863306.2822,
            "bin_end": 58484369.5276,
            "count": 0
           },
           {
            "bin_start": 58484369.5276,
            "bin_end": 73105432.773,
            "count": 0
           },
           {
            "bin_start": 73105432.773,
            "bin_end": 87726496.01840001,
            "count": 0
           },
           {
            "bin_start": 87726496.01840001,
            "bin_end": 102347559.26380001,
            "count": 0
           },
           {
            "bin_start": 102347559.26380001,
            "bin_end": 116968622.5092,
            "count": 0
           },
           {
            "bin_start": 116968622.5092,
            "bin_end": 131589685.7546,
            "count": 1
           },
           {
            "bin_start": 131589685.7546,
            "bin_end": 146210749,
            "count": 1
           }
          ]
         }
        },
        {
         "name": "county_code",
         "dtype": "object",
         "stats": {
          "unique_count": 2,
          "nan_count": 0,
          "categories": [
           {
            "name": "001",
            "count": 3
           },
           {
            "name": "003",
            "count": 2
           }
          ]
         }
        },
        {
         "name": "_deepnote_index_column",
         "dtype": "int64"
        }
       ],
       "rows": [
        {
         "2001": 81266604,
         "2002": 82555391,
         "2003": 86554424,
         "2004": 88425432,
         "2005": 90629810,
         "2006": 94304284,
         "2007": 94950468,
         "2008": 95116368,
         "2009": 90205582,
         "2010": 93090964,
         "2011": 94801980,
         "2012": 97203584,
         "2013": 100766100,
         "2014": 105506384,
         "2015": 113194353,
         "2016": 117516318,
         "2017": 122983926,
         "2018": 127165177,
         "2019": 129708807,
         "GeoFIPS": " 06001",
         "GeoName": "Alameda, CA",
         "Region": 8,
         "TableName": "CAGDP1",
         "LineCode": 1,
         "IndustryClassification": "...",
         "Description": "Real GDP (thousands of chained 2012 dollars)",
         "Unit": "Thousands of chained 2012 dollars",
         "county_code": "001",
         "_deepnote_index_column": 3
        },
        {
         "2001": 83.605,
         "2002": 84.93,
         "2003": 89.044,
         "2004": 90.969,
         "2005": 93.237,
         "2006": 97.017,
         "2007": 97.682,
         "2008": 97.853,
         "2009": 92.801,
         "2010": 95.769,
         "2011": 97.529,
         "2012": 100,
         "2013": 103.665,
         "2014": 108.542,
         "2015": 116.451,
         "2016": 120.897,
         "2017": 126.522,
         "2018": 130.824,
         "2019": 133.44,
         "GeoFIPS": " 06001",
         "GeoName": "Alameda, CA",
         "Region": 8,
         "TableName": "CAGDP1",
         "LineCode": 2,
         "IndustryClassification": "...",
         "Description": "Chain-type quantity indexes for real GDP",
         "Unit": "Quantity index",
         "county_code": "001",
         "_deepnote_index_column": 4
        },
        {
         "2001": 66992943,
         "2002": 69145648,
         "2003": 73217538,
         "2004": 76417217,
         "2005": 80189480,
         "2006": 85607091,
         "2007": 88299465,
         "2008": 89588149,
         "2009": 86904155,
         "2010": 90033250,
         "2011": 92823595,
         "2012": 97203584,
         "2013": 102651288,
         "2014": 109296260,
         "2015": 119856797,
         "2016": 126100394,
         "2017": 133468782,
         "2018": 140288623,
         "2019": 146210749,
         "GeoFIPS": " 06001",
         "GeoName": "Alameda, CA",
         "Region": 8,
         "TableName": "CAGDP1",
         "LineCode": 3,
         "IndustryClassification": "...",
         "Description": "Current-dollar GDP (thousands of current dollars)",
         "Unit": "Thousands of dollars",
         "county_code": "001",
         "_deepnote_index_column": 5
        },
        {
         "2001": 74997,
         "2002": 77453,
         "2003": 79463,
         "2004": 77282,
         "2005": 78186,
         "2006": 89804,
         "2007": 93943,
         "2008": 88874,
         "2009": 86028,
         "2010": 88136,
         "2011": 98962,
         "2012": 98033,
         "2013": 97738,
         "2014": 106196,
         "2015": 110513,
         "2016": 108329,
         "2017": 104377,
         "2018": 103549,
         "2019": 114254,
         "GeoFIPS": " 06003",
         "GeoName": "Alpine, CA",
         "Region": 8,
         "TableName": "CAGDP1",
         "LineCode": 1,
         "IndustryClassification": "...",
         "Description": "Real GDP (thousands of chained 2012 dollars)",
         "Unit": "Thousands of chained 2012 dollars",
         "county_code": "003",
         "_deepnote_index_column": 6
        },
        {
         "2001": 76.502,
         "2002": 79.007,
         "2003": 81.058,
         "2004": 78.833,
         "2005": 79.755,
         "2006": 91.605,
         "2007": 95.828,
         "2008": 90.657,
         "2009": 87.754,
         "2010": 89.905,
         "2011": 100.948,
         "2012": 100,
         "2013": 99.699,
         "2014": 108.327,
         "2015": 112.73,
         "2016": 110.503,
         "2017": 106.471,
         "2018": 105.626,
         "2019": 116.546,
         "GeoFIPS": " 06003",
         "GeoName": "Alpine, CA",
         "Region": 8,
         "TableName": "CAGDP1",
         "LineCode": 2,
         "IndustryClassification": "...",
         "Description": "Chain-type quantity indexes for real GDP",
         "Unit": "Quantity index",
         "county_code": "003",
         "_deepnote_index_column": 7
        }
       ]
      },
      "text/plain": "  GeoFIPS      GeoName  Region TableName  LineCode IndustryClassification  \\\n3   06001  Alameda, CA     8.0    CAGDP1       1.0                    ...   \n4   06001  Alameda, CA     8.0    CAGDP1       2.0                    ...   \n5   06001  Alameda, CA     8.0    CAGDP1       3.0                    ...   \n6   06003   Alpine, CA     8.0    CAGDP1       1.0                    ...   \n7   06003   Alpine, CA     8.0    CAGDP1       2.0                    ...   \n\n                                         Description  \\\n3       Real GDP (thousands of chained 2012 dollars)   \n4           Chain-type quantity indexes for real GDP   \n5  Current-dollar GDP (thousands of current dollars)   \n6       Real GDP (thousands of chained 2012 dollars)   \n7           Chain-type quantity indexes for real GDP   \n\n                                Unit          2001          2002  ...  \\\n3  Thousands of chained 2012 dollars  8.126660e+07  8.255539e+07  ...   \n4                     Quantity index  8.360500e+01  8.493000e+01  ...   \n5               Thousands of dollars  6.699294e+07  6.914565e+07  ...   \n6  Thousands of chained 2012 dollars  7.499700e+04  7.745300e+04  ...   \n7                     Quantity index  7.650200e+01  7.900700e+01  ...   \n\n           2011        2012          2013          2014          2015  \\\n3  9.480198e+07  97203584.0  1.007661e+08  1.055064e+08  1.131944e+08   \n4  9.752900e+01       100.0  1.036650e+02  1.085420e+02  1.164510e+02   \n5  9.282360e+07  97203584.0  1.026513e+08  1.092963e+08  1.198568e+08   \n6  9.896200e+04     98033.0  9.773800e+04  1.061960e+05  1.105130e+05   \n7  1.009480e+02       100.0  9.969900e+01  1.083270e+02  1.127300e+02   \n\n           2016          2017          2018          2019  county_code  \n3  1.175163e+08  1.229839e+08  1.271652e+08  1.297088e+08          001  \n4  1.208970e+02  1.265220e+02  1.308240e+02  1.334400e+02          001  \n5  1.261004e+08  1.334688e+08  1.402886e+08  1.462107e+08          001  \n6  1.083290e+05  1.043770e+05  1.035490e+05  1.142540e+05          003  \n7  1.105030e+02  1.064710e+02  1.056260e+02  1.165460e+02          003  \n\n[5 rows x 28 columns]",
      "text/html": "<div>\n<style scoped>\n    .dataframe tbody tr th:only-of-type {\n        vertical-align: middle;\n    }\n\n    .dataframe tbody tr th {\n        vertical-align: top;\n    }\n\n    .dataframe thead th {\n        text-align: right;\n    }\n</style>\n<table border=\"1\" class=\"dataframe\">\n  <thead>\n    <tr style=\"text-align: right;\">\n      <th></th>\n      <th>GeoFIPS</th>\n      <th>GeoName</th>\n      <th>Region</th>\n      <th>TableName</th>\n      <th>LineCode</th>\n      <th>IndustryClassification</th>\n      <th>Description</th>\n      <th>Unit</th>\n      <th>2001</th>\n      <th>2002</th>\n      <th>...</th>\n      <th>2011</th>\n      <th>2012</th>\n      <th>2013</th>\n      <th>2014</th>\n      <th>2015</th>\n      <th>2016</th>\n      <th>2017</th>\n      <th>2018</th>\n      <th>2019</th>\n      <th>county_code</th>\n    </tr>\n  </thead>\n  <tbody>\n    <tr>\n      <th>3</th>\n      <td>06001</td>\n      <td>Alameda, CA</td>\n      <td>8.0</td>\n      <td>CAGDP1</td>\n      <td>1.0</td>\n      <td>...</td>\n      <td>Real GDP (thousands of chained 2012 dollars)</td>\n      <td>Thousands of chained 2012 dollars</td>\n      <td>8.126660e+07</td>\n      <td>8.255539e+07</td>\n      <td>...</td>\n      <td>9.480198e+07</td>\n      <td>97203584.0</td>\n      <td>1.007661e+08</td>\n      <td>1.055064e+08</td>\n      <td>1.131944e+08</td>\n      <td>1.175163e+08</td>\n      <td>1.229839e+08</td>\n      <td>1.271652e+08</td>\n      <td>1.297088e+08</td>\n      <td>001</td>\n    </tr>\n    <tr>\n      <th>4</th>\n      <td>06001</td>\n      <td>Alameda, CA</td>\n      <td>8.0</td>\n      <td>CAGDP1</td>\n      <td>2.0</td>\n      <td>...</td>\n      <td>Chain-type quantity indexes for real GDP</td>\n      <td>Quantity index</td>\n      <td>8.360500e+01</td>\n      <td>8.493000e+01</td>\n      <td>...</td>\n      <td>9.752900e+01</td>\n      <td>100.0</td>\n      <td>1.036650e+02</td>\n      <td>1.085420e+02</td>\n      <td>1.164510e+02</td>\n      <td>1.208970e+02</td>\n      <td>1.265220e+02</td>\n      <td>1.308240e+02</td>\n      <td>1.334400e+02</td>\n      <td>001</td>\n    </tr>\n    <tr>\n      <th>5</th>\n      <td>06001</td>\n      <td>Alameda, CA</td>\n      <td>8.0</td>\n      <td>CAGDP1</td>\n      <td>3.0</td>\n      <td>...</td>\n      <td>Current-dollar GDP (thousands of current dollars)</td>\n      <td>Thousands of dollars</td>\n      <td>6.699294e+07</td>\n      <td>6.914565e+07</td>\n      <td>...</td>\n      <td>9.282360e+07</td>\n      <td>97203584.0</td>\n      <td>1.026513e+08</td>\n      <td>1.092963e+08</td>\n      <td>1.198568e+08</td>\n      <td>1.261004e+08</td>\n      <td>1.334688e+08</td>\n      <td>1.402886e+08</td>\n      <td>1.462107e+08</td>\n      <td>001</td>\n    </tr>\n    <tr>\n      <th>6</th>\n      <td>06003</td>\n      <td>Alpine, CA</td>\n      <td>8.0</td>\n      <td>CAGDP1</td>\n      <td>1.0</td>\n      <td>...</td>\n      <td>Real GDP (thousands of chained 2012 dollars)</td>\n      <td>Thousands of chained 2012 dollars</td>\n      <td>7.499700e+04</td>\n      <td>7.745300e+04</td>\n      <td>...</td>\n      <td>9.896200e+04</td>\n      <td>98033.0</td>\n      <td>9.773800e+04</td>\n      <td>1.061960e+05</td>\n      <td>1.105130e+05</td>\n      <td>1.083290e+05</td>\n      <td>1.043770e+05</td>\n      <td>1.035490e+05</td>\n      <td>1.142540e+05</td>\n      <td>003</td>\n    </tr>\n    <tr>\n      <th>7</th>\n      <td>06003</td>\n      <td>Alpine, CA</td>\n      <td>8.0</td>\n      <td>CAGDP1</td>\n      <td>2.0</td>\n      <td>...</td>\n      <td>Chain-type quantity indexes for real GDP</td>\n      <td>Quantity index</td>\n      <td>7.650200e+01</td>\n      <td>7.900700e+01</td>\n      <td>...</td>\n      <td>1.009480e+02</td>\n      <td>100.0</td>\n      <td>9.969900e+01</td>\n      <td>1.083270e+02</td>\n      <td>1.127300e+02</td>\n      <td>1.105030e+02</td>\n      <td>1.064710e+02</td>\n      <td>1.056260e+02</td>\n      <td>1.165460e+02</td>\n      <td>003</td>\n    </tr>\n  </tbody>\n</table>\n<p>5 rows × 28 columns</p>\n</div>"
     },
     "metadata": {}
    }
   ]
  },
  {
   "cell_type": "code",
   "metadata": {
    "tags": [],
    "cell_id": "00004-1f53c770-86d9-42f5-85bc-c2ed57db4d46",
    "deepnote_to_be_reexecuted": false,
    "source_hash": "cb543da2",
    "execution_start": 1641427524527,
    "execution_millis": 92,
    "deepnote_cell_type": "code"
   },
   "source": "#Reformat GDP data to features with one row per county per year\nmapper = {'Real GDP (thousands of chained 2012 dollars)':'real_gdp',\n'Chain-type quantity indexes for real GDP':'chain_idx_real_gdp',\n'Current-dollar GDP (thousands of current dollars)':'curr_dollar_real_gdp'}\n\ncounty_gdp[\"Description\"].replace(mapper, inplace=True)\ncounty_gdp = county_gdp[['GeoFIPS','Description','2014','2015','2016','2017','2018','2019']]\ncounty_gdp = county_gdp.melt(id_vars=['GeoFIPS','Description'])\ncounty_gdp = county_gdp.pivot(index=['GeoFIPS','variable'],columns=['Description'],values='value')\ncounty_gdp.reset_index(inplace=True)\ncounty_gdp.rename(columns={'variable':'year'},inplace=True)\ncounty_gdp",
   "execution_count": null,
   "outputs": [
    {
     "output_type": "execute_result",
     "execution_count": 5,
     "data": {
      "application/vnd.deepnote.dataframe.v3+json": {
       "column_count": 5,
       "row_count": 348,
       "columns": [
        {
         "name": "GeoFIPS",
         "dtype": "object",
         "stats": {
          "unique_count": 58,
          "nan_count": 0,
          "categories": [
           {
            "name": " 06001",
            "count": 6
           },
           {
            "name": " 06003",
            "count": 6
           },
           {
            "name": "56 others",
            "count": 336
           }
          ]
         }
        },
        {
         "name": "year",
         "dtype": "object",
         "stats": {
          "unique_count": 6,
          "nan_count": 0,
          "categories": [
           {
            "name": "2014",
            "count": 58
           },
           {
            "name": "2015",
            "count": 58
           },
           {
            "name": "4 others",
            "count": 232
           }
          ]
         }
        },
        {
         "name": "chain_idx_real_gdp",
         "dtype": "float64",
         "stats": {
          "unique_count": 346,
          "nan_count": 0,
          "min": "90.172",
          "max": "166.151",
          "histogram": [
           {
            "bin_start": 90.172,
            "bin_end": 97.76989999999999,
            "count": 4
           },
           {
            "bin_start": 97.76989999999999,
            "bin_end": 105.3678,
            "count": 49
           },
           {
            "bin_start": 105.3678,
            "bin_end": 112.9657,
            "count": 96
           },
           {
            "bin_start": 112.9657,
            "bin_end": 120.56360000000001,
            "count": 88
           },
           {
            "bin_start": 120.56360000000001,
            "bin_end": 128.1615,
            "count": 66
           },
           {
            "bin_start": 128.1615,
            "bin_end": 135.7594,
            "count": 28
           },
           {
            "bin_start": 135.7594,
            "bin_end": 143.3573,
            "count": 7
           },
           {
            "bin_start": 143.3573,
            "bin_end": 150.9552,
            "count": 5
           },
           {
            "bin_start": 150.9552,
            "bin_end": 158.5531,
            "count": 3
           },
           {
            "bin_start": 158.5531,
            "bin_end": 166.151,
            "count": 2
           }
          ]
         }
        },
        {
         "name": "curr_dollar_real_gdp",
         "dtype": "float64",
         "stats": {
          "unique_count": 348,
          "nan_count": 0,
          "min": "89620.0",
          "max": "819446415.0",
          "histogram": [
           {
            "bin_start": 89620,
            "bin_end": 82025299.5,
            "count": 293
           },
           {
            "bin_start": 82025299.5,
            "bin_end": 163960979,
            "count": 28
           },
           {
            "bin_start": 163960979,
            "bin_end": 245896658.5,
            "count": 12
           },
           {
            "bin_start": 245896658.5,
            "bin_end": 327832338,
            "count": 8
           },
           {
            "bin_start": 327832338,
            "bin_end": 409768017.5,
            "count": 1
           },
           {
            "bin_start": 409768017.5,
            "bin_end": 491703697,
            "count": 0
           },
           {
            "bin_start": 491703697,
            "bin_end": 573639376.5,
            "count": 0
           },
           {
            "bin_start": 573639376.5,
            "bin_end": 655575056,
            "count": 1
           },
           {
            "bin_start": 655575056,
            "bin_end": 737510735.5,
            "count": 2
           },
           {
            "bin_start": 737510735.5,
            "bin_end": 819446415,
            "count": 3
           }
          ]
         }
        },
        {
         "name": "real_gdp",
         "dtype": "float64",
         "stats": {
          "unique_count": 348,
          "nan_count": 0,
          "min": "84426.0",
          "max": "726943301.0",
          "histogram": [
           {
            "bin_start": 84426,
            "bin_end": 72770313.5,
            "count": 288
           },
           {
            "bin_start": 72770313.5,
            "bin_end": 145456201,
            "count": 32
           },
           {
            "bin_start": 145456201,
            "bin_end": 218142088.5,
            "count": 12
           },
           {
            "bin_start": 218142088.5,
            "bin_end": 290827976,
            "count": 8
           },
           {
            "bin_start": 290827976,
            "bin_end": 363513863.5,
            "count": 2
           },
           {
            "bin_start": 363513863.5,
            "bin_end": 436199751,
            "count": 0
           },
           {
            "bin_start": 436199751,
            "bin_end": 508885638.5,
            "count": 0
           },
           {
            "bin_start": 508885638.5,
            "bin_end": 581571526,
            "count": 0
           },
           {
            "bin_start": 581571526,
            "bin_end": 654257413.5,
            "count": 1
           },
           {
            "bin_start": 654257413.5,
            "bin_end": 726943301,
            "count": 5
           }
          ]
         }
        },
        {
         "name": "_deepnote_index_column",
         "dtype": "int64"
        }
       ],
       "rows": [
        {
         "GeoFIPS": " 06001",
         "year": "2014",
         "chain_idx_real_gdp": 108.542,
         "curr_dollar_real_gdp": 109296260,
         "real_gdp": 105506384,
         "_deepnote_index_column": 0
        },
        {
         "GeoFIPS": " 06001",
         "year": "2015",
         "chain_idx_real_gdp": 116.451,
         "curr_dollar_real_gdp": 119856797,
         "real_gdp": 113194353,
         "_deepnote_index_column": 1
        },
        {
         "GeoFIPS": " 06001",
         "year": "2016",
         "chain_idx_real_gdp": 120.897,
         "curr_dollar_real_gdp": 126100394,
         "real_gdp": 117516318,
         "_deepnote_index_column": 2
        },
        {
         "GeoFIPS": " 06001",
         "year": "2017",
         "chain_idx_real_gdp": 126.522,
         "curr_dollar_real_gdp": 133468782,
         "real_gdp": 122983926,
         "_deepnote_index_column": 3
        },
        {
         "GeoFIPS": " 06001",
         "year": "2018",
         "chain_idx_real_gdp": 130.824,
         "curr_dollar_real_gdp": 140288623,
         "real_gdp": 127165177,
         "_deepnote_index_column": 4
        },
        {
         "GeoFIPS": " 06001",
         "year": "2019",
         "chain_idx_real_gdp": 133.44,
         "curr_dollar_real_gdp": 146210749,
         "real_gdp": 129708807,
         "_deepnote_index_column": 5
        },
        {
         "GeoFIPS": " 06003",
         "year": "2014",
         "chain_idx_real_gdp": 108.327,
         "curr_dollar_real_gdp": 111008,
         "real_gdp": 106196,
         "_deepnote_index_column": 6
        },
        {
         "GeoFIPS": " 06003",
         "year": "2015",
         "chain_idx_real_gdp": 112.73,
         "curr_dollar_real_gdp": 119072,
         "real_gdp": 110513,
         "_deepnote_index_column": 7
        },
        {
         "GeoFIPS": " 06003",
         "year": "2016",
         "chain_idx_real_gdp": 110.503,
         "curr_dollar_real_gdp": 119011,
         "real_gdp": 108329,
         "_deepnote_index_column": 8
        },
        {
         "GeoFIPS": " 06003",
         "year": "2017",
         "chain_idx_real_gdp": 106.471,
         "curr_dollar_real_gdp": 116547,
         "real_gdp": 104377,
         "_deepnote_index_column": 9
        }
       ]
      },
      "text/plain": "Description GeoFIPS  year  chain_idx_real_gdp  curr_dollar_real_gdp  \\\n0             06001  2014             108.542           109296260.0   \n1             06001  2015             116.451           119856797.0   \n2             06001  2016             120.897           126100394.0   \n3             06001  2017             126.522           133468782.0   \n4             06001  2018             130.824           140288623.0   \n..              ...   ...                 ...                   ...   \n343           06115  2015             102.252             2967775.0   \n344           06115  2016             107.910             3160242.0   \n345           06115  2017             113.501             3392823.0   \n346           06115  2018             114.059             3485836.0   \n347           06115  2019             122.711             3836625.0   \n\nDescription     real_gdp  \n0            105506384.0  \n1            113194353.0  \n2            117516318.0  \n3            122983926.0  \n4            127165177.0  \n..                   ...  \n343            2787647.0  \n344            2941894.0  \n345            3094336.0  \n346            3109541.0  \n347            3345409.0  \n\n[348 rows x 5 columns]",
      "text/html": "<div>\n<style scoped>\n    .dataframe tbody tr th:only-of-type {\n        vertical-align: middle;\n    }\n\n    .dataframe tbody tr th {\n        vertical-align: top;\n    }\n\n    .dataframe thead th {\n        text-align: right;\n    }\n</style>\n<table border=\"1\" class=\"dataframe\">\n  <thead>\n    <tr style=\"text-align: right;\">\n      <th>Description</th>\n      <th>GeoFIPS</th>\n      <th>year</th>\n      <th>chain_idx_real_gdp</th>\n      <th>curr_dollar_real_gdp</th>\n      <th>real_gdp</th>\n    </tr>\n  </thead>\n  <tbody>\n    <tr>\n      <th>0</th>\n      <td>06001</td>\n      <td>2014</td>\n      <td>108.542</td>\n      <td>109296260.0</td>\n      <td>105506384.0</td>\n    </tr>\n    <tr>\n      <th>1</th>\n      <td>06001</td>\n      <td>2015</td>\n      <td>116.451</td>\n      <td>119856797.0</td>\n      <td>113194353.0</td>\n    </tr>\n    <tr>\n      <th>2</th>\n      <td>06001</td>\n      <td>2016</td>\n      <td>120.897</td>\n      <td>126100394.0</td>\n      <td>117516318.0</td>\n    </tr>\n    <tr>\n      <th>3</th>\n      <td>06001</td>\n      <td>2017</td>\n      <td>126.522</td>\n      <td>133468782.0</td>\n      <td>122983926.0</td>\n    </tr>\n    <tr>\n      <th>4</th>\n      <td>06001</td>\n      <td>2018</td>\n      <td>130.824</td>\n      <td>140288623.0</td>\n      <td>127165177.0</td>\n    </tr>\n    <tr>\n      <th>...</th>\n      <td>...</td>\n      <td>...</td>\n      <td>...</td>\n      <td>...</td>\n      <td>...</td>\n    </tr>\n    <tr>\n      <th>343</th>\n      <td>06115</td>\n      <td>2015</td>\n      <td>102.252</td>\n      <td>2967775.0</td>\n      <td>2787647.0</td>\n    </tr>\n    <tr>\n      <th>344</th>\n      <td>06115</td>\n      <td>2016</td>\n      <td>107.910</td>\n      <td>3160242.0</td>\n      <td>2941894.0</td>\n    </tr>\n    <tr>\n      <th>345</th>\n      <td>06115</td>\n      <td>2017</td>\n      <td>113.501</td>\n      <td>3392823.0</td>\n      <td>3094336.0</td>\n    </tr>\n    <tr>\n      <th>346</th>\n      <td>06115</td>\n      <td>2018</td>\n      <td>114.059</td>\n      <td>3485836.0</td>\n      <td>3109541.0</td>\n    </tr>\n    <tr>\n      <th>347</th>\n      <td>06115</td>\n      <td>2019</td>\n      <td>122.711</td>\n      <td>3836625.0</td>\n      <td>3345409.0</td>\n    </tr>\n  </tbody>\n</table>\n<p>348 rows × 5 columns</p>\n</div>"
     },
     "metadata": {}
    }
   ]
  },
  {
   "cell_type": "code",
   "metadata": {
    "tags": [],
    "cell_id": "00005-c3aafbc0-c03a-454d-a5a9-2cacd7958822",
    "deepnote_to_be_reexecuted": false,
    "source_hash": "f6a336af",
    "execution_start": 1641427524616,
    "execution_millis": 26,
    "deepnote_cell_type": "code"
   },
   "source": "#Reformat earnings data to features with one row per county per year\nmapper = {'Personal income (thousands of dollars)':'personal_income', #take out\n       ' Net earnings by place of residence':'net_earn_place_of_residence', #take out\n       ' Personal current transfer receipts':'pers_curr_transfer_receipts', # take outSum of the next 3\n       '  Income maintenance benefits 1/':'income_maint_benefits',# take out\n       '  Unemployment insurance compensation':'unemploy_ins_comp', # out\n       '  Retirement and other':'retirement_and_other',# out\n       ' Dividends, interest, and rent 2/':'dividends_interest_and_rent', #out\n       ' Population (persons) 3/':'bea_number_of_people', # keep\n       ' Per capita personal income 4/':'per_capita_personal_income', # keep\n       ' Per capita net earnings 4/':'per_capita_net_earnings', # out\n       ' Per capita personal current transfer receipts 4/':'per_capita_pers_curr_transfer_receipts', # outSum of the next 3\n       '  Per capita income maintenance benefits 4/':'per_capita_inc_maint_benefits', # out\n       '  Per capita unemployment insurance compensation 4/':'per_capita_unemploy_ins_comp', #keep\n       '  Per capita retirement and other 4/':'per_capita_retirement_and_other', #keep\n       ' Per capita dividends, interest, and rent 4/':'per_capita_dividends_interest_and_rent',# out\n       ' Earnings by place of work':'earn_by_place_of_work', # outSum of wages and salaries, supplements to wages and salaries, and Proprieter's Income\n       '  Wages and salaries':'wages_and_salaries',# out\n       '  Supplements to wages and salaries':'supp_wages_and_salaries', # out Sum of next two\n       '   Employer contributions for employee pension and insurance funds 5/':'empl_contrib_pension_and_ins',\n       '   Employer contributions for government social insurance':'empl_contrib_govt_social_ins',\n       \"  Proprietors' income\":'proprietors_income', # out Sum of Farm and NonFarm\n       \"   Farm proprietors' income\":'farm_proprieters_income', #out\n       \"   Nonfarm proprietors' income\":'non_farm_proprieters_income', #out\n       'Total employment (number of jobs)':'total_num_jobs', # keep Sum of wage and salary and Proprietors\n       ' Wage and salary employment':'wage_and_salary_num_jobs',\n       ' Proprietors employment':'proprietors_num_jobs', #Sum of Farm Proprietors and Nonfarm Proprietors\n       '  Farm proprietors employment 6/':'farm_proprietors_num_jobs',# keep\n       '  Nonfarm proprietors employment':'nonfarm_proprietors_num_jobs', # keep\n       'Average earnings per job (dollars)':'avg_earn_per_job', #out\n       ' Average wages and salaries':'avg_wages_and_salaries', # out\n       \" Average nonfarm proprietors' income\": 'avg_nonfarm_proprietors_inc' }#out\n\nearnings_df[\"Description\"].replace(mapper, inplace=True)\nearnings_df = earnings_df[['GeoFIPS','Description','2014','2015','2016','2017','2018','2019']]\nearnings_df = earnings_df.melt(id_vars=['GeoFIPS','Description'])\nearnings_df = earnings_df.pivot(index=['GeoFIPS','variable'],columns=['Description'],values='value')\nearnings_df.reset_index(inplace=True)\nearnings_df.rename(columns={'variable':'year'},inplace=True)",
   "execution_count": null,
   "outputs": []
  },
  {
   "cell_type": "code",
   "metadata": {
    "tags": [],
    "cell_id": "00006-8f641c75-8184-4c48-a96a-fca3858d5222",
    "deepnote_to_be_reexecuted": false,
    "source_hash": "ffbeba1f",
    "execution_start": 1641427524652,
    "execution_millis": 16,
    "deepnote_cell_type": "code"
   },
   "source": "#Merge two dataframes together\nbea_df = county_gdp.merge(earnings_df, how = 'left', on = ['GeoFIPS','year'])\n\n#Convert columns to per capita\nbea_df['per_capita_curr_dollar_real_gdp'] = bea_df['curr_dollar_real_gdp']/bea_df['bea_number_of_people']\nbea_df['per_capita_num_jobs'] = bea_df['total_num_jobs']/bea_df['bea_number_of_people']\nbea_df['per_capita_farm_proprieter_jobs'] = bea_df['farm_proprietors_num_jobs']/bea_df['bea_number_of_people']\nbea_df['per_capita_nonfarm_proprieter_jobs'] = bea_df['nonfarm_proprietors_num_jobs']/bea_df['bea_number_of_people']\n\n\n#Remove the columns we will not be using\nbea_df = bea_df.drop(columns={\n'real_gdp',\n'chain_idx_real_gdp',\n'personal_income', \n'net_earn_place_of_residence', \n'pers_curr_transfer_receipts', \n'income_maint_benefits',\n'unemploy_ins_comp', \n'retirement_and_other',\n'dividends_interest_and_rent',\n'per_capita_net_earnings', \n'per_capita_pers_curr_transfer_receipts', \n'per_capita_inc_maint_benefits', \n'per_capita_dividends_interest_and_rent',\n'earn_by_place_of_work', \n'wages_and_salaries',\n'supp_wages_and_salaries', \n'empl_contrib_pension_and_ins',\n'empl_contrib_govt_social_ins',\n'proprietors_income', \n'farm_proprieters_income', \n'non_farm_proprieters_income',\n'wage_and_salary_num_jobs',\n'proprietors_num_jobs', \n'avg_earn_per_job', \n'avg_wages_and_salaries', \n'avg_nonfarm_proprietors_inc',\n'curr_dollar_real_gdp',\n'farm_proprietors_num_jobs',\n'nonfarm_proprietors_num_jobs',\n'total_num_jobs'\n})\n\n\n\n\n",
   "execution_count": null,
   "outputs": []
  },
  {
   "cell_type": "code",
   "metadata": {
    "tags": [],
    "cell_id": "00007-45ef6076-687c-4be9-8ce1-0b6b90337af7",
    "deepnote_to_be_reexecuted": false,
    "source_hash": "9a374cb8",
    "execution_start": 1641427524678,
    "execution_millis": 4,
    "deepnote_output_heights": [
     117.125
    ],
    "deepnote_cell_type": "code"
   },
   "source": "bea_df.columns",
   "execution_count": null,
   "outputs": [
    {
     "output_type": "execute_result",
     "execution_count": 8,
     "data": {
      "text/plain": "Index(['GeoFIPS', 'year', 'bea_number_of_people', 'per_capita_personal_income',\n       'per_capita_retirement_and_other', 'per_capita_unemploy_ins_comp',\n       'per_capita_curr_dollar_real_gdp', 'per_capita_num_jobs',\n       'per_capita_farm_proprieter_jobs',\n       'per_capita_nonfarm_proprieter_jobs'],\n      dtype='object', name='Description')"
     },
     "metadata": {}
    }
   ]
  },
  {
   "cell_type": "code",
   "metadata": {
    "tags": [],
    "cell_id": "00006-1f1e7e9e-2b99-4553-815e-64bbba8c0e3a",
    "deepnote_to_be_reexecuted": false,
    "source_hash": "81b3d2e8",
    "execution_start": 1641427524687,
    "execution_millis": 9,
    "deepnote_cell_type": "code"
   },
   "source": "#Write out file to be used in project \nbea_df.to_csv('/work/cleaned-csvs/ca_economy.csv',index=False)",
   "execution_count": null,
   "outputs": []
  },
  {
   "cell_type": "markdown",
   "source": "<a style='text-decoration:none;line-height:16px;display:flex;color:#5B5B62;padding:10px;justify-content:end;' href='https://deepnote.com?utm_source=created-in-deepnote-cell&projectId=f6c76417-5fde-42f3-8920-755838dec3fa' target=\"_blank\">\n<img alt='Created in deepnote.com' style='display:inline;max-height:16px;margin:0px;margin-right:7.5px;' src='data:image/svg+xml;base64,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' > </img>\nCreated in <span style='font-weight:600;margin-left:4px;'>Deepnote</span></a>",
   "metadata": {
    "tags": [],
    "created_in_deepnote_cell": true,
    "deepnote_cell_type": "markdown"
   }
  }
 ],
 "nbformat": 4,
 "nbformat_minor": 2,
 "metadata": {
  "orig_nbformat": 2,
  "deepnote": {
   "is_reactive": false
  },
  "deepnote_notebook_id": "0033a1e5-bbc8-4a4a-9b9b-b607fe112694",
  "deepnote_execution_queue": []
 }
}