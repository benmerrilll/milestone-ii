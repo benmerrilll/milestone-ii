{
 "cells": [
  {
   "cell_type": "code",
   "metadata": {
    "tags": [],
    "cell_id": "00000-10c6f77d-96f3-42d1-9499-e680531c55ec",
    "deepnote_to_be_reexecuted": false,
    "source_hash": "af2d12a5",
    "execution_start": 1641428354558,
    "execution_millis": 0,
    "deepnote_cell_type": "code"
   },
   "source": "#Data source\n#Main website is https://www.sos.ca.gov/elections/prior-elections/statewide-election-results\n#From there you navigate to the General Election section of the correct year, and then \n# Voter Registration Statistics by County\n\n#Notes\n#1) These files are one page pdf files that I copied into a text file\n#https://elections.cdn.sos.ca.gov/sov/2014-general/pdf/02-voter-reg-stats-by-county.pdf\n#https://elections.cdn.sos.ca.gov/sov/2016-general/sov/02-voter-reg-stats-by-county.pdf\n#https://elections.cdn.sos.ca.gov/sov/2018-general/sov/02-county-voter-reg-stats-by-county.pdf\n\n#2) Data is only available every two years, so we are using one file to cover a two year period.\n#.  For example, the 2014 data will be assigned to years 2014 and 2015",
   "execution_count": null,
   "outputs": []
  },
  {
   "cell_type": "code",
   "metadata": {
    "tags": [],
    "cell_id": "00000-987a5c43-f3d2-4227-8c92-198c40582e29",
    "deepnote_to_be_reexecuted": false,
    "source_hash": "8fbbf1a2",
    "execution_start": 1641428354559,
    "execution_millis": 5,
    "deepnote_cell_type": "code"
   },
   "source": "import pandas as pd\nimport re",
   "execution_count": null,
   "outputs": []
  },
  {
   "cell_type": "code",
   "metadata": {
    "tags": [],
    "cell_id": "00000-9dce54c9-60b5-431f-8391-24d81d2fef56",
    "deepnote_to_be_reexecuted": false,
    "source_hash": "d3224355",
    "execution_start": 1641428354565,
    "execution_millis": 6,
    "deepnote_output_heights": [
     21.1875
    ],
    "deepnote_cell_type": "code"
   },
   "source": "#Read in files\nwith open(\"/work/assets/ca_county_voter_reg_2014.rtf\",\"r\") as file:\n    voter_data_2014 = file.read()\n\nwith open(\"/work/assets/ca_county_voter_reg_2016.rtf\",\"r\") as file:\n    voter_data_2016 = file.read()\n\nwith open(\"/work/assets/ca_county_voter_reg_2018.txt\",\"r\") as file:\n    voter_data_2018 = file.read()\n",
   "execution_count": null,
   "outputs": []
  },
  {
   "cell_type": "code",
   "metadata": {
    "tags": [],
    "cell_id": "00003-9c2e1692-4ea4-4ce7-8894-a4813299dfb0",
    "deepnote_to_be_reexecuted": false,
    "source_hash": "1b05028b",
    "execution_start": 1641428354581,
    "execution_millis": 14,
    "deepnote_output_heights": [
     21.1875
    ],
    "deepnote_cell_type": "code"
   },
   "source": "voter_data_2014",
   "execution_count": null,
   "outputs": [
    {
     "output_type": "execute_result",
     "execution_count": 4,
     "data": {
      "text/plain": "'{\\\\rtf1\\\\ansi\\\\ansicpg1252\\\\cocoartf2580\\n\\\\cocoatextscaling0\\\\cocoaplatform0{\\\\fonttbl\\\\f0\\\\froman\\\\fcharset0 Times-Roman;}\\n{\\\\colortbl;\\\\red255\\\\green255\\\\blue255;\\\\red0\\\\green0\\\\blue0;}\\n{\\\\*\\\\expandedcolortbl;;\\\\cssrgb\\\\c0\\\\c0\\\\c0;}\\n\\\\margl1440\\\\margr1440\\\\vieww11520\\\\viewh8400\\\\viewkind0\\n\\\\deftab720\\n\\\\pard\\\\pardeftab720\\\\partightenfactor0\\n\\n\\\\f0\\\\fs24 \\\\cf2 \\\\expnd0\\\\expndtw0\\\\kerning0\\n\\\\outl0\\\\strokewidth0 \\\\strokec2 Alameda 1,036,648 814,009 451,535 108,919 16,622 97 10,072 4,210 2,936 46,644 172,974 Alpine 878 764 280 228 30 0 13 6 1 7 199 Amador 26,593 20,798 6,467 9,185 909 1 119 224 49 58 3,786 Butte 167,802 117,503 38,793 42,484 4,165 13 1,446 1,245 502 1,711 27,144 Calaveras 35,473 27,068 8,180 11,344 1,274 4 240 369 99 234 5,324 Colusa 12,296 7,595 2,542 3,341 202 0 21 36 13 2 1,438 Contra Costa 718,685 527,521 258,862 126,134 14,029 36 3,347 3,161 1,174 1,343 119,435 Del Norte 18,253 12,750 4,153 4,548 593 1 97 118 55 176 3,009 El Dorado 135,707 106,931 30,540 45,901 4,425 5 848 1,217 303 944 22,748 Fresno 572,045 416,433 166,447 153,167 10,973 29 1,514 2,166 1,108 4,975 76,054 Glenn 18,264 12,034 3,557 5,267 457 0 37 87 42 21 2,566 Humboldt 104,687 76,008 31,127 18,979 2,515 2 2,812 806 365 263 19,139 Imperial 95,149 59,149 29,075 13,067 1,442 12 140 246 255 367 14,545 Inyo 13,668 9,500 2,895 4,019 405 1 80 80 26 51 1,943 Kern 497,934 332,228 119,864 129,562 10,932 35 811 2,231 972 362 67,459 Kings 77,443 48,251 17,301 21,489 1,221 3 90 251 85 144 7,667 Lake 49,067 33,489 13,017 8,857 1,395 2 479 381 176 80 9,102 Lassen 17,174 12,895 3,040 6,202 686 3 37 101 40 77 2,709 Los Angeles 6,096,320 4,897,915 2,473,691 1,010,254 111,365 2,651 25,072 27,999 36,003 42,703 1,168,177 Madera 85,976 52,494 17,354 22,577 1,654 3 206 307 148 171 10,074 Marin 176,922 148,976 80,796 26,237 3,299 9 2,064 884 276 514 34,897 Mariposa 15,290 10,501 3,067 4,603 477 1 111 108 29 185 1,920 Mendocino 64,404 47,502 21,620 10,036 1,692 2 1,791 460 281 183 11,437 Merced 151,262 95,452 40,451 31,322 2,989 6 494 559 339 218 19,074 Modoc 6,934 5,195 1,269 2,573 269 0 26 44 11 7 996 Mono 9,635 5,812 1,908 2,012 252 1 58 42 18 0 1,521 Monterey 235,827 165,731 83,386 39,634 3,956 12 1,084 918 463 231 36,047 Napa 91,531 70,493 32,290 18,335 2,208 5 787 521 197 444 15,706 Nevada 76,731 61,690 20,029 22,187 2,380 2 1,376 725 192 138 14,661 Orange 1,963,747 1,424,216 454,810 579,912 37,991 261 5,638 12,059 3,595 4,820 325,130 Placer 259,591 200,422 55,115 92,447 4,797 17 1,055 2,732 469 682 43,108 Plumas 15,299 11,831 3,566 5,016 606 2 83 114 43 4 2,397 Riverside 1,394,302 891,575 316,380 352,831 27,719 89 2,679 5,681 3,158 7,199 175,839 Sacramento 961,112 683,632 295,022 208,658 20,576 68 3,942 5,091 5,511 1,439 143,325 San Benito 34,594 24,251 11,032 6,975 614 3 133 137 60 393 4,904 San Bernardino 1,273,684 851,684 325,196 294,381 30,953 111 3,109 5,451 4,023 1,988 186,472 San Diego 2,135,863 1,546,924 536,300 506,078 52,982 151 7,817 12,865 4,260 5,571 420,900 San Francisco 625,446 433,844 241,480 36,012 7,631 27 6,788 2,783 1,418 2,376 135,329 San Joaquin 428,595 297,425 126,070 103,124 8,016 32 865 1,592 925 1,355 55,446 San Luis Obispo 202,600 150,139 49,692 59,193 4,397 7 1,287 1,340 332 1,806 32,085 San Mateo 490,797 355,598 180,459 66,325 7,708 20 2,454 1,982 780 866 95,004 Santa Barbara 281,167 196,998 79,392 58,202 5,317 14 1,508 1,515 473 2,169 48,408 Santa Clara 1,157,944 805,502 357,873 176,159 17,023 51 4,266 5,129 2,180 1,454 241,367 Santa Cruz 187,844 142,316 76,645 22,961 3,444 10 2,753 1,309 530 717 33,947 Shasta 135,199 97,933 25,022 44,190 3,924 9 458 958 329 399 22,644 Sierra 2,502 2,229 623 902 138 0 23 29 6 55 453 Siskiyou 35,187 24,840 7,738 9,917 1,135 1 198 277 93 56 5,425 Solano 284,151 200,147 96,119 48,815 5,800 15 854 1,203 531 925 45,885 Sonoma 341,804 244,448 126,011 51,577 6,268 7 4,207 1,925 728 1,555 52,170 Stanislaus 326,747 214,209 78,884 88,364 6,008 27 606 1,250 580 2,220 36,270 Sutter 59,786 41,608 13,280 18,015 1,368 4 121 278 142 811 7,589 Tehama 43,727 30,169 8,653 13,020 1,548 3 121 276 110 118 6,320 Trinity 11,089 7,213 2,366 2,420 369 0 116 96 32 110 1,704 Tulare 256,248 137,695 43,265 63,249 4,699 27 431 814 424 242 24,544 Tuolumne 39,669 29,274 9,202 12,276 1,246 0 218 279 89 61 5,903 Ventura 542,109 433,064 169,789 148,095 11,384 24 2,324 3,109 1,113 5,703 91,523 Yolo 140,889 101,032 46,983 23,390 2,869 4 1,049 779 455 410 25,093 Yuba 47,855 26,918 8,180 10,455 1,331 2 136 249 95 46 6,424}'"
     },
     "metadata": {}
    }
   ]
  },
  {
   "cell_type": "code",
   "metadata": {
    "tags": [],
    "cell_id": "00001-02b38590-0c7e-4d83-8b1f-39b163d28e37",
    "deepnote_to_be_reexecuted": false,
    "source_hash": "95d338af",
    "execution_start": 1641428354599,
    "execution_millis": 1,
    "deepnote_cell_type": "code"
   },
   "source": "#Set up regex patterns - they are different in different years\npattern_2014 = \"\"\"\n        (?P<county>[A-Za-z ]+)             #county\n        (\\s )\n        (?P<eligible>[\\d,]+)               #eligible voters \n        (\\s )\n        (?P<registered>[\\d,]+)             #registered voters\n        (\\s )\n        (?P<democrat>[\\d,]+)               #registered as Democratic \n        (\\s )\n        (?P<republican>[\\d,]+)             #registered as Republican\n        (\\s )\n        (?P<american_independent>[\\d,]+)   #registered as American Independent\n        (\\s )\n        (?P<americans_elect>[\\d,]+)        #registered as Americans Elect\n        (\\s )\n        (?P<green>[\\d,]+)                  #registered as Green\n        (\\s )\n        (?P<liberterian>[\\d,]+)            #registered as Liberterian\n        (\\s )\n        (?P<peace_and_freedom>[\\d,]+)      #registered as Peace and Freedom\n        (\\s )\n        (?P<other>[\\d,]+)                  #registered as other\n        (\\s )\n        (?P<no_party>[\\d,]+)               #registered as No Party Preference\n    \"\"\"\n\npattern_2016 = \"\"\"\n        (?P<county>[A-Za-z ]+)             #county\n        (\\s )\n        (?P<eligible>[\\d,]+)               #eligible voters \n        (\\s )\n        (?P<registered>[\\d,]+)             #registered voters\n        (\\s )\n        (?P<democrat>[\\d,]+)               #registered as Democratic \n        (\\s )\n        (?P<republican>[\\d,]+)             #registered as Republican\n        (\\s )\n        (?P<american_independent>[\\d,]+)   #registered as American Independent\n        (\\s )\n        (?P<green>[\\d,]+)                  #registered as Green\n        (\\s )\n        (?P<liberterian>[\\d,]+)            #registered as Liberterian\n        (\\s )\n        (?P<peace_and_freedom>[\\d,]+)      #registered as Peace and Freedom\n        (\\s )\n        (?P<other>[\\d,]+)                  #registered as other\n        (\\s )\n        (?P<no_party>[\\d,]+)               #registered as No Party Preference\n    \"\"\"\n\n\npattern_2018 = \"\"\"\n        (?P<county>[A-Za-z ]+)             #county\n        (\\s )\n        (?P<eligible>[\\d,]+)               #eligible voters \n        (\\s )\n        (?P<registered>[\\d,]+)             #registered voters\n        (\\s )\n        (?P<democrat>[\\d,]+)               #registered as Democratic \n        (\\s )\n        (?P<republican>[\\d,]+)             #registered as Republican\n        (\\s )\n        (?P<american_independent>[\\d,]+)   #registered as American Independent\n        (\\s )\n        (?P<green>[\\d,]+)                  #registered as Green\n        (\\s )\n        (?P<liberterian>[\\d,]+)            #registered as Liberterian\n        (\\s )\n        (?P<peace_and_freedom>[\\d,]+)      #registered as Peace and Freedom\n        (\\s )\n        (?P<unknown>[\\d,]+)                #registered but not known\n        (\\s )\n        (?P<other>[\\d,]+)                  #registered as other\n        (\\s )\n        (?P<no_party>[\\d,]+)               #registered as No Party Preference\n    \"\"\"",
   "execution_count": null,
   "outputs": []
  },
  {
   "cell_type": "code",
   "metadata": {
    "tags": [],
    "cell_id": "00004-ff355327-169d-4b47-82ef-2a04c432e317",
    "deepnote_to_be_reexecuted": false,
    "source_hash": "4a4add2e",
    "execution_start": 1641428354648,
    "execution_millis": 85,
    "deepnote_output_heights": [
     607
    ],
    "deepnote_table_state": {
     "pageSize": 10,
     "pageIndex": 5,
     "filters": [],
     "sortBy": []
    },
    "deepnote_table_loading": false,
    "deepnote_cell_type": "code"
   },
   "source": "#Run regex and put results in dataframes, remove commas and convert fields to integer\n#2014 and 2015\nresult_2014 = [item.groupdict() for item in re.finditer(pattern_2014,voter_data_2014,re.VERBOSE)]\nresult_2014_df=pd.DataFrame(result_2014).set_index('county')\nresult_2014_df = result_2014_df.apply(lambda x: x.str.replace(',', ''))\nresult_2014_df = result_2014_df.astype('int32')\nresult_2014_df['year']=2014\n\nresult_2015_df=pd.DataFrame(result_2014).set_index('county')\nresult_2015_df = result_2015_df.apply(lambda x: x.str.replace(',', ''))\nresult_2015_df = result_2015_df.astype('int32')\nresult_2015_df['year']=2015\n\n#2016 and 2017\nresult_2016 = [item.groupdict() for item in re.finditer(pattern_2016,voter_data_2016,re.VERBOSE)]\nresult_2016_df=pd.DataFrame(result_2016).set_index('county')\nresult_2016_df = result_2016_df.apply(lambda x: x.str.replace(',', ''))\nresult_2016_df = result_2016_df.astype('int32')\nresult_2016_df['year']=2016\n\nresult_2017_df=pd.DataFrame(result_2016).set_index('county')\nresult_2017_df = result_2017_df.apply(lambda x: x.str.replace(',', ''))\nresult_2017_df = result_2017_df.astype('int32')\nresult_2017_df['year']=2017\n\n#2018 and 2019\nresult_2018 = [item.groupdict() for item in re.finditer(pattern_2018,voter_data_2018,re.VERBOSE)]\nresult_2018_df=pd.DataFrame(result_2018).set_index('county')\nresult_2018_df = result_2018_df.apply(lambda x: x.str.replace(',', ''))\nresult_2018_df = result_2018_df.astype('int32')\nresult_2018_df['year']=2018\n\nresult_2019_df=pd.DataFrame(result_2018).set_index('county')\nresult_2019_df = result_2019_df.apply(lambda x: x.str.replace(',', ''))\nresult_2019_df = result_2019_df.astype('int32')\nresult_2019_df['year']=2019\n",
   "execution_count": null,
   "outputs": []
  },
  {
   "cell_type": "code",
   "metadata": {
    "tags": [],
    "cell_id": "00005-6403e23c-71f5-4076-8758-852b0420c3ce",
    "deepnote_to_be_reexecuted": false,
    "source_hash": "b936ae0a",
    "execution_start": 1641428354784,
    "execution_millis": 0,
    "deepnote_output_heights": [
     21.1875
    ],
    "deepnote_cell_type": "code"
   },
   "source": "#Standardize fields across the years\n#Confirm that all columns to the right of registered sum to registered\n# result_2018_df['all_reg']= result_2018_df['democrat']+result_2018_df['republican']+result_2018_df['american_independent']+result_2018_df['green']+result_2018_df['liberterian']+result_2018_df['peace_and_freedom']+result_2018_df['unknown']+result_2018_df['other']+result_2018_df['no_party']-result_2018_df['registered']\n# result_2018_df['all_reg'].sum()\n\n#Create aggregate field for other/unknown parties\nresult_2014_df['other_party'] = result_2014_df['americans_elect']+result_2014_df['other']\nresult_2015_df['other_party'] = result_2015_df['americans_elect']+result_2014_df['other']\nresult_2016_df['other_party'] = result_2016_df['other']\nresult_2017_df['other_party'] = result_2017_df['other']\nresult_2018_df['other_party'] = result_2018_df['unknown']+result_2018_df['other']\nresult_2019_df['other_party'] = result_2019_df['unknown']+result_2019_df['other']\n\n\n#Drop columns we don't need\nresult_2014_df.drop(columns=['americans_elect','other'],inplace=True)\nresult_2015_df.drop(columns=['americans_elect','other'],inplace=True)\nresult_2016_df.drop(columns=['other'],inplace=True)\nresult_2017_df.drop(columns=['other'],inplace=True)\nresult_2018_df.drop(columns=['unknown','other'],inplace=True)\nresult_2019_df.drop(columns=['unknown','other'],inplace=True)",
   "execution_count": null,
   "outputs": []
  },
  {
   "cell_type": "code",
   "metadata": {
    "tags": [],
    "cell_id": "00006-783fdf8a-4753-4c5c-89cd-9880dd3ff772",
    "deepnote_to_be_reexecuted": false,
    "source_hash": "e4f0eb7d",
    "execution_start": 1641428354785,
    "execution_millis": 2,
    "deepnote_output_heights": [
     136
    ],
    "deepnote_cell_type": "code"
   },
   "source": "#Put all six years in one df\nall_years_df = pd.concat([result_2014_df,result_2015_df, result_2016_df, result_2017_df, result_2018_df, result_2019_df])\nall_years_df['year'].value_counts()",
   "execution_count": null,
   "outputs": [
    {
     "output_type": "execute_result",
     "execution_count": 8,
     "data": {
      "text/plain": "2014    58\n2015    58\n2016    58\n2017    58\n2018    58\n2019    58\nName: year, dtype: int64"
     },
     "metadata": {}
    }
   ]
  },
  {
   "cell_type": "code",
   "metadata": {
    "tags": [],
    "cell_id": "00008-bfc2b883-fca7-437d-9fd0-1770c66be573",
    "deepnote_to_be_reexecuted": false,
    "source_hash": "b61975d1",
    "execution_start": 1641428354828,
    "execution_millis": 0,
    "deepnote_output_heights": [
     136.3125
    ],
    "deepnote_cell_type": "code"
   },
   "source": "#Create usable features for ml analysis\n\n# % of registered voters\nall_years_df['registered_pct'] = all_years_df['registered']/all_years_df['eligible'] * 100\n\n# % of voters registered in each party\nall_years_df['democrat_pct'] = all_years_df['democrat']/all_years_df['registered'] * 100\nall_years_df['republican_pct'] = all_years_df['republican']/all_years_df['registered'] * 100\nall_years_df['american_independent_pct'] = all_years_df['american_independent']/all_years_df['registered'] * 100\nall_years_df['green_pct'] = all_years_df['green']/all_years_df['registered'] * 100\nall_years_df['liberterian_pct'] = all_years_df['liberterian']/all_years_df['registered'] * 100\nall_years_df['peace_and_freedom_pct'] = all_years_df['peace_and_freedom']/all_years_df['registered'] * 100\nall_years_df['no_party_pct'] = all_years_df['no_party']/all_years_df['registered'] * 100\nall_years_df['other_party_pct'] = all_years_df['other_party']/all_years_df['registered'] * 100\n\n# drop original columns that are no longer needed\nall_years_df.columns\nall_years_df = all_years_df.drop(columns=['eligible', 'registered', 'democrat', 'republican',\n       'american_independent', 'green', 'liberterian', 'peace_and_freedom',\n       'no_party', 'other_party'])\n",
   "execution_count": null,
   "outputs": []
  },
  {
   "cell_type": "code",
   "metadata": {
    "tags": [],
    "cell_id": "00008-ff921b75-dafa-4ae7-b960-a13d0cc3ada0",
    "deepnote_to_be_reexecuted": false,
    "source_hash": "c95e4fe8",
    "execution_start": 1641428354840,
    "execution_millis": 80,
    "deepnote_cell_type": "code"
   },
   "source": "all_years_df.head()",
   "execution_count": null,
   "outputs": [
    {
     "output_type": "execute_result",
     "execution_count": 10,
     "data": {
      "application/vnd.deepnote.dataframe.v3+json": {
       "column_count": 10,
       "row_count": 5,
       "columns": [
        {
         "name": "year",
         "dtype": "int64",
         "stats": {
          "unique_count": 1,
          "nan_count": 0,
          "min": "2014",
          "max": "2014",
          "histogram": [
           {
            "bin_start": 2013.5,
            "bin_end": 2013.6,
            "count": 0
           },
           {
            "bin_start": 2013.6,
            "bin_end": 2013.7,
            "count": 0
           },
           {
            "bin_start": 2013.7,
            "bin_end": 2013.8,
            "count": 0
           },
           {
            "bin_start": 2013.8,
            "bin_end": 2013.9,
            "count": 0
           },
           {
            "bin_start": 2013.9,
            "bin_end": 2014,
            "count": 0
           },
           {
            "bin_start": 2014,
            "bin_end": 2014.1,
            "count": 5
           },
           {
            "bin_start": 2014.1,
            "bin_end": 2014.2,
            "count": 0
           },
           {
            "bin_start": 2014.2,
            "bin_end": 2014.3,
            "count": 0
           },
           {
            "bin_start": 2014.3,
            "bin_end": 2014.4,
            "count": 0
           },
           {
            "bin_start": 2014.4,
            "bin_end": 2014.5,
            "count": 0
           }
          ]
         }
        },
        {
         "name": "registered_pct",
         "dtype": "float64",
         "stats": {
          "unique_count": 5,
          "nan_count": 0,
          "min": "70.024791122871",
          "max": "87.01594533029613",
          "histogram": [
           {
            "bin_start": 70.024791122871,
            "bin_end": 71.72390654361351,
            "count": 1
           },
           {
            "bin_start": 71.72390654361351,
            "bin_end": 73.42302196435602,
            "count": 0
           },
           {
            "bin_start": 73.42302196435602,
            "bin_end": 75.12213738509854,
            "count": 0
           },
           {
            "bin_start": 75.12213738509854,
            "bin_end": 76.82125280584106,
            "count": 1
           },
           {
            "bin_start": 76.82125280584106,
            "bin_end": 78.52036822658357,
            "count": 1
           },
           {
            "bin_start": 78.52036822658357,
            "bin_end": 80.21948364732609,
            "count": 1
           },
           {
            "bin_start": 80.21948364732609,
            "bin_end": 81.91859906806859,
            "count": 0
           },
           {
            "bin_start": 81.91859906806859,
            "bin_end": 83.6177144888111,
            "count": 0
           },
           {
            "bin_start": 83.6177144888111,
            "bin_end": 85.31682990955362,
            "count": 0
           },
           {
            "bin_start": 85.31682990955362,
            "bin_end": 87.01594533029613,
            "count": 1
           }
          ]
         }
        },
        {
         "name": "democrat_pct",
         "dtype": "float64",
         "stats": {
          "unique_count": 5,
          "nan_count": 0,
          "min": "30.220186197724253",
          "max": "55.470516910746696",
          "histogram": [
           {
            "bin_start": 30.220186197724253,
            "bin_end": 32.7452192690265,
            "count": 2
           },
           {
            "bin_start": 32.7452192690265,
            "bin_end": 35.27025234032874,
            "count": 1
           },
           {
            "bin_start": 35.27025234032874,
            "bin_end": 37.795285411630985,
            "count": 1
           },
           {
            "bin_start": 37.795285411630985,
            "bin_end": 40.32031848293323,
            "count": 0
           },
           {
            "bin_start": 40.32031848293323,
            "bin_end": 42.84535155423548,
            "count": 0
           },
           {
            "bin_start": 42.84535155423548,
            "bin_end": 45.37038462553772,
            "count": 0
           },
           {
            "bin_start": 45.37038462553772,
            "bin_end": 47.895417696839964,
            "count": 0
           },
           {
            "bin_start": 47.895417696839964,
            "bin_end": 50.4204507681422,
            "count": 0
           },
           {
            "bin_start": 50.4204507681422,
            "bin_end": 52.94548383944445,
            "count": 0
           },
           {
            "bin_start": 52.94548383944445,
            "bin_end": 55.470516910746696,
            "count": 1
           }
          ]
         }
        },
        {
         "name": "republican_pct",
         "dtype": "float64",
         "stats": {
          "unique_count": 5,
          "nan_count": 0,
          "min": "13.380564588352218",
          "max": "44.16290027887297",
          "histogram": [
           {
            "bin_start": 13.380564588352218,
            "bin_end": 16.458798157404292,
            "count": 1
           },
           {
            "bin_start": 16.458798157404292,
            "bin_end": 19.53703172645637,
            "count": 0
           },
           {
            "bin_start": 19.53703172645637,
            "bin_end": 22.615265295508443,
            "count": 0
           },
           {
            "bin_start": 22.615265295508443,
            "bin_end": 25.693498864560517,
            "count": 0
           },
           {
            "bin_start": 25.693498864560517,
            "bin_end": 28.77173243361259,
            "count": 0
           },
           {
            "bin_start": 28.77173243361259,
            "bin_end": 31.84996600266467,
            "count": 1
           },
           {
            "bin_start": 31.84996600266467,
            "bin_end": 34.928199571716746,
            "count": 0
           },
           {
            "bin_start": 34.928199571716746,
            "bin_end": 38.00643314076882,
            "count": 1
           },
           {
            "bin_start": 38.00643314076882,
            "bin_end": 41.084666709820894,
            "count": 0
           },
           {
            "bin_start": 41.084666709820894,
            "bin_end": 44.16290027887297,
            "count": 2
           }
          ]
         }
        },
        {
         "name": "american_independent_pct",
         "dtype": "float64",
         "stats": {
          "unique_count": 5,
          "nan_count": 0,
          "min": "2.0419921647057957",
          "max": "4.706664696320378",
          "histogram": [
           {
            "bin_start": 2.0419921647057957,
            "bin_end": 2.3084594178672537,
            "count": 1
           },
           {
            "bin_start": 2.3084594178672537,
            "bin_end": 2.574926671028712,
            "count": 0
           },
           {
            "bin_start": 2.574926671028712,
            "bin_end": 2.8413939241901707,
            "count": 0
           },
           {
            "bin_start": 2.8413939241901707,
            "bin_end": 3.1078611773516287,
            "count": 0
           },
           {
            "bin_start": 3.1078611773516287,
            "bin_end": 3.3743284305130867,
            "count": 0
           },
           {
            "bin_start": 3.3743284305130867,
            "bin_end": 3.640795683674545,
            "count": 1
           },
           {
            "bin_start": 3.640795683674545,
            "bin_end": 3.9072629368360037,
            "count": 0
           },
           {
            "bin_start": 3.9072629368360037,
            "bin_end": 4.173730189997462,
            "count": 1
           },
           {
            "bin_start": 4.173730189997462,
            "bin_end": 4.440197443158921,
            "count": 1
           },
           {
            "bin_start": 4.440197443158921,
            "bin_end": 4.706664696320378,
            "count": 1
           }
          ]
         }
        },
        {
         "name": "green_pct",
         "dtype": "float64",
         "stats": {
          "unique_count": 5,
          "nan_count": 0,
          "min": "0.5721704010000962",
          "max": "1.7015706806282722",
          "histogram": [
           {
            "bin_start": 0.5721704010000962,
            "bin_end": 0.6851104289629139,
            "count": 1
           },
           {
            "bin_start": 0.6851104289629139,
            "bin_end": 0.7980504569257314,
            "count": 0
           },
           {
            "bin_start": 0.7980504569257314,
            "bin_end": 0.9109904848885491,
            "count": 1
           },
           {
            "bin_start": 0.9109904848885491,
            "bin_end": 1.0239305128513667,
            "count": 0
           },
           {
            "bin_start": 1.0239305128513667,
            "bin_end": 1.1368705408141841,
            "count": 0
           },
           {
            "bin_start": 1.1368705408141841,
            "bin_end": 1.249810568777002,
            "count": 2
           },
           {
            "bin_start": 1.249810568777002,
            "bin_end": 1.3627505967398195,
            "count": 0
           },
           {
            "bin_start": 1.3627505967398195,
            "bin_end": 1.4756906247026371,
            "count": 0
           },
           {
            "bin_start": 1.4756906247026371,
            "bin_end": 1.5886306526654548,
            "count": 0
           },
           {
            "bin_start": 1.5886306526654548,
            "bin_end": 1.7015706806282722,
            "count": 1
           }
          ]
         }
        },
        {
         "name": "liberterian_pct",
         "dtype": "float64",
         "stats": {
          "unique_count": 5,
          "nan_count": 0,
          "min": "0.5171932988455902",
          "max": "1.363233338259199",
          "histogram": [
           {
            "bin_start": 0.5171932988455902,
            "bin_end": 0.6017973027869511,
            "count": 1
           },
           {
            "bin_start": 0.6017973027869511,
            "bin_end": 0.6864013067283119,
            "count": 0
           },
           {
            "bin_start": 0.6864013067283119,
            "bin_end": 0.7710053106696728,
            "count": 0
           },
           {
            "bin_start": 0.7710053106696728,
            "bin_end": 0.8556093146110337,
            "count": 1
           },
           {
            "bin_start": 0.8556093146110337,
            "bin_end": 0.9402133185523947,
            "count": 0
           },
           {
            "bin_start": 0.9402133185523947,
            "bin_end": 1.0248173224937553,
            "count": 0
           },
           {
            "bin_start": 1.0248173224937553,
            "bin_end": 1.1094213264351165,
            "count": 2
           },
           {
            "bin_start": 1.1094213264351165,
            "bin_end": 1.1940253303764772,
            "count": 0
           },
           {
            "bin_start": 1.1940253303764772,
            "bin_end": 1.2786293343178383,
            "count": 0
           },
           {
            "bin_start": 1.2786293343178383,
            "bin_end": 1.363233338259199,
            "count": 1
           }
          ]
         }
        },
        {
         "name": "peace_and_freedom_pct",
         "dtype": "float64",
         "stats": {
          "unique_count": 5,
          "nan_count": 0,
          "min": "0.13089005235602094",
          "max": "0.427223134728475",
          "histogram": [
           {
            "bin_start": 0.13089005235602094,
            "bin_end": 0.16052336059326636,
            "count": 1
           },
           {
            "bin_start": 0.16052336059326636,
            "bin_end": 0.19015666883051174,
            "count": 0
           },
           {
            "bin_start": 0.19015666883051174,
            "bin_end": 0.21978997706775716,
            "count": 0
           },
           {
            "bin_start": 0.21978997706775716,
            "bin_end": 0.24942328530500257,
            "count": 1
           },
           {
            "bin_start": 0.24942328530500257,
            "bin_end": 0.279056593542248,
            "count": 0
           },
           {
            "bin_start": 0.279056593542248,
            "bin_end": 0.3086899017794934,
            "count": 0
           },
           {
            "bin_start": 0.3086899017794934,
            "bin_end": 0.33832321001673876,
            "count": 0
           },
           {
            "bin_start": 0.33832321001673876,
            "bin_end": 0.3679565182539842,
            "count": 2
           },
           {
            "bin_start": 0.3679565182539842,
            "bin_end": 0.39758982649122954,
            "count": 0
           },
           {
            "bin_start": 0.39758982649122954,
            "bin_end": 0.427223134728475,
            "count": 1
           }
          ]
         }
        },
        {
         "name": "no_party_pct",
         "dtype": "float64",
         "stats": {
          "unique_count": 5,
          "nan_count": 0,
          "min": "18.203673430137513",
          "max": "26.04712041884817",
          "histogram": [
           {
            "bin_start": 18.203673430137513,
            "bin_end": 18.98801812900858,
            "count": 1
           },
           {
            "bin_start": 18.98801812900858,
            "bin_end": 19.772362827879643,
            "count": 1
           },
           {
            "bin_start": 19.772362827879643,
            "bin_end": 20.55670752675071,
            "count": 0
           },
           {
            "bin_start": 20.55670752675071,
            "bin_end": 21.341052225621777,
            "count": 1
           },
           {
            "bin_start": 21.341052225621777,
            "bin_end": 22.12539692449284,
            "count": 0
           },
           {
            "bin_start": 22.12539692449284,
            "bin_end": 22.909741623363907,
            "count": 0
           },
           {
            "bin_start": 22.909741623363907,
            "bin_end": 23.694086322234973,
            "count": 1
           },
           {
            "bin_start": 23.694086322234973,
            "bin_end": 24.47843102110604,
            "count": 0
           },
           {
            "bin_start": 24.47843102110604,
            "bin_end": 25.262775719977103,
            "count": 0
           },
           {
            "bin_start": 25.262775719977103,
            "bin_end": 26.04712041884817,
            "count": 1
           }
          ]
         }
        },
        {
         "name": "other_party_pct",
         "dtype": "float64",
         "stats": {
          "unique_count": 5,
          "nan_count": 0,
          "min": "0.2836811231849216",
          "max": "5.742074104831764",
          "histogram": [
           {
            "bin_start": 0.2836811231849216,
            "bin_end": 0.8295204213496059,
            "count": 1
           },
           {
            "bin_start": 0.8295204213496059,
            "bin_end": 1.3753597195142901,
            "count": 2
           },
           {
            "bin_start": 1.3753597195142901,
            "bin_end": 1.9211990176789744,
            "count": 1
           },
           {
            "bin_start": 1.9211990176789744,
            "bin_end": 2.4670383158436584,
            "count": 0
           },
           {
            "bin_start": 2.4670383158436584,
            "bin_end": 3.0128776140083424,
            "count": 0
           },
           {
            "bin_start": 3.0128776140083424,
            "bin_end": 3.558716912173027,
            "count": 0
           },
           {
            "bin_start": 3.558716912173027,
            "bin_end": 4.104556210337711,
            "count": 0
           },
           {
            "bin_start": 4.104556210337711,
            "bin_end": 4.650395508502395,
            "count": 0
           },
           {
            "bin_start": 4.650395508502395,
            "bin_end": 5.196234806667079,
            "count": 0
           },
           {
            "bin_start": 5.196234806667079,
            "bin_end": 5.742074104831764,
            "count": 1
           }
          ]
         }
        },
        {
         "name": "_deepnote_index_column",
         "dtype": "object"
        }
       ],
       "rows": [
        {
         "year": 2014,
         "registered_pct": 78.52318241100161,
         "democrat_pct": 55.470516910746696,
         "republican_pct": 13.380564588352218,
         "american_independent_pct": 2.0419921647057957,
         "green_pct": 1.2373327567631316,
         "liberterian_pct": 0.5171932988455902,
         "peace_and_freedom_pct": 0.3606839727816277,
         "no_party_pct": 21.249642202973185,
         "other_party_pct": 5.742074104831764,
         "_deepnote_index_column": " Alameda"
        },
        {
         "year": 2014,
         "registered_pct": 87.01594533029613,
         "democrat_pct": 36.64921465968586,
         "republican_pct": 29.84293193717277,
         "american_independent_pct": 3.926701570680628,
         "green_pct": 1.7015706806282722,
         "liberterian_pct": 0.7853403141361256,
         "peace_and_freedom_pct": 0.13089005235602094,
         "no_party_pct": 26.04712041884817,
         "other_party_pct": 0.9162303664921465,
         "_deepnote_index_column": " Alpine"
        },
        {
         "year": 2014,
         "registered_pct": 78.20855112247584,
         "democrat_pct": 31.09433599384556,
         "republican_pct": 44.16290027887297,
         "american_independent_pct": 4.370612558899895,
         "green_pct": 0.5721704010000962,
         "liberterian_pct": 1.0770266371766515,
         "peace_and_freedom_pct": 0.23559957688239255,
         "no_party_pct": 18.203673430137513,
         "other_party_pct": 0.2836811231849216,
         "_deepnote_index_column": " Amador"
        },
        {
         "year": 2014,
         "registered_pct": 70.024791122871,
         "democrat_pct": 33.0144762261389,
         "republican_pct": 36.155672621124566,
         "american_independent_pct": 3.5445903508846586,
         "green_pct": 1.2306068781222608,
         "liberterian_pct": 1.0595474158106601,
         "peace_and_freedom_pct": 0.427223134728475,
         "no_party_pct": 23.10068679097555,
         "other_party_pct": 1.4671965822149222,
         "_deepnote_index_column": " Butte"
        },
        {
         "year": 2014,
         "registered_pct": 76.305922814535,
         "democrat_pct": 30.220186197724253,
         "republican_pct": 41.909265553421015,
         "american_independent_pct": 4.706664696320378,
         "green_pct": 0.8866558297620807,
         "liberterian_pct": 1.363233338259199,
         "peace_and_freedom_pct": 0.36574552977685826,
         "no_party_pct": 19.66898182355549,
         "other_party_pct": 0.8792670311807299,
         "_deepnote_index_column": " Calaveras"
        }
       ]
      },
      "text/plain": "            year  registered_pct  democrat_pct  republican_pct  \\\ncounty                                                           \n Alameda    2014       78.523182     55.470517       13.380565   \n Alpine     2014       87.015945     36.649215       29.842932   \n Amador     2014       78.208551     31.094336       44.162900   \n Butte      2014       70.024791     33.014476       36.155673   \n Calaveras  2014       76.305923     30.220186       41.909266   \n\n            american_independent_pct  green_pct  liberterian_pct  \\\ncounty                                                             \n Alameda                    2.041992   1.237333         0.517193   \n Alpine                     3.926702   1.701571         0.785340   \n Amador                     4.370613   0.572170         1.077027   \n Butte                      3.544590   1.230607         1.059547   \n Calaveras                  4.706665   0.886656         1.363233   \n\n            peace_and_freedom_pct  no_party_pct  other_party_pct  \ncounty                                                            \n Alameda                 0.360684     21.249642         5.742074  \n Alpine                  0.130890     26.047120         0.916230  \n Amador                  0.235600     18.203673         0.283681  \n Butte                   0.427223     23.100687         1.467197  \n Calaveras               0.365746     19.668982         0.879267  ",
      "text/html": "<div>\n<style scoped>\n    .dataframe tbody tr th:only-of-type {\n        vertical-align: middle;\n    }\n\n    .dataframe tbody tr th {\n        vertical-align: top;\n    }\n\n    .dataframe thead th {\n        text-align: right;\n    }\n</style>\n<table border=\"1\" class=\"dataframe\">\n  <thead>\n    <tr style=\"text-align: right;\">\n      <th></th>\n      <th>year</th>\n      <th>registered_pct</th>\n      <th>democrat_pct</th>\n      <th>republican_pct</th>\n      <th>american_independent_pct</th>\n      <th>green_pct</th>\n      <th>liberterian_pct</th>\n      <th>peace_and_freedom_pct</th>\n      <th>no_party_pct</th>\n      <th>other_party_pct</th>\n    </tr>\n    <tr>\n      <th>county</th>\n      <th></th>\n      <th></th>\n      <th></th>\n      <th></th>\n      <th></th>\n      <th></th>\n      <th></th>\n      <th></th>\n      <th></th>\n      <th></th>\n    </tr>\n  </thead>\n  <tbody>\n    <tr>\n      <th>Alameda</th>\n      <td>2014</td>\n      <td>78.523182</td>\n      <td>55.470517</td>\n      <td>13.380565</td>\n      <td>2.041992</td>\n      <td>1.237333</td>\n      <td>0.517193</td>\n      <td>0.360684</td>\n      <td>21.249642</td>\n      <td>5.742074</td>\n    </tr>\n    <tr>\n      <th>Alpine</th>\n      <td>2014</td>\n      <td>87.015945</td>\n      <td>36.649215</td>\n      <td>29.842932</td>\n      <td>3.926702</td>\n      <td>1.701571</td>\n      <td>0.785340</td>\n      <td>0.130890</td>\n      <td>26.047120</td>\n      <td>0.916230</td>\n    </tr>\n    <tr>\n      <th>Amador</th>\n      <td>2014</td>\n      <td>78.208551</td>\n      <td>31.094336</td>\n      <td>44.162900</td>\n      <td>4.370613</td>\n      <td>0.572170</td>\n      <td>1.077027</td>\n      <td>0.235600</td>\n      <td>18.203673</td>\n      <td>0.283681</td>\n    </tr>\n    <tr>\n      <th>Butte</th>\n      <td>2014</td>\n      <td>70.024791</td>\n      <td>33.014476</td>\n      <td>36.155673</td>\n      <td>3.544590</td>\n      <td>1.230607</td>\n      <td>1.059547</td>\n      <td>0.427223</td>\n      <td>23.100687</td>\n      <td>1.467197</td>\n    </tr>\n    <tr>\n      <th>Calaveras</th>\n      <td>2014</td>\n      <td>76.305923</td>\n      <td>30.220186</td>\n      <td>41.909266</td>\n      <td>4.706665</td>\n      <td>0.886656</td>\n      <td>1.363233</td>\n      <td>0.365746</td>\n      <td>19.668982</td>\n      <td>0.879267</td>\n    </tr>\n  </tbody>\n</table>\n</div>"
     },
     "metadata": {}
    }
   ]
  },
  {
   "cell_type": "code",
   "metadata": {
    "tags": [],
    "cell_id": "00009-4a0b6ae7-1e90-48ff-9dde-d0bc5f6a3e90",
    "deepnote_to_be_reexecuted": false,
    "source_hash": "ff64f22a",
    "execution_start": 1641428354921,
    "execution_millis": 15,
    "deepnote_cell_type": "code"
   },
   "source": "#Write data to a file to be used in supervised/unsupervised learning algorithms\nall_years_df.to_csv('/work/cleaned-csvs/ca_voter_reg_2014_2019.csv')",
   "execution_count": null,
   "outputs": []
  },
  {
   "cell_type": "markdown",
   "source": "<a style='text-decoration:none;line-height:16px;display:flex;color:#5B5B62;padding:10px;justify-content:end;' href='https://deepnote.com?utm_source=created-in-deepnote-cell&projectId=f6c76417-5fde-42f3-8920-755838dec3fa' target=\"_blank\">\n<img alt='Created in deepnote.com' style='display:inline;max-height:16px;margin:0px;margin-right:7.5px;' src='data:image/svg+xml;base64,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' > </img>\nCreated in <span style='font-weight:600;margin-left:4px;'>Deepnote</span></a>",
   "metadata": {
    "tags": [],
    "created_in_deepnote_cell": true,
    "deepnote_cell_type": "markdown"
   }
  }
 ],
 "nbformat": 4,
 "nbformat_minor": 2,
 "metadata": {
  "orig_nbformat": 2,
  "deepnote": {
   "is_reactive": false
  },
  "deepnote_notebook_id": "219a7705-3f7f-49ba-a424-ab6bc1ac32fa",
  "deepnote_execution_queue": []
 }
}