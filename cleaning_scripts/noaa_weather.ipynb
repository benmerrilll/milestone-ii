{
 "cells": [
  {
   "cell_type": "code",
   "metadata": {
    "tags": [],
    "deepnote_to_be_reexecuted": false,
    "source_hash": "f66061d1",
    "execution_start": 1643558895028,
    "execution_millis": 234824051,
    "cell_id": "00001-f82fbceb-2ca8-45aa-b300-e2f924a00042",
    "deepnote_cell_type": "code"
   },
   "source": "import pandas as pd\n",
   "outputs": [],
   "execution_count": null
  },
  {
   "cell_type": "code",
   "metadata": {
    "tags": [],
    "cell_id": "00011-39c2fe06-80b4-45f7-877e-7914dfda6099",
    "deepnote_to_be_reexecuted": false,
    "source_hash": "ecee43fa",
    "execution_start": 1643558895103,
    "execution_millis": 234824027,
    "deepnote_cell_type": "code"
   },
   "source": "#I am giving up on the API due to data limits, irregularities, etc\n#Instead I am downloading files for avg temp, min temp, max temp and precipitation\n\n#Data source is: https://www.ncdc.noaa.gov/cag/county/mapping/\n\n#If we want snowfall, we can use the following link, but it will require us to download one\n#file per month per year so this will be 60 files \n#https://www.ncdc.noaa.gov/snow-and-ice/daily-snow/",
   "outputs": [],
   "execution_count": null
  },
  {
   "cell_type": "code",
   "metadata": {
    "tags": [],
    "cell_id": "00012-7675ea62-1cb2-424b-a191-294fde460c2c",
    "deepnote_to_be_reexecuted": false,
    "source_hash": "fe456018",
    "execution_start": 1643558895157,
    "execution_millis": 430,
    "deepnote_cell_type": "code"
   },
   "source": "#Load in all files\navg_temps = pd.read_csv('/work/assets/ca_avg_temp.csv',skiprows=3,usecols=[0,1,2,3])\nmin_temps = pd.read_csv('/work/assets/ca_min_temp.csv',skiprows=3,usecols=[0,1,2,3])\nmax_temps = pd.read_csv('/work/assets/ca_max_temp.csv',skiprows=3,usecols=[0,1,2,3])\nprecip_amts = pd.read_csv('/work/assets/ca_precip.csv',skiprows=3,usecols=[0,1,2,3])",
   "outputs": [],
   "execution_count": null
  },
  {
   "cell_type": "code",
   "metadata": {
    "tags": [],
    "cell_id": "00003-681f364a-87a5-4ac7-9e8c-988b494c4294",
    "deepnote_to_be_reexecuted": false,
    "source_hash": "36ff7cc0",
    "execution_start": 1643558895621,
    "execution_millis": 5772,
    "deepnote_output_heights": [
     21.1875
    ],
    "deepnote_cell_type": "code"
   },
   "source": "precip_amts.head()",
   "outputs": [
    {
     "output_type": "execute_result",
     "execution_count": 4,
     "data": {
      "application/vnd.deepnote.dataframe.v3+json": {
       "column_count": 4,
       "row_count": 5,
       "columns": [
        {
         "name": "Location ID",
         "dtype": "object",
         "stats": {
          "unique_count": 1,
          "nan_count": 0,
          "categories": [
           {
            "name": "CA-001",
            "count": 5
           }
          ]
         }
        },
        {
         "name": "Location",
         "dtype": "object",
         "stats": {
          "unique_count": 1,
          "nan_count": 0,
          "categories": [
           {
            "name": "Alameda County",
            "count": 5
           }
          ]
         }
        },
        {
         "name": "Date",
         "dtype": "int64",
         "stats": {
          "unique_count": 5,
          "nan_count": 0,
          "min": "189501",
          "max": "189505",
          "histogram": [
           {
            "bin_start": 189501,
            "bin_end": 189501.4,
            "count": 1
           },
           {
            "bin_start": 189501.4,
            "bin_end": 189501.8,
            "count": 0
           },
           {
            "bin_start": 189501.8,
            "bin_end": 189502.2,
            "count": 1
           },
           {
            "bin_start": 189502.2,
            "bin_end": 189502.6,
            "count": 0
           },
           {
            "bin_start": 189502.6,
            "bin_end": 189503,
            "count": 0
           },
           {
            "bin_start": 189503,
            "bin_end": 189503.4,
            "count": 1
           },
           {
            "bin_start": 189503.4,
            "bin_end": 189503.8,
            "count": 0
           },
           {
            "bin_start": 189503.8,
            "bin_end": 189504.2,
            "count": 1
           },
           {
            "bin_start": 189504.2,
            "bin_end": 189504.6,
            "count": 0
           },
           {
            "bin_start": 189504.6,
            "bin_end": 189505,
            "count": 1
           }
          ]
         }
        },
        {
         "name": "Value",
         "dtype": "float64",
         "stats": {
          "unique_count": 5,
          "nan_count": 0,
          "min": "1.2",
          "max": "8.43",
          "histogram": [
           {
            "bin_start": 1.2,
            "bin_end": 1.923,
            "count": 2
           },
           {
            "bin_start": 1.923,
            "bin_end": 2.646,
            "count": 2
           },
           {
            "bin_start": 2.646,
            "bin_end": 3.3689999999999998,
            "count": 0
           },
           {
            "bin_start": 3.3689999999999998,
            "bin_end": 4.092,
            "count": 0
           },
           {
            "bin_start": 4.092,
            "bin_end": 4.8149999999999995,
            "count": 0
           },
           {
            "bin_start": 4.8149999999999995,
            "bin_end": 5.538,
            "count": 0
           },
           {
            "bin_start": 5.538,
            "bin_end": 6.261,
            "count": 0
           },
           {
            "bin_start": 6.261,
            "bin_end": 6.984,
            "count": 0
           },
           {
            "bin_start": 6.984,
            "bin_end": 7.707,
            "count": 0
           },
           {
            "bin_start": 7.707,
            "bin_end": 8.43,
            "count": 1
           }
          ]
         }
        },
        {
         "name": "_deepnote_index_column",
         "dtype": "int64"
        }
       ],
       "rows": [
        {
         "Location ID": "CA-001",
         "Location": "Alameda County",
         "Date": 189501,
         "Value": 8.43,
         "_deepnote_index_column": 0
        },
        {
         "Location ID": "CA-001",
         "Location": "Alameda County",
         "Date": 189502,
         "Value": 2.09,
         "_deepnote_index_column": 1
        },
        {
         "Location ID": "CA-001",
         "Location": "Alameda County",
         "Date": 189503,
         "Value": 1.97,
         "_deepnote_index_column": 2
        },
        {
         "Location ID": "CA-001",
         "Location": "Alameda County",
         "Date": 189504,
         "Value": 1.75,
         "_deepnote_index_column": 3
        },
        {
         "Location ID": "CA-001",
         "Location": "Alameda County",
         "Date": 189505,
         "Value": 1.2,
         "_deepnote_index_column": 4
        }
       ]
      },
      "text/plain": "  Location ID        Location    Date  Value\n0      CA-001  Alameda County  189501   8.43\n1      CA-001  Alameda County  189502   2.09\n2      CA-001  Alameda County  189503   1.97\n3      CA-001  Alameda County  189504   1.75\n4      CA-001  Alameda County  189505   1.20",
      "text/html": "<div>\n<style scoped>\n    .dataframe tbody tr th:only-of-type {\n        vertical-align: middle;\n    }\n\n    .dataframe tbody tr th {\n        vertical-align: top;\n    }\n\n    .dataframe thead th {\n        text-align: right;\n    }\n</style>\n<table border=\"1\" class=\"dataframe\">\n  <thead>\n    <tr style=\"text-align: right;\">\n      <th></th>\n      <th>Location ID</th>\n      <th>Location</th>\n      <th>Date</th>\n      <th>Value</th>\n    </tr>\n  </thead>\n  <tbody>\n    <tr>\n      <th>0</th>\n      <td>CA-001</td>\n      <td>Alameda County</td>\n      <td>189501</td>\n      <td>8.43</td>\n    </tr>\n    <tr>\n      <th>1</th>\n      <td>CA-001</td>\n      <td>Alameda County</td>\n      <td>189502</td>\n      <td>2.09</td>\n    </tr>\n    <tr>\n      <th>2</th>\n      <td>CA-001</td>\n      <td>Alameda County</td>\n      <td>189503</td>\n      <td>1.97</td>\n    </tr>\n    <tr>\n      <th>3</th>\n      <td>CA-001</td>\n      <td>Alameda County</td>\n      <td>189504</td>\n      <td>1.75</td>\n    </tr>\n    <tr>\n      <th>4</th>\n      <td>CA-001</td>\n      <td>Alameda County</td>\n      <td>189505</td>\n      <td>1.20</td>\n    </tr>\n  </tbody>\n</table>\n</div>"
     },
     "metadata": {}
    }
   ],
   "execution_count": null
  },
  {
   "cell_type": "code",
   "metadata": {
    "tags": [],
    "cell_id": "00004-937f4e67-41a1-47c2-8b8e-9cce339aef14",
    "deepnote_to_be_reexecuted": false,
    "source_hash": "4d217437",
    "execution_start": 1643558895650,
    "execution_millis": 5744,
    "deepnote_output_heights": [
     21.1875
    ],
    "deepnote_cell_type": "code"
   },
   "source": "#Check for missing data\nprint(len(avg_temps[avg_temps['Value']==-99]))\nprint(len(min_temps[min_temps['Value']==-99]))\nprint(len(max_temps[max_temps['Value']==-99]))\nprint(len(precip_amts[precip_amts['Value']==-99]))",
   "outputs": [
    {
     "name": "stdout",
     "text": "0\n0\n0\n0\n",
     "output_type": "stream"
    }
   ],
   "execution_count": null
  },
  {
   "cell_type": "code",
   "metadata": {
    "tags": [],
    "cell_id": "00004-f38c83f9-2be4-4ab4-b197-26f756594137",
    "deepnote_to_be_reexecuted": false,
    "source_hash": "3c5b3537",
    "execution_start": 1643558895674,
    "execution_millis": 2113,
    "deepnote_output_heights": [
     21.1875
    ],
    "deepnote_cell_type": "code"
   },
   "source": "#Update column names\navg_temps = avg_temps.rename(columns={'Value':'avg_temp'})\nmin_temps = min_temps.rename(columns={'Value':'min_temp'})\nmax_temps = max_temps.rename(columns={'Value':'max_temp'})\nprecip_amts = precip_amts.rename(columns={'Value':'total_precip_amt'})\n\n#Remove the years we don't care about\navg_temps['year']=avg_temps['Date'].astype(str).str[0:4]\nmin_temps['year']=min_temps['Date'].astype(str).str[0:4]\nmax_temps['year']=max_temps['Date'].astype(str).str[0:4]\nprecip_amts['year']=precip_amts['Date'].astype(str).str[0:4]\n\navg_temps = avg_temps[avg_temps['year'].between('2014','2019')]\nmin_temps = min_temps[min_temps['year'].between('2014','2019')]\nmax_temps = max_temps[max_temps['year'].between('2014','2019')]\nprecip_amts = precip_amts[precip_amts['year'].between('2014','2019')]\n\n#Remove the date field\navg_temps = avg_temps.drop(columns=['Date'])\nmin_temps = min_temps.drop(columns=['Date'])\nmax_temps = max_temps.drop(columns=['Date'])\nprecip_amts = precip_amts.drop(columns=['Date'])\n\n#Group by year\navg_grouped = avg_temps.groupby(by=['Location ID','Location','year'],as_index=False).mean()\nmin_grouped = min_temps.groupby(by=['Location ID','Location','year'],as_index=False).min()\nmax_grouped = max_temps.groupby(by=['Location ID','Location','year'],as_index=False).max()\nprecip_grouped = precip_amts.groupby(by=['Location ID','Location','year'],as_index=False).sum()\n\n#Bring all values into one dataframe\nall_vals = avg_grouped.merge(min_grouped,on=['Location ID','year','Location']) \\\n        .merge(max_grouped,on=['Location ID','year','Location']) \\\n        .merge(precip_grouped,on=['Location ID','year','Location'])",
   "outputs": [],
   "execution_count": null
  },
  {
   "cell_type": "code",
   "metadata": {
    "tags": [],
    "cell_id": "00006-36d09278-12a1-4d25-955c-26e781582634",
    "deepnote_to_be_reexecuted": false,
    "source_hash": "d8fbb65b",
    "execution_start": 1643558897788,
    "execution_millis": 3616,
    "deepnote_cell_type": "code"
   },
   "source": "all_vals.head()",
   "outputs": [
    {
     "output_type": "execute_result",
     "execution_count": 7,
     "data": {
      "application/vnd.deepnote.dataframe.v3+json": {
       "column_count": 7,
       "row_count": 5,
       "columns": [
        {
         "name": "Location ID",
         "dtype": "object",
         "stats": {
          "unique_count": 1,
          "nan_count": 0,
          "categories": [
           {
            "name": "CA-001",
            "count": 5
           }
          ]
         }
        },
        {
         "name": "Location",
         "dtype": "object",
         "stats": {
          "unique_count": 1,
          "nan_count": 0,
          "categories": [
           {
            "name": "Alameda County",
            "count": 5
           }
          ]
         }
        },
        {
         "name": "year",
         "dtype": "object",
         "stats": {
          "unique_count": 5,
          "nan_count": 0,
          "categories": [
           {
            "name": "2014",
            "count": 1
           },
           {
            "name": "2015",
            "count": 1
           },
           {
            "name": "3 others",
            "count": 3
           }
          ]
         }
        },
        {
         "name": "avg_temp",
         "dtype": "float64",
         "stats": {
          "unique_count": 5,
          "nan_count": 0,
          "min": "59.808333333333344",
          "max": "61.95000000000001",
          "histogram": [
           {
            "bin_start": 59.808333333333344,
            "bin_end": 60.02250000000001,
            "count": 1
           },
           {
            "bin_start": 60.02250000000001,
            "bin_end": 60.23666666666668,
            "count": 0
           },
           {
            "bin_start": 60.23666666666668,
            "bin_end": 60.45083333333334,
            "count": 1
           },
           {
            "bin_start": 60.45083333333334,
            "bin_end": 60.66500000000001,
            "count": 1
           },
           {
            "bin_start": 60.66500000000001,
            "bin_end": 60.87916666666668,
            "count": 0
           },
           {
            "bin_start": 60.87916666666668,
            "bin_end": 61.09333333333334,
            "count": 1
           },
           {
            "bin_start": 61.09333333333334,
            "bin_end": 61.30750000000001,
            "count": 0
           },
           {
            "bin_start": 61.30750000000001,
            "bin_end": 61.521666666666675,
            "count": 0
           },
           {
            "bin_start": 61.521666666666675,
            "bin_end": 61.735833333333346,
            "count": 0
           },
           {
            "bin_start": 61.735833333333346,
            "bin_end": 61.95000000000001,
            "count": 1
           }
          ]
         }
        },
        {
         "name": "min_temp",
         "dtype": "float64",
         "stats": {
          "unique_count": 5,
          "nan_count": 0,
          "min": "39.1",
          "max": "42.0",
          "histogram": [
           {
            "bin_start": 39.1,
            "bin_end": 39.39,
            "count": 2
           },
           {
            "bin_start": 39.39,
            "bin_end": 39.68,
            "count": 1
           },
           {
            "bin_start": 39.68,
            "bin_end": 39.97,
            "count": 0
           },
           {
            "bin_start": 39.97,
            "bin_end": 40.26,
            "count": 0
           },
           {
            "bin_start": 40.26,
            "bin_end": 40.55,
            "count": 1
           },
           {
            "bin_start": 40.55,
            "bin_end": 40.84,
            "count": 0
           },
           {
            "bin_start": 40.84,
            "bin_end": 41.13,
            "count": 0
           },
           {
            "bin_start": 41.13,
            "bin_end": 41.42,
            "count": 0
           },
           {
            "bin_start": 41.42,
            "bin_end": 41.71,
            "count": 0
           },
           {
            "bin_start": 41.71,
            "bin_end": 42,
            "count": 1
           }
          ]
         }
        },
        {
         "name": "max_temp",
         "dtype": "float64",
         "stats": {
          "unique_count": 5,
          "nan_count": 0,
          "min": "83.8",
          "max": "86.8",
          "histogram": [
           {
            "bin_start": 83.8,
            "bin_end": 84.1,
            "count": 2
           },
           {
            "bin_start": 84.1,
            "bin_end": 84.39999999999999,
            "count": 0
           },
           {
            "bin_start": 84.39999999999999,
            "bin_end": 84.7,
            "count": 0
           },
           {
            "bin_start": 84.7,
            "bin_end": 85,
            "count": 0
           },
           {
            "bin_start": 85,
            "bin_end": 85.3,
            "count": 1
           },
           {
            "bin_start": 85.3,
            "bin_end": 85.6,
            "count": 0
           },
           {
            "bin_start": 85.6,
            "bin_end": 85.89999999999999,
            "count": 0
           },
           {
            "bin_start": 85.89999999999999,
            "bin_end": 86.2,
            "count": 1
           },
           {
            "bin_start": 86.2,
            "bin_end": 86.5,
            "count": 0
           },
           {
            "bin_start": 86.5,
            "bin_end": 86.8,
            "count": 1
           }
          ]
         }
        },
        {
         "name": "total_precip_amt",
         "dtype": "float64",
         "stats": {
          "unique_count": 5,
          "nan_count": 0,
          "min": "10.389999999999999",
          "max": "24.97",
          "histogram": [
           {
            "bin_start": 10.389999999999999,
            "bin_end": 11.847999999999999,
            "count": 1
           },
           {
            "bin_start": 11.847999999999999,
            "bin_end": 13.306,
            "count": 0
           },
           {
            "bin_start": 13.306,
            "bin_end": 14.764,
            "count": 0
           },
           {
            "bin_start": 14.764,
            "bin_end": 16.221999999999998,
            "count": 0
           },
           {
            "bin_start": 16.221999999999998,
            "bin_end": 17.68,
            "count": 1
           },
           {
            "bin_start": 17.68,
            "bin_end": 19.137999999999998,
            "count": 0
           },
           {
            "bin_start": 19.137999999999998,
            "bin_end": 20.595999999999997,
            "count": 1
           },
           {
            "bin_start": 20.595999999999997,
            "bin_end": 22.054,
            "count": 0
           },
           {
            "bin_start": 22.054,
            "bin_end": 23.512,
            "count": 1
           },
           {
            "bin_start": 23.512,
            "bin_end": 24.97,
            "count": 1
           }
          ]
         }
        },
        {
         "name": "_deepnote_index_column",
         "dtype": "int64"
        }
       ],
       "rows": [
        {
         "Location ID": "CA-001",
         "Location": "Alameda County",
         "year": "2014",
         "avg_temp": 61.95000000000001,
         "min_temp": 42,
         "max_temp": 85,
         "total_precip_amt": 19.88,
         "_deepnote_index_column": 0
        },
        {
         "Location ID": "CA-001",
         "Location": "Alameda County",
         "year": "2015",
         "avg_temp": 61.050000000000004,
         "min_temp": 39.2,
         "max_temp": 84,
         "total_precip_amt": 10.389999999999999,
         "_deepnote_index_column": 1
        },
        {
         "Location ID": "CA-001",
         "Location": "Alameda County",
         "year": "2016",
         "avg_temp": 60.36666666666667,
         "min_temp": 39.1,
         "max_temp": 83.8,
         "total_precip_amt": 22.55,
         "_deepnote_index_column": 2
        },
        {
         "Location ID": "CA-001",
         "Location": "Alameda County",
         "year": "2017",
         "avg_temp": 60.5,
         "min_temp": 39.4,
         "max_temp": 86.8,
         "total_precip_amt": 24.97,
         "_deepnote_index_column": 3
        },
        {
         "Location ID": "CA-001",
         "Location": "Alameda County",
         "year": "2018",
         "avg_temp": 59.808333333333344,
         "min_temp": 40.5,
         "max_temp": 85.9,
         "total_precip_amt": 16.57,
         "_deepnote_index_column": 4
        }
       ]
      },
      "text/plain": "  Location ID        Location  year   avg_temp  min_temp  max_temp  \\\n0      CA-001  Alameda County  2014  61.950000      42.0      85.0   \n1      CA-001  Alameda County  2015  61.050000      39.2      84.0   \n2      CA-001  Alameda County  2016  60.366667      39.1      83.8   \n3      CA-001  Alameda County  2017  60.500000      39.4      86.8   \n4      CA-001  Alameda County  2018  59.808333      40.5      85.9   \n\n   total_precip_amt  \n0             19.88  \n1             10.39  \n2             22.55  \n3             24.97  \n4             16.57  ",
      "text/html": "<div>\n<style scoped>\n    .dataframe tbody tr th:only-of-type {\n        vertical-align: middle;\n    }\n\n    .dataframe tbody tr th {\n        vertical-align: top;\n    }\n\n    .dataframe thead th {\n        text-align: right;\n    }\n</style>\n<table border=\"1\" class=\"dataframe\">\n  <thead>\n    <tr style=\"text-align: right;\">\n      <th></th>\n      <th>Location ID</th>\n      <th>Location</th>\n      <th>year</th>\n      <th>avg_temp</th>\n      <th>min_temp</th>\n      <th>max_temp</th>\n      <th>total_precip_amt</th>\n    </tr>\n  </thead>\n  <tbody>\n    <tr>\n      <th>0</th>\n      <td>CA-001</td>\n      <td>Alameda County</td>\n      <td>2014</td>\n      <td>61.950000</td>\n      <td>42.0</td>\n      <td>85.0</td>\n      <td>19.88</td>\n    </tr>\n    <tr>\n      <th>1</th>\n      <td>CA-001</td>\n      <td>Alameda County</td>\n      <td>2015</td>\n      <td>61.050000</td>\n      <td>39.2</td>\n      <td>84.0</td>\n      <td>10.39</td>\n    </tr>\n    <tr>\n      <th>2</th>\n      <td>CA-001</td>\n      <td>Alameda County</td>\n      <td>2016</td>\n      <td>60.366667</td>\n      <td>39.1</td>\n      <td>83.8</td>\n      <td>22.55</td>\n    </tr>\n    <tr>\n      <th>3</th>\n      <td>CA-001</td>\n      <td>Alameda County</td>\n      <td>2017</td>\n      <td>60.500000</td>\n      <td>39.4</td>\n      <td>86.8</td>\n      <td>24.97</td>\n    </tr>\n    <tr>\n      <th>4</th>\n      <td>CA-001</td>\n      <td>Alameda County</td>\n      <td>2018</td>\n      <td>59.808333</td>\n      <td>40.5</td>\n      <td>85.9</td>\n      <td>16.57</td>\n    </tr>\n  </tbody>\n</table>\n</div>"
     },
     "metadata": {}
    }
   ],
   "execution_count": null
  },
  {
   "cell_type": "code",
   "metadata": {
    "tags": [],
    "cell_id": "00007-0f4ff75b-429d-41b7-85f1-9cb1f435243a",
    "deepnote_to_be_reexecuted": false,
    "source_hash": "ee27a942",
    "execution_start": 1643558897789,
    "execution_millis": 0,
    "deepnote_output_heights": [
     21
    ],
    "deepnote_cell_type": "code"
   },
   "source": "#Should be 58 counties * number of years returned, so right now, 6, = 348\nlen(all_vals)",
   "outputs": [
    {
     "output_type": "execute_result",
     "execution_count": 8,
     "data": {
      "text/plain": "348"
     },
     "metadata": {}
    }
   ],
   "execution_count": null
  },
  {
   "cell_type": "code",
   "metadata": {
    "tags": [],
    "cell_id": "00008-72b64413-f8cb-4776-895a-4615025f6bd1",
    "deepnote_to_be_reexecuted": false,
    "source_hash": "76fc0669",
    "execution_start": 1643558897790,
    "execution_millis": 3614,
    "deepnote_cell_type": "code"
   },
   "source": "#Write data out to be used with other county variables\nall_vals.to_csv('/work/cleaned-csvs/ca_weather.csv',index=False)",
   "outputs": [],
   "execution_count": null
  },
  {
   "cell_type": "markdown",
   "source": "<a style='text-decoration:none;line-height:16px;display:flex;color:#5B5B62;padding:10px;justify-content:end;' href='https://deepnote.com?utm_source=created-in-deepnote-cell&projectId=f6c76417-5fde-42f3-8920-755838dec3fa' target=\"_blank\">\n<img alt='Created in deepnote.com' style='display:inline;max-height:16px;margin:0px;margin-right:7.5px;' src='data:image/svg+xml;base64,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' > </img>\nCreated in <span style='font-weight:600;margin-left:4px;'>Deepnote</span></a>",
   "metadata": {
    "tags": [],
    "created_in_deepnote_cell": true,
    "deepnote_cell_type": "markdown"
   }
  }
 ],
 "nbformat": 4,
 "nbformat_minor": 2,
 "metadata": {
  "orig_nbformat": 2,
  "deepnote": {
   "is_reactive": false
  },
  "deepnote_notebook_id": "deebae24-1699-4ffd-b661-a309c4aa8b48",
  "deepnote_execution_queue": []
 }
}