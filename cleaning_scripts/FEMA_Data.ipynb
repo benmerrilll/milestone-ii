{
 "cells": [
  {
   "cell_type": "markdown",
   "source": "## National Disaster Data",
   "metadata": {
    "tags": [],
    "cell_id": "00000-85a00917-3001-4952-8ad8-5e13754d6cec",
    "deepnote_cell_type": "markdown"
   }
  },
  {
   "cell_type": "markdown",
   "source": "### Data Source: https://www.fema.gov/openfema-data-page/disaster-declarations-summaries-v2",
   "metadata": {
    "tags": [],
    "is_collapsed": false,
    "cell_id": "00001-5cc1b5a8-bfb5-4b70-a16d-2cf72d06f1f7",
    "deepnote_cell_type": "text-cell-h3"
   }
  },
  {
   "cell_type": "code",
   "metadata": {
    "tags": [],
    "cell_id": "00000-359d3974-16ed-41e1-a597-97af96c8af11",
    "deepnote_to_be_reexecuted": false,
    "source_hash": "3b7c8afa",
    "execution_start": 1642780603522,
    "execution_millis": 2325,
    "deepnote_cell_type": "code"
   },
   "source": "import pandas as pd\nimport numpy as np\nimport matplotlib.pyplot as plt\nimport seaborn as sns\nimport altair as alt\n",
   "execution_count": null,
   "outputs": []
  },
  {
   "cell_type": "code",
   "metadata": {
    "tags": [],
    "cell_id": "00001-6ed1e696-92c3-49b4-86d7-96fade0fa485",
    "deepnote_to_be_reexecuted": false,
    "source_hash": "3af5744a",
    "execution_start": 1642780608611,
    "execution_millis": 320,
    "deepnote_cell_type": "code"
   },
   "source": "df = pd.read_csv('/work/assets/DisasterDeclarationsSummaries.csv')\n\ncounty_mapper = pd.read_csv('/work/cleaned-csvs/us_counties.csv')",
   "execution_count": null,
   "outputs": []
  },
  {
   "cell_type": "code",
   "metadata": {
    "tags": [],
    "cell_id": "00002-51c1ffab-d914-4ac5-8b56-92e373513272",
    "deepnote_to_be_reexecuted": false,
    "source_hash": "561b8c9f",
    "execution_start": 1642780610985,
    "execution_millis": 838,
    "deepnote_output_heights": [
     309
    ],
    "deepnote_cell_type": "code"
   },
   "source": "df = df[df['fyDeclared'].between(2014,2019)]\ndf['incidentType'].value_counts()",
   "execution_count": null,
   "outputs": [
    {
     "output_type": "execute_result",
     "execution_count": 4,
     "data": {
      "text/plain": "Hurricane           2308\nSevere Storm(s)     2156\nFlood               1735\nFire                 372\nSevere Ice Storm     353\nSnow                 222\nTornado               83\nCoastal Storm         45\nMud/Landslide         27\nTyphoon               20\nEarthquake            10\nChemical               9\nDam/Levee Break        3\nVolcano                2\nToxic Substances       1\nName: incidentType, dtype: int64"
     },
     "metadata": {}
    }
   ]
  },
  {
   "cell_type": "code",
   "metadata": {
    "cell_id": "00e98765-5910-490d-a823-a2b621e9e109",
    "tags": [],
    "deepnote_to_be_reexecuted": false,
    "source_hash": "9b8d4bb7",
    "execution_start": 1642780634901,
    "execution_millis": 144,
    "deepnote_cell_type": "code"
   },
   "source": "df[df['state']=='CA']",
   "execution_count": null,
   "outputs": [
    {
     "output_type": "execute_result",
     "execution_count": 6,
     "data": {
      "application/vnd.deepnote.dataframe.v3+json": {
       "column_count": 23,
       "row_count": 260,
       "columns": [
        {
         "name": "femaDeclarationString",
         "dtype": "object",
         "stats": {
          "unique_count": 92,
          "nan_count": 0,
          "categories": [
           {
            "name": "DR-4308-CA",
            "count": 44
           },
           {
            "name": "DR-4301-CA",
            "count": 34
           },
           {
            "name": "90 others",
            "count": 182
           }
          ]
         }
        },
        {
         "name": "disasterNumber",
         "dtype": "int64",
         "stats": {
          "unique_count": 92,
          "nan_count": 0,
          "min": "3381",
          "max": "5280",
          "histogram": [
           {
            "bin_start": 3381,
            "bin_end": 3570.9,
            "count": 14
           },
           {
            "bin_start": 3570.9,
            "bin_end": 3760.8,
            "count": 0
           },
           {
            "bin_start": 3760.8,
            "bin_end": 3950.7,
            "count": 0
           },
           {
            "bin_start": 3950.7,
            "bin_end": 4140.6,
            "count": 0
           },
           {
            "bin_start": 4140.6,
            "bin_end": 4330.5,
            "count": 108
           },
           {
            "bin_start": 4330.5,
            "bin_end": 4520.4,
            "count": 50
           },
           {
            "bin_start": 4520.4,
            "bin_end": 4710.3,
            "count": 0
           },
           {
            "bin_start": 4710.3,
            "bin_end": 4900.2,
            "count": 0
           },
           {
            "bin_start": 4900.2,
            "bin_end": 5090.1,
            "count": 18
           },
           {
            "bin_start": 5090.1,
            "bin_end": 5280,
            "count": 70
           }
          ]
         }
        },
        {
         "name": "state",
         "dtype": "object",
         "stats": {
          "unique_count": 1,
          "nan_count": 0,
          "categories": [
           {
            "name": "CA",
            "count": 260
           }
          ]
         }
        },
        {
         "name": "declarationType",
         "dtype": "object",
         "stats": {
          "unique_count": 3,
          "nan_count": 0,
          "categories": [
           {
            "name": "DR",
            "count": 158
           },
           {
            "name": "FM",
            "count": 88
           },
           {
            "name": "EM",
            "count": 14
           }
          ]
         }
        },
        {
         "name": "declarationDate",
         "dtype": "object",
         "stats": {
          "unique_count": 89,
          "nan_count": 0,
          "categories": [
           {
            "name": "2017-04-01T20:55:00.000Z",
            "count": 44
           },
           {
            "name": "2017-02-14T18:15:00.000Z",
            "count": 34
           },
           {
            "name": "87 others",
            "count": 182
           }
          ]
         }
        },
        {
         "name": "fyDeclared",
         "dtype": "int64",
         "stats": {
          "unique_count": 6,
          "nan_count": 0,
          "min": "2014",
          "max": "2019",
          "histogram": [
           {
            "bin_start": 2014,
            "bin_end": 2014.5,
            "count": 19
           },
           {
            "bin_start": 2014.5,
            "bin_end": 2015,
            "count": 0
           },
           {
            "bin_start": 2015,
            "bin_end": 2015.5,
            "count": 14
           },
           {
            "bin_start": 2015.5,
            "bin_end": 2016,
            "count": 0
           },
           {
            "bin_start": 2016,
            "bin_end": 2016.5,
            "count": 14
           },
           {
            "bin_start": 2016.5,
            "bin_end": 2017,
            "count": 0
           },
           {
            "bin_start": 2017,
            "bin_end": 2017.5,
            "count": 115
           },
           {
            "bin_start": 2017.5,
            "bin_end": 2018,
            "count": 0
           },
           {
            "bin_start": 2018,
            "bin_end": 2018.5,
            "count": 54
           },
           {
            "bin_start": 2018.5,
            "bin_end": 2019,
            "count": 44
           }
          ]
         }
        },
        {
         "name": "incidentType",
         "dtype": "object",
         "stats": {
          "unique_count": 5,
          "nan_count": 0,
          "categories": [
           {
            "name": "Fire",
            "count": 118
           },
           {
            "name": "Severe Storm(s)",
            "count": 68
           },
           {
            "name": "3 others",
            "count": 74
           }
          ]
         }
        },
        {
         "name": "declarationTitle",
         "dtype": "object",
         "stats": {
          "unique_count": 84,
          "nan_count": 0,
          "categories": [
           {
            "name": "SEVERE WINTER STORMS, FLOODING, AND MUDSLIDES",
            "count": 100
           },
           {
            "name": "SEVERE WINTER STORMS, FLOODING, LANDSLIDES, AND MUDSLIDES",
            "count": 29
           },
           {
            "name": "82 others",
            "count": 131
           }
          ]
         }
        },
        {
         "name": "ihProgramDeclared",
         "dtype": "int64",
         "stats": {
          "unique_count": 2,
          "nan_count": 0,
          "min": "0",
          "max": "1",
          "histogram": [
           {
            "bin_start": 0,
            "bin_end": 0.1,
            "count": 239
           },
           {
            "bin_start": 0.1,
            "bin_end": 0.2,
            "count": 0
           },
           {
            "bin_start": 0.2,
            "bin_end": 0.30000000000000004,
            "count": 0
           },
           {
            "bin_start": 0.30000000000000004,
            "bin_end": 0.4,
            "count": 0
           },
           {
            "bin_start": 0.4,
            "bin_end": 0.5,
            "count": 0
           },
           {
            "bin_start": 0.5,
            "bin_end": 0.6000000000000001,
            "count": 0
           },
           {
            "bin_start": 0.6000000000000001,
            "bin_end": 0.7000000000000001,
            "count": 0
           },
           {
            "bin_start": 0.7000000000000001,
            "bin_end": 0.8,
            "count": 0
           },
           {
            "bin_start": 0.8,
            "bin_end": 0.9,
            "count": 0
           },
           {
            "bin_start": 0.9,
            "bin_end": 1,
            "count": 21
           }
          ]
         }
        },
        {
         "name": "iaProgramDeclared",
         "dtype": "int64",
         "stats": {
          "unique_count": 1,
          "nan_count": 0,
          "min": "0",
          "max": "0",
          "histogram": [
           {
            "bin_start": -0.5,
            "bin_end": -0.4,
            "count": 0
           },
           {
            "bin_start": -0.4,
            "bin_end": -0.3,
            "count": 0
           },
           {
            "bin_start": -0.3,
            "bin_end": -0.19999999999999996,
            "count": 0
           },
           {
            "bin_start": -0.19999999999999996,
            "bin_end": -0.09999999999999998,
            "count": 0
           },
           {
            "bin_start": -0.09999999999999998,
            "bin_end": 0,
            "count": 0
           },
           {
            "bin_start": 0,
            "bin_end": 0.10000000000000009,
            "count": 260
           },
           {
            "bin_start": 0.10000000000000009,
            "bin_end": 0.20000000000000007,
            "count": 0
           },
           {
            "bin_start": 0.20000000000000007,
            "bin_end": 0.30000000000000004,
            "count": 0
           },
           {
            "bin_start": 0.30000000000000004,
            "bin_end": 0.4,
            "count": 0
           },
           {
            "bin_start": 0.4,
            "bin_end": 0.5,
            "count": 0
           }
          ]
         }
        },
        {
         "name": "paProgramDeclared",
         "dtype": "int64",
         "stats": {
          "unique_count": 2,
          "nan_count": 0,
          "min": "0",
          "max": "1",
          "histogram": [
           {
            "bin_start": 0,
            "bin_end": 0.1,
            "count": 2
           },
           {
            "bin_start": 0.1,
            "bin_end": 0.2,
            "count": 0
           },
           {
            "bin_start": 0.2,
            "bin_end": 0.30000000000000004,
            "count": 0
           },
           {
            "bin_start": 0.30000000000000004,
            "bin_end": 0.4,
            "count": 0
           },
           {
            "bin_start": 0.4,
            "bin_end": 0.5,
            "count": 0
           },
           {
            "bin_start": 0.5,
            "bin_end": 0.6000000000000001,
            "count": 0
           },
           {
            "bin_start": 0.6000000000000001,
            "bin_end": 0.7000000000000001,
            "count": 0
           },
           {
            "bin_start": 0.7000000000000001,
            "bin_end": 0.8,
            "count": 0
           },
           {
            "bin_start": 0.8,
            "bin_end": 0.9,
            "count": 0
           },
           {
            "bin_start": 0.9,
            "bin_end": 1,
            "count": 258
           }
          ]
         }
        },
        {
         "name": "hmProgramDeclared",
         "dtype": "int64",
         "stats": {
          "unique_count": 2,
          "nan_count": 0,
          "min": "0",
          "max": "1",
          "histogram": [
           {
            "bin_start": 0,
            "bin_end": 0.1,
            "count": 44
           },
           {
            "bin_start": 0.1,
            "bin_end": 0.2,
            "count": 0
           },
           {
            "bin_start": 0.2,
            "bin_end": 0.30000000000000004,
            "count": 0
           },
           {
            "bin_start": 0.30000000000000004,
            "bin_end": 0.4,
            "count": 0
           },
           {
            "bin_start": 0.4,
            "bin_end": 0.5,
            "count": 0
           },
           {
            "bin_start": 0.5,
            "bin_end": 0.6000000000000001,
            "count": 0
           },
           {
            "bin_start": 0.6000000000000001,
            "bin_end": 0.7000000000000001,
            "count": 0
           },
           {
            "bin_start": 0.7000000000000001,
            "bin_end": 0.8,
            "count": 0
           },
           {
            "bin_start": 0.8,
            "bin_end": 0.9,
            "count": 0
           },
           {
            "bin_start": 0.9,
            "bin_end": 1,
            "count": 216
           }
          ]
         }
        },
        {
         "name": "incidentBeginDate",
         "dtype": "object",
         "stats": {
          "unique_count": 82,
          "nan_count": 0,
          "categories": [
           {
            "name": "2017-02-01T06:55:25.000Z",
            "count": 44
           },
           {
            "name": "2017-01-03T00:00:00.000Z",
            "count": 35
           },
           {
            "name": "80 others",
            "count": 181
           }
          ]
         }
        },
        {
         "name": "incidentEndDate",
         "dtype": "object",
         "stats": {
          "unique_count": 68,
          "nan_count": 20,
          "categories": [
           {
            "name": "2017-02-23T23:59:00.000Z",
            "count": 47
           },
           {
            "name": "67 others",
            "count": 193
           },
           {
            "name": "Missing",
            "count": 20
           }
          ]
         }
        },
        {
         "name": "disasterCloseoutDate",
         "dtype": "object",
         "stats": {
          "unique_count": 14,
          "nan_count": 223,
          "categories": [
           {
            "name": "2018-01-10T23:59:00.000Z",
            "count": 13
           },
           {
            "name": "13 others",
            "count": 24
           },
           {
            "name": "Missing",
            "count": 223
           }
          ]
         }
        },
        {
         "name": "fipsStateCode",
         "dtype": "int64",
         "stats": {
          "unique_count": 1,
          "nan_count": 0,
          "min": "6",
          "max": "6",
          "histogram": [
           {
            "bin_start": 5.5,
            "bin_end": 5.6,
            "count": 0
           },
           {
            "bin_start": 5.6,
            "bin_end": 5.7,
            "count": 0
           },
           {
            "bin_start": 5.7,
            "bin_end": 5.8,
            "count": 0
           },
           {
            "bin_start": 5.8,
            "bin_end": 5.9,
            "count": 0
           },
           {
            "bin_start": 5.9,
            "bin_end": 6,
            "count": 0
           },
           {
            "bin_start": 6,
            "bin_end": 6.1,
            "count": 260
           },
           {
            "bin_start": 6.1,
            "bin_end": 6.2,
            "count": 0
           },
           {
            "bin_start": 6.2,
            "bin_end": 6.3,
            "count": 0
           },
           {
            "bin_start": 6.3,
            "bin_end": 6.4,
            "count": 0
           },
           {
            "bin_start": 6.4,
            "bin_end": 6.5,
            "count": 0
           }
          ]
         }
        },
        {
         "name": "fipsCountyCode",
         "dtype": "int64",
         "stats": {
          "unique_count": 57,
          "nan_count": 0,
          "min": "0",
          "max": "115",
          "histogram": [
           {
            "bin_start": 0,
            "bin_end": 11.5,
            "count": 36
           },
           {
            "bin_start": 11.5,
            "bin_end": 23,
            "count": 13
           },
           {
            "bin_start": 23,
            "bin_end": 34.5,
            "count": 23
           },
           {
            "bin_start": 34.5,
            "bin_end": 46,
            "count": 39
           },
           {
            "bin_start": 46,
            "bin_end": 57.5,
            "count": 30
           },
           {
            "bin_start": 57.5,
            "bin_end": 69,
            "count": 18
           },
           {
            "bin_start": 69,
            "bin_end": 80.5,
            "count": 19
           },
           {
            "bin_start": 80.5,
            "bin_end": 92,
            "count": 25
           },
           {
            "bin_start": 92,
            "bin_end": 103.5,
            "count": 25
           },
           {
            "bin_start": 103.5,
            "bin_end": 115,
            "count": 32
           }
          ]
         }
        },
        {
         "name": "placeCode",
         "dtype": "int64",
         "stats": {
          "unique_count": 63,
          "nan_count": 0,
          "min": "9528",
          "max": "99115",
          "histogram": [
           {
            "bin_start": 9528,
            "bin_end": 18486.7,
            "count": 1
           },
           {
            "bin_start": 18486.7,
            "bin_end": 27445.4,
            "count": 0
           },
           {
            "bin_start": 27445.4,
            "bin_end": 36404.100000000006,
            "count": 2
           },
           {
            "bin_start": 36404.100000000006,
            "bin_end": 45362.8,
            "count": 1
           },
           {
            "bin_start": 45362.8,
            "bin_end": 54321.5,
            "count": 0
           },
           {
            "bin_start": 54321.5,
            "bin_end": 63280.200000000004,
            "count": 1
           },
           {
            "bin_start": 63280.200000000004,
            "bin_end": 72238.90000000001,
            "count": 0
           },
           {
            "bin_start": 72238.90000000001,
            "bin_end": 81197.6,
            "count": 3
           },
           {
            "bin_start": 81197.6,
            "bin_end": 90156.3,
            "count": 0
           },
           {
            "bin_start": 90156.3,
            "bin_end": 99115,
            "count": 252
           }
          ]
         }
        },
        {
         "name": "designatedArea",
         "dtype": "object",
         "stats": {
          "unique_count": 63,
          "nan_count": 0,
          "categories": [
           {
            "name": "Los Angeles (County)",
            "count": 15
           },
           {
            "name": "Napa (County)",
            "count": 13
           },
           {
            "name": "61 others",
            "count": 232
           }
          ]
         }
        },
        {
         "name": "declarationRequestNumber",
         "dtype": "int64",
         "stats": {
          "unique_count": 92,
          "nan_count": 0,
          "min": "13092",
          "max": "19048",
          "histogram": [
           {
            "bin_start": 13092,
            "bin_end": 13687.6,
            "count": 1
           },
           {
            "bin_start": 13687.6,
            "bin_end": 14283.2,
            "count": 19
           },
           {
            "bin_start": 14283.2,
            "bin_end": 14878.8,
            "count": 0
           },
           {
            "bin_start": 14878.8,
            "bin_end": 15474.4,
            "count": 13
           },
           {
            "bin_start": 15474.4,
            "bin_end": 16070,
            "count": 8
           },
           {
            "bin_start": 16070,
            "bin_end": 16665.6,
            "count": 6
           },
           {
            "bin_start": 16665.6,
            "bin_end": 17261.2,
            "count": 150
           },
           {
            "bin_start": 17261.2,
            "bin_end": 17856.8,
            "count": 0
           },
           {
            "bin_start": 17856.8,
            "bin_end": 18452.4,
            "count": 29
           },
           {
            "bin_start": 18452.4,
            "bin_end": 19048,
            "count": 34
           }
          ]
         }
        },
        {
         "name": "hash",
         "dtype": "object",
         "stats": {
          "unique_count": 260,
          "nan_count": 0,
          "categories": [
           {
            "name": "39dd0eec3d8314ed7e053d9b27c0f343c45b77a0",
            "count": 1
           },
           {
            "name": "5db5ce5334f8cc8ae905535b15e54346db3e64bd",
            "count": 1
           },
           {
            "name": "258 others",
            "count": 258
           }
          ]
         }
        },
        {
         "name": "lastRefresh",
         "dtype": "object",
         "stats": {
          "unique_count": 219,
          "nan_count": 0,
          "categories": [
           {
            "name": "2021-07-13T23:02:04.826Z",
            "count": 3
           },
           {
            "name": "2021-07-13T23:02:04.122Z",
            "count": 2
           },
           {
            "name": "217 others",
            "count": 255
           }
          ]
         }
        },
        {
         "name": "id",
         "dtype": "object",
         "stats": {
          "unique_count": 260,
          "nan_count": 0,
          "categories": [
           {
            "name": "60c3b85ba0ee349d710a647b",
            "count": 1
           },
           {
            "name": "60c3b85ba0ee349d710a6483",
            "count": 1
           },
           {
            "name": "258 others",
            "count": 258
           }
          ]
         }
        },
        {
         "name": "_deepnote_index_column",
         "dtype": "int64"
        }
       ],
       "rows": [
        {
         "femaDeclarationString": "EM-3381-CA",
         "disasterNumber": 3381,
         "state": "CA",
         "declarationType": "EM",
         "declarationDate": "2017-02-14T19:20:00.000Z",
         "fyDeclared": 2017,
         "incidentType": "Dam/Levee Break",
         "declarationTitle": "POTENTIAL FAILURE OF THE EMERGENCY SPILLWAY AT OROVILLE LAKE",
         "ihProgramDeclared": 0,
         "iaProgramDeclared": 0,
         "paProgramDeclared": 1,
         "hmProgramDeclared": 0,
         "incidentBeginDate": "2017-02-07T18:14:00.000Z",
         "incidentEndDate": "2017-02-23T23:59:00.000Z",
         "disasterCloseoutDate": "nan",
         "fipsStateCode": 6,
         "fipsCountyCode": 7,
         "placeCode": 99007,
         "designatedArea": "Butte (County)",
         "declarationRequestNumber": 17013,
         "hash": "39dd0eec3d8314ed7e053d9b27c0f343c45b77a0",
         "lastRefresh": "2021-07-13T23:02:04.122Z",
         "id": "60c3b85ba0ee349d710a647b",
         "_deepnote_index_column": 42094
        },
        {
         "femaDeclarationString": "EM-3381-CA",
         "disasterNumber": 3381,
         "state": "CA",
         "declarationType": "EM",
         "declarationDate": "2017-02-14T19:20:00.000Z",
         "fyDeclared": 2017,
         "incidentType": "Dam/Levee Break",
         "declarationTitle": "POTENTIAL FAILURE OF THE EMERGENCY SPILLWAY AT OROVILLE LAKE",
         "ihProgramDeclared": 0,
         "iaProgramDeclared": 0,
         "paProgramDeclared": 1,
         "hmProgramDeclared": 0,
         "incidentBeginDate": "2017-02-07T18:14:00.000Z",
         "incidentEndDate": "2017-02-23T23:59:00.000Z",
         "disasterCloseoutDate": "nan",
         "fipsStateCode": 6,
         "fipsCountyCode": 101,
         "placeCode": 99101,
         "designatedArea": "Sutter (County)",
         "declarationRequestNumber": 17013,
         "hash": "5db5ce5334f8cc8ae905535b15e54346db3e64bd",
         "lastRefresh": "2021-07-13T23:02:04.122Z",
         "id": "60c3b85ba0ee349d710a6483",
         "_deepnote_index_column": 42095
        },
        {
         "femaDeclarationString": "EM-3381-CA",
         "disasterNumber": 3381,
         "state": "CA",
         "declarationType": "EM",
         "declarationDate": "2017-02-14T19:20:00.000Z",
         "fyDeclared": 2017,
         "incidentType": "Dam/Levee Break",
         "declarationTitle": "POTENTIAL FAILURE OF THE EMERGENCY SPILLWAY AT OROVILLE LAKE",
         "ihProgramDeclared": 0,
         "iaProgramDeclared": 0,
         "paProgramDeclared": 1,
         "hmProgramDeclared": 0,
         "incidentBeginDate": "2017-02-07T18:14:00.000Z",
         "incidentEndDate": "2017-02-23T23:59:00.000Z",
         "disasterCloseoutDate": "nan",
         "fipsStateCode": 6,
         "fipsCountyCode": 115,
         "placeCode": 99115,
         "designatedArea": "Yuba (County)",
         "declarationRequestNumber": 17013,
         "hash": "a64bc58946fb76c1548a8427a10e1f75831cdf3a",
         "lastRefresh": "2021-07-13T23:02:04.123Z",
         "id": "60c3b85ba0ee349d710a6492",
         "_deepnote_index_column": 42098
        },
        {
         "femaDeclarationString": "EM-3396-CA",
         "disasterNumber": 3396,
         "state": "CA",
         "declarationType": "EM",
         "declarationDate": "2017-12-08T10:00:00.000Z",
         "fyDeclared": 2018,
         "incidentType": "Fire",
         "declarationTitle": "WILDFIRES",
         "ihProgramDeclared": 0,
         "iaProgramDeclared": 0,
         "paProgramDeclared": 1,
         "hmProgramDeclared": 0,
         "incidentBeginDate": "2017-12-04T18:00:00.000Z",
         "incidentEndDate": "2017-12-29T23:59:00.000Z",
         "disasterCloseoutDate": "nan",
         "fipsStateCode": 6,
         "fipsCountyCode": 83,
         "placeCode": 99083,
         "designatedArea": "Santa Barbara (County)",
         "declarationRequestNumber": 17146,
         "hash": "651480df722310f0f2371cf5ec4639f8eaefcbb0",
         "lastRefresh": "2021-07-13T23:02:04.492Z",
         "id": "60c3b85ba0ee349d710a6f9b",
         "_deepnote_index_column": 42615
        },
        {
         "femaDeclarationString": "EM-3396-CA",
         "disasterNumber": 3396,
         "state": "CA",
         "declarationType": "EM",
         "declarationDate": "2017-12-08T10:00:00.000Z",
         "fyDeclared": 2018,
         "incidentType": "Fire",
         "declarationTitle": "WILDFIRES",
         "ihProgramDeclared": 0,
         "iaProgramDeclared": 0,
         "paProgramDeclared": 1,
         "hmProgramDeclared": 0,
         "incidentBeginDate": "2017-12-04T18:00:00.000Z",
         "incidentEndDate": "2017-12-29T23:59:00.000Z",
         "disasterCloseoutDate": "nan",
         "fipsStateCode": 6,
         "fipsCountyCode": 37,
         "placeCode": 99037,
         "designatedArea": "Los Angeles (County)",
         "declarationRequestNumber": 17146,
         "hash": "da5bf56e9f9817c0483f129ce126552f471d91d6",
         "lastRefresh": "2021-07-13T23:02:04.490Z",
         "id": "60c3b85ba0ee349d710a6f8a",
         "_deepnote_index_column": 42616
        },
        {
         "femaDeclarationString": "EM-3396-CA",
         "disasterNumber": 3396,
         "state": "CA",
         "declarationType": "EM",
         "declarationDate": "2017-12-08T10:00:00.000Z",
         "fyDeclared": 2018,
         "incidentType": "Fire",
         "declarationTitle": "WILDFIRES",
         "ihProgramDeclared": 0,
         "iaProgramDeclared": 0,
         "paProgramDeclared": 1,
         "hmProgramDeclared": 0,
         "incidentBeginDate": "2017-12-04T18:00:00.000Z",
         "incidentEndDate": "2017-12-29T23:59:00.000Z",
         "disasterCloseoutDate": "nan",
         "fipsStateCode": 6,
         "fipsCountyCode": 73,
         "placeCode": 99073,
         "designatedArea": "San Diego (County)",
         "declarationRequestNumber": 17146,
         "hash": "3afb5dafc8b6122905e506ef77203719b6aea26c",
         "lastRefresh": "2021-07-13T23:02:04.491Z",
         "id": "60c3b85ba0ee349d710a6f8f",
         "_deepnote_index_column": 42617
        },
        {
         "femaDeclarationString": "EM-3396-CA",
         "disasterNumber": 3396,
         "state": "CA",
         "declarationType": "EM",
         "declarationDate": "2017-12-08T10:00:00.000Z",
         "fyDeclared": 2018,
         "incidentType": "Fire",
         "declarationTitle": "WILDFIRES",
         "ihProgramDeclared": 0,
         "iaProgramDeclared": 0,
         "paProgramDeclared": 1,
         "hmProgramDeclared": 0,
         "incidentBeginDate": "2017-12-04T18:00:00.000Z",
         "incidentEndDate": "2017-12-29T23:59:00.000Z",
         "disasterCloseoutDate": "nan",
         "fipsStateCode": 6,
         "fipsCountyCode": 65,
         "placeCode": 99065,
         "designatedArea": "Riverside (County)",
         "declarationRequestNumber": 17146,
         "hash": "403452a787106a6949f0ef769e9e8a108f0f2207",
         "lastRefresh": "2021-07-13T23:02:04.491Z",
         "id": "60c3b85ba0ee349d710a6fb2",
         "_deepnote_index_column": 42620
        },
        {
         "femaDeclarationString": "EM-3396-CA",
         "disasterNumber": 3396,
         "state": "CA",
         "declarationType": "EM",
         "declarationDate": "2017-12-08T10:00:00.000Z",
         "fyDeclared": 2018,
         "incidentType": "Fire",
         "declarationTitle": "WILDFIRES",
         "ihProgramDeclared": 0,
         "iaProgramDeclared": 0,
         "paProgramDeclared": 1,
         "hmProgramDeclared": 0,
         "incidentBeginDate": "2017-12-04T18:00:00.000Z",
         "incidentEndDate": "2017-12-29T23:59:00.000Z",
         "disasterCloseoutDate": "nan",
         "fipsStateCode": 6,
         "fipsCountyCode": 111,
         "placeCode": 99111,
         "designatedArea": "Ventura (County)",
         "declarationRequestNumber": 17146,
         "hash": "e89e172363c84f5fcc626e6a3d18226d837269da",
         "lastRefresh": "2021-07-13T23:02:04.492Z",
         "id": "60c3b85ba0ee349d710a6f9e",
         "_deepnote_index_column": 42621
        },
        {
         "femaDeclarationString": "EM-3398-CA",
         "disasterNumber": 3398,
         "state": "CA",
         "declarationType": "EM",
         "declarationDate": "2018-07-28T09:40:00.000Z",
         "fyDeclared": 2018,
         "incidentType": "Fire",
         "declarationTitle": "WILDFIRE",
         "ihProgramDeclared": 0,
         "iaProgramDeclared": 0,
         "paProgramDeclared": 1,
         "hmProgramDeclared": 0,
         "incidentBeginDate": "2018-07-23T16:20:00.000Z",
         "incidentEndDate": "2018-09-19T00:00:00.000Z",
         "disasterCloseoutDate": "nan",
         "fipsStateCode": 6,
         "fipsCountyCode": 89,
         "placeCode": 99089,
         "designatedArea": "Shasta (County)",
         "declarationRequestNumber": 18069,
         "hash": "c372bc278b339aadc5068417347779770e73abdd",
         "lastRefresh": "2021-07-13T23:02:04.498Z",
         "id": "60c3b85ba0ee349d710a6fd2",
         "_deepnote_index_column": 42624
        },
        {
         "femaDeclarationString": "EM-3409-CA",
         "disasterNumber": 3409,
         "state": "CA",
         "declarationType": "EM",
         "declarationDate": "2018-11-09T16:50:00.000Z",
         "fyDeclared": 2019,
         "incidentType": "Fire",
         "declarationTitle": "WILDFIRES",
         "ihProgramDeclared": 0,
         "iaProgramDeclared": 0,
         "paProgramDeclared": 1,
         "hmProgramDeclared": 0,
         "incidentBeginDate": "2018-11-08T00:00:00.000Z",
         "incidentEndDate": "2018-11-25T23:59:00.000Z",
         "disasterCloseoutDate": "nan",
         "fipsStateCode": 6,
         "fipsCountyCode": 37,
         "placeCode": 99037,
         "designatedArea": "Los Angeles (County)",
         "declarationRequestNumber": 18126,
         "hash": "0fa08ab30fcf9d7155f0caf1da4945bf993c7245",
         "lastRefresh": "2021-07-13T23:02:04.826Z",
         "id": "60c3b85ca0ee349d710a79af",
         "_deepnote_index_column": 43078
        }
       ]
      },
      "text/plain": "      femaDeclarationString  disasterNumber state declarationType  \\\n42094            EM-3381-CA            3381    CA              EM   \n42095            EM-3381-CA            3381    CA              EM   \n42098            EM-3381-CA            3381    CA              EM   \n42615            EM-3396-CA            3396    CA              EM   \n42616            EM-3396-CA            3396    CA              EM   \n...                     ...             ...   ...             ...   \n61737            FM-5262-CA            5262    CA              FM   \n61759            FM-5280-CA            5280    CA              FM   \n61837            FM-5278-CA            5278    CA              FM   \n61855            FM-5280-CA            5280    CA              FM   \n61864            FM-5279-CA            5279    CA              FM   \n\n                declarationDate  fyDeclared     incidentType  \\\n42094  2017-02-14T19:20:00.000Z        2017  Dam/Levee Break   \n42095  2017-02-14T19:20:00.000Z        2017  Dam/Levee Break   \n42098  2017-02-14T19:20:00.000Z        2017  Dam/Levee Break   \n42615  2017-12-08T10:00:00.000Z        2018             Fire   \n42616  2017-12-08T10:00:00.000Z        2018             Fire   \n...                         ...         ...              ...   \n61737  2018-07-28T22:49:00.000Z        2018             Fire   \n61759  2018-11-09T05:50:00.000Z        2019             Fire   \n61837  2018-11-08T14:38:00.000Z        2019             Fire   \n61855  2018-11-09T05:50:00.000Z        2019             Fire   \n61864  2018-11-08T21:40:00.000Z        2019             Fire   \n\n                                        declarationTitle  ihProgramDeclared  \\\n42094  POTENTIAL FAILURE OF THE EMERGENCY SPILLWAY AT...                  0   \n42095  POTENTIAL FAILURE OF THE EMERGENCY SPILLWAY AT...                  0   \n42098  POTENTIAL FAILURE OF THE EMERGENCY SPILLWAY AT...                  0   \n42615                                          WILDFIRES                  0   \n42616                                          WILDFIRES                  0   \n...                                                  ...                ...   \n61737                             MENDOCINO FIRE COMPLEX                  0   \n61759                                       WOOLSEY FIRE                  0   \n61837                                          CAMP FIRE                  0   \n61855                                       WOOLSEY FIRE                  0   \n61864                                          HILL FIRE                  0   \n\n       iaProgramDeclared  ...           incidentEndDate  \\\n42094                  0  ...  2017-02-23T23:59:00.000Z   \n42095                  0  ...  2017-02-23T23:59:00.000Z   \n42098                  0  ...  2017-02-23T23:59:00.000Z   \n42615                  0  ...  2017-12-29T23:59:00.000Z   \n42616                  0  ...  2017-12-29T23:59:00.000Z   \n...                  ...  ...                       ...   \n61737                  0  ...  2018-08-20T23:59:00.000Z   \n61759                  0  ...                       NaN   \n61837                  0  ...                       NaN   \n61855                  0  ...                       NaN   \n61864                  0  ...                       NaN   \n\n           disasterCloseoutDate fipsStateCode fipsCountyCode placeCode  \\\n42094                       NaN             6              7     99007   \n42095                       NaN             6            101     99101   \n42098                       NaN             6            115     99115   \n42615                       NaN             6             83     99083   \n42616                       NaN             6             37     99037   \n...                         ...           ...            ...       ...   \n61737                       NaN             6              0     34659   \n61759  2019-02-06T23:59:00.000Z             6             37     99037   \n61837                       NaN             6              7     99007   \n61855  2019-02-06T23:59:00.000Z             6            111     99111   \n61864  2019-02-06T23:59:00.000Z             6            111     99111   \n\n                               designatedArea  declarationRequestNumber  \\\n42094                          Butte (County)                     17013   \n42095                         Sutter (County)                     17013   \n42098                           Yuba (County)                     17013   \n42615                  Santa Barbara (County)                     17146   \n42616                    Los Angeles (County)                     17146   \n...                                       ...                       ...   \n61737  Hopland Rancheria (Indian Reservation)                     18070   \n61759                    Los Angeles (County)                     18124   \n61837                          Butte (County)                     18125   \n61855                        Ventura (County)                     18124   \n61864                        Ventura (County)                     18123   \n\n                                           hash               lastRefresh  \\\n42094  39dd0eec3d8314ed7e053d9b27c0f343c45b77a0  2021-07-13T23:02:04.122Z   \n42095  5db5ce5334f8cc8ae905535b15e54346db3e64bd  2021-07-13T23:02:04.122Z   \n42098  a64bc58946fb76c1548a8427a10e1f75831cdf3a  2021-07-13T23:02:04.123Z   \n42615  651480df722310f0f2371cf5ec4639f8eaefcbb0  2021-07-13T23:02:04.492Z   \n42616  da5bf56e9f9817c0483f129ce126552f471d91d6  2021-07-13T23:02:04.490Z   \n...                                         ...                       ...   \n61737  c8e76dcc5889ec7d46ef9c2161678a1162237509  2021-07-13T23:02:24.627Z   \n61759  fce8164d6a9502ad6176ea57ad1051a690dcfce7  2021-07-19T14:02:23.214Z   \n61837  e9227ef9709f2042e0b5fbc7b054401f64e6ac99  2021-08-17T11:41:56.946Z   \n61855  c909ea3bf245f0d0148e0463663936a37600a5a4  2021-07-19T14:02:23.214Z   \n61864  dccdd1a2d9c7e1b0358fc2d2cf9ac1b27d6cb65f  2021-07-13T23:02:24.648Z   \n\n                             id  \n42094  60c3b85ba0ee349d710a647b  \n42095  60c3b85ba0ee349d710a6483  \n42098  60c3b85ba0ee349d710a6492  \n42615  60c3b85ba0ee349d710a6f9b  \n42616  60c3b85ba0ee349d710a6f8a  \n...                         ...  \n61737  60c3b876a0ee349d710bfb65  \n61759  60c3b876a0ee349d710bfbb4  \n61837  60c3b876a0ee349d710bfbd8  \n61855  60c3b876a0ee349d710bfbdf  \n61864  60c3b876a0ee349d710bfbd4  \n\n[260 rows x 23 columns]",
      "text/html": "<div>\n<style scoped>\n    .dataframe tbody tr th:only-of-type {\n        vertical-align: middle;\n    }\n\n    .dataframe tbody tr th {\n        vertical-align: top;\n    }\n\n    .dataframe thead th {\n        text-align: right;\n    }\n</style>\n<table border=\"1\" class=\"dataframe\">\n  <thead>\n    <tr style=\"text-align: right;\">\n      <th></th>\n      <th>femaDeclarationString</th>\n      <th>disasterNumber</th>\n      <th>state</th>\n      <th>declarationType</th>\n      <th>declarationDate</th>\n      <th>fyDeclared</th>\n      <th>incidentType</th>\n      <th>declarationTitle</th>\n      <th>ihProgramDeclared</th>\n      <th>iaProgramDeclared</th>\n      <th>...</th>\n      <th>incidentEndDate</th>\n      <th>disasterCloseoutDate</th>\n      <th>fipsStateCode</th>\n      <th>fipsCountyCode</th>\n      <th>placeCode</th>\n      <th>designatedArea</th>\n      <th>declarationRequestNumber</th>\n      <th>hash</th>\n      <th>lastRefresh</th>\n      <th>id</th>\n    </tr>\n  </thead>\n  <tbody>\n    <tr>\n      <th>42094</th>\n      <td>EM-3381-CA</td>\n      <td>3381</td>\n      <td>CA</td>\n      <td>EM</td>\n      <td>2017-02-14T19:20:00.000Z</td>\n      <td>2017</td>\n      <td>Dam/Levee Break</td>\n      <td>POTENTIAL FAILURE OF THE EMERGENCY SPILLWAY AT...</td>\n      <td>0</td>\n      <td>0</td>\n      <td>...</td>\n      <td>2017-02-23T23:59:00.000Z</td>\n      <td>NaN</td>\n      <td>6</td>\n      <td>7</td>\n      <td>99007</td>\n      <td>Butte (County)</td>\n      <td>17013</td>\n      <td>39dd0eec3d8314ed7e053d9b27c0f343c45b77a0</td>\n      <td>2021-07-13T23:02:04.122Z</td>\n      <td>60c3b85ba0ee349d710a647b</td>\n    </tr>\n    <tr>\n      <th>42095</th>\n      <td>EM-3381-CA</td>\n      <td>3381</td>\n      <td>CA</td>\n      <td>EM</td>\n      <td>2017-02-14T19:20:00.000Z</td>\n      <td>2017</td>\n      <td>Dam/Levee Break</td>\n      <td>POTENTIAL FAILURE OF THE EMERGENCY SPILLWAY AT...</td>\n      <td>0</td>\n      <td>0</td>\n      <td>...</td>\n      <td>2017-02-23T23:59:00.000Z</td>\n      <td>NaN</td>\n      <td>6</td>\n      <td>101</td>\n      <td>99101</td>\n      <td>Sutter (County)</td>\n      <td>17013</td>\n      <td>5db5ce5334f8cc8ae905535b15e54346db3e64bd</td>\n      <td>2021-07-13T23:02:04.122Z</td>\n      <td>60c3b85ba0ee349d710a6483</td>\n    </tr>\n    <tr>\n      <th>42098</th>\n      <td>EM-3381-CA</td>\n      <td>3381</td>\n      <td>CA</td>\n      <td>EM</td>\n      <td>2017-02-14T19:20:00.000Z</td>\n      <td>2017</td>\n      <td>Dam/Levee Break</td>\n      <td>POTENTIAL FAILURE OF THE EMERGENCY SPILLWAY AT...</td>\n      <td>0</td>\n      <td>0</td>\n      <td>...</td>\n      <td>2017-02-23T23:59:00.000Z</td>\n      <td>NaN</td>\n      <td>6</td>\n      <td>115</td>\n      <td>99115</td>\n      <td>Yuba (County)</td>\n      <td>17013</td>\n      <td>a64bc58946fb76c1548a8427a10e1f75831cdf3a</td>\n      <td>2021-07-13T23:02:04.123Z</td>\n      <td>60c3b85ba0ee349d710a6492</td>\n    </tr>\n    <tr>\n      <th>42615</th>\n      <td>EM-3396-CA</td>\n      <td>3396</td>\n      <td>CA</td>\n      <td>EM</td>\n      <td>2017-12-08T10:00:00.000Z</td>\n      <td>2018</td>\n      <td>Fire</td>\n      <td>WILDFIRES</td>\n      <td>0</td>\n      <td>0</td>\n      <td>...</td>\n      <td>2017-12-29T23:59:00.000Z</td>\n      <td>NaN</td>\n      <td>6</td>\n      <td>83</td>\n      <td>99083</td>\n      <td>Santa Barbara (County)</td>\n      <td>17146</td>\n      <td>651480df722310f0f2371cf5ec4639f8eaefcbb0</td>\n      <td>2021-07-13T23:02:04.492Z</td>\n      <td>60c3b85ba0ee349d710a6f9b</td>\n    </tr>\n    <tr>\n      <th>42616</th>\n      <td>EM-3396-CA</td>\n      <td>3396</td>\n      <td>CA</td>\n      <td>EM</td>\n      <td>2017-12-08T10:00:00.000Z</td>\n      <td>2018</td>\n      <td>Fire</td>\n      <td>WILDFIRES</td>\n      <td>0</td>\n      <td>0</td>\n      <td>...</td>\n      <td>2017-12-29T23:59:00.000Z</td>\n      <td>NaN</td>\n      <td>6</td>\n      <td>37</td>\n      <td>99037</td>\n      <td>Los Angeles (County)</td>\n      <td>17146</td>\n      <td>da5bf56e9f9817c0483f129ce126552f471d91d6</td>\n      <td>2021-07-13T23:02:04.490Z</td>\n      <td>60c3b85ba0ee349d710a6f8a</td>\n    </tr>\n    <tr>\n      <th>...</th>\n      <td>...</td>\n      <td>...</td>\n      <td>...</td>\n      <td>...</td>\n      <td>...</td>\n      <td>...</td>\n      <td>...</td>\n      <td>...</td>\n      <td>...</td>\n      <td>...</td>\n      <td>...</td>\n      <td>...</td>\n      <td>...</td>\n      <td>...</td>\n      <td>...</td>\n      <td>...</td>\n      <td>...</td>\n      <td>...</td>\n      <td>...</td>\n      <td>...</td>\n      <td>...</td>\n    </tr>\n    <tr>\n      <th>61737</th>\n      <td>FM-5262-CA</td>\n      <td>5262</td>\n      <td>CA</td>\n      <td>FM</td>\n      <td>2018-07-28T22:49:00.000Z</td>\n      <td>2018</td>\n      <td>Fire</td>\n      <td>MENDOCINO FIRE COMPLEX</td>\n      <td>0</td>\n      <td>0</td>\n      <td>...</td>\n      <td>2018-08-20T23:59:00.000Z</td>\n      <td>NaN</td>\n      <td>6</td>\n      <td>0</td>\n      <td>34659</td>\n      <td>Hopland Rancheria (Indian Reservation)</td>\n      <td>18070</td>\n      <td>c8e76dcc5889ec7d46ef9c2161678a1162237509</td>\n      <td>2021-07-13T23:02:24.627Z</td>\n      <td>60c3b876a0ee349d710bfb65</td>\n    </tr>\n    <tr>\n      <th>61759</th>\n      <td>FM-5280-CA</td>\n      <td>5280</td>\n      <td>CA</td>\n      <td>FM</td>\n      <td>2018-11-09T05:50:00.000Z</td>\n      <td>2019</td>\n      <td>Fire</td>\n      <td>WOOLSEY FIRE</td>\n      <td>0</td>\n      <td>0</td>\n      <td>...</td>\n      <td>NaN</td>\n      <td>2019-02-06T23:59:00.000Z</td>\n      <td>6</td>\n      <td>37</td>\n      <td>99037</td>\n      <td>Los Angeles (County)</td>\n      <td>18124</td>\n      <td>fce8164d6a9502ad6176ea57ad1051a690dcfce7</td>\n      <td>2021-07-19T14:02:23.214Z</td>\n      <td>60c3b876a0ee349d710bfbb4</td>\n    </tr>\n    <tr>\n      <th>61837</th>\n      <td>FM-5278-CA</td>\n      <td>5278</td>\n      <td>CA</td>\n      <td>FM</td>\n      <td>2018-11-08T14:38:00.000Z</td>\n      <td>2019</td>\n      <td>Fire</td>\n      <td>CAMP FIRE</td>\n      <td>0</td>\n      <td>0</td>\n      <td>...</td>\n      <td>NaN</td>\n      <td>NaN</td>\n      <td>6</td>\n      <td>7</td>\n      <td>99007</td>\n      <td>Butte (County)</td>\n      <td>18125</td>\n      <td>e9227ef9709f2042e0b5fbc7b054401f64e6ac99</td>\n      <td>2021-08-17T11:41:56.946Z</td>\n      <td>60c3b876a0ee349d710bfbd8</td>\n    </tr>\n    <tr>\n      <th>61855</th>\n      <td>FM-5280-CA</td>\n      <td>5280</td>\n      <td>CA</td>\n      <td>FM</td>\n      <td>2018-11-09T05:50:00.000Z</td>\n      <td>2019</td>\n      <td>Fire</td>\n      <td>WOOLSEY FIRE</td>\n      <td>0</td>\n      <td>0</td>\n      <td>...</td>\n      <td>NaN</td>\n      <td>2019-02-06T23:59:00.000Z</td>\n      <td>6</td>\n      <td>111</td>\n      <td>99111</td>\n      <td>Ventura (County)</td>\n      <td>18124</td>\n      <td>c909ea3bf245f0d0148e0463663936a37600a5a4</td>\n      <td>2021-07-19T14:02:23.214Z</td>\n      <td>60c3b876a0ee349d710bfbdf</td>\n    </tr>\n    <tr>\n      <th>61864</th>\n      <td>FM-5279-CA</td>\n      <td>5279</td>\n      <td>CA</td>\n      <td>FM</td>\n      <td>2018-11-08T21:40:00.000Z</td>\n      <td>2019</td>\n      <td>Fire</td>\n      <td>HILL FIRE</td>\n      <td>0</td>\n      <td>0</td>\n      <td>...</td>\n      <td>NaN</td>\n      <td>2019-02-06T23:59:00.000Z</td>\n      <td>6</td>\n      <td>111</td>\n      <td>99111</td>\n      <td>Ventura (County)</td>\n      <td>18123</td>\n      <td>dccdd1a2d9c7e1b0358fc2d2cf9ac1b27d6cb65f</td>\n      <td>2021-07-13T23:02:24.648Z</td>\n      <td>60c3b876a0ee349d710bfbd4</td>\n    </tr>\n  </tbody>\n</table>\n<p>260 rows × 23 columns</p>\n</div>"
     },
     "metadata": {}
    }
   ]
  },
  {
   "cell_type": "code",
   "metadata": {
    "tags": [],
    "cell_id": "00005-e657bc1e-542f-4d8c-8847-e1e5c6fafc8f",
    "deepnote_to_be_reexecuted": false,
    "source_hash": "284972aa",
    "execution_start": 1642780662296,
    "execution_millis": 8,
    "deepnote_output_heights": [
     174.6875,
     232.25
    ],
    "deepnote_cell_type": "code"
   },
   "source": "df = df[['state', 'fyDeclared', 'incidentType',  \n       'fipsStateCode', 'fipsCountyCode', \n       'designatedArea',]]\n\n# all but one disaster ends in the same year it started in\n#for each value of incident type, creates a new column with 0/1 values\ndf = pd.get_dummies(df, columns=['incidentType'])\n\ndf.columns\n\nrename_dict = {'fyDeclared':'year', 'fipsStateCode':'state_code', 'fipsCountyCode':'county_code',\n       'designatedArea':'county', 'incidentType_Chemical':'chemical', \n       'incidentType_Coastal Storm':'coastal_storm',\n       'incidentType_Dam/Levee Break':'dam_levee_break', 'incidentType_Earthquake':'earthquake',\n       'incidentType_Fire':'fire', 'incidentType_Flood':'flood', 'incidentType_Hurricane':'hurricane',\n       'incidentType_Mud/Landslide':'mud_landslide', 'incidentType_Severe Ice Storm':'severe_ice_storm',\n       'incidentType_Severe Storm(s)':'severe_storm', 'incidentType_Snow':'snow',\n       'incidentType_Tornado':'tornado', 'incidentType_Toxic Substances':'toxic_substances',\n       'incidentType_Typhoon':'typhoon', 'incidentType_Volcano':'volcano'}\ndf.rename(columns = rename_dict, inplace = True)",
   "execution_count": null,
   "outputs": []
  },
  {
   "cell_type": "code",
   "metadata": {
    "tags": [],
    "cell_id": "00006-ceab6e03-ae0b-4efc-af81-e657e3977d2e",
    "deepnote_to_be_reexecuted": false,
    "source_hash": "5b05f20f",
    "execution_start": 1642780666341,
    "execution_millis": 0,
    "deepnote_cell_type": "code"
   },
   "source": "df = df.groupby(['state_code','county_code','year']).sum()\n\ndf.reset_index(inplace = True)",
   "execution_count": null,
   "outputs": []
  },
  {
   "cell_type": "code",
   "metadata": {
    "tags": [],
    "cell_id": "00007-969c55e2-d65f-4204-b3d1-05f4af4ac2dd",
    "deepnote_to_be_reexecuted": false,
    "source_hash": "d7ddc0ea",
    "execution_start": 1642780669458,
    "execution_millis": 11,
    "deepnote_cell_type": "code"
   },
   "source": "# sanity check to ensure this data has same counties as ACS data\ndf_merged = pd.merge(df,county_mapper, how = 'left', left_on = ['state_code','county_code'],right_on = ['state','county'] )",
   "execution_count": null,
   "outputs": []
  },
  {
   "cell_type": "code",
   "metadata": {
    "tags": [],
    "cell_id": "00009-0f629701-1587-4ee8-8b6f-406a45312e4c",
    "deepnote_to_be_reexecuted": false,
    "source_hash": "b29ab1ed",
    "execution_start": 1642780673708,
    "execution_millis": 14,
    "deepnote_output_heights": [
     232.25
    ],
    "deepnote_table_state": {
     "pageSize": 100,
     "pageIndex": 0,
     "filters": [],
     "sortBy": []
    },
    "deepnote_table_loading": false,
    "deepnote_cell_type": "code"
   },
   "source": "#There are 59 rows of data that can't be mapped onto the mapper\n\n# The areas coded with 0 as county are reservations. This represents about 34 rows.\n# the remaining 25 rows appear not to map onto a county that currently exists. \n\n\n# For example, this county changed designations https://www.economy.com/support/blog/buffet.aspx?did=50094FC4-C32C-4CCA-862A-264BC890E13B\n# df[(df['state_code']==51) & (df['county_code']==515)]\n\n\n# Any with code 60 represents American Samoa (this is about 15 of the 25)\n#df[(df['state_code']==60) ]\ndf_merged[(df_merged['county'].isna())]\n\ndf_merged = df_merged.dropna()\n\ndf_merged = df_merged.iloc[:,2:]",
   "execution_count": null,
   "outputs": []
  },
  {
   "cell_type": "code",
   "metadata": {
    "cell_id": "cb72f0fc-aadc-48bd-bf16-68bb33f09774",
    "tags": [],
    "deepnote_to_be_reexecuted": false,
    "source_hash": "a39444b7",
    "execution_start": 1642780794205,
    "execution_millis": 125,
    "deepnote_cell_type": "code"
   },
   "source": "#Check CA df to see how many fires are taking place\n\ndf_ca = df_merged[df_merged['state_name']=='california']\n\ndf_ca[df_ca['fire'] !=0]",
   "execution_count": null,
   "outputs": [
    {
     "output_type": "execute_result",
     "execution_count": 15,
     "data": {
      "application/vnd.deepnote.dataframe.v3+json": {
       "column_count": 20,
       "row_count": 59,
       "columns": [
        {
         "name": "year",
         "dtype": "int64",
         "stats": {
          "unique_count": 6,
          "nan_count": 0,
          "min": "2014",
          "max": "2019",
          "histogram": [
           {
            "bin_start": 2014,
            "bin_end": 2014.5,
            "count": 13
           },
           {
            "bin_start": 2014.5,
            "bin_end": 2015,
            "count": 0
           },
           {
            "bin_start": 2015,
            "bin_end": 2015.5,
            "count": 9
           },
           {
            "bin_start": 2015.5,
            "bin_end": 2016,
            "count": 0
           },
           {
            "bin_start": 2016,
            "bin_end": 2016.5,
            "count": 9
           },
           {
            "bin_start": 2016.5,
            "bin_end": 2017,
            "count": 0
           },
           {
            "bin_start": 2017,
            "bin_end": 2017.5,
            "count": 8
           },
           {
            "bin_start": 2017.5,
            "bin_end": 2018,
            "count": 0
           },
           {
            "bin_start": 2018,
            "bin_end": 2018.5,
            "count": 17
           },
           {
            "bin_start": 2018.5,
            "bin_end": 2019,
            "count": 3
           }
          ]
         }
        },
        {
         "name": "chemical",
         "dtype": "uint8",
         "stats": {
          "unique_count": 1,
          "nan_count": 0,
          "min": "0",
          "max": "0",
          "histogram": [
           {
            "bin_start": -0.5,
            "bin_end": -0.4,
            "count": 0
           },
           {
            "bin_start": -0.4,
            "bin_end": -0.3,
            "count": 0
           },
           {
            "bin_start": -0.3,
            "bin_end": -0.19999999999999996,
            "count": 0
           },
           {
            "bin_start": -0.19999999999999996,
            "bin_end": -0.09999999999999998,
            "count": 0
           },
           {
            "bin_start": -0.09999999999999998,
            "bin_end": 0,
            "count": 0
           },
           {
            "bin_start": 0,
            "bin_end": 0.10000000000000009,
            "count": 59
           },
           {
            "bin_start": 0.10000000000000009,
            "bin_end": 0.20000000000000007,
            "count": 0
           },
           {
            "bin_start": 0.20000000000000007,
            "bin_end": 0.30000000000000004,
            "count": 0
           },
           {
            "bin_start": 0.30000000000000004,
            "bin_end": 0.4,
            "count": 0
           },
           {
            "bin_start": 0.4,
            "bin_end": 0.5,
            "count": 0
           }
          ]
         }
        },
        {
         "name": "coastal_storm",
         "dtype": "uint8",
         "stats": {
          "unique_count": 1,
          "nan_count": 0,
          "min": "0",
          "max": "0",
          "histogram": [
           {
            "bin_start": -0.5,
            "bin_end": -0.4,
            "count": 0
           },
           {
            "bin_start": -0.4,
            "bin_end": -0.3,
            "count": 0
           },
           {
            "bin_start": -0.3,
            "bin_end": -0.19999999999999996,
            "count": 0
           },
           {
            "bin_start": -0.19999999999999996,
            "bin_end": -0.09999999999999998,
            "count": 0
           },
           {
            "bin_start": -0.09999999999999998,
            "bin_end": 0,
            "count": 0
           },
           {
            "bin_start": 0,
            "bin_end": 0.10000000000000009,
            "count": 59
           },
           {
            "bin_start": 0.10000000000000009,
            "bin_end": 0.20000000000000007,
            "count": 0
           },
           {
            "bin_start": 0.20000000000000007,
            "bin_end": 0.30000000000000004,
            "count": 0
           },
           {
            "bin_start": 0.30000000000000004,
            "bin_end": 0.4,
            "count": 0
           },
           {
            "bin_start": 0.4,
            "bin_end": 0.5,
            "count": 0
           }
          ]
         }
        },
        {
         "name": "dam_levee_break",
         "dtype": "uint8",
         "stats": {
          "unique_count": 2,
          "nan_count": 0,
          "min": "0",
          "max": "1",
          "histogram": [
           {
            "bin_start": 0,
            "bin_end": 0.1,
            "count": 58
           },
           {
            "bin_start": 0.1,
            "bin_end": 0.2,
            "count": 0
           },
           {
            "bin_start": 0.2,
            "bin_end": 0.30000000000000004,
            "count": 0
           },
           {
            "bin_start": 0.30000000000000004,
            "bin_end": 0.4,
            "count": 0
           },
           {
            "bin_start": 0.4,
            "bin_end": 0.5,
            "count": 0
           },
           {
            "bin_start": 0.5,
            "bin_end": 0.6000000000000001,
            "count": 0
           },
           {
            "bin_start": 0.6000000000000001,
            "bin_end": 0.7000000000000001,
            "count": 0
           },
           {
            "bin_start": 0.7000000000000001,
            "bin_end": 0.8,
            "count": 0
           },
           {
            "bin_start": 0.8,
            "bin_end": 0.9,
            "count": 0
           },
           {
            "bin_start": 0.9,
            "bin_end": 1,
            "count": 1
           }
          ]
         }
        },
        {
         "name": "earthquake",
         "dtype": "uint8",
         "stats": {
          "unique_count": 2,
          "nan_count": 0,
          "min": "0",
          "max": "1",
          "histogram": [
           {
            "bin_start": 0,
            "bin_end": 0.1,
            "count": 58
           },
           {
            "bin_start": 0.1,
            "bin_end": 0.2,
            "count": 0
           },
           {
            "bin_start": 0.2,
            "bin_end": 0.30000000000000004,
            "count": 0
           },
           {
            "bin_start": 0.30000000000000004,
            "bin_end": 0.4,
            "count": 0
           },
           {
            "bin_start": 0.4,
            "bin_end": 0.5,
            "count": 0
           },
           {
            "bin_start": 0.5,
            "bin_end": 0.6000000000000001,
            "count": 0
           },
           {
            "bin_start": 0.6000000000000001,
            "bin_end": 0.7000000000000001,
            "count": 0
           },
           {
            "bin_start": 0.7000000000000001,
            "bin_end": 0.8,
            "count": 0
           },
           {
            "bin_start": 0.8,
            "bin_end": 0.9,
            "count": 0
           },
           {
            "bin_start": 0.9,
            "bin_end": 1,
            "count": 1
           }
          ]
         }
        },
        {
         "name": "fire",
         "dtype": "uint8",
         "stats": {
          "unique_count": 5,
          "nan_count": 0,
          "min": "1",
          "max": "5",
          "histogram": [
           {
            "bin_start": 1,
            "bin_end": 1.4,
            "count": 29
           },
           {
            "bin_start": 1.4,
            "bin_end": 1.8,
            "count": 0
           },
           {
            "bin_start": 1.8,
            "bin_end": 2.2,
            "count": 14
           },
           {
            "bin_start": 2.2,
            "bin_end": 2.6,
            "count": 0
           },
           {
            "bin_start": 2.6,
            "bin_end": 3,
            "count": 0
           },
           {
            "bin_start": 3,
            "bin_end": 3.4000000000000004,
            "count": 6
           },
           {
            "bin_start": 3.4000000000000004,
            "bin_end": 3.8000000000000003,
            "count": 0
           },
           {
            "bin_start": 3.8000000000000003,
            "bin_end": 4.2,
            "count": 8
           },
           {
            "bin_start": 4.2,
            "bin_end": 4.6,
            "count": 0
           },
           {
            "bin_start": 4.6,
            "bin_end": 5,
            "count": 2
           }
          ]
         }
        },
        {
         "name": "flood",
         "dtype": "uint8",
         "stats": {
          "unique_count": 3,
          "nan_count": 0,
          "min": "0",
          "max": "2",
          "histogram": [
           {
            "bin_start": 0,
            "bin_end": 0.2,
            "count": 53
           },
           {
            "bin_start": 0.2,
            "bin_end": 0.4,
            "count": 0
           },
           {
            "bin_start": 0.4,
            "bin_end": 0.6000000000000001,
            "count": 0
           },
           {
            "bin_start": 0.6000000000000001,
            "bin_end": 0.8,
            "count": 0
           },
           {
            "bin_start": 0.8,
            "bin_end": 1,
            "count": 0
           },
           {
            "bin_start": 1,
            "bin_end": 1.2000000000000002,
            "count": 5
           },
           {
            "bin_start": 1.2000000000000002,
            "bin_end": 1.4000000000000001,
            "count": 0
           },
           {
            "bin_start": 1.4000000000000001,
            "bin_end": 1.6,
            "count": 0
           },
           {
            "bin_start": 1.6,
            "bin_end": 1.8,
            "count": 0
           },
           {
            "bin_start": 1.8,
            "bin_end": 2,
            "count": 1
           }
          ]
         }
        },
        {
         "name": "hurricane",
         "dtype": "uint8",
         "stats": {
          "unique_count": 1,
          "nan_count": 0,
          "min": "0",
          "max": "0",
          "histogram": [
           {
            "bin_start": -0.5,
            "bin_end": -0.4,
            "count": 0
           },
           {
            "bin_start": -0.4,
            "bin_end": -0.3,
            "count": 0
           },
           {
            "bin_start": -0.3,
            "bin_end": -0.19999999999999996,
            "count": 0
           },
           {
            "bin_start": -0.19999999999999996,
            "bin_end": -0.09999999999999998,
            "count": 0
           },
           {
            "bin_start": -0.09999999999999998,
            "bin_end": 0,
            "count": 0
           },
           {
            "bin_start": 0,
            "bin_end": 0.10000000000000009,
            "count": 59
           },
           {
            "bin_start": 0.10000000000000009,
            "bin_end": 0.20000000000000007,
            "count": 0
           },
           {
            "bin_start": 0.20000000000000007,
            "bin_end": 0.30000000000000004,
            "count": 0
           },
           {
            "bin_start": 0.30000000000000004,
            "bin_end": 0.4,
            "count": 0
           },
           {
            "bin_start": 0.4,
            "bin_end": 0.5,
            "count": 0
           }
          ]
         }
        },
        {
         "name": "mud_landslide",
         "dtype": "uint8",
         "stats": {
          "unique_count": 1,
          "nan_count": 0,
          "min": "0",
          "max": "0",
          "histogram": [
           {
            "bin_start": -0.5,
            "bin_end": -0.4,
            "count": 0
           },
           {
            "bin_start": -0.4,
            "bin_end": -0.3,
            "count": 0
           },
           {
            "bin_start": -0.3,
            "bin_end": -0.19999999999999996,
            "count": 0
           },
           {
            "bin_start": -0.19999999999999996,
            "bin_end": -0.09999999999999998,
            "count": 0
           },
           {
            "bin_start": -0.09999999999999998,
            "bin_end": 0,
            "count": 0
           },
           {
            "bin_start": 0,
            "bin_end": 0.10000000000000009,
            "count": 59
           },
           {
            "bin_start": 0.10000000000000009,
            "bin_end": 0.20000000000000007,
            "count": 0
           },
           {
            "bin_start": 0.20000000000000007,
            "bin_end": 0.30000000000000004,
            "count": 0
           },
           {
            "bin_start": 0.30000000000000004,
            "bin_end": 0.4,
            "count": 0
           },
           {
            "bin_start": 0.4,
            "bin_end": 0.5,
            "count": 0
           }
          ]
         }
        },
        {
         "name": "severe_ice_storm",
         "dtype": "uint8",
         "stats": {
          "unique_count": 1,
          "nan_count": 0,
          "min": "0",
          "max": "0",
          "histogram": [
           {
            "bin_start": -0.5,
            "bin_end": -0.4,
            "count": 0
           },
           {
            "bin_start": -0.4,
            "bin_end": -0.3,
            "count": 0
           },
           {
            "bin_start": -0.3,
            "bin_end": -0.19999999999999996,
            "count": 0
           },
           {
            "bin_start": -0.19999999999999996,
            "bin_end": -0.09999999999999998,
            "count": 0
           },
           {
            "bin_start": -0.09999999999999998,
            "bin_end": 0,
            "count": 0
           },
           {
            "bin_start": 0,
            "bin_end": 0.10000000000000009,
            "count": 59
           },
           {
            "bin_start": 0.10000000000000009,
            "bin_end": 0.20000000000000007,
            "count": 0
           },
           {
            "bin_start": 0.20000000000000007,
            "bin_end": 0.30000000000000004,
            "count": 0
           },
           {
            "bin_start": 0.30000000000000004,
            "bin_end": 0.4,
            "count": 0
           },
           {
            "bin_start": 0.4,
            "bin_end": 0.5,
            "count": 0
           }
          ]
         }
        },
        {
         "name": "severe_storm",
         "dtype": "uint8",
         "stats": {
          "unique_count": 2,
          "nan_count": 0,
          "min": "0",
          "max": "1",
          "histogram": [
           {
            "bin_start": 0,
            "bin_end": 0.1,
            "count": 56
           },
           {
            "bin_start": 0.1,
            "bin_end": 0.2,
            "count": 0
           },
           {
            "bin_start": 0.2,
            "bin_end": 0.30000000000000004,
            "count": 0
           },
           {
            "bin_start": 0.30000000000000004,
            "bin_end": 0.4,
            "count": 0
           },
           {
            "bin_start": 0.4,
            "bin_end": 0.5,
            "count": 0
           },
           {
            "bin_start": 0.5,
            "bin_end": 0.6000000000000001,
            "count": 0
           },
           {
            "bin_start": 0.6000000000000001,
            "bin_end": 0.7000000000000001,
            "count": 0
           },
           {
            "bin_start": 0.7000000000000001,
            "bin_end": 0.8,
            "count": 0
           },
           {
            "bin_start": 0.8,
            "bin_end": 0.9,
            "count": 0
           },
           {
            "bin_start": 0.9,
            "bin_end": 1,
            "count": 3
           }
          ]
         }
        },
        {
         "name": "snow",
         "dtype": "uint8",
         "stats": {
          "unique_count": 1,
          "nan_count": 0,
          "min": "0",
          "max": "0",
          "histogram": [
           {
            "bin_start": -0.5,
            "bin_end": -0.4,
            "count": 0
           },
           {
            "bin_start": -0.4,
            "bin_end": -0.3,
            "count": 0
           },
           {
            "bin_start": -0.3,
            "bin_end": -0.19999999999999996,
            "count": 0
           },
           {
            "bin_start": -0.19999999999999996,
            "bin_end": -0.09999999999999998,
            "count": 0
           },
           {
            "bin_start": -0.09999999999999998,
            "bin_end": 0,
            "count": 0
           },
           {
            "bin_start": 0,
            "bin_end": 0.10000000000000009,
            "count": 59
           },
           {
            "bin_start": 0.10000000000000009,
            "bin_end": 0.20000000000000007,
            "count": 0
           },
           {
            "bin_start": 0.20000000000000007,
            "bin_end": 0.30000000000000004,
            "count": 0
           },
           {
            "bin_start": 0.30000000000000004,
            "bin_end": 0.4,
            "count": 0
           },
           {
            "bin_start": 0.4,
            "bin_end": 0.5,
            "count": 0
           }
          ]
         }
        },
        {
         "name": "tornado",
         "dtype": "uint8",
         "stats": {
          "unique_count": 1,
          "nan_count": 0,
          "min": "0",
          "max": "0",
          "histogram": [
           {
            "bin_start": -0.5,
            "bin_end": -0.4,
            "count": 0
           },
           {
            "bin_start": -0.4,
            "bin_end": -0.3,
            "count": 0
           },
           {
            "bin_start": -0.3,
            "bin_end": -0.19999999999999996,
            "count": 0
           },
           {
            "bin_start": -0.19999999999999996,
            "bin_end": -0.09999999999999998,
            "count": 0
           },
           {
            "bin_start": -0.09999999999999998,
            "bin_end": 0,
            "count": 0
           },
           {
            "bin_start": 0,
            "bin_end": 0.10000000000000009,
            "count": 59
           },
           {
            "bin_start": 0.10000000000000009,
            "bin_end": 0.20000000000000007,
            "count": 0
           },
           {
            "bin_start": 0.20000000000000007,
            "bin_end": 0.30000000000000004,
            "count": 0
           },
           {
            "bin_start": 0.30000000000000004,
            "bin_end": 0.4,
            "count": 0
           },
           {
            "bin_start": 0.4,
            "bin_end": 0.5,
            "count": 0
           }
          ]
         }
        },
        {
         "name": "toxic_substances",
         "dtype": "uint8",
         "stats": {
          "unique_count": 1,
          "nan_count": 0,
          "min": "0",
          "max": "0",
          "histogram": [
           {
            "bin_start": -0.5,
            "bin_end": -0.4,
            "count": 0
           },
           {
            "bin_start": -0.4,
            "bin_end": -0.3,
            "count": 0
           },
           {
            "bin_start": -0.3,
            "bin_end": -0.19999999999999996,
            "count": 0
           },
           {
            "bin_start": -0.19999999999999996,
            "bin_end": -0.09999999999999998,
            "count": 0
           },
           {
            "bin_start": -0.09999999999999998,
            "bin_end": 0,
            "count": 0
           },
           {
            "bin_start": 0,
            "bin_end": 0.10000000000000009,
            "count": 59
           },
           {
            "bin_start": 0.10000000000000009,
            "bin_end": 0.20000000000000007,
            "count": 0
           },
           {
            "bin_start": 0.20000000000000007,
            "bin_end": 0.30000000000000004,
            "count": 0
           },
           {
            "bin_start": 0.30000000000000004,
            "bin_end": 0.4,
            "count": 0
           },
           {
            "bin_start": 0.4,
            "bin_end": 0.5,
            "count": 0
           }
          ]
         }
        },
        {
         "name": "typhoon",
         "dtype": "uint8",
         "stats": {
          "unique_count": 1,
          "nan_count": 0,
          "min": "0",
          "max": "0",
          "histogram": [
           {
            "bin_start": -0.5,
            "bin_end": -0.4,
            "count": 0
           },
           {
            "bin_start": -0.4,
            "bin_end": -0.3,
            "count": 0
           },
           {
            "bin_start": -0.3,
            "bin_end": -0.19999999999999996,
            "count": 0
           },
           {
            "bin_start": -0.19999999999999996,
            "bin_end": -0.09999999999999998,
            "count": 0
           },
           {
            "bin_start": -0.09999999999999998,
            "bin_end": 0,
            "count": 0
           },
           {
            "bin_start": 0,
            "bin_end": 0.10000000000000009,
            "count": 59
           },
           {
            "bin_start": 0.10000000000000009,
            "bin_end": 0.20000000000000007,
            "count": 0
           },
           {
            "bin_start": 0.20000000000000007,
            "bin_end": 0.30000000000000004,
            "count": 0
           },
           {
            "bin_start": 0.30000000000000004,
            "bin_end": 0.4,
            "count": 0
           },
           {
            "bin_start": 0.4,
            "bin_end": 0.5,
            "count": 0
           }
          ]
         }
        },
        {
         "name": "volcano",
         "dtype": "uint8",
         "stats": {
          "unique_count": 1,
          "nan_count": 0,
          "min": "0",
          "max": "0",
          "histogram": [
           {
            "bin_start": -0.5,
            "bin_end": -0.4,
            "count": 0
           },
           {
            "bin_start": -0.4,
            "bin_end": -0.3,
            "count": 0
           },
           {
            "bin_start": -0.3,
            "bin_end": -0.19999999999999996,
            "count": 0
           },
           {
            "bin_start": -0.19999999999999996,
            "bin_end": -0.09999999999999998,
            "count": 0
           },
           {
            "bin_start": -0.09999999999999998,
            "bin_end": 0,
            "count": 0
           },
           {
            "bin_start": 0,
            "bin_end": 0.10000000000000009,
            "count": 59
           },
           {
            "bin_start": 0.10000000000000009,
            "bin_end": 0.20000000000000007,
            "count": 0
           },
           {
            "bin_start": 0.20000000000000007,
            "bin_end": 0.30000000000000004,
            "count": 0
           },
           {
            "bin_start": 0.30000000000000004,
            "bin_end": 0.4,
            "count": 0
           },
           {
            "bin_start": 0.4,
            "bin_end": 0.5,
            "count": 0
           }
          ]
         }
        },
        {
         "name": "state",
         "dtype": "float64",
         "stats": {
          "unique_count": 1,
          "nan_count": 0,
          "min": "6.0",
          "max": "6.0",
          "histogram": [
           {
            "bin_start": 5.5,
            "bin_end": 5.6,
            "count": 0
           },
           {
            "bin_start": 5.6,
            "bin_end": 5.7,
            "count": 0
           },
           {
            "bin_start": 5.7,
            "bin_end": 5.8,
            "count": 0
           },
           {
            "bin_start": 5.8,
            "bin_end": 5.9,
            "count": 0
           },
           {
            "bin_start": 5.9,
            "bin_end": 6,
            "count": 0
           },
           {
            "bin_start": 6,
            "bin_end": 6.1,
            "count": 59
           },
           {
            "bin_start": 6.1,
            "bin_end": 6.2,
            "count": 0
           },
           {
            "bin_start": 6.2,
            "bin_end": 6.3,
            "count": 0
           },
           {
            "bin_start": 6.3,
            "bin_end": 6.4,
            "count": 0
           },
           {
            "bin_start": 6.4,
            "bin_end": 6.5,
            "count": 0
           }
          ]
         }
        },
        {
         "name": "county",
         "dtype": "float64",
         "stats": {
          "unique_count": 33,
          "nan_count": 0,
          "min": "5.0",
          "max": "115.0",
          "histogram": [
           {
            "bin_start": 5,
            "bin_end": 16,
            "count": 5
           },
           {
            "bin_start": 16,
            "bin_end": 27,
            "count": 2
           },
           {
            "bin_start": 27,
            "bin_end": 38,
            "count": 11
           },
           {
            "bin_start": 38,
            "bin_end": 49,
            "count": 5
           },
           {
            "bin_start": 49,
            "bin_end": 60,
            "count": 8
           },
           {
            "bin_start": 60,
            "bin_end": 71,
            "count": 3
           },
           {
            "bin_start": 71,
            "bin_end": 82,
            "count": 6
           },
           {
            "bin_start": 82,
            "bin_end": 93,
            "count": 3
           },
           {
            "bin_start": 93,
            "bin_end": 104,
            "count": 6
           },
           {
            "bin_start": 104,
            "bin_end": 115,
            "count": 10
           }
          ]
         }
        },
        {
         "name": "county_name",
         "dtype": "object",
         "stats": {
          "unique_count": 33,
          "nan_count": 0,
          "categories": [
           {
            "name": "los angeles",
            "count": 5
           },
           {
            "name": "butte",
            "count": 3
           },
           {
            "name": "31 others",
            "count": 51
           }
          ]
         }
        },
        {
         "name": "state_name",
         "dtype": "object",
         "stats": {
          "unique_count": 1,
          "nan_count": 0,
          "categories": [
           {
            "name": "california",
            "count": 59
           }
          ]
         }
        },
        {
         "name": "_deepnote_index_column",
         "dtype": "int64"
        }
       ],
       "rows": [
        {
         "year": 2015,
         "chemical": 0,
         "coastal_storm": 0,
         "dam_levee_break": 0,
         "earthquake": 0,
         "fire": 1,
         "flood": 0,
         "hurricane": 0,
         "mud_landslide": 0,
         "severe_ice_storm": 0,
         "severe_storm": 0,
         "snow": 0,
         "tornado": 0,
         "toxic_substances": 0,
         "typhoon": 0,
         "volcano": 0,
         "state": 6,
         "county": 5,
         "county_name": "amador",
         "state_name": "california",
         "_deepnote_index_column": 389
        },
        {
         "year": 2017,
         "chemical": 0,
         "coastal_storm": 0,
         "dam_levee_break": 1,
         "earthquake": 0,
         "fire": 1,
         "flood": 1,
         "hurricane": 0,
         "mud_landslide": 0,
         "severe_ice_storm": 0,
         "severe_storm": 1,
         "snow": 0,
         "tornado": 0,
         "toxic_substances": 0,
         "typhoon": 0,
         "volcano": 0,
         "state": 6,
         "county": 7,
         "county_name": "butte",
         "state_name": "california",
         "_deepnote_index_column": 392
        },
        {
         "year": 2018,
         "chemical": 0,
         "coastal_storm": 0,
         "dam_levee_break": 0,
         "earthquake": 0,
         "fire": 3,
         "flood": 0,
         "hurricane": 0,
         "mud_landslide": 0,
         "severe_ice_storm": 0,
         "severe_storm": 0,
         "snow": 0,
         "tornado": 0,
         "toxic_substances": 0,
         "typhoon": 0,
         "volcano": 0,
         "state": 6,
         "county": 7,
         "county_name": "butte",
         "state_name": "california",
         "_deepnote_index_column": 393
        },
        {
         "year": 2019,
         "chemical": 0,
         "coastal_storm": 0,
         "dam_levee_break": 0,
         "earthquake": 0,
         "fire": 3,
         "flood": 0,
         "hurricane": 0,
         "mud_landslide": 0,
         "severe_ice_storm": 0,
         "severe_storm": 1,
         "snow": 0,
         "tornado": 0,
         "toxic_substances": 0,
         "typhoon": 0,
         "volcano": 0,
         "state": 6,
         "county": 7,
         "county_name": "butte",
         "state_name": "california",
         "_deepnote_index_column": 394
        },
        {
         "year": 2015,
         "chemical": 0,
         "coastal_storm": 0,
         "dam_levee_break": 0,
         "earthquake": 0,
         "fire": 2,
         "flood": 0,
         "hurricane": 0,
         "mud_landslide": 0,
         "severe_ice_storm": 0,
         "severe_storm": 0,
         "snow": 0,
         "tornado": 0,
         "toxic_substances": 0,
         "typhoon": 0,
         "volcano": 0,
         "state": 6,
         "county": 9,
         "county_name": "calaveras",
         "state_name": "california",
         "_deepnote_index_column": 395
        },
        {
         "year": 2014,
         "chemical": 0,
         "coastal_storm": 0,
         "dam_levee_break": 0,
         "earthquake": 0,
         "fire": 1,
         "flood": 0,
         "hurricane": 0,
         "mud_landslide": 0,
         "severe_ice_storm": 0,
         "severe_storm": 0,
         "snow": 0,
         "tornado": 0,
         "toxic_substances": 0,
         "typhoon": 0,
         "volcano": 0,
         "state": 6,
         "county": 17,
         "county_name": "el dorado",
         "state_name": "california",
         "_deepnote_index_column": 403
        },
        {
         "year": 2016,
         "chemical": 0,
         "coastal_storm": 0,
         "dam_levee_break": 0,
         "earthquake": 0,
         "fire": 1,
         "flood": 0,
         "hurricane": 0,
         "mud_landslide": 0,
         "severe_ice_storm": 0,
         "severe_storm": 0,
         "snow": 0,
         "tornado": 0,
         "toxic_substances": 0,
         "typhoon": 0,
         "volcano": 0,
         "state": 6,
         "county": 19,
         "county_name": "fresno",
         "state_name": "california",
         "_deepnote_index_column": 406
        },
        {
         "year": 2014,
         "chemical": 0,
         "coastal_storm": 0,
         "dam_levee_break": 0,
         "earthquake": 0,
         "fire": 1,
         "flood": 0,
         "hurricane": 0,
         "mud_landslide": 0,
         "severe_ice_storm": 0,
         "severe_storm": 0,
         "snow": 0,
         "tornado": 0,
         "toxic_substances": 0,
         "typhoon": 0,
         "volcano": 0,
         "state": 6,
         "county": 29,
         "county_name": "kern",
         "state_name": "california",
         "_deepnote_index_column": 412
        },
        {
         "year": 2016,
         "chemical": 0,
         "coastal_storm": 0,
         "dam_levee_break": 0,
         "earthquake": 0,
         "fire": 2,
         "flood": 0,
         "hurricane": 0,
         "mud_landslide": 0,
         "severe_ice_storm": 0,
         "severe_storm": 0,
         "snow": 0,
         "tornado": 0,
         "toxic_substances": 0,
         "typhoon": 0,
         "volcano": 0,
         "state": 6,
         "county": 29,
         "county_name": "kern",
         "state_name": "california",
         "_deepnote_index_column": 413
        },
        {
         "year": 2015,
         "chemical": 0,
         "coastal_storm": 0,
         "dam_levee_break": 0,
         "earthquake": 0,
         "fire": 3,
         "flood": 0,
         "hurricane": 0,
         "mud_landslide": 0,
         "severe_ice_storm": 0,
         "severe_storm": 0,
         "snow": 0,
         "tornado": 0,
         "toxic_substances": 0,
         "typhoon": 0,
         "volcano": 0,
         "state": 6,
         "county": 33,
         "county_name": "lake",
         "state_name": "california",
         "_deepnote_index_column": 417
        }
       ]
      },
      "text/plain": "     year  chemical  coastal_storm  dam_levee_break  earthquake  fire  flood  \\\n389  2015         0              0                0           0     1      0   \n392  2017         0              0                1           0     1      1   \n393  2018         0              0                0           0     3      0   \n394  2019         0              0                0           0     3      0   \n395  2015         0              0                0           0     2      0   \n403  2014         0              0                0           0     1      0   \n406  2016         0              0                0           0     1      0   \n412  2014         0              0                0           0     1      0   \n413  2016         0              0                0           0     2      0   \n417  2015         0              0                0           0     3      0   \n418  2016         0              0                0           0     1      0   \n420  2018         0              0                0           0     5      0   \n422  2014         0              0                0           0     1      0   \n424  2014         0              0                0           0     1      0   \n425  2016         0              0                0           0     4      0   \n426  2017         0              0                0           0     1      1   \n427  2018         0              0                0           0     5      0   \n428  2019         0              0                0           0     3      0   \n429  2014         0              0                0           0     2      0   \n430  2017         0              0                0           0     2      0   \n433  2014         0              0                0           0     1      0   \n434  2017         0              0                0           0     2      1   \n437  2018         0              0                0           0     3      0   \n440  2014         0              0                0           0     1      0   \n444  2016         0              0                0           0     1      0   \n447  2014         0              0                0           1     1      0   \n448  2015         0              0                0           0     2      0   \n450  2018         0              0                0           0     4      0   \n453  2018         0              0                0           0     2      0   \n454  2017         0              0                0           0     1      1   \n455  2018         0              0                0           0     2      0   \n456  2015         0              0                0           0     1      0   \n459  2017         0              0                0           0     1      1   \n460  2018         0              0                0           0     4      0   \n464  2015         0              0                0           0     1      0   \n465  2016         0              0                0           0     2      0   \n467  2014         0              0                0           0     2      0   \n468  2016         0              0                0           0     1      0   \n470  2018         0              0                0           0     4      0   \n472  2016         0              0                0           0     1      0   \n476  2018         0              0                0           0     4      0   \n480  2014         0              0                0           0     2      0   \n482  2018         0              0                0           0     4      0   \n485  2014         0              0                0           0     2      0   \n487  2018         0              0                0           0     1      0   \n489  2015         0              0                0           0     1      0   \n491  2018         0              0                0           0     2      0   \n492  2015         0              0                0           0     1      0   \n494  2018         0              0                0           0     4      0   \n500  2014         0              0                0           0     1      0   \n501  2017         0              0                0           0     1      2   \n502  2018         0              0                0           0     1      0   \n504  2016         0              0                0           0     1      0   \n505  2017         0              0                0           0     1      0   \n506  2014         0              0                0           0     1      0   \n509  2018         0              0                0           0     3      0   \n510  2019         0              0                0           0     4      0   \n511  2015         0              0                0           0     1      0   \n515  2018         0              0                0           0     2      0   \n\n     hurricane  mud_landslide  severe_ice_storm  severe_storm  snow  tornado  \\\n389          0              0                 0             0     0        0   \n392          0              0                 0             1     0        0   \n393          0              0                 0             0     0        0   \n394          0              0                 0             1     0        0   \n395          0              0                 0             0     0        0   \n403          0              0                 0             0     0        0   \n406          0              0                 0             0     0        0   \n412          0              0                 0             0     0        0   \n413          0              0                 0             0     0        0   \n417          0              0                 0             0     0        0   \n418          0              0                 0             0     0        0   \n420          0              0                 0             0     0        0   \n422          0              0                 0             0     0        0   \n424          0              0                 0             0     0        0   \n425          0              0                 0             0     0        0   \n426          0              0                 0             0     0        0   \n427          0              0                 0             0     0        0   \n428          0              0                 0             0     0        0   \n429          0              0                 0             0     0        0   \n430          0              0                 0             0     0        0   \n433          0              0                 0             0     0        0   \n434          0              0                 0             0     0        0   \n437          0              0                 0             0     0        0   \n440          0              0                 0             0     0        0   \n444          0              0                 0             0     0        0   \n447          0              0                 0             0     0        0   \n448          0              0                 0             0     0        0   \n450          0              0                 0             0     0        0   \n453          0              0                 0             0     0        0   \n454          0              0                 0             0     0        0   \n455          0              0                 0             0     0        0   \n456          0              0                 0             0     0        0   \n459          0              0                 0             0     0        0   \n460          0              0                 0             0     0        0   \n464          0              0                 0             0     0        0   \n465          0              0                 0             0     0        0   \n467          0              0                 0             0     0        0   \n468          0              0                 0             0     0        0   \n470          0              0                 0             0     0        0   \n472          0              0                 0             0     0        0   \n476          0              0                 0             0     0        0   \n480          0              0                 0             0     0        0   \n482          0              0                 0             0     0        0   \n485          0              0                 0             0     0        0   \n487          0              0                 0             0     0        0   \n489          0              0                 0             0     0        0   \n491          0              0                 0             0     0        0   \n492          0              0                 0             0     0        0   \n494          0              0                 0             0     0        0   \n500          0              0                 0             0     0        0   \n501          0              0                 0             1     0        0   \n502          0              0                 0             0     0        0   \n504          0              0                 0             0     0        0   \n505          0              0                 0             0     0        0   \n506          0              0                 0             0     0        0   \n509          0              0                 0             0     0        0   \n510          0              0                 0             0     0        0   \n511          0              0                 0             0     0        0   \n515          0              0                 0             0     0        0   \n\n     toxic_substances  typhoon  volcano  state  county      county_name  \\\n389                 0        0        0    6.0     5.0           amador   \n392                 0        0        0    6.0     7.0            butte   \n393                 0        0        0    6.0     7.0            butte   \n394                 0        0        0    6.0     7.0            butte   \n395                 0        0        0    6.0     9.0        calaveras   \n403                 0        0        0    6.0    17.0        el dorado   \n406                 0        0        0    6.0    19.0           fresno   \n412                 0        0        0    6.0    29.0             kern   \n413                 0        0        0    6.0    29.0             kern   \n417                 0        0        0    6.0    33.0             lake   \n418                 0        0        0    6.0    33.0             lake   \n420                 0        0        0    6.0    33.0             lake   \n422                 0        0        0    6.0    35.0           lassen   \n424                 0        0        0    6.0    37.0      los angeles   \n425                 0        0        0    6.0    37.0      los angeles   \n426                 0        0        0    6.0    37.0      los angeles   \n427                 0        0        0    6.0    37.0      los angeles   \n428                 0        0        0    6.0    37.0      los angeles   \n429                 0        0        0    6.0    39.0           madera   \n430                 0        0        0    6.0    39.0           madera   \n433                 0        0        0    6.0    43.0         mariposa   \n434                 0        0        0    6.0    43.0         mariposa   \n437                 0        0        0    6.0    45.0        mendocino   \n440                 0        0        0    6.0    49.0            modoc   \n444                 0        0        0    6.0    53.0         monterey   \n447                 0        0        0    6.0    55.0             napa   \n448                 0        0        0    6.0    55.0             napa   \n450                 0        0        0    6.0    55.0             napa   \n453                 0        0        0    6.0    57.0           nevada   \n454                 0        0        0    6.0    59.0           orange   \n455                 0        0        0    6.0    59.0           orange   \n456                 0        0        0    6.0    61.0           placer   \n459                 0        0        0    6.0    65.0        riverside   \n460                 0        0        0    6.0    65.0        riverside   \n464                 0        0        0    6.0    71.0   san bernardino   \n465                 0        0        0    6.0    71.0   san bernardino   \n467                 0        0        0    6.0    73.0        san diego   \n468                 0        0        0    6.0    73.0        san diego   \n470                 0        0        0    6.0    73.0        san diego   \n472                 0        0        0    6.0    79.0  san luis obispo   \n476                 0        0        0    6.0    83.0    santa barbara   \n480                 0        0        0    6.0    89.0           shasta   \n482                 0        0        0    6.0    89.0           shasta   \n485                 0        0        0    6.0    93.0         siskiyou   \n487                 0        0        0    6.0    93.0         siskiyou   \n489                 0        0        0    6.0    95.0           solano   \n491                 0        0        0    6.0    95.0           solano   \n492                 0        0        0    6.0    97.0           sonoma   \n494                 0        0        0    6.0    97.0           sonoma   \n500                 0        0        0    6.0   105.0          trinity   \n501                 0        0        0    6.0   105.0          trinity   \n502                 0        0        0    6.0   105.0          trinity   \n504                 0        0        0    6.0   107.0           tulare   \n505                 0        0        0    6.0   107.0           tulare   \n506                 0        0        0    6.0   109.0         tuolumne   \n509                 0        0        0    6.0   111.0          ventura   \n510                 0        0        0    6.0   111.0          ventura   \n511                 0        0        0    6.0   113.0             yolo   \n515                 0        0        0    6.0   115.0             yuba   \n\n     state_name  \n389  california  \n392  california  \n393  california  \n394  california  \n395  california  \n403  california  \n406  california  \n412  california  \n413  california  \n417  california  \n418  california  \n420  california  \n422  california  \n424  california  \n425  california  \n426  california  \n427  california  \n428  california  \n429  california  \n430  california  \n433  california  \n434  california  \n437  california  \n440  california  \n444  california  \n447  california  \n448  california  \n450  california  \n453  california  \n454  california  \n455  california  \n456  california  \n459  california  \n460  california  \n464  california  \n465  california  \n467  california  \n468  california  \n470  california  \n472  california  \n476  california  \n480  california  \n482  california  \n485  california  \n487  california  \n489  california  \n491  california  \n492  california  \n494  california  \n500  california  \n501  california  \n502  california  \n504  california  \n505  california  \n506  california  \n509  california  \n510  california  \n511  california  \n515  california  ",
      "text/html": "<div>\n<style scoped>\n    .dataframe tbody tr th:only-of-type {\n        vertical-align: middle;\n    }\n\n    .dataframe tbody tr th {\n        vertical-align: top;\n    }\n\n    .dataframe thead th {\n        text-align: right;\n    }\n</style>\n<table border=\"1\" class=\"dataframe\">\n  <thead>\n    <tr style=\"text-align: right;\">\n      <th></th>\n      <th>year</th>\n      <th>chemical</th>\n      <th>coastal_storm</th>\n      <th>dam_levee_break</th>\n      <th>earthquake</th>\n      <th>fire</th>\n      <th>flood</th>\n      <th>hurricane</th>\n      <th>mud_landslide</th>\n      <th>severe_ice_storm</th>\n      <th>severe_storm</th>\n      <th>snow</th>\n      <th>tornado</th>\n      <th>toxic_substances</th>\n      <th>typhoon</th>\n      <th>volcano</th>\n      <th>state</th>\n      <th>county</th>\n      <th>county_name</th>\n      <th>state_name</th>\n    </tr>\n  </thead>\n  <tbody>\n    <tr>\n      <th>389</th>\n      <td>2015</td>\n      <td>0</td>\n      <td>0</td>\n      <td>0</td>\n      <td>0</td>\n      <td>1</td>\n      <td>0</td>\n      <td>0</td>\n      <td>0</td>\n      <td>0</td>\n      <td>0</td>\n      <td>0</td>\n      <td>0</td>\n      <td>0</td>\n      <td>0</td>\n      <td>0</td>\n      <td>6.0</td>\n      <td>5.0</td>\n      <td>amador</td>\n      <td>california</td>\n    </tr>\n    <tr>\n      <th>392</th>\n      <td>2017</td>\n      <td>0</td>\n      <td>0</td>\n      <td>1</td>\n      <td>0</td>\n      <td>1</td>\n      <td>1</td>\n      <td>0</td>\n      <td>0</td>\n      <td>0</td>\n      <td>1</td>\n      <td>0</td>\n      <td>0</td>\n      <td>0</td>\n      <td>0</td>\n      <td>0</td>\n      <td>6.0</td>\n      <td>7.0</td>\n      <td>butte</td>\n      <td>california</td>\n    </tr>\n    <tr>\n      <th>393</th>\n      <td>2018</td>\n      <td>0</td>\n      <td>0</td>\n      <td>0</td>\n      <td>0</td>\n      <td>3</td>\n      <td>0</td>\n      <td>0</td>\n      <td>0</td>\n      <td>0</td>\n      <td>0</td>\n      <td>0</td>\n      <td>0</td>\n      <td>0</td>\n      <td>0</td>\n      <td>0</td>\n      <td>6.0</td>\n      <td>7.0</td>\n      <td>butte</td>\n      <td>california</td>\n    </tr>\n    <tr>\n      <th>394</th>\n      <td>2019</td>\n      <td>0</td>\n      <td>0</td>\n      <td>0</td>\n      <td>0</td>\n      <td>3</td>\n      <td>0</td>\n      <td>0</td>\n      <td>0</td>\n      <td>0</td>\n      <td>1</td>\n      <td>0</td>\n      <td>0</td>\n      <td>0</td>\n      <td>0</td>\n      <td>0</td>\n      <td>6.0</td>\n      <td>7.0</td>\n      <td>butte</td>\n      <td>california</td>\n    </tr>\n    <tr>\n      <th>395</th>\n      <td>2015</td>\n      <td>0</td>\n      <td>0</td>\n      <td>0</td>\n      <td>0</td>\n      <td>2</td>\n      <td>0</td>\n      <td>0</td>\n      <td>0</td>\n      <td>0</td>\n      <td>0</td>\n      <td>0</td>\n      <td>0</td>\n      <td>0</td>\n      <td>0</td>\n      <td>0</td>\n      <td>6.0</td>\n      <td>9.0</td>\n      <td>calaveras</td>\n      <td>california</td>\n    </tr>\n    <tr>\n      <th>403</th>\n      <td>2014</td>\n      <td>0</td>\n      <td>0</td>\n      <td>0</td>\n      <td>0</td>\n      <td>1</td>\n      <td>0</td>\n      <td>0</td>\n      <td>0</td>\n      <td>0</td>\n      <td>0</td>\n      <td>0</td>\n      <td>0</td>\n      <td>0</td>\n      <td>0</td>\n      <td>0</td>\n      <td>6.0</td>\n      <td>17.0</td>\n      <td>el dorado</td>\n      <td>california</td>\n    </tr>\n    <tr>\n      <th>406</th>\n      <td>2016</td>\n      <td>0</td>\n      <td>0</td>\n      <td>0</td>\n      <td>0</td>\n      <td>1</td>\n      <td>0</td>\n      <td>0</td>\n      <td>0</td>\n      <td>0</td>\n      <td>0</td>\n      <td>0</td>\n      <td>0</td>\n      <td>0</td>\n      <td>0</td>\n      <td>0</td>\n      <td>6.0</td>\n      <td>19.0</td>\n      <td>fresno</td>\n      <td>california</td>\n    </tr>\n    <tr>\n      <th>412</th>\n      <td>2014</td>\n      <td>0</td>\n      <td>0</td>\n      <td>0</td>\n      <td>0</td>\n      <td>1</td>\n      <td>0</td>\n      <td>0</td>\n      <td>0</td>\n      <td>0</td>\n      <td>0</td>\n      <td>0</td>\n      <td>0</td>\n      <td>0</td>\n      <td>0</td>\n      <td>0</td>\n      <td>6.0</td>\n      <td>29.0</td>\n      <td>kern</td>\n      <td>california</td>\n    </tr>\n    <tr>\n      <th>413</th>\n      <td>2016</td>\n      <td>0</td>\n      <td>0</td>\n      <td>0</td>\n      <td>0</td>\n      <td>2</td>\n      <td>0</td>\n      <td>0</td>\n      <td>0</td>\n      <td>0</td>\n      <td>0</td>\n      <td>0</td>\n      <td>0</td>\n      <td>0</td>\n      <td>0</td>\n      <td>0</td>\n      <td>6.0</td>\n      <td>29.0</td>\n      <td>kern</td>\n      <td>california</td>\n    </tr>\n    <tr>\n      <th>417</th>\n      <td>2015</td>\n      <td>0</td>\n      <td>0</td>\n      <td>0</td>\n      <td>0</td>\n      <td>3</td>\n      <td>0</td>\n      <td>0</td>\n      <td>0</td>\n      <td>0</td>\n      <td>0</td>\n      <td>0</td>\n      <td>0</td>\n      <td>0</td>\n      <td>0</td>\n      <td>0</td>\n      <td>6.0</td>\n      <td>33.0</td>\n      <td>lake</td>\n      <td>california</td>\n    </tr>\n    <tr>\n      <th>418</th>\n      <td>2016</td>\n      <td>0</td>\n      <td>0</td>\n      <td>0</td>\n      <td>0</td>\n      <td>1</td>\n      <td>0</td>\n      <td>0</td>\n      <td>0</td>\n      <td>0</td>\n      <td>0</td>\n      <td>0</td>\n      <td>0</td>\n      <td>0</td>\n      <td>0</td>\n      <td>0</td>\n      <td>6.0</td>\n      <td>33.0</td>\n      <td>lake</td>\n      <td>california</td>\n    </tr>\n    <tr>\n      <th>420</th>\n      <td>2018</td>\n      <td>0</td>\n      <td>0</td>\n      <td>0</td>\n      <td>0</td>\n      <td>5</td>\n      <td>0</td>\n      <td>0</td>\n      <td>0</td>\n      <td>0</td>\n      <td>0</td>\n      <td>0</td>\n      <td>0</td>\n      <td>0</td>\n      <td>0</td>\n      <td>0</td>\n      <td>6.0</td>\n      <td>33.0</td>\n      <td>lake</td>\n      <td>california</td>\n    </tr>\n    <tr>\n      <th>422</th>\n      <td>2014</td>\n      <td>0</td>\n      <td>0</td>\n      <td>0</td>\n      <td>0</td>\n      <td>1</td>\n      <td>0</td>\n      <td>0</td>\n      <td>0</td>\n      <td>0</td>\n      <td>0</td>\n      <td>0</td>\n      <td>0</td>\n      <td>0</td>\n      <td>0</td>\n      <td>0</td>\n      <td>6.0</td>\n      <td>35.0</td>\n      <td>lassen</td>\n      <td>california</td>\n    </tr>\n    <tr>\n      <th>424</th>\n      <td>2014</td>\n      <td>0</td>\n      <td>0</td>\n      <td>0</td>\n      <td>0</td>\n      <td>1</td>\n      <td>0</td>\n      <td>0</td>\n      <td>0</td>\n      <td>0</td>\n      <td>0</td>\n      <td>0</td>\n      <td>0</td>\n      <td>0</td>\n      <td>0</td>\n      <td>0</td>\n      <td>6.0</td>\n      <td>37.0</td>\n      <td>los angeles</td>\n      <td>california</td>\n    </tr>\n    <tr>\n      <th>425</th>\n      <td>2016</td>\n      <td>0</td>\n      <td>0</td>\n      <td>0</td>\n      <td>0</td>\n      <td>4</td>\n      <td>0</td>\n      <td>0</td>\n      <td>0</td>\n      <td>0</td>\n      <td>0</td>\n      <td>0</td>\n      <td>0</td>\n      <td>0</td>\n      <td>0</td>\n      <td>0</td>\n      <td>6.0</td>\n      <td>37.0</td>\n      <td>los angeles</td>\n      <td>california</td>\n    </tr>\n    <tr>\n      <th>426</th>\n      <td>2017</td>\n      <td>0</td>\n      <td>0</td>\n      <td>0</td>\n      <td>0</td>\n      <td>1</td>\n      <td>1</td>\n      <td>0</td>\n      <td>0</td>\n      <td>0</td>\n      <td>0</td>\n      <td>0</td>\n      <td>0</td>\n      <td>0</td>\n      <td>0</td>\n      <td>0</td>\n      <td>6.0</td>\n      <td>37.0</td>\n      <td>los angeles</td>\n      <td>california</td>\n    </tr>\n    <tr>\n      <th>427</th>\n      <td>2018</td>\n      <td>0</td>\n      <td>0</td>\n      <td>0</td>\n      <td>0</td>\n      <td>5</td>\n      <td>0</td>\n      <td>0</td>\n      <td>0</td>\n      <td>0</td>\n      <td>0</td>\n      <td>0</td>\n      <td>0</td>\n      <td>0</td>\n      <td>0</td>\n      <td>0</td>\n      <td>6.0</td>\n      <td>37.0</td>\n      <td>los angeles</td>\n      <td>california</td>\n    </tr>\n    <tr>\n      <th>428</th>\n      <td>2019</td>\n      <td>0</td>\n      <td>0</td>\n      <td>0</td>\n      <td>0</td>\n      <td>3</td>\n      <td>0</td>\n      <td>0</td>\n      <td>0</td>\n      <td>0</td>\n      <td>0</td>\n      <td>0</td>\n      <td>0</td>\n      <td>0</td>\n      <td>0</td>\n      <td>0</td>\n      <td>6.0</td>\n      <td>37.0</td>\n      <td>los angeles</td>\n      <td>california</td>\n    </tr>\n    <tr>\n      <th>429</th>\n      <td>2014</td>\n      <td>0</td>\n      <td>0</td>\n      <td>0</td>\n      <td>0</td>\n      <td>2</td>\n      <td>0</td>\n      <td>0</td>\n      <td>0</td>\n      <td>0</td>\n      <td>0</td>\n      <td>0</td>\n      <td>0</td>\n      <td>0</td>\n      <td>0</td>\n      <td>0</td>\n      <td>6.0</td>\n      <td>39.0</td>\n      <td>madera</td>\n      <td>california</td>\n    </tr>\n    <tr>\n      <th>430</th>\n      <td>2017</td>\n      <td>0</td>\n      <td>0</td>\n      <td>0</td>\n      <td>0</td>\n      <td>2</td>\n      <td>0</td>\n      <td>0</td>\n      <td>0</td>\n      <td>0</td>\n      <td>0</td>\n      <td>0</td>\n      <td>0</td>\n      <td>0</td>\n      <td>0</td>\n      <td>0</td>\n      <td>6.0</td>\n      <td>39.0</td>\n      <td>madera</td>\n      <td>california</td>\n    </tr>\n    <tr>\n      <th>433</th>\n      <td>2014</td>\n      <td>0</td>\n      <td>0</td>\n      <td>0</td>\n      <td>0</td>\n      <td>1</td>\n      <td>0</td>\n      <td>0</td>\n      <td>0</td>\n      <td>0</td>\n      <td>0</td>\n      <td>0</td>\n      <td>0</td>\n      <td>0</td>\n      <td>0</td>\n      <td>0</td>\n      <td>6.0</td>\n      <td>43.0</td>\n      <td>mariposa</td>\n      <td>california</td>\n    </tr>\n    <tr>\n      <th>434</th>\n      <td>2017</td>\n      <td>0</td>\n      <td>0</td>\n      <td>0</td>\n      <td>0</td>\n      <td>2</td>\n      <td>1</td>\n      <td>0</td>\n      <td>0</td>\n      <td>0</td>\n      <td>0</td>\n      <td>0</td>\n      <td>0</td>\n      <td>0</td>\n      <td>0</td>\n      <td>0</td>\n      <td>6.0</td>\n      <td>43.0</td>\n      <td>mariposa</td>\n      <td>california</td>\n    </tr>\n    <tr>\n      <th>437</th>\n      <td>2018</td>\n      <td>0</td>\n      <td>0</td>\n      <td>0</td>\n      <td>0</td>\n      <td>3</td>\n      <td>0</td>\n      <td>0</td>\n      <td>0</td>\n      <td>0</td>\n      <td>0</td>\n      <td>0</td>\n      <td>0</td>\n      <td>0</td>\n      <td>0</td>\n      <td>0</td>\n      <td>6.0</td>\n      <td>45.0</td>\n      <td>mendocino</td>\n      <td>california</td>\n    </tr>\n    <tr>\n      <th>440</th>\n      <td>2014</td>\n      <td>0</td>\n      <td>0</td>\n      <td>0</td>\n      <td>0</td>\n      <td>1</td>\n      <td>0</td>\n      <td>0</td>\n      <td>0</td>\n      <td>0</td>\n      <td>0</td>\n      <td>0</td>\n      <td>0</td>\n      <td>0</td>\n      <td>0</td>\n      <td>0</td>\n      <td>6.0</td>\n      <td>49.0</td>\n      <td>modoc</td>\n      <td>california</td>\n    </tr>\n    <tr>\n      <th>444</th>\n      <td>2016</td>\n      <td>0</td>\n      <td>0</td>\n      <td>0</td>\n      <td>0</td>\n      <td>1</td>\n      <td>0</td>\n      <td>0</td>\n      <td>0</td>\n      <td>0</td>\n      <td>0</td>\n      <td>0</td>\n      <td>0</td>\n      <td>0</td>\n      <td>0</td>\n      <td>0</td>\n      <td>6.0</td>\n      <td>53.0</td>\n      <td>monterey</td>\n      <td>california</td>\n    </tr>\n    <tr>\n      <th>447</th>\n      <td>2014</td>\n      <td>0</td>\n      <td>0</td>\n      <td>0</td>\n      <td>1</td>\n      <td>1</td>\n      <td>0</td>\n      <td>0</td>\n      <td>0</td>\n      <td>0</td>\n      <td>0</td>\n      <td>0</td>\n      <td>0</td>\n      <td>0</td>\n      <td>0</td>\n      <td>0</td>\n      <td>6.0</td>\n      <td>55.0</td>\n      <td>napa</td>\n      <td>california</td>\n    </tr>\n    <tr>\n      <th>448</th>\n      <td>2015</td>\n      <td>0</td>\n      <td>0</td>\n      <td>0</td>\n      <td>0</td>\n      <td>2</td>\n      <td>0</td>\n      <td>0</td>\n      <td>0</td>\n      <td>0</td>\n      <td>0</td>\n      <td>0</td>\n      <td>0</td>\n      <td>0</td>\n      <td>0</td>\n      <td>0</td>\n      <td>6.0</td>\n      <td>55.0</td>\n      <td>napa</td>\n      <td>california</td>\n    </tr>\n    <tr>\n      <th>450</th>\n      <td>2018</td>\n      <td>0</td>\n      <td>0</td>\n      <td>0</td>\n      <td>0</td>\n      <td>4</td>\n      <td>0</td>\n      <td>0</td>\n      <td>0</td>\n      <td>0</td>\n      <td>0</td>\n      <td>0</td>\n      <td>0</td>\n      <td>0</td>\n      <td>0</td>\n      <td>0</td>\n      <td>6.0</td>\n      <td>55.0</td>\n      <td>napa</td>\n      <td>california</td>\n    </tr>\n    <tr>\n      <th>453</th>\n      <td>2018</td>\n      <td>0</td>\n      <td>0</td>\n      <td>0</td>\n      <td>0</td>\n      <td>2</td>\n      <td>0</td>\n      <td>0</td>\n      <td>0</td>\n      <td>0</td>\n      <td>0</td>\n      <td>0</td>\n      <td>0</td>\n      <td>0</td>\n      <td>0</td>\n      <td>0</td>\n      <td>6.0</td>\n      <td>57.0</td>\n      <td>nevada</td>\n      <td>california</td>\n    </tr>\n    <tr>\n      <th>454</th>\n      <td>2017</td>\n      <td>0</td>\n      <td>0</td>\n      <td>0</td>\n      <td>0</td>\n      <td>1</td>\n      <td>1</td>\n      <td>0</td>\n      <td>0</td>\n      <td>0</td>\n      <td>0</td>\n      <td>0</td>\n      <td>0</td>\n      <td>0</td>\n      <td>0</td>\n      <td>0</td>\n      <td>6.0</td>\n      <td>59.0</td>\n      <td>orange</td>\n      <td>california</td>\n    </tr>\n    <tr>\n      <th>455</th>\n      <td>2018</td>\n      <td>0</td>\n      <td>0</td>\n      <td>0</td>\n      <td>0</td>\n      <td>2</td>\n      <td>0</td>\n      <td>0</td>\n      <td>0</td>\n      <td>0</td>\n      <td>0</td>\n      <td>0</td>\n      <td>0</td>\n      <td>0</td>\n      <td>0</td>\n      <td>0</td>\n      <td>6.0</td>\n      <td>59.0</td>\n      <td>orange</td>\n      <td>california</td>\n    </tr>\n    <tr>\n      <th>456</th>\n      <td>2015</td>\n      <td>0</td>\n      <td>0</td>\n      <td>0</td>\n      <td>0</td>\n      <td>1</td>\n      <td>0</td>\n      <td>0</td>\n      <td>0</td>\n      <td>0</td>\n      <td>0</td>\n      <td>0</td>\n      <td>0</td>\n      <td>0</td>\n      <td>0</td>\n      <td>0</td>\n      <td>6.0</td>\n      <td>61.0</td>\n      <td>placer</td>\n      <td>california</td>\n    </tr>\n    <tr>\n      <th>459</th>\n      <td>2017</td>\n      <td>0</td>\n      <td>0</td>\n      <td>0</td>\n      <td>0</td>\n      <td>1</td>\n      <td>1</td>\n      <td>0</td>\n      <td>0</td>\n      <td>0</td>\n      <td>0</td>\n      <td>0</td>\n      <td>0</td>\n      <td>0</td>\n      <td>0</td>\n      <td>0</td>\n      <td>6.0</td>\n      <td>65.0</td>\n      <td>riverside</td>\n      <td>california</td>\n    </tr>\n    <tr>\n      <th>460</th>\n      <td>2018</td>\n      <td>0</td>\n      <td>0</td>\n      <td>0</td>\n      <td>0</td>\n      <td>4</td>\n      <td>0</td>\n      <td>0</td>\n      <td>0</td>\n      <td>0</td>\n      <td>0</td>\n      <td>0</td>\n      <td>0</td>\n      <td>0</td>\n      <td>0</td>\n      <td>0</td>\n      <td>6.0</td>\n      <td>65.0</td>\n      <td>riverside</td>\n      <td>california</td>\n    </tr>\n    <tr>\n      <th>464</th>\n      <td>2015</td>\n      <td>0</td>\n      <td>0</td>\n      <td>0</td>\n      <td>0</td>\n      <td>1</td>\n      <td>0</td>\n      <td>0</td>\n      <td>0</td>\n      <td>0</td>\n      <td>0</td>\n      <td>0</td>\n      <td>0</td>\n      <td>0</td>\n      <td>0</td>\n      <td>0</td>\n      <td>6.0</td>\n      <td>71.0</td>\n      <td>san bernardino</td>\n      <td>california</td>\n    </tr>\n    <tr>\n      <th>465</th>\n      <td>2016</td>\n      <td>0</td>\n      <td>0</td>\n      <td>0</td>\n      <td>0</td>\n      <td>2</td>\n      <td>0</td>\n      <td>0</td>\n      <td>0</td>\n      <td>0</td>\n      <td>0</td>\n      <td>0</td>\n      <td>0</td>\n      <td>0</td>\n      <td>0</td>\n      <td>0</td>\n      <td>6.0</td>\n      <td>71.0</td>\n      <td>san bernardino</td>\n      <td>california</td>\n    </tr>\n    <tr>\n      <th>467</th>\n      <td>2014</td>\n      <td>0</td>\n      <td>0</td>\n      <td>0</td>\n      <td>0</td>\n      <td>2</td>\n      <td>0</td>\n      <td>0</td>\n      <td>0</td>\n      <td>0</td>\n      <td>0</td>\n      <td>0</td>\n      <td>0</td>\n      <td>0</td>\n      <td>0</td>\n      <td>0</td>\n      <td>6.0</td>\n      <td>73.0</td>\n      <td>san diego</td>\n      <td>california</td>\n    </tr>\n    <tr>\n      <th>468</th>\n      <td>2016</td>\n      <td>0</td>\n      <td>0</td>\n      <td>0</td>\n      <td>0</td>\n      <td>1</td>\n      <td>0</td>\n      <td>0</td>\n      <td>0</td>\n      <td>0</td>\n      <td>0</td>\n      <td>0</td>\n      <td>0</td>\n      <td>0</td>\n      <td>0</td>\n      <td>0</td>\n      <td>6.0</td>\n      <td>73.0</td>\n      <td>san diego</td>\n      <td>california</td>\n    </tr>\n    <tr>\n      <th>470</th>\n      <td>2018</td>\n      <td>0</td>\n      <td>0</td>\n      <td>0</td>\n      <td>0</td>\n      <td>4</td>\n      <td>0</td>\n      <td>0</td>\n      <td>0</td>\n      <td>0</td>\n      <td>0</td>\n      <td>0</td>\n      <td>0</td>\n      <td>0</td>\n      <td>0</td>\n      <td>0</td>\n      <td>6.0</td>\n      <td>73.0</td>\n      <td>san diego</td>\n      <td>california</td>\n    </tr>\n    <tr>\n      <th>472</th>\n      <td>2016</td>\n      <td>0</td>\n      <td>0</td>\n      <td>0</td>\n      <td>0</td>\n      <td>1</td>\n      <td>0</td>\n      <td>0</td>\n      <td>0</td>\n      <td>0</td>\n      <td>0</td>\n      <td>0</td>\n      <td>0</td>\n      <td>0</td>\n      <td>0</td>\n      <td>0</td>\n      <td>6.0</td>\n      <td>79.0</td>\n      <td>san luis obispo</td>\n      <td>california</td>\n    </tr>\n    <tr>\n      <th>476</th>\n      <td>2018</td>\n      <td>0</td>\n      <td>0</td>\n      <td>0</td>\n      <td>0</td>\n      <td>4</td>\n      <td>0</td>\n      <td>0</td>\n      <td>0</td>\n      <td>0</td>\n      <td>0</td>\n      <td>0</td>\n      <td>0</td>\n      <td>0</td>\n      <td>0</td>\n      <td>0</td>\n      <td>6.0</td>\n      <td>83.0</td>\n      <td>santa barbara</td>\n      <td>california</td>\n    </tr>\n    <tr>\n      <th>480</th>\n      <td>2014</td>\n      <td>0</td>\n      <td>0</td>\n      <td>0</td>\n      <td>0</td>\n      <td>2</td>\n      <td>0</td>\n      <td>0</td>\n      <td>0</td>\n      <td>0</td>\n      <td>0</td>\n      <td>0</td>\n      <td>0</td>\n      <td>0</td>\n      <td>0</td>\n      <td>0</td>\n      <td>6.0</td>\n      <td>89.0</td>\n      <td>shasta</td>\n      <td>california</td>\n    </tr>\n    <tr>\n      <th>482</th>\n      <td>2018</td>\n      <td>0</td>\n      <td>0</td>\n      <td>0</td>\n      <td>0</td>\n      <td>4</td>\n      <td>0</td>\n      <td>0</td>\n      <td>0</td>\n      <td>0</td>\n      <td>0</td>\n      <td>0</td>\n      <td>0</td>\n      <td>0</td>\n      <td>0</td>\n      <td>0</td>\n      <td>6.0</td>\n      <td>89.0</td>\n      <td>shasta</td>\n      <td>california</td>\n    </tr>\n    <tr>\n      <th>485</th>\n      <td>2014</td>\n      <td>0</td>\n      <td>0</td>\n      <td>0</td>\n      <td>0</td>\n      <td>2</td>\n      <td>0</td>\n      <td>0</td>\n      <td>0</td>\n      <td>0</td>\n      <td>0</td>\n      <td>0</td>\n      <td>0</td>\n      <td>0</td>\n      <td>0</td>\n      <td>0</td>\n      <td>6.0</td>\n      <td>93.0</td>\n      <td>siskiyou</td>\n      <td>california</td>\n    </tr>\n    <tr>\n      <th>487</th>\n      <td>2018</td>\n      <td>0</td>\n      <td>0</td>\n      <td>0</td>\n      <td>0</td>\n      <td>1</td>\n      <td>0</td>\n      <td>0</td>\n      <td>0</td>\n      <td>0</td>\n      <td>0</td>\n      <td>0</td>\n      <td>0</td>\n      <td>0</td>\n      <td>0</td>\n      <td>0</td>\n      <td>6.0</td>\n      <td>93.0</td>\n      <td>siskiyou</td>\n      <td>california</td>\n    </tr>\n    <tr>\n      <th>489</th>\n      <td>2015</td>\n      <td>0</td>\n      <td>0</td>\n      <td>0</td>\n      <td>0</td>\n      <td>1</td>\n      <td>0</td>\n      <td>0</td>\n      <td>0</td>\n      <td>0</td>\n      <td>0</td>\n      <td>0</td>\n      <td>0</td>\n      <td>0</td>\n      <td>0</td>\n      <td>0</td>\n      <td>6.0</td>\n      <td>95.0</td>\n      <td>solano</td>\n      <td>california</td>\n    </tr>\n    <tr>\n      <th>491</th>\n      <td>2018</td>\n      <td>0</td>\n      <td>0</td>\n      <td>0</td>\n      <td>0</td>\n      <td>2</td>\n      <td>0</td>\n      <td>0</td>\n      <td>0</td>\n      <td>0</td>\n      <td>0</td>\n      <td>0</td>\n      <td>0</td>\n      <td>0</td>\n      <td>0</td>\n      <td>0</td>\n      <td>6.0</td>\n      <td>95.0</td>\n      <td>solano</td>\n      <td>california</td>\n    </tr>\n    <tr>\n      <th>492</th>\n      <td>2015</td>\n      <td>0</td>\n      <td>0</td>\n      <td>0</td>\n      <td>0</td>\n      <td>1</td>\n      <td>0</td>\n      <td>0</td>\n      <td>0</td>\n      <td>0</td>\n      <td>0</td>\n      <td>0</td>\n      <td>0</td>\n      <td>0</td>\n      <td>0</td>\n      <td>0</td>\n      <td>6.0</td>\n      <td>97.0</td>\n      <td>sonoma</td>\n      <td>california</td>\n    </tr>\n    <tr>\n      <th>494</th>\n      <td>2018</td>\n      <td>0</td>\n      <td>0</td>\n      <td>0</td>\n      <td>0</td>\n      <td>4</td>\n      <td>0</td>\n      <td>0</td>\n      <td>0</td>\n      <td>0</td>\n      <td>0</td>\n      <td>0</td>\n      <td>0</td>\n      <td>0</td>\n      <td>0</td>\n      <td>0</td>\n      <td>6.0</td>\n      <td>97.0</td>\n      <td>sonoma</td>\n      <td>california</td>\n    </tr>\n    <tr>\n      <th>500</th>\n      <td>2014</td>\n      <td>0</td>\n      <td>0</td>\n      <td>0</td>\n      <td>0</td>\n      <td>1</td>\n      <td>0</td>\n      <td>0</td>\n      <td>0</td>\n      <td>0</td>\n      <td>0</td>\n      <td>0</td>\n      <td>0</td>\n      <td>0</td>\n      <td>0</td>\n      <td>0</td>\n      <td>6.0</td>\n      <td>105.0</td>\n      <td>trinity</td>\n      <td>california</td>\n    </tr>\n    <tr>\n      <th>501</th>\n      <td>2017</td>\n      <td>0</td>\n      <td>0</td>\n      <td>0</td>\n      <td>0</td>\n      <td>1</td>\n      <td>2</td>\n      <td>0</td>\n      <td>0</td>\n      <td>0</td>\n      <td>1</td>\n      <td>0</td>\n      <td>0</td>\n      <td>0</td>\n      <td>0</td>\n      <td>0</td>\n      <td>6.0</td>\n      <td>105.0</td>\n      <td>trinity</td>\n      <td>california</td>\n    </tr>\n    <tr>\n      <th>502</th>\n      <td>2018</td>\n      <td>0</td>\n      <td>0</td>\n      <td>0</td>\n      <td>0</td>\n      <td>1</td>\n      <td>0</td>\n      <td>0</td>\n      <td>0</td>\n      <td>0</td>\n      <td>0</td>\n      <td>0</td>\n      <td>0</td>\n      <td>0</td>\n      <td>0</td>\n      <td>0</td>\n      <td>6.0</td>\n      <td>105.0</td>\n      <td>trinity</td>\n      <td>california</td>\n    </tr>\n    <tr>\n      <th>504</th>\n      <td>2016</td>\n      <td>0</td>\n      <td>0</td>\n      <td>0</td>\n      <td>0</td>\n      <td>1</td>\n      <td>0</td>\n      <td>0</td>\n      <td>0</td>\n      <td>0</td>\n      <td>0</td>\n      <td>0</td>\n      <td>0</td>\n      <td>0</td>\n      <td>0</td>\n      <td>0</td>\n      <td>6.0</td>\n      <td>107.0</td>\n      <td>tulare</td>\n      <td>california</td>\n    </tr>\n    <tr>\n      <th>505</th>\n      <td>2017</td>\n      <td>0</td>\n      <td>0</td>\n      <td>0</td>\n      <td>0</td>\n      <td>1</td>\n      <td>0</td>\n      <td>0</td>\n      <td>0</td>\n      <td>0</td>\n      <td>0</td>\n      <td>0</td>\n      <td>0</td>\n      <td>0</td>\n      <td>0</td>\n      <td>0</td>\n      <td>6.0</td>\n      <td>107.0</td>\n      <td>tulare</td>\n      <td>california</td>\n    </tr>\n    <tr>\n      <th>506</th>\n      <td>2014</td>\n      <td>0</td>\n      <td>0</td>\n      <td>0</td>\n      <td>0</td>\n      <td>1</td>\n      <td>0</td>\n      <td>0</td>\n      <td>0</td>\n      <td>0</td>\n      <td>0</td>\n      <td>0</td>\n      <td>0</td>\n      <td>0</td>\n      <td>0</td>\n      <td>0</td>\n      <td>6.0</td>\n      <td>109.0</td>\n      <td>tuolumne</td>\n      <td>california</td>\n    </tr>\n    <tr>\n      <th>509</th>\n      <td>2018</td>\n      <td>0</td>\n      <td>0</td>\n      <td>0</td>\n      <td>0</td>\n      <td>3</td>\n      <td>0</td>\n      <td>0</td>\n      <td>0</td>\n      <td>0</td>\n      <td>0</td>\n      <td>0</td>\n      <td>0</td>\n      <td>0</td>\n      <td>0</td>\n      <td>0</td>\n      <td>6.0</td>\n      <td>111.0</td>\n      <td>ventura</td>\n      <td>california</td>\n    </tr>\n    <tr>\n      <th>510</th>\n      <td>2019</td>\n      <td>0</td>\n      <td>0</td>\n      <td>0</td>\n      <td>0</td>\n      <td>4</td>\n      <td>0</td>\n      <td>0</td>\n      <td>0</td>\n      <td>0</td>\n      <td>0</td>\n      <td>0</td>\n      <td>0</td>\n      <td>0</td>\n      <td>0</td>\n      <td>0</td>\n      <td>6.0</td>\n      <td>111.0</td>\n      <td>ventura</td>\n      <td>california</td>\n    </tr>\n    <tr>\n      <th>511</th>\n      <td>2015</td>\n      <td>0</td>\n      <td>0</td>\n      <td>0</td>\n      <td>0</td>\n      <td>1</td>\n      <td>0</td>\n      <td>0</td>\n      <td>0</td>\n      <td>0</td>\n      <td>0</td>\n      <td>0</td>\n      <td>0</td>\n      <td>0</td>\n      <td>0</td>\n      <td>0</td>\n      <td>6.0</td>\n      <td>113.0</td>\n      <td>yolo</td>\n      <td>california</td>\n    </tr>\n    <tr>\n      <th>515</th>\n      <td>2018</td>\n      <td>0</td>\n      <td>0</td>\n      <td>0</td>\n      <td>0</td>\n      <td>2</td>\n      <td>0</td>\n      <td>0</td>\n      <td>0</td>\n      <td>0</td>\n      <td>0</td>\n      <td>0</td>\n      <td>0</td>\n      <td>0</td>\n      <td>0</td>\n      <td>0</td>\n      <td>6.0</td>\n      <td>115.0</td>\n      <td>yuba</td>\n      <td>california</td>\n    </tr>\n  </tbody>\n</table>\n</div>"
     },
     "metadata": {}
    }
   ]
  },
  {
   "cell_type": "code",
   "metadata": {
    "tags": [],
    "cell_id": "00010-0d410b33-5091-437e-8033-f7aead1984e8",
    "deepnote_to_be_reexecuted": false,
    "source_hash": "147edaea",
    "execution_start": 1641565686913,
    "execution_millis": 46,
    "deepnote_cell_type": "code"
   },
   "source": "df_merged.to_csv('/work/cleaned-csvs/fema.csv')",
   "execution_count": null,
   "outputs": []
  },
  {
   "cell_type": "code",
   "metadata": {
    "tags": [],
    "cell_id": "00003-285be1d0-105a-426f-843a-14d6d512bd41",
    "deepnote_to_be_reexecuted": false,
    "source_hash": "2938540d",
    "execution_start": 1641565687008,
    "execution_millis": 0,
    "deepnote_output_heights": [
     117.125
    ],
    "deepnote_cell_type": "code"
   },
   "source": "# #df[df['state']=='CA']['fyDeclared'].value_counts()\n# df['designatedArea'].value_counts()\n# #df[(df['state']=='CA') & df['fyDeclared']]['designatedArea'].value_counts()\n# df[(df['state']=='CA') ]['designatedArea'].value_counts()\n# #df[(df['state']=='CA') & df['fyDeclared'].between(2014,2018)].head()#['designatedArea'].value_counts()\n\n# df[(df['state']=='CA') & df['fyDeclared'].between(2014,2018)]['declarationTitle'].value_counts()\n# ca_df = df[(df['state']=='CA') & df['fyDeclared'].between(2014,2018)]\n# ca_df['incidentType'].value_counts()",
   "execution_count": null,
   "outputs": []
  },
  {
   "cell_type": "code",
   "metadata": {
    "tags": [],
    "cell_id": "00011-eb2a9d9a-9d2e-4f8e-bc3c-ca27044a4975",
    "deepnote_to_be_reexecuted": false,
    "source_hash": "ea44d4f5",
    "execution_start": 1641565687009,
    "execution_millis": 231,
    "deepnote_output_heights": [
     98
    ],
    "deepnote_cell_type": "code"
   },
   "source": "df_merged.columns",
   "execution_count": null,
   "outputs": [
    {
     "output_type": "execute_result",
     "execution_count": 10,
     "data": {
      "text/plain": "Index(['year', 'chemical', 'coastal_storm', 'dam_levee_break', 'earthquake',\n       'fire', 'flood', 'hurricane', 'mud_landslide', 'severe_ice_storm',\n       'severe_storm', 'snow', 'tornado', 'toxic_substances', 'typhoon',\n       'volcano', 'state', 'county', 'county_name', 'state_name'],\n      dtype='object')"
     },
     "metadata": {}
    }
   ]
  },
  {
   "cell_type": "code",
   "metadata": {
    "tags": [],
    "cell_id": "00012-ee3147ce-e5b0-41ab-bca8-66e151306468",
    "deepnote_to_be_reexecuted": false,
    "source_hash": "b623e53d",
    "execution_start": 1641565687010,
    "deepnote_cell_type": "code"
   },
   "source": "",
   "execution_count": null,
   "outputs": []
  },
  {
   "cell_type": "markdown",
   "source": "<a style='text-decoration:none;line-height:16px;display:flex;color:#5B5B62;padding:10px;justify-content:end;' href='https://deepnote.com?utm_source=created-in-deepnote-cell&projectId=f6c76417-5fde-42f3-8920-755838dec3fa' target=\"_blank\">\n<img alt='Created in deepnote.com' style='display:inline;max-height:16px;margin:0px;margin-right:7.5px;' src='data:image/svg+xml;base64,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' > </img>\nCreated in <span style='font-weight:600;margin-left:4px;'>Deepnote</span></a>",
   "metadata": {
    "tags": [],
    "created_in_deepnote_cell": true,
    "deepnote_cell_type": "markdown"
   }
  }
 ],
 "nbformat": 4,
 "nbformat_minor": 2,
 "metadata": {
  "orig_nbformat": 2,
  "deepnote": {
   "is_reactive": false
  },
  "deepnote_notebook_id": "d5e0e142-b1d9-4676-a83d-fc58f98ec170",
  "deepnote_execution_queue": []
 }
}