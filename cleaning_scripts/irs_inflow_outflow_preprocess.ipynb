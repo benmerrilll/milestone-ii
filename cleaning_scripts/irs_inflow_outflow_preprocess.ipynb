{
 "cells": [
  {
   "cell_type": "markdown",
   "source": "## IRS Cleaning File\n    This file takes data from the IRS(https://www.irs.gov/statistics/soi-tax-stats-migration-data), containing information on county inflow and outflow on a yearly basis, concatenates each year, and saves an inflow and ouflow file in the 'cleaned-csvs' folder.\n ",
   "metadata": {
    "tags": [],
    "cell_id": "00000-1423ce31-8643-487e-912e-eef0e3e32734",
    "deepnote_cell_type": "markdown"
   }
  },
  {
   "cell_type": "code",
   "metadata": {
    "tags": [],
    "deepnote_to_be_reexecuted": false,
    "source_hash": "9b82ee11",
    "execution_start": 1642469803593,
    "execution_millis": 42,
    "cell_id": "00000-e7033efc-d703-40c5-b0fc-027472e4ebdc",
    "deepnote_cell_type": "code"
   },
   "source": "import pandas as pd",
   "execution_count": null,
   "outputs": []
  },
  {
   "cell_type": "code",
   "metadata": {
    "tags": [],
    "cell_id": "00006-b8aa53a5-a9ac-4c3e-9a4d-2a03182e5cf4",
    "deepnote_to_be_reexecuted": false,
    "source_hash": "b195c7ba",
    "execution_start": 1642469803678,
    "execution_millis": 1750,
    "deepnote_table_state": {
     "pageSize": 100,
     "pageIndex": 0,
     "filters": [],
     "sortBy": []
    },
    "deepnote_table_loading": false,
    "deepnote_output_heights": [
     21.1875,
     597.1875
    ],
    "deepnote_cell_type": "code"
   },
   "source": "# Complete outflow df\nout_cols = ['individual_outflow', 'countyfips', 'statename', 'countyname', 'statefips', 'year']\noutflow_df = pd.DataFrame(columns=out_cols)\n\nfor year in range(2014, 2020):\n    # Create filepath read in df\n    yr_range = str(year-1)[-2:] + str(year)[-2:]\n    filepath = '/work/assets/countyoutflow{}.csv'.format(yr_range)\n    df = pd.read_csv(filepath)\n\n    # Drop rows with aggregated county information\n    df = df[df['y2_countyname'].str.contains(' Total Migration-US and Foreign')]\n    df = df[~df['y2_state'].isin(['FR', 'SS', 'DS'])]\n\n    # Fix column format\n    out_rename_dict = {'y1_statefips':'statefips', 'y1_countyfips':'countyfips', 'y2_state':'statename',\n                       'y2_countyname':'countyname', 'n1':'outflow_family', 'n2':'individual_outflow'}\n    df = df.rename(columns=out_rename_dict)\n    df['year'] = year\n    df = df[out_cols]\n\n    # Concatenate\n    outflow_df = pd.concat([outflow_df,df], ignore_index=True)\n\n    ",
   "execution_count": null,
   "outputs": []
  },
  {
   "cell_type": "code",
   "metadata": {
    "tags": [],
    "cell_id": "00003-57ce5d5a-7307-4150-a8a3-ac09e6df8ed2",
    "deepnote_to_be_reexecuted": false,
    "source_hash": "9c3e1d84",
    "execution_start": 1642469805441,
    "execution_millis": 1876,
    "deepnote_output_heights": [
     611,
     597.1875
    ],
    "deepnote_cell_type": "code"
   },
   "source": "# Create inflow csv\nin_cols = ['individual_inflow', 'countyfips', 'statename', 'countyname', 'statefips', 'year']\ninflow_df = pd.DataFrame(columns=in_cols)\n\nfor year in range(2014, 2020):\n    # Create filepath read in df\n    yr_range = str(year-1)[-2:] + str(year)[-2:]\n    filepath = '/work/assets/countyinflow{}.csv'.format(yr_range)\n    df = pd.read_csv(filepath)\n\n    df = df[df['y1_countyname'].str.contains(' Total Migration-US and Foreign')]\n    df = df[~df['y1_state'].isin(['FR', 'SS', 'DS'])]\n\n    in_rename_dict = {'y2_statefips':'statefips', 'y2_countyfips':'countyfips', 'y1_state':'statename',\n                    'y1_countyname':'countyname', 'n1':'inflow_family', 'n2':'individual_inflow'}\n    df = df.rename(columns=in_rename_dict)\n    df['year'] = year\n    df = df[in_cols]\n\n    # Concatenate\n    inflow_df = pd.concat([inflow_df,df], ignore_index=True)\n",
   "execution_count": null,
   "outputs": []
  },
  {
   "cell_type": "code",
   "metadata": {
    "tags": [],
    "cell_id": "00005-59cd8196-9ae5-4db6-9828-7bc03ec63350",
    "deepnote_to_be_reexecuted": false,
    "source_hash": "9420273b",
    "execution_start": 1642469807341,
    "execution_millis": 19,
    "deepnote_cell_type": "code"
   },
   "source": "# Checking dimensionality of each dataframe\nprint('Inflow Shape:', inflow_df.shape)\nprint('Outflow Shape:', outflow_df.shape)",
   "execution_count": null,
   "outputs": [
    {
     "name": "stdout",
     "text": "Inflow Shape: (18779, 6)\nOutflow Shape: (18799, 6)\n",
     "output_type": "stream"
    }
   ]
  },
  {
   "cell_type": "code",
   "metadata": {
    "tags": [],
    "cell_id": "00005-2a557bab-484d-48c1-9ddf-75ccf2d954cb",
    "deepnote_to_be_reexecuted": false,
    "source_hash": "17bacf9b",
    "execution_start": 1642469807378,
    "execution_millis": 733,
    "deepnote_cell_type": "code"
   },
   "source": "# Delete Duplicate columns from outflow_df\noutflow_df = outflow_df[['individual_outflow', 'year', 'statefips', 'countyfips']]\n\n# Concatenate Inflow and Outflow DataFrames and reorder columns\nin_out_df = pd.merge(inflow_df, outflow_df, how='inner', on=['year', 'statefips', 'countyfips'])\norder = ['individual_inflow','individual_outflow','year','statefips','countyfips','statename','countyname']\nin_out_df = in_out_df[order]\n\n# Replace -1 values with 0\nin_out_df['individual_inflow'] = in_out_df['individual_inflow'].replace(-1, 0)\nin_out_df['individual_outflow'] = in_out_df['individual_outflow'].replace(-1, 0) \n\n# Save csv\nin_out_df.to_csv('/work/cleaned-csvs/irs_in_out')\n\nprint('New Shape:', in_out_df.shape)\nin_out_df.head()",
   "execution_count": null,
   "outputs": [
    {
     "name": "stdout",
     "text": "New Shape: (18772, 7)\n",
     "output_type": "stream"
    },
    {
     "output_type": "execute_result",
     "execution_count": 5,
     "data": {
      "application/vnd.deepnote.dataframe.v3+json": {
       "column_count": 7,
       "row_count": 5,
       "columns": [
        {
         "name": "individual_inflow",
         "dtype": "int64",
         "stats": {
          "unique_count": 5,
          "nan_count": 0,
          "min": "1023",
          "max": "12068",
          "histogram": [
           {
            "bin_start": 1023,
            "bin_end": 2127.5,
            "count": 2
           },
           {
            "bin_start": 2127.5,
            "bin_end": 3232,
            "count": 1
           },
           {
            "bin_start": 3232,
            "bin_end": 4336.5,
            "count": 0
           },
           {
            "bin_start": 4336.5,
            "bin_end": 5441,
            "count": 1
           },
           {
            "bin_start": 5441,
            "bin_end": 6545.5,
            "count": 0
           },
           {
            "bin_start": 6545.5,
            "bin_end": 7650,
            "count": 0
           },
           {
            "bin_start": 7650,
            "bin_end": 8754.5,
            "count": 0
           },
           {
            "bin_start": 8754.5,
            "bin_end": 9859,
            "count": 0
           },
           {
            "bin_start": 9859,
            "bin_end": 10963.5,
            "count": 0
           },
           {
            "bin_start": 10963.5,
            "bin_end": 12068,
            "count": 1
           }
          ]
         }
        },
        {
         "name": "individual_outflow",
         "dtype": "int64",
         "stats": {
          "unique_count": 5,
          "nan_count": 0,
          "min": "888",
          "max": "8113",
          "histogram": [
           {
            "bin_start": 888,
            "bin_end": 1610.5,
            "count": 2
           },
           {
            "bin_start": 1610.5,
            "bin_end": 2333,
            "count": 0
           },
           {
            "bin_start": 2333,
            "bin_end": 3055.5,
            "count": 1
           },
           {
            "bin_start": 3055.5,
            "bin_end": 3778,
            "count": 0
           },
           {
            "bin_start": 3778,
            "bin_end": 4500.5,
            "count": 1
           },
           {
            "bin_start": 4500.5,
            "bin_end": 5223,
            "count": 0
           },
           {
            "bin_start": 5223,
            "bin_end": 5945.5,
            "count": 0
           },
           {
            "bin_start": 5945.5,
            "bin_end": 6668,
            "count": 0
           },
           {
            "bin_start": 6668,
            "bin_end": 7390.5,
            "count": 0
           },
           {
            "bin_start": 7390.5,
            "bin_end": 8113,
            "count": 1
           }
          ]
         }
        },
        {
         "name": "year",
         "dtype": "object",
         "stats": {
          "unique_count": 1,
          "nan_count": 0,
          "categories": [
           {
            "name": "2014",
            "count": 5
           }
          ]
         }
        },
        {
         "name": "statefips",
         "dtype": "object",
         "stats": {
          "unique_count": 1,
          "nan_count": 0,
          "categories": [
           {
            "name": "1",
            "count": 5
           }
          ]
         }
        },
        {
         "name": "countyfips",
         "dtype": "object",
         "stats": {
          "unique_count": 5,
          "nan_count": 0,
          "categories": [
           {
            "name": "1",
            "count": 1
           },
           {
            "name": "3",
            "count": 1
           },
           {
            "name": "3 others",
            "count": 3
           }
          ]
         }
        },
        {
         "name": "statename",
         "dtype": "object",
         "stats": {
          "unique_count": 1,
          "nan_count": 0,
          "categories": [
           {
            "name": "AL",
            "count": 5
           }
          ]
         }
        },
        {
         "name": "countyname",
         "dtype": "object",
         "stats": {
          "unique_count": 5,
          "nan_count": 0,
          "categories": [
           {
            "name": "Autauga County Total Migration-US and Foreign",
            "count": 1
           },
           {
            "name": "Baldwin County Total Migration-US and Foreign",
            "count": 1
           },
           {
            "name": "3 others",
            "count": 3
           }
          ]
         }
        },
        {
         "name": "_deepnote_index_column",
         "dtype": "int64"
        }
       ],
       "rows": [
        {
         "individual_inflow": 4342,
         "individual_outflow": 4352,
         "year": "2014",
         "statefips": "1",
         "countyfips": "1",
         "statename": "AL",
         "countyname": "Autauga County Total Migration-US and Foreign",
         "_deepnote_index_column": 0
        },
        {
         "individual_inflow": 12068,
         "individual_outflow": 8113,
         "year": "2014",
         "statefips": "1",
         "countyfips": "3",
         "statename": "AL",
         "countyname": "Baldwin County Total Migration-US and Foreign",
         "_deepnote_index_column": 1
        },
        {
         "individual_inflow": 1088,
         "individual_outflow": 1197,
         "year": "2014",
         "statefips": "1",
         "countyfips": "5",
         "statename": "AL",
         "countyname": "Barbour County Total Migration-US and Foreign",
         "_deepnote_index_column": 2
        },
        {
         "individual_inflow": 1023,
         "individual_outflow": 888,
         "year": "2014",
         "statefips": "1",
         "countyfips": "7",
         "statename": "AL",
         "countyname": "Bibb County Total Migration-US and Foreign",
         "_deepnote_index_column": 3
        },
        {
         "individual_inflow": 2490,
         "individual_outflow": 2411,
         "year": "2014",
         "statefips": "1",
         "countyfips": "9",
         "statename": "AL",
         "countyname": "Blount County Total Migration-US and Foreign",
         "_deepnote_index_column": 4
        }
       ]
      },
      "text/plain": "   individual_inflow  individual_outflow  year statefips countyfips statename  \\\n0               4342                4352  2014         1          1        AL   \n1              12068                8113  2014         1          3        AL   \n2               1088                1197  2014         1          5        AL   \n3               1023                 888  2014         1          7        AL   \n4               2490                2411  2014         1          9        AL   \n\n                                      countyname  \n0  Autauga County Total Migration-US and Foreign  \n1  Baldwin County Total Migration-US and Foreign  \n2  Barbour County Total Migration-US and Foreign  \n3     Bibb County Total Migration-US and Foreign  \n4   Blount County Total Migration-US and Foreign  ",
      "text/html": "<div>\n<style scoped>\n    .dataframe tbody tr th:only-of-type {\n        vertical-align: middle;\n    }\n\n    .dataframe tbody tr th {\n        vertical-align: top;\n    }\n\n    .dataframe thead th {\n        text-align: right;\n    }\n</style>\n<table border=\"1\" class=\"dataframe\">\n  <thead>\n    <tr style=\"text-align: right;\">\n      <th></th>\n      <th>individual_inflow</th>\n      <th>individual_outflow</th>\n      <th>year</th>\n      <th>statefips</th>\n      <th>countyfips</th>\n      <th>statename</th>\n      <th>countyname</th>\n    </tr>\n  </thead>\n  <tbody>\n    <tr>\n      <th>0</th>\n      <td>4342</td>\n      <td>4352</td>\n      <td>2014</td>\n      <td>1</td>\n      <td>1</td>\n      <td>AL</td>\n      <td>Autauga County Total Migration-US and Foreign</td>\n    </tr>\n    <tr>\n      <th>1</th>\n      <td>12068</td>\n      <td>8113</td>\n      <td>2014</td>\n      <td>1</td>\n      <td>3</td>\n      <td>AL</td>\n      <td>Baldwin County Total Migration-US and Foreign</td>\n    </tr>\n    <tr>\n      <th>2</th>\n      <td>1088</td>\n      <td>1197</td>\n      <td>2014</td>\n      <td>1</td>\n      <td>5</td>\n      <td>AL</td>\n      <td>Barbour County Total Migration-US and Foreign</td>\n    </tr>\n    <tr>\n      <th>3</th>\n      <td>1023</td>\n      <td>888</td>\n      <td>2014</td>\n      <td>1</td>\n      <td>7</td>\n      <td>AL</td>\n      <td>Bibb County Total Migration-US and Foreign</td>\n    </tr>\n    <tr>\n      <th>4</th>\n      <td>2490</td>\n      <td>2411</td>\n      <td>2014</td>\n      <td>1</td>\n      <td>9</td>\n      <td>AL</td>\n      <td>Blount County Total Migration-US and Foreign</td>\n    </tr>\n  </tbody>\n</table>\n</div>"
     },
     "metadata": {}
    }
   ]
  },
  {
   "cell_type": "code",
   "metadata": {
    "tags": [],
    "cell_id": "00007-665b9b65-2af0-4b26-9077-2db1679ae46b",
    "deepnote_to_be_reexecuted": false,
    "source_hash": "cfc79899",
    "execution_start": 1642469807913,
    "execution_millis": 304,
    "deepnote_output_heights": [
     null,
     1
    ],
    "deepnote_cell_type": "code"
   },
   "source": "# Checking missing 7 values\nin_grouped = set(inflow_df.groupby(['year', 'statefips', 'countyfips']).count().index)\nout_grouped = set(outflow_df.groupby(['year', 'statefips', 'countyfips']).count().index)\nprint('In Len:', len(in_grouped))\nprint('Out Len:', len(out_grouped))\n\n\nmissing1 = in_grouped-out_grouped\nmissing2 = out_grouped-in_grouped\nmissing = missing1.union(missing2)\nprint('Number Missing in Inflow', len(missing1))\nprint('Number Missing in Outflow', len(missing2))\n\nmissing",
   "execution_count": null,
   "outputs": [
    {
     "name": "stdout",
     "text": "In Len: 18779\nOut Len: 18799\nNumber Missing in Inflow 7\nNumber Missing in Outflow 27\n",
     "output_type": "stream"
    },
    {
     "output_type": "execute_result",
     "execution_count": 6,
     "data": {
      "text/plain": "{(2015, 48, 301),\n (2019, 8, 61),\n (2019, 8, 79),\n (2019, 20, 33),\n (2019, 20, 71),\n (2019, 20, 75),\n (2019, 30, 19),\n (2019, 30, 37),\n (2019, 30, 75),\n (2019, 31, 15),\n (2019, 31, 57),\n (2019, 31, 91),\n (2019, 31, 113),\n (2019, 31, 115),\n (2019, 31, 171),\n (2019, 31, 183),\n (2019, 32, 9),\n (2019, 35, 11),\n (2019, 38, 7),\n (2019, 38, 33),\n (2019, 38, 37),\n (2019, 38, 83),\n (2019, 40, 25),\n (2019, 46, 17),\n (2019, 46, 49),\n (2019, 46, 55),\n (2019, 46, 69),\n (2019, 48, 101),\n (2019, 48, 155),\n (2019, 48, 263),\n (2019, 48, 311),\n (2019, 48, 345),\n (2019, 48, 443),\n (2019, 56, 27)}"
     },
     "metadata": {}
    }
   ]
  },
  {
   "cell_type": "markdown",
   "source": "### Inflow outflow ### \neach county is a row and there data for each year are the columns",
   "metadata": {
    "cell_id": "09aaa0d2-a2e1-446e-8c33-eda93d91bf06",
    "tags": [],
    "deepnote_cell_type": "markdown"
   }
  },
  {
   "cell_type": "code",
   "metadata": {
    "cell_id": "e38c990a-ecfc-4a41-9a7c-6b1c31cc4a8b",
    "tags": [],
    "deepnote_to_be_reexecuted": false,
    "source_hash": "2b644a95",
    "execution_start": 1642469808098,
    "execution_millis": 153,
    "deepnote_output_heights": [
     59.5625
    ],
    "deepnote_cell_type": "code"
   },
   "source": "in_out_df.columns",
   "execution_count": null,
   "outputs": [
    {
     "output_type": "execute_result",
     "execution_count": 7,
     "data": {
      "text/plain": "Index(['individual_inflow', 'individual_outflow', 'year', 'statefips',\n       'countyfips', 'statename', 'countyname'],\n      dtype='object')"
     },
     "metadata": {}
    }
   ]
  },
  {
   "cell_type": "code",
   "metadata": {
    "cell_id": "48eeaf8b-5ce5-4149-9fd5-cab28b9694d5",
    "tags": [],
    "deepnote_to_be_reexecuted": false,
    "source_hash": "e7853c9",
    "execution_start": 1642469808144,
    "execution_millis": 117,
    "deepnote_table_state": {
     "pageSize": 100,
     "pageIndex": 0,
     "filters": [],
     "sortBy": []
    },
    "deepnote_table_loading": false,
    "deepnote_output_heights": [
     21.1875
    ],
    "deepnote_cell_type": "code"
   },
   "source": "inflow_df = in_out_df.pivot(index=['statefips','countyfips',], columns='year')['individual_inflow']\n\noutflow_df = in_out_df.pivot(index=['statefips','countyfips',], columns='year')['individual_outflow']\nyr_cols = list(inflow_df.columns)\n\nfor col in yr_cols:\n    inflow_df.rename(columns = {col:'in_'+str(col)},inplace=True)\n    outflow_df.rename(columns = {col:'out_'+str(col)},inplace=True)\nin_out_one_per_county = pd.merge(inflow_df,outflow_df,how='inner',left_index=True,right_index=True)",
   "execution_count": null,
   "outputs": []
  },
  {
   "cell_type": "code",
   "metadata": {
    "cell_id": "26f879da-afd0-4196-a570-89e62401a216",
    "tags": [],
    "deepnote_to_be_reexecuted": false,
    "source_hash": "7917600e",
    "execution_start": 1642469808280,
    "execution_millis": 56,
    "deepnote_cell_type": "code"
   },
   "source": "in_out_one_per_county.to_csv('/work/cleaned-csvs/irs_in_out_one_per_county')",
   "execution_count": null,
   "outputs": []
  },
  {
   "cell_type": "markdown",
   "source": "<a style='text-decoration:none;line-height:16px;display:flex;color:#5B5B62;padding:10px;justify-content:end;' href='https://deepnote.com?utm_source=created-in-deepnote-cell&projectId=f6c76417-5fde-42f3-8920-755838dec3fa' target=\"_blank\">\n<img alt='Created in deepnote.com' style='display:inline;max-height:16px;margin:0px;margin-right:7.5px;' src='data:image/svg+xml;base64,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' > </img>\nCreated in <span style='font-weight:600;margin-left:4px;'>Deepnote</span></a>",
   "metadata": {
    "tags": [],
    "created_in_deepnote_cell": true,
    "deepnote_cell_type": "markdown"
   }
  }
 ],
 "nbformat": 4,
 "nbformat_minor": 2,
 "metadata": {
  "orig_nbformat": 2,
  "deepnote": {
   "is_reactive": false
  },
  "deepnote_notebook_id": "5904d8ca-a0ac-4a6e-8b50-e09b5a29f767",
  "deepnote_execution_queue": []
 }
}