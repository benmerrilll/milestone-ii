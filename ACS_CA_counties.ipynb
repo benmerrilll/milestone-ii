{
 "cells": [
  {
   "cell_type": "markdown",
   "source": "### Pull County-Level ACS 1-year and 5-year data using Census library and API",
   "metadata": {
    "tags": [],
    "cell_id": "00000-fdb7c7bc-098a-48a0-aa9b-3e4bfc938bb5",
    "deepnote_cell_type": "markdown"
   }
  },
  {
   "cell_type": "code",
   "metadata": {
    "tags": [],
    "deepnote_to_be_reexecuted": false,
    "source_hash": "12543a9a",
    "execution_start": 1640828844090,
    "execution_millis": 11,
    "cell_id": "00001-9fb5ba32-3c9b-4162-bd93-b69c8ba0cb0d",
    "deepnote_cell_type": "code"
   },
   "source": "#Note 1-year data is only available for counties with population of 65K or greater. \n\n#Used this notebook as inspiration: \n#https://github.com/BuzzFeedNews/2020-02-gentrification/blob/master/notebooks/01-download-census-data.ipynb. \n\n# County shape file https://data.ca.gov/dataset/ca-geographic-boundaries/resource/b0007416-a325-4777-9295-368ea6b710e6\n# County code to name mapping website\n# https://www.census.gov/geographies/reference-files/2017/demo/popest/2017-fips.html",
   "outputs": [],
   "execution_count": null
  },
  {
   "cell_type": "code",
   "metadata": {
    "tags": [],
    "deepnote_to_be_reexecuted": false,
    "source_hash": "af668e70",
    "execution_start": 1640828844126,
    "execution_millis": 8926,
    "cell_id": "00002-947134b7-e1aa-4360-a516-4b5c757f9002",
    "deepnote_cell_type": "code"
   },
   "source": "#installations\n!pip install census\n!pip install us",
   "outputs": [
    {
     "name": "stdout",
     "text": "Requirement already satisfied: census in /root/venv/lib/python3.7/site-packages (0.8.18)\nRequirement already satisfied: requests>=1.1.0 in /shared-libs/python3.7/py/lib/python3.7/site-packages (from census) (2.26.0)\nRequirement already satisfied: charset-normalizer~=2.0.0; python_version >= \"3\" in /shared-libs/python3.7/py-core/lib/python3.7/site-packages (from requests>=1.1.0->census) (2.0.9)\nRequirement already satisfied: certifi>=2017.4.17 in /shared-libs/python3.7/py/lib/python3.7/site-packages (from requests>=1.1.0->census) (2021.10.8)\nRequirement already satisfied: urllib3<1.27,>=1.21.1 in /shared-libs/python3.7/py/lib/python3.7/site-packages (from requests>=1.1.0->census) (1.26.7)\nRequirement already satisfied: idna<4,>=2.5; python_version >= \"3\" in /shared-libs/python3.7/py-core/lib/python3.7/site-packages (from requests>=1.1.0->census) (3.3)\n\u001b[33mWARNING: You are using pip version 20.1.1; however, version 21.3.1 is available.\nYou should consider upgrading via the '/root/venv/bin/python -m pip install --upgrade pip' command.\u001b[0m\nRequirement already satisfied: us in /root/venv/lib/python3.7/site-packages (2.0.2)\nRequirement already satisfied: jellyfish==0.6.1 in /root/venv/lib/python3.7/site-packages (from us) (0.6.1)\n\u001b[33mWARNING: You are using pip version 20.1.1; however, version 21.3.1 is available.\nYou should consider upgrading via the '/root/venv/bin/python -m pip install --upgrade pip' command.\u001b[0m\n",
     "output_type": "stream",
     "data": {}
    }
   ],
   "execution_count": null
  },
  {
   "cell_type": "code",
   "metadata": {
    "tags": [],
    "deepnote_to_be_reexecuted": false,
    "source_hash": "3bb1b827",
    "execution_start": 1640828853065,
    "execution_millis": 7,
    "cell_id": "00003-af083182-ad45-4cbd-bdf7-8afdbf9a4811",
    "deepnote_cell_type": "code"
   },
   "source": "# Dependencies\nimport pandas as pd\nimport requests\nfrom census import Census\nfrom us import states",
   "outputs": [],
   "execution_count": null
  },
  {
   "cell_type": "markdown",
   "source": "### Pull and Clean County-Level Data",
   "metadata": {
    "tags": [],
    "cell_id": "00004-a1de2273-3e71-4647-9949-5e754e3a8ec4",
    "deepnote_cell_type": "markdown"
   }
  },
  {
   "cell_type": "code",
   "metadata": {
    "tags": [],
    "deepnote_to_be_reexecuted": false,
    "source_hash": "6cf8a1c0",
    "execution_start": 1640828858153,
    "execution_millis": 386,
    "deepnote_output_heights": [
     21.1875
    ],
    "cell_id": "00005-45faee4b-b78c-45f9-bf19-afee2df3c5d1",
    "deepnote_cell_type": "code"
   },
   "source": "county_list = pd.read_csv('/work/assets/all-geocodes.csv', error_bad_lines=False)\ncounty_list = county_list.iloc[3:,:] #drop header info\n\nnew_header = county_list.iloc[0] #grab the first row for the header\ncounty_list = county_list[1:] #take the data less the header row\ncounty_list.columns = new_header #set the header row as the df header\ncounty_list = county_list[county_list['State Code (FIPS)']=='06'] #only include counties in CA\n\n\ncounty_list = county_list.groupby('County Code (FIPS)').agg(lambda x:x.value_counts().index[0]) #get one row per county\n\ncounty_list = county_list.iloc[1:,:].reset_index()\ncounty_list = county_list[['County Code (FIPS)', 'State Code (FIPS)',\n       'Area Name (including legal/statistical area description)']]\n\ncounty_list = county_list.rename({'County Code (FIPS)':\"county_code\", 'State Code (FIPS)':\"state_code\",\n       'Area Name (including legal/statistical area description)':'county'},axis='columns')\n\ncounty_list['county_code'].nunique()\n",
   "outputs": [
    {
     "output_type": "execute_result",
     "execution_count": 8,
     "data": {
      "text/plain": "58"
     },
     "metadata": {}
    }
   ],
   "execution_count": null
  },
  {
   "cell_type": "code",
   "metadata": {
    "tags": [],
    "cell_id": "00006-af1e467b-808b-49c2-aeaf-a97f17af170f",
    "deepnote_to_be_reexecuted": false,
    "source_hash": "dc448fcb",
    "execution_start": 1640829046233,
    "execution_millis": 65,
    "deepnote_cell_type": "code"
   },
   "source": "#Create csv of counties to use for other data pulls\ncounty_list.to_csv('/work/output/ca_counties.csv', index = False)\n",
   "outputs": [
    {
     "output_type": "execute_result",
     "execution_count": 11,
     "data": {
      "application/vnd.deepnote.dataframe.v3+json": {
       "column_count": 3,
       "row_count": 58,
       "columns": [
        {
         "name": "county_code",
         "dtype": "object",
         "stats": {
          "unique_count": 58,
          "nan_count": 0,
          "categories": [
           {
            "name": "001",
            "count": 1
           },
           {
            "name": "003",
            "count": 1
           },
           {
            "name": "56 others",
            "count": 56
           }
          ]
         }
        },
        {
         "name": "state_code",
         "dtype": "object",
         "stats": {
          "unique_count": 1,
          "nan_count": 0,
          "categories": [
           {
            "name": "06",
            "count": 58
           }
          ]
         }
        },
        {
         "name": "county",
         "dtype": "object",
         "stats": {
          "unique_count": 58,
          "nan_count": 0,
          "categories": [
           {
            "name": "Alameda County",
            "count": 1
           },
           {
            "name": "Alpine County",
            "count": 1
           },
           {
            "name": "56 others",
            "count": 56
           }
          ]
         }
        },
        {
         "name": "_deepnote_index_column",
         "dtype": "int64"
        }
       ],
       "rows": [
        {
         "county_code": "001",
         "state_code": "06",
         "county": "Alameda County",
         "_deepnote_index_column": 0
        },
        {
         "county_code": "003",
         "state_code": "06",
         "county": "Alpine County",
         "_deepnote_index_column": 1
        },
        {
         "county_code": "005",
         "state_code": "06",
         "county": "Amador County",
         "_deepnote_index_column": 2
        },
        {
         "county_code": "007",
         "state_code": "06",
         "county": "Butte County",
         "_deepnote_index_column": 3
        },
        {
         "county_code": "009",
         "state_code": "06",
         "county": "Calaveras County",
         "_deepnote_index_column": 4
        },
        {
         "county_code": "011",
         "state_code": "06",
         "county": "Colusa County",
         "_deepnote_index_column": 5
        },
        {
         "county_code": "013",
         "state_code": "06",
         "county": "Contra Costa County",
         "_deepnote_index_column": 6
        },
        {
         "county_code": "015",
         "state_code": "06",
         "county": "Del Norte County",
         "_deepnote_index_column": 7
        },
        {
         "county_code": "017",
         "state_code": "06",
         "county": "El Dorado County",
         "_deepnote_index_column": 8
        },
        {
         "county_code": "019",
         "state_code": "06",
         "county": "Fresno County",
         "_deepnote_index_column": 9
        }
       ]
      },
      "text/plain": "3  county_code state_code                  county\n0          001         06          Alameda County\n1          003         06           Alpine County\n2          005         06           Amador County\n3          007         06            Butte County\n4          009         06        Calaveras County\n5          011         06           Colusa County\n6          013         06     Contra Costa County\n7          015         06        Del Norte County\n8          017         06        El Dorado County\n9          019         06           Fresno County\n10         021         06            Glenn County\n11         023         06         Humboldt County\n12         025         06         Imperial County\n13         027         06             Inyo County\n14         029         06             Kern County\n15         031         06            Kings County\n16         033         06             Lake County\n17         035         06           Lassen County\n18         037         06      Los Angeles County\n19         039         06           Madera County\n20         041         06            Marin County\n21         043         06         Mariposa County\n22         045         06        Mendocino County\n23         047         06           Merced County\n24         049         06            Modoc County\n25         051         06             Mono County\n26         053         06         Monterey County\n27         055         06             Napa County\n28         057         06           Nevada County\n29         059         06           Orange County\n30         061         06           Placer County\n31         063         06           Plumas County\n32         065         06        Riverside County\n33         067         06       Sacramento County\n34         069         06       San Benito County\n35         071         06   San Bernardino County\n36         073         06        San Diego County\n37         075         06    San Francisco County\n38         077         06      San Joaquin County\n39         079         06  San Luis Obispo County\n40         081         06        San Mateo County\n41         083         06    Santa Barbara County\n42         085         06      Santa Clara County\n43         087         06       Santa Cruz County\n44         089         06           Shasta County\n45         091         06           Sierra County\n46         093         06         Siskiyou County\n47         095         06           Solano County\n48         097         06           Sonoma County\n49         099         06       Stanislaus County\n50         101         06           Sutter County\n51         103         06           Tehama County\n52         105         06          Trinity County\n53         107         06           Tulare County\n54         109         06         Tuolumne County\n55         111         06          Ventura County\n56         113         06             Yolo County\n57         115         06             Yuba County",
      "text/html": "<div>\n<style scoped>\n    .dataframe tbody tr th:only-of-type {\n        vertical-align: middle;\n    }\n\n    .dataframe tbody tr th {\n        vertical-align: top;\n    }\n\n    .dataframe thead th {\n        text-align: right;\n    }\n</style>\n<table border=\"1\" class=\"dataframe\">\n  <thead>\n    <tr style=\"text-align: right;\">\n      <th>3</th>\n      <th>county_code</th>\n      <th>state_code</th>\n      <th>county</th>\n    </tr>\n  </thead>\n  <tbody>\n    <tr>\n      <th>0</th>\n      <td>001</td>\n      <td>06</td>\n      <td>Alameda County</td>\n    </tr>\n    <tr>\n      <th>1</th>\n      <td>003</td>\n      <td>06</td>\n      <td>Alpine County</td>\n    </tr>\n    <tr>\n      <th>2</th>\n      <td>005</td>\n      <td>06</td>\n      <td>Amador County</td>\n    </tr>\n    <tr>\n      <th>3</th>\n      <td>007</td>\n      <td>06</td>\n      <td>Butte County</td>\n    </tr>\n    <tr>\n      <th>4</th>\n      <td>009</td>\n      <td>06</td>\n      <td>Calaveras County</td>\n    </tr>\n    <tr>\n      <th>5</th>\n      <td>011</td>\n      <td>06</td>\n      <td>Colusa County</td>\n    </tr>\n    <tr>\n      <th>6</th>\n      <td>013</td>\n      <td>06</td>\n      <td>Contra Costa County</td>\n    </tr>\n    <tr>\n      <th>7</th>\n      <td>015</td>\n      <td>06</td>\n      <td>Del Norte County</td>\n    </tr>\n    <tr>\n      <th>8</th>\n      <td>017</td>\n      <td>06</td>\n      <td>El Dorado County</td>\n    </tr>\n    <tr>\n      <th>9</th>\n      <td>019</td>\n      <td>06</td>\n      <td>Fresno County</td>\n    </tr>\n    <tr>\n      <th>10</th>\n      <td>021</td>\n      <td>06</td>\n      <td>Glenn County</td>\n    </tr>\n    <tr>\n      <th>11</th>\n      <td>023</td>\n      <td>06</td>\n      <td>Humboldt County</td>\n    </tr>\n    <tr>\n      <th>12</th>\n      <td>025</td>\n      <td>06</td>\n      <td>Imperial County</td>\n    </tr>\n    <tr>\n      <th>13</th>\n      <td>027</td>\n      <td>06</td>\n      <td>Inyo County</td>\n    </tr>\n    <tr>\n      <th>14</th>\n      <td>029</td>\n      <td>06</td>\n      <td>Kern County</td>\n    </tr>\n    <tr>\n      <th>15</th>\n      <td>031</td>\n      <td>06</td>\n      <td>Kings County</td>\n    </tr>\n    <tr>\n      <th>16</th>\n      <td>033</td>\n      <td>06</td>\n      <td>Lake County</td>\n    </tr>\n    <tr>\n      <th>17</th>\n      <td>035</td>\n      <td>06</td>\n      <td>Lassen County</td>\n    </tr>\n    <tr>\n      <th>18</th>\n      <td>037</td>\n      <td>06</td>\n      <td>Los Angeles County</td>\n    </tr>\n    <tr>\n      <th>19</th>\n      <td>039</td>\n      <td>06</td>\n      <td>Madera County</td>\n    </tr>\n    <tr>\n      <th>20</th>\n      <td>041</td>\n      <td>06</td>\n      <td>Marin County</td>\n    </tr>\n    <tr>\n      <th>21</th>\n      <td>043</td>\n      <td>06</td>\n      <td>Mariposa County</td>\n    </tr>\n    <tr>\n      <th>22</th>\n      <td>045</td>\n      <td>06</td>\n      <td>Mendocino County</td>\n    </tr>\n    <tr>\n      <th>23</th>\n      <td>047</td>\n      <td>06</td>\n      <td>Merced County</td>\n    </tr>\n    <tr>\n      <th>24</th>\n      <td>049</td>\n      <td>06</td>\n      <td>Modoc County</td>\n    </tr>\n    <tr>\n      <th>25</th>\n      <td>051</td>\n      <td>06</td>\n      <td>Mono County</td>\n    </tr>\n    <tr>\n      <th>26</th>\n      <td>053</td>\n      <td>06</td>\n      <td>Monterey County</td>\n    </tr>\n    <tr>\n      <th>27</th>\n      <td>055</td>\n      <td>06</td>\n      <td>Napa County</td>\n    </tr>\n    <tr>\n      <th>28</th>\n      <td>057</td>\n      <td>06</td>\n      <td>Nevada County</td>\n    </tr>\n    <tr>\n      <th>29</th>\n      <td>059</td>\n      <td>06</td>\n      <td>Orange County</td>\n    </tr>\n    <tr>\n      <th>30</th>\n      <td>061</td>\n      <td>06</td>\n      <td>Placer County</td>\n    </tr>\n    <tr>\n      <th>31</th>\n      <td>063</td>\n      <td>06</td>\n      <td>Plumas County</td>\n    </tr>\n    <tr>\n      <th>32</th>\n      <td>065</td>\n      <td>06</td>\n      <td>Riverside County</td>\n    </tr>\n    <tr>\n      <th>33</th>\n      <td>067</td>\n      <td>06</td>\n      <td>Sacramento County</td>\n    </tr>\n    <tr>\n      <th>34</th>\n      <td>069</td>\n      <td>06</td>\n      <td>San Benito County</td>\n    </tr>\n    <tr>\n      <th>35</th>\n      <td>071</td>\n      <td>06</td>\n      <td>San Bernardino County</td>\n    </tr>\n    <tr>\n      <th>36</th>\n      <td>073</td>\n      <td>06</td>\n      <td>San Diego County</td>\n    </tr>\n    <tr>\n      <th>37</th>\n      <td>075</td>\n      <td>06</td>\n      <td>San Francisco County</td>\n    </tr>\n    <tr>\n      <th>38</th>\n      <td>077</td>\n      <td>06</td>\n      <td>San Joaquin County</td>\n    </tr>\n    <tr>\n      <th>39</th>\n      <td>079</td>\n      <td>06</td>\n      <td>San Luis Obispo County</td>\n    </tr>\n    <tr>\n      <th>40</th>\n      <td>081</td>\n      <td>06</td>\n      <td>San Mateo County</td>\n    </tr>\n    <tr>\n      <th>41</th>\n      <td>083</td>\n      <td>06</td>\n      <td>Santa Barbara County</td>\n    </tr>\n    <tr>\n      <th>42</th>\n      <td>085</td>\n      <td>06</td>\n      <td>Santa Clara County</td>\n    </tr>\n    <tr>\n      <th>43</th>\n      <td>087</td>\n      <td>06</td>\n      <td>Santa Cruz County</td>\n    </tr>\n    <tr>\n      <th>44</th>\n      <td>089</td>\n      <td>06</td>\n      <td>Shasta County</td>\n    </tr>\n    <tr>\n      <th>45</th>\n      <td>091</td>\n      <td>06</td>\n      <td>Sierra County</td>\n    </tr>\n    <tr>\n      <th>46</th>\n      <td>093</td>\n      <td>06</td>\n      <td>Siskiyou County</td>\n    </tr>\n    <tr>\n      <th>47</th>\n      <td>095</td>\n      <td>06</td>\n      <td>Solano County</td>\n    </tr>\n    <tr>\n      <th>48</th>\n      <td>097</td>\n      <td>06</td>\n      <td>Sonoma County</td>\n    </tr>\n    <tr>\n      <th>49</th>\n      <td>099</td>\n      <td>06</td>\n      <td>Stanislaus County</td>\n    </tr>\n    <tr>\n      <th>50</th>\n      <td>101</td>\n      <td>06</td>\n      <td>Sutter County</td>\n    </tr>\n    <tr>\n      <th>51</th>\n      <td>103</td>\n      <td>06</td>\n      <td>Tehama County</td>\n    </tr>\n    <tr>\n      <th>52</th>\n      <td>105</td>\n      <td>06</td>\n      <td>Trinity County</td>\n    </tr>\n    <tr>\n      <th>53</th>\n      <td>107</td>\n      <td>06</td>\n      <td>Tulare County</td>\n    </tr>\n    <tr>\n      <th>54</th>\n      <td>109</td>\n      <td>06</td>\n      <td>Tuolumne County</td>\n    </tr>\n    <tr>\n      <th>55</th>\n      <td>111</td>\n      <td>06</td>\n      <td>Ventura County</td>\n    </tr>\n    <tr>\n      <th>56</th>\n      <td>113</td>\n      <td>06</td>\n      <td>Yolo County</td>\n    </tr>\n    <tr>\n      <th>57</th>\n      <td>115</td>\n      <td>06</td>\n      <td>Yuba County</td>\n    </tr>\n  </tbody>\n</table>\n</div>"
     },
     "metadata": {}
    }
   ],
   "execution_count": null
  },
  {
   "cell_type": "markdown",
   "source": "### Pull Census 1-year data and select variables",
   "metadata": {
    "tags": [],
    "cell_id": "00006-41b9c451-eee0-40e5-b511-85ec16a673a6",
    "deepnote_cell_type": "markdown"
   }
  },
  {
   "cell_type": "code",
   "metadata": {
    "tags": [],
    "deepnote_to_be_reexecuted": false,
    "source_hash": "1af71157",
    "execution_start": 1638563492594,
    "execution_millis": 0,
    "cell_id": "00007-89031058-ef47-4bc2-82c8-c4da8c41d64d",
    "deepnote_cell_type": "code"
   },
   "source": "c = Census('307a9c458f89f32c9cf817fb1ae4f426ccc84e2c')\n#This is the key to use the API. It was obtained at https://api.census.gov/data/key_signup.html\n",
   "outputs": [],
   "execution_count": null
  },
  {
   "cell_type": "code",
   "metadata": {
    "tags": [],
    "deepnote_to_be_reexecuted": false,
    "source_hash": "16ea1945",
    "execution_start": 1638563492610,
    "execution_millis": 3,
    "cell_id": "00008-e076b7aa-11f9-43c0-8419-b08536b64945",
    "deepnote_cell_type": "code"
   },
   "source": "#List of variables available at https://api.census.gov/data/2019/acs/acs1/variables.html \ncategories = [\n     'NAME', # county name\n     'B01001_001E', # Total population\n     'B15002_001E', # Total population 25 and over\n     'B17001_002E', #total poverty status - income in past 12 months below poverty level\n     'B19013_001E', # Median income\n     'B25111_001E', #Median Gross Rent\n     'B25077_001E', # Median home value\n     'B15011_001E', # Total population age 25+ years with a bachelor's degree or higher\n     'B03002_003E', # Not Hispanic or Latino!!White alone\n     'B03002_004E', # Not Hispanic or Latino!!Black or African American alone\n     'B02001_004E', # American Indian and Alaska Native Alone\n     'B03002_006E', # Not Hispanic or Latino!!Asian alone\n     'B03002_007E', # Not Hispanic or Latino!!Native Hawaiian and Other Pacific Islander alone\n     'B03002_008E', # Not Hispanic or Latino!!Some other race alone\n     'B03002_009E', # Not Hispanic or Latino!!Two or more races\n     'B03002_012E', # Hispanic or Latino\n]\n\n#Fields we might want to add:\n#\"C08134_001E\",#\"Estimate!!Total:\",\"MEANS OF TRANSPORTATION TO WORK BY TRAVEL TIME TO WORK\"",
   "outputs": [],
   "execution_count": null
  },
  {
   "cell_type": "code",
   "metadata": {
    "tags": [],
    "deepnote_to_be_reexecuted": false,
    "source_hash": "44f01d1",
    "execution_start": 1638563492625,
    "execution_millis": 15,
    "cell_id": "00009-75fb85f3-609a-4ba8-ba3a-cb51c3ba22a2",
    "deepnote_cell_type": "code"
   },
   "source": "# https://pypi.org/project/census/ list of geography levels available\n#This function pulls county level data for acs 1-year\n# def get_acs_data(state_code, county_code, timeperiod, county):\n#     results = c.acs1.state_county(\n#         categories,\n#         '06', #This is CA\n#         county_code,\n#         #Census.ALL,\n#         year = timeperiod\n#     )\n\n\n#     return [ {\n#         'geoid': res['state'] + res['county'],\n#         'name': res['NAME'],\n#         'year':year,\n#         'total_population': res['B01001_001E'],\n#         'total_population_25_over': res['B15002_001E'],\n#         'median_income': res['B19013_001E'],\n#         'median_gross_rent': res['B25111_001E'],\n#         'median_home_value': res['B25077_001E'],\n#         'poverty_total': res['B17001_002E'],\n\n#         'educational_attainment': res['B15011_001E'],\n#         'white_alone_non_hisp': res['B03002_003E'],\n#         'black_alone_non_hisp': res['B03002_004E'],\n#         'native_alone': res['B02001_004E'],\n#         'asian_alone': res['B03002_006E'],\n#         'native_hawaiian_pacific_islander': res['B03002_007E'],\n#         'some_other_race_alone': res['B03002_008E'],\n#         'two_or_more': res['B03002_009E'],\n#         'hispanic_or_latino': res['B03002_012E'],\n#         'county': county,\n#     } for res in results ]\n\n\n    # https://pypi.org/project/census/ list of geography levels available\n#This function pulls county level data for acs 1-year\ndef get_acs_data(state_code, county_code, timeperiod, county, yr_5):\n    \n    if yr_5 == 'year_5':\n        results = c.acs5.state_county(\n            categories,\n            '06', #This is CA\n            county_code,\n            #Census.ALL,\n            year = timeperiod\n        )\n\n    else:\n        results = c.acs1.state_county(\n            categories,\n            '06', #This is CA\n            county_code,\n            #Census.ALL,\n            year = timeperiod\n        )\n\n\n    return [ {\n        'geoid': res['state'] + res['county'],\n        'name': res['NAME'],\n        'year':year,\n        'total_population': res['B01001_001E'],\n        'total_population_25_over': res['B15002_001E'],\n        'median_income': res['B19013_001E'],\n        'median_gross_rent': res['B25111_001E'],\n        'median_home_value': res['B25077_001E'],\n        'poverty_total': res['B17001_002E'],\n\n        'educational_attainment': res['B15011_001E'],\n        'white_alone_non_hisp': res['B03002_003E'],\n        'black_alone_non_hisp': res['B03002_004E'],\n        'native_alone': res['B02001_004E'],\n        'asian_alone': res['B03002_006E'],\n        'native_hawaiian_pacific_islander': res['B03002_007E'],\n        'some_other_race_alone': res['B03002_008E'],\n        'two_or_more': res['B03002_009E'],\n        'hispanic_or_latino': res['B03002_012E'],\n        'county': county,\n    } for res in results ]",
   "outputs": [],
   "execution_count": null
  },
  {
   "cell_type": "code",
   "metadata": {
    "tags": [],
    "deepnote_to_be_reexecuted": false,
    "source_hash": "83f0ab5c",
    "execution_start": 1638563492646,
    "execution_millis": 7,
    "cell_id": "00010-e759b8f1-1ce6-4281-9626-e587ee8998fb",
    "deepnote_cell_type": "code"
   },
   "source": "# Unhashtag the following code to see the 1-year ACS data at the \n# County level for California. This represents 41 counties\n\n# c.acs1.state_county(\n#         categories,\n#         '06',\n#         #state_code,\n#         Census.ALL,\n#         year = 2019\n#     )",
   "outputs": [],
   "execution_count": null
  },
  {
   "cell_type": "code",
   "metadata": {
    "tags": [],
    "deepnote_to_be_reexecuted": false,
    "source_hash": "9daca403",
    "execution_start": 1638563492667,
    "execution_millis": 3,
    "cell_id": "00011-6493bcda-2df7-4ae7-ada3-2a059e574735",
    "deepnote_cell_type": "code"
   },
   "source": "\ncounty_list[\"metro_area_name\"] = 'CA'\nmetro_area_counties = county_list#.iloc[:1,:]\n",
   "outputs": [],
   "execution_count": null
  },
  {
   "cell_type": "code",
   "metadata": {
    "tags": [],
    "deepnote_to_be_reexecuted": false,
    "source_hash": "9ea0ba3a",
    "execution_start": 1638563492719,
    "execution_millis": 32894,
    "deepnote_output_heights": [
     null,
     462.5
    ],
    "cell_id": "00012-bf669d32-5c46-49aa-b493-f1207c93c44d",
    "deepnote_cell_type": "code"
   },
   "source": "census_data = []\nyears=list(range(2019,2020))\n\nfor year in years:\n    for index, county in metro_area_counties.iterrows():\n        print(county[\"county\"])\n        \n        census_data += get_acs_data(\n            county[\"state_code\"], \n            county[\"county_code\"], \n            year, \n            county[\"county\"], \n            'year_1'\n        )\n\ncensus_data_1yr = pd.DataFrame(census_data)",
   "outputs": [
    {
     "name": "stdout",
     "text": "Alameda County\nAlpine County\nAmador County\nButte County\nCalaveras County\nColusa County\nContra Costa County\nDel Norte County\nEl Dorado County\nFresno County\nGlenn County\nHumboldt County\nImperial County\nInyo County\nKern County\nKings County\nLake County\nLassen County\nLos Angeles County\nMadera County\nMarin County\nMariposa County\nMendocino County\nMerced County\nModoc County\nMono County\nMonterey County\nNapa County\nNevada County\nOrange County\nPlacer County\nPlumas County\nRiverside County\nSacramento County\nSan Benito County\nSan Bernardino County\nSan Diego County\nSan Francisco County\nSan Joaquin County\nSan Luis Obispo County\nSan Mateo County\nSanta Barbara County\nSanta Clara County\nSanta Cruz County\nShasta County\nSierra County\nSiskiyou County\nSolano County\nSonoma County\nStanislaus County\nSutter County\nTehama County\nTrinity County\nTulare County\nTuolumne County\nVentura County\nYolo County\nYuba County\n",
     "output_type": "stream"
    }
   ],
   "execution_count": null
  },
  {
   "cell_type": "code",
   "metadata": {
    "tags": [],
    "deepnote_to_be_reexecuted": false,
    "source_hash": "e5e4ffe1",
    "execution_start": 1638563525672,
    "execution_millis": 148,
    "cell_id": "00013-35f31aeb-579f-4a9b-822e-769a2cbaeb55",
    "deepnote_cell_type": "code"
   },
   "source": "census_data_1yr",
   "outputs": [
    {
     "output_type": "execute_result",
     "execution_count": 11,
     "data": {
      "application/vnd.deepnote.dataframe.v2+json": {
       "row_count": 41,
       "column_count": 19,
       "columns": [
        {
         "name": "geoid",
         "dtype": "object",
         "stats": {
          "unique_count": 41,
          "nan_count": 0,
          "categories": [
           {
            "name": "06001",
            "count": 1
           },
           {
            "name": "06007",
            "count": 1
           },
           {
            "name": "39 others",
            "count": 39
           }
          ]
         }
        },
        {
         "name": "name",
         "dtype": "object",
         "stats": {
          "unique_count": 41,
          "nan_count": 0,
          "categories": [
           {
            "name": "Alameda County, California",
            "count": 1
           },
           {
            "name": "Butte County, California",
            "count": 1
           },
           {
            "name": "39 others",
            "count": 39
           }
          ]
         }
        },
        {
         "name": "year",
         "dtype": "int64",
         "stats": {
          "unique_count": 1,
          "nan_count": 0,
          "min": "2019",
          "max": "2019",
          "histogram": [
           {
            "bin_start": 2018.5,
            "bin_end": 2018.6,
            "count": 0
           },
           {
            "bin_start": 2018.6,
            "bin_end": 2018.7,
            "count": 0
           },
           {
            "bin_start": 2018.7,
            "bin_end": 2018.8,
            "count": 0
           },
           {
            "bin_start": 2018.8,
            "bin_end": 2018.9,
            "count": 0
           },
           {
            "bin_start": 2018.9,
            "bin_end": 2019,
            "count": 0
           },
           {
            "bin_start": 2019,
            "bin_end": 2019.1,
            "count": 41
           },
           {
            "bin_start": 2019.1,
            "bin_end": 2019.2,
            "count": 0
           },
           {
            "bin_start": 2019.2,
            "bin_end": 2019.3,
            "count": 0
           },
           {
            "bin_start": 2019.3,
            "bin_end": 2019.4,
            "count": 0
           },
           {
            "bin_start": 2019.4,
            "bin_end": 2019.5,
            "count": 0
           }
          ]
         }
        },
        {
         "name": "total_population",
         "dtype": "float64",
         "stats": {
          "unique_count": 41,
          "nan_count": 0,
          "min": "64386.0",
          "max": "10039107.0",
          "histogram": [
           {
            "bin_start": 64386,
            "bin_end": 1061858.1,
            "count": 32
           },
           {
            "bin_start": 1061858.1,
            "bin_end": 2059330.2,
            "count": 4
           },
           {
            "bin_start": 2059330.2,
            "bin_end": 3056802.3,
            "count": 2
           },
           {
            "bin_start": 3056802.3,
            "bin_end": 4054274.4,
            "count": 2
           },
           {
            "bin_start": 4054274.4,
            "bin_end": 5051746.5,
            "count": 0
           },
           {
            "bin_start": 5051746.5,
            "bin_end": 6049218.6,
            "count": 0
           },
           {
            "bin_start": 6049218.6,
            "bin_end": 7046690.7,
            "count": 0
           },
           {
            "bin_start": 7046690.7,
            "bin_end": 8044162.8,
            "count": 0
           },
           {
            "bin_start": 8044162.8,
            "bin_end": 9041634.9,
            "count": 0
           },
           {
            "bin_start": 9041634.9,
            "bin_end": 10039107,
            "count": 1
           }
          ]
         }
        },
        {
         "name": "total_population_25_over",
         "dtype": "float64",
         "stats": {
          "unique_count": 41,
          "nan_count": 0,
          "min": "45751.0",
          "max": "6961614.0",
          "histogram": [
           {
            "bin_start": 45751,
            "bin_end": 737337.3,
            "count": 32
           },
           {
            "bin_start": 737337.3,
            "bin_end": 1428923.6,
            "count": 5
           },
           {
            "bin_start": 1428923.6,
            "bin_end": 2120509.9000000004,
            "count": 1
           },
           {
            "bin_start": 2120509.9000000004,
            "bin_end": 2812096.2,
            "count": 2
           },
           {
            "bin_start": 2812096.2,
            "bin_end": 3503682.5,
            "count": 0
           },
           {
            "bin_start": 3503682.5,
            "bin_end": 4195268.800000001,
            "count": 0
           },
           {
            "bin_start": 4195268.800000001,
            "bin_end": 4886855.100000001,
            "count": 0
           },
           {
            "bin_start": 4886855.100000001,
            "bin_end": 5578441.4,
            "count": 0
           },
           {
            "bin_start": 5578441.4,
            "bin_end": 6270027.7,
            "count": 0
           },
           {
            "bin_start": 6270027.7,
            "bin_end": 6961614,
            "count": 1
           }
          ]
         }
        },
        {
         "name": "median_income",
         "dtype": "float64",
         "stats": {
          "unique_count": 41,
          "nan_count": 0,
          "min": "47138.0",
          "max": "138500.0",
          "histogram": [
           {
            "bin_start": 47138,
            "bin_end": 56274.2,
            "count": 6
           },
           {
            "bin_start": 56274.2,
            "bin_end": 65410.4,
            "count": 10
           },
           {
            "bin_start": 65410.4,
            "bin_end": 74546.6,
            "count": 7
           },
           {
            "bin_start": 74546.6,
            "bin_end": 83682.8,
            "count": 3
           },
           {
            "bin_start": 83682.8,
            "bin_end": 92819,
            "count": 7
           },
           {
            "bin_start": 92819,
            "bin_end": 101955.20000000001,
            "count": 2
           },
           {
            "bin_start": 101955.20000000001,
            "bin_end": 111091.40000000001,
            "count": 3
           },
           {
            "bin_start": 111091.40000000001,
            "bin_end": 120227.6,
            "count": 0
           },
           {
            "bin_start": 120227.6,
            "bin_end": 129363.8,
            "count": 1
           },
           {
            "bin_start": 129363.8,
            "bin_end": 138500,
            "count": 2
           }
          ]
         }
        },
        {
         "name": "median_gross_rent",
         "dtype": "float64",
         "stats": {
          "unique_count": 41,
          "nan_count": 0,
          "min": "810.0",
          "max": "2497.0",
          "histogram": [
           {
            "bin_start": 810,
            "bin_end": 978.7,
            "count": 4
           },
           {
            "bin_start": 978.7,
            "bin_end": 1147.4,
            "count": 10
           },
           {
            "bin_start": 1147.4,
            "bin_end": 1316.1,
            "count": 4
           },
           {
            "bin_start": 1316.1,
            "bin_end": 1484.8,
            "count": 3
           },
           {
            "bin_start": 1484.8,
            "bin_end": 1653.5,
            "count": 4
           },
           {
            "bin_start": 1653.5,
            "bin_end": 1822.1999999999998,
            "count": 7
           },
           {
            "bin_start": 1822.1999999999998,
            "bin_end": 1990.8999999999999,
            "count": 6
           },
           {
            "bin_start": 1990.8999999999999,
            "bin_end": 2159.6,
            "count": 1
           },
           {
            "bin_start": 2159.6,
            "bin_end": 2328.3,
            "count": 0
           },
           {
            "bin_start": 2328.3,
            "bin_end": 2497,
            "count": 2
           }
          ]
         }
        },
        {
         "name": "median_home_value",
         "dtype": "float64",
         "stats": {
          "unique_count": 41,
          "nan_count": 0,
          "min": "229600.0",
          "max": "1233600.0",
          "histogram": [
           {
            "bin_start": 229600,
            "bin_end": 330000,
            "count": 12
           },
           {
            "bin_start": 330000,
            "bin_end": 430400,
            "count": 7
           },
           {
            "bin_start": 430400,
            "bin_end": 530800,
            "count": 5
           },
           {
            "bin_start": 530800,
            "bin_end": 631200,
            "count": 5
           },
           {
            "bin_start": 631200,
            "bin_end": 731600,
            "count": 6
           },
           {
            "bin_start": 731600,
            "bin_end": 832000,
            "count": 0
           },
           {
            "bin_start": 832000,
            "bin_end": 932400,
            "count": 2
           },
           {
            "bin_start": 932400,
            "bin_end": 1032800,
            "count": 0
           },
           {
            "bin_start": 1032800,
            "bin_end": 1133200,
            "count": 1
           },
           {
            "bin_start": 1133200,
            "bin_end": 1233600,
            "count": 3
           }
          ]
         }
        },
        {
         "name": "poverty_total",
         "dtype": "float64",
         "stats": {
          "unique_count": 41,
          "nan_count": 0,
          "min": "8344.0",
          "max": "1321571.0",
          "histogram": [
           {
            "bin_start": 8344,
            "bin_end": 139666.7,
            "count": 32
           },
           {
            "bin_start": 139666.7,
            "bin_end": 270989.4,
            "count": 4
           },
           {
            "bin_start": 270989.4,
            "bin_end": 402312.10000000003,
            "count": 4
           },
           {
            "bin_start": 402312.10000000003,
            "bin_end": 533634.8,
            "count": 0
           },
           {
            "bin_start": 533634.8,
            "bin_end": 664957.5,
            "count": 0
           },
           {
            "bin_start": 664957.5,
            "bin_end": 796280.2000000001,
            "count": 0
           },
           {
            "bin_start": 796280.2000000001,
            "bin_end": 927602.9000000001,
            "count": 0
           },
           {
            "bin_start": 927602.9000000001,
            "bin_end": 1058925.6,
            "count": 0
           },
           {
            "bin_start": 1058925.6,
            "bin_end": 1190248.3,
            "count": 0
           },
           {
            "bin_start": 1190248.3,
            "bin_end": 1321571,
            "count": 1
           }
          ]
         }
        },
        {
         "name": "educational_attainment",
         "dtype": "float64",
         "stats": {
          "unique_count": 38,
          "nan_count": 3,
          "min": "13224.0",
          "max": "2349549.0",
          "histogram": [
           {
            "bin_start": 13224,
            "bin_end": 246856.5,
            "count": 27
           },
           {
            "bin_start": 246856.5,
            "bin_end": 480489,
            "count": 6
           },
           {
            "bin_start": 480489,
            "bin_end": 714121.5,
            "count": 1
           },
           {
            "bin_start": 714121.5,
            "bin_end": 947754,
            "count": 3
           },
           {
            "bin_start": 947754,
            "bin_end": 1181386.5,
            "count": 0
           },
           {
            "bin_start": 1181386.5,
            "bin_end": 1415019,
            "count": 0
           },
           {
            "bin_start": 1415019,
            "bin_end": 1648651.5,
            "count": 0
           },
           {
            "bin_start": 1648651.5,
            "bin_end": 1882284,
            "count": 0
           },
           {
            "bin_start": 1882284,
            "bin_end": 2115916.5,
            "count": 0
           },
           {
            "bin_start": 2115916.5,
            "bin_end": 2349549,
            "count": 1
           }
          ]
         }
        },
        {
         "name": "white_alone_non_hisp",
         "dtype": "float64",
         "stats": {
          "unique_count": 37,
          "nan_count": 4,
          "min": "18139.0",
          "max": "2596980.0",
          "histogram": [
           {
            "bin_start": 18139,
            "bin_end": 276023.1,
            "count": 21
           },
           {
            "bin_start": 276023.1,
            "bin_end": 533907.2,
            "count": 9
           },
           {
            "bin_start": 533907.2,
            "bin_end": 791791.3,
            "count": 3
           },
           {
            "bin_start": 791791.3,
            "bin_end": 1049675.4,
            "count": 1
           },
           {
            "bin_start": 1049675.4,
            "bin_end": 1307559.5,
            "count": 1
           },
           {
            "bin_start": 1307559.5,
            "bin_end": 1565443.6,
            "count": 1
           },
           {
            "bin_start": 1565443.6,
            "bin_end": 1823327.7,
            "count": 0
           },
           {
            "bin_start": 1823327.7,
            "bin_end": 2081211.8,
            "count": 0
           },
           {
            "bin_start": 2081211.8,
            "bin_end": 2339095.9,
            "count": 0
           },
           {
            "bin_start": 2339095.9,
            "bin_end": 2596980,
            "count": 1
           }
          ]
         }
        },
        {
         "name": "black_alone_non_hisp",
         "dtype": "float64",
         "stats": {
          "unique_count": 37,
          "nan_count": 4,
          "min": "823.0",
          "max": "777195.0",
          "histogram": [
           {
            "bin_start": 823,
            "bin_end": 78460.2,
            "count": 30
           },
           {
            "bin_start": 78460.2,
            "bin_end": 156097.4,
            "count": 3
           },
           {
            "bin_start": 156097.4,
            "bin_end": 233734.59999999998,
            "count": 3
           },
           {
            "bin_start": 233734.59999999998,
            "bin_end": 311371.8,
            "count": 0
           },
           {
            "bin_start": 311371.8,
            "bin_end": 389009,
            "count": 0
           },
           {
            "bin_start": 389009,
            "bin_end": 466646.19999999995,
            "count": 0
           },
           {
            "bin_start": 466646.19999999995,
            "bin_end": 544283.4,
            "count": 0
           },
           {
            "bin_start": 544283.4,
            "bin_end": 621920.6,
            "count": 0
           },
           {
            "bin_start": 621920.6,
            "bin_end": 699557.7999999999,
            "count": 0
           },
           {
            "bin_start": 699557.7999999999,
            "bin_end": 777195,
            "count": 1
           }
          ]
         }
        },
        {
         "name": "native_alone",
         "dtype": "float64",
         "stats": {
          "unique_count": 40,
          "nan_count": 0,
          "min": "472.0",
          "max": "81491.0",
          "histogram": [
           {
            "bin_start": 472,
            "bin_end": 8573.9,
            "count": 31
           },
           {
            "bin_start": 8573.9,
            "bin_end": 16675.8,
            "count": 6
           },
           {
            "bin_start": 16675.8,
            "bin_end": 24777.699999999997,
            "count": 3
           },
           {
            "bin_start": 24777.699999999997,
            "bin_end": 32879.6,
            "count": 0
           },
           {
            "bin_start": 32879.6,
            "bin_end": 40981.5,
            "count": 0
           },
           {
            "bin_start": 40981.5,
            "bin_end": 49083.399999999994,
            "count": 0
           },
           {
            "bin_start": 49083.399999999994,
            "bin_end": 57185.299999999996,
            "count": 0
           },
           {
            "bin_start": 57185.299999999996,
            "bin_end": 65287.2,
            "count": 0
           },
           {
            "bin_start": 65287.2,
            "bin_end": 73389.09999999999,
            "count": 0
           },
           {
            "bin_start": 73389.09999999999,
            "bin_end": 81491,
            "count": 1
           }
          ]
         }
        },
        {
         "name": "asian_alone",
         "dtype": "float64",
         "stats": {
          "unique_count": 37,
          "nan_count": 4,
          "min": "1936.0",
          "max": "1456809.0",
          "histogram": [
           {
            "bin_start": 1936,
            "bin_end": 147423.3,
            "count": 26
           },
           {
            "bin_start": 147423.3,
            "bin_end": 292910.6,
            "count": 5
           },
           {
            "bin_start": 292910.6,
            "bin_end": 438397.89999999997,
            "count": 2
           },
           {
            "bin_start": 438397.89999999997,
            "bin_end": 583885.2,
            "count": 1
           },
           {
            "bin_start": 583885.2,
            "bin_end": 729372.5,
            "count": 2
           },
           {
            "bin_start": 729372.5,
            "bin_end": 874859.7999999999,
            "count": 0
           },
           {
            "bin_start": 874859.7999999999,
            "bin_end": 1020347.0999999999,
            "count": 0
           },
           {
            "bin_start": 1020347.0999999999,
            "bin_end": 1165834.4,
            "count": 0
           },
           {
            "bin_start": 1165834.4,
            "bin_end": 1311321.7,
            "count": 0
           },
           {
            "bin_start": 1311321.7,
            "bin_end": 1456809,
            "count": 1
           }
          ]
         }
        },
        {
         "name": "native_hawaiian_pacific_islander",
         "dtype": "float64",
         "stats": {
          "unique_count": 37,
          "nan_count": 4,
          "min": "0.0",
          "max": "22606.0",
          "histogram": [
           {
            "bin_start": 0,
            "bin_end": 2260.6,
            "count": 23
           },
           {
            "bin_start": 2260.6,
            "bin_end": 4521.2,
            "count": 4
           },
           {
            "bin_start": 4521.2,
            "bin_end": 6781.799999999999,
            "count": 3
           },
           {
            "bin_start": 6781.799999999999,
            "bin_end": 9042.4,
            "count": 1
           },
           {
            "bin_start": 9042.4,
            "bin_end": 11303,
            "count": 2
           },
           {
            "bin_start": 11303,
            "bin_end": 13563.599999999999,
            "count": 2
           },
           {
            "bin_start": 13563.599999999999,
            "bin_end": 15824.199999999999,
            "count": 0
           },
           {
            "bin_start": 15824.199999999999,
            "bin_end": 18084.8,
            "count": 0
           },
           {
            "bin_start": 18084.8,
            "bin_end": 20345.399999999998,
            "count": 1
           },
           {
            "bin_start": 20345.399999999998,
            "bin_end": 22606,
            "count": 1
           }
          ]
         }
        },
        {
         "name": "some_other_race_alone",
         "dtype": "float64",
         "stats": {
          "unique_count": 36,
          "nan_count": 4,
          "min": "0.0",
          "max": "40469.0",
          "histogram": [
           {
            "bin_start": 0,
            "bin_end": 4046.9,
            "count": 28
           },
           {
            "bin_start": 4046.9,
            "bin_end": 8093.8,
            "count": 8
           },
           {
            "bin_start": 8093.8,
            "bin_end": 12140.7,
            "count": 0
           },
           {
            "bin_start": 12140.7,
            "bin_end": 16187.6,
            "count": 0
           },
           {
            "bin_start": 16187.6,
            "bin_end": 20234.5,
            "count": 0
           },
           {
            "bin_start": 20234.5,
            "bin_end": 24281.4,
            "count": 0
           },
           {
            "bin_start": 24281.4,
            "bin_end": 28328.3,
            "count": 0
           },
           {
            "bin_start": 28328.3,
            "bin_end": 32375.2,
            "count": 0
           },
           {
            "bin_start": 32375.2,
            "bin_end": 36422.1,
            "count": 0
           },
           {
            "bin_start": 36422.1,
            "bin_end": 40469,
            "count": 1
           }
          ]
         }
        },
        {
         "name": "two_or_more",
         "dtype": "float64",
         "stats": {
          "unique_count": 37,
          "nan_count": 4,
          "min": "915.0",
          "max": "238829.0",
          "histogram": [
           {
            "bin_start": 915,
            "bin_end": 24706.4,
            "count": 24
           },
           {
            "bin_start": 24706.4,
            "bin_end": 48497.8,
            "count": 4
           },
           {
            "bin_start": 48497.8,
            "bin_end": 72289.20000000001,
            "count": 4
           },
           {
            "bin_start": 72289.20000000001,
            "bin_end": 96080.6,
            "count": 3
           },
           {
            "bin_start": 96080.6,
            "bin_end": 119872,
            "count": 0
           },
           {
            "bin_start": 119872,
            "bin_end": 143663.40000000002,
            "count": 1
           },
           {
            "bin_start": 143663.40000000002,
            "bin_end": 167454.80000000002,
            "count": 0
           },
           {
            "bin_start": 167454.80000000002,
            "bin_end": 191246.2,
            "count": 0
           },
           {
            "bin_start": 191246.2,
            "bin_end": 215037.6,
            "count": 0
           },
           {
            "bin_start": 215037.6,
            "bin_end": 238829,
            "count": 1
           }
          ]
         }
        },
        {
         "name": "hispanic_or_latino",
         "dtype": "float64",
         "stats": {
          "unique_count": 37,
          "nan_count": 4,
          "min": "16354.0",
          "max": "4881970.0",
          "histogram": [
           {
            "bin_start": 16354,
            "bin_end": 502915.6,
            "count": 31
           },
           {
            "bin_start": 502915.6,
            "bin_end": 989477.2,
            "count": 1
           },
           {
            "bin_start": 989477.2,
            "bin_end": 1476038.7999999998,
            "count": 4
           },
           {
            "bin_start": 1476038.7999999998,
            "bin_end": 1962600.4,
            "count": 0
           },
           {
            "bin_start": 1962600.4,
            "bin_end": 2449162,
            "count": 0
           },
           {
            "bin_start": 2449162,
            "bin_end": 2935723.5999999996,
            "count": 0
           },
           {
            "bin_start": 2935723.5999999996,
            "bin_end": 3422285.1999999997,
            "count": 0
           },
           {
            "bin_start": 3422285.1999999997,
            "bin_end": 3908846.8,
            "count": 0
           },
           {
            "bin_start": 3908846.8,
            "bin_end": 4395408.399999999,
            "count": 0
           },
           {
            "bin_start": 4395408.399999999,
            "bin_end": 4881970,
            "count": 1
           }
          ]
         }
        },
        {
         "name": "county",
         "dtype": "object",
         "stats": {
          "unique_count": 41,
          "nan_count": 0,
          "categories": [
           {
            "name": "Alameda County",
            "count": 1
           },
           {
            "name": "Butte County",
            "count": 1
           },
           {
            "name": "39 others",
            "count": 39
           }
          ]
         }
        },
        {
         "name": "_deepnote_index_column",
         "dtype": "int64"
        }
       ],
       "rows_top": [
        {
         "geoid": "06001",
         "name": "Alameda County, California",
         "year": 2019,
         "total_population": 1671329,
         "total_population_25_over": 1195107,
         "median_income": 108322,
         "median_gross_rent": 1982,
         "median_home_value": 882100,
         "poverty_total": 145561,
         "educational_attainment": 604814,
         "white_alone_non_hisp": 508598,
         "black_alone_non_hisp": 172718,
         "native_alone": 12648,
         "asian_alone": 517004,
         "native_hawaiian_pacific_islander": 12858,
         "some_other_race_alone": 7922,
         "two_or_more": 73656,
         "hispanic_or_latino": 373055,
         "county": "Alameda County",
         "_deepnote_index_column": 0
        },
        {
         "geoid": "06007",
         "name": "Butte County, California",
         "year": 2019,
         "total_population": 219186,
         "total_population_25_over": 143815,
         "median_income": 62563,
         "median_gross_rent": 1087,
         "median_home_value": 336600,
         "poverty_total": 34050,
         "educational_attainment": 43830,
         "white_alone_non_hisp": 155136,
         "black_alone_non_hisp": 3758,
         "native_alone": 2333,
         "asian_alone": 9763,
         "native_hawaiian_pacific_islander": 527,
         "some_other_race_alone": 279,
         "two_or_more": 10925,
         "hispanic_or_latino": 37731,
         "county": "Butte County",
         "_deepnote_index_column": 1
        },
        {
         "geoid": "06013",
         "name": "Contra Costa County, California",
         "year": 2019,
         "total_population": 1153526,
         "total_population_25_over": 802187,
         "median_income": 107135,
         "median_gross_rent": 1948,
         "median_home_value": 687600,
         "poverty_total": 90508,
         "educational_attainment": 344780,
         "white_alone_non_hisp": 489677,
         "black_alone_non_hisp": 99615,
         "native_alone": 5863,
         "asian_alone": 203261,
         "native_hawaiian_pacific_islander": 4020,
         "some_other_race_alone": 4412,
         "two_or_more": 49862,
         "hispanic_or_latino": 300420,
         "county": "Contra Costa County",
         "_deepnote_index_column": 2
        },
        {
         "geoid": "06017",
         "name": "El Dorado County, California",
         "year": 2019,
         "total_population": 192843,
         "total_population_25_over": 142068,
         "median_income": 87059,
         "median_gross_rent": 1308,
         "median_home_value": 502000,
         "poverty_total": 17736,
         "educational_attainment": 50191,
         "white_alone_non_hisp": 148711,
         "black_alone_non_hisp": 1409,
         "native_alone": 2540,
         "asian_alone": 9991,
         "native_hawaiian_pacific_islander": 125,
         "some_other_race_alone": 380,
         "two_or_more": 4856,
         "hispanic_or_latino": 25378,
         "county": "El Dorado County",
         "_deepnote_index_column": 3
        },
        {
         "geoid": "06019",
         "name": "Fresno County, California",
         "year": 2019,
         "total_population": 999101,
         "total_population_25_over": 621440,
         "median_income": 57518,
         "median_gross_rent": 1034,
         "median_home_value": 288300,
         "poverty_total": 202698,
         "educational_attainment": 136816,
         "white_alone_non_hisp": 285269,
         "black_alone_non_hisp": 43602,
         "native_alone": 13588,
         "asian_alone": 101152,
         "native_hawaiian_pacific_islander": 1811,
         "some_other_race_alone": 2921,
         "two_or_more": 20915,
         "hispanic_or_latino": 537180,
         "county": "Fresno County",
         "_deepnote_index_column": 4
        },
        {
         "geoid": "06023",
         "name": "Humboldt County, California",
         "year": 2019,
         "total_population": 135558,
         "total_population_25_over": 93098,
         "median_income": 51662,
         "median_gross_rent": 1006,
         "median_home_value": 348000,
         "poverty_total": 25886,
         "educational_attainment": 28292,
         "white_alone_non_hisp": 100078,
         "black_alone_non_hisp": 1790,
         "native_alone": 7073,
         "asian_alone": 3525,
         "native_hawaiian_pacific_islander": 539,
         "some_other_race_alone": 49,
         "two_or_more": 7020,
         "hispanic_or_latino": 16354,
         "county": "Humboldt County",
         "_deepnote_index_column": 5
        },
        {
         "geoid": "06025",
         "name": "Imperial County, California",
         "year": 2019,
         "total_population": 181215,
         "total_population_25_over": 111755,
         "median_income": 48472,
         "median_gross_rent": 810,
         "median_home_value": 229600,
         "poverty_total": 42687,
         "educational_attainment": 20569,
         "white_alone_non_hisp": 18139,
         "black_alone_non_hisp": 3624,
         "native_alone": 3791,
         "asian_alone": 2269,
         "native_hawaiian_pacific_islander": 0,
         "some_other_race_alone": 22,
         "two_or_more": 915,
         "hispanic_or_latino": 154088,
         "county": "Imperial County",
         "_deepnote_index_column": 6
        },
        {
         "geoid": "06029",
         "name": "Kern County, California",
         "year": 2019,
         "total_population": 900202,
         "total_population_25_over": 551956,
         "median_income": 53067,
         "median_gross_rent": 949,
         "median_home_value": 235800,
         "poverty_total": 166768,
         "educational_attainment": 94296,
         "white_alone_non_hisp": 295068,
         "black_alone_non_hisp": 44566,
         "native_alone": 8906,
         "asian_alone": 41093,
         "native_hawaiian_pacific_islander": 907,
         "some_other_race_alone": 316,
         "two_or_more": 22422,
         "hispanic_or_latino": 491545,
         "county": "Kern County",
         "_deepnote_index_column": 7
        },
        {
         "geoid": "06031",
         "name": "Kings County, California",
         "year": 2019,
         "total_population": 152940,
         "total_population_25_over": 95083,
         "median_income": 58453,
         "median_gross_rent": 969,
         "median_home_value": 247600,
         "poverty_total": 21063,
         "educational_attainment": 16745,
         "white_alone_non_hisp": 47938,
         "black_alone_non_hisp": 8130,
         "native_alone": 2804,
         "asian_alone": 4951,
         "native_hawaiian_pacific_islander": 460,
         "some_other_race_alone": 0,
         "two_or_more": 5511,
         "hispanic_or_latino": 84514,
         "county": "Kings County",
         "_deepnote_index_column": 8
        },
        {
         "geoid": "06033",
         "name": "Lake County, California",
         "year": 2019,
         "total_population": 64386,
         "total_population_25_over": 47186,
         "median_income": 47138,
         "median_gross_rent": 992,
         "median_home_value": 255200,
         "poverty_total": 12019,
         "educational_attainment": "nan",
         "white_alone_non_hisp": "nan",
         "black_alone_non_hisp": "nan",
         "native_alone": 2540,
         "asian_alone": "nan",
         "native_hawaiian_pacific_islander": "nan",
         "some_other_race_alone": "nan",
         "two_or_more": "nan",
         "hispanic_or_latino": "nan",
         "county": "Lake County",
         "_deepnote_index_column": 9
        },
        {
         "geoid": "06037",
         "name": "Los Angeles County, California",
         "year": 2019,
         "total_population": 10039107,
         "total_population_25_over": 6961614,
         "median_income": 72797,
         "median_gross_rent": 1577,
         "median_home_value": 644100,
         "poverty_total": 1321571,
         "educational_attainment": 2349549,
         "white_alone_non_hisp": 2596980,
         "black_alone_non_hisp": 777195,
         "native_alone": 81491,
         "asian_alone": 1456809,
         "native_hawaiian_pacific_islander": 22606,
         "some_other_race_alone": 40469,
         "two_or_more": 238829,
         "hispanic_or_latino": 4881970,
         "county": "Los Angeles County",
         "_deepnote_index_column": 10
        },
        {
         "geoid": "06039",
         "name": "Madera County, California",
         "year": 2019,
         "total_population": 157327,
         "total_population_25_over": 99392,
         "median_income": 64827,
         "median_gross_rent": 1028,
         "median_home_value": 294000,
         "poverty_total": 26093,
         "educational_attainment": 14022,
         "white_alone_non_hisp": 51998,
         "black_alone_non_hisp": 3725,
         "native_alone": 1810,
         "asian_alone": 3530,
         "native_hawaiian_pacific_islander": 1131,
         "some_other_race_alone": 176,
         "two_or_more": 2884,
         "hispanic_or_latino": 92484,
         "county": "Madera County",
         "_deepnote_index_column": 11
        },
        {
         "geoid": "06041",
         "name": "Marin County, California",
         "year": 2019,
         "total_population": 258826,
         "total_population_25_over": 188509,
         "median_income": 110843,
         "median_gross_rent": 2096,
         "median_home_value": 1078800,
         "poverty_total": 16925,
         "educational_attainment": 112509,
         "white_alone_non_hisp": 183557,
         "black_alone_non_hisp": 6663,
         "native_alone": 1534,
         "asian_alone": 16383,
         "native_hawaiian_pacific_islander": 273,
         "some_other_race_alone": 652,
         "two_or_more": 9068,
         "hispanic_or_latino": 42160,
         "county": "Marin County",
         "_deepnote_index_column": 12
        },
        {
         "geoid": "06045",
         "name": "Mendocino County, California",
         "year": 2019,
         "total_population": 86749,
         "total_population_25_over": 61561,
         "median_income": 51744,
         "median_gross_rent": 1120,
         "median_home_value": 431000,
         "poverty_total": 11279,
         "educational_attainment": 14346,
         "white_alone_non_hisp": 55820,
         "black_alone_non_hisp": 823,
         "native_alone": 4610,
         "asian_alone": 1936,
         "native_hawaiian_pacific_islander": 135,
         "some_other_race_alone": 105,
         "two_or_more": 1683,
         "hispanic_or_latino": 22379,
         "county": "Mendocino County",
         "_deepnote_index_column": 13
        },
        {
         "geoid": "06047",
         "name": "Merced County, California",
         "year": 2019,
         "total_population": 277680,
         "total_population_25_over": 167460,
         "median_income": 61167,
         "median_gross_rent": 1097,
         "median_home_value": 282900,
         "poverty_total": 45396,
         "educational_attainment": 24176,
         "white_alone_non_hisp": 73218,
         "black_alone_non_hisp": 8833,
         "native_alone": 2821,
         "asian_alone": 20232,
         "native_hawaiian_pacific_islander": 34,
         "some_other_race_alone": 0,
         "two_or_more": 4853,
         "hispanic_or_latino": 169442,
         "county": "Merced County",
         "_deepnote_index_column": 14
        },
        {
         "geoid": "06053",
         "name": "Monterey County, California",
         "year": 2019,
         "total_population": 434061,
         "total_population_25_over": 277924,
         "median_income": 77514,
         "median_gross_rent": 1658,
         "median_home_value": 602900,
         "poverty_total": 52838,
         "educational_attainment": 71433,
         "white_alone_non_hisp": 126493,
         "black_alone_non_hisp": 11212,
         "native_alone": 2057,
         "asian_alone": 25279,
         "native_hawaiian_pacific_islander": 757,
         "some_other_race_alone": 987,
         "two_or_more": 11017,
         "hispanic_or_latino": 257721,
         "county": "Monterey County",
         "_deepnote_index_column": 15
        },
        {
         "geoid": "06055",
         "name": "Napa County, California",
         "year": 2019,
         "total_population": 137744,
         "total_population_25_over": 97666,
         "median_income": 92769,
         "median_gross_rent": 1835,
         "median_home_value": 670000,
         "poverty_total": 9088,
         "educational_attainment": 35320,
         "white_alone_non_hisp": 70896,
         "black_alone_non_hisp": 3031,
         "native_alone": 815,
         "asian_alone": 11293,
         "native_hawaiian_pacific_islander": 237,
         "some_other_race_alone": 395,
         "two_or_more": 3539,
         "hispanic_or_latino": 47661,
         "county": "Napa County",
         "_deepnote_index_column": 16
        },
        {
         "geoid": "06057",
         "name": "Nevada County, California",
         "year": 2019,
         "total_population": 99755,
         "total_population_25_over": 77008,
         "median_income": 68818,
         "median_gross_rent": 1407,
         "median_home_value": 485000,
         "poverty_total": 8344,
         "educational_attainment": 27584,
         "white_alone_non_hisp": "nan",
         "black_alone_non_hisp": "nan",
         "native_alone": 487,
         "asian_alone": "nan",
         "native_hawaiian_pacific_islander": "nan",
         "some_other_race_alone": "nan",
         "two_or_more": "nan",
         "hispanic_or_latino": "nan",
         "county": "Nevada County",
         "_deepnote_index_column": 17
        },
        {
         "geoid": "06059",
         "name": "Orange County, California",
         "year": 2019,
         "total_population": 3175692,
         "total_population_25_over": 2200478,
         "median_income": 95934,
         "median_gross_rent": 1929,
         "median_home_value": 725100,
         "poverty_total": 296159,
         "educational_attainment": 902844,
         "white_alone_non_hisp": 1260906,
         "black_alone_non_hisp": 52029,
         "native_alone": 12961,
         "asian_alone": 668434,
         "native_hawaiian_pacific_islander": 9712,
         "some_other_race_alone": 5727,
         "two_or_more": 92411,
         "hispanic_or_latino": 1081091,
         "county": "Orange County",
         "_deepnote_index_column": 18
        },
        {
         "geoid": "06061",
         "name": "Placer County, California",
         "year": 2019,
         "total_population": 398329,
         "total_population_25_over": 281521,
         "median_income": 97723,
         "median_gross_rent": 1640,
         "median_home_value": 534700,
         "poverty_total": 28270,
         "educational_attainment": 118018,
         "white_alone_non_hisp": 284331,
         "black_alone_non_hisp": 7663,
         "native_alone": 2238,
         "asian_alone": 32594,
         "native_hawaiian_pacific_islander": 700,
         "some_other_race_alone": 160,
         "two_or_more": 13996,
         "hispanic_or_latino": 57381,
         "county": "Placer County",
         "_deepnote_index_column": 19
        },
        {
         "geoid": "06065",
         "name": "Riverside County, California",
         "year": 2019,
         "total_population": 2470546,
         "total_population_25_over": 1620917,
         "median_income": 73260,
         "median_gross_rent": 1497,
         "median_home_value": 384400,
         "poverty_total": 273451,
         "educational_attainment": 381291,
         "white_alone_non_hisp": 836932,
         "black_alone_non_hisp": 151215,
         "native_alone": 20934,
         "asian_alone": 165066,
         "native_hawaiian_pacific_islander": 7961,
         "some_other_race_alone": 6562,
         "two_or_more": 56458,
         "hispanic_or_latino": 1236032,
         "county": "Riverside County",
         "_deepnote_index_column": 20
        },
        {
         "geoid": "06067",
         "name": "Sacramento County, California",
         "year": 2019,
         "total_population": 1552058,
         "total_population_25_over": 1058536,
         "median_income": 72017,
         "median_gross_rent": 1363,
         "median_home_value": 390200,
         "poverty_total": 192635,
         "educational_attainment": 330589,
         "white_alone_non_hisp": 678326,
         "black_alone_non_hisp": 144416,
         "native_alone": 11004,
         "asian_alone": 247383,
         "native_hawaiian_pacific_islander": 18873,
         "some_other_race_alone": 2569,
         "two_or_more": 87989,
         "hispanic_or_latino": 366764,
         "county": "Sacramento County",
         "_deepnote_index_column": 21
        },
        {
         "geoid": "06071",
         "name": "San Bernardino County, California",
         "year": 2019,
         "total_population": 2180085,
         "total_population_25_over": 1390788,
         "median_income": 67903,
         "median_gross_rent": 1342,
         "median_home_value": 369900,
         "poverty_total": 282497,
         "educational_attainment": 312695,
         "white_alone_non_hisp": 591879,
         "black_alone_non_hisp": 168946,
         "native_alone": 17061,
         "asian_alone": 157172,
         "native_hawaiian_pacific_islander": 6545,
         "some_other_race_alone": 4572,
         "two_or_more": 56208,
         "hispanic_or_latino": 1186808,
         "county": "San Bernardino County",
         "_deepnote_index_column": 22
        },
        {
         "geoid": "06073",
         "name": "San Diego County, California",
         "year": 2019,
         "total_population": 3338330,
         "total_population_25_over": 2287472,
         "median_income": 83985,
         "median_gross_rent": 1758,
         "median_home_value": 619300,
         "poverty_total": 333862,
         "educational_attainment": 912647,
         "white_alone_non_hisp": 1495234,
         "black_alone_non_hisp": 156423,
         "native_alone": 23116,
         "asian_alone": 394644,
         "native_hawaiian_pacific_islander": 12648,
         "some_other_race_alone": 5805,
         "two_or_more": 121242,
         "hispanic_or_latino": 1140033,
         "county": "San Diego County",
         "_deepnote_index_column": 23
        },
        {
         "geoid": "06075",
         "name": "San Francisco County, California",
         "year": 2019,
         "total_population": 881549,
         "total_population_25_over": 701279,
         "median_income": 123859,
         "median_gross_rent": 1959,
         "median_home_value": 1217500,
         "poverty_total": 82356,
         "educational_attainment": 415124,
         "white_alone_non_hisp": 351010,
         "black_alone_non_hisp": 46063,
         "native_alone": 3568,
         "asian_alone": 304721,
         "native_hawaiian_pacific_islander": 3548,
         "some_other_race_alone": 3608,
         "two_or_more": 35825,
         "hispanic_or_latino": 134309,
         "county": "San Francisco County",
         "_deepnote_index_column": 24
        },
        {
         "geoid": "06077",
         "name": "San Joaquin County, California",
         "year": 2019,
         "total_population": 762148,
         "total_population_25_over": 484712,
         "median_income": 68997,
         "median_gross_rent": 1260,
         "median_home_value": 385600,
         "poverty_total": 101591,
         "educational_attainment": 96795,
         "white_alone_non_hisp": 231286,
         "black_alone_non_hisp": 50665,
         "native_alone": 4831,
         "asian_alone": 120669,
         "native_hawaiian_pacific_islander": 4944,
         "some_other_race_alone": 842,
         "two_or_more": 31154,
         "hispanic_or_latino": 320334,
         "county": "San Joaquin County",
         "_deepnote_index_column": 25
        },
        {
         "geoid": "06079",
         "name": "San Luis Obispo County, California",
         "year": 2019,
         "total_population": 283111,
         "total_population_25_over": 191183,
         "median_income": 77265,
         "median_gross_rent": 1654,
         "median_home_value": 637000,
         "poverty_total": 31960,
         "educational_attainment": 71071,
         "white_alone_non_hisp": 192715,
         "black_alone_non_hisp": 4871,
         "native_alone": 3475,
         "asian_alone": 10610,
         "native_hawaiian_pacific_islander": 253,
         "some_other_race_alone": 1076,
         "two_or_more": 7346,
         "hispanic_or_latino": 64860,
         "county": "San Luis Obispo County",
         "_deepnote_index_column": 26
        },
        {
         "geoid": "06081",
         "name": "San Mateo County, California",
         "year": 2019,
         "total_population": 766573,
         "total_population_25_over": 555980,
         "median_income": 138500,
         "median_gross_rent": 2497,
         "median_home_value": 1233600,
         "poverty_total": 45632,
         "educational_attainment": 290947,
         "white_alone_non_hisp": 294406,
         "black_alone_non_hisp": 16441,
         "native_alone": 3330,
         "asian_alone": 227794,
         "native_hawaiian_pacific_islander": 9236,
         "some_other_race_alone": 4275,
         "two_or_more": 29231,
         "hispanic_or_latino": 183978,
         "county": "San Mateo County",
         "_deepnote_index_column": 27
        },
        {
         "geoid": "06083",
         "name": "Santa Barbara County, California",
         "year": 2019,
         "total_population": 446499,
         "total_population_25_over": 278334,
         "median_income": 75653,
         "median_gross_rent": 1660,
         "median_home_value": 593800,
         "poverty_total": 50817,
         "educational_attainment": 96042,
         "white_alone_non_hisp": 194507,
         "black_alone_non_hisp": 8739,
         "native_alone": 5079,
         "asian_alone": 25139,
         "native_hawaiian_pacific_islander": 370,
         "some_other_race_alone": 604,
         "two_or_more": 9652,
         "hispanic_or_latino": 205536,
         "county": "Santa Barbara County",
         "_deepnote_index_column": 28
        },
        {
         "geoid": "06085",
         "name": "Santa Clara County, California",
         "year": 2019,
         "total_population": 1927852,
         "total_population_25_over": 1350681,
         "median_income": 133076,
         "median_gross_rent": 2392,
         "median_home_value": 1135300,
         "poverty_total": 114594,
         "educational_attainment": 725255,
         "white_alone_non_hisp": 586461,
         "black_alone_non_hisp": 46306,
         "native_alone": 8607,
         "asian_alone": 724178,
         "native_hawaiian_pacific_islander": 6752,
         "some_other_race_alone": 6711,
         "two_or_more": 71933,
         "hispanic_or_latino": 482298,
         "county": "Santa Clara County",
         "_deepnote_index_column": 29
        },
        {
         "geoid": "06087",
         "name": "Santa Cruz County, California",
         "year": 2019,
         "total_population": 273213,
         "total_population_25_over": 181121,
         "median_income": 89269,
         "median_gross_rent": 1785,
         "median_home_value": 839500,
         "poverty_total": 26448,
         "educational_attainment": 79378,
         "white_alone_non_hisp": 154075,
         "black_alone_non_hisp": 2230,
         "native_alone": 1460,
         "asian_alone": 13699,
         "native_hawaiian_pacific_islander": 76,
         "some_other_race_alone": 817,
         "two_or_more": 8960,
         "hispanic_or_latino": 92921,
         "county": "Santa Cruz County",
         "_deepnote_index_column": 30
        },
        {
         "geoid": "06089",
         "name": "Shasta County, California",
         "year": 2019,
         "total_population": 180080,
         "total_population_25_over": 127504,
         "median_income": 63091,
         "median_gross_rent": 1116,
         "median_home_value": 279200,
         "poverty_total": 22286,
         "educational_attainment": 27791,
         "white_alone_non_hisp": 142289,
         "black_alone_non_hisp": 1878,
         "native_alone": 4027,
         "asian_alone": 6316,
         "native_hawaiian_pacific_islander": 550,
         "some_other_race_alone": 267,
         "two_or_more": 6317,
         "hispanic_or_latino": 18936,
         "county": "Shasta County",
         "_deepnote_index_column": 31
        },
        {
         "geoid": "06095",
         "name": "Solano County, California",
         "year": 2019,
         "total_population": 447643,
         "total_population_25_over": 310707,
         "median_income": 86652,
         "median_gross_rent": 1723,
         "median_home_value": 460500,
         "poverty_total": 38543,
         "educational_attainment": 89822,
         "white_alone_non_hisp": 165752,
         "black_alone_non_hisp": 59764,
         "native_alone": 2450,
         "asian_alone": 68374,
         "native_hawaiian_pacific_islander": 3775,
         "some_other_race_alone": 1052,
         "two_or_more": 25693,
         "hispanic_or_latino": 122103,
         "county": "Solano County",
         "_deepnote_index_column": 32
        },
        {
         "geoid": "06097",
         "name": "Sonoma County, California",
         "year": 2019,
         "total_population": 494336,
         "total_population_25_over": 359124,
         "median_income": 87828,
         "median_gross_rent": 1757,
         "median_home_value": 664600,
         "poverty_total": 33007,
         "educational_attainment": 134474,
         "white_alone_non_hisp": 310067,
         "black_alone_non_hisp": 6447,
         "native_alone": 4392,
         "asian_alone": 20402,
         "native_hawaiian_pacific_islander": 1864,
         "some_other_race_alone": 718,
         "two_or_more": 17624,
         "hispanic_or_latino": 134954,
         "county": "Sonoma County",
         "_deepnote_index_column": 33
        },
        {
         "geoid": "06099",
         "name": "Stanislaus County, California",
         "year": 2019,
         "total_population": 550660,
         "total_population_25_over": 349579,
         "median_income": 63037,
         "median_gross_rent": 1231,
         "median_home_value": 335400,
         "poverty_total": 69572,
         "educational_attainment": 60583,
         "white_alone_non_hisp": 221773,
         "black_alone_non_hisp": 15811,
         "native_alone": 4230,
         "asian_alone": 31349,
         "native_hawaiian_pacific_islander": 2698,
         "some_other_race_alone": 526,
         "two_or_more": 14314,
         "hispanic_or_latino": 262068,
         "county": "Stanislaus County",
         "_deepnote_index_column": 34
        },
        {
         "geoid": "06101",
         "name": "Sutter County, California",
         "year": 2019,
         "total_population": 96971,
         "total_population_25_over": 62991,
         "median_income": 62777,
         "median_gross_rent": 1151,
         "median_home_value": 311200,
         "poverty_total": 11950,
         "educational_attainment": 13224,
         "white_alone_non_hisp": 43481,
         "black_alone_non_hisp": 1744,
         "native_alone": 906,
         "asian_alone": 15642,
         "native_hawaiian_pacific_islander": 184,
         "some_other_race_alone": 92,
         "two_or_more": 4210,
         "hispanic_or_latino": 30906,
         "county": "Sutter County",
         "_deepnote_index_column": 35
        },
        {
         "geoid": "06103",
         "name": "Tehama County, California",
         "year": 2019,
         "total_population": 65084,
         "total_population_25_over": 45751,
         "median_income": 53475,
         "median_gross_rent": 950,
         "median_home_value": 243500,
         "poverty_total": 11727,
         "educational_attainment": "nan",
         "white_alone_non_hisp": "nan",
         "black_alone_non_hisp": "nan",
         "native_alone": 472,
         "asian_alone": "nan",
         "native_hawaiian_pacific_islander": "nan",
         "some_other_race_alone": "nan",
         "two_or_more": "nan",
         "hispanic_or_latino": "nan",
         "county": "Tehama County",
         "_deepnote_index_column": 36
        },
        {
         "geoid": "06107",
         "name": "Tulare County, California",
         "year": 2019,
         "total_population": 466195,
         "total_population_25_over": 277457,
         "median_income": 57692,
         "median_gross_rent": 1014,
         "median_home_value": 244700,
         "poverty_total": 86315,
         "educational_attainment": 37833,
         "white_alone_non_hisp": 128499,
         "black_alone_non_hisp": 5559,
         "native_alone": 7103,
         "asian_alone": 15831,
         "native_hawaiian_pacific_islander": 736,
         "some_other_race_alone": 319,
         "two_or_more": 6776,
         "hispanic_or_latino": 305824,
         "county": "Tulare County",
         "_deepnote_index_column": 37
        },
        {
         "geoid": "06111",
         "name": "Ventura County, California",
         "year": 2019,
         "total_population": 846006,
         "total_population_25_over": 577254,
         "median_income": 92236,
         "median_gross_rent": 1859,
         "median_home_value": 629600,
         "poverty_total": 66011,
         "educational_attainment": 201040,
         "white_alone_non_hisp": 376524,
         "black_alone_non_hisp": 15062,
         "native_alone": 5745,
         "asian_alone": 62586,
         "native_hawaiian_pacific_islander": 925,
         "some_other_race_alone": 1397,
         "two_or_more": 22038,
         "hispanic_or_latino": 365835,
         "county": "Ventura County",
         "_deepnote_index_column": 38
        },
        {
         "geoid": "06113",
         "name": "Yolo County, California",
         "year": 2019,
         "total_population": 220500,
         "total_population_25_over": 131248,
         "median_income": 71417,
         "median_gross_rent": 1489,
         "median_home_value": 469300,
         "poverty_total": 38325,
         "educational_attainment": 52335,
         "white_alone_non_hisp": 101080,
         "black_alone_non_hisp": 5813,
         "native_alone": 2204,
         "asian_alone": 31528,
         "native_hawaiian_pacific_islander": 1011,
         "some_other_race_alone": 442,
         "two_or_more": 8385,
         "hispanic_or_latino": 70392,
         "county": "Yolo County",
         "_deepnote_index_column": 39
        },
        {
         "geoid": "06115",
         "name": "Yuba County, California",
         "year": 2019,
         "total_population": 78668,
         "total_population_25_over": 50675,
         "median_income": 58765,
         "median_gross_rent": 1012,
         "median_home_value": 287600,
         "poverty_total": 11275,
         "educational_attainment": "nan",
         "white_alone_non_hisp": "nan",
         "black_alone_non_hisp": "nan",
         "native_alone": 494,
         "asian_alone": "nan",
         "native_hawaiian_pacific_islander": "nan",
         "some_other_race_alone": "nan",
         "two_or_more": "nan",
         "hispanic_or_latino": "nan",
         "county": "Yuba County",
         "_deepnote_index_column": 40
        }
       ],
       "rows_bottom": null
      },
      "text/plain": "    geoid                                name  year  total_population  \\\n0   06001          Alameda County, California  2019         1671329.0   \n1   06007            Butte County, California  2019          219186.0   \n2   06013     Contra Costa County, California  2019         1153526.0   \n3   06017        El Dorado County, California  2019          192843.0   \n4   06019           Fresno County, California  2019          999101.0   \n5   06023         Humboldt County, California  2019          135558.0   \n6   06025         Imperial County, California  2019          181215.0   \n7   06029             Kern County, California  2019          900202.0   \n8   06031            Kings County, California  2019          152940.0   \n9   06033             Lake County, California  2019           64386.0   \n10  06037      Los Angeles County, California  2019        10039107.0   \n11  06039           Madera County, California  2019          157327.0   \n12  06041            Marin County, California  2019          258826.0   \n13  06045        Mendocino County, California  2019           86749.0   \n14  06047           Merced County, California  2019          277680.0   \n15  06053         Monterey County, California  2019          434061.0   \n16  06055             Napa County, California  2019          137744.0   \n17  06057           Nevada County, California  2019           99755.0   \n18  06059           Orange County, California  2019         3175692.0   \n19  06061           Placer County, California  2019          398329.0   \n20  06065        Riverside County, California  2019         2470546.0   \n21  06067       Sacramento County, California  2019         1552058.0   \n22  06071   San Bernardino County, California  2019         2180085.0   \n23  06073        San Diego County, California  2019         3338330.0   \n24  06075    San Francisco County, California  2019          881549.0   \n25  06077      San Joaquin County, California  2019          762148.0   \n26  06079  San Luis Obispo County, California  2019          283111.0   \n27  06081        San Mateo County, California  2019          766573.0   \n28  06083    Santa Barbara County, California  2019          446499.0   \n29  06085      Santa Clara County, California  2019         1927852.0   \n30  06087       Santa Cruz County, California  2019          273213.0   \n31  06089           Shasta County, California  2019          180080.0   \n32  06095           Solano County, California  2019          447643.0   \n33  06097           Sonoma County, California  2019          494336.0   \n34  06099       Stanislaus County, California  2019          550660.0   \n35  06101           Sutter County, California  2019           96971.0   \n36  06103           Tehama County, California  2019           65084.0   \n37  06107           Tulare County, California  2019          466195.0   \n38  06111          Ventura County, California  2019          846006.0   \n39  06113             Yolo County, California  2019          220500.0   \n40  06115             Yuba County, California  2019           78668.0   \n\n    total_population_25_over  median_income  median_gross_rent  \\\n0                  1195107.0       108322.0             1982.0   \n1                   143815.0        62563.0             1087.0   \n2                   802187.0       107135.0             1948.0   \n3                   142068.0        87059.0             1308.0   \n4                   621440.0        57518.0             1034.0   \n5                    93098.0        51662.0             1006.0   \n6                   111755.0        48472.0              810.0   \n7                   551956.0        53067.0              949.0   \n8                    95083.0        58453.0              969.0   \n9                    47186.0        47138.0              992.0   \n10                 6961614.0        72797.0             1577.0   \n11                   99392.0        64827.0             1028.0   \n12                  188509.0       110843.0             2096.0   \n13                   61561.0        51744.0             1120.0   \n14                  167460.0        61167.0             1097.0   \n15                  277924.0        77514.0             1658.0   \n16                   97666.0        92769.0             1835.0   \n17                   77008.0        68818.0             1407.0   \n18                 2200478.0        95934.0             1929.0   \n19                  281521.0        97723.0             1640.0   \n20                 1620917.0        73260.0             1497.0   \n21                 1058536.0        72017.0             1363.0   \n22                 1390788.0        67903.0             1342.0   \n23                 2287472.0        83985.0             1758.0   \n24                  701279.0       123859.0             1959.0   \n25                  484712.0        68997.0             1260.0   \n26                  191183.0        77265.0             1654.0   \n27                  555980.0       138500.0             2497.0   \n28                  278334.0        75653.0             1660.0   \n29                 1350681.0       133076.0             2392.0   \n30                  181121.0        89269.0             1785.0   \n31                  127504.0        63091.0             1116.0   \n32                  310707.0        86652.0             1723.0   \n33                  359124.0        87828.0             1757.0   \n34                  349579.0        63037.0             1231.0   \n35                   62991.0        62777.0             1151.0   \n36                   45751.0        53475.0              950.0   \n37                  277457.0        57692.0             1014.0   \n38                  577254.0        92236.0             1859.0   \n39                  131248.0        71417.0             1489.0   \n40                   50675.0        58765.0             1012.0   \n\n    median_home_value  poverty_total  educational_attainment  \\\n0            882100.0       145561.0                604814.0   \n1            336600.0        34050.0                 43830.0   \n2            687600.0        90508.0                344780.0   \n3            502000.0        17736.0                 50191.0   \n4            288300.0       202698.0                136816.0   \n5            348000.0        25886.0                 28292.0   \n6            229600.0        42687.0                 20569.0   \n7            235800.0       166768.0                 94296.0   \n8            247600.0        21063.0                 16745.0   \n9            255200.0        12019.0                     NaN   \n10           644100.0      1321571.0               2349549.0   \n11           294000.0        26093.0                 14022.0   \n12          1078800.0        16925.0                112509.0   \n13           431000.0        11279.0                 14346.0   \n14           282900.0        45396.0                 24176.0   \n15           602900.0        52838.0                 71433.0   \n16           670000.0         9088.0                 35320.0   \n17           485000.0         8344.0                 27584.0   \n18           725100.0       296159.0                902844.0   \n19           534700.0        28270.0                118018.0   \n20           384400.0       273451.0                381291.0   \n21           390200.0       192635.0                330589.0   \n22           369900.0       282497.0                312695.0   \n23           619300.0       333862.0                912647.0   \n24          1217500.0        82356.0                415124.0   \n25           385600.0       101591.0                 96795.0   \n26           637000.0        31960.0                 71071.0   \n27          1233600.0        45632.0                290947.0   \n28           593800.0        50817.0                 96042.0   \n29          1135300.0       114594.0                725255.0   \n30           839500.0        26448.0                 79378.0   \n31           279200.0        22286.0                 27791.0   \n32           460500.0        38543.0                 89822.0   \n33           664600.0        33007.0                134474.0   \n34           335400.0        69572.0                 60583.0   \n35           311200.0        11950.0                 13224.0   \n36           243500.0        11727.0                     NaN   \n37           244700.0        86315.0                 37833.0   \n38           629600.0        66011.0                201040.0   \n39           469300.0        38325.0                 52335.0   \n40           287600.0        11275.0                     NaN   \n\n    white_alone_non_hisp  black_alone_non_hisp  native_alone  asian_alone  \\\n0               508598.0              172718.0       12648.0     517004.0   \n1               155136.0                3758.0        2333.0       9763.0   \n2               489677.0               99615.0        5863.0     203261.0   \n3               148711.0                1409.0        2540.0       9991.0   \n4               285269.0               43602.0       13588.0     101152.0   \n5               100078.0                1790.0        7073.0       3525.0   \n6                18139.0                3624.0        3791.0       2269.0   \n7               295068.0               44566.0        8906.0      41093.0   \n8                47938.0                8130.0        2804.0       4951.0   \n9                    NaN                   NaN        2540.0          NaN   \n10             2596980.0              777195.0       81491.0    1456809.0   \n11               51998.0                3725.0        1810.0       3530.0   \n12              183557.0                6663.0        1534.0      16383.0   \n13               55820.0                 823.0        4610.0       1936.0   \n14               73218.0                8833.0        2821.0      20232.0   \n15              126493.0               11212.0        2057.0      25279.0   \n16               70896.0                3031.0         815.0      11293.0   \n17                   NaN                   NaN         487.0          NaN   \n18             1260906.0               52029.0       12961.0     668434.0   \n19              284331.0                7663.0        2238.0      32594.0   \n20              836932.0              151215.0       20934.0     165066.0   \n21              678326.0              144416.0       11004.0     247383.0   \n22              591879.0              168946.0       17061.0     157172.0   \n23             1495234.0              156423.0       23116.0     394644.0   \n24              351010.0               46063.0        3568.0     304721.0   \n25              231286.0               50665.0        4831.0     120669.0   \n26              192715.0                4871.0        3475.0      10610.0   \n27              294406.0               16441.0        3330.0     227794.0   \n28              194507.0                8739.0        5079.0      25139.0   \n29              586461.0               46306.0        8607.0     724178.0   \n30              154075.0                2230.0        1460.0      13699.0   \n31              142289.0                1878.0        4027.0       6316.0   \n32              165752.0               59764.0        2450.0      68374.0   \n33              310067.0                6447.0        4392.0      20402.0   \n34              221773.0               15811.0        4230.0      31349.0   \n35               43481.0                1744.0         906.0      15642.0   \n36                   NaN                   NaN         472.0          NaN   \n37              128499.0                5559.0        7103.0      15831.0   \n38              376524.0               15062.0        5745.0      62586.0   \n39              101080.0                5813.0        2204.0      31528.0   \n40                   NaN                   NaN         494.0          NaN   \n\n    native_hawaiian_pacific_islander  some_other_race_alone  two_or_more  \\\n0                            12858.0                 7922.0      73656.0   \n1                              527.0                  279.0      10925.0   \n2                             4020.0                 4412.0      49862.0   \n3                              125.0                  380.0       4856.0   \n4                             1811.0                 2921.0      20915.0   \n5                              539.0                   49.0       7020.0   \n6                                0.0                   22.0        915.0   \n7                              907.0                  316.0      22422.0   \n8                              460.0                    0.0       5511.0   \n9                                NaN                    NaN          NaN   \n10                           22606.0                40469.0     238829.0   \n11                            1131.0                  176.0       2884.0   \n12                             273.0                  652.0       9068.0   \n13                             135.0                  105.0       1683.0   \n14                              34.0                    0.0       4853.0   \n15                             757.0                  987.0      11017.0   \n16                             237.0                  395.0       3539.0   \n17                               NaN                    NaN          NaN   \n18                            9712.0                 5727.0      92411.0   \n19                             700.0                  160.0      13996.0   \n20                            7961.0                 6562.0      56458.0   \n21                           18873.0                 2569.0      87989.0   \n22                            6545.0                 4572.0      56208.0   \n23                           12648.0                 5805.0     121242.0   \n24                            3548.0                 3608.0      35825.0   \n25                            4944.0                  842.0      31154.0   \n26                             253.0                 1076.0       7346.0   \n27                            9236.0                 4275.0      29231.0   \n28                             370.0                  604.0       9652.0   \n29                            6752.0                 6711.0      71933.0   \n30                              76.0                  817.0       8960.0   \n31                             550.0                  267.0       6317.0   \n32                            3775.0                 1052.0      25693.0   \n33                            1864.0                  718.0      17624.0   \n34                            2698.0                  526.0      14314.0   \n35                             184.0                   92.0       4210.0   \n36                               NaN                    NaN          NaN   \n37                             736.0                  319.0       6776.0   \n38                             925.0                 1397.0      22038.0   \n39                            1011.0                  442.0       8385.0   \n40                               NaN                    NaN          NaN   \n\n    hispanic_or_latino                  county  \n0             373055.0          Alameda County  \n1              37731.0            Butte County  \n2             300420.0     Contra Costa County  \n3              25378.0        El Dorado County  \n4             537180.0           Fresno County  \n5              16354.0         Humboldt County  \n6             154088.0         Imperial County  \n7             491545.0             Kern County  \n8              84514.0            Kings County  \n9                  NaN             Lake County  \n10           4881970.0      Los Angeles County  \n11             92484.0           Madera County  \n12             42160.0            Marin County  \n13             22379.0        Mendocino County  \n14            169442.0           Merced County  \n15            257721.0         Monterey County  \n16             47661.0             Napa County  \n17                 NaN           Nevada County  \n18           1081091.0           Orange County  \n19             57381.0           Placer County  \n20           1236032.0        Riverside County  \n21            366764.0       Sacramento County  \n22           1186808.0   San Bernardino County  \n23           1140033.0        San Diego County  \n24            134309.0    San Francisco County  \n25            320334.0      San Joaquin County  \n26             64860.0  San Luis Obispo County  \n27            183978.0        San Mateo County  \n28            205536.0    Santa Barbara County  \n29            482298.0      Santa Clara County  \n30             92921.0       Santa Cruz County  \n31             18936.0           Shasta County  \n32            122103.0           Solano County  \n33            134954.0           Sonoma County  \n34            262068.0       Stanislaus County  \n35             30906.0           Sutter County  \n36                 NaN           Tehama County  \n37            305824.0           Tulare County  \n38            365835.0          Ventura County  \n39             70392.0             Yolo County  \n40                 NaN             Yuba County  ",
      "text/html": "<div>\n<style scoped>\n    .dataframe tbody tr th:only-of-type {\n        vertical-align: middle;\n    }\n\n    .dataframe tbody tr th {\n        vertical-align: top;\n    }\n\n    .dataframe thead th {\n        text-align: right;\n    }\n</style>\n<table border=\"1\" class=\"dataframe\">\n  <thead>\n    <tr style=\"text-align: right;\">\n      <th></th>\n      <th>geoid</th>\n      <th>name</th>\n      <th>year</th>\n      <th>total_population</th>\n      <th>total_population_25_over</th>\n      <th>median_income</th>\n      <th>median_gross_rent</th>\n      <th>median_home_value</th>\n      <th>poverty_total</th>\n      <th>educational_attainment</th>\n      <th>white_alone_non_hisp</th>\n      <th>black_alone_non_hisp</th>\n      <th>native_alone</th>\n      <th>asian_alone</th>\n      <th>native_hawaiian_pacific_islander</th>\n      <th>some_other_race_alone</th>\n      <th>two_or_more</th>\n      <th>hispanic_or_latino</th>\n      <th>county</th>\n    </tr>\n  </thead>\n  <tbody>\n    <tr>\n      <th>0</th>\n      <td>06001</td>\n      <td>Alameda County, California</td>\n      <td>2019</td>\n      <td>1671329.0</td>\n      <td>1195107.0</td>\n      <td>108322.0</td>\n      <td>1982.0</td>\n      <td>882100.0</td>\n      <td>145561.0</td>\n      <td>604814.0</td>\n      <td>508598.0</td>\n      <td>172718.0</td>\n      <td>12648.0</td>\n      <td>517004.0</td>\n      <td>12858.0</td>\n      <td>7922.0</td>\n      <td>73656.0</td>\n      <td>373055.0</td>\n      <td>Alameda County</td>\n    </tr>\n    <tr>\n      <th>1</th>\n      <td>06007</td>\n      <td>Butte County, California</td>\n      <td>2019</td>\n      <td>219186.0</td>\n      <td>143815.0</td>\n      <td>62563.0</td>\n      <td>1087.0</td>\n      <td>336600.0</td>\n      <td>34050.0</td>\n      <td>43830.0</td>\n      <td>155136.0</td>\n      <td>3758.0</td>\n      <td>2333.0</td>\n      <td>9763.0</td>\n      <td>527.0</td>\n      <td>279.0</td>\n      <td>10925.0</td>\n      <td>37731.0</td>\n      <td>Butte County</td>\n    </tr>\n    <tr>\n      <th>2</th>\n      <td>06013</td>\n      <td>Contra Costa County, California</td>\n      <td>2019</td>\n      <td>1153526.0</td>\n      <td>802187.0</td>\n      <td>107135.0</td>\n      <td>1948.0</td>\n      <td>687600.0</td>\n      <td>90508.0</td>\n      <td>344780.0</td>\n      <td>489677.0</td>\n      <td>99615.0</td>\n      <td>5863.0</td>\n      <td>203261.0</td>\n      <td>4020.0</td>\n      <td>4412.0</td>\n      <td>49862.0</td>\n      <td>300420.0</td>\n      <td>Contra Costa County</td>\n    </tr>\n    <tr>\n      <th>3</th>\n      <td>06017</td>\n      <td>El Dorado County, California</td>\n      <td>2019</td>\n      <td>192843.0</td>\n      <td>142068.0</td>\n      <td>87059.0</td>\n      <td>1308.0</td>\n      <td>502000.0</td>\n      <td>17736.0</td>\n      <td>50191.0</td>\n      <td>148711.0</td>\n      <td>1409.0</td>\n      <td>2540.0</td>\n      <td>9991.0</td>\n      <td>125.0</td>\n      <td>380.0</td>\n      <td>4856.0</td>\n      <td>25378.0</td>\n      <td>El Dorado County</td>\n    </tr>\n    <tr>\n      <th>4</th>\n      <td>06019</td>\n      <td>Fresno County, California</td>\n      <td>2019</td>\n      <td>999101.0</td>\n      <td>621440.0</td>\n      <td>57518.0</td>\n      <td>1034.0</td>\n      <td>288300.0</td>\n      <td>202698.0</td>\n      <td>136816.0</td>\n      <td>285269.0</td>\n      <td>43602.0</td>\n      <td>13588.0</td>\n      <td>101152.0</td>\n      <td>1811.0</td>\n      <td>2921.0</td>\n      <td>20915.0</td>\n      <td>537180.0</td>\n      <td>Fresno County</td>\n    </tr>\n    <tr>\n      <th>5</th>\n      <td>06023</td>\n      <td>Humboldt County, California</td>\n      <td>2019</td>\n      <td>135558.0</td>\n      <td>93098.0</td>\n      <td>51662.0</td>\n      <td>1006.0</td>\n      <td>348000.0</td>\n      <td>25886.0</td>\n      <td>28292.0</td>\n      <td>100078.0</td>\n      <td>1790.0</td>\n      <td>7073.0</td>\n      <td>3525.0</td>\n      <td>539.0</td>\n      <td>49.0</td>\n      <td>7020.0</td>\n      <td>16354.0</td>\n      <td>Humboldt County</td>\n    </tr>\n    <tr>\n      <th>6</th>\n      <td>06025</td>\n      <td>Imperial County, California</td>\n      <td>2019</td>\n      <td>181215.0</td>\n      <td>111755.0</td>\n      <td>48472.0</td>\n      <td>810.0</td>\n      <td>229600.0</td>\n      <td>42687.0</td>\n      <td>20569.0</td>\n      <td>18139.0</td>\n      <td>3624.0</td>\n      <td>3791.0</td>\n      <td>2269.0</td>\n      <td>0.0</td>\n      <td>22.0</td>\n      <td>915.0</td>\n      <td>154088.0</td>\n      <td>Imperial County</td>\n    </tr>\n    <tr>\n      <th>7</th>\n      <td>06029</td>\n      <td>Kern County, California</td>\n      <td>2019</td>\n      <td>900202.0</td>\n      <td>551956.0</td>\n      <td>53067.0</td>\n      <td>949.0</td>\n      <td>235800.0</td>\n      <td>166768.0</td>\n      <td>94296.0</td>\n      <td>295068.0</td>\n      <td>44566.0</td>\n      <td>8906.0</td>\n      <td>41093.0</td>\n      <td>907.0</td>\n      <td>316.0</td>\n      <td>22422.0</td>\n      <td>491545.0</td>\n      <td>Kern County</td>\n    </tr>\n    <tr>\n      <th>8</th>\n      <td>06031</td>\n      <td>Kings County, California</td>\n      <td>2019</td>\n      <td>152940.0</td>\n      <td>95083.0</td>\n      <td>58453.0</td>\n      <td>969.0</td>\n      <td>247600.0</td>\n      <td>21063.0</td>\n      <td>16745.0</td>\n      <td>47938.0</td>\n      <td>8130.0</td>\n      <td>2804.0</td>\n      <td>4951.0</td>\n      <td>460.0</td>\n      <td>0.0</td>\n      <td>5511.0</td>\n      <td>84514.0</td>\n      <td>Kings County</td>\n    </tr>\n    <tr>\n      <th>9</th>\n      <td>06033</td>\n      <td>Lake County, California</td>\n      <td>2019</td>\n      <td>64386.0</td>\n      <td>47186.0</td>\n      <td>47138.0</td>\n      <td>992.0</td>\n      <td>255200.0</td>\n      <td>12019.0</td>\n      <td>NaN</td>\n      <td>NaN</td>\n      <td>NaN</td>\n      <td>2540.0</td>\n      <td>NaN</td>\n      <td>NaN</td>\n      <td>NaN</td>\n      <td>NaN</td>\n      <td>NaN</td>\n      <td>Lake County</td>\n    </tr>\n    <tr>\n      <th>10</th>\n      <td>06037</td>\n      <td>Los Angeles County, California</td>\n      <td>2019</td>\n      <td>10039107.0</td>\n      <td>6961614.0</td>\n      <td>72797.0</td>\n      <td>1577.0</td>\n      <td>644100.0</td>\n      <td>1321571.0</td>\n      <td>2349549.0</td>\n      <td>2596980.0</td>\n      <td>777195.0</td>\n      <td>81491.0</td>\n      <td>1456809.0</td>\n      <td>22606.0</td>\n      <td>40469.0</td>\n      <td>238829.0</td>\n      <td>4881970.0</td>\n      <td>Los Angeles County</td>\n    </tr>\n    <tr>\n      <th>11</th>\n      <td>06039</td>\n      <td>Madera County, California</td>\n      <td>2019</td>\n      <td>157327.0</td>\n      <td>99392.0</td>\n      <td>64827.0</td>\n      <td>1028.0</td>\n      <td>294000.0</td>\n      <td>26093.0</td>\n      <td>14022.0</td>\n      <td>51998.0</td>\n      <td>3725.0</td>\n      <td>1810.0</td>\n      <td>3530.0</td>\n      <td>1131.0</td>\n      <td>176.0</td>\n      <td>2884.0</td>\n      <td>92484.0</td>\n      <td>Madera County</td>\n    </tr>\n    <tr>\n      <th>12</th>\n      <td>06041</td>\n      <td>Marin County, California</td>\n      <td>2019</td>\n      <td>258826.0</td>\n      <td>188509.0</td>\n      <td>110843.0</td>\n      <td>2096.0</td>\n      <td>1078800.0</td>\n      <td>16925.0</td>\n      <td>112509.0</td>\n      <td>183557.0</td>\n      <td>6663.0</td>\n      <td>1534.0</td>\n      <td>16383.0</td>\n      <td>273.0</td>\n      <td>652.0</td>\n      <td>9068.0</td>\n      <td>42160.0</td>\n      <td>Marin County</td>\n    </tr>\n    <tr>\n      <th>13</th>\n      <td>06045</td>\n      <td>Mendocino County, California</td>\n      <td>2019</td>\n      <td>86749.0</td>\n      <td>61561.0</td>\n      <td>51744.0</td>\n      <td>1120.0</td>\n      <td>431000.0</td>\n      <td>11279.0</td>\n      <td>14346.0</td>\n      <td>55820.0</td>\n      <td>823.0</td>\n      <td>4610.0</td>\n      <td>1936.0</td>\n      <td>135.0</td>\n      <td>105.0</td>\n      <td>1683.0</td>\n      <td>22379.0</td>\n      <td>Mendocino County</td>\n    </tr>\n    <tr>\n      <th>14</th>\n      <td>06047</td>\n      <td>Merced County, California</td>\n      <td>2019</td>\n      <td>277680.0</td>\n      <td>167460.0</td>\n      <td>61167.0</td>\n      <td>1097.0</td>\n      <td>282900.0</td>\n      <td>45396.0</td>\n      <td>24176.0</td>\n      <td>73218.0</td>\n      <td>8833.0</td>\n      <td>2821.0</td>\n      <td>20232.0</td>\n      <td>34.0</td>\n      <td>0.0</td>\n      <td>4853.0</td>\n      <td>169442.0</td>\n      <td>Merced County</td>\n    </tr>\n    <tr>\n      <th>15</th>\n      <td>06053</td>\n      <td>Monterey County, California</td>\n      <td>2019</td>\n      <td>434061.0</td>\n      <td>277924.0</td>\n      <td>77514.0</td>\n      <td>1658.0</td>\n      <td>602900.0</td>\n      <td>52838.0</td>\n      <td>71433.0</td>\n      <td>126493.0</td>\n      <td>11212.0</td>\n      <td>2057.0</td>\n      <td>25279.0</td>\n      <td>757.0</td>\n      <td>987.0</td>\n      <td>11017.0</td>\n      <td>257721.0</td>\n      <td>Monterey County</td>\n    </tr>\n    <tr>\n      <th>16</th>\n      <td>06055</td>\n      <td>Napa County, California</td>\n      <td>2019</td>\n      <td>137744.0</td>\n      <td>97666.0</td>\n      <td>92769.0</td>\n      <td>1835.0</td>\n      <td>670000.0</td>\n      <td>9088.0</td>\n      <td>35320.0</td>\n      <td>70896.0</td>\n      <td>3031.0</td>\n      <td>815.0</td>\n      <td>11293.0</td>\n      <td>237.0</td>\n      <td>395.0</td>\n      <td>3539.0</td>\n      <td>47661.0</td>\n      <td>Napa County</td>\n    </tr>\n    <tr>\n      <th>17</th>\n      <td>06057</td>\n      <td>Nevada County, California</td>\n      <td>2019</td>\n      <td>99755.0</td>\n      <td>77008.0</td>\n      <td>68818.0</td>\n      <td>1407.0</td>\n      <td>485000.0</td>\n      <td>8344.0</td>\n      <td>27584.0</td>\n      <td>NaN</td>\n      <td>NaN</td>\n      <td>487.0</td>\n      <td>NaN</td>\n      <td>NaN</td>\n      <td>NaN</td>\n      <td>NaN</td>\n      <td>NaN</td>\n      <td>Nevada County</td>\n    </tr>\n    <tr>\n      <th>18</th>\n      <td>06059</td>\n      <td>Orange County, California</td>\n      <td>2019</td>\n      <td>3175692.0</td>\n      <td>2200478.0</td>\n      <td>95934.0</td>\n      <td>1929.0</td>\n      <td>725100.0</td>\n      <td>296159.0</td>\n      <td>902844.0</td>\n      <td>1260906.0</td>\n      <td>52029.0</td>\n      <td>12961.0</td>\n      <td>668434.0</td>\n      <td>9712.0</td>\n      <td>5727.0</td>\n      <td>92411.0</td>\n      <td>1081091.0</td>\n      <td>Orange County</td>\n    </tr>\n    <tr>\n      <th>19</th>\n      <td>06061</td>\n      <td>Placer County, California</td>\n      <td>2019</td>\n      <td>398329.0</td>\n      <td>281521.0</td>\n      <td>97723.0</td>\n      <td>1640.0</td>\n      <td>534700.0</td>\n      <td>28270.0</td>\n      <td>118018.0</td>\n      <td>284331.0</td>\n      <td>7663.0</td>\n      <td>2238.0</td>\n      <td>32594.0</td>\n      <td>700.0</td>\n      <td>160.0</td>\n      <td>13996.0</td>\n      <td>57381.0</td>\n      <td>Placer County</td>\n    </tr>\n    <tr>\n      <th>20</th>\n      <td>06065</td>\n      <td>Riverside County, California</td>\n      <td>2019</td>\n      <td>2470546.0</td>\n      <td>1620917.0</td>\n      <td>73260.0</td>\n      <td>1497.0</td>\n      <td>384400.0</td>\n      <td>273451.0</td>\n      <td>381291.0</td>\n      <td>836932.0</td>\n      <td>151215.0</td>\n      <td>20934.0</td>\n      <td>165066.0</td>\n      <td>7961.0</td>\n      <td>6562.0</td>\n      <td>56458.0</td>\n      <td>1236032.0</td>\n      <td>Riverside County</td>\n    </tr>\n    <tr>\n      <th>21</th>\n      <td>06067</td>\n      <td>Sacramento County, California</td>\n      <td>2019</td>\n      <td>1552058.0</td>\n      <td>1058536.0</td>\n      <td>72017.0</td>\n      <td>1363.0</td>\n      <td>390200.0</td>\n      <td>192635.0</td>\n      <td>330589.0</td>\n      <td>678326.0</td>\n      <td>144416.0</td>\n      <td>11004.0</td>\n      <td>247383.0</td>\n      <td>18873.0</td>\n      <td>2569.0</td>\n      <td>87989.0</td>\n      <td>366764.0</td>\n      <td>Sacramento County</td>\n    </tr>\n    <tr>\n      <th>22</th>\n      <td>06071</td>\n      <td>San Bernardino County, California</td>\n      <td>2019</td>\n      <td>2180085.0</td>\n      <td>1390788.0</td>\n      <td>67903.0</td>\n      <td>1342.0</td>\n      <td>369900.0</td>\n      <td>282497.0</td>\n      <td>312695.0</td>\n      <td>591879.0</td>\n      <td>168946.0</td>\n      <td>17061.0</td>\n      <td>157172.0</td>\n      <td>6545.0</td>\n      <td>4572.0</td>\n      <td>56208.0</td>\n      <td>1186808.0</td>\n      <td>San Bernardino County</td>\n    </tr>\n    <tr>\n      <th>23</th>\n      <td>06073</td>\n      <td>San Diego County, California</td>\n      <td>2019</td>\n      <td>3338330.0</td>\n      <td>2287472.0</td>\n      <td>83985.0</td>\n      <td>1758.0</td>\n      <td>619300.0</td>\n      <td>333862.0</td>\n      <td>912647.0</td>\n      <td>1495234.0</td>\n      <td>156423.0</td>\n      <td>23116.0</td>\n      <td>394644.0</td>\n      <td>12648.0</td>\n      <td>5805.0</td>\n      <td>121242.0</td>\n      <td>1140033.0</td>\n      <td>San Diego County</td>\n    </tr>\n    <tr>\n      <th>24</th>\n      <td>06075</td>\n      <td>San Francisco County, California</td>\n      <td>2019</td>\n      <td>881549.0</td>\n      <td>701279.0</td>\n      <td>123859.0</td>\n      <td>1959.0</td>\n      <td>1217500.0</td>\n      <td>82356.0</td>\n      <td>415124.0</td>\n      <td>351010.0</td>\n      <td>46063.0</td>\n      <td>3568.0</td>\n      <td>304721.0</td>\n      <td>3548.0</td>\n      <td>3608.0</td>\n      <td>35825.0</td>\n      <td>134309.0</td>\n      <td>San Francisco County</td>\n    </tr>\n    <tr>\n      <th>25</th>\n      <td>06077</td>\n      <td>San Joaquin County, California</td>\n      <td>2019</td>\n      <td>762148.0</td>\n      <td>484712.0</td>\n      <td>68997.0</td>\n      <td>1260.0</td>\n      <td>385600.0</td>\n      <td>101591.0</td>\n      <td>96795.0</td>\n      <td>231286.0</td>\n      <td>50665.0</td>\n      <td>4831.0</td>\n      <td>120669.0</td>\n      <td>4944.0</td>\n      <td>842.0</td>\n      <td>31154.0</td>\n      <td>320334.0</td>\n      <td>San Joaquin County</td>\n    </tr>\n    <tr>\n      <th>26</th>\n      <td>06079</td>\n      <td>San Luis Obispo County, California</td>\n      <td>2019</td>\n      <td>283111.0</td>\n      <td>191183.0</td>\n      <td>77265.0</td>\n      <td>1654.0</td>\n      <td>637000.0</td>\n      <td>31960.0</td>\n      <td>71071.0</td>\n      <td>192715.0</td>\n      <td>4871.0</td>\n      <td>3475.0</td>\n      <td>10610.0</td>\n      <td>253.0</td>\n      <td>1076.0</td>\n      <td>7346.0</td>\n      <td>64860.0</td>\n      <td>San Luis Obispo County</td>\n    </tr>\n    <tr>\n      <th>27</th>\n      <td>06081</td>\n      <td>San Mateo County, California</td>\n      <td>2019</td>\n      <td>766573.0</td>\n      <td>555980.0</td>\n      <td>138500.0</td>\n      <td>2497.0</td>\n      <td>1233600.0</td>\n      <td>45632.0</td>\n      <td>290947.0</td>\n      <td>294406.0</td>\n      <td>16441.0</td>\n      <td>3330.0</td>\n      <td>227794.0</td>\n      <td>9236.0</td>\n      <td>4275.0</td>\n      <td>29231.0</td>\n      <td>183978.0</td>\n      <td>San Mateo County</td>\n    </tr>\n    <tr>\n      <th>28</th>\n      <td>06083</td>\n      <td>Santa Barbara County, California</td>\n      <td>2019</td>\n      <td>446499.0</td>\n      <td>278334.0</td>\n      <td>75653.0</td>\n      <td>1660.0</td>\n      <td>593800.0</td>\n      <td>50817.0</td>\n      <td>96042.0</td>\n      <td>194507.0</td>\n      <td>8739.0</td>\n      <td>5079.0</td>\n      <td>25139.0</td>\n      <td>370.0</td>\n      <td>604.0</td>\n      <td>9652.0</td>\n      <td>205536.0</td>\n      <td>Santa Barbara County</td>\n    </tr>\n    <tr>\n      <th>29</th>\n      <td>06085</td>\n      <td>Santa Clara County, California</td>\n      <td>2019</td>\n      <td>1927852.0</td>\n      <td>1350681.0</td>\n      <td>133076.0</td>\n      <td>2392.0</td>\n      <td>1135300.0</td>\n      <td>114594.0</td>\n      <td>725255.0</td>\n      <td>586461.0</td>\n      <td>46306.0</td>\n      <td>8607.0</td>\n      <td>724178.0</td>\n      <td>6752.0</td>\n      <td>6711.0</td>\n      <td>71933.0</td>\n      <td>482298.0</td>\n      <td>Santa Clara County</td>\n    </tr>\n    <tr>\n      <th>30</th>\n      <td>06087</td>\n      <td>Santa Cruz County, California</td>\n      <td>2019</td>\n      <td>273213.0</td>\n      <td>181121.0</td>\n      <td>89269.0</td>\n      <td>1785.0</td>\n      <td>839500.0</td>\n      <td>26448.0</td>\n      <td>79378.0</td>\n      <td>154075.0</td>\n      <td>2230.0</td>\n      <td>1460.0</td>\n      <td>13699.0</td>\n      <td>76.0</td>\n      <td>817.0</td>\n      <td>8960.0</td>\n      <td>92921.0</td>\n      <td>Santa Cruz County</td>\n    </tr>\n    <tr>\n      <th>31</th>\n      <td>06089</td>\n      <td>Shasta County, California</td>\n      <td>2019</td>\n      <td>180080.0</td>\n      <td>127504.0</td>\n      <td>63091.0</td>\n      <td>1116.0</td>\n      <td>279200.0</td>\n      <td>22286.0</td>\n      <td>27791.0</td>\n      <td>142289.0</td>\n      <td>1878.0</td>\n      <td>4027.0</td>\n      <td>6316.0</td>\n      <td>550.0</td>\n      <td>267.0</td>\n      <td>6317.0</td>\n      <td>18936.0</td>\n      <td>Shasta County</td>\n    </tr>\n    <tr>\n      <th>32</th>\n      <td>06095</td>\n      <td>Solano County, California</td>\n      <td>2019</td>\n      <td>447643.0</td>\n      <td>310707.0</td>\n      <td>86652.0</td>\n      <td>1723.0</td>\n      <td>460500.0</td>\n      <td>38543.0</td>\n      <td>89822.0</td>\n      <td>165752.0</td>\n      <td>59764.0</td>\n      <td>2450.0</td>\n      <td>68374.0</td>\n      <td>3775.0</td>\n      <td>1052.0</td>\n      <td>25693.0</td>\n      <td>122103.0</td>\n      <td>Solano County</td>\n    </tr>\n    <tr>\n      <th>33</th>\n      <td>06097</td>\n      <td>Sonoma County, California</td>\n      <td>2019</td>\n      <td>494336.0</td>\n      <td>359124.0</td>\n      <td>87828.0</td>\n      <td>1757.0</td>\n      <td>664600.0</td>\n      <td>33007.0</td>\n      <td>134474.0</td>\n      <td>310067.0</td>\n      <td>6447.0</td>\n      <td>4392.0</td>\n      <td>20402.0</td>\n      <td>1864.0</td>\n      <td>718.0</td>\n      <td>17624.0</td>\n      <td>134954.0</td>\n      <td>Sonoma County</td>\n    </tr>\n    <tr>\n      <th>34</th>\n      <td>06099</td>\n      <td>Stanislaus County, California</td>\n      <td>2019</td>\n      <td>550660.0</td>\n      <td>349579.0</td>\n      <td>63037.0</td>\n      <td>1231.0</td>\n      <td>335400.0</td>\n      <td>69572.0</td>\n      <td>60583.0</td>\n      <td>221773.0</td>\n      <td>15811.0</td>\n      <td>4230.0</td>\n      <td>31349.0</td>\n      <td>2698.0</td>\n      <td>526.0</td>\n      <td>14314.0</td>\n      <td>262068.0</td>\n      <td>Stanislaus County</td>\n    </tr>\n    <tr>\n      <th>35</th>\n      <td>06101</td>\n      <td>Sutter County, California</td>\n      <td>2019</td>\n      <td>96971.0</td>\n      <td>62991.0</td>\n      <td>62777.0</td>\n      <td>1151.0</td>\n      <td>311200.0</td>\n      <td>11950.0</td>\n      <td>13224.0</td>\n      <td>43481.0</td>\n      <td>1744.0</td>\n      <td>906.0</td>\n      <td>15642.0</td>\n      <td>184.0</td>\n      <td>92.0</td>\n      <td>4210.0</td>\n      <td>30906.0</td>\n      <td>Sutter County</td>\n    </tr>\n    <tr>\n      <th>36</th>\n      <td>06103</td>\n      <td>Tehama County, California</td>\n      <td>2019</td>\n      <td>65084.0</td>\n      <td>45751.0</td>\n      <td>53475.0</td>\n      <td>950.0</td>\n      <td>243500.0</td>\n      <td>11727.0</td>\n      <td>NaN</td>\n      <td>NaN</td>\n      <td>NaN</td>\n      <td>472.0</td>\n      <td>NaN</td>\n      <td>NaN</td>\n      <td>NaN</td>\n      <td>NaN</td>\n      <td>NaN</td>\n      <td>Tehama County</td>\n    </tr>\n    <tr>\n      <th>37</th>\n      <td>06107</td>\n      <td>Tulare County, California</td>\n      <td>2019</td>\n      <td>466195.0</td>\n      <td>277457.0</td>\n      <td>57692.0</td>\n      <td>1014.0</td>\n      <td>244700.0</td>\n      <td>86315.0</td>\n      <td>37833.0</td>\n      <td>128499.0</td>\n      <td>5559.0</td>\n      <td>7103.0</td>\n      <td>15831.0</td>\n      <td>736.0</td>\n      <td>319.0</td>\n      <td>6776.0</td>\n      <td>305824.0</td>\n      <td>Tulare County</td>\n    </tr>\n    <tr>\n      <th>38</th>\n      <td>06111</td>\n      <td>Ventura County, California</td>\n      <td>2019</td>\n      <td>846006.0</td>\n      <td>577254.0</td>\n      <td>92236.0</td>\n      <td>1859.0</td>\n      <td>629600.0</td>\n      <td>66011.0</td>\n      <td>201040.0</td>\n      <td>376524.0</td>\n      <td>15062.0</td>\n      <td>5745.0</td>\n      <td>62586.0</td>\n      <td>925.0</td>\n      <td>1397.0</td>\n      <td>22038.0</td>\n      <td>365835.0</td>\n      <td>Ventura County</td>\n    </tr>\n    <tr>\n      <th>39</th>\n      <td>06113</td>\n      <td>Yolo County, California</td>\n      <td>2019</td>\n      <td>220500.0</td>\n      <td>131248.0</td>\n      <td>71417.0</td>\n      <td>1489.0</td>\n      <td>469300.0</td>\n      <td>38325.0</td>\n      <td>52335.0</td>\n      <td>101080.0</td>\n      <td>5813.0</td>\n      <td>2204.0</td>\n      <td>31528.0</td>\n      <td>1011.0</td>\n      <td>442.0</td>\n      <td>8385.0</td>\n      <td>70392.0</td>\n      <td>Yolo County</td>\n    </tr>\n    <tr>\n      <th>40</th>\n      <td>06115</td>\n      <td>Yuba County, California</td>\n      <td>2019</td>\n      <td>78668.0</td>\n      <td>50675.0</td>\n      <td>58765.0</td>\n      <td>1012.0</td>\n      <td>287600.0</td>\n      <td>11275.0</td>\n      <td>NaN</td>\n      <td>NaN</td>\n      <td>NaN</td>\n      <td>494.0</td>\n      <td>NaN</td>\n      <td>NaN</td>\n      <td>NaN</td>\n      <td>NaN</td>\n      <td>NaN</td>\n      <td>Yuba County</td>\n    </tr>\n  </tbody>\n</table>\n</div>"
     },
     "metadata": {}
    }
   ],
   "execution_count": null
  },
  {
   "cell_type": "markdown",
   "source": "### Pull ACS 5 Year Data for remaing 17 Counties",
   "metadata": {
    "tags": [],
    "cell_id": "00014-2fb148a9-84a5-48c1-970f-7687a2e084ad",
    "deepnote_cell_type": "markdown"
   }
  },
  {
   "cell_type": "code",
   "metadata": {
    "tags": [],
    "deepnote_to_be_reexecuted": false,
    "source_hash": "8ee0e2e4",
    "execution_start": 1638563525842,
    "execution_millis": 490,
    "cell_id": "00015-c2a25b33-7b6a-45c1-a76e-e4b6f1bc235d",
    "deepnote_cell_type": "code"
   },
   "source": "# We can pull one-year data for the  Counties with population greater than 65K. \n# For the 2nd half of counties, will have to use 5-year\n#Create list of all counties that aren't represented\n\ncensus_county = census_data_1yr[census_data_1yr['year']==2019]['county']\n\n\ndf_all = county_list.merge(census_county, on=['county'], \n                   how='left', indicator=True)\ndf_all\ncounties_5year = df_all[df_all['_merge']=='left_only']\ncounties_5year['metro_area_name']='CA'",
   "outputs": [
    {
     "name": "stderr",
     "text": "/shared-libs/python3.7/py-core/lib/python3.7/site-packages/ipykernel_launcher.py:12: SettingWithCopyWarning: \nA value is trying to be set on a copy of a slice from a DataFrame.\nTry using .loc[row_indexer,col_indexer] = value instead\n\nSee the caveats in the documentation: https://pandas.pydata.org/pandas-docs/stable/user_guide/indexing.html#returning-a-view-versus-a-copy\n  if sys.path[0] == '':\n",
     "output_type": "stream"
    }
   ],
   "execution_count": null
  },
  {
   "cell_type": "code",
   "metadata": {
    "tags": [],
    "deepnote_to_be_reexecuted": false,
    "source_hash": "b623e53d",
    "execution_start": 1638563526335,
    "execution_millis": 3084351,
    "cell_id": "00016-dde3aec7-5e68-41df-8848-98ce71d7ea4b",
    "deepnote_cell_type": "code"
   },
   "source": "",
   "outputs": [],
   "execution_count": null
  },
  {
   "cell_type": "code",
   "metadata": {
    "tags": [],
    "deepnote_to_be_reexecuted": false,
    "source_hash": "bd78afaf",
    "execution_start": 1638563526345,
    "execution_millis": 10267,
    "cell_id": "00017-f8b682ba-9fb8-40b0-90a9-b909e1fbd677",
    "deepnote_cell_type": "code"
   },
   "source": "census_data = []\nyears=list(range(2019,2020))\n\nfor year in years:\n    for index, county in counties_5year.iterrows():\n        print(county[\"county\"])\n        \n        census_data += get_acs_data(\n            county[\"state_code\"], \n            county[\"county_code\"], \n            year, \n            county[\"county\"],\n            'year_5'\n        )\n\ncensus_data_5yr = pd.DataFrame(census_data)",
   "outputs": [
    {
     "name": "stdout",
     "text": "Alpine County\nAmador County\nCalaveras County\nColusa County\nDel Norte County\nGlenn County\nInyo County\nLassen County\nMariposa County\nModoc County\nMono County\nPlumas County\nSan Benito County\nSierra County\nSiskiyou County\nTrinity County\nTuolumne County\n",
     "output_type": "stream"
    }
   ],
   "execution_count": null
  },
  {
   "cell_type": "code",
   "metadata": {
    "tags": [],
    "deepnote_to_be_reexecuted": false,
    "source_hash": "8356eb02",
    "execution_start": 1638563536613,
    "execution_millis": 11,
    "cell_id": "00018-7d9fc3a0-e7c6-4e10-90dd-c0699d86e717",
    "deepnote_cell_type": "code"
   },
   "source": "all_census = pd.concat([census_data_1yr, census_data_5yr])\n\nall_census.to_csv('/work/output/census_data.csv', index = False)",
   "outputs": [],
   "execution_count": null
  },
  {
   "cell_type": "markdown",
   "source": "<a style='text-decoration:none;line-height:16px;display:flex;color:#5B5B62;padding:10px;justify-content:end;' href='https://deepnote.com?utm_source=created-in-deepnote-cell&projectId=f6c76417-5fde-42f3-8920-755838dec3fa' target=\"_blank\">\n<img alt='Created in deepnote.com' style='display:inline;max-height:16px;margin:0px;margin-right:7.5px;' src='data:image/svg+xml;base64,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' > </img>\nCreated in <span style='font-weight:600;margin-left:4px;'>Deepnote</span></a>",
   "metadata": {
    "tags": [],
    "created_in_deepnote_cell": true,
    "deepnote_cell_type": "markdown"
   }
  }
 ],
 "nbformat": 4,
 "nbformat_minor": 2,
 "metadata": {
  "orig_nbformat": 2,
  "deepnote": {
   "is_reactive": false
  },
  "deepnote_notebook_id": "c0db21ab-562c-4065-a475-e87ea8474d77",
  "deepnote_execution_queue": []
 }
}